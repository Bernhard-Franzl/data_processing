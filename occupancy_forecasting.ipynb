{
 "cells": [
  {
   "cell_type": "markdown",
   "metadata": {},
   "source": [
    "# Occupancy Forecasting Notebook"
   ]
  },
  {
   "cell_type": "code",
   "execution_count": 1,
   "metadata": {},
   "outputs": [],
   "source": [
    "#Imports\n",
    "import pandas as pd"
   ]
  },
  {
   "cell_type": "code",
   "execution_count": 2,
   "metadata": {},
   "outputs": [],
   "source": [
    "# Importing the dataset\n",
    "file_name = \"frequency_data\"\n",
    "data = pd.read_csv(f\"data/cleaned_data/{file_name}.csv\")\n",
    "\n",
    "dtypes = pd.read_csv(f\"data/cleaned_data/{file_name}_dtypes.csv\", index_col=0)\n",
    "data = data.astype(dtypes.to_dict()[\"0\"])\n",
    "\n",
    "data[\"datetime\"] = data[\"time\"]\n",
    "data.drop(\"time\", axis=1, inplace=True)\n"
   ]
  },
  {
   "cell_type": "markdown",
   "metadata": {},
   "source": [
    "### Data Utility Functions"
   ]
  },
  {
   "cell_type": "code",
   "execution_count": 5,
   "metadata": {},
   "outputs": [],
   "source": [
    "def filter_room_id(data, room_id):\n",
    "    return data[data[\"room_id\"] == room_id].reset_index(drop=True)\n",
    "\n",
    "def filter_event_type(data, event_type):\n",
    "    return data[data[\"event_type\"] == event_type].reset_index(drop=True)\n",
    "\n",
    "def resample(data, time_column, frequency, agg_func):\n",
    "    \n",
    "    # get min day\n",
    "    if frequency == \"MS\":\n",
    "        min_time = min(data[time_column]).replace(day=1, hour=0, minute=0, second=0)\n",
    "    else:\n",
    "        min_time = min(data[time_column]).replace(hour=0, minute=0, second=0)\n",
    "\n",
    "    # get max day\n",
    "    max_time = max(data[time_column])\n",
    "    max_time = max_time.replace(day=max_time.day+1, hour=0, minute=0, second=0)\n",
    "    \n",
    "    \n",
    "    idx = pd.date_range(start=min_time, end=max_time, freq=frequency, inclusive=\"both\") \n",
    "\n",
    "    df_resampled = data.set_index(time_column)\\\n",
    "                   .resample(frequency, label=\"left\", closed=\"left\")\n",
    "\n",
    "    if agg_func == \"sum\":\n",
    "        df_resampled = df_resampled.sum()\n",
    "    elif agg_func == \"count\":\n",
    "        df_resampled = df_resampled.count()\n",
    "    elif agg_func == \"value_counts\":\n",
    "        df_resampled = df_resampled.value_counts()\n",
    "    else:\n",
    "        raise ValueError(\"agg_func must be 'sum', 'count' or 'value_counts'\")\n",
    "    return df_resampled.reindex(idx, fill_value=0).reset_index().rename(columns={\"index\": time_column})[[time_column, \"event_type\"]]\n"
   ]
  },
  {
   "cell_type": "markdown",
   "metadata": {},
   "source": [
    "## 0. Basic Statistics and Plots"
   ]
  },
  {
   "cell_type": "code",
   "execution_count": null,
   "metadata": {},
   "outputs": [],
   "source": [
    "# Paper: \n",
    "# Basic bar plots count of events after resampling\n",
    "# Check if it follows some distribution\n"
   ]
  },
  {
   "cell_type": "code",
   "execution_count": 9,
   "metadata": {},
   "outputs": [],
   "source": [
    "# Boxplot plots -> Boxplot for every day and time\n",
    "# Do for different events and rooms"
   ]
  },
  {
   "cell_type": "markdown",
   "metadata": {},
   "source": []
  },
  {
   "cell_type": "markdown",
   "metadata": {},
   "source": [
    "## 1.Patterns\n",
    "\n",
    "clustering -> different algorithms, k-means"
   ]
  },
  {
   "cell_type": "markdown",
   "metadata": {},
   "source": [
    "## 1. Train and Test split"
   ]
  },
  {
   "cell_type": "code",
   "execution_count": 6,
   "metadata": {},
   "outputs": [],
   "source": [
    "data_filterd = filter_room_id(data, 0)\n",
    "data_filterd = filter_event_type(data_filterd, 1)"
   ]
  },
  {
   "cell_type": "markdown",
   "metadata": {},
   "source": [
    "## 1. Occupancy Forecasting"
   ]
  },
  {
   "cell_type": "code",
   "execution_count": null,
   "metadata": {},
   "outputs": [],
   "source": [
    "# check out some of the papers in the review\n",
    "# start with some traditional methods"
   ]
  },
  {
   "cell_type": "code",
   "execution_count": null,
   "metadata": {},
   "outputs": [],
   "source": []
  },
  {
   "cell_type": "markdown",
   "metadata": {},
   "source": [
    "## 2. Count Forecasting\n",
    "### Try more general approach if 1. is too hard, gather literature on count forecasting"
   ]
  },
  {
   "cell_type": "markdown",
   "metadata": {},
   "source": []
  }
 ],
 "metadata": {
  "kernelspec": {
   "display_name": "webapp",
   "language": "python",
   "name": "python3"
  },
  "language_info": {
   "codemirror_mode": {
    "name": "ipython",
    "version": 3
   },
   "file_extension": ".py",
   "mimetype": "text/x-python",
   "name": "python",
   "nbconvert_exporter": "python",
   "pygments_lexer": "ipython3",
   "version": "3.12.2"
  }
 },
 "nbformat": 4,
 "nbformat_minor": 2
}
