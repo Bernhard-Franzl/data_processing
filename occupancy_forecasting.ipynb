{
 "cells": [
  {
   "cell_type": "markdown",
   "metadata": {},
   "source": [
    "# Occupancy Forecasting Notebook"
   ]
  },
  {
   "cell_type": "code",
   "execution_count": 9,
   "metadata": {},
   "outputs": [],
   "source": [
    "#Imports\n",
    "import numpy as np\n",
    "import matplotlib.pyplot as plt\n",
    "import pandas as pd\n",
    "\n",
    "from datetime import datetime\n",
    "import plotly.express as px\n",
    "import plotly.graph_objects as go\n",
    "from plotly.subplots import make_subplots\n",
    "\n",
    "\n",
    "from sklearn.model_selection import train_test_split, KFold"
   ]
  },
  {
   "cell_type": "code",
   "execution_count": 10,
   "metadata": {},
   "outputs": [],
   "source": [
    "# Importing the dataset\n",
    "file_name = \"frequency_data\"\n",
    "data = pd.read_csv(f\"data/cleaned_data/{file_name}.csv\")\n",
    "\n",
    "dtypes = pd.read_csv(f\"data/cleaned_data/{file_name}_dtypes.csv\", index_col=0)\n",
    "data = data.astype(dtypes.to_dict()[\"0\"])\n",
    "\n",
    "data[\"datetime\"] = data[\"time\"]\n",
    "data.drop(\"time\", axis=1, inplace=True)\n"
   ]
  },
  {
   "cell_type": "markdown",
   "metadata": {},
   "source": [
    "### Data Utility Functions"
   ]
  },
  {
   "cell_type": "code",
   "execution_count": 11,
   "metadata": {},
   "outputs": [],
   "source": [
    "def filter_room_id(data, room_id):\n",
    "    return data[data[\"room_id\"] == room_id].reset_index(drop=True)\n",
    "\n",
    "def filter_event_type(data, event_type):\n",
    "    return data[data[\"event_type\"] == event_type].reset_index(drop=True)\n",
    "\n",
    "def resample(data, time_column, frequency, agg_func):\n",
    "    \n",
    "    # get min day\n",
    "    if frequency == \"MS\":\n",
    "        min_time = min(data[time_column]).replace(day=1, hour=0, minute=0, second=0)\n",
    "    else:\n",
    "        min_time = min(data[time_column]).replace(hour=0, minute=0, second=0)\n",
    "\n",
    "    # get max day\n",
    "    max_time = max(data[time_column])\n",
    "    max_time = max_time.replace(day=max_time.day+1, hour=0, minute=0, second=0)\n",
    "    \n",
    "    \n",
    "    idx = pd.date_range(start=min_time, end=max_time, freq=frequency, inclusive=\"both\") \n",
    "\n",
    "    df_resampled = data.set_index(time_column)\\\n",
    "                   .resample(frequency, label=\"left\", closed=\"left\")\n",
    "\n",
    "    if agg_func == \"sum\":\n",
    "        df_resampled = df_resampled.sum()\n",
    "    elif agg_func == \"count\":\n",
    "        df_resampled = df_resampled.count()\n",
    "    elif agg_func == \"value_counts\":\n",
    "        df_resampled = df_resampled.value_counts()\n",
    "    else:\n",
    "        raise ValueError(\"agg_func must be 'sum', 'count' or 'value_counts'\")\n",
    "    return df_resampled.reindex(idx, fill_value=0).reset_index().rename(columns={\"index\": time_column})[[time_column, \"event_type\"]]\n",
    "\n",
    "def derive_day(data):\n",
    "    data[\"day\"] = data[\"datetime\"].dt.date\n",
    "    return data\n",
    "\n",
    "def derive_week(data):\n",
    "    data[\"week\"] = data[\"datetime\"].dt.isocalendar().week\n",
    "    return data\n",
    "\n",
    "def derive_time(data):\n",
    "    data[\"time\"] = data[\"datetime\"].dt.time\n",
    "    return data\n",
    "\n",
    "def derive_weekday(data):\n",
    "    data[\"weekday\"] = data[\"datetime\"].dt.weekday\n",
    "    return data"
   ]
  },
  {
   "cell_type": "code",
   "execution_count": 12,
   "metadata": {},
   "outputs": [],
   "source": [
    "data_filterd = filter_room_id(data, 0)\n",
    "data_filterd = filter_event_type(data_filterd, 1)"
   ]
  },
  {
   "cell_type": "markdown",
   "metadata": {},
   "source": [
    "## 0. Basic Statistics and Plots"
   ]
  },
  {
   "cell_type": "markdown",
   "metadata": {},
   "source": [
    "Bar Charts"
   ]
  },
  {
   "cell_type": "code",
   "execution_count": 13,
   "metadata": {},
   "outputs": [
    {
     "data": {
      "application/vnd.plotly.v1+json": {
       "config": {
        "plotlyServerURL": "https://plot.ly"
       },
       "data": [
        {
         "name": "value_counts",
         "type": "bar",
         "x": [
          1,
          2,
          3,
          4,
          5,
          6,
          7,
          8,
          9,
          12,
          10,
          11,
          14,
          16,
          15,
          13,
          18,
          23,
          19,
          21,
          20,
          17,
          22,
          26,
          27,
          28,
          24,
          25,
          29,
          30,
          32,
          39
         ],
         "y": [
          713,
          326,
          199,
          130,
          102,
          63,
          56,
          40,
          39,
          25,
          22,
          21,
          19,
          14,
          10,
          9,
          8,
          6,
          6,
          6,
          5,
          4,
          3,
          2,
          2,
          2,
          1,
          1,
          1,
          1,
          1,
          1
         ]
        }
       ],
       "layout": {
        "template": {
         "data": {
          "bar": [
           {
            "error_x": {
             "color": "#2a3f5f"
            },
            "error_y": {
             "color": "#2a3f5f"
            },
            "marker": {
             "line": {
              "color": "#E5ECF6",
              "width": 0.5
             },
             "pattern": {
              "fillmode": "overlay",
              "size": 10,
              "solidity": 0.2
             }
            },
            "type": "bar"
           }
          ],
          "barpolar": [
           {
            "marker": {
             "line": {
              "color": "#E5ECF6",
              "width": 0.5
             },
             "pattern": {
              "fillmode": "overlay",
              "size": 10,
              "solidity": 0.2
             }
            },
            "type": "barpolar"
           }
          ],
          "carpet": [
           {
            "aaxis": {
             "endlinecolor": "#2a3f5f",
             "gridcolor": "white",
             "linecolor": "white",
             "minorgridcolor": "white",
             "startlinecolor": "#2a3f5f"
            },
            "baxis": {
             "endlinecolor": "#2a3f5f",
             "gridcolor": "white",
             "linecolor": "white",
             "minorgridcolor": "white",
             "startlinecolor": "#2a3f5f"
            },
            "type": "carpet"
           }
          ],
          "choropleth": [
           {
            "colorbar": {
             "outlinewidth": 0,
             "ticks": ""
            },
            "type": "choropleth"
           }
          ],
          "contour": [
           {
            "colorbar": {
             "outlinewidth": 0,
             "ticks": ""
            },
            "colorscale": [
             [
              0,
              "#0d0887"
             ],
             [
              0.1111111111111111,
              "#46039f"
             ],
             [
              0.2222222222222222,
              "#7201a8"
             ],
             [
              0.3333333333333333,
              "#9c179e"
             ],
             [
              0.4444444444444444,
              "#bd3786"
             ],
             [
              0.5555555555555556,
              "#d8576b"
             ],
             [
              0.6666666666666666,
              "#ed7953"
             ],
             [
              0.7777777777777778,
              "#fb9f3a"
             ],
             [
              0.8888888888888888,
              "#fdca26"
             ],
             [
              1,
              "#f0f921"
             ]
            ],
            "type": "contour"
           }
          ],
          "contourcarpet": [
           {
            "colorbar": {
             "outlinewidth": 0,
             "ticks": ""
            },
            "type": "contourcarpet"
           }
          ],
          "heatmap": [
           {
            "colorbar": {
             "outlinewidth": 0,
             "ticks": ""
            },
            "colorscale": [
             [
              0,
              "#0d0887"
             ],
             [
              0.1111111111111111,
              "#46039f"
             ],
             [
              0.2222222222222222,
              "#7201a8"
             ],
             [
              0.3333333333333333,
              "#9c179e"
             ],
             [
              0.4444444444444444,
              "#bd3786"
             ],
             [
              0.5555555555555556,
              "#d8576b"
             ],
             [
              0.6666666666666666,
              "#ed7953"
             ],
             [
              0.7777777777777778,
              "#fb9f3a"
             ],
             [
              0.8888888888888888,
              "#fdca26"
             ],
             [
              1,
              "#f0f921"
             ]
            ],
            "type": "heatmap"
           }
          ],
          "heatmapgl": [
           {
            "colorbar": {
             "outlinewidth": 0,
             "ticks": ""
            },
            "colorscale": [
             [
              0,
              "#0d0887"
             ],
             [
              0.1111111111111111,
              "#46039f"
             ],
             [
              0.2222222222222222,
              "#7201a8"
             ],
             [
              0.3333333333333333,
              "#9c179e"
             ],
             [
              0.4444444444444444,
              "#bd3786"
             ],
             [
              0.5555555555555556,
              "#d8576b"
             ],
             [
              0.6666666666666666,
              "#ed7953"
             ],
             [
              0.7777777777777778,
              "#fb9f3a"
             ],
             [
              0.8888888888888888,
              "#fdca26"
             ],
             [
              1,
              "#f0f921"
             ]
            ],
            "type": "heatmapgl"
           }
          ],
          "histogram": [
           {
            "marker": {
             "pattern": {
              "fillmode": "overlay",
              "size": 10,
              "solidity": 0.2
             }
            },
            "type": "histogram"
           }
          ],
          "histogram2d": [
           {
            "colorbar": {
             "outlinewidth": 0,
             "ticks": ""
            },
            "colorscale": [
             [
              0,
              "#0d0887"
             ],
             [
              0.1111111111111111,
              "#46039f"
             ],
             [
              0.2222222222222222,
              "#7201a8"
             ],
             [
              0.3333333333333333,
              "#9c179e"
             ],
             [
              0.4444444444444444,
              "#bd3786"
             ],
             [
              0.5555555555555556,
              "#d8576b"
             ],
             [
              0.6666666666666666,
              "#ed7953"
             ],
             [
              0.7777777777777778,
              "#fb9f3a"
             ],
             [
              0.8888888888888888,
              "#fdca26"
             ],
             [
              1,
              "#f0f921"
             ]
            ],
            "type": "histogram2d"
           }
          ],
          "histogram2dcontour": [
           {
            "colorbar": {
             "outlinewidth": 0,
             "ticks": ""
            },
            "colorscale": [
             [
              0,
              "#0d0887"
             ],
             [
              0.1111111111111111,
              "#46039f"
             ],
             [
              0.2222222222222222,
              "#7201a8"
             ],
             [
              0.3333333333333333,
              "#9c179e"
             ],
             [
              0.4444444444444444,
              "#bd3786"
             ],
             [
              0.5555555555555556,
              "#d8576b"
             ],
             [
              0.6666666666666666,
              "#ed7953"
             ],
             [
              0.7777777777777778,
              "#fb9f3a"
             ],
             [
              0.8888888888888888,
              "#fdca26"
             ],
             [
              1,
              "#f0f921"
             ]
            ],
            "type": "histogram2dcontour"
           }
          ],
          "mesh3d": [
           {
            "colorbar": {
             "outlinewidth": 0,
             "ticks": ""
            },
            "type": "mesh3d"
           }
          ],
          "parcoords": [
           {
            "line": {
             "colorbar": {
              "outlinewidth": 0,
              "ticks": ""
             }
            },
            "type": "parcoords"
           }
          ],
          "pie": [
           {
            "automargin": true,
            "type": "pie"
           }
          ],
          "scatter": [
           {
            "fillpattern": {
             "fillmode": "overlay",
             "size": 10,
             "solidity": 0.2
            },
            "type": "scatter"
           }
          ],
          "scatter3d": [
           {
            "line": {
             "colorbar": {
              "outlinewidth": 0,
              "ticks": ""
             }
            },
            "marker": {
             "colorbar": {
              "outlinewidth": 0,
              "ticks": ""
             }
            },
            "type": "scatter3d"
           }
          ],
          "scattercarpet": [
           {
            "marker": {
             "colorbar": {
              "outlinewidth": 0,
              "ticks": ""
             }
            },
            "type": "scattercarpet"
           }
          ],
          "scattergeo": [
           {
            "marker": {
             "colorbar": {
              "outlinewidth": 0,
              "ticks": ""
             }
            },
            "type": "scattergeo"
           }
          ],
          "scattergl": [
           {
            "marker": {
             "colorbar": {
              "outlinewidth": 0,
              "ticks": ""
             }
            },
            "type": "scattergl"
           }
          ],
          "scattermapbox": [
           {
            "marker": {
             "colorbar": {
              "outlinewidth": 0,
              "ticks": ""
             }
            },
            "type": "scattermapbox"
           }
          ],
          "scatterpolar": [
           {
            "marker": {
             "colorbar": {
              "outlinewidth": 0,
              "ticks": ""
             }
            },
            "type": "scatterpolar"
           }
          ],
          "scatterpolargl": [
           {
            "marker": {
             "colorbar": {
              "outlinewidth": 0,
              "ticks": ""
             }
            },
            "type": "scatterpolargl"
           }
          ],
          "scatterternary": [
           {
            "marker": {
             "colorbar": {
              "outlinewidth": 0,
              "ticks": ""
             }
            },
            "type": "scatterternary"
           }
          ],
          "surface": [
           {
            "colorbar": {
             "outlinewidth": 0,
             "ticks": ""
            },
            "colorscale": [
             [
              0,
              "#0d0887"
             ],
             [
              0.1111111111111111,
              "#46039f"
             ],
             [
              0.2222222222222222,
              "#7201a8"
             ],
             [
              0.3333333333333333,
              "#9c179e"
             ],
             [
              0.4444444444444444,
              "#bd3786"
             ],
             [
              0.5555555555555556,
              "#d8576b"
             ],
             [
              0.6666666666666666,
              "#ed7953"
             ],
             [
              0.7777777777777778,
              "#fb9f3a"
             ],
             [
              0.8888888888888888,
              "#fdca26"
             ],
             [
              1,
              "#f0f921"
             ]
            ],
            "type": "surface"
           }
          ],
          "table": [
           {
            "cells": {
             "fill": {
              "color": "#EBF0F8"
             },
             "line": {
              "color": "white"
             }
            },
            "header": {
             "fill": {
              "color": "#C8D4E3"
             },
             "line": {
              "color": "white"
             }
            },
            "type": "table"
           }
          ]
         },
         "layout": {
          "annotationdefaults": {
           "arrowcolor": "#2a3f5f",
           "arrowhead": 0,
           "arrowwidth": 1
          },
          "autotypenumbers": "strict",
          "coloraxis": {
           "colorbar": {
            "outlinewidth": 0,
            "ticks": ""
           }
          },
          "colorscale": {
           "diverging": [
            [
             0,
             "#8e0152"
            ],
            [
             0.1,
             "#c51b7d"
            ],
            [
             0.2,
             "#de77ae"
            ],
            [
             0.3,
             "#f1b6da"
            ],
            [
             0.4,
             "#fde0ef"
            ],
            [
             0.5,
             "#f7f7f7"
            ],
            [
             0.6,
             "#e6f5d0"
            ],
            [
             0.7,
             "#b8e186"
            ],
            [
             0.8,
             "#7fbc41"
            ],
            [
             0.9,
             "#4d9221"
            ],
            [
             1,
             "#276419"
            ]
           ],
           "sequential": [
            [
             0,
             "#0d0887"
            ],
            [
             0.1111111111111111,
             "#46039f"
            ],
            [
             0.2222222222222222,
             "#7201a8"
            ],
            [
             0.3333333333333333,
             "#9c179e"
            ],
            [
             0.4444444444444444,
             "#bd3786"
            ],
            [
             0.5555555555555556,
             "#d8576b"
            ],
            [
             0.6666666666666666,
             "#ed7953"
            ],
            [
             0.7777777777777778,
             "#fb9f3a"
            ],
            [
             0.8888888888888888,
             "#fdca26"
            ],
            [
             1,
             "#f0f921"
            ]
           ],
           "sequentialminus": [
            [
             0,
             "#0d0887"
            ],
            [
             0.1111111111111111,
             "#46039f"
            ],
            [
             0.2222222222222222,
             "#7201a8"
            ],
            [
             0.3333333333333333,
             "#9c179e"
            ],
            [
             0.4444444444444444,
             "#bd3786"
            ],
            [
             0.5555555555555556,
             "#d8576b"
            ],
            [
             0.6666666666666666,
             "#ed7953"
            ],
            [
             0.7777777777777778,
             "#fb9f3a"
            ],
            [
             0.8888888888888888,
             "#fdca26"
            ],
            [
             1,
             "#f0f921"
            ]
           ]
          },
          "colorway": [
           "#636efa",
           "#EF553B",
           "#00cc96",
           "#ab63fa",
           "#FFA15A",
           "#19d3f3",
           "#FF6692",
           "#B6E880",
           "#FF97FF",
           "#FECB52"
          ],
          "font": {
           "color": "#2a3f5f"
          },
          "geo": {
           "bgcolor": "white",
           "lakecolor": "white",
           "landcolor": "#E5ECF6",
           "showlakes": true,
           "showland": true,
           "subunitcolor": "white"
          },
          "hoverlabel": {
           "align": "left"
          },
          "hovermode": "closest",
          "mapbox": {
           "style": "light"
          },
          "paper_bgcolor": "white",
          "plot_bgcolor": "#E5ECF6",
          "polar": {
           "angularaxis": {
            "gridcolor": "white",
            "linecolor": "white",
            "ticks": ""
           },
           "bgcolor": "#E5ECF6",
           "radialaxis": {
            "gridcolor": "white",
            "linecolor": "white",
            "ticks": ""
           }
          },
          "scene": {
           "xaxis": {
            "backgroundcolor": "#E5ECF6",
            "gridcolor": "white",
            "gridwidth": 2,
            "linecolor": "white",
            "showbackground": true,
            "ticks": "",
            "zerolinecolor": "white"
           },
           "yaxis": {
            "backgroundcolor": "#E5ECF6",
            "gridcolor": "white",
            "gridwidth": 2,
            "linecolor": "white",
            "showbackground": true,
            "ticks": "",
            "zerolinecolor": "white"
           },
           "zaxis": {
            "backgroundcolor": "#E5ECF6",
            "gridcolor": "white",
            "gridwidth": 2,
            "linecolor": "white",
            "showbackground": true,
            "ticks": "",
            "zerolinecolor": "white"
           }
          },
          "shapedefaults": {
           "line": {
            "color": "#2a3f5f"
           }
          },
          "ternary": {
           "aaxis": {
            "gridcolor": "white",
            "linecolor": "white",
            "ticks": ""
           },
           "baxis": {
            "gridcolor": "white",
            "linecolor": "white",
            "ticks": ""
           },
           "bgcolor": "#E5ECF6",
           "caxis": {
            "gridcolor": "white",
            "linecolor": "white",
            "ticks": ""
           }
          },
          "title": {
           "x": 0.05
          },
          "xaxis": {
           "automargin": true,
           "gridcolor": "white",
           "linecolor": "white",
           "ticks": "",
           "title": {
            "standoff": 15
           },
           "zerolinecolor": "white",
           "zerolinewidth": 2
          },
          "yaxis": {
           "automargin": true,
           "gridcolor": "white",
           "linecolor": "white",
           "ticks": "",
           "title": {
            "standoff": 15
           },
           "zerolinecolor": "white",
           "zerolinewidth": 2
          }
         }
        }
       }
      }
     },
     "metadata": {},
     "output_type": "display_data"
    }
   ],
   "source": [
    "# Paper: \n",
    "# Basic bar plots count of events after resampling\n",
    "# Check if it follows some distribution\n",
    "\n",
    "data_resampled = resample(data_filterd, \"datetime\", \"5min\", \"count\")\n",
    "\n",
    "\n",
    "data_trimmed = data_resampled[data_resampled[\"event_type\"] > 0]\n",
    "value_counts = data_trimmed.value_counts(\"event_type\")\n",
    "\n",
    "fig = go.Figure()\n",
    "# line plot\n",
    "fig.add_trace(\n",
    "    go.Bar(\n",
    "        x=value_counts.index, \n",
    "        y=value_counts, \n",
    "        name='value_counts'))\n"
   ]
  },
  {
   "cell_type": "markdown",
   "metadata": {},
   "source": [
    "Boxplot"
   ]
  },
  {
   "cell_type": "code",
   "execution_count": 14,
   "metadata": {},
   "outputs": [
    {
     "name": "stdout",
     "output_type": "stream",
     "text": [
      "      week      time  weekday  event_type\n",
      "0       15  00:00:00        0           0\n",
      "7       15  00:15:00        0           0\n",
      "14      15  00:30:00        0           0\n",
      "21      15  00:45:00        0           0\n",
      "28      15  01:00:00        0           0\n",
      "...    ...       ...      ...         ...\n",
      "7848    26  22:45:00        0           0\n",
      "7853    26  23:00:00        0           0\n",
      "7858    26  23:15:00        0           0\n",
      "7863    26  23:30:00        0           0\n",
      "7868    26  23:45:00        0           0\n",
      "\n",
      "[1152 rows x 4 columns]\n"
     ]
    },
    {
     "data": {
      "application/vnd.plotly.v1+json": {
       "config": {
        "plotlyServerURL": "https://plot.ly"
       },
       "data": [
        {
         "alignmentgroup": "True",
         "hovertemplate": "time=%{x}<br>event_type=%{y}<extra></extra>",
         "legendgroup": "",
         "marker": {
          "color": "#636efa"
         },
         "name": "",
         "notched": false,
         "offsetgroup": "",
         "orientation": "v",
         "showlegend": false,
         "type": "box",
         "x": [
          "00:00:00",
          "00:15:00",
          "00:30:00",
          "00:45:00",
          "01:00:00",
          "01:15:00",
          "01:30:00",
          "01:45:00",
          "02:00:00",
          "02:15:00",
          "02:30:00",
          "02:45:00",
          "03:00:00",
          "03:15:00",
          "03:30:00",
          "03:45:00",
          "04:00:00",
          "04:15:00",
          "04:30:00",
          "04:45:00",
          "05:00:00",
          "05:15:00",
          "05:30:00",
          "05:45:00",
          "06:00:00",
          "06:15:00",
          "06:30:00",
          "06:45:00",
          "07:00:00",
          "07:15:00",
          "07:30:00",
          "07:45:00",
          "08:00:00",
          "08:15:00",
          "08:30:00",
          "08:45:00",
          "09:00:00",
          "09:15:00",
          "09:30:00",
          "09:45:00",
          "10:00:00",
          "10:15:00",
          "10:30:00",
          "10:45:00",
          "11:00:00",
          "11:15:00",
          "11:30:00",
          "11:45:00",
          "12:00:00",
          "12:15:00",
          "12:30:00",
          "12:45:00",
          "13:00:00",
          "13:15:00",
          "13:30:00",
          "13:45:00",
          "14:00:00",
          "14:15:00",
          "14:30:00",
          "14:45:00",
          "15:00:00",
          "15:15:00",
          "15:30:00",
          "15:45:00",
          "16:00:00",
          "16:15:00",
          "16:30:00",
          "16:45:00",
          "17:00:00",
          "17:15:00",
          "17:30:00",
          "17:45:00",
          "18:00:00",
          "18:15:00",
          "18:30:00",
          "18:45:00",
          "19:00:00",
          "19:15:00",
          "19:30:00",
          "19:45:00",
          "20:00:00",
          "20:15:00",
          "20:30:00",
          "20:45:00",
          "21:00:00",
          "21:15:00",
          "21:30:00",
          "21:45:00",
          "22:00:00",
          "22:15:00",
          "22:30:00",
          "22:45:00",
          "23:00:00",
          "23:15:00",
          "23:30:00",
          "23:45:00",
          "00:00:00",
          "00:15:00",
          "00:30:00",
          "00:45:00",
          "01:00:00",
          "01:15:00",
          "01:30:00",
          "01:45:00",
          "02:00:00",
          "02:15:00",
          "02:30:00",
          "02:45:00",
          "03:00:00",
          "03:15:00",
          "03:30:00",
          "03:45:00",
          "04:00:00",
          "04:15:00",
          "04:30:00",
          "04:45:00",
          "05:00:00",
          "05:15:00",
          "05:30:00",
          "05:45:00",
          "06:00:00",
          "06:15:00",
          "06:30:00",
          "06:45:00",
          "07:00:00",
          "07:15:00",
          "07:30:00",
          "07:45:00",
          "08:00:00",
          "08:15:00",
          "08:30:00",
          "08:45:00",
          "09:00:00",
          "09:15:00",
          "09:30:00",
          "09:45:00",
          "10:00:00",
          "10:15:00",
          "10:30:00",
          "10:45:00",
          "11:00:00",
          "11:15:00",
          "11:30:00",
          "11:45:00",
          "12:00:00",
          "12:15:00",
          "12:30:00",
          "12:45:00",
          "13:00:00",
          "13:15:00",
          "13:30:00",
          "13:45:00",
          "14:00:00",
          "14:15:00",
          "14:30:00",
          "14:45:00",
          "15:00:00",
          "15:15:00",
          "15:30:00",
          "15:45:00",
          "16:00:00",
          "16:15:00",
          "16:30:00",
          "16:45:00",
          "17:00:00",
          "17:15:00",
          "17:30:00",
          "17:45:00",
          "18:00:00",
          "18:15:00",
          "18:30:00",
          "18:45:00",
          "19:00:00",
          "19:15:00",
          "19:30:00",
          "19:45:00",
          "20:00:00",
          "20:15:00",
          "20:30:00",
          "20:45:00",
          "21:00:00",
          "21:15:00",
          "21:30:00",
          "21:45:00",
          "22:00:00",
          "22:15:00",
          "22:30:00",
          "22:45:00",
          "23:00:00",
          "23:15:00",
          "23:30:00",
          "23:45:00",
          "00:00:00",
          "00:15:00",
          "00:30:00",
          "00:45:00",
          "01:00:00",
          "01:15:00",
          "01:30:00",
          "01:45:00",
          "02:00:00",
          "02:15:00",
          "02:30:00",
          "02:45:00",
          "03:00:00",
          "03:15:00",
          "03:30:00",
          "03:45:00",
          "04:00:00",
          "04:15:00",
          "04:30:00",
          "04:45:00",
          "05:00:00",
          "05:15:00",
          "05:30:00",
          "05:45:00",
          "06:00:00",
          "06:15:00",
          "06:30:00",
          "06:45:00",
          "07:00:00",
          "07:15:00",
          "07:30:00",
          "07:45:00",
          "08:00:00",
          "08:15:00",
          "08:30:00",
          "08:45:00",
          "09:00:00",
          "09:15:00",
          "09:30:00",
          "09:45:00",
          "10:00:00",
          "10:15:00",
          "10:30:00",
          "10:45:00",
          "11:00:00",
          "11:15:00",
          "11:30:00",
          "11:45:00",
          "12:00:00",
          "12:15:00",
          "12:30:00",
          "12:45:00",
          "13:00:00",
          "13:15:00",
          "13:30:00",
          "13:45:00",
          "14:00:00",
          "14:15:00",
          "14:30:00",
          "14:45:00",
          "15:00:00",
          "15:15:00",
          "15:30:00",
          "15:45:00",
          "16:00:00",
          "16:15:00",
          "16:30:00",
          "16:45:00",
          "17:00:00",
          "17:15:00",
          "17:30:00",
          "17:45:00",
          "18:00:00",
          "18:15:00",
          "18:30:00",
          "18:45:00",
          "19:00:00",
          "19:15:00",
          "19:30:00",
          "19:45:00",
          "20:00:00",
          "20:15:00",
          "20:30:00",
          "20:45:00",
          "21:00:00",
          "21:15:00",
          "21:30:00",
          "21:45:00",
          "22:00:00",
          "22:15:00",
          "22:30:00",
          "22:45:00",
          "23:00:00",
          "23:15:00",
          "23:30:00",
          "23:45:00",
          "00:00:00",
          "00:15:00",
          "00:30:00",
          "00:45:00",
          "01:00:00",
          "01:15:00",
          "01:30:00",
          "01:45:00",
          "02:00:00",
          "02:15:00",
          "02:30:00",
          "02:45:00",
          "03:00:00",
          "03:15:00",
          "03:30:00",
          "03:45:00",
          "04:00:00",
          "04:15:00",
          "04:30:00",
          "04:45:00",
          "05:00:00",
          "05:15:00",
          "05:30:00",
          "05:45:00",
          "06:00:00",
          "06:15:00",
          "06:30:00",
          "06:45:00",
          "07:00:00",
          "07:15:00",
          "07:30:00",
          "07:45:00",
          "08:00:00",
          "08:15:00",
          "08:30:00",
          "08:45:00",
          "09:00:00",
          "09:15:00",
          "09:30:00",
          "09:45:00",
          "10:00:00",
          "10:15:00",
          "10:30:00",
          "10:45:00",
          "11:00:00",
          "11:15:00",
          "11:30:00",
          "11:45:00",
          "12:00:00",
          "12:15:00",
          "12:30:00",
          "12:45:00",
          "13:00:00",
          "13:15:00",
          "13:30:00",
          "13:45:00",
          "14:00:00",
          "14:15:00",
          "14:30:00",
          "14:45:00",
          "15:00:00",
          "15:15:00",
          "15:30:00",
          "15:45:00",
          "16:00:00",
          "16:15:00",
          "16:30:00",
          "16:45:00",
          "17:00:00",
          "17:15:00",
          "17:30:00",
          "17:45:00",
          "18:00:00",
          "18:15:00",
          "18:30:00",
          "18:45:00",
          "19:00:00",
          "19:15:00",
          "19:30:00",
          "19:45:00",
          "20:00:00",
          "20:15:00",
          "20:30:00",
          "20:45:00",
          "21:00:00",
          "21:15:00",
          "21:30:00",
          "21:45:00",
          "22:00:00",
          "22:15:00",
          "22:30:00",
          "22:45:00",
          "23:00:00",
          "23:15:00",
          "23:30:00",
          "23:45:00",
          "00:00:00",
          "00:15:00",
          "00:30:00",
          "00:45:00",
          "01:00:00",
          "01:15:00",
          "01:30:00",
          "01:45:00",
          "02:00:00",
          "02:15:00",
          "02:30:00",
          "02:45:00",
          "03:00:00",
          "03:15:00",
          "03:30:00",
          "03:45:00",
          "04:00:00",
          "04:15:00",
          "04:30:00",
          "04:45:00",
          "05:00:00",
          "05:15:00",
          "05:30:00",
          "05:45:00",
          "06:00:00",
          "06:15:00",
          "06:30:00",
          "06:45:00",
          "07:00:00",
          "07:15:00",
          "07:30:00",
          "07:45:00",
          "08:00:00",
          "08:15:00",
          "08:30:00",
          "08:45:00",
          "09:00:00",
          "09:15:00",
          "09:30:00",
          "09:45:00",
          "10:00:00",
          "10:15:00",
          "10:30:00",
          "10:45:00",
          "11:00:00",
          "11:15:00",
          "11:30:00",
          "11:45:00",
          "12:00:00",
          "12:15:00",
          "12:30:00",
          "12:45:00",
          "13:00:00",
          "13:15:00",
          "13:30:00",
          "13:45:00",
          "14:00:00",
          "14:15:00",
          "14:30:00",
          "14:45:00",
          "15:00:00",
          "15:15:00",
          "15:30:00",
          "15:45:00",
          "16:00:00",
          "16:15:00",
          "16:30:00",
          "16:45:00",
          "17:00:00",
          "17:15:00",
          "17:30:00",
          "17:45:00",
          "18:00:00",
          "18:15:00",
          "18:30:00",
          "18:45:00",
          "19:00:00",
          "19:15:00",
          "19:30:00",
          "19:45:00",
          "20:00:00",
          "20:15:00",
          "20:30:00",
          "20:45:00",
          "21:00:00",
          "21:15:00",
          "21:30:00",
          "21:45:00",
          "22:00:00",
          "22:15:00",
          "22:30:00",
          "22:45:00",
          "23:00:00",
          "23:15:00",
          "23:30:00",
          "23:45:00",
          "00:00:00",
          "00:15:00",
          "00:30:00",
          "00:45:00",
          "01:00:00",
          "01:15:00",
          "01:30:00",
          "01:45:00",
          "02:00:00",
          "02:15:00",
          "02:30:00",
          "02:45:00",
          "03:00:00",
          "03:15:00",
          "03:30:00",
          "03:45:00",
          "04:00:00",
          "04:15:00",
          "04:30:00",
          "04:45:00",
          "05:00:00",
          "05:15:00",
          "05:30:00",
          "05:45:00",
          "06:00:00",
          "06:15:00",
          "06:30:00",
          "06:45:00",
          "07:00:00",
          "07:15:00",
          "07:30:00",
          "07:45:00",
          "08:00:00",
          "08:15:00",
          "08:30:00",
          "08:45:00",
          "09:00:00",
          "09:15:00",
          "09:30:00",
          "09:45:00",
          "10:00:00",
          "10:15:00",
          "10:30:00",
          "10:45:00",
          "11:00:00",
          "11:15:00",
          "11:30:00",
          "11:45:00",
          "12:00:00",
          "12:15:00",
          "12:30:00",
          "12:45:00",
          "13:00:00",
          "13:15:00",
          "13:30:00",
          "13:45:00",
          "14:00:00",
          "14:15:00",
          "14:30:00",
          "14:45:00",
          "15:00:00",
          "15:15:00",
          "15:30:00",
          "15:45:00",
          "16:00:00",
          "16:15:00",
          "16:30:00",
          "16:45:00",
          "17:00:00",
          "17:15:00",
          "17:30:00",
          "17:45:00",
          "18:00:00",
          "18:15:00",
          "18:30:00",
          "18:45:00",
          "19:00:00",
          "19:15:00",
          "19:30:00",
          "19:45:00",
          "20:00:00",
          "20:15:00",
          "20:30:00",
          "20:45:00",
          "21:00:00",
          "21:15:00",
          "21:30:00",
          "21:45:00",
          "22:00:00",
          "22:15:00",
          "22:30:00",
          "22:45:00",
          "23:00:00",
          "23:15:00",
          "23:30:00",
          "23:45:00",
          "00:00:00",
          "00:15:00",
          "00:30:00",
          "00:45:00",
          "01:00:00",
          "01:15:00",
          "01:30:00",
          "01:45:00",
          "02:00:00",
          "02:15:00",
          "02:30:00",
          "02:45:00",
          "03:00:00",
          "03:15:00",
          "03:30:00",
          "03:45:00",
          "04:00:00",
          "04:15:00",
          "04:30:00",
          "04:45:00",
          "05:00:00",
          "05:15:00",
          "05:30:00",
          "05:45:00",
          "06:00:00",
          "06:15:00",
          "06:30:00",
          "06:45:00",
          "07:00:00",
          "07:15:00",
          "07:30:00",
          "07:45:00",
          "08:00:00",
          "08:15:00",
          "08:30:00",
          "08:45:00",
          "09:00:00",
          "09:15:00",
          "09:30:00",
          "09:45:00",
          "10:00:00",
          "10:15:00",
          "10:30:00",
          "10:45:00",
          "11:00:00",
          "11:15:00",
          "11:30:00",
          "11:45:00",
          "12:00:00",
          "12:15:00",
          "12:30:00",
          "12:45:00",
          "13:00:00",
          "13:15:00",
          "13:30:00",
          "13:45:00",
          "14:00:00",
          "14:15:00",
          "14:30:00",
          "14:45:00",
          "15:00:00",
          "15:15:00",
          "15:30:00",
          "15:45:00",
          "16:00:00",
          "16:15:00",
          "16:30:00",
          "16:45:00",
          "17:00:00",
          "17:15:00",
          "17:30:00",
          "17:45:00",
          "18:00:00",
          "18:15:00",
          "18:30:00",
          "18:45:00",
          "19:00:00",
          "19:15:00",
          "19:30:00",
          "19:45:00",
          "20:00:00",
          "20:15:00",
          "20:30:00",
          "20:45:00",
          "21:00:00",
          "21:15:00",
          "21:30:00",
          "21:45:00",
          "22:00:00",
          "22:15:00",
          "22:30:00",
          "22:45:00",
          "23:00:00",
          "23:15:00",
          "23:30:00",
          "23:45:00",
          "00:00:00",
          "00:15:00",
          "00:30:00",
          "00:45:00",
          "01:00:00",
          "01:15:00",
          "01:30:00",
          "01:45:00",
          "02:00:00",
          "02:15:00",
          "02:30:00",
          "02:45:00",
          "03:00:00",
          "03:15:00",
          "03:30:00",
          "03:45:00",
          "04:00:00",
          "04:15:00",
          "04:30:00",
          "04:45:00",
          "05:00:00",
          "05:15:00",
          "05:30:00",
          "05:45:00",
          "06:00:00",
          "06:15:00",
          "06:30:00",
          "06:45:00",
          "07:00:00",
          "07:15:00",
          "07:30:00",
          "07:45:00",
          "08:00:00",
          "08:15:00",
          "08:30:00",
          "08:45:00",
          "09:00:00",
          "09:15:00",
          "09:30:00",
          "09:45:00",
          "10:00:00",
          "10:15:00",
          "10:30:00",
          "10:45:00",
          "11:00:00",
          "11:15:00",
          "11:30:00",
          "11:45:00",
          "12:00:00",
          "12:15:00",
          "12:30:00",
          "12:45:00",
          "13:00:00",
          "13:15:00",
          "13:30:00",
          "13:45:00",
          "14:00:00",
          "14:15:00",
          "14:30:00",
          "14:45:00",
          "15:00:00",
          "15:15:00",
          "15:30:00",
          "15:45:00",
          "16:00:00",
          "16:15:00",
          "16:30:00",
          "16:45:00",
          "17:00:00",
          "17:15:00",
          "17:30:00",
          "17:45:00",
          "18:00:00",
          "18:15:00",
          "18:30:00",
          "18:45:00",
          "19:00:00",
          "19:15:00",
          "19:30:00",
          "19:45:00",
          "20:00:00",
          "20:15:00",
          "20:30:00",
          "20:45:00",
          "21:00:00",
          "21:15:00",
          "21:30:00",
          "21:45:00",
          "22:00:00",
          "22:15:00",
          "22:30:00",
          "22:45:00",
          "23:00:00",
          "23:15:00",
          "23:30:00",
          "23:45:00",
          "00:00:00",
          "00:15:00",
          "00:30:00",
          "00:45:00",
          "01:00:00",
          "01:15:00",
          "01:30:00",
          "01:45:00",
          "02:00:00",
          "02:15:00",
          "02:30:00",
          "02:45:00",
          "03:00:00",
          "03:15:00",
          "03:30:00",
          "03:45:00",
          "04:00:00",
          "04:15:00",
          "04:30:00",
          "04:45:00",
          "05:00:00",
          "05:15:00",
          "05:30:00",
          "05:45:00",
          "06:00:00",
          "06:15:00",
          "06:30:00",
          "06:45:00",
          "07:00:00",
          "07:15:00",
          "07:30:00",
          "07:45:00",
          "08:00:00",
          "08:15:00",
          "08:30:00",
          "08:45:00",
          "09:00:00",
          "09:15:00",
          "09:30:00",
          "09:45:00",
          "10:00:00",
          "10:15:00",
          "10:30:00",
          "10:45:00",
          "11:00:00",
          "11:15:00",
          "11:30:00",
          "11:45:00",
          "12:00:00",
          "12:15:00",
          "12:30:00",
          "12:45:00",
          "13:00:00",
          "13:15:00",
          "13:30:00",
          "13:45:00",
          "14:00:00",
          "14:15:00",
          "14:30:00",
          "14:45:00",
          "15:00:00",
          "15:15:00",
          "15:30:00",
          "15:45:00",
          "16:00:00",
          "16:15:00",
          "16:30:00",
          "16:45:00",
          "17:00:00",
          "17:15:00",
          "17:30:00",
          "17:45:00",
          "18:00:00",
          "18:15:00",
          "18:30:00",
          "18:45:00",
          "19:00:00",
          "19:15:00",
          "19:30:00",
          "19:45:00",
          "20:00:00",
          "20:15:00",
          "20:30:00",
          "20:45:00",
          "21:00:00",
          "21:15:00",
          "21:30:00",
          "21:45:00",
          "22:00:00",
          "22:15:00",
          "22:30:00",
          "22:45:00",
          "23:00:00",
          "23:15:00",
          "23:30:00",
          "23:45:00",
          "00:00:00",
          "00:15:00",
          "00:30:00",
          "00:45:00",
          "01:00:00",
          "01:15:00",
          "01:30:00",
          "01:45:00",
          "02:00:00",
          "02:15:00",
          "02:30:00",
          "02:45:00",
          "03:00:00",
          "03:15:00",
          "03:30:00",
          "03:45:00",
          "04:00:00",
          "04:15:00",
          "04:30:00",
          "04:45:00",
          "05:00:00",
          "05:15:00",
          "05:30:00",
          "05:45:00",
          "06:00:00",
          "06:15:00",
          "06:30:00",
          "06:45:00",
          "07:00:00",
          "07:15:00",
          "07:30:00",
          "07:45:00",
          "08:00:00",
          "08:15:00",
          "08:30:00",
          "08:45:00",
          "09:00:00",
          "09:15:00",
          "09:30:00",
          "09:45:00",
          "10:00:00",
          "10:15:00",
          "10:30:00",
          "10:45:00",
          "11:00:00",
          "11:15:00",
          "11:30:00",
          "11:45:00",
          "12:00:00",
          "12:15:00",
          "12:30:00",
          "12:45:00",
          "13:00:00",
          "13:15:00",
          "13:30:00",
          "13:45:00",
          "14:00:00",
          "14:15:00",
          "14:30:00",
          "14:45:00",
          "15:00:00",
          "15:15:00",
          "15:30:00",
          "15:45:00",
          "16:00:00",
          "16:15:00",
          "16:30:00",
          "16:45:00",
          "17:00:00",
          "17:15:00",
          "17:30:00",
          "17:45:00",
          "18:00:00",
          "18:15:00",
          "18:30:00",
          "18:45:00",
          "19:00:00",
          "19:15:00",
          "19:30:00",
          "19:45:00",
          "20:00:00",
          "20:15:00",
          "20:30:00",
          "20:45:00",
          "21:00:00",
          "21:15:00",
          "21:30:00",
          "21:45:00",
          "22:00:00",
          "22:15:00",
          "22:30:00",
          "22:45:00",
          "23:00:00",
          "23:15:00",
          "23:30:00",
          "23:45:00",
          "00:00:00",
          "00:15:00",
          "00:30:00",
          "00:45:00",
          "01:00:00",
          "01:15:00",
          "01:30:00",
          "01:45:00",
          "02:00:00",
          "02:15:00",
          "02:30:00",
          "02:45:00",
          "03:00:00",
          "03:15:00",
          "03:30:00",
          "03:45:00",
          "04:00:00",
          "04:15:00",
          "04:30:00",
          "04:45:00",
          "05:00:00",
          "05:15:00",
          "05:30:00",
          "05:45:00",
          "06:00:00",
          "06:15:00",
          "06:30:00",
          "06:45:00",
          "07:00:00",
          "07:15:00",
          "07:30:00",
          "07:45:00",
          "08:00:00",
          "08:15:00",
          "08:30:00",
          "08:45:00",
          "09:00:00",
          "09:15:00",
          "09:30:00",
          "09:45:00",
          "10:00:00",
          "10:15:00",
          "10:30:00",
          "10:45:00",
          "11:00:00",
          "11:15:00",
          "11:30:00",
          "11:45:00",
          "12:00:00",
          "12:15:00",
          "12:30:00",
          "12:45:00",
          "13:00:00",
          "13:15:00",
          "13:30:00",
          "13:45:00",
          "14:00:00",
          "14:15:00",
          "14:30:00",
          "14:45:00",
          "15:00:00",
          "15:15:00",
          "15:30:00",
          "15:45:00",
          "16:00:00",
          "16:15:00",
          "16:30:00",
          "16:45:00",
          "17:00:00",
          "17:15:00",
          "17:30:00",
          "17:45:00",
          "18:00:00",
          "18:15:00",
          "18:30:00",
          "18:45:00",
          "19:00:00",
          "19:15:00",
          "19:30:00",
          "19:45:00",
          "20:00:00",
          "20:15:00",
          "20:30:00",
          "20:45:00",
          "21:00:00",
          "21:15:00",
          "21:30:00",
          "21:45:00",
          "22:00:00",
          "22:15:00",
          "22:30:00",
          "22:45:00",
          "23:00:00",
          "23:15:00",
          "23:30:00",
          "23:45:00",
          "00:00:00",
          "00:15:00",
          "00:30:00",
          "00:45:00",
          "01:00:00",
          "01:15:00",
          "01:30:00",
          "01:45:00",
          "02:00:00",
          "02:15:00",
          "02:30:00",
          "02:45:00",
          "03:00:00",
          "03:15:00",
          "03:30:00",
          "03:45:00",
          "04:00:00",
          "04:15:00",
          "04:30:00",
          "04:45:00",
          "05:00:00",
          "05:15:00",
          "05:30:00",
          "05:45:00",
          "06:00:00",
          "06:15:00",
          "06:30:00",
          "06:45:00",
          "07:00:00",
          "07:15:00",
          "07:30:00",
          "07:45:00",
          "08:00:00",
          "08:15:00",
          "08:30:00",
          "08:45:00",
          "09:00:00",
          "09:15:00",
          "09:30:00",
          "09:45:00",
          "10:00:00",
          "10:15:00",
          "10:30:00",
          "10:45:00",
          "11:00:00",
          "11:15:00",
          "11:30:00",
          "11:45:00",
          "12:00:00",
          "12:15:00",
          "12:30:00",
          "12:45:00",
          "13:00:00",
          "13:15:00",
          "13:30:00",
          "13:45:00",
          "14:00:00",
          "14:15:00",
          "14:30:00",
          "14:45:00",
          "15:00:00",
          "15:15:00",
          "15:30:00",
          "15:45:00",
          "16:00:00",
          "16:15:00",
          "16:30:00",
          "16:45:00",
          "17:00:00",
          "17:15:00",
          "17:30:00",
          "17:45:00",
          "18:00:00",
          "18:15:00",
          "18:30:00",
          "18:45:00",
          "19:00:00",
          "19:15:00",
          "19:30:00",
          "19:45:00",
          "20:00:00",
          "20:15:00",
          "20:30:00",
          "20:45:00",
          "21:00:00",
          "21:15:00",
          "21:30:00",
          "21:45:00",
          "22:00:00",
          "22:15:00",
          "22:30:00",
          "22:45:00",
          "23:00:00",
          "23:15:00",
          "23:30:00",
          "23:45:00"
         ],
         "x0": " ",
         "xaxis": "x",
         "y": [
          0,
          0,
          0,
          0,
          0,
          0,
          0,
          0,
          0,
          0,
          0,
          0,
          0,
          0,
          0,
          0,
          0,
          0,
          0,
          0,
          0,
          0,
          0,
          0,
          0,
          0,
          4,
          0,
          0,
          1,
          4,
          0,
          0,
          0,
          0,
          0,
          0,
          0,
          0,
          0,
          0,
          0,
          0,
          0,
          0,
          0,
          3,
          50,
          14,
          2,
          2,
          0,
          1,
          5,
          22,
          9,
          0,
          0,
          2,
          0,
          2,
          30,
          0,
          0,
          0,
          1,
          0,
          3,
          4,
          0,
          0,
          0,
          0,
          0,
          0,
          0,
          0,
          0,
          0,
          0,
          0,
          0,
          0,
          0,
          0,
          0,
          0,
          0,
          0,
          0,
          0,
          0,
          0,
          0,
          0,
          0,
          0,
          0,
          0,
          0,
          0,
          0,
          0,
          0,
          0,
          0,
          0,
          0,
          0,
          0,
          0,
          0,
          0,
          0,
          0,
          0,
          0,
          0,
          0,
          0,
          3,
          0,
          0,
          0,
          0,
          0,
          0,
          0,
          0,
          0,
          0,
          0,
          0,
          0,
          0,
          0,
          0,
          0,
          0,
          0,
          0,
          0,
          5,
          38,
          9,
          1,
          3,
          0,
          1,
          0,
          22,
          3,
          0,
          0,
          0,
          2,
          1,
          24,
          4,
          0,
          0,
          0,
          0,
          2,
          7,
          0,
          0,
          0,
          0,
          0,
          0,
          0,
          0,
          0,
          0,
          0,
          1,
          0,
          0,
          0,
          0,
          0,
          0,
          0,
          0,
          0,
          0,
          0,
          0,
          0,
          0,
          0,
          0,
          0,
          0,
          0,
          0,
          0,
          0,
          0,
          0,
          0,
          0,
          0,
          0,
          0,
          0,
          0,
          0,
          0,
          0,
          0,
          0,
          0,
          0,
          0,
          0,
          0,
          0,
          7,
          0,
          1,
          0,
          0,
          0,
          0,
          0,
          0,
          0,
          0,
          0,
          0,
          0,
          0,
          0,
          0,
          0,
          0,
          3,
          45,
          12,
          2,
          0,
          0,
          1,
          1,
          19,
          4,
          0,
          0,
          0,
          0,
          8,
          24,
          10,
          0,
          1,
          1,
          1,
          1,
          14,
          0,
          0,
          0,
          0,
          0,
          0,
          0,
          0,
          0,
          0,
          0,
          0,
          0,
          0,
          0,
          0,
          0,
          0,
          0,
          0,
          0,
          0,
          0,
          0,
          0,
          0,
          0,
          0,
          0,
          0,
          0,
          0,
          0,
          0,
          0,
          0,
          0,
          0,
          0,
          0,
          0,
          0,
          0,
          0,
          0,
          0,
          0,
          0,
          0,
          0,
          0,
          8,
          0,
          0,
          0,
          0,
          0,
          0,
          0,
          0,
          0,
          0,
          0,
          0,
          0,
          0,
          0,
          0,
          0,
          0,
          0,
          0,
          0,
          3,
          44,
          16,
          4,
          3,
          0,
          1,
          4,
          19,
          5,
          0,
          0,
          0,
          0,
          5,
          16,
          3,
          1,
          3,
          3,
          0,
          0,
          7,
          1,
          0,
          0,
          0,
          0,
          0,
          0,
          0,
          0,
          0,
          0,
          0,
          0,
          0,
          0,
          0,
          0,
          0,
          0,
          0,
          0,
          0,
          0,
          0,
          0,
          0,
          0,
          0,
          0,
          0,
          0,
          0,
          0,
          0,
          0,
          0,
          0,
          0,
          0,
          0,
          0,
          0,
          0,
          0,
          0,
          0,
          0,
          0,
          0,
          0,
          0,
          3,
          0,
          0,
          0,
          0,
          0,
          0,
          0,
          1,
          7,
          0,
          1,
          0,
          1,
          0,
          3,
          3,
          1,
          1,
          3,
          0,
          0,
          0,
          0,
          0,
          0,
          0,
          0,
          0,
          2,
          15,
          0,
          0,
          0,
          1,
          0,
          3,
          17,
          1,
          0,
          3,
          1,
          1,
          0,
          5,
          3,
          0,
          0,
          0,
          0,
          0,
          1,
          0,
          0,
          0,
          0,
          0,
          0,
          0,
          0,
          0,
          0,
          0,
          0,
          0,
          0,
          0,
          0,
          0,
          0,
          0,
          0,
          0,
          0,
          0,
          0,
          0,
          0,
          0,
          0,
          0,
          0,
          0,
          0,
          0,
          0,
          0,
          0,
          0,
          0,
          0,
          0,
          0,
          0,
          0,
          0,
          5,
          0,
          0,
          0,
          0,
          0,
          0,
          0,
          0,
          0,
          1,
          0,
          1,
          1,
          0,
          0,
          0,
          0,
          0,
          0,
          0,
          0,
          2,
          28,
          17,
          2,
          1,
          2,
          2,
          0,
          21,
          3,
          0,
          0,
          1,
          1,
          4,
          14,
          9,
          0,
          0,
          0,
          2,
          0,
          0,
          0,
          0,
          0,
          1,
          0,
          0,
          10,
          1,
          0,
          0,
          0,
          0,
          0,
          0,
          0,
          0,
          0,
          0,
          0,
          0,
          0,
          0,
          0,
          0,
          0,
          0,
          0,
          0,
          0,
          0,
          0,
          0,
          0,
          0,
          0,
          0,
          0,
          0,
          0,
          0,
          0,
          0,
          0,
          0,
          0,
          0,
          0,
          0,
          0,
          0,
          0,
          0,
          0,
          0,
          0,
          0,
          0,
          0,
          0,
          0,
          0,
          0,
          0,
          0,
          0,
          0,
          0,
          0,
          0,
          0,
          0,
          0,
          0,
          0,
          0,
          0,
          0,
          0,
          0,
          0,
          0,
          0,
          0,
          0,
          0,
          0,
          0,
          0,
          0,
          0,
          0,
          0,
          0,
          0,
          0,
          0,
          0,
          0,
          0,
          0,
          0,
          0,
          0,
          0,
          0,
          0,
          0,
          0,
          0,
          0,
          0,
          0,
          0,
          0,
          0,
          0,
          0,
          0,
          0,
          0,
          0,
          0,
          0,
          0,
          0,
          0,
          0,
          0,
          0,
          0,
          0,
          0,
          0,
          0,
          0,
          0,
          0,
          0,
          0,
          0,
          0,
          0,
          0,
          0,
          0,
          0,
          0,
          3,
          0,
          0,
          0,
          0,
          0,
          0,
          0,
          0,
          0,
          0,
          0,
          0,
          0,
          0,
          1,
          0,
          0,
          0,
          0,
          0,
          0,
          8,
          26,
          11,
          2,
          0,
          0,
          0,
          2,
          13,
          5,
          0,
          0,
          0,
          0,
          0,
          20,
          2,
          0,
          1,
          0,
          0,
          0,
          5,
          0,
          0,
          0,
          0,
          0,
          0,
          0,
          0,
          0,
          0,
          1,
          0,
          0,
          0,
          0,
          0,
          0,
          0,
          0,
          0,
          0,
          0,
          0,
          0,
          0,
          0,
          0,
          0,
          0,
          0,
          0,
          0,
          0,
          0,
          0,
          0,
          0,
          0,
          0,
          0,
          0,
          0,
          0,
          0,
          0,
          0,
          0,
          0,
          0,
          0,
          0,
          1,
          0,
          0,
          0,
          0,
          0,
          0,
          0,
          0,
          0,
          0,
          0,
          0,
          0,
          0,
          0,
          0,
          0,
          0,
          0,
          0,
          0,
          2,
          30,
          8,
          0,
          0,
          0,
          2,
          0,
          9,
          6,
          0,
          0,
          1,
          0,
          0,
          15,
          2,
          0,
          0,
          0,
          0,
          0,
          4,
          0,
          0,
          0,
          0,
          0,
          0,
          0,
          0,
          0,
          1,
          0,
          0,
          0,
          0,
          0,
          0,
          0,
          0,
          0,
          0,
          0,
          0,
          0,
          0,
          0,
          0,
          0,
          0,
          0,
          0,
          0,
          0,
          0,
          0,
          0,
          0,
          0,
          0,
          0,
          0,
          0,
          0,
          0,
          0,
          0,
          0,
          0,
          0,
          0,
          0,
          0,
          5,
          0,
          0,
          0,
          0,
          0,
          0,
          0,
          0,
          0,
          0,
          0,
          0,
          0,
          0,
          0,
          0,
          0,
          0,
          0,
          0,
          0,
          2,
          29,
          4,
          6,
          0,
          0,
          0,
          0,
          12,
          5,
          0,
          0,
          0,
          0,
          1,
          9,
          8,
          1,
          0,
          0,
          0,
          2,
          3,
          1,
          0,
          0,
          4,
          1,
          0,
          0,
          0,
          0,
          0,
          0,
          1,
          0,
          0,
          0,
          0,
          0,
          0,
          0,
          0,
          0,
          0,
          0,
          0,
          0,
          0,
          0,
          0,
          0,
          0,
          0,
          0,
          0,
          0,
          0,
          0,
          0,
          0,
          0,
          0,
          0,
          0,
          0,
          0,
          0,
          0,
          0,
          0,
          0,
          0,
          0,
          2,
          0,
          0,
          0,
          0,
          0,
          0,
          0,
          0,
          0,
          0,
          0,
          0,
          0,
          0,
          0,
          0,
          0,
          0,
          0,
          0,
          0,
          3,
          22,
          8,
          2,
          0,
          0,
          2,
          0,
          1,
          0,
          0,
          0,
          0,
          2,
          1,
          16,
          0,
          0,
          0,
          0,
          0,
          0,
          8,
          3,
          0,
          0,
          0,
          0,
          0,
          0,
          0,
          0,
          0,
          0,
          0,
          0,
          0,
          0,
          0,
          0,
          0,
          0,
          0,
          0,
          0,
          0,
          0,
          1,
          0,
          0,
          0,
          0,
          0,
          0,
          0,
          0,
          0,
          0,
          0,
          0,
          0,
          0,
          0,
          0,
          0,
          0,
          0,
          0,
          0,
          0,
          0,
          0,
          0,
          0,
          3,
          2,
          0,
          1,
          0,
          0,
          0,
          0,
          0,
          0,
          0,
          0,
          0,
          0,
          0,
          0,
          0,
          0,
          0,
          0,
          0,
          1,
          0,
          0,
          0,
          0,
          0,
          2,
          5,
          19,
          30,
          4,
          0,
          3,
          0,
          0,
          0,
          0,
          0,
          0,
          0,
          0,
          0,
          0,
          5,
          0,
          0,
          0,
          0,
          0,
          0,
          0,
          0,
          0,
          0,
          0,
          1,
          0,
          0,
          0,
          0,
          0,
          0,
          0,
          0,
          0,
          0,
          0,
          0,
          0,
          0,
          0
         ],
         "y0": " ",
         "yaxis": "y"
        }
       ],
       "layout": {
        "boxmode": "group",
        "legend": {
         "tracegroupgap": 0
        },
        "margin": {
         "t": 60
        },
        "template": {
         "data": {
          "bar": [
           {
            "error_x": {
             "color": "#2a3f5f"
            },
            "error_y": {
             "color": "#2a3f5f"
            },
            "marker": {
             "line": {
              "color": "#E5ECF6",
              "width": 0.5
             },
             "pattern": {
              "fillmode": "overlay",
              "size": 10,
              "solidity": 0.2
             }
            },
            "type": "bar"
           }
          ],
          "barpolar": [
           {
            "marker": {
             "line": {
              "color": "#E5ECF6",
              "width": 0.5
             },
             "pattern": {
              "fillmode": "overlay",
              "size": 10,
              "solidity": 0.2
             }
            },
            "type": "barpolar"
           }
          ],
          "carpet": [
           {
            "aaxis": {
             "endlinecolor": "#2a3f5f",
             "gridcolor": "white",
             "linecolor": "white",
             "minorgridcolor": "white",
             "startlinecolor": "#2a3f5f"
            },
            "baxis": {
             "endlinecolor": "#2a3f5f",
             "gridcolor": "white",
             "linecolor": "white",
             "minorgridcolor": "white",
             "startlinecolor": "#2a3f5f"
            },
            "type": "carpet"
           }
          ],
          "choropleth": [
           {
            "colorbar": {
             "outlinewidth": 0,
             "ticks": ""
            },
            "type": "choropleth"
           }
          ],
          "contour": [
           {
            "colorbar": {
             "outlinewidth": 0,
             "ticks": ""
            },
            "colorscale": [
             [
              0,
              "#0d0887"
             ],
             [
              0.1111111111111111,
              "#46039f"
             ],
             [
              0.2222222222222222,
              "#7201a8"
             ],
             [
              0.3333333333333333,
              "#9c179e"
             ],
             [
              0.4444444444444444,
              "#bd3786"
             ],
             [
              0.5555555555555556,
              "#d8576b"
             ],
             [
              0.6666666666666666,
              "#ed7953"
             ],
             [
              0.7777777777777778,
              "#fb9f3a"
             ],
             [
              0.8888888888888888,
              "#fdca26"
             ],
             [
              1,
              "#f0f921"
             ]
            ],
            "type": "contour"
           }
          ],
          "contourcarpet": [
           {
            "colorbar": {
             "outlinewidth": 0,
             "ticks": ""
            },
            "type": "contourcarpet"
           }
          ],
          "heatmap": [
           {
            "colorbar": {
             "outlinewidth": 0,
             "ticks": ""
            },
            "colorscale": [
             [
              0,
              "#0d0887"
             ],
             [
              0.1111111111111111,
              "#46039f"
             ],
             [
              0.2222222222222222,
              "#7201a8"
             ],
             [
              0.3333333333333333,
              "#9c179e"
             ],
             [
              0.4444444444444444,
              "#bd3786"
             ],
             [
              0.5555555555555556,
              "#d8576b"
             ],
             [
              0.6666666666666666,
              "#ed7953"
             ],
             [
              0.7777777777777778,
              "#fb9f3a"
             ],
             [
              0.8888888888888888,
              "#fdca26"
             ],
             [
              1,
              "#f0f921"
             ]
            ],
            "type": "heatmap"
           }
          ],
          "heatmapgl": [
           {
            "colorbar": {
             "outlinewidth": 0,
             "ticks": ""
            },
            "colorscale": [
             [
              0,
              "#0d0887"
             ],
             [
              0.1111111111111111,
              "#46039f"
             ],
             [
              0.2222222222222222,
              "#7201a8"
             ],
             [
              0.3333333333333333,
              "#9c179e"
             ],
             [
              0.4444444444444444,
              "#bd3786"
             ],
             [
              0.5555555555555556,
              "#d8576b"
             ],
             [
              0.6666666666666666,
              "#ed7953"
             ],
             [
              0.7777777777777778,
              "#fb9f3a"
             ],
             [
              0.8888888888888888,
              "#fdca26"
             ],
             [
              1,
              "#f0f921"
             ]
            ],
            "type": "heatmapgl"
           }
          ],
          "histogram": [
           {
            "marker": {
             "pattern": {
              "fillmode": "overlay",
              "size": 10,
              "solidity": 0.2
             }
            },
            "type": "histogram"
           }
          ],
          "histogram2d": [
           {
            "colorbar": {
             "outlinewidth": 0,
             "ticks": ""
            },
            "colorscale": [
             [
              0,
              "#0d0887"
             ],
             [
              0.1111111111111111,
              "#46039f"
             ],
             [
              0.2222222222222222,
              "#7201a8"
             ],
             [
              0.3333333333333333,
              "#9c179e"
             ],
             [
              0.4444444444444444,
              "#bd3786"
             ],
             [
              0.5555555555555556,
              "#d8576b"
             ],
             [
              0.6666666666666666,
              "#ed7953"
             ],
             [
              0.7777777777777778,
              "#fb9f3a"
             ],
             [
              0.8888888888888888,
              "#fdca26"
             ],
             [
              1,
              "#f0f921"
             ]
            ],
            "type": "histogram2d"
           }
          ],
          "histogram2dcontour": [
           {
            "colorbar": {
             "outlinewidth": 0,
             "ticks": ""
            },
            "colorscale": [
             [
              0,
              "#0d0887"
             ],
             [
              0.1111111111111111,
              "#46039f"
             ],
             [
              0.2222222222222222,
              "#7201a8"
             ],
             [
              0.3333333333333333,
              "#9c179e"
             ],
             [
              0.4444444444444444,
              "#bd3786"
             ],
             [
              0.5555555555555556,
              "#d8576b"
             ],
             [
              0.6666666666666666,
              "#ed7953"
             ],
             [
              0.7777777777777778,
              "#fb9f3a"
             ],
             [
              0.8888888888888888,
              "#fdca26"
             ],
             [
              1,
              "#f0f921"
             ]
            ],
            "type": "histogram2dcontour"
           }
          ],
          "mesh3d": [
           {
            "colorbar": {
             "outlinewidth": 0,
             "ticks": ""
            },
            "type": "mesh3d"
           }
          ],
          "parcoords": [
           {
            "line": {
             "colorbar": {
              "outlinewidth": 0,
              "ticks": ""
             }
            },
            "type": "parcoords"
           }
          ],
          "pie": [
           {
            "automargin": true,
            "type": "pie"
           }
          ],
          "scatter": [
           {
            "fillpattern": {
             "fillmode": "overlay",
             "size": 10,
             "solidity": 0.2
            },
            "type": "scatter"
           }
          ],
          "scatter3d": [
           {
            "line": {
             "colorbar": {
              "outlinewidth": 0,
              "ticks": ""
             }
            },
            "marker": {
             "colorbar": {
              "outlinewidth": 0,
              "ticks": ""
             }
            },
            "type": "scatter3d"
           }
          ],
          "scattercarpet": [
           {
            "marker": {
             "colorbar": {
              "outlinewidth": 0,
              "ticks": ""
             }
            },
            "type": "scattercarpet"
           }
          ],
          "scattergeo": [
           {
            "marker": {
             "colorbar": {
              "outlinewidth": 0,
              "ticks": ""
             }
            },
            "type": "scattergeo"
           }
          ],
          "scattergl": [
           {
            "marker": {
             "colorbar": {
              "outlinewidth": 0,
              "ticks": ""
             }
            },
            "type": "scattergl"
           }
          ],
          "scattermapbox": [
           {
            "marker": {
             "colorbar": {
              "outlinewidth": 0,
              "ticks": ""
             }
            },
            "type": "scattermapbox"
           }
          ],
          "scatterpolar": [
           {
            "marker": {
             "colorbar": {
              "outlinewidth": 0,
              "ticks": ""
             }
            },
            "type": "scatterpolar"
           }
          ],
          "scatterpolargl": [
           {
            "marker": {
             "colorbar": {
              "outlinewidth": 0,
              "ticks": ""
             }
            },
            "type": "scatterpolargl"
           }
          ],
          "scatterternary": [
           {
            "marker": {
             "colorbar": {
              "outlinewidth": 0,
              "ticks": ""
             }
            },
            "type": "scatterternary"
           }
          ],
          "surface": [
           {
            "colorbar": {
             "outlinewidth": 0,
             "ticks": ""
            },
            "colorscale": [
             [
              0,
              "#0d0887"
             ],
             [
              0.1111111111111111,
              "#46039f"
             ],
             [
              0.2222222222222222,
              "#7201a8"
             ],
             [
              0.3333333333333333,
              "#9c179e"
             ],
             [
              0.4444444444444444,
              "#bd3786"
             ],
             [
              0.5555555555555556,
              "#d8576b"
             ],
             [
              0.6666666666666666,
              "#ed7953"
             ],
             [
              0.7777777777777778,
              "#fb9f3a"
             ],
             [
              0.8888888888888888,
              "#fdca26"
             ],
             [
              1,
              "#f0f921"
             ]
            ],
            "type": "surface"
           }
          ],
          "table": [
           {
            "cells": {
             "fill": {
              "color": "#EBF0F8"
             },
             "line": {
              "color": "white"
             }
            },
            "header": {
             "fill": {
              "color": "#C8D4E3"
             },
             "line": {
              "color": "white"
             }
            },
            "type": "table"
           }
          ]
         },
         "layout": {
          "annotationdefaults": {
           "arrowcolor": "#2a3f5f",
           "arrowhead": 0,
           "arrowwidth": 1
          },
          "autotypenumbers": "strict",
          "coloraxis": {
           "colorbar": {
            "outlinewidth": 0,
            "ticks": ""
           }
          },
          "colorscale": {
           "diverging": [
            [
             0,
             "#8e0152"
            ],
            [
             0.1,
             "#c51b7d"
            ],
            [
             0.2,
             "#de77ae"
            ],
            [
             0.3,
             "#f1b6da"
            ],
            [
             0.4,
             "#fde0ef"
            ],
            [
             0.5,
             "#f7f7f7"
            ],
            [
             0.6,
             "#e6f5d0"
            ],
            [
             0.7,
             "#b8e186"
            ],
            [
             0.8,
             "#7fbc41"
            ],
            [
             0.9,
             "#4d9221"
            ],
            [
             1,
             "#276419"
            ]
           ],
           "sequential": [
            [
             0,
             "#0d0887"
            ],
            [
             0.1111111111111111,
             "#46039f"
            ],
            [
             0.2222222222222222,
             "#7201a8"
            ],
            [
             0.3333333333333333,
             "#9c179e"
            ],
            [
             0.4444444444444444,
             "#bd3786"
            ],
            [
             0.5555555555555556,
             "#d8576b"
            ],
            [
             0.6666666666666666,
             "#ed7953"
            ],
            [
             0.7777777777777778,
             "#fb9f3a"
            ],
            [
             0.8888888888888888,
             "#fdca26"
            ],
            [
             1,
             "#f0f921"
            ]
           ],
           "sequentialminus": [
            [
             0,
             "#0d0887"
            ],
            [
             0.1111111111111111,
             "#46039f"
            ],
            [
             0.2222222222222222,
             "#7201a8"
            ],
            [
             0.3333333333333333,
             "#9c179e"
            ],
            [
             0.4444444444444444,
             "#bd3786"
            ],
            [
             0.5555555555555556,
             "#d8576b"
            ],
            [
             0.6666666666666666,
             "#ed7953"
            ],
            [
             0.7777777777777778,
             "#fb9f3a"
            ],
            [
             0.8888888888888888,
             "#fdca26"
            ],
            [
             1,
             "#f0f921"
            ]
           ]
          },
          "colorway": [
           "#636efa",
           "#EF553B",
           "#00cc96",
           "#ab63fa",
           "#FFA15A",
           "#19d3f3",
           "#FF6692",
           "#B6E880",
           "#FF97FF",
           "#FECB52"
          ],
          "font": {
           "color": "#2a3f5f"
          },
          "geo": {
           "bgcolor": "white",
           "lakecolor": "white",
           "landcolor": "#E5ECF6",
           "showlakes": true,
           "showland": true,
           "subunitcolor": "white"
          },
          "hoverlabel": {
           "align": "left"
          },
          "hovermode": "closest",
          "mapbox": {
           "style": "light"
          },
          "paper_bgcolor": "white",
          "plot_bgcolor": "#E5ECF6",
          "polar": {
           "angularaxis": {
            "gridcolor": "white",
            "linecolor": "white",
            "ticks": ""
           },
           "bgcolor": "#E5ECF6",
           "radialaxis": {
            "gridcolor": "white",
            "linecolor": "white",
            "ticks": ""
           }
          },
          "scene": {
           "xaxis": {
            "backgroundcolor": "#E5ECF6",
            "gridcolor": "white",
            "gridwidth": 2,
            "linecolor": "white",
            "showbackground": true,
            "ticks": "",
            "zerolinecolor": "white"
           },
           "yaxis": {
            "backgroundcolor": "#E5ECF6",
            "gridcolor": "white",
            "gridwidth": 2,
            "linecolor": "white",
            "showbackground": true,
            "ticks": "",
            "zerolinecolor": "white"
           },
           "zaxis": {
            "backgroundcolor": "#E5ECF6",
            "gridcolor": "white",
            "gridwidth": 2,
            "linecolor": "white",
            "showbackground": true,
            "ticks": "",
            "zerolinecolor": "white"
           }
          },
          "shapedefaults": {
           "line": {
            "color": "#2a3f5f"
           }
          },
          "ternary": {
           "aaxis": {
            "gridcolor": "white",
            "linecolor": "white",
            "ticks": ""
           },
           "baxis": {
            "gridcolor": "white",
            "linecolor": "white",
            "ticks": ""
           },
           "bgcolor": "#E5ECF6",
           "caxis": {
            "gridcolor": "white",
            "linecolor": "white",
            "ticks": ""
           }
          },
          "title": {
           "x": 0.05
          },
          "xaxis": {
           "automargin": true,
           "gridcolor": "white",
           "linecolor": "white",
           "ticks": "",
           "title": {
            "standoff": 15
           },
           "zerolinecolor": "white",
           "zerolinewidth": 2
          },
          "yaxis": {
           "automargin": true,
           "gridcolor": "white",
           "linecolor": "white",
           "ticks": "",
           "title": {
            "standoff": 15
           },
           "zerolinecolor": "white",
           "zerolinewidth": 2
          }
         }
        },
        "xaxis": {
         "anchor": "y",
         "domain": [
          0,
          1
         ],
         "title": {
          "text": "time"
         }
        },
        "yaxis": {
         "anchor": "x",
         "domain": [
          0,
          1
         ],
         "title": {
          "text": "event_type"
         }
        }
       }
      }
     },
     "metadata": {},
     "output_type": "display_data"
    }
   ],
   "source": [
    "# Boxplot plots -> Boxplot for every day and time\n",
    "# Do for different events and rooms\n",
    "data_resampled = resample(data_filterd, \"datetime\", \"15min\", \"count\")\n",
    "data_resampled = derive_time(data_resampled)\n",
    "data_resampled = derive_weekday(data_resampled)\n",
    "data_resampled = derive_week(data_resampled)\n",
    "data_resampled = data_resampled.drop(\"datetime\", axis=1)\n",
    "\n",
    "\n",
    "data_plot = data_resampled.groupby([\"week\", \"time\", \"weekday\"]).sum().reset_index()\n",
    "data_plot = data_plot[data_plot[\"weekday\"] == 0]\n",
    "\n",
    "print(data_plot)\n",
    "fig = px.box(data_plot, x=\"time\", y=\"event_type\")\n",
    "fig.show()"
   ]
  },
  {
   "cell_type": "markdown",
   "metadata": {},
   "source": [
    "More plots in the other notebook"
   ]
  },
  {
   "cell_type": "markdown",
   "metadata": {},
   "source": [
    "## 1.Patterns\n",
    "\n",
    "clustering -> different algorithms, k-means\n",
    "\n",
    "Papers tried: \n",
    "\n",
    "### 1.1 Occupancy data analytics and prediction: A case study - Xin Liang a, b, Tianzhen Hong b, *, Geoffrey Qiping Shen\n",
    "\n",
    "Distance Measures: Eucleadian, Dynamic Time Warp, Correlation Simmilarity -> compared among all different configurations\n",
    "\n",
    "Clustering Algos: K-Means, \n",
    "\n",
    "Algorithm Evaluation: Davies-Bouldin index, to find best k\n",
    "\n",
    "Insights of the paper:\n",
    "\n",
    "* High variability in the data statistical methods using some kind of mean will fail miserably!"
   ]
  },
  {
   "cell_type": "code",
   "execution_count": 59,
   "metadata": {},
   "outputs": [],
   "source": [
    "def filter_by_time(data, time_column, start_time, end_time):\n",
    "    \n",
    "    return data[(data[time_column].dt.time >= start_time) & (data[time_column].dt.time <= end_time)]\n",
    "\n"
   ]
  },
  {
   "cell_type": "code",
   "execution_count": 60,
   "metadata": {},
   "outputs": [],
   "source": [
    "# split into daily samples\n",
    "data_resampled = resample(data_filterd, \"datetime\", \"15min\", \"count\")\n",
    "data_resampled = derive_time(data_resampled)\n",
    "data_resampled = derive_weekday(data_resampled)\n",
    "data_resampled = derive_week(data_resampled)\n",
    "data_resampled = derive_day(data_resampled)\n",
    "\n",
    "data_resampled = filter_by_time(data_resampled, \"datetime\", datetime.strptime(\"08:00:00\", \"%H:%M:%S\").time(), datetime.strptime(\"20:00:00\", \"%H:%M:%S\").time())\n",
    "\n",
    "\n",
    "samples = []\n",
    "times = []\n",
    "group_list = []\n",
    "for group in data_resampled.groupby(\"day\"):\n",
    "    #print(group[1][\"event_type\"].reset_index(drop=True))\n",
    "    samples.append(group[1][\"event_type\"].values)\n",
    "    times.append(group[1][\"datetime\"].values)\n",
    "    group_list.append(group[0])\n",
    "    \n",
    "samples = np.array(samples[:-1])\n",
    "times = np.array(times[:-1])\n",
    "group_list = np.array(group_list[:-1])\n"
   ]
  },
  {
   "cell_type": "code",
   "execution_count": 16,
   "metadata": {},
   "outputs": [],
   "source": [
    "#train, test = train_test_split(samples, test_size=0.1, random_state=42)\n",
    "\n",
    "#train = np.array(train)\n",
    "#test = np.array(test)\n",
    "\n",
    "#kf = KFold(n_splits=10)\n",
    "\n",
    "#for train_index, valid_index in kf.split(train):\n",
    "    \n",
    "#    train_fold = train[train_index]\n",
    "#    valid_fold = train[valid_index]\n",
    "    \n",
    "#    break"
   ]
  },
  {
   "cell_type": "code",
   "execution_count": 75,
   "metadata": {},
   "outputs": [],
   "source": [
    "from sklearn.cluster import KMeans\n",
    "\n",
    "n_clusters = 7\n",
    "clustering_model = KMeans(n_clusters=n_clusters, init=\"random\")\n",
    "clustering_model.fit(samples)\n",
    "\n",
    "indices = np.arange(len(samples))"
   ]
  },
  {
   "cell_type": "code",
   "execution_count": 76,
   "metadata": {},
   "outputs": [
    {
     "data": {
      "application/vnd.plotly.v1+json": {
       "config": {
        "plotlyServerURL": "https://plot.ly"
       },
       "data": [
        {
         "mode": "lines+markers",
         "name": "cluster 0",
         "type": "scatter",
         "x": [
          "2024-04-08T08:00:00.000000000",
          "2024-04-08T08:15:00.000000000",
          "2024-04-08T08:30:00.000000000",
          "2024-04-08T08:45:00.000000000",
          "2024-04-08T09:00:00.000000000",
          "2024-04-08T09:15:00.000000000",
          "2024-04-08T09:30:00.000000000",
          "2024-04-08T09:45:00.000000000",
          "2024-04-08T10:00:00.000000000",
          "2024-04-08T10:15:00.000000000",
          "2024-04-08T10:30:00.000000000",
          "2024-04-08T10:45:00.000000000",
          "2024-04-08T11:00:00.000000000",
          "2024-04-08T11:15:00.000000000",
          "2024-04-08T11:30:00.000000000",
          "2024-04-08T11:45:00.000000000",
          "2024-04-08T12:00:00.000000000",
          "2024-04-08T12:15:00.000000000",
          "2024-04-08T12:30:00.000000000",
          "2024-04-08T12:45:00.000000000",
          "2024-04-08T13:00:00.000000000",
          "2024-04-08T13:15:00.000000000",
          "2024-04-08T13:30:00.000000000",
          "2024-04-08T13:45:00.000000000",
          "2024-04-08T14:00:00.000000000",
          "2024-04-08T14:15:00.000000000",
          "2024-04-08T14:30:00.000000000",
          "2024-04-08T14:45:00.000000000",
          "2024-04-08T15:00:00.000000000",
          "2024-04-08T15:15:00.000000000",
          "2024-04-08T15:30:00.000000000",
          "2024-04-08T15:45:00.000000000",
          "2024-04-08T16:00:00.000000000",
          "2024-04-08T16:15:00.000000000",
          "2024-04-08T16:30:00.000000000",
          "2024-04-08T16:45:00.000000000",
          "2024-04-08T17:00:00.000000000",
          "2024-04-08T17:15:00.000000000",
          "2024-04-08T17:30:00.000000000",
          "2024-04-08T17:45:00.000000000",
          "2024-04-08T18:00:00.000000000",
          "2024-04-08T18:15:00.000000000",
          "2024-04-08T18:30:00.000000000",
          "2024-04-08T18:45:00.000000000",
          "2024-04-08T19:00:00.000000000",
          "2024-04-08T19:15:00.000000000",
          "2024-04-08T19:30:00.000000000",
          "2024-04-08T19:45:00.000000000",
          "2024-04-08T20:00:00.000000000"
         ],
         "y": [
          0.35135135135135154,
          1.4594594594594552,
          0.7837837837837855,
          0.16216216216216262,
          0.08108108108108109,
          0.16216216216216217,
          0.29729729729729726,
          0.2702702702702702,
          1.027027027027021,
          0.27027027027026973,
          0.08108108108108086,
          0.13513513513513503,
          1.6653345369377348e-16,
          0.16216216216216228,
          0.24324324324324187,
          0.16216216216216317,
          0.027027027027026307,
          0.08108108108108109,
          0.054054054054053946,
          0.10810810810810803,
          0.1621621621621625,
          0.648648648648648,
          1.7297297297297263,
          0.16216216216216273,
          -5.551115123125783e-17,
          0.10810810810810756,
          0.13513513513513514,
          0.108108108108108,
          0.18918918918919037,
          0.9189189189189184,
          0.4324324324324319,
          8.326672684688674e-17,
          0.6216216216216217,
          0.10810810810810817,
          0.16216216216216212,
          0.32432432432432434,
          0.7027027027027035,
          0.21621621621621623,
          0.02702702702702703,
          0.027027027027027056,
          2.7755575615628914e-17,
          2.7755575615628914e-17,
          0,
          0.10810810810810811,
          0.02702702702702703,
          0.16216216216216223,
          5.551115123125783e-17,
          0.054054054054054085,
          0.02702702702702707
         ]
        },
        {
         "mode": "lines+markers",
         "name": "cluster 1",
         "type": "scatter",
         "x": [
          "2024-04-08T08:00:00.000000000",
          "2024-04-08T08:15:00.000000000",
          "2024-04-08T08:30:00.000000000",
          "2024-04-08T08:45:00.000000000",
          "2024-04-08T09:00:00.000000000",
          "2024-04-08T09:15:00.000000000",
          "2024-04-08T09:30:00.000000000",
          "2024-04-08T09:45:00.000000000",
          "2024-04-08T10:00:00.000000000",
          "2024-04-08T10:15:00.000000000",
          "2024-04-08T10:30:00.000000000",
          "2024-04-08T10:45:00.000000000",
          "2024-04-08T11:00:00.000000000",
          "2024-04-08T11:15:00.000000000",
          "2024-04-08T11:30:00.000000000",
          "2024-04-08T11:45:00.000000000",
          "2024-04-08T12:00:00.000000000",
          "2024-04-08T12:15:00.000000000",
          "2024-04-08T12:30:00.000000000",
          "2024-04-08T12:45:00.000000000",
          "2024-04-08T13:00:00.000000000",
          "2024-04-08T13:15:00.000000000",
          "2024-04-08T13:30:00.000000000",
          "2024-04-08T13:45:00.000000000",
          "2024-04-08T14:00:00.000000000",
          "2024-04-08T14:15:00.000000000",
          "2024-04-08T14:30:00.000000000",
          "2024-04-08T14:45:00.000000000",
          "2024-04-08T15:00:00.000000000",
          "2024-04-08T15:15:00.000000000",
          "2024-04-08T15:30:00.000000000",
          "2024-04-08T15:45:00.000000000",
          "2024-04-08T16:00:00.000000000",
          "2024-04-08T16:15:00.000000000",
          "2024-04-08T16:30:00.000000000",
          "2024-04-08T16:45:00.000000000",
          "2024-04-08T17:00:00.000000000",
          "2024-04-08T17:15:00.000000000",
          "2024-04-08T17:30:00.000000000",
          "2024-04-08T17:45:00.000000000",
          "2024-04-08T18:00:00.000000000",
          "2024-04-08T18:15:00.000000000",
          "2024-04-08T18:30:00.000000000",
          "2024-04-08T18:45:00.000000000",
          "2024-04-08T19:00:00.000000000",
          "2024-04-08T19:15:00.000000000",
          "2024-04-08T19:30:00.000000000",
          "2024-04-08T19:45:00.000000000",
          "2024-04-08T20:00:00.000000000"
         ],
         "y": [
          0,
          23,
          13,
          0,
          1,
          0,
          1,
          10,
          0,
          0,
          0,
          0,
          0,
          0,
          4,
          39,
          2,
          0,
          1,
          3,
          51,
          37,
          39,
          10,
          2,
          5,
          11,
          8,
          47,
          32,
          2,
          2,
          0,
          0,
          4,
          0,
          36,
          1,
          0,
          0,
          5,
          0,
          0,
          0,
          0,
          0,
          0,
          0,
          0
         ]
        },
        {
         "mode": "lines+markers",
         "name": "cluster 2",
         "type": "scatter",
         "x": [
          "2024-04-08T08:00:00.000000000",
          "2024-04-08T08:15:00.000000000",
          "2024-04-08T08:30:00.000000000",
          "2024-04-08T08:45:00.000000000",
          "2024-04-08T09:00:00.000000000",
          "2024-04-08T09:15:00.000000000",
          "2024-04-08T09:30:00.000000000",
          "2024-04-08T09:45:00.000000000",
          "2024-04-08T10:00:00.000000000",
          "2024-04-08T10:15:00.000000000",
          "2024-04-08T10:30:00.000000000",
          "2024-04-08T10:45:00.000000000",
          "2024-04-08T11:00:00.000000000",
          "2024-04-08T11:15:00.000000000",
          "2024-04-08T11:30:00.000000000",
          "2024-04-08T11:45:00.000000000",
          "2024-04-08T12:00:00.000000000",
          "2024-04-08T12:15:00.000000000",
          "2024-04-08T12:30:00.000000000",
          "2024-04-08T12:45:00.000000000",
          "2024-04-08T13:00:00.000000000",
          "2024-04-08T13:15:00.000000000",
          "2024-04-08T13:30:00.000000000",
          "2024-04-08T13:45:00.000000000",
          "2024-04-08T14:00:00.000000000",
          "2024-04-08T14:15:00.000000000",
          "2024-04-08T14:30:00.000000000",
          "2024-04-08T14:45:00.000000000",
          "2024-04-08T15:00:00.000000000",
          "2024-04-08T15:15:00.000000000",
          "2024-04-08T15:30:00.000000000",
          "2024-04-08T15:45:00.000000000",
          "2024-04-08T16:00:00.000000000",
          "2024-04-08T16:15:00.000000000",
          "2024-04-08T16:30:00.000000000",
          "2024-04-08T16:45:00.000000000",
          "2024-04-08T17:00:00.000000000",
          "2024-04-08T17:15:00.000000000",
          "2024-04-08T17:30:00.000000000",
          "2024-04-08T17:45:00.000000000",
          "2024-04-08T18:00:00.000000000",
          "2024-04-08T18:15:00.000000000",
          "2024-04-08T18:30:00.000000000",
          "2024-04-08T18:45:00.000000000",
          "2024-04-08T19:00:00.000000000",
          "2024-04-08T19:15:00.000000000",
          "2024-04-08T19:30:00.000000000",
          "2024-04-08T19:45:00.000000000",
          "2024-04-08T20:00:00.000000000"
         ],
         "y": [
          5.107142857142856,
          16.678571428571423,
          7.357142857142859,
          1.8214285714285712,
          0.75,
          0.7499999999999998,
          0.5714285714285714,
          0.6428571428571428,
          31.071428571428562,
          5.535714285714285,
          0.5357142857142856,
          0.4642857142857141,
          0.892857142857143,
          1.6071428571428579,
          3.9642857142857135,
          9.392857142857144,
          1.4285714285714284,
          0.3214285714285715,
          0.5714285714285713,
          0.07142857142857142,
          0.46428571428571386,
          1.5714285714285712,
          9.857142857142854,
          2.2857142857142856,
          0.24999999999999992,
          0.32142857142857173,
          0.25,
          0.3928571428571429,
          1.3928571428571428,
          6.249999999999999,
          1.1785714285714286,
          0.2857142857142858,
          0.07142857142857129,
          0.1071428571428572,
          0.10714285714285707,
          1.357142857142857,
          5.42857142857143,
          1.2857142857142858,
          0.25,
          0.14285714285714288,
          0.1428571428571429,
          0.3571428571428572,
          0.7142857142857146,
          0.892857142857143,
          0.21428571428571427,
          5.551115123125783e-17,
          0.10714285714285723,
          0.3214285714285715,
          0.1428571428571429
         ]
        },
        {
         "mode": "lines+markers",
         "name": "cluster 3",
         "type": "scatter",
         "x": [
          "2024-04-08T08:00:00.000000000",
          "2024-04-08T08:15:00.000000000",
          "2024-04-08T08:30:00.000000000",
          "2024-04-08T08:45:00.000000000",
          "2024-04-08T09:00:00.000000000",
          "2024-04-08T09:15:00.000000000",
          "2024-04-08T09:30:00.000000000",
          "2024-04-08T09:45:00.000000000",
          "2024-04-08T10:00:00.000000000",
          "2024-04-08T10:15:00.000000000",
          "2024-04-08T10:30:00.000000000",
          "2024-04-08T10:45:00.000000000",
          "2024-04-08T11:00:00.000000000",
          "2024-04-08T11:15:00.000000000",
          "2024-04-08T11:30:00.000000000",
          "2024-04-08T11:45:00.000000000",
          "2024-04-08T12:00:00.000000000",
          "2024-04-08T12:15:00.000000000",
          "2024-04-08T12:30:00.000000000",
          "2024-04-08T12:45:00.000000000",
          "2024-04-08T13:00:00.000000000",
          "2024-04-08T13:15:00.000000000",
          "2024-04-08T13:30:00.000000000",
          "2024-04-08T13:45:00.000000000",
          "2024-04-08T14:00:00.000000000",
          "2024-04-08T14:15:00.000000000",
          "2024-04-08T14:30:00.000000000",
          "2024-04-08T14:45:00.000000000",
          "2024-04-08T15:00:00.000000000",
          "2024-04-08T15:15:00.000000000",
          "2024-04-08T15:30:00.000000000",
          "2024-04-08T15:45:00.000000000",
          "2024-04-08T16:00:00.000000000",
          "2024-04-08T16:15:00.000000000",
          "2024-04-08T16:30:00.000000000",
          "2024-04-08T16:45:00.000000000",
          "2024-04-08T17:00:00.000000000",
          "2024-04-08T17:15:00.000000000",
          "2024-04-08T17:30:00.000000000",
          "2024-04-08T17:45:00.000000000",
          "2024-04-08T18:00:00.000000000",
          "2024-04-08T18:15:00.000000000",
          "2024-04-08T18:30:00.000000000",
          "2024-04-08T18:45:00.000000000",
          "2024-04-08T19:00:00.000000000",
          "2024-04-08T19:15:00.000000000",
          "2024-04-08T19:30:00.000000000",
          "2024-04-08T19:45:00.000000000",
          "2024-04-08T20:00:00.000000000"
         ],
         "y": [
          0.3000000000000005,
          0.8999999999999995,
          0.8000000000000003,
          0,
          0.3,
          0.2,
          0,
          0.09999999999999998,
          1.0999999999999996,
          0.2999999999999994,
          0,
          -5.551115123125783e-17,
          0,
          -1.1102230246251565e-16,
          3.1,
          33.9,
          11.2,
          2.7,
          1.2999999999999998,
          0.30000000000000004,
          1.1,
          1.4,
          14.899999999999999,
          6.500000000000001,
          -5.551115123125783e-17,
          0.09999999999999976,
          0.4,
          0.6000000000000001,
          5.000000000000002,
          17,
          3.8,
          0.2,
          2.0000000000000004,
          1.5999999999999996,
          0.3,
          0.7999999999999999,
          5.3,
          0.5,
          0,
          0,
          0.5,
          0.10000000000000003,
          5.551115123125783e-17,
          1,
          0.1,
          0,
          0.1,
          0.1,
          0.20000000000000004
         ]
        },
        {
         "mode": "lines+markers",
         "name": "cluster 4",
         "type": "scatter",
         "x": [
          "2024-04-08T08:00:00.000000000",
          "2024-04-08T08:15:00.000000000",
          "2024-04-08T08:30:00.000000000",
          "2024-04-08T08:45:00.000000000",
          "2024-04-08T09:00:00.000000000",
          "2024-04-08T09:15:00.000000000",
          "2024-04-08T09:30:00.000000000",
          "2024-04-08T09:45:00.000000000",
          "2024-04-08T10:00:00.000000000",
          "2024-04-08T10:15:00.000000000",
          "2024-04-08T10:30:00.000000000",
          "2024-04-08T10:45:00.000000000",
          "2024-04-08T11:00:00.000000000",
          "2024-04-08T11:15:00.000000000",
          "2024-04-08T11:30:00.000000000",
          "2024-04-08T11:45:00.000000000",
          "2024-04-08T12:00:00.000000000",
          "2024-04-08T12:15:00.000000000",
          "2024-04-08T12:30:00.000000000",
          "2024-04-08T12:45:00.000000000",
          "2024-04-08T13:00:00.000000000",
          "2024-04-08T13:15:00.000000000",
          "2024-04-08T13:30:00.000000000",
          "2024-04-08T13:45:00.000000000",
          "2024-04-08T14:00:00.000000000",
          "2024-04-08T14:15:00.000000000",
          "2024-04-08T14:30:00.000000000",
          "2024-04-08T14:45:00.000000000",
          "2024-04-08T15:00:00.000000000",
          "2024-04-08T15:15:00.000000000",
          "2024-04-08T15:30:00.000000000",
          "2024-04-08T15:45:00.000000000",
          "2024-04-08T16:00:00.000000000",
          "2024-04-08T16:15:00.000000000",
          "2024-04-08T16:30:00.000000000",
          "2024-04-08T16:45:00.000000000",
          "2024-04-08T17:00:00.000000000",
          "2024-04-08T17:15:00.000000000",
          "2024-04-08T17:30:00.000000000",
          "2024-04-08T17:45:00.000000000",
          "2024-04-08T18:00:00.000000000",
          "2024-04-08T18:15:00.000000000",
          "2024-04-08T18:30:00.000000000",
          "2024-04-08T18:45:00.000000000",
          "2024-04-08T19:00:00.000000000",
          "2024-04-08T19:15:00.000000000",
          "2024-04-08T19:30:00.000000000",
          "2024-04-08T19:45:00.000000000",
          "2024-04-08T20:00:00.000000000"
         ],
         "y": [
          1,
          11,
          7,
          1,
          1,
          0,
          0,
          1,
          16,
          1,
          1,
          0,
          0,
          3,
          2,
          46,
          13,
          5,
          1,
          1,
          3,
          1,
          1,
          2,
          11,
          47,
          7,
          1,
          4,
          1,
          3,
          2,
          38,
          2,
          0,
          2,
          0,
          0,
          0,
          0,
          0,
          0,
          0,
          0,
          0,
          0,
          0,
          2,
          0
         ]
        },
        {
         "mode": "lines+markers",
         "name": "cluster 5",
         "type": "scatter",
         "x": [
          "2024-04-08T08:00:00.000000000",
          "2024-04-08T08:15:00.000000000",
          "2024-04-08T08:30:00.000000000",
          "2024-04-08T08:45:00.000000000",
          "2024-04-08T09:00:00.000000000",
          "2024-04-08T09:15:00.000000000",
          "2024-04-08T09:30:00.000000000",
          "2024-04-08T09:45:00.000000000",
          "2024-04-08T10:00:00.000000000",
          "2024-04-08T10:15:00.000000000",
          "2024-04-08T10:30:00.000000000",
          "2024-04-08T10:45:00.000000000",
          "2024-04-08T11:00:00.000000000",
          "2024-04-08T11:15:00.000000000",
          "2024-04-08T11:30:00.000000000",
          "2024-04-08T11:45:00.000000000",
          "2024-04-08T12:00:00.000000000",
          "2024-04-08T12:15:00.000000000",
          "2024-04-08T12:30:00.000000000",
          "2024-04-08T12:45:00.000000000",
          "2024-04-08T13:00:00.000000000",
          "2024-04-08T13:15:00.000000000",
          "2024-04-08T13:30:00.000000000",
          "2024-04-08T13:45:00.000000000",
          "2024-04-08T14:00:00.000000000",
          "2024-04-08T14:15:00.000000000",
          "2024-04-08T14:30:00.000000000",
          "2024-04-08T14:45:00.000000000",
          "2024-04-08T15:00:00.000000000",
          "2024-04-08T15:15:00.000000000",
          "2024-04-08T15:30:00.000000000",
          "2024-04-08T15:45:00.000000000",
          "2024-04-08T16:00:00.000000000",
          "2024-04-08T16:15:00.000000000",
          "2024-04-08T16:30:00.000000000",
          "2024-04-08T16:45:00.000000000",
          "2024-04-08T17:00:00.000000000",
          "2024-04-08T17:15:00.000000000",
          "2024-04-08T17:30:00.000000000",
          "2024-04-08T17:45:00.000000000",
          "2024-04-08T18:00:00.000000000",
          "2024-04-08T18:15:00.000000000",
          "2024-04-08T18:30:00.000000000",
          "2024-04-08T18:45:00.000000000",
          "2024-04-08T19:00:00.000000000",
          "2024-04-08T19:15:00.000000000",
          "2024-04-08T19:30:00.000000000",
          "2024-04-08T19:45:00.000000000",
          "2024-04-08T20:00:00.000000000"
         ],
         "y": [
          3,
          29,
          8,
          0,
          0,
          0,
          1,
          1,
          4,
          0,
          1,
          1,
          1,
          0,
          0,
          0,
          3,
          2,
          1,
          9,
          9,
          56,
          47,
          9,
          0,
          5,
          1,
          0,
          0,
          0,
          1,
          0,
          1,
          0,
          0,
          0,
          0,
          0,
          0,
          0,
          0,
          0,
          0,
          0,
          0,
          0,
          2,
          0,
          0
         ]
        },
        {
         "mode": "lines+markers",
         "name": "cluster 6",
         "type": "scatter",
         "x": [
          "2024-04-08T08:00:00.000000000",
          "2024-04-08T08:15:00.000000000",
          "2024-04-08T08:30:00.000000000",
          "2024-04-08T08:45:00.000000000",
          "2024-04-08T09:00:00.000000000",
          "2024-04-08T09:15:00.000000000",
          "2024-04-08T09:30:00.000000000",
          "2024-04-08T09:45:00.000000000",
          "2024-04-08T10:00:00.000000000",
          "2024-04-08T10:15:00.000000000",
          "2024-04-08T10:30:00.000000000",
          "2024-04-08T10:45:00.000000000",
          "2024-04-08T11:00:00.000000000",
          "2024-04-08T11:15:00.000000000",
          "2024-04-08T11:30:00.000000000",
          "2024-04-08T11:45:00.000000000",
          "2024-04-08T12:00:00.000000000",
          "2024-04-08T12:15:00.000000000",
          "2024-04-08T12:30:00.000000000",
          "2024-04-08T12:45:00.000000000",
          "2024-04-08T13:00:00.000000000",
          "2024-04-08T13:15:00.000000000",
          "2024-04-08T13:30:00.000000000",
          "2024-04-08T13:45:00.000000000",
          "2024-04-08T14:00:00.000000000",
          "2024-04-08T14:15:00.000000000",
          "2024-04-08T14:30:00.000000000",
          "2024-04-08T14:45:00.000000000",
          "2024-04-08T15:00:00.000000000",
          "2024-04-08T15:15:00.000000000",
          "2024-04-08T15:30:00.000000000",
          "2024-04-08T15:45:00.000000000",
          "2024-04-08T16:00:00.000000000",
          "2024-04-08T16:15:00.000000000",
          "2024-04-08T16:30:00.000000000",
          "2024-04-08T16:45:00.000000000",
          "2024-04-08T17:00:00.000000000",
          "2024-04-08T17:15:00.000000000",
          "2024-04-08T17:30:00.000000000",
          "2024-04-08T17:45:00.000000000",
          "2024-04-08T18:00:00.000000000",
          "2024-04-08T18:15:00.000000000",
          "2024-04-08T18:30:00.000000000",
          "2024-04-08T18:45:00.000000000",
          "2024-04-08T19:00:00.000000000",
          "2024-04-08T19:15:00.000000000",
          "2024-04-08T19:30:00.000000000",
          "2024-04-08T19:45:00.000000000",
          "2024-04-08T20:00:00.000000000"
         ],
         "y": [
          5.666666666666668,
          17.666666666666664,
          8.333333333333332,
          2.6666666666666665,
          1,
          0.6666666666666667,
          1,
          0.33333333333333337,
          15.666666666666664,
          7.333333333333333,
          1,
          0.3333333333333333,
          0.6666666666666666,
          1,
          1,
          7.333333333333334,
          2.3333333333333335,
          0.33333333333333337,
          5.551115123125783e-17,
          0,
          0,
          0.6666666666666667,
          9.666666666666666,
          1,
          0,
          0,
          0,
          0.33333333333333337,
          2,
          25.666666666666664,
          5.666666666666665,
          0,
          2.220446049250313e-16,
          0.6666666666666667,
          1.3333333333333333,
          2.333333333333333,
          43.666666666666664,
          15.999999999999998,
          2.6666666666666665,
          0.6666666666666667,
          0.33333333333333337,
          1.3333333333333333,
          0.6666666666666667,
          2.6666666666666665,
          0,
          0,
          0,
          0.33333333333333337,
          0
         ]
        }
       ],
       "layout": {
        "template": {
         "data": {
          "bar": [
           {
            "error_x": {
             "color": "#2a3f5f"
            },
            "error_y": {
             "color": "#2a3f5f"
            },
            "marker": {
             "line": {
              "color": "#E5ECF6",
              "width": 0.5
             },
             "pattern": {
              "fillmode": "overlay",
              "size": 10,
              "solidity": 0.2
             }
            },
            "type": "bar"
           }
          ],
          "barpolar": [
           {
            "marker": {
             "line": {
              "color": "#E5ECF6",
              "width": 0.5
             },
             "pattern": {
              "fillmode": "overlay",
              "size": 10,
              "solidity": 0.2
             }
            },
            "type": "barpolar"
           }
          ],
          "carpet": [
           {
            "aaxis": {
             "endlinecolor": "#2a3f5f",
             "gridcolor": "white",
             "linecolor": "white",
             "minorgridcolor": "white",
             "startlinecolor": "#2a3f5f"
            },
            "baxis": {
             "endlinecolor": "#2a3f5f",
             "gridcolor": "white",
             "linecolor": "white",
             "minorgridcolor": "white",
             "startlinecolor": "#2a3f5f"
            },
            "type": "carpet"
           }
          ],
          "choropleth": [
           {
            "colorbar": {
             "outlinewidth": 0,
             "ticks": ""
            },
            "type": "choropleth"
           }
          ],
          "contour": [
           {
            "colorbar": {
             "outlinewidth": 0,
             "ticks": ""
            },
            "colorscale": [
             [
              0,
              "#0d0887"
             ],
             [
              0.1111111111111111,
              "#46039f"
             ],
             [
              0.2222222222222222,
              "#7201a8"
             ],
             [
              0.3333333333333333,
              "#9c179e"
             ],
             [
              0.4444444444444444,
              "#bd3786"
             ],
             [
              0.5555555555555556,
              "#d8576b"
             ],
             [
              0.6666666666666666,
              "#ed7953"
             ],
             [
              0.7777777777777778,
              "#fb9f3a"
             ],
             [
              0.8888888888888888,
              "#fdca26"
             ],
             [
              1,
              "#f0f921"
             ]
            ],
            "type": "contour"
           }
          ],
          "contourcarpet": [
           {
            "colorbar": {
             "outlinewidth": 0,
             "ticks": ""
            },
            "type": "contourcarpet"
           }
          ],
          "heatmap": [
           {
            "colorbar": {
             "outlinewidth": 0,
             "ticks": ""
            },
            "colorscale": [
             [
              0,
              "#0d0887"
             ],
             [
              0.1111111111111111,
              "#46039f"
             ],
             [
              0.2222222222222222,
              "#7201a8"
             ],
             [
              0.3333333333333333,
              "#9c179e"
             ],
             [
              0.4444444444444444,
              "#bd3786"
             ],
             [
              0.5555555555555556,
              "#d8576b"
             ],
             [
              0.6666666666666666,
              "#ed7953"
             ],
             [
              0.7777777777777778,
              "#fb9f3a"
             ],
             [
              0.8888888888888888,
              "#fdca26"
             ],
             [
              1,
              "#f0f921"
             ]
            ],
            "type": "heatmap"
           }
          ],
          "heatmapgl": [
           {
            "colorbar": {
             "outlinewidth": 0,
             "ticks": ""
            },
            "colorscale": [
             [
              0,
              "#0d0887"
             ],
             [
              0.1111111111111111,
              "#46039f"
             ],
             [
              0.2222222222222222,
              "#7201a8"
             ],
             [
              0.3333333333333333,
              "#9c179e"
             ],
             [
              0.4444444444444444,
              "#bd3786"
             ],
             [
              0.5555555555555556,
              "#d8576b"
             ],
             [
              0.6666666666666666,
              "#ed7953"
             ],
             [
              0.7777777777777778,
              "#fb9f3a"
             ],
             [
              0.8888888888888888,
              "#fdca26"
             ],
             [
              1,
              "#f0f921"
             ]
            ],
            "type": "heatmapgl"
           }
          ],
          "histogram": [
           {
            "marker": {
             "pattern": {
              "fillmode": "overlay",
              "size": 10,
              "solidity": 0.2
             }
            },
            "type": "histogram"
           }
          ],
          "histogram2d": [
           {
            "colorbar": {
             "outlinewidth": 0,
             "ticks": ""
            },
            "colorscale": [
             [
              0,
              "#0d0887"
             ],
             [
              0.1111111111111111,
              "#46039f"
             ],
             [
              0.2222222222222222,
              "#7201a8"
             ],
             [
              0.3333333333333333,
              "#9c179e"
             ],
             [
              0.4444444444444444,
              "#bd3786"
             ],
             [
              0.5555555555555556,
              "#d8576b"
             ],
             [
              0.6666666666666666,
              "#ed7953"
             ],
             [
              0.7777777777777778,
              "#fb9f3a"
             ],
             [
              0.8888888888888888,
              "#fdca26"
             ],
             [
              1,
              "#f0f921"
             ]
            ],
            "type": "histogram2d"
           }
          ],
          "histogram2dcontour": [
           {
            "colorbar": {
             "outlinewidth": 0,
             "ticks": ""
            },
            "colorscale": [
             [
              0,
              "#0d0887"
             ],
             [
              0.1111111111111111,
              "#46039f"
             ],
             [
              0.2222222222222222,
              "#7201a8"
             ],
             [
              0.3333333333333333,
              "#9c179e"
             ],
             [
              0.4444444444444444,
              "#bd3786"
             ],
             [
              0.5555555555555556,
              "#d8576b"
             ],
             [
              0.6666666666666666,
              "#ed7953"
             ],
             [
              0.7777777777777778,
              "#fb9f3a"
             ],
             [
              0.8888888888888888,
              "#fdca26"
             ],
             [
              1,
              "#f0f921"
             ]
            ],
            "type": "histogram2dcontour"
           }
          ],
          "mesh3d": [
           {
            "colorbar": {
             "outlinewidth": 0,
             "ticks": ""
            },
            "type": "mesh3d"
           }
          ],
          "parcoords": [
           {
            "line": {
             "colorbar": {
              "outlinewidth": 0,
              "ticks": ""
             }
            },
            "type": "parcoords"
           }
          ],
          "pie": [
           {
            "automargin": true,
            "type": "pie"
           }
          ],
          "scatter": [
           {
            "fillpattern": {
             "fillmode": "overlay",
             "size": 10,
             "solidity": 0.2
            },
            "type": "scatter"
           }
          ],
          "scatter3d": [
           {
            "line": {
             "colorbar": {
              "outlinewidth": 0,
              "ticks": ""
             }
            },
            "marker": {
             "colorbar": {
              "outlinewidth": 0,
              "ticks": ""
             }
            },
            "type": "scatter3d"
           }
          ],
          "scattercarpet": [
           {
            "marker": {
             "colorbar": {
              "outlinewidth": 0,
              "ticks": ""
             }
            },
            "type": "scattercarpet"
           }
          ],
          "scattergeo": [
           {
            "marker": {
             "colorbar": {
              "outlinewidth": 0,
              "ticks": ""
             }
            },
            "type": "scattergeo"
           }
          ],
          "scattergl": [
           {
            "marker": {
             "colorbar": {
              "outlinewidth": 0,
              "ticks": ""
             }
            },
            "type": "scattergl"
           }
          ],
          "scattermapbox": [
           {
            "marker": {
             "colorbar": {
              "outlinewidth": 0,
              "ticks": ""
             }
            },
            "type": "scattermapbox"
           }
          ],
          "scatterpolar": [
           {
            "marker": {
             "colorbar": {
              "outlinewidth": 0,
              "ticks": ""
             }
            },
            "type": "scatterpolar"
           }
          ],
          "scatterpolargl": [
           {
            "marker": {
             "colorbar": {
              "outlinewidth": 0,
              "ticks": ""
             }
            },
            "type": "scatterpolargl"
           }
          ],
          "scatterternary": [
           {
            "marker": {
             "colorbar": {
              "outlinewidth": 0,
              "ticks": ""
             }
            },
            "type": "scatterternary"
           }
          ],
          "surface": [
           {
            "colorbar": {
             "outlinewidth": 0,
             "ticks": ""
            },
            "colorscale": [
             [
              0,
              "#0d0887"
             ],
             [
              0.1111111111111111,
              "#46039f"
             ],
             [
              0.2222222222222222,
              "#7201a8"
             ],
             [
              0.3333333333333333,
              "#9c179e"
             ],
             [
              0.4444444444444444,
              "#bd3786"
             ],
             [
              0.5555555555555556,
              "#d8576b"
             ],
             [
              0.6666666666666666,
              "#ed7953"
             ],
             [
              0.7777777777777778,
              "#fb9f3a"
             ],
             [
              0.8888888888888888,
              "#fdca26"
             ],
             [
              1,
              "#f0f921"
             ]
            ],
            "type": "surface"
           }
          ],
          "table": [
           {
            "cells": {
             "fill": {
              "color": "#EBF0F8"
             },
             "line": {
              "color": "white"
             }
            },
            "header": {
             "fill": {
              "color": "#C8D4E3"
             },
             "line": {
              "color": "white"
             }
            },
            "type": "table"
           }
          ]
         },
         "layout": {
          "annotationdefaults": {
           "arrowcolor": "#2a3f5f",
           "arrowhead": 0,
           "arrowwidth": 1
          },
          "autotypenumbers": "strict",
          "coloraxis": {
           "colorbar": {
            "outlinewidth": 0,
            "ticks": ""
           }
          },
          "colorscale": {
           "diverging": [
            [
             0,
             "#8e0152"
            ],
            [
             0.1,
             "#c51b7d"
            ],
            [
             0.2,
             "#de77ae"
            ],
            [
             0.3,
             "#f1b6da"
            ],
            [
             0.4,
             "#fde0ef"
            ],
            [
             0.5,
             "#f7f7f7"
            ],
            [
             0.6,
             "#e6f5d0"
            ],
            [
             0.7,
             "#b8e186"
            ],
            [
             0.8,
             "#7fbc41"
            ],
            [
             0.9,
             "#4d9221"
            ],
            [
             1,
             "#276419"
            ]
           ],
           "sequential": [
            [
             0,
             "#0d0887"
            ],
            [
             0.1111111111111111,
             "#46039f"
            ],
            [
             0.2222222222222222,
             "#7201a8"
            ],
            [
             0.3333333333333333,
             "#9c179e"
            ],
            [
             0.4444444444444444,
             "#bd3786"
            ],
            [
             0.5555555555555556,
             "#d8576b"
            ],
            [
             0.6666666666666666,
             "#ed7953"
            ],
            [
             0.7777777777777778,
             "#fb9f3a"
            ],
            [
             0.8888888888888888,
             "#fdca26"
            ],
            [
             1,
             "#f0f921"
            ]
           ],
           "sequentialminus": [
            [
             0,
             "#0d0887"
            ],
            [
             0.1111111111111111,
             "#46039f"
            ],
            [
             0.2222222222222222,
             "#7201a8"
            ],
            [
             0.3333333333333333,
             "#9c179e"
            ],
            [
             0.4444444444444444,
             "#bd3786"
            ],
            [
             0.5555555555555556,
             "#d8576b"
            ],
            [
             0.6666666666666666,
             "#ed7953"
            ],
            [
             0.7777777777777778,
             "#fb9f3a"
            ],
            [
             0.8888888888888888,
             "#fdca26"
            ],
            [
             1,
             "#f0f921"
            ]
           ]
          },
          "colorway": [
           "#636efa",
           "#EF553B",
           "#00cc96",
           "#ab63fa",
           "#FFA15A",
           "#19d3f3",
           "#FF6692",
           "#B6E880",
           "#FF97FF",
           "#FECB52"
          ],
          "font": {
           "color": "#2a3f5f"
          },
          "geo": {
           "bgcolor": "white",
           "lakecolor": "white",
           "landcolor": "#E5ECF6",
           "showlakes": true,
           "showland": true,
           "subunitcolor": "white"
          },
          "hoverlabel": {
           "align": "left"
          },
          "hovermode": "closest",
          "mapbox": {
           "style": "light"
          },
          "paper_bgcolor": "white",
          "plot_bgcolor": "#E5ECF6",
          "polar": {
           "angularaxis": {
            "gridcolor": "white",
            "linecolor": "white",
            "ticks": ""
           },
           "bgcolor": "#E5ECF6",
           "radialaxis": {
            "gridcolor": "white",
            "linecolor": "white",
            "ticks": ""
           }
          },
          "scene": {
           "xaxis": {
            "backgroundcolor": "#E5ECF6",
            "gridcolor": "white",
            "gridwidth": 2,
            "linecolor": "white",
            "showbackground": true,
            "ticks": "",
            "zerolinecolor": "white"
           },
           "yaxis": {
            "backgroundcolor": "#E5ECF6",
            "gridcolor": "white",
            "gridwidth": 2,
            "linecolor": "white",
            "showbackground": true,
            "ticks": "",
            "zerolinecolor": "white"
           },
           "zaxis": {
            "backgroundcolor": "#E5ECF6",
            "gridcolor": "white",
            "gridwidth": 2,
            "linecolor": "white",
            "showbackground": true,
            "ticks": "",
            "zerolinecolor": "white"
           }
          },
          "shapedefaults": {
           "line": {
            "color": "#2a3f5f"
           }
          },
          "ternary": {
           "aaxis": {
            "gridcolor": "white",
            "linecolor": "white",
            "ticks": ""
           },
           "baxis": {
            "gridcolor": "white",
            "linecolor": "white",
            "ticks": ""
           },
           "bgcolor": "#E5ECF6",
           "caxis": {
            "gridcolor": "white",
            "linecolor": "white",
            "ticks": ""
           }
          },
          "title": {
           "x": 0.05
          },
          "xaxis": {
           "automargin": true,
           "gridcolor": "white",
           "linecolor": "white",
           "ticks": "",
           "title": {
            "standoff": 15
           },
           "zerolinecolor": "white",
           "zerolinewidth": 2
          },
          "yaxis": {
           "automargin": true,
           "gridcolor": "white",
           "linecolor": "white",
           "ticks": "",
           "title": {
            "standoff": 15
           },
           "zerolinecolor": "white",
           "zerolinewidth": 2
          }
         }
        }
       }
      }
     },
     "metadata": {},
     "output_type": "display_data"
    }
   ],
   "source": [
    "def plot_cluster_centers(n_clusters, clustering_model, times):\n",
    "    \n",
    "    fig = go.Figure()\n",
    "    \n",
    "    for i in range(n_clusters):\n",
    "\n",
    "        cluster_center = clustering_model.cluster_centers_[i]\n",
    "        \n",
    "        # line plot\n",
    "        fig.add_trace(\n",
    "            go.Scatter(\n",
    "                x=times, \n",
    "                y=cluster_center, \n",
    "                name=f'cluster {i}',\n",
    "                mode=\"lines+markers\"        \n",
    "            )\n",
    "        )\n",
    "        \n",
    "    return fig\n",
    "\n",
    "plot_cluster_centers(n_clusters, clustering_model, times[0]).show()"
   ]
  },
  {
   "cell_type": "code",
   "execution_count": 77,
   "metadata": {},
   "outputs": [
    {
     "name": "stdout",
     "output_type": "stream",
     "text": [
      "################ 0 ################\n"
     ]
    },
    {
     "data": {
      "application/vnd.plotly.v1+json": {
       "config": {
        "plotlyServerURL": "https://plot.ly"
       },
       "data": [
        {
         "mode": "lines+markers",
         "name": "Center",
         "type": "scatter",
         "x": [
          "2024-04-08T08:00:00.000000000",
          "2024-04-08T08:15:00.000000000",
          "2024-04-08T08:30:00.000000000",
          "2024-04-08T08:45:00.000000000",
          "2024-04-08T09:00:00.000000000",
          "2024-04-08T09:15:00.000000000",
          "2024-04-08T09:30:00.000000000",
          "2024-04-08T09:45:00.000000000",
          "2024-04-08T10:00:00.000000000",
          "2024-04-08T10:15:00.000000000",
          "2024-04-08T10:30:00.000000000",
          "2024-04-08T10:45:00.000000000",
          "2024-04-08T11:00:00.000000000",
          "2024-04-08T11:15:00.000000000",
          "2024-04-08T11:30:00.000000000",
          "2024-04-08T11:45:00.000000000",
          "2024-04-08T12:00:00.000000000",
          "2024-04-08T12:15:00.000000000",
          "2024-04-08T12:30:00.000000000",
          "2024-04-08T12:45:00.000000000",
          "2024-04-08T13:00:00.000000000",
          "2024-04-08T13:15:00.000000000",
          "2024-04-08T13:30:00.000000000",
          "2024-04-08T13:45:00.000000000",
          "2024-04-08T14:00:00.000000000",
          "2024-04-08T14:15:00.000000000",
          "2024-04-08T14:30:00.000000000",
          "2024-04-08T14:45:00.000000000",
          "2024-04-08T15:00:00.000000000",
          "2024-04-08T15:15:00.000000000",
          "2024-04-08T15:30:00.000000000",
          "2024-04-08T15:45:00.000000000",
          "2024-04-08T16:00:00.000000000",
          "2024-04-08T16:15:00.000000000",
          "2024-04-08T16:30:00.000000000",
          "2024-04-08T16:45:00.000000000",
          "2024-04-08T17:00:00.000000000",
          "2024-04-08T17:15:00.000000000",
          "2024-04-08T17:30:00.000000000",
          "2024-04-08T17:45:00.000000000",
          "2024-04-08T18:00:00.000000000",
          "2024-04-08T18:15:00.000000000",
          "2024-04-08T18:30:00.000000000",
          "2024-04-08T18:45:00.000000000",
          "2024-04-08T19:00:00.000000000",
          "2024-04-08T19:15:00.000000000",
          "2024-04-08T19:30:00.000000000",
          "2024-04-08T19:45:00.000000000",
          "2024-04-08T20:00:00.000000000"
         ],
         "y": [
          0.35135135135135154,
          1.4594594594594552,
          0.7837837837837855,
          0.16216216216216262,
          0.08108108108108109,
          0.16216216216216217,
          0.29729729729729726,
          0.2702702702702702,
          1.027027027027021,
          0.27027027027026973,
          0.08108108108108086,
          0.13513513513513503,
          1.6653345369377348e-16,
          0.16216216216216228,
          0.24324324324324187,
          0.16216216216216317,
          0.027027027027026307,
          0.08108108108108109,
          0.054054054054053946,
          0.10810810810810803,
          0.1621621621621625,
          0.648648648648648,
          1.7297297297297263,
          0.16216216216216273,
          -5.551115123125783e-17,
          0.10810810810810756,
          0.13513513513513514,
          0.108108108108108,
          0.18918918918919037,
          0.9189189189189184,
          0.4324324324324319,
          8.326672684688674e-17,
          0.6216216216216217,
          0.10810810810810817,
          0.16216216216216212,
          0.32432432432432434,
          0.7027027027027035,
          0.21621621621621623,
          0.02702702702702703,
          0.027027027027027056,
          2.7755575615628914e-17,
          2.7755575615628914e-17,
          0,
          0.10810810810810811,
          0.02702702702702703,
          0.16216216216216223,
          5.551115123125783e-17,
          0.054054054054054085,
          0.02702702702702707
         ]
        },
        {
         "mode": "lines+markers",
         "type": "scatter",
         "x": [
          "2024-04-08T08:00:00.000000000",
          "2024-04-08T08:15:00.000000000",
          "2024-04-08T08:30:00.000000000",
          "2024-04-08T08:45:00.000000000",
          "2024-04-08T09:00:00.000000000",
          "2024-04-08T09:15:00.000000000",
          "2024-04-08T09:30:00.000000000",
          "2024-04-08T09:45:00.000000000",
          "2024-04-08T10:00:00.000000000",
          "2024-04-08T10:15:00.000000000",
          "2024-04-08T10:30:00.000000000",
          "2024-04-08T10:45:00.000000000",
          "2024-04-08T11:00:00.000000000",
          "2024-04-08T11:15:00.000000000",
          "2024-04-08T11:30:00.000000000",
          "2024-04-08T11:45:00.000000000",
          "2024-04-08T12:00:00.000000000",
          "2024-04-08T12:15:00.000000000",
          "2024-04-08T12:30:00.000000000",
          "2024-04-08T12:45:00.000000000",
          "2024-04-08T13:00:00.000000000",
          "2024-04-08T13:15:00.000000000",
          "2024-04-08T13:30:00.000000000",
          "2024-04-08T13:45:00.000000000",
          "2024-04-08T14:00:00.000000000",
          "2024-04-08T14:15:00.000000000",
          "2024-04-08T14:30:00.000000000",
          "2024-04-08T14:45:00.000000000",
          "2024-04-08T15:00:00.000000000",
          "2024-04-08T15:15:00.000000000",
          "2024-04-08T15:30:00.000000000",
          "2024-04-08T15:45:00.000000000",
          "2024-04-08T16:00:00.000000000",
          "2024-04-08T16:15:00.000000000",
          "2024-04-08T16:30:00.000000000",
          "2024-04-08T16:45:00.000000000",
          "2024-04-08T17:00:00.000000000",
          "2024-04-08T17:15:00.000000000",
          "2024-04-08T17:30:00.000000000",
          "2024-04-08T17:45:00.000000000",
          "2024-04-08T18:00:00.000000000",
          "2024-04-08T18:15:00.000000000",
          "2024-04-08T18:30:00.000000000",
          "2024-04-08T18:45:00.000000000",
          "2024-04-08T19:00:00.000000000",
          "2024-04-08T19:15:00.000000000",
          "2024-04-08T19:30:00.000000000",
          "2024-04-08T19:45:00.000000000",
          "2024-04-08T20:00:00.000000000"
         ],
         "y": [
          0,
          0,
          0,
          0,
          0,
          0,
          0,
          0,
          0,
          0,
          0,
          0,
          0,
          0,
          0,
          0,
          0,
          0,
          0,
          0,
          0,
          0,
          0,
          0,
          0,
          0,
          0,
          0,
          0,
          0,
          0,
          0,
          0,
          0,
          0,
          0,
          0,
          0,
          0,
          0,
          0,
          0,
          0,
          0,
          0,
          0,
          0,
          0,
          0
         ]
        },
        {
         "mode": "lines+markers",
         "type": "scatter",
         "x": [
          "2024-04-08T08:00:00.000000000",
          "2024-04-08T08:15:00.000000000",
          "2024-04-08T08:30:00.000000000",
          "2024-04-08T08:45:00.000000000",
          "2024-04-08T09:00:00.000000000",
          "2024-04-08T09:15:00.000000000",
          "2024-04-08T09:30:00.000000000",
          "2024-04-08T09:45:00.000000000",
          "2024-04-08T10:00:00.000000000",
          "2024-04-08T10:15:00.000000000",
          "2024-04-08T10:30:00.000000000",
          "2024-04-08T10:45:00.000000000",
          "2024-04-08T11:00:00.000000000",
          "2024-04-08T11:15:00.000000000",
          "2024-04-08T11:30:00.000000000",
          "2024-04-08T11:45:00.000000000",
          "2024-04-08T12:00:00.000000000",
          "2024-04-08T12:15:00.000000000",
          "2024-04-08T12:30:00.000000000",
          "2024-04-08T12:45:00.000000000",
          "2024-04-08T13:00:00.000000000",
          "2024-04-08T13:15:00.000000000",
          "2024-04-08T13:30:00.000000000",
          "2024-04-08T13:45:00.000000000",
          "2024-04-08T14:00:00.000000000",
          "2024-04-08T14:15:00.000000000",
          "2024-04-08T14:30:00.000000000",
          "2024-04-08T14:45:00.000000000",
          "2024-04-08T15:00:00.000000000",
          "2024-04-08T15:15:00.000000000",
          "2024-04-08T15:30:00.000000000",
          "2024-04-08T15:45:00.000000000",
          "2024-04-08T16:00:00.000000000",
          "2024-04-08T16:15:00.000000000",
          "2024-04-08T16:30:00.000000000",
          "2024-04-08T16:45:00.000000000",
          "2024-04-08T17:00:00.000000000",
          "2024-04-08T17:15:00.000000000",
          "2024-04-08T17:30:00.000000000",
          "2024-04-08T17:45:00.000000000",
          "2024-04-08T18:00:00.000000000",
          "2024-04-08T18:15:00.000000000",
          "2024-04-08T18:30:00.000000000",
          "2024-04-08T18:45:00.000000000",
          "2024-04-08T19:00:00.000000000",
          "2024-04-08T19:15:00.000000000",
          "2024-04-08T19:30:00.000000000",
          "2024-04-08T19:45:00.000000000",
          "2024-04-08T20:00:00.000000000"
         ],
         "y": [
          0,
          0,
          0,
          0,
          0,
          0,
          0,
          0,
          0,
          0,
          0,
          0,
          0,
          0,
          0,
          0,
          0,
          0,
          0,
          0,
          0,
          0,
          0,
          0,
          0,
          0,
          0,
          0,
          0,
          0,
          0,
          0,
          0,
          0,
          0,
          0,
          0,
          0,
          0,
          0,
          0,
          0,
          0,
          0,
          0,
          0,
          0,
          0,
          0
         ]
        },
        {
         "mode": "lines+markers",
         "type": "scatter",
         "x": [
          "2024-04-08T08:00:00.000000000",
          "2024-04-08T08:15:00.000000000",
          "2024-04-08T08:30:00.000000000",
          "2024-04-08T08:45:00.000000000",
          "2024-04-08T09:00:00.000000000",
          "2024-04-08T09:15:00.000000000",
          "2024-04-08T09:30:00.000000000",
          "2024-04-08T09:45:00.000000000",
          "2024-04-08T10:00:00.000000000",
          "2024-04-08T10:15:00.000000000",
          "2024-04-08T10:30:00.000000000",
          "2024-04-08T10:45:00.000000000",
          "2024-04-08T11:00:00.000000000",
          "2024-04-08T11:15:00.000000000",
          "2024-04-08T11:30:00.000000000",
          "2024-04-08T11:45:00.000000000",
          "2024-04-08T12:00:00.000000000",
          "2024-04-08T12:15:00.000000000",
          "2024-04-08T12:30:00.000000000",
          "2024-04-08T12:45:00.000000000",
          "2024-04-08T13:00:00.000000000",
          "2024-04-08T13:15:00.000000000",
          "2024-04-08T13:30:00.000000000",
          "2024-04-08T13:45:00.000000000",
          "2024-04-08T14:00:00.000000000",
          "2024-04-08T14:15:00.000000000",
          "2024-04-08T14:30:00.000000000",
          "2024-04-08T14:45:00.000000000",
          "2024-04-08T15:00:00.000000000",
          "2024-04-08T15:15:00.000000000",
          "2024-04-08T15:30:00.000000000",
          "2024-04-08T15:45:00.000000000",
          "2024-04-08T16:00:00.000000000",
          "2024-04-08T16:15:00.000000000",
          "2024-04-08T16:30:00.000000000",
          "2024-04-08T16:45:00.000000000",
          "2024-04-08T17:00:00.000000000",
          "2024-04-08T17:15:00.000000000",
          "2024-04-08T17:30:00.000000000",
          "2024-04-08T17:45:00.000000000",
          "2024-04-08T18:00:00.000000000",
          "2024-04-08T18:15:00.000000000",
          "2024-04-08T18:30:00.000000000",
          "2024-04-08T18:45:00.000000000",
          "2024-04-08T19:00:00.000000000",
          "2024-04-08T19:15:00.000000000",
          "2024-04-08T19:30:00.000000000",
          "2024-04-08T19:45:00.000000000",
          "2024-04-08T20:00:00.000000000"
         ],
         "y": [
          0,
          0,
          0,
          0,
          0,
          0,
          0,
          0,
          0,
          0,
          0,
          0,
          0,
          0,
          0,
          0,
          0,
          0,
          0,
          0,
          0,
          0,
          0,
          0,
          0,
          0,
          0,
          0,
          0,
          0,
          0,
          0,
          0,
          0,
          0,
          0,
          0,
          0,
          0,
          0,
          0,
          0,
          0,
          0,
          0,
          0,
          0,
          0,
          0
         ]
        },
        {
         "mode": "lines+markers",
         "type": "scatter",
         "x": [
          "2024-04-08T08:00:00.000000000",
          "2024-04-08T08:15:00.000000000",
          "2024-04-08T08:30:00.000000000",
          "2024-04-08T08:45:00.000000000",
          "2024-04-08T09:00:00.000000000",
          "2024-04-08T09:15:00.000000000",
          "2024-04-08T09:30:00.000000000",
          "2024-04-08T09:45:00.000000000",
          "2024-04-08T10:00:00.000000000",
          "2024-04-08T10:15:00.000000000",
          "2024-04-08T10:30:00.000000000",
          "2024-04-08T10:45:00.000000000",
          "2024-04-08T11:00:00.000000000",
          "2024-04-08T11:15:00.000000000",
          "2024-04-08T11:30:00.000000000",
          "2024-04-08T11:45:00.000000000",
          "2024-04-08T12:00:00.000000000",
          "2024-04-08T12:15:00.000000000",
          "2024-04-08T12:30:00.000000000",
          "2024-04-08T12:45:00.000000000",
          "2024-04-08T13:00:00.000000000",
          "2024-04-08T13:15:00.000000000",
          "2024-04-08T13:30:00.000000000",
          "2024-04-08T13:45:00.000000000",
          "2024-04-08T14:00:00.000000000",
          "2024-04-08T14:15:00.000000000",
          "2024-04-08T14:30:00.000000000",
          "2024-04-08T14:45:00.000000000",
          "2024-04-08T15:00:00.000000000",
          "2024-04-08T15:15:00.000000000",
          "2024-04-08T15:30:00.000000000",
          "2024-04-08T15:45:00.000000000",
          "2024-04-08T16:00:00.000000000",
          "2024-04-08T16:15:00.000000000",
          "2024-04-08T16:30:00.000000000",
          "2024-04-08T16:45:00.000000000",
          "2024-04-08T17:00:00.000000000",
          "2024-04-08T17:15:00.000000000",
          "2024-04-08T17:30:00.000000000",
          "2024-04-08T17:45:00.000000000",
          "2024-04-08T18:00:00.000000000",
          "2024-04-08T18:15:00.000000000",
          "2024-04-08T18:30:00.000000000",
          "2024-04-08T18:45:00.000000000",
          "2024-04-08T19:00:00.000000000",
          "2024-04-08T19:15:00.000000000",
          "2024-04-08T19:30:00.000000000",
          "2024-04-08T19:45:00.000000000",
          "2024-04-08T20:00:00.000000000"
         ],
         "y": [
          0,
          0,
          0,
          0,
          0,
          0,
          0,
          0,
          0,
          0,
          0,
          0,
          0,
          0,
          0,
          0,
          0,
          0,
          0,
          0,
          0,
          0,
          0,
          0,
          0,
          0,
          0,
          0,
          0,
          0,
          0,
          0,
          0,
          0,
          0,
          0,
          0,
          0,
          0,
          0,
          0,
          0,
          0,
          0,
          0,
          0,
          0,
          0,
          0
         ]
        },
        {
         "mode": "lines+markers",
         "type": "scatter",
         "x": [
          "2024-04-08T08:00:00.000000000",
          "2024-04-08T08:15:00.000000000",
          "2024-04-08T08:30:00.000000000",
          "2024-04-08T08:45:00.000000000",
          "2024-04-08T09:00:00.000000000",
          "2024-04-08T09:15:00.000000000",
          "2024-04-08T09:30:00.000000000",
          "2024-04-08T09:45:00.000000000",
          "2024-04-08T10:00:00.000000000",
          "2024-04-08T10:15:00.000000000",
          "2024-04-08T10:30:00.000000000",
          "2024-04-08T10:45:00.000000000",
          "2024-04-08T11:00:00.000000000",
          "2024-04-08T11:15:00.000000000",
          "2024-04-08T11:30:00.000000000",
          "2024-04-08T11:45:00.000000000",
          "2024-04-08T12:00:00.000000000",
          "2024-04-08T12:15:00.000000000",
          "2024-04-08T12:30:00.000000000",
          "2024-04-08T12:45:00.000000000",
          "2024-04-08T13:00:00.000000000",
          "2024-04-08T13:15:00.000000000",
          "2024-04-08T13:30:00.000000000",
          "2024-04-08T13:45:00.000000000",
          "2024-04-08T14:00:00.000000000",
          "2024-04-08T14:15:00.000000000",
          "2024-04-08T14:30:00.000000000",
          "2024-04-08T14:45:00.000000000",
          "2024-04-08T15:00:00.000000000",
          "2024-04-08T15:15:00.000000000",
          "2024-04-08T15:30:00.000000000",
          "2024-04-08T15:45:00.000000000",
          "2024-04-08T16:00:00.000000000",
          "2024-04-08T16:15:00.000000000",
          "2024-04-08T16:30:00.000000000",
          "2024-04-08T16:45:00.000000000",
          "2024-04-08T17:00:00.000000000",
          "2024-04-08T17:15:00.000000000",
          "2024-04-08T17:30:00.000000000",
          "2024-04-08T17:45:00.000000000",
          "2024-04-08T18:00:00.000000000",
          "2024-04-08T18:15:00.000000000",
          "2024-04-08T18:30:00.000000000",
          "2024-04-08T18:45:00.000000000",
          "2024-04-08T19:00:00.000000000",
          "2024-04-08T19:15:00.000000000",
          "2024-04-08T19:30:00.000000000",
          "2024-04-08T19:45:00.000000000",
          "2024-04-08T20:00:00.000000000"
         ],
         "y": [
          0,
          0,
          0,
          0,
          0,
          0,
          0,
          0,
          0,
          0,
          0,
          0,
          0,
          0,
          0,
          0,
          0,
          0,
          0,
          0,
          0,
          0,
          0,
          0,
          0,
          0,
          0,
          0,
          0,
          0,
          0,
          0,
          0,
          0,
          0,
          0,
          0,
          0,
          0,
          0,
          0,
          0,
          0,
          0,
          0,
          0,
          0,
          0,
          0
         ]
        },
        {
         "mode": "lines+markers",
         "type": "scatter",
         "x": [
          "2024-04-08T08:00:00.000000000",
          "2024-04-08T08:15:00.000000000",
          "2024-04-08T08:30:00.000000000",
          "2024-04-08T08:45:00.000000000",
          "2024-04-08T09:00:00.000000000",
          "2024-04-08T09:15:00.000000000",
          "2024-04-08T09:30:00.000000000",
          "2024-04-08T09:45:00.000000000",
          "2024-04-08T10:00:00.000000000",
          "2024-04-08T10:15:00.000000000",
          "2024-04-08T10:30:00.000000000",
          "2024-04-08T10:45:00.000000000",
          "2024-04-08T11:00:00.000000000",
          "2024-04-08T11:15:00.000000000",
          "2024-04-08T11:30:00.000000000",
          "2024-04-08T11:45:00.000000000",
          "2024-04-08T12:00:00.000000000",
          "2024-04-08T12:15:00.000000000",
          "2024-04-08T12:30:00.000000000",
          "2024-04-08T12:45:00.000000000",
          "2024-04-08T13:00:00.000000000",
          "2024-04-08T13:15:00.000000000",
          "2024-04-08T13:30:00.000000000",
          "2024-04-08T13:45:00.000000000",
          "2024-04-08T14:00:00.000000000",
          "2024-04-08T14:15:00.000000000",
          "2024-04-08T14:30:00.000000000",
          "2024-04-08T14:45:00.000000000",
          "2024-04-08T15:00:00.000000000",
          "2024-04-08T15:15:00.000000000",
          "2024-04-08T15:30:00.000000000",
          "2024-04-08T15:45:00.000000000",
          "2024-04-08T16:00:00.000000000",
          "2024-04-08T16:15:00.000000000",
          "2024-04-08T16:30:00.000000000",
          "2024-04-08T16:45:00.000000000",
          "2024-04-08T17:00:00.000000000",
          "2024-04-08T17:15:00.000000000",
          "2024-04-08T17:30:00.000000000",
          "2024-04-08T17:45:00.000000000",
          "2024-04-08T18:00:00.000000000",
          "2024-04-08T18:15:00.000000000",
          "2024-04-08T18:30:00.000000000",
          "2024-04-08T18:45:00.000000000",
          "2024-04-08T19:00:00.000000000",
          "2024-04-08T19:15:00.000000000",
          "2024-04-08T19:30:00.000000000",
          "2024-04-08T19:45:00.000000000",
          "2024-04-08T20:00:00.000000000"
         ],
         "y": [
          0,
          0,
          0,
          0,
          0,
          0,
          0,
          0,
          0,
          0,
          0,
          0,
          0,
          0,
          0,
          0,
          0,
          0,
          0,
          0,
          0,
          0,
          0,
          0,
          0,
          0,
          0,
          0,
          0,
          0,
          0,
          0,
          0,
          0,
          0,
          0,
          0,
          0,
          0,
          0,
          0,
          0,
          0,
          0,
          0,
          0,
          0,
          0,
          0
         ]
        },
        {
         "mode": "lines+markers",
         "type": "scatter",
         "x": [
          "2024-04-08T08:00:00.000000000",
          "2024-04-08T08:15:00.000000000",
          "2024-04-08T08:30:00.000000000",
          "2024-04-08T08:45:00.000000000",
          "2024-04-08T09:00:00.000000000",
          "2024-04-08T09:15:00.000000000",
          "2024-04-08T09:30:00.000000000",
          "2024-04-08T09:45:00.000000000",
          "2024-04-08T10:00:00.000000000",
          "2024-04-08T10:15:00.000000000",
          "2024-04-08T10:30:00.000000000",
          "2024-04-08T10:45:00.000000000",
          "2024-04-08T11:00:00.000000000",
          "2024-04-08T11:15:00.000000000",
          "2024-04-08T11:30:00.000000000",
          "2024-04-08T11:45:00.000000000",
          "2024-04-08T12:00:00.000000000",
          "2024-04-08T12:15:00.000000000",
          "2024-04-08T12:30:00.000000000",
          "2024-04-08T12:45:00.000000000",
          "2024-04-08T13:00:00.000000000",
          "2024-04-08T13:15:00.000000000",
          "2024-04-08T13:30:00.000000000",
          "2024-04-08T13:45:00.000000000",
          "2024-04-08T14:00:00.000000000",
          "2024-04-08T14:15:00.000000000",
          "2024-04-08T14:30:00.000000000",
          "2024-04-08T14:45:00.000000000",
          "2024-04-08T15:00:00.000000000",
          "2024-04-08T15:15:00.000000000",
          "2024-04-08T15:30:00.000000000",
          "2024-04-08T15:45:00.000000000",
          "2024-04-08T16:00:00.000000000",
          "2024-04-08T16:15:00.000000000",
          "2024-04-08T16:30:00.000000000",
          "2024-04-08T16:45:00.000000000",
          "2024-04-08T17:00:00.000000000",
          "2024-04-08T17:15:00.000000000",
          "2024-04-08T17:30:00.000000000",
          "2024-04-08T17:45:00.000000000",
          "2024-04-08T18:00:00.000000000",
          "2024-04-08T18:15:00.000000000",
          "2024-04-08T18:30:00.000000000",
          "2024-04-08T18:45:00.000000000",
          "2024-04-08T19:00:00.000000000",
          "2024-04-08T19:15:00.000000000",
          "2024-04-08T19:30:00.000000000",
          "2024-04-08T19:45:00.000000000",
          "2024-04-08T20:00:00.000000000"
         ],
         "y": [
          2,
          10,
          4,
          1,
          0,
          2,
          0,
          0,
          10,
          3,
          0,
          0,
          0,
          3,
          6,
          1,
          1,
          0,
          2,
          1,
          1,
          2,
          2,
          0,
          0,
          1,
          4,
          1,
          0,
          1,
          0,
          0,
          1,
          2,
          3,
          12,
          16,
          3,
          1,
          1,
          0,
          0,
          0,
          0,
          0,
          0,
          0,
          0,
          0
         ]
        },
        {
         "mode": "lines+markers",
         "type": "scatter",
         "x": [
          "2024-04-08T08:00:00.000000000",
          "2024-04-08T08:15:00.000000000",
          "2024-04-08T08:30:00.000000000",
          "2024-04-08T08:45:00.000000000",
          "2024-04-08T09:00:00.000000000",
          "2024-04-08T09:15:00.000000000",
          "2024-04-08T09:30:00.000000000",
          "2024-04-08T09:45:00.000000000",
          "2024-04-08T10:00:00.000000000",
          "2024-04-08T10:15:00.000000000",
          "2024-04-08T10:30:00.000000000",
          "2024-04-08T10:45:00.000000000",
          "2024-04-08T11:00:00.000000000",
          "2024-04-08T11:15:00.000000000",
          "2024-04-08T11:30:00.000000000",
          "2024-04-08T11:45:00.000000000",
          "2024-04-08T12:00:00.000000000",
          "2024-04-08T12:15:00.000000000",
          "2024-04-08T12:30:00.000000000",
          "2024-04-08T12:45:00.000000000",
          "2024-04-08T13:00:00.000000000",
          "2024-04-08T13:15:00.000000000",
          "2024-04-08T13:30:00.000000000",
          "2024-04-08T13:45:00.000000000",
          "2024-04-08T14:00:00.000000000",
          "2024-04-08T14:15:00.000000000",
          "2024-04-08T14:30:00.000000000",
          "2024-04-08T14:45:00.000000000",
          "2024-04-08T15:00:00.000000000",
          "2024-04-08T15:15:00.000000000",
          "2024-04-08T15:30:00.000000000",
          "2024-04-08T15:45:00.000000000",
          "2024-04-08T16:00:00.000000000",
          "2024-04-08T16:15:00.000000000",
          "2024-04-08T16:30:00.000000000",
          "2024-04-08T16:45:00.000000000",
          "2024-04-08T17:00:00.000000000",
          "2024-04-08T17:15:00.000000000",
          "2024-04-08T17:30:00.000000000",
          "2024-04-08T17:45:00.000000000",
          "2024-04-08T18:00:00.000000000",
          "2024-04-08T18:15:00.000000000",
          "2024-04-08T18:30:00.000000000",
          "2024-04-08T18:45:00.000000000",
          "2024-04-08T19:00:00.000000000",
          "2024-04-08T19:15:00.000000000",
          "2024-04-08T19:30:00.000000000",
          "2024-04-08T19:45:00.000000000",
          "2024-04-08T20:00:00.000000000"
         ],
         "y": [
          0,
          0,
          0,
          0,
          0,
          0,
          0,
          0,
          0,
          0,
          0,
          0,
          0,
          0,
          0,
          0,
          0,
          0,
          0,
          0,
          0,
          0,
          0,
          0,
          0,
          0,
          0,
          0,
          0,
          0,
          0,
          0,
          0,
          0,
          0,
          0,
          0,
          0,
          0,
          0,
          0,
          0,
          0,
          0,
          0,
          0,
          0,
          0,
          0
         ]
        },
        {
         "mode": "lines+markers",
         "type": "scatter",
         "x": [
          "2024-04-08T08:00:00.000000000",
          "2024-04-08T08:15:00.000000000",
          "2024-04-08T08:30:00.000000000",
          "2024-04-08T08:45:00.000000000",
          "2024-04-08T09:00:00.000000000",
          "2024-04-08T09:15:00.000000000",
          "2024-04-08T09:30:00.000000000",
          "2024-04-08T09:45:00.000000000",
          "2024-04-08T10:00:00.000000000",
          "2024-04-08T10:15:00.000000000",
          "2024-04-08T10:30:00.000000000",
          "2024-04-08T10:45:00.000000000",
          "2024-04-08T11:00:00.000000000",
          "2024-04-08T11:15:00.000000000",
          "2024-04-08T11:30:00.000000000",
          "2024-04-08T11:45:00.000000000",
          "2024-04-08T12:00:00.000000000",
          "2024-04-08T12:15:00.000000000",
          "2024-04-08T12:30:00.000000000",
          "2024-04-08T12:45:00.000000000",
          "2024-04-08T13:00:00.000000000",
          "2024-04-08T13:15:00.000000000",
          "2024-04-08T13:30:00.000000000",
          "2024-04-08T13:45:00.000000000",
          "2024-04-08T14:00:00.000000000",
          "2024-04-08T14:15:00.000000000",
          "2024-04-08T14:30:00.000000000",
          "2024-04-08T14:45:00.000000000",
          "2024-04-08T15:00:00.000000000",
          "2024-04-08T15:15:00.000000000",
          "2024-04-08T15:30:00.000000000",
          "2024-04-08T15:45:00.000000000",
          "2024-04-08T16:00:00.000000000",
          "2024-04-08T16:15:00.000000000",
          "2024-04-08T16:30:00.000000000",
          "2024-04-08T16:45:00.000000000",
          "2024-04-08T17:00:00.000000000",
          "2024-04-08T17:15:00.000000000",
          "2024-04-08T17:30:00.000000000",
          "2024-04-08T17:45:00.000000000",
          "2024-04-08T18:00:00.000000000",
          "2024-04-08T18:15:00.000000000",
          "2024-04-08T18:30:00.000000000",
          "2024-04-08T18:45:00.000000000",
          "2024-04-08T19:00:00.000000000",
          "2024-04-08T19:15:00.000000000",
          "2024-04-08T19:30:00.000000000",
          "2024-04-08T19:45:00.000000000",
          "2024-04-08T20:00:00.000000000"
         ],
         "y": [
          0,
          0,
          0,
          0,
          0,
          0,
          0,
          0,
          0,
          0,
          0,
          0,
          0,
          0,
          0,
          0,
          0,
          0,
          0,
          0,
          0,
          0,
          0,
          0,
          0,
          0,
          0,
          0,
          0,
          0,
          0,
          0,
          0,
          0,
          0,
          0,
          0,
          0,
          0,
          0,
          0,
          0,
          0,
          0,
          0,
          0,
          0,
          0,
          0
         ]
        },
        {
         "mode": "lines+markers",
         "type": "scatter",
         "x": [
          "2024-04-08T08:00:00.000000000",
          "2024-04-08T08:15:00.000000000",
          "2024-04-08T08:30:00.000000000",
          "2024-04-08T08:45:00.000000000",
          "2024-04-08T09:00:00.000000000",
          "2024-04-08T09:15:00.000000000",
          "2024-04-08T09:30:00.000000000",
          "2024-04-08T09:45:00.000000000",
          "2024-04-08T10:00:00.000000000",
          "2024-04-08T10:15:00.000000000",
          "2024-04-08T10:30:00.000000000",
          "2024-04-08T10:45:00.000000000",
          "2024-04-08T11:00:00.000000000",
          "2024-04-08T11:15:00.000000000",
          "2024-04-08T11:30:00.000000000",
          "2024-04-08T11:45:00.000000000",
          "2024-04-08T12:00:00.000000000",
          "2024-04-08T12:15:00.000000000",
          "2024-04-08T12:30:00.000000000",
          "2024-04-08T12:45:00.000000000",
          "2024-04-08T13:00:00.000000000",
          "2024-04-08T13:15:00.000000000",
          "2024-04-08T13:30:00.000000000",
          "2024-04-08T13:45:00.000000000",
          "2024-04-08T14:00:00.000000000",
          "2024-04-08T14:15:00.000000000",
          "2024-04-08T14:30:00.000000000",
          "2024-04-08T14:45:00.000000000",
          "2024-04-08T15:00:00.000000000",
          "2024-04-08T15:15:00.000000000",
          "2024-04-08T15:30:00.000000000",
          "2024-04-08T15:45:00.000000000",
          "2024-04-08T16:00:00.000000000",
          "2024-04-08T16:15:00.000000000",
          "2024-04-08T16:30:00.000000000",
          "2024-04-08T16:45:00.000000000",
          "2024-04-08T17:00:00.000000000",
          "2024-04-08T17:15:00.000000000",
          "2024-04-08T17:30:00.000000000",
          "2024-04-08T17:45:00.000000000",
          "2024-04-08T18:00:00.000000000",
          "2024-04-08T18:15:00.000000000",
          "2024-04-08T18:30:00.000000000",
          "2024-04-08T18:45:00.000000000",
          "2024-04-08T19:00:00.000000000",
          "2024-04-08T19:15:00.000000000",
          "2024-04-08T19:30:00.000000000",
          "2024-04-08T19:45:00.000000000",
          "2024-04-08T20:00:00.000000000"
         ],
         "y": [
          1,
          7,
          0,
          1,
          0,
          1,
          0,
          3,
          3,
          1,
          1,
          3,
          0,
          0,
          0,
          0,
          0,
          0,
          0,
          0,
          0,
          2,
          15,
          0,
          0,
          0,
          1,
          0,
          3,
          17,
          1,
          0,
          3,
          1,
          1,
          0,
          5,
          3,
          0,
          0,
          0,
          0,
          0,
          1,
          0,
          0,
          0,
          0,
          0
         ]
        },
        {
         "mode": "lines+markers",
         "type": "scatter",
         "x": [
          "2024-04-08T08:00:00.000000000",
          "2024-04-08T08:15:00.000000000",
          "2024-04-08T08:30:00.000000000",
          "2024-04-08T08:45:00.000000000",
          "2024-04-08T09:00:00.000000000",
          "2024-04-08T09:15:00.000000000",
          "2024-04-08T09:30:00.000000000",
          "2024-04-08T09:45:00.000000000",
          "2024-04-08T10:00:00.000000000",
          "2024-04-08T10:15:00.000000000",
          "2024-04-08T10:30:00.000000000",
          "2024-04-08T10:45:00.000000000",
          "2024-04-08T11:00:00.000000000",
          "2024-04-08T11:15:00.000000000",
          "2024-04-08T11:30:00.000000000",
          "2024-04-08T11:45:00.000000000",
          "2024-04-08T12:00:00.000000000",
          "2024-04-08T12:15:00.000000000",
          "2024-04-08T12:30:00.000000000",
          "2024-04-08T12:45:00.000000000",
          "2024-04-08T13:00:00.000000000",
          "2024-04-08T13:15:00.000000000",
          "2024-04-08T13:30:00.000000000",
          "2024-04-08T13:45:00.000000000",
          "2024-04-08T14:00:00.000000000",
          "2024-04-08T14:15:00.000000000",
          "2024-04-08T14:30:00.000000000",
          "2024-04-08T14:45:00.000000000",
          "2024-04-08T15:00:00.000000000",
          "2024-04-08T15:15:00.000000000",
          "2024-04-08T15:30:00.000000000",
          "2024-04-08T15:45:00.000000000",
          "2024-04-08T16:00:00.000000000",
          "2024-04-08T16:15:00.000000000",
          "2024-04-08T16:30:00.000000000",
          "2024-04-08T16:45:00.000000000",
          "2024-04-08T17:00:00.000000000",
          "2024-04-08T17:15:00.000000000",
          "2024-04-08T17:30:00.000000000",
          "2024-04-08T17:45:00.000000000",
          "2024-04-08T18:00:00.000000000",
          "2024-04-08T18:15:00.000000000",
          "2024-04-08T18:30:00.000000000",
          "2024-04-08T18:45:00.000000000",
          "2024-04-08T19:00:00.000000000",
          "2024-04-08T19:15:00.000000000",
          "2024-04-08T19:30:00.000000000",
          "2024-04-08T19:45:00.000000000",
          "2024-04-08T20:00:00.000000000"
         ],
         "y": [
          0,
          0,
          0,
          0,
          0,
          0,
          0,
          0,
          0,
          0,
          0,
          0,
          0,
          0,
          0,
          0,
          0,
          0,
          0,
          0,
          0,
          0,
          0,
          0,
          0,
          0,
          0,
          0,
          0,
          0,
          0,
          0,
          0,
          0,
          0,
          0,
          0,
          0,
          0,
          0,
          0,
          0,
          0,
          0,
          0,
          0,
          0,
          0,
          0
         ]
        },
        {
         "mode": "lines+markers",
         "type": "scatter",
         "x": [
          "2024-04-08T08:00:00.000000000",
          "2024-04-08T08:15:00.000000000",
          "2024-04-08T08:30:00.000000000",
          "2024-04-08T08:45:00.000000000",
          "2024-04-08T09:00:00.000000000",
          "2024-04-08T09:15:00.000000000",
          "2024-04-08T09:30:00.000000000",
          "2024-04-08T09:45:00.000000000",
          "2024-04-08T10:00:00.000000000",
          "2024-04-08T10:15:00.000000000",
          "2024-04-08T10:30:00.000000000",
          "2024-04-08T10:45:00.000000000",
          "2024-04-08T11:00:00.000000000",
          "2024-04-08T11:15:00.000000000",
          "2024-04-08T11:30:00.000000000",
          "2024-04-08T11:45:00.000000000",
          "2024-04-08T12:00:00.000000000",
          "2024-04-08T12:15:00.000000000",
          "2024-04-08T12:30:00.000000000",
          "2024-04-08T12:45:00.000000000",
          "2024-04-08T13:00:00.000000000",
          "2024-04-08T13:15:00.000000000",
          "2024-04-08T13:30:00.000000000",
          "2024-04-08T13:45:00.000000000",
          "2024-04-08T14:00:00.000000000",
          "2024-04-08T14:15:00.000000000",
          "2024-04-08T14:30:00.000000000",
          "2024-04-08T14:45:00.000000000",
          "2024-04-08T15:00:00.000000000",
          "2024-04-08T15:15:00.000000000",
          "2024-04-08T15:30:00.000000000",
          "2024-04-08T15:45:00.000000000",
          "2024-04-08T16:00:00.000000000",
          "2024-04-08T16:15:00.000000000",
          "2024-04-08T16:30:00.000000000",
          "2024-04-08T16:45:00.000000000",
          "2024-04-08T17:00:00.000000000",
          "2024-04-08T17:15:00.000000000",
          "2024-04-08T17:30:00.000000000",
          "2024-04-08T17:45:00.000000000",
          "2024-04-08T18:00:00.000000000",
          "2024-04-08T18:15:00.000000000",
          "2024-04-08T18:30:00.000000000",
          "2024-04-08T18:45:00.000000000",
          "2024-04-08T19:00:00.000000000",
          "2024-04-08T19:15:00.000000000",
          "2024-04-08T19:30:00.000000000",
          "2024-04-08T19:45:00.000000000",
          "2024-04-08T20:00:00.000000000"
         ],
         "y": [
          0,
          0,
          2,
          0,
          0,
          0,
          0,
          0,
          0,
          0,
          0,
          0,
          0,
          0,
          0,
          0,
          0,
          0,
          0,
          0,
          0,
          0,
          0,
          0,
          0,
          0,
          0,
          0,
          0,
          0,
          0,
          0,
          0,
          0,
          0,
          0,
          0,
          0,
          0,
          0,
          0,
          0,
          0,
          1,
          0,
          0,
          0,
          0,
          0
         ]
        },
        {
         "mode": "lines+markers",
         "type": "scatter",
         "x": [
          "2024-04-08T08:00:00.000000000",
          "2024-04-08T08:15:00.000000000",
          "2024-04-08T08:30:00.000000000",
          "2024-04-08T08:45:00.000000000",
          "2024-04-08T09:00:00.000000000",
          "2024-04-08T09:15:00.000000000",
          "2024-04-08T09:30:00.000000000",
          "2024-04-08T09:45:00.000000000",
          "2024-04-08T10:00:00.000000000",
          "2024-04-08T10:15:00.000000000",
          "2024-04-08T10:30:00.000000000",
          "2024-04-08T10:45:00.000000000",
          "2024-04-08T11:00:00.000000000",
          "2024-04-08T11:15:00.000000000",
          "2024-04-08T11:30:00.000000000",
          "2024-04-08T11:45:00.000000000",
          "2024-04-08T12:00:00.000000000",
          "2024-04-08T12:15:00.000000000",
          "2024-04-08T12:30:00.000000000",
          "2024-04-08T12:45:00.000000000",
          "2024-04-08T13:00:00.000000000",
          "2024-04-08T13:15:00.000000000",
          "2024-04-08T13:30:00.000000000",
          "2024-04-08T13:45:00.000000000",
          "2024-04-08T14:00:00.000000000",
          "2024-04-08T14:15:00.000000000",
          "2024-04-08T14:30:00.000000000",
          "2024-04-08T14:45:00.000000000",
          "2024-04-08T15:00:00.000000000",
          "2024-04-08T15:15:00.000000000",
          "2024-04-08T15:30:00.000000000",
          "2024-04-08T15:45:00.000000000",
          "2024-04-08T16:00:00.000000000",
          "2024-04-08T16:15:00.000000000",
          "2024-04-08T16:30:00.000000000",
          "2024-04-08T16:45:00.000000000",
          "2024-04-08T17:00:00.000000000",
          "2024-04-08T17:15:00.000000000",
          "2024-04-08T17:30:00.000000000",
          "2024-04-08T17:45:00.000000000",
          "2024-04-08T18:00:00.000000000",
          "2024-04-08T18:15:00.000000000",
          "2024-04-08T18:30:00.000000000",
          "2024-04-08T18:45:00.000000000",
          "2024-04-08T19:00:00.000000000",
          "2024-04-08T19:15:00.000000000",
          "2024-04-08T19:30:00.000000000",
          "2024-04-08T19:45:00.000000000",
          "2024-04-08T20:00:00.000000000"
         ],
         "y": [
          0,
          0,
          0,
          0,
          0,
          0,
          0,
          0,
          0,
          0,
          0,
          0,
          0,
          0,
          0,
          0,
          0,
          0,
          0,
          0,
          0,
          0,
          0,
          0,
          0,
          0,
          0,
          0,
          0,
          0,
          0,
          0,
          0,
          0,
          0,
          0,
          0,
          0,
          0,
          0,
          0,
          0,
          0,
          0,
          0,
          0,
          0,
          0,
          0
         ]
        },
        {
         "mode": "lines+markers",
         "type": "scatter",
         "x": [
          "2024-04-08T08:00:00.000000000",
          "2024-04-08T08:15:00.000000000",
          "2024-04-08T08:30:00.000000000",
          "2024-04-08T08:45:00.000000000",
          "2024-04-08T09:00:00.000000000",
          "2024-04-08T09:15:00.000000000",
          "2024-04-08T09:30:00.000000000",
          "2024-04-08T09:45:00.000000000",
          "2024-04-08T10:00:00.000000000",
          "2024-04-08T10:15:00.000000000",
          "2024-04-08T10:30:00.000000000",
          "2024-04-08T10:45:00.000000000",
          "2024-04-08T11:00:00.000000000",
          "2024-04-08T11:15:00.000000000",
          "2024-04-08T11:30:00.000000000",
          "2024-04-08T11:45:00.000000000",
          "2024-04-08T12:00:00.000000000",
          "2024-04-08T12:15:00.000000000",
          "2024-04-08T12:30:00.000000000",
          "2024-04-08T12:45:00.000000000",
          "2024-04-08T13:00:00.000000000",
          "2024-04-08T13:15:00.000000000",
          "2024-04-08T13:30:00.000000000",
          "2024-04-08T13:45:00.000000000",
          "2024-04-08T14:00:00.000000000",
          "2024-04-08T14:15:00.000000000",
          "2024-04-08T14:30:00.000000000",
          "2024-04-08T14:45:00.000000000",
          "2024-04-08T15:00:00.000000000",
          "2024-04-08T15:15:00.000000000",
          "2024-04-08T15:30:00.000000000",
          "2024-04-08T15:45:00.000000000",
          "2024-04-08T16:00:00.000000000",
          "2024-04-08T16:15:00.000000000",
          "2024-04-08T16:30:00.000000000",
          "2024-04-08T16:45:00.000000000",
          "2024-04-08T17:00:00.000000000",
          "2024-04-08T17:15:00.000000000",
          "2024-04-08T17:30:00.000000000",
          "2024-04-08T17:45:00.000000000",
          "2024-04-08T18:00:00.000000000",
          "2024-04-08T18:15:00.000000000",
          "2024-04-08T18:30:00.000000000",
          "2024-04-08T18:45:00.000000000",
          "2024-04-08T19:00:00.000000000",
          "2024-04-08T19:15:00.000000000",
          "2024-04-08T19:30:00.000000000",
          "2024-04-08T19:45:00.000000000",
          "2024-04-08T20:00:00.000000000"
         ],
         "y": [
          0,
          0,
          0,
          0,
          0,
          0,
          0,
          0,
          0,
          0,
          0,
          0,
          0,
          0,
          0,
          0,
          0,
          0,
          0,
          0,
          0,
          0,
          0,
          0,
          0,
          0,
          0,
          0,
          0,
          0,
          0,
          0,
          0,
          0,
          0,
          0,
          0,
          0,
          0,
          0,
          0,
          0,
          0,
          0,
          0,
          0,
          0,
          0,
          0
         ]
        },
        {
         "mode": "lines+markers",
         "type": "scatter",
         "x": [
          "2024-04-08T08:00:00.000000000",
          "2024-04-08T08:15:00.000000000",
          "2024-04-08T08:30:00.000000000",
          "2024-04-08T08:45:00.000000000",
          "2024-04-08T09:00:00.000000000",
          "2024-04-08T09:15:00.000000000",
          "2024-04-08T09:30:00.000000000",
          "2024-04-08T09:45:00.000000000",
          "2024-04-08T10:00:00.000000000",
          "2024-04-08T10:15:00.000000000",
          "2024-04-08T10:30:00.000000000",
          "2024-04-08T10:45:00.000000000",
          "2024-04-08T11:00:00.000000000",
          "2024-04-08T11:15:00.000000000",
          "2024-04-08T11:30:00.000000000",
          "2024-04-08T11:45:00.000000000",
          "2024-04-08T12:00:00.000000000",
          "2024-04-08T12:15:00.000000000",
          "2024-04-08T12:30:00.000000000",
          "2024-04-08T12:45:00.000000000",
          "2024-04-08T13:00:00.000000000",
          "2024-04-08T13:15:00.000000000",
          "2024-04-08T13:30:00.000000000",
          "2024-04-08T13:45:00.000000000",
          "2024-04-08T14:00:00.000000000",
          "2024-04-08T14:15:00.000000000",
          "2024-04-08T14:30:00.000000000",
          "2024-04-08T14:45:00.000000000",
          "2024-04-08T15:00:00.000000000",
          "2024-04-08T15:15:00.000000000",
          "2024-04-08T15:30:00.000000000",
          "2024-04-08T15:45:00.000000000",
          "2024-04-08T16:00:00.000000000",
          "2024-04-08T16:15:00.000000000",
          "2024-04-08T16:30:00.000000000",
          "2024-04-08T16:45:00.000000000",
          "2024-04-08T17:00:00.000000000",
          "2024-04-08T17:15:00.000000000",
          "2024-04-08T17:30:00.000000000",
          "2024-04-08T17:45:00.000000000",
          "2024-04-08T18:00:00.000000000",
          "2024-04-08T18:15:00.000000000",
          "2024-04-08T18:30:00.000000000",
          "2024-04-08T18:45:00.000000000",
          "2024-04-08T19:00:00.000000000",
          "2024-04-08T19:15:00.000000000",
          "2024-04-08T19:30:00.000000000",
          "2024-04-08T19:45:00.000000000",
          "2024-04-08T20:00:00.000000000"
         ],
         "y": [
          0,
          0,
          0,
          0,
          0,
          0,
          0,
          0,
          0,
          0,
          0,
          0,
          0,
          0,
          0,
          0,
          0,
          0,
          0,
          0,
          0,
          0,
          0,
          0,
          0,
          0,
          0,
          0,
          0,
          0,
          0,
          0,
          0,
          0,
          0,
          0,
          0,
          0,
          0,
          0,
          0,
          0,
          0,
          0,
          0,
          0,
          0,
          0,
          0
         ]
        },
        {
         "mode": "lines+markers",
         "type": "scatter",
         "x": [
          "2024-04-08T08:00:00.000000000",
          "2024-04-08T08:15:00.000000000",
          "2024-04-08T08:30:00.000000000",
          "2024-04-08T08:45:00.000000000",
          "2024-04-08T09:00:00.000000000",
          "2024-04-08T09:15:00.000000000",
          "2024-04-08T09:30:00.000000000",
          "2024-04-08T09:45:00.000000000",
          "2024-04-08T10:00:00.000000000",
          "2024-04-08T10:15:00.000000000",
          "2024-04-08T10:30:00.000000000",
          "2024-04-08T10:45:00.000000000",
          "2024-04-08T11:00:00.000000000",
          "2024-04-08T11:15:00.000000000",
          "2024-04-08T11:30:00.000000000",
          "2024-04-08T11:45:00.000000000",
          "2024-04-08T12:00:00.000000000",
          "2024-04-08T12:15:00.000000000",
          "2024-04-08T12:30:00.000000000",
          "2024-04-08T12:45:00.000000000",
          "2024-04-08T13:00:00.000000000",
          "2024-04-08T13:15:00.000000000",
          "2024-04-08T13:30:00.000000000",
          "2024-04-08T13:45:00.000000000",
          "2024-04-08T14:00:00.000000000",
          "2024-04-08T14:15:00.000000000",
          "2024-04-08T14:30:00.000000000",
          "2024-04-08T14:45:00.000000000",
          "2024-04-08T15:00:00.000000000",
          "2024-04-08T15:15:00.000000000",
          "2024-04-08T15:30:00.000000000",
          "2024-04-08T15:45:00.000000000",
          "2024-04-08T16:00:00.000000000",
          "2024-04-08T16:15:00.000000000",
          "2024-04-08T16:30:00.000000000",
          "2024-04-08T16:45:00.000000000",
          "2024-04-08T17:00:00.000000000",
          "2024-04-08T17:15:00.000000000",
          "2024-04-08T17:30:00.000000000",
          "2024-04-08T17:45:00.000000000",
          "2024-04-08T18:00:00.000000000",
          "2024-04-08T18:15:00.000000000",
          "2024-04-08T18:30:00.000000000",
          "2024-04-08T18:45:00.000000000",
          "2024-04-08T19:00:00.000000000",
          "2024-04-08T19:15:00.000000000",
          "2024-04-08T19:30:00.000000000",
          "2024-04-08T19:45:00.000000000",
          "2024-04-08T20:00:00.000000000"
         ],
         "y": [
          0,
          0,
          0,
          0,
          0,
          0,
          0,
          0,
          0,
          0,
          0,
          0,
          0,
          0,
          0,
          0,
          0,
          0,
          0,
          0,
          0,
          0,
          0,
          0,
          0,
          0,
          0,
          0,
          0,
          0,
          0,
          0,
          0,
          0,
          0,
          0,
          0,
          0,
          0,
          0,
          0,
          0,
          0,
          0,
          0,
          0,
          0,
          0,
          0
         ]
        },
        {
         "mode": "lines+markers",
         "type": "scatter",
         "x": [
          "2024-04-08T08:00:00.000000000",
          "2024-04-08T08:15:00.000000000",
          "2024-04-08T08:30:00.000000000",
          "2024-04-08T08:45:00.000000000",
          "2024-04-08T09:00:00.000000000",
          "2024-04-08T09:15:00.000000000",
          "2024-04-08T09:30:00.000000000",
          "2024-04-08T09:45:00.000000000",
          "2024-04-08T10:00:00.000000000",
          "2024-04-08T10:15:00.000000000",
          "2024-04-08T10:30:00.000000000",
          "2024-04-08T10:45:00.000000000",
          "2024-04-08T11:00:00.000000000",
          "2024-04-08T11:15:00.000000000",
          "2024-04-08T11:30:00.000000000",
          "2024-04-08T11:45:00.000000000",
          "2024-04-08T12:00:00.000000000",
          "2024-04-08T12:15:00.000000000",
          "2024-04-08T12:30:00.000000000",
          "2024-04-08T12:45:00.000000000",
          "2024-04-08T13:00:00.000000000",
          "2024-04-08T13:15:00.000000000",
          "2024-04-08T13:30:00.000000000",
          "2024-04-08T13:45:00.000000000",
          "2024-04-08T14:00:00.000000000",
          "2024-04-08T14:15:00.000000000",
          "2024-04-08T14:30:00.000000000",
          "2024-04-08T14:45:00.000000000",
          "2024-04-08T15:00:00.000000000",
          "2024-04-08T15:15:00.000000000",
          "2024-04-08T15:30:00.000000000",
          "2024-04-08T15:45:00.000000000",
          "2024-04-08T16:00:00.000000000",
          "2024-04-08T16:15:00.000000000",
          "2024-04-08T16:30:00.000000000",
          "2024-04-08T16:45:00.000000000",
          "2024-04-08T17:00:00.000000000",
          "2024-04-08T17:15:00.000000000",
          "2024-04-08T17:30:00.000000000",
          "2024-04-08T17:45:00.000000000",
          "2024-04-08T18:00:00.000000000",
          "2024-04-08T18:15:00.000000000",
          "2024-04-08T18:30:00.000000000",
          "2024-04-08T18:45:00.000000000",
          "2024-04-08T19:00:00.000000000",
          "2024-04-08T19:15:00.000000000",
          "2024-04-08T19:30:00.000000000",
          "2024-04-08T19:45:00.000000000",
          "2024-04-08T20:00:00.000000000"
         ],
         "y": [
          0,
          0,
          0,
          0,
          0,
          0,
          0,
          0,
          0,
          0,
          0,
          0,
          0,
          0,
          0,
          0,
          0,
          0,
          0,
          0,
          0,
          0,
          0,
          0,
          0,
          0,
          0,
          0,
          0,
          0,
          0,
          0,
          0,
          0,
          0,
          0,
          0,
          0,
          0,
          0,
          0,
          0,
          0,
          0,
          0,
          0,
          0,
          0,
          0
         ]
        },
        {
         "mode": "lines+markers",
         "type": "scatter",
         "x": [
          "2024-04-08T08:00:00.000000000",
          "2024-04-08T08:15:00.000000000",
          "2024-04-08T08:30:00.000000000",
          "2024-04-08T08:45:00.000000000",
          "2024-04-08T09:00:00.000000000",
          "2024-04-08T09:15:00.000000000",
          "2024-04-08T09:30:00.000000000",
          "2024-04-08T09:45:00.000000000",
          "2024-04-08T10:00:00.000000000",
          "2024-04-08T10:15:00.000000000",
          "2024-04-08T10:30:00.000000000",
          "2024-04-08T10:45:00.000000000",
          "2024-04-08T11:00:00.000000000",
          "2024-04-08T11:15:00.000000000",
          "2024-04-08T11:30:00.000000000",
          "2024-04-08T11:45:00.000000000",
          "2024-04-08T12:00:00.000000000",
          "2024-04-08T12:15:00.000000000",
          "2024-04-08T12:30:00.000000000",
          "2024-04-08T12:45:00.000000000",
          "2024-04-08T13:00:00.000000000",
          "2024-04-08T13:15:00.000000000",
          "2024-04-08T13:30:00.000000000",
          "2024-04-08T13:45:00.000000000",
          "2024-04-08T14:00:00.000000000",
          "2024-04-08T14:15:00.000000000",
          "2024-04-08T14:30:00.000000000",
          "2024-04-08T14:45:00.000000000",
          "2024-04-08T15:00:00.000000000",
          "2024-04-08T15:15:00.000000000",
          "2024-04-08T15:30:00.000000000",
          "2024-04-08T15:45:00.000000000",
          "2024-04-08T16:00:00.000000000",
          "2024-04-08T16:15:00.000000000",
          "2024-04-08T16:30:00.000000000",
          "2024-04-08T16:45:00.000000000",
          "2024-04-08T17:00:00.000000000",
          "2024-04-08T17:15:00.000000000",
          "2024-04-08T17:30:00.000000000",
          "2024-04-08T17:45:00.000000000",
          "2024-04-08T18:00:00.000000000",
          "2024-04-08T18:15:00.000000000",
          "2024-04-08T18:30:00.000000000",
          "2024-04-08T18:45:00.000000000",
          "2024-04-08T19:00:00.000000000",
          "2024-04-08T19:15:00.000000000",
          "2024-04-08T19:30:00.000000000",
          "2024-04-08T19:45:00.000000000",
          "2024-04-08T20:00:00.000000000"
         ],
         "y": [
          0,
          0,
          0,
          0,
          0,
          0,
          4,
          0,
          0,
          0,
          0,
          0,
          0,
          0,
          1,
          3,
          0,
          0,
          0,
          1,
          0,
          0,
          0,
          0,
          0,
          0,
          0,
          3,
          0,
          0,
          0,
          0,
          18,
          0,
          0,
          0,
          0,
          0,
          0,
          0,
          0,
          0,
          0,
          0,
          0,
          0,
          0,
          0,
          0
         ]
        },
        {
         "mode": "lines+markers",
         "type": "scatter",
         "x": [
          "2024-04-08T08:00:00.000000000",
          "2024-04-08T08:15:00.000000000",
          "2024-04-08T08:30:00.000000000",
          "2024-04-08T08:45:00.000000000",
          "2024-04-08T09:00:00.000000000",
          "2024-04-08T09:15:00.000000000",
          "2024-04-08T09:30:00.000000000",
          "2024-04-08T09:45:00.000000000",
          "2024-04-08T10:00:00.000000000",
          "2024-04-08T10:15:00.000000000",
          "2024-04-08T10:30:00.000000000",
          "2024-04-08T10:45:00.000000000",
          "2024-04-08T11:00:00.000000000",
          "2024-04-08T11:15:00.000000000",
          "2024-04-08T11:30:00.000000000",
          "2024-04-08T11:45:00.000000000",
          "2024-04-08T12:00:00.000000000",
          "2024-04-08T12:15:00.000000000",
          "2024-04-08T12:30:00.000000000",
          "2024-04-08T12:45:00.000000000",
          "2024-04-08T13:00:00.000000000",
          "2024-04-08T13:15:00.000000000",
          "2024-04-08T13:30:00.000000000",
          "2024-04-08T13:45:00.000000000",
          "2024-04-08T14:00:00.000000000",
          "2024-04-08T14:15:00.000000000",
          "2024-04-08T14:30:00.000000000",
          "2024-04-08T14:45:00.000000000",
          "2024-04-08T15:00:00.000000000",
          "2024-04-08T15:15:00.000000000",
          "2024-04-08T15:30:00.000000000",
          "2024-04-08T15:45:00.000000000",
          "2024-04-08T16:00:00.000000000",
          "2024-04-08T16:15:00.000000000",
          "2024-04-08T16:30:00.000000000",
          "2024-04-08T16:45:00.000000000",
          "2024-04-08T17:00:00.000000000",
          "2024-04-08T17:15:00.000000000",
          "2024-04-08T17:30:00.000000000",
          "2024-04-08T17:45:00.000000000",
          "2024-04-08T18:00:00.000000000",
          "2024-04-08T18:15:00.000000000",
          "2024-04-08T18:30:00.000000000",
          "2024-04-08T18:45:00.000000000",
          "2024-04-08T19:00:00.000000000",
          "2024-04-08T19:15:00.000000000",
          "2024-04-08T19:30:00.000000000",
          "2024-04-08T19:45:00.000000000",
          "2024-04-08T20:00:00.000000000"
         ],
         "y": [
          0,
          0,
          0,
          0,
          0,
          0,
          0,
          0,
          0,
          0,
          0,
          0,
          0,
          0,
          0,
          0,
          0,
          0,
          0,
          0,
          0,
          0,
          0,
          0,
          0,
          0,
          0,
          0,
          0,
          0,
          0,
          0,
          0,
          0,
          0,
          0,
          0,
          0,
          0,
          0,
          0,
          0,
          0,
          0,
          0,
          2,
          0,
          0,
          0
         ]
        },
        {
         "mode": "lines+markers",
         "type": "scatter",
         "x": [
          "2024-04-08T08:00:00.000000000",
          "2024-04-08T08:15:00.000000000",
          "2024-04-08T08:30:00.000000000",
          "2024-04-08T08:45:00.000000000",
          "2024-04-08T09:00:00.000000000",
          "2024-04-08T09:15:00.000000000",
          "2024-04-08T09:30:00.000000000",
          "2024-04-08T09:45:00.000000000",
          "2024-04-08T10:00:00.000000000",
          "2024-04-08T10:15:00.000000000",
          "2024-04-08T10:30:00.000000000",
          "2024-04-08T10:45:00.000000000",
          "2024-04-08T11:00:00.000000000",
          "2024-04-08T11:15:00.000000000",
          "2024-04-08T11:30:00.000000000",
          "2024-04-08T11:45:00.000000000",
          "2024-04-08T12:00:00.000000000",
          "2024-04-08T12:15:00.000000000",
          "2024-04-08T12:30:00.000000000",
          "2024-04-08T12:45:00.000000000",
          "2024-04-08T13:00:00.000000000",
          "2024-04-08T13:15:00.000000000",
          "2024-04-08T13:30:00.000000000",
          "2024-04-08T13:45:00.000000000",
          "2024-04-08T14:00:00.000000000",
          "2024-04-08T14:15:00.000000000",
          "2024-04-08T14:30:00.000000000",
          "2024-04-08T14:45:00.000000000",
          "2024-04-08T15:00:00.000000000",
          "2024-04-08T15:15:00.000000000",
          "2024-04-08T15:30:00.000000000",
          "2024-04-08T15:45:00.000000000",
          "2024-04-08T16:00:00.000000000",
          "2024-04-08T16:15:00.000000000",
          "2024-04-08T16:30:00.000000000",
          "2024-04-08T16:45:00.000000000",
          "2024-04-08T17:00:00.000000000",
          "2024-04-08T17:15:00.000000000",
          "2024-04-08T17:30:00.000000000",
          "2024-04-08T17:45:00.000000000",
          "2024-04-08T18:00:00.000000000",
          "2024-04-08T18:15:00.000000000",
          "2024-04-08T18:30:00.000000000",
          "2024-04-08T18:45:00.000000000",
          "2024-04-08T19:00:00.000000000",
          "2024-04-08T19:15:00.000000000",
          "2024-04-08T19:30:00.000000000",
          "2024-04-08T19:45:00.000000000",
          "2024-04-08T20:00:00.000000000"
         ],
         "y": [
          0,
          0,
          0,
          0,
          0,
          0,
          0,
          0,
          0,
          0,
          0,
          0,
          0,
          0,
          0,
          0,
          0,
          0,
          0,
          0,
          0,
          0,
          0,
          0,
          0,
          0,
          0,
          0,
          0,
          0,
          0,
          0,
          0,
          0,
          0,
          0,
          0,
          0,
          0,
          0,
          0,
          0,
          0,
          0,
          0,
          0,
          0,
          0,
          0
         ]
        },
        {
         "mode": "lines+markers",
         "type": "scatter",
         "x": [
          "2024-04-08T08:00:00.000000000",
          "2024-04-08T08:15:00.000000000",
          "2024-04-08T08:30:00.000000000",
          "2024-04-08T08:45:00.000000000",
          "2024-04-08T09:00:00.000000000",
          "2024-04-08T09:15:00.000000000",
          "2024-04-08T09:30:00.000000000",
          "2024-04-08T09:45:00.000000000",
          "2024-04-08T10:00:00.000000000",
          "2024-04-08T10:15:00.000000000",
          "2024-04-08T10:30:00.000000000",
          "2024-04-08T10:45:00.000000000",
          "2024-04-08T11:00:00.000000000",
          "2024-04-08T11:15:00.000000000",
          "2024-04-08T11:30:00.000000000",
          "2024-04-08T11:45:00.000000000",
          "2024-04-08T12:00:00.000000000",
          "2024-04-08T12:15:00.000000000",
          "2024-04-08T12:30:00.000000000",
          "2024-04-08T12:45:00.000000000",
          "2024-04-08T13:00:00.000000000",
          "2024-04-08T13:15:00.000000000",
          "2024-04-08T13:30:00.000000000",
          "2024-04-08T13:45:00.000000000",
          "2024-04-08T14:00:00.000000000",
          "2024-04-08T14:15:00.000000000",
          "2024-04-08T14:30:00.000000000",
          "2024-04-08T14:45:00.000000000",
          "2024-04-08T15:00:00.000000000",
          "2024-04-08T15:15:00.000000000",
          "2024-04-08T15:30:00.000000000",
          "2024-04-08T15:45:00.000000000",
          "2024-04-08T16:00:00.000000000",
          "2024-04-08T16:15:00.000000000",
          "2024-04-08T16:30:00.000000000",
          "2024-04-08T16:45:00.000000000",
          "2024-04-08T17:00:00.000000000",
          "2024-04-08T17:15:00.000000000",
          "2024-04-08T17:30:00.000000000",
          "2024-04-08T17:45:00.000000000",
          "2024-04-08T18:00:00.000000000",
          "2024-04-08T18:15:00.000000000",
          "2024-04-08T18:30:00.000000000",
          "2024-04-08T18:45:00.000000000",
          "2024-04-08T19:00:00.000000000",
          "2024-04-08T19:15:00.000000000",
          "2024-04-08T19:30:00.000000000",
          "2024-04-08T19:45:00.000000000",
          "2024-04-08T20:00:00.000000000"
         ],
         "y": [
          0,
          0,
          0,
          0,
          0,
          0,
          0,
          0,
          0,
          0,
          0,
          0,
          0,
          0,
          0,
          0,
          0,
          0,
          0,
          0,
          0,
          0,
          0,
          0,
          0,
          0,
          0,
          0,
          0,
          0,
          0,
          0,
          0,
          0,
          0,
          0,
          0,
          0,
          0,
          0,
          0,
          0,
          0,
          0,
          0,
          0,
          0,
          0,
          0
         ]
        },
        {
         "mode": "lines+markers",
         "type": "scatter",
         "x": [
          "2024-04-08T08:00:00.000000000",
          "2024-04-08T08:15:00.000000000",
          "2024-04-08T08:30:00.000000000",
          "2024-04-08T08:45:00.000000000",
          "2024-04-08T09:00:00.000000000",
          "2024-04-08T09:15:00.000000000",
          "2024-04-08T09:30:00.000000000",
          "2024-04-08T09:45:00.000000000",
          "2024-04-08T10:00:00.000000000",
          "2024-04-08T10:15:00.000000000",
          "2024-04-08T10:30:00.000000000",
          "2024-04-08T10:45:00.000000000",
          "2024-04-08T11:00:00.000000000",
          "2024-04-08T11:15:00.000000000",
          "2024-04-08T11:30:00.000000000",
          "2024-04-08T11:45:00.000000000",
          "2024-04-08T12:00:00.000000000",
          "2024-04-08T12:15:00.000000000",
          "2024-04-08T12:30:00.000000000",
          "2024-04-08T12:45:00.000000000",
          "2024-04-08T13:00:00.000000000",
          "2024-04-08T13:15:00.000000000",
          "2024-04-08T13:30:00.000000000",
          "2024-04-08T13:45:00.000000000",
          "2024-04-08T14:00:00.000000000",
          "2024-04-08T14:15:00.000000000",
          "2024-04-08T14:30:00.000000000",
          "2024-04-08T14:45:00.000000000",
          "2024-04-08T15:00:00.000000000",
          "2024-04-08T15:15:00.000000000",
          "2024-04-08T15:30:00.000000000",
          "2024-04-08T15:45:00.000000000",
          "2024-04-08T16:00:00.000000000",
          "2024-04-08T16:15:00.000000000",
          "2024-04-08T16:30:00.000000000",
          "2024-04-08T16:45:00.000000000",
          "2024-04-08T17:00:00.000000000",
          "2024-04-08T17:15:00.000000000",
          "2024-04-08T17:30:00.000000000",
          "2024-04-08T17:45:00.000000000",
          "2024-04-08T18:00:00.000000000",
          "2024-04-08T18:15:00.000000000",
          "2024-04-08T18:30:00.000000000",
          "2024-04-08T18:45:00.000000000",
          "2024-04-08T19:00:00.000000000",
          "2024-04-08T19:15:00.000000000",
          "2024-04-08T19:30:00.000000000",
          "2024-04-08T19:45:00.000000000",
          "2024-04-08T20:00:00.000000000"
         ],
         "y": [
          5,
          15,
          10,
          0,
          2,
          1,
          0,
          0,
          4,
          0,
          0,
          0,
          0,
          0,
          0,
          0,
          0,
          3,
          0,
          0,
          0,
          1,
          9,
          0,
          0,
          0,
          0,
          0,
          2,
          11,
          7,
          0,
          1,
          1,
          2,
          0,
          0,
          0,
          0,
          0,
          0,
          0,
          0,
          2,
          0,
          0,
          0,
          0,
          0
         ]
        },
        {
         "mode": "lines+markers",
         "type": "scatter",
         "x": [
          "2024-04-08T08:00:00.000000000",
          "2024-04-08T08:15:00.000000000",
          "2024-04-08T08:30:00.000000000",
          "2024-04-08T08:45:00.000000000",
          "2024-04-08T09:00:00.000000000",
          "2024-04-08T09:15:00.000000000",
          "2024-04-08T09:30:00.000000000",
          "2024-04-08T09:45:00.000000000",
          "2024-04-08T10:00:00.000000000",
          "2024-04-08T10:15:00.000000000",
          "2024-04-08T10:30:00.000000000",
          "2024-04-08T10:45:00.000000000",
          "2024-04-08T11:00:00.000000000",
          "2024-04-08T11:15:00.000000000",
          "2024-04-08T11:30:00.000000000",
          "2024-04-08T11:45:00.000000000",
          "2024-04-08T12:00:00.000000000",
          "2024-04-08T12:15:00.000000000",
          "2024-04-08T12:30:00.000000000",
          "2024-04-08T12:45:00.000000000",
          "2024-04-08T13:00:00.000000000",
          "2024-04-08T13:15:00.000000000",
          "2024-04-08T13:30:00.000000000",
          "2024-04-08T13:45:00.000000000",
          "2024-04-08T14:00:00.000000000",
          "2024-04-08T14:15:00.000000000",
          "2024-04-08T14:30:00.000000000",
          "2024-04-08T14:45:00.000000000",
          "2024-04-08T15:00:00.000000000",
          "2024-04-08T15:15:00.000000000",
          "2024-04-08T15:30:00.000000000",
          "2024-04-08T15:45:00.000000000",
          "2024-04-08T16:00:00.000000000",
          "2024-04-08T16:15:00.000000000",
          "2024-04-08T16:30:00.000000000",
          "2024-04-08T16:45:00.000000000",
          "2024-04-08T17:00:00.000000000",
          "2024-04-08T17:15:00.000000000",
          "2024-04-08T17:30:00.000000000",
          "2024-04-08T17:45:00.000000000",
          "2024-04-08T18:00:00.000000000",
          "2024-04-08T18:15:00.000000000",
          "2024-04-08T18:30:00.000000000",
          "2024-04-08T18:45:00.000000000",
          "2024-04-08T19:00:00.000000000",
          "2024-04-08T19:15:00.000000000",
          "2024-04-08T19:30:00.000000000",
          "2024-04-08T19:45:00.000000000",
          "2024-04-08T20:00:00.000000000"
         ],
         "y": [
          0,
          0,
          0,
          0,
          0,
          0,
          0,
          0,
          0,
          0,
          0,
          0,
          0,
          0,
          0,
          0,
          0,
          0,
          0,
          0,
          0,
          0,
          0,
          0,
          0,
          0,
          0,
          0,
          0,
          0,
          0,
          0,
          0,
          0,
          0,
          0,
          0,
          0,
          0,
          0,
          0,
          0,
          0,
          0,
          0,
          0,
          0,
          0,
          0
         ]
        },
        {
         "mode": "lines+markers",
         "type": "scatter",
         "x": [
          "2024-04-08T08:00:00.000000000",
          "2024-04-08T08:15:00.000000000",
          "2024-04-08T08:30:00.000000000",
          "2024-04-08T08:45:00.000000000",
          "2024-04-08T09:00:00.000000000",
          "2024-04-08T09:15:00.000000000",
          "2024-04-08T09:30:00.000000000",
          "2024-04-08T09:45:00.000000000",
          "2024-04-08T10:00:00.000000000",
          "2024-04-08T10:15:00.000000000",
          "2024-04-08T10:30:00.000000000",
          "2024-04-08T10:45:00.000000000",
          "2024-04-08T11:00:00.000000000",
          "2024-04-08T11:15:00.000000000",
          "2024-04-08T11:30:00.000000000",
          "2024-04-08T11:45:00.000000000",
          "2024-04-08T12:00:00.000000000",
          "2024-04-08T12:15:00.000000000",
          "2024-04-08T12:30:00.000000000",
          "2024-04-08T12:45:00.000000000",
          "2024-04-08T13:00:00.000000000",
          "2024-04-08T13:15:00.000000000",
          "2024-04-08T13:30:00.000000000",
          "2024-04-08T13:45:00.000000000",
          "2024-04-08T14:00:00.000000000",
          "2024-04-08T14:15:00.000000000",
          "2024-04-08T14:30:00.000000000",
          "2024-04-08T14:45:00.000000000",
          "2024-04-08T15:00:00.000000000",
          "2024-04-08T15:15:00.000000000",
          "2024-04-08T15:30:00.000000000",
          "2024-04-08T15:45:00.000000000",
          "2024-04-08T16:00:00.000000000",
          "2024-04-08T16:15:00.000000000",
          "2024-04-08T16:30:00.000000000",
          "2024-04-08T16:45:00.000000000",
          "2024-04-08T17:00:00.000000000",
          "2024-04-08T17:15:00.000000000",
          "2024-04-08T17:30:00.000000000",
          "2024-04-08T17:45:00.000000000",
          "2024-04-08T18:00:00.000000000",
          "2024-04-08T18:15:00.000000000",
          "2024-04-08T18:30:00.000000000",
          "2024-04-08T18:45:00.000000000",
          "2024-04-08T19:00:00.000000000",
          "2024-04-08T19:15:00.000000000",
          "2024-04-08T19:30:00.000000000",
          "2024-04-08T19:45:00.000000000",
          "2024-04-08T20:00:00.000000000"
         ],
         "y": [
          0,
          0,
          0,
          0,
          0,
          0,
          0,
          0,
          0,
          0,
          0,
          0,
          0,
          0,
          0,
          0,
          0,
          0,
          0,
          0,
          0,
          0,
          0,
          0,
          0,
          0,
          0,
          0,
          0,
          0,
          0,
          0,
          0,
          0,
          0,
          0,
          0,
          0,
          0,
          0,
          0,
          0,
          0,
          0,
          0,
          3,
          0,
          0,
          0
         ]
        },
        {
         "mode": "lines+markers",
         "type": "scatter",
         "x": [
          "2024-04-08T08:00:00.000000000",
          "2024-04-08T08:15:00.000000000",
          "2024-04-08T08:30:00.000000000",
          "2024-04-08T08:45:00.000000000",
          "2024-04-08T09:00:00.000000000",
          "2024-04-08T09:15:00.000000000",
          "2024-04-08T09:30:00.000000000",
          "2024-04-08T09:45:00.000000000",
          "2024-04-08T10:00:00.000000000",
          "2024-04-08T10:15:00.000000000",
          "2024-04-08T10:30:00.000000000",
          "2024-04-08T10:45:00.000000000",
          "2024-04-08T11:00:00.000000000",
          "2024-04-08T11:15:00.000000000",
          "2024-04-08T11:30:00.000000000",
          "2024-04-08T11:45:00.000000000",
          "2024-04-08T12:00:00.000000000",
          "2024-04-08T12:15:00.000000000",
          "2024-04-08T12:30:00.000000000",
          "2024-04-08T12:45:00.000000000",
          "2024-04-08T13:00:00.000000000",
          "2024-04-08T13:15:00.000000000",
          "2024-04-08T13:30:00.000000000",
          "2024-04-08T13:45:00.000000000",
          "2024-04-08T14:00:00.000000000",
          "2024-04-08T14:15:00.000000000",
          "2024-04-08T14:30:00.000000000",
          "2024-04-08T14:45:00.000000000",
          "2024-04-08T15:00:00.000000000",
          "2024-04-08T15:15:00.000000000",
          "2024-04-08T15:30:00.000000000",
          "2024-04-08T15:45:00.000000000",
          "2024-04-08T16:00:00.000000000",
          "2024-04-08T16:15:00.000000000",
          "2024-04-08T16:30:00.000000000",
          "2024-04-08T16:45:00.000000000",
          "2024-04-08T17:00:00.000000000",
          "2024-04-08T17:15:00.000000000",
          "2024-04-08T17:30:00.000000000",
          "2024-04-08T17:45:00.000000000",
          "2024-04-08T18:00:00.000000000",
          "2024-04-08T18:15:00.000000000",
          "2024-04-08T18:30:00.000000000",
          "2024-04-08T18:45:00.000000000",
          "2024-04-08T19:00:00.000000000",
          "2024-04-08T19:15:00.000000000",
          "2024-04-08T19:30:00.000000000",
          "2024-04-08T19:45:00.000000000",
          "2024-04-08T20:00:00.000000000"
         ],
         "y": [
          0,
          0,
          0,
          0,
          0,
          0,
          0,
          0,
          0,
          0,
          0,
          0,
          0,
          0,
          0,
          0,
          0,
          0,
          0,
          0,
          0,
          0,
          0,
          0,
          0,
          0,
          0,
          0,
          0,
          0,
          0,
          0,
          0,
          0,
          0,
          0,
          0,
          0,
          0,
          0,
          0,
          0,
          0,
          0,
          0,
          0,
          0,
          0,
          0
         ]
        },
        {
         "mode": "lines+markers",
         "type": "scatter",
         "x": [
          "2024-04-08T08:00:00.000000000",
          "2024-04-08T08:15:00.000000000",
          "2024-04-08T08:30:00.000000000",
          "2024-04-08T08:45:00.000000000",
          "2024-04-08T09:00:00.000000000",
          "2024-04-08T09:15:00.000000000",
          "2024-04-08T09:30:00.000000000",
          "2024-04-08T09:45:00.000000000",
          "2024-04-08T10:00:00.000000000",
          "2024-04-08T10:15:00.000000000",
          "2024-04-08T10:30:00.000000000",
          "2024-04-08T10:45:00.000000000",
          "2024-04-08T11:00:00.000000000",
          "2024-04-08T11:15:00.000000000",
          "2024-04-08T11:30:00.000000000",
          "2024-04-08T11:45:00.000000000",
          "2024-04-08T12:00:00.000000000",
          "2024-04-08T12:15:00.000000000",
          "2024-04-08T12:30:00.000000000",
          "2024-04-08T12:45:00.000000000",
          "2024-04-08T13:00:00.000000000",
          "2024-04-08T13:15:00.000000000",
          "2024-04-08T13:30:00.000000000",
          "2024-04-08T13:45:00.000000000",
          "2024-04-08T14:00:00.000000000",
          "2024-04-08T14:15:00.000000000",
          "2024-04-08T14:30:00.000000000",
          "2024-04-08T14:45:00.000000000",
          "2024-04-08T15:00:00.000000000",
          "2024-04-08T15:15:00.000000000",
          "2024-04-08T15:30:00.000000000",
          "2024-04-08T15:45:00.000000000",
          "2024-04-08T16:00:00.000000000",
          "2024-04-08T16:15:00.000000000",
          "2024-04-08T16:30:00.000000000",
          "2024-04-08T16:45:00.000000000",
          "2024-04-08T17:00:00.000000000",
          "2024-04-08T17:15:00.000000000",
          "2024-04-08T17:30:00.000000000",
          "2024-04-08T17:45:00.000000000",
          "2024-04-08T18:00:00.000000000",
          "2024-04-08T18:15:00.000000000",
          "2024-04-08T18:30:00.000000000",
          "2024-04-08T18:45:00.000000000",
          "2024-04-08T19:00:00.000000000",
          "2024-04-08T19:15:00.000000000",
          "2024-04-08T19:30:00.000000000",
          "2024-04-08T19:45:00.000000000",
          "2024-04-08T20:00:00.000000000"
         ],
         "y": [
          0,
          0,
          0,
          0,
          0,
          0,
          0,
          0,
          0,
          0,
          0,
          0,
          0,
          0,
          0,
          0,
          0,
          0,
          0,
          0,
          0,
          0,
          0,
          0,
          0,
          0,
          0,
          0,
          0,
          0,
          0,
          0,
          0,
          0,
          0,
          0,
          0,
          0,
          0,
          0,
          0,
          0,
          0,
          0,
          0,
          0,
          0,
          0,
          0
         ]
        },
        {
         "mode": "lines+markers",
         "type": "scatter",
         "x": [
          "2024-04-08T08:00:00.000000000",
          "2024-04-08T08:15:00.000000000",
          "2024-04-08T08:30:00.000000000",
          "2024-04-08T08:45:00.000000000",
          "2024-04-08T09:00:00.000000000",
          "2024-04-08T09:15:00.000000000",
          "2024-04-08T09:30:00.000000000",
          "2024-04-08T09:45:00.000000000",
          "2024-04-08T10:00:00.000000000",
          "2024-04-08T10:15:00.000000000",
          "2024-04-08T10:30:00.000000000",
          "2024-04-08T10:45:00.000000000",
          "2024-04-08T11:00:00.000000000",
          "2024-04-08T11:15:00.000000000",
          "2024-04-08T11:30:00.000000000",
          "2024-04-08T11:45:00.000000000",
          "2024-04-08T12:00:00.000000000",
          "2024-04-08T12:15:00.000000000",
          "2024-04-08T12:30:00.000000000",
          "2024-04-08T12:45:00.000000000",
          "2024-04-08T13:00:00.000000000",
          "2024-04-08T13:15:00.000000000",
          "2024-04-08T13:30:00.000000000",
          "2024-04-08T13:45:00.000000000",
          "2024-04-08T14:00:00.000000000",
          "2024-04-08T14:15:00.000000000",
          "2024-04-08T14:30:00.000000000",
          "2024-04-08T14:45:00.000000000",
          "2024-04-08T15:00:00.000000000",
          "2024-04-08T15:15:00.000000000",
          "2024-04-08T15:30:00.000000000",
          "2024-04-08T15:45:00.000000000",
          "2024-04-08T16:00:00.000000000",
          "2024-04-08T16:15:00.000000000",
          "2024-04-08T16:30:00.000000000",
          "2024-04-08T16:45:00.000000000",
          "2024-04-08T17:00:00.000000000",
          "2024-04-08T17:15:00.000000000",
          "2024-04-08T17:30:00.000000000",
          "2024-04-08T17:45:00.000000000",
          "2024-04-08T18:00:00.000000000",
          "2024-04-08T18:15:00.000000000",
          "2024-04-08T18:30:00.000000000",
          "2024-04-08T18:45:00.000000000",
          "2024-04-08T19:00:00.000000000",
          "2024-04-08T19:15:00.000000000",
          "2024-04-08T19:30:00.000000000",
          "2024-04-08T19:45:00.000000000",
          "2024-04-08T20:00:00.000000000"
         ],
         "y": [
          0,
          0,
          0,
          0,
          0,
          2,
          0,
          0,
          0,
          0,
          0,
          0,
          0,
          0,
          2,
          2,
          0,
          0,
          0,
          0,
          0,
          0,
          0,
          0,
          0,
          0,
          0,
          0,
          0,
          0,
          0,
          0,
          0,
          0,
          0,
          0,
          0,
          0,
          0,
          0,
          0,
          0,
          0,
          0,
          0,
          1,
          0,
          0,
          0
         ]
        },
        {
         "mode": "lines+markers",
         "type": "scatter",
         "x": [
          "2024-04-08T08:00:00.000000000",
          "2024-04-08T08:15:00.000000000",
          "2024-04-08T08:30:00.000000000",
          "2024-04-08T08:45:00.000000000",
          "2024-04-08T09:00:00.000000000",
          "2024-04-08T09:15:00.000000000",
          "2024-04-08T09:30:00.000000000",
          "2024-04-08T09:45:00.000000000",
          "2024-04-08T10:00:00.000000000",
          "2024-04-08T10:15:00.000000000",
          "2024-04-08T10:30:00.000000000",
          "2024-04-08T10:45:00.000000000",
          "2024-04-08T11:00:00.000000000",
          "2024-04-08T11:15:00.000000000",
          "2024-04-08T11:30:00.000000000",
          "2024-04-08T11:45:00.000000000",
          "2024-04-08T12:00:00.000000000",
          "2024-04-08T12:15:00.000000000",
          "2024-04-08T12:30:00.000000000",
          "2024-04-08T12:45:00.000000000",
          "2024-04-08T13:00:00.000000000",
          "2024-04-08T13:15:00.000000000",
          "2024-04-08T13:30:00.000000000",
          "2024-04-08T13:45:00.000000000",
          "2024-04-08T14:00:00.000000000",
          "2024-04-08T14:15:00.000000000",
          "2024-04-08T14:30:00.000000000",
          "2024-04-08T14:45:00.000000000",
          "2024-04-08T15:00:00.000000000",
          "2024-04-08T15:15:00.000000000",
          "2024-04-08T15:30:00.000000000",
          "2024-04-08T15:45:00.000000000",
          "2024-04-08T16:00:00.000000000",
          "2024-04-08T16:15:00.000000000",
          "2024-04-08T16:30:00.000000000",
          "2024-04-08T16:45:00.000000000",
          "2024-04-08T17:00:00.000000000",
          "2024-04-08T17:15:00.000000000",
          "2024-04-08T17:30:00.000000000",
          "2024-04-08T17:45:00.000000000",
          "2024-04-08T18:00:00.000000000",
          "2024-04-08T18:15:00.000000000",
          "2024-04-08T18:30:00.000000000",
          "2024-04-08T18:45:00.000000000",
          "2024-04-08T19:00:00.000000000",
          "2024-04-08T19:15:00.000000000",
          "2024-04-08T19:30:00.000000000",
          "2024-04-08T19:45:00.000000000",
          "2024-04-08T20:00:00.000000000"
         ],
         "y": [
          0,
          0,
          0,
          0,
          0,
          0,
          0,
          0,
          0,
          0,
          0,
          0,
          0,
          0,
          0,
          0,
          0,
          0,
          0,
          0,
          0,
          0,
          0,
          0,
          0,
          0,
          0,
          0,
          0,
          0,
          0,
          0,
          0,
          0,
          0,
          0,
          0,
          0,
          0,
          0,
          0,
          0,
          0,
          0,
          0,
          0,
          0,
          0,
          0
         ]
        },
        {
         "mode": "lines+markers",
         "type": "scatter",
         "x": [
          "2024-04-08T08:00:00.000000000",
          "2024-04-08T08:15:00.000000000",
          "2024-04-08T08:30:00.000000000",
          "2024-04-08T08:45:00.000000000",
          "2024-04-08T09:00:00.000000000",
          "2024-04-08T09:15:00.000000000",
          "2024-04-08T09:30:00.000000000",
          "2024-04-08T09:45:00.000000000",
          "2024-04-08T10:00:00.000000000",
          "2024-04-08T10:15:00.000000000",
          "2024-04-08T10:30:00.000000000",
          "2024-04-08T10:45:00.000000000",
          "2024-04-08T11:00:00.000000000",
          "2024-04-08T11:15:00.000000000",
          "2024-04-08T11:30:00.000000000",
          "2024-04-08T11:45:00.000000000",
          "2024-04-08T12:00:00.000000000",
          "2024-04-08T12:15:00.000000000",
          "2024-04-08T12:30:00.000000000",
          "2024-04-08T12:45:00.000000000",
          "2024-04-08T13:00:00.000000000",
          "2024-04-08T13:15:00.000000000",
          "2024-04-08T13:30:00.000000000",
          "2024-04-08T13:45:00.000000000",
          "2024-04-08T14:00:00.000000000",
          "2024-04-08T14:15:00.000000000",
          "2024-04-08T14:30:00.000000000",
          "2024-04-08T14:45:00.000000000",
          "2024-04-08T15:00:00.000000000",
          "2024-04-08T15:15:00.000000000",
          "2024-04-08T15:30:00.000000000",
          "2024-04-08T15:45:00.000000000",
          "2024-04-08T16:00:00.000000000",
          "2024-04-08T16:15:00.000000000",
          "2024-04-08T16:30:00.000000000",
          "2024-04-08T16:45:00.000000000",
          "2024-04-08T17:00:00.000000000",
          "2024-04-08T17:15:00.000000000",
          "2024-04-08T17:30:00.000000000",
          "2024-04-08T17:45:00.000000000",
          "2024-04-08T18:00:00.000000000",
          "2024-04-08T18:15:00.000000000",
          "2024-04-08T18:30:00.000000000",
          "2024-04-08T18:45:00.000000000",
          "2024-04-08T19:00:00.000000000",
          "2024-04-08T19:15:00.000000000",
          "2024-04-08T19:30:00.000000000",
          "2024-04-08T19:45:00.000000000",
          "2024-04-08T20:00:00.000000000"
         ],
         "y": [
          0,
          0,
          0,
          0,
          0,
          0,
          0,
          0,
          0,
          0,
          0,
          0,
          0,
          0,
          0,
          0,
          0,
          0,
          0,
          0,
          0,
          0,
          0,
          0,
          0,
          0,
          0,
          0,
          0,
          0,
          0,
          0,
          0,
          0,
          0,
          0,
          0,
          0,
          0,
          0,
          0,
          0,
          0,
          0,
          0,
          0,
          0,
          0,
          0
         ]
        },
        {
         "mode": "lines+markers",
         "type": "scatter",
         "x": [
          "2024-04-08T08:00:00.000000000",
          "2024-04-08T08:15:00.000000000",
          "2024-04-08T08:30:00.000000000",
          "2024-04-08T08:45:00.000000000",
          "2024-04-08T09:00:00.000000000",
          "2024-04-08T09:15:00.000000000",
          "2024-04-08T09:30:00.000000000",
          "2024-04-08T09:45:00.000000000",
          "2024-04-08T10:00:00.000000000",
          "2024-04-08T10:15:00.000000000",
          "2024-04-08T10:30:00.000000000",
          "2024-04-08T10:45:00.000000000",
          "2024-04-08T11:00:00.000000000",
          "2024-04-08T11:15:00.000000000",
          "2024-04-08T11:30:00.000000000",
          "2024-04-08T11:45:00.000000000",
          "2024-04-08T12:00:00.000000000",
          "2024-04-08T12:15:00.000000000",
          "2024-04-08T12:30:00.000000000",
          "2024-04-08T12:45:00.000000000",
          "2024-04-08T13:00:00.000000000",
          "2024-04-08T13:15:00.000000000",
          "2024-04-08T13:30:00.000000000",
          "2024-04-08T13:45:00.000000000",
          "2024-04-08T14:00:00.000000000",
          "2024-04-08T14:15:00.000000000",
          "2024-04-08T14:30:00.000000000",
          "2024-04-08T14:45:00.000000000",
          "2024-04-08T15:00:00.000000000",
          "2024-04-08T15:15:00.000000000",
          "2024-04-08T15:30:00.000000000",
          "2024-04-08T15:45:00.000000000",
          "2024-04-08T16:00:00.000000000",
          "2024-04-08T16:15:00.000000000",
          "2024-04-08T16:30:00.000000000",
          "2024-04-08T16:45:00.000000000",
          "2024-04-08T17:00:00.000000000",
          "2024-04-08T17:15:00.000000000",
          "2024-04-08T17:30:00.000000000",
          "2024-04-08T17:45:00.000000000",
          "2024-04-08T18:00:00.000000000",
          "2024-04-08T18:15:00.000000000",
          "2024-04-08T18:30:00.000000000",
          "2024-04-08T18:45:00.000000000",
          "2024-04-08T19:00:00.000000000",
          "2024-04-08T19:15:00.000000000",
          "2024-04-08T19:30:00.000000000",
          "2024-04-08T19:45:00.000000000",
          "2024-04-08T20:00:00.000000000"
         ],
         "y": [
          5,
          22,
          13,
          4,
          1,
          0,
          5,
          0,
          6,
          4,
          2,
          2,
          0,
          1,
          0,
          0,
          0,
          0,
          0,
          0,
          0,
          0,
          8,
          1,
          0,
          0,
          0,
          0,
          2,
          5,
          8,
          0,
          0,
          0,
          0,
          0,
          0,
          2,
          0,
          0,
          0,
          0,
          0,
          0,
          0,
          0,
          0,
          0,
          0
         ]
        },
        {
         "mode": "lines+markers",
         "type": "scatter",
         "x": [
          "2024-04-08T08:00:00.000000000",
          "2024-04-08T08:15:00.000000000",
          "2024-04-08T08:30:00.000000000",
          "2024-04-08T08:45:00.000000000",
          "2024-04-08T09:00:00.000000000",
          "2024-04-08T09:15:00.000000000",
          "2024-04-08T09:30:00.000000000",
          "2024-04-08T09:45:00.000000000",
          "2024-04-08T10:00:00.000000000",
          "2024-04-08T10:15:00.000000000",
          "2024-04-08T10:30:00.000000000",
          "2024-04-08T10:45:00.000000000",
          "2024-04-08T11:00:00.000000000",
          "2024-04-08T11:15:00.000000000",
          "2024-04-08T11:30:00.000000000",
          "2024-04-08T11:45:00.000000000",
          "2024-04-08T12:00:00.000000000",
          "2024-04-08T12:15:00.000000000",
          "2024-04-08T12:30:00.000000000",
          "2024-04-08T12:45:00.000000000",
          "2024-04-08T13:00:00.000000000",
          "2024-04-08T13:15:00.000000000",
          "2024-04-08T13:30:00.000000000",
          "2024-04-08T13:45:00.000000000",
          "2024-04-08T14:00:00.000000000",
          "2024-04-08T14:15:00.000000000",
          "2024-04-08T14:30:00.000000000",
          "2024-04-08T14:45:00.000000000",
          "2024-04-08T15:00:00.000000000",
          "2024-04-08T15:15:00.000000000",
          "2024-04-08T15:30:00.000000000",
          "2024-04-08T15:45:00.000000000",
          "2024-04-08T16:00:00.000000000",
          "2024-04-08T16:15:00.000000000",
          "2024-04-08T16:30:00.000000000",
          "2024-04-08T16:45:00.000000000",
          "2024-04-08T17:00:00.000000000",
          "2024-04-08T17:15:00.000000000",
          "2024-04-08T17:30:00.000000000",
          "2024-04-08T17:45:00.000000000",
          "2024-04-08T18:00:00.000000000",
          "2024-04-08T18:15:00.000000000",
          "2024-04-08T18:30:00.000000000",
          "2024-04-08T18:45:00.000000000",
          "2024-04-08T19:00:00.000000000",
          "2024-04-08T19:15:00.000000000",
          "2024-04-08T19:30:00.000000000",
          "2024-04-08T19:45:00.000000000",
          "2024-04-08T20:00:00.000000000"
         ],
         "y": [
          0,
          0,
          0,
          0,
          0,
          0,
          2,
          7,
          15,
          2,
          0,
          0,
          0,
          0,
          0,
          0,
          0,
          0,
          0,
          0,
          0,
          0,
          0,
          0,
          0,
          0,
          0,
          0,
          0,
          0,
          0,
          0,
          0,
          0,
          0,
          0,
          0,
          0,
          0,
          0,
          0,
          0,
          0,
          0,
          0,
          0,
          0,
          2,
          0
         ]
        },
        {
         "mode": "lines+markers",
         "type": "scatter",
         "x": [
          "2024-04-08T08:00:00.000000000",
          "2024-04-08T08:15:00.000000000",
          "2024-04-08T08:30:00.000000000",
          "2024-04-08T08:45:00.000000000",
          "2024-04-08T09:00:00.000000000",
          "2024-04-08T09:15:00.000000000",
          "2024-04-08T09:30:00.000000000",
          "2024-04-08T09:45:00.000000000",
          "2024-04-08T10:00:00.000000000",
          "2024-04-08T10:15:00.000000000",
          "2024-04-08T10:30:00.000000000",
          "2024-04-08T10:45:00.000000000",
          "2024-04-08T11:00:00.000000000",
          "2024-04-08T11:15:00.000000000",
          "2024-04-08T11:30:00.000000000",
          "2024-04-08T11:45:00.000000000",
          "2024-04-08T12:00:00.000000000",
          "2024-04-08T12:15:00.000000000",
          "2024-04-08T12:30:00.000000000",
          "2024-04-08T12:45:00.000000000",
          "2024-04-08T13:00:00.000000000",
          "2024-04-08T13:15:00.000000000",
          "2024-04-08T13:30:00.000000000",
          "2024-04-08T13:45:00.000000000",
          "2024-04-08T14:00:00.000000000",
          "2024-04-08T14:15:00.000000000",
          "2024-04-08T14:30:00.000000000",
          "2024-04-08T14:45:00.000000000",
          "2024-04-08T15:00:00.000000000",
          "2024-04-08T15:15:00.000000000",
          "2024-04-08T15:30:00.000000000",
          "2024-04-08T15:45:00.000000000",
          "2024-04-08T16:00:00.000000000",
          "2024-04-08T16:15:00.000000000",
          "2024-04-08T16:30:00.000000000",
          "2024-04-08T16:45:00.000000000",
          "2024-04-08T17:00:00.000000000",
          "2024-04-08T17:15:00.000000000",
          "2024-04-08T17:30:00.000000000",
          "2024-04-08T17:45:00.000000000",
          "2024-04-08T18:00:00.000000000",
          "2024-04-08T18:15:00.000000000",
          "2024-04-08T18:30:00.000000000",
          "2024-04-08T18:45:00.000000000",
          "2024-04-08T19:00:00.000000000",
          "2024-04-08T19:15:00.000000000",
          "2024-04-08T19:30:00.000000000",
          "2024-04-08T19:45:00.000000000",
          "2024-04-08T20:00:00.000000000"
         ],
         "y": [
          0,
          0,
          0,
          0,
          0,
          0,
          0,
          0,
          0,
          0,
          0,
          0,
          0,
          0,
          0,
          0,
          0,
          0,
          0,
          0,
          0,
          0,
          0,
          0,
          0,
          0,
          0,
          0,
          0,
          0,
          0,
          0,
          0,
          0,
          0,
          0,
          0,
          0,
          0,
          0,
          0,
          0,
          0,
          0,
          0,
          0,
          0,
          0,
          0
         ]
        },
        {
         "mode": "lines+markers",
         "type": "scatter",
         "x": [
          "2024-04-08T08:00:00.000000000",
          "2024-04-08T08:15:00.000000000",
          "2024-04-08T08:30:00.000000000",
          "2024-04-08T08:45:00.000000000",
          "2024-04-08T09:00:00.000000000",
          "2024-04-08T09:15:00.000000000",
          "2024-04-08T09:30:00.000000000",
          "2024-04-08T09:45:00.000000000",
          "2024-04-08T10:00:00.000000000",
          "2024-04-08T10:15:00.000000000",
          "2024-04-08T10:30:00.000000000",
          "2024-04-08T10:45:00.000000000",
          "2024-04-08T11:00:00.000000000",
          "2024-04-08T11:15:00.000000000",
          "2024-04-08T11:30:00.000000000",
          "2024-04-08T11:45:00.000000000",
          "2024-04-08T12:00:00.000000000",
          "2024-04-08T12:15:00.000000000",
          "2024-04-08T12:30:00.000000000",
          "2024-04-08T12:45:00.000000000",
          "2024-04-08T13:00:00.000000000",
          "2024-04-08T13:15:00.000000000",
          "2024-04-08T13:30:00.000000000",
          "2024-04-08T13:45:00.000000000",
          "2024-04-08T14:00:00.000000000",
          "2024-04-08T14:15:00.000000000",
          "2024-04-08T14:30:00.000000000",
          "2024-04-08T14:45:00.000000000",
          "2024-04-08T15:00:00.000000000",
          "2024-04-08T15:15:00.000000000",
          "2024-04-08T15:30:00.000000000",
          "2024-04-08T15:45:00.000000000",
          "2024-04-08T16:00:00.000000000",
          "2024-04-08T16:15:00.000000000",
          "2024-04-08T16:30:00.000000000",
          "2024-04-08T16:45:00.000000000",
          "2024-04-08T17:00:00.000000000",
          "2024-04-08T17:15:00.000000000",
          "2024-04-08T17:30:00.000000000",
          "2024-04-08T17:45:00.000000000",
          "2024-04-08T18:00:00.000000000",
          "2024-04-08T18:15:00.000000000",
          "2024-04-08T18:30:00.000000000",
          "2024-04-08T18:45:00.000000000",
          "2024-04-08T19:00:00.000000000",
          "2024-04-08T19:15:00.000000000",
          "2024-04-08T19:30:00.000000000",
          "2024-04-08T19:45:00.000000000",
          "2024-04-08T20:00:00.000000000"
         ],
         "y": [
          0,
          0,
          0,
          0,
          0,
          0,
          0,
          0,
          0,
          0,
          0,
          0,
          0,
          0,
          0,
          0,
          0,
          0,
          0,
          0,
          0,
          0,
          0,
          0,
          0,
          0,
          0,
          0,
          0,
          0,
          0,
          0,
          0,
          0,
          0,
          0,
          0,
          0,
          0,
          0,
          0,
          0,
          0,
          0,
          0,
          0,
          0,
          0,
          0
         ]
        },
        {
         "mode": "lines+markers",
         "type": "scatter",
         "x": [
          "2024-04-08T08:00:00.000000000",
          "2024-04-08T08:15:00.000000000",
          "2024-04-08T08:30:00.000000000",
          "2024-04-08T08:45:00.000000000",
          "2024-04-08T09:00:00.000000000",
          "2024-04-08T09:15:00.000000000",
          "2024-04-08T09:30:00.000000000",
          "2024-04-08T09:45:00.000000000",
          "2024-04-08T10:00:00.000000000",
          "2024-04-08T10:15:00.000000000",
          "2024-04-08T10:30:00.000000000",
          "2024-04-08T10:45:00.000000000",
          "2024-04-08T11:00:00.000000000",
          "2024-04-08T11:15:00.000000000",
          "2024-04-08T11:30:00.000000000",
          "2024-04-08T11:45:00.000000000",
          "2024-04-08T12:00:00.000000000",
          "2024-04-08T12:15:00.000000000",
          "2024-04-08T12:30:00.000000000",
          "2024-04-08T12:45:00.000000000",
          "2024-04-08T13:00:00.000000000",
          "2024-04-08T13:15:00.000000000",
          "2024-04-08T13:30:00.000000000",
          "2024-04-08T13:45:00.000000000",
          "2024-04-08T14:00:00.000000000",
          "2024-04-08T14:15:00.000000000",
          "2024-04-08T14:30:00.000000000",
          "2024-04-08T14:45:00.000000000",
          "2024-04-08T15:00:00.000000000",
          "2024-04-08T15:15:00.000000000",
          "2024-04-08T15:30:00.000000000",
          "2024-04-08T15:45:00.000000000",
          "2024-04-08T16:00:00.000000000",
          "2024-04-08T16:15:00.000000000",
          "2024-04-08T16:30:00.000000000",
          "2024-04-08T16:45:00.000000000",
          "2024-04-08T17:00:00.000000000",
          "2024-04-08T17:15:00.000000000",
          "2024-04-08T17:30:00.000000000",
          "2024-04-08T17:45:00.000000000",
          "2024-04-08T18:00:00.000000000",
          "2024-04-08T18:15:00.000000000",
          "2024-04-08T18:30:00.000000000",
          "2024-04-08T18:45:00.000000000",
          "2024-04-08T19:00:00.000000000",
          "2024-04-08T19:15:00.000000000",
          "2024-04-08T19:30:00.000000000",
          "2024-04-08T19:45:00.000000000",
          "2024-04-08T20:00:00.000000000"
         ],
         "y": [
          0,
          0,
          0,
          0,
          0,
          0,
          0,
          0,
          0,
          0,
          0,
          0,
          0,
          1,
          0,
          0,
          0,
          0,
          0,
          0,
          0,
          0,
          0,
          1,
          0,
          0,
          0,
          0,
          0,
          0,
          0,
          0,
          0,
          0,
          0,
          0,
          0,
          0,
          0,
          0,
          0,
          0,
          0,
          0,
          1,
          0,
          0,
          0,
          0
         ]
        },
        {
         "mode": "lines+markers",
         "type": "scatter",
         "x": [
          "2024-04-08T08:00:00.000000000",
          "2024-04-08T08:15:00.000000000",
          "2024-04-08T08:30:00.000000000",
          "2024-04-08T08:45:00.000000000",
          "2024-04-08T09:00:00.000000000",
          "2024-04-08T09:15:00.000000000",
          "2024-04-08T09:30:00.000000000",
          "2024-04-08T09:45:00.000000000",
          "2024-04-08T10:00:00.000000000",
          "2024-04-08T10:15:00.000000000",
          "2024-04-08T10:30:00.000000000",
          "2024-04-08T10:45:00.000000000",
          "2024-04-08T11:00:00.000000000",
          "2024-04-08T11:15:00.000000000",
          "2024-04-08T11:30:00.000000000",
          "2024-04-08T11:45:00.000000000",
          "2024-04-08T12:00:00.000000000",
          "2024-04-08T12:15:00.000000000",
          "2024-04-08T12:30:00.000000000",
          "2024-04-08T12:45:00.000000000",
          "2024-04-08T13:00:00.000000000",
          "2024-04-08T13:15:00.000000000",
          "2024-04-08T13:30:00.000000000",
          "2024-04-08T13:45:00.000000000",
          "2024-04-08T14:00:00.000000000",
          "2024-04-08T14:15:00.000000000",
          "2024-04-08T14:30:00.000000000",
          "2024-04-08T14:45:00.000000000",
          "2024-04-08T15:00:00.000000000",
          "2024-04-08T15:15:00.000000000",
          "2024-04-08T15:30:00.000000000",
          "2024-04-08T15:45:00.000000000",
          "2024-04-08T16:00:00.000000000",
          "2024-04-08T16:15:00.000000000",
          "2024-04-08T16:30:00.000000000",
          "2024-04-08T16:45:00.000000000",
          "2024-04-08T17:00:00.000000000",
          "2024-04-08T17:15:00.000000000",
          "2024-04-08T17:30:00.000000000",
          "2024-04-08T17:45:00.000000000",
          "2024-04-08T18:00:00.000000000",
          "2024-04-08T18:15:00.000000000",
          "2024-04-08T18:30:00.000000000",
          "2024-04-08T18:45:00.000000000",
          "2024-04-08T19:00:00.000000000",
          "2024-04-08T19:15:00.000000000",
          "2024-04-08T19:30:00.000000000",
          "2024-04-08T19:45:00.000000000",
          "2024-04-08T20:00:00.000000000"
         ],
         "y": [
          0,
          0,
          0,
          0,
          0,
          0,
          0,
          0,
          0,
          0,
          0,
          0,
          0,
          0,
          0,
          0,
          0,
          0,
          0,
          0,
          0,
          0,
          0,
          0,
          0,
          0,
          0,
          0,
          0,
          0,
          0,
          0,
          0,
          0,
          0,
          0,
          0,
          0,
          0,
          0,
          0,
          0,
          0,
          0,
          0,
          0,
          0,
          0,
          0
         ]
        },
        {
         "mode": "lines+markers",
         "type": "scatter",
         "x": [
          "2024-04-08T08:00:00.000000000",
          "2024-04-08T08:15:00.000000000",
          "2024-04-08T08:30:00.000000000",
          "2024-04-08T08:45:00.000000000",
          "2024-04-08T09:00:00.000000000",
          "2024-04-08T09:15:00.000000000",
          "2024-04-08T09:30:00.000000000",
          "2024-04-08T09:45:00.000000000",
          "2024-04-08T10:00:00.000000000",
          "2024-04-08T10:15:00.000000000",
          "2024-04-08T10:30:00.000000000",
          "2024-04-08T10:45:00.000000000",
          "2024-04-08T11:00:00.000000000",
          "2024-04-08T11:15:00.000000000",
          "2024-04-08T11:30:00.000000000",
          "2024-04-08T11:45:00.000000000",
          "2024-04-08T12:00:00.000000000",
          "2024-04-08T12:15:00.000000000",
          "2024-04-08T12:30:00.000000000",
          "2024-04-08T12:45:00.000000000",
          "2024-04-08T13:00:00.000000000",
          "2024-04-08T13:15:00.000000000",
          "2024-04-08T13:30:00.000000000",
          "2024-04-08T13:45:00.000000000",
          "2024-04-08T14:00:00.000000000",
          "2024-04-08T14:15:00.000000000",
          "2024-04-08T14:30:00.000000000",
          "2024-04-08T14:45:00.000000000",
          "2024-04-08T15:00:00.000000000",
          "2024-04-08T15:15:00.000000000",
          "2024-04-08T15:30:00.000000000",
          "2024-04-08T15:45:00.000000000",
          "2024-04-08T16:00:00.000000000",
          "2024-04-08T16:15:00.000000000",
          "2024-04-08T16:30:00.000000000",
          "2024-04-08T16:45:00.000000000",
          "2024-04-08T17:00:00.000000000",
          "2024-04-08T17:15:00.000000000",
          "2024-04-08T17:30:00.000000000",
          "2024-04-08T17:45:00.000000000",
          "2024-04-08T18:00:00.000000000",
          "2024-04-08T18:15:00.000000000",
          "2024-04-08T18:30:00.000000000",
          "2024-04-08T18:45:00.000000000",
          "2024-04-08T19:00:00.000000000",
          "2024-04-08T19:15:00.000000000",
          "2024-04-08T19:30:00.000000000",
          "2024-04-08T19:45:00.000000000",
          "2024-04-08T20:00:00.000000000"
         ],
         "y": [
          0,
          0,
          0,
          0,
          0,
          0,
          0,
          0,
          0,
          0,
          0,
          0,
          0,
          0,
          0,
          0,
          0,
          0,
          0,
          0,
          0,
          0,
          0,
          0,
          0,
          0,
          0,
          0,
          0,
          0,
          0,
          0,
          0,
          0,
          0,
          0,
          0,
          0,
          0,
          0,
          0,
          0,
          0,
          0,
          0,
          0,
          0,
          0,
          0
         ]
        },
        {
         "mode": "lines+markers",
         "type": "scatter",
         "x": [
          "2024-04-08T08:00:00.000000000",
          "2024-04-08T08:15:00.000000000",
          "2024-04-08T08:30:00.000000000",
          "2024-04-08T08:45:00.000000000",
          "2024-04-08T09:00:00.000000000",
          "2024-04-08T09:15:00.000000000",
          "2024-04-08T09:30:00.000000000",
          "2024-04-08T09:45:00.000000000",
          "2024-04-08T10:00:00.000000000",
          "2024-04-08T10:15:00.000000000",
          "2024-04-08T10:30:00.000000000",
          "2024-04-08T10:45:00.000000000",
          "2024-04-08T11:00:00.000000000",
          "2024-04-08T11:15:00.000000000",
          "2024-04-08T11:30:00.000000000",
          "2024-04-08T11:45:00.000000000",
          "2024-04-08T12:00:00.000000000",
          "2024-04-08T12:15:00.000000000",
          "2024-04-08T12:30:00.000000000",
          "2024-04-08T12:45:00.000000000",
          "2024-04-08T13:00:00.000000000",
          "2024-04-08T13:15:00.000000000",
          "2024-04-08T13:30:00.000000000",
          "2024-04-08T13:45:00.000000000",
          "2024-04-08T14:00:00.000000000",
          "2024-04-08T14:15:00.000000000",
          "2024-04-08T14:30:00.000000000",
          "2024-04-08T14:45:00.000000000",
          "2024-04-08T15:00:00.000000000",
          "2024-04-08T15:15:00.000000000",
          "2024-04-08T15:30:00.000000000",
          "2024-04-08T15:45:00.000000000",
          "2024-04-08T16:00:00.000000000",
          "2024-04-08T16:15:00.000000000",
          "2024-04-08T16:30:00.000000000",
          "2024-04-08T16:45:00.000000000",
          "2024-04-08T17:00:00.000000000",
          "2024-04-08T17:15:00.000000000",
          "2024-04-08T17:30:00.000000000",
          "2024-04-08T17:45:00.000000000",
          "2024-04-08T18:00:00.000000000",
          "2024-04-08T18:15:00.000000000",
          "2024-04-08T18:30:00.000000000",
          "2024-04-08T18:45:00.000000000",
          "2024-04-08T19:00:00.000000000",
          "2024-04-08T19:15:00.000000000",
          "2024-04-08T19:30:00.000000000",
          "2024-04-08T19:45:00.000000000",
          "2024-04-08T20:00:00.000000000"
         ],
         "y": [
          0,
          0,
          0,
          0,
          0,
          0,
          0,
          0,
          0,
          0,
          0,
          0,
          0,
          1,
          0,
          0,
          0,
          0,
          0,
          2,
          5,
          19,
          30,
          4,
          0,
          3,
          0,
          0,
          0,
          0,
          0,
          0,
          0,
          0,
          0,
          0,
          5,
          0,
          0,
          0,
          0,
          0,
          0,
          0,
          0,
          0,
          0,
          0,
          1
         ]
        }
       ],
       "layout": {
        "template": {
         "data": {
          "bar": [
           {
            "error_x": {
             "color": "#2a3f5f"
            },
            "error_y": {
             "color": "#2a3f5f"
            },
            "marker": {
             "line": {
              "color": "#E5ECF6",
              "width": 0.5
             },
             "pattern": {
              "fillmode": "overlay",
              "size": 10,
              "solidity": 0.2
             }
            },
            "type": "bar"
           }
          ],
          "barpolar": [
           {
            "marker": {
             "line": {
              "color": "#E5ECF6",
              "width": 0.5
             },
             "pattern": {
              "fillmode": "overlay",
              "size": 10,
              "solidity": 0.2
             }
            },
            "type": "barpolar"
           }
          ],
          "carpet": [
           {
            "aaxis": {
             "endlinecolor": "#2a3f5f",
             "gridcolor": "white",
             "linecolor": "white",
             "minorgridcolor": "white",
             "startlinecolor": "#2a3f5f"
            },
            "baxis": {
             "endlinecolor": "#2a3f5f",
             "gridcolor": "white",
             "linecolor": "white",
             "minorgridcolor": "white",
             "startlinecolor": "#2a3f5f"
            },
            "type": "carpet"
           }
          ],
          "choropleth": [
           {
            "colorbar": {
             "outlinewidth": 0,
             "ticks": ""
            },
            "type": "choropleth"
           }
          ],
          "contour": [
           {
            "colorbar": {
             "outlinewidth": 0,
             "ticks": ""
            },
            "colorscale": [
             [
              0,
              "#0d0887"
             ],
             [
              0.1111111111111111,
              "#46039f"
             ],
             [
              0.2222222222222222,
              "#7201a8"
             ],
             [
              0.3333333333333333,
              "#9c179e"
             ],
             [
              0.4444444444444444,
              "#bd3786"
             ],
             [
              0.5555555555555556,
              "#d8576b"
             ],
             [
              0.6666666666666666,
              "#ed7953"
             ],
             [
              0.7777777777777778,
              "#fb9f3a"
             ],
             [
              0.8888888888888888,
              "#fdca26"
             ],
             [
              1,
              "#f0f921"
             ]
            ],
            "type": "contour"
           }
          ],
          "contourcarpet": [
           {
            "colorbar": {
             "outlinewidth": 0,
             "ticks": ""
            },
            "type": "contourcarpet"
           }
          ],
          "heatmap": [
           {
            "colorbar": {
             "outlinewidth": 0,
             "ticks": ""
            },
            "colorscale": [
             [
              0,
              "#0d0887"
             ],
             [
              0.1111111111111111,
              "#46039f"
             ],
             [
              0.2222222222222222,
              "#7201a8"
             ],
             [
              0.3333333333333333,
              "#9c179e"
             ],
             [
              0.4444444444444444,
              "#bd3786"
             ],
             [
              0.5555555555555556,
              "#d8576b"
             ],
             [
              0.6666666666666666,
              "#ed7953"
             ],
             [
              0.7777777777777778,
              "#fb9f3a"
             ],
             [
              0.8888888888888888,
              "#fdca26"
             ],
             [
              1,
              "#f0f921"
             ]
            ],
            "type": "heatmap"
           }
          ],
          "heatmapgl": [
           {
            "colorbar": {
             "outlinewidth": 0,
             "ticks": ""
            },
            "colorscale": [
             [
              0,
              "#0d0887"
             ],
             [
              0.1111111111111111,
              "#46039f"
             ],
             [
              0.2222222222222222,
              "#7201a8"
             ],
             [
              0.3333333333333333,
              "#9c179e"
             ],
             [
              0.4444444444444444,
              "#bd3786"
             ],
             [
              0.5555555555555556,
              "#d8576b"
             ],
             [
              0.6666666666666666,
              "#ed7953"
             ],
             [
              0.7777777777777778,
              "#fb9f3a"
             ],
             [
              0.8888888888888888,
              "#fdca26"
             ],
             [
              1,
              "#f0f921"
             ]
            ],
            "type": "heatmapgl"
           }
          ],
          "histogram": [
           {
            "marker": {
             "pattern": {
              "fillmode": "overlay",
              "size": 10,
              "solidity": 0.2
             }
            },
            "type": "histogram"
           }
          ],
          "histogram2d": [
           {
            "colorbar": {
             "outlinewidth": 0,
             "ticks": ""
            },
            "colorscale": [
             [
              0,
              "#0d0887"
             ],
             [
              0.1111111111111111,
              "#46039f"
             ],
             [
              0.2222222222222222,
              "#7201a8"
             ],
             [
              0.3333333333333333,
              "#9c179e"
             ],
             [
              0.4444444444444444,
              "#bd3786"
             ],
             [
              0.5555555555555556,
              "#d8576b"
             ],
             [
              0.6666666666666666,
              "#ed7953"
             ],
             [
              0.7777777777777778,
              "#fb9f3a"
             ],
             [
              0.8888888888888888,
              "#fdca26"
             ],
             [
              1,
              "#f0f921"
             ]
            ],
            "type": "histogram2d"
           }
          ],
          "histogram2dcontour": [
           {
            "colorbar": {
             "outlinewidth": 0,
             "ticks": ""
            },
            "colorscale": [
             [
              0,
              "#0d0887"
             ],
             [
              0.1111111111111111,
              "#46039f"
             ],
             [
              0.2222222222222222,
              "#7201a8"
             ],
             [
              0.3333333333333333,
              "#9c179e"
             ],
             [
              0.4444444444444444,
              "#bd3786"
             ],
             [
              0.5555555555555556,
              "#d8576b"
             ],
             [
              0.6666666666666666,
              "#ed7953"
             ],
             [
              0.7777777777777778,
              "#fb9f3a"
             ],
             [
              0.8888888888888888,
              "#fdca26"
             ],
             [
              1,
              "#f0f921"
             ]
            ],
            "type": "histogram2dcontour"
           }
          ],
          "mesh3d": [
           {
            "colorbar": {
             "outlinewidth": 0,
             "ticks": ""
            },
            "type": "mesh3d"
           }
          ],
          "parcoords": [
           {
            "line": {
             "colorbar": {
              "outlinewidth": 0,
              "ticks": ""
             }
            },
            "type": "parcoords"
           }
          ],
          "pie": [
           {
            "automargin": true,
            "type": "pie"
           }
          ],
          "scatter": [
           {
            "fillpattern": {
             "fillmode": "overlay",
             "size": 10,
             "solidity": 0.2
            },
            "type": "scatter"
           }
          ],
          "scatter3d": [
           {
            "line": {
             "colorbar": {
              "outlinewidth": 0,
              "ticks": ""
             }
            },
            "marker": {
             "colorbar": {
              "outlinewidth": 0,
              "ticks": ""
             }
            },
            "type": "scatter3d"
           }
          ],
          "scattercarpet": [
           {
            "marker": {
             "colorbar": {
              "outlinewidth": 0,
              "ticks": ""
             }
            },
            "type": "scattercarpet"
           }
          ],
          "scattergeo": [
           {
            "marker": {
             "colorbar": {
              "outlinewidth": 0,
              "ticks": ""
             }
            },
            "type": "scattergeo"
           }
          ],
          "scattergl": [
           {
            "marker": {
             "colorbar": {
              "outlinewidth": 0,
              "ticks": ""
             }
            },
            "type": "scattergl"
           }
          ],
          "scattermapbox": [
           {
            "marker": {
             "colorbar": {
              "outlinewidth": 0,
              "ticks": ""
             }
            },
            "type": "scattermapbox"
           }
          ],
          "scatterpolar": [
           {
            "marker": {
             "colorbar": {
              "outlinewidth": 0,
              "ticks": ""
             }
            },
            "type": "scatterpolar"
           }
          ],
          "scatterpolargl": [
           {
            "marker": {
             "colorbar": {
              "outlinewidth": 0,
              "ticks": ""
             }
            },
            "type": "scatterpolargl"
           }
          ],
          "scatterternary": [
           {
            "marker": {
             "colorbar": {
              "outlinewidth": 0,
              "ticks": ""
             }
            },
            "type": "scatterternary"
           }
          ],
          "surface": [
           {
            "colorbar": {
             "outlinewidth": 0,
             "ticks": ""
            },
            "colorscale": [
             [
              0,
              "#0d0887"
             ],
             [
              0.1111111111111111,
              "#46039f"
             ],
             [
              0.2222222222222222,
              "#7201a8"
             ],
             [
              0.3333333333333333,
              "#9c179e"
             ],
             [
              0.4444444444444444,
              "#bd3786"
             ],
             [
              0.5555555555555556,
              "#d8576b"
             ],
             [
              0.6666666666666666,
              "#ed7953"
             ],
             [
              0.7777777777777778,
              "#fb9f3a"
             ],
             [
              0.8888888888888888,
              "#fdca26"
             ],
             [
              1,
              "#f0f921"
             ]
            ],
            "type": "surface"
           }
          ],
          "table": [
           {
            "cells": {
             "fill": {
              "color": "#EBF0F8"
             },
             "line": {
              "color": "white"
             }
            },
            "header": {
             "fill": {
              "color": "#C8D4E3"
             },
             "line": {
              "color": "white"
             }
            },
            "type": "table"
           }
          ]
         },
         "layout": {
          "annotationdefaults": {
           "arrowcolor": "#2a3f5f",
           "arrowhead": 0,
           "arrowwidth": 1
          },
          "autotypenumbers": "strict",
          "coloraxis": {
           "colorbar": {
            "outlinewidth": 0,
            "ticks": ""
           }
          },
          "colorscale": {
           "diverging": [
            [
             0,
             "#8e0152"
            ],
            [
             0.1,
             "#c51b7d"
            ],
            [
             0.2,
             "#de77ae"
            ],
            [
             0.3,
             "#f1b6da"
            ],
            [
             0.4,
             "#fde0ef"
            ],
            [
             0.5,
             "#f7f7f7"
            ],
            [
             0.6,
             "#e6f5d0"
            ],
            [
             0.7,
             "#b8e186"
            ],
            [
             0.8,
             "#7fbc41"
            ],
            [
             0.9,
             "#4d9221"
            ],
            [
             1,
             "#276419"
            ]
           ],
           "sequential": [
            [
             0,
             "#0d0887"
            ],
            [
             0.1111111111111111,
             "#46039f"
            ],
            [
             0.2222222222222222,
             "#7201a8"
            ],
            [
             0.3333333333333333,
             "#9c179e"
            ],
            [
             0.4444444444444444,
             "#bd3786"
            ],
            [
             0.5555555555555556,
             "#d8576b"
            ],
            [
             0.6666666666666666,
             "#ed7953"
            ],
            [
             0.7777777777777778,
             "#fb9f3a"
            ],
            [
             0.8888888888888888,
             "#fdca26"
            ],
            [
             1,
             "#f0f921"
            ]
           ],
           "sequentialminus": [
            [
             0,
             "#0d0887"
            ],
            [
             0.1111111111111111,
             "#46039f"
            ],
            [
             0.2222222222222222,
             "#7201a8"
            ],
            [
             0.3333333333333333,
             "#9c179e"
            ],
            [
             0.4444444444444444,
             "#bd3786"
            ],
            [
             0.5555555555555556,
             "#d8576b"
            ],
            [
             0.6666666666666666,
             "#ed7953"
            ],
            [
             0.7777777777777778,
             "#fb9f3a"
            ],
            [
             0.8888888888888888,
             "#fdca26"
            ],
            [
             1,
             "#f0f921"
            ]
           ]
          },
          "colorway": [
           "#636efa",
           "#EF553B",
           "#00cc96",
           "#ab63fa",
           "#FFA15A",
           "#19d3f3",
           "#FF6692",
           "#B6E880",
           "#FF97FF",
           "#FECB52"
          ],
          "font": {
           "color": "#2a3f5f"
          },
          "geo": {
           "bgcolor": "white",
           "lakecolor": "white",
           "landcolor": "#E5ECF6",
           "showlakes": true,
           "showland": true,
           "subunitcolor": "white"
          },
          "hoverlabel": {
           "align": "left"
          },
          "hovermode": "closest",
          "mapbox": {
           "style": "light"
          },
          "paper_bgcolor": "white",
          "plot_bgcolor": "#E5ECF6",
          "polar": {
           "angularaxis": {
            "gridcolor": "white",
            "linecolor": "white",
            "ticks": ""
           },
           "bgcolor": "#E5ECF6",
           "radialaxis": {
            "gridcolor": "white",
            "linecolor": "white",
            "ticks": ""
           }
          },
          "scene": {
           "xaxis": {
            "backgroundcolor": "#E5ECF6",
            "gridcolor": "white",
            "gridwidth": 2,
            "linecolor": "white",
            "showbackground": true,
            "ticks": "",
            "zerolinecolor": "white"
           },
           "yaxis": {
            "backgroundcolor": "#E5ECF6",
            "gridcolor": "white",
            "gridwidth": 2,
            "linecolor": "white",
            "showbackground": true,
            "ticks": "",
            "zerolinecolor": "white"
           },
           "zaxis": {
            "backgroundcolor": "#E5ECF6",
            "gridcolor": "white",
            "gridwidth": 2,
            "linecolor": "white",
            "showbackground": true,
            "ticks": "",
            "zerolinecolor": "white"
           }
          },
          "shapedefaults": {
           "line": {
            "color": "#2a3f5f"
           }
          },
          "ternary": {
           "aaxis": {
            "gridcolor": "white",
            "linecolor": "white",
            "ticks": ""
           },
           "baxis": {
            "gridcolor": "white",
            "linecolor": "white",
            "ticks": ""
           },
           "bgcolor": "#E5ECF6",
           "caxis": {
            "gridcolor": "white",
            "linecolor": "white",
            "ticks": ""
           }
          },
          "title": {
           "x": 0.05
          },
          "xaxis": {
           "automargin": true,
           "gridcolor": "white",
           "linecolor": "white",
           "ticks": "",
           "title": {
            "standoff": 15
           },
           "zerolinecolor": "white",
           "zerolinewidth": 2
          },
          "yaxis": {
           "automargin": true,
           "gridcolor": "white",
           "linecolor": "white",
           "ticks": "",
           "title": {
            "standoff": 15
           },
           "zerolinecolor": "white",
           "zerolinewidth": 2
          }
         }
        }
       }
      }
     },
     "metadata": {},
     "output_type": "display_data"
    }
   ],
   "source": [
    "def plot_cluster_details(cluster_number, clustering_model, samples, time_axis):\n",
    "    \n",
    "    indices = np.arange(len(samples))\n",
    "    \n",
    "    fig = go.Figure()\n",
    "    \n",
    "    cluster_indices = indices[clustering_model.labels_ == cluster_number]\n",
    "    cluster_center = clustering_model.cluster_centers_[cluster_number]\n",
    "\n",
    "    cluster_group_list = group_list[cluster_indices]\n",
    "    \n",
    "    print(f\"################ {cluster_number} ################\")\n",
    "    #print(cluster_indices)\n",
    "    #print(cluster_group_list)\n",
    "    #print()\n",
    "    \n",
    "    # line plot\n",
    "    fig.add_trace(\n",
    "        go.Scatter(\n",
    "            x=time_axis, \n",
    "            y=cluster_center, \n",
    "            name=f'Center',\n",
    "            mode=\"lines+markers\"        \n",
    "        )\n",
    "    )\n",
    "\n",
    "    for x in range(len(cluster_indices)):\n",
    "        fig.add_trace(\n",
    "            go.Scatter(\n",
    "                x=times[0], \n",
    "                y=samples[cluster_indices[x]], \n",
    "                mode=\"lines+markers\"        \n",
    "            )\n",
    "        )\n",
    "    \n",
    "    return fig\n",
    "    \n",
    "plot_cluster_details(0, clustering_model, samples, times[0]).show()"
   ]
  },
  {
   "cell_type": "code",
   "execution_count": 20,
   "metadata": {},
   "outputs": [
    {
     "name": "stdout",
     "output_type": "stream",
     "text": [
      "################ 0 ################\n",
      "[ 6 12 13 19 20 23 25 26 27 31 32 33 34 40 41 42 43 46 47 48 52 53 54 55\n",
      " 60 61 62 67 68 69 74 75 76]\n",
      "[datetime.date(2024, 4, 14) datetime.date(2024, 4, 20)\n",
      " datetime.date(2024, 4, 21) datetime.date(2024, 4, 27)\n",
      " datetime.date(2024, 4, 28) datetime.date(2024, 5, 1)\n",
      " datetime.date(2024, 5, 3) datetime.date(2024, 5, 4)\n",
      " datetime.date(2024, 5, 5) datetime.date(2024, 5, 9)\n",
      " datetime.date(2024, 5, 10) datetime.date(2024, 5, 11)\n",
      " datetime.date(2024, 5, 12) datetime.date(2024, 5, 18)\n",
      " datetime.date(2024, 5, 19) datetime.date(2024, 5, 20)\n",
      " datetime.date(2024, 5, 21) datetime.date(2024, 5, 24)\n",
      " datetime.date(2024, 5, 25) datetime.date(2024, 5, 26)\n",
      " datetime.date(2024, 5, 30) datetime.date(2024, 5, 31)\n",
      " datetime.date(2024, 6, 1) datetime.date(2024, 6, 2)\n",
      " datetime.date(2024, 6, 7) datetime.date(2024, 6, 8)\n",
      " datetime.date(2024, 6, 9) datetime.date(2024, 6, 14)\n",
      " datetime.date(2024, 6, 15) datetime.date(2024, 6, 16)\n",
      " datetime.date(2024, 6, 21) datetime.date(2024, 6, 22)\n",
      " datetime.date(2024, 6, 23)]\n",
      "\n",
      "################ 1 ################\n",
      "[22 28 50 64 77 79]\n",
      "[datetime.date(2024, 4, 30) datetime.date(2024, 5, 6)\n",
      " datetime.date(2024, 5, 28) datetime.date(2024, 6, 11)\n",
      " datetime.date(2024, 6, 24) datetime.date(2024, 6, 26)]\n",
      "\n",
      "################ 2 ################\n",
      "[ 0  7 14 21 35 49 56 63 70]\n",
      "[datetime.date(2024, 4, 8) datetime.date(2024, 4, 15)\n",
      " datetime.date(2024, 4, 22) datetime.date(2024, 4, 29)\n",
      " datetime.date(2024, 5, 13) datetime.date(2024, 5, 27)\n",
      " datetime.date(2024, 6, 3) datetime.date(2024, 6, 10)\n",
      " datetime.date(2024, 6, 17)]\n",
      "\n",
      "################ 3 ################\n",
      "[ 1  2  5  8  9 10 15 16 17 18 24 30 36 37 38 44 45 51 57 58 59 65 66 71\n",
      " 72 73]\n",
      "[datetime.date(2024, 4, 9) datetime.date(2024, 4, 10)\n",
      " datetime.date(2024, 4, 13) datetime.date(2024, 4, 16)\n",
      " datetime.date(2024, 4, 17) datetime.date(2024, 4, 18)\n",
      " datetime.date(2024, 4, 23) datetime.date(2024, 4, 24)\n",
      " datetime.date(2024, 4, 25) datetime.date(2024, 4, 26)\n",
      " datetime.date(2024, 5, 2) datetime.date(2024, 5, 8)\n",
      " datetime.date(2024, 5, 14) datetime.date(2024, 5, 15)\n",
      " datetime.date(2024, 5, 16) datetime.date(2024, 5, 22)\n",
      " datetime.date(2024, 5, 23) datetime.date(2024, 5, 29)\n",
      " datetime.date(2024, 6, 4) datetime.date(2024, 6, 5)\n",
      " datetime.date(2024, 6, 6) datetime.date(2024, 6, 12)\n",
      " datetime.date(2024, 6, 13) datetime.date(2024, 6, 18)\n",
      " datetime.date(2024, 6, 19) datetime.date(2024, 6, 20)]\n",
      "\n",
      "################ 4 ################\n",
      "[78]\n",
      "[datetime.date(2024, 6, 25)]\n",
      "\n",
      "################ 5 ################\n",
      "[ 3 80]\n",
      "[datetime.date(2024, 4, 11) datetime.date(2024, 6, 27)]\n",
      "\n",
      "################ 6 ################\n",
      "[ 4 11 29 39 81]\n",
      "[datetime.date(2024, 4, 12) datetime.date(2024, 4, 19)\n",
      " datetime.date(2024, 5, 7) datetime.date(2024, 5, 17)\n",
      " datetime.date(2024, 6, 28)]\n",
      "\n"
     ]
    },
    {
     "data": {
      "application/vnd.plotly.v1+json": {
       "config": {
        "plotlyServerURL": "https://plot.ly"
       },
       "data": [
        {
         "mode": "lines+markers",
         "name": "cluster 0",
         "type": "scatter",
         "x": [
          "2024-04-08T00:00:00.000000000",
          "2024-04-08T00:15:00.000000000",
          "2024-04-08T00:30:00.000000000",
          "2024-04-08T00:45:00.000000000",
          "2024-04-08T01:00:00.000000000",
          "2024-04-08T01:15:00.000000000",
          "2024-04-08T01:30:00.000000000",
          "2024-04-08T01:45:00.000000000",
          "2024-04-08T02:00:00.000000000",
          "2024-04-08T02:15:00.000000000",
          "2024-04-08T02:30:00.000000000",
          "2024-04-08T02:45:00.000000000",
          "2024-04-08T03:00:00.000000000",
          "2024-04-08T03:15:00.000000000",
          "2024-04-08T03:30:00.000000000",
          "2024-04-08T03:45:00.000000000",
          "2024-04-08T04:00:00.000000000",
          "2024-04-08T04:15:00.000000000",
          "2024-04-08T04:30:00.000000000",
          "2024-04-08T04:45:00.000000000",
          "2024-04-08T05:00:00.000000000",
          "2024-04-08T05:15:00.000000000",
          "2024-04-08T05:30:00.000000000",
          "2024-04-08T05:45:00.000000000",
          "2024-04-08T06:00:00.000000000",
          "2024-04-08T06:15:00.000000000",
          "2024-04-08T06:30:00.000000000",
          "2024-04-08T06:45:00.000000000",
          "2024-04-08T07:00:00.000000000",
          "2024-04-08T07:15:00.000000000",
          "2024-04-08T07:30:00.000000000",
          "2024-04-08T07:45:00.000000000",
          "2024-04-08T08:00:00.000000000",
          "2024-04-08T08:15:00.000000000",
          "2024-04-08T08:30:00.000000000",
          "2024-04-08T08:45:00.000000000",
          "2024-04-08T09:00:00.000000000",
          "2024-04-08T09:15:00.000000000",
          "2024-04-08T09:30:00.000000000",
          "2024-04-08T09:45:00.000000000",
          "2024-04-08T10:00:00.000000000",
          "2024-04-08T10:15:00.000000000",
          "2024-04-08T10:30:00.000000000",
          "2024-04-08T10:45:00.000000000",
          "2024-04-08T11:00:00.000000000",
          "2024-04-08T11:15:00.000000000",
          "2024-04-08T11:30:00.000000000",
          "2024-04-08T11:45:00.000000000",
          "2024-04-08T12:00:00.000000000",
          "2024-04-08T12:15:00.000000000",
          "2024-04-08T12:30:00.000000000",
          "2024-04-08T12:45:00.000000000",
          "2024-04-08T13:00:00.000000000",
          "2024-04-08T13:15:00.000000000",
          "2024-04-08T13:30:00.000000000",
          "2024-04-08T13:45:00.000000000",
          "2024-04-08T14:00:00.000000000",
          "2024-04-08T14:15:00.000000000",
          "2024-04-08T14:30:00.000000000",
          "2024-04-08T14:45:00.000000000",
          "2024-04-08T15:00:00.000000000",
          "2024-04-08T15:15:00.000000000",
          "2024-04-08T15:30:00.000000000",
          "2024-04-08T15:45:00.000000000",
          "2024-04-08T16:00:00.000000000",
          "2024-04-08T16:15:00.000000000",
          "2024-04-08T16:30:00.000000000",
          "2024-04-08T16:45:00.000000000",
          "2024-04-08T17:00:00.000000000",
          "2024-04-08T17:15:00.000000000",
          "2024-04-08T17:30:00.000000000",
          "2024-04-08T17:45:00.000000000",
          "2024-04-08T18:00:00.000000000",
          "2024-04-08T18:15:00.000000000",
          "2024-04-08T18:30:00.000000000",
          "2024-04-08T18:45:00.000000000",
          "2024-04-08T19:00:00.000000000",
          "2024-04-08T19:15:00.000000000",
          "2024-04-08T19:30:00.000000000",
          "2024-04-08T19:45:00.000000000",
          "2024-04-08T20:00:00.000000000",
          "2024-04-08T20:15:00.000000000",
          "2024-04-08T20:30:00.000000000",
          "2024-04-08T20:45:00.000000000",
          "2024-04-08T21:00:00.000000000",
          "2024-04-08T21:15:00.000000000",
          "2024-04-08T21:30:00.000000000",
          "2024-04-08T21:45:00.000000000",
          "2024-04-08T22:00:00.000000000",
          "2024-04-08T22:15:00.000000000",
          "2024-04-08T22:30:00.000000000",
          "2024-04-08T22:45:00.000000000",
          "2024-04-08T23:00:00.000000000",
          "2024-04-08T23:15:00.000000000",
          "2024-04-08T23:30:00.000000000",
          "2024-04-08T23:45:00.000000000"
         ],
         "y": [
          0,
          0,
          0,
          0,
          0,
          0,
          0,
          0,
          0,
          0,
          0,
          0,
          0,
          0,
          0,
          0,
          0,
          0,
          0,
          0,
          0,
          0,
          0,
          -2.7755575615628914e-17,
          0.7272727272727262,
          0.48484848484848503,
          0.2121212121212122,
          0.03030303030303047,
          0.03030303030303029,
          5.551115123125783e-17,
          -1.1102230246251565e-16,
          0.09090909090909094,
          0.06060606060606055,
          0.30303030303030365,
          0.18181818181818166,
          0.030303030303030387,
          -1.6653345369377348e-16,
          0.12121212121212122,
          0.18181818181818168,
          0.21212121212121243,
          0.7575757575757613,
          0.15151515151515182,
          0,
          -1.6653345369377348e-16,
          -1.1102230246251565e-16,
          0.12121212121212133,
          0.2727272727272734,
          0.1818181818181781,
          0.030303030303029388,
          2.220446049250313e-16,
          0.06060606060606061,
          0.06060606060606047,
          0.03030303030303072,
          0.06060606060606011,
          0.06060606060606233,
          0.030303030303031164,
          -1.6653345369377348e-16,
          0.030303030303029943,
          0.1212121212121211,
          0.12121212121212122,
          -6.661338147750939e-16,
          0.03030303030302761,
          0,
          -5.551115123125783e-17,
          0.5757575757575761,
          0.06060606060606061,
          0.09090909090909083,
          0.36363636363636376,
          0.4848484848484844,
          0.09090909090909083,
          0.03030303030303025,
          0.030303030303030283,
          5.551115123125783e-17,
          5.551115123125783e-17,
          -1.1102230246251565e-16,
          0.030303030303030498,
          0.030303030303030262,
          0.18181818181818182,
          -2.7755575615628914e-17,
          0.06060606060606061,
          -2.7755575615628914e-17,
          -1.0408340855860843e-17,
          0,
          -1.0408340855860843e-17,
          0,
          0,
          0.030303030303030297,
          0,
          -1.3877787807814457e-17,
          0,
          0,
          0,
          0,
          -5.204170427930421e-18,
          0,
          0
         ]
        },
        {
         "mode": "lines+markers",
         "name": "cluster 1",
         "type": "scatter",
         "x": [
          "2024-04-08T00:00:00.000000000",
          "2024-04-08T00:15:00.000000000",
          "2024-04-08T00:30:00.000000000",
          "2024-04-08T00:45:00.000000000",
          "2024-04-08T01:00:00.000000000",
          "2024-04-08T01:15:00.000000000",
          "2024-04-08T01:30:00.000000000",
          "2024-04-08T01:45:00.000000000",
          "2024-04-08T02:00:00.000000000",
          "2024-04-08T02:15:00.000000000",
          "2024-04-08T02:30:00.000000000",
          "2024-04-08T02:45:00.000000000",
          "2024-04-08T03:00:00.000000000",
          "2024-04-08T03:15:00.000000000",
          "2024-04-08T03:30:00.000000000",
          "2024-04-08T03:45:00.000000000",
          "2024-04-08T04:00:00.000000000",
          "2024-04-08T04:15:00.000000000",
          "2024-04-08T04:30:00.000000000",
          "2024-04-08T04:45:00.000000000",
          "2024-04-08T05:00:00.000000000",
          "2024-04-08T05:15:00.000000000",
          "2024-04-08T05:30:00.000000000",
          "2024-04-08T05:45:00.000000000",
          "2024-04-08T06:00:00.000000000",
          "2024-04-08T06:15:00.000000000",
          "2024-04-08T06:30:00.000000000",
          "2024-04-08T06:45:00.000000000",
          "2024-04-08T07:00:00.000000000",
          "2024-04-08T07:15:00.000000000",
          "2024-04-08T07:30:00.000000000",
          "2024-04-08T07:45:00.000000000",
          "2024-04-08T08:00:00.000000000",
          "2024-04-08T08:15:00.000000000",
          "2024-04-08T08:30:00.000000000",
          "2024-04-08T08:45:00.000000000",
          "2024-04-08T09:00:00.000000000",
          "2024-04-08T09:15:00.000000000",
          "2024-04-08T09:30:00.000000000",
          "2024-04-08T09:45:00.000000000",
          "2024-04-08T10:00:00.000000000",
          "2024-04-08T10:15:00.000000000",
          "2024-04-08T10:30:00.000000000",
          "2024-04-08T10:45:00.000000000",
          "2024-04-08T11:00:00.000000000",
          "2024-04-08T11:15:00.000000000",
          "2024-04-08T11:30:00.000000000",
          "2024-04-08T11:45:00.000000000",
          "2024-04-08T12:00:00.000000000",
          "2024-04-08T12:15:00.000000000",
          "2024-04-08T12:30:00.000000000",
          "2024-04-08T12:45:00.000000000",
          "2024-04-08T13:00:00.000000000",
          "2024-04-08T13:15:00.000000000",
          "2024-04-08T13:30:00.000000000",
          "2024-04-08T13:45:00.000000000",
          "2024-04-08T14:00:00.000000000",
          "2024-04-08T14:15:00.000000000",
          "2024-04-08T14:30:00.000000000",
          "2024-04-08T14:45:00.000000000",
          "2024-04-08T15:00:00.000000000",
          "2024-04-08T15:15:00.000000000",
          "2024-04-08T15:30:00.000000000",
          "2024-04-08T15:45:00.000000000",
          "2024-04-08T16:00:00.000000000",
          "2024-04-08T16:15:00.000000000",
          "2024-04-08T16:30:00.000000000",
          "2024-04-08T16:45:00.000000000",
          "2024-04-08T17:00:00.000000000",
          "2024-04-08T17:15:00.000000000",
          "2024-04-08T17:30:00.000000000",
          "2024-04-08T17:45:00.000000000",
          "2024-04-08T18:00:00.000000000",
          "2024-04-08T18:15:00.000000000",
          "2024-04-08T18:30:00.000000000",
          "2024-04-08T18:45:00.000000000",
          "2024-04-08T19:00:00.000000000",
          "2024-04-08T19:15:00.000000000",
          "2024-04-08T19:30:00.000000000",
          "2024-04-08T19:45:00.000000000",
          "2024-04-08T20:00:00.000000000",
          "2024-04-08T20:15:00.000000000",
          "2024-04-08T20:30:00.000000000",
          "2024-04-08T20:45:00.000000000",
          "2024-04-08T21:00:00.000000000",
          "2024-04-08T21:15:00.000000000",
          "2024-04-08T21:30:00.000000000",
          "2024-04-08T21:45:00.000000000",
          "2024-04-08T22:00:00.000000000",
          "2024-04-08T22:15:00.000000000",
          "2024-04-08T22:30:00.000000000",
          "2024-04-08T22:45:00.000000000",
          "2024-04-08T23:00:00.000000000",
          "2024-04-08T23:15:00.000000000",
          "2024-04-08T23:30:00.000000000",
          "2024-04-08T23:45:00.000000000"
         ],
         "y": [
          0,
          0,
          0,
          0,
          0,
          0,
          0,
          0,
          0,
          0,
          0,
          0,
          0,
          0,
          0,
          0,
          0,
          0,
          0,
          0,
          0,
          0,
          0,
          1.3877787807814457e-17,
          3.1666666666666665,
          0.33333333333333337,
          0.16666666666666663,
          0.16666666666666669,
          3.469446951953614e-18,
          2.7755575615628914e-17,
          0.49999999999999994,
          1,
          3,
          13.166666666666668,
          5.5,
          1.1666666666666667,
          0.5,
          0.3333333333333333,
          0.9999999999999999,
          0.8333333333333333,
          8.166666666666668,
          1.3333333333333335,
          0.8333333333333334,
          0.9999999999999998,
          0.3333333333333333,
          0.8333333333333334,
          0,
          0,
          0.5000000000000002,
          0.8333333333333333,
          0.16666666666666669,
          1.8333333333333337,
          3.333333333333334,
          17,
          24.000000000000004,
          2.6666666666666665,
          0,
          1.5,
          0.33333333333333337,
          5.551115123125783e-17,
          3,
          9,
          2.833333333333333,
          2.7755575615628914e-17,
          1,
          0.3333333333333333,
          0.5,
          0,
          2,
          0.8333333333333334,
          2.7755575615628914e-17,
          1.3877787807814457e-17,
          0.16666666666666669,
          2.7755575615628914e-17,
          0,
          0.5,
          1.3877787807814457e-17,
          0,
          0.33333333333333326,
          2.7755575615628914e-17,
          0.16666666666666669,
          3.469446951953614e-18,
          0,
          0.3333333333333333,
          0,
          0,
          1.734723475976807e-18,
          0,
          0,
          0,
          0,
          0,
          0,
          1.734723475976807e-18,
          0,
          0
         ]
        },
        {
         "mode": "lines+markers",
         "name": "cluster 2",
         "type": "scatter",
         "x": [
          "2024-04-08T00:00:00.000000000",
          "2024-04-08T00:15:00.000000000",
          "2024-04-08T00:30:00.000000000",
          "2024-04-08T00:45:00.000000000",
          "2024-04-08T01:00:00.000000000",
          "2024-04-08T01:15:00.000000000",
          "2024-04-08T01:30:00.000000000",
          "2024-04-08T01:45:00.000000000",
          "2024-04-08T02:00:00.000000000",
          "2024-04-08T02:15:00.000000000",
          "2024-04-08T02:30:00.000000000",
          "2024-04-08T02:45:00.000000000",
          "2024-04-08T03:00:00.000000000",
          "2024-04-08T03:15:00.000000000",
          "2024-04-08T03:30:00.000000000",
          "2024-04-08T03:45:00.000000000",
          "2024-04-08T04:00:00.000000000",
          "2024-04-08T04:15:00.000000000",
          "2024-04-08T04:30:00.000000000",
          "2024-04-08T04:45:00.000000000",
          "2024-04-08T05:00:00.000000000",
          "2024-04-08T05:15:00.000000000",
          "2024-04-08T05:30:00.000000000",
          "2024-04-08T05:45:00.000000000",
          "2024-04-08T06:00:00.000000000",
          "2024-04-08T06:15:00.000000000",
          "2024-04-08T06:30:00.000000000",
          "2024-04-08T06:45:00.000000000",
          "2024-04-08T07:00:00.000000000",
          "2024-04-08T07:15:00.000000000",
          "2024-04-08T07:30:00.000000000",
          "2024-04-08T07:45:00.000000000",
          "2024-04-08T08:00:00.000000000",
          "2024-04-08T08:15:00.000000000",
          "2024-04-08T08:30:00.000000000",
          "2024-04-08T08:45:00.000000000",
          "2024-04-08T09:00:00.000000000",
          "2024-04-08T09:15:00.000000000",
          "2024-04-08T09:30:00.000000000",
          "2024-04-08T09:45:00.000000000",
          "2024-04-08T10:00:00.000000000",
          "2024-04-08T10:15:00.000000000",
          "2024-04-08T10:30:00.000000000",
          "2024-04-08T10:45:00.000000000",
          "2024-04-08T11:00:00.000000000",
          "2024-04-08T11:15:00.000000000",
          "2024-04-08T11:30:00.000000000",
          "2024-04-08T11:45:00.000000000",
          "2024-04-08T12:00:00.000000000",
          "2024-04-08T12:15:00.000000000",
          "2024-04-08T12:30:00.000000000",
          "2024-04-08T12:45:00.000000000",
          "2024-04-08T13:00:00.000000000",
          "2024-04-08T13:15:00.000000000",
          "2024-04-08T13:30:00.000000000",
          "2024-04-08T13:45:00.000000000",
          "2024-04-08T14:00:00.000000000",
          "2024-04-08T14:15:00.000000000",
          "2024-04-08T14:30:00.000000000",
          "2024-04-08T14:45:00.000000000",
          "2024-04-08T15:00:00.000000000",
          "2024-04-08T15:15:00.000000000",
          "2024-04-08T15:30:00.000000000",
          "2024-04-08T15:45:00.000000000",
          "2024-04-08T16:00:00.000000000",
          "2024-04-08T16:15:00.000000000",
          "2024-04-08T16:30:00.000000000",
          "2024-04-08T16:45:00.000000000",
          "2024-04-08T17:00:00.000000000",
          "2024-04-08T17:15:00.000000000",
          "2024-04-08T17:30:00.000000000",
          "2024-04-08T17:45:00.000000000",
          "2024-04-08T18:00:00.000000000",
          "2024-04-08T18:15:00.000000000",
          "2024-04-08T18:30:00.000000000",
          "2024-04-08T18:45:00.000000000",
          "2024-04-08T19:00:00.000000000",
          "2024-04-08T19:15:00.000000000",
          "2024-04-08T19:30:00.000000000",
          "2024-04-08T19:45:00.000000000",
          "2024-04-08T20:00:00.000000000",
          "2024-04-08T20:15:00.000000000",
          "2024-04-08T20:30:00.000000000",
          "2024-04-08T20:45:00.000000000",
          "2024-04-08T21:00:00.000000000",
          "2024-04-08T21:15:00.000000000",
          "2024-04-08T21:30:00.000000000",
          "2024-04-08T21:45:00.000000000",
          "2024-04-08T22:00:00.000000000",
          "2024-04-08T22:15:00.000000000",
          "2024-04-08T22:30:00.000000000",
          "2024-04-08T22:45:00.000000000",
          "2024-04-08T23:00:00.000000000",
          "2024-04-08T23:15:00.000000000",
          "2024-04-08T23:30:00.000000000",
          "2024-04-08T23:45:00.000000000"
         ],
         "y": [
          0,
          0,
          0,
          0,
          0,
          0,
          0,
          0,
          0,
          0,
          0,
          0,
          0,
          0,
          0,
          0,
          0,
          0,
          0,
          0,
          0,
          0,
          0,
          2.7755575615628914e-17,
          3,
          -1.1102230246251565e-16,
          0.44444444444444453,
          0.777777777777778,
          6.938893903907228e-18,
          0.22222222222222227,
          0.44444444444444453,
          5.551115123125783e-17,
          0,
          8.881784197001252e-16,
          0.11111111111111116,
          2.220446049250313e-16,
          0.11111111111111116,
          0.11111111111111116,
          1.1102230246251565e-16,
          0.11111111111111116,
          0,
          4.440892098500626e-16,
          5.551115123125783e-17,
          0,
          1.1102230246251565e-16,
          1.1102230246251565e-16,
          3.444444444444444,
          34.66666666666666,
          11.000000000000002,
          2.333333333333333,
          0.9999999999999998,
          0.2222222222222222,
          1.1111111111111112,
          1.3333333333333335,
          15.333333333333334,
          4.444444444444445,
          0,
          -1.1102230246251565e-16,
          0.4444444444444445,
          0.5555555555555556,
          2.444444444444444,
          18.666666666666664,
          4.222222222222222,
          0.2222222222222222,
          0.5555555555555556,
          0.5555555555555556,
          0.3333333333333333,
          0.888888888888889,
          5.777777777777778,
          0.5555555555555555,
          5.551115123125783e-17,
          2.7755575615628914e-17,
          0.5555555555555556,
          0.11111111111111115,
          0,
          1.1111111111111112,
          0.11111111111111112,
          1.3877787807814457e-17,
          0.1111111111111111,
          0.11111111111111112,
          0.22222222222222227,
          6.938893903907228e-18,
          0,
          6.938893903907228e-18,
          0,
          0,
          3.469446951953614e-18,
          0,
          6.938893903907228e-18,
          0,
          0,
          0,
          0,
          0.1111111111111111,
          0,
          0
         ]
        },
        {
         "mode": "lines+markers",
         "name": "cluster 3",
         "type": "scatter",
         "x": [
          "2024-04-08T00:00:00.000000000",
          "2024-04-08T00:15:00.000000000",
          "2024-04-08T00:30:00.000000000",
          "2024-04-08T00:45:00.000000000",
          "2024-04-08T01:00:00.000000000",
          "2024-04-08T01:15:00.000000000",
          "2024-04-08T01:30:00.000000000",
          "2024-04-08T01:45:00.000000000",
          "2024-04-08T02:00:00.000000000",
          "2024-04-08T02:15:00.000000000",
          "2024-04-08T02:30:00.000000000",
          "2024-04-08T02:45:00.000000000",
          "2024-04-08T03:00:00.000000000",
          "2024-04-08T03:15:00.000000000",
          "2024-04-08T03:30:00.000000000",
          "2024-04-08T03:45:00.000000000",
          "2024-04-08T04:00:00.000000000",
          "2024-04-08T04:15:00.000000000",
          "2024-04-08T04:30:00.000000000",
          "2024-04-08T04:45:00.000000000",
          "2024-04-08T05:00:00.000000000",
          "2024-04-08T05:15:00.000000000",
          "2024-04-08T05:30:00.000000000",
          "2024-04-08T05:45:00.000000000",
          "2024-04-08T06:00:00.000000000",
          "2024-04-08T06:15:00.000000000",
          "2024-04-08T06:30:00.000000000",
          "2024-04-08T06:45:00.000000000",
          "2024-04-08T07:00:00.000000000",
          "2024-04-08T07:15:00.000000000",
          "2024-04-08T07:30:00.000000000",
          "2024-04-08T07:45:00.000000000",
          "2024-04-08T08:00:00.000000000",
          "2024-04-08T08:15:00.000000000",
          "2024-04-08T08:30:00.000000000",
          "2024-04-08T08:45:00.000000000",
          "2024-04-08T09:00:00.000000000",
          "2024-04-08T09:15:00.000000000",
          "2024-04-08T09:30:00.000000000",
          "2024-04-08T09:45:00.000000000",
          "2024-04-08T10:00:00.000000000",
          "2024-04-08T10:15:00.000000000",
          "2024-04-08T10:30:00.000000000",
          "2024-04-08T10:45:00.000000000",
          "2024-04-08T11:00:00.000000000",
          "2024-04-08T11:15:00.000000000",
          "2024-04-08T11:30:00.000000000",
          "2024-04-08T11:45:00.000000000",
          "2024-04-08T12:00:00.000000000",
          "2024-04-08T12:15:00.000000000",
          "2024-04-08T12:30:00.000000000",
          "2024-04-08T12:45:00.000000000",
          "2024-04-08T13:00:00.000000000",
          "2024-04-08T13:15:00.000000000",
          "2024-04-08T13:30:00.000000000",
          "2024-04-08T13:45:00.000000000",
          "2024-04-08T14:00:00.000000000",
          "2024-04-08T14:15:00.000000000",
          "2024-04-08T14:30:00.000000000",
          "2024-04-08T14:45:00.000000000",
          "2024-04-08T15:00:00.000000000",
          "2024-04-08T15:15:00.000000000",
          "2024-04-08T15:30:00.000000000",
          "2024-04-08T15:45:00.000000000",
          "2024-04-08T16:00:00.000000000",
          "2024-04-08T16:15:00.000000000",
          "2024-04-08T16:30:00.000000000",
          "2024-04-08T16:45:00.000000000",
          "2024-04-08T17:00:00.000000000",
          "2024-04-08T17:15:00.000000000",
          "2024-04-08T17:30:00.000000000",
          "2024-04-08T17:45:00.000000000",
          "2024-04-08T18:00:00.000000000",
          "2024-04-08T18:15:00.000000000",
          "2024-04-08T18:30:00.000000000",
          "2024-04-08T18:45:00.000000000",
          "2024-04-08T19:00:00.000000000",
          "2024-04-08T19:15:00.000000000",
          "2024-04-08T19:30:00.000000000",
          "2024-04-08T19:45:00.000000000",
          "2024-04-08T20:00:00.000000000",
          "2024-04-08T20:15:00.000000000",
          "2024-04-08T20:30:00.000000000",
          "2024-04-08T20:45:00.000000000",
          "2024-04-08T21:00:00.000000000",
          "2024-04-08T21:15:00.000000000",
          "2024-04-08T21:30:00.000000000",
          "2024-04-08T21:45:00.000000000",
          "2024-04-08T22:00:00.000000000",
          "2024-04-08T22:15:00.000000000",
          "2024-04-08T22:30:00.000000000",
          "2024-04-08T22:45:00.000000000",
          "2024-04-08T23:00:00.000000000",
          "2024-04-08T23:15:00.000000000",
          "2024-04-08T23:30:00.000000000",
          "2024-04-08T23:45:00.000000000"
         ],
         "y": [
          0,
          0,
          0,
          0,
          0,
          0,
          0,
          0,
          0,
          0,
          0,
          0,
          0,
          0,
          0,
          0,
          0,
          0,
          0,
          0,
          0,
          0,
          0,
          0.26923076923076933,
          2.884615384615384,
          1.5384615384615383,
          0.653846153846154,
          0.2692307692307692,
          -1.0408340855860843e-17,
          0.1153846153846154,
          0.6153846153846152,
          0.5384615384615385,
          5.076923076923077,
          17.423076923076927,
          7.692307692307693,
          1.9230769230769234,
          0.846153846153846,
          0.8076923076923075,
          0.6153846153846154,
          0.4230769230769231,
          31.653846153846164,
          5.53846153846154,
          0.5769230769230769,
          0.5384615384615383,
          0.8076923076923075,
          1.3461538461538467,
          1.8076923076923075,
          8.692307692307692,
          1.6153846153846156,
          0.3846153846153845,
          0.34615384615384615,
          0.07692307692307682,
          0.15384615384615408,
          0.8461538461538458,
          9.26923076923077,
          2.384615384615385,
          0.2692307692307691,
          0.3076923076923078,
          0.23076923076923078,
          0.42307692307692313,
          0.9615384615384613,
          5.615384615384615,
          1.1153846153846152,
          0.3076923076923076,
          0.03846153846153899,
          0.11538461538461539,
          0.15384615384615383,
          1.6153846153846159,
          7.500000000000001,
          2.423076923076923,
          0.4615384615384615,
          0.19230769230769232,
          0.1153846153846154,
          0.3846153846153847,
          0.8461538461538466,
          1.2692307692307692,
          0.23076923076923073,
          -2.7755575615628914e-17,
          0.11538461538461534,
          0.3076923076923077,
          0.15384615384615383,
          -1.0408340855860843e-17,
          0,
          -1.0408340855860843e-17,
          0,
          0,
          -5.204170427930421e-18,
          0,
          0.11538461538461536,
          0,
          0,
          0,
          0,
          -5.204170427930421e-18,
          0,
          0
         ]
        },
        {
         "mode": "lines+markers",
         "name": "cluster 4",
         "type": "scatter",
         "x": [
          "2024-04-08T00:00:00.000000000",
          "2024-04-08T00:15:00.000000000",
          "2024-04-08T00:30:00.000000000",
          "2024-04-08T00:45:00.000000000",
          "2024-04-08T01:00:00.000000000",
          "2024-04-08T01:15:00.000000000",
          "2024-04-08T01:30:00.000000000",
          "2024-04-08T01:45:00.000000000",
          "2024-04-08T02:00:00.000000000",
          "2024-04-08T02:15:00.000000000",
          "2024-04-08T02:30:00.000000000",
          "2024-04-08T02:45:00.000000000",
          "2024-04-08T03:00:00.000000000",
          "2024-04-08T03:15:00.000000000",
          "2024-04-08T03:30:00.000000000",
          "2024-04-08T03:45:00.000000000",
          "2024-04-08T04:00:00.000000000",
          "2024-04-08T04:15:00.000000000",
          "2024-04-08T04:30:00.000000000",
          "2024-04-08T04:45:00.000000000",
          "2024-04-08T05:00:00.000000000",
          "2024-04-08T05:15:00.000000000",
          "2024-04-08T05:30:00.000000000",
          "2024-04-08T05:45:00.000000000",
          "2024-04-08T06:00:00.000000000",
          "2024-04-08T06:15:00.000000000",
          "2024-04-08T06:30:00.000000000",
          "2024-04-08T06:45:00.000000000",
          "2024-04-08T07:00:00.000000000",
          "2024-04-08T07:15:00.000000000",
          "2024-04-08T07:30:00.000000000",
          "2024-04-08T07:45:00.000000000",
          "2024-04-08T08:00:00.000000000",
          "2024-04-08T08:15:00.000000000",
          "2024-04-08T08:30:00.000000000",
          "2024-04-08T08:45:00.000000000",
          "2024-04-08T09:00:00.000000000",
          "2024-04-08T09:15:00.000000000",
          "2024-04-08T09:30:00.000000000",
          "2024-04-08T09:45:00.000000000",
          "2024-04-08T10:00:00.000000000",
          "2024-04-08T10:15:00.000000000",
          "2024-04-08T10:30:00.000000000",
          "2024-04-08T10:45:00.000000000",
          "2024-04-08T11:00:00.000000000",
          "2024-04-08T11:15:00.000000000",
          "2024-04-08T11:30:00.000000000",
          "2024-04-08T11:45:00.000000000",
          "2024-04-08T12:00:00.000000000",
          "2024-04-08T12:15:00.000000000",
          "2024-04-08T12:30:00.000000000",
          "2024-04-08T12:45:00.000000000",
          "2024-04-08T13:00:00.000000000",
          "2024-04-08T13:15:00.000000000",
          "2024-04-08T13:30:00.000000000",
          "2024-04-08T13:45:00.000000000",
          "2024-04-08T14:00:00.000000000",
          "2024-04-08T14:15:00.000000000",
          "2024-04-08T14:30:00.000000000",
          "2024-04-08T14:45:00.000000000",
          "2024-04-08T15:00:00.000000000",
          "2024-04-08T15:15:00.000000000",
          "2024-04-08T15:30:00.000000000",
          "2024-04-08T15:45:00.000000000",
          "2024-04-08T16:00:00.000000000",
          "2024-04-08T16:15:00.000000000",
          "2024-04-08T16:30:00.000000000",
          "2024-04-08T16:45:00.000000000",
          "2024-04-08T17:00:00.000000000",
          "2024-04-08T17:15:00.000000000",
          "2024-04-08T17:30:00.000000000",
          "2024-04-08T17:45:00.000000000",
          "2024-04-08T18:00:00.000000000",
          "2024-04-08T18:15:00.000000000",
          "2024-04-08T18:30:00.000000000",
          "2024-04-08T18:45:00.000000000",
          "2024-04-08T19:00:00.000000000",
          "2024-04-08T19:15:00.000000000",
          "2024-04-08T19:30:00.000000000",
          "2024-04-08T19:45:00.000000000",
          "2024-04-08T20:00:00.000000000",
          "2024-04-08T20:15:00.000000000",
          "2024-04-08T20:30:00.000000000",
          "2024-04-08T20:45:00.000000000",
          "2024-04-08T21:00:00.000000000",
          "2024-04-08T21:15:00.000000000",
          "2024-04-08T21:30:00.000000000",
          "2024-04-08T21:45:00.000000000",
          "2024-04-08T22:00:00.000000000",
          "2024-04-08T22:15:00.000000000",
          "2024-04-08T22:30:00.000000000",
          "2024-04-08T22:45:00.000000000",
          "2024-04-08T23:00:00.000000000",
          "2024-04-08T23:15:00.000000000",
          "2024-04-08T23:30:00.000000000",
          "2024-04-08T23:45:00.000000000"
         ],
         "y": [
          0,
          0,
          0,
          0,
          0,
          0,
          0,
          0,
          0,
          0,
          0,
          0,
          0,
          0,
          0,
          0,
          0,
          0,
          0,
          0,
          0,
          0,
          0,
          0,
          6,
          0,
          0,
          0,
          0,
          0,
          0,
          0,
          0,
          23,
          13,
          0,
          1,
          0,
          1,
          10,
          0,
          0,
          0,
          0,
          0,
          0,
          4,
          39,
          2,
          0,
          1,
          3,
          51,
          37,
          39,
          10,
          2,
          5,
          11,
          8,
          47,
          32,
          2,
          2,
          0,
          0,
          4,
          0,
          36,
          1,
          0,
          0,
          5,
          0,
          0,
          0,
          0,
          0,
          0,
          0,
          0,
          0,
          0,
          0,
          0,
          0,
          0,
          0,
          0,
          0,
          0,
          0,
          0,
          0,
          0,
          0
         ]
        },
        {
         "mode": "lines+markers",
         "name": "cluster 5",
         "type": "scatter",
         "x": [
          "2024-04-08T00:00:00.000000000",
          "2024-04-08T00:15:00.000000000",
          "2024-04-08T00:30:00.000000000",
          "2024-04-08T00:45:00.000000000",
          "2024-04-08T01:00:00.000000000",
          "2024-04-08T01:15:00.000000000",
          "2024-04-08T01:30:00.000000000",
          "2024-04-08T01:45:00.000000000",
          "2024-04-08T02:00:00.000000000",
          "2024-04-08T02:15:00.000000000",
          "2024-04-08T02:30:00.000000000",
          "2024-04-08T02:45:00.000000000",
          "2024-04-08T03:00:00.000000000",
          "2024-04-08T03:15:00.000000000",
          "2024-04-08T03:30:00.000000000",
          "2024-04-08T03:45:00.000000000",
          "2024-04-08T04:00:00.000000000",
          "2024-04-08T04:15:00.000000000",
          "2024-04-08T04:30:00.000000000",
          "2024-04-08T04:45:00.000000000",
          "2024-04-08T05:00:00.000000000",
          "2024-04-08T05:15:00.000000000",
          "2024-04-08T05:30:00.000000000",
          "2024-04-08T05:45:00.000000000",
          "2024-04-08T06:00:00.000000000",
          "2024-04-08T06:15:00.000000000",
          "2024-04-08T06:30:00.000000000",
          "2024-04-08T06:45:00.000000000",
          "2024-04-08T07:00:00.000000000",
          "2024-04-08T07:15:00.000000000",
          "2024-04-08T07:30:00.000000000",
          "2024-04-08T07:45:00.000000000",
          "2024-04-08T08:00:00.000000000",
          "2024-04-08T08:15:00.000000000",
          "2024-04-08T08:30:00.000000000",
          "2024-04-08T08:45:00.000000000",
          "2024-04-08T09:00:00.000000000",
          "2024-04-08T09:15:00.000000000",
          "2024-04-08T09:30:00.000000000",
          "2024-04-08T09:45:00.000000000",
          "2024-04-08T10:00:00.000000000",
          "2024-04-08T10:15:00.000000000",
          "2024-04-08T10:30:00.000000000",
          "2024-04-08T10:45:00.000000000",
          "2024-04-08T11:00:00.000000000",
          "2024-04-08T11:15:00.000000000",
          "2024-04-08T11:30:00.000000000",
          "2024-04-08T11:45:00.000000000",
          "2024-04-08T12:00:00.000000000",
          "2024-04-08T12:15:00.000000000",
          "2024-04-08T12:30:00.000000000",
          "2024-04-08T12:45:00.000000000",
          "2024-04-08T13:00:00.000000000",
          "2024-04-08T13:15:00.000000000",
          "2024-04-08T13:30:00.000000000",
          "2024-04-08T13:45:00.000000000",
          "2024-04-08T14:00:00.000000000",
          "2024-04-08T14:15:00.000000000",
          "2024-04-08T14:30:00.000000000",
          "2024-04-08T14:45:00.000000000",
          "2024-04-08T15:00:00.000000000",
          "2024-04-08T15:15:00.000000000",
          "2024-04-08T15:30:00.000000000",
          "2024-04-08T15:45:00.000000000",
          "2024-04-08T16:00:00.000000000",
          "2024-04-08T16:15:00.000000000",
          "2024-04-08T16:30:00.000000000",
          "2024-04-08T16:45:00.000000000",
          "2024-04-08T17:00:00.000000000",
          "2024-04-08T17:15:00.000000000",
          "2024-04-08T17:30:00.000000000",
          "2024-04-08T17:45:00.000000000",
          "2024-04-08T18:00:00.000000000",
          "2024-04-08T18:15:00.000000000",
          "2024-04-08T18:30:00.000000000",
          "2024-04-08T18:45:00.000000000",
          "2024-04-08T19:00:00.000000000",
          "2024-04-08T19:15:00.000000000",
          "2024-04-08T19:30:00.000000000",
          "2024-04-08T19:45:00.000000000",
          "2024-04-08T20:00:00.000000000",
          "2024-04-08T20:15:00.000000000",
          "2024-04-08T20:30:00.000000000",
          "2024-04-08T20:45:00.000000000",
          "2024-04-08T21:00:00.000000000",
          "2024-04-08T21:15:00.000000000",
          "2024-04-08T21:30:00.000000000",
          "2024-04-08T21:45:00.000000000",
          "2024-04-08T22:00:00.000000000",
          "2024-04-08T22:15:00.000000000",
          "2024-04-08T22:30:00.000000000",
          "2024-04-08T22:45:00.000000000",
          "2024-04-08T23:00:00.000000000",
          "2024-04-08T23:15:00.000000000",
          "2024-04-08T23:30:00.000000000",
          "2024-04-08T23:45:00.000000000"
         ],
         "y": [
          0,
          0,
          0,
          0,
          0,
          0,
          0,
          0,
          0,
          0,
          0,
          0,
          0,
          0,
          0,
          0,
          0,
          0,
          0,
          0,
          0,
          0,
          0,
          0,
          0,
          4.5,
          2,
          0.5,
          0,
          0,
          0,
          0,
          8.5,
          13.5,
          5,
          1.5,
          0.5,
          0.5,
          0.5,
          0,
          15,
          6,
          0.5,
          0,
          0.5,
          1,
          1.5,
          1,
          1.5,
          0,
          0,
          0,
          0,
          0,
          10.5,
          1,
          0,
          0,
          0,
          0.5,
          2.5,
          38.5,
          8.5,
          0,
          0,
          1,
          1.5,
          1.5,
          43,
          10.5,
          1,
          0.5,
          0.5,
          1.9999999999999998,
          0,
          0,
          0,
          0,
          0,
          0.5,
          0,
          0,
          0,
          0,
          0,
          0,
          0,
          0,
          0,
          0,
          0,
          0,
          0,
          0,
          0,
          0
         ]
        },
        {
         "mode": "lines+markers",
         "name": "cluster 6",
         "type": "scatter",
         "x": [
          "2024-04-08T00:00:00.000000000",
          "2024-04-08T00:15:00.000000000",
          "2024-04-08T00:30:00.000000000",
          "2024-04-08T00:45:00.000000000",
          "2024-04-08T01:00:00.000000000",
          "2024-04-08T01:15:00.000000000",
          "2024-04-08T01:30:00.000000000",
          "2024-04-08T01:45:00.000000000",
          "2024-04-08T02:00:00.000000000",
          "2024-04-08T02:15:00.000000000",
          "2024-04-08T02:30:00.000000000",
          "2024-04-08T02:45:00.000000000",
          "2024-04-08T03:00:00.000000000",
          "2024-04-08T03:15:00.000000000",
          "2024-04-08T03:30:00.000000000",
          "2024-04-08T03:45:00.000000000",
          "2024-04-08T04:00:00.000000000",
          "2024-04-08T04:15:00.000000000",
          "2024-04-08T04:30:00.000000000",
          "2024-04-08T04:45:00.000000000",
          "2024-04-08T05:00:00.000000000",
          "2024-04-08T05:15:00.000000000",
          "2024-04-08T05:30:00.000000000",
          "2024-04-08T05:45:00.000000000",
          "2024-04-08T06:00:00.000000000",
          "2024-04-08T06:15:00.000000000",
          "2024-04-08T06:30:00.000000000",
          "2024-04-08T06:45:00.000000000",
          "2024-04-08T07:00:00.000000000",
          "2024-04-08T07:15:00.000000000",
          "2024-04-08T07:30:00.000000000",
          "2024-04-08T07:45:00.000000000",
          "2024-04-08T08:00:00.000000000",
          "2024-04-08T08:15:00.000000000",
          "2024-04-08T08:30:00.000000000",
          "2024-04-08T08:45:00.000000000",
          "2024-04-08T09:00:00.000000000",
          "2024-04-08T09:15:00.000000000",
          "2024-04-08T09:30:00.000000000",
          "2024-04-08T09:45:00.000000000",
          "2024-04-08T10:00:00.000000000",
          "2024-04-08T10:15:00.000000000",
          "2024-04-08T10:30:00.000000000",
          "2024-04-08T10:45:00.000000000",
          "2024-04-08T11:00:00.000000000",
          "2024-04-08T11:15:00.000000000",
          "2024-04-08T11:30:00.000000000",
          "2024-04-08T11:45:00.000000000",
          "2024-04-08T12:00:00.000000000",
          "2024-04-08T12:15:00.000000000",
          "2024-04-08T12:30:00.000000000",
          "2024-04-08T12:45:00.000000000",
          "2024-04-08T13:00:00.000000000",
          "2024-04-08T13:15:00.000000000",
          "2024-04-08T13:30:00.000000000",
          "2024-04-08T13:45:00.000000000",
          "2024-04-08T14:00:00.000000000",
          "2024-04-08T14:15:00.000000000",
          "2024-04-08T14:30:00.000000000",
          "2024-04-08T14:45:00.000000000",
          "2024-04-08T15:00:00.000000000",
          "2024-04-08T15:15:00.000000000",
          "2024-04-08T15:30:00.000000000",
          "2024-04-08T15:45:00.000000000",
          "2024-04-08T16:00:00.000000000",
          "2024-04-08T16:15:00.000000000",
          "2024-04-08T16:30:00.000000000",
          "2024-04-08T16:45:00.000000000",
          "2024-04-08T17:00:00.000000000",
          "2024-04-08T17:15:00.000000000",
          "2024-04-08T17:30:00.000000000",
          "2024-04-08T17:45:00.000000000",
          "2024-04-08T18:00:00.000000000",
          "2024-04-08T18:15:00.000000000",
          "2024-04-08T18:30:00.000000000",
          "2024-04-08T18:45:00.000000000",
          "2024-04-08T19:00:00.000000000",
          "2024-04-08T19:15:00.000000000",
          "2024-04-08T19:30:00.000000000",
          "2024-04-08T19:45:00.000000000",
          "2024-04-08T20:00:00.000000000",
          "2024-04-08T20:15:00.000000000",
          "2024-04-08T20:30:00.000000000",
          "2024-04-08T20:45:00.000000000",
          "2024-04-08T21:00:00.000000000",
          "2024-04-08T21:15:00.000000000",
          "2024-04-08T21:30:00.000000000",
          "2024-04-08T21:45:00.000000000",
          "2024-04-08T22:00:00.000000000",
          "2024-04-08T22:15:00.000000000",
          "2024-04-08T22:30:00.000000000",
          "2024-04-08T22:45:00.000000000",
          "2024-04-08T23:00:00.000000000",
          "2024-04-08T23:15:00.000000000",
          "2024-04-08T23:30:00.000000000",
          "2024-04-08T23:45:00.000000000"
         ],
         "y": [
          0,
          0,
          0,
          0,
          0,
          0,
          0,
          0,
          0,
          0,
          0,
          0,
          0,
          0,
          0,
          0,
          0,
          0,
          0,
          0,
          0,
          0,
          0,
          -1.3877787807814457e-17,
          1.8,
          0.8,
          0,
          0.8000000000000003,
          0.19999999999999998,
          1.9999999999999998,
          0.19999999999999998,
          1.2000000000000002,
          5,
          11.8,
          6.6000000000000005,
          1,
          0.8000000000000002,
          0.4,
          0.4,
          1.6,
          11.8,
          4.4,
          0.4,
          0,
          0.8,
          2.8000000000000007,
          16.2,
          31,
          6.200000000000001,
          2.2000000000000006,
          2.4000000000000004,
          0.4,
          1.4,
          0.5999999999999999,
          3.9999999999999996,
          5.600000000000001,
          2.2,
          9.599999999999998,
          1.6,
          0.4,
          7.199999999999999,
          2.1999999999999997,
          1.4,
          0.40000000000000013,
          10.600000000000001,
          2.599999999999999,
          0,
          0.4,
          0.20000000000000018,
          0,
          0.2,
          -1.3877787807814457e-17,
          0,
          0,
          0,
          0,
          0,
          0,
          0,
          0.6000000000000001,
          -1.3877787807814457e-17,
          0.4,
          0,
          0,
          0,
          0,
          0,
          0,
          0,
          0,
          0,
          0,
          0,
          0,
          0,
          0
         ]
        }
       ],
       "layout": {
        "template": {
         "data": {
          "bar": [
           {
            "error_x": {
             "color": "#2a3f5f"
            },
            "error_y": {
             "color": "#2a3f5f"
            },
            "marker": {
             "line": {
              "color": "#E5ECF6",
              "width": 0.5
             },
             "pattern": {
              "fillmode": "overlay",
              "size": 10,
              "solidity": 0.2
             }
            },
            "type": "bar"
           }
          ],
          "barpolar": [
           {
            "marker": {
             "line": {
              "color": "#E5ECF6",
              "width": 0.5
             },
             "pattern": {
              "fillmode": "overlay",
              "size": 10,
              "solidity": 0.2
             }
            },
            "type": "barpolar"
           }
          ],
          "carpet": [
           {
            "aaxis": {
             "endlinecolor": "#2a3f5f",
             "gridcolor": "white",
             "linecolor": "white",
             "minorgridcolor": "white",
             "startlinecolor": "#2a3f5f"
            },
            "baxis": {
             "endlinecolor": "#2a3f5f",
             "gridcolor": "white",
             "linecolor": "white",
             "minorgridcolor": "white",
             "startlinecolor": "#2a3f5f"
            },
            "type": "carpet"
           }
          ],
          "choropleth": [
           {
            "colorbar": {
             "outlinewidth": 0,
             "ticks": ""
            },
            "type": "choropleth"
           }
          ],
          "contour": [
           {
            "colorbar": {
             "outlinewidth": 0,
             "ticks": ""
            },
            "colorscale": [
             [
              0,
              "#0d0887"
             ],
             [
              0.1111111111111111,
              "#46039f"
             ],
             [
              0.2222222222222222,
              "#7201a8"
             ],
             [
              0.3333333333333333,
              "#9c179e"
             ],
             [
              0.4444444444444444,
              "#bd3786"
             ],
             [
              0.5555555555555556,
              "#d8576b"
             ],
             [
              0.6666666666666666,
              "#ed7953"
             ],
             [
              0.7777777777777778,
              "#fb9f3a"
             ],
             [
              0.8888888888888888,
              "#fdca26"
             ],
             [
              1,
              "#f0f921"
             ]
            ],
            "type": "contour"
           }
          ],
          "contourcarpet": [
           {
            "colorbar": {
             "outlinewidth": 0,
             "ticks": ""
            },
            "type": "contourcarpet"
           }
          ],
          "heatmap": [
           {
            "colorbar": {
             "outlinewidth": 0,
             "ticks": ""
            },
            "colorscale": [
             [
              0,
              "#0d0887"
             ],
             [
              0.1111111111111111,
              "#46039f"
             ],
             [
              0.2222222222222222,
              "#7201a8"
             ],
             [
              0.3333333333333333,
              "#9c179e"
             ],
             [
              0.4444444444444444,
              "#bd3786"
             ],
             [
              0.5555555555555556,
              "#d8576b"
             ],
             [
              0.6666666666666666,
              "#ed7953"
             ],
             [
              0.7777777777777778,
              "#fb9f3a"
             ],
             [
              0.8888888888888888,
              "#fdca26"
             ],
             [
              1,
              "#f0f921"
             ]
            ],
            "type": "heatmap"
           }
          ],
          "heatmapgl": [
           {
            "colorbar": {
             "outlinewidth": 0,
             "ticks": ""
            },
            "colorscale": [
             [
              0,
              "#0d0887"
             ],
             [
              0.1111111111111111,
              "#46039f"
             ],
             [
              0.2222222222222222,
              "#7201a8"
             ],
             [
              0.3333333333333333,
              "#9c179e"
             ],
             [
              0.4444444444444444,
              "#bd3786"
             ],
             [
              0.5555555555555556,
              "#d8576b"
             ],
             [
              0.6666666666666666,
              "#ed7953"
             ],
             [
              0.7777777777777778,
              "#fb9f3a"
             ],
             [
              0.8888888888888888,
              "#fdca26"
             ],
             [
              1,
              "#f0f921"
             ]
            ],
            "type": "heatmapgl"
           }
          ],
          "histogram": [
           {
            "marker": {
             "pattern": {
              "fillmode": "overlay",
              "size": 10,
              "solidity": 0.2
             }
            },
            "type": "histogram"
           }
          ],
          "histogram2d": [
           {
            "colorbar": {
             "outlinewidth": 0,
             "ticks": ""
            },
            "colorscale": [
             [
              0,
              "#0d0887"
             ],
             [
              0.1111111111111111,
              "#46039f"
             ],
             [
              0.2222222222222222,
              "#7201a8"
             ],
             [
              0.3333333333333333,
              "#9c179e"
             ],
             [
              0.4444444444444444,
              "#bd3786"
             ],
             [
              0.5555555555555556,
              "#d8576b"
             ],
             [
              0.6666666666666666,
              "#ed7953"
             ],
             [
              0.7777777777777778,
              "#fb9f3a"
             ],
             [
              0.8888888888888888,
              "#fdca26"
             ],
             [
              1,
              "#f0f921"
             ]
            ],
            "type": "histogram2d"
           }
          ],
          "histogram2dcontour": [
           {
            "colorbar": {
             "outlinewidth": 0,
             "ticks": ""
            },
            "colorscale": [
             [
              0,
              "#0d0887"
             ],
             [
              0.1111111111111111,
              "#46039f"
             ],
             [
              0.2222222222222222,
              "#7201a8"
             ],
             [
              0.3333333333333333,
              "#9c179e"
             ],
             [
              0.4444444444444444,
              "#bd3786"
             ],
             [
              0.5555555555555556,
              "#d8576b"
             ],
             [
              0.6666666666666666,
              "#ed7953"
             ],
             [
              0.7777777777777778,
              "#fb9f3a"
             ],
             [
              0.8888888888888888,
              "#fdca26"
             ],
             [
              1,
              "#f0f921"
             ]
            ],
            "type": "histogram2dcontour"
           }
          ],
          "mesh3d": [
           {
            "colorbar": {
             "outlinewidth": 0,
             "ticks": ""
            },
            "type": "mesh3d"
           }
          ],
          "parcoords": [
           {
            "line": {
             "colorbar": {
              "outlinewidth": 0,
              "ticks": ""
             }
            },
            "type": "parcoords"
           }
          ],
          "pie": [
           {
            "automargin": true,
            "type": "pie"
           }
          ],
          "scatter": [
           {
            "fillpattern": {
             "fillmode": "overlay",
             "size": 10,
             "solidity": 0.2
            },
            "type": "scatter"
           }
          ],
          "scatter3d": [
           {
            "line": {
             "colorbar": {
              "outlinewidth": 0,
              "ticks": ""
             }
            },
            "marker": {
             "colorbar": {
              "outlinewidth": 0,
              "ticks": ""
             }
            },
            "type": "scatter3d"
           }
          ],
          "scattercarpet": [
           {
            "marker": {
             "colorbar": {
              "outlinewidth": 0,
              "ticks": ""
             }
            },
            "type": "scattercarpet"
           }
          ],
          "scattergeo": [
           {
            "marker": {
             "colorbar": {
              "outlinewidth": 0,
              "ticks": ""
             }
            },
            "type": "scattergeo"
           }
          ],
          "scattergl": [
           {
            "marker": {
             "colorbar": {
              "outlinewidth": 0,
              "ticks": ""
             }
            },
            "type": "scattergl"
           }
          ],
          "scattermapbox": [
           {
            "marker": {
             "colorbar": {
              "outlinewidth": 0,
              "ticks": ""
             }
            },
            "type": "scattermapbox"
           }
          ],
          "scatterpolar": [
           {
            "marker": {
             "colorbar": {
              "outlinewidth": 0,
              "ticks": ""
             }
            },
            "type": "scatterpolar"
           }
          ],
          "scatterpolargl": [
           {
            "marker": {
             "colorbar": {
              "outlinewidth": 0,
              "ticks": ""
             }
            },
            "type": "scatterpolargl"
           }
          ],
          "scatterternary": [
           {
            "marker": {
             "colorbar": {
              "outlinewidth": 0,
              "ticks": ""
             }
            },
            "type": "scatterternary"
           }
          ],
          "surface": [
           {
            "colorbar": {
             "outlinewidth": 0,
             "ticks": ""
            },
            "colorscale": [
             [
              0,
              "#0d0887"
             ],
             [
              0.1111111111111111,
              "#46039f"
             ],
             [
              0.2222222222222222,
              "#7201a8"
             ],
             [
              0.3333333333333333,
              "#9c179e"
             ],
             [
              0.4444444444444444,
              "#bd3786"
             ],
             [
              0.5555555555555556,
              "#d8576b"
             ],
             [
              0.6666666666666666,
              "#ed7953"
             ],
             [
              0.7777777777777778,
              "#fb9f3a"
             ],
             [
              0.8888888888888888,
              "#fdca26"
             ],
             [
              1,
              "#f0f921"
             ]
            ],
            "type": "surface"
           }
          ],
          "table": [
           {
            "cells": {
             "fill": {
              "color": "#EBF0F8"
             },
             "line": {
              "color": "white"
             }
            },
            "header": {
             "fill": {
              "color": "#C8D4E3"
             },
             "line": {
              "color": "white"
             }
            },
            "type": "table"
           }
          ]
         },
         "layout": {
          "annotationdefaults": {
           "arrowcolor": "#2a3f5f",
           "arrowhead": 0,
           "arrowwidth": 1
          },
          "autotypenumbers": "strict",
          "coloraxis": {
           "colorbar": {
            "outlinewidth": 0,
            "ticks": ""
           }
          },
          "colorscale": {
           "diverging": [
            [
             0,
             "#8e0152"
            ],
            [
             0.1,
             "#c51b7d"
            ],
            [
             0.2,
             "#de77ae"
            ],
            [
             0.3,
             "#f1b6da"
            ],
            [
             0.4,
             "#fde0ef"
            ],
            [
             0.5,
             "#f7f7f7"
            ],
            [
             0.6,
             "#e6f5d0"
            ],
            [
             0.7,
             "#b8e186"
            ],
            [
             0.8,
             "#7fbc41"
            ],
            [
             0.9,
             "#4d9221"
            ],
            [
             1,
             "#276419"
            ]
           ],
           "sequential": [
            [
             0,
             "#0d0887"
            ],
            [
             0.1111111111111111,
             "#46039f"
            ],
            [
             0.2222222222222222,
             "#7201a8"
            ],
            [
             0.3333333333333333,
             "#9c179e"
            ],
            [
             0.4444444444444444,
             "#bd3786"
            ],
            [
             0.5555555555555556,
             "#d8576b"
            ],
            [
             0.6666666666666666,
             "#ed7953"
            ],
            [
             0.7777777777777778,
             "#fb9f3a"
            ],
            [
             0.8888888888888888,
             "#fdca26"
            ],
            [
             1,
             "#f0f921"
            ]
           ],
           "sequentialminus": [
            [
             0,
             "#0d0887"
            ],
            [
             0.1111111111111111,
             "#46039f"
            ],
            [
             0.2222222222222222,
             "#7201a8"
            ],
            [
             0.3333333333333333,
             "#9c179e"
            ],
            [
             0.4444444444444444,
             "#bd3786"
            ],
            [
             0.5555555555555556,
             "#d8576b"
            ],
            [
             0.6666666666666666,
             "#ed7953"
            ],
            [
             0.7777777777777778,
             "#fb9f3a"
            ],
            [
             0.8888888888888888,
             "#fdca26"
            ],
            [
             1,
             "#f0f921"
            ]
           ]
          },
          "colorway": [
           "#636efa",
           "#EF553B",
           "#00cc96",
           "#ab63fa",
           "#FFA15A",
           "#19d3f3",
           "#FF6692",
           "#B6E880",
           "#FF97FF",
           "#FECB52"
          ],
          "font": {
           "color": "#2a3f5f"
          },
          "geo": {
           "bgcolor": "white",
           "lakecolor": "white",
           "landcolor": "#E5ECF6",
           "showlakes": true,
           "showland": true,
           "subunitcolor": "white"
          },
          "hoverlabel": {
           "align": "left"
          },
          "hovermode": "closest",
          "mapbox": {
           "style": "light"
          },
          "paper_bgcolor": "white",
          "plot_bgcolor": "#E5ECF6",
          "polar": {
           "angularaxis": {
            "gridcolor": "white",
            "linecolor": "white",
            "ticks": ""
           },
           "bgcolor": "#E5ECF6",
           "radialaxis": {
            "gridcolor": "white",
            "linecolor": "white",
            "ticks": ""
           }
          },
          "scene": {
           "xaxis": {
            "backgroundcolor": "#E5ECF6",
            "gridcolor": "white",
            "gridwidth": 2,
            "linecolor": "white",
            "showbackground": true,
            "ticks": "",
            "zerolinecolor": "white"
           },
           "yaxis": {
            "backgroundcolor": "#E5ECF6",
            "gridcolor": "white",
            "gridwidth": 2,
            "linecolor": "white",
            "showbackground": true,
            "ticks": "",
            "zerolinecolor": "white"
           },
           "zaxis": {
            "backgroundcolor": "#E5ECF6",
            "gridcolor": "white",
            "gridwidth": 2,
            "linecolor": "white",
            "showbackground": true,
            "ticks": "",
            "zerolinecolor": "white"
           }
          },
          "shapedefaults": {
           "line": {
            "color": "#2a3f5f"
           }
          },
          "ternary": {
           "aaxis": {
            "gridcolor": "white",
            "linecolor": "white",
            "ticks": ""
           },
           "baxis": {
            "gridcolor": "white",
            "linecolor": "white",
            "ticks": ""
           },
           "bgcolor": "#E5ECF6",
           "caxis": {
            "gridcolor": "white",
            "linecolor": "white",
            "ticks": ""
           }
          },
          "title": {
           "x": 0.05
          },
          "xaxis": {
           "automargin": true,
           "gridcolor": "white",
           "linecolor": "white",
           "ticks": "",
           "title": {
            "standoff": 15
           },
           "zerolinecolor": "white",
           "zerolinewidth": 2
          },
          "yaxis": {
           "automargin": true,
           "gridcolor": "white",
           "linecolor": "white",
           "ticks": "",
           "title": {
            "standoff": 15
           },
           "zerolinecolor": "white",
           "zerolinewidth": 2
          }
         }
        }
       }
      }
     },
     "metadata": {},
     "output_type": "display_data"
    }
   ],
   "source": [
    "indices = np.arange(len(samples))\n",
    "\n",
    "fig = go.Figure()\n",
    "\n",
    "for i in range(n_clusters):\n",
    "\n",
    "    cluster_indices = indices[clustering_model.labels_ == i]\n",
    "    cluster_center = clustering_model.cluster_centers_[i]\n",
    "    \n",
    "    \n",
    "    cluster_group_list = group_list[cluster_indices]\n",
    "\n",
    "    print(f\"################ {i} ################\")\n",
    "    print(cluster_indices)\n",
    "    print(cluster_group_list)\n",
    "    print()\n",
    "    \n",
    "    # line plot\n",
    "    fig.add_trace(\n",
    "        go.Scatter(\n",
    "            x=times[0], \n",
    "            y=cluster_center, \n",
    "            name=f'cluster {i}',\n",
    "            mode=\"lines+markers\"        \n",
    "        )\n",
    "    )\n",
    "        \n",
    "fig.show()"
   ]
  },
  {
   "cell_type": "markdown",
   "metadata": {},
   "source": [
    "## 2. Train and Test split"
   ]
  },
  {
   "cell_type": "code",
   "execution_count": 6,
   "metadata": {},
   "outputs": [],
   "source": [
    "data_filterd = filter_room_id(data, 0)\n",
    "data_filterd = filter_event_type(data_filterd, 1)"
   ]
  },
  {
   "cell_type": "markdown",
   "metadata": {},
   "source": [
    "## 3. Occupancy Forecasting"
   ]
  },
  {
   "cell_type": "code",
   "execution_count": null,
   "metadata": {},
   "outputs": [],
   "source": [
    "# check out some of the papers in the review\n",
    "# start with some traditional methods"
   ]
  },
  {
   "cell_type": "code",
   "execution_count": null,
   "metadata": {},
   "outputs": [],
   "source": []
  },
  {
   "cell_type": "markdown",
   "metadata": {},
   "source": [
    "## 4. Count Forecasting\n",
    "### Try more general approach if 1. is too hard, gather literature on count forecasting"
   ]
  },
  {
   "cell_type": "markdown",
   "metadata": {},
   "source": []
  }
 ],
 "metadata": {
  "kernelspec": {
   "display_name": "webapp",
   "language": "python",
   "name": "python3"
  },
  "language_info": {
   "codemirror_mode": {
    "name": "ipython",
    "version": 3
   },
   "file_extension": ".py",
   "mimetype": "text/x-python",
   "name": "python",
   "nbconvert_exporter": "python",
   "pygments_lexer": "ipython3",
   "version": "3.12.2"
  }
 },
 "nbformat": 4,
 "nbformat_minor": 2
}
