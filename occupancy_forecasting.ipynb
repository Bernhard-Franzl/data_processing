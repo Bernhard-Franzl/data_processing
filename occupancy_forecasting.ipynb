{
 "cells": [
  {
   "cell_type": "markdown",
   "metadata": {},
   "source": [
    "# Occupancy Forecasting Notebook"
   ]
  },
  {
   "cell_type": "code",
   "execution_count": 106,
   "metadata": {},
   "outputs": [],
   "source": [
    "#Imports\n",
    "import numpy as np\n",
    "import matplotlib.pyplot as plt\n",
    "import pandas as pd\n",
    "\n",
    "from datetime import datetime\n",
    "import plotly.express as px\n",
    "import plotly.graph_objects as go\n",
    "from plotly.subplots import make_subplots\n",
    "\n",
    "\n",
    "from sklearn.model_selection import train_test_split, KFold"
   ]
  },
  {
   "cell_type": "code",
   "execution_count": 107,
   "metadata": {},
   "outputs": [],
   "source": [
    "## Importing the dataset\n",
    "#file_name = \"frequency_data\"\n",
    "#data = pd.read_csv(f\"data/cleaned_data/{file_name}.csv\")\n",
    "\n",
    "#dtypes = pd.read_csv(f\"data/cleaned_data/{file_name}_dtypes.csv\", index_col=0)\n",
    "#data = data.astype(dtypes.to_dict()[\"0\"])\n",
    "\n",
    "#data[\"datetime\"] = data[\"time\"]\n",
    "#data.drop(\"time\", axis=1, inplace=True)\n"
   ]
  },
  {
   "cell_type": "markdown",
   "metadata": {},
   "source": [
    "### Data Utility Functions"
   ]
  },
  {
   "cell_type": "code",
   "execution_count": 108,
   "metadata": {},
   "outputs": [],
   "source": [
    "def filter_room_id(data, room_id):\n",
    "    return data[data[\"room_id\"] == room_id].reset_index(drop=True)\n",
    "\n",
    "def filter_event_type(data, event_type):\n",
    "    return data[data[\"event_type\"] == event_type].reset_index(drop=True)\n",
    "\n",
    "def resample(data, time_column, frequency, agg_func, output_columns=[\"event_type\"]):\n",
    "    \n",
    "    # get min day\n",
    "    if frequency == \"MS\":\n",
    "        min_time = min(data[time_column]).replace(day=1, hour=0, minute=0, second=0)\n",
    "    else:\n",
    "        min_time = min(data[time_column]).replace(hour=0, minute=0, second=0)\n",
    "\n",
    "    # get max day\n",
    "    max_time = max(data[time_column])\n",
    "    max_time = max_time.replace(day=max_time.day+1, hour=0, minute=0, second=0)\n",
    "    \n",
    "    \n",
    "    idx = pd.date_range(start=min_time, end=max_time, freq=frequency, inclusive=\"both\") \n",
    "\n",
    "    df_resampled = data.set_index(time_column)\\\n",
    "                   .resample(frequency, label=\"left\", closed=\"left\")\n",
    "\n",
    "    if agg_func == \"sum\":\n",
    "        df_resampled = df_resampled.sum()\n",
    "    elif agg_func == \"count\":\n",
    "        df_resampled = df_resampled.count()\n",
    "    elif agg_func == \"value_counts\":\n",
    "        df_resampled = df_resampled.value_counts()\n",
    "    else:\n",
    "        raise ValueError(\"agg_func must be 'sum', 'count' or 'value_counts'\")\n",
    "    \n",
    "    return df_resampled.reindex(idx, fill_value=0).reset_index().rename(columns={\"index\": time_column})[[time_column] + output_columns]\n",
    "    \n",
    "def derive_day(data):\n",
    "    data[\"day\"] = data[\"datetime\"].dt.date\n",
    "    return data\n",
    "\n",
    "def derive_week(data):\n",
    "    data[\"week\"] = data[\"datetime\"].dt.isocalendar().week\n",
    "    return data\n",
    "\n",
    "def derive_time(data):\n",
    "    data[\"time\"] = data[\"datetime\"].dt.time\n",
    "    return data\n",
    "\n",
    "def derive_weekday(data):\n",
    "    data[\"weekday\"] = data[\"datetime\"].dt.weekday\n",
    "    return data"
   ]
  },
  {
   "cell_type": "code",
   "execution_count": 137,
   "metadata": {},
   "outputs": [],
   "source": [
    "def derive_in_out(dataframe):\n",
    "    \n",
    "    dataframe[\"people_in\"] = dataframe[\"event_type\"].apply(lambda x: 1 if x == 1 else 0)\n",
    "    dataframe[\"people_out\"] = dataframe[\"event_type\"].apply(lambda x: 1 if x == 0 else 0)\n",
    "    \n",
    "    return dataframe\n",
    "\n",
    "def calc_inside(dataframe):\n",
    "\n",
    "    # calc people entering and leaving\n",
    "    dataframe[\"people_inside\"] = dataframe[\"people_in\"].cumsum() - dataframe[\"people_out\"].cumsum()\n",
    "    \n",
    "    return dataframe\n",
    "\n",
    "def calc_occupancy_count(dataframe, time_column, frequency):\n",
    "    \n",
    "    df = dataframe.copy()\n",
    "    \n",
    "    df = derive_in_out(df)\n",
    "    \n",
    "    df_resampled = resample(df, time_column, frequency, \"sum\", output_columns=[\"people_in\", \"people_out\"])\n",
    "    \n",
    "    df_resampled = calc_inside(df_resampled)\n",
    "    \n",
    "    return df_resampled\n",
    "    "
   ]
  },
  {
   "cell_type": "code",
   "execution_count": 138,
   "metadata": {},
   "outputs": [
    {
     "data": {
      "text/html": [
       "<div>\n",
       "<style scoped>\n",
       "    .dataframe tbody tr th:only-of-type {\n",
       "        vertical-align: middle;\n",
       "    }\n",
       "\n",
       "    .dataframe tbody tr th {\n",
       "        vertical-align: top;\n",
       "    }\n",
       "\n",
       "    .dataframe thead th {\n",
       "        text-align: right;\n",
       "    }\n",
       "</style>\n",
       "<table border=\"1\" class=\"dataframe\">\n",
       "  <thead>\n",
       "    <tr style=\"text-align: right;\">\n",
       "      <th></th>\n",
       "      <th>datetime</th>\n",
       "      <th>people_in</th>\n",
       "      <th>people_out</th>\n",
       "      <th>people_inside</th>\n",
       "    </tr>\n",
       "  </thead>\n",
       "  <tbody>\n",
       "    <tr>\n",
       "      <th>0</th>\n",
       "      <td>2024-04-08 00:00:00</td>\n",
       "      <td>0</td>\n",
       "      <td>0</td>\n",
       "      <td>0</td>\n",
       "    </tr>\n",
       "    <tr>\n",
       "      <th>1</th>\n",
       "      <td>2024-04-08 01:00:00</td>\n",
       "      <td>0</td>\n",
       "      <td>0</td>\n",
       "      <td>0</td>\n",
       "    </tr>\n",
       "    <tr>\n",
       "      <th>2</th>\n",
       "      <td>2024-04-08 02:00:00</td>\n",
       "      <td>0</td>\n",
       "      <td>0</td>\n",
       "      <td>0</td>\n",
       "    </tr>\n",
       "    <tr>\n",
       "      <th>3</th>\n",
       "      <td>2024-04-08 03:00:00</td>\n",
       "      <td>0</td>\n",
       "      <td>0</td>\n",
       "      <td>0</td>\n",
       "    </tr>\n",
       "    <tr>\n",
       "      <th>4</th>\n",
       "      <td>2024-04-08 04:00:00</td>\n",
       "      <td>0</td>\n",
       "      <td>0</td>\n",
       "      <td>0</td>\n",
       "    </tr>\n",
       "    <tr>\n",
       "      <th>...</th>\n",
       "      <td>...</td>\n",
       "      <td>...</td>\n",
       "      <td>...</td>\n",
       "      <td>...</td>\n",
       "    </tr>\n",
       "    <tr>\n",
       "      <th>1964</th>\n",
       "      <td>2024-06-28 20:00:00</td>\n",
       "      <td>2</td>\n",
       "      <td>0</td>\n",
       "      <td>-241</td>\n",
       "    </tr>\n",
       "    <tr>\n",
       "      <th>1965</th>\n",
       "      <td>2024-06-28 21:00:00</td>\n",
       "      <td>0</td>\n",
       "      <td>0</td>\n",
       "      <td>-241</td>\n",
       "    </tr>\n",
       "    <tr>\n",
       "      <th>1966</th>\n",
       "      <td>2024-06-28 22:00:00</td>\n",
       "      <td>0</td>\n",
       "      <td>0</td>\n",
       "      <td>-241</td>\n",
       "    </tr>\n",
       "    <tr>\n",
       "      <th>1967</th>\n",
       "      <td>2024-06-28 23:00:00</td>\n",
       "      <td>0</td>\n",
       "      <td>0</td>\n",
       "      <td>-241</td>\n",
       "    </tr>\n",
       "    <tr>\n",
       "      <th>1968</th>\n",
       "      <td>2024-06-29 00:00:00</td>\n",
       "      <td>0</td>\n",
       "      <td>0</td>\n",
       "      <td>-241</td>\n",
       "    </tr>\n",
       "  </tbody>\n",
       "</table>\n",
       "<p>1969 rows × 4 columns</p>\n",
       "</div>"
      ],
      "text/plain": [
       "                datetime  people_in  people_out  people_inside\n",
       "0    2024-04-08 00:00:00          0           0              0\n",
       "1    2024-04-08 01:00:00          0           0              0\n",
       "2    2024-04-08 02:00:00          0           0              0\n",
       "3    2024-04-08 03:00:00          0           0              0\n",
       "4    2024-04-08 04:00:00          0           0              0\n",
       "...                  ...        ...         ...            ...\n",
       "1964 2024-06-28 20:00:00          2           0           -241\n",
       "1965 2024-06-28 21:00:00          0           0           -241\n",
       "1966 2024-06-28 22:00:00          0           0           -241\n",
       "1967 2024-06-28 23:00:00          0           0           -241\n",
       "1968 2024-06-29 00:00:00          0           0           -241\n",
       "\n",
       "[1969 rows x 4 columns]"
      ]
     },
     "execution_count": 138,
     "metadata": {},
     "output_type": "execute_result"
    }
   ],
   "source": [
    "#data_filterd = filter_room_id(data, 0)\n",
    "#calc_occupancy_count(data_filterd, \"datetime\", \"1h\")"
   ]
  },
  {
   "cell_type": "code",
   "execution_count": 139,
   "metadata": {},
   "outputs": [],
   "source": [
    "#data_filterd = filter_room_id(data, 0)\n",
    "#data_filterd = filter_event_type(data_filterd, 1)"
   ]
  },
  {
   "cell_type": "markdown",
   "metadata": {},
   "source": [
    "## 0. Basic Statistics and Plots"
   ]
  },
  {
   "cell_type": "code",
   "execution_count": 147,
   "metadata": {},
   "outputs": [],
   "source": [
    "#data_filterd = filter_room_id(data, 0)"
   ]
  },
  {
   "cell_type": "markdown",
   "metadata": {},
   "source": [
    "### Line Plot"
   ]
  },
  {
   "cell_type": "code",
   "execution_count": 148,
   "metadata": {},
   "outputs": [],
   "source": [
    "#df_plot = calc_occupancy_count(data_filterd, \"datetime\", \"15min\")\n",
    "#print(df_plot)\n",
    "#fig = go.Figure()\n",
    "## line plot\n",
    "#fig.add_trace(\n",
    "#    go.Scatter(\n",
    "#        x=df_plot[\"datetime\"], \n",
    "#        y=df_plot[\"people_inside\"],\n",
    "#        mode=\"lines\",\n",
    "#        name=\"people inside\"))\n"
   ]
  },
  {
   "cell_type": "markdown",
   "metadata": {},
   "source": [
    "Bar Charts"
   ]
  },
  {
   "cell_type": "code",
   "execution_count": 5,
   "metadata": {},
   "outputs": [
    {
     "data": {
      "application/vnd.plotly.v1+json": {
       "config": {
        "plotlyServerURL": "https://plot.ly"
       },
       "data": [
        {
         "name": "value_counts",
         "type": "bar",
         "x": [
          1,
          2,
          3,
          4,
          5,
          6,
          7,
          8,
          9,
          12,
          10,
          11,
          14,
          16,
          15,
          13,
          18,
          23,
          19,
          21,
          20,
          17,
          22,
          26,
          27,
          28,
          24,
          25,
          29,
          30,
          32,
          39
         ],
         "y": [
          713,
          326,
          199,
          130,
          102,
          63,
          56,
          40,
          39,
          25,
          22,
          21,
          19,
          14,
          10,
          9,
          8,
          6,
          6,
          6,
          5,
          4,
          3,
          2,
          2,
          2,
          1,
          1,
          1,
          1,
          1,
          1
         ]
        }
       ],
       "layout": {
        "template": {
         "data": {
          "bar": [
           {
            "error_x": {
             "color": "#2a3f5f"
            },
            "error_y": {
             "color": "#2a3f5f"
            },
            "marker": {
             "line": {
              "color": "#E5ECF6",
              "width": 0.5
             },
             "pattern": {
              "fillmode": "overlay",
              "size": 10,
              "solidity": 0.2
             }
            },
            "type": "bar"
           }
          ],
          "barpolar": [
           {
            "marker": {
             "line": {
              "color": "#E5ECF6",
              "width": 0.5
             },
             "pattern": {
              "fillmode": "overlay",
              "size": 10,
              "solidity": 0.2
             }
            },
            "type": "barpolar"
           }
          ],
          "carpet": [
           {
            "aaxis": {
             "endlinecolor": "#2a3f5f",
             "gridcolor": "white",
             "linecolor": "white",
             "minorgridcolor": "white",
             "startlinecolor": "#2a3f5f"
            },
            "baxis": {
             "endlinecolor": "#2a3f5f",
             "gridcolor": "white",
             "linecolor": "white",
             "minorgridcolor": "white",
             "startlinecolor": "#2a3f5f"
            },
            "type": "carpet"
           }
          ],
          "choropleth": [
           {
            "colorbar": {
             "outlinewidth": 0,
             "ticks": ""
            },
            "type": "choropleth"
           }
          ],
          "contour": [
           {
            "colorbar": {
             "outlinewidth": 0,
             "ticks": ""
            },
            "colorscale": [
             [
              0,
              "#0d0887"
             ],
             [
              0.1111111111111111,
              "#46039f"
             ],
             [
              0.2222222222222222,
              "#7201a8"
             ],
             [
              0.3333333333333333,
              "#9c179e"
             ],
             [
              0.4444444444444444,
              "#bd3786"
             ],
             [
              0.5555555555555556,
              "#d8576b"
             ],
             [
              0.6666666666666666,
              "#ed7953"
             ],
             [
              0.7777777777777778,
              "#fb9f3a"
             ],
             [
              0.8888888888888888,
              "#fdca26"
             ],
             [
              1,
              "#f0f921"
             ]
            ],
            "type": "contour"
           }
          ],
          "contourcarpet": [
           {
            "colorbar": {
             "outlinewidth": 0,
             "ticks": ""
            },
            "type": "contourcarpet"
           }
          ],
          "heatmap": [
           {
            "colorbar": {
             "outlinewidth": 0,
             "ticks": ""
            },
            "colorscale": [
             [
              0,
              "#0d0887"
             ],
             [
              0.1111111111111111,
              "#46039f"
             ],
             [
              0.2222222222222222,
              "#7201a8"
             ],
             [
              0.3333333333333333,
              "#9c179e"
             ],
             [
              0.4444444444444444,
              "#bd3786"
             ],
             [
              0.5555555555555556,
              "#d8576b"
             ],
             [
              0.6666666666666666,
              "#ed7953"
             ],
             [
              0.7777777777777778,
              "#fb9f3a"
             ],
             [
              0.8888888888888888,
              "#fdca26"
             ],
             [
              1,
              "#f0f921"
             ]
            ],
            "type": "heatmap"
           }
          ],
          "heatmapgl": [
           {
            "colorbar": {
             "outlinewidth": 0,
             "ticks": ""
            },
            "colorscale": [
             [
              0,
              "#0d0887"
             ],
             [
              0.1111111111111111,
              "#46039f"
             ],
             [
              0.2222222222222222,
              "#7201a8"
             ],
             [
              0.3333333333333333,
              "#9c179e"
             ],
             [
              0.4444444444444444,
              "#bd3786"
             ],
             [
              0.5555555555555556,
              "#d8576b"
             ],
             [
              0.6666666666666666,
              "#ed7953"
             ],
             [
              0.7777777777777778,
              "#fb9f3a"
             ],
             [
              0.8888888888888888,
              "#fdca26"
             ],
             [
              1,
              "#f0f921"
             ]
            ],
            "type": "heatmapgl"
           }
          ],
          "histogram": [
           {
            "marker": {
             "pattern": {
              "fillmode": "overlay",
              "size": 10,
              "solidity": 0.2
             }
            },
            "type": "histogram"
           }
          ],
          "histogram2d": [
           {
            "colorbar": {
             "outlinewidth": 0,
             "ticks": ""
            },
            "colorscale": [
             [
              0,
              "#0d0887"
             ],
             [
              0.1111111111111111,
              "#46039f"
             ],
             [
              0.2222222222222222,
              "#7201a8"
             ],
             [
              0.3333333333333333,
              "#9c179e"
             ],
             [
              0.4444444444444444,
              "#bd3786"
             ],
             [
              0.5555555555555556,
              "#d8576b"
             ],
             [
              0.6666666666666666,
              "#ed7953"
             ],
             [
              0.7777777777777778,
              "#fb9f3a"
             ],
             [
              0.8888888888888888,
              "#fdca26"
             ],
             [
              1,
              "#f0f921"
             ]
            ],
            "type": "histogram2d"
           }
          ],
          "histogram2dcontour": [
           {
            "colorbar": {
             "outlinewidth": 0,
             "ticks": ""
            },
            "colorscale": [
             [
              0,
              "#0d0887"
             ],
             [
              0.1111111111111111,
              "#46039f"
             ],
             [
              0.2222222222222222,
              "#7201a8"
             ],
             [
              0.3333333333333333,
              "#9c179e"
             ],
             [
              0.4444444444444444,
              "#bd3786"
             ],
             [
              0.5555555555555556,
              "#d8576b"
             ],
             [
              0.6666666666666666,
              "#ed7953"
             ],
             [
              0.7777777777777778,
              "#fb9f3a"
             ],
             [
              0.8888888888888888,
              "#fdca26"
             ],
             [
              1,
              "#f0f921"
             ]
            ],
            "type": "histogram2dcontour"
           }
          ],
          "mesh3d": [
           {
            "colorbar": {
             "outlinewidth": 0,
             "ticks": ""
            },
            "type": "mesh3d"
           }
          ],
          "parcoords": [
           {
            "line": {
             "colorbar": {
              "outlinewidth": 0,
              "ticks": ""
             }
            },
            "type": "parcoords"
           }
          ],
          "pie": [
           {
            "automargin": true,
            "type": "pie"
           }
          ],
          "scatter": [
           {
            "fillpattern": {
             "fillmode": "overlay",
             "size": 10,
             "solidity": 0.2
            },
            "type": "scatter"
           }
          ],
          "scatter3d": [
           {
            "line": {
             "colorbar": {
              "outlinewidth": 0,
              "ticks": ""
             }
            },
            "marker": {
             "colorbar": {
              "outlinewidth": 0,
              "ticks": ""
             }
            },
            "type": "scatter3d"
           }
          ],
          "scattercarpet": [
           {
            "marker": {
             "colorbar": {
              "outlinewidth": 0,
              "ticks": ""
             }
            },
            "type": "scattercarpet"
           }
          ],
          "scattergeo": [
           {
            "marker": {
             "colorbar": {
              "outlinewidth": 0,
              "ticks": ""
             }
            },
            "type": "scattergeo"
           }
          ],
          "scattergl": [
           {
            "marker": {
             "colorbar": {
              "outlinewidth": 0,
              "ticks": ""
             }
            },
            "type": "scattergl"
           }
          ],
          "scattermapbox": [
           {
            "marker": {
             "colorbar": {
              "outlinewidth": 0,
              "ticks": ""
             }
            },
            "type": "scattermapbox"
           }
          ],
          "scatterpolar": [
           {
            "marker": {
             "colorbar": {
              "outlinewidth": 0,
              "ticks": ""
             }
            },
            "type": "scatterpolar"
           }
          ],
          "scatterpolargl": [
           {
            "marker": {
             "colorbar": {
              "outlinewidth": 0,
              "ticks": ""
             }
            },
            "type": "scatterpolargl"
           }
          ],
          "scatterternary": [
           {
            "marker": {
             "colorbar": {
              "outlinewidth": 0,
              "ticks": ""
             }
            },
            "type": "scatterternary"
           }
          ],
          "surface": [
           {
            "colorbar": {
             "outlinewidth": 0,
             "ticks": ""
            },
            "colorscale": [
             [
              0,
              "#0d0887"
             ],
             [
              0.1111111111111111,
              "#46039f"
             ],
             [
              0.2222222222222222,
              "#7201a8"
             ],
             [
              0.3333333333333333,
              "#9c179e"
             ],
             [
              0.4444444444444444,
              "#bd3786"
             ],
             [
              0.5555555555555556,
              "#d8576b"
             ],
             [
              0.6666666666666666,
              "#ed7953"
             ],
             [
              0.7777777777777778,
              "#fb9f3a"
             ],
             [
              0.8888888888888888,
              "#fdca26"
             ],
             [
              1,
              "#f0f921"
             ]
            ],
            "type": "surface"
           }
          ],
          "table": [
           {
            "cells": {
             "fill": {
              "color": "#EBF0F8"
             },
             "line": {
              "color": "white"
             }
            },
            "header": {
             "fill": {
              "color": "#C8D4E3"
             },
             "line": {
              "color": "white"
             }
            },
            "type": "table"
           }
          ]
         },
         "layout": {
          "annotationdefaults": {
           "arrowcolor": "#2a3f5f",
           "arrowhead": 0,
           "arrowwidth": 1
          },
          "autotypenumbers": "strict",
          "coloraxis": {
           "colorbar": {
            "outlinewidth": 0,
            "ticks": ""
           }
          },
          "colorscale": {
           "diverging": [
            [
             0,
             "#8e0152"
            ],
            [
             0.1,
             "#c51b7d"
            ],
            [
             0.2,
             "#de77ae"
            ],
            [
             0.3,
             "#f1b6da"
            ],
            [
             0.4,
             "#fde0ef"
            ],
            [
             0.5,
             "#f7f7f7"
            ],
            [
             0.6,
             "#e6f5d0"
            ],
            [
             0.7,
             "#b8e186"
            ],
            [
             0.8,
             "#7fbc41"
            ],
            [
             0.9,
             "#4d9221"
            ],
            [
             1,
             "#276419"
            ]
           ],
           "sequential": [
            [
             0,
             "#0d0887"
            ],
            [
             0.1111111111111111,
             "#46039f"
            ],
            [
             0.2222222222222222,
             "#7201a8"
            ],
            [
             0.3333333333333333,
             "#9c179e"
            ],
            [
             0.4444444444444444,
             "#bd3786"
            ],
            [
             0.5555555555555556,
             "#d8576b"
            ],
            [
             0.6666666666666666,
             "#ed7953"
            ],
            [
             0.7777777777777778,
             "#fb9f3a"
            ],
            [
             0.8888888888888888,
             "#fdca26"
            ],
            [
             1,
             "#f0f921"
            ]
           ],
           "sequentialminus": [
            [
             0,
             "#0d0887"
            ],
            [
             0.1111111111111111,
             "#46039f"
            ],
            [
             0.2222222222222222,
             "#7201a8"
            ],
            [
             0.3333333333333333,
             "#9c179e"
            ],
            [
             0.4444444444444444,
             "#bd3786"
            ],
            [
             0.5555555555555556,
             "#d8576b"
            ],
            [
             0.6666666666666666,
             "#ed7953"
            ],
            [
             0.7777777777777778,
             "#fb9f3a"
            ],
            [
             0.8888888888888888,
             "#fdca26"
            ],
            [
             1,
             "#f0f921"
            ]
           ]
          },
          "colorway": [
           "#636efa",
           "#EF553B",
           "#00cc96",
           "#ab63fa",
           "#FFA15A",
           "#19d3f3",
           "#FF6692",
           "#B6E880",
           "#FF97FF",
           "#FECB52"
          ],
          "font": {
           "color": "#2a3f5f"
          },
          "geo": {
           "bgcolor": "white",
           "lakecolor": "white",
           "landcolor": "#E5ECF6",
           "showlakes": true,
           "showland": true,
           "subunitcolor": "white"
          },
          "hoverlabel": {
           "align": "left"
          },
          "hovermode": "closest",
          "mapbox": {
           "style": "light"
          },
          "paper_bgcolor": "white",
          "plot_bgcolor": "#E5ECF6",
          "polar": {
           "angularaxis": {
            "gridcolor": "white",
            "linecolor": "white",
            "ticks": ""
           },
           "bgcolor": "#E5ECF6",
           "radialaxis": {
            "gridcolor": "white",
            "linecolor": "white",
            "ticks": ""
           }
          },
          "scene": {
           "xaxis": {
            "backgroundcolor": "#E5ECF6",
            "gridcolor": "white",
            "gridwidth": 2,
            "linecolor": "white",
            "showbackground": true,
            "ticks": "",
            "zerolinecolor": "white"
           },
           "yaxis": {
            "backgroundcolor": "#E5ECF6",
            "gridcolor": "white",
            "gridwidth": 2,
            "linecolor": "white",
            "showbackground": true,
            "ticks": "",
            "zerolinecolor": "white"
           },
           "zaxis": {
            "backgroundcolor": "#E5ECF6",
            "gridcolor": "white",
            "gridwidth": 2,
            "linecolor": "white",
            "showbackground": true,
            "ticks": "",
            "zerolinecolor": "white"
           }
          },
          "shapedefaults": {
           "line": {
            "color": "#2a3f5f"
           }
          },
          "ternary": {
           "aaxis": {
            "gridcolor": "white",
            "linecolor": "white",
            "ticks": ""
           },
           "baxis": {
            "gridcolor": "white",
            "linecolor": "white",
            "ticks": ""
           },
           "bgcolor": "#E5ECF6",
           "caxis": {
            "gridcolor": "white",
            "linecolor": "white",
            "ticks": ""
           }
          },
          "title": {
           "x": 0.05
          },
          "xaxis": {
           "automargin": true,
           "gridcolor": "white",
           "linecolor": "white",
           "ticks": "",
           "title": {
            "standoff": 15
           },
           "zerolinecolor": "white",
           "zerolinewidth": 2
          },
          "yaxis": {
           "automargin": true,
           "gridcolor": "white",
           "linecolor": "white",
           "ticks": "",
           "title": {
            "standoff": 15
           },
           "zerolinecolor": "white",
           "zerolinewidth": 2
          }
         }
        }
       }
      }
     },
     "metadata": {},
     "output_type": "display_data"
    }
   ],
   "source": [
    "# Paper: \n",
    "# Basic bar plots count of events after resampling\n",
    "# Check if it follows some distribution\n",
    "\n",
    "data_filterd = filter_event_type(data_filterd, 1)\n",
    "data_resampled = resample(data_filterd, \"datetime\", \"5min\", \"count\")\n",
    "\n",
    "\n",
    "data_trimmed = data_resampled[data_resampled[\"event_type\"] > 0]\n",
    "value_counts = data_trimmed.value_counts(\"event_type\")\n",
    "\n",
    "fig = go.Figure()\n",
    "# line plot\n",
    "fig.add_trace(\n",
    "    go.Bar(\n",
    "        x=value_counts.index, \n",
    "        y=value_counts, \n",
    "        name='value_counts'))\n"
   ]
  },
  {
   "cell_type": "markdown",
   "metadata": {},
   "source": [
    "Boxplot"
   ]
  },
  {
   "cell_type": "code",
   "execution_count": 6,
   "metadata": {},
   "outputs": [
    {
     "name": "stdout",
     "output_type": "stream",
     "text": [
      "      week      time  weekday  event_type\n",
      "0       15  00:00:00        0           0\n",
      "7       15  00:15:00        0           0\n",
      "14      15  00:30:00        0           0\n",
      "21      15  00:45:00        0           0\n",
      "28      15  01:00:00        0           0\n",
      "...    ...       ...      ...         ...\n",
      "7848    26  22:45:00        0           0\n",
      "7853    26  23:00:00        0           0\n",
      "7858    26  23:15:00        0           0\n",
      "7863    26  23:30:00        0           0\n",
      "7868    26  23:45:00        0           0\n",
      "\n",
      "[1152 rows x 4 columns]\n"
     ]
    },
    {
     "data": {
      "application/vnd.plotly.v1+json": {
       "config": {
        "plotlyServerURL": "https://plot.ly"
       },
       "data": [
        {
         "alignmentgroup": "True",
         "hovertemplate": "time=%{x}<br>event_type=%{y}<extra></extra>",
         "legendgroup": "",
         "marker": {
          "color": "#636efa"
         },
         "name": "",
         "notched": false,
         "offsetgroup": "",
         "orientation": "v",
         "showlegend": false,
         "type": "box",
         "x": [
          "00:00:00",
          "00:15:00",
          "00:30:00",
          "00:45:00",
          "01:00:00",
          "01:15:00",
          "01:30:00",
          "01:45:00",
          "02:00:00",
          "02:15:00",
          "02:30:00",
          "02:45:00",
          "03:00:00",
          "03:15:00",
          "03:30:00",
          "03:45:00",
          "04:00:00",
          "04:15:00",
          "04:30:00",
          "04:45:00",
          "05:00:00",
          "05:15:00",
          "05:30:00",
          "05:45:00",
          "06:00:00",
          "06:15:00",
          "06:30:00",
          "06:45:00",
          "07:00:00",
          "07:15:00",
          "07:30:00",
          "07:45:00",
          "08:00:00",
          "08:15:00",
          "08:30:00",
          "08:45:00",
          "09:00:00",
          "09:15:00",
          "09:30:00",
          "09:45:00",
          "10:00:00",
          "10:15:00",
          "10:30:00",
          "10:45:00",
          "11:00:00",
          "11:15:00",
          "11:30:00",
          "11:45:00",
          "12:00:00",
          "12:15:00",
          "12:30:00",
          "12:45:00",
          "13:00:00",
          "13:15:00",
          "13:30:00",
          "13:45:00",
          "14:00:00",
          "14:15:00",
          "14:30:00",
          "14:45:00",
          "15:00:00",
          "15:15:00",
          "15:30:00",
          "15:45:00",
          "16:00:00",
          "16:15:00",
          "16:30:00",
          "16:45:00",
          "17:00:00",
          "17:15:00",
          "17:30:00",
          "17:45:00",
          "18:00:00",
          "18:15:00",
          "18:30:00",
          "18:45:00",
          "19:00:00",
          "19:15:00",
          "19:30:00",
          "19:45:00",
          "20:00:00",
          "20:15:00",
          "20:30:00",
          "20:45:00",
          "21:00:00",
          "21:15:00",
          "21:30:00",
          "21:45:00",
          "22:00:00",
          "22:15:00",
          "22:30:00",
          "22:45:00",
          "23:00:00",
          "23:15:00",
          "23:30:00",
          "23:45:00",
          "00:00:00",
          "00:15:00",
          "00:30:00",
          "00:45:00",
          "01:00:00",
          "01:15:00",
          "01:30:00",
          "01:45:00",
          "02:00:00",
          "02:15:00",
          "02:30:00",
          "02:45:00",
          "03:00:00",
          "03:15:00",
          "03:30:00",
          "03:45:00",
          "04:00:00",
          "04:15:00",
          "04:30:00",
          "04:45:00",
          "05:00:00",
          "05:15:00",
          "05:30:00",
          "05:45:00",
          "06:00:00",
          "06:15:00",
          "06:30:00",
          "06:45:00",
          "07:00:00",
          "07:15:00",
          "07:30:00",
          "07:45:00",
          "08:00:00",
          "08:15:00",
          "08:30:00",
          "08:45:00",
          "09:00:00",
          "09:15:00",
          "09:30:00",
          "09:45:00",
          "10:00:00",
          "10:15:00",
          "10:30:00",
          "10:45:00",
          "11:00:00",
          "11:15:00",
          "11:30:00",
          "11:45:00",
          "12:00:00",
          "12:15:00",
          "12:30:00",
          "12:45:00",
          "13:00:00",
          "13:15:00",
          "13:30:00",
          "13:45:00",
          "14:00:00",
          "14:15:00",
          "14:30:00",
          "14:45:00",
          "15:00:00",
          "15:15:00",
          "15:30:00",
          "15:45:00",
          "16:00:00",
          "16:15:00",
          "16:30:00",
          "16:45:00",
          "17:00:00",
          "17:15:00",
          "17:30:00",
          "17:45:00",
          "18:00:00",
          "18:15:00",
          "18:30:00",
          "18:45:00",
          "19:00:00",
          "19:15:00",
          "19:30:00",
          "19:45:00",
          "20:00:00",
          "20:15:00",
          "20:30:00",
          "20:45:00",
          "21:00:00",
          "21:15:00",
          "21:30:00",
          "21:45:00",
          "22:00:00",
          "22:15:00",
          "22:30:00",
          "22:45:00",
          "23:00:00",
          "23:15:00",
          "23:30:00",
          "23:45:00",
          "00:00:00",
          "00:15:00",
          "00:30:00",
          "00:45:00",
          "01:00:00",
          "01:15:00",
          "01:30:00",
          "01:45:00",
          "02:00:00",
          "02:15:00",
          "02:30:00",
          "02:45:00",
          "03:00:00",
          "03:15:00",
          "03:30:00",
          "03:45:00",
          "04:00:00",
          "04:15:00",
          "04:30:00",
          "04:45:00",
          "05:00:00",
          "05:15:00",
          "05:30:00",
          "05:45:00",
          "06:00:00",
          "06:15:00",
          "06:30:00",
          "06:45:00",
          "07:00:00",
          "07:15:00",
          "07:30:00",
          "07:45:00",
          "08:00:00",
          "08:15:00",
          "08:30:00",
          "08:45:00",
          "09:00:00",
          "09:15:00",
          "09:30:00",
          "09:45:00",
          "10:00:00",
          "10:15:00",
          "10:30:00",
          "10:45:00",
          "11:00:00",
          "11:15:00",
          "11:30:00",
          "11:45:00",
          "12:00:00",
          "12:15:00",
          "12:30:00",
          "12:45:00",
          "13:00:00",
          "13:15:00",
          "13:30:00",
          "13:45:00",
          "14:00:00",
          "14:15:00",
          "14:30:00",
          "14:45:00",
          "15:00:00",
          "15:15:00",
          "15:30:00",
          "15:45:00",
          "16:00:00",
          "16:15:00",
          "16:30:00",
          "16:45:00",
          "17:00:00",
          "17:15:00",
          "17:30:00",
          "17:45:00",
          "18:00:00",
          "18:15:00",
          "18:30:00",
          "18:45:00",
          "19:00:00",
          "19:15:00",
          "19:30:00",
          "19:45:00",
          "20:00:00",
          "20:15:00",
          "20:30:00",
          "20:45:00",
          "21:00:00",
          "21:15:00",
          "21:30:00",
          "21:45:00",
          "22:00:00",
          "22:15:00",
          "22:30:00",
          "22:45:00",
          "23:00:00",
          "23:15:00",
          "23:30:00",
          "23:45:00",
          "00:00:00",
          "00:15:00",
          "00:30:00",
          "00:45:00",
          "01:00:00",
          "01:15:00",
          "01:30:00",
          "01:45:00",
          "02:00:00",
          "02:15:00",
          "02:30:00",
          "02:45:00",
          "03:00:00",
          "03:15:00",
          "03:30:00",
          "03:45:00",
          "04:00:00",
          "04:15:00",
          "04:30:00",
          "04:45:00",
          "05:00:00",
          "05:15:00",
          "05:30:00",
          "05:45:00",
          "06:00:00",
          "06:15:00",
          "06:30:00",
          "06:45:00",
          "07:00:00",
          "07:15:00",
          "07:30:00",
          "07:45:00",
          "08:00:00",
          "08:15:00",
          "08:30:00",
          "08:45:00",
          "09:00:00",
          "09:15:00",
          "09:30:00",
          "09:45:00",
          "10:00:00",
          "10:15:00",
          "10:30:00",
          "10:45:00",
          "11:00:00",
          "11:15:00",
          "11:30:00",
          "11:45:00",
          "12:00:00",
          "12:15:00",
          "12:30:00",
          "12:45:00",
          "13:00:00",
          "13:15:00",
          "13:30:00",
          "13:45:00",
          "14:00:00",
          "14:15:00",
          "14:30:00",
          "14:45:00",
          "15:00:00",
          "15:15:00",
          "15:30:00",
          "15:45:00",
          "16:00:00",
          "16:15:00",
          "16:30:00",
          "16:45:00",
          "17:00:00",
          "17:15:00",
          "17:30:00",
          "17:45:00",
          "18:00:00",
          "18:15:00",
          "18:30:00",
          "18:45:00",
          "19:00:00",
          "19:15:00",
          "19:30:00",
          "19:45:00",
          "20:00:00",
          "20:15:00",
          "20:30:00",
          "20:45:00",
          "21:00:00",
          "21:15:00",
          "21:30:00",
          "21:45:00",
          "22:00:00",
          "22:15:00",
          "22:30:00",
          "22:45:00",
          "23:00:00",
          "23:15:00",
          "23:30:00",
          "23:45:00",
          "00:00:00",
          "00:15:00",
          "00:30:00",
          "00:45:00",
          "01:00:00",
          "01:15:00",
          "01:30:00",
          "01:45:00",
          "02:00:00",
          "02:15:00",
          "02:30:00",
          "02:45:00",
          "03:00:00",
          "03:15:00",
          "03:30:00",
          "03:45:00",
          "04:00:00",
          "04:15:00",
          "04:30:00",
          "04:45:00",
          "05:00:00",
          "05:15:00",
          "05:30:00",
          "05:45:00",
          "06:00:00",
          "06:15:00",
          "06:30:00",
          "06:45:00",
          "07:00:00",
          "07:15:00",
          "07:30:00",
          "07:45:00",
          "08:00:00",
          "08:15:00",
          "08:30:00",
          "08:45:00",
          "09:00:00",
          "09:15:00",
          "09:30:00",
          "09:45:00",
          "10:00:00",
          "10:15:00",
          "10:30:00",
          "10:45:00",
          "11:00:00",
          "11:15:00",
          "11:30:00",
          "11:45:00",
          "12:00:00",
          "12:15:00",
          "12:30:00",
          "12:45:00",
          "13:00:00",
          "13:15:00",
          "13:30:00",
          "13:45:00",
          "14:00:00",
          "14:15:00",
          "14:30:00",
          "14:45:00",
          "15:00:00",
          "15:15:00",
          "15:30:00",
          "15:45:00",
          "16:00:00",
          "16:15:00",
          "16:30:00",
          "16:45:00",
          "17:00:00",
          "17:15:00",
          "17:30:00",
          "17:45:00",
          "18:00:00",
          "18:15:00",
          "18:30:00",
          "18:45:00",
          "19:00:00",
          "19:15:00",
          "19:30:00",
          "19:45:00",
          "20:00:00",
          "20:15:00",
          "20:30:00",
          "20:45:00",
          "21:00:00",
          "21:15:00",
          "21:30:00",
          "21:45:00",
          "22:00:00",
          "22:15:00",
          "22:30:00",
          "22:45:00",
          "23:00:00",
          "23:15:00",
          "23:30:00",
          "23:45:00",
          "00:00:00",
          "00:15:00",
          "00:30:00",
          "00:45:00",
          "01:00:00",
          "01:15:00",
          "01:30:00",
          "01:45:00",
          "02:00:00",
          "02:15:00",
          "02:30:00",
          "02:45:00",
          "03:00:00",
          "03:15:00",
          "03:30:00",
          "03:45:00",
          "04:00:00",
          "04:15:00",
          "04:30:00",
          "04:45:00",
          "05:00:00",
          "05:15:00",
          "05:30:00",
          "05:45:00",
          "06:00:00",
          "06:15:00",
          "06:30:00",
          "06:45:00",
          "07:00:00",
          "07:15:00",
          "07:30:00",
          "07:45:00",
          "08:00:00",
          "08:15:00",
          "08:30:00",
          "08:45:00",
          "09:00:00",
          "09:15:00",
          "09:30:00",
          "09:45:00",
          "10:00:00",
          "10:15:00",
          "10:30:00",
          "10:45:00",
          "11:00:00",
          "11:15:00",
          "11:30:00",
          "11:45:00",
          "12:00:00",
          "12:15:00",
          "12:30:00",
          "12:45:00",
          "13:00:00",
          "13:15:00",
          "13:30:00",
          "13:45:00",
          "14:00:00",
          "14:15:00",
          "14:30:00",
          "14:45:00",
          "15:00:00",
          "15:15:00",
          "15:30:00",
          "15:45:00",
          "16:00:00",
          "16:15:00",
          "16:30:00",
          "16:45:00",
          "17:00:00",
          "17:15:00",
          "17:30:00",
          "17:45:00",
          "18:00:00",
          "18:15:00",
          "18:30:00",
          "18:45:00",
          "19:00:00",
          "19:15:00",
          "19:30:00",
          "19:45:00",
          "20:00:00",
          "20:15:00",
          "20:30:00",
          "20:45:00",
          "21:00:00",
          "21:15:00",
          "21:30:00",
          "21:45:00",
          "22:00:00",
          "22:15:00",
          "22:30:00",
          "22:45:00",
          "23:00:00",
          "23:15:00",
          "23:30:00",
          "23:45:00",
          "00:00:00",
          "00:15:00",
          "00:30:00",
          "00:45:00",
          "01:00:00",
          "01:15:00",
          "01:30:00",
          "01:45:00",
          "02:00:00",
          "02:15:00",
          "02:30:00",
          "02:45:00",
          "03:00:00",
          "03:15:00",
          "03:30:00",
          "03:45:00",
          "04:00:00",
          "04:15:00",
          "04:30:00",
          "04:45:00",
          "05:00:00",
          "05:15:00",
          "05:30:00",
          "05:45:00",
          "06:00:00",
          "06:15:00",
          "06:30:00",
          "06:45:00",
          "07:00:00",
          "07:15:00",
          "07:30:00",
          "07:45:00",
          "08:00:00",
          "08:15:00",
          "08:30:00",
          "08:45:00",
          "09:00:00",
          "09:15:00",
          "09:30:00",
          "09:45:00",
          "10:00:00",
          "10:15:00",
          "10:30:00",
          "10:45:00",
          "11:00:00",
          "11:15:00",
          "11:30:00",
          "11:45:00",
          "12:00:00",
          "12:15:00",
          "12:30:00",
          "12:45:00",
          "13:00:00",
          "13:15:00",
          "13:30:00",
          "13:45:00",
          "14:00:00",
          "14:15:00",
          "14:30:00",
          "14:45:00",
          "15:00:00",
          "15:15:00",
          "15:30:00",
          "15:45:00",
          "16:00:00",
          "16:15:00",
          "16:30:00",
          "16:45:00",
          "17:00:00",
          "17:15:00",
          "17:30:00",
          "17:45:00",
          "18:00:00",
          "18:15:00",
          "18:30:00",
          "18:45:00",
          "19:00:00",
          "19:15:00",
          "19:30:00",
          "19:45:00",
          "20:00:00",
          "20:15:00",
          "20:30:00",
          "20:45:00",
          "21:00:00",
          "21:15:00",
          "21:30:00",
          "21:45:00",
          "22:00:00",
          "22:15:00",
          "22:30:00",
          "22:45:00",
          "23:00:00",
          "23:15:00",
          "23:30:00",
          "23:45:00",
          "00:00:00",
          "00:15:00",
          "00:30:00",
          "00:45:00",
          "01:00:00",
          "01:15:00",
          "01:30:00",
          "01:45:00",
          "02:00:00",
          "02:15:00",
          "02:30:00",
          "02:45:00",
          "03:00:00",
          "03:15:00",
          "03:30:00",
          "03:45:00",
          "04:00:00",
          "04:15:00",
          "04:30:00",
          "04:45:00",
          "05:00:00",
          "05:15:00",
          "05:30:00",
          "05:45:00",
          "06:00:00",
          "06:15:00",
          "06:30:00",
          "06:45:00",
          "07:00:00",
          "07:15:00",
          "07:30:00",
          "07:45:00",
          "08:00:00",
          "08:15:00",
          "08:30:00",
          "08:45:00",
          "09:00:00",
          "09:15:00",
          "09:30:00",
          "09:45:00",
          "10:00:00",
          "10:15:00",
          "10:30:00",
          "10:45:00",
          "11:00:00",
          "11:15:00",
          "11:30:00",
          "11:45:00",
          "12:00:00",
          "12:15:00",
          "12:30:00",
          "12:45:00",
          "13:00:00",
          "13:15:00",
          "13:30:00",
          "13:45:00",
          "14:00:00",
          "14:15:00",
          "14:30:00",
          "14:45:00",
          "15:00:00",
          "15:15:00",
          "15:30:00",
          "15:45:00",
          "16:00:00",
          "16:15:00",
          "16:30:00",
          "16:45:00",
          "17:00:00",
          "17:15:00",
          "17:30:00",
          "17:45:00",
          "18:00:00",
          "18:15:00",
          "18:30:00",
          "18:45:00",
          "19:00:00",
          "19:15:00",
          "19:30:00",
          "19:45:00",
          "20:00:00",
          "20:15:00",
          "20:30:00",
          "20:45:00",
          "21:00:00",
          "21:15:00",
          "21:30:00",
          "21:45:00",
          "22:00:00",
          "22:15:00",
          "22:30:00",
          "22:45:00",
          "23:00:00",
          "23:15:00",
          "23:30:00",
          "23:45:00",
          "00:00:00",
          "00:15:00",
          "00:30:00",
          "00:45:00",
          "01:00:00",
          "01:15:00",
          "01:30:00",
          "01:45:00",
          "02:00:00",
          "02:15:00",
          "02:30:00",
          "02:45:00",
          "03:00:00",
          "03:15:00",
          "03:30:00",
          "03:45:00",
          "04:00:00",
          "04:15:00",
          "04:30:00",
          "04:45:00",
          "05:00:00",
          "05:15:00",
          "05:30:00",
          "05:45:00",
          "06:00:00",
          "06:15:00",
          "06:30:00",
          "06:45:00",
          "07:00:00",
          "07:15:00",
          "07:30:00",
          "07:45:00",
          "08:00:00",
          "08:15:00",
          "08:30:00",
          "08:45:00",
          "09:00:00",
          "09:15:00",
          "09:30:00",
          "09:45:00",
          "10:00:00",
          "10:15:00",
          "10:30:00",
          "10:45:00",
          "11:00:00",
          "11:15:00",
          "11:30:00",
          "11:45:00",
          "12:00:00",
          "12:15:00",
          "12:30:00",
          "12:45:00",
          "13:00:00",
          "13:15:00",
          "13:30:00",
          "13:45:00",
          "14:00:00",
          "14:15:00",
          "14:30:00",
          "14:45:00",
          "15:00:00",
          "15:15:00",
          "15:30:00",
          "15:45:00",
          "16:00:00",
          "16:15:00",
          "16:30:00",
          "16:45:00",
          "17:00:00",
          "17:15:00",
          "17:30:00",
          "17:45:00",
          "18:00:00",
          "18:15:00",
          "18:30:00",
          "18:45:00",
          "19:00:00",
          "19:15:00",
          "19:30:00",
          "19:45:00",
          "20:00:00",
          "20:15:00",
          "20:30:00",
          "20:45:00",
          "21:00:00",
          "21:15:00",
          "21:30:00",
          "21:45:00",
          "22:00:00",
          "22:15:00",
          "22:30:00",
          "22:45:00",
          "23:00:00",
          "23:15:00",
          "23:30:00",
          "23:45:00",
          "00:00:00",
          "00:15:00",
          "00:30:00",
          "00:45:00",
          "01:00:00",
          "01:15:00",
          "01:30:00",
          "01:45:00",
          "02:00:00",
          "02:15:00",
          "02:30:00",
          "02:45:00",
          "03:00:00",
          "03:15:00",
          "03:30:00",
          "03:45:00",
          "04:00:00",
          "04:15:00",
          "04:30:00",
          "04:45:00",
          "05:00:00",
          "05:15:00",
          "05:30:00",
          "05:45:00",
          "06:00:00",
          "06:15:00",
          "06:30:00",
          "06:45:00",
          "07:00:00",
          "07:15:00",
          "07:30:00",
          "07:45:00",
          "08:00:00",
          "08:15:00",
          "08:30:00",
          "08:45:00",
          "09:00:00",
          "09:15:00",
          "09:30:00",
          "09:45:00",
          "10:00:00",
          "10:15:00",
          "10:30:00",
          "10:45:00",
          "11:00:00",
          "11:15:00",
          "11:30:00",
          "11:45:00",
          "12:00:00",
          "12:15:00",
          "12:30:00",
          "12:45:00",
          "13:00:00",
          "13:15:00",
          "13:30:00",
          "13:45:00",
          "14:00:00",
          "14:15:00",
          "14:30:00",
          "14:45:00",
          "15:00:00",
          "15:15:00",
          "15:30:00",
          "15:45:00",
          "16:00:00",
          "16:15:00",
          "16:30:00",
          "16:45:00",
          "17:00:00",
          "17:15:00",
          "17:30:00",
          "17:45:00",
          "18:00:00",
          "18:15:00",
          "18:30:00",
          "18:45:00",
          "19:00:00",
          "19:15:00",
          "19:30:00",
          "19:45:00",
          "20:00:00",
          "20:15:00",
          "20:30:00",
          "20:45:00",
          "21:00:00",
          "21:15:00",
          "21:30:00",
          "21:45:00",
          "22:00:00",
          "22:15:00",
          "22:30:00",
          "22:45:00",
          "23:00:00",
          "23:15:00",
          "23:30:00",
          "23:45:00",
          "00:00:00",
          "00:15:00",
          "00:30:00",
          "00:45:00",
          "01:00:00",
          "01:15:00",
          "01:30:00",
          "01:45:00",
          "02:00:00",
          "02:15:00",
          "02:30:00",
          "02:45:00",
          "03:00:00",
          "03:15:00",
          "03:30:00",
          "03:45:00",
          "04:00:00",
          "04:15:00",
          "04:30:00",
          "04:45:00",
          "05:00:00",
          "05:15:00",
          "05:30:00",
          "05:45:00",
          "06:00:00",
          "06:15:00",
          "06:30:00",
          "06:45:00",
          "07:00:00",
          "07:15:00",
          "07:30:00",
          "07:45:00",
          "08:00:00",
          "08:15:00",
          "08:30:00",
          "08:45:00",
          "09:00:00",
          "09:15:00",
          "09:30:00",
          "09:45:00",
          "10:00:00",
          "10:15:00",
          "10:30:00",
          "10:45:00",
          "11:00:00",
          "11:15:00",
          "11:30:00",
          "11:45:00",
          "12:00:00",
          "12:15:00",
          "12:30:00",
          "12:45:00",
          "13:00:00",
          "13:15:00",
          "13:30:00",
          "13:45:00",
          "14:00:00",
          "14:15:00",
          "14:30:00",
          "14:45:00",
          "15:00:00",
          "15:15:00",
          "15:30:00",
          "15:45:00",
          "16:00:00",
          "16:15:00",
          "16:30:00",
          "16:45:00",
          "17:00:00",
          "17:15:00",
          "17:30:00",
          "17:45:00",
          "18:00:00",
          "18:15:00",
          "18:30:00",
          "18:45:00",
          "19:00:00",
          "19:15:00",
          "19:30:00",
          "19:45:00",
          "20:00:00",
          "20:15:00",
          "20:30:00",
          "20:45:00",
          "21:00:00",
          "21:15:00",
          "21:30:00",
          "21:45:00",
          "22:00:00",
          "22:15:00",
          "22:30:00",
          "22:45:00",
          "23:00:00",
          "23:15:00",
          "23:30:00",
          "23:45:00",
          "00:00:00",
          "00:15:00",
          "00:30:00",
          "00:45:00",
          "01:00:00",
          "01:15:00",
          "01:30:00",
          "01:45:00",
          "02:00:00",
          "02:15:00",
          "02:30:00",
          "02:45:00",
          "03:00:00",
          "03:15:00",
          "03:30:00",
          "03:45:00",
          "04:00:00",
          "04:15:00",
          "04:30:00",
          "04:45:00",
          "05:00:00",
          "05:15:00",
          "05:30:00",
          "05:45:00",
          "06:00:00",
          "06:15:00",
          "06:30:00",
          "06:45:00",
          "07:00:00",
          "07:15:00",
          "07:30:00",
          "07:45:00",
          "08:00:00",
          "08:15:00",
          "08:30:00",
          "08:45:00",
          "09:00:00",
          "09:15:00",
          "09:30:00",
          "09:45:00",
          "10:00:00",
          "10:15:00",
          "10:30:00",
          "10:45:00",
          "11:00:00",
          "11:15:00",
          "11:30:00",
          "11:45:00",
          "12:00:00",
          "12:15:00",
          "12:30:00",
          "12:45:00",
          "13:00:00",
          "13:15:00",
          "13:30:00",
          "13:45:00",
          "14:00:00",
          "14:15:00",
          "14:30:00",
          "14:45:00",
          "15:00:00",
          "15:15:00",
          "15:30:00",
          "15:45:00",
          "16:00:00",
          "16:15:00",
          "16:30:00",
          "16:45:00",
          "17:00:00",
          "17:15:00",
          "17:30:00",
          "17:45:00",
          "18:00:00",
          "18:15:00",
          "18:30:00",
          "18:45:00",
          "19:00:00",
          "19:15:00",
          "19:30:00",
          "19:45:00",
          "20:00:00",
          "20:15:00",
          "20:30:00",
          "20:45:00",
          "21:00:00",
          "21:15:00",
          "21:30:00",
          "21:45:00",
          "22:00:00",
          "22:15:00",
          "22:30:00",
          "22:45:00",
          "23:00:00",
          "23:15:00",
          "23:30:00",
          "23:45:00"
         ],
         "x0": " ",
         "xaxis": "x",
         "y": [
          0,
          0,
          0,
          0,
          0,
          0,
          0,
          0,
          0,
          0,
          0,
          0,
          0,
          0,
          0,
          0,
          0,
          0,
          0,
          0,
          0,
          0,
          0,
          0,
          0,
          0,
          4,
          0,
          0,
          1,
          4,
          0,
          0,
          0,
          0,
          0,
          0,
          0,
          0,
          0,
          0,
          0,
          0,
          0,
          0,
          0,
          3,
          50,
          14,
          2,
          2,
          0,
          1,
          5,
          22,
          9,
          0,
          0,
          2,
          0,
          2,
          30,
          0,
          0,
          0,
          1,
          0,
          3,
          4,
          0,
          0,
          0,
          0,
          0,
          0,
          0,
          0,
          0,
          0,
          0,
          0,
          0,
          0,
          0,
          0,
          0,
          0,
          0,
          0,
          0,
          0,
          0,
          0,
          0,
          0,
          0,
          0,
          0,
          0,
          0,
          0,
          0,
          0,
          0,
          0,
          0,
          0,
          0,
          0,
          0,
          0,
          0,
          0,
          0,
          0,
          0,
          0,
          0,
          0,
          0,
          3,
          0,
          0,
          0,
          0,
          0,
          0,
          0,
          0,
          0,
          0,
          0,
          0,
          0,
          0,
          0,
          0,
          0,
          0,
          0,
          0,
          0,
          5,
          38,
          9,
          1,
          3,
          0,
          1,
          0,
          22,
          3,
          0,
          0,
          0,
          2,
          1,
          24,
          4,
          0,
          0,
          0,
          0,
          2,
          7,
          0,
          0,
          0,
          0,
          0,
          0,
          0,
          0,
          0,
          0,
          0,
          1,
          0,
          0,
          0,
          0,
          0,
          0,
          0,
          0,
          0,
          0,
          0,
          0,
          0,
          0,
          0,
          0,
          0,
          0,
          0,
          0,
          0,
          0,
          0,
          0,
          0,
          0,
          0,
          0,
          0,
          0,
          0,
          0,
          0,
          0,
          0,
          0,
          0,
          0,
          0,
          0,
          0,
          0,
          7,
          0,
          1,
          0,
          0,
          0,
          0,
          0,
          0,
          0,
          0,
          0,
          0,
          0,
          0,
          0,
          0,
          0,
          0,
          3,
          45,
          12,
          2,
          0,
          0,
          1,
          1,
          19,
          4,
          0,
          0,
          0,
          0,
          8,
          24,
          10,
          0,
          1,
          1,
          1,
          1,
          14,
          0,
          0,
          0,
          0,
          0,
          0,
          0,
          0,
          0,
          0,
          0,
          0,
          0,
          0,
          0,
          0,
          0,
          0,
          0,
          0,
          0,
          0,
          0,
          0,
          0,
          0,
          0,
          0,
          0,
          0,
          0,
          0,
          0,
          0,
          0,
          0,
          0,
          0,
          0,
          0,
          0,
          0,
          0,
          0,
          0,
          0,
          0,
          0,
          0,
          0,
          0,
          8,
          0,
          0,
          0,
          0,
          0,
          0,
          0,
          0,
          0,
          0,
          0,
          0,
          0,
          0,
          0,
          0,
          0,
          0,
          0,
          0,
          0,
          3,
          44,
          16,
          4,
          3,
          0,
          1,
          4,
          19,
          5,
          0,
          0,
          0,
          0,
          5,
          16,
          3,
          1,
          3,
          3,
          0,
          0,
          7,
          1,
          0,
          0,
          0,
          0,
          0,
          0,
          0,
          0,
          0,
          0,
          0,
          0,
          0,
          0,
          0,
          0,
          0,
          0,
          0,
          0,
          0,
          0,
          0,
          0,
          0,
          0,
          0,
          0,
          0,
          0,
          0,
          0,
          0,
          0,
          0,
          0,
          0,
          0,
          0,
          0,
          0,
          0,
          0,
          0,
          0,
          0,
          0,
          0,
          0,
          0,
          3,
          0,
          0,
          0,
          0,
          0,
          0,
          0,
          1,
          7,
          0,
          1,
          0,
          1,
          0,
          3,
          3,
          1,
          1,
          3,
          0,
          0,
          0,
          0,
          0,
          0,
          0,
          0,
          0,
          2,
          15,
          0,
          0,
          0,
          1,
          0,
          3,
          17,
          1,
          0,
          3,
          1,
          1,
          0,
          5,
          3,
          0,
          0,
          0,
          0,
          0,
          1,
          0,
          0,
          0,
          0,
          0,
          0,
          0,
          0,
          0,
          0,
          0,
          0,
          0,
          0,
          0,
          0,
          0,
          0,
          0,
          0,
          0,
          0,
          0,
          0,
          0,
          0,
          0,
          0,
          0,
          0,
          0,
          0,
          0,
          0,
          0,
          0,
          0,
          0,
          0,
          0,
          0,
          0,
          0,
          0,
          5,
          0,
          0,
          0,
          0,
          0,
          0,
          0,
          0,
          0,
          1,
          0,
          1,
          1,
          0,
          0,
          0,
          0,
          0,
          0,
          0,
          0,
          2,
          28,
          17,
          2,
          1,
          2,
          2,
          0,
          21,
          3,
          0,
          0,
          1,
          1,
          4,
          14,
          9,
          0,
          0,
          0,
          2,
          0,
          0,
          0,
          0,
          0,
          1,
          0,
          0,
          10,
          1,
          0,
          0,
          0,
          0,
          0,
          0,
          0,
          0,
          0,
          0,
          0,
          0,
          0,
          0,
          0,
          0,
          0,
          0,
          0,
          0,
          0,
          0,
          0,
          0,
          0,
          0,
          0,
          0,
          0,
          0,
          0,
          0,
          0,
          0,
          0,
          0,
          0,
          0,
          0,
          0,
          0,
          0,
          0,
          0,
          0,
          0,
          0,
          0,
          0,
          0,
          0,
          0,
          0,
          0,
          0,
          0,
          0,
          0,
          0,
          0,
          0,
          0,
          0,
          0,
          0,
          0,
          0,
          0,
          0,
          0,
          0,
          0,
          0,
          0,
          0,
          0,
          0,
          0,
          0,
          0,
          0,
          0,
          0,
          0,
          0,
          0,
          0,
          0,
          0,
          0,
          0,
          0,
          0,
          0,
          0,
          0,
          0,
          0,
          0,
          0,
          0,
          0,
          0,
          0,
          0,
          0,
          0,
          0,
          0,
          0,
          0,
          0,
          0,
          0,
          0,
          0,
          0,
          0,
          0,
          0,
          0,
          0,
          0,
          0,
          0,
          0,
          0,
          0,
          0,
          0,
          0,
          0,
          0,
          0,
          0,
          0,
          0,
          0,
          0,
          3,
          0,
          0,
          0,
          0,
          0,
          0,
          0,
          0,
          0,
          0,
          0,
          0,
          0,
          0,
          1,
          0,
          0,
          0,
          0,
          0,
          0,
          8,
          26,
          11,
          2,
          0,
          0,
          0,
          2,
          13,
          5,
          0,
          0,
          0,
          0,
          0,
          20,
          2,
          0,
          1,
          0,
          0,
          0,
          5,
          0,
          0,
          0,
          0,
          0,
          0,
          0,
          0,
          0,
          0,
          1,
          0,
          0,
          0,
          0,
          0,
          0,
          0,
          0,
          0,
          0,
          0,
          0,
          0,
          0,
          0,
          0,
          0,
          0,
          0,
          0,
          0,
          0,
          0,
          0,
          0,
          0,
          0,
          0,
          0,
          0,
          0,
          0,
          0,
          0,
          0,
          0,
          0,
          0,
          0,
          0,
          1,
          0,
          0,
          0,
          0,
          0,
          0,
          0,
          0,
          0,
          0,
          0,
          0,
          0,
          0,
          0,
          0,
          0,
          0,
          0,
          0,
          0,
          2,
          30,
          8,
          0,
          0,
          0,
          2,
          0,
          9,
          6,
          0,
          0,
          1,
          0,
          0,
          15,
          2,
          0,
          0,
          0,
          0,
          0,
          4,
          0,
          0,
          0,
          0,
          0,
          0,
          0,
          0,
          0,
          1,
          0,
          0,
          0,
          0,
          0,
          0,
          0,
          0,
          0,
          0,
          0,
          0,
          0,
          0,
          0,
          0,
          0,
          0,
          0,
          0,
          0,
          0,
          0,
          0,
          0,
          0,
          0,
          0,
          0,
          0,
          0,
          0,
          0,
          0,
          0,
          0,
          0,
          0,
          0,
          0,
          0,
          5,
          0,
          0,
          0,
          0,
          0,
          0,
          0,
          0,
          0,
          0,
          0,
          0,
          0,
          0,
          0,
          0,
          0,
          0,
          0,
          0,
          0,
          2,
          29,
          4,
          6,
          0,
          0,
          0,
          0,
          12,
          5,
          0,
          0,
          0,
          0,
          1,
          9,
          8,
          1,
          0,
          0,
          0,
          2,
          3,
          1,
          0,
          0,
          4,
          1,
          0,
          0,
          0,
          0,
          0,
          0,
          1,
          0,
          0,
          0,
          0,
          0,
          0,
          0,
          0,
          0,
          0,
          0,
          0,
          0,
          0,
          0,
          0,
          0,
          0,
          0,
          0,
          0,
          0,
          0,
          0,
          0,
          0,
          0,
          0,
          0,
          0,
          0,
          0,
          0,
          0,
          0,
          0,
          0,
          0,
          0,
          2,
          0,
          0,
          0,
          0,
          0,
          0,
          0,
          0,
          0,
          0,
          0,
          0,
          0,
          0,
          0,
          0,
          0,
          0,
          0,
          0,
          0,
          3,
          22,
          8,
          2,
          0,
          0,
          2,
          0,
          1,
          0,
          0,
          0,
          0,
          2,
          1,
          16,
          0,
          0,
          0,
          0,
          0,
          0,
          8,
          3,
          0,
          0,
          0,
          0,
          0,
          0,
          0,
          0,
          0,
          0,
          0,
          0,
          0,
          0,
          0,
          0,
          0,
          0,
          0,
          0,
          0,
          0,
          0,
          1,
          0,
          0,
          0,
          0,
          0,
          0,
          0,
          0,
          0,
          0,
          0,
          0,
          0,
          0,
          0,
          0,
          0,
          0,
          0,
          0,
          0,
          0,
          0,
          0,
          0,
          0,
          3,
          2,
          0,
          1,
          0,
          0,
          0,
          0,
          0,
          0,
          0,
          0,
          0,
          0,
          0,
          0,
          0,
          0,
          0,
          0,
          0,
          1,
          0,
          0,
          0,
          0,
          0,
          2,
          5,
          19,
          30,
          4,
          0,
          3,
          0,
          0,
          0,
          0,
          0,
          0,
          0,
          0,
          0,
          0,
          5,
          0,
          0,
          0,
          0,
          0,
          0,
          0,
          0,
          0,
          0,
          0,
          1,
          0,
          0,
          0,
          0,
          0,
          0,
          0,
          0,
          0,
          0,
          0,
          0,
          0,
          0,
          0
         ],
         "y0": " ",
         "yaxis": "y"
        }
       ],
       "layout": {
        "boxmode": "group",
        "legend": {
         "tracegroupgap": 0
        },
        "margin": {
         "t": 60
        },
        "template": {
         "data": {
          "bar": [
           {
            "error_x": {
             "color": "#2a3f5f"
            },
            "error_y": {
             "color": "#2a3f5f"
            },
            "marker": {
             "line": {
              "color": "#E5ECF6",
              "width": 0.5
             },
             "pattern": {
              "fillmode": "overlay",
              "size": 10,
              "solidity": 0.2
             }
            },
            "type": "bar"
           }
          ],
          "barpolar": [
           {
            "marker": {
             "line": {
              "color": "#E5ECF6",
              "width": 0.5
             },
             "pattern": {
              "fillmode": "overlay",
              "size": 10,
              "solidity": 0.2
             }
            },
            "type": "barpolar"
           }
          ],
          "carpet": [
           {
            "aaxis": {
             "endlinecolor": "#2a3f5f",
             "gridcolor": "white",
             "linecolor": "white",
             "minorgridcolor": "white",
             "startlinecolor": "#2a3f5f"
            },
            "baxis": {
             "endlinecolor": "#2a3f5f",
             "gridcolor": "white",
             "linecolor": "white",
             "minorgridcolor": "white",
             "startlinecolor": "#2a3f5f"
            },
            "type": "carpet"
           }
          ],
          "choropleth": [
           {
            "colorbar": {
             "outlinewidth": 0,
             "ticks": ""
            },
            "type": "choropleth"
           }
          ],
          "contour": [
           {
            "colorbar": {
             "outlinewidth": 0,
             "ticks": ""
            },
            "colorscale": [
             [
              0,
              "#0d0887"
             ],
             [
              0.1111111111111111,
              "#46039f"
             ],
             [
              0.2222222222222222,
              "#7201a8"
             ],
             [
              0.3333333333333333,
              "#9c179e"
             ],
             [
              0.4444444444444444,
              "#bd3786"
             ],
             [
              0.5555555555555556,
              "#d8576b"
             ],
             [
              0.6666666666666666,
              "#ed7953"
             ],
             [
              0.7777777777777778,
              "#fb9f3a"
             ],
             [
              0.8888888888888888,
              "#fdca26"
             ],
             [
              1,
              "#f0f921"
             ]
            ],
            "type": "contour"
           }
          ],
          "contourcarpet": [
           {
            "colorbar": {
             "outlinewidth": 0,
             "ticks": ""
            },
            "type": "contourcarpet"
           }
          ],
          "heatmap": [
           {
            "colorbar": {
             "outlinewidth": 0,
             "ticks": ""
            },
            "colorscale": [
             [
              0,
              "#0d0887"
             ],
             [
              0.1111111111111111,
              "#46039f"
             ],
             [
              0.2222222222222222,
              "#7201a8"
             ],
             [
              0.3333333333333333,
              "#9c179e"
             ],
             [
              0.4444444444444444,
              "#bd3786"
             ],
             [
              0.5555555555555556,
              "#d8576b"
             ],
             [
              0.6666666666666666,
              "#ed7953"
             ],
             [
              0.7777777777777778,
              "#fb9f3a"
             ],
             [
              0.8888888888888888,
              "#fdca26"
             ],
             [
              1,
              "#f0f921"
             ]
            ],
            "type": "heatmap"
           }
          ],
          "heatmapgl": [
           {
            "colorbar": {
             "outlinewidth": 0,
             "ticks": ""
            },
            "colorscale": [
             [
              0,
              "#0d0887"
             ],
             [
              0.1111111111111111,
              "#46039f"
             ],
             [
              0.2222222222222222,
              "#7201a8"
             ],
             [
              0.3333333333333333,
              "#9c179e"
             ],
             [
              0.4444444444444444,
              "#bd3786"
             ],
             [
              0.5555555555555556,
              "#d8576b"
             ],
             [
              0.6666666666666666,
              "#ed7953"
             ],
             [
              0.7777777777777778,
              "#fb9f3a"
             ],
             [
              0.8888888888888888,
              "#fdca26"
             ],
             [
              1,
              "#f0f921"
             ]
            ],
            "type": "heatmapgl"
           }
          ],
          "histogram": [
           {
            "marker": {
             "pattern": {
              "fillmode": "overlay",
              "size": 10,
              "solidity": 0.2
             }
            },
            "type": "histogram"
           }
          ],
          "histogram2d": [
           {
            "colorbar": {
             "outlinewidth": 0,
             "ticks": ""
            },
            "colorscale": [
             [
              0,
              "#0d0887"
             ],
             [
              0.1111111111111111,
              "#46039f"
             ],
             [
              0.2222222222222222,
              "#7201a8"
             ],
             [
              0.3333333333333333,
              "#9c179e"
             ],
             [
              0.4444444444444444,
              "#bd3786"
             ],
             [
              0.5555555555555556,
              "#d8576b"
             ],
             [
              0.6666666666666666,
              "#ed7953"
             ],
             [
              0.7777777777777778,
              "#fb9f3a"
             ],
             [
              0.8888888888888888,
              "#fdca26"
             ],
             [
              1,
              "#f0f921"
             ]
            ],
            "type": "histogram2d"
           }
          ],
          "histogram2dcontour": [
           {
            "colorbar": {
             "outlinewidth": 0,
             "ticks": ""
            },
            "colorscale": [
             [
              0,
              "#0d0887"
             ],
             [
              0.1111111111111111,
              "#46039f"
             ],
             [
              0.2222222222222222,
              "#7201a8"
             ],
             [
              0.3333333333333333,
              "#9c179e"
             ],
             [
              0.4444444444444444,
              "#bd3786"
             ],
             [
              0.5555555555555556,
              "#d8576b"
             ],
             [
              0.6666666666666666,
              "#ed7953"
             ],
             [
              0.7777777777777778,
              "#fb9f3a"
             ],
             [
              0.8888888888888888,
              "#fdca26"
             ],
             [
              1,
              "#f0f921"
             ]
            ],
            "type": "histogram2dcontour"
           }
          ],
          "mesh3d": [
           {
            "colorbar": {
             "outlinewidth": 0,
             "ticks": ""
            },
            "type": "mesh3d"
           }
          ],
          "parcoords": [
           {
            "line": {
             "colorbar": {
              "outlinewidth": 0,
              "ticks": ""
             }
            },
            "type": "parcoords"
           }
          ],
          "pie": [
           {
            "automargin": true,
            "type": "pie"
           }
          ],
          "scatter": [
           {
            "fillpattern": {
             "fillmode": "overlay",
             "size": 10,
             "solidity": 0.2
            },
            "type": "scatter"
           }
          ],
          "scatter3d": [
           {
            "line": {
             "colorbar": {
              "outlinewidth": 0,
              "ticks": ""
             }
            },
            "marker": {
             "colorbar": {
              "outlinewidth": 0,
              "ticks": ""
             }
            },
            "type": "scatter3d"
           }
          ],
          "scattercarpet": [
           {
            "marker": {
             "colorbar": {
              "outlinewidth": 0,
              "ticks": ""
             }
            },
            "type": "scattercarpet"
           }
          ],
          "scattergeo": [
           {
            "marker": {
             "colorbar": {
              "outlinewidth": 0,
              "ticks": ""
             }
            },
            "type": "scattergeo"
           }
          ],
          "scattergl": [
           {
            "marker": {
             "colorbar": {
              "outlinewidth": 0,
              "ticks": ""
             }
            },
            "type": "scattergl"
           }
          ],
          "scattermapbox": [
           {
            "marker": {
             "colorbar": {
              "outlinewidth": 0,
              "ticks": ""
             }
            },
            "type": "scattermapbox"
           }
          ],
          "scatterpolar": [
           {
            "marker": {
             "colorbar": {
              "outlinewidth": 0,
              "ticks": ""
             }
            },
            "type": "scatterpolar"
           }
          ],
          "scatterpolargl": [
           {
            "marker": {
             "colorbar": {
              "outlinewidth": 0,
              "ticks": ""
             }
            },
            "type": "scatterpolargl"
           }
          ],
          "scatterternary": [
           {
            "marker": {
             "colorbar": {
              "outlinewidth": 0,
              "ticks": ""
             }
            },
            "type": "scatterternary"
           }
          ],
          "surface": [
           {
            "colorbar": {
             "outlinewidth": 0,
             "ticks": ""
            },
            "colorscale": [
             [
              0,
              "#0d0887"
             ],
             [
              0.1111111111111111,
              "#46039f"
             ],
             [
              0.2222222222222222,
              "#7201a8"
             ],
             [
              0.3333333333333333,
              "#9c179e"
             ],
             [
              0.4444444444444444,
              "#bd3786"
             ],
             [
              0.5555555555555556,
              "#d8576b"
             ],
             [
              0.6666666666666666,
              "#ed7953"
             ],
             [
              0.7777777777777778,
              "#fb9f3a"
             ],
             [
              0.8888888888888888,
              "#fdca26"
             ],
             [
              1,
              "#f0f921"
             ]
            ],
            "type": "surface"
           }
          ],
          "table": [
           {
            "cells": {
             "fill": {
              "color": "#EBF0F8"
             },
             "line": {
              "color": "white"
             }
            },
            "header": {
             "fill": {
              "color": "#C8D4E3"
             },
             "line": {
              "color": "white"
             }
            },
            "type": "table"
           }
          ]
         },
         "layout": {
          "annotationdefaults": {
           "arrowcolor": "#2a3f5f",
           "arrowhead": 0,
           "arrowwidth": 1
          },
          "autotypenumbers": "strict",
          "coloraxis": {
           "colorbar": {
            "outlinewidth": 0,
            "ticks": ""
           }
          },
          "colorscale": {
           "diverging": [
            [
             0,
             "#8e0152"
            ],
            [
             0.1,
             "#c51b7d"
            ],
            [
             0.2,
             "#de77ae"
            ],
            [
             0.3,
             "#f1b6da"
            ],
            [
             0.4,
             "#fde0ef"
            ],
            [
             0.5,
             "#f7f7f7"
            ],
            [
             0.6,
             "#e6f5d0"
            ],
            [
             0.7,
             "#b8e186"
            ],
            [
             0.8,
             "#7fbc41"
            ],
            [
             0.9,
             "#4d9221"
            ],
            [
             1,
             "#276419"
            ]
           ],
           "sequential": [
            [
             0,
             "#0d0887"
            ],
            [
             0.1111111111111111,
             "#46039f"
            ],
            [
             0.2222222222222222,
             "#7201a8"
            ],
            [
             0.3333333333333333,
             "#9c179e"
            ],
            [
             0.4444444444444444,
             "#bd3786"
            ],
            [
             0.5555555555555556,
             "#d8576b"
            ],
            [
             0.6666666666666666,
             "#ed7953"
            ],
            [
             0.7777777777777778,
             "#fb9f3a"
            ],
            [
             0.8888888888888888,
             "#fdca26"
            ],
            [
             1,
             "#f0f921"
            ]
           ],
           "sequentialminus": [
            [
             0,
             "#0d0887"
            ],
            [
             0.1111111111111111,
             "#46039f"
            ],
            [
             0.2222222222222222,
             "#7201a8"
            ],
            [
             0.3333333333333333,
             "#9c179e"
            ],
            [
             0.4444444444444444,
             "#bd3786"
            ],
            [
             0.5555555555555556,
             "#d8576b"
            ],
            [
             0.6666666666666666,
             "#ed7953"
            ],
            [
             0.7777777777777778,
             "#fb9f3a"
            ],
            [
             0.8888888888888888,
             "#fdca26"
            ],
            [
             1,
             "#f0f921"
            ]
           ]
          },
          "colorway": [
           "#636efa",
           "#EF553B",
           "#00cc96",
           "#ab63fa",
           "#FFA15A",
           "#19d3f3",
           "#FF6692",
           "#B6E880",
           "#FF97FF",
           "#FECB52"
          ],
          "font": {
           "color": "#2a3f5f"
          },
          "geo": {
           "bgcolor": "white",
           "lakecolor": "white",
           "landcolor": "#E5ECF6",
           "showlakes": true,
           "showland": true,
           "subunitcolor": "white"
          },
          "hoverlabel": {
           "align": "left"
          },
          "hovermode": "closest",
          "mapbox": {
           "style": "light"
          },
          "paper_bgcolor": "white",
          "plot_bgcolor": "#E5ECF6",
          "polar": {
           "angularaxis": {
            "gridcolor": "white",
            "linecolor": "white",
            "ticks": ""
           },
           "bgcolor": "#E5ECF6",
           "radialaxis": {
            "gridcolor": "white",
            "linecolor": "white",
            "ticks": ""
           }
          },
          "scene": {
           "xaxis": {
            "backgroundcolor": "#E5ECF6",
            "gridcolor": "white",
            "gridwidth": 2,
            "linecolor": "white",
            "showbackground": true,
            "ticks": "",
            "zerolinecolor": "white"
           },
           "yaxis": {
            "backgroundcolor": "#E5ECF6",
            "gridcolor": "white",
            "gridwidth": 2,
            "linecolor": "white",
            "showbackground": true,
            "ticks": "",
            "zerolinecolor": "white"
           },
           "zaxis": {
            "backgroundcolor": "#E5ECF6",
            "gridcolor": "white",
            "gridwidth": 2,
            "linecolor": "white",
            "showbackground": true,
            "ticks": "",
            "zerolinecolor": "white"
           }
          },
          "shapedefaults": {
           "line": {
            "color": "#2a3f5f"
           }
          },
          "ternary": {
           "aaxis": {
            "gridcolor": "white",
            "linecolor": "white",
            "ticks": ""
           },
           "baxis": {
            "gridcolor": "white",
            "linecolor": "white",
            "ticks": ""
           },
           "bgcolor": "#E5ECF6",
           "caxis": {
            "gridcolor": "white",
            "linecolor": "white",
            "ticks": ""
           }
          },
          "title": {
           "x": 0.05
          },
          "xaxis": {
           "automargin": true,
           "gridcolor": "white",
           "linecolor": "white",
           "ticks": "",
           "title": {
            "standoff": 15
           },
           "zerolinecolor": "white",
           "zerolinewidth": 2
          },
          "yaxis": {
           "automargin": true,
           "gridcolor": "white",
           "linecolor": "white",
           "ticks": "",
           "title": {
            "standoff": 15
           },
           "zerolinecolor": "white",
           "zerolinewidth": 2
          }
         }
        },
        "xaxis": {
         "anchor": "y",
         "domain": [
          0,
          1
         ],
         "title": {
          "text": "time"
         }
        },
        "yaxis": {
         "anchor": "x",
         "domain": [
          0,
          1
         ],
         "title": {
          "text": "event_type"
         }
        }
       }
      }
     },
     "metadata": {},
     "output_type": "display_data"
    }
   ],
   "source": [
    "# Boxplot plots -> Boxplot for every day and time\n",
    "# Do for different events and rooms\n",
    "data_resampled = resample(data_filterd, \"datetime\", \"15min\", \"count\")\n",
    "data_resampled = derive_time(data_resampled)\n",
    "data_resampled = derive_weekday(data_resampled)\n",
    "data_resampled = derive_week(data_resampled)\n",
    "data_resampled = data_resampled.drop(\"datetime\", axis=1)\n",
    "\n",
    "\n",
    "data_plot = data_resampled.groupby([\"week\", \"time\", \"weekday\"]).sum().reset_index()\n",
    "data_plot = data_plot[data_plot[\"weekday\"] == 0]\n",
    "\n",
    "print(data_plot)\n",
    "fig = px.box(data_plot, x=\"time\", y=\"event_type\")\n",
    "fig.show()"
   ]
  },
  {
   "cell_type": "markdown",
   "metadata": {},
   "source": [
    "More plots in the other notebook"
   ]
  },
  {
   "cell_type": "markdown",
   "metadata": {},
   "source": [
    "## 1.Patterns\n",
    "\n",
    "clustering -> different algorithms, k-means\n",
    "\n",
    "Papers tried: \n",
    "\n",
    "### 1.1 Occupancy data analytics and prediction: A case study - Xin Liang a, b, Tianzhen Hong b, *, Geoffrey Qiping Shen\n",
    "\n",
    "Distance Measures: Eucleadian, Dynamic Time Warp, Correlation Simmilarity -> compared among all different configurations\n",
    "\n",
    "Clustering Algos: K-Means, \n",
    "\n",
    "Algorithm Evaluation: Davies-Bouldin index, to find best k\n",
    "\n",
    "Insights of the paper:\n",
    "\n",
    "* High variability in the data statistical methods using some kind of mean will fail miserably!"
   ]
  },
  {
   "cell_type": "code",
   "execution_count": 7,
   "metadata": {},
   "outputs": [],
   "source": [
    "import json\n",
    "from collections import defaultdict\n",
    "import itertools\n",
    "from tqdm import tqdm\n"
   ]
  },
  {
   "cell_type": "code",
   "execution_count": 8,
   "metadata": {},
   "outputs": [],
   "source": [
    "def filter_by_time(data, time_column, start_time, end_time):\n",
    "    \n",
    "    return data[(data[time_column].dt.time >= start_time) & (data[time_column].dt.time <= end_time)]\n",
    "\n",
    "def plot_cluster_details(cluster_number, clustering_model, samples, time_axis, plot_centers):\n",
    "    \n",
    "    indices = np.arange(len(samples))\n",
    "    \n",
    "    fig = go.Figure()\n",
    "    \n",
    "    cluster_indices = indices[clustering_model.labels_ == cluster_number]\n",
    "    \n",
    "    if plot_centers:\n",
    "        cluster_center = clustering_model.cluster_centers_[cluster_number]\n",
    "        fig.add_trace(\n",
    "            go.Scatter(\n",
    "                x=time_axis, \n",
    "                y=cluster_center, \n",
    "                name=f'Center',\n",
    "                mode=\"lines+markers\"        \n",
    "            )\n",
    "        )\n",
    "\n",
    "    \n",
    "    print(f\"################ {cluster_number} ################\")\n",
    "    print(cluster_indices)\n",
    "\n",
    "    for x in range(len(cluster_indices)):\n",
    "        fig.add_trace(\n",
    "            go.Scatter(\n",
    "                x=time_axis, \n",
    "                y=samples[cluster_indices[x]], \n",
    "                mode=\"lines+markers\"        \n",
    "            )\n",
    "        )\n",
    "    \n",
    "    return fig\n",
    "\n",
    "def plot_cluster_centers(n_clusters, clustering_model, times):\n",
    "    \n",
    "    fig = go.Figure()\n",
    "    \n",
    "    for i in range(n_clusters):\n",
    "\n",
    "        cluster_center = clustering_model.cluster_centers_[i]\n",
    "        \n",
    "        # line plot\n",
    "        fig.add_trace(\n",
    "            go.Scatter(\n",
    "                x=times, \n",
    "                y=cluster_center, \n",
    "                name=f'cluster {i}',\n",
    "                mode=\"lines+markers\"        \n",
    "            )\n",
    "        )\n",
    "        \n",
    "    return fig\n",
    "\n",
    "# copied from signal_processing/utils.py and changed a bit\n",
    "class ParameterSearch:\n",
    "    \n",
    "    def __init__(self, path_to_json=None, parameter_dict=None):\n",
    "        \n",
    "        # check if either path_to_parameters or parameter_dict is given\n",
    "        if path_to_json is None and parameter_dict is None:\n",
    "            raise ValueError(\"Either path_to_parameters or parameter_dict must be given\")\n",
    "        # check if both are given\n",
    "        elif path_to_json is not None and parameter_dict is not None:\n",
    "            raise ValueError(\"Either path_to_parameters or parameter_dict must be given\")\n",
    "        # check if path_to_json is given\n",
    "        elif path_to_json is not None:\n",
    "            # read json file\n",
    "            with open(path_to_json, \"r\") as file:\n",
    "                self.parameter_dict = json.load(file)\n",
    "        # check if parameter_dict is given\n",
    "        elif parameter_dict is not None:\n",
    "            self.parameter_dict = parameter_dict\n",
    "        else:\n",
    "            raise ValueError(\"Something went wrong!\")\n",
    "          \n",
    "    #### Generate all possible combinations of parameters ####\n",
    "    def _extract_all_combinations(self, params_dict):\n",
    "    \n",
    "        values = []\n",
    "        keys = []\n",
    "        for key in params_dict.keys():\n",
    "            \n",
    "            # implement check if current entry is a dictionary\n",
    "            sub_dict = params_dict[key]\n",
    "            \n",
    "            for sub_key in sub_dict.keys():\n",
    "                values.append(sub_dict[sub_key])\n",
    "                keys.append((key, sub_key))\n",
    "        \n",
    "        n_combinations = np.prod([len(value) for value in values])\n",
    "\n",
    "        return keys, iter(itertools.product(*values)), n_combinations\n",
    "     \n",
    "    def _generate_comb_dict(self, keys, combination):\n",
    "        dictionary = defaultdict(dict)\n",
    "        for key, value in zip(keys, combination):\n",
    "                dictionary[key[0]][key[1]] = value\n",
    "        return dictionary\n",
    "        \n",
    "    def _multi_combinations_wrapper(self, params_dict, tqdm_bar):\n",
    "        \n",
    "        keys, comb_iterator, n_combs = self._extract_all_combinations(params_dict=params_dict)\n",
    "        \n",
    "        if tqdm_bar:\n",
    "            tqdm_iterator = tqdm(comb_iterator, total=n_combs)\n",
    "            for x in tqdm_iterator:\n",
    "                yield self._generate_comb_dict(keys, x)\n",
    "        else:\n",
    "            for x in comb_iterator:\n",
    "                yield self._generate_comb_dict(keys, x)\n",
    "    \n",
    "    def mulit_function_combinations_iterator(self, tqdm_bar=True):\n",
    "        # This method is used for the user to iterate over all possible combinations of multiple functions\n",
    "        # Needs special structure of parameter dictionaries\n",
    "        return self._multi_combinations_wrapper(params_dict=self.parameter_dict, tqdm_bar=tqdm_bar)\n",
    "    \n",
    "    #### Simple Grid Search ####\n",
    "    def _extract_all_combinations_simple(self, params_dict):\n",
    "        \n",
    "        values = []\n",
    "        keys = []\n",
    "        for key in params_dict.keys():\n",
    "            values.append(params_dict[key])\n",
    "            keys.append(key)\n",
    "        \n",
    "        n_combinations = np.prod([len(value) for value in values])\n",
    "\n",
    "        return keys, iter(itertools.product(*values)), n_combinations\n",
    "    \n",
    "    def _grid_search_wrapper(self, params_dict, tqdm_bar):\n",
    "        \n",
    "        keys, comb_iterator, n_combs = self._extract_all_combinations_simple(params_dict=params_dict)\n",
    "        \n",
    "        if tqdm_bar:\n",
    "            tqdm_iterator = tqdm(comb_iterator, total=n_combs)\n",
    "            for x in tqdm_iterator:\n",
    "                yield dict(zip(keys, x))\n",
    "        else:\n",
    "            for x in comb_iterator:\n",
    "                yield dict(zip(keys, x))\n",
    "                \n",
    "    def grid_search_iterator(self, tqdm_bar=True):\n",
    "        return self._grid_search_wrapper(params_dict=self.parameter_dict, tqdm_bar=tqdm_bar)\n",
    "    "
   ]
  },
  {
   "cell_type": "code",
   "execution_count": 9,
   "metadata": {},
   "outputs": [],
   "source": [
    "# split into daily samples\n",
    "data_resampled = resample(data_filterd, \"datetime\", \"15min\", \"count\")\n",
    "data_resampled = derive_time(data_resampled)\n",
    "data_resampled = derive_weekday(data_resampled)\n",
    "data_resampled = derive_week(data_resampled)\n",
    "data_resampled = derive_day(data_resampled)\n",
    "\n",
    "data_resampled = filter_by_time(data_resampled, \"datetime\", datetime.strptime(\"08:00:00\", \"%H:%M:%S\").time(), datetime.strptime(\"20:00:00\", \"%H:%M:%S\").time())\n",
    "\n",
    "\n",
    "samples = []\n",
    "times = []\n",
    "group_list = []\n",
    "for group in data_resampled.groupby(\"day\"):\n",
    "    #print(group[1][\"event_type\"].reset_index(drop=True))\n",
    "    samples.append(group[1][\"event_type\"].values)\n",
    "    times.append(group[1][\"datetime\"].values)\n",
    "    group_list.append(group[0])\n",
    "    \n",
    "samples = np.array(samples[:-1])\n",
    "times = np.array(times[:-1])\n",
    "group_list = np.array(group_list[:-1])\n"
   ]
  },
  {
   "cell_type": "code",
   "execution_count": 12,
   "metadata": {},
   "outputs": [],
   "source": [
    "from sklearn.cluster import KMeans, AffinityPropagation, MeanShift, SpectralClustering, AgglomerativeClustering\n",
    "from sklearn.metrics import davies_bouldin_score, pairwise_distances\n",
    "\n",
    "from scipy.spatial.distance import pdist, squareform\n",
    "\n"
   ]
  },
  {
   "cell_type": "markdown",
   "metadata": {},
   "source": [
    "Distance metrics:\n",
    "\n",
    "* Euclidean\n",
    "* Correlation Similarity\n",
    "* Dynamic Time Warp\n",
    "\n"
   ]
  },
  {
   "cell_type": "code",
   "execution_count": 38,
   "metadata": {},
   "outputs": [
    {
     "name": "stderr",
     "output_type": "stream",
     "text": [
      "100%|██████████| 13/13 [00:00<00:00, 173.83it/s]\n",
      "100%|██████████| 13/13 [00:00<00:00, 205.20it/s]\n",
      "100%|██████████| 13/13 [00:00<00:00, 216.19it/s]\n",
      "100%|██████████| 13/13 [00:00<00:00, 213.46it/s]\n",
      "100%|██████████| 13/13 [00:00<00:00, 220.68it/s]\n",
      "100%|██████████| 13/13 [00:00<00:00, 215.89it/s]\n",
      "100%|██████████| 13/13 [00:00<00:00, 207.94it/s]\n",
      "100%|██████████| 13/13 [00:00<00:00, 228.66it/s]\n",
      "100%|██████████| 13/13 [00:00<00:00, 207.91it/s]\n",
      "100%|██████████| 13/13 [00:00<00:00, 226.86it/s]\n",
      "100%|██████████| 13/13 [00:00<00:00, 214.89it/s]\n",
      "100%|██████████| 13/13 [00:00<00:00, 192.30it/s]\n",
      "100%|██████████| 13/13 [00:00<00:00, 175.55it/s]\n",
      "100%|██████████| 13/13 [00:00<00:00, 183.42it/s]\n",
      "100%|██████████| 13/13 [00:00<00:00, 195.83it/s]\n",
      "100%|██████████| 13/13 [00:00<00:00, 198.38it/s]\n",
      "100%|██████████| 13/13 [00:00<00:00, 218.31it/s]\n",
      "100%|██████████| 13/13 [00:00<00:00, 199.39it/s]\n",
      "100%|██████████| 13/13 [00:00<00:00, 191.40it/s]\n",
      "100%|██████████| 13/13 [00:00<00:00, 207.27it/s]\n",
      "100%|██████████| 13/13 [00:00<00:00, 202.71it/s]\n",
      "100%|██████████| 13/13 [00:00<00:00, 184.20it/s]\n",
      "100%|██████████| 13/13 [00:00<00:00, 201.92it/s]\n",
      "100%|██████████| 13/13 [00:00<00:00, 224.01it/s]\n",
      "100%|██████████| 13/13 [00:00<00:00, 225.68it/s]\n",
      "100%|██████████| 13/13 [00:00<00:00, 231.26it/s]\n",
      "100%|██████████| 13/13 [00:00<00:00, 210.57it/s]\n",
      "100%|██████████| 13/13 [00:00<00:00, 214.23it/s]\n",
      "100%|██████████| 13/13 [00:00<00:00, 201.65it/s]\n",
      "100%|██████████| 13/13 [00:00<00:00, 116.02it/s]\n",
      "100%|██████████| 13/13 [00:00<00:00, 187.26it/s]\n",
      "100%|██████████| 13/13 [00:00<00:00, 207.44it/s]\n",
      "100%|██████████| 13/13 [00:00<00:00, 204.98it/s]\n",
      "100%|██████████| 13/13 [00:00<00:00, 198.08it/s]\n",
      "100%|██████████| 13/13 [00:00<00:00, 209.73it/s]\n",
      "100%|██████████| 13/13 [00:00<00:00, 179.28it/s]\n",
      "100%|██████████| 13/13 [00:00<00:00, 196.77it/s]\n",
      "100%|██████████| 13/13 [00:00<00:00, 207.39it/s]\n",
      "100%|██████████| 13/13 [00:00<00:00, 218.39it/s]\n",
      "100%|██████████| 13/13 [00:00<00:00, 192.35it/s]\n",
      "100%|██████████| 13/13 [00:00<00:00, 199.03it/s]\n",
      "100%|██████████| 13/13 [00:00<00:00, 210.98it/s]\n",
      "100%|██████████| 13/13 [00:00<00:00, 216.20it/s]\n",
      "100%|██████████| 13/13 [00:00<00:00, 176.62it/s]\n",
      "100%|██████████| 13/13 [00:00<00:00, 195.07it/s]\n",
      "100%|██████████| 13/13 [00:00<00:00, 218.38it/s]\n",
      "100%|██████████| 13/13 [00:00<00:00, 192.06it/s]\n",
      "100%|██████████| 13/13 [00:00<00:00, 155.41it/s]\n",
      "100%|██████████| 13/13 [00:00<00:00, 224.45it/s]\n",
      "100%|██████████| 13/13 [00:00<00:00, 218.58it/s]\n",
      "100%|██████████| 13/13 [00:00<00:00, 208.36it/s]\n",
      "100%|██████████| 13/13 [00:00<00:00, 193.07it/s]\n",
      "100%|██████████| 13/13 [00:00<00:00, 195.58it/s]\n",
      "100%|██████████| 13/13 [00:00<00:00, 206.31it/s]\n",
      "100%|██████████| 13/13 [00:00<00:00, 224.14it/s]\n",
      "100%|██████████| 13/13 [00:00<00:00, 214.62it/s]\n",
      "100%|██████████| 13/13 [00:00<00:00, 220.18it/s]\n",
      "100%|██████████| 13/13 [00:00<00:00, 182.44it/s]\n",
      "100%|██████████| 13/13 [00:00<00:00, 205.45it/s]\n",
      "100%|██████████| 13/13 [00:00<00:00, 198.02it/s]\n",
      "100%|██████████| 13/13 [00:00<00:00, 218.32it/s]\n",
      "100%|██████████| 13/13 [00:00<00:00, 202.91it/s]\n",
      "100%|██████████| 13/13 [00:00<00:00, 204.83it/s]\n",
      "100%|██████████| 13/13 [00:00<00:00, 230.18it/s]\n",
      "100%|██████████| 13/13 [00:00<00:00, 218.33it/s]\n",
      "100%|██████████| 13/13 [00:00<00:00, 214.00it/s]\n",
      "100%|██████████| 13/13 [00:00<00:00, 213.22it/s]\n",
      "100%|██████████| 13/13 [00:00<00:00, 211.91it/s]\n",
      "100%|██████████| 13/13 [00:00<00:00, 193.93it/s]\n",
      "100%|██████████| 13/13 [00:00<00:00, 213.89it/s]\n",
      "100%|██████████| 13/13 [00:00<00:00, 228.99it/s]\n",
      "100%|██████████| 13/13 [00:00<00:00, 207.08it/s]\n",
      "100%|██████████| 13/13 [00:00<00:00, 184.77it/s]\n",
      "100%|██████████| 13/13 [00:00<00:00, 198.40it/s]\n",
      "100%|██████████| 13/13 [00:00<00:00, 220.63it/s]\n",
      "100%|██████████| 13/13 [00:00<00:00, 207.98it/s]\n",
      "100%|██████████| 13/13 [00:00<00:00, 201.72it/s]\n",
      "100%|██████████| 13/13 [00:00<00:00, 116.53it/s]\n",
      "100%|██████████| 13/13 [00:00<00:00, 193.46it/s]\n",
      "100%|██████████| 13/13 [00:00<00:00, 221.40it/s]\n",
      "100%|██████████| 13/13 [00:00<00:00, 221.27it/s]\n",
      "100%|██████████| 13/13 [00:00<00:00, 199.48it/s]\n",
      "100%|██████████| 13/13 [00:00<00:00, 190.90it/s]\n",
      "100%|██████████| 13/13 [00:00<00:00, 217.76it/s]\n",
      "100%|██████████| 13/13 [00:00<00:00, 216.56it/s]\n",
      "100%|██████████| 13/13 [00:00<00:00, 174.37it/s]\n",
      "100%|██████████| 13/13 [00:00<00:00, 128.16it/s]\n",
      "100%|██████████| 13/13 [00:00<00:00, 166.18it/s]\n",
      "100%|██████████| 13/13 [00:00<00:00, 237.13it/s]\n",
      "100%|██████████| 13/13 [00:00<00:00, 219.90it/s]\n",
      "100%|██████████| 13/13 [00:00<00:00, 200.11it/s]\n",
      "100%|██████████| 13/13 [00:00<00:00, 226.64it/s]\n",
      "100%|██████████| 13/13 [00:00<00:00, 224.25it/s]\n",
      "100%|██████████| 13/13 [00:00<00:00, 221.94it/s]\n",
      "100%|██████████| 13/13 [00:00<00:00, 226.59it/s]\n",
      "100%|██████████| 13/13 [00:00<00:00, 220.68it/s]\n",
      "100%|██████████| 13/13 [00:00<00:00, 227.73it/s]\n",
      "100%|██████████| 13/13 [00:00<00:00, 190.92it/s]\n",
      "100%|██████████| 13/13 [00:00<00:00, 236.24it/s]\n",
      "100%|██████████| 13/13 [00:00<00:00, 226.09it/s]\n"
     ]
    },
    {
     "data": {
      "text/plain": [
       "(array([ 0,  2,  3,  4,  5,  6,  7,  8,  9, 10, 11, 12]),\n",
       " array([ 5,  1,  1,  2,  2,  2,  3,  6,  7, 15, 21, 35]))"
      ]
     },
     "execution_count": 38,
     "metadata": {},
     "output_type": "execute_result"
    }
   ],
   "source": [
    "# get optimal configuration\n",
    "\n",
    "from sklearn.cluster import DBSCAN, BisectingKMeans\n",
    "from sklearn.manifold import TSNE\n",
    "\n",
    "seeds = range(0,100)\n",
    "\n",
    "parameters = {\n",
    "    \"general_settings\":{},\n",
    "    \"downprojection\": False,\n",
    "    \"algorithm\":\"kmeans\",\n",
    "    \"kmeans\":{\n",
    "        \"n_clusters\": list(range(2, 15)),\n",
    "    },\n",
    "    \"bisectingkmeans\":{\n",
    "        \"n_clusters\": list(range(2, 15)),\n",
    "        \"n_init\": [1, 5, 10, 20],\n",
    "    },\n",
    "    \"affinity\":{\n",
    "        \"damping\": np.linspace(0.5, 1, 10, endpoint=False),\n",
    "        \"affinity\": [\"euclidean\"],\n",
    "    },\n",
    "    \"dbscan\":{\n",
    "        \"eps\": np.linspace(0.1, 1, 10),\n",
    "        \"min_samples\": list(range(5, 15)),\n",
    "        \"metric\": [\"euclidean\", \"manhattan\", \"correlation\"],\n",
    "        \"leaf_size\": [2,5,10,30],\n",
    "    },\n",
    "    \"meanshift\":{\n",
    "        },\n",
    "    \"spectral\":{\n",
    "       \"n_clusters\": list(range(2, 15)), \n",
    "    },\n",
    "    \"agglomerative\":{\n",
    "        \"n_clusters\": list(range(2, 15)),\n",
    "        \"metric\": [\"manhattan\", \"cosine\", \"l1\", \"l2\"],\n",
    "        \"linkage\": [\"complete\", \"average\", \"single\"],\n",
    "    },\n",
    "    \n",
    "    \"tsne\":{\n",
    "        \"n_components\": [3],\n",
    "        \"perplexity\": [30],\n",
    "    }\n",
    "}\n",
    "\n",
    "\n",
    "if parameters[\"algorithm\"] == \"kmeans\":\n",
    "    algorithm_instance = KMeans\n",
    "elif parameters[\"algorithm\"] == \"bisectingkmeans\":\n",
    "    algorithm_instance = BisectingKMeans\n",
    "elif parameters[\"algorithm\"] == \"affinity\":\n",
    "    algorithm_instance = AffinityPropagation\n",
    "elif parameters[\"algorithm\"] == \"dbscan\":\n",
    "    algorithm_instance = DBSCAN\n",
    "elif parameters[\"algorithm\"] == \"meanshift\":\n",
    "    algorithm_instance = MeanShift\n",
    "elif parameters[\"algorithm\"] == \"spectral\":\n",
    "    algorithm_instance = SpectralClustering\n",
    "elif parameters[\"algorithm\"] == \"agglomerative\":\n",
    "    algorithm_instance = AgglomerativeClustering\n",
    "else:\n",
    "    raise ValueError(\"Algorithm not implemented!\")\n",
    "\n",
    "argmin_list = []\n",
    "for seed in seeds:\n",
    "    \n",
    "    bdi_scores = []\n",
    "    combination = []\n",
    "    comb_iterator = ParameterSearch(parameter_dict=parameters[parameters[\"algorithm\"]]).grid_search_iterator(tqdm_bar=True)\n",
    "\n",
    "    for i, params in enumerate(comb_iterator):\n",
    "        \n",
    "        #print(f\"################ {n_clusters} ################\")\n",
    "        \n",
    "        clustering_model = algorithm_instance(**params)\n",
    "        \n",
    "        #comb_iterator_tsne = ParameterSearch(parameter_dict=parameters[\"tsne\"]).grid_search_iterator(tqdm_bar=False)\n",
    "        \n",
    "        \n",
    "        #for params_tsne in comb_iterator_tsne:\n",
    "        #    if parameters[\"downprojection\"]:\n",
    "        #        samples_embedded = TSNE(**params_tsne).fit_transform(samples)\n",
    "            \n",
    "        samples_embedded = samples\n",
    "        try:\n",
    "            if params[\"affinity\"] == \"precomputed\":\n",
    "                similarities = - pairwise_distances(samples_embedded + 1e-8, metric=\"manhattan\")\n",
    "                clustering_model.fit(similarities)\n",
    "            else:\n",
    "                clustering_model.fit(samples_embedded)\n",
    "        except:\n",
    "            clustering_model.fit(samples_embedded + 1e-8)\n",
    "\n",
    "\n",
    "        #plot_cluster_centers(n_clusters, clustering_model, times[0]).show()\n",
    "        if len(np.unique(clustering_model.labels_)) == 1:\n",
    "            score = 1000\n",
    "        else:\n",
    "            score = davies_bouldin_score(samples, clustering_model.labels_)\n",
    "\n",
    "        #print(score)\n",
    "        bdi_scores.append(np.round(score, 6))\n",
    "        #combination.append((params, params_tsne))\n",
    "        combination.append((i, params))\n",
    "\n",
    "        \n",
    "    argmin_list.append(np.argmin(bdi_scores))\n",
    "np.unique(argmin_list, return_counts=True)"
   ]
  },
  {
   "cell_type": "markdown",
   "metadata": {},
   "source": [
    "### Optimal Parameters\n",
    "\n",
    "algorithm = KMeans , INVESTIGATE FURTHER -- Read the two papers and implement their approach<br>\n",
    "include_seeds = True <br>\n",
    "algo_parameters = {\n",
    "    \"n_clusters\":12\n",
    "}\n",
    "\n",
    "BisectingKMeans, INVESTIGATE FURTHER -- we need seeds<br>\n",
    "{'n_clusters': 14, 'n_init': 20}\n",
    "\n",
    "algorithm = AffinityPropagation -> works well, GRAPHCLUSTERING<br>\n",
    "{'damping': 0.5, 'affinity': 'euclidean'}\n",
    "\n",
    "AgglomerativeClustering -> works well <br>\n",
    "{'n_clusters': 2, 'metric': 'manhattan', 'linkage': 'average'}\n",
    "\n",
    "Fuzzy C-Means <br>\n",
    "Implementation is flawed\n",
    "\n",
    "DBScan <br>\n",
    "Figure out better parameters\n",
    "\n",
    "\n",
    "Dimensionality reduction:\n",
    "* TSNE enhanced Clustering:\n",
    "\n",
    "No TSNE<br>\n",
    "{'n_clusters': 14}\n",
    "Number of clusters: 14\n",
    "BDI: 0.7672581861245025\n",
    "\n",
    "* UMAP enahnced Clustering\n"
   ]
  },
  {
   "cell_type": "code",
   "execution_count": 39,
   "metadata": {},
   "outputs": [
    {
     "data": {
      "text/plain": [
       "[(0, {'n_clusters': 2}),\n",
       " (1, {'n_clusters': 3}),\n",
       " (2, {'n_clusters': 4}),\n",
       " (3, {'n_clusters': 5}),\n",
       " (4, {'n_clusters': 6}),\n",
       " (5, {'n_clusters': 7}),\n",
       " (6, {'n_clusters': 8}),\n",
       " (7, {'n_clusters': 9}),\n",
       " (8, {'n_clusters': 10}),\n",
       " (9, {'n_clusters': 11}),\n",
       " (10, {'n_clusters': 12}),\n",
       " (11, {'n_clusters': 13}),\n",
       " (12, {'n_clusters': 14})]"
      ]
     },
     "execution_count": 39,
     "metadata": {},
     "output_type": "execute_result"
    }
   ],
   "source": [
    "combination"
   ]
  },
  {
   "cell_type": "code",
   "execution_count": 40,
   "metadata": {},
   "outputs": [
    {
     "name": "stdout",
     "output_type": "stream",
     "text": [
      "################ kmeans ################\n",
      "{'n_clusters': 12}\n",
      "Number of clusters: 12\n",
      "BDI: 0.809285789249472\n"
     ]
    }
   ],
   "source": [
    "# test optimal configuration\n",
    "print(f\"################ {parameters['algorithm']} ################\")\n",
    "optimal_params = combination[10][1]\n",
    "print(optimal_params)\n",
    "\n",
    "clustering_model = algorithm_instance(**optimal_params)\n",
    "\n",
    "try:\n",
    "    if params[\"affinity\"] == \"precomputed\":\n",
    "        similarities = - pairwise_distances(samples + 1e-8, metric=\"manhattan\")\n",
    "        clustering_model.fit(similarities)\n",
    "    else:\n",
    "        clustering_model.fit(samples)\n",
    "except:\n",
    "    clustering_model.fit(samples)\n",
    "\n",
    "try:\n",
    "    n_clusters = len(clustering_model.cluster_centers_)\n",
    "except:\n",
    "    try:\n",
    "        clustering_model.cluster_centers_ = samples[clustering_model.cluster_centers_indices_]\n",
    "        n_clusters = len(clustering_model.cluster_centers_indices_)\n",
    "    except:\n",
    "        n_clusters = len(np.unique(clustering_model.labels_))\n",
    "    \n",
    "    \n",
    "\n",
    "print(f\"Number of clusters: {n_clusters}\")\n",
    "\n",
    "#plot_cluster_centers(n_clusters, clustering_model, times[0]).show()\n",
    "\n",
    "score = davies_bouldin_score(samples, clustering_model.labels_)\n",
    "print(f\"BDI: {score}\")"
   ]
  },
  {
   "cell_type": "code",
   "execution_count": 41,
   "metadata": {},
   "outputs": [
    {
     "name": "stdout",
     "output_type": "stream",
     "text": [
      "################ 0 ################\n",
      "[ 0  7 14 21]\n"
     ]
    },
    {
     "data": {
      "application/vnd.plotly.v1+json": {
       "config": {
        "plotlyServerURL": "https://plot.ly"
       },
       "data": [
        {
         "mode": "lines+markers",
         "type": "scatter",
         "x": [
          "2024-04-08T08:00:00.000000000",
          "2024-04-08T08:15:00.000000000",
          "2024-04-08T08:30:00.000000000",
          "2024-04-08T08:45:00.000000000",
          "2024-04-08T09:00:00.000000000",
          "2024-04-08T09:15:00.000000000",
          "2024-04-08T09:30:00.000000000",
          "2024-04-08T09:45:00.000000000",
          "2024-04-08T10:00:00.000000000",
          "2024-04-08T10:15:00.000000000",
          "2024-04-08T10:30:00.000000000",
          "2024-04-08T10:45:00.000000000",
          "2024-04-08T11:00:00.000000000",
          "2024-04-08T11:15:00.000000000",
          "2024-04-08T11:30:00.000000000",
          "2024-04-08T11:45:00.000000000",
          "2024-04-08T12:00:00.000000000",
          "2024-04-08T12:15:00.000000000",
          "2024-04-08T12:30:00.000000000",
          "2024-04-08T12:45:00.000000000",
          "2024-04-08T13:00:00.000000000",
          "2024-04-08T13:15:00.000000000",
          "2024-04-08T13:30:00.000000000",
          "2024-04-08T13:45:00.000000000",
          "2024-04-08T14:00:00.000000000",
          "2024-04-08T14:15:00.000000000",
          "2024-04-08T14:30:00.000000000",
          "2024-04-08T14:45:00.000000000",
          "2024-04-08T15:00:00.000000000",
          "2024-04-08T15:15:00.000000000",
          "2024-04-08T15:30:00.000000000",
          "2024-04-08T15:45:00.000000000",
          "2024-04-08T16:00:00.000000000",
          "2024-04-08T16:15:00.000000000",
          "2024-04-08T16:30:00.000000000",
          "2024-04-08T16:45:00.000000000",
          "2024-04-08T17:00:00.000000000",
          "2024-04-08T17:15:00.000000000",
          "2024-04-08T17:30:00.000000000",
          "2024-04-08T17:45:00.000000000",
          "2024-04-08T18:00:00.000000000",
          "2024-04-08T18:15:00.000000000",
          "2024-04-08T18:30:00.000000000",
          "2024-04-08T18:45:00.000000000",
          "2024-04-08T19:00:00.000000000",
          "2024-04-08T19:15:00.000000000",
          "2024-04-08T19:30:00.000000000",
          "2024-04-08T19:45:00.000000000",
          "2024-04-08T20:00:00.000000000"
         ],
         "y": [
          0,
          0,
          0,
          0,
          0,
          0,
          0,
          0,
          0,
          0,
          0,
          0,
          0,
          0,
          3,
          50,
          14,
          2,
          2,
          0,
          1,
          5,
          22,
          9,
          0,
          0,
          2,
          0,
          2,
          30,
          0,
          0,
          0,
          1,
          0,
          3,
          4,
          0,
          0,
          0,
          0,
          0,
          0,
          0,
          0,
          0,
          0,
          0,
          0
         ]
        },
        {
         "mode": "lines+markers",
         "type": "scatter",
         "x": [
          "2024-04-08T08:00:00.000000000",
          "2024-04-08T08:15:00.000000000",
          "2024-04-08T08:30:00.000000000",
          "2024-04-08T08:45:00.000000000",
          "2024-04-08T09:00:00.000000000",
          "2024-04-08T09:15:00.000000000",
          "2024-04-08T09:30:00.000000000",
          "2024-04-08T09:45:00.000000000",
          "2024-04-08T10:00:00.000000000",
          "2024-04-08T10:15:00.000000000",
          "2024-04-08T10:30:00.000000000",
          "2024-04-08T10:45:00.000000000",
          "2024-04-08T11:00:00.000000000",
          "2024-04-08T11:15:00.000000000",
          "2024-04-08T11:30:00.000000000",
          "2024-04-08T11:45:00.000000000",
          "2024-04-08T12:00:00.000000000",
          "2024-04-08T12:15:00.000000000",
          "2024-04-08T12:30:00.000000000",
          "2024-04-08T12:45:00.000000000",
          "2024-04-08T13:00:00.000000000",
          "2024-04-08T13:15:00.000000000",
          "2024-04-08T13:30:00.000000000",
          "2024-04-08T13:45:00.000000000",
          "2024-04-08T14:00:00.000000000",
          "2024-04-08T14:15:00.000000000",
          "2024-04-08T14:30:00.000000000",
          "2024-04-08T14:45:00.000000000",
          "2024-04-08T15:00:00.000000000",
          "2024-04-08T15:15:00.000000000",
          "2024-04-08T15:30:00.000000000",
          "2024-04-08T15:45:00.000000000",
          "2024-04-08T16:00:00.000000000",
          "2024-04-08T16:15:00.000000000",
          "2024-04-08T16:30:00.000000000",
          "2024-04-08T16:45:00.000000000",
          "2024-04-08T17:00:00.000000000",
          "2024-04-08T17:15:00.000000000",
          "2024-04-08T17:30:00.000000000",
          "2024-04-08T17:45:00.000000000",
          "2024-04-08T18:00:00.000000000",
          "2024-04-08T18:15:00.000000000",
          "2024-04-08T18:30:00.000000000",
          "2024-04-08T18:45:00.000000000",
          "2024-04-08T19:00:00.000000000",
          "2024-04-08T19:15:00.000000000",
          "2024-04-08T19:30:00.000000000",
          "2024-04-08T19:45:00.000000000",
          "2024-04-08T20:00:00.000000000"
         ],
         "y": [
          0,
          0,
          0,
          0,
          0,
          0,
          0,
          0,
          0,
          0,
          0,
          0,
          0,
          0,
          5,
          38,
          9,
          1,
          3,
          0,
          1,
          0,
          22,
          3,
          0,
          0,
          0,
          2,
          1,
          24,
          4,
          0,
          0,
          0,
          0,
          2,
          7,
          0,
          0,
          0,
          0,
          0,
          0,
          0,
          0,
          0,
          0,
          0,
          1
         ]
        },
        {
         "mode": "lines+markers",
         "type": "scatter",
         "x": [
          "2024-04-08T08:00:00.000000000",
          "2024-04-08T08:15:00.000000000",
          "2024-04-08T08:30:00.000000000",
          "2024-04-08T08:45:00.000000000",
          "2024-04-08T09:00:00.000000000",
          "2024-04-08T09:15:00.000000000",
          "2024-04-08T09:30:00.000000000",
          "2024-04-08T09:45:00.000000000",
          "2024-04-08T10:00:00.000000000",
          "2024-04-08T10:15:00.000000000",
          "2024-04-08T10:30:00.000000000",
          "2024-04-08T10:45:00.000000000",
          "2024-04-08T11:00:00.000000000",
          "2024-04-08T11:15:00.000000000",
          "2024-04-08T11:30:00.000000000",
          "2024-04-08T11:45:00.000000000",
          "2024-04-08T12:00:00.000000000",
          "2024-04-08T12:15:00.000000000",
          "2024-04-08T12:30:00.000000000",
          "2024-04-08T12:45:00.000000000",
          "2024-04-08T13:00:00.000000000",
          "2024-04-08T13:15:00.000000000",
          "2024-04-08T13:30:00.000000000",
          "2024-04-08T13:45:00.000000000",
          "2024-04-08T14:00:00.000000000",
          "2024-04-08T14:15:00.000000000",
          "2024-04-08T14:30:00.000000000",
          "2024-04-08T14:45:00.000000000",
          "2024-04-08T15:00:00.000000000",
          "2024-04-08T15:15:00.000000000",
          "2024-04-08T15:30:00.000000000",
          "2024-04-08T15:45:00.000000000",
          "2024-04-08T16:00:00.000000000",
          "2024-04-08T16:15:00.000000000",
          "2024-04-08T16:30:00.000000000",
          "2024-04-08T16:45:00.000000000",
          "2024-04-08T17:00:00.000000000",
          "2024-04-08T17:15:00.000000000",
          "2024-04-08T17:30:00.000000000",
          "2024-04-08T17:45:00.000000000",
          "2024-04-08T18:00:00.000000000",
          "2024-04-08T18:15:00.000000000",
          "2024-04-08T18:30:00.000000000",
          "2024-04-08T18:45:00.000000000",
          "2024-04-08T19:00:00.000000000",
          "2024-04-08T19:15:00.000000000",
          "2024-04-08T19:30:00.000000000",
          "2024-04-08T19:45:00.000000000",
          "2024-04-08T20:00:00.000000000"
         ],
         "y": [
          0,
          0,
          0,
          0,
          0,
          0,
          0,
          0,
          0,
          0,
          0,
          0,
          0,
          0,
          3,
          45,
          12,
          2,
          0,
          0,
          1,
          1,
          19,
          4,
          0,
          0,
          0,
          0,
          8,
          24,
          10,
          0,
          1,
          1,
          1,
          1,
          14,
          0,
          0,
          0,
          0,
          0,
          0,
          0,
          0,
          0,
          0,
          0,
          0
         ]
        },
        {
         "mode": "lines+markers",
         "type": "scatter",
         "x": [
          "2024-04-08T08:00:00.000000000",
          "2024-04-08T08:15:00.000000000",
          "2024-04-08T08:30:00.000000000",
          "2024-04-08T08:45:00.000000000",
          "2024-04-08T09:00:00.000000000",
          "2024-04-08T09:15:00.000000000",
          "2024-04-08T09:30:00.000000000",
          "2024-04-08T09:45:00.000000000",
          "2024-04-08T10:00:00.000000000",
          "2024-04-08T10:15:00.000000000",
          "2024-04-08T10:30:00.000000000",
          "2024-04-08T10:45:00.000000000",
          "2024-04-08T11:00:00.000000000",
          "2024-04-08T11:15:00.000000000",
          "2024-04-08T11:30:00.000000000",
          "2024-04-08T11:45:00.000000000",
          "2024-04-08T12:00:00.000000000",
          "2024-04-08T12:15:00.000000000",
          "2024-04-08T12:30:00.000000000",
          "2024-04-08T12:45:00.000000000",
          "2024-04-08T13:00:00.000000000",
          "2024-04-08T13:15:00.000000000",
          "2024-04-08T13:30:00.000000000",
          "2024-04-08T13:45:00.000000000",
          "2024-04-08T14:00:00.000000000",
          "2024-04-08T14:15:00.000000000",
          "2024-04-08T14:30:00.000000000",
          "2024-04-08T14:45:00.000000000",
          "2024-04-08T15:00:00.000000000",
          "2024-04-08T15:15:00.000000000",
          "2024-04-08T15:30:00.000000000",
          "2024-04-08T15:45:00.000000000",
          "2024-04-08T16:00:00.000000000",
          "2024-04-08T16:15:00.000000000",
          "2024-04-08T16:30:00.000000000",
          "2024-04-08T16:45:00.000000000",
          "2024-04-08T17:00:00.000000000",
          "2024-04-08T17:15:00.000000000",
          "2024-04-08T17:30:00.000000000",
          "2024-04-08T17:45:00.000000000",
          "2024-04-08T18:00:00.000000000",
          "2024-04-08T18:15:00.000000000",
          "2024-04-08T18:30:00.000000000",
          "2024-04-08T18:45:00.000000000",
          "2024-04-08T19:00:00.000000000",
          "2024-04-08T19:15:00.000000000",
          "2024-04-08T19:30:00.000000000",
          "2024-04-08T19:45:00.000000000",
          "2024-04-08T20:00:00.000000000"
         ],
         "y": [
          0,
          0,
          0,
          0,
          0,
          0,
          0,
          0,
          0,
          0,
          0,
          0,
          0,
          0,
          3,
          44,
          16,
          4,
          3,
          0,
          1,
          4,
          19,
          5,
          0,
          0,
          0,
          0,
          5,
          16,
          3,
          1,
          3,
          3,
          0,
          0,
          7,
          1,
          0,
          0,
          0,
          0,
          0,
          0,
          0,
          0,
          0,
          0,
          0
         ]
        }
       ],
       "layout": {
        "template": {
         "data": {
          "bar": [
           {
            "error_x": {
             "color": "#2a3f5f"
            },
            "error_y": {
             "color": "#2a3f5f"
            },
            "marker": {
             "line": {
              "color": "#E5ECF6",
              "width": 0.5
             },
             "pattern": {
              "fillmode": "overlay",
              "size": 10,
              "solidity": 0.2
             }
            },
            "type": "bar"
           }
          ],
          "barpolar": [
           {
            "marker": {
             "line": {
              "color": "#E5ECF6",
              "width": 0.5
             },
             "pattern": {
              "fillmode": "overlay",
              "size": 10,
              "solidity": 0.2
             }
            },
            "type": "barpolar"
           }
          ],
          "carpet": [
           {
            "aaxis": {
             "endlinecolor": "#2a3f5f",
             "gridcolor": "white",
             "linecolor": "white",
             "minorgridcolor": "white",
             "startlinecolor": "#2a3f5f"
            },
            "baxis": {
             "endlinecolor": "#2a3f5f",
             "gridcolor": "white",
             "linecolor": "white",
             "minorgridcolor": "white",
             "startlinecolor": "#2a3f5f"
            },
            "type": "carpet"
           }
          ],
          "choropleth": [
           {
            "colorbar": {
             "outlinewidth": 0,
             "ticks": ""
            },
            "type": "choropleth"
           }
          ],
          "contour": [
           {
            "colorbar": {
             "outlinewidth": 0,
             "ticks": ""
            },
            "colorscale": [
             [
              0,
              "#0d0887"
             ],
             [
              0.1111111111111111,
              "#46039f"
             ],
             [
              0.2222222222222222,
              "#7201a8"
             ],
             [
              0.3333333333333333,
              "#9c179e"
             ],
             [
              0.4444444444444444,
              "#bd3786"
             ],
             [
              0.5555555555555556,
              "#d8576b"
             ],
             [
              0.6666666666666666,
              "#ed7953"
             ],
             [
              0.7777777777777778,
              "#fb9f3a"
             ],
             [
              0.8888888888888888,
              "#fdca26"
             ],
             [
              1,
              "#f0f921"
             ]
            ],
            "type": "contour"
           }
          ],
          "contourcarpet": [
           {
            "colorbar": {
             "outlinewidth": 0,
             "ticks": ""
            },
            "type": "contourcarpet"
           }
          ],
          "heatmap": [
           {
            "colorbar": {
             "outlinewidth": 0,
             "ticks": ""
            },
            "colorscale": [
             [
              0,
              "#0d0887"
             ],
             [
              0.1111111111111111,
              "#46039f"
             ],
             [
              0.2222222222222222,
              "#7201a8"
             ],
             [
              0.3333333333333333,
              "#9c179e"
             ],
             [
              0.4444444444444444,
              "#bd3786"
             ],
             [
              0.5555555555555556,
              "#d8576b"
             ],
             [
              0.6666666666666666,
              "#ed7953"
             ],
             [
              0.7777777777777778,
              "#fb9f3a"
             ],
             [
              0.8888888888888888,
              "#fdca26"
             ],
             [
              1,
              "#f0f921"
             ]
            ],
            "type": "heatmap"
           }
          ],
          "heatmapgl": [
           {
            "colorbar": {
             "outlinewidth": 0,
             "ticks": ""
            },
            "colorscale": [
             [
              0,
              "#0d0887"
             ],
             [
              0.1111111111111111,
              "#46039f"
             ],
             [
              0.2222222222222222,
              "#7201a8"
             ],
             [
              0.3333333333333333,
              "#9c179e"
             ],
             [
              0.4444444444444444,
              "#bd3786"
             ],
             [
              0.5555555555555556,
              "#d8576b"
             ],
             [
              0.6666666666666666,
              "#ed7953"
             ],
             [
              0.7777777777777778,
              "#fb9f3a"
             ],
             [
              0.8888888888888888,
              "#fdca26"
             ],
             [
              1,
              "#f0f921"
             ]
            ],
            "type": "heatmapgl"
           }
          ],
          "histogram": [
           {
            "marker": {
             "pattern": {
              "fillmode": "overlay",
              "size": 10,
              "solidity": 0.2
             }
            },
            "type": "histogram"
           }
          ],
          "histogram2d": [
           {
            "colorbar": {
             "outlinewidth": 0,
             "ticks": ""
            },
            "colorscale": [
             [
              0,
              "#0d0887"
             ],
             [
              0.1111111111111111,
              "#46039f"
             ],
             [
              0.2222222222222222,
              "#7201a8"
             ],
             [
              0.3333333333333333,
              "#9c179e"
             ],
             [
              0.4444444444444444,
              "#bd3786"
             ],
             [
              0.5555555555555556,
              "#d8576b"
             ],
             [
              0.6666666666666666,
              "#ed7953"
             ],
             [
              0.7777777777777778,
              "#fb9f3a"
             ],
             [
              0.8888888888888888,
              "#fdca26"
             ],
             [
              1,
              "#f0f921"
             ]
            ],
            "type": "histogram2d"
           }
          ],
          "histogram2dcontour": [
           {
            "colorbar": {
             "outlinewidth": 0,
             "ticks": ""
            },
            "colorscale": [
             [
              0,
              "#0d0887"
             ],
             [
              0.1111111111111111,
              "#46039f"
             ],
             [
              0.2222222222222222,
              "#7201a8"
             ],
             [
              0.3333333333333333,
              "#9c179e"
             ],
             [
              0.4444444444444444,
              "#bd3786"
             ],
             [
              0.5555555555555556,
              "#d8576b"
             ],
             [
              0.6666666666666666,
              "#ed7953"
             ],
             [
              0.7777777777777778,
              "#fb9f3a"
             ],
             [
              0.8888888888888888,
              "#fdca26"
             ],
             [
              1,
              "#f0f921"
             ]
            ],
            "type": "histogram2dcontour"
           }
          ],
          "mesh3d": [
           {
            "colorbar": {
             "outlinewidth": 0,
             "ticks": ""
            },
            "type": "mesh3d"
           }
          ],
          "parcoords": [
           {
            "line": {
             "colorbar": {
              "outlinewidth": 0,
              "ticks": ""
             }
            },
            "type": "parcoords"
           }
          ],
          "pie": [
           {
            "automargin": true,
            "type": "pie"
           }
          ],
          "scatter": [
           {
            "fillpattern": {
             "fillmode": "overlay",
             "size": 10,
             "solidity": 0.2
            },
            "type": "scatter"
           }
          ],
          "scatter3d": [
           {
            "line": {
             "colorbar": {
              "outlinewidth": 0,
              "ticks": ""
             }
            },
            "marker": {
             "colorbar": {
              "outlinewidth": 0,
              "ticks": ""
             }
            },
            "type": "scatter3d"
           }
          ],
          "scattercarpet": [
           {
            "marker": {
             "colorbar": {
              "outlinewidth": 0,
              "ticks": ""
             }
            },
            "type": "scattercarpet"
           }
          ],
          "scattergeo": [
           {
            "marker": {
             "colorbar": {
              "outlinewidth": 0,
              "ticks": ""
             }
            },
            "type": "scattergeo"
           }
          ],
          "scattergl": [
           {
            "marker": {
             "colorbar": {
              "outlinewidth": 0,
              "ticks": ""
             }
            },
            "type": "scattergl"
           }
          ],
          "scattermapbox": [
           {
            "marker": {
             "colorbar": {
              "outlinewidth": 0,
              "ticks": ""
             }
            },
            "type": "scattermapbox"
           }
          ],
          "scatterpolar": [
           {
            "marker": {
             "colorbar": {
              "outlinewidth": 0,
              "ticks": ""
             }
            },
            "type": "scatterpolar"
           }
          ],
          "scatterpolargl": [
           {
            "marker": {
             "colorbar": {
              "outlinewidth": 0,
              "ticks": ""
             }
            },
            "type": "scatterpolargl"
           }
          ],
          "scatterternary": [
           {
            "marker": {
             "colorbar": {
              "outlinewidth": 0,
              "ticks": ""
             }
            },
            "type": "scatterternary"
           }
          ],
          "surface": [
           {
            "colorbar": {
             "outlinewidth": 0,
             "ticks": ""
            },
            "colorscale": [
             [
              0,
              "#0d0887"
             ],
             [
              0.1111111111111111,
              "#46039f"
             ],
             [
              0.2222222222222222,
              "#7201a8"
             ],
             [
              0.3333333333333333,
              "#9c179e"
             ],
             [
              0.4444444444444444,
              "#bd3786"
             ],
             [
              0.5555555555555556,
              "#d8576b"
             ],
             [
              0.6666666666666666,
              "#ed7953"
             ],
             [
              0.7777777777777778,
              "#fb9f3a"
             ],
             [
              0.8888888888888888,
              "#fdca26"
             ],
             [
              1,
              "#f0f921"
             ]
            ],
            "type": "surface"
           }
          ],
          "table": [
           {
            "cells": {
             "fill": {
              "color": "#EBF0F8"
             },
             "line": {
              "color": "white"
             }
            },
            "header": {
             "fill": {
              "color": "#C8D4E3"
             },
             "line": {
              "color": "white"
             }
            },
            "type": "table"
           }
          ]
         },
         "layout": {
          "annotationdefaults": {
           "arrowcolor": "#2a3f5f",
           "arrowhead": 0,
           "arrowwidth": 1
          },
          "autotypenumbers": "strict",
          "coloraxis": {
           "colorbar": {
            "outlinewidth": 0,
            "ticks": ""
           }
          },
          "colorscale": {
           "diverging": [
            [
             0,
             "#8e0152"
            ],
            [
             0.1,
             "#c51b7d"
            ],
            [
             0.2,
             "#de77ae"
            ],
            [
             0.3,
             "#f1b6da"
            ],
            [
             0.4,
             "#fde0ef"
            ],
            [
             0.5,
             "#f7f7f7"
            ],
            [
             0.6,
             "#e6f5d0"
            ],
            [
             0.7,
             "#b8e186"
            ],
            [
             0.8,
             "#7fbc41"
            ],
            [
             0.9,
             "#4d9221"
            ],
            [
             1,
             "#276419"
            ]
           ],
           "sequential": [
            [
             0,
             "#0d0887"
            ],
            [
             0.1111111111111111,
             "#46039f"
            ],
            [
             0.2222222222222222,
             "#7201a8"
            ],
            [
             0.3333333333333333,
             "#9c179e"
            ],
            [
             0.4444444444444444,
             "#bd3786"
            ],
            [
             0.5555555555555556,
             "#d8576b"
            ],
            [
             0.6666666666666666,
             "#ed7953"
            ],
            [
             0.7777777777777778,
             "#fb9f3a"
            ],
            [
             0.8888888888888888,
             "#fdca26"
            ],
            [
             1,
             "#f0f921"
            ]
           ],
           "sequentialminus": [
            [
             0,
             "#0d0887"
            ],
            [
             0.1111111111111111,
             "#46039f"
            ],
            [
             0.2222222222222222,
             "#7201a8"
            ],
            [
             0.3333333333333333,
             "#9c179e"
            ],
            [
             0.4444444444444444,
             "#bd3786"
            ],
            [
             0.5555555555555556,
             "#d8576b"
            ],
            [
             0.6666666666666666,
             "#ed7953"
            ],
            [
             0.7777777777777778,
             "#fb9f3a"
            ],
            [
             0.8888888888888888,
             "#fdca26"
            ],
            [
             1,
             "#f0f921"
            ]
           ]
          },
          "colorway": [
           "#636efa",
           "#EF553B",
           "#00cc96",
           "#ab63fa",
           "#FFA15A",
           "#19d3f3",
           "#FF6692",
           "#B6E880",
           "#FF97FF",
           "#FECB52"
          ],
          "font": {
           "color": "#2a3f5f"
          },
          "geo": {
           "bgcolor": "white",
           "lakecolor": "white",
           "landcolor": "#E5ECF6",
           "showlakes": true,
           "showland": true,
           "subunitcolor": "white"
          },
          "hoverlabel": {
           "align": "left"
          },
          "hovermode": "closest",
          "mapbox": {
           "style": "light"
          },
          "paper_bgcolor": "white",
          "plot_bgcolor": "#E5ECF6",
          "polar": {
           "angularaxis": {
            "gridcolor": "white",
            "linecolor": "white",
            "ticks": ""
           },
           "bgcolor": "#E5ECF6",
           "radialaxis": {
            "gridcolor": "white",
            "linecolor": "white",
            "ticks": ""
           }
          },
          "scene": {
           "xaxis": {
            "backgroundcolor": "#E5ECF6",
            "gridcolor": "white",
            "gridwidth": 2,
            "linecolor": "white",
            "showbackground": true,
            "ticks": "",
            "zerolinecolor": "white"
           },
           "yaxis": {
            "backgroundcolor": "#E5ECF6",
            "gridcolor": "white",
            "gridwidth": 2,
            "linecolor": "white",
            "showbackground": true,
            "ticks": "",
            "zerolinecolor": "white"
           },
           "zaxis": {
            "backgroundcolor": "#E5ECF6",
            "gridcolor": "white",
            "gridwidth": 2,
            "linecolor": "white",
            "showbackground": true,
            "ticks": "",
            "zerolinecolor": "white"
           }
          },
          "shapedefaults": {
           "line": {
            "color": "#2a3f5f"
           }
          },
          "ternary": {
           "aaxis": {
            "gridcolor": "white",
            "linecolor": "white",
            "ticks": ""
           },
           "baxis": {
            "gridcolor": "white",
            "linecolor": "white",
            "ticks": ""
           },
           "bgcolor": "#E5ECF6",
           "caxis": {
            "gridcolor": "white",
            "linecolor": "white",
            "ticks": ""
           }
          },
          "title": {
           "x": 0.05
          },
          "xaxis": {
           "automargin": true,
           "gridcolor": "white",
           "linecolor": "white",
           "ticks": "",
           "title": {
            "standoff": 15
           },
           "zerolinecolor": "white",
           "zerolinewidth": 2
          },
          "yaxis": {
           "automargin": true,
           "gridcolor": "white",
           "linecolor": "white",
           "ticks": "",
           "title": {
            "standoff": 15
           },
           "zerolinecolor": "white",
           "zerolinewidth": 2
          }
         }
        }
       }
      }
     },
     "metadata": {},
     "output_type": "display_data"
    },
    {
     "name": "stdout",
     "output_type": "stream",
     "text": [
      "################ 1 ################\n",
      "[ 6 12 13 19 20 23 25 26 27 28 31 32 33 34 40 41 42 43 46 47 48 50 52 53\n",
      " 54 55 60 61 62 64 67 68 69 74 75 76 77]\n"
     ]
    },
    {
     "data": {
      "application/vnd.plotly.v1+json": {
       "config": {
        "plotlyServerURL": "https://plot.ly"
       },
       "data": [
        {
         "mode": "lines+markers",
         "type": "scatter",
         "x": [
          "2024-04-08T08:00:00.000000000",
          "2024-04-08T08:15:00.000000000",
          "2024-04-08T08:30:00.000000000",
          "2024-04-08T08:45:00.000000000",
          "2024-04-08T09:00:00.000000000",
          "2024-04-08T09:15:00.000000000",
          "2024-04-08T09:30:00.000000000",
          "2024-04-08T09:45:00.000000000",
          "2024-04-08T10:00:00.000000000",
          "2024-04-08T10:15:00.000000000",
          "2024-04-08T10:30:00.000000000",
          "2024-04-08T10:45:00.000000000",
          "2024-04-08T11:00:00.000000000",
          "2024-04-08T11:15:00.000000000",
          "2024-04-08T11:30:00.000000000",
          "2024-04-08T11:45:00.000000000",
          "2024-04-08T12:00:00.000000000",
          "2024-04-08T12:15:00.000000000",
          "2024-04-08T12:30:00.000000000",
          "2024-04-08T12:45:00.000000000",
          "2024-04-08T13:00:00.000000000",
          "2024-04-08T13:15:00.000000000",
          "2024-04-08T13:30:00.000000000",
          "2024-04-08T13:45:00.000000000",
          "2024-04-08T14:00:00.000000000",
          "2024-04-08T14:15:00.000000000",
          "2024-04-08T14:30:00.000000000",
          "2024-04-08T14:45:00.000000000",
          "2024-04-08T15:00:00.000000000",
          "2024-04-08T15:15:00.000000000",
          "2024-04-08T15:30:00.000000000",
          "2024-04-08T15:45:00.000000000",
          "2024-04-08T16:00:00.000000000",
          "2024-04-08T16:15:00.000000000",
          "2024-04-08T16:30:00.000000000",
          "2024-04-08T16:45:00.000000000",
          "2024-04-08T17:00:00.000000000",
          "2024-04-08T17:15:00.000000000",
          "2024-04-08T17:30:00.000000000",
          "2024-04-08T17:45:00.000000000",
          "2024-04-08T18:00:00.000000000",
          "2024-04-08T18:15:00.000000000",
          "2024-04-08T18:30:00.000000000",
          "2024-04-08T18:45:00.000000000",
          "2024-04-08T19:00:00.000000000",
          "2024-04-08T19:15:00.000000000",
          "2024-04-08T19:30:00.000000000",
          "2024-04-08T19:45:00.000000000",
          "2024-04-08T20:00:00.000000000"
         ],
         "y": [
          0,
          0,
          0,
          0,
          0,
          0,
          0,
          0,
          0,
          0,
          0,
          0,
          0,
          0,
          0,
          0,
          0,
          0,
          0,
          0,
          0,
          0,
          0,
          0,
          0,
          0,
          0,
          0,
          0,
          0,
          0,
          0,
          0,
          0,
          0,
          0,
          0,
          0,
          0,
          0,
          0,
          0,
          0,
          0,
          0,
          0,
          0,
          0,
          0
         ]
        },
        {
         "mode": "lines+markers",
         "type": "scatter",
         "x": [
          "2024-04-08T08:00:00.000000000",
          "2024-04-08T08:15:00.000000000",
          "2024-04-08T08:30:00.000000000",
          "2024-04-08T08:45:00.000000000",
          "2024-04-08T09:00:00.000000000",
          "2024-04-08T09:15:00.000000000",
          "2024-04-08T09:30:00.000000000",
          "2024-04-08T09:45:00.000000000",
          "2024-04-08T10:00:00.000000000",
          "2024-04-08T10:15:00.000000000",
          "2024-04-08T10:30:00.000000000",
          "2024-04-08T10:45:00.000000000",
          "2024-04-08T11:00:00.000000000",
          "2024-04-08T11:15:00.000000000",
          "2024-04-08T11:30:00.000000000",
          "2024-04-08T11:45:00.000000000",
          "2024-04-08T12:00:00.000000000",
          "2024-04-08T12:15:00.000000000",
          "2024-04-08T12:30:00.000000000",
          "2024-04-08T12:45:00.000000000",
          "2024-04-08T13:00:00.000000000",
          "2024-04-08T13:15:00.000000000",
          "2024-04-08T13:30:00.000000000",
          "2024-04-08T13:45:00.000000000",
          "2024-04-08T14:00:00.000000000",
          "2024-04-08T14:15:00.000000000",
          "2024-04-08T14:30:00.000000000",
          "2024-04-08T14:45:00.000000000",
          "2024-04-08T15:00:00.000000000",
          "2024-04-08T15:15:00.000000000",
          "2024-04-08T15:30:00.000000000",
          "2024-04-08T15:45:00.000000000",
          "2024-04-08T16:00:00.000000000",
          "2024-04-08T16:15:00.000000000",
          "2024-04-08T16:30:00.000000000",
          "2024-04-08T16:45:00.000000000",
          "2024-04-08T17:00:00.000000000",
          "2024-04-08T17:15:00.000000000",
          "2024-04-08T17:30:00.000000000",
          "2024-04-08T17:45:00.000000000",
          "2024-04-08T18:00:00.000000000",
          "2024-04-08T18:15:00.000000000",
          "2024-04-08T18:30:00.000000000",
          "2024-04-08T18:45:00.000000000",
          "2024-04-08T19:00:00.000000000",
          "2024-04-08T19:15:00.000000000",
          "2024-04-08T19:30:00.000000000",
          "2024-04-08T19:45:00.000000000",
          "2024-04-08T20:00:00.000000000"
         ],
         "y": [
          0,
          0,
          0,
          0,
          0,
          0,
          0,
          0,
          0,
          0,
          0,
          0,
          0,
          0,
          0,
          0,
          0,
          0,
          0,
          0,
          0,
          0,
          0,
          0,
          0,
          0,
          0,
          0,
          0,
          0,
          0,
          0,
          0,
          0,
          0,
          0,
          0,
          0,
          0,
          0,
          0,
          0,
          0,
          0,
          0,
          0,
          0,
          0,
          0
         ]
        },
        {
         "mode": "lines+markers",
         "type": "scatter",
         "x": [
          "2024-04-08T08:00:00.000000000",
          "2024-04-08T08:15:00.000000000",
          "2024-04-08T08:30:00.000000000",
          "2024-04-08T08:45:00.000000000",
          "2024-04-08T09:00:00.000000000",
          "2024-04-08T09:15:00.000000000",
          "2024-04-08T09:30:00.000000000",
          "2024-04-08T09:45:00.000000000",
          "2024-04-08T10:00:00.000000000",
          "2024-04-08T10:15:00.000000000",
          "2024-04-08T10:30:00.000000000",
          "2024-04-08T10:45:00.000000000",
          "2024-04-08T11:00:00.000000000",
          "2024-04-08T11:15:00.000000000",
          "2024-04-08T11:30:00.000000000",
          "2024-04-08T11:45:00.000000000",
          "2024-04-08T12:00:00.000000000",
          "2024-04-08T12:15:00.000000000",
          "2024-04-08T12:30:00.000000000",
          "2024-04-08T12:45:00.000000000",
          "2024-04-08T13:00:00.000000000",
          "2024-04-08T13:15:00.000000000",
          "2024-04-08T13:30:00.000000000",
          "2024-04-08T13:45:00.000000000",
          "2024-04-08T14:00:00.000000000",
          "2024-04-08T14:15:00.000000000",
          "2024-04-08T14:30:00.000000000",
          "2024-04-08T14:45:00.000000000",
          "2024-04-08T15:00:00.000000000",
          "2024-04-08T15:15:00.000000000",
          "2024-04-08T15:30:00.000000000",
          "2024-04-08T15:45:00.000000000",
          "2024-04-08T16:00:00.000000000",
          "2024-04-08T16:15:00.000000000",
          "2024-04-08T16:30:00.000000000",
          "2024-04-08T16:45:00.000000000",
          "2024-04-08T17:00:00.000000000",
          "2024-04-08T17:15:00.000000000",
          "2024-04-08T17:30:00.000000000",
          "2024-04-08T17:45:00.000000000",
          "2024-04-08T18:00:00.000000000",
          "2024-04-08T18:15:00.000000000",
          "2024-04-08T18:30:00.000000000",
          "2024-04-08T18:45:00.000000000",
          "2024-04-08T19:00:00.000000000",
          "2024-04-08T19:15:00.000000000",
          "2024-04-08T19:30:00.000000000",
          "2024-04-08T19:45:00.000000000",
          "2024-04-08T20:00:00.000000000"
         ],
         "y": [
          0,
          0,
          0,
          0,
          0,
          0,
          0,
          0,
          0,
          0,
          0,
          0,
          0,
          0,
          0,
          0,
          0,
          0,
          0,
          0,
          0,
          0,
          0,
          0,
          0,
          0,
          0,
          0,
          0,
          0,
          0,
          0,
          0,
          0,
          0,
          0,
          0,
          0,
          0,
          0,
          0,
          0,
          0,
          0,
          0,
          0,
          0,
          0,
          0
         ]
        },
        {
         "mode": "lines+markers",
         "type": "scatter",
         "x": [
          "2024-04-08T08:00:00.000000000",
          "2024-04-08T08:15:00.000000000",
          "2024-04-08T08:30:00.000000000",
          "2024-04-08T08:45:00.000000000",
          "2024-04-08T09:00:00.000000000",
          "2024-04-08T09:15:00.000000000",
          "2024-04-08T09:30:00.000000000",
          "2024-04-08T09:45:00.000000000",
          "2024-04-08T10:00:00.000000000",
          "2024-04-08T10:15:00.000000000",
          "2024-04-08T10:30:00.000000000",
          "2024-04-08T10:45:00.000000000",
          "2024-04-08T11:00:00.000000000",
          "2024-04-08T11:15:00.000000000",
          "2024-04-08T11:30:00.000000000",
          "2024-04-08T11:45:00.000000000",
          "2024-04-08T12:00:00.000000000",
          "2024-04-08T12:15:00.000000000",
          "2024-04-08T12:30:00.000000000",
          "2024-04-08T12:45:00.000000000",
          "2024-04-08T13:00:00.000000000",
          "2024-04-08T13:15:00.000000000",
          "2024-04-08T13:30:00.000000000",
          "2024-04-08T13:45:00.000000000",
          "2024-04-08T14:00:00.000000000",
          "2024-04-08T14:15:00.000000000",
          "2024-04-08T14:30:00.000000000",
          "2024-04-08T14:45:00.000000000",
          "2024-04-08T15:00:00.000000000",
          "2024-04-08T15:15:00.000000000",
          "2024-04-08T15:30:00.000000000",
          "2024-04-08T15:45:00.000000000",
          "2024-04-08T16:00:00.000000000",
          "2024-04-08T16:15:00.000000000",
          "2024-04-08T16:30:00.000000000",
          "2024-04-08T16:45:00.000000000",
          "2024-04-08T17:00:00.000000000",
          "2024-04-08T17:15:00.000000000",
          "2024-04-08T17:30:00.000000000",
          "2024-04-08T17:45:00.000000000",
          "2024-04-08T18:00:00.000000000",
          "2024-04-08T18:15:00.000000000",
          "2024-04-08T18:30:00.000000000",
          "2024-04-08T18:45:00.000000000",
          "2024-04-08T19:00:00.000000000",
          "2024-04-08T19:15:00.000000000",
          "2024-04-08T19:30:00.000000000",
          "2024-04-08T19:45:00.000000000",
          "2024-04-08T20:00:00.000000000"
         ],
         "y": [
          0,
          0,
          0,
          0,
          0,
          0,
          0,
          0,
          0,
          0,
          0,
          0,
          0,
          0,
          0,
          0,
          0,
          0,
          0,
          0,
          0,
          0,
          0,
          0,
          0,
          0,
          0,
          0,
          0,
          0,
          0,
          0,
          0,
          0,
          0,
          0,
          0,
          0,
          0,
          0,
          0,
          0,
          0,
          0,
          0,
          0,
          0,
          0,
          0
         ]
        },
        {
         "mode": "lines+markers",
         "type": "scatter",
         "x": [
          "2024-04-08T08:00:00.000000000",
          "2024-04-08T08:15:00.000000000",
          "2024-04-08T08:30:00.000000000",
          "2024-04-08T08:45:00.000000000",
          "2024-04-08T09:00:00.000000000",
          "2024-04-08T09:15:00.000000000",
          "2024-04-08T09:30:00.000000000",
          "2024-04-08T09:45:00.000000000",
          "2024-04-08T10:00:00.000000000",
          "2024-04-08T10:15:00.000000000",
          "2024-04-08T10:30:00.000000000",
          "2024-04-08T10:45:00.000000000",
          "2024-04-08T11:00:00.000000000",
          "2024-04-08T11:15:00.000000000",
          "2024-04-08T11:30:00.000000000",
          "2024-04-08T11:45:00.000000000",
          "2024-04-08T12:00:00.000000000",
          "2024-04-08T12:15:00.000000000",
          "2024-04-08T12:30:00.000000000",
          "2024-04-08T12:45:00.000000000",
          "2024-04-08T13:00:00.000000000",
          "2024-04-08T13:15:00.000000000",
          "2024-04-08T13:30:00.000000000",
          "2024-04-08T13:45:00.000000000",
          "2024-04-08T14:00:00.000000000",
          "2024-04-08T14:15:00.000000000",
          "2024-04-08T14:30:00.000000000",
          "2024-04-08T14:45:00.000000000",
          "2024-04-08T15:00:00.000000000",
          "2024-04-08T15:15:00.000000000",
          "2024-04-08T15:30:00.000000000",
          "2024-04-08T15:45:00.000000000",
          "2024-04-08T16:00:00.000000000",
          "2024-04-08T16:15:00.000000000",
          "2024-04-08T16:30:00.000000000",
          "2024-04-08T16:45:00.000000000",
          "2024-04-08T17:00:00.000000000",
          "2024-04-08T17:15:00.000000000",
          "2024-04-08T17:30:00.000000000",
          "2024-04-08T17:45:00.000000000",
          "2024-04-08T18:00:00.000000000",
          "2024-04-08T18:15:00.000000000",
          "2024-04-08T18:30:00.000000000",
          "2024-04-08T18:45:00.000000000",
          "2024-04-08T19:00:00.000000000",
          "2024-04-08T19:15:00.000000000",
          "2024-04-08T19:30:00.000000000",
          "2024-04-08T19:45:00.000000000",
          "2024-04-08T20:00:00.000000000"
         ],
         "y": [
          0,
          0,
          0,
          0,
          0,
          0,
          0,
          0,
          0,
          0,
          0,
          0,
          0,
          0,
          0,
          0,
          0,
          0,
          0,
          0,
          0,
          0,
          0,
          0,
          0,
          0,
          0,
          0,
          0,
          0,
          0,
          0,
          0,
          0,
          0,
          0,
          0,
          0,
          0,
          0,
          0,
          0,
          0,
          0,
          0,
          0,
          0,
          0,
          0
         ]
        },
        {
         "mode": "lines+markers",
         "type": "scatter",
         "x": [
          "2024-04-08T08:00:00.000000000",
          "2024-04-08T08:15:00.000000000",
          "2024-04-08T08:30:00.000000000",
          "2024-04-08T08:45:00.000000000",
          "2024-04-08T09:00:00.000000000",
          "2024-04-08T09:15:00.000000000",
          "2024-04-08T09:30:00.000000000",
          "2024-04-08T09:45:00.000000000",
          "2024-04-08T10:00:00.000000000",
          "2024-04-08T10:15:00.000000000",
          "2024-04-08T10:30:00.000000000",
          "2024-04-08T10:45:00.000000000",
          "2024-04-08T11:00:00.000000000",
          "2024-04-08T11:15:00.000000000",
          "2024-04-08T11:30:00.000000000",
          "2024-04-08T11:45:00.000000000",
          "2024-04-08T12:00:00.000000000",
          "2024-04-08T12:15:00.000000000",
          "2024-04-08T12:30:00.000000000",
          "2024-04-08T12:45:00.000000000",
          "2024-04-08T13:00:00.000000000",
          "2024-04-08T13:15:00.000000000",
          "2024-04-08T13:30:00.000000000",
          "2024-04-08T13:45:00.000000000",
          "2024-04-08T14:00:00.000000000",
          "2024-04-08T14:15:00.000000000",
          "2024-04-08T14:30:00.000000000",
          "2024-04-08T14:45:00.000000000",
          "2024-04-08T15:00:00.000000000",
          "2024-04-08T15:15:00.000000000",
          "2024-04-08T15:30:00.000000000",
          "2024-04-08T15:45:00.000000000",
          "2024-04-08T16:00:00.000000000",
          "2024-04-08T16:15:00.000000000",
          "2024-04-08T16:30:00.000000000",
          "2024-04-08T16:45:00.000000000",
          "2024-04-08T17:00:00.000000000",
          "2024-04-08T17:15:00.000000000",
          "2024-04-08T17:30:00.000000000",
          "2024-04-08T17:45:00.000000000",
          "2024-04-08T18:00:00.000000000",
          "2024-04-08T18:15:00.000000000",
          "2024-04-08T18:30:00.000000000",
          "2024-04-08T18:45:00.000000000",
          "2024-04-08T19:00:00.000000000",
          "2024-04-08T19:15:00.000000000",
          "2024-04-08T19:30:00.000000000",
          "2024-04-08T19:45:00.000000000",
          "2024-04-08T20:00:00.000000000"
         ],
         "y": [
          0,
          0,
          0,
          0,
          0,
          0,
          0,
          0,
          0,
          0,
          0,
          0,
          0,
          0,
          0,
          0,
          0,
          0,
          0,
          0,
          0,
          0,
          0,
          0,
          0,
          0,
          0,
          0,
          0,
          0,
          0,
          0,
          0,
          0,
          0,
          0,
          0,
          0,
          0,
          0,
          0,
          0,
          0,
          0,
          0,
          0,
          0,
          0,
          0
         ]
        },
        {
         "mode": "lines+markers",
         "type": "scatter",
         "x": [
          "2024-04-08T08:00:00.000000000",
          "2024-04-08T08:15:00.000000000",
          "2024-04-08T08:30:00.000000000",
          "2024-04-08T08:45:00.000000000",
          "2024-04-08T09:00:00.000000000",
          "2024-04-08T09:15:00.000000000",
          "2024-04-08T09:30:00.000000000",
          "2024-04-08T09:45:00.000000000",
          "2024-04-08T10:00:00.000000000",
          "2024-04-08T10:15:00.000000000",
          "2024-04-08T10:30:00.000000000",
          "2024-04-08T10:45:00.000000000",
          "2024-04-08T11:00:00.000000000",
          "2024-04-08T11:15:00.000000000",
          "2024-04-08T11:30:00.000000000",
          "2024-04-08T11:45:00.000000000",
          "2024-04-08T12:00:00.000000000",
          "2024-04-08T12:15:00.000000000",
          "2024-04-08T12:30:00.000000000",
          "2024-04-08T12:45:00.000000000",
          "2024-04-08T13:00:00.000000000",
          "2024-04-08T13:15:00.000000000",
          "2024-04-08T13:30:00.000000000",
          "2024-04-08T13:45:00.000000000",
          "2024-04-08T14:00:00.000000000",
          "2024-04-08T14:15:00.000000000",
          "2024-04-08T14:30:00.000000000",
          "2024-04-08T14:45:00.000000000",
          "2024-04-08T15:00:00.000000000",
          "2024-04-08T15:15:00.000000000",
          "2024-04-08T15:30:00.000000000",
          "2024-04-08T15:45:00.000000000",
          "2024-04-08T16:00:00.000000000",
          "2024-04-08T16:15:00.000000000",
          "2024-04-08T16:30:00.000000000",
          "2024-04-08T16:45:00.000000000",
          "2024-04-08T17:00:00.000000000",
          "2024-04-08T17:15:00.000000000",
          "2024-04-08T17:30:00.000000000",
          "2024-04-08T17:45:00.000000000",
          "2024-04-08T18:00:00.000000000",
          "2024-04-08T18:15:00.000000000",
          "2024-04-08T18:30:00.000000000",
          "2024-04-08T18:45:00.000000000",
          "2024-04-08T19:00:00.000000000",
          "2024-04-08T19:15:00.000000000",
          "2024-04-08T19:30:00.000000000",
          "2024-04-08T19:45:00.000000000",
          "2024-04-08T20:00:00.000000000"
         ],
         "y": [
          2,
          10,
          4,
          1,
          0,
          2,
          0,
          0,
          10,
          3,
          0,
          0,
          0,
          3,
          6,
          1,
          1,
          0,
          2,
          1,
          1,
          2,
          2,
          0,
          0,
          1,
          4,
          1,
          0,
          1,
          0,
          0,
          1,
          2,
          3,
          12,
          16,
          3,
          1,
          1,
          0,
          0,
          0,
          0,
          0,
          0,
          0,
          0,
          0
         ]
        },
        {
         "mode": "lines+markers",
         "type": "scatter",
         "x": [
          "2024-04-08T08:00:00.000000000",
          "2024-04-08T08:15:00.000000000",
          "2024-04-08T08:30:00.000000000",
          "2024-04-08T08:45:00.000000000",
          "2024-04-08T09:00:00.000000000",
          "2024-04-08T09:15:00.000000000",
          "2024-04-08T09:30:00.000000000",
          "2024-04-08T09:45:00.000000000",
          "2024-04-08T10:00:00.000000000",
          "2024-04-08T10:15:00.000000000",
          "2024-04-08T10:30:00.000000000",
          "2024-04-08T10:45:00.000000000",
          "2024-04-08T11:00:00.000000000",
          "2024-04-08T11:15:00.000000000",
          "2024-04-08T11:30:00.000000000",
          "2024-04-08T11:45:00.000000000",
          "2024-04-08T12:00:00.000000000",
          "2024-04-08T12:15:00.000000000",
          "2024-04-08T12:30:00.000000000",
          "2024-04-08T12:45:00.000000000",
          "2024-04-08T13:00:00.000000000",
          "2024-04-08T13:15:00.000000000",
          "2024-04-08T13:30:00.000000000",
          "2024-04-08T13:45:00.000000000",
          "2024-04-08T14:00:00.000000000",
          "2024-04-08T14:15:00.000000000",
          "2024-04-08T14:30:00.000000000",
          "2024-04-08T14:45:00.000000000",
          "2024-04-08T15:00:00.000000000",
          "2024-04-08T15:15:00.000000000",
          "2024-04-08T15:30:00.000000000",
          "2024-04-08T15:45:00.000000000",
          "2024-04-08T16:00:00.000000000",
          "2024-04-08T16:15:00.000000000",
          "2024-04-08T16:30:00.000000000",
          "2024-04-08T16:45:00.000000000",
          "2024-04-08T17:00:00.000000000",
          "2024-04-08T17:15:00.000000000",
          "2024-04-08T17:30:00.000000000",
          "2024-04-08T17:45:00.000000000",
          "2024-04-08T18:00:00.000000000",
          "2024-04-08T18:15:00.000000000",
          "2024-04-08T18:30:00.000000000",
          "2024-04-08T18:45:00.000000000",
          "2024-04-08T19:00:00.000000000",
          "2024-04-08T19:15:00.000000000",
          "2024-04-08T19:30:00.000000000",
          "2024-04-08T19:45:00.000000000",
          "2024-04-08T20:00:00.000000000"
         ],
         "y": [
          0,
          0,
          0,
          0,
          0,
          0,
          0,
          0,
          0,
          0,
          0,
          0,
          0,
          0,
          0,
          0,
          0,
          0,
          0,
          0,
          0,
          0,
          0,
          0,
          0,
          0,
          0,
          0,
          0,
          0,
          0,
          0,
          0,
          0,
          0,
          0,
          0,
          0,
          0,
          0,
          0,
          0,
          0,
          0,
          0,
          0,
          0,
          0,
          0
         ]
        },
        {
         "mode": "lines+markers",
         "type": "scatter",
         "x": [
          "2024-04-08T08:00:00.000000000",
          "2024-04-08T08:15:00.000000000",
          "2024-04-08T08:30:00.000000000",
          "2024-04-08T08:45:00.000000000",
          "2024-04-08T09:00:00.000000000",
          "2024-04-08T09:15:00.000000000",
          "2024-04-08T09:30:00.000000000",
          "2024-04-08T09:45:00.000000000",
          "2024-04-08T10:00:00.000000000",
          "2024-04-08T10:15:00.000000000",
          "2024-04-08T10:30:00.000000000",
          "2024-04-08T10:45:00.000000000",
          "2024-04-08T11:00:00.000000000",
          "2024-04-08T11:15:00.000000000",
          "2024-04-08T11:30:00.000000000",
          "2024-04-08T11:45:00.000000000",
          "2024-04-08T12:00:00.000000000",
          "2024-04-08T12:15:00.000000000",
          "2024-04-08T12:30:00.000000000",
          "2024-04-08T12:45:00.000000000",
          "2024-04-08T13:00:00.000000000",
          "2024-04-08T13:15:00.000000000",
          "2024-04-08T13:30:00.000000000",
          "2024-04-08T13:45:00.000000000",
          "2024-04-08T14:00:00.000000000",
          "2024-04-08T14:15:00.000000000",
          "2024-04-08T14:30:00.000000000",
          "2024-04-08T14:45:00.000000000",
          "2024-04-08T15:00:00.000000000",
          "2024-04-08T15:15:00.000000000",
          "2024-04-08T15:30:00.000000000",
          "2024-04-08T15:45:00.000000000",
          "2024-04-08T16:00:00.000000000",
          "2024-04-08T16:15:00.000000000",
          "2024-04-08T16:30:00.000000000",
          "2024-04-08T16:45:00.000000000",
          "2024-04-08T17:00:00.000000000",
          "2024-04-08T17:15:00.000000000",
          "2024-04-08T17:30:00.000000000",
          "2024-04-08T17:45:00.000000000",
          "2024-04-08T18:00:00.000000000",
          "2024-04-08T18:15:00.000000000",
          "2024-04-08T18:30:00.000000000",
          "2024-04-08T18:45:00.000000000",
          "2024-04-08T19:00:00.000000000",
          "2024-04-08T19:15:00.000000000",
          "2024-04-08T19:30:00.000000000",
          "2024-04-08T19:45:00.000000000",
          "2024-04-08T20:00:00.000000000"
         ],
         "y": [
          0,
          0,
          0,
          0,
          0,
          0,
          0,
          0,
          0,
          0,
          0,
          0,
          0,
          0,
          0,
          0,
          0,
          0,
          0,
          0,
          0,
          0,
          0,
          0,
          0,
          0,
          0,
          0,
          0,
          0,
          0,
          0,
          0,
          0,
          0,
          0,
          0,
          0,
          0,
          0,
          0,
          0,
          0,
          0,
          0,
          0,
          0,
          0,
          0
         ]
        },
        {
         "mode": "lines+markers",
         "type": "scatter",
         "x": [
          "2024-04-08T08:00:00.000000000",
          "2024-04-08T08:15:00.000000000",
          "2024-04-08T08:30:00.000000000",
          "2024-04-08T08:45:00.000000000",
          "2024-04-08T09:00:00.000000000",
          "2024-04-08T09:15:00.000000000",
          "2024-04-08T09:30:00.000000000",
          "2024-04-08T09:45:00.000000000",
          "2024-04-08T10:00:00.000000000",
          "2024-04-08T10:15:00.000000000",
          "2024-04-08T10:30:00.000000000",
          "2024-04-08T10:45:00.000000000",
          "2024-04-08T11:00:00.000000000",
          "2024-04-08T11:15:00.000000000",
          "2024-04-08T11:30:00.000000000",
          "2024-04-08T11:45:00.000000000",
          "2024-04-08T12:00:00.000000000",
          "2024-04-08T12:15:00.000000000",
          "2024-04-08T12:30:00.000000000",
          "2024-04-08T12:45:00.000000000",
          "2024-04-08T13:00:00.000000000",
          "2024-04-08T13:15:00.000000000",
          "2024-04-08T13:30:00.000000000",
          "2024-04-08T13:45:00.000000000",
          "2024-04-08T14:00:00.000000000",
          "2024-04-08T14:15:00.000000000",
          "2024-04-08T14:30:00.000000000",
          "2024-04-08T14:45:00.000000000",
          "2024-04-08T15:00:00.000000000",
          "2024-04-08T15:15:00.000000000",
          "2024-04-08T15:30:00.000000000",
          "2024-04-08T15:45:00.000000000",
          "2024-04-08T16:00:00.000000000",
          "2024-04-08T16:15:00.000000000",
          "2024-04-08T16:30:00.000000000",
          "2024-04-08T16:45:00.000000000",
          "2024-04-08T17:00:00.000000000",
          "2024-04-08T17:15:00.000000000",
          "2024-04-08T17:30:00.000000000",
          "2024-04-08T17:45:00.000000000",
          "2024-04-08T18:00:00.000000000",
          "2024-04-08T18:15:00.000000000",
          "2024-04-08T18:30:00.000000000",
          "2024-04-08T18:45:00.000000000",
          "2024-04-08T19:00:00.000000000",
          "2024-04-08T19:15:00.000000000",
          "2024-04-08T19:30:00.000000000",
          "2024-04-08T19:45:00.000000000",
          "2024-04-08T20:00:00.000000000"
         ],
         "y": [
          1,
          7,
          0,
          1,
          0,
          1,
          0,
          3,
          3,
          1,
          1,
          3,
          0,
          0,
          0,
          0,
          0,
          0,
          0,
          0,
          0,
          2,
          15,
          0,
          0,
          0,
          1,
          0,
          3,
          17,
          1,
          0,
          3,
          1,
          1,
          0,
          5,
          3,
          0,
          0,
          0,
          0,
          0,
          1,
          0,
          0,
          0,
          0,
          0
         ]
        },
        {
         "mode": "lines+markers",
         "type": "scatter",
         "x": [
          "2024-04-08T08:00:00.000000000",
          "2024-04-08T08:15:00.000000000",
          "2024-04-08T08:30:00.000000000",
          "2024-04-08T08:45:00.000000000",
          "2024-04-08T09:00:00.000000000",
          "2024-04-08T09:15:00.000000000",
          "2024-04-08T09:30:00.000000000",
          "2024-04-08T09:45:00.000000000",
          "2024-04-08T10:00:00.000000000",
          "2024-04-08T10:15:00.000000000",
          "2024-04-08T10:30:00.000000000",
          "2024-04-08T10:45:00.000000000",
          "2024-04-08T11:00:00.000000000",
          "2024-04-08T11:15:00.000000000",
          "2024-04-08T11:30:00.000000000",
          "2024-04-08T11:45:00.000000000",
          "2024-04-08T12:00:00.000000000",
          "2024-04-08T12:15:00.000000000",
          "2024-04-08T12:30:00.000000000",
          "2024-04-08T12:45:00.000000000",
          "2024-04-08T13:00:00.000000000",
          "2024-04-08T13:15:00.000000000",
          "2024-04-08T13:30:00.000000000",
          "2024-04-08T13:45:00.000000000",
          "2024-04-08T14:00:00.000000000",
          "2024-04-08T14:15:00.000000000",
          "2024-04-08T14:30:00.000000000",
          "2024-04-08T14:45:00.000000000",
          "2024-04-08T15:00:00.000000000",
          "2024-04-08T15:15:00.000000000",
          "2024-04-08T15:30:00.000000000",
          "2024-04-08T15:45:00.000000000",
          "2024-04-08T16:00:00.000000000",
          "2024-04-08T16:15:00.000000000",
          "2024-04-08T16:30:00.000000000",
          "2024-04-08T16:45:00.000000000",
          "2024-04-08T17:00:00.000000000",
          "2024-04-08T17:15:00.000000000",
          "2024-04-08T17:30:00.000000000",
          "2024-04-08T17:45:00.000000000",
          "2024-04-08T18:00:00.000000000",
          "2024-04-08T18:15:00.000000000",
          "2024-04-08T18:30:00.000000000",
          "2024-04-08T18:45:00.000000000",
          "2024-04-08T19:00:00.000000000",
          "2024-04-08T19:15:00.000000000",
          "2024-04-08T19:30:00.000000000",
          "2024-04-08T19:45:00.000000000",
          "2024-04-08T20:00:00.000000000"
         ],
         "y": [
          0,
          0,
          0,
          0,
          0,
          0,
          0,
          0,
          0,
          0,
          0,
          0,
          0,
          0,
          0,
          0,
          0,
          0,
          0,
          0,
          0,
          0,
          0,
          0,
          0,
          0,
          0,
          0,
          0,
          0,
          0,
          0,
          0,
          0,
          0,
          0,
          0,
          0,
          0,
          0,
          0,
          0,
          0,
          0,
          0,
          0,
          0,
          0,
          0
         ]
        },
        {
         "mode": "lines+markers",
         "type": "scatter",
         "x": [
          "2024-04-08T08:00:00.000000000",
          "2024-04-08T08:15:00.000000000",
          "2024-04-08T08:30:00.000000000",
          "2024-04-08T08:45:00.000000000",
          "2024-04-08T09:00:00.000000000",
          "2024-04-08T09:15:00.000000000",
          "2024-04-08T09:30:00.000000000",
          "2024-04-08T09:45:00.000000000",
          "2024-04-08T10:00:00.000000000",
          "2024-04-08T10:15:00.000000000",
          "2024-04-08T10:30:00.000000000",
          "2024-04-08T10:45:00.000000000",
          "2024-04-08T11:00:00.000000000",
          "2024-04-08T11:15:00.000000000",
          "2024-04-08T11:30:00.000000000",
          "2024-04-08T11:45:00.000000000",
          "2024-04-08T12:00:00.000000000",
          "2024-04-08T12:15:00.000000000",
          "2024-04-08T12:30:00.000000000",
          "2024-04-08T12:45:00.000000000",
          "2024-04-08T13:00:00.000000000",
          "2024-04-08T13:15:00.000000000",
          "2024-04-08T13:30:00.000000000",
          "2024-04-08T13:45:00.000000000",
          "2024-04-08T14:00:00.000000000",
          "2024-04-08T14:15:00.000000000",
          "2024-04-08T14:30:00.000000000",
          "2024-04-08T14:45:00.000000000",
          "2024-04-08T15:00:00.000000000",
          "2024-04-08T15:15:00.000000000",
          "2024-04-08T15:30:00.000000000",
          "2024-04-08T15:45:00.000000000",
          "2024-04-08T16:00:00.000000000",
          "2024-04-08T16:15:00.000000000",
          "2024-04-08T16:30:00.000000000",
          "2024-04-08T16:45:00.000000000",
          "2024-04-08T17:00:00.000000000",
          "2024-04-08T17:15:00.000000000",
          "2024-04-08T17:30:00.000000000",
          "2024-04-08T17:45:00.000000000",
          "2024-04-08T18:00:00.000000000",
          "2024-04-08T18:15:00.000000000",
          "2024-04-08T18:30:00.000000000",
          "2024-04-08T18:45:00.000000000",
          "2024-04-08T19:00:00.000000000",
          "2024-04-08T19:15:00.000000000",
          "2024-04-08T19:30:00.000000000",
          "2024-04-08T19:45:00.000000000",
          "2024-04-08T20:00:00.000000000"
         ],
         "y": [
          0,
          0,
          2,
          0,
          0,
          0,
          0,
          0,
          0,
          0,
          0,
          0,
          0,
          0,
          0,
          0,
          0,
          0,
          0,
          0,
          0,
          0,
          0,
          0,
          0,
          0,
          0,
          0,
          0,
          0,
          0,
          0,
          0,
          0,
          0,
          0,
          0,
          0,
          0,
          0,
          0,
          0,
          0,
          1,
          0,
          0,
          0,
          0,
          0
         ]
        },
        {
         "mode": "lines+markers",
         "type": "scatter",
         "x": [
          "2024-04-08T08:00:00.000000000",
          "2024-04-08T08:15:00.000000000",
          "2024-04-08T08:30:00.000000000",
          "2024-04-08T08:45:00.000000000",
          "2024-04-08T09:00:00.000000000",
          "2024-04-08T09:15:00.000000000",
          "2024-04-08T09:30:00.000000000",
          "2024-04-08T09:45:00.000000000",
          "2024-04-08T10:00:00.000000000",
          "2024-04-08T10:15:00.000000000",
          "2024-04-08T10:30:00.000000000",
          "2024-04-08T10:45:00.000000000",
          "2024-04-08T11:00:00.000000000",
          "2024-04-08T11:15:00.000000000",
          "2024-04-08T11:30:00.000000000",
          "2024-04-08T11:45:00.000000000",
          "2024-04-08T12:00:00.000000000",
          "2024-04-08T12:15:00.000000000",
          "2024-04-08T12:30:00.000000000",
          "2024-04-08T12:45:00.000000000",
          "2024-04-08T13:00:00.000000000",
          "2024-04-08T13:15:00.000000000",
          "2024-04-08T13:30:00.000000000",
          "2024-04-08T13:45:00.000000000",
          "2024-04-08T14:00:00.000000000",
          "2024-04-08T14:15:00.000000000",
          "2024-04-08T14:30:00.000000000",
          "2024-04-08T14:45:00.000000000",
          "2024-04-08T15:00:00.000000000",
          "2024-04-08T15:15:00.000000000",
          "2024-04-08T15:30:00.000000000",
          "2024-04-08T15:45:00.000000000",
          "2024-04-08T16:00:00.000000000",
          "2024-04-08T16:15:00.000000000",
          "2024-04-08T16:30:00.000000000",
          "2024-04-08T16:45:00.000000000",
          "2024-04-08T17:00:00.000000000",
          "2024-04-08T17:15:00.000000000",
          "2024-04-08T17:30:00.000000000",
          "2024-04-08T17:45:00.000000000",
          "2024-04-08T18:00:00.000000000",
          "2024-04-08T18:15:00.000000000",
          "2024-04-08T18:30:00.000000000",
          "2024-04-08T18:45:00.000000000",
          "2024-04-08T19:00:00.000000000",
          "2024-04-08T19:15:00.000000000",
          "2024-04-08T19:30:00.000000000",
          "2024-04-08T19:45:00.000000000",
          "2024-04-08T20:00:00.000000000"
         ],
         "y": [
          0,
          0,
          0,
          0,
          0,
          0,
          0,
          0,
          0,
          0,
          0,
          0,
          0,
          0,
          0,
          0,
          0,
          0,
          0,
          0,
          0,
          0,
          0,
          0,
          0,
          0,
          0,
          0,
          0,
          0,
          0,
          0,
          0,
          0,
          0,
          0,
          0,
          0,
          0,
          0,
          0,
          0,
          0,
          0,
          0,
          0,
          0,
          0,
          0
         ]
        },
        {
         "mode": "lines+markers",
         "type": "scatter",
         "x": [
          "2024-04-08T08:00:00.000000000",
          "2024-04-08T08:15:00.000000000",
          "2024-04-08T08:30:00.000000000",
          "2024-04-08T08:45:00.000000000",
          "2024-04-08T09:00:00.000000000",
          "2024-04-08T09:15:00.000000000",
          "2024-04-08T09:30:00.000000000",
          "2024-04-08T09:45:00.000000000",
          "2024-04-08T10:00:00.000000000",
          "2024-04-08T10:15:00.000000000",
          "2024-04-08T10:30:00.000000000",
          "2024-04-08T10:45:00.000000000",
          "2024-04-08T11:00:00.000000000",
          "2024-04-08T11:15:00.000000000",
          "2024-04-08T11:30:00.000000000",
          "2024-04-08T11:45:00.000000000",
          "2024-04-08T12:00:00.000000000",
          "2024-04-08T12:15:00.000000000",
          "2024-04-08T12:30:00.000000000",
          "2024-04-08T12:45:00.000000000",
          "2024-04-08T13:00:00.000000000",
          "2024-04-08T13:15:00.000000000",
          "2024-04-08T13:30:00.000000000",
          "2024-04-08T13:45:00.000000000",
          "2024-04-08T14:00:00.000000000",
          "2024-04-08T14:15:00.000000000",
          "2024-04-08T14:30:00.000000000",
          "2024-04-08T14:45:00.000000000",
          "2024-04-08T15:00:00.000000000",
          "2024-04-08T15:15:00.000000000",
          "2024-04-08T15:30:00.000000000",
          "2024-04-08T15:45:00.000000000",
          "2024-04-08T16:00:00.000000000",
          "2024-04-08T16:15:00.000000000",
          "2024-04-08T16:30:00.000000000",
          "2024-04-08T16:45:00.000000000",
          "2024-04-08T17:00:00.000000000",
          "2024-04-08T17:15:00.000000000",
          "2024-04-08T17:30:00.000000000",
          "2024-04-08T17:45:00.000000000",
          "2024-04-08T18:00:00.000000000",
          "2024-04-08T18:15:00.000000000",
          "2024-04-08T18:30:00.000000000",
          "2024-04-08T18:45:00.000000000",
          "2024-04-08T19:00:00.000000000",
          "2024-04-08T19:15:00.000000000",
          "2024-04-08T19:30:00.000000000",
          "2024-04-08T19:45:00.000000000",
          "2024-04-08T20:00:00.000000000"
         ],
         "y": [
          0,
          0,
          0,
          0,
          0,
          0,
          0,
          0,
          0,
          0,
          0,
          0,
          0,
          0,
          0,
          0,
          0,
          0,
          0,
          0,
          0,
          0,
          0,
          0,
          0,
          0,
          0,
          0,
          0,
          0,
          0,
          0,
          0,
          0,
          0,
          0,
          0,
          0,
          0,
          0,
          0,
          0,
          0,
          0,
          0,
          0,
          0,
          0,
          0
         ]
        },
        {
         "mode": "lines+markers",
         "type": "scatter",
         "x": [
          "2024-04-08T08:00:00.000000000",
          "2024-04-08T08:15:00.000000000",
          "2024-04-08T08:30:00.000000000",
          "2024-04-08T08:45:00.000000000",
          "2024-04-08T09:00:00.000000000",
          "2024-04-08T09:15:00.000000000",
          "2024-04-08T09:30:00.000000000",
          "2024-04-08T09:45:00.000000000",
          "2024-04-08T10:00:00.000000000",
          "2024-04-08T10:15:00.000000000",
          "2024-04-08T10:30:00.000000000",
          "2024-04-08T10:45:00.000000000",
          "2024-04-08T11:00:00.000000000",
          "2024-04-08T11:15:00.000000000",
          "2024-04-08T11:30:00.000000000",
          "2024-04-08T11:45:00.000000000",
          "2024-04-08T12:00:00.000000000",
          "2024-04-08T12:15:00.000000000",
          "2024-04-08T12:30:00.000000000",
          "2024-04-08T12:45:00.000000000",
          "2024-04-08T13:00:00.000000000",
          "2024-04-08T13:15:00.000000000",
          "2024-04-08T13:30:00.000000000",
          "2024-04-08T13:45:00.000000000",
          "2024-04-08T14:00:00.000000000",
          "2024-04-08T14:15:00.000000000",
          "2024-04-08T14:30:00.000000000",
          "2024-04-08T14:45:00.000000000",
          "2024-04-08T15:00:00.000000000",
          "2024-04-08T15:15:00.000000000",
          "2024-04-08T15:30:00.000000000",
          "2024-04-08T15:45:00.000000000",
          "2024-04-08T16:00:00.000000000",
          "2024-04-08T16:15:00.000000000",
          "2024-04-08T16:30:00.000000000",
          "2024-04-08T16:45:00.000000000",
          "2024-04-08T17:00:00.000000000",
          "2024-04-08T17:15:00.000000000",
          "2024-04-08T17:30:00.000000000",
          "2024-04-08T17:45:00.000000000",
          "2024-04-08T18:00:00.000000000",
          "2024-04-08T18:15:00.000000000",
          "2024-04-08T18:30:00.000000000",
          "2024-04-08T18:45:00.000000000",
          "2024-04-08T19:00:00.000000000",
          "2024-04-08T19:15:00.000000000",
          "2024-04-08T19:30:00.000000000",
          "2024-04-08T19:45:00.000000000",
          "2024-04-08T20:00:00.000000000"
         ],
         "y": [
          0,
          0,
          0,
          0,
          0,
          0,
          0,
          0,
          0,
          0,
          0,
          0,
          0,
          0,
          0,
          0,
          0,
          0,
          0,
          0,
          0,
          0,
          0,
          0,
          0,
          0,
          0,
          0,
          0,
          0,
          0,
          0,
          0,
          0,
          0,
          0,
          0,
          0,
          0,
          0,
          0,
          0,
          0,
          0,
          0,
          0,
          0,
          0,
          0
         ]
        },
        {
         "mode": "lines+markers",
         "type": "scatter",
         "x": [
          "2024-04-08T08:00:00.000000000",
          "2024-04-08T08:15:00.000000000",
          "2024-04-08T08:30:00.000000000",
          "2024-04-08T08:45:00.000000000",
          "2024-04-08T09:00:00.000000000",
          "2024-04-08T09:15:00.000000000",
          "2024-04-08T09:30:00.000000000",
          "2024-04-08T09:45:00.000000000",
          "2024-04-08T10:00:00.000000000",
          "2024-04-08T10:15:00.000000000",
          "2024-04-08T10:30:00.000000000",
          "2024-04-08T10:45:00.000000000",
          "2024-04-08T11:00:00.000000000",
          "2024-04-08T11:15:00.000000000",
          "2024-04-08T11:30:00.000000000",
          "2024-04-08T11:45:00.000000000",
          "2024-04-08T12:00:00.000000000",
          "2024-04-08T12:15:00.000000000",
          "2024-04-08T12:30:00.000000000",
          "2024-04-08T12:45:00.000000000",
          "2024-04-08T13:00:00.000000000",
          "2024-04-08T13:15:00.000000000",
          "2024-04-08T13:30:00.000000000",
          "2024-04-08T13:45:00.000000000",
          "2024-04-08T14:00:00.000000000",
          "2024-04-08T14:15:00.000000000",
          "2024-04-08T14:30:00.000000000",
          "2024-04-08T14:45:00.000000000",
          "2024-04-08T15:00:00.000000000",
          "2024-04-08T15:15:00.000000000",
          "2024-04-08T15:30:00.000000000",
          "2024-04-08T15:45:00.000000000",
          "2024-04-08T16:00:00.000000000",
          "2024-04-08T16:15:00.000000000",
          "2024-04-08T16:30:00.000000000",
          "2024-04-08T16:45:00.000000000",
          "2024-04-08T17:00:00.000000000",
          "2024-04-08T17:15:00.000000000",
          "2024-04-08T17:30:00.000000000",
          "2024-04-08T17:45:00.000000000",
          "2024-04-08T18:00:00.000000000",
          "2024-04-08T18:15:00.000000000",
          "2024-04-08T18:30:00.000000000",
          "2024-04-08T18:45:00.000000000",
          "2024-04-08T19:00:00.000000000",
          "2024-04-08T19:15:00.000000000",
          "2024-04-08T19:30:00.000000000",
          "2024-04-08T19:45:00.000000000",
          "2024-04-08T20:00:00.000000000"
         ],
         "y": [
          0,
          0,
          0,
          0,
          0,
          0,
          0,
          0,
          0,
          0,
          0,
          0,
          0,
          0,
          0,
          0,
          0,
          0,
          0,
          0,
          0,
          0,
          0,
          0,
          0,
          0,
          0,
          0,
          0,
          0,
          0,
          0,
          0,
          0,
          0,
          0,
          0,
          0,
          0,
          0,
          0,
          0,
          0,
          0,
          0,
          0,
          0,
          0,
          0
         ]
        },
        {
         "mode": "lines+markers",
         "type": "scatter",
         "x": [
          "2024-04-08T08:00:00.000000000",
          "2024-04-08T08:15:00.000000000",
          "2024-04-08T08:30:00.000000000",
          "2024-04-08T08:45:00.000000000",
          "2024-04-08T09:00:00.000000000",
          "2024-04-08T09:15:00.000000000",
          "2024-04-08T09:30:00.000000000",
          "2024-04-08T09:45:00.000000000",
          "2024-04-08T10:00:00.000000000",
          "2024-04-08T10:15:00.000000000",
          "2024-04-08T10:30:00.000000000",
          "2024-04-08T10:45:00.000000000",
          "2024-04-08T11:00:00.000000000",
          "2024-04-08T11:15:00.000000000",
          "2024-04-08T11:30:00.000000000",
          "2024-04-08T11:45:00.000000000",
          "2024-04-08T12:00:00.000000000",
          "2024-04-08T12:15:00.000000000",
          "2024-04-08T12:30:00.000000000",
          "2024-04-08T12:45:00.000000000",
          "2024-04-08T13:00:00.000000000",
          "2024-04-08T13:15:00.000000000",
          "2024-04-08T13:30:00.000000000",
          "2024-04-08T13:45:00.000000000",
          "2024-04-08T14:00:00.000000000",
          "2024-04-08T14:15:00.000000000",
          "2024-04-08T14:30:00.000000000",
          "2024-04-08T14:45:00.000000000",
          "2024-04-08T15:00:00.000000000",
          "2024-04-08T15:15:00.000000000",
          "2024-04-08T15:30:00.000000000",
          "2024-04-08T15:45:00.000000000",
          "2024-04-08T16:00:00.000000000",
          "2024-04-08T16:15:00.000000000",
          "2024-04-08T16:30:00.000000000",
          "2024-04-08T16:45:00.000000000",
          "2024-04-08T17:00:00.000000000",
          "2024-04-08T17:15:00.000000000",
          "2024-04-08T17:30:00.000000000",
          "2024-04-08T17:45:00.000000000",
          "2024-04-08T18:00:00.000000000",
          "2024-04-08T18:15:00.000000000",
          "2024-04-08T18:30:00.000000000",
          "2024-04-08T18:45:00.000000000",
          "2024-04-08T19:00:00.000000000",
          "2024-04-08T19:15:00.000000000",
          "2024-04-08T19:30:00.000000000",
          "2024-04-08T19:45:00.000000000",
          "2024-04-08T20:00:00.000000000"
         ],
         "y": [
          0,
          0,
          0,
          0,
          0,
          0,
          0,
          0,
          0,
          0,
          0,
          0,
          0,
          0,
          0,
          0,
          0,
          0,
          0,
          0,
          0,
          0,
          0,
          0,
          0,
          0,
          0,
          0,
          0,
          0,
          0,
          0,
          0,
          0,
          0,
          0,
          0,
          0,
          0,
          0,
          0,
          0,
          0,
          0,
          0,
          0,
          0,
          0,
          0
         ]
        },
        {
         "mode": "lines+markers",
         "type": "scatter",
         "x": [
          "2024-04-08T08:00:00.000000000",
          "2024-04-08T08:15:00.000000000",
          "2024-04-08T08:30:00.000000000",
          "2024-04-08T08:45:00.000000000",
          "2024-04-08T09:00:00.000000000",
          "2024-04-08T09:15:00.000000000",
          "2024-04-08T09:30:00.000000000",
          "2024-04-08T09:45:00.000000000",
          "2024-04-08T10:00:00.000000000",
          "2024-04-08T10:15:00.000000000",
          "2024-04-08T10:30:00.000000000",
          "2024-04-08T10:45:00.000000000",
          "2024-04-08T11:00:00.000000000",
          "2024-04-08T11:15:00.000000000",
          "2024-04-08T11:30:00.000000000",
          "2024-04-08T11:45:00.000000000",
          "2024-04-08T12:00:00.000000000",
          "2024-04-08T12:15:00.000000000",
          "2024-04-08T12:30:00.000000000",
          "2024-04-08T12:45:00.000000000",
          "2024-04-08T13:00:00.000000000",
          "2024-04-08T13:15:00.000000000",
          "2024-04-08T13:30:00.000000000",
          "2024-04-08T13:45:00.000000000",
          "2024-04-08T14:00:00.000000000",
          "2024-04-08T14:15:00.000000000",
          "2024-04-08T14:30:00.000000000",
          "2024-04-08T14:45:00.000000000",
          "2024-04-08T15:00:00.000000000",
          "2024-04-08T15:15:00.000000000",
          "2024-04-08T15:30:00.000000000",
          "2024-04-08T15:45:00.000000000",
          "2024-04-08T16:00:00.000000000",
          "2024-04-08T16:15:00.000000000",
          "2024-04-08T16:30:00.000000000",
          "2024-04-08T16:45:00.000000000",
          "2024-04-08T17:00:00.000000000",
          "2024-04-08T17:15:00.000000000",
          "2024-04-08T17:30:00.000000000",
          "2024-04-08T17:45:00.000000000",
          "2024-04-08T18:00:00.000000000",
          "2024-04-08T18:15:00.000000000",
          "2024-04-08T18:30:00.000000000",
          "2024-04-08T18:45:00.000000000",
          "2024-04-08T19:00:00.000000000",
          "2024-04-08T19:15:00.000000000",
          "2024-04-08T19:30:00.000000000",
          "2024-04-08T19:45:00.000000000",
          "2024-04-08T20:00:00.000000000"
         ],
         "y": [
          0,
          0,
          0,
          0,
          0,
          0,
          4,
          0,
          0,
          0,
          0,
          0,
          0,
          0,
          1,
          3,
          0,
          0,
          0,
          1,
          0,
          0,
          0,
          0,
          0,
          0,
          0,
          3,
          0,
          0,
          0,
          0,
          18,
          0,
          0,
          0,
          0,
          0,
          0,
          0,
          0,
          0,
          0,
          0,
          0,
          0,
          0,
          0,
          0
         ]
        },
        {
         "mode": "lines+markers",
         "type": "scatter",
         "x": [
          "2024-04-08T08:00:00.000000000",
          "2024-04-08T08:15:00.000000000",
          "2024-04-08T08:30:00.000000000",
          "2024-04-08T08:45:00.000000000",
          "2024-04-08T09:00:00.000000000",
          "2024-04-08T09:15:00.000000000",
          "2024-04-08T09:30:00.000000000",
          "2024-04-08T09:45:00.000000000",
          "2024-04-08T10:00:00.000000000",
          "2024-04-08T10:15:00.000000000",
          "2024-04-08T10:30:00.000000000",
          "2024-04-08T10:45:00.000000000",
          "2024-04-08T11:00:00.000000000",
          "2024-04-08T11:15:00.000000000",
          "2024-04-08T11:30:00.000000000",
          "2024-04-08T11:45:00.000000000",
          "2024-04-08T12:00:00.000000000",
          "2024-04-08T12:15:00.000000000",
          "2024-04-08T12:30:00.000000000",
          "2024-04-08T12:45:00.000000000",
          "2024-04-08T13:00:00.000000000",
          "2024-04-08T13:15:00.000000000",
          "2024-04-08T13:30:00.000000000",
          "2024-04-08T13:45:00.000000000",
          "2024-04-08T14:00:00.000000000",
          "2024-04-08T14:15:00.000000000",
          "2024-04-08T14:30:00.000000000",
          "2024-04-08T14:45:00.000000000",
          "2024-04-08T15:00:00.000000000",
          "2024-04-08T15:15:00.000000000",
          "2024-04-08T15:30:00.000000000",
          "2024-04-08T15:45:00.000000000",
          "2024-04-08T16:00:00.000000000",
          "2024-04-08T16:15:00.000000000",
          "2024-04-08T16:30:00.000000000",
          "2024-04-08T16:45:00.000000000",
          "2024-04-08T17:00:00.000000000",
          "2024-04-08T17:15:00.000000000",
          "2024-04-08T17:30:00.000000000",
          "2024-04-08T17:45:00.000000000",
          "2024-04-08T18:00:00.000000000",
          "2024-04-08T18:15:00.000000000",
          "2024-04-08T18:30:00.000000000",
          "2024-04-08T18:45:00.000000000",
          "2024-04-08T19:00:00.000000000",
          "2024-04-08T19:15:00.000000000",
          "2024-04-08T19:30:00.000000000",
          "2024-04-08T19:45:00.000000000",
          "2024-04-08T20:00:00.000000000"
         ],
         "y": [
          0,
          0,
          0,
          0,
          0,
          0,
          0,
          0,
          0,
          0,
          0,
          0,
          0,
          0,
          0,
          0,
          0,
          0,
          0,
          0,
          0,
          0,
          0,
          0,
          0,
          0,
          0,
          0,
          0,
          0,
          0,
          0,
          0,
          0,
          0,
          0,
          0,
          0,
          0,
          0,
          0,
          0,
          0,
          0,
          0,
          2,
          0,
          0,
          0
         ]
        },
        {
         "mode": "lines+markers",
         "type": "scatter",
         "x": [
          "2024-04-08T08:00:00.000000000",
          "2024-04-08T08:15:00.000000000",
          "2024-04-08T08:30:00.000000000",
          "2024-04-08T08:45:00.000000000",
          "2024-04-08T09:00:00.000000000",
          "2024-04-08T09:15:00.000000000",
          "2024-04-08T09:30:00.000000000",
          "2024-04-08T09:45:00.000000000",
          "2024-04-08T10:00:00.000000000",
          "2024-04-08T10:15:00.000000000",
          "2024-04-08T10:30:00.000000000",
          "2024-04-08T10:45:00.000000000",
          "2024-04-08T11:00:00.000000000",
          "2024-04-08T11:15:00.000000000",
          "2024-04-08T11:30:00.000000000",
          "2024-04-08T11:45:00.000000000",
          "2024-04-08T12:00:00.000000000",
          "2024-04-08T12:15:00.000000000",
          "2024-04-08T12:30:00.000000000",
          "2024-04-08T12:45:00.000000000",
          "2024-04-08T13:00:00.000000000",
          "2024-04-08T13:15:00.000000000",
          "2024-04-08T13:30:00.000000000",
          "2024-04-08T13:45:00.000000000",
          "2024-04-08T14:00:00.000000000",
          "2024-04-08T14:15:00.000000000",
          "2024-04-08T14:30:00.000000000",
          "2024-04-08T14:45:00.000000000",
          "2024-04-08T15:00:00.000000000",
          "2024-04-08T15:15:00.000000000",
          "2024-04-08T15:30:00.000000000",
          "2024-04-08T15:45:00.000000000",
          "2024-04-08T16:00:00.000000000",
          "2024-04-08T16:15:00.000000000",
          "2024-04-08T16:30:00.000000000",
          "2024-04-08T16:45:00.000000000",
          "2024-04-08T17:00:00.000000000",
          "2024-04-08T17:15:00.000000000",
          "2024-04-08T17:30:00.000000000",
          "2024-04-08T17:45:00.000000000",
          "2024-04-08T18:00:00.000000000",
          "2024-04-08T18:15:00.000000000",
          "2024-04-08T18:30:00.000000000",
          "2024-04-08T18:45:00.000000000",
          "2024-04-08T19:00:00.000000000",
          "2024-04-08T19:15:00.000000000",
          "2024-04-08T19:30:00.000000000",
          "2024-04-08T19:45:00.000000000",
          "2024-04-08T20:00:00.000000000"
         ],
         "y": [
          0,
          0,
          0,
          0,
          0,
          0,
          0,
          0,
          0,
          0,
          0,
          0,
          0,
          0,
          0,
          0,
          0,
          0,
          0,
          0,
          0,
          0,
          0,
          0,
          0,
          0,
          0,
          0,
          0,
          0,
          0,
          0,
          0,
          0,
          0,
          0,
          0,
          0,
          0,
          0,
          0,
          0,
          0,
          0,
          0,
          0,
          0,
          0,
          0
         ]
        },
        {
         "mode": "lines+markers",
         "type": "scatter",
         "x": [
          "2024-04-08T08:00:00.000000000",
          "2024-04-08T08:15:00.000000000",
          "2024-04-08T08:30:00.000000000",
          "2024-04-08T08:45:00.000000000",
          "2024-04-08T09:00:00.000000000",
          "2024-04-08T09:15:00.000000000",
          "2024-04-08T09:30:00.000000000",
          "2024-04-08T09:45:00.000000000",
          "2024-04-08T10:00:00.000000000",
          "2024-04-08T10:15:00.000000000",
          "2024-04-08T10:30:00.000000000",
          "2024-04-08T10:45:00.000000000",
          "2024-04-08T11:00:00.000000000",
          "2024-04-08T11:15:00.000000000",
          "2024-04-08T11:30:00.000000000",
          "2024-04-08T11:45:00.000000000",
          "2024-04-08T12:00:00.000000000",
          "2024-04-08T12:15:00.000000000",
          "2024-04-08T12:30:00.000000000",
          "2024-04-08T12:45:00.000000000",
          "2024-04-08T13:00:00.000000000",
          "2024-04-08T13:15:00.000000000",
          "2024-04-08T13:30:00.000000000",
          "2024-04-08T13:45:00.000000000",
          "2024-04-08T14:00:00.000000000",
          "2024-04-08T14:15:00.000000000",
          "2024-04-08T14:30:00.000000000",
          "2024-04-08T14:45:00.000000000",
          "2024-04-08T15:00:00.000000000",
          "2024-04-08T15:15:00.000000000",
          "2024-04-08T15:30:00.000000000",
          "2024-04-08T15:45:00.000000000",
          "2024-04-08T16:00:00.000000000",
          "2024-04-08T16:15:00.000000000",
          "2024-04-08T16:30:00.000000000",
          "2024-04-08T16:45:00.000000000",
          "2024-04-08T17:00:00.000000000",
          "2024-04-08T17:15:00.000000000",
          "2024-04-08T17:30:00.000000000",
          "2024-04-08T17:45:00.000000000",
          "2024-04-08T18:00:00.000000000",
          "2024-04-08T18:15:00.000000000",
          "2024-04-08T18:30:00.000000000",
          "2024-04-08T18:45:00.000000000",
          "2024-04-08T19:00:00.000000000",
          "2024-04-08T19:15:00.000000000",
          "2024-04-08T19:30:00.000000000",
          "2024-04-08T19:45:00.000000000",
          "2024-04-08T20:00:00.000000000"
         ],
         "y": [
          0,
          0,
          0,
          0,
          0,
          0,
          0,
          0,
          0,
          0,
          0,
          0,
          0,
          0,
          0,
          0,
          0,
          0,
          0,
          0,
          0,
          0,
          0,
          0,
          0,
          0,
          0,
          0,
          0,
          0,
          0,
          0,
          0,
          0,
          0,
          0,
          0,
          0,
          0,
          0,
          0,
          0,
          0,
          0,
          0,
          0,
          0,
          0,
          0
         ]
        },
        {
         "mode": "lines+markers",
         "type": "scatter",
         "x": [
          "2024-04-08T08:00:00.000000000",
          "2024-04-08T08:15:00.000000000",
          "2024-04-08T08:30:00.000000000",
          "2024-04-08T08:45:00.000000000",
          "2024-04-08T09:00:00.000000000",
          "2024-04-08T09:15:00.000000000",
          "2024-04-08T09:30:00.000000000",
          "2024-04-08T09:45:00.000000000",
          "2024-04-08T10:00:00.000000000",
          "2024-04-08T10:15:00.000000000",
          "2024-04-08T10:30:00.000000000",
          "2024-04-08T10:45:00.000000000",
          "2024-04-08T11:00:00.000000000",
          "2024-04-08T11:15:00.000000000",
          "2024-04-08T11:30:00.000000000",
          "2024-04-08T11:45:00.000000000",
          "2024-04-08T12:00:00.000000000",
          "2024-04-08T12:15:00.000000000",
          "2024-04-08T12:30:00.000000000",
          "2024-04-08T12:45:00.000000000",
          "2024-04-08T13:00:00.000000000",
          "2024-04-08T13:15:00.000000000",
          "2024-04-08T13:30:00.000000000",
          "2024-04-08T13:45:00.000000000",
          "2024-04-08T14:00:00.000000000",
          "2024-04-08T14:15:00.000000000",
          "2024-04-08T14:30:00.000000000",
          "2024-04-08T14:45:00.000000000",
          "2024-04-08T15:00:00.000000000",
          "2024-04-08T15:15:00.000000000",
          "2024-04-08T15:30:00.000000000",
          "2024-04-08T15:45:00.000000000",
          "2024-04-08T16:00:00.000000000",
          "2024-04-08T16:15:00.000000000",
          "2024-04-08T16:30:00.000000000",
          "2024-04-08T16:45:00.000000000",
          "2024-04-08T17:00:00.000000000",
          "2024-04-08T17:15:00.000000000",
          "2024-04-08T17:30:00.000000000",
          "2024-04-08T17:45:00.000000000",
          "2024-04-08T18:00:00.000000000",
          "2024-04-08T18:15:00.000000000",
          "2024-04-08T18:30:00.000000000",
          "2024-04-08T18:45:00.000000000",
          "2024-04-08T19:00:00.000000000",
          "2024-04-08T19:15:00.000000000",
          "2024-04-08T19:30:00.000000000",
          "2024-04-08T19:45:00.000000000",
          "2024-04-08T20:00:00.000000000"
         ],
         "y": [
          5,
          15,
          10,
          0,
          2,
          1,
          0,
          0,
          4,
          0,
          0,
          0,
          0,
          0,
          0,
          0,
          0,
          3,
          0,
          0,
          0,
          1,
          9,
          0,
          0,
          0,
          0,
          0,
          2,
          11,
          7,
          0,
          1,
          1,
          2,
          0,
          0,
          0,
          0,
          0,
          0,
          0,
          0,
          2,
          0,
          0,
          0,
          0,
          0
         ]
        },
        {
         "mode": "lines+markers",
         "type": "scatter",
         "x": [
          "2024-04-08T08:00:00.000000000",
          "2024-04-08T08:15:00.000000000",
          "2024-04-08T08:30:00.000000000",
          "2024-04-08T08:45:00.000000000",
          "2024-04-08T09:00:00.000000000",
          "2024-04-08T09:15:00.000000000",
          "2024-04-08T09:30:00.000000000",
          "2024-04-08T09:45:00.000000000",
          "2024-04-08T10:00:00.000000000",
          "2024-04-08T10:15:00.000000000",
          "2024-04-08T10:30:00.000000000",
          "2024-04-08T10:45:00.000000000",
          "2024-04-08T11:00:00.000000000",
          "2024-04-08T11:15:00.000000000",
          "2024-04-08T11:30:00.000000000",
          "2024-04-08T11:45:00.000000000",
          "2024-04-08T12:00:00.000000000",
          "2024-04-08T12:15:00.000000000",
          "2024-04-08T12:30:00.000000000",
          "2024-04-08T12:45:00.000000000",
          "2024-04-08T13:00:00.000000000",
          "2024-04-08T13:15:00.000000000",
          "2024-04-08T13:30:00.000000000",
          "2024-04-08T13:45:00.000000000",
          "2024-04-08T14:00:00.000000000",
          "2024-04-08T14:15:00.000000000",
          "2024-04-08T14:30:00.000000000",
          "2024-04-08T14:45:00.000000000",
          "2024-04-08T15:00:00.000000000",
          "2024-04-08T15:15:00.000000000",
          "2024-04-08T15:30:00.000000000",
          "2024-04-08T15:45:00.000000000",
          "2024-04-08T16:00:00.000000000",
          "2024-04-08T16:15:00.000000000",
          "2024-04-08T16:30:00.000000000",
          "2024-04-08T16:45:00.000000000",
          "2024-04-08T17:00:00.000000000",
          "2024-04-08T17:15:00.000000000",
          "2024-04-08T17:30:00.000000000",
          "2024-04-08T17:45:00.000000000",
          "2024-04-08T18:00:00.000000000",
          "2024-04-08T18:15:00.000000000",
          "2024-04-08T18:30:00.000000000",
          "2024-04-08T18:45:00.000000000",
          "2024-04-08T19:00:00.000000000",
          "2024-04-08T19:15:00.000000000",
          "2024-04-08T19:30:00.000000000",
          "2024-04-08T19:45:00.000000000",
          "2024-04-08T20:00:00.000000000"
         ],
         "y": [
          0,
          0,
          0,
          0,
          0,
          0,
          0,
          0,
          0,
          0,
          0,
          0,
          0,
          0,
          0,
          0,
          0,
          0,
          0,
          0,
          0,
          0,
          0,
          0,
          0,
          0,
          0,
          0,
          0,
          0,
          0,
          0,
          0,
          0,
          0,
          0,
          0,
          0,
          0,
          0,
          0,
          0,
          0,
          0,
          0,
          0,
          0,
          0,
          0
         ]
        },
        {
         "mode": "lines+markers",
         "type": "scatter",
         "x": [
          "2024-04-08T08:00:00.000000000",
          "2024-04-08T08:15:00.000000000",
          "2024-04-08T08:30:00.000000000",
          "2024-04-08T08:45:00.000000000",
          "2024-04-08T09:00:00.000000000",
          "2024-04-08T09:15:00.000000000",
          "2024-04-08T09:30:00.000000000",
          "2024-04-08T09:45:00.000000000",
          "2024-04-08T10:00:00.000000000",
          "2024-04-08T10:15:00.000000000",
          "2024-04-08T10:30:00.000000000",
          "2024-04-08T10:45:00.000000000",
          "2024-04-08T11:00:00.000000000",
          "2024-04-08T11:15:00.000000000",
          "2024-04-08T11:30:00.000000000",
          "2024-04-08T11:45:00.000000000",
          "2024-04-08T12:00:00.000000000",
          "2024-04-08T12:15:00.000000000",
          "2024-04-08T12:30:00.000000000",
          "2024-04-08T12:45:00.000000000",
          "2024-04-08T13:00:00.000000000",
          "2024-04-08T13:15:00.000000000",
          "2024-04-08T13:30:00.000000000",
          "2024-04-08T13:45:00.000000000",
          "2024-04-08T14:00:00.000000000",
          "2024-04-08T14:15:00.000000000",
          "2024-04-08T14:30:00.000000000",
          "2024-04-08T14:45:00.000000000",
          "2024-04-08T15:00:00.000000000",
          "2024-04-08T15:15:00.000000000",
          "2024-04-08T15:30:00.000000000",
          "2024-04-08T15:45:00.000000000",
          "2024-04-08T16:00:00.000000000",
          "2024-04-08T16:15:00.000000000",
          "2024-04-08T16:30:00.000000000",
          "2024-04-08T16:45:00.000000000",
          "2024-04-08T17:00:00.000000000",
          "2024-04-08T17:15:00.000000000",
          "2024-04-08T17:30:00.000000000",
          "2024-04-08T17:45:00.000000000",
          "2024-04-08T18:00:00.000000000",
          "2024-04-08T18:15:00.000000000",
          "2024-04-08T18:30:00.000000000",
          "2024-04-08T18:45:00.000000000",
          "2024-04-08T19:00:00.000000000",
          "2024-04-08T19:15:00.000000000",
          "2024-04-08T19:30:00.000000000",
          "2024-04-08T19:45:00.000000000",
          "2024-04-08T20:00:00.000000000"
         ],
         "y": [
          0,
          0,
          0,
          0,
          0,
          0,
          0,
          0,
          0,
          0,
          0,
          0,
          0,
          0,
          0,
          0,
          0,
          0,
          0,
          0,
          0,
          0,
          0,
          0,
          0,
          0,
          0,
          0,
          0,
          0,
          0,
          0,
          0,
          0,
          0,
          0,
          0,
          0,
          0,
          0,
          0,
          0,
          0,
          0,
          0,
          3,
          0,
          0,
          0
         ]
        },
        {
         "mode": "lines+markers",
         "type": "scatter",
         "x": [
          "2024-04-08T08:00:00.000000000",
          "2024-04-08T08:15:00.000000000",
          "2024-04-08T08:30:00.000000000",
          "2024-04-08T08:45:00.000000000",
          "2024-04-08T09:00:00.000000000",
          "2024-04-08T09:15:00.000000000",
          "2024-04-08T09:30:00.000000000",
          "2024-04-08T09:45:00.000000000",
          "2024-04-08T10:00:00.000000000",
          "2024-04-08T10:15:00.000000000",
          "2024-04-08T10:30:00.000000000",
          "2024-04-08T10:45:00.000000000",
          "2024-04-08T11:00:00.000000000",
          "2024-04-08T11:15:00.000000000",
          "2024-04-08T11:30:00.000000000",
          "2024-04-08T11:45:00.000000000",
          "2024-04-08T12:00:00.000000000",
          "2024-04-08T12:15:00.000000000",
          "2024-04-08T12:30:00.000000000",
          "2024-04-08T12:45:00.000000000",
          "2024-04-08T13:00:00.000000000",
          "2024-04-08T13:15:00.000000000",
          "2024-04-08T13:30:00.000000000",
          "2024-04-08T13:45:00.000000000",
          "2024-04-08T14:00:00.000000000",
          "2024-04-08T14:15:00.000000000",
          "2024-04-08T14:30:00.000000000",
          "2024-04-08T14:45:00.000000000",
          "2024-04-08T15:00:00.000000000",
          "2024-04-08T15:15:00.000000000",
          "2024-04-08T15:30:00.000000000",
          "2024-04-08T15:45:00.000000000",
          "2024-04-08T16:00:00.000000000",
          "2024-04-08T16:15:00.000000000",
          "2024-04-08T16:30:00.000000000",
          "2024-04-08T16:45:00.000000000",
          "2024-04-08T17:00:00.000000000",
          "2024-04-08T17:15:00.000000000",
          "2024-04-08T17:30:00.000000000",
          "2024-04-08T17:45:00.000000000",
          "2024-04-08T18:00:00.000000000",
          "2024-04-08T18:15:00.000000000",
          "2024-04-08T18:30:00.000000000",
          "2024-04-08T18:45:00.000000000",
          "2024-04-08T19:00:00.000000000",
          "2024-04-08T19:15:00.000000000",
          "2024-04-08T19:30:00.000000000",
          "2024-04-08T19:45:00.000000000",
          "2024-04-08T20:00:00.000000000"
         ],
         "y": [
          0,
          0,
          0,
          0,
          0,
          0,
          0,
          0,
          0,
          0,
          0,
          0,
          0,
          0,
          0,
          0,
          0,
          0,
          0,
          0,
          0,
          0,
          0,
          0,
          0,
          0,
          0,
          0,
          0,
          0,
          0,
          0,
          0,
          0,
          0,
          0,
          0,
          0,
          0,
          0,
          0,
          0,
          0,
          0,
          0,
          0,
          0,
          0,
          0
         ]
        },
        {
         "mode": "lines+markers",
         "type": "scatter",
         "x": [
          "2024-04-08T08:00:00.000000000",
          "2024-04-08T08:15:00.000000000",
          "2024-04-08T08:30:00.000000000",
          "2024-04-08T08:45:00.000000000",
          "2024-04-08T09:00:00.000000000",
          "2024-04-08T09:15:00.000000000",
          "2024-04-08T09:30:00.000000000",
          "2024-04-08T09:45:00.000000000",
          "2024-04-08T10:00:00.000000000",
          "2024-04-08T10:15:00.000000000",
          "2024-04-08T10:30:00.000000000",
          "2024-04-08T10:45:00.000000000",
          "2024-04-08T11:00:00.000000000",
          "2024-04-08T11:15:00.000000000",
          "2024-04-08T11:30:00.000000000",
          "2024-04-08T11:45:00.000000000",
          "2024-04-08T12:00:00.000000000",
          "2024-04-08T12:15:00.000000000",
          "2024-04-08T12:30:00.000000000",
          "2024-04-08T12:45:00.000000000",
          "2024-04-08T13:00:00.000000000",
          "2024-04-08T13:15:00.000000000",
          "2024-04-08T13:30:00.000000000",
          "2024-04-08T13:45:00.000000000",
          "2024-04-08T14:00:00.000000000",
          "2024-04-08T14:15:00.000000000",
          "2024-04-08T14:30:00.000000000",
          "2024-04-08T14:45:00.000000000",
          "2024-04-08T15:00:00.000000000",
          "2024-04-08T15:15:00.000000000",
          "2024-04-08T15:30:00.000000000",
          "2024-04-08T15:45:00.000000000",
          "2024-04-08T16:00:00.000000000",
          "2024-04-08T16:15:00.000000000",
          "2024-04-08T16:30:00.000000000",
          "2024-04-08T16:45:00.000000000",
          "2024-04-08T17:00:00.000000000",
          "2024-04-08T17:15:00.000000000",
          "2024-04-08T17:30:00.000000000",
          "2024-04-08T17:45:00.000000000",
          "2024-04-08T18:00:00.000000000",
          "2024-04-08T18:15:00.000000000",
          "2024-04-08T18:30:00.000000000",
          "2024-04-08T18:45:00.000000000",
          "2024-04-08T19:00:00.000000000",
          "2024-04-08T19:15:00.000000000",
          "2024-04-08T19:30:00.000000000",
          "2024-04-08T19:45:00.000000000",
          "2024-04-08T20:00:00.000000000"
         ],
         "y": [
          0,
          0,
          0,
          0,
          0,
          0,
          0,
          0,
          0,
          0,
          0,
          0,
          0,
          0,
          0,
          0,
          0,
          0,
          0,
          0,
          0,
          0,
          0,
          0,
          0,
          0,
          0,
          0,
          0,
          0,
          0,
          0,
          0,
          0,
          0,
          0,
          0,
          0,
          0,
          0,
          0,
          0,
          0,
          0,
          0,
          0,
          0,
          0,
          0
         ]
        },
        {
         "mode": "lines+markers",
         "type": "scatter",
         "x": [
          "2024-04-08T08:00:00.000000000",
          "2024-04-08T08:15:00.000000000",
          "2024-04-08T08:30:00.000000000",
          "2024-04-08T08:45:00.000000000",
          "2024-04-08T09:00:00.000000000",
          "2024-04-08T09:15:00.000000000",
          "2024-04-08T09:30:00.000000000",
          "2024-04-08T09:45:00.000000000",
          "2024-04-08T10:00:00.000000000",
          "2024-04-08T10:15:00.000000000",
          "2024-04-08T10:30:00.000000000",
          "2024-04-08T10:45:00.000000000",
          "2024-04-08T11:00:00.000000000",
          "2024-04-08T11:15:00.000000000",
          "2024-04-08T11:30:00.000000000",
          "2024-04-08T11:45:00.000000000",
          "2024-04-08T12:00:00.000000000",
          "2024-04-08T12:15:00.000000000",
          "2024-04-08T12:30:00.000000000",
          "2024-04-08T12:45:00.000000000",
          "2024-04-08T13:00:00.000000000",
          "2024-04-08T13:15:00.000000000",
          "2024-04-08T13:30:00.000000000",
          "2024-04-08T13:45:00.000000000",
          "2024-04-08T14:00:00.000000000",
          "2024-04-08T14:15:00.000000000",
          "2024-04-08T14:30:00.000000000",
          "2024-04-08T14:45:00.000000000",
          "2024-04-08T15:00:00.000000000",
          "2024-04-08T15:15:00.000000000",
          "2024-04-08T15:30:00.000000000",
          "2024-04-08T15:45:00.000000000",
          "2024-04-08T16:00:00.000000000",
          "2024-04-08T16:15:00.000000000",
          "2024-04-08T16:30:00.000000000",
          "2024-04-08T16:45:00.000000000",
          "2024-04-08T17:00:00.000000000",
          "2024-04-08T17:15:00.000000000",
          "2024-04-08T17:30:00.000000000",
          "2024-04-08T17:45:00.000000000",
          "2024-04-08T18:00:00.000000000",
          "2024-04-08T18:15:00.000000000",
          "2024-04-08T18:30:00.000000000",
          "2024-04-08T18:45:00.000000000",
          "2024-04-08T19:00:00.000000000",
          "2024-04-08T19:15:00.000000000",
          "2024-04-08T19:30:00.000000000",
          "2024-04-08T19:45:00.000000000",
          "2024-04-08T20:00:00.000000000"
         ],
         "y": [
          0,
          0,
          0,
          0,
          0,
          2,
          0,
          0,
          0,
          0,
          0,
          0,
          0,
          0,
          2,
          2,
          0,
          0,
          0,
          0,
          0,
          0,
          0,
          0,
          0,
          0,
          0,
          0,
          0,
          0,
          0,
          0,
          0,
          0,
          0,
          0,
          0,
          0,
          0,
          0,
          0,
          0,
          0,
          0,
          0,
          1,
          0,
          0,
          0
         ]
        },
        {
         "mode": "lines+markers",
         "type": "scatter",
         "x": [
          "2024-04-08T08:00:00.000000000",
          "2024-04-08T08:15:00.000000000",
          "2024-04-08T08:30:00.000000000",
          "2024-04-08T08:45:00.000000000",
          "2024-04-08T09:00:00.000000000",
          "2024-04-08T09:15:00.000000000",
          "2024-04-08T09:30:00.000000000",
          "2024-04-08T09:45:00.000000000",
          "2024-04-08T10:00:00.000000000",
          "2024-04-08T10:15:00.000000000",
          "2024-04-08T10:30:00.000000000",
          "2024-04-08T10:45:00.000000000",
          "2024-04-08T11:00:00.000000000",
          "2024-04-08T11:15:00.000000000",
          "2024-04-08T11:30:00.000000000",
          "2024-04-08T11:45:00.000000000",
          "2024-04-08T12:00:00.000000000",
          "2024-04-08T12:15:00.000000000",
          "2024-04-08T12:30:00.000000000",
          "2024-04-08T12:45:00.000000000",
          "2024-04-08T13:00:00.000000000",
          "2024-04-08T13:15:00.000000000",
          "2024-04-08T13:30:00.000000000",
          "2024-04-08T13:45:00.000000000",
          "2024-04-08T14:00:00.000000000",
          "2024-04-08T14:15:00.000000000",
          "2024-04-08T14:30:00.000000000",
          "2024-04-08T14:45:00.000000000",
          "2024-04-08T15:00:00.000000000",
          "2024-04-08T15:15:00.000000000",
          "2024-04-08T15:30:00.000000000",
          "2024-04-08T15:45:00.000000000",
          "2024-04-08T16:00:00.000000000",
          "2024-04-08T16:15:00.000000000",
          "2024-04-08T16:30:00.000000000",
          "2024-04-08T16:45:00.000000000",
          "2024-04-08T17:00:00.000000000",
          "2024-04-08T17:15:00.000000000",
          "2024-04-08T17:30:00.000000000",
          "2024-04-08T17:45:00.000000000",
          "2024-04-08T18:00:00.000000000",
          "2024-04-08T18:15:00.000000000",
          "2024-04-08T18:30:00.000000000",
          "2024-04-08T18:45:00.000000000",
          "2024-04-08T19:00:00.000000000",
          "2024-04-08T19:15:00.000000000",
          "2024-04-08T19:30:00.000000000",
          "2024-04-08T19:45:00.000000000",
          "2024-04-08T20:00:00.000000000"
         ],
         "y": [
          0,
          0,
          0,
          0,
          0,
          0,
          0,
          0,
          0,
          0,
          0,
          0,
          0,
          0,
          0,
          0,
          0,
          0,
          0,
          0,
          0,
          0,
          0,
          0,
          0,
          0,
          0,
          0,
          0,
          0,
          0,
          0,
          0,
          0,
          0,
          0,
          0,
          0,
          0,
          0,
          0,
          0,
          0,
          0,
          0,
          0,
          0,
          0,
          0
         ]
        },
        {
         "mode": "lines+markers",
         "type": "scatter",
         "x": [
          "2024-04-08T08:00:00.000000000",
          "2024-04-08T08:15:00.000000000",
          "2024-04-08T08:30:00.000000000",
          "2024-04-08T08:45:00.000000000",
          "2024-04-08T09:00:00.000000000",
          "2024-04-08T09:15:00.000000000",
          "2024-04-08T09:30:00.000000000",
          "2024-04-08T09:45:00.000000000",
          "2024-04-08T10:00:00.000000000",
          "2024-04-08T10:15:00.000000000",
          "2024-04-08T10:30:00.000000000",
          "2024-04-08T10:45:00.000000000",
          "2024-04-08T11:00:00.000000000",
          "2024-04-08T11:15:00.000000000",
          "2024-04-08T11:30:00.000000000",
          "2024-04-08T11:45:00.000000000",
          "2024-04-08T12:00:00.000000000",
          "2024-04-08T12:15:00.000000000",
          "2024-04-08T12:30:00.000000000",
          "2024-04-08T12:45:00.000000000",
          "2024-04-08T13:00:00.000000000",
          "2024-04-08T13:15:00.000000000",
          "2024-04-08T13:30:00.000000000",
          "2024-04-08T13:45:00.000000000",
          "2024-04-08T14:00:00.000000000",
          "2024-04-08T14:15:00.000000000",
          "2024-04-08T14:30:00.000000000",
          "2024-04-08T14:45:00.000000000",
          "2024-04-08T15:00:00.000000000",
          "2024-04-08T15:15:00.000000000",
          "2024-04-08T15:30:00.000000000",
          "2024-04-08T15:45:00.000000000",
          "2024-04-08T16:00:00.000000000",
          "2024-04-08T16:15:00.000000000",
          "2024-04-08T16:30:00.000000000",
          "2024-04-08T16:45:00.000000000",
          "2024-04-08T17:00:00.000000000",
          "2024-04-08T17:15:00.000000000",
          "2024-04-08T17:30:00.000000000",
          "2024-04-08T17:45:00.000000000",
          "2024-04-08T18:00:00.000000000",
          "2024-04-08T18:15:00.000000000",
          "2024-04-08T18:30:00.000000000",
          "2024-04-08T18:45:00.000000000",
          "2024-04-08T19:00:00.000000000",
          "2024-04-08T19:15:00.000000000",
          "2024-04-08T19:30:00.000000000",
          "2024-04-08T19:45:00.000000000",
          "2024-04-08T20:00:00.000000000"
         ],
         "y": [
          0,
          0,
          0,
          0,
          0,
          0,
          0,
          0,
          0,
          0,
          0,
          0,
          0,
          0,
          0,
          0,
          0,
          0,
          0,
          0,
          0,
          0,
          0,
          0,
          0,
          0,
          0,
          0,
          0,
          0,
          0,
          0,
          0,
          0,
          0,
          0,
          0,
          0,
          0,
          0,
          0,
          0,
          0,
          0,
          0,
          0,
          0,
          0,
          0
         ]
        },
        {
         "mode": "lines+markers",
         "type": "scatter",
         "x": [
          "2024-04-08T08:00:00.000000000",
          "2024-04-08T08:15:00.000000000",
          "2024-04-08T08:30:00.000000000",
          "2024-04-08T08:45:00.000000000",
          "2024-04-08T09:00:00.000000000",
          "2024-04-08T09:15:00.000000000",
          "2024-04-08T09:30:00.000000000",
          "2024-04-08T09:45:00.000000000",
          "2024-04-08T10:00:00.000000000",
          "2024-04-08T10:15:00.000000000",
          "2024-04-08T10:30:00.000000000",
          "2024-04-08T10:45:00.000000000",
          "2024-04-08T11:00:00.000000000",
          "2024-04-08T11:15:00.000000000",
          "2024-04-08T11:30:00.000000000",
          "2024-04-08T11:45:00.000000000",
          "2024-04-08T12:00:00.000000000",
          "2024-04-08T12:15:00.000000000",
          "2024-04-08T12:30:00.000000000",
          "2024-04-08T12:45:00.000000000",
          "2024-04-08T13:00:00.000000000",
          "2024-04-08T13:15:00.000000000",
          "2024-04-08T13:30:00.000000000",
          "2024-04-08T13:45:00.000000000",
          "2024-04-08T14:00:00.000000000",
          "2024-04-08T14:15:00.000000000",
          "2024-04-08T14:30:00.000000000",
          "2024-04-08T14:45:00.000000000",
          "2024-04-08T15:00:00.000000000",
          "2024-04-08T15:15:00.000000000",
          "2024-04-08T15:30:00.000000000",
          "2024-04-08T15:45:00.000000000",
          "2024-04-08T16:00:00.000000000",
          "2024-04-08T16:15:00.000000000",
          "2024-04-08T16:30:00.000000000",
          "2024-04-08T16:45:00.000000000",
          "2024-04-08T17:00:00.000000000",
          "2024-04-08T17:15:00.000000000",
          "2024-04-08T17:30:00.000000000",
          "2024-04-08T17:45:00.000000000",
          "2024-04-08T18:00:00.000000000",
          "2024-04-08T18:15:00.000000000",
          "2024-04-08T18:30:00.000000000",
          "2024-04-08T18:45:00.000000000",
          "2024-04-08T19:00:00.000000000",
          "2024-04-08T19:15:00.000000000",
          "2024-04-08T19:30:00.000000000",
          "2024-04-08T19:45:00.000000000",
          "2024-04-08T20:00:00.000000000"
         ],
         "y": [
          5,
          22,
          13,
          4,
          1,
          0,
          5,
          0,
          6,
          4,
          2,
          2,
          0,
          1,
          0,
          0,
          0,
          0,
          0,
          0,
          0,
          0,
          8,
          1,
          0,
          0,
          0,
          0,
          2,
          5,
          8,
          0,
          0,
          0,
          0,
          0,
          0,
          2,
          0,
          0,
          0,
          0,
          0,
          0,
          0,
          0,
          0,
          0,
          0
         ]
        },
        {
         "mode": "lines+markers",
         "type": "scatter",
         "x": [
          "2024-04-08T08:00:00.000000000",
          "2024-04-08T08:15:00.000000000",
          "2024-04-08T08:30:00.000000000",
          "2024-04-08T08:45:00.000000000",
          "2024-04-08T09:00:00.000000000",
          "2024-04-08T09:15:00.000000000",
          "2024-04-08T09:30:00.000000000",
          "2024-04-08T09:45:00.000000000",
          "2024-04-08T10:00:00.000000000",
          "2024-04-08T10:15:00.000000000",
          "2024-04-08T10:30:00.000000000",
          "2024-04-08T10:45:00.000000000",
          "2024-04-08T11:00:00.000000000",
          "2024-04-08T11:15:00.000000000",
          "2024-04-08T11:30:00.000000000",
          "2024-04-08T11:45:00.000000000",
          "2024-04-08T12:00:00.000000000",
          "2024-04-08T12:15:00.000000000",
          "2024-04-08T12:30:00.000000000",
          "2024-04-08T12:45:00.000000000",
          "2024-04-08T13:00:00.000000000",
          "2024-04-08T13:15:00.000000000",
          "2024-04-08T13:30:00.000000000",
          "2024-04-08T13:45:00.000000000",
          "2024-04-08T14:00:00.000000000",
          "2024-04-08T14:15:00.000000000",
          "2024-04-08T14:30:00.000000000",
          "2024-04-08T14:45:00.000000000",
          "2024-04-08T15:00:00.000000000",
          "2024-04-08T15:15:00.000000000",
          "2024-04-08T15:30:00.000000000",
          "2024-04-08T15:45:00.000000000",
          "2024-04-08T16:00:00.000000000",
          "2024-04-08T16:15:00.000000000",
          "2024-04-08T16:30:00.000000000",
          "2024-04-08T16:45:00.000000000",
          "2024-04-08T17:00:00.000000000",
          "2024-04-08T17:15:00.000000000",
          "2024-04-08T17:30:00.000000000",
          "2024-04-08T17:45:00.000000000",
          "2024-04-08T18:00:00.000000000",
          "2024-04-08T18:15:00.000000000",
          "2024-04-08T18:30:00.000000000",
          "2024-04-08T18:45:00.000000000",
          "2024-04-08T19:00:00.000000000",
          "2024-04-08T19:15:00.000000000",
          "2024-04-08T19:30:00.000000000",
          "2024-04-08T19:45:00.000000000",
          "2024-04-08T20:00:00.000000000"
         ],
         "y": [
          0,
          0,
          0,
          0,
          0,
          0,
          2,
          7,
          15,
          2,
          0,
          0,
          0,
          0,
          0,
          0,
          0,
          0,
          0,
          0,
          0,
          0,
          0,
          0,
          0,
          0,
          0,
          0,
          0,
          0,
          0,
          0,
          0,
          0,
          0,
          0,
          0,
          0,
          0,
          0,
          0,
          0,
          0,
          0,
          0,
          0,
          0,
          2,
          0
         ]
        },
        {
         "mode": "lines+markers",
         "type": "scatter",
         "x": [
          "2024-04-08T08:00:00.000000000",
          "2024-04-08T08:15:00.000000000",
          "2024-04-08T08:30:00.000000000",
          "2024-04-08T08:45:00.000000000",
          "2024-04-08T09:00:00.000000000",
          "2024-04-08T09:15:00.000000000",
          "2024-04-08T09:30:00.000000000",
          "2024-04-08T09:45:00.000000000",
          "2024-04-08T10:00:00.000000000",
          "2024-04-08T10:15:00.000000000",
          "2024-04-08T10:30:00.000000000",
          "2024-04-08T10:45:00.000000000",
          "2024-04-08T11:00:00.000000000",
          "2024-04-08T11:15:00.000000000",
          "2024-04-08T11:30:00.000000000",
          "2024-04-08T11:45:00.000000000",
          "2024-04-08T12:00:00.000000000",
          "2024-04-08T12:15:00.000000000",
          "2024-04-08T12:30:00.000000000",
          "2024-04-08T12:45:00.000000000",
          "2024-04-08T13:00:00.000000000",
          "2024-04-08T13:15:00.000000000",
          "2024-04-08T13:30:00.000000000",
          "2024-04-08T13:45:00.000000000",
          "2024-04-08T14:00:00.000000000",
          "2024-04-08T14:15:00.000000000",
          "2024-04-08T14:30:00.000000000",
          "2024-04-08T14:45:00.000000000",
          "2024-04-08T15:00:00.000000000",
          "2024-04-08T15:15:00.000000000",
          "2024-04-08T15:30:00.000000000",
          "2024-04-08T15:45:00.000000000",
          "2024-04-08T16:00:00.000000000",
          "2024-04-08T16:15:00.000000000",
          "2024-04-08T16:30:00.000000000",
          "2024-04-08T16:45:00.000000000",
          "2024-04-08T17:00:00.000000000",
          "2024-04-08T17:15:00.000000000",
          "2024-04-08T17:30:00.000000000",
          "2024-04-08T17:45:00.000000000",
          "2024-04-08T18:00:00.000000000",
          "2024-04-08T18:15:00.000000000",
          "2024-04-08T18:30:00.000000000",
          "2024-04-08T18:45:00.000000000",
          "2024-04-08T19:00:00.000000000",
          "2024-04-08T19:15:00.000000000",
          "2024-04-08T19:30:00.000000000",
          "2024-04-08T19:45:00.000000000",
          "2024-04-08T20:00:00.000000000"
         ],
         "y": [
          0,
          0,
          0,
          0,
          0,
          0,
          0,
          0,
          0,
          0,
          0,
          0,
          0,
          0,
          0,
          0,
          0,
          0,
          0,
          0,
          0,
          0,
          0,
          0,
          0,
          0,
          0,
          0,
          0,
          0,
          0,
          0,
          0,
          0,
          0,
          0,
          0,
          0,
          0,
          0,
          0,
          0,
          0,
          0,
          0,
          0,
          0,
          0,
          0
         ]
        },
        {
         "mode": "lines+markers",
         "type": "scatter",
         "x": [
          "2024-04-08T08:00:00.000000000",
          "2024-04-08T08:15:00.000000000",
          "2024-04-08T08:30:00.000000000",
          "2024-04-08T08:45:00.000000000",
          "2024-04-08T09:00:00.000000000",
          "2024-04-08T09:15:00.000000000",
          "2024-04-08T09:30:00.000000000",
          "2024-04-08T09:45:00.000000000",
          "2024-04-08T10:00:00.000000000",
          "2024-04-08T10:15:00.000000000",
          "2024-04-08T10:30:00.000000000",
          "2024-04-08T10:45:00.000000000",
          "2024-04-08T11:00:00.000000000",
          "2024-04-08T11:15:00.000000000",
          "2024-04-08T11:30:00.000000000",
          "2024-04-08T11:45:00.000000000",
          "2024-04-08T12:00:00.000000000",
          "2024-04-08T12:15:00.000000000",
          "2024-04-08T12:30:00.000000000",
          "2024-04-08T12:45:00.000000000",
          "2024-04-08T13:00:00.000000000",
          "2024-04-08T13:15:00.000000000",
          "2024-04-08T13:30:00.000000000",
          "2024-04-08T13:45:00.000000000",
          "2024-04-08T14:00:00.000000000",
          "2024-04-08T14:15:00.000000000",
          "2024-04-08T14:30:00.000000000",
          "2024-04-08T14:45:00.000000000",
          "2024-04-08T15:00:00.000000000",
          "2024-04-08T15:15:00.000000000",
          "2024-04-08T15:30:00.000000000",
          "2024-04-08T15:45:00.000000000",
          "2024-04-08T16:00:00.000000000",
          "2024-04-08T16:15:00.000000000",
          "2024-04-08T16:30:00.000000000",
          "2024-04-08T16:45:00.000000000",
          "2024-04-08T17:00:00.000000000",
          "2024-04-08T17:15:00.000000000",
          "2024-04-08T17:30:00.000000000",
          "2024-04-08T17:45:00.000000000",
          "2024-04-08T18:00:00.000000000",
          "2024-04-08T18:15:00.000000000",
          "2024-04-08T18:30:00.000000000",
          "2024-04-08T18:45:00.000000000",
          "2024-04-08T19:00:00.000000000",
          "2024-04-08T19:15:00.000000000",
          "2024-04-08T19:30:00.000000000",
          "2024-04-08T19:45:00.000000000",
          "2024-04-08T20:00:00.000000000"
         ],
         "y": [
          0,
          0,
          0,
          0,
          0,
          0,
          0,
          0,
          0,
          0,
          0,
          0,
          0,
          0,
          0,
          0,
          0,
          0,
          0,
          0,
          0,
          0,
          0,
          0,
          0,
          0,
          0,
          0,
          0,
          0,
          0,
          0,
          0,
          0,
          0,
          0,
          0,
          0,
          0,
          0,
          0,
          0,
          0,
          0,
          0,
          0,
          0,
          0,
          0
         ]
        },
        {
         "mode": "lines+markers",
         "type": "scatter",
         "x": [
          "2024-04-08T08:00:00.000000000",
          "2024-04-08T08:15:00.000000000",
          "2024-04-08T08:30:00.000000000",
          "2024-04-08T08:45:00.000000000",
          "2024-04-08T09:00:00.000000000",
          "2024-04-08T09:15:00.000000000",
          "2024-04-08T09:30:00.000000000",
          "2024-04-08T09:45:00.000000000",
          "2024-04-08T10:00:00.000000000",
          "2024-04-08T10:15:00.000000000",
          "2024-04-08T10:30:00.000000000",
          "2024-04-08T10:45:00.000000000",
          "2024-04-08T11:00:00.000000000",
          "2024-04-08T11:15:00.000000000",
          "2024-04-08T11:30:00.000000000",
          "2024-04-08T11:45:00.000000000",
          "2024-04-08T12:00:00.000000000",
          "2024-04-08T12:15:00.000000000",
          "2024-04-08T12:30:00.000000000",
          "2024-04-08T12:45:00.000000000",
          "2024-04-08T13:00:00.000000000",
          "2024-04-08T13:15:00.000000000",
          "2024-04-08T13:30:00.000000000",
          "2024-04-08T13:45:00.000000000",
          "2024-04-08T14:00:00.000000000",
          "2024-04-08T14:15:00.000000000",
          "2024-04-08T14:30:00.000000000",
          "2024-04-08T14:45:00.000000000",
          "2024-04-08T15:00:00.000000000",
          "2024-04-08T15:15:00.000000000",
          "2024-04-08T15:30:00.000000000",
          "2024-04-08T15:45:00.000000000",
          "2024-04-08T16:00:00.000000000",
          "2024-04-08T16:15:00.000000000",
          "2024-04-08T16:30:00.000000000",
          "2024-04-08T16:45:00.000000000",
          "2024-04-08T17:00:00.000000000",
          "2024-04-08T17:15:00.000000000",
          "2024-04-08T17:30:00.000000000",
          "2024-04-08T17:45:00.000000000",
          "2024-04-08T18:00:00.000000000",
          "2024-04-08T18:15:00.000000000",
          "2024-04-08T18:30:00.000000000",
          "2024-04-08T18:45:00.000000000",
          "2024-04-08T19:00:00.000000000",
          "2024-04-08T19:15:00.000000000",
          "2024-04-08T19:30:00.000000000",
          "2024-04-08T19:45:00.000000000",
          "2024-04-08T20:00:00.000000000"
         ],
         "y": [
          0,
          0,
          0,
          0,
          0,
          0,
          0,
          0,
          0,
          0,
          0,
          0,
          0,
          1,
          0,
          0,
          0,
          0,
          0,
          0,
          0,
          0,
          0,
          1,
          0,
          0,
          0,
          0,
          0,
          0,
          0,
          0,
          0,
          0,
          0,
          0,
          0,
          0,
          0,
          0,
          0,
          0,
          0,
          0,
          1,
          0,
          0,
          0,
          0
         ]
        },
        {
         "mode": "lines+markers",
         "type": "scatter",
         "x": [
          "2024-04-08T08:00:00.000000000",
          "2024-04-08T08:15:00.000000000",
          "2024-04-08T08:30:00.000000000",
          "2024-04-08T08:45:00.000000000",
          "2024-04-08T09:00:00.000000000",
          "2024-04-08T09:15:00.000000000",
          "2024-04-08T09:30:00.000000000",
          "2024-04-08T09:45:00.000000000",
          "2024-04-08T10:00:00.000000000",
          "2024-04-08T10:15:00.000000000",
          "2024-04-08T10:30:00.000000000",
          "2024-04-08T10:45:00.000000000",
          "2024-04-08T11:00:00.000000000",
          "2024-04-08T11:15:00.000000000",
          "2024-04-08T11:30:00.000000000",
          "2024-04-08T11:45:00.000000000",
          "2024-04-08T12:00:00.000000000",
          "2024-04-08T12:15:00.000000000",
          "2024-04-08T12:30:00.000000000",
          "2024-04-08T12:45:00.000000000",
          "2024-04-08T13:00:00.000000000",
          "2024-04-08T13:15:00.000000000",
          "2024-04-08T13:30:00.000000000",
          "2024-04-08T13:45:00.000000000",
          "2024-04-08T14:00:00.000000000",
          "2024-04-08T14:15:00.000000000",
          "2024-04-08T14:30:00.000000000",
          "2024-04-08T14:45:00.000000000",
          "2024-04-08T15:00:00.000000000",
          "2024-04-08T15:15:00.000000000",
          "2024-04-08T15:30:00.000000000",
          "2024-04-08T15:45:00.000000000",
          "2024-04-08T16:00:00.000000000",
          "2024-04-08T16:15:00.000000000",
          "2024-04-08T16:30:00.000000000",
          "2024-04-08T16:45:00.000000000",
          "2024-04-08T17:00:00.000000000",
          "2024-04-08T17:15:00.000000000",
          "2024-04-08T17:30:00.000000000",
          "2024-04-08T17:45:00.000000000",
          "2024-04-08T18:00:00.000000000",
          "2024-04-08T18:15:00.000000000",
          "2024-04-08T18:30:00.000000000",
          "2024-04-08T18:45:00.000000000",
          "2024-04-08T19:00:00.000000000",
          "2024-04-08T19:15:00.000000000",
          "2024-04-08T19:30:00.000000000",
          "2024-04-08T19:45:00.000000000",
          "2024-04-08T20:00:00.000000000"
         ],
         "y": [
          0,
          0,
          0,
          0,
          0,
          0,
          0,
          0,
          0,
          0,
          0,
          0,
          0,
          0,
          0,
          0,
          0,
          0,
          0,
          0,
          0,
          0,
          0,
          0,
          0,
          0,
          0,
          0,
          0,
          0,
          0,
          0,
          0,
          0,
          0,
          0,
          0,
          0,
          0,
          0,
          0,
          0,
          0,
          0,
          0,
          0,
          0,
          0,
          0
         ]
        },
        {
         "mode": "lines+markers",
         "type": "scatter",
         "x": [
          "2024-04-08T08:00:00.000000000",
          "2024-04-08T08:15:00.000000000",
          "2024-04-08T08:30:00.000000000",
          "2024-04-08T08:45:00.000000000",
          "2024-04-08T09:00:00.000000000",
          "2024-04-08T09:15:00.000000000",
          "2024-04-08T09:30:00.000000000",
          "2024-04-08T09:45:00.000000000",
          "2024-04-08T10:00:00.000000000",
          "2024-04-08T10:15:00.000000000",
          "2024-04-08T10:30:00.000000000",
          "2024-04-08T10:45:00.000000000",
          "2024-04-08T11:00:00.000000000",
          "2024-04-08T11:15:00.000000000",
          "2024-04-08T11:30:00.000000000",
          "2024-04-08T11:45:00.000000000",
          "2024-04-08T12:00:00.000000000",
          "2024-04-08T12:15:00.000000000",
          "2024-04-08T12:30:00.000000000",
          "2024-04-08T12:45:00.000000000",
          "2024-04-08T13:00:00.000000000",
          "2024-04-08T13:15:00.000000000",
          "2024-04-08T13:30:00.000000000",
          "2024-04-08T13:45:00.000000000",
          "2024-04-08T14:00:00.000000000",
          "2024-04-08T14:15:00.000000000",
          "2024-04-08T14:30:00.000000000",
          "2024-04-08T14:45:00.000000000",
          "2024-04-08T15:00:00.000000000",
          "2024-04-08T15:15:00.000000000",
          "2024-04-08T15:30:00.000000000",
          "2024-04-08T15:45:00.000000000",
          "2024-04-08T16:00:00.000000000",
          "2024-04-08T16:15:00.000000000",
          "2024-04-08T16:30:00.000000000",
          "2024-04-08T16:45:00.000000000",
          "2024-04-08T17:00:00.000000000",
          "2024-04-08T17:15:00.000000000",
          "2024-04-08T17:30:00.000000000",
          "2024-04-08T17:45:00.000000000",
          "2024-04-08T18:00:00.000000000",
          "2024-04-08T18:15:00.000000000",
          "2024-04-08T18:30:00.000000000",
          "2024-04-08T18:45:00.000000000",
          "2024-04-08T19:00:00.000000000",
          "2024-04-08T19:15:00.000000000",
          "2024-04-08T19:30:00.000000000",
          "2024-04-08T19:45:00.000000000",
          "2024-04-08T20:00:00.000000000"
         ],
         "y": [
          0,
          0,
          0,
          0,
          0,
          0,
          0,
          0,
          0,
          0,
          0,
          0,
          0,
          0,
          0,
          0,
          0,
          0,
          0,
          0,
          0,
          0,
          0,
          0,
          0,
          0,
          0,
          0,
          0,
          0,
          0,
          0,
          0,
          0,
          0,
          0,
          0,
          0,
          0,
          0,
          0,
          0,
          0,
          0,
          0,
          0,
          0,
          0,
          0
         ]
        },
        {
         "mode": "lines+markers",
         "type": "scatter",
         "x": [
          "2024-04-08T08:00:00.000000000",
          "2024-04-08T08:15:00.000000000",
          "2024-04-08T08:30:00.000000000",
          "2024-04-08T08:45:00.000000000",
          "2024-04-08T09:00:00.000000000",
          "2024-04-08T09:15:00.000000000",
          "2024-04-08T09:30:00.000000000",
          "2024-04-08T09:45:00.000000000",
          "2024-04-08T10:00:00.000000000",
          "2024-04-08T10:15:00.000000000",
          "2024-04-08T10:30:00.000000000",
          "2024-04-08T10:45:00.000000000",
          "2024-04-08T11:00:00.000000000",
          "2024-04-08T11:15:00.000000000",
          "2024-04-08T11:30:00.000000000",
          "2024-04-08T11:45:00.000000000",
          "2024-04-08T12:00:00.000000000",
          "2024-04-08T12:15:00.000000000",
          "2024-04-08T12:30:00.000000000",
          "2024-04-08T12:45:00.000000000",
          "2024-04-08T13:00:00.000000000",
          "2024-04-08T13:15:00.000000000",
          "2024-04-08T13:30:00.000000000",
          "2024-04-08T13:45:00.000000000",
          "2024-04-08T14:00:00.000000000",
          "2024-04-08T14:15:00.000000000",
          "2024-04-08T14:30:00.000000000",
          "2024-04-08T14:45:00.000000000",
          "2024-04-08T15:00:00.000000000",
          "2024-04-08T15:15:00.000000000",
          "2024-04-08T15:30:00.000000000",
          "2024-04-08T15:45:00.000000000",
          "2024-04-08T16:00:00.000000000",
          "2024-04-08T16:15:00.000000000",
          "2024-04-08T16:30:00.000000000",
          "2024-04-08T16:45:00.000000000",
          "2024-04-08T17:00:00.000000000",
          "2024-04-08T17:15:00.000000000",
          "2024-04-08T17:30:00.000000000",
          "2024-04-08T17:45:00.000000000",
          "2024-04-08T18:00:00.000000000",
          "2024-04-08T18:15:00.000000000",
          "2024-04-08T18:30:00.000000000",
          "2024-04-08T18:45:00.000000000",
          "2024-04-08T19:00:00.000000000",
          "2024-04-08T19:15:00.000000000",
          "2024-04-08T19:30:00.000000000",
          "2024-04-08T19:45:00.000000000",
          "2024-04-08T20:00:00.000000000"
         ],
         "y": [
          0,
          0,
          0,
          0,
          0,
          0,
          0,
          0,
          0,
          0,
          0,
          0,
          0,
          1,
          0,
          0,
          0,
          0,
          0,
          2,
          5,
          19,
          30,
          4,
          0,
          3,
          0,
          0,
          0,
          0,
          0,
          0,
          0,
          0,
          0,
          0,
          5,
          0,
          0,
          0,
          0,
          0,
          0,
          0,
          0,
          0,
          0,
          0,
          1
         ]
        }
       ],
       "layout": {
        "template": {
         "data": {
          "bar": [
           {
            "error_x": {
             "color": "#2a3f5f"
            },
            "error_y": {
             "color": "#2a3f5f"
            },
            "marker": {
             "line": {
              "color": "#E5ECF6",
              "width": 0.5
             },
             "pattern": {
              "fillmode": "overlay",
              "size": 10,
              "solidity": 0.2
             }
            },
            "type": "bar"
           }
          ],
          "barpolar": [
           {
            "marker": {
             "line": {
              "color": "#E5ECF6",
              "width": 0.5
             },
             "pattern": {
              "fillmode": "overlay",
              "size": 10,
              "solidity": 0.2
             }
            },
            "type": "barpolar"
           }
          ],
          "carpet": [
           {
            "aaxis": {
             "endlinecolor": "#2a3f5f",
             "gridcolor": "white",
             "linecolor": "white",
             "minorgridcolor": "white",
             "startlinecolor": "#2a3f5f"
            },
            "baxis": {
             "endlinecolor": "#2a3f5f",
             "gridcolor": "white",
             "linecolor": "white",
             "minorgridcolor": "white",
             "startlinecolor": "#2a3f5f"
            },
            "type": "carpet"
           }
          ],
          "choropleth": [
           {
            "colorbar": {
             "outlinewidth": 0,
             "ticks": ""
            },
            "type": "choropleth"
           }
          ],
          "contour": [
           {
            "colorbar": {
             "outlinewidth": 0,
             "ticks": ""
            },
            "colorscale": [
             [
              0,
              "#0d0887"
             ],
             [
              0.1111111111111111,
              "#46039f"
             ],
             [
              0.2222222222222222,
              "#7201a8"
             ],
             [
              0.3333333333333333,
              "#9c179e"
             ],
             [
              0.4444444444444444,
              "#bd3786"
             ],
             [
              0.5555555555555556,
              "#d8576b"
             ],
             [
              0.6666666666666666,
              "#ed7953"
             ],
             [
              0.7777777777777778,
              "#fb9f3a"
             ],
             [
              0.8888888888888888,
              "#fdca26"
             ],
             [
              1,
              "#f0f921"
             ]
            ],
            "type": "contour"
           }
          ],
          "contourcarpet": [
           {
            "colorbar": {
             "outlinewidth": 0,
             "ticks": ""
            },
            "type": "contourcarpet"
           }
          ],
          "heatmap": [
           {
            "colorbar": {
             "outlinewidth": 0,
             "ticks": ""
            },
            "colorscale": [
             [
              0,
              "#0d0887"
             ],
             [
              0.1111111111111111,
              "#46039f"
             ],
             [
              0.2222222222222222,
              "#7201a8"
             ],
             [
              0.3333333333333333,
              "#9c179e"
             ],
             [
              0.4444444444444444,
              "#bd3786"
             ],
             [
              0.5555555555555556,
              "#d8576b"
             ],
             [
              0.6666666666666666,
              "#ed7953"
             ],
             [
              0.7777777777777778,
              "#fb9f3a"
             ],
             [
              0.8888888888888888,
              "#fdca26"
             ],
             [
              1,
              "#f0f921"
             ]
            ],
            "type": "heatmap"
           }
          ],
          "heatmapgl": [
           {
            "colorbar": {
             "outlinewidth": 0,
             "ticks": ""
            },
            "colorscale": [
             [
              0,
              "#0d0887"
             ],
             [
              0.1111111111111111,
              "#46039f"
             ],
             [
              0.2222222222222222,
              "#7201a8"
             ],
             [
              0.3333333333333333,
              "#9c179e"
             ],
             [
              0.4444444444444444,
              "#bd3786"
             ],
             [
              0.5555555555555556,
              "#d8576b"
             ],
             [
              0.6666666666666666,
              "#ed7953"
             ],
             [
              0.7777777777777778,
              "#fb9f3a"
             ],
             [
              0.8888888888888888,
              "#fdca26"
             ],
             [
              1,
              "#f0f921"
             ]
            ],
            "type": "heatmapgl"
           }
          ],
          "histogram": [
           {
            "marker": {
             "pattern": {
              "fillmode": "overlay",
              "size": 10,
              "solidity": 0.2
             }
            },
            "type": "histogram"
           }
          ],
          "histogram2d": [
           {
            "colorbar": {
             "outlinewidth": 0,
             "ticks": ""
            },
            "colorscale": [
             [
              0,
              "#0d0887"
             ],
             [
              0.1111111111111111,
              "#46039f"
             ],
             [
              0.2222222222222222,
              "#7201a8"
             ],
             [
              0.3333333333333333,
              "#9c179e"
             ],
             [
              0.4444444444444444,
              "#bd3786"
             ],
             [
              0.5555555555555556,
              "#d8576b"
             ],
             [
              0.6666666666666666,
              "#ed7953"
             ],
             [
              0.7777777777777778,
              "#fb9f3a"
             ],
             [
              0.8888888888888888,
              "#fdca26"
             ],
             [
              1,
              "#f0f921"
             ]
            ],
            "type": "histogram2d"
           }
          ],
          "histogram2dcontour": [
           {
            "colorbar": {
             "outlinewidth": 0,
             "ticks": ""
            },
            "colorscale": [
             [
              0,
              "#0d0887"
             ],
             [
              0.1111111111111111,
              "#46039f"
             ],
             [
              0.2222222222222222,
              "#7201a8"
             ],
             [
              0.3333333333333333,
              "#9c179e"
             ],
             [
              0.4444444444444444,
              "#bd3786"
             ],
             [
              0.5555555555555556,
              "#d8576b"
             ],
             [
              0.6666666666666666,
              "#ed7953"
             ],
             [
              0.7777777777777778,
              "#fb9f3a"
             ],
             [
              0.8888888888888888,
              "#fdca26"
             ],
             [
              1,
              "#f0f921"
             ]
            ],
            "type": "histogram2dcontour"
           }
          ],
          "mesh3d": [
           {
            "colorbar": {
             "outlinewidth": 0,
             "ticks": ""
            },
            "type": "mesh3d"
           }
          ],
          "parcoords": [
           {
            "line": {
             "colorbar": {
              "outlinewidth": 0,
              "ticks": ""
             }
            },
            "type": "parcoords"
           }
          ],
          "pie": [
           {
            "automargin": true,
            "type": "pie"
           }
          ],
          "scatter": [
           {
            "fillpattern": {
             "fillmode": "overlay",
             "size": 10,
             "solidity": 0.2
            },
            "type": "scatter"
           }
          ],
          "scatter3d": [
           {
            "line": {
             "colorbar": {
              "outlinewidth": 0,
              "ticks": ""
             }
            },
            "marker": {
             "colorbar": {
              "outlinewidth": 0,
              "ticks": ""
             }
            },
            "type": "scatter3d"
           }
          ],
          "scattercarpet": [
           {
            "marker": {
             "colorbar": {
              "outlinewidth": 0,
              "ticks": ""
             }
            },
            "type": "scattercarpet"
           }
          ],
          "scattergeo": [
           {
            "marker": {
             "colorbar": {
              "outlinewidth": 0,
              "ticks": ""
             }
            },
            "type": "scattergeo"
           }
          ],
          "scattergl": [
           {
            "marker": {
             "colorbar": {
              "outlinewidth": 0,
              "ticks": ""
             }
            },
            "type": "scattergl"
           }
          ],
          "scattermapbox": [
           {
            "marker": {
             "colorbar": {
              "outlinewidth": 0,
              "ticks": ""
             }
            },
            "type": "scattermapbox"
           }
          ],
          "scatterpolar": [
           {
            "marker": {
             "colorbar": {
              "outlinewidth": 0,
              "ticks": ""
             }
            },
            "type": "scatterpolar"
           }
          ],
          "scatterpolargl": [
           {
            "marker": {
             "colorbar": {
              "outlinewidth": 0,
              "ticks": ""
             }
            },
            "type": "scatterpolargl"
           }
          ],
          "scatterternary": [
           {
            "marker": {
             "colorbar": {
              "outlinewidth": 0,
              "ticks": ""
             }
            },
            "type": "scatterternary"
           }
          ],
          "surface": [
           {
            "colorbar": {
             "outlinewidth": 0,
             "ticks": ""
            },
            "colorscale": [
             [
              0,
              "#0d0887"
             ],
             [
              0.1111111111111111,
              "#46039f"
             ],
             [
              0.2222222222222222,
              "#7201a8"
             ],
             [
              0.3333333333333333,
              "#9c179e"
             ],
             [
              0.4444444444444444,
              "#bd3786"
             ],
             [
              0.5555555555555556,
              "#d8576b"
             ],
             [
              0.6666666666666666,
              "#ed7953"
             ],
             [
              0.7777777777777778,
              "#fb9f3a"
             ],
             [
              0.8888888888888888,
              "#fdca26"
             ],
             [
              1,
              "#f0f921"
             ]
            ],
            "type": "surface"
           }
          ],
          "table": [
           {
            "cells": {
             "fill": {
              "color": "#EBF0F8"
             },
             "line": {
              "color": "white"
             }
            },
            "header": {
             "fill": {
              "color": "#C8D4E3"
             },
             "line": {
              "color": "white"
             }
            },
            "type": "table"
           }
          ]
         },
         "layout": {
          "annotationdefaults": {
           "arrowcolor": "#2a3f5f",
           "arrowhead": 0,
           "arrowwidth": 1
          },
          "autotypenumbers": "strict",
          "coloraxis": {
           "colorbar": {
            "outlinewidth": 0,
            "ticks": ""
           }
          },
          "colorscale": {
           "diverging": [
            [
             0,
             "#8e0152"
            ],
            [
             0.1,
             "#c51b7d"
            ],
            [
             0.2,
             "#de77ae"
            ],
            [
             0.3,
             "#f1b6da"
            ],
            [
             0.4,
             "#fde0ef"
            ],
            [
             0.5,
             "#f7f7f7"
            ],
            [
             0.6,
             "#e6f5d0"
            ],
            [
             0.7,
             "#b8e186"
            ],
            [
             0.8,
             "#7fbc41"
            ],
            [
             0.9,
             "#4d9221"
            ],
            [
             1,
             "#276419"
            ]
           ],
           "sequential": [
            [
             0,
             "#0d0887"
            ],
            [
             0.1111111111111111,
             "#46039f"
            ],
            [
             0.2222222222222222,
             "#7201a8"
            ],
            [
             0.3333333333333333,
             "#9c179e"
            ],
            [
             0.4444444444444444,
             "#bd3786"
            ],
            [
             0.5555555555555556,
             "#d8576b"
            ],
            [
             0.6666666666666666,
             "#ed7953"
            ],
            [
             0.7777777777777778,
             "#fb9f3a"
            ],
            [
             0.8888888888888888,
             "#fdca26"
            ],
            [
             1,
             "#f0f921"
            ]
           ],
           "sequentialminus": [
            [
             0,
             "#0d0887"
            ],
            [
             0.1111111111111111,
             "#46039f"
            ],
            [
             0.2222222222222222,
             "#7201a8"
            ],
            [
             0.3333333333333333,
             "#9c179e"
            ],
            [
             0.4444444444444444,
             "#bd3786"
            ],
            [
             0.5555555555555556,
             "#d8576b"
            ],
            [
             0.6666666666666666,
             "#ed7953"
            ],
            [
             0.7777777777777778,
             "#fb9f3a"
            ],
            [
             0.8888888888888888,
             "#fdca26"
            ],
            [
             1,
             "#f0f921"
            ]
           ]
          },
          "colorway": [
           "#636efa",
           "#EF553B",
           "#00cc96",
           "#ab63fa",
           "#FFA15A",
           "#19d3f3",
           "#FF6692",
           "#B6E880",
           "#FF97FF",
           "#FECB52"
          ],
          "font": {
           "color": "#2a3f5f"
          },
          "geo": {
           "bgcolor": "white",
           "lakecolor": "white",
           "landcolor": "#E5ECF6",
           "showlakes": true,
           "showland": true,
           "subunitcolor": "white"
          },
          "hoverlabel": {
           "align": "left"
          },
          "hovermode": "closest",
          "mapbox": {
           "style": "light"
          },
          "paper_bgcolor": "white",
          "plot_bgcolor": "#E5ECF6",
          "polar": {
           "angularaxis": {
            "gridcolor": "white",
            "linecolor": "white",
            "ticks": ""
           },
           "bgcolor": "#E5ECF6",
           "radialaxis": {
            "gridcolor": "white",
            "linecolor": "white",
            "ticks": ""
           }
          },
          "scene": {
           "xaxis": {
            "backgroundcolor": "#E5ECF6",
            "gridcolor": "white",
            "gridwidth": 2,
            "linecolor": "white",
            "showbackground": true,
            "ticks": "",
            "zerolinecolor": "white"
           },
           "yaxis": {
            "backgroundcolor": "#E5ECF6",
            "gridcolor": "white",
            "gridwidth": 2,
            "linecolor": "white",
            "showbackground": true,
            "ticks": "",
            "zerolinecolor": "white"
           },
           "zaxis": {
            "backgroundcolor": "#E5ECF6",
            "gridcolor": "white",
            "gridwidth": 2,
            "linecolor": "white",
            "showbackground": true,
            "ticks": "",
            "zerolinecolor": "white"
           }
          },
          "shapedefaults": {
           "line": {
            "color": "#2a3f5f"
           }
          },
          "ternary": {
           "aaxis": {
            "gridcolor": "white",
            "linecolor": "white",
            "ticks": ""
           },
           "baxis": {
            "gridcolor": "white",
            "linecolor": "white",
            "ticks": ""
           },
           "bgcolor": "#E5ECF6",
           "caxis": {
            "gridcolor": "white",
            "linecolor": "white",
            "ticks": ""
           }
          },
          "title": {
           "x": 0.05
          },
          "xaxis": {
           "automargin": true,
           "gridcolor": "white",
           "linecolor": "white",
           "ticks": "",
           "title": {
            "standoff": 15
           },
           "zerolinecolor": "white",
           "zerolinewidth": 2
          },
          "yaxis": {
           "automargin": true,
           "gridcolor": "white",
           "linecolor": "white",
           "ticks": "",
           "title": {
            "standoff": 15
           },
           "zerolinecolor": "white",
           "zerolinewidth": 2
          }
         }
        }
       }
      }
     },
     "metadata": {},
     "output_type": "display_data"
    },
    {
     "name": "stdout",
     "output_type": "stream",
     "text": [
      "################ 2 ################\n",
      "[ 5  8 10 17 18 24 37 38 44 45 58 59 66 72 73 79]\n"
     ]
    },
    {
     "data": {
      "application/vnd.plotly.v1+json": {
       "config": {
        "plotlyServerURL": "https://plot.ly"
       },
       "data": [
        {
         "mode": "lines+markers",
         "type": "scatter",
         "x": [
          "2024-04-08T08:00:00.000000000",
          "2024-04-08T08:15:00.000000000",
          "2024-04-08T08:30:00.000000000",
          "2024-04-08T08:45:00.000000000",
          "2024-04-08T09:00:00.000000000",
          "2024-04-08T09:15:00.000000000",
          "2024-04-08T09:30:00.000000000",
          "2024-04-08T09:45:00.000000000",
          "2024-04-08T10:00:00.000000000",
          "2024-04-08T10:15:00.000000000",
          "2024-04-08T10:30:00.000000000",
          "2024-04-08T10:45:00.000000000",
          "2024-04-08T11:00:00.000000000",
          "2024-04-08T11:15:00.000000000",
          "2024-04-08T11:30:00.000000000",
          "2024-04-08T11:45:00.000000000",
          "2024-04-08T12:00:00.000000000",
          "2024-04-08T12:15:00.000000000",
          "2024-04-08T12:30:00.000000000",
          "2024-04-08T12:45:00.000000000",
          "2024-04-08T13:00:00.000000000",
          "2024-04-08T13:15:00.000000000",
          "2024-04-08T13:30:00.000000000",
          "2024-04-08T13:45:00.000000000",
          "2024-04-08T14:00:00.000000000",
          "2024-04-08T14:15:00.000000000",
          "2024-04-08T14:30:00.000000000",
          "2024-04-08T14:45:00.000000000",
          "2024-04-08T15:00:00.000000000",
          "2024-04-08T15:15:00.000000000",
          "2024-04-08T15:30:00.000000000",
          "2024-04-08T15:45:00.000000000",
          "2024-04-08T16:00:00.000000000",
          "2024-04-08T16:15:00.000000000",
          "2024-04-08T16:30:00.000000000",
          "2024-04-08T16:45:00.000000000",
          "2024-04-08T17:00:00.000000000",
          "2024-04-08T17:15:00.000000000",
          "2024-04-08T17:30:00.000000000",
          "2024-04-08T17:45:00.000000000",
          "2024-04-08T18:00:00.000000000",
          "2024-04-08T18:15:00.000000000",
          "2024-04-08T18:30:00.000000000",
          "2024-04-08T18:45:00.000000000",
          "2024-04-08T19:00:00.000000000",
          "2024-04-08T19:15:00.000000000",
          "2024-04-08T19:30:00.000000000",
          "2024-04-08T19:45:00.000000000",
          "2024-04-08T20:00:00.000000000"
         ],
         "y": [
          4,
          27,
          10,
          3,
          2,
          2,
          2,
          6,
          22,
          1,
          0,
          2,
          2,
          16,
          2,
          1,
          0,
          0,
          0,
          0,
          0,
          0,
          0,
          0,
          0,
          0,
          0,
          0,
          0,
          0,
          0,
          0,
          0,
          0,
          0,
          0,
          0,
          0,
          0,
          0,
          0,
          0,
          0,
          0,
          0,
          0,
          0,
          0,
          0
         ]
        },
        {
         "mode": "lines+markers",
         "type": "scatter",
         "x": [
          "2024-04-08T08:00:00.000000000",
          "2024-04-08T08:15:00.000000000",
          "2024-04-08T08:30:00.000000000",
          "2024-04-08T08:45:00.000000000",
          "2024-04-08T09:00:00.000000000",
          "2024-04-08T09:15:00.000000000",
          "2024-04-08T09:30:00.000000000",
          "2024-04-08T09:45:00.000000000",
          "2024-04-08T10:00:00.000000000",
          "2024-04-08T10:15:00.000000000",
          "2024-04-08T10:30:00.000000000",
          "2024-04-08T10:45:00.000000000",
          "2024-04-08T11:00:00.000000000",
          "2024-04-08T11:15:00.000000000",
          "2024-04-08T11:30:00.000000000",
          "2024-04-08T11:45:00.000000000",
          "2024-04-08T12:00:00.000000000",
          "2024-04-08T12:15:00.000000000",
          "2024-04-08T12:30:00.000000000",
          "2024-04-08T12:45:00.000000000",
          "2024-04-08T13:00:00.000000000",
          "2024-04-08T13:15:00.000000000",
          "2024-04-08T13:30:00.000000000",
          "2024-04-08T13:45:00.000000000",
          "2024-04-08T14:00:00.000000000",
          "2024-04-08T14:15:00.000000000",
          "2024-04-08T14:30:00.000000000",
          "2024-04-08T14:45:00.000000000",
          "2024-04-08T15:00:00.000000000",
          "2024-04-08T15:15:00.000000000",
          "2024-04-08T15:30:00.000000000",
          "2024-04-08T15:45:00.000000000",
          "2024-04-08T16:00:00.000000000",
          "2024-04-08T16:15:00.000000000",
          "2024-04-08T16:30:00.000000000",
          "2024-04-08T16:45:00.000000000",
          "2024-04-08T17:00:00.000000000",
          "2024-04-08T17:15:00.000000000",
          "2024-04-08T17:30:00.000000000",
          "2024-04-08T17:45:00.000000000",
          "2024-04-08T18:00:00.000000000",
          "2024-04-08T18:15:00.000000000",
          "2024-04-08T18:30:00.000000000",
          "2024-04-08T18:45:00.000000000",
          "2024-04-08T19:00:00.000000000",
          "2024-04-08T19:15:00.000000000",
          "2024-04-08T19:30:00.000000000",
          "2024-04-08T19:45:00.000000000",
          "2024-04-08T20:00:00.000000000"
         ],
         "y": [
          4,
          23,
          9,
          2,
          3,
          1,
          1,
          0,
          51,
          9,
          0,
          0,
          4,
          1,
          0,
          5,
          0,
          0,
          0,
          0,
          0,
          0,
          14,
          11,
          1,
          0,
          0,
          2,
          1,
          17,
          2,
          1,
          0,
          0,
          0,
          1,
          0,
          0,
          0,
          0,
          0,
          0,
          0,
          0,
          1,
          0,
          0,
          0,
          0
         ]
        },
        {
         "mode": "lines+markers",
         "type": "scatter",
         "x": [
          "2024-04-08T08:00:00.000000000",
          "2024-04-08T08:15:00.000000000",
          "2024-04-08T08:30:00.000000000",
          "2024-04-08T08:45:00.000000000",
          "2024-04-08T09:00:00.000000000",
          "2024-04-08T09:15:00.000000000",
          "2024-04-08T09:30:00.000000000",
          "2024-04-08T09:45:00.000000000",
          "2024-04-08T10:00:00.000000000",
          "2024-04-08T10:15:00.000000000",
          "2024-04-08T10:30:00.000000000",
          "2024-04-08T10:45:00.000000000",
          "2024-04-08T11:00:00.000000000",
          "2024-04-08T11:15:00.000000000",
          "2024-04-08T11:30:00.000000000",
          "2024-04-08T11:45:00.000000000",
          "2024-04-08T12:00:00.000000000",
          "2024-04-08T12:15:00.000000000",
          "2024-04-08T12:30:00.000000000",
          "2024-04-08T12:45:00.000000000",
          "2024-04-08T13:00:00.000000000",
          "2024-04-08T13:15:00.000000000",
          "2024-04-08T13:30:00.000000000",
          "2024-04-08T13:45:00.000000000",
          "2024-04-08T14:00:00.000000000",
          "2024-04-08T14:15:00.000000000",
          "2024-04-08T14:30:00.000000000",
          "2024-04-08T14:45:00.000000000",
          "2024-04-08T15:00:00.000000000",
          "2024-04-08T15:15:00.000000000",
          "2024-04-08T15:30:00.000000000",
          "2024-04-08T15:45:00.000000000",
          "2024-04-08T16:00:00.000000000",
          "2024-04-08T16:15:00.000000000",
          "2024-04-08T16:30:00.000000000",
          "2024-04-08T16:45:00.000000000",
          "2024-04-08T17:00:00.000000000",
          "2024-04-08T17:15:00.000000000",
          "2024-04-08T17:30:00.000000000",
          "2024-04-08T17:45:00.000000000",
          "2024-04-08T18:00:00.000000000",
          "2024-04-08T18:15:00.000000000",
          "2024-04-08T18:30:00.000000000",
          "2024-04-08T18:45:00.000000000",
          "2024-04-08T19:00:00.000000000",
          "2024-04-08T19:15:00.000000000",
          "2024-04-08T19:30:00.000000000",
          "2024-04-08T19:45:00.000000000",
          "2024-04-08T20:00:00.000000000"
         ],
         "y": [
          7,
          17,
          2,
          1,
          0,
          2,
          0,
          0,
          38,
          4,
          0,
          0,
          0,
          0,
          0,
          7,
          0,
          0,
          0,
          0,
          0,
          1,
          19,
          1,
          0,
          0,
          0,
          0,
          0,
          0,
          0,
          2,
          0,
          0,
          0,
          0,
          10,
          0,
          0,
          1,
          2,
          0,
          15,
          18,
          0,
          0,
          3,
          0,
          0
         ]
        },
        {
         "mode": "lines+markers",
         "type": "scatter",
         "x": [
          "2024-04-08T08:00:00.000000000",
          "2024-04-08T08:15:00.000000000",
          "2024-04-08T08:30:00.000000000",
          "2024-04-08T08:45:00.000000000",
          "2024-04-08T09:00:00.000000000",
          "2024-04-08T09:15:00.000000000",
          "2024-04-08T09:30:00.000000000",
          "2024-04-08T09:45:00.000000000",
          "2024-04-08T10:00:00.000000000",
          "2024-04-08T10:15:00.000000000",
          "2024-04-08T10:30:00.000000000",
          "2024-04-08T10:45:00.000000000",
          "2024-04-08T11:00:00.000000000",
          "2024-04-08T11:15:00.000000000",
          "2024-04-08T11:30:00.000000000",
          "2024-04-08T11:45:00.000000000",
          "2024-04-08T12:00:00.000000000",
          "2024-04-08T12:15:00.000000000",
          "2024-04-08T12:30:00.000000000",
          "2024-04-08T12:45:00.000000000",
          "2024-04-08T13:00:00.000000000",
          "2024-04-08T13:15:00.000000000",
          "2024-04-08T13:30:00.000000000",
          "2024-04-08T13:45:00.000000000",
          "2024-04-08T14:00:00.000000000",
          "2024-04-08T14:15:00.000000000",
          "2024-04-08T14:30:00.000000000",
          "2024-04-08T14:45:00.000000000",
          "2024-04-08T15:00:00.000000000",
          "2024-04-08T15:15:00.000000000",
          "2024-04-08T15:30:00.000000000",
          "2024-04-08T15:45:00.000000000",
          "2024-04-08T16:00:00.000000000",
          "2024-04-08T16:15:00.000000000",
          "2024-04-08T16:30:00.000000000",
          "2024-04-08T16:45:00.000000000",
          "2024-04-08T17:00:00.000000000",
          "2024-04-08T17:15:00.000000000",
          "2024-04-08T17:30:00.000000000",
          "2024-04-08T17:45:00.000000000",
          "2024-04-08T18:00:00.000000000",
          "2024-04-08T18:15:00.000000000",
          "2024-04-08T18:30:00.000000000",
          "2024-04-08T18:45:00.000000000",
          "2024-04-08T19:00:00.000000000",
          "2024-04-08T19:15:00.000000000",
          "2024-04-08T19:30:00.000000000",
          "2024-04-08T19:45:00.000000000",
          "2024-04-08T20:00:00.000000000"
         ],
         "y": [
          6,
          14,
          5,
          1,
          1,
          1,
          0,
          0,
          42,
          6,
          1,
          4,
          1,
          2,
          0,
          4,
          0,
          0,
          1,
          0,
          0,
          5,
          9,
          2,
          0,
          0,
          0,
          1,
          0,
          0,
          0,
          0,
          0,
          0,
          0,
          0,
          0,
          0,
          0,
          0,
          0,
          0,
          0,
          0,
          2,
          0,
          0,
          0,
          0
         ]
        },
        {
         "mode": "lines+markers",
         "type": "scatter",
         "x": [
          "2024-04-08T08:00:00.000000000",
          "2024-04-08T08:15:00.000000000",
          "2024-04-08T08:30:00.000000000",
          "2024-04-08T08:45:00.000000000",
          "2024-04-08T09:00:00.000000000",
          "2024-04-08T09:15:00.000000000",
          "2024-04-08T09:30:00.000000000",
          "2024-04-08T09:45:00.000000000",
          "2024-04-08T10:00:00.000000000",
          "2024-04-08T10:15:00.000000000",
          "2024-04-08T10:30:00.000000000",
          "2024-04-08T10:45:00.000000000",
          "2024-04-08T11:00:00.000000000",
          "2024-04-08T11:15:00.000000000",
          "2024-04-08T11:30:00.000000000",
          "2024-04-08T11:45:00.000000000",
          "2024-04-08T12:00:00.000000000",
          "2024-04-08T12:15:00.000000000",
          "2024-04-08T12:30:00.000000000",
          "2024-04-08T12:45:00.000000000",
          "2024-04-08T13:00:00.000000000",
          "2024-04-08T13:15:00.000000000",
          "2024-04-08T13:30:00.000000000",
          "2024-04-08T13:45:00.000000000",
          "2024-04-08T14:00:00.000000000",
          "2024-04-08T14:15:00.000000000",
          "2024-04-08T14:30:00.000000000",
          "2024-04-08T14:45:00.000000000",
          "2024-04-08T15:00:00.000000000",
          "2024-04-08T15:15:00.000000000",
          "2024-04-08T15:30:00.000000000",
          "2024-04-08T15:45:00.000000000",
          "2024-04-08T16:00:00.000000000",
          "2024-04-08T16:15:00.000000000",
          "2024-04-08T16:30:00.000000000",
          "2024-04-08T16:45:00.000000000",
          "2024-04-08T17:00:00.000000000",
          "2024-04-08T17:15:00.000000000",
          "2024-04-08T17:30:00.000000000",
          "2024-04-08T17:45:00.000000000",
          "2024-04-08T18:00:00.000000000",
          "2024-04-08T18:15:00.000000000",
          "2024-04-08T18:30:00.000000000",
          "2024-04-08T18:45:00.000000000",
          "2024-04-08T19:00:00.000000000",
          "2024-04-08T19:15:00.000000000",
          "2024-04-08T19:30:00.000000000",
          "2024-04-08T19:45:00.000000000",
          "2024-04-08T20:00:00.000000000"
         ],
         "y": [
          10,
          16,
          2,
          0,
          0,
          0,
          0,
          0,
          24,
          0,
          0,
          0,
          0,
          0,
          1,
          0,
          0,
          2,
          0,
          0,
          0,
          0,
          0,
          0,
          0,
          0,
          0,
          0,
          0,
          0,
          0,
          0,
          0,
          0,
          0,
          0,
          0,
          0,
          0,
          0,
          0,
          0,
          0,
          0,
          0,
          0,
          0,
          0,
          0
         ]
        },
        {
         "mode": "lines+markers",
         "type": "scatter",
         "x": [
          "2024-04-08T08:00:00.000000000",
          "2024-04-08T08:15:00.000000000",
          "2024-04-08T08:30:00.000000000",
          "2024-04-08T08:45:00.000000000",
          "2024-04-08T09:00:00.000000000",
          "2024-04-08T09:15:00.000000000",
          "2024-04-08T09:30:00.000000000",
          "2024-04-08T09:45:00.000000000",
          "2024-04-08T10:00:00.000000000",
          "2024-04-08T10:15:00.000000000",
          "2024-04-08T10:30:00.000000000",
          "2024-04-08T10:45:00.000000000",
          "2024-04-08T11:00:00.000000000",
          "2024-04-08T11:15:00.000000000",
          "2024-04-08T11:30:00.000000000",
          "2024-04-08T11:45:00.000000000",
          "2024-04-08T12:00:00.000000000",
          "2024-04-08T12:15:00.000000000",
          "2024-04-08T12:30:00.000000000",
          "2024-04-08T12:45:00.000000000",
          "2024-04-08T13:00:00.000000000",
          "2024-04-08T13:15:00.000000000",
          "2024-04-08T13:30:00.000000000",
          "2024-04-08T13:45:00.000000000",
          "2024-04-08T14:00:00.000000000",
          "2024-04-08T14:15:00.000000000",
          "2024-04-08T14:30:00.000000000",
          "2024-04-08T14:45:00.000000000",
          "2024-04-08T15:00:00.000000000",
          "2024-04-08T15:15:00.000000000",
          "2024-04-08T15:30:00.000000000",
          "2024-04-08T15:45:00.000000000",
          "2024-04-08T16:00:00.000000000",
          "2024-04-08T16:15:00.000000000",
          "2024-04-08T16:30:00.000000000",
          "2024-04-08T16:45:00.000000000",
          "2024-04-08T17:00:00.000000000",
          "2024-04-08T17:15:00.000000000",
          "2024-04-08T17:30:00.000000000",
          "2024-04-08T17:45:00.000000000",
          "2024-04-08T18:00:00.000000000",
          "2024-04-08T18:15:00.000000000",
          "2024-04-08T18:30:00.000000000",
          "2024-04-08T18:45:00.000000000",
          "2024-04-08T19:00:00.000000000",
          "2024-04-08T19:15:00.000000000",
          "2024-04-08T19:30:00.000000000",
          "2024-04-08T19:45:00.000000000",
          "2024-04-08T20:00:00.000000000"
         ],
         "y": [
          5,
          20,
          3,
          2,
          0,
          0,
          0,
          0,
          30,
          6,
          1,
          0,
          0,
          0,
          1,
          5,
          1,
          0,
          0,
          0,
          0,
          1,
          6,
          1,
          0,
          1,
          0,
          0,
          0,
          0,
          0,
          0,
          0,
          0,
          0,
          0,
          0,
          0,
          0,
          0,
          0,
          0,
          0,
          0,
          0,
          0,
          0,
          1,
          0
         ]
        },
        {
         "mode": "lines+markers",
         "type": "scatter",
         "x": [
          "2024-04-08T08:00:00.000000000",
          "2024-04-08T08:15:00.000000000",
          "2024-04-08T08:30:00.000000000",
          "2024-04-08T08:45:00.000000000",
          "2024-04-08T09:00:00.000000000",
          "2024-04-08T09:15:00.000000000",
          "2024-04-08T09:30:00.000000000",
          "2024-04-08T09:45:00.000000000",
          "2024-04-08T10:00:00.000000000",
          "2024-04-08T10:15:00.000000000",
          "2024-04-08T10:30:00.000000000",
          "2024-04-08T10:45:00.000000000",
          "2024-04-08T11:00:00.000000000",
          "2024-04-08T11:15:00.000000000",
          "2024-04-08T11:30:00.000000000",
          "2024-04-08T11:45:00.000000000",
          "2024-04-08T12:00:00.000000000",
          "2024-04-08T12:15:00.000000000",
          "2024-04-08T12:30:00.000000000",
          "2024-04-08T12:45:00.000000000",
          "2024-04-08T13:00:00.000000000",
          "2024-04-08T13:15:00.000000000",
          "2024-04-08T13:30:00.000000000",
          "2024-04-08T13:45:00.000000000",
          "2024-04-08T14:00:00.000000000",
          "2024-04-08T14:15:00.000000000",
          "2024-04-08T14:30:00.000000000",
          "2024-04-08T14:45:00.000000000",
          "2024-04-08T15:00:00.000000000",
          "2024-04-08T15:15:00.000000000",
          "2024-04-08T15:30:00.000000000",
          "2024-04-08T15:45:00.000000000",
          "2024-04-08T16:00:00.000000000",
          "2024-04-08T16:15:00.000000000",
          "2024-04-08T16:30:00.000000000",
          "2024-04-08T16:45:00.000000000",
          "2024-04-08T17:00:00.000000000",
          "2024-04-08T17:15:00.000000000",
          "2024-04-08T17:30:00.000000000",
          "2024-04-08T17:45:00.000000000",
          "2024-04-08T18:00:00.000000000",
          "2024-04-08T18:15:00.000000000",
          "2024-04-08T18:30:00.000000000",
          "2024-04-08T18:45:00.000000000",
          "2024-04-08T19:00:00.000000000",
          "2024-04-08T19:15:00.000000000",
          "2024-04-08T19:30:00.000000000",
          "2024-04-08T19:45:00.000000000",
          "2024-04-08T20:00:00.000000000"
         ],
         "y": [
          7,
          8,
          3,
          2,
          2,
          0,
          0,
          0,
          41,
          6,
          0,
          1,
          0,
          0,
          0,
          7,
          0,
          0,
          0,
          0,
          0,
          1,
          18,
          2,
          0,
          1,
          0,
          0,
          3,
          9,
          1,
          1,
          0,
          0,
          0,
          1,
          5,
          0,
          0,
          0,
          0,
          0,
          0,
          0,
          0,
          0,
          0,
          3,
          0
         ]
        },
        {
         "mode": "lines+markers",
         "type": "scatter",
         "x": [
          "2024-04-08T08:00:00.000000000",
          "2024-04-08T08:15:00.000000000",
          "2024-04-08T08:30:00.000000000",
          "2024-04-08T08:45:00.000000000",
          "2024-04-08T09:00:00.000000000",
          "2024-04-08T09:15:00.000000000",
          "2024-04-08T09:30:00.000000000",
          "2024-04-08T09:45:00.000000000",
          "2024-04-08T10:00:00.000000000",
          "2024-04-08T10:15:00.000000000",
          "2024-04-08T10:30:00.000000000",
          "2024-04-08T10:45:00.000000000",
          "2024-04-08T11:00:00.000000000",
          "2024-04-08T11:15:00.000000000",
          "2024-04-08T11:30:00.000000000",
          "2024-04-08T11:45:00.000000000",
          "2024-04-08T12:00:00.000000000",
          "2024-04-08T12:15:00.000000000",
          "2024-04-08T12:30:00.000000000",
          "2024-04-08T12:45:00.000000000",
          "2024-04-08T13:00:00.000000000",
          "2024-04-08T13:15:00.000000000",
          "2024-04-08T13:30:00.000000000",
          "2024-04-08T13:45:00.000000000",
          "2024-04-08T14:00:00.000000000",
          "2024-04-08T14:15:00.000000000",
          "2024-04-08T14:30:00.000000000",
          "2024-04-08T14:45:00.000000000",
          "2024-04-08T15:00:00.000000000",
          "2024-04-08T15:15:00.000000000",
          "2024-04-08T15:30:00.000000000",
          "2024-04-08T15:45:00.000000000",
          "2024-04-08T16:00:00.000000000",
          "2024-04-08T16:15:00.000000000",
          "2024-04-08T16:30:00.000000000",
          "2024-04-08T16:45:00.000000000",
          "2024-04-08T17:00:00.000000000",
          "2024-04-08T17:15:00.000000000",
          "2024-04-08T17:30:00.000000000",
          "2024-04-08T17:45:00.000000000",
          "2024-04-08T18:00:00.000000000",
          "2024-04-08T18:15:00.000000000",
          "2024-04-08T18:30:00.000000000",
          "2024-04-08T18:45:00.000000000",
          "2024-04-08T19:00:00.000000000",
          "2024-04-08T19:15:00.000000000",
          "2024-04-08T19:30:00.000000000",
          "2024-04-08T19:45:00.000000000",
          "2024-04-08T20:00:00.000000000"
         ],
         "y": [
          3,
          15,
          6,
          1,
          1,
          3,
          0,
          0,
          25,
          3,
          0,
          0,
          1,
          0,
          1,
          5,
          1,
          0,
          0,
          0,
          0,
          1,
          12,
          3,
          0,
          0,
          1,
          1,
          0,
          0,
          0,
          0,
          0,
          0,
          0,
          0,
          0,
          0,
          0,
          0,
          0,
          0,
          0,
          0,
          1,
          0,
          0,
          0,
          0
         ]
        },
        {
         "mode": "lines+markers",
         "type": "scatter",
         "x": [
          "2024-04-08T08:00:00.000000000",
          "2024-04-08T08:15:00.000000000",
          "2024-04-08T08:30:00.000000000",
          "2024-04-08T08:45:00.000000000",
          "2024-04-08T09:00:00.000000000",
          "2024-04-08T09:15:00.000000000",
          "2024-04-08T09:30:00.000000000",
          "2024-04-08T09:45:00.000000000",
          "2024-04-08T10:00:00.000000000",
          "2024-04-08T10:15:00.000000000",
          "2024-04-08T10:30:00.000000000",
          "2024-04-08T10:45:00.000000000",
          "2024-04-08T11:00:00.000000000",
          "2024-04-08T11:15:00.000000000",
          "2024-04-08T11:30:00.000000000",
          "2024-04-08T11:45:00.000000000",
          "2024-04-08T12:00:00.000000000",
          "2024-04-08T12:15:00.000000000",
          "2024-04-08T12:30:00.000000000",
          "2024-04-08T12:45:00.000000000",
          "2024-04-08T13:00:00.000000000",
          "2024-04-08T13:15:00.000000000",
          "2024-04-08T13:30:00.000000000",
          "2024-04-08T13:45:00.000000000",
          "2024-04-08T14:00:00.000000000",
          "2024-04-08T14:15:00.000000000",
          "2024-04-08T14:30:00.000000000",
          "2024-04-08T14:45:00.000000000",
          "2024-04-08T15:00:00.000000000",
          "2024-04-08T15:15:00.000000000",
          "2024-04-08T15:30:00.000000000",
          "2024-04-08T15:45:00.000000000",
          "2024-04-08T16:00:00.000000000",
          "2024-04-08T16:15:00.000000000",
          "2024-04-08T16:30:00.000000000",
          "2024-04-08T16:45:00.000000000",
          "2024-04-08T17:00:00.000000000",
          "2024-04-08T17:15:00.000000000",
          "2024-04-08T17:30:00.000000000",
          "2024-04-08T17:45:00.000000000",
          "2024-04-08T18:00:00.000000000",
          "2024-04-08T18:15:00.000000000",
          "2024-04-08T18:30:00.000000000",
          "2024-04-08T18:45:00.000000000",
          "2024-04-08T19:00:00.000000000",
          "2024-04-08T19:15:00.000000000",
          "2024-04-08T19:30:00.000000000",
          "2024-04-08T19:45:00.000000000",
          "2024-04-08T20:00:00.000000000"
         ],
         "y": [
          2,
          11,
          5,
          3,
          1,
          3,
          0,
          0,
          31,
          8,
          0,
          1,
          1,
          0,
          1,
          1,
          0,
          0,
          0,
          0,
          0,
          0,
          0,
          0,
          0,
          0,
          0,
          0,
          0,
          0,
          0,
          0,
          0,
          0,
          0,
          0,
          2,
          0,
          0,
          0,
          0,
          0,
          0,
          2,
          0,
          0,
          0,
          0,
          0
         ]
        },
        {
         "mode": "lines+markers",
         "type": "scatter",
         "x": [
          "2024-04-08T08:00:00.000000000",
          "2024-04-08T08:15:00.000000000",
          "2024-04-08T08:30:00.000000000",
          "2024-04-08T08:45:00.000000000",
          "2024-04-08T09:00:00.000000000",
          "2024-04-08T09:15:00.000000000",
          "2024-04-08T09:30:00.000000000",
          "2024-04-08T09:45:00.000000000",
          "2024-04-08T10:00:00.000000000",
          "2024-04-08T10:15:00.000000000",
          "2024-04-08T10:30:00.000000000",
          "2024-04-08T10:45:00.000000000",
          "2024-04-08T11:00:00.000000000",
          "2024-04-08T11:15:00.000000000",
          "2024-04-08T11:30:00.000000000",
          "2024-04-08T11:45:00.000000000",
          "2024-04-08T12:00:00.000000000",
          "2024-04-08T12:15:00.000000000",
          "2024-04-08T12:30:00.000000000",
          "2024-04-08T12:45:00.000000000",
          "2024-04-08T13:00:00.000000000",
          "2024-04-08T13:15:00.000000000",
          "2024-04-08T13:30:00.000000000",
          "2024-04-08T13:45:00.000000000",
          "2024-04-08T14:00:00.000000000",
          "2024-04-08T14:15:00.000000000",
          "2024-04-08T14:30:00.000000000",
          "2024-04-08T14:45:00.000000000",
          "2024-04-08T15:00:00.000000000",
          "2024-04-08T15:15:00.000000000",
          "2024-04-08T15:30:00.000000000",
          "2024-04-08T15:45:00.000000000",
          "2024-04-08T16:00:00.000000000",
          "2024-04-08T16:15:00.000000000",
          "2024-04-08T16:30:00.000000000",
          "2024-04-08T16:45:00.000000000",
          "2024-04-08T17:00:00.000000000",
          "2024-04-08T17:15:00.000000000",
          "2024-04-08T17:30:00.000000000",
          "2024-04-08T17:45:00.000000000",
          "2024-04-08T18:00:00.000000000",
          "2024-04-08T18:15:00.000000000",
          "2024-04-08T18:30:00.000000000",
          "2024-04-08T18:45:00.000000000",
          "2024-04-08T19:00:00.000000000",
          "2024-04-08T19:15:00.000000000",
          "2024-04-08T19:30:00.000000000",
          "2024-04-08T19:45:00.000000000",
          "2024-04-08T20:00:00.000000000"
         ],
         "y": [
          4,
          15,
          6,
          2,
          0,
          0,
          0,
          0,
          23,
          2,
          0,
          0,
          0,
          2,
          1,
          3,
          0,
          0,
          0,
          0,
          0,
          0,
          14,
          2,
          0,
          1,
          1,
          0,
          1,
          13,
          0,
          0,
          0,
          0,
          0,
          0,
          0,
          0,
          0,
          0,
          0,
          0,
          3,
          0,
          0,
          0,
          0,
          0,
          2
         ]
        },
        {
         "mode": "lines+markers",
         "type": "scatter",
         "x": [
          "2024-04-08T08:00:00.000000000",
          "2024-04-08T08:15:00.000000000",
          "2024-04-08T08:30:00.000000000",
          "2024-04-08T08:45:00.000000000",
          "2024-04-08T09:00:00.000000000",
          "2024-04-08T09:15:00.000000000",
          "2024-04-08T09:30:00.000000000",
          "2024-04-08T09:45:00.000000000",
          "2024-04-08T10:00:00.000000000",
          "2024-04-08T10:15:00.000000000",
          "2024-04-08T10:30:00.000000000",
          "2024-04-08T10:45:00.000000000",
          "2024-04-08T11:00:00.000000000",
          "2024-04-08T11:15:00.000000000",
          "2024-04-08T11:30:00.000000000",
          "2024-04-08T11:45:00.000000000",
          "2024-04-08T12:00:00.000000000",
          "2024-04-08T12:15:00.000000000",
          "2024-04-08T12:30:00.000000000",
          "2024-04-08T12:45:00.000000000",
          "2024-04-08T13:00:00.000000000",
          "2024-04-08T13:15:00.000000000",
          "2024-04-08T13:30:00.000000000",
          "2024-04-08T13:45:00.000000000",
          "2024-04-08T14:00:00.000000000",
          "2024-04-08T14:15:00.000000000",
          "2024-04-08T14:30:00.000000000",
          "2024-04-08T14:45:00.000000000",
          "2024-04-08T15:00:00.000000000",
          "2024-04-08T15:15:00.000000000",
          "2024-04-08T15:30:00.000000000",
          "2024-04-08T15:45:00.000000000",
          "2024-04-08T16:00:00.000000000",
          "2024-04-08T16:15:00.000000000",
          "2024-04-08T16:30:00.000000000",
          "2024-04-08T16:45:00.000000000",
          "2024-04-08T17:00:00.000000000",
          "2024-04-08T17:15:00.000000000",
          "2024-04-08T17:30:00.000000000",
          "2024-04-08T17:45:00.000000000",
          "2024-04-08T18:00:00.000000000",
          "2024-04-08T18:15:00.000000000",
          "2024-04-08T18:30:00.000000000",
          "2024-04-08T18:45:00.000000000",
          "2024-04-08T19:00:00.000000000",
          "2024-04-08T19:15:00.000000000",
          "2024-04-08T19:30:00.000000000",
          "2024-04-08T19:45:00.000000000",
          "2024-04-08T20:00:00.000000000"
         ],
         "y": [
          4,
          14,
          8,
          1,
          0,
          0,
          0,
          0,
          32,
          5,
          1,
          0,
          0,
          0,
          0,
          6,
          0,
          0,
          0,
          0,
          0,
          0,
          1,
          0,
          0,
          1,
          0,
          0,
          0,
          0,
          0,
          0,
          0,
          0,
          0,
          0,
          1,
          0,
          0,
          0,
          0,
          0,
          0,
          0,
          0,
          0,
          0,
          0,
          2
         ]
        },
        {
         "mode": "lines+markers",
         "type": "scatter",
         "x": [
          "2024-04-08T08:00:00.000000000",
          "2024-04-08T08:15:00.000000000",
          "2024-04-08T08:30:00.000000000",
          "2024-04-08T08:45:00.000000000",
          "2024-04-08T09:00:00.000000000",
          "2024-04-08T09:15:00.000000000",
          "2024-04-08T09:30:00.000000000",
          "2024-04-08T09:45:00.000000000",
          "2024-04-08T10:00:00.000000000",
          "2024-04-08T10:15:00.000000000",
          "2024-04-08T10:30:00.000000000",
          "2024-04-08T10:45:00.000000000",
          "2024-04-08T11:00:00.000000000",
          "2024-04-08T11:15:00.000000000",
          "2024-04-08T11:30:00.000000000",
          "2024-04-08T11:45:00.000000000",
          "2024-04-08T12:00:00.000000000",
          "2024-04-08T12:15:00.000000000",
          "2024-04-08T12:30:00.000000000",
          "2024-04-08T12:45:00.000000000",
          "2024-04-08T13:00:00.000000000",
          "2024-04-08T13:15:00.000000000",
          "2024-04-08T13:30:00.000000000",
          "2024-04-08T13:45:00.000000000",
          "2024-04-08T14:00:00.000000000",
          "2024-04-08T14:15:00.000000000",
          "2024-04-08T14:30:00.000000000",
          "2024-04-08T14:45:00.000000000",
          "2024-04-08T15:00:00.000000000",
          "2024-04-08T15:15:00.000000000",
          "2024-04-08T15:30:00.000000000",
          "2024-04-08T15:45:00.000000000",
          "2024-04-08T16:00:00.000000000",
          "2024-04-08T16:15:00.000000000",
          "2024-04-08T16:30:00.000000000",
          "2024-04-08T16:45:00.000000000",
          "2024-04-08T17:00:00.000000000",
          "2024-04-08T17:15:00.000000000",
          "2024-04-08T17:30:00.000000000",
          "2024-04-08T17:45:00.000000000",
          "2024-04-08T18:00:00.000000000",
          "2024-04-08T18:15:00.000000000",
          "2024-04-08T18:30:00.000000000",
          "2024-04-08T18:45:00.000000000",
          "2024-04-08T19:00:00.000000000",
          "2024-04-08T19:15:00.000000000",
          "2024-04-08T19:30:00.000000000",
          "2024-04-08T19:45:00.000000000",
          "2024-04-08T20:00:00.000000000"
         ],
         "y": [
          6,
          20,
          8,
          1,
          0,
          0,
          3,
          0,
          29,
          0,
          1,
          0,
          2,
          1,
          0,
          4,
          0,
          0,
          0,
          0,
          2,
          0,
          15,
          3,
          1,
          0,
          0,
          0,
          0,
          4,
          0,
          0,
          0,
          0,
          0,
          0,
          0,
          0,
          0,
          0,
          0,
          0,
          0,
          0,
          0,
          0,
          0,
          0,
          0
         ]
        },
        {
         "mode": "lines+markers",
         "type": "scatter",
         "x": [
          "2024-04-08T08:00:00.000000000",
          "2024-04-08T08:15:00.000000000",
          "2024-04-08T08:30:00.000000000",
          "2024-04-08T08:45:00.000000000",
          "2024-04-08T09:00:00.000000000",
          "2024-04-08T09:15:00.000000000",
          "2024-04-08T09:30:00.000000000",
          "2024-04-08T09:45:00.000000000",
          "2024-04-08T10:00:00.000000000",
          "2024-04-08T10:15:00.000000000",
          "2024-04-08T10:30:00.000000000",
          "2024-04-08T10:45:00.000000000",
          "2024-04-08T11:00:00.000000000",
          "2024-04-08T11:15:00.000000000",
          "2024-04-08T11:30:00.000000000",
          "2024-04-08T11:45:00.000000000",
          "2024-04-08T12:00:00.000000000",
          "2024-04-08T12:15:00.000000000",
          "2024-04-08T12:30:00.000000000",
          "2024-04-08T12:45:00.000000000",
          "2024-04-08T13:00:00.000000000",
          "2024-04-08T13:15:00.000000000",
          "2024-04-08T13:30:00.000000000",
          "2024-04-08T13:45:00.000000000",
          "2024-04-08T14:00:00.000000000",
          "2024-04-08T14:15:00.000000000",
          "2024-04-08T14:30:00.000000000",
          "2024-04-08T14:45:00.000000000",
          "2024-04-08T15:00:00.000000000",
          "2024-04-08T15:15:00.000000000",
          "2024-04-08T15:30:00.000000000",
          "2024-04-08T15:45:00.000000000",
          "2024-04-08T16:00:00.000000000",
          "2024-04-08T16:15:00.000000000",
          "2024-04-08T16:30:00.000000000",
          "2024-04-08T16:45:00.000000000",
          "2024-04-08T17:00:00.000000000",
          "2024-04-08T17:15:00.000000000",
          "2024-04-08T17:30:00.000000000",
          "2024-04-08T17:45:00.000000000",
          "2024-04-08T18:00:00.000000000",
          "2024-04-08T18:15:00.000000000",
          "2024-04-08T18:30:00.000000000",
          "2024-04-08T18:45:00.000000000",
          "2024-04-08T19:00:00.000000000",
          "2024-04-08T19:15:00.000000000",
          "2024-04-08T19:30:00.000000000",
          "2024-04-08T19:45:00.000000000",
          "2024-04-08T20:00:00.000000000"
         ],
         "y": [
          5,
          14,
          10,
          0,
          0,
          2,
          1,
          0,
          28,
          3,
          0,
          0,
          0,
          0,
          4,
          7,
          0,
          0,
          0,
          0,
          0,
          0,
          1,
          0,
          0,
          0,
          0,
          0,
          0,
          0,
          0,
          0,
          0,
          0,
          0,
          0,
          0,
          0,
          0,
          0,
          0,
          0,
          0,
          0,
          0,
          0,
          0,
          0,
          0
         ]
        },
        {
         "mode": "lines+markers",
         "type": "scatter",
         "x": [
          "2024-04-08T08:00:00.000000000",
          "2024-04-08T08:15:00.000000000",
          "2024-04-08T08:30:00.000000000",
          "2024-04-08T08:45:00.000000000",
          "2024-04-08T09:00:00.000000000",
          "2024-04-08T09:15:00.000000000",
          "2024-04-08T09:30:00.000000000",
          "2024-04-08T09:45:00.000000000",
          "2024-04-08T10:00:00.000000000",
          "2024-04-08T10:15:00.000000000",
          "2024-04-08T10:30:00.000000000",
          "2024-04-08T10:45:00.000000000",
          "2024-04-08T11:00:00.000000000",
          "2024-04-08T11:15:00.000000000",
          "2024-04-08T11:30:00.000000000",
          "2024-04-08T11:45:00.000000000",
          "2024-04-08T12:00:00.000000000",
          "2024-04-08T12:15:00.000000000",
          "2024-04-08T12:30:00.000000000",
          "2024-04-08T12:45:00.000000000",
          "2024-04-08T13:00:00.000000000",
          "2024-04-08T13:15:00.000000000",
          "2024-04-08T13:30:00.000000000",
          "2024-04-08T13:45:00.000000000",
          "2024-04-08T14:00:00.000000000",
          "2024-04-08T14:15:00.000000000",
          "2024-04-08T14:30:00.000000000",
          "2024-04-08T14:45:00.000000000",
          "2024-04-08T15:00:00.000000000",
          "2024-04-08T15:15:00.000000000",
          "2024-04-08T15:30:00.000000000",
          "2024-04-08T15:45:00.000000000",
          "2024-04-08T16:00:00.000000000",
          "2024-04-08T16:15:00.000000000",
          "2024-04-08T16:30:00.000000000",
          "2024-04-08T16:45:00.000000000",
          "2024-04-08T17:00:00.000000000",
          "2024-04-08T17:15:00.000000000",
          "2024-04-08T17:30:00.000000000",
          "2024-04-08T17:45:00.000000000",
          "2024-04-08T18:00:00.000000000",
          "2024-04-08T18:15:00.000000000",
          "2024-04-08T18:30:00.000000000",
          "2024-04-08T18:45:00.000000000",
          "2024-04-08T19:00:00.000000000",
          "2024-04-08T19:15:00.000000000",
          "2024-04-08T19:30:00.000000000",
          "2024-04-08T19:45:00.000000000",
          "2024-04-08T20:00:00.000000000"
         ],
         "y": [
          8,
          18,
          6,
          2,
          0,
          0,
          1,
          0,
          24,
          3,
          0,
          1,
          3,
          0,
          0,
          4,
          0,
          0,
          0,
          0,
          0,
          0,
          0,
          0,
          0,
          0,
          0,
          0,
          0,
          0,
          0,
          0,
          0,
          0,
          0,
          0,
          0,
          0,
          0,
          0,
          0,
          0,
          0,
          0,
          0,
          0,
          0,
          0,
          0
         ]
        },
        {
         "mode": "lines+markers",
         "type": "scatter",
         "x": [
          "2024-04-08T08:00:00.000000000",
          "2024-04-08T08:15:00.000000000",
          "2024-04-08T08:30:00.000000000",
          "2024-04-08T08:45:00.000000000",
          "2024-04-08T09:00:00.000000000",
          "2024-04-08T09:15:00.000000000",
          "2024-04-08T09:30:00.000000000",
          "2024-04-08T09:45:00.000000000",
          "2024-04-08T10:00:00.000000000",
          "2024-04-08T10:15:00.000000000",
          "2024-04-08T10:30:00.000000000",
          "2024-04-08T10:45:00.000000000",
          "2024-04-08T11:00:00.000000000",
          "2024-04-08T11:15:00.000000000",
          "2024-04-08T11:30:00.000000000",
          "2024-04-08T11:45:00.000000000",
          "2024-04-08T12:00:00.000000000",
          "2024-04-08T12:15:00.000000000",
          "2024-04-08T12:30:00.000000000",
          "2024-04-08T12:45:00.000000000",
          "2024-04-08T13:00:00.000000000",
          "2024-04-08T13:15:00.000000000",
          "2024-04-08T13:30:00.000000000",
          "2024-04-08T13:45:00.000000000",
          "2024-04-08T14:00:00.000000000",
          "2024-04-08T14:15:00.000000000",
          "2024-04-08T14:30:00.000000000",
          "2024-04-08T14:45:00.000000000",
          "2024-04-08T15:00:00.000000000",
          "2024-04-08T15:15:00.000000000",
          "2024-04-08T15:30:00.000000000",
          "2024-04-08T15:45:00.000000000",
          "2024-04-08T16:00:00.000000000",
          "2024-04-08T16:15:00.000000000",
          "2024-04-08T16:30:00.000000000",
          "2024-04-08T16:45:00.000000000",
          "2024-04-08T17:00:00.000000000",
          "2024-04-08T17:15:00.000000000",
          "2024-04-08T17:30:00.000000000",
          "2024-04-08T17:45:00.000000000",
          "2024-04-08T18:00:00.000000000",
          "2024-04-08T18:15:00.000000000",
          "2024-04-08T18:30:00.000000000",
          "2024-04-08T18:45:00.000000000",
          "2024-04-08T19:00:00.000000000",
          "2024-04-08T19:15:00.000000000",
          "2024-04-08T19:30:00.000000000",
          "2024-04-08T19:45:00.000000000",
          "2024-04-08T20:00:00.000000000"
         ],
         "y": [
          1,
          14,
          6,
          3,
          0,
          0,
          0,
          0,
          17,
          1,
          0,
          0,
          1,
          0,
          2,
          3,
          0,
          0,
          1,
          0,
          0,
          0,
          0,
          0,
          0,
          1,
          0,
          0,
          1,
          20,
          0,
          0,
          0,
          0,
          0,
          0,
          12,
          0,
          0,
          0,
          0,
          0,
          0,
          0,
          2,
          0,
          0,
          0,
          0
         ]
        },
        {
         "mode": "lines+markers",
         "type": "scatter",
         "x": [
          "2024-04-08T08:00:00.000000000",
          "2024-04-08T08:15:00.000000000",
          "2024-04-08T08:30:00.000000000",
          "2024-04-08T08:45:00.000000000",
          "2024-04-08T09:00:00.000000000",
          "2024-04-08T09:15:00.000000000",
          "2024-04-08T09:30:00.000000000",
          "2024-04-08T09:45:00.000000000",
          "2024-04-08T10:00:00.000000000",
          "2024-04-08T10:15:00.000000000",
          "2024-04-08T10:30:00.000000000",
          "2024-04-08T10:45:00.000000000",
          "2024-04-08T11:00:00.000000000",
          "2024-04-08T11:15:00.000000000",
          "2024-04-08T11:30:00.000000000",
          "2024-04-08T11:45:00.000000000",
          "2024-04-08T12:00:00.000000000",
          "2024-04-08T12:15:00.000000000",
          "2024-04-08T12:30:00.000000000",
          "2024-04-08T12:45:00.000000000",
          "2024-04-08T13:00:00.000000000",
          "2024-04-08T13:15:00.000000000",
          "2024-04-08T13:30:00.000000000",
          "2024-04-08T13:45:00.000000000",
          "2024-04-08T14:00:00.000000000",
          "2024-04-08T14:15:00.000000000",
          "2024-04-08T14:30:00.000000000",
          "2024-04-08T14:45:00.000000000",
          "2024-04-08T15:00:00.000000000",
          "2024-04-08T15:15:00.000000000",
          "2024-04-08T15:30:00.000000000",
          "2024-04-08T15:45:00.000000000",
          "2024-04-08T16:00:00.000000000",
          "2024-04-08T16:15:00.000000000",
          "2024-04-08T16:30:00.000000000",
          "2024-04-08T16:45:00.000000000",
          "2024-04-08T17:00:00.000000000",
          "2024-04-08T17:15:00.000000000",
          "2024-04-08T17:30:00.000000000",
          "2024-04-08T17:45:00.000000000",
          "2024-04-08T18:00:00.000000000",
          "2024-04-08T18:15:00.000000000",
          "2024-04-08T18:30:00.000000000",
          "2024-04-08T18:45:00.000000000",
          "2024-04-08T19:00:00.000000000",
          "2024-04-08T19:15:00.000000000",
          "2024-04-08T19:30:00.000000000",
          "2024-04-08T19:45:00.000000000",
          "2024-04-08T20:00:00.000000000"
         ],
         "y": [
          4,
          6,
          2,
          2,
          0,
          0,
          0,
          1,
          32,
          3,
          1,
          0,
          1,
          3,
          0,
          0,
          0,
          0,
          0,
          0,
          6,
          24,
          35,
          2,
          0,
          1,
          0,
          0,
          11,
          21,
          0,
          0,
          1,
          0,
          0,
          0,
          2,
          0,
          0,
          0,
          1,
          0,
          0,
          0,
          0,
          0,
          0,
          0,
          0
         ]
        }
       ],
       "layout": {
        "template": {
         "data": {
          "bar": [
           {
            "error_x": {
             "color": "#2a3f5f"
            },
            "error_y": {
             "color": "#2a3f5f"
            },
            "marker": {
             "line": {
              "color": "#E5ECF6",
              "width": 0.5
             },
             "pattern": {
              "fillmode": "overlay",
              "size": 10,
              "solidity": 0.2
             }
            },
            "type": "bar"
           }
          ],
          "barpolar": [
           {
            "marker": {
             "line": {
              "color": "#E5ECF6",
              "width": 0.5
             },
             "pattern": {
              "fillmode": "overlay",
              "size": 10,
              "solidity": 0.2
             }
            },
            "type": "barpolar"
           }
          ],
          "carpet": [
           {
            "aaxis": {
             "endlinecolor": "#2a3f5f",
             "gridcolor": "white",
             "linecolor": "white",
             "minorgridcolor": "white",
             "startlinecolor": "#2a3f5f"
            },
            "baxis": {
             "endlinecolor": "#2a3f5f",
             "gridcolor": "white",
             "linecolor": "white",
             "minorgridcolor": "white",
             "startlinecolor": "#2a3f5f"
            },
            "type": "carpet"
           }
          ],
          "choropleth": [
           {
            "colorbar": {
             "outlinewidth": 0,
             "ticks": ""
            },
            "type": "choropleth"
           }
          ],
          "contour": [
           {
            "colorbar": {
             "outlinewidth": 0,
             "ticks": ""
            },
            "colorscale": [
             [
              0,
              "#0d0887"
             ],
             [
              0.1111111111111111,
              "#46039f"
             ],
             [
              0.2222222222222222,
              "#7201a8"
             ],
             [
              0.3333333333333333,
              "#9c179e"
             ],
             [
              0.4444444444444444,
              "#bd3786"
             ],
             [
              0.5555555555555556,
              "#d8576b"
             ],
             [
              0.6666666666666666,
              "#ed7953"
             ],
             [
              0.7777777777777778,
              "#fb9f3a"
             ],
             [
              0.8888888888888888,
              "#fdca26"
             ],
             [
              1,
              "#f0f921"
             ]
            ],
            "type": "contour"
           }
          ],
          "contourcarpet": [
           {
            "colorbar": {
             "outlinewidth": 0,
             "ticks": ""
            },
            "type": "contourcarpet"
           }
          ],
          "heatmap": [
           {
            "colorbar": {
             "outlinewidth": 0,
             "ticks": ""
            },
            "colorscale": [
             [
              0,
              "#0d0887"
             ],
             [
              0.1111111111111111,
              "#46039f"
             ],
             [
              0.2222222222222222,
              "#7201a8"
             ],
             [
              0.3333333333333333,
              "#9c179e"
             ],
             [
              0.4444444444444444,
              "#bd3786"
             ],
             [
              0.5555555555555556,
              "#d8576b"
             ],
             [
              0.6666666666666666,
              "#ed7953"
             ],
             [
              0.7777777777777778,
              "#fb9f3a"
             ],
             [
              0.8888888888888888,
              "#fdca26"
             ],
             [
              1,
              "#f0f921"
             ]
            ],
            "type": "heatmap"
           }
          ],
          "heatmapgl": [
           {
            "colorbar": {
             "outlinewidth": 0,
             "ticks": ""
            },
            "colorscale": [
             [
              0,
              "#0d0887"
             ],
             [
              0.1111111111111111,
              "#46039f"
             ],
             [
              0.2222222222222222,
              "#7201a8"
             ],
             [
              0.3333333333333333,
              "#9c179e"
             ],
             [
              0.4444444444444444,
              "#bd3786"
             ],
             [
              0.5555555555555556,
              "#d8576b"
             ],
             [
              0.6666666666666666,
              "#ed7953"
             ],
             [
              0.7777777777777778,
              "#fb9f3a"
             ],
             [
              0.8888888888888888,
              "#fdca26"
             ],
             [
              1,
              "#f0f921"
             ]
            ],
            "type": "heatmapgl"
           }
          ],
          "histogram": [
           {
            "marker": {
             "pattern": {
              "fillmode": "overlay",
              "size": 10,
              "solidity": 0.2
             }
            },
            "type": "histogram"
           }
          ],
          "histogram2d": [
           {
            "colorbar": {
             "outlinewidth": 0,
             "ticks": ""
            },
            "colorscale": [
             [
              0,
              "#0d0887"
             ],
             [
              0.1111111111111111,
              "#46039f"
             ],
             [
              0.2222222222222222,
              "#7201a8"
             ],
             [
              0.3333333333333333,
              "#9c179e"
             ],
             [
              0.4444444444444444,
              "#bd3786"
             ],
             [
              0.5555555555555556,
              "#d8576b"
             ],
             [
              0.6666666666666666,
              "#ed7953"
             ],
             [
              0.7777777777777778,
              "#fb9f3a"
             ],
             [
              0.8888888888888888,
              "#fdca26"
             ],
             [
              1,
              "#f0f921"
             ]
            ],
            "type": "histogram2d"
           }
          ],
          "histogram2dcontour": [
           {
            "colorbar": {
             "outlinewidth": 0,
             "ticks": ""
            },
            "colorscale": [
             [
              0,
              "#0d0887"
             ],
             [
              0.1111111111111111,
              "#46039f"
             ],
             [
              0.2222222222222222,
              "#7201a8"
             ],
             [
              0.3333333333333333,
              "#9c179e"
             ],
             [
              0.4444444444444444,
              "#bd3786"
             ],
             [
              0.5555555555555556,
              "#d8576b"
             ],
             [
              0.6666666666666666,
              "#ed7953"
             ],
             [
              0.7777777777777778,
              "#fb9f3a"
             ],
             [
              0.8888888888888888,
              "#fdca26"
             ],
             [
              1,
              "#f0f921"
             ]
            ],
            "type": "histogram2dcontour"
           }
          ],
          "mesh3d": [
           {
            "colorbar": {
             "outlinewidth": 0,
             "ticks": ""
            },
            "type": "mesh3d"
           }
          ],
          "parcoords": [
           {
            "line": {
             "colorbar": {
              "outlinewidth": 0,
              "ticks": ""
             }
            },
            "type": "parcoords"
           }
          ],
          "pie": [
           {
            "automargin": true,
            "type": "pie"
           }
          ],
          "scatter": [
           {
            "fillpattern": {
             "fillmode": "overlay",
             "size": 10,
             "solidity": 0.2
            },
            "type": "scatter"
           }
          ],
          "scatter3d": [
           {
            "line": {
             "colorbar": {
              "outlinewidth": 0,
              "ticks": ""
             }
            },
            "marker": {
             "colorbar": {
              "outlinewidth": 0,
              "ticks": ""
             }
            },
            "type": "scatter3d"
           }
          ],
          "scattercarpet": [
           {
            "marker": {
             "colorbar": {
              "outlinewidth": 0,
              "ticks": ""
             }
            },
            "type": "scattercarpet"
           }
          ],
          "scattergeo": [
           {
            "marker": {
             "colorbar": {
              "outlinewidth": 0,
              "ticks": ""
             }
            },
            "type": "scattergeo"
           }
          ],
          "scattergl": [
           {
            "marker": {
             "colorbar": {
              "outlinewidth": 0,
              "ticks": ""
             }
            },
            "type": "scattergl"
           }
          ],
          "scattermapbox": [
           {
            "marker": {
             "colorbar": {
              "outlinewidth": 0,
              "ticks": ""
             }
            },
            "type": "scattermapbox"
           }
          ],
          "scatterpolar": [
           {
            "marker": {
             "colorbar": {
              "outlinewidth": 0,
              "ticks": ""
             }
            },
            "type": "scatterpolar"
           }
          ],
          "scatterpolargl": [
           {
            "marker": {
             "colorbar": {
              "outlinewidth": 0,
              "ticks": ""
             }
            },
            "type": "scatterpolargl"
           }
          ],
          "scatterternary": [
           {
            "marker": {
             "colorbar": {
              "outlinewidth": 0,
              "ticks": ""
             }
            },
            "type": "scatterternary"
           }
          ],
          "surface": [
           {
            "colorbar": {
             "outlinewidth": 0,
             "ticks": ""
            },
            "colorscale": [
             [
              0,
              "#0d0887"
             ],
             [
              0.1111111111111111,
              "#46039f"
             ],
             [
              0.2222222222222222,
              "#7201a8"
             ],
             [
              0.3333333333333333,
              "#9c179e"
             ],
             [
              0.4444444444444444,
              "#bd3786"
             ],
             [
              0.5555555555555556,
              "#d8576b"
             ],
             [
              0.6666666666666666,
              "#ed7953"
             ],
             [
              0.7777777777777778,
              "#fb9f3a"
             ],
             [
              0.8888888888888888,
              "#fdca26"
             ],
             [
              1,
              "#f0f921"
             ]
            ],
            "type": "surface"
           }
          ],
          "table": [
           {
            "cells": {
             "fill": {
              "color": "#EBF0F8"
             },
             "line": {
              "color": "white"
             }
            },
            "header": {
             "fill": {
              "color": "#C8D4E3"
             },
             "line": {
              "color": "white"
             }
            },
            "type": "table"
           }
          ]
         },
         "layout": {
          "annotationdefaults": {
           "arrowcolor": "#2a3f5f",
           "arrowhead": 0,
           "arrowwidth": 1
          },
          "autotypenumbers": "strict",
          "coloraxis": {
           "colorbar": {
            "outlinewidth": 0,
            "ticks": ""
           }
          },
          "colorscale": {
           "diverging": [
            [
             0,
             "#8e0152"
            ],
            [
             0.1,
             "#c51b7d"
            ],
            [
             0.2,
             "#de77ae"
            ],
            [
             0.3,
             "#f1b6da"
            ],
            [
             0.4,
             "#fde0ef"
            ],
            [
             0.5,
             "#f7f7f7"
            ],
            [
             0.6,
             "#e6f5d0"
            ],
            [
             0.7,
             "#b8e186"
            ],
            [
             0.8,
             "#7fbc41"
            ],
            [
             0.9,
             "#4d9221"
            ],
            [
             1,
             "#276419"
            ]
           ],
           "sequential": [
            [
             0,
             "#0d0887"
            ],
            [
             0.1111111111111111,
             "#46039f"
            ],
            [
             0.2222222222222222,
             "#7201a8"
            ],
            [
             0.3333333333333333,
             "#9c179e"
            ],
            [
             0.4444444444444444,
             "#bd3786"
            ],
            [
             0.5555555555555556,
             "#d8576b"
            ],
            [
             0.6666666666666666,
             "#ed7953"
            ],
            [
             0.7777777777777778,
             "#fb9f3a"
            ],
            [
             0.8888888888888888,
             "#fdca26"
            ],
            [
             1,
             "#f0f921"
            ]
           ],
           "sequentialminus": [
            [
             0,
             "#0d0887"
            ],
            [
             0.1111111111111111,
             "#46039f"
            ],
            [
             0.2222222222222222,
             "#7201a8"
            ],
            [
             0.3333333333333333,
             "#9c179e"
            ],
            [
             0.4444444444444444,
             "#bd3786"
            ],
            [
             0.5555555555555556,
             "#d8576b"
            ],
            [
             0.6666666666666666,
             "#ed7953"
            ],
            [
             0.7777777777777778,
             "#fb9f3a"
            ],
            [
             0.8888888888888888,
             "#fdca26"
            ],
            [
             1,
             "#f0f921"
            ]
           ]
          },
          "colorway": [
           "#636efa",
           "#EF553B",
           "#00cc96",
           "#ab63fa",
           "#FFA15A",
           "#19d3f3",
           "#FF6692",
           "#B6E880",
           "#FF97FF",
           "#FECB52"
          ],
          "font": {
           "color": "#2a3f5f"
          },
          "geo": {
           "bgcolor": "white",
           "lakecolor": "white",
           "landcolor": "#E5ECF6",
           "showlakes": true,
           "showland": true,
           "subunitcolor": "white"
          },
          "hoverlabel": {
           "align": "left"
          },
          "hovermode": "closest",
          "mapbox": {
           "style": "light"
          },
          "paper_bgcolor": "white",
          "plot_bgcolor": "#E5ECF6",
          "polar": {
           "angularaxis": {
            "gridcolor": "white",
            "linecolor": "white",
            "ticks": ""
           },
           "bgcolor": "#E5ECF6",
           "radialaxis": {
            "gridcolor": "white",
            "linecolor": "white",
            "ticks": ""
           }
          },
          "scene": {
           "xaxis": {
            "backgroundcolor": "#E5ECF6",
            "gridcolor": "white",
            "gridwidth": 2,
            "linecolor": "white",
            "showbackground": true,
            "ticks": "",
            "zerolinecolor": "white"
           },
           "yaxis": {
            "backgroundcolor": "#E5ECF6",
            "gridcolor": "white",
            "gridwidth": 2,
            "linecolor": "white",
            "showbackground": true,
            "ticks": "",
            "zerolinecolor": "white"
           },
           "zaxis": {
            "backgroundcolor": "#E5ECF6",
            "gridcolor": "white",
            "gridwidth": 2,
            "linecolor": "white",
            "showbackground": true,
            "ticks": "",
            "zerolinecolor": "white"
           }
          },
          "shapedefaults": {
           "line": {
            "color": "#2a3f5f"
           }
          },
          "ternary": {
           "aaxis": {
            "gridcolor": "white",
            "linecolor": "white",
            "ticks": ""
           },
           "baxis": {
            "gridcolor": "white",
            "linecolor": "white",
            "ticks": ""
           },
           "bgcolor": "#E5ECF6",
           "caxis": {
            "gridcolor": "white",
            "linecolor": "white",
            "ticks": ""
           }
          },
          "title": {
           "x": 0.05
          },
          "xaxis": {
           "automargin": true,
           "gridcolor": "white",
           "linecolor": "white",
           "ticks": "",
           "title": {
            "standoff": 15
           },
           "zerolinecolor": "white",
           "zerolinewidth": 2
          },
          "yaxis": {
           "automargin": true,
           "gridcolor": "white",
           "linecolor": "white",
           "ticks": "",
           "title": {
            "standoff": 15
           },
           "zerolinecolor": "white",
           "zerolinewidth": 2
          }
         }
        }
       }
      }
     },
     "metadata": {},
     "output_type": "display_data"
    },
    {
     "name": "stdout",
     "output_type": "stream",
     "text": [
      "################ 3 ################\n",
      "[78]\n"
     ]
    },
    {
     "data": {
      "application/vnd.plotly.v1+json": {
       "config": {
        "plotlyServerURL": "https://plot.ly"
       },
       "data": [
        {
         "mode": "lines+markers",
         "type": "scatter",
         "x": [
          "2024-04-08T08:00:00.000000000",
          "2024-04-08T08:15:00.000000000",
          "2024-04-08T08:30:00.000000000",
          "2024-04-08T08:45:00.000000000",
          "2024-04-08T09:00:00.000000000",
          "2024-04-08T09:15:00.000000000",
          "2024-04-08T09:30:00.000000000",
          "2024-04-08T09:45:00.000000000",
          "2024-04-08T10:00:00.000000000",
          "2024-04-08T10:15:00.000000000",
          "2024-04-08T10:30:00.000000000",
          "2024-04-08T10:45:00.000000000",
          "2024-04-08T11:00:00.000000000",
          "2024-04-08T11:15:00.000000000",
          "2024-04-08T11:30:00.000000000",
          "2024-04-08T11:45:00.000000000",
          "2024-04-08T12:00:00.000000000",
          "2024-04-08T12:15:00.000000000",
          "2024-04-08T12:30:00.000000000",
          "2024-04-08T12:45:00.000000000",
          "2024-04-08T13:00:00.000000000",
          "2024-04-08T13:15:00.000000000",
          "2024-04-08T13:30:00.000000000",
          "2024-04-08T13:45:00.000000000",
          "2024-04-08T14:00:00.000000000",
          "2024-04-08T14:15:00.000000000",
          "2024-04-08T14:30:00.000000000",
          "2024-04-08T14:45:00.000000000",
          "2024-04-08T15:00:00.000000000",
          "2024-04-08T15:15:00.000000000",
          "2024-04-08T15:30:00.000000000",
          "2024-04-08T15:45:00.000000000",
          "2024-04-08T16:00:00.000000000",
          "2024-04-08T16:15:00.000000000",
          "2024-04-08T16:30:00.000000000",
          "2024-04-08T16:45:00.000000000",
          "2024-04-08T17:00:00.000000000",
          "2024-04-08T17:15:00.000000000",
          "2024-04-08T17:30:00.000000000",
          "2024-04-08T17:45:00.000000000",
          "2024-04-08T18:00:00.000000000",
          "2024-04-08T18:15:00.000000000",
          "2024-04-08T18:30:00.000000000",
          "2024-04-08T18:45:00.000000000",
          "2024-04-08T19:00:00.000000000",
          "2024-04-08T19:15:00.000000000",
          "2024-04-08T19:30:00.000000000",
          "2024-04-08T19:45:00.000000000",
          "2024-04-08T20:00:00.000000000"
         ],
         "y": [
          0,
          23,
          13,
          0,
          1,
          0,
          1,
          10,
          0,
          0,
          0,
          0,
          0,
          0,
          4,
          39,
          2,
          0,
          1,
          3,
          51,
          37,
          39,
          10,
          2,
          5,
          11,
          8,
          47,
          32,
          2,
          2,
          0,
          0,
          4,
          0,
          36,
          1,
          0,
          0,
          5,
          0,
          0,
          0,
          0,
          0,
          0,
          0,
          0
         ]
        }
       ],
       "layout": {
        "template": {
         "data": {
          "bar": [
           {
            "error_x": {
             "color": "#2a3f5f"
            },
            "error_y": {
             "color": "#2a3f5f"
            },
            "marker": {
             "line": {
              "color": "#E5ECF6",
              "width": 0.5
             },
             "pattern": {
              "fillmode": "overlay",
              "size": 10,
              "solidity": 0.2
             }
            },
            "type": "bar"
           }
          ],
          "barpolar": [
           {
            "marker": {
             "line": {
              "color": "#E5ECF6",
              "width": 0.5
             },
             "pattern": {
              "fillmode": "overlay",
              "size": 10,
              "solidity": 0.2
             }
            },
            "type": "barpolar"
           }
          ],
          "carpet": [
           {
            "aaxis": {
             "endlinecolor": "#2a3f5f",
             "gridcolor": "white",
             "linecolor": "white",
             "minorgridcolor": "white",
             "startlinecolor": "#2a3f5f"
            },
            "baxis": {
             "endlinecolor": "#2a3f5f",
             "gridcolor": "white",
             "linecolor": "white",
             "minorgridcolor": "white",
             "startlinecolor": "#2a3f5f"
            },
            "type": "carpet"
           }
          ],
          "choropleth": [
           {
            "colorbar": {
             "outlinewidth": 0,
             "ticks": ""
            },
            "type": "choropleth"
           }
          ],
          "contour": [
           {
            "colorbar": {
             "outlinewidth": 0,
             "ticks": ""
            },
            "colorscale": [
             [
              0,
              "#0d0887"
             ],
             [
              0.1111111111111111,
              "#46039f"
             ],
             [
              0.2222222222222222,
              "#7201a8"
             ],
             [
              0.3333333333333333,
              "#9c179e"
             ],
             [
              0.4444444444444444,
              "#bd3786"
             ],
             [
              0.5555555555555556,
              "#d8576b"
             ],
             [
              0.6666666666666666,
              "#ed7953"
             ],
             [
              0.7777777777777778,
              "#fb9f3a"
             ],
             [
              0.8888888888888888,
              "#fdca26"
             ],
             [
              1,
              "#f0f921"
             ]
            ],
            "type": "contour"
           }
          ],
          "contourcarpet": [
           {
            "colorbar": {
             "outlinewidth": 0,
             "ticks": ""
            },
            "type": "contourcarpet"
           }
          ],
          "heatmap": [
           {
            "colorbar": {
             "outlinewidth": 0,
             "ticks": ""
            },
            "colorscale": [
             [
              0,
              "#0d0887"
             ],
             [
              0.1111111111111111,
              "#46039f"
             ],
             [
              0.2222222222222222,
              "#7201a8"
             ],
             [
              0.3333333333333333,
              "#9c179e"
             ],
             [
              0.4444444444444444,
              "#bd3786"
             ],
             [
              0.5555555555555556,
              "#d8576b"
             ],
             [
              0.6666666666666666,
              "#ed7953"
             ],
             [
              0.7777777777777778,
              "#fb9f3a"
             ],
             [
              0.8888888888888888,
              "#fdca26"
             ],
             [
              1,
              "#f0f921"
             ]
            ],
            "type": "heatmap"
           }
          ],
          "heatmapgl": [
           {
            "colorbar": {
             "outlinewidth": 0,
             "ticks": ""
            },
            "colorscale": [
             [
              0,
              "#0d0887"
             ],
             [
              0.1111111111111111,
              "#46039f"
             ],
             [
              0.2222222222222222,
              "#7201a8"
             ],
             [
              0.3333333333333333,
              "#9c179e"
             ],
             [
              0.4444444444444444,
              "#bd3786"
             ],
             [
              0.5555555555555556,
              "#d8576b"
             ],
             [
              0.6666666666666666,
              "#ed7953"
             ],
             [
              0.7777777777777778,
              "#fb9f3a"
             ],
             [
              0.8888888888888888,
              "#fdca26"
             ],
             [
              1,
              "#f0f921"
             ]
            ],
            "type": "heatmapgl"
           }
          ],
          "histogram": [
           {
            "marker": {
             "pattern": {
              "fillmode": "overlay",
              "size": 10,
              "solidity": 0.2
             }
            },
            "type": "histogram"
           }
          ],
          "histogram2d": [
           {
            "colorbar": {
             "outlinewidth": 0,
             "ticks": ""
            },
            "colorscale": [
             [
              0,
              "#0d0887"
             ],
             [
              0.1111111111111111,
              "#46039f"
             ],
             [
              0.2222222222222222,
              "#7201a8"
             ],
             [
              0.3333333333333333,
              "#9c179e"
             ],
             [
              0.4444444444444444,
              "#bd3786"
             ],
             [
              0.5555555555555556,
              "#d8576b"
             ],
             [
              0.6666666666666666,
              "#ed7953"
             ],
             [
              0.7777777777777778,
              "#fb9f3a"
             ],
             [
              0.8888888888888888,
              "#fdca26"
             ],
             [
              1,
              "#f0f921"
             ]
            ],
            "type": "histogram2d"
           }
          ],
          "histogram2dcontour": [
           {
            "colorbar": {
             "outlinewidth": 0,
             "ticks": ""
            },
            "colorscale": [
             [
              0,
              "#0d0887"
             ],
             [
              0.1111111111111111,
              "#46039f"
             ],
             [
              0.2222222222222222,
              "#7201a8"
             ],
             [
              0.3333333333333333,
              "#9c179e"
             ],
             [
              0.4444444444444444,
              "#bd3786"
             ],
             [
              0.5555555555555556,
              "#d8576b"
             ],
             [
              0.6666666666666666,
              "#ed7953"
             ],
             [
              0.7777777777777778,
              "#fb9f3a"
             ],
             [
              0.8888888888888888,
              "#fdca26"
             ],
             [
              1,
              "#f0f921"
             ]
            ],
            "type": "histogram2dcontour"
           }
          ],
          "mesh3d": [
           {
            "colorbar": {
             "outlinewidth": 0,
             "ticks": ""
            },
            "type": "mesh3d"
           }
          ],
          "parcoords": [
           {
            "line": {
             "colorbar": {
              "outlinewidth": 0,
              "ticks": ""
             }
            },
            "type": "parcoords"
           }
          ],
          "pie": [
           {
            "automargin": true,
            "type": "pie"
           }
          ],
          "scatter": [
           {
            "fillpattern": {
             "fillmode": "overlay",
             "size": 10,
             "solidity": 0.2
            },
            "type": "scatter"
           }
          ],
          "scatter3d": [
           {
            "line": {
             "colorbar": {
              "outlinewidth": 0,
              "ticks": ""
             }
            },
            "marker": {
             "colorbar": {
              "outlinewidth": 0,
              "ticks": ""
             }
            },
            "type": "scatter3d"
           }
          ],
          "scattercarpet": [
           {
            "marker": {
             "colorbar": {
              "outlinewidth": 0,
              "ticks": ""
             }
            },
            "type": "scattercarpet"
           }
          ],
          "scattergeo": [
           {
            "marker": {
             "colorbar": {
              "outlinewidth": 0,
              "ticks": ""
             }
            },
            "type": "scattergeo"
           }
          ],
          "scattergl": [
           {
            "marker": {
             "colorbar": {
              "outlinewidth": 0,
              "ticks": ""
             }
            },
            "type": "scattergl"
           }
          ],
          "scattermapbox": [
           {
            "marker": {
             "colorbar": {
              "outlinewidth": 0,
              "ticks": ""
             }
            },
            "type": "scattermapbox"
           }
          ],
          "scatterpolar": [
           {
            "marker": {
             "colorbar": {
              "outlinewidth": 0,
              "ticks": ""
             }
            },
            "type": "scatterpolar"
           }
          ],
          "scatterpolargl": [
           {
            "marker": {
             "colorbar": {
              "outlinewidth": 0,
              "ticks": ""
             }
            },
            "type": "scatterpolargl"
           }
          ],
          "scatterternary": [
           {
            "marker": {
             "colorbar": {
              "outlinewidth": 0,
              "ticks": ""
             }
            },
            "type": "scatterternary"
           }
          ],
          "surface": [
           {
            "colorbar": {
             "outlinewidth": 0,
             "ticks": ""
            },
            "colorscale": [
             [
              0,
              "#0d0887"
             ],
             [
              0.1111111111111111,
              "#46039f"
             ],
             [
              0.2222222222222222,
              "#7201a8"
             ],
             [
              0.3333333333333333,
              "#9c179e"
             ],
             [
              0.4444444444444444,
              "#bd3786"
             ],
             [
              0.5555555555555556,
              "#d8576b"
             ],
             [
              0.6666666666666666,
              "#ed7953"
             ],
             [
              0.7777777777777778,
              "#fb9f3a"
             ],
             [
              0.8888888888888888,
              "#fdca26"
             ],
             [
              1,
              "#f0f921"
             ]
            ],
            "type": "surface"
           }
          ],
          "table": [
           {
            "cells": {
             "fill": {
              "color": "#EBF0F8"
             },
             "line": {
              "color": "white"
             }
            },
            "header": {
             "fill": {
              "color": "#C8D4E3"
             },
             "line": {
              "color": "white"
             }
            },
            "type": "table"
           }
          ]
         },
         "layout": {
          "annotationdefaults": {
           "arrowcolor": "#2a3f5f",
           "arrowhead": 0,
           "arrowwidth": 1
          },
          "autotypenumbers": "strict",
          "coloraxis": {
           "colorbar": {
            "outlinewidth": 0,
            "ticks": ""
           }
          },
          "colorscale": {
           "diverging": [
            [
             0,
             "#8e0152"
            ],
            [
             0.1,
             "#c51b7d"
            ],
            [
             0.2,
             "#de77ae"
            ],
            [
             0.3,
             "#f1b6da"
            ],
            [
             0.4,
             "#fde0ef"
            ],
            [
             0.5,
             "#f7f7f7"
            ],
            [
             0.6,
             "#e6f5d0"
            ],
            [
             0.7,
             "#b8e186"
            ],
            [
             0.8,
             "#7fbc41"
            ],
            [
             0.9,
             "#4d9221"
            ],
            [
             1,
             "#276419"
            ]
           ],
           "sequential": [
            [
             0,
             "#0d0887"
            ],
            [
             0.1111111111111111,
             "#46039f"
            ],
            [
             0.2222222222222222,
             "#7201a8"
            ],
            [
             0.3333333333333333,
             "#9c179e"
            ],
            [
             0.4444444444444444,
             "#bd3786"
            ],
            [
             0.5555555555555556,
             "#d8576b"
            ],
            [
             0.6666666666666666,
             "#ed7953"
            ],
            [
             0.7777777777777778,
             "#fb9f3a"
            ],
            [
             0.8888888888888888,
             "#fdca26"
            ],
            [
             1,
             "#f0f921"
            ]
           ],
           "sequentialminus": [
            [
             0,
             "#0d0887"
            ],
            [
             0.1111111111111111,
             "#46039f"
            ],
            [
             0.2222222222222222,
             "#7201a8"
            ],
            [
             0.3333333333333333,
             "#9c179e"
            ],
            [
             0.4444444444444444,
             "#bd3786"
            ],
            [
             0.5555555555555556,
             "#d8576b"
            ],
            [
             0.6666666666666666,
             "#ed7953"
            ],
            [
             0.7777777777777778,
             "#fb9f3a"
            ],
            [
             0.8888888888888888,
             "#fdca26"
            ],
            [
             1,
             "#f0f921"
            ]
           ]
          },
          "colorway": [
           "#636efa",
           "#EF553B",
           "#00cc96",
           "#ab63fa",
           "#FFA15A",
           "#19d3f3",
           "#FF6692",
           "#B6E880",
           "#FF97FF",
           "#FECB52"
          ],
          "font": {
           "color": "#2a3f5f"
          },
          "geo": {
           "bgcolor": "white",
           "lakecolor": "white",
           "landcolor": "#E5ECF6",
           "showlakes": true,
           "showland": true,
           "subunitcolor": "white"
          },
          "hoverlabel": {
           "align": "left"
          },
          "hovermode": "closest",
          "mapbox": {
           "style": "light"
          },
          "paper_bgcolor": "white",
          "plot_bgcolor": "#E5ECF6",
          "polar": {
           "angularaxis": {
            "gridcolor": "white",
            "linecolor": "white",
            "ticks": ""
           },
           "bgcolor": "#E5ECF6",
           "radialaxis": {
            "gridcolor": "white",
            "linecolor": "white",
            "ticks": ""
           }
          },
          "scene": {
           "xaxis": {
            "backgroundcolor": "#E5ECF6",
            "gridcolor": "white",
            "gridwidth": 2,
            "linecolor": "white",
            "showbackground": true,
            "ticks": "",
            "zerolinecolor": "white"
           },
           "yaxis": {
            "backgroundcolor": "#E5ECF6",
            "gridcolor": "white",
            "gridwidth": 2,
            "linecolor": "white",
            "showbackground": true,
            "ticks": "",
            "zerolinecolor": "white"
           },
           "zaxis": {
            "backgroundcolor": "#E5ECF6",
            "gridcolor": "white",
            "gridwidth": 2,
            "linecolor": "white",
            "showbackground": true,
            "ticks": "",
            "zerolinecolor": "white"
           }
          },
          "shapedefaults": {
           "line": {
            "color": "#2a3f5f"
           }
          },
          "ternary": {
           "aaxis": {
            "gridcolor": "white",
            "linecolor": "white",
            "ticks": ""
           },
           "baxis": {
            "gridcolor": "white",
            "linecolor": "white",
            "ticks": ""
           },
           "bgcolor": "#E5ECF6",
           "caxis": {
            "gridcolor": "white",
            "linecolor": "white",
            "ticks": ""
           }
          },
          "title": {
           "x": 0.05
          },
          "xaxis": {
           "automargin": true,
           "gridcolor": "white",
           "linecolor": "white",
           "ticks": "",
           "title": {
            "standoff": 15
           },
           "zerolinecolor": "white",
           "zerolinewidth": 2
          },
          "yaxis": {
           "automargin": true,
           "gridcolor": "white",
           "linecolor": "white",
           "ticks": "",
           "title": {
            "standoff": 15
           },
           "zerolinecolor": "white",
           "zerolinewidth": 2
          }
         }
        }
       }
      }
     },
     "metadata": {},
     "output_type": "display_data"
    },
    {
     "name": "stdout",
     "output_type": "stream",
     "text": [
      "################ 4 ################\n",
      "[80]\n"
     ]
    },
    {
     "data": {
      "application/vnd.plotly.v1+json": {
       "config": {
        "plotlyServerURL": "https://plot.ly"
       },
       "data": [
        {
         "mode": "lines+markers",
         "type": "scatter",
         "x": [
          "2024-04-08T08:00:00.000000000",
          "2024-04-08T08:15:00.000000000",
          "2024-04-08T08:30:00.000000000",
          "2024-04-08T08:45:00.000000000",
          "2024-04-08T09:00:00.000000000",
          "2024-04-08T09:15:00.000000000",
          "2024-04-08T09:30:00.000000000",
          "2024-04-08T09:45:00.000000000",
          "2024-04-08T10:00:00.000000000",
          "2024-04-08T10:15:00.000000000",
          "2024-04-08T10:30:00.000000000",
          "2024-04-08T10:45:00.000000000",
          "2024-04-08T11:00:00.000000000",
          "2024-04-08T11:15:00.000000000",
          "2024-04-08T11:30:00.000000000",
          "2024-04-08T11:45:00.000000000",
          "2024-04-08T12:00:00.000000000",
          "2024-04-08T12:15:00.000000000",
          "2024-04-08T12:30:00.000000000",
          "2024-04-08T12:45:00.000000000",
          "2024-04-08T13:00:00.000000000",
          "2024-04-08T13:15:00.000000000",
          "2024-04-08T13:30:00.000000000",
          "2024-04-08T13:45:00.000000000",
          "2024-04-08T14:00:00.000000000",
          "2024-04-08T14:15:00.000000000",
          "2024-04-08T14:30:00.000000000",
          "2024-04-08T14:45:00.000000000",
          "2024-04-08T15:00:00.000000000",
          "2024-04-08T15:15:00.000000000",
          "2024-04-08T15:30:00.000000000",
          "2024-04-08T15:45:00.000000000",
          "2024-04-08T16:00:00.000000000",
          "2024-04-08T16:15:00.000000000",
          "2024-04-08T16:30:00.000000000",
          "2024-04-08T16:45:00.000000000",
          "2024-04-08T17:00:00.000000000",
          "2024-04-08T17:15:00.000000000",
          "2024-04-08T17:30:00.000000000",
          "2024-04-08T17:45:00.000000000",
          "2024-04-08T18:00:00.000000000",
          "2024-04-08T18:15:00.000000000",
          "2024-04-08T18:30:00.000000000",
          "2024-04-08T18:45:00.000000000",
          "2024-04-08T19:00:00.000000000",
          "2024-04-08T19:15:00.000000000",
          "2024-04-08T19:30:00.000000000",
          "2024-04-08T19:45:00.000000000",
          "2024-04-08T20:00:00.000000000"
         ],
         "y": [
          4,
          9,
          1,
          3,
          1,
          0,
          0,
          0,
          1,
          4,
          0,
          0,
          0,
          0,
          1,
          2,
          2,
          0,
          0,
          0,
          0,
          0,
          5,
          1,
          0,
          0,
          0,
          1,
          0,
          26,
          1,
          0,
          0,
          0,
          2,
          3,
          48,
          10,
          2,
          0,
          1,
          1,
          0,
          0,
          0,
          0,
          0,
          0,
          0
         ]
        }
       ],
       "layout": {
        "template": {
         "data": {
          "bar": [
           {
            "error_x": {
             "color": "#2a3f5f"
            },
            "error_y": {
             "color": "#2a3f5f"
            },
            "marker": {
             "line": {
              "color": "#E5ECF6",
              "width": 0.5
             },
             "pattern": {
              "fillmode": "overlay",
              "size": 10,
              "solidity": 0.2
             }
            },
            "type": "bar"
           }
          ],
          "barpolar": [
           {
            "marker": {
             "line": {
              "color": "#E5ECF6",
              "width": 0.5
             },
             "pattern": {
              "fillmode": "overlay",
              "size": 10,
              "solidity": 0.2
             }
            },
            "type": "barpolar"
           }
          ],
          "carpet": [
           {
            "aaxis": {
             "endlinecolor": "#2a3f5f",
             "gridcolor": "white",
             "linecolor": "white",
             "minorgridcolor": "white",
             "startlinecolor": "#2a3f5f"
            },
            "baxis": {
             "endlinecolor": "#2a3f5f",
             "gridcolor": "white",
             "linecolor": "white",
             "minorgridcolor": "white",
             "startlinecolor": "#2a3f5f"
            },
            "type": "carpet"
           }
          ],
          "choropleth": [
           {
            "colorbar": {
             "outlinewidth": 0,
             "ticks": ""
            },
            "type": "choropleth"
           }
          ],
          "contour": [
           {
            "colorbar": {
             "outlinewidth": 0,
             "ticks": ""
            },
            "colorscale": [
             [
              0,
              "#0d0887"
             ],
             [
              0.1111111111111111,
              "#46039f"
             ],
             [
              0.2222222222222222,
              "#7201a8"
             ],
             [
              0.3333333333333333,
              "#9c179e"
             ],
             [
              0.4444444444444444,
              "#bd3786"
             ],
             [
              0.5555555555555556,
              "#d8576b"
             ],
             [
              0.6666666666666666,
              "#ed7953"
             ],
             [
              0.7777777777777778,
              "#fb9f3a"
             ],
             [
              0.8888888888888888,
              "#fdca26"
             ],
             [
              1,
              "#f0f921"
             ]
            ],
            "type": "contour"
           }
          ],
          "contourcarpet": [
           {
            "colorbar": {
             "outlinewidth": 0,
             "ticks": ""
            },
            "type": "contourcarpet"
           }
          ],
          "heatmap": [
           {
            "colorbar": {
             "outlinewidth": 0,
             "ticks": ""
            },
            "colorscale": [
             [
              0,
              "#0d0887"
             ],
             [
              0.1111111111111111,
              "#46039f"
             ],
             [
              0.2222222222222222,
              "#7201a8"
             ],
             [
              0.3333333333333333,
              "#9c179e"
             ],
             [
              0.4444444444444444,
              "#bd3786"
             ],
             [
              0.5555555555555556,
              "#d8576b"
             ],
             [
              0.6666666666666666,
              "#ed7953"
             ],
             [
              0.7777777777777778,
              "#fb9f3a"
             ],
             [
              0.8888888888888888,
              "#fdca26"
             ],
             [
              1,
              "#f0f921"
             ]
            ],
            "type": "heatmap"
           }
          ],
          "heatmapgl": [
           {
            "colorbar": {
             "outlinewidth": 0,
             "ticks": ""
            },
            "colorscale": [
             [
              0,
              "#0d0887"
             ],
             [
              0.1111111111111111,
              "#46039f"
             ],
             [
              0.2222222222222222,
              "#7201a8"
             ],
             [
              0.3333333333333333,
              "#9c179e"
             ],
             [
              0.4444444444444444,
              "#bd3786"
             ],
             [
              0.5555555555555556,
              "#d8576b"
             ],
             [
              0.6666666666666666,
              "#ed7953"
             ],
             [
              0.7777777777777778,
              "#fb9f3a"
             ],
             [
              0.8888888888888888,
              "#fdca26"
             ],
             [
              1,
              "#f0f921"
             ]
            ],
            "type": "heatmapgl"
           }
          ],
          "histogram": [
           {
            "marker": {
             "pattern": {
              "fillmode": "overlay",
              "size": 10,
              "solidity": 0.2
             }
            },
            "type": "histogram"
           }
          ],
          "histogram2d": [
           {
            "colorbar": {
             "outlinewidth": 0,
             "ticks": ""
            },
            "colorscale": [
             [
              0,
              "#0d0887"
             ],
             [
              0.1111111111111111,
              "#46039f"
             ],
             [
              0.2222222222222222,
              "#7201a8"
             ],
             [
              0.3333333333333333,
              "#9c179e"
             ],
             [
              0.4444444444444444,
              "#bd3786"
             ],
             [
              0.5555555555555556,
              "#d8576b"
             ],
             [
              0.6666666666666666,
              "#ed7953"
             ],
             [
              0.7777777777777778,
              "#fb9f3a"
             ],
             [
              0.8888888888888888,
              "#fdca26"
             ],
             [
              1,
              "#f0f921"
             ]
            ],
            "type": "histogram2d"
           }
          ],
          "histogram2dcontour": [
           {
            "colorbar": {
             "outlinewidth": 0,
             "ticks": ""
            },
            "colorscale": [
             [
              0,
              "#0d0887"
             ],
             [
              0.1111111111111111,
              "#46039f"
             ],
             [
              0.2222222222222222,
              "#7201a8"
             ],
             [
              0.3333333333333333,
              "#9c179e"
             ],
             [
              0.4444444444444444,
              "#bd3786"
             ],
             [
              0.5555555555555556,
              "#d8576b"
             ],
             [
              0.6666666666666666,
              "#ed7953"
             ],
             [
              0.7777777777777778,
              "#fb9f3a"
             ],
             [
              0.8888888888888888,
              "#fdca26"
             ],
             [
              1,
              "#f0f921"
             ]
            ],
            "type": "histogram2dcontour"
           }
          ],
          "mesh3d": [
           {
            "colorbar": {
             "outlinewidth": 0,
             "ticks": ""
            },
            "type": "mesh3d"
           }
          ],
          "parcoords": [
           {
            "line": {
             "colorbar": {
              "outlinewidth": 0,
              "ticks": ""
             }
            },
            "type": "parcoords"
           }
          ],
          "pie": [
           {
            "automargin": true,
            "type": "pie"
           }
          ],
          "scatter": [
           {
            "fillpattern": {
             "fillmode": "overlay",
             "size": 10,
             "solidity": 0.2
            },
            "type": "scatter"
           }
          ],
          "scatter3d": [
           {
            "line": {
             "colorbar": {
              "outlinewidth": 0,
              "ticks": ""
             }
            },
            "marker": {
             "colorbar": {
              "outlinewidth": 0,
              "ticks": ""
             }
            },
            "type": "scatter3d"
           }
          ],
          "scattercarpet": [
           {
            "marker": {
             "colorbar": {
              "outlinewidth": 0,
              "ticks": ""
             }
            },
            "type": "scattercarpet"
           }
          ],
          "scattergeo": [
           {
            "marker": {
             "colorbar": {
              "outlinewidth": 0,
              "ticks": ""
             }
            },
            "type": "scattergeo"
           }
          ],
          "scattergl": [
           {
            "marker": {
             "colorbar": {
              "outlinewidth": 0,
              "ticks": ""
             }
            },
            "type": "scattergl"
           }
          ],
          "scattermapbox": [
           {
            "marker": {
             "colorbar": {
              "outlinewidth": 0,
              "ticks": ""
             }
            },
            "type": "scattermapbox"
           }
          ],
          "scatterpolar": [
           {
            "marker": {
             "colorbar": {
              "outlinewidth": 0,
              "ticks": ""
             }
            },
            "type": "scatterpolar"
           }
          ],
          "scatterpolargl": [
           {
            "marker": {
             "colorbar": {
              "outlinewidth": 0,
              "ticks": ""
             }
            },
            "type": "scatterpolargl"
           }
          ],
          "scatterternary": [
           {
            "marker": {
             "colorbar": {
              "outlinewidth": 0,
              "ticks": ""
             }
            },
            "type": "scatterternary"
           }
          ],
          "surface": [
           {
            "colorbar": {
             "outlinewidth": 0,
             "ticks": ""
            },
            "colorscale": [
             [
              0,
              "#0d0887"
             ],
             [
              0.1111111111111111,
              "#46039f"
             ],
             [
              0.2222222222222222,
              "#7201a8"
             ],
             [
              0.3333333333333333,
              "#9c179e"
             ],
             [
              0.4444444444444444,
              "#bd3786"
             ],
             [
              0.5555555555555556,
              "#d8576b"
             ],
             [
              0.6666666666666666,
              "#ed7953"
             ],
             [
              0.7777777777777778,
              "#fb9f3a"
             ],
             [
              0.8888888888888888,
              "#fdca26"
             ],
             [
              1,
              "#f0f921"
             ]
            ],
            "type": "surface"
           }
          ],
          "table": [
           {
            "cells": {
             "fill": {
              "color": "#EBF0F8"
             },
             "line": {
              "color": "white"
             }
            },
            "header": {
             "fill": {
              "color": "#C8D4E3"
             },
             "line": {
              "color": "white"
             }
            },
            "type": "table"
           }
          ]
         },
         "layout": {
          "annotationdefaults": {
           "arrowcolor": "#2a3f5f",
           "arrowhead": 0,
           "arrowwidth": 1
          },
          "autotypenumbers": "strict",
          "coloraxis": {
           "colorbar": {
            "outlinewidth": 0,
            "ticks": ""
           }
          },
          "colorscale": {
           "diverging": [
            [
             0,
             "#8e0152"
            ],
            [
             0.1,
             "#c51b7d"
            ],
            [
             0.2,
             "#de77ae"
            ],
            [
             0.3,
             "#f1b6da"
            ],
            [
             0.4,
             "#fde0ef"
            ],
            [
             0.5,
             "#f7f7f7"
            ],
            [
             0.6,
             "#e6f5d0"
            ],
            [
             0.7,
             "#b8e186"
            ],
            [
             0.8,
             "#7fbc41"
            ],
            [
             0.9,
             "#4d9221"
            ],
            [
             1,
             "#276419"
            ]
           ],
           "sequential": [
            [
             0,
             "#0d0887"
            ],
            [
             0.1111111111111111,
             "#46039f"
            ],
            [
             0.2222222222222222,
             "#7201a8"
            ],
            [
             0.3333333333333333,
             "#9c179e"
            ],
            [
             0.4444444444444444,
             "#bd3786"
            ],
            [
             0.5555555555555556,
             "#d8576b"
            ],
            [
             0.6666666666666666,
             "#ed7953"
            ],
            [
             0.7777777777777778,
             "#fb9f3a"
            ],
            [
             0.8888888888888888,
             "#fdca26"
            ],
            [
             1,
             "#f0f921"
            ]
           ],
           "sequentialminus": [
            [
             0,
             "#0d0887"
            ],
            [
             0.1111111111111111,
             "#46039f"
            ],
            [
             0.2222222222222222,
             "#7201a8"
            ],
            [
             0.3333333333333333,
             "#9c179e"
            ],
            [
             0.4444444444444444,
             "#bd3786"
            ],
            [
             0.5555555555555556,
             "#d8576b"
            ],
            [
             0.6666666666666666,
             "#ed7953"
            ],
            [
             0.7777777777777778,
             "#fb9f3a"
            ],
            [
             0.8888888888888888,
             "#fdca26"
            ],
            [
             1,
             "#f0f921"
            ]
           ]
          },
          "colorway": [
           "#636efa",
           "#EF553B",
           "#00cc96",
           "#ab63fa",
           "#FFA15A",
           "#19d3f3",
           "#FF6692",
           "#B6E880",
           "#FF97FF",
           "#FECB52"
          ],
          "font": {
           "color": "#2a3f5f"
          },
          "geo": {
           "bgcolor": "white",
           "lakecolor": "white",
           "landcolor": "#E5ECF6",
           "showlakes": true,
           "showland": true,
           "subunitcolor": "white"
          },
          "hoverlabel": {
           "align": "left"
          },
          "hovermode": "closest",
          "mapbox": {
           "style": "light"
          },
          "paper_bgcolor": "white",
          "plot_bgcolor": "#E5ECF6",
          "polar": {
           "angularaxis": {
            "gridcolor": "white",
            "linecolor": "white",
            "ticks": ""
           },
           "bgcolor": "#E5ECF6",
           "radialaxis": {
            "gridcolor": "white",
            "linecolor": "white",
            "ticks": ""
           }
          },
          "scene": {
           "xaxis": {
            "backgroundcolor": "#E5ECF6",
            "gridcolor": "white",
            "gridwidth": 2,
            "linecolor": "white",
            "showbackground": true,
            "ticks": "",
            "zerolinecolor": "white"
           },
           "yaxis": {
            "backgroundcolor": "#E5ECF6",
            "gridcolor": "white",
            "gridwidth": 2,
            "linecolor": "white",
            "showbackground": true,
            "ticks": "",
            "zerolinecolor": "white"
           },
           "zaxis": {
            "backgroundcolor": "#E5ECF6",
            "gridcolor": "white",
            "gridwidth": 2,
            "linecolor": "white",
            "showbackground": true,
            "ticks": "",
            "zerolinecolor": "white"
           }
          },
          "shapedefaults": {
           "line": {
            "color": "#2a3f5f"
           }
          },
          "ternary": {
           "aaxis": {
            "gridcolor": "white",
            "linecolor": "white",
            "ticks": ""
           },
           "baxis": {
            "gridcolor": "white",
            "linecolor": "white",
            "ticks": ""
           },
           "bgcolor": "#E5ECF6",
           "caxis": {
            "gridcolor": "white",
            "linecolor": "white",
            "ticks": ""
           }
          },
          "title": {
           "x": 0.05
          },
          "xaxis": {
           "automargin": true,
           "gridcolor": "white",
           "linecolor": "white",
           "ticks": "",
           "title": {
            "standoff": 15
           },
           "zerolinecolor": "white",
           "zerolinewidth": 2
          },
          "yaxis": {
           "automargin": true,
           "gridcolor": "white",
           "linecolor": "white",
           "ticks": "",
           "title": {
            "standoff": 15
           },
           "zerolinecolor": "white",
           "zerolinewidth": 2
          }
         }
        }
       }
      }
     },
     "metadata": {},
     "output_type": "display_data"
    },
    {
     "name": "stdout",
     "output_type": "stream",
     "text": [
      "################ 5 ################\n",
      "[29 39]\n"
     ]
    },
    {
     "data": {
      "application/vnd.plotly.v1+json": {
       "config": {
        "plotlyServerURL": "https://plot.ly"
       },
       "data": [
        {
         "mode": "lines+markers",
         "type": "scatter",
         "x": [
          "2024-04-08T08:00:00.000000000",
          "2024-04-08T08:15:00.000000000",
          "2024-04-08T08:30:00.000000000",
          "2024-04-08T08:45:00.000000000",
          "2024-04-08T09:00:00.000000000",
          "2024-04-08T09:15:00.000000000",
          "2024-04-08T09:30:00.000000000",
          "2024-04-08T09:45:00.000000000",
          "2024-04-08T10:00:00.000000000",
          "2024-04-08T10:15:00.000000000",
          "2024-04-08T10:30:00.000000000",
          "2024-04-08T10:45:00.000000000",
          "2024-04-08T11:00:00.000000000",
          "2024-04-08T11:15:00.000000000",
          "2024-04-08T11:30:00.000000000",
          "2024-04-08T11:45:00.000000000",
          "2024-04-08T12:00:00.000000000",
          "2024-04-08T12:15:00.000000000",
          "2024-04-08T12:30:00.000000000",
          "2024-04-08T12:45:00.000000000",
          "2024-04-08T13:00:00.000000000",
          "2024-04-08T13:15:00.000000000",
          "2024-04-08T13:30:00.000000000",
          "2024-04-08T13:45:00.000000000",
          "2024-04-08T14:00:00.000000000",
          "2024-04-08T14:15:00.000000000",
          "2024-04-08T14:30:00.000000000",
          "2024-04-08T14:45:00.000000000",
          "2024-04-08T15:00:00.000000000",
          "2024-04-08T15:15:00.000000000",
          "2024-04-08T15:30:00.000000000",
          "2024-04-08T15:45:00.000000000",
          "2024-04-08T16:00:00.000000000",
          "2024-04-08T16:15:00.000000000",
          "2024-04-08T16:30:00.000000000",
          "2024-04-08T16:45:00.000000000",
          "2024-04-08T17:00:00.000000000",
          "2024-04-08T17:15:00.000000000",
          "2024-04-08T17:30:00.000000000",
          "2024-04-08T17:45:00.000000000",
          "2024-04-08T18:00:00.000000000",
          "2024-04-08T18:15:00.000000000",
          "2024-04-08T18:30:00.000000000",
          "2024-04-08T18:45:00.000000000",
          "2024-04-08T19:00:00.000000000",
          "2024-04-08T19:15:00.000000000",
          "2024-04-08T19:30:00.000000000",
          "2024-04-08T19:45:00.000000000",
          "2024-04-08T20:00:00.000000000"
         ],
         "y": [
          2,
          21,
          13,
          4,
          1,
          1,
          2,
          4,
          20,
          18,
          0,
          0,
          0,
          0,
          17,
          37,
          1,
          0,
          0,
          0,
          3,
          0,
          8,
          1,
          0,
          0,
          1,
          0,
          4,
          8,
          4,
          0,
          0,
          0,
          0,
          0,
          0,
          0,
          1,
          0,
          0,
          0,
          0,
          0,
          0,
          0,
          0,
          0,
          0
         ]
        },
        {
         "mode": "lines+markers",
         "type": "scatter",
         "x": [
          "2024-04-08T08:00:00.000000000",
          "2024-04-08T08:15:00.000000000",
          "2024-04-08T08:30:00.000000000",
          "2024-04-08T08:45:00.000000000",
          "2024-04-08T09:00:00.000000000",
          "2024-04-08T09:15:00.000000000",
          "2024-04-08T09:30:00.000000000",
          "2024-04-08T09:45:00.000000000",
          "2024-04-08T10:00:00.000000000",
          "2024-04-08T10:15:00.000000000",
          "2024-04-08T10:30:00.000000000",
          "2024-04-08T10:45:00.000000000",
          "2024-04-08T11:00:00.000000000",
          "2024-04-08T11:15:00.000000000",
          "2024-04-08T11:30:00.000000000",
          "2024-04-08T11:45:00.000000000",
          "2024-04-08T12:00:00.000000000",
          "2024-04-08T12:15:00.000000000",
          "2024-04-08T12:30:00.000000000",
          "2024-04-08T12:45:00.000000000",
          "2024-04-08T13:00:00.000000000",
          "2024-04-08T13:15:00.000000000",
          "2024-04-08T13:30:00.000000000",
          "2024-04-08T13:45:00.000000000",
          "2024-04-08T14:00:00.000000000",
          "2024-04-08T14:15:00.000000000",
          "2024-04-08T14:30:00.000000000",
          "2024-04-08T14:45:00.000000000",
          "2024-04-08T15:00:00.000000000",
          "2024-04-08T15:15:00.000000000",
          "2024-04-08T15:30:00.000000000",
          "2024-04-08T15:45:00.000000000",
          "2024-04-08T16:00:00.000000000",
          "2024-04-08T16:15:00.000000000",
          "2024-04-08T16:30:00.000000000",
          "2024-04-08T16:45:00.000000000",
          "2024-04-08T17:00:00.000000000",
          "2024-04-08T17:15:00.000000000",
          "2024-04-08T17:30:00.000000000",
          "2024-04-08T17:45:00.000000000",
          "2024-04-08T18:00:00.000000000",
          "2024-04-08T18:15:00.000000000",
          "2024-04-08T18:30:00.000000000",
          "2024-04-08T18:45:00.000000000",
          "2024-04-08T19:00:00.000000000",
          "2024-04-08T19:15:00.000000000",
          "2024-04-08T19:30:00.000000000",
          "2024-04-08T19:45:00.000000000",
          "2024-04-08T20:00:00.000000000"
         ],
         "y": [
          5,
          13,
          6,
          0,
          0,
          0,
          0,
          3,
          12,
          0,
          1,
          0,
          4,
          8,
          47,
          20,
          1,
          0,
          7,
          0,
          0,
          0,
          0,
          0,
          0,
          0,
          0,
          0,
          0,
          0,
          0,
          0,
          0,
          0,
          0,
          0,
          0,
          0,
          0,
          0,
          0,
          0,
          0,
          0,
          0,
          0,
          0,
          1,
          0
         ]
        }
       ],
       "layout": {
        "template": {
         "data": {
          "bar": [
           {
            "error_x": {
             "color": "#2a3f5f"
            },
            "error_y": {
             "color": "#2a3f5f"
            },
            "marker": {
             "line": {
              "color": "#E5ECF6",
              "width": 0.5
             },
             "pattern": {
              "fillmode": "overlay",
              "size": 10,
              "solidity": 0.2
             }
            },
            "type": "bar"
           }
          ],
          "barpolar": [
           {
            "marker": {
             "line": {
              "color": "#E5ECF6",
              "width": 0.5
             },
             "pattern": {
              "fillmode": "overlay",
              "size": 10,
              "solidity": 0.2
             }
            },
            "type": "barpolar"
           }
          ],
          "carpet": [
           {
            "aaxis": {
             "endlinecolor": "#2a3f5f",
             "gridcolor": "white",
             "linecolor": "white",
             "minorgridcolor": "white",
             "startlinecolor": "#2a3f5f"
            },
            "baxis": {
             "endlinecolor": "#2a3f5f",
             "gridcolor": "white",
             "linecolor": "white",
             "minorgridcolor": "white",
             "startlinecolor": "#2a3f5f"
            },
            "type": "carpet"
           }
          ],
          "choropleth": [
           {
            "colorbar": {
             "outlinewidth": 0,
             "ticks": ""
            },
            "type": "choropleth"
           }
          ],
          "contour": [
           {
            "colorbar": {
             "outlinewidth": 0,
             "ticks": ""
            },
            "colorscale": [
             [
              0,
              "#0d0887"
             ],
             [
              0.1111111111111111,
              "#46039f"
             ],
             [
              0.2222222222222222,
              "#7201a8"
             ],
             [
              0.3333333333333333,
              "#9c179e"
             ],
             [
              0.4444444444444444,
              "#bd3786"
             ],
             [
              0.5555555555555556,
              "#d8576b"
             ],
             [
              0.6666666666666666,
              "#ed7953"
             ],
             [
              0.7777777777777778,
              "#fb9f3a"
             ],
             [
              0.8888888888888888,
              "#fdca26"
             ],
             [
              1,
              "#f0f921"
             ]
            ],
            "type": "contour"
           }
          ],
          "contourcarpet": [
           {
            "colorbar": {
             "outlinewidth": 0,
             "ticks": ""
            },
            "type": "contourcarpet"
           }
          ],
          "heatmap": [
           {
            "colorbar": {
             "outlinewidth": 0,
             "ticks": ""
            },
            "colorscale": [
             [
              0,
              "#0d0887"
             ],
             [
              0.1111111111111111,
              "#46039f"
             ],
             [
              0.2222222222222222,
              "#7201a8"
             ],
             [
              0.3333333333333333,
              "#9c179e"
             ],
             [
              0.4444444444444444,
              "#bd3786"
             ],
             [
              0.5555555555555556,
              "#d8576b"
             ],
             [
              0.6666666666666666,
              "#ed7953"
             ],
             [
              0.7777777777777778,
              "#fb9f3a"
             ],
             [
              0.8888888888888888,
              "#fdca26"
             ],
             [
              1,
              "#f0f921"
             ]
            ],
            "type": "heatmap"
           }
          ],
          "heatmapgl": [
           {
            "colorbar": {
             "outlinewidth": 0,
             "ticks": ""
            },
            "colorscale": [
             [
              0,
              "#0d0887"
             ],
             [
              0.1111111111111111,
              "#46039f"
             ],
             [
              0.2222222222222222,
              "#7201a8"
             ],
             [
              0.3333333333333333,
              "#9c179e"
             ],
             [
              0.4444444444444444,
              "#bd3786"
             ],
             [
              0.5555555555555556,
              "#d8576b"
             ],
             [
              0.6666666666666666,
              "#ed7953"
             ],
             [
              0.7777777777777778,
              "#fb9f3a"
             ],
             [
              0.8888888888888888,
              "#fdca26"
             ],
             [
              1,
              "#f0f921"
             ]
            ],
            "type": "heatmapgl"
           }
          ],
          "histogram": [
           {
            "marker": {
             "pattern": {
              "fillmode": "overlay",
              "size": 10,
              "solidity": 0.2
             }
            },
            "type": "histogram"
           }
          ],
          "histogram2d": [
           {
            "colorbar": {
             "outlinewidth": 0,
             "ticks": ""
            },
            "colorscale": [
             [
              0,
              "#0d0887"
             ],
             [
              0.1111111111111111,
              "#46039f"
             ],
             [
              0.2222222222222222,
              "#7201a8"
             ],
             [
              0.3333333333333333,
              "#9c179e"
             ],
             [
              0.4444444444444444,
              "#bd3786"
             ],
             [
              0.5555555555555556,
              "#d8576b"
             ],
             [
              0.6666666666666666,
              "#ed7953"
             ],
             [
              0.7777777777777778,
              "#fb9f3a"
             ],
             [
              0.8888888888888888,
              "#fdca26"
             ],
             [
              1,
              "#f0f921"
             ]
            ],
            "type": "histogram2d"
           }
          ],
          "histogram2dcontour": [
           {
            "colorbar": {
             "outlinewidth": 0,
             "ticks": ""
            },
            "colorscale": [
             [
              0,
              "#0d0887"
             ],
             [
              0.1111111111111111,
              "#46039f"
             ],
             [
              0.2222222222222222,
              "#7201a8"
             ],
             [
              0.3333333333333333,
              "#9c179e"
             ],
             [
              0.4444444444444444,
              "#bd3786"
             ],
             [
              0.5555555555555556,
              "#d8576b"
             ],
             [
              0.6666666666666666,
              "#ed7953"
             ],
             [
              0.7777777777777778,
              "#fb9f3a"
             ],
             [
              0.8888888888888888,
              "#fdca26"
             ],
             [
              1,
              "#f0f921"
             ]
            ],
            "type": "histogram2dcontour"
           }
          ],
          "mesh3d": [
           {
            "colorbar": {
             "outlinewidth": 0,
             "ticks": ""
            },
            "type": "mesh3d"
           }
          ],
          "parcoords": [
           {
            "line": {
             "colorbar": {
              "outlinewidth": 0,
              "ticks": ""
             }
            },
            "type": "parcoords"
           }
          ],
          "pie": [
           {
            "automargin": true,
            "type": "pie"
           }
          ],
          "scatter": [
           {
            "fillpattern": {
             "fillmode": "overlay",
             "size": 10,
             "solidity": 0.2
            },
            "type": "scatter"
           }
          ],
          "scatter3d": [
           {
            "line": {
             "colorbar": {
              "outlinewidth": 0,
              "ticks": ""
             }
            },
            "marker": {
             "colorbar": {
              "outlinewidth": 0,
              "ticks": ""
             }
            },
            "type": "scatter3d"
           }
          ],
          "scattercarpet": [
           {
            "marker": {
             "colorbar": {
              "outlinewidth": 0,
              "ticks": ""
             }
            },
            "type": "scattercarpet"
           }
          ],
          "scattergeo": [
           {
            "marker": {
             "colorbar": {
              "outlinewidth": 0,
              "ticks": ""
             }
            },
            "type": "scattergeo"
           }
          ],
          "scattergl": [
           {
            "marker": {
             "colorbar": {
              "outlinewidth": 0,
              "ticks": ""
             }
            },
            "type": "scattergl"
           }
          ],
          "scattermapbox": [
           {
            "marker": {
             "colorbar": {
              "outlinewidth": 0,
              "ticks": ""
             }
            },
            "type": "scattermapbox"
           }
          ],
          "scatterpolar": [
           {
            "marker": {
             "colorbar": {
              "outlinewidth": 0,
              "ticks": ""
             }
            },
            "type": "scatterpolar"
           }
          ],
          "scatterpolargl": [
           {
            "marker": {
             "colorbar": {
              "outlinewidth": 0,
              "ticks": ""
             }
            },
            "type": "scatterpolargl"
           }
          ],
          "scatterternary": [
           {
            "marker": {
             "colorbar": {
              "outlinewidth": 0,
              "ticks": ""
             }
            },
            "type": "scatterternary"
           }
          ],
          "surface": [
           {
            "colorbar": {
             "outlinewidth": 0,
             "ticks": ""
            },
            "colorscale": [
             [
              0,
              "#0d0887"
             ],
             [
              0.1111111111111111,
              "#46039f"
             ],
             [
              0.2222222222222222,
              "#7201a8"
             ],
             [
              0.3333333333333333,
              "#9c179e"
             ],
             [
              0.4444444444444444,
              "#bd3786"
             ],
             [
              0.5555555555555556,
              "#d8576b"
             ],
             [
              0.6666666666666666,
              "#ed7953"
             ],
             [
              0.7777777777777778,
              "#fb9f3a"
             ],
             [
              0.8888888888888888,
              "#fdca26"
             ],
             [
              1,
              "#f0f921"
             ]
            ],
            "type": "surface"
           }
          ],
          "table": [
           {
            "cells": {
             "fill": {
              "color": "#EBF0F8"
             },
             "line": {
              "color": "white"
             }
            },
            "header": {
             "fill": {
              "color": "#C8D4E3"
             },
             "line": {
              "color": "white"
             }
            },
            "type": "table"
           }
          ]
         },
         "layout": {
          "annotationdefaults": {
           "arrowcolor": "#2a3f5f",
           "arrowhead": 0,
           "arrowwidth": 1
          },
          "autotypenumbers": "strict",
          "coloraxis": {
           "colorbar": {
            "outlinewidth": 0,
            "ticks": ""
           }
          },
          "colorscale": {
           "diverging": [
            [
             0,
             "#8e0152"
            ],
            [
             0.1,
             "#c51b7d"
            ],
            [
             0.2,
             "#de77ae"
            ],
            [
             0.3,
             "#f1b6da"
            ],
            [
             0.4,
             "#fde0ef"
            ],
            [
             0.5,
             "#f7f7f7"
            ],
            [
             0.6,
             "#e6f5d0"
            ],
            [
             0.7,
             "#b8e186"
            ],
            [
             0.8,
             "#7fbc41"
            ],
            [
             0.9,
             "#4d9221"
            ],
            [
             1,
             "#276419"
            ]
           ],
           "sequential": [
            [
             0,
             "#0d0887"
            ],
            [
             0.1111111111111111,
             "#46039f"
            ],
            [
             0.2222222222222222,
             "#7201a8"
            ],
            [
             0.3333333333333333,
             "#9c179e"
            ],
            [
             0.4444444444444444,
             "#bd3786"
            ],
            [
             0.5555555555555556,
             "#d8576b"
            ],
            [
             0.6666666666666666,
             "#ed7953"
            ],
            [
             0.7777777777777778,
             "#fb9f3a"
            ],
            [
             0.8888888888888888,
             "#fdca26"
            ],
            [
             1,
             "#f0f921"
            ]
           ],
           "sequentialminus": [
            [
             0,
             "#0d0887"
            ],
            [
             0.1111111111111111,
             "#46039f"
            ],
            [
             0.2222222222222222,
             "#7201a8"
            ],
            [
             0.3333333333333333,
             "#9c179e"
            ],
            [
             0.4444444444444444,
             "#bd3786"
            ],
            [
             0.5555555555555556,
             "#d8576b"
            ],
            [
             0.6666666666666666,
             "#ed7953"
            ],
            [
             0.7777777777777778,
             "#fb9f3a"
            ],
            [
             0.8888888888888888,
             "#fdca26"
            ],
            [
             1,
             "#f0f921"
            ]
           ]
          },
          "colorway": [
           "#636efa",
           "#EF553B",
           "#00cc96",
           "#ab63fa",
           "#FFA15A",
           "#19d3f3",
           "#FF6692",
           "#B6E880",
           "#FF97FF",
           "#FECB52"
          ],
          "font": {
           "color": "#2a3f5f"
          },
          "geo": {
           "bgcolor": "white",
           "lakecolor": "white",
           "landcolor": "#E5ECF6",
           "showlakes": true,
           "showland": true,
           "subunitcolor": "white"
          },
          "hoverlabel": {
           "align": "left"
          },
          "hovermode": "closest",
          "mapbox": {
           "style": "light"
          },
          "paper_bgcolor": "white",
          "plot_bgcolor": "#E5ECF6",
          "polar": {
           "angularaxis": {
            "gridcolor": "white",
            "linecolor": "white",
            "ticks": ""
           },
           "bgcolor": "#E5ECF6",
           "radialaxis": {
            "gridcolor": "white",
            "linecolor": "white",
            "ticks": ""
           }
          },
          "scene": {
           "xaxis": {
            "backgroundcolor": "#E5ECF6",
            "gridcolor": "white",
            "gridwidth": 2,
            "linecolor": "white",
            "showbackground": true,
            "ticks": "",
            "zerolinecolor": "white"
           },
           "yaxis": {
            "backgroundcolor": "#E5ECF6",
            "gridcolor": "white",
            "gridwidth": 2,
            "linecolor": "white",
            "showbackground": true,
            "ticks": "",
            "zerolinecolor": "white"
           },
           "zaxis": {
            "backgroundcolor": "#E5ECF6",
            "gridcolor": "white",
            "gridwidth": 2,
            "linecolor": "white",
            "showbackground": true,
            "ticks": "",
            "zerolinecolor": "white"
           }
          },
          "shapedefaults": {
           "line": {
            "color": "#2a3f5f"
           }
          },
          "ternary": {
           "aaxis": {
            "gridcolor": "white",
            "linecolor": "white",
            "ticks": ""
           },
           "baxis": {
            "gridcolor": "white",
            "linecolor": "white",
            "ticks": ""
           },
           "bgcolor": "#E5ECF6",
           "caxis": {
            "gridcolor": "white",
            "linecolor": "white",
            "ticks": ""
           }
          },
          "title": {
           "x": 0.05
          },
          "xaxis": {
           "automargin": true,
           "gridcolor": "white",
           "linecolor": "white",
           "ticks": "",
           "title": {
            "standoff": 15
           },
           "zerolinecolor": "white",
           "zerolinewidth": 2
          },
          "yaxis": {
           "automargin": true,
           "gridcolor": "white",
           "linecolor": "white",
           "ticks": "",
           "title": {
            "standoff": 15
           },
           "zerolinecolor": "white",
           "zerolinewidth": 2
          }
         }
        }
       }
      }
     },
     "metadata": {},
     "output_type": "display_data"
    },
    {
     "name": "stdout",
     "output_type": "stream",
     "text": [
      "################ 6 ################\n",
      "[4]\n"
     ]
    },
    {
     "data": {
      "application/vnd.plotly.v1+json": {
       "config": {
        "plotlyServerURL": "https://plot.ly"
       },
       "data": [
        {
         "mode": "lines+markers",
         "type": "scatter",
         "x": [
          "2024-04-08T08:00:00.000000000",
          "2024-04-08T08:15:00.000000000",
          "2024-04-08T08:30:00.000000000",
          "2024-04-08T08:45:00.000000000",
          "2024-04-08T09:00:00.000000000",
          "2024-04-08T09:15:00.000000000",
          "2024-04-08T09:30:00.000000000",
          "2024-04-08T09:45:00.000000000",
          "2024-04-08T10:00:00.000000000",
          "2024-04-08T10:15:00.000000000",
          "2024-04-08T10:30:00.000000000",
          "2024-04-08T10:45:00.000000000",
          "2024-04-08T11:00:00.000000000",
          "2024-04-08T11:15:00.000000000",
          "2024-04-08T11:30:00.000000000",
          "2024-04-08T11:45:00.000000000",
          "2024-04-08T12:00:00.000000000",
          "2024-04-08T12:15:00.000000000",
          "2024-04-08T12:30:00.000000000",
          "2024-04-08T12:45:00.000000000",
          "2024-04-08T13:00:00.000000000",
          "2024-04-08T13:15:00.000000000",
          "2024-04-08T13:30:00.000000000",
          "2024-04-08T13:45:00.000000000",
          "2024-04-08T14:00:00.000000000",
          "2024-04-08T14:15:00.000000000",
          "2024-04-08T14:30:00.000000000",
          "2024-04-08T14:45:00.000000000",
          "2024-04-08T15:00:00.000000000",
          "2024-04-08T15:15:00.000000000",
          "2024-04-08T15:30:00.000000000",
          "2024-04-08T15:45:00.000000000",
          "2024-04-08T16:00:00.000000000",
          "2024-04-08T16:15:00.000000000",
          "2024-04-08T16:30:00.000000000",
          "2024-04-08T16:45:00.000000000",
          "2024-04-08T17:00:00.000000000",
          "2024-04-08T17:15:00.000000000",
          "2024-04-08T17:30:00.000000000",
          "2024-04-08T17:45:00.000000000",
          "2024-04-08T18:00:00.000000000",
          "2024-04-08T18:15:00.000000000",
          "2024-04-08T18:30:00.000000000",
          "2024-04-08T18:45:00.000000000",
          "2024-04-08T19:00:00.000000000",
          "2024-04-08T19:15:00.000000000",
          "2024-04-08T19:30:00.000000000",
          "2024-04-08T19:45:00.000000000",
          "2024-04-08T20:00:00.000000000"
         ],
         "y": [
          1,
          11,
          7,
          1,
          1,
          0,
          0,
          1,
          16,
          1,
          1,
          0,
          0,
          3,
          2,
          46,
          13,
          5,
          1,
          1,
          3,
          1,
          1,
          2,
          11,
          47,
          7,
          1,
          4,
          1,
          3,
          2,
          38,
          2,
          0,
          2,
          0,
          0,
          0,
          0,
          0,
          0,
          0,
          0,
          0,
          0,
          0,
          2,
          0
         ]
        }
       ],
       "layout": {
        "template": {
         "data": {
          "bar": [
           {
            "error_x": {
             "color": "#2a3f5f"
            },
            "error_y": {
             "color": "#2a3f5f"
            },
            "marker": {
             "line": {
              "color": "#E5ECF6",
              "width": 0.5
             },
             "pattern": {
              "fillmode": "overlay",
              "size": 10,
              "solidity": 0.2
             }
            },
            "type": "bar"
           }
          ],
          "barpolar": [
           {
            "marker": {
             "line": {
              "color": "#E5ECF6",
              "width": 0.5
             },
             "pattern": {
              "fillmode": "overlay",
              "size": 10,
              "solidity": 0.2
             }
            },
            "type": "barpolar"
           }
          ],
          "carpet": [
           {
            "aaxis": {
             "endlinecolor": "#2a3f5f",
             "gridcolor": "white",
             "linecolor": "white",
             "minorgridcolor": "white",
             "startlinecolor": "#2a3f5f"
            },
            "baxis": {
             "endlinecolor": "#2a3f5f",
             "gridcolor": "white",
             "linecolor": "white",
             "minorgridcolor": "white",
             "startlinecolor": "#2a3f5f"
            },
            "type": "carpet"
           }
          ],
          "choropleth": [
           {
            "colorbar": {
             "outlinewidth": 0,
             "ticks": ""
            },
            "type": "choropleth"
           }
          ],
          "contour": [
           {
            "colorbar": {
             "outlinewidth": 0,
             "ticks": ""
            },
            "colorscale": [
             [
              0,
              "#0d0887"
             ],
             [
              0.1111111111111111,
              "#46039f"
             ],
             [
              0.2222222222222222,
              "#7201a8"
             ],
             [
              0.3333333333333333,
              "#9c179e"
             ],
             [
              0.4444444444444444,
              "#bd3786"
             ],
             [
              0.5555555555555556,
              "#d8576b"
             ],
             [
              0.6666666666666666,
              "#ed7953"
             ],
             [
              0.7777777777777778,
              "#fb9f3a"
             ],
             [
              0.8888888888888888,
              "#fdca26"
             ],
             [
              1,
              "#f0f921"
             ]
            ],
            "type": "contour"
           }
          ],
          "contourcarpet": [
           {
            "colorbar": {
             "outlinewidth": 0,
             "ticks": ""
            },
            "type": "contourcarpet"
           }
          ],
          "heatmap": [
           {
            "colorbar": {
             "outlinewidth": 0,
             "ticks": ""
            },
            "colorscale": [
             [
              0,
              "#0d0887"
             ],
             [
              0.1111111111111111,
              "#46039f"
             ],
             [
              0.2222222222222222,
              "#7201a8"
             ],
             [
              0.3333333333333333,
              "#9c179e"
             ],
             [
              0.4444444444444444,
              "#bd3786"
             ],
             [
              0.5555555555555556,
              "#d8576b"
             ],
             [
              0.6666666666666666,
              "#ed7953"
             ],
             [
              0.7777777777777778,
              "#fb9f3a"
             ],
             [
              0.8888888888888888,
              "#fdca26"
             ],
             [
              1,
              "#f0f921"
             ]
            ],
            "type": "heatmap"
           }
          ],
          "heatmapgl": [
           {
            "colorbar": {
             "outlinewidth": 0,
             "ticks": ""
            },
            "colorscale": [
             [
              0,
              "#0d0887"
             ],
             [
              0.1111111111111111,
              "#46039f"
             ],
             [
              0.2222222222222222,
              "#7201a8"
             ],
             [
              0.3333333333333333,
              "#9c179e"
             ],
             [
              0.4444444444444444,
              "#bd3786"
             ],
             [
              0.5555555555555556,
              "#d8576b"
             ],
             [
              0.6666666666666666,
              "#ed7953"
             ],
             [
              0.7777777777777778,
              "#fb9f3a"
             ],
             [
              0.8888888888888888,
              "#fdca26"
             ],
             [
              1,
              "#f0f921"
             ]
            ],
            "type": "heatmapgl"
           }
          ],
          "histogram": [
           {
            "marker": {
             "pattern": {
              "fillmode": "overlay",
              "size": 10,
              "solidity": 0.2
             }
            },
            "type": "histogram"
           }
          ],
          "histogram2d": [
           {
            "colorbar": {
             "outlinewidth": 0,
             "ticks": ""
            },
            "colorscale": [
             [
              0,
              "#0d0887"
             ],
             [
              0.1111111111111111,
              "#46039f"
             ],
             [
              0.2222222222222222,
              "#7201a8"
             ],
             [
              0.3333333333333333,
              "#9c179e"
             ],
             [
              0.4444444444444444,
              "#bd3786"
             ],
             [
              0.5555555555555556,
              "#d8576b"
             ],
             [
              0.6666666666666666,
              "#ed7953"
             ],
             [
              0.7777777777777778,
              "#fb9f3a"
             ],
             [
              0.8888888888888888,
              "#fdca26"
             ],
             [
              1,
              "#f0f921"
             ]
            ],
            "type": "histogram2d"
           }
          ],
          "histogram2dcontour": [
           {
            "colorbar": {
             "outlinewidth": 0,
             "ticks": ""
            },
            "colorscale": [
             [
              0,
              "#0d0887"
             ],
             [
              0.1111111111111111,
              "#46039f"
             ],
             [
              0.2222222222222222,
              "#7201a8"
             ],
             [
              0.3333333333333333,
              "#9c179e"
             ],
             [
              0.4444444444444444,
              "#bd3786"
             ],
             [
              0.5555555555555556,
              "#d8576b"
             ],
             [
              0.6666666666666666,
              "#ed7953"
             ],
             [
              0.7777777777777778,
              "#fb9f3a"
             ],
             [
              0.8888888888888888,
              "#fdca26"
             ],
             [
              1,
              "#f0f921"
             ]
            ],
            "type": "histogram2dcontour"
           }
          ],
          "mesh3d": [
           {
            "colorbar": {
             "outlinewidth": 0,
             "ticks": ""
            },
            "type": "mesh3d"
           }
          ],
          "parcoords": [
           {
            "line": {
             "colorbar": {
              "outlinewidth": 0,
              "ticks": ""
             }
            },
            "type": "parcoords"
           }
          ],
          "pie": [
           {
            "automargin": true,
            "type": "pie"
           }
          ],
          "scatter": [
           {
            "fillpattern": {
             "fillmode": "overlay",
             "size": 10,
             "solidity": 0.2
            },
            "type": "scatter"
           }
          ],
          "scatter3d": [
           {
            "line": {
             "colorbar": {
              "outlinewidth": 0,
              "ticks": ""
             }
            },
            "marker": {
             "colorbar": {
              "outlinewidth": 0,
              "ticks": ""
             }
            },
            "type": "scatter3d"
           }
          ],
          "scattercarpet": [
           {
            "marker": {
             "colorbar": {
              "outlinewidth": 0,
              "ticks": ""
             }
            },
            "type": "scattercarpet"
           }
          ],
          "scattergeo": [
           {
            "marker": {
             "colorbar": {
              "outlinewidth": 0,
              "ticks": ""
             }
            },
            "type": "scattergeo"
           }
          ],
          "scattergl": [
           {
            "marker": {
             "colorbar": {
              "outlinewidth": 0,
              "ticks": ""
             }
            },
            "type": "scattergl"
           }
          ],
          "scattermapbox": [
           {
            "marker": {
             "colorbar": {
              "outlinewidth": 0,
              "ticks": ""
             }
            },
            "type": "scattermapbox"
           }
          ],
          "scatterpolar": [
           {
            "marker": {
             "colorbar": {
              "outlinewidth": 0,
              "ticks": ""
             }
            },
            "type": "scatterpolar"
           }
          ],
          "scatterpolargl": [
           {
            "marker": {
             "colorbar": {
              "outlinewidth": 0,
              "ticks": ""
             }
            },
            "type": "scatterpolargl"
           }
          ],
          "scatterternary": [
           {
            "marker": {
             "colorbar": {
              "outlinewidth": 0,
              "ticks": ""
             }
            },
            "type": "scatterternary"
           }
          ],
          "surface": [
           {
            "colorbar": {
             "outlinewidth": 0,
             "ticks": ""
            },
            "colorscale": [
             [
              0,
              "#0d0887"
             ],
             [
              0.1111111111111111,
              "#46039f"
             ],
             [
              0.2222222222222222,
              "#7201a8"
             ],
             [
              0.3333333333333333,
              "#9c179e"
             ],
             [
              0.4444444444444444,
              "#bd3786"
             ],
             [
              0.5555555555555556,
              "#d8576b"
             ],
             [
              0.6666666666666666,
              "#ed7953"
             ],
             [
              0.7777777777777778,
              "#fb9f3a"
             ],
             [
              0.8888888888888888,
              "#fdca26"
             ],
             [
              1,
              "#f0f921"
             ]
            ],
            "type": "surface"
           }
          ],
          "table": [
           {
            "cells": {
             "fill": {
              "color": "#EBF0F8"
             },
             "line": {
              "color": "white"
             }
            },
            "header": {
             "fill": {
              "color": "#C8D4E3"
             },
             "line": {
              "color": "white"
             }
            },
            "type": "table"
           }
          ]
         },
         "layout": {
          "annotationdefaults": {
           "arrowcolor": "#2a3f5f",
           "arrowhead": 0,
           "arrowwidth": 1
          },
          "autotypenumbers": "strict",
          "coloraxis": {
           "colorbar": {
            "outlinewidth": 0,
            "ticks": ""
           }
          },
          "colorscale": {
           "diverging": [
            [
             0,
             "#8e0152"
            ],
            [
             0.1,
             "#c51b7d"
            ],
            [
             0.2,
             "#de77ae"
            ],
            [
             0.3,
             "#f1b6da"
            ],
            [
             0.4,
             "#fde0ef"
            ],
            [
             0.5,
             "#f7f7f7"
            ],
            [
             0.6,
             "#e6f5d0"
            ],
            [
             0.7,
             "#b8e186"
            ],
            [
             0.8,
             "#7fbc41"
            ],
            [
             0.9,
             "#4d9221"
            ],
            [
             1,
             "#276419"
            ]
           ],
           "sequential": [
            [
             0,
             "#0d0887"
            ],
            [
             0.1111111111111111,
             "#46039f"
            ],
            [
             0.2222222222222222,
             "#7201a8"
            ],
            [
             0.3333333333333333,
             "#9c179e"
            ],
            [
             0.4444444444444444,
             "#bd3786"
            ],
            [
             0.5555555555555556,
             "#d8576b"
            ],
            [
             0.6666666666666666,
             "#ed7953"
            ],
            [
             0.7777777777777778,
             "#fb9f3a"
            ],
            [
             0.8888888888888888,
             "#fdca26"
            ],
            [
             1,
             "#f0f921"
            ]
           ],
           "sequentialminus": [
            [
             0,
             "#0d0887"
            ],
            [
             0.1111111111111111,
             "#46039f"
            ],
            [
             0.2222222222222222,
             "#7201a8"
            ],
            [
             0.3333333333333333,
             "#9c179e"
            ],
            [
             0.4444444444444444,
             "#bd3786"
            ],
            [
             0.5555555555555556,
             "#d8576b"
            ],
            [
             0.6666666666666666,
             "#ed7953"
            ],
            [
             0.7777777777777778,
             "#fb9f3a"
            ],
            [
             0.8888888888888888,
             "#fdca26"
            ],
            [
             1,
             "#f0f921"
            ]
           ]
          },
          "colorway": [
           "#636efa",
           "#EF553B",
           "#00cc96",
           "#ab63fa",
           "#FFA15A",
           "#19d3f3",
           "#FF6692",
           "#B6E880",
           "#FF97FF",
           "#FECB52"
          ],
          "font": {
           "color": "#2a3f5f"
          },
          "geo": {
           "bgcolor": "white",
           "lakecolor": "white",
           "landcolor": "#E5ECF6",
           "showlakes": true,
           "showland": true,
           "subunitcolor": "white"
          },
          "hoverlabel": {
           "align": "left"
          },
          "hovermode": "closest",
          "mapbox": {
           "style": "light"
          },
          "paper_bgcolor": "white",
          "plot_bgcolor": "#E5ECF6",
          "polar": {
           "angularaxis": {
            "gridcolor": "white",
            "linecolor": "white",
            "ticks": ""
           },
           "bgcolor": "#E5ECF6",
           "radialaxis": {
            "gridcolor": "white",
            "linecolor": "white",
            "ticks": ""
           }
          },
          "scene": {
           "xaxis": {
            "backgroundcolor": "#E5ECF6",
            "gridcolor": "white",
            "gridwidth": 2,
            "linecolor": "white",
            "showbackground": true,
            "ticks": "",
            "zerolinecolor": "white"
           },
           "yaxis": {
            "backgroundcolor": "#E5ECF6",
            "gridcolor": "white",
            "gridwidth": 2,
            "linecolor": "white",
            "showbackground": true,
            "ticks": "",
            "zerolinecolor": "white"
           },
           "zaxis": {
            "backgroundcolor": "#E5ECF6",
            "gridcolor": "white",
            "gridwidth": 2,
            "linecolor": "white",
            "showbackground": true,
            "ticks": "",
            "zerolinecolor": "white"
           }
          },
          "shapedefaults": {
           "line": {
            "color": "#2a3f5f"
           }
          },
          "ternary": {
           "aaxis": {
            "gridcolor": "white",
            "linecolor": "white",
            "ticks": ""
           },
           "baxis": {
            "gridcolor": "white",
            "linecolor": "white",
            "ticks": ""
           },
           "bgcolor": "#E5ECF6",
           "caxis": {
            "gridcolor": "white",
            "linecolor": "white",
            "ticks": ""
           }
          },
          "title": {
           "x": 0.05
          },
          "xaxis": {
           "automargin": true,
           "gridcolor": "white",
           "linecolor": "white",
           "ticks": "",
           "title": {
            "standoff": 15
           },
           "zerolinecolor": "white",
           "zerolinewidth": 2
          },
          "yaxis": {
           "automargin": true,
           "gridcolor": "white",
           "linecolor": "white",
           "ticks": "",
           "title": {
            "standoff": 15
           },
           "zerolinecolor": "white",
           "zerolinewidth": 2
          }
         }
        }
       }
      }
     },
     "metadata": {},
     "output_type": "display_data"
    },
    {
     "name": "stdout",
     "output_type": "stream",
     "text": [
      "################ 7 ################\n",
      "[22]\n"
     ]
    },
    {
     "data": {
      "application/vnd.plotly.v1+json": {
       "config": {
        "plotlyServerURL": "https://plot.ly"
       },
       "data": [
        {
         "mode": "lines+markers",
         "type": "scatter",
         "x": [
          "2024-04-08T08:00:00.000000000",
          "2024-04-08T08:15:00.000000000",
          "2024-04-08T08:30:00.000000000",
          "2024-04-08T08:45:00.000000000",
          "2024-04-08T09:00:00.000000000",
          "2024-04-08T09:15:00.000000000",
          "2024-04-08T09:30:00.000000000",
          "2024-04-08T09:45:00.000000000",
          "2024-04-08T10:00:00.000000000",
          "2024-04-08T10:15:00.000000000",
          "2024-04-08T10:30:00.000000000",
          "2024-04-08T10:45:00.000000000",
          "2024-04-08T11:00:00.000000000",
          "2024-04-08T11:15:00.000000000",
          "2024-04-08T11:30:00.000000000",
          "2024-04-08T11:45:00.000000000",
          "2024-04-08T12:00:00.000000000",
          "2024-04-08T12:15:00.000000000",
          "2024-04-08T12:30:00.000000000",
          "2024-04-08T12:45:00.000000000",
          "2024-04-08T13:00:00.000000000",
          "2024-04-08T13:15:00.000000000",
          "2024-04-08T13:30:00.000000000",
          "2024-04-08T13:45:00.000000000",
          "2024-04-08T14:00:00.000000000",
          "2024-04-08T14:15:00.000000000",
          "2024-04-08T14:30:00.000000000",
          "2024-04-08T14:45:00.000000000",
          "2024-04-08T15:00:00.000000000",
          "2024-04-08T15:15:00.000000000",
          "2024-04-08T15:30:00.000000000",
          "2024-04-08T15:45:00.000000000",
          "2024-04-08T16:00:00.000000000",
          "2024-04-08T16:15:00.000000000",
          "2024-04-08T16:30:00.000000000",
          "2024-04-08T16:45:00.000000000",
          "2024-04-08T17:00:00.000000000",
          "2024-04-08T17:15:00.000000000",
          "2024-04-08T17:30:00.000000000",
          "2024-04-08T17:45:00.000000000",
          "2024-04-08T18:00:00.000000000",
          "2024-04-08T18:15:00.000000000",
          "2024-04-08T18:30:00.000000000",
          "2024-04-08T18:45:00.000000000",
          "2024-04-08T19:00:00.000000000",
          "2024-04-08T19:15:00.000000000",
          "2024-04-08T19:30:00.000000000",
          "2024-04-08T19:45:00.000000000",
          "2024-04-08T20:00:00.000000000"
         ],
         "y": [
          3,
          29,
          8,
          0,
          0,
          0,
          1,
          1,
          4,
          0,
          1,
          1,
          1,
          0,
          0,
          0,
          3,
          2,
          1,
          9,
          9,
          56,
          47,
          9,
          0,
          5,
          1,
          0,
          0,
          0,
          1,
          0,
          1,
          0,
          0,
          0,
          0,
          0,
          0,
          0,
          0,
          0,
          0,
          0,
          0,
          0,
          2,
          0,
          0
         ]
        }
       ],
       "layout": {
        "template": {
         "data": {
          "bar": [
           {
            "error_x": {
             "color": "#2a3f5f"
            },
            "error_y": {
             "color": "#2a3f5f"
            },
            "marker": {
             "line": {
              "color": "#E5ECF6",
              "width": 0.5
             },
             "pattern": {
              "fillmode": "overlay",
              "size": 10,
              "solidity": 0.2
             }
            },
            "type": "bar"
           }
          ],
          "barpolar": [
           {
            "marker": {
             "line": {
              "color": "#E5ECF6",
              "width": 0.5
             },
             "pattern": {
              "fillmode": "overlay",
              "size": 10,
              "solidity": 0.2
             }
            },
            "type": "barpolar"
           }
          ],
          "carpet": [
           {
            "aaxis": {
             "endlinecolor": "#2a3f5f",
             "gridcolor": "white",
             "linecolor": "white",
             "minorgridcolor": "white",
             "startlinecolor": "#2a3f5f"
            },
            "baxis": {
             "endlinecolor": "#2a3f5f",
             "gridcolor": "white",
             "linecolor": "white",
             "minorgridcolor": "white",
             "startlinecolor": "#2a3f5f"
            },
            "type": "carpet"
           }
          ],
          "choropleth": [
           {
            "colorbar": {
             "outlinewidth": 0,
             "ticks": ""
            },
            "type": "choropleth"
           }
          ],
          "contour": [
           {
            "colorbar": {
             "outlinewidth": 0,
             "ticks": ""
            },
            "colorscale": [
             [
              0,
              "#0d0887"
             ],
             [
              0.1111111111111111,
              "#46039f"
             ],
             [
              0.2222222222222222,
              "#7201a8"
             ],
             [
              0.3333333333333333,
              "#9c179e"
             ],
             [
              0.4444444444444444,
              "#bd3786"
             ],
             [
              0.5555555555555556,
              "#d8576b"
             ],
             [
              0.6666666666666666,
              "#ed7953"
             ],
             [
              0.7777777777777778,
              "#fb9f3a"
             ],
             [
              0.8888888888888888,
              "#fdca26"
             ],
             [
              1,
              "#f0f921"
             ]
            ],
            "type": "contour"
           }
          ],
          "contourcarpet": [
           {
            "colorbar": {
             "outlinewidth": 0,
             "ticks": ""
            },
            "type": "contourcarpet"
           }
          ],
          "heatmap": [
           {
            "colorbar": {
             "outlinewidth": 0,
             "ticks": ""
            },
            "colorscale": [
             [
              0,
              "#0d0887"
             ],
             [
              0.1111111111111111,
              "#46039f"
             ],
             [
              0.2222222222222222,
              "#7201a8"
             ],
             [
              0.3333333333333333,
              "#9c179e"
             ],
             [
              0.4444444444444444,
              "#bd3786"
             ],
             [
              0.5555555555555556,
              "#d8576b"
             ],
             [
              0.6666666666666666,
              "#ed7953"
             ],
             [
              0.7777777777777778,
              "#fb9f3a"
             ],
             [
              0.8888888888888888,
              "#fdca26"
             ],
             [
              1,
              "#f0f921"
             ]
            ],
            "type": "heatmap"
           }
          ],
          "heatmapgl": [
           {
            "colorbar": {
             "outlinewidth": 0,
             "ticks": ""
            },
            "colorscale": [
             [
              0,
              "#0d0887"
             ],
             [
              0.1111111111111111,
              "#46039f"
             ],
             [
              0.2222222222222222,
              "#7201a8"
             ],
             [
              0.3333333333333333,
              "#9c179e"
             ],
             [
              0.4444444444444444,
              "#bd3786"
             ],
             [
              0.5555555555555556,
              "#d8576b"
             ],
             [
              0.6666666666666666,
              "#ed7953"
             ],
             [
              0.7777777777777778,
              "#fb9f3a"
             ],
             [
              0.8888888888888888,
              "#fdca26"
             ],
             [
              1,
              "#f0f921"
             ]
            ],
            "type": "heatmapgl"
           }
          ],
          "histogram": [
           {
            "marker": {
             "pattern": {
              "fillmode": "overlay",
              "size": 10,
              "solidity": 0.2
             }
            },
            "type": "histogram"
           }
          ],
          "histogram2d": [
           {
            "colorbar": {
             "outlinewidth": 0,
             "ticks": ""
            },
            "colorscale": [
             [
              0,
              "#0d0887"
             ],
             [
              0.1111111111111111,
              "#46039f"
             ],
             [
              0.2222222222222222,
              "#7201a8"
             ],
             [
              0.3333333333333333,
              "#9c179e"
             ],
             [
              0.4444444444444444,
              "#bd3786"
             ],
             [
              0.5555555555555556,
              "#d8576b"
             ],
             [
              0.6666666666666666,
              "#ed7953"
             ],
             [
              0.7777777777777778,
              "#fb9f3a"
             ],
             [
              0.8888888888888888,
              "#fdca26"
             ],
             [
              1,
              "#f0f921"
             ]
            ],
            "type": "histogram2d"
           }
          ],
          "histogram2dcontour": [
           {
            "colorbar": {
             "outlinewidth": 0,
             "ticks": ""
            },
            "colorscale": [
             [
              0,
              "#0d0887"
             ],
             [
              0.1111111111111111,
              "#46039f"
             ],
             [
              0.2222222222222222,
              "#7201a8"
             ],
             [
              0.3333333333333333,
              "#9c179e"
             ],
             [
              0.4444444444444444,
              "#bd3786"
             ],
             [
              0.5555555555555556,
              "#d8576b"
             ],
             [
              0.6666666666666666,
              "#ed7953"
             ],
             [
              0.7777777777777778,
              "#fb9f3a"
             ],
             [
              0.8888888888888888,
              "#fdca26"
             ],
             [
              1,
              "#f0f921"
             ]
            ],
            "type": "histogram2dcontour"
           }
          ],
          "mesh3d": [
           {
            "colorbar": {
             "outlinewidth": 0,
             "ticks": ""
            },
            "type": "mesh3d"
           }
          ],
          "parcoords": [
           {
            "line": {
             "colorbar": {
              "outlinewidth": 0,
              "ticks": ""
             }
            },
            "type": "parcoords"
           }
          ],
          "pie": [
           {
            "automargin": true,
            "type": "pie"
           }
          ],
          "scatter": [
           {
            "fillpattern": {
             "fillmode": "overlay",
             "size": 10,
             "solidity": 0.2
            },
            "type": "scatter"
           }
          ],
          "scatter3d": [
           {
            "line": {
             "colorbar": {
              "outlinewidth": 0,
              "ticks": ""
             }
            },
            "marker": {
             "colorbar": {
              "outlinewidth": 0,
              "ticks": ""
             }
            },
            "type": "scatter3d"
           }
          ],
          "scattercarpet": [
           {
            "marker": {
             "colorbar": {
              "outlinewidth": 0,
              "ticks": ""
             }
            },
            "type": "scattercarpet"
           }
          ],
          "scattergeo": [
           {
            "marker": {
             "colorbar": {
              "outlinewidth": 0,
              "ticks": ""
             }
            },
            "type": "scattergeo"
           }
          ],
          "scattergl": [
           {
            "marker": {
             "colorbar": {
              "outlinewidth": 0,
              "ticks": ""
             }
            },
            "type": "scattergl"
           }
          ],
          "scattermapbox": [
           {
            "marker": {
             "colorbar": {
              "outlinewidth": 0,
              "ticks": ""
             }
            },
            "type": "scattermapbox"
           }
          ],
          "scatterpolar": [
           {
            "marker": {
             "colorbar": {
              "outlinewidth": 0,
              "ticks": ""
             }
            },
            "type": "scatterpolar"
           }
          ],
          "scatterpolargl": [
           {
            "marker": {
             "colorbar": {
              "outlinewidth": 0,
              "ticks": ""
             }
            },
            "type": "scatterpolargl"
           }
          ],
          "scatterternary": [
           {
            "marker": {
             "colorbar": {
              "outlinewidth": 0,
              "ticks": ""
             }
            },
            "type": "scatterternary"
           }
          ],
          "surface": [
           {
            "colorbar": {
             "outlinewidth": 0,
             "ticks": ""
            },
            "colorscale": [
             [
              0,
              "#0d0887"
             ],
             [
              0.1111111111111111,
              "#46039f"
             ],
             [
              0.2222222222222222,
              "#7201a8"
             ],
             [
              0.3333333333333333,
              "#9c179e"
             ],
             [
              0.4444444444444444,
              "#bd3786"
             ],
             [
              0.5555555555555556,
              "#d8576b"
             ],
             [
              0.6666666666666666,
              "#ed7953"
             ],
             [
              0.7777777777777778,
              "#fb9f3a"
             ],
             [
              0.8888888888888888,
              "#fdca26"
             ],
             [
              1,
              "#f0f921"
             ]
            ],
            "type": "surface"
           }
          ],
          "table": [
           {
            "cells": {
             "fill": {
              "color": "#EBF0F8"
             },
             "line": {
              "color": "white"
             }
            },
            "header": {
             "fill": {
              "color": "#C8D4E3"
             },
             "line": {
              "color": "white"
             }
            },
            "type": "table"
           }
          ]
         },
         "layout": {
          "annotationdefaults": {
           "arrowcolor": "#2a3f5f",
           "arrowhead": 0,
           "arrowwidth": 1
          },
          "autotypenumbers": "strict",
          "coloraxis": {
           "colorbar": {
            "outlinewidth": 0,
            "ticks": ""
           }
          },
          "colorscale": {
           "diverging": [
            [
             0,
             "#8e0152"
            ],
            [
             0.1,
             "#c51b7d"
            ],
            [
             0.2,
             "#de77ae"
            ],
            [
             0.3,
             "#f1b6da"
            ],
            [
             0.4,
             "#fde0ef"
            ],
            [
             0.5,
             "#f7f7f7"
            ],
            [
             0.6,
             "#e6f5d0"
            ],
            [
             0.7,
             "#b8e186"
            ],
            [
             0.8,
             "#7fbc41"
            ],
            [
             0.9,
             "#4d9221"
            ],
            [
             1,
             "#276419"
            ]
           ],
           "sequential": [
            [
             0,
             "#0d0887"
            ],
            [
             0.1111111111111111,
             "#46039f"
            ],
            [
             0.2222222222222222,
             "#7201a8"
            ],
            [
             0.3333333333333333,
             "#9c179e"
            ],
            [
             0.4444444444444444,
             "#bd3786"
            ],
            [
             0.5555555555555556,
             "#d8576b"
            ],
            [
             0.6666666666666666,
             "#ed7953"
            ],
            [
             0.7777777777777778,
             "#fb9f3a"
            ],
            [
             0.8888888888888888,
             "#fdca26"
            ],
            [
             1,
             "#f0f921"
            ]
           ],
           "sequentialminus": [
            [
             0,
             "#0d0887"
            ],
            [
             0.1111111111111111,
             "#46039f"
            ],
            [
             0.2222222222222222,
             "#7201a8"
            ],
            [
             0.3333333333333333,
             "#9c179e"
            ],
            [
             0.4444444444444444,
             "#bd3786"
            ],
            [
             0.5555555555555556,
             "#d8576b"
            ],
            [
             0.6666666666666666,
             "#ed7953"
            ],
            [
             0.7777777777777778,
             "#fb9f3a"
            ],
            [
             0.8888888888888888,
             "#fdca26"
            ],
            [
             1,
             "#f0f921"
            ]
           ]
          },
          "colorway": [
           "#636efa",
           "#EF553B",
           "#00cc96",
           "#ab63fa",
           "#FFA15A",
           "#19d3f3",
           "#FF6692",
           "#B6E880",
           "#FF97FF",
           "#FECB52"
          ],
          "font": {
           "color": "#2a3f5f"
          },
          "geo": {
           "bgcolor": "white",
           "lakecolor": "white",
           "landcolor": "#E5ECF6",
           "showlakes": true,
           "showland": true,
           "subunitcolor": "white"
          },
          "hoverlabel": {
           "align": "left"
          },
          "hovermode": "closest",
          "mapbox": {
           "style": "light"
          },
          "paper_bgcolor": "white",
          "plot_bgcolor": "#E5ECF6",
          "polar": {
           "angularaxis": {
            "gridcolor": "white",
            "linecolor": "white",
            "ticks": ""
           },
           "bgcolor": "#E5ECF6",
           "radialaxis": {
            "gridcolor": "white",
            "linecolor": "white",
            "ticks": ""
           }
          },
          "scene": {
           "xaxis": {
            "backgroundcolor": "#E5ECF6",
            "gridcolor": "white",
            "gridwidth": 2,
            "linecolor": "white",
            "showbackground": true,
            "ticks": "",
            "zerolinecolor": "white"
           },
           "yaxis": {
            "backgroundcolor": "#E5ECF6",
            "gridcolor": "white",
            "gridwidth": 2,
            "linecolor": "white",
            "showbackground": true,
            "ticks": "",
            "zerolinecolor": "white"
           },
           "zaxis": {
            "backgroundcolor": "#E5ECF6",
            "gridcolor": "white",
            "gridwidth": 2,
            "linecolor": "white",
            "showbackground": true,
            "ticks": "",
            "zerolinecolor": "white"
           }
          },
          "shapedefaults": {
           "line": {
            "color": "#2a3f5f"
           }
          },
          "ternary": {
           "aaxis": {
            "gridcolor": "white",
            "linecolor": "white",
            "ticks": ""
           },
           "baxis": {
            "gridcolor": "white",
            "linecolor": "white",
            "ticks": ""
           },
           "bgcolor": "#E5ECF6",
           "caxis": {
            "gridcolor": "white",
            "linecolor": "white",
            "ticks": ""
           }
          },
          "title": {
           "x": 0.05
          },
          "xaxis": {
           "automargin": true,
           "gridcolor": "white",
           "linecolor": "white",
           "ticks": "",
           "title": {
            "standoff": 15
           },
           "zerolinecolor": "white",
           "zerolinewidth": 2
          },
          "yaxis": {
           "automargin": true,
           "gridcolor": "white",
           "linecolor": "white",
           "ticks": "",
           "title": {
            "standoff": 15
           },
           "zerolinecolor": "white",
           "zerolinewidth": 2
          }
         }
        }
       }
      }
     },
     "metadata": {},
     "output_type": "display_data"
    },
    {
     "name": "stdout",
     "output_type": "stream",
     "text": [
      "################ 8 ################\n",
      "[ 2  9 16 30 51 57 65]\n"
     ]
    },
    {
     "data": {
      "application/vnd.plotly.v1+json": {
       "config": {
        "plotlyServerURL": "https://plot.ly"
       },
       "data": [
        {
         "mode": "lines+markers",
         "type": "scatter",
         "x": [
          "2024-04-08T08:00:00.000000000",
          "2024-04-08T08:15:00.000000000",
          "2024-04-08T08:30:00.000000000",
          "2024-04-08T08:45:00.000000000",
          "2024-04-08T09:00:00.000000000",
          "2024-04-08T09:15:00.000000000",
          "2024-04-08T09:30:00.000000000",
          "2024-04-08T09:45:00.000000000",
          "2024-04-08T10:00:00.000000000",
          "2024-04-08T10:15:00.000000000",
          "2024-04-08T10:30:00.000000000",
          "2024-04-08T10:45:00.000000000",
          "2024-04-08T11:00:00.000000000",
          "2024-04-08T11:15:00.000000000",
          "2024-04-08T11:30:00.000000000",
          "2024-04-08T11:45:00.000000000",
          "2024-04-08T12:00:00.000000000",
          "2024-04-08T12:15:00.000000000",
          "2024-04-08T12:30:00.000000000",
          "2024-04-08T12:45:00.000000000",
          "2024-04-08T13:00:00.000000000",
          "2024-04-08T13:15:00.000000000",
          "2024-04-08T13:30:00.000000000",
          "2024-04-08T13:45:00.000000000",
          "2024-04-08T14:00:00.000000000",
          "2024-04-08T14:15:00.000000000",
          "2024-04-08T14:30:00.000000000",
          "2024-04-08T14:45:00.000000000",
          "2024-04-08T15:00:00.000000000",
          "2024-04-08T15:15:00.000000000",
          "2024-04-08T15:30:00.000000000",
          "2024-04-08T15:45:00.000000000",
          "2024-04-08T16:00:00.000000000",
          "2024-04-08T16:15:00.000000000",
          "2024-04-08T16:30:00.000000000",
          "2024-04-08T16:45:00.000000000",
          "2024-04-08T17:00:00.000000000",
          "2024-04-08T17:15:00.000000000",
          "2024-04-08T17:30:00.000000000",
          "2024-04-08T17:45:00.000000000",
          "2024-04-08T18:00:00.000000000",
          "2024-04-08T18:15:00.000000000",
          "2024-04-08T18:30:00.000000000",
          "2024-04-08T18:45:00.000000000",
          "2024-04-08T19:00:00.000000000",
          "2024-04-08T19:15:00.000000000",
          "2024-04-08T19:30:00.000000000",
          "2024-04-08T19:45:00.000000000",
          "2024-04-08T20:00:00.000000000"
         ],
         "y": [
          12,
          22,
          7,
          3,
          0,
          1,
          0,
          0,
          34,
          13,
          1,
          0,
          1,
          2,
          4,
          10,
          1,
          0,
          0,
          1,
          0,
          0,
          15,
          3,
          0,
          0,
          0,
          1,
          7,
          6,
          1,
          2,
          0,
          0,
          0,
          5,
          28,
          2,
          0,
          0,
          0,
          1,
          0,
          0,
          0,
          0,
          0,
          0,
          0
         ]
        },
        {
         "mode": "lines+markers",
         "type": "scatter",
         "x": [
          "2024-04-08T08:00:00.000000000",
          "2024-04-08T08:15:00.000000000",
          "2024-04-08T08:30:00.000000000",
          "2024-04-08T08:45:00.000000000",
          "2024-04-08T09:00:00.000000000",
          "2024-04-08T09:15:00.000000000",
          "2024-04-08T09:30:00.000000000",
          "2024-04-08T09:45:00.000000000",
          "2024-04-08T10:00:00.000000000",
          "2024-04-08T10:15:00.000000000",
          "2024-04-08T10:30:00.000000000",
          "2024-04-08T10:45:00.000000000",
          "2024-04-08T11:00:00.000000000",
          "2024-04-08T11:15:00.000000000",
          "2024-04-08T11:30:00.000000000",
          "2024-04-08T11:45:00.000000000",
          "2024-04-08T12:00:00.000000000",
          "2024-04-08T12:15:00.000000000",
          "2024-04-08T12:30:00.000000000",
          "2024-04-08T12:45:00.000000000",
          "2024-04-08T13:00:00.000000000",
          "2024-04-08T13:15:00.000000000",
          "2024-04-08T13:30:00.000000000",
          "2024-04-08T13:45:00.000000000",
          "2024-04-08T14:00:00.000000000",
          "2024-04-08T14:15:00.000000000",
          "2024-04-08T14:30:00.000000000",
          "2024-04-08T14:45:00.000000000",
          "2024-04-08T15:00:00.000000000",
          "2024-04-08T15:15:00.000000000",
          "2024-04-08T15:30:00.000000000",
          "2024-04-08T15:45:00.000000000",
          "2024-04-08T16:00:00.000000000",
          "2024-04-08T16:15:00.000000000",
          "2024-04-08T16:30:00.000000000",
          "2024-04-08T16:45:00.000000000",
          "2024-04-08T17:00:00.000000000",
          "2024-04-08T17:15:00.000000000",
          "2024-04-08T17:30:00.000000000",
          "2024-04-08T17:45:00.000000000",
          "2024-04-08T18:00:00.000000000",
          "2024-04-08T18:15:00.000000000",
          "2024-04-08T18:30:00.000000000",
          "2024-04-08T18:45:00.000000000",
          "2024-04-08T19:00:00.000000000",
          "2024-04-08T19:15:00.000000000",
          "2024-04-08T19:30:00.000000000",
          "2024-04-08T19:45:00.000000000",
          "2024-04-08T20:00:00.000000000"
         ],
         "y": [
          9,
          18,
          11,
          0,
          0,
          0,
          1,
          0,
          32,
          5,
          1,
          0,
          0,
          0,
          1,
          6,
          2,
          0,
          1,
          0,
          0,
          0,
          12,
          1,
          3,
          0,
          1,
          0,
          3,
          3,
          0,
          0,
          0,
          0,
          0,
          9,
          19,
          8,
          1,
          0,
          0,
          0,
          1,
          0,
          0,
          0,
          0,
          0,
          0
         ]
        },
        {
         "mode": "lines+markers",
         "type": "scatter",
         "x": [
          "2024-04-08T08:00:00.000000000",
          "2024-04-08T08:15:00.000000000",
          "2024-04-08T08:30:00.000000000",
          "2024-04-08T08:45:00.000000000",
          "2024-04-08T09:00:00.000000000",
          "2024-04-08T09:15:00.000000000",
          "2024-04-08T09:30:00.000000000",
          "2024-04-08T09:45:00.000000000",
          "2024-04-08T10:00:00.000000000",
          "2024-04-08T10:15:00.000000000",
          "2024-04-08T10:30:00.000000000",
          "2024-04-08T10:45:00.000000000",
          "2024-04-08T11:00:00.000000000",
          "2024-04-08T11:15:00.000000000",
          "2024-04-08T11:30:00.000000000",
          "2024-04-08T11:45:00.000000000",
          "2024-04-08T12:00:00.000000000",
          "2024-04-08T12:15:00.000000000",
          "2024-04-08T12:30:00.000000000",
          "2024-04-08T12:45:00.000000000",
          "2024-04-08T13:00:00.000000000",
          "2024-04-08T13:15:00.000000000",
          "2024-04-08T13:30:00.000000000",
          "2024-04-08T13:45:00.000000000",
          "2024-04-08T14:00:00.000000000",
          "2024-04-08T14:15:00.000000000",
          "2024-04-08T14:30:00.000000000",
          "2024-04-08T14:45:00.000000000",
          "2024-04-08T15:00:00.000000000",
          "2024-04-08T15:15:00.000000000",
          "2024-04-08T15:30:00.000000000",
          "2024-04-08T15:45:00.000000000",
          "2024-04-08T16:00:00.000000000",
          "2024-04-08T16:15:00.000000000",
          "2024-04-08T16:30:00.000000000",
          "2024-04-08T16:45:00.000000000",
          "2024-04-08T17:00:00.000000000",
          "2024-04-08T17:15:00.000000000",
          "2024-04-08T17:30:00.000000000",
          "2024-04-08T17:45:00.000000000",
          "2024-04-08T18:00:00.000000000",
          "2024-04-08T18:15:00.000000000",
          "2024-04-08T18:30:00.000000000",
          "2024-04-08T18:45:00.000000000",
          "2024-04-08T19:00:00.000000000",
          "2024-04-08T19:15:00.000000000",
          "2024-04-08T19:30:00.000000000",
          "2024-04-08T19:45:00.000000000",
          "2024-04-08T20:00:00.000000000"
         ],
         "y": [
          5,
          16,
          7,
          0,
          1,
          1,
          2,
          0,
          32,
          7,
          0,
          1,
          1,
          0,
          4,
          3,
          0,
          0,
          0,
          0,
          0,
          0,
          16,
          1,
          0,
          0,
          0,
          6,
          1,
          4,
          0,
          0,
          0,
          1,
          0,
          9,
          16,
          3,
          1,
          1,
          1,
          2,
          0,
          0,
          0,
          0,
          0,
          0,
          0
         ]
        },
        {
         "mode": "lines+markers",
         "type": "scatter",
         "x": [
          "2024-04-08T08:00:00.000000000",
          "2024-04-08T08:15:00.000000000",
          "2024-04-08T08:30:00.000000000",
          "2024-04-08T08:45:00.000000000",
          "2024-04-08T09:00:00.000000000",
          "2024-04-08T09:15:00.000000000",
          "2024-04-08T09:30:00.000000000",
          "2024-04-08T09:45:00.000000000",
          "2024-04-08T10:00:00.000000000",
          "2024-04-08T10:15:00.000000000",
          "2024-04-08T10:30:00.000000000",
          "2024-04-08T10:45:00.000000000",
          "2024-04-08T11:00:00.000000000",
          "2024-04-08T11:15:00.000000000",
          "2024-04-08T11:30:00.000000000",
          "2024-04-08T11:45:00.000000000",
          "2024-04-08T12:00:00.000000000",
          "2024-04-08T12:15:00.000000000",
          "2024-04-08T12:30:00.000000000",
          "2024-04-08T12:45:00.000000000",
          "2024-04-08T13:00:00.000000000",
          "2024-04-08T13:15:00.000000000",
          "2024-04-08T13:30:00.000000000",
          "2024-04-08T13:45:00.000000000",
          "2024-04-08T14:00:00.000000000",
          "2024-04-08T14:15:00.000000000",
          "2024-04-08T14:30:00.000000000",
          "2024-04-08T14:45:00.000000000",
          "2024-04-08T15:00:00.000000000",
          "2024-04-08T15:15:00.000000000",
          "2024-04-08T15:30:00.000000000",
          "2024-04-08T15:45:00.000000000",
          "2024-04-08T16:00:00.000000000",
          "2024-04-08T16:15:00.000000000",
          "2024-04-08T16:30:00.000000000",
          "2024-04-08T16:45:00.000000000",
          "2024-04-08T17:00:00.000000000",
          "2024-04-08T17:15:00.000000000",
          "2024-04-08T17:30:00.000000000",
          "2024-04-08T17:45:00.000000000",
          "2024-04-08T18:00:00.000000000",
          "2024-04-08T18:15:00.000000000",
          "2024-04-08T18:30:00.000000000",
          "2024-04-08T18:45:00.000000000",
          "2024-04-08T19:00:00.000000000",
          "2024-04-08T19:15:00.000000000",
          "2024-04-08T19:30:00.000000000",
          "2024-04-08T19:45:00.000000000",
          "2024-04-08T20:00:00.000000000"
         ],
         "y": [
          5,
          11,
          9,
          1,
          1,
          1,
          1,
          0,
          26,
          1,
          0,
          0,
          0,
          0,
          0,
          6,
          0,
          0,
          0,
          0,
          1,
          2,
          11,
          6,
          1,
          0,
          0,
          0,
          1,
          17,
          1,
          1,
          1,
          0,
          0,
          4,
          17,
          7,
          0,
          0,
          0,
          2,
          0,
          0,
          0,
          0,
          0,
          0,
          0
         ]
        },
        {
         "mode": "lines+markers",
         "type": "scatter",
         "x": [
          "2024-04-08T08:00:00.000000000",
          "2024-04-08T08:15:00.000000000",
          "2024-04-08T08:30:00.000000000",
          "2024-04-08T08:45:00.000000000",
          "2024-04-08T09:00:00.000000000",
          "2024-04-08T09:15:00.000000000",
          "2024-04-08T09:30:00.000000000",
          "2024-04-08T09:45:00.000000000",
          "2024-04-08T10:00:00.000000000",
          "2024-04-08T10:15:00.000000000",
          "2024-04-08T10:30:00.000000000",
          "2024-04-08T10:45:00.000000000",
          "2024-04-08T11:00:00.000000000",
          "2024-04-08T11:15:00.000000000",
          "2024-04-08T11:30:00.000000000",
          "2024-04-08T11:45:00.000000000",
          "2024-04-08T12:00:00.000000000",
          "2024-04-08T12:15:00.000000000",
          "2024-04-08T12:30:00.000000000",
          "2024-04-08T12:45:00.000000000",
          "2024-04-08T13:00:00.000000000",
          "2024-04-08T13:15:00.000000000",
          "2024-04-08T13:30:00.000000000",
          "2024-04-08T13:45:00.000000000",
          "2024-04-08T14:00:00.000000000",
          "2024-04-08T14:15:00.000000000",
          "2024-04-08T14:30:00.000000000",
          "2024-04-08T14:45:00.000000000",
          "2024-04-08T15:00:00.000000000",
          "2024-04-08T15:15:00.000000000",
          "2024-04-08T15:30:00.000000000",
          "2024-04-08T15:45:00.000000000",
          "2024-04-08T16:00:00.000000000",
          "2024-04-08T16:15:00.000000000",
          "2024-04-08T16:30:00.000000000",
          "2024-04-08T16:45:00.000000000",
          "2024-04-08T17:00:00.000000000",
          "2024-04-08T17:15:00.000000000",
          "2024-04-08T17:30:00.000000000",
          "2024-04-08T17:45:00.000000000",
          "2024-04-08T18:00:00.000000000",
          "2024-04-08T18:15:00.000000000",
          "2024-04-08T18:30:00.000000000",
          "2024-04-08T18:45:00.000000000",
          "2024-04-08T19:00:00.000000000",
          "2024-04-08T19:15:00.000000000",
          "2024-04-08T19:30:00.000000000",
          "2024-04-08T19:45:00.000000000",
          "2024-04-08T20:00:00.000000000"
         ],
         "y": [
          4,
          15,
          5,
          0,
          0,
          0,
          0,
          0,
          33,
          9,
          4,
          1,
          0,
          3,
          1,
          2,
          0,
          0,
          0,
          0,
          0,
          0,
          0,
          2,
          0,
          0,
          0,
          0,
          1,
          4,
          5,
          0,
          0,
          0,
          0,
          4,
          16,
          11,
          0,
          0,
          0,
          4,
          0,
          5,
          0,
          0,
          0,
          2,
          0
         ]
        },
        {
         "mode": "lines+markers",
         "type": "scatter",
         "x": [
          "2024-04-08T08:00:00.000000000",
          "2024-04-08T08:15:00.000000000",
          "2024-04-08T08:30:00.000000000",
          "2024-04-08T08:45:00.000000000",
          "2024-04-08T09:00:00.000000000",
          "2024-04-08T09:15:00.000000000",
          "2024-04-08T09:30:00.000000000",
          "2024-04-08T09:45:00.000000000",
          "2024-04-08T10:00:00.000000000",
          "2024-04-08T10:15:00.000000000",
          "2024-04-08T10:30:00.000000000",
          "2024-04-08T10:45:00.000000000",
          "2024-04-08T11:00:00.000000000",
          "2024-04-08T11:15:00.000000000",
          "2024-04-08T11:30:00.000000000",
          "2024-04-08T11:45:00.000000000",
          "2024-04-08T12:00:00.000000000",
          "2024-04-08T12:15:00.000000000",
          "2024-04-08T12:30:00.000000000",
          "2024-04-08T12:45:00.000000000",
          "2024-04-08T13:00:00.000000000",
          "2024-04-08T13:15:00.000000000",
          "2024-04-08T13:30:00.000000000",
          "2024-04-08T13:45:00.000000000",
          "2024-04-08T14:00:00.000000000",
          "2024-04-08T14:15:00.000000000",
          "2024-04-08T14:30:00.000000000",
          "2024-04-08T14:45:00.000000000",
          "2024-04-08T15:00:00.000000000",
          "2024-04-08T15:15:00.000000000",
          "2024-04-08T15:30:00.000000000",
          "2024-04-08T15:45:00.000000000",
          "2024-04-08T16:00:00.000000000",
          "2024-04-08T16:15:00.000000000",
          "2024-04-08T16:30:00.000000000",
          "2024-04-08T16:45:00.000000000",
          "2024-04-08T17:00:00.000000000",
          "2024-04-08T17:15:00.000000000",
          "2024-04-08T17:30:00.000000000",
          "2024-04-08T17:45:00.000000000",
          "2024-04-08T18:00:00.000000000",
          "2024-04-08T18:15:00.000000000",
          "2024-04-08T18:30:00.000000000",
          "2024-04-08T18:45:00.000000000",
          "2024-04-08T19:00:00.000000000",
          "2024-04-08T19:15:00.000000000",
          "2024-04-08T19:30:00.000000000",
          "2024-04-08T19:45:00.000000000",
          "2024-04-08T20:00:00.000000000"
         ],
         "y": [
          0,
          26,
          15,
          5,
          2,
          1,
          2,
          1,
          17,
          10,
          2,
          1,
          1,
          1,
          0,
          20,
          4,
          1,
          0,
          0,
          0,
          2,
          8,
          1,
          0,
          0,
          0,
          0,
          1,
          0,
          0,
          0,
          0,
          0,
          1,
          4,
          45,
          27,
          6,
          1,
          0,
          0,
          2,
          8,
          0,
          0,
          0,
          0,
          0
         ]
        },
        {
         "mode": "lines+markers",
         "type": "scatter",
         "x": [
          "2024-04-08T08:00:00.000000000",
          "2024-04-08T08:15:00.000000000",
          "2024-04-08T08:30:00.000000000",
          "2024-04-08T08:45:00.000000000",
          "2024-04-08T09:00:00.000000000",
          "2024-04-08T09:15:00.000000000",
          "2024-04-08T09:30:00.000000000",
          "2024-04-08T09:45:00.000000000",
          "2024-04-08T10:00:00.000000000",
          "2024-04-08T10:15:00.000000000",
          "2024-04-08T10:30:00.000000000",
          "2024-04-08T10:45:00.000000000",
          "2024-04-08T11:00:00.000000000",
          "2024-04-08T11:15:00.000000000",
          "2024-04-08T11:30:00.000000000",
          "2024-04-08T11:45:00.000000000",
          "2024-04-08T12:00:00.000000000",
          "2024-04-08T12:15:00.000000000",
          "2024-04-08T12:30:00.000000000",
          "2024-04-08T12:45:00.000000000",
          "2024-04-08T13:00:00.000000000",
          "2024-04-08T13:15:00.000000000",
          "2024-04-08T13:30:00.000000000",
          "2024-04-08T13:45:00.000000000",
          "2024-04-08T14:00:00.000000000",
          "2024-04-08T14:15:00.000000000",
          "2024-04-08T14:30:00.000000000",
          "2024-04-08T14:45:00.000000000",
          "2024-04-08T15:00:00.000000000",
          "2024-04-08T15:15:00.000000000",
          "2024-04-08T15:30:00.000000000",
          "2024-04-08T15:45:00.000000000",
          "2024-04-08T16:00:00.000000000",
          "2024-04-08T16:15:00.000000000",
          "2024-04-08T16:30:00.000000000",
          "2024-04-08T16:45:00.000000000",
          "2024-04-08T17:00:00.000000000",
          "2024-04-08T17:15:00.000000000",
          "2024-04-08T17:30:00.000000000",
          "2024-04-08T17:45:00.000000000",
          "2024-04-08T18:00:00.000000000",
          "2024-04-08T18:15:00.000000000",
          "2024-04-08T18:30:00.000000000",
          "2024-04-08T18:45:00.000000000",
          "2024-04-08T19:00:00.000000000",
          "2024-04-08T19:15:00.000000000",
          "2024-04-08T19:30:00.000000000",
          "2024-04-08T19:45:00.000000000",
          "2024-04-08T20:00:00.000000000"
         ],
         "y": [
          4,
          12,
          5,
          1,
          2,
          1,
          2,
          1,
          37,
          9,
          0,
          0,
          0,
          2,
          6,
          5,
          1,
          1,
          0,
          0,
          0,
          2,
          19,
          0,
          0,
          0,
          0,
          0,
          0,
          0,
          0,
          0,
          0,
          0,
          1,
          3,
          24,
          5,
          4,
          2,
          0,
          1,
          1,
          0,
          0,
          0,
          0,
          0,
          0
         ]
        }
       ],
       "layout": {
        "template": {
         "data": {
          "bar": [
           {
            "error_x": {
             "color": "#2a3f5f"
            },
            "error_y": {
             "color": "#2a3f5f"
            },
            "marker": {
             "line": {
              "color": "#E5ECF6",
              "width": 0.5
             },
             "pattern": {
              "fillmode": "overlay",
              "size": 10,
              "solidity": 0.2
             }
            },
            "type": "bar"
           }
          ],
          "barpolar": [
           {
            "marker": {
             "line": {
              "color": "#E5ECF6",
              "width": 0.5
             },
             "pattern": {
              "fillmode": "overlay",
              "size": 10,
              "solidity": 0.2
             }
            },
            "type": "barpolar"
           }
          ],
          "carpet": [
           {
            "aaxis": {
             "endlinecolor": "#2a3f5f",
             "gridcolor": "white",
             "linecolor": "white",
             "minorgridcolor": "white",
             "startlinecolor": "#2a3f5f"
            },
            "baxis": {
             "endlinecolor": "#2a3f5f",
             "gridcolor": "white",
             "linecolor": "white",
             "minorgridcolor": "white",
             "startlinecolor": "#2a3f5f"
            },
            "type": "carpet"
           }
          ],
          "choropleth": [
           {
            "colorbar": {
             "outlinewidth": 0,
             "ticks": ""
            },
            "type": "choropleth"
           }
          ],
          "contour": [
           {
            "colorbar": {
             "outlinewidth": 0,
             "ticks": ""
            },
            "colorscale": [
             [
              0,
              "#0d0887"
             ],
             [
              0.1111111111111111,
              "#46039f"
             ],
             [
              0.2222222222222222,
              "#7201a8"
             ],
             [
              0.3333333333333333,
              "#9c179e"
             ],
             [
              0.4444444444444444,
              "#bd3786"
             ],
             [
              0.5555555555555556,
              "#d8576b"
             ],
             [
              0.6666666666666666,
              "#ed7953"
             ],
             [
              0.7777777777777778,
              "#fb9f3a"
             ],
             [
              0.8888888888888888,
              "#fdca26"
             ],
             [
              1,
              "#f0f921"
             ]
            ],
            "type": "contour"
           }
          ],
          "contourcarpet": [
           {
            "colorbar": {
             "outlinewidth": 0,
             "ticks": ""
            },
            "type": "contourcarpet"
           }
          ],
          "heatmap": [
           {
            "colorbar": {
             "outlinewidth": 0,
             "ticks": ""
            },
            "colorscale": [
             [
              0,
              "#0d0887"
             ],
             [
              0.1111111111111111,
              "#46039f"
             ],
             [
              0.2222222222222222,
              "#7201a8"
             ],
             [
              0.3333333333333333,
              "#9c179e"
             ],
             [
              0.4444444444444444,
              "#bd3786"
             ],
             [
              0.5555555555555556,
              "#d8576b"
             ],
             [
              0.6666666666666666,
              "#ed7953"
             ],
             [
              0.7777777777777778,
              "#fb9f3a"
             ],
             [
              0.8888888888888888,
              "#fdca26"
             ],
             [
              1,
              "#f0f921"
             ]
            ],
            "type": "heatmap"
           }
          ],
          "heatmapgl": [
           {
            "colorbar": {
             "outlinewidth": 0,
             "ticks": ""
            },
            "colorscale": [
             [
              0,
              "#0d0887"
             ],
             [
              0.1111111111111111,
              "#46039f"
             ],
             [
              0.2222222222222222,
              "#7201a8"
             ],
             [
              0.3333333333333333,
              "#9c179e"
             ],
             [
              0.4444444444444444,
              "#bd3786"
             ],
             [
              0.5555555555555556,
              "#d8576b"
             ],
             [
              0.6666666666666666,
              "#ed7953"
             ],
             [
              0.7777777777777778,
              "#fb9f3a"
             ],
             [
              0.8888888888888888,
              "#fdca26"
             ],
             [
              1,
              "#f0f921"
             ]
            ],
            "type": "heatmapgl"
           }
          ],
          "histogram": [
           {
            "marker": {
             "pattern": {
              "fillmode": "overlay",
              "size": 10,
              "solidity": 0.2
             }
            },
            "type": "histogram"
           }
          ],
          "histogram2d": [
           {
            "colorbar": {
             "outlinewidth": 0,
             "ticks": ""
            },
            "colorscale": [
             [
              0,
              "#0d0887"
             ],
             [
              0.1111111111111111,
              "#46039f"
             ],
             [
              0.2222222222222222,
              "#7201a8"
             ],
             [
              0.3333333333333333,
              "#9c179e"
             ],
             [
              0.4444444444444444,
              "#bd3786"
             ],
             [
              0.5555555555555556,
              "#d8576b"
             ],
             [
              0.6666666666666666,
              "#ed7953"
             ],
             [
              0.7777777777777778,
              "#fb9f3a"
             ],
             [
              0.8888888888888888,
              "#fdca26"
             ],
             [
              1,
              "#f0f921"
             ]
            ],
            "type": "histogram2d"
           }
          ],
          "histogram2dcontour": [
           {
            "colorbar": {
             "outlinewidth": 0,
             "ticks": ""
            },
            "colorscale": [
             [
              0,
              "#0d0887"
             ],
             [
              0.1111111111111111,
              "#46039f"
             ],
             [
              0.2222222222222222,
              "#7201a8"
             ],
             [
              0.3333333333333333,
              "#9c179e"
             ],
             [
              0.4444444444444444,
              "#bd3786"
             ],
             [
              0.5555555555555556,
              "#d8576b"
             ],
             [
              0.6666666666666666,
              "#ed7953"
             ],
             [
              0.7777777777777778,
              "#fb9f3a"
             ],
             [
              0.8888888888888888,
              "#fdca26"
             ],
             [
              1,
              "#f0f921"
             ]
            ],
            "type": "histogram2dcontour"
           }
          ],
          "mesh3d": [
           {
            "colorbar": {
             "outlinewidth": 0,
             "ticks": ""
            },
            "type": "mesh3d"
           }
          ],
          "parcoords": [
           {
            "line": {
             "colorbar": {
              "outlinewidth": 0,
              "ticks": ""
             }
            },
            "type": "parcoords"
           }
          ],
          "pie": [
           {
            "automargin": true,
            "type": "pie"
           }
          ],
          "scatter": [
           {
            "fillpattern": {
             "fillmode": "overlay",
             "size": 10,
             "solidity": 0.2
            },
            "type": "scatter"
           }
          ],
          "scatter3d": [
           {
            "line": {
             "colorbar": {
              "outlinewidth": 0,
              "ticks": ""
             }
            },
            "marker": {
             "colorbar": {
              "outlinewidth": 0,
              "ticks": ""
             }
            },
            "type": "scatter3d"
           }
          ],
          "scattercarpet": [
           {
            "marker": {
             "colorbar": {
              "outlinewidth": 0,
              "ticks": ""
             }
            },
            "type": "scattercarpet"
           }
          ],
          "scattergeo": [
           {
            "marker": {
             "colorbar": {
              "outlinewidth": 0,
              "ticks": ""
             }
            },
            "type": "scattergeo"
           }
          ],
          "scattergl": [
           {
            "marker": {
             "colorbar": {
              "outlinewidth": 0,
              "ticks": ""
             }
            },
            "type": "scattergl"
           }
          ],
          "scattermapbox": [
           {
            "marker": {
             "colorbar": {
              "outlinewidth": 0,
              "ticks": ""
             }
            },
            "type": "scattermapbox"
           }
          ],
          "scatterpolar": [
           {
            "marker": {
             "colorbar": {
              "outlinewidth": 0,
              "ticks": ""
             }
            },
            "type": "scatterpolar"
           }
          ],
          "scatterpolargl": [
           {
            "marker": {
             "colorbar": {
              "outlinewidth": 0,
              "ticks": ""
             }
            },
            "type": "scatterpolargl"
           }
          ],
          "scatterternary": [
           {
            "marker": {
             "colorbar": {
              "outlinewidth": 0,
              "ticks": ""
             }
            },
            "type": "scatterternary"
           }
          ],
          "surface": [
           {
            "colorbar": {
             "outlinewidth": 0,
             "ticks": ""
            },
            "colorscale": [
             [
              0,
              "#0d0887"
             ],
             [
              0.1111111111111111,
              "#46039f"
             ],
             [
              0.2222222222222222,
              "#7201a8"
             ],
             [
              0.3333333333333333,
              "#9c179e"
             ],
             [
              0.4444444444444444,
              "#bd3786"
             ],
             [
              0.5555555555555556,
              "#d8576b"
             ],
             [
              0.6666666666666666,
              "#ed7953"
             ],
             [
              0.7777777777777778,
              "#fb9f3a"
             ],
             [
              0.8888888888888888,
              "#fdca26"
             ],
             [
              1,
              "#f0f921"
             ]
            ],
            "type": "surface"
           }
          ],
          "table": [
           {
            "cells": {
             "fill": {
              "color": "#EBF0F8"
             },
             "line": {
              "color": "white"
             }
            },
            "header": {
             "fill": {
              "color": "#C8D4E3"
             },
             "line": {
              "color": "white"
             }
            },
            "type": "table"
           }
          ]
         },
         "layout": {
          "annotationdefaults": {
           "arrowcolor": "#2a3f5f",
           "arrowhead": 0,
           "arrowwidth": 1
          },
          "autotypenumbers": "strict",
          "coloraxis": {
           "colorbar": {
            "outlinewidth": 0,
            "ticks": ""
           }
          },
          "colorscale": {
           "diverging": [
            [
             0,
             "#8e0152"
            ],
            [
             0.1,
             "#c51b7d"
            ],
            [
             0.2,
             "#de77ae"
            ],
            [
             0.3,
             "#f1b6da"
            ],
            [
             0.4,
             "#fde0ef"
            ],
            [
             0.5,
             "#f7f7f7"
            ],
            [
             0.6,
             "#e6f5d0"
            ],
            [
             0.7,
             "#b8e186"
            ],
            [
             0.8,
             "#7fbc41"
            ],
            [
             0.9,
             "#4d9221"
            ],
            [
             1,
             "#276419"
            ]
           ],
           "sequential": [
            [
             0,
             "#0d0887"
            ],
            [
             0.1111111111111111,
             "#46039f"
            ],
            [
             0.2222222222222222,
             "#7201a8"
            ],
            [
             0.3333333333333333,
             "#9c179e"
            ],
            [
             0.4444444444444444,
             "#bd3786"
            ],
            [
             0.5555555555555556,
             "#d8576b"
            ],
            [
             0.6666666666666666,
             "#ed7953"
            ],
            [
             0.7777777777777778,
             "#fb9f3a"
            ],
            [
             0.8888888888888888,
             "#fdca26"
            ],
            [
             1,
             "#f0f921"
            ]
           ],
           "sequentialminus": [
            [
             0,
             "#0d0887"
            ],
            [
             0.1111111111111111,
             "#46039f"
            ],
            [
             0.2222222222222222,
             "#7201a8"
            ],
            [
             0.3333333333333333,
             "#9c179e"
            ],
            [
             0.4444444444444444,
             "#bd3786"
            ],
            [
             0.5555555555555556,
             "#d8576b"
            ],
            [
             0.6666666666666666,
             "#ed7953"
            ],
            [
             0.7777777777777778,
             "#fb9f3a"
            ],
            [
             0.8888888888888888,
             "#fdca26"
            ],
            [
             1,
             "#f0f921"
            ]
           ]
          },
          "colorway": [
           "#636efa",
           "#EF553B",
           "#00cc96",
           "#ab63fa",
           "#FFA15A",
           "#19d3f3",
           "#FF6692",
           "#B6E880",
           "#FF97FF",
           "#FECB52"
          ],
          "font": {
           "color": "#2a3f5f"
          },
          "geo": {
           "bgcolor": "white",
           "lakecolor": "white",
           "landcolor": "#E5ECF6",
           "showlakes": true,
           "showland": true,
           "subunitcolor": "white"
          },
          "hoverlabel": {
           "align": "left"
          },
          "hovermode": "closest",
          "mapbox": {
           "style": "light"
          },
          "paper_bgcolor": "white",
          "plot_bgcolor": "#E5ECF6",
          "polar": {
           "angularaxis": {
            "gridcolor": "white",
            "linecolor": "white",
            "ticks": ""
           },
           "bgcolor": "#E5ECF6",
           "radialaxis": {
            "gridcolor": "white",
            "linecolor": "white",
            "ticks": ""
           }
          },
          "scene": {
           "xaxis": {
            "backgroundcolor": "#E5ECF6",
            "gridcolor": "white",
            "gridwidth": 2,
            "linecolor": "white",
            "showbackground": true,
            "ticks": "",
            "zerolinecolor": "white"
           },
           "yaxis": {
            "backgroundcolor": "#E5ECF6",
            "gridcolor": "white",
            "gridwidth": 2,
            "linecolor": "white",
            "showbackground": true,
            "ticks": "",
            "zerolinecolor": "white"
           },
           "zaxis": {
            "backgroundcolor": "#E5ECF6",
            "gridcolor": "white",
            "gridwidth": 2,
            "linecolor": "white",
            "showbackground": true,
            "ticks": "",
            "zerolinecolor": "white"
           }
          },
          "shapedefaults": {
           "line": {
            "color": "#2a3f5f"
           }
          },
          "ternary": {
           "aaxis": {
            "gridcolor": "white",
            "linecolor": "white",
            "ticks": ""
           },
           "baxis": {
            "gridcolor": "white",
            "linecolor": "white",
            "ticks": ""
           },
           "bgcolor": "#E5ECF6",
           "caxis": {
            "gridcolor": "white",
            "linecolor": "white",
            "ticks": ""
           }
          },
          "title": {
           "x": 0.05
          },
          "xaxis": {
           "automargin": true,
           "gridcolor": "white",
           "linecolor": "white",
           "ticks": "",
           "title": {
            "standoff": 15
           },
           "zerolinecolor": "white",
           "zerolinewidth": 2
          },
          "yaxis": {
           "automargin": true,
           "gridcolor": "white",
           "linecolor": "white",
           "ticks": "",
           "title": {
            "standoff": 15
           },
           "zerolinecolor": "white",
           "zerolinewidth": 2
          }
         }
        }
       }
      }
     },
     "metadata": {},
     "output_type": "display_data"
    },
    {
     "name": "stdout",
     "output_type": "stream",
     "text": [
      "################ 9 ################\n",
      "[11 35 49 56 63 70]\n"
     ]
    },
    {
     "data": {
      "application/vnd.plotly.v1+json": {
       "config": {
        "plotlyServerURL": "https://plot.ly"
       },
       "data": [
        {
         "mode": "lines+markers",
         "type": "scatter",
         "x": [
          "2024-04-08T08:00:00.000000000",
          "2024-04-08T08:15:00.000000000",
          "2024-04-08T08:30:00.000000000",
          "2024-04-08T08:45:00.000000000",
          "2024-04-08T09:00:00.000000000",
          "2024-04-08T09:15:00.000000000",
          "2024-04-08T09:30:00.000000000",
          "2024-04-08T09:45:00.000000000",
          "2024-04-08T10:00:00.000000000",
          "2024-04-08T10:15:00.000000000",
          "2024-04-08T10:30:00.000000000",
          "2024-04-08T10:45:00.000000000",
          "2024-04-08T11:00:00.000000000",
          "2024-04-08T11:15:00.000000000",
          "2024-04-08T11:30:00.000000000",
          "2024-04-08T11:45:00.000000000",
          "2024-04-08T12:00:00.000000000",
          "2024-04-08T12:15:00.000000000",
          "2024-04-08T12:30:00.000000000",
          "2024-04-08T12:45:00.000000000",
          "2024-04-08T13:00:00.000000000",
          "2024-04-08T13:15:00.000000000",
          "2024-04-08T13:30:00.000000000",
          "2024-04-08T13:45:00.000000000",
          "2024-04-08T14:00:00.000000000",
          "2024-04-08T14:15:00.000000000",
          "2024-04-08T14:30:00.000000000",
          "2024-04-08T14:45:00.000000000",
          "2024-04-08T15:00:00.000000000",
          "2024-04-08T15:15:00.000000000",
          "2024-04-08T15:30:00.000000000",
          "2024-04-08T15:45:00.000000000",
          "2024-04-08T16:00:00.000000000",
          "2024-04-08T16:15:00.000000000",
          "2024-04-08T16:30:00.000000000",
          "2024-04-08T16:45:00.000000000",
          "2024-04-08T17:00:00.000000000",
          "2024-04-08T17:15:00.000000000",
          "2024-04-08T17:30:00.000000000",
          "2024-04-08T17:45:00.000000000",
          "2024-04-08T18:00:00.000000000",
          "2024-04-08T18:15:00.000000000",
          "2024-04-08T18:30:00.000000000",
          "2024-04-08T18:45:00.000000000",
          "2024-04-08T19:00:00.000000000",
          "2024-04-08T19:15:00.000000000",
          "2024-04-08T19:30:00.000000000",
          "2024-04-08T19:45:00.000000000",
          "2024-04-08T20:00:00.000000000"
         ],
         "y": [
          3,
          9,
          7,
          0,
          2,
          1,
          0,
          0,
          11,
          3,
          0,
          0,
          0,
          0,
          0,
          27,
          13,
          6,
          4,
          1,
          1,
          2,
          11,
          25,
          0,
          1,
          0,
          1,
          28,
          2,
          0,
          0,
          15,
          11,
          0,
          0,
          1,
          0,
          0,
          0,
          0,
          0,
          0,
          0,
          0,
          0,
          0,
          0,
          0
         ]
        },
        {
         "mode": "lines+markers",
         "type": "scatter",
         "x": [
          "2024-04-08T08:00:00.000000000",
          "2024-04-08T08:15:00.000000000",
          "2024-04-08T08:30:00.000000000",
          "2024-04-08T08:45:00.000000000",
          "2024-04-08T09:00:00.000000000",
          "2024-04-08T09:15:00.000000000",
          "2024-04-08T09:30:00.000000000",
          "2024-04-08T09:45:00.000000000",
          "2024-04-08T10:00:00.000000000",
          "2024-04-08T10:15:00.000000000",
          "2024-04-08T10:30:00.000000000",
          "2024-04-08T10:45:00.000000000",
          "2024-04-08T11:00:00.000000000",
          "2024-04-08T11:15:00.000000000",
          "2024-04-08T11:30:00.000000000",
          "2024-04-08T11:45:00.000000000",
          "2024-04-08T12:00:00.000000000",
          "2024-04-08T12:15:00.000000000",
          "2024-04-08T12:30:00.000000000",
          "2024-04-08T12:45:00.000000000",
          "2024-04-08T13:00:00.000000000",
          "2024-04-08T13:15:00.000000000",
          "2024-04-08T13:30:00.000000000",
          "2024-04-08T13:45:00.000000000",
          "2024-04-08T14:00:00.000000000",
          "2024-04-08T14:15:00.000000000",
          "2024-04-08T14:30:00.000000000",
          "2024-04-08T14:45:00.000000000",
          "2024-04-08T15:00:00.000000000",
          "2024-04-08T15:15:00.000000000",
          "2024-04-08T15:30:00.000000000",
          "2024-04-08T15:45:00.000000000",
          "2024-04-08T16:00:00.000000000",
          "2024-04-08T16:15:00.000000000",
          "2024-04-08T16:30:00.000000000",
          "2024-04-08T16:45:00.000000000",
          "2024-04-08T17:00:00.000000000",
          "2024-04-08T17:15:00.000000000",
          "2024-04-08T17:30:00.000000000",
          "2024-04-08T17:45:00.000000000",
          "2024-04-08T18:00:00.000000000",
          "2024-04-08T18:15:00.000000000",
          "2024-04-08T18:30:00.000000000",
          "2024-04-08T18:45:00.000000000",
          "2024-04-08T19:00:00.000000000",
          "2024-04-08T19:15:00.000000000",
          "2024-04-08T19:30:00.000000000",
          "2024-04-08T19:45:00.000000000",
          "2024-04-08T20:00:00.000000000"
         ],
         "y": [
          0,
          0,
          1,
          0,
          1,
          1,
          0,
          0,
          0,
          0,
          0,
          0,
          0,
          0,
          2,
          28,
          17,
          2,
          1,
          2,
          2,
          0,
          21,
          3,
          0,
          0,
          1,
          1,
          4,
          14,
          9,
          0,
          0,
          0,
          2,
          0,
          0,
          0,
          0,
          0,
          1,
          0,
          0,
          10,
          1,
          0,
          0,
          0,
          0
         ]
        },
        {
         "mode": "lines+markers",
         "type": "scatter",
         "x": [
          "2024-04-08T08:00:00.000000000",
          "2024-04-08T08:15:00.000000000",
          "2024-04-08T08:30:00.000000000",
          "2024-04-08T08:45:00.000000000",
          "2024-04-08T09:00:00.000000000",
          "2024-04-08T09:15:00.000000000",
          "2024-04-08T09:30:00.000000000",
          "2024-04-08T09:45:00.000000000",
          "2024-04-08T10:00:00.000000000",
          "2024-04-08T10:15:00.000000000",
          "2024-04-08T10:30:00.000000000",
          "2024-04-08T10:45:00.000000000",
          "2024-04-08T11:00:00.000000000",
          "2024-04-08T11:15:00.000000000",
          "2024-04-08T11:30:00.000000000",
          "2024-04-08T11:45:00.000000000",
          "2024-04-08T12:00:00.000000000",
          "2024-04-08T12:15:00.000000000",
          "2024-04-08T12:30:00.000000000",
          "2024-04-08T12:45:00.000000000",
          "2024-04-08T13:00:00.000000000",
          "2024-04-08T13:15:00.000000000",
          "2024-04-08T13:30:00.000000000",
          "2024-04-08T13:45:00.000000000",
          "2024-04-08T14:00:00.000000000",
          "2024-04-08T14:15:00.000000000",
          "2024-04-08T14:30:00.000000000",
          "2024-04-08T14:45:00.000000000",
          "2024-04-08T15:00:00.000000000",
          "2024-04-08T15:15:00.000000000",
          "2024-04-08T15:30:00.000000000",
          "2024-04-08T15:45:00.000000000",
          "2024-04-08T16:00:00.000000000",
          "2024-04-08T16:15:00.000000000",
          "2024-04-08T16:30:00.000000000",
          "2024-04-08T16:45:00.000000000",
          "2024-04-08T17:00:00.000000000",
          "2024-04-08T17:15:00.000000000",
          "2024-04-08T17:30:00.000000000",
          "2024-04-08T17:45:00.000000000",
          "2024-04-08T18:00:00.000000000",
          "2024-04-08T18:15:00.000000000",
          "2024-04-08T18:30:00.000000000",
          "2024-04-08T18:45:00.000000000",
          "2024-04-08T19:00:00.000000000",
          "2024-04-08T19:15:00.000000000",
          "2024-04-08T19:30:00.000000000",
          "2024-04-08T19:45:00.000000000",
          "2024-04-08T20:00:00.000000000"
         ],
         "y": [
          0,
          0,
          0,
          0,
          0,
          0,
          0,
          1,
          0,
          0,
          0,
          0,
          0,
          0,
          8,
          26,
          11,
          2,
          0,
          0,
          0,
          2,
          13,
          5,
          0,
          0,
          0,
          0,
          0,
          20,
          2,
          0,
          1,
          0,
          0,
          0,
          5,
          0,
          0,
          0,
          0,
          0,
          0,
          0,
          0,
          0,
          0,
          1,
          0
         ]
        },
        {
         "mode": "lines+markers",
         "type": "scatter",
         "x": [
          "2024-04-08T08:00:00.000000000",
          "2024-04-08T08:15:00.000000000",
          "2024-04-08T08:30:00.000000000",
          "2024-04-08T08:45:00.000000000",
          "2024-04-08T09:00:00.000000000",
          "2024-04-08T09:15:00.000000000",
          "2024-04-08T09:30:00.000000000",
          "2024-04-08T09:45:00.000000000",
          "2024-04-08T10:00:00.000000000",
          "2024-04-08T10:15:00.000000000",
          "2024-04-08T10:30:00.000000000",
          "2024-04-08T10:45:00.000000000",
          "2024-04-08T11:00:00.000000000",
          "2024-04-08T11:15:00.000000000",
          "2024-04-08T11:30:00.000000000",
          "2024-04-08T11:45:00.000000000",
          "2024-04-08T12:00:00.000000000",
          "2024-04-08T12:15:00.000000000",
          "2024-04-08T12:30:00.000000000",
          "2024-04-08T12:45:00.000000000",
          "2024-04-08T13:00:00.000000000",
          "2024-04-08T13:15:00.000000000",
          "2024-04-08T13:30:00.000000000",
          "2024-04-08T13:45:00.000000000",
          "2024-04-08T14:00:00.000000000",
          "2024-04-08T14:15:00.000000000",
          "2024-04-08T14:30:00.000000000",
          "2024-04-08T14:45:00.000000000",
          "2024-04-08T15:00:00.000000000",
          "2024-04-08T15:15:00.000000000",
          "2024-04-08T15:30:00.000000000",
          "2024-04-08T15:45:00.000000000",
          "2024-04-08T16:00:00.000000000",
          "2024-04-08T16:15:00.000000000",
          "2024-04-08T16:30:00.000000000",
          "2024-04-08T16:45:00.000000000",
          "2024-04-08T17:00:00.000000000",
          "2024-04-08T17:15:00.000000000",
          "2024-04-08T17:30:00.000000000",
          "2024-04-08T17:45:00.000000000",
          "2024-04-08T18:00:00.000000000",
          "2024-04-08T18:15:00.000000000",
          "2024-04-08T18:30:00.000000000",
          "2024-04-08T18:45:00.000000000",
          "2024-04-08T19:00:00.000000000",
          "2024-04-08T19:15:00.000000000",
          "2024-04-08T19:30:00.000000000",
          "2024-04-08T19:45:00.000000000",
          "2024-04-08T20:00:00.000000000"
         ],
         "y": [
          0,
          0,
          0,
          0,
          0,
          0,
          0,
          0,
          0,
          0,
          0,
          0,
          0,
          0,
          2,
          30,
          8,
          0,
          0,
          0,
          2,
          0,
          9,
          6,
          0,
          0,
          1,
          0,
          0,
          15,
          2,
          0,
          0,
          0,
          0,
          0,
          4,
          0,
          0,
          0,
          0,
          0,
          0,
          0,
          0,
          0,
          1,
          0,
          0
         ]
        },
        {
         "mode": "lines+markers",
         "type": "scatter",
         "x": [
          "2024-04-08T08:00:00.000000000",
          "2024-04-08T08:15:00.000000000",
          "2024-04-08T08:30:00.000000000",
          "2024-04-08T08:45:00.000000000",
          "2024-04-08T09:00:00.000000000",
          "2024-04-08T09:15:00.000000000",
          "2024-04-08T09:30:00.000000000",
          "2024-04-08T09:45:00.000000000",
          "2024-04-08T10:00:00.000000000",
          "2024-04-08T10:15:00.000000000",
          "2024-04-08T10:30:00.000000000",
          "2024-04-08T10:45:00.000000000",
          "2024-04-08T11:00:00.000000000",
          "2024-04-08T11:15:00.000000000",
          "2024-04-08T11:30:00.000000000",
          "2024-04-08T11:45:00.000000000",
          "2024-04-08T12:00:00.000000000",
          "2024-04-08T12:15:00.000000000",
          "2024-04-08T12:30:00.000000000",
          "2024-04-08T12:45:00.000000000",
          "2024-04-08T13:00:00.000000000",
          "2024-04-08T13:15:00.000000000",
          "2024-04-08T13:30:00.000000000",
          "2024-04-08T13:45:00.000000000",
          "2024-04-08T14:00:00.000000000",
          "2024-04-08T14:15:00.000000000",
          "2024-04-08T14:30:00.000000000",
          "2024-04-08T14:45:00.000000000",
          "2024-04-08T15:00:00.000000000",
          "2024-04-08T15:15:00.000000000",
          "2024-04-08T15:30:00.000000000",
          "2024-04-08T15:45:00.000000000",
          "2024-04-08T16:00:00.000000000",
          "2024-04-08T16:15:00.000000000",
          "2024-04-08T16:30:00.000000000",
          "2024-04-08T16:45:00.000000000",
          "2024-04-08T17:00:00.000000000",
          "2024-04-08T17:15:00.000000000",
          "2024-04-08T17:30:00.000000000",
          "2024-04-08T17:45:00.000000000",
          "2024-04-08T18:00:00.000000000",
          "2024-04-08T18:15:00.000000000",
          "2024-04-08T18:30:00.000000000",
          "2024-04-08T18:45:00.000000000",
          "2024-04-08T19:00:00.000000000",
          "2024-04-08T19:15:00.000000000",
          "2024-04-08T19:30:00.000000000",
          "2024-04-08T19:45:00.000000000",
          "2024-04-08T20:00:00.000000000"
         ],
         "y": [
          0,
          0,
          0,
          0,
          0,
          0,
          0,
          0,
          0,
          0,
          0,
          0,
          0,
          0,
          2,
          29,
          4,
          6,
          0,
          0,
          0,
          0,
          12,
          5,
          0,
          0,
          0,
          0,
          1,
          9,
          8,
          1,
          0,
          0,
          0,
          2,
          3,
          1,
          0,
          0,
          4,
          1,
          0,
          0,
          0,
          0,
          0,
          0,
          1
         ]
        },
        {
         "mode": "lines+markers",
         "type": "scatter",
         "x": [
          "2024-04-08T08:00:00.000000000",
          "2024-04-08T08:15:00.000000000",
          "2024-04-08T08:30:00.000000000",
          "2024-04-08T08:45:00.000000000",
          "2024-04-08T09:00:00.000000000",
          "2024-04-08T09:15:00.000000000",
          "2024-04-08T09:30:00.000000000",
          "2024-04-08T09:45:00.000000000",
          "2024-04-08T10:00:00.000000000",
          "2024-04-08T10:15:00.000000000",
          "2024-04-08T10:30:00.000000000",
          "2024-04-08T10:45:00.000000000",
          "2024-04-08T11:00:00.000000000",
          "2024-04-08T11:15:00.000000000",
          "2024-04-08T11:30:00.000000000",
          "2024-04-08T11:45:00.000000000",
          "2024-04-08T12:00:00.000000000",
          "2024-04-08T12:15:00.000000000",
          "2024-04-08T12:30:00.000000000",
          "2024-04-08T12:45:00.000000000",
          "2024-04-08T13:00:00.000000000",
          "2024-04-08T13:15:00.000000000",
          "2024-04-08T13:30:00.000000000",
          "2024-04-08T13:45:00.000000000",
          "2024-04-08T14:00:00.000000000",
          "2024-04-08T14:15:00.000000000",
          "2024-04-08T14:30:00.000000000",
          "2024-04-08T14:45:00.000000000",
          "2024-04-08T15:00:00.000000000",
          "2024-04-08T15:15:00.000000000",
          "2024-04-08T15:30:00.000000000",
          "2024-04-08T15:45:00.000000000",
          "2024-04-08T16:00:00.000000000",
          "2024-04-08T16:15:00.000000000",
          "2024-04-08T16:30:00.000000000",
          "2024-04-08T16:45:00.000000000",
          "2024-04-08T17:00:00.000000000",
          "2024-04-08T17:15:00.000000000",
          "2024-04-08T17:30:00.000000000",
          "2024-04-08T17:45:00.000000000",
          "2024-04-08T18:00:00.000000000",
          "2024-04-08T18:15:00.000000000",
          "2024-04-08T18:30:00.000000000",
          "2024-04-08T18:45:00.000000000",
          "2024-04-08T19:00:00.000000000",
          "2024-04-08T19:15:00.000000000",
          "2024-04-08T19:30:00.000000000",
          "2024-04-08T19:45:00.000000000",
          "2024-04-08T20:00:00.000000000"
         ],
         "y": [
          0,
          0,
          0,
          0,
          0,
          0,
          0,
          0,
          0,
          0,
          0,
          0,
          0,
          0,
          3,
          22,
          8,
          2,
          0,
          0,
          2,
          0,
          1,
          0,
          0,
          0,
          0,
          2,
          1,
          16,
          0,
          0,
          0,
          0,
          0,
          0,
          8,
          3,
          0,
          0,
          0,
          0,
          0,
          0,
          0,
          0,
          0,
          0,
          0
         ]
        }
       ],
       "layout": {
        "template": {
         "data": {
          "bar": [
           {
            "error_x": {
             "color": "#2a3f5f"
            },
            "error_y": {
             "color": "#2a3f5f"
            },
            "marker": {
             "line": {
              "color": "#E5ECF6",
              "width": 0.5
             },
             "pattern": {
              "fillmode": "overlay",
              "size": 10,
              "solidity": 0.2
             }
            },
            "type": "bar"
           }
          ],
          "barpolar": [
           {
            "marker": {
             "line": {
              "color": "#E5ECF6",
              "width": 0.5
             },
             "pattern": {
              "fillmode": "overlay",
              "size": 10,
              "solidity": 0.2
             }
            },
            "type": "barpolar"
           }
          ],
          "carpet": [
           {
            "aaxis": {
             "endlinecolor": "#2a3f5f",
             "gridcolor": "white",
             "linecolor": "white",
             "minorgridcolor": "white",
             "startlinecolor": "#2a3f5f"
            },
            "baxis": {
             "endlinecolor": "#2a3f5f",
             "gridcolor": "white",
             "linecolor": "white",
             "minorgridcolor": "white",
             "startlinecolor": "#2a3f5f"
            },
            "type": "carpet"
           }
          ],
          "choropleth": [
           {
            "colorbar": {
             "outlinewidth": 0,
             "ticks": ""
            },
            "type": "choropleth"
           }
          ],
          "contour": [
           {
            "colorbar": {
             "outlinewidth": 0,
             "ticks": ""
            },
            "colorscale": [
             [
              0,
              "#0d0887"
             ],
             [
              0.1111111111111111,
              "#46039f"
             ],
             [
              0.2222222222222222,
              "#7201a8"
             ],
             [
              0.3333333333333333,
              "#9c179e"
             ],
             [
              0.4444444444444444,
              "#bd3786"
             ],
             [
              0.5555555555555556,
              "#d8576b"
             ],
             [
              0.6666666666666666,
              "#ed7953"
             ],
             [
              0.7777777777777778,
              "#fb9f3a"
             ],
             [
              0.8888888888888888,
              "#fdca26"
             ],
             [
              1,
              "#f0f921"
             ]
            ],
            "type": "contour"
           }
          ],
          "contourcarpet": [
           {
            "colorbar": {
             "outlinewidth": 0,
             "ticks": ""
            },
            "type": "contourcarpet"
           }
          ],
          "heatmap": [
           {
            "colorbar": {
             "outlinewidth": 0,
             "ticks": ""
            },
            "colorscale": [
             [
              0,
              "#0d0887"
             ],
             [
              0.1111111111111111,
              "#46039f"
             ],
             [
              0.2222222222222222,
              "#7201a8"
             ],
             [
              0.3333333333333333,
              "#9c179e"
             ],
             [
              0.4444444444444444,
              "#bd3786"
             ],
             [
              0.5555555555555556,
              "#d8576b"
             ],
             [
              0.6666666666666666,
              "#ed7953"
             ],
             [
              0.7777777777777778,
              "#fb9f3a"
             ],
             [
              0.8888888888888888,
              "#fdca26"
             ],
             [
              1,
              "#f0f921"
             ]
            ],
            "type": "heatmap"
           }
          ],
          "heatmapgl": [
           {
            "colorbar": {
             "outlinewidth": 0,
             "ticks": ""
            },
            "colorscale": [
             [
              0,
              "#0d0887"
             ],
             [
              0.1111111111111111,
              "#46039f"
             ],
             [
              0.2222222222222222,
              "#7201a8"
             ],
             [
              0.3333333333333333,
              "#9c179e"
             ],
             [
              0.4444444444444444,
              "#bd3786"
             ],
             [
              0.5555555555555556,
              "#d8576b"
             ],
             [
              0.6666666666666666,
              "#ed7953"
             ],
             [
              0.7777777777777778,
              "#fb9f3a"
             ],
             [
              0.8888888888888888,
              "#fdca26"
             ],
             [
              1,
              "#f0f921"
             ]
            ],
            "type": "heatmapgl"
           }
          ],
          "histogram": [
           {
            "marker": {
             "pattern": {
              "fillmode": "overlay",
              "size": 10,
              "solidity": 0.2
             }
            },
            "type": "histogram"
           }
          ],
          "histogram2d": [
           {
            "colorbar": {
             "outlinewidth": 0,
             "ticks": ""
            },
            "colorscale": [
             [
              0,
              "#0d0887"
             ],
             [
              0.1111111111111111,
              "#46039f"
             ],
             [
              0.2222222222222222,
              "#7201a8"
             ],
             [
              0.3333333333333333,
              "#9c179e"
             ],
             [
              0.4444444444444444,
              "#bd3786"
             ],
             [
              0.5555555555555556,
              "#d8576b"
             ],
             [
              0.6666666666666666,
              "#ed7953"
             ],
             [
              0.7777777777777778,
              "#fb9f3a"
             ],
             [
              0.8888888888888888,
              "#fdca26"
             ],
             [
              1,
              "#f0f921"
             ]
            ],
            "type": "histogram2d"
           }
          ],
          "histogram2dcontour": [
           {
            "colorbar": {
             "outlinewidth": 0,
             "ticks": ""
            },
            "colorscale": [
             [
              0,
              "#0d0887"
             ],
             [
              0.1111111111111111,
              "#46039f"
             ],
             [
              0.2222222222222222,
              "#7201a8"
             ],
             [
              0.3333333333333333,
              "#9c179e"
             ],
             [
              0.4444444444444444,
              "#bd3786"
             ],
             [
              0.5555555555555556,
              "#d8576b"
             ],
             [
              0.6666666666666666,
              "#ed7953"
             ],
             [
              0.7777777777777778,
              "#fb9f3a"
             ],
             [
              0.8888888888888888,
              "#fdca26"
             ],
             [
              1,
              "#f0f921"
             ]
            ],
            "type": "histogram2dcontour"
           }
          ],
          "mesh3d": [
           {
            "colorbar": {
             "outlinewidth": 0,
             "ticks": ""
            },
            "type": "mesh3d"
           }
          ],
          "parcoords": [
           {
            "line": {
             "colorbar": {
              "outlinewidth": 0,
              "ticks": ""
             }
            },
            "type": "parcoords"
           }
          ],
          "pie": [
           {
            "automargin": true,
            "type": "pie"
           }
          ],
          "scatter": [
           {
            "fillpattern": {
             "fillmode": "overlay",
             "size": 10,
             "solidity": 0.2
            },
            "type": "scatter"
           }
          ],
          "scatter3d": [
           {
            "line": {
             "colorbar": {
              "outlinewidth": 0,
              "ticks": ""
             }
            },
            "marker": {
             "colorbar": {
              "outlinewidth": 0,
              "ticks": ""
             }
            },
            "type": "scatter3d"
           }
          ],
          "scattercarpet": [
           {
            "marker": {
             "colorbar": {
              "outlinewidth": 0,
              "ticks": ""
             }
            },
            "type": "scattercarpet"
           }
          ],
          "scattergeo": [
           {
            "marker": {
             "colorbar": {
              "outlinewidth": 0,
              "ticks": ""
             }
            },
            "type": "scattergeo"
           }
          ],
          "scattergl": [
           {
            "marker": {
             "colorbar": {
              "outlinewidth": 0,
              "ticks": ""
             }
            },
            "type": "scattergl"
           }
          ],
          "scattermapbox": [
           {
            "marker": {
             "colorbar": {
              "outlinewidth": 0,
              "ticks": ""
             }
            },
            "type": "scattermapbox"
           }
          ],
          "scatterpolar": [
           {
            "marker": {
             "colorbar": {
              "outlinewidth": 0,
              "ticks": ""
             }
            },
            "type": "scatterpolar"
           }
          ],
          "scatterpolargl": [
           {
            "marker": {
             "colorbar": {
              "outlinewidth": 0,
              "ticks": ""
             }
            },
            "type": "scatterpolargl"
           }
          ],
          "scatterternary": [
           {
            "marker": {
             "colorbar": {
              "outlinewidth": 0,
              "ticks": ""
             }
            },
            "type": "scatterternary"
           }
          ],
          "surface": [
           {
            "colorbar": {
             "outlinewidth": 0,
             "ticks": ""
            },
            "colorscale": [
             [
              0,
              "#0d0887"
             ],
             [
              0.1111111111111111,
              "#46039f"
             ],
             [
              0.2222222222222222,
              "#7201a8"
             ],
             [
              0.3333333333333333,
              "#9c179e"
             ],
             [
              0.4444444444444444,
              "#bd3786"
             ],
             [
              0.5555555555555556,
              "#d8576b"
             ],
             [
              0.6666666666666666,
              "#ed7953"
             ],
             [
              0.7777777777777778,
              "#fb9f3a"
             ],
             [
              0.8888888888888888,
              "#fdca26"
             ],
             [
              1,
              "#f0f921"
             ]
            ],
            "type": "surface"
           }
          ],
          "table": [
           {
            "cells": {
             "fill": {
              "color": "#EBF0F8"
             },
             "line": {
              "color": "white"
             }
            },
            "header": {
             "fill": {
              "color": "#C8D4E3"
             },
             "line": {
              "color": "white"
             }
            },
            "type": "table"
           }
          ]
         },
         "layout": {
          "annotationdefaults": {
           "arrowcolor": "#2a3f5f",
           "arrowhead": 0,
           "arrowwidth": 1
          },
          "autotypenumbers": "strict",
          "coloraxis": {
           "colorbar": {
            "outlinewidth": 0,
            "ticks": ""
           }
          },
          "colorscale": {
           "diverging": [
            [
             0,
             "#8e0152"
            ],
            [
             0.1,
             "#c51b7d"
            ],
            [
             0.2,
             "#de77ae"
            ],
            [
             0.3,
             "#f1b6da"
            ],
            [
             0.4,
             "#fde0ef"
            ],
            [
             0.5,
             "#f7f7f7"
            ],
            [
             0.6,
             "#e6f5d0"
            ],
            [
             0.7,
             "#b8e186"
            ],
            [
             0.8,
             "#7fbc41"
            ],
            [
             0.9,
             "#4d9221"
            ],
            [
             1,
             "#276419"
            ]
           ],
           "sequential": [
            [
             0,
             "#0d0887"
            ],
            [
             0.1111111111111111,
             "#46039f"
            ],
            [
             0.2222222222222222,
             "#7201a8"
            ],
            [
             0.3333333333333333,
             "#9c179e"
            ],
            [
             0.4444444444444444,
             "#bd3786"
            ],
            [
             0.5555555555555556,
             "#d8576b"
            ],
            [
             0.6666666666666666,
             "#ed7953"
            ],
            [
             0.7777777777777778,
             "#fb9f3a"
            ],
            [
             0.8888888888888888,
             "#fdca26"
            ],
            [
             1,
             "#f0f921"
            ]
           ],
           "sequentialminus": [
            [
             0,
             "#0d0887"
            ],
            [
             0.1111111111111111,
             "#46039f"
            ],
            [
             0.2222222222222222,
             "#7201a8"
            ],
            [
             0.3333333333333333,
             "#9c179e"
            ],
            [
             0.4444444444444444,
             "#bd3786"
            ],
            [
             0.5555555555555556,
             "#d8576b"
            ],
            [
             0.6666666666666666,
             "#ed7953"
            ],
            [
             0.7777777777777778,
             "#fb9f3a"
            ],
            [
             0.8888888888888888,
             "#fdca26"
            ],
            [
             1,
             "#f0f921"
            ]
           ]
          },
          "colorway": [
           "#636efa",
           "#EF553B",
           "#00cc96",
           "#ab63fa",
           "#FFA15A",
           "#19d3f3",
           "#FF6692",
           "#B6E880",
           "#FF97FF",
           "#FECB52"
          ],
          "font": {
           "color": "#2a3f5f"
          },
          "geo": {
           "bgcolor": "white",
           "lakecolor": "white",
           "landcolor": "#E5ECF6",
           "showlakes": true,
           "showland": true,
           "subunitcolor": "white"
          },
          "hoverlabel": {
           "align": "left"
          },
          "hovermode": "closest",
          "mapbox": {
           "style": "light"
          },
          "paper_bgcolor": "white",
          "plot_bgcolor": "#E5ECF6",
          "polar": {
           "angularaxis": {
            "gridcolor": "white",
            "linecolor": "white",
            "ticks": ""
           },
           "bgcolor": "#E5ECF6",
           "radialaxis": {
            "gridcolor": "white",
            "linecolor": "white",
            "ticks": ""
           }
          },
          "scene": {
           "xaxis": {
            "backgroundcolor": "#E5ECF6",
            "gridcolor": "white",
            "gridwidth": 2,
            "linecolor": "white",
            "showbackground": true,
            "ticks": "",
            "zerolinecolor": "white"
           },
           "yaxis": {
            "backgroundcolor": "#E5ECF6",
            "gridcolor": "white",
            "gridwidth": 2,
            "linecolor": "white",
            "showbackground": true,
            "ticks": "",
            "zerolinecolor": "white"
           },
           "zaxis": {
            "backgroundcolor": "#E5ECF6",
            "gridcolor": "white",
            "gridwidth": 2,
            "linecolor": "white",
            "showbackground": true,
            "ticks": "",
            "zerolinecolor": "white"
           }
          },
          "shapedefaults": {
           "line": {
            "color": "#2a3f5f"
           }
          },
          "ternary": {
           "aaxis": {
            "gridcolor": "white",
            "linecolor": "white",
            "ticks": ""
           },
           "baxis": {
            "gridcolor": "white",
            "linecolor": "white",
            "ticks": ""
           },
           "bgcolor": "#E5ECF6",
           "caxis": {
            "gridcolor": "white",
            "linecolor": "white",
            "ticks": ""
           }
          },
          "title": {
           "x": 0.05
          },
          "xaxis": {
           "automargin": true,
           "gridcolor": "white",
           "linecolor": "white",
           "ticks": "",
           "title": {
            "standoff": 15
           },
           "zerolinecolor": "white",
           "zerolinewidth": 2
          },
          "yaxis": {
           "automargin": true,
           "gridcolor": "white",
           "linecolor": "white",
           "ticks": "",
           "title": {
            "standoff": 15
           },
           "zerolinecolor": "white",
           "zerolinewidth": 2
          }
         }
        }
       }
      }
     },
     "metadata": {},
     "output_type": "display_data"
    },
    {
     "name": "stdout",
     "output_type": "stream",
     "text": [
      "################ 10 ################\n",
      "[3]\n"
     ]
    },
    {
     "data": {
      "application/vnd.plotly.v1+json": {
       "config": {
        "plotlyServerURL": "https://plot.ly"
       },
       "data": [
        {
         "mode": "lines+markers",
         "type": "scatter",
         "x": [
          "2024-04-08T08:00:00.000000000",
          "2024-04-08T08:15:00.000000000",
          "2024-04-08T08:30:00.000000000",
          "2024-04-08T08:45:00.000000000",
          "2024-04-08T09:00:00.000000000",
          "2024-04-08T09:15:00.000000000",
          "2024-04-08T09:30:00.000000000",
          "2024-04-08T09:45:00.000000000",
          "2024-04-08T10:00:00.000000000",
          "2024-04-08T10:15:00.000000000",
          "2024-04-08T10:30:00.000000000",
          "2024-04-08T10:45:00.000000000",
          "2024-04-08T11:00:00.000000000",
          "2024-04-08T11:15:00.000000000",
          "2024-04-08T11:30:00.000000000",
          "2024-04-08T11:45:00.000000000",
          "2024-04-08T12:00:00.000000000",
          "2024-04-08T12:15:00.000000000",
          "2024-04-08T12:30:00.000000000",
          "2024-04-08T12:45:00.000000000",
          "2024-04-08T13:00:00.000000000",
          "2024-04-08T13:15:00.000000000",
          "2024-04-08T13:30:00.000000000",
          "2024-04-08T13:45:00.000000000",
          "2024-04-08T14:00:00.000000000",
          "2024-04-08T14:15:00.000000000",
          "2024-04-08T14:30:00.000000000",
          "2024-04-08T14:45:00.000000000",
          "2024-04-08T15:00:00.000000000",
          "2024-04-08T15:15:00.000000000",
          "2024-04-08T15:30:00.000000000",
          "2024-04-08T15:45:00.000000000",
          "2024-04-08T16:00:00.000000000",
          "2024-04-08T16:15:00.000000000",
          "2024-04-08T16:30:00.000000000",
          "2024-04-08T16:45:00.000000000",
          "2024-04-08T17:00:00.000000000",
          "2024-04-08T17:15:00.000000000",
          "2024-04-08T17:30:00.000000000",
          "2024-04-08T17:45:00.000000000",
          "2024-04-08T18:00:00.000000000",
          "2024-04-08T18:15:00.000000000",
          "2024-04-08T18:30:00.000000000",
          "2024-04-08T18:45:00.000000000",
          "2024-04-08T19:00:00.000000000",
          "2024-04-08T19:15:00.000000000",
          "2024-04-08T19:30:00.000000000",
          "2024-04-08T19:45:00.000000000",
          "2024-04-08T20:00:00.000000000"
         ],
         "y": [
          13,
          18,
          9,
          0,
          0,
          1,
          1,
          0,
          29,
          8,
          1,
          0,
          1,
          2,
          2,
          0,
          1,
          0,
          0,
          0,
          0,
          0,
          16,
          1,
          0,
          0,
          0,
          0,
          5,
          51,
          16,
          0,
          0,
          2,
          1,
          0,
          38,
          11,
          0,
          1,
          0,
          3,
          0,
          0,
          0,
          0,
          0,
          1,
          0
         ]
        }
       ],
       "layout": {
        "template": {
         "data": {
          "bar": [
           {
            "error_x": {
             "color": "#2a3f5f"
            },
            "error_y": {
             "color": "#2a3f5f"
            },
            "marker": {
             "line": {
              "color": "#E5ECF6",
              "width": 0.5
             },
             "pattern": {
              "fillmode": "overlay",
              "size": 10,
              "solidity": 0.2
             }
            },
            "type": "bar"
           }
          ],
          "barpolar": [
           {
            "marker": {
             "line": {
              "color": "#E5ECF6",
              "width": 0.5
             },
             "pattern": {
              "fillmode": "overlay",
              "size": 10,
              "solidity": 0.2
             }
            },
            "type": "barpolar"
           }
          ],
          "carpet": [
           {
            "aaxis": {
             "endlinecolor": "#2a3f5f",
             "gridcolor": "white",
             "linecolor": "white",
             "minorgridcolor": "white",
             "startlinecolor": "#2a3f5f"
            },
            "baxis": {
             "endlinecolor": "#2a3f5f",
             "gridcolor": "white",
             "linecolor": "white",
             "minorgridcolor": "white",
             "startlinecolor": "#2a3f5f"
            },
            "type": "carpet"
           }
          ],
          "choropleth": [
           {
            "colorbar": {
             "outlinewidth": 0,
             "ticks": ""
            },
            "type": "choropleth"
           }
          ],
          "contour": [
           {
            "colorbar": {
             "outlinewidth": 0,
             "ticks": ""
            },
            "colorscale": [
             [
              0,
              "#0d0887"
             ],
             [
              0.1111111111111111,
              "#46039f"
             ],
             [
              0.2222222222222222,
              "#7201a8"
             ],
             [
              0.3333333333333333,
              "#9c179e"
             ],
             [
              0.4444444444444444,
              "#bd3786"
             ],
             [
              0.5555555555555556,
              "#d8576b"
             ],
             [
              0.6666666666666666,
              "#ed7953"
             ],
             [
              0.7777777777777778,
              "#fb9f3a"
             ],
             [
              0.8888888888888888,
              "#fdca26"
             ],
             [
              1,
              "#f0f921"
             ]
            ],
            "type": "contour"
           }
          ],
          "contourcarpet": [
           {
            "colorbar": {
             "outlinewidth": 0,
             "ticks": ""
            },
            "type": "contourcarpet"
           }
          ],
          "heatmap": [
           {
            "colorbar": {
             "outlinewidth": 0,
             "ticks": ""
            },
            "colorscale": [
             [
              0,
              "#0d0887"
             ],
             [
              0.1111111111111111,
              "#46039f"
             ],
             [
              0.2222222222222222,
              "#7201a8"
             ],
             [
              0.3333333333333333,
              "#9c179e"
             ],
             [
              0.4444444444444444,
              "#bd3786"
             ],
             [
              0.5555555555555556,
              "#d8576b"
             ],
             [
              0.6666666666666666,
              "#ed7953"
             ],
             [
              0.7777777777777778,
              "#fb9f3a"
             ],
             [
              0.8888888888888888,
              "#fdca26"
             ],
             [
              1,
              "#f0f921"
             ]
            ],
            "type": "heatmap"
           }
          ],
          "heatmapgl": [
           {
            "colorbar": {
             "outlinewidth": 0,
             "ticks": ""
            },
            "colorscale": [
             [
              0,
              "#0d0887"
             ],
             [
              0.1111111111111111,
              "#46039f"
             ],
             [
              0.2222222222222222,
              "#7201a8"
             ],
             [
              0.3333333333333333,
              "#9c179e"
             ],
             [
              0.4444444444444444,
              "#bd3786"
             ],
             [
              0.5555555555555556,
              "#d8576b"
             ],
             [
              0.6666666666666666,
              "#ed7953"
             ],
             [
              0.7777777777777778,
              "#fb9f3a"
             ],
             [
              0.8888888888888888,
              "#fdca26"
             ],
             [
              1,
              "#f0f921"
             ]
            ],
            "type": "heatmapgl"
           }
          ],
          "histogram": [
           {
            "marker": {
             "pattern": {
              "fillmode": "overlay",
              "size": 10,
              "solidity": 0.2
             }
            },
            "type": "histogram"
           }
          ],
          "histogram2d": [
           {
            "colorbar": {
             "outlinewidth": 0,
             "ticks": ""
            },
            "colorscale": [
             [
              0,
              "#0d0887"
             ],
             [
              0.1111111111111111,
              "#46039f"
             ],
             [
              0.2222222222222222,
              "#7201a8"
             ],
             [
              0.3333333333333333,
              "#9c179e"
             ],
             [
              0.4444444444444444,
              "#bd3786"
             ],
             [
              0.5555555555555556,
              "#d8576b"
             ],
             [
              0.6666666666666666,
              "#ed7953"
             ],
             [
              0.7777777777777778,
              "#fb9f3a"
             ],
             [
              0.8888888888888888,
              "#fdca26"
             ],
             [
              1,
              "#f0f921"
             ]
            ],
            "type": "histogram2d"
           }
          ],
          "histogram2dcontour": [
           {
            "colorbar": {
             "outlinewidth": 0,
             "ticks": ""
            },
            "colorscale": [
             [
              0,
              "#0d0887"
             ],
             [
              0.1111111111111111,
              "#46039f"
             ],
             [
              0.2222222222222222,
              "#7201a8"
             ],
             [
              0.3333333333333333,
              "#9c179e"
             ],
             [
              0.4444444444444444,
              "#bd3786"
             ],
             [
              0.5555555555555556,
              "#d8576b"
             ],
             [
              0.6666666666666666,
              "#ed7953"
             ],
             [
              0.7777777777777778,
              "#fb9f3a"
             ],
             [
              0.8888888888888888,
              "#fdca26"
             ],
             [
              1,
              "#f0f921"
             ]
            ],
            "type": "histogram2dcontour"
           }
          ],
          "mesh3d": [
           {
            "colorbar": {
             "outlinewidth": 0,
             "ticks": ""
            },
            "type": "mesh3d"
           }
          ],
          "parcoords": [
           {
            "line": {
             "colorbar": {
              "outlinewidth": 0,
              "ticks": ""
             }
            },
            "type": "parcoords"
           }
          ],
          "pie": [
           {
            "automargin": true,
            "type": "pie"
           }
          ],
          "scatter": [
           {
            "fillpattern": {
             "fillmode": "overlay",
             "size": 10,
             "solidity": 0.2
            },
            "type": "scatter"
           }
          ],
          "scatter3d": [
           {
            "line": {
             "colorbar": {
              "outlinewidth": 0,
              "ticks": ""
             }
            },
            "marker": {
             "colorbar": {
              "outlinewidth": 0,
              "ticks": ""
             }
            },
            "type": "scatter3d"
           }
          ],
          "scattercarpet": [
           {
            "marker": {
             "colorbar": {
              "outlinewidth": 0,
              "ticks": ""
             }
            },
            "type": "scattercarpet"
           }
          ],
          "scattergeo": [
           {
            "marker": {
             "colorbar": {
              "outlinewidth": 0,
              "ticks": ""
             }
            },
            "type": "scattergeo"
           }
          ],
          "scattergl": [
           {
            "marker": {
             "colorbar": {
              "outlinewidth": 0,
              "ticks": ""
             }
            },
            "type": "scattergl"
           }
          ],
          "scattermapbox": [
           {
            "marker": {
             "colorbar": {
              "outlinewidth": 0,
              "ticks": ""
             }
            },
            "type": "scattermapbox"
           }
          ],
          "scatterpolar": [
           {
            "marker": {
             "colorbar": {
              "outlinewidth": 0,
              "ticks": ""
             }
            },
            "type": "scatterpolar"
           }
          ],
          "scatterpolargl": [
           {
            "marker": {
             "colorbar": {
              "outlinewidth": 0,
              "ticks": ""
             }
            },
            "type": "scatterpolargl"
           }
          ],
          "scatterternary": [
           {
            "marker": {
             "colorbar": {
              "outlinewidth": 0,
              "ticks": ""
             }
            },
            "type": "scatterternary"
           }
          ],
          "surface": [
           {
            "colorbar": {
             "outlinewidth": 0,
             "ticks": ""
            },
            "colorscale": [
             [
              0,
              "#0d0887"
             ],
             [
              0.1111111111111111,
              "#46039f"
             ],
             [
              0.2222222222222222,
              "#7201a8"
             ],
             [
              0.3333333333333333,
              "#9c179e"
             ],
             [
              0.4444444444444444,
              "#bd3786"
             ],
             [
              0.5555555555555556,
              "#d8576b"
             ],
             [
              0.6666666666666666,
              "#ed7953"
             ],
             [
              0.7777777777777778,
              "#fb9f3a"
             ],
             [
              0.8888888888888888,
              "#fdca26"
             ],
             [
              1,
              "#f0f921"
             ]
            ],
            "type": "surface"
           }
          ],
          "table": [
           {
            "cells": {
             "fill": {
              "color": "#EBF0F8"
             },
             "line": {
              "color": "white"
             }
            },
            "header": {
             "fill": {
              "color": "#C8D4E3"
             },
             "line": {
              "color": "white"
             }
            },
            "type": "table"
           }
          ]
         },
         "layout": {
          "annotationdefaults": {
           "arrowcolor": "#2a3f5f",
           "arrowhead": 0,
           "arrowwidth": 1
          },
          "autotypenumbers": "strict",
          "coloraxis": {
           "colorbar": {
            "outlinewidth": 0,
            "ticks": ""
           }
          },
          "colorscale": {
           "diverging": [
            [
             0,
             "#8e0152"
            ],
            [
             0.1,
             "#c51b7d"
            ],
            [
             0.2,
             "#de77ae"
            ],
            [
             0.3,
             "#f1b6da"
            ],
            [
             0.4,
             "#fde0ef"
            ],
            [
             0.5,
             "#f7f7f7"
            ],
            [
             0.6,
             "#e6f5d0"
            ],
            [
             0.7,
             "#b8e186"
            ],
            [
             0.8,
             "#7fbc41"
            ],
            [
             0.9,
             "#4d9221"
            ],
            [
             1,
             "#276419"
            ]
           ],
           "sequential": [
            [
             0,
             "#0d0887"
            ],
            [
             0.1111111111111111,
             "#46039f"
            ],
            [
             0.2222222222222222,
             "#7201a8"
            ],
            [
             0.3333333333333333,
             "#9c179e"
            ],
            [
             0.4444444444444444,
             "#bd3786"
            ],
            [
             0.5555555555555556,
             "#d8576b"
            ],
            [
             0.6666666666666666,
             "#ed7953"
            ],
            [
             0.7777777777777778,
             "#fb9f3a"
            ],
            [
             0.8888888888888888,
             "#fdca26"
            ],
            [
             1,
             "#f0f921"
            ]
           ],
           "sequentialminus": [
            [
             0,
             "#0d0887"
            ],
            [
             0.1111111111111111,
             "#46039f"
            ],
            [
             0.2222222222222222,
             "#7201a8"
            ],
            [
             0.3333333333333333,
             "#9c179e"
            ],
            [
             0.4444444444444444,
             "#bd3786"
            ],
            [
             0.5555555555555556,
             "#d8576b"
            ],
            [
             0.6666666666666666,
             "#ed7953"
            ],
            [
             0.7777777777777778,
             "#fb9f3a"
            ],
            [
             0.8888888888888888,
             "#fdca26"
            ],
            [
             1,
             "#f0f921"
            ]
           ]
          },
          "colorway": [
           "#636efa",
           "#EF553B",
           "#00cc96",
           "#ab63fa",
           "#FFA15A",
           "#19d3f3",
           "#FF6692",
           "#B6E880",
           "#FF97FF",
           "#FECB52"
          ],
          "font": {
           "color": "#2a3f5f"
          },
          "geo": {
           "bgcolor": "white",
           "lakecolor": "white",
           "landcolor": "#E5ECF6",
           "showlakes": true,
           "showland": true,
           "subunitcolor": "white"
          },
          "hoverlabel": {
           "align": "left"
          },
          "hovermode": "closest",
          "mapbox": {
           "style": "light"
          },
          "paper_bgcolor": "white",
          "plot_bgcolor": "#E5ECF6",
          "polar": {
           "angularaxis": {
            "gridcolor": "white",
            "linecolor": "white",
            "ticks": ""
           },
           "bgcolor": "#E5ECF6",
           "radialaxis": {
            "gridcolor": "white",
            "linecolor": "white",
            "ticks": ""
           }
          },
          "scene": {
           "xaxis": {
            "backgroundcolor": "#E5ECF6",
            "gridcolor": "white",
            "gridwidth": 2,
            "linecolor": "white",
            "showbackground": true,
            "ticks": "",
            "zerolinecolor": "white"
           },
           "yaxis": {
            "backgroundcolor": "#E5ECF6",
            "gridcolor": "white",
            "gridwidth": 2,
            "linecolor": "white",
            "showbackground": true,
            "ticks": "",
            "zerolinecolor": "white"
           },
           "zaxis": {
            "backgroundcolor": "#E5ECF6",
            "gridcolor": "white",
            "gridwidth": 2,
            "linecolor": "white",
            "showbackground": true,
            "ticks": "",
            "zerolinecolor": "white"
           }
          },
          "shapedefaults": {
           "line": {
            "color": "#2a3f5f"
           }
          },
          "ternary": {
           "aaxis": {
            "gridcolor": "white",
            "linecolor": "white",
            "ticks": ""
           },
           "baxis": {
            "gridcolor": "white",
            "linecolor": "white",
            "ticks": ""
           },
           "bgcolor": "#E5ECF6",
           "caxis": {
            "gridcolor": "white",
            "linecolor": "white",
            "ticks": ""
           }
          },
          "title": {
           "x": 0.05
          },
          "xaxis": {
           "automargin": true,
           "gridcolor": "white",
           "linecolor": "white",
           "ticks": "",
           "title": {
            "standoff": 15
           },
           "zerolinecolor": "white",
           "zerolinewidth": 2
          },
          "yaxis": {
           "automargin": true,
           "gridcolor": "white",
           "linecolor": "white",
           "ticks": "",
           "title": {
            "standoff": 15
           },
           "zerolinecolor": "white",
           "zerolinewidth": 2
          }
         }
        }
       }
      }
     },
     "metadata": {},
     "output_type": "display_data"
    },
    {
     "name": "stdout",
     "output_type": "stream",
     "text": [
      "################ 11 ################\n",
      "[ 1 15 36 71]\n"
     ]
    },
    {
     "data": {
      "application/vnd.plotly.v1+json": {
       "config": {
        "plotlyServerURL": "https://plot.ly"
       },
       "data": [
        {
         "mode": "lines+markers",
         "type": "scatter",
         "x": [
          "2024-04-08T08:00:00.000000000",
          "2024-04-08T08:15:00.000000000",
          "2024-04-08T08:30:00.000000000",
          "2024-04-08T08:45:00.000000000",
          "2024-04-08T09:00:00.000000000",
          "2024-04-08T09:15:00.000000000",
          "2024-04-08T09:30:00.000000000",
          "2024-04-08T09:45:00.000000000",
          "2024-04-08T10:00:00.000000000",
          "2024-04-08T10:15:00.000000000",
          "2024-04-08T10:30:00.000000000",
          "2024-04-08T10:45:00.000000000",
          "2024-04-08T11:00:00.000000000",
          "2024-04-08T11:15:00.000000000",
          "2024-04-08T11:30:00.000000000",
          "2024-04-08T11:45:00.000000000",
          "2024-04-08T12:00:00.000000000",
          "2024-04-08T12:15:00.000000000",
          "2024-04-08T12:30:00.000000000",
          "2024-04-08T12:45:00.000000000",
          "2024-04-08T13:00:00.000000000",
          "2024-04-08T13:15:00.000000000",
          "2024-04-08T13:30:00.000000000",
          "2024-04-08T13:45:00.000000000",
          "2024-04-08T14:00:00.000000000",
          "2024-04-08T14:15:00.000000000",
          "2024-04-08T14:30:00.000000000",
          "2024-04-08T14:45:00.000000000",
          "2024-04-08T15:00:00.000000000",
          "2024-04-08T15:15:00.000000000",
          "2024-04-08T15:30:00.000000000",
          "2024-04-08T15:45:00.000000000",
          "2024-04-08T16:00:00.000000000",
          "2024-04-08T16:15:00.000000000",
          "2024-04-08T16:30:00.000000000",
          "2024-04-08T16:45:00.000000000",
          "2024-04-08T17:00:00.000000000",
          "2024-04-08T17:15:00.000000000",
          "2024-04-08T17:30:00.000000000",
          "2024-04-08T17:45:00.000000000",
          "2024-04-08T18:00:00.000000000",
          "2024-04-08T18:15:00.000000000",
          "2024-04-08T18:30:00.000000000",
          "2024-04-08T18:45:00.000000000",
          "2024-04-08T19:00:00.000000000",
          "2024-04-08T19:15:00.000000000",
          "2024-04-08T19:30:00.000000000",
          "2024-04-08T19:45:00.000000000",
          "2024-04-08T20:00:00.000000000"
         ],
         "y": [
          2,
          18,
          15,
          1,
          1,
          0,
          0,
          1,
          52,
          10,
          1,
          1,
          2,
          1,
          9,
          39,
          11,
          3,
          3,
          0,
          1,
          6,
          20,
          10,
          1,
          2,
          0,
          0,
          1,
          15,
          2,
          0,
          0,
          2,
          2,
          0,
          0,
          0,
          0,
          0,
          0,
          0,
          0,
          0,
          0,
          0,
          0,
          1,
          0
         ]
        },
        {
         "mode": "lines+markers",
         "type": "scatter",
         "x": [
          "2024-04-08T08:00:00.000000000",
          "2024-04-08T08:15:00.000000000",
          "2024-04-08T08:30:00.000000000",
          "2024-04-08T08:45:00.000000000",
          "2024-04-08T09:00:00.000000000",
          "2024-04-08T09:15:00.000000000",
          "2024-04-08T09:30:00.000000000",
          "2024-04-08T09:45:00.000000000",
          "2024-04-08T10:00:00.000000000",
          "2024-04-08T10:15:00.000000000",
          "2024-04-08T10:30:00.000000000",
          "2024-04-08T10:45:00.000000000",
          "2024-04-08T11:00:00.000000000",
          "2024-04-08T11:15:00.000000000",
          "2024-04-08T11:30:00.000000000",
          "2024-04-08T11:45:00.000000000",
          "2024-04-08T12:00:00.000000000",
          "2024-04-08T12:15:00.000000000",
          "2024-04-08T12:30:00.000000000",
          "2024-04-08T12:45:00.000000000",
          "2024-04-08T13:00:00.000000000",
          "2024-04-08T13:15:00.000000000",
          "2024-04-08T13:30:00.000000000",
          "2024-04-08T13:45:00.000000000",
          "2024-04-08T14:00:00.000000000",
          "2024-04-08T14:15:00.000000000",
          "2024-04-08T14:30:00.000000000",
          "2024-04-08T14:45:00.000000000",
          "2024-04-08T15:00:00.000000000",
          "2024-04-08T15:15:00.000000000",
          "2024-04-08T15:30:00.000000000",
          "2024-04-08T15:45:00.000000000",
          "2024-04-08T16:00:00.000000000",
          "2024-04-08T16:15:00.000000000",
          "2024-04-08T16:30:00.000000000",
          "2024-04-08T16:45:00.000000000",
          "2024-04-08T17:00:00.000000000",
          "2024-04-08T17:15:00.000000000",
          "2024-04-08T17:30:00.000000000",
          "2024-04-08T17:45:00.000000000",
          "2024-04-08T18:00:00.000000000",
          "2024-04-08T18:15:00.000000000",
          "2024-04-08T18:30:00.000000000",
          "2024-04-08T18:45:00.000000000",
          "2024-04-08T19:00:00.000000000",
          "2024-04-08T19:15:00.000000000",
          "2024-04-08T19:30:00.000000000",
          "2024-04-08T19:45:00.000000000",
          "2024-04-08T20:00:00.000000000"
         ],
         "y": [
          7,
          21,
          14,
          1,
          0,
          1,
          0,
          0,
          38,
          7,
          0,
          0,
          0,
          2,
          0,
          38,
          4,
          2,
          3,
          0,
          0,
          0,
          17,
          7,
          0,
          1,
          3,
          0,
          0,
          15,
          1,
          0,
          0,
          0,
          0,
          0,
          0,
          0,
          0,
          0,
          0,
          0,
          0,
          0,
          0,
          0,
          0,
          1,
          0
         ]
        },
        {
         "mode": "lines+markers",
         "type": "scatter",
         "x": [
          "2024-04-08T08:00:00.000000000",
          "2024-04-08T08:15:00.000000000",
          "2024-04-08T08:30:00.000000000",
          "2024-04-08T08:45:00.000000000",
          "2024-04-08T09:00:00.000000000",
          "2024-04-08T09:15:00.000000000",
          "2024-04-08T09:30:00.000000000",
          "2024-04-08T09:45:00.000000000",
          "2024-04-08T10:00:00.000000000",
          "2024-04-08T10:15:00.000000000",
          "2024-04-08T10:30:00.000000000",
          "2024-04-08T10:45:00.000000000",
          "2024-04-08T11:00:00.000000000",
          "2024-04-08T11:15:00.000000000",
          "2024-04-08T11:30:00.000000000",
          "2024-04-08T11:45:00.000000000",
          "2024-04-08T12:00:00.000000000",
          "2024-04-08T12:15:00.000000000",
          "2024-04-08T12:30:00.000000000",
          "2024-04-08T12:45:00.000000000",
          "2024-04-08T13:00:00.000000000",
          "2024-04-08T13:15:00.000000000",
          "2024-04-08T13:30:00.000000000",
          "2024-04-08T13:45:00.000000000",
          "2024-04-08T14:00:00.000000000",
          "2024-04-08T14:15:00.000000000",
          "2024-04-08T14:30:00.000000000",
          "2024-04-08T14:45:00.000000000",
          "2024-04-08T15:00:00.000000000",
          "2024-04-08T15:15:00.000000000",
          "2024-04-08T15:30:00.000000000",
          "2024-04-08T15:45:00.000000000",
          "2024-04-08T16:00:00.000000000",
          "2024-04-08T16:15:00.000000000",
          "2024-04-08T16:30:00.000000000",
          "2024-04-08T16:45:00.000000000",
          "2024-04-08T17:00:00.000000000",
          "2024-04-08T17:15:00.000000000",
          "2024-04-08T17:30:00.000000000",
          "2024-04-08T17:45:00.000000000",
          "2024-04-08T18:00:00.000000000",
          "2024-04-08T18:15:00.000000000",
          "2024-04-08T18:30:00.000000000",
          "2024-04-08T18:45:00.000000000",
          "2024-04-08T19:00:00.000000000",
          "2024-04-08T19:15:00.000000000",
          "2024-04-08T19:30:00.000000000",
          "2024-04-08T19:45:00.000000000",
          "2024-04-08T20:00:00.000000000"
         ],
         "y": [
          3,
          29,
          9,
          5,
          4,
          0,
          0,
          0,
          34,
          9,
          2,
          0,
          1,
          2,
          0,
          20,
          11,
          0,
          0,
          1,
          0,
          1,
          7,
          3,
          0,
          0,
          0,
          0,
          4,
          9,
          8,
          1,
          0,
          0,
          0,
          2,
          0,
          0,
          0,
          0,
          0,
          0,
          0,
          0,
          0,
          0,
          0,
          0,
          0
         ]
        },
        {
         "mode": "lines+markers",
         "type": "scatter",
         "x": [
          "2024-04-08T08:00:00.000000000",
          "2024-04-08T08:15:00.000000000",
          "2024-04-08T08:30:00.000000000",
          "2024-04-08T08:45:00.000000000",
          "2024-04-08T09:00:00.000000000",
          "2024-04-08T09:15:00.000000000",
          "2024-04-08T09:30:00.000000000",
          "2024-04-08T09:45:00.000000000",
          "2024-04-08T10:00:00.000000000",
          "2024-04-08T10:15:00.000000000",
          "2024-04-08T10:30:00.000000000",
          "2024-04-08T10:45:00.000000000",
          "2024-04-08T11:00:00.000000000",
          "2024-04-08T11:15:00.000000000",
          "2024-04-08T11:30:00.000000000",
          "2024-04-08T11:45:00.000000000",
          "2024-04-08T12:00:00.000000000",
          "2024-04-08T12:15:00.000000000",
          "2024-04-08T12:30:00.000000000",
          "2024-04-08T12:45:00.000000000",
          "2024-04-08T13:00:00.000000000",
          "2024-04-08T13:15:00.000000000",
          "2024-04-08T13:30:00.000000000",
          "2024-04-08T13:45:00.000000000",
          "2024-04-08T14:00:00.000000000",
          "2024-04-08T14:15:00.000000000",
          "2024-04-08T14:30:00.000000000",
          "2024-04-08T14:45:00.000000000",
          "2024-04-08T15:00:00.000000000",
          "2024-04-08T15:15:00.000000000",
          "2024-04-08T15:30:00.000000000",
          "2024-04-08T15:45:00.000000000",
          "2024-04-08T16:00:00.000000000",
          "2024-04-08T16:15:00.000000000",
          "2024-04-08T16:30:00.000000000",
          "2024-04-08T16:45:00.000000000",
          "2024-04-08T17:00:00.000000000",
          "2024-04-08T17:15:00.000000000",
          "2024-04-08T17:30:00.000000000",
          "2024-04-08T17:45:00.000000000",
          "2024-04-08T18:00:00.000000000",
          "2024-04-08T18:15:00.000000000",
          "2024-04-08T18:30:00.000000000",
          "2024-04-08T18:45:00.000000000",
          "2024-04-08T19:00:00.000000000",
          "2024-04-08T19:15:00.000000000",
          "2024-04-08T19:30:00.000000000",
          "2024-04-08T19:45:00.000000000",
          "2024-04-08T20:00:00.000000000"
         ],
         "y": [
          5,
          19,
          14,
          9,
          1,
          1,
          0,
          2,
          31,
          7,
          0,
          1,
          0,
          0,
          9,
          15,
          6,
          1,
          0,
          0,
          0,
          0,
          7,
          3,
          0,
          0,
          0,
          0,
          0,
          10,
          8,
          0,
          0,
          0,
          0,
          0,
          0,
          0,
          0,
          0,
          0,
          0,
          0,
          0,
          0,
          0,
          0,
          0,
          0
         ]
        }
       ],
       "layout": {
        "template": {
         "data": {
          "bar": [
           {
            "error_x": {
             "color": "#2a3f5f"
            },
            "error_y": {
             "color": "#2a3f5f"
            },
            "marker": {
             "line": {
              "color": "#E5ECF6",
              "width": 0.5
             },
             "pattern": {
              "fillmode": "overlay",
              "size": 10,
              "solidity": 0.2
             }
            },
            "type": "bar"
           }
          ],
          "barpolar": [
           {
            "marker": {
             "line": {
              "color": "#E5ECF6",
              "width": 0.5
             },
             "pattern": {
              "fillmode": "overlay",
              "size": 10,
              "solidity": 0.2
             }
            },
            "type": "barpolar"
           }
          ],
          "carpet": [
           {
            "aaxis": {
             "endlinecolor": "#2a3f5f",
             "gridcolor": "white",
             "linecolor": "white",
             "minorgridcolor": "white",
             "startlinecolor": "#2a3f5f"
            },
            "baxis": {
             "endlinecolor": "#2a3f5f",
             "gridcolor": "white",
             "linecolor": "white",
             "minorgridcolor": "white",
             "startlinecolor": "#2a3f5f"
            },
            "type": "carpet"
           }
          ],
          "choropleth": [
           {
            "colorbar": {
             "outlinewidth": 0,
             "ticks": ""
            },
            "type": "choropleth"
           }
          ],
          "contour": [
           {
            "colorbar": {
             "outlinewidth": 0,
             "ticks": ""
            },
            "colorscale": [
             [
              0,
              "#0d0887"
             ],
             [
              0.1111111111111111,
              "#46039f"
             ],
             [
              0.2222222222222222,
              "#7201a8"
             ],
             [
              0.3333333333333333,
              "#9c179e"
             ],
             [
              0.4444444444444444,
              "#bd3786"
             ],
             [
              0.5555555555555556,
              "#d8576b"
             ],
             [
              0.6666666666666666,
              "#ed7953"
             ],
             [
              0.7777777777777778,
              "#fb9f3a"
             ],
             [
              0.8888888888888888,
              "#fdca26"
             ],
             [
              1,
              "#f0f921"
             ]
            ],
            "type": "contour"
           }
          ],
          "contourcarpet": [
           {
            "colorbar": {
             "outlinewidth": 0,
             "ticks": ""
            },
            "type": "contourcarpet"
           }
          ],
          "heatmap": [
           {
            "colorbar": {
             "outlinewidth": 0,
             "ticks": ""
            },
            "colorscale": [
             [
              0,
              "#0d0887"
             ],
             [
              0.1111111111111111,
              "#46039f"
             ],
             [
              0.2222222222222222,
              "#7201a8"
             ],
             [
              0.3333333333333333,
              "#9c179e"
             ],
             [
              0.4444444444444444,
              "#bd3786"
             ],
             [
              0.5555555555555556,
              "#d8576b"
             ],
             [
              0.6666666666666666,
              "#ed7953"
             ],
             [
              0.7777777777777778,
              "#fb9f3a"
             ],
             [
              0.8888888888888888,
              "#fdca26"
             ],
             [
              1,
              "#f0f921"
             ]
            ],
            "type": "heatmap"
           }
          ],
          "heatmapgl": [
           {
            "colorbar": {
             "outlinewidth": 0,
             "ticks": ""
            },
            "colorscale": [
             [
              0,
              "#0d0887"
             ],
             [
              0.1111111111111111,
              "#46039f"
             ],
             [
              0.2222222222222222,
              "#7201a8"
             ],
             [
              0.3333333333333333,
              "#9c179e"
             ],
             [
              0.4444444444444444,
              "#bd3786"
             ],
             [
              0.5555555555555556,
              "#d8576b"
             ],
             [
              0.6666666666666666,
              "#ed7953"
             ],
             [
              0.7777777777777778,
              "#fb9f3a"
             ],
             [
              0.8888888888888888,
              "#fdca26"
             ],
             [
              1,
              "#f0f921"
             ]
            ],
            "type": "heatmapgl"
           }
          ],
          "histogram": [
           {
            "marker": {
             "pattern": {
              "fillmode": "overlay",
              "size": 10,
              "solidity": 0.2
             }
            },
            "type": "histogram"
           }
          ],
          "histogram2d": [
           {
            "colorbar": {
             "outlinewidth": 0,
             "ticks": ""
            },
            "colorscale": [
             [
              0,
              "#0d0887"
             ],
             [
              0.1111111111111111,
              "#46039f"
             ],
             [
              0.2222222222222222,
              "#7201a8"
             ],
             [
              0.3333333333333333,
              "#9c179e"
             ],
             [
              0.4444444444444444,
              "#bd3786"
             ],
             [
              0.5555555555555556,
              "#d8576b"
             ],
             [
              0.6666666666666666,
              "#ed7953"
             ],
             [
              0.7777777777777778,
              "#fb9f3a"
             ],
             [
              0.8888888888888888,
              "#fdca26"
             ],
             [
              1,
              "#f0f921"
             ]
            ],
            "type": "histogram2d"
           }
          ],
          "histogram2dcontour": [
           {
            "colorbar": {
             "outlinewidth": 0,
             "ticks": ""
            },
            "colorscale": [
             [
              0,
              "#0d0887"
             ],
             [
              0.1111111111111111,
              "#46039f"
             ],
             [
              0.2222222222222222,
              "#7201a8"
             ],
             [
              0.3333333333333333,
              "#9c179e"
             ],
             [
              0.4444444444444444,
              "#bd3786"
             ],
             [
              0.5555555555555556,
              "#d8576b"
             ],
             [
              0.6666666666666666,
              "#ed7953"
             ],
             [
              0.7777777777777778,
              "#fb9f3a"
             ],
             [
              0.8888888888888888,
              "#fdca26"
             ],
             [
              1,
              "#f0f921"
             ]
            ],
            "type": "histogram2dcontour"
           }
          ],
          "mesh3d": [
           {
            "colorbar": {
             "outlinewidth": 0,
             "ticks": ""
            },
            "type": "mesh3d"
           }
          ],
          "parcoords": [
           {
            "line": {
             "colorbar": {
              "outlinewidth": 0,
              "ticks": ""
             }
            },
            "type": "parcoords"
           }
          ],
          "pie": [
           {
            "automargin": true,
            "type": "pie"
           }
          ],
          "scatter": [
           {
            "fillpattern": {
             "fillmode": "overlay",
             "size": 10,
             "solidity": 0.2
            },
            "type": "scatter"
           }
          ],
          "scatter3d": [
           {
            "line": {
             "colorbar": {
              "outlinewidth": 0,
              "ticks": ""
             }
            },
            "marker": {
             "colorbar": {
              "outlinewidth": 0,
              "ticks": ""
             }
            },
            "type": "scatter3d"
           }
          ],
          "scattercarpet": [
           {
            "marker": {
             "colorbar": {
              "outlinewidth": 0,
              "ticks": ""
             }
            },
            "type": "scattercarpet"
           }
          ],
          "scattergeo": [
           {
            "marker": {
             "colorbar": {
              "outlinewidth": 0,
              "ticks": ""
             }
            },
            "type": "scattergeo"
           }
          ],
          "scattergl": [
           {
            "marker": {
             "colorbar": {
              "outlinewidth": 0,
              "ticks": ""
             }
            },
            "type": "scattergl"
           }
          ],
          "scattermapbox": [
           {
            "marker": {
             "colorbar": {
              "outlinewidth": 0,
              "ticks": ""
             }
            },
            "type": "scattermapbox"
           }
          ],
          "scatterpolar": [
           {
            "marker": {
             "colorbar": {
              "outlinewidth": 0,
              "ticks": ""
             }
            },
            "type": "scatterpolar"
           }
          ],
          "scatterpolargl": [
           {
            "marker": {
             "colorbar": {
              "outlinewidth": 0,
              "ticks": ""
             }
            },
            "type": "scatterpolargl"
           }
          ],
          "scatterternary": [
           {
            "marker": {
             "colorbar": {
              "outlinewidth": 0,
              "ticks": ""
             }
            },
            "type": "scatterternary"
           }
          ],
          "surface": [
           {
            "colorbar": {
             "outlinewidth": 0,
             "ticks": ""
            },
            "colorscale": [
             [
              0,
              "#0d0887"
             ],
             [
              0.1111111111111111,
              "#46039f"
             ],
             [
              0.2222222222222222,
              "#7201a8"
             ],
             [
              0.3333333333333333,
              "#9c179e"
             ],
             [
              0.4444444444444444,
              "#bd3786"
             ],
             [
              0.5555555555555556,
              "#d8576b"
             ],
             [
              0.6666666666666666,
              "#ed7953"
             ],
             [
              0.7777777777777778,
              "#fb9f3a"
             ],
             [
              0.8888888888888888,
              "#fdca26"
             ],
             [
              1,
              "#f0f921"
             ]
            ],
            "type": "surface"
           }
          ],
          "table": [
           {
            "cells": {
             "fill": {
              "color": "#EBF0F8"
             },
             "line": {
              "color": "white"
             }
            },
            "header": {
             "fill": {
              "color": "#C8D4E3"
             },
             "line": {
              "color": "white"
             }
            },
            "type": "table"
           }
          ]
         },
         "layout": {
          "annotationdefaults": {
           "arrowcolor": "#2a3f5f",
           "arrowhead": 0,
           "arrowwidth": 1
          },
          "autotypenumbers": "strict",
          "coloraxis": {
           "colorbar": {
            "outlinewidth": 0,
            "ticks": ""
           }
          },
          "colorscale": {
           "diverging": [
            [
             0,
             "#8e0152"
            ],
            [
             0.1,
             "#c51b7d"
            ],
            [
             0.2,
             "#de77ae"
            ],
            [
             0.3,
             "#f1b6da"
            ],
            [
             0.4,
             "#fde0ef"
            ],
            [
             0.5,
             "#f7f7f7"
            ],
            [
             0.6,
             "#e6f5d0"
            ],
            [
             0.7,
             "#b8e186"
            ],
            [
             0.8,
             "#7fbc41"
            ],
            [
             0.9,
             "#4d9221"
            ],
            [
             1,
             "#276419"
            ]
           ],
           "sequential": [
            [
             0,
             "#0d0887"
            ],
            [
             0.1111111111111111,
             "#46039f"
            ],
            [
             0.2222222222222222,
             "#7201a8"
            ],
            [
             0.3333333333333333,
             "#9c179e"
            ],
            [
             0.4444444444444444,
             "#bd3786"
            ],
            [
             0.5555555555555556,
             "#d8576b"
            ],
            [
             0.6666666666666666,
             "#ed7953"
            ],
            [
             0.7777777777777778,
             "#fb9f3a"
            ],
            [
             0.8888888888888888,
             "#fdca26"
            ],
            [
             1,
             "#f0f921"
            ]
           ],
           "sequentialminus": [
            [
             0,
             "#0d0887"
            ],
            [
             0.1111111111111111,
             "#46039f"
            ],
            [
             0.2222222222222222,
             "#7201a8"
            ],
            [
             0.3333333333333333,
             "#9c179e"
            ],
            [
             0.4444444444444444,
             "#bd3786"
            ],
            [
             0.5555555555555556,
             "#d8576b"
            ],
            [
             0.6666666666666666,
             "#ed7953"
            ],
            [
             0.7777777777777778,
             "#fb9f3a"
            ],
            [
             0.8888888888888888,
             "#fdca26"
            ],
            [
             1,
             "#f0f921"
            ]
           ]
          },
          "colorway": [
           "#636efa",
           "#EF553B",
           "#00cc96",
           "#ab63fa",
           "#FFA15A",
           "#19d3f3",
           "#FF6692",
           "#B6E880",
           "#FF97FF",
           "#FECB52"
          ],
          "font": {
           "color": "#2a3f5f"
          },
          "geo": {
           "bgcolor": "white",
           "lakecolor": "white",
           "landcolor": "#E5ECF6",
           "showlakes": true,
           "showland": true,
           "subunitcolor": "white"
          },
          "hoverlabel": {
           "align": "left"
          },
          "hovermode": "closest",
          "mapbox": {
           "style": "light"
          },
          "paper_bgcolor": "white",
          "plot_bgcolor": "#E5ECF6",
          "polar": {
           "angularaxis": {
            "gridcolor": "white",
            "linecolor": "white",
            "ticks": ""
           },
           "bgcolor": "#E5ECF6",
           "radialaxis": {
            "gridcolor": "white",
            "linecolor": "white",
            "ticks": ""
           }
          },
          "scene": {
           "xaxis": {
            "backgroundcolor": "#E5ECF6",
            "gridcolor": "white",
            "gridwidth": 2,
            "linecolor": "white",
            "showbackground": true,
            "ticks": "",
            "zerolinecolor": "white"
           },
           "yaxis": {
            "backgroundcolor": "#E5ECF6",
            "gridcolor": "white",
            "gridwidth": 2,
            "linecolor": "white",
            "showbackground": true,
            "ticks": "",
            "zerolinecolor": "white"
           },
           "zaxis": {
            "backgroundcolor": "#E5ECF6",
            "gridcolor": "white",
            "gridwidth": 2,
            "linecolor": "white",
            "showbackground": true,
            "ticks": "",
            "zerolinecolor": "white"
           }
          },
          "shapedefaults": {
           "line": {
            "color": "#2a3f5f"
           }
          },
          "ternary": {
           "aaxis": {
            "gridcolor": "white",
            "linecolor": "white",
            "ticks": ""
           },
           "baxis": {
            "gridcolor": "white",
            "linecolor": "white",
            "ticks": ""
           },
           "bgcolor": "#E5ECF6",
           "caxis": {
            "gridcolor": "white",
            "linecolor": "white",
            "ticks": ""
           }
          },
          "title": {
           "x": 0.05
          },
          "xaxis": {
           "automargin": true,
           "gridcolor": "white",
           "linecolor": "white",
           "ticks": "",
           "title": {
            "standoff": 15
           },
           "zerolinecolor": "white",
           "zerolinewidth": 2
          },
          "yaxis": {
           "automargin": true,
           "gridcolor": "white",
           "linecolor": "white",
           "ticks": "",
           "title": {
            "standoff": 15
           },
           "zerolinecolor": "white",
           "zerolinewidth": 2
          }
         }
        }
       }
      }
     },
     "metadata": {},
     "output_type": "display_data"
    }
   ],
   "source": [
    "for i in range(n_clusters):  \n",
    "    plot_cluster_details(i, clustering_model, samples, times[0], plot_centers=False).show()"
   ]
  },
  {
   "cell_type": "code",
   "execution_count": 20,
   "metadata": {},
   "outputs": [
    {
     "name": "stdout",
     "output_type": "stream",
     "text": [
      "################ 0 ################\n",
      "[ 6 12 13 19 20 23 25 26 27 31 32 33 34 40 41 42 43 46 47 48 52 53 54 55\n",
      " 60 61 62 67 68 69 74 75 76]\n",
      "[datetime.date(2024, 4, 14) datetime.date(2024, 4, 20)\n",
      " datetime.date(2024, 4, 21) datetime.date(2024, 4, 27)\n",
      " datetime.date(2024, 4, 28) datetime.date(2024, 5, 1)\n",
      " datetime.date(2024, 5, 3) datetime.date(2024, 5, 4)\n",
      " datetime.date(2024, 5, 5) datetime.date(2024, 5, 9)\n",
      " datetime.date(2024, 5, 10) datetime.date(2024, 5, 11)\n",
      " datetime.date(2024, 5, 12) datetime.date(2024, 5, 18)\n",
      " datetime.date(2024, 5, 19) datetime.date(2024, 5, 20)\n",
      " datetime.date(2024, 5, 21) datetime.date(2024, 5, 24)\n",
      " datetime.date(2024, 5, 25) datetime.date(2024, 5, 26)\n",
      " datetime.date(2024, 5, 30) datetime.date(2024, 5, 31)\n",
      " datetime.date(2024, 6, 1) datetime.date(2024, 6, 2)\n",
      " datetime.date(2024, 6, 7) datetime.date(2024, 6, 8)\n",
      " datetime.date(2024, 6, 9) datetime.date(2024, 6, 14)\n",
      " datetime.date(2024, 6, 15) datetime.date(2024, 6, 16)\n",
      " datetime.date(2024, 6, 21) datetime.date(2024, 6, 22)\n",
      " datetime.date(2024, 6, 23)]\n",
      "\n",
      "################ 1 ################\n",
      "[22 28 50 64 77 79]\n",
      "[datetime.date(2024, 4, 30) datetime.date(2024, 5, 6)\n",
      " datetime.date(2024, 5, 28) datetime.date(2024, 6, 11)\n",
      " datetime.date(2024, 6, 24) datetime.date(2024, 6, 26)]\n",
      "\n",
      "################ 2 ################\n",
      "[ 0  7 14 21 35 49 56 63 70]\n",
      "[datetime.date(2024, 4, 8) datetime.date(2024, 4, 15)\n",
      " datetime.date(2024, 4, 22) datetime.date(2024, 4, 29)\n",
      " datetime.date(2024, 5, 13) datetime.date(2024, 5, 27)\n",
      " datetime.date(2024, 6, 3) datetime.date(2024, 6, 10)\n",
      " datetime.date(2024, 6, 17)]\n",
      "\n",
      "################ 3 ################\n",
      "[ 1  2  5  8  9 10 15 16 17 18 24 30 36 37 38 44 45 51 57 58 59 65 66 71\n",
      " 72 73]\n",
      "[datetime.date(2024, 4, 9) datetime.date(2024, 4, 10)\n",
      " datetime.date(2024, 4, 13) datetime.date(2024, 4, 16)\n",
      " datetime.date(2024, 4, 17) datetime.date(2024, 4, 18)\n",
      " datetime.date(2024, 4, 23) datetime.date(2024, 4, 24)\n",
      " datetime.date(2024, 4, 25) datetime.date(2024, 4, 26)\n",
      " datetime.date(2024, 5, 2) datetime.date(2024, 5, 8)\n",
      " datetime.date(2024, 5, 14) datetime.date(2024, 5, 15)\n",
      " datetime.date(2024, 5, 16) datetime.date(2024, 5, 22)\n",
      " datetime.date(2024, 5, 23) datetime.date(2024, 5, 29)\n",
      " datetime.date(2024, 6, 4) datetime.date(2024, 6, 5)\n",
      " datetime.date(2024, 6, 6) datetime.date(2024, 6, 12)\n",
      " datetime.date(2024, 6, 13) datetime.date(2024, 6, 18)\n",
      " datetime.date(2024, 6, 19) datetime.date(2024, 6, 20)]\n",
      "\n",
      "################ 4 ################\n",
      "[78]\n",
      "[datetime.date(2024, 6, 25)]\n",
      "\n",
      "################ 5 ################\n",
      "[ 3 80]\n",
      "[datetime.date(2024, 4, 11) datetime.date(2024, 6, 27)]\n",
      "\n",
      "################ 6 ################\n",
      "[ 4 11 29 39 81]\n",
      "[datetime.date(2024, 4, 12) datetime.date(2024, 4, 19)\n",
      " datetime.date(2024, 5, 7) datetime.date(2024, 5, 17)\n",
      " datetime.date(2024, 6, 28)]\n",
      "\n"
     ]
    },
    {
     "data": {
      "application/vnd.plotly.v1+json": {
       "config": {
        "plotlyServerURL": "https://plot.ly"
       },
       "data": [
        {
         "mode": "lines+markers",
         "name": "cluster 0",
         "type": "scatter",
         "x": [
          "2024-04-08T00:00:00.000000000",
          "2024-04-08T00:15:00.000000000",
          "2024-04-08T00:30:00.000000000",
          "2024-04-08T00:45:00.000000000",
          "2024-04-08T01:00:00.000000000",
          "2024-04-08T01:15:00.000000000",
          "2024-04-08T01:30:00.000000000",
          "2024-04-08T01:45:00.000000000",
          "2024-04-08T02:00:00.000000000",
          "2024-04-08T02:15:00.000000000",
          "2024-04-08T02:30:00.000000000",
          "2024-04-08T02:45:00.000000000",
          "2024-04-08T03:00:00.000000000",
          "2024-04-08T03:15:00.000000000",
          "2024-04-08T03:30:00.000000000",
          "2024-04-08T03:45:00.000000000",
          "2024-04-08T04:00:00.000000000",
          "2024-04-08T04:15:00.000000000",
          "2024-04-08T04:30:00.000000000",
          "2024-04-08T04:45:00.000000000",
          "2024-04-08T05:00:00.000000000",
          "2024-04-08T05:15:00.000000000",
          "2024-04-08T05:30:00.000000000",
          "2024-04-08T05:45:00.000000000",
          "2024-04-08T06:00:00.000000000",
          "2024-04-08T06:15:00.000000000",
          "2024-04-08T06:30:00.000000000",
          "2024-04-08T06:45:00.000000000",
          "2024-04-08T07:00:00.000000000",
          "2024-04-08T07:15:00.000000000",
          "2024-04-08T07:30:00.000000000",
          "2024-04-08T07:45:00.000000000",
          "2024-04-08T08:00:00.000000000",
          "2024-04-08T08:15:00.000000000",
          "2024-04-08T08:30:00.000000000",
          "2024-04-08T08:45:00.000000000",
          "2024-04-08T09:00:00.000000000",
          "2024-04-08T09:15:00.000000000",
          "2024-04-08T09:30:00.000000000",
          "2024-04-08T09:45:00.000000000",
          "2024-04-08T10:00:00.000000000",
          "2024-04-08T10:15:00.000000000",
          "2024-04-08T10:30:00.000000000",
          "2024-04-08T10:45:00.000000000",
          "2024-04-08T11:00:00.000000000",
          "2024-04-08T11:15:00.000000000",
          "2024-04-08T11:30:00.000000000",
          "2024-04-08T11:45:00.000000000",
          "2024-04-08T12:00:00.000000000",
          "2024-04-08T12:15:00.000000000",
          "2024-04-08T12:30:00.000000000",
          "2024-04-08T12:45:00.000000000",
          "2024-04-08T13:00:00.000000000",
          "2024-04-08T13:15:00.000000000",
          "2024-04-08T13:30:00.000000000",
          "2024-04-08T13:45:00.000000000",
          "2024-04-08T14:00:00.000000000",
          "2024-04-08T14:15:00.000000000",
          "2024-04-08T14:30:00.000000000",
          "2024-04-08T14:45:00.000000000",
          "2024-04-08T15:00:00.000000000",
          "2024-04-08T15:15:00.000000000",
          "2024-04-08T15:30:00.000000000",
          "2024-04-08T15:45:00.000000000",
          "2024-04-08T16:00:00.000000000",
          "2024-04-08T16:15:00.000000000",
          "2024-04-08T16:30:00.000000000",
          "2024-04-08T16:45:00.000000000",
          "2024-04-08T17:00:00.000000000",
          "2024-04-08T17:15:00.000000000",
          "2024-04-08T17:30:00.000000000",
          "2024-04-08T17:45:00.000000000",
          "2024-04-08T18:00:00.000000000",
          "2024-04-08T18:15:00.000000000",
          "2024-04-08T18:30:00.000000000",
          "2024-04-08T18:45:00.000000000",
          "2024-04-08T19:00:00.000000000",
          "2024-04-08T19:15:00.000000000",
          "2024-04-08T19:30:00.000000000",
          "2024-04-08T19:45:00.000000000",
          "2024-04-08T20:00:00.000000000",
          "2024-04-08T20:15:00.000000000",
          "2024-04-08T20:30:00.000000000",
          "2024-04-08T20:45:00.000000000",
          "2024-04-08T21:00:00.000000000",
          "2024-04-08T21:15:00.000000000",
          "2024-04-08T21:30:00.000000000",
          "2024-04-08T21:45:00.000000000",
          "2024-04-08T22:00:00.000000000",
          "2024-04-08T22:15:00.000000000",
          "2024-04-08T22:30:00.000000000",
          "2024-04-08T22:45:00.000000000",
          "2024-04-08T23:00:00.000000000",
          "2024-04-08T23:15:00.000000000",
          "2024-04-08T23:30:00.000000000",
          "2024-04-08T23:45:00.000000000"
         ],
         "y": [
          0,
          0,
          0,
          0,
          0,
          0,
          0,
          0,
          0,
          0,
          0,
          0,
          0,
          0,
          0,
          0,
          0,
          0,
          0,
          0,
          0,
          0,
          0,
          -2.7755575615628914e-17,
          0.7272727272727262,
          0.48484848484848503,
          0.2121212121212122,
          0.03030303030303047,
          0.03030303030303029,
          5.551115123125783e-17,
          -1.1102230246251565e-16,
          0.09090909090909094,
          0.06060606060606055,
          0.30303030303030365,
          0.18181818181818166,
          0.030303030303030387,
          -1.6653345369377348e-16,
          0.12121212121212122,
          0.18181818181818168,
          0.21212121212121243,
          0.7575757575757613,
          0.15151515151515182,
          0,
          -1.6653345369377348e-16,
          -1.1102230246251565e-16,
          0.12121212121212133,
          0.2727272727272734,
          0.1818181818181781,
          0.030303030303029388,
          2.220446049250313e-16,
          0.06060606060606061,
          0.06060606060606047,
          0.03030303030303072,
          0.06060606060606011,
          0.06060606060606233,
          0.030303030303031164,
          -1.6653345369377348e-16,
          0.030303030303029943,
          0.1212121212121211,
          0.12121212121212122,
          -6.661338147750939e-16,
          0.03030303030302761,
          0,
          -5.551115123125783e-17,
          0.5757575757575761,
          0.06060606060606061,
          0.09090909090909083,
          0.36363636363636376,
          0.4848484848484844,
          0.09090909090909083,
          0.03030303030303025,
          0.030303030303030283,
          5.551115123125783e-17,
          5.551115123125783e-17,
          -1.1102230246251565e-16,
          0.030303030303030498,
          0.030303030303030262,
          0.18181818181818182,
          -2.7755575615628914e-17,
          0.06060606060606061,
          -2.7755575615628914e-17,
          -1.0408340855860843e-17,
          0,
          -1.0408340855860843e-17,
          0,
          0,
          0.030303030303030297,
          0,
          -1.3877787807814457e-17,
          0,
          0,
          0,
          0,
          -5.204170427930421e-18,
          0,
          0
         ]
        },
        {
         "mode": "lines+markers",
         "name": "cluster 1",
         "type": "scatter",
         "x": [
          "2024-04-08T00:00:00.000000000",
          "2024-04-08T00:15:00.000000000",
          "2024-04-08T00:30:00.000000000",
          "2024-04-08T00:45:00.000000000",
          "2024-04-08T01:00:00.000000000",
          "2024-04-08T01:15:00.000000000",
          "2024-04-08T01:30:00.000000000",
          "2024-04-08T01:45:00.000000000",
          "2024-04-08T02:00:00.000000000",
          "2024-04-08T02:15:00.000000000",
          "2024-04-08T02:30:00.000000000",
          "2024-04-08T02:45:00.000000000",
          "2024-04-08T03:00:00.000000000",
          "2024-04-08T03:15:00.000000000",
          "2024-04-08T03:30:00.000000000",
          "2024-04-08T03:45:00.000000000",
          "2024-04-08T04:00:00.000000000",
          "2024-04-08T04:15:00.000000000",
          "2024-04-08T04:30:00.000000000",
          "2024-04-08T04:45:00.000000000",
          "2024-04-08T05:00:00.000000000",
          "2024-04-08T05:15:00.000000000",
          "2024-04-08T05:30:00.000000000",
          "2024-04-08T05:45:00.000000000",
          "2024-04-08T06:00:00.000000000",
          "2024-04-08T06:15:00.000000000",
          "2024-04-08T06:30:00.000000000",
          "2024-04-08T06:45:00.000000000",
          "2024-04-08T07:00:00.000000000",
          "2024-04-08T07:15:00.000000000",
          "2024-04-08T07:30:00.000000000",
          "2024-04-08T07:45:00.000000000",
          "2024-04-08T08:00:00.000000000",
          "2024-04-08T08:15:00.000000000",
          "2024-04-08T08:30:00.000000000",
          "2024-04-08T08:45:00.000000000",
          "2024-04-08T09:00:00.000000000",
          "2024-04-08T09:15:00.000000000",
          "2024-04-08T09:30:00.000000000",
          "2024-04-08T09:45:00.000000000",
          "2024-04-08T10:00:00.000000000",
          "2024-04-08T10:15:00.000000000",
          "2024-04-08T10:30:00.000000000",
          "2024-04-08T10:45:00.000000000",
          "2024-04-08T11:00:00.000000000",
          "2024-04-08T11:15:00.000000000",
          "2024-04-08T11:30:00.000000000",
          "2024-04-08T11:45:00.000000000",
          "2024-04-08T12:00:00.000000000",
          "2024-04-08T12:15:00.000000000",
          "2024-04-08T12:30:00.000000000",
          "2024-04-08T12:45:00.000000000",
          "2024-04-08T13:00:00.000000000",
          "2024-04-08T13:15:00.000000000",
          "2024-04-08T13:30:00.000000000",
          "2024-04-08T13:45:00.000000000",
          "2024-04-08T14:00:00.000000000",
          "2024-04-08T14:15:00.000000000",
          "2024-04-08T14:30:00.000000000",
          "2024-04-08T14:45:00.000000000",
          "2024-04-08T15:00:00.000000000",
          "2024-04-08T15:15:00.000000000",
          "2024-04-08T15:30:00.000000000",
          "2024-04-08T15:45:00.000000000",
          "2024-04-08T16:00:00.000000000",
          "2024-04-08T16:15:00.000000000",
          "2024-04-08T16:30:00.000000000",
          "2024-04-08T16:45:00.000000000",
          "2024-04-08T17:00:00.000000000",
          "2024-04-08T17:15:00.000000000",
          "2024-04-08T17:30:00.000000000",
          "2024-04-08T17:45:00.000000000",
          "2024-04-08T18:00:00.000000000",
          "2024-04-08T18:15:00.000000000",
          "2024-04-08T18:30:00.000000000",
          "2024-04-08T18:45:00.000000000",
          "2024-04-08T19:00:00.000000000",
          "2024-04-08T19:15:00.000000000",
          "2024-04-08T19:30:00.000000000",
          "2024-04-08T19:45:00.000000000",
          "2024-04-08T20:00:00.000000000",
          "2024-04-08T20:15:00.000000000",
          "2024-04-08T20:30:00.000000000",
          "2024-04-08T20:45:00.000000000",
          "2024-04-08T21:00:00.000000000",
          "2024-04-08T21:15:00.000000000",
          "2024-04-08T21:30:00.000000000",
          "2024-04-08T21:45:00.000000000",
          "2024-04-08T22:00:00.000000000",
          "2024-04-08T22:15:00.000000000",
          "2024-04-08T22:30:00.000000000",
          "2024-04-08T22:45:00.000000000",
          "2024-04-08T23:00:00.000000000",
          "2024-04-08T23:15:00.000000000",
          "2024-04-08T23:30:00.000000000",
          "2024-04-08T23:45:00.000000000"
         ],
         "y": [
          0,
          0,
          0,
          0,
          0,
          0,
          0,
          0,
          0,
          0,
          0,
          0,
          0,
          0,
          0,
          0,
          0,
          0,
          0,
          0,
          0,
          0,
          0,
          1.3877787807814457e-17,
          3.1666666666666665,
          0.33333333333333337,
          0.16666666666666663,
          0.16666666666666669,
          3.469446951953614e-18,
          2.7755575615628914e-17,
          0.49999999999999994,
          1,
          3,
          13.166666666666668,
          5.5,
          1.1666666666666667,
          0.5,
          0.3333333333333333,
          0.9999999999999999,
          0.8333333333333333,
          8.166666666666668,
          1.3333333333333335,
          0.8333333333333334,
          0.9999999999999998,
          0.3333333333333333,
          0.8333333333333334,
          0,
          0,
          0.5000000000000002,
          0.8333333333333333,
          0.16666666666666669,
          1.8333333333333337,
          3.333333333333334,
          17,
          24.000000000000004,
          2.6666666666666665,
          0,
          1.5,
          0.33333333333333337,
          5.551115123125783e-17,
          3,
          9,
          2.833333333333333,
          2.7755575615628914e-17,
          1,
          0.3333333333333333,
          0.5,
          0,
          2,
          0.8333333333333334,
          2.7755575615628914e-17,
          1.3877787807814457e-17,
          0.16666666666666669,
          2.7755575615628914e-17,
          0,
          0.5,
          1.3877787807814457e-17,
          0,
          0.33333333333333326,
          2.7755575615628914e-17,
          0.16666666666666669,
          3.469446951953614e-18,
          0,
          0.3333333333333333,
          0,
          0,
          1.734723475976807e-18,
          0,
          0,
          0,
          0,
          0,
          0,
          1.734723475976807e-18,
          0,
          0
         ]
        },
        {
         "mode": "lines+markers",
         "name": "cluster 2",
         "type": "scatter",
         "x": [
          "2024-04-08T00:00:00.000000000",
          "2024-04-08T00:15:00.000000000",
          "2024-04-08T00:30:00.000000000",
          "2024-04-08T00:45:00.000000000",
          "2024-04-08T01:00:00.000000000",
          "2024-04-08T01:15:00.000000000",
          "2024-04-08T01:30:00.000000000",
          "2024-04-08T01:45:00.000000000",
          "2024-04-08T02:00:00.000000000",
          "2024-04-08T02:15:00.000000000",
          "2024-04-08T02:30:00.000000000",
          "2024-04-08T02:45:00.000000000",
          "2024-04-08T03:00:00.000000000",
          "2024-04-08T03:15:00.000000000",
          "2024-04-08T03:30:00.000000000",
          "2024-04-08T03:45:00.000000000",
          "2024-04-08T04:00:00.000000000",
          "2024-04-08T04:15:00.000000000",
          "2024-04-08T04:30:00.000000000",
          "2024-04-08T04:45:00.000000000",
          "2024-04-08T05:00:00.000000000",
          "2024-04-08T05:15:00.000000000",
          "2024-04-08T05:30:00.000000000",
          "2024-04-08T05:45:00.000000000",
          "2024-04-08T06:00:00.000000000",
          "2024-04-08T06:15:00.000000000",
          "2024-04-08T06:30:00.000000000",
          "2024-04-08T06:45:00.000000000",
          "2024-04-08T07:00:00.000000000",
          "2024-04-08T07:15:00.000000000",
          "2024-04-08T07:30:00.000000000",
          "2024-04-08T07:45:00.000000000",
          "2024-04-08T08:00:00.000000000",
          "2024-04-08T08:15:00.000000000",
          "2024-04-08T08:30:00.000000000",
          "2024-04-08T08:45:00.000000000",
          "2024-04-08T09:00:00.000000000",
          "2024-04-08T09:15:00.000000000",
          "2024-04-08T09:30:00.000000000",
          "2024-04-08T09:45:00.000000000",
          "2024-04-08T10:00:00.000000000",
          "2024-04-08T10:15:00.000000000",
          "2024-04-08T10:30:00.000000000",
          "2024-04-08T10:45:00.000000000",
          "2024-04-08T11:00:00.000000000",
          "2024-04-08T11:15:00.000000000",
          "2024-04-08T11:30:00.000000000",
          "2024-04-08T11:45:00.000000000",
          "2024-04-08T12:00:00.000000000",
          "2024-04-08T12:15:00.000000000",
          "2024-04-08T12:30:00.000000000",
          "2024-04-08T12:45:00.000000000",
          "2024-04-08T13:00:00.000000000",
          "2024-04-08T13:15:00.000000000",
          "2024-04-08T13:30:00.000000000",
          "2024-04-08T13:45:00.000000000",
          "2024-04-08T14:00:00.000000000",
          "2024-04-08T14:15:00.000000000",
          "2024-04-08T14:30:00.000000000",
          "2024-04-08T14:45:00.000000000",
          "2024-04-08T15:00:00.000000000",
          "2024-04-08T15:15:00.000000000",
          "2024-04-08T15:30:00.000000000",
          "2024-04-08T15:45:00.000000000",
          "2024-04-08T16:00:00.000000000",
          "2024-04-08T16:15:00.000000000",
          "2024-04-08T16:30:00.000000000",
          "2024-04-08T16:45:00.000000000",
          "2024-04-08T17:00:00.000000000",
          "2024-04-08T17:15:00.000000000",
          "2024-04-08T17:30:00.000000000",
          "2024-04-08T17:45:00.000000000",
          "2024-04-08T18:00:00.000000000",
          "2024-04-08T18:15:00.000000000",
          "2024-04-08T18:30:00.000000000",
          "2024-04-08T18:45:00.000000000",
          "2024-04-08T19:00:00.000000000",
          "2024-04-08T19:15:00.000000000",
          "2024-04-08T19:30:00.000000000",
          "2024-04-08T19:45:00.000000000",
          "2024-04-08T20:00:00.000000000",
          "2024-04-08T20:15:00.000000000",
          "2024-04-08T20:30:00.000000000",
          "2024-04-08T20:45:00.000000000",
          "2024-04-08T21:00:00.000000000",
          "2024-04-08T21:15:00.000000000",
          "2024-04-08T21:30:00.000000000",
          "2024-04-08T21:45:00.000000000",
          "2024-04-08T22:00:00.000000000",
          "2024-04-08T22:15:00.000000000",
          "2024-04-08T22:30:00.000000000",
          "2024-04-08T22:45:00.000000000",
          "2024-04-08T23:00:00.000000000",
          "2024-04-08T23:15:00.000000000",
          "2024-04-08T23:30:00.000000000",
          "2024-04-08T23:45:00.000000000"
         ],
         "y": [
          0,
          0,
          0,
          0,
          0,
          0,
          0,
          0,
          0,
          0,
          0,
          0,
          0,
          0,
          0,
          0,
          0,
          0,
          0,
          0,
          0,
          0,
          0,
          2.7755575615628914e-17,
          3,
          -1.1102230246251565e-16,
          0.44444444444444453,
          0.777777777777778,
          6.938893903907228e-18,
          0.22222222222222227,
          0.44444444444444453,
          5.551115123125783e-17,
          0,
          8.881784197001252e-16,
          0.11111111111111116,
          2.220446049250313e-16,
          0.11111111111111116,
          0.11111111111111116,
          1.1102230246251565e-16,
          0.11111111111111116,
          0,
          4.440892098500626e-16,
          5.551115123125783e-17,
          0,
          1.1102230246251565e-16,
          1.1102230246251565e-16,
          3.444444444444444,
          34.66666666666666,
          11.000000000000002,
          2.333333333333333,
          0.9999999999999998,
          0.2222222222222222,
          1.1111111111111112,
          1.3333333333333335,
          15.333333333333334,
          4.444444444444445,
          0,
          -1.1102230246251565e-16,
          0.4444444444444445,
          0.5555555555555556,
          2.444444444444444,
          18.666666666666664,
          4.222222222222222,
          0.2222222222222222,
          0.5555555555555556,
          0.5555555555555556,
          0.3333333333333333,
          0.888888888888889,
          5.777777777777778,
          0.5555555555555555,
          5.551115123125783e-17,
          2.7755575615628914e-17,
          0.5555555555555556,
          0.11111111111111115,
          0,
          1.1111111111111112,
          0.11111111111111112,
          1.3877787807814457e-17,
          0.1111111111111111,
          0.11111111111111112,
          0.22222222222222227,
          6.938893903907228e-18,
          0,
          6.938893903907228e-18,
          0,
          0,
          3.469446951953614e-18,
          0,
          6.938893903907228e-18,
          0,
          0,
          0,
          0,
          0.1111111111111111,
          0,
          0
         ]
        },
        {
         "mode": "lines+markers",
         "name": "cluster 3",
         "type": "scatter",
         "x": [
          "2024-04-08T00:00:00.000000000",
          "2024-04-08T00:15:00.000000000",
          "2024-04-08T00:30:00.000000000",
          "2024-04-08T00:45:00.000000000",
          "2024-04-08T01:00:00.000000000",
          "2024-04-08T01:15:00.000000000",
          "2024-04-08T01:30:00.000000000",
          "2024-04-08T01:45:00.000000000",
          "2024-04-08T02:00:00.000000000",
          "2024-04-08T02:15:00.000000000",
          "2024-04-08T02:30:00.000000000",
          "2024-04-08T02:45:00.000000000",
          "2024-04-08T03:00:00.000000000",
          "2024-04-08T03:15:00.000000000",
          "2024-04-08T03:30:00.000000000",
          "2024-04-08T03:45:00.000000000",
          "2024-04-08T04:00:00.000000000",
          "2024-04-08T04:15:00.000000000",
          "2024-04-08T04:30:00.000000000",
          "2024-04-08T04:45:00.000000000",
          "2024-04-08T05:00:00.000000000",
          "2024-04-08T05:15:00.000000000",
          "2024-04-08T05:30:00.000000000",
          "2024-04-08T05:45:00.000000000",
          "2024-04-08T06:00:00.000000000",
          "2024-04-08T06:15:00.000000000",
          "2024-04-08T06:30:00.000000000",
          "2024-04-08T06:45:00.000000000",
          "2024-04-08T07:00:00.000000000",
          "2024-04-08T07:15:00.000000000",
          "2024-04-08T07:30:00.000000000",
          "2024-04-08T07:45:00.000000000",
          "2024-04-08T08:00:00.000000000",
          "2024-04-08T08:15:00.000000000",
          "2024-04-08T08:30:00.000000000",
          "2024-04-08T08:45:00.000000000",
          "2024-04-08T09:00:00.000000000",
          "2024-04-08T09:15:00.000000000",
          "2024-04-08T09:30:00.000000000",
          "2024-04-08T09:45:00.000000000",
          "2024-04-08T10:00:00.000000000",
          "2024-04-08T10:15:00.000000000",
          "2024-04-08T10:30:00.000000000",
          "2024-04-08T10:45:00.000000000",
          "2024-04-08T11:00:00.000000000",
          "2024-04-08T11:15:00.000000000",
          "2024-04-08T11:30:00.000000000",
          "2024-04-08T11:45:00.000000000",
          "2024-04-08T12:00:00.000000000",
          "2024-04-08T12:15:00.000000000",
          "2024-04-08T12:30:00.000000000",
          "2024-04-08T12:45:00.000000000",
          "2024-04-08T13:00:00.000000000",
          "2024-04-08T13:15:00.000000000",
          "2024-04-08T13:30:00.000000000",
          "2024-04-08T13:45:00.000000000",
          "2024-04-08T14:00:00.000000000",
          "2024-04-08T14:15:00.000000000",
          "2024-04-08T14:30:00.000000000",
          "2024-04-08T14:45:00.000000000",
          "2024-04-08T15:00:00.000000000",
          "2024-04-08T15:15:00.000000000",
          "2024-04-08T15:30:00.000000000",
          "2024-04-08T15:45:00.000000000",
          "2024-04-08T16:00:00.000000000",
          "2024-04-08T16:15:00.000000000",
          "2024-04-08T16:30:00.000000000",
          "2024-04-08T16:45:00.000000000",
          "2024-04-08T17:00:00.000000000",
          "2024-04-08T17:15:00.000000000",
          "2024-04-08T17:30:00.000000000",
          "2024-04-08T17:45:00.000000000",
          "2024-04-08T18:00:00.000000000",
          "2024-04-08T18:15:00.000000000",
          "2024-04-08T18:30:00.000000000",
          "2024-04-08T18:45:00.000000000",
          "2024-04-08T19:00:00.000000000",
          "2024-04-08T19:15:00.000000000",
          "2024-04-08T19:30:00.000000000",
          "2024-04-08T19:45:00.000000000",
          "2024-04-08T20:00:00.000000000",
          "2024-04-08T20:15:00.000000000",
          "2024-04-08T20:30:00.000000000",
          "2024-04-08T20:45:00.000000000",
          "2024-04-08T21:00:00.000000000",
          "2024-04-08T21:15:00.000000000",
          "2024-04-08T21:30:00.000000000",
          "2024-04-08T21:45:00.000000000",
          "2024-04-08T22:00:00.000000000",
          "2024-04-08T22:15:00.000000000",
          "2024-04-08T22:30:00.000000000",
          "2024-04-08T22:45:00.000000000",
          "2024-04-08T23:00:00.000000000",
          "2024-04-08T23:15:00.000000000",
          "2024-04-08T23:30:00.000000000",
          "2024-04-08T23:45:00.000000000"
         ],
         "y": [
          0,
          0,
          0,
          0,
          0,
          0,
          0,
          0,
          0,
          0,
          0,
          0,
          0,
          0,
          0,
          0,
          0,
          0,
          0,
          0,
          0,
          0,
          0,
          0.26923076923076933,
          2.884615384615384,
          1.5384615384615383,
          0.653846153846154,
          0.2692307692307692,
          -1.0408340855860843e-17,
          0.1153846153846154,
          0.6153846153846152,
          0.5384615384615385,
          5.076923076923077,
          17.423076923076927,
          7.692307692307693,
          1.9230769230769234,
          0.846153846153846,
          0.8076923076923075,
          0.6153846153846154,
          0.4230769230769231,
          31.653846153846164,
          5.53846153846154,
          0.5769230769230769,
          0.5384615384615383,
          0.8076923076923075,
          1.3461538461538467,
          1.8076923076923075,
          8.692307692307692,
          1.6153846153846156,
          0.3846153846153845,
          0.34615384615384615,
          0.07692307692307682,
          0.15384615384615408,
          0.8461538461538458,
          9.26923076923077,
          2.384615384615385,
          0.2692307692307691,
          0.3076923076923078,
          0.23076923076923078,
          0.42307692307692313,
          0.9615384615384613,
          5.615384615384615,
          1.1153846153846152,
          0.3076923076923076,
          0.03846153846153899,
          0.11538461538461539,
          0.15384615384615383,
          1.6153846153846159,
          7.500000000000001,
          2.423076923076923,
          0.4615384615384615,
          0.19230769230769232,
          0.1153846153846154,
          0.3846153846153847,
          0.8461538461538466,
          1.2692307692307692,
          0.23076923076923073,
          -2.7755575615628914e-17,
          0.11538461538461534,
          0.3076923076923077,
          0.15384615384615383,
          -1.0408340855860843e-17,
          0,
          -1.0408340855860843e-17,
          0,
          0,
          -5.204170427930421e-18,
          0,
          0.11538461538461536,
          0,
          0,
          0,
          0,
          -5.204170427930421e-18,
          0,
          0
         ]
        },
        {
         "mode": "lines+markers",
         "name": "cluster 4",
         "type": "scatter",
         "x": [
          "2024-04-08T00:00:00.000000000",
          "2024-04-08T00:15:00.000000000",
          "2024-04-08T00:30:00.000000000",
          "2024-04-08T00:45:00.000000000",
          "2024-04-08T01:00:00.000000000",
          "2024-04-08T01:15:00.000000000",
          "2024-04-08T01:30:00.000000000",
          "2024-04-08T01:45:00.000000000",
          "2024-04-08T02:00:00.000000000",
          "2024-04-08T02:15:00.000000000",
          "2024-04-08T02:30:00.000000000",
          "2024-04-08T02:45:00.000000000",
          "2024-04-08T03:00:00.000000000",
          "2024-04-08T03:15:00.000000000",
          "2024-04-08T03:30:00.000000000",
          "2024-04-08T03:45:00.000000000",
          "2024-04-08T04:00:00.000000000",
          "2024-04-08T04:15:00.000000000",
          "2024-04-08T04:30:00.000000000",
          "2024-04-08T04:45:00.000000000",
          "2024-04-08T05:00:00.000000000",
          "2024-04-08T05:15:00.000000000",
          "2024-04-08T05:30:00.000000000",
          "2024-04-08T05:45:00.000000000",
          "2024-04-08T06:00:00.000000000",
          "2024-04-08T06:15:00.000000000",
          "2024-04-08T06:30:00.000000000",
          "2024-04-08T06:45:00.000000000",
          "2024-04-08T07:00:00.000000000",
          "2024-04-08T07:15:00.000000000",
          "2024-04-08T07:30:00.000000000",
          "2024-04-08T07:45:00.000000000",
          "2024-04-08T08:00:00.000000000",
          "2024-04-08T08:15:00.000000000",
          "2024-04-08T08:30:00.000000000",
          "2024-04-08T08:45:00.000000000",
          "2024-04-08T09:00:00.000000000",
          "2024-04-08T09:15:00.000000000",
          "2024-04-08T09:30:00.000000000",
          "2024-04-08T09:45:00.000000000",
          "2024-04-08T10:00:00.000000000",
          "2024-04-08T10:15:00.000000000",
          "2024-04-08T10:30:00.000000000",
          "2024-04-08T10:45:00.000000000",
          "2024-04-08T11:00:00.000000000",
          "2024-04-08T11:15:00.000000000",
          "2024-04-08T11:30:00.000000000",
          "2024-04-08T11:45:00.000000000",
          "2024-04-08T12:00:00.000000000",
          "2024-04-08T12:15:00.000000000",
          "2024-04-08T12:30:00.000000000",
          "2024-04-08T12:45:00.000000000",
          "2024-04-08T13:00:00.000000000",
          "2024-04-08T13:15:00.000000000",
          "2024-04-08T13:30:00.000000000",
          "2024-04-08T13:45:00.000000000",
          "2024-04-08T14:00:00.000000000",
          "2024-04-08T14:15:00.000000000",
          "2024-04-08T14:30:00.000000000",
          "2024-04-08T14:45:00.000000000",
          "2024-04-08T15:00:00.000000000",
          "2024-04-08T15:15:00.000000000",
          "2024-04-08T15:30:00.000000000",
          "2024-04-08T15:45:00.000000000",
          "2024-04-08T16:00:00.000000000",
          "2024-04-08T16:15:00.000000000",
          "2024-04-08T16:30:00.000000000",
          "2024-04-08T16:45:00.000000000",
          "2024-04-08T17:00:00.000000000",
          "2024-04-08T17:15:00.000000000",
          "2024-04-08T17:30:00.000000000",
          "2024-04-08T17:45:00.000000000",
          "2024-04-08T18:00:00.000000000",
          "2024-04-08T18:15:00.000000000",
          "2024-04-08T18:30:00.000000000",
          "2024-04-08T18:45:00.000000000",
          "2024-04-08T19:00:00.000000000",
          "2024-04-08T19:15:00.000000000",
          "2024-04-08T19:30:00.000000000",
          "2024-04-08T19:45:00.000000000",
          "2024-04-08T20:00:00.000000000",
          "2024-04-08T20:15:00.000000000",
          "2024-04-08T20:30:00.000000000",
          "2024-04-08T20:45:00.000000000",
          "2024-04-08T21:00:00.000000000",
          "2024-04-08T21:15:00.000000000",
          "2024-04-08T21:30:00.000000000",
          "2024-04-08T21:45:00.000000000",
          "2024-04-08T22:00:00.000000000",
          "2024-04-08T22:15:00.000000000",
          "2024-04-08T22:30:00.000000000",
          "2024-04-08T22:45:00.000000000",
          "2024-04-08T23:00:00.000000000",
          "2024-04-08T23:15:00.000000000",
          "2024-04-08T23:30:00.000000000",
          "2024-04-08T23:45:00.000000000"
         ],
         "y": [
          0,
          0,
          0,
          0,
          0,
          0,
          0,
          0,
          0,
          0,
          0,
          0,
          0,
          0,
          0,
          0,
          0,
          0,
          0,
          0,
          0,
          0,
          0,
          0,
          6,
          0,
          0,
          0,
          0,
          0,
          0,
          0,
          0,
          23,
          13,
          0,
          1,
          0,
          1,
          10,
          0,
          0,
          0,
          0,
          0,
          0,
          4,
          39,
          2,
          0,
          1,
          3,
          51,
          37,
          39,
          10,
          2,
          5,
          11,
          8,
          47,
          32,
          2,
          2,
          0,
          0,
          4,
          0,
          36,
          1,
          0,
          0,
          5,
          0,
          0,
          0,
          0,
          0,
          0,
          0,
          0,
          0,
          0,
          0,
          0,
          0,
          0,
          0,
          0,
          0,
          0,
          0,
          0,
          0,
          0,
          0
         ]
        },
        {
         "mode": "lines+markers",
         "name": "cluster 5",
         "type": "scatter",
         "x": [
          "2024-04-08T00:00:00.000000000",
          "2024-04-08T00:15:00.000000000",
          "2024-04-08T00:30:00.000000000",
          "2024-04-08T00:45:00.000000000",
          "2024-04-08T01:00:00.000000000",
          "2024-04-08T01:15:00.000000000",
          "2024-04-08T01:30:00.000000000",
          "2024-04-08T01:45:00.000000000",
          "2024-04-08T02:00:00.000000000",
          "2024-04-08T02:15:00.000000000",
          "2024-04-08T02:30:00.000000000",
          "2024-04-08T02:45:00.000000000",
          "2024-04-08T03:00:00.000000000",
          "2024-04-08T03:15:00.000000000",
          "2024-04-08T03:30:00.000000000",
          "2024-04-08T03:45:00.000000000",
          "2024-04-08T04:00:00.000000000",
          "2024-04-08T04:15:00.000000000",
          "2024-04-08T04:30:00.000000000",
          "2024-04-08T04:45:00.000000000",
          "2024-04-08T05:00:00.000000000",
          "2024-04-08T05:15:00.000000000",
          "2024-04-08T05:30:00.000000000",
          "2024-04-08T05:45:00.000000000",
          "2024-04-08T06:00:00.000000000",
          "2024-04-08T06:15:00.000000000",
          "2024-04-08T06:30:00.000000000",
          "2024-04-08T06:45:00.000000000",
          "2024-04-08T07:00:00.000000000",
          "2024-04-08T07:15:00.000000000",
          "2024-04-08T07:30:00.000000000",
          "2024-04-08T07:45:00.000000000",
          "2024-04-08T08:00:00.000000000",
          "2024-04-08T08:15:00.000000000",
          "2024-04-08T08:30:00.000000000",
          "2024-04-08T08:45:00.000000000",
          "2024-04-08T09:00:00.000000000",
          "2024-04-08T09:15:00.000000000",
          "2024-04-08T09:30:00.000000000",
          "2024-04-08T09:45:00.000000000",
          "2024-04-08T10:00:00.000000000",
          "2024-04-08T10:15:00.000000000",
          "2024-04-08T10:30:00.000000000",
          "2024-04-08T10:45:00.000000000",
          "2024-04-08T11:00:00.000000000",
          "2024-04-08T11:15:00.000000000",
          "2024-04-08T11:30:00.000000000",
          "2024-04-08T11:45:00.000000000",
          "2024-04-08T12:00:00.000000000",
          "2024-04-08T12:15:00.000000000",
          "2024-04-08T12:30:00.000000000",
          "2024-04-08T12:45:00.000000000",
          "2024-04-08T13:00:00.000000000",
          "2024-04-08T13:15:00.000000000",
          "2024-04-08T13:30:00.000000000",
          "2024-04-08T13:45:00.000000000",
          "2024-04-08T14:00:00.000000000",
          "2024-04-08T14:15:00.000000000",
          "2024-04-08T14:30:00.000000000",
          "2024-04-08T14:45:00.000000000",
          "2024-04-08T15:00:00.000000000",
          "2024-04-08T15:15:00.000000000",
          "2024-04-08T15:30:00.000000000",
          "2024-04-08T15:45:00.000000000",
          "2024-04-08T16:00:00.000000000",
          "2024-04-08T16:15:00.000000000",
          "2024-04-08T16:30:00.000000000",
          "2024-04-08T16:45:00.000000000",
          "2024-04-08T17:00:00.000000000",
          "2024-04-08T17:15:00.000000000",
          "2024-04-08T17:30:00.000000000",
          "2024-04-08T17:45:00.000000000",
          "2024-04-08T18:00:00.000000000",
          "2024-04-08T18:15:00.000000000",
          "2024-04-08T18:30:00.000000000",
          "2024-04-08T18:45:00.000000000",
          "2024-04-08T19:00:00.000000000",
          "2024-04-08T19:15:00.000000000",
          "2024-04-08T19:30:00.000000000",
          "2024-04-08T19:45:00.000000000",
          "2024-04-08T20:00:00.000000000",
          "2024-04-08T20:15:00.000000000",
          "2024-04-08T20:30:00.000000000",
          "2024-04-08T20:45:00.000000000",
          "2024-04-08T21:00:00.000000000",
          "2024-04-08T21:15:00.000000000",
          "2024-04-08T21:30:00.000000000",
          "2024-04-08T21:45:00.000000000",
          "2024-04-08T22:00:00.000000000",
          "2024-04-08T22:15:00.000000000",
          "2024-04-08T22:30:00.000000000",
          "2024-04-08T22:45:00.000000000",
          "2024-04-08T23:00:00.000000000",
          "2024-04-08T23:15:00.000000000",
          "2024-04-08T23:30:00.000000000",
          "2024-04-08T23:45:00.000000000"
         ],
         "y": [
          0,
          0,
          0,
          0,
          0,
          0,
          0,
          0,
          0,
          0,
          0,
          0,
          0,
          0,
          0,
          0,
          0,
          0,
          0,
          0,
          0,
          0,
          0,
          0,
          0,
          4.5,
          2,
          0.5,
          0,
          0,
          0,
          0,
          8.5,
          13.5,
          5,
          1.5,
          0.5,
          0.5,
          0.5,
          0,
          15,
          6,
          0.5,
          0,
          0.5,
          1,
          1.5,
          1,
          1.5,
          0,
          0,
          0,
          0,
          0,
          10.5,
          1,
          0,
          0,
          0,
          0.5,
          2.5,
          38.5,
          8.5,
          0,
          0,
          1,
          1.5,
          1.5,
          43,
          10.5,
          1,
          0.5,
          0.5,
          1.9999999999999998,
          0,
          0,
          0,
          0,
          0,
          0.5,
          0,
          0,
          0,
          0,
          0,
          0,
          0,
          0,
          0,
          0,
          0,
          0,
          0,
          0,
          0,
          0
         ]
        },
        {
         "mode": "lines+markers",
         "name": "cluster 6",
         "type": "scatter",
         "x": [
          "2024-04-08T00:00:00.000000000",
          "2024-04-08T00:15:00.000000000",
          "2024-04-08T00:30:00.000000000",
          "2024-04-08T00:45:00.000000000",
          "2024-04-08T01:00:00.000000000",
          "2024-04-08T01:15:00.000000000",
          "2024-04-08T01:30:00.000000000",
          "2024-04-08T01:45:00.000000000",
          "2024-04-08T02:00:00.000000000",
          "2024-04-08T02:15:00.000000000",
          "2024-04-08T02:30:00.000000000",
          "2024-04-08T02:45:00.000000000",
          "2024-04-08T03:00:00.000000000",
          "2024-04-08T03:15:00.000000000",
          "2024-04-08T03:30:00.000000000",
          "2024-04-08T03:45:00.000000000",
          "2024-04-08T04:00:00.000000000",
          "2024-04-08T04:15:00.000000000",
          "2024-04-08T04:30:00.000000000",
          "2024-04-08T04:45:00.000000000",
          "2024-04-08T05:00:00.000000000",
          "2024-04-08T05:15:00.000000000",
          "2024-04-08T05:30:00.000000000",
          "2024-04-08T05:45:00.000000000",
          "2024-04-08T06:00:00.000000000",
          "2024-04-08T06:15:00.000000000",
          "2024-04-08T06:30:00.000000000",
          "2024-04-08T06:45:00.000000000",
          "2024-04-08T07:00:00.000000000",
          "2024-04-08T07:15:00.000000000",
          "2024-04-08T07:30:00.000000000",
          "2024-04-08T07:45:00.000000000",
          "2024-04-08T08:00:00.000000000",
          "2024-04-08T08:15:00.000000000",
          "2024-04-08T08:30:00.000000000",
          "2024-04-08T08:45:00.000000000",
          "2024-04-08T09:00:00.000000000",
          "2024-04-08T09:15:00.000000000",
          "2024-04-08T09:30:00.000000000",
          "2024-04-08T09:45:00.000000000",
          "2024-04-08T10:00:00.000000000",
          "2024-04-08T10:15:00.000000000",
          "2024-04-08T10:30:00.000000000",
          "2024-04-08T10:45:00.000000000",
          "2024-04-08T11:00:00.000000000",
          "2024-04-08T11:15:00.000000000",
          "2024-04-08T11:30:00.000000000",
          "2024-04-08T11:45:00.000000000",
          "2024-04-08T12:00:00.000000000",
          "2024-04-08T12:15:00.000000000",
          "2024-04-08T12:30:00.000000000",
          "2024-04-08T12:45:00.000000000",
          "2024-04-08T13:00:00.000000000",
          "2024-04-08T13:15:00.000000000",
          "2024-04-08T13:30:00.000000000",
          "2024-04-08T13:45:00.000000000",
          "2024-04-08T14:00:00.000000000",
          "2024-04-08T14:15:00.000000000",
          "2024-04-08T14:30:00.000000000",
          "2024-04-08T14:45:00.000000000",
          "2024-04-08T15:00:00.000000000",
          "2024-04-08T15:15:00.000000000",
          "2024-04-08T15:30:00.000000000",
          "2024-04-08T15:45:00.000000000",
          "2024-04-08T16:00:00.000000000",
          "2024-04-08T16:15:00.000000000",
          "2024-04-08T16:30:00.000000000",
          "2024-04-08T16:45:00.000000000",
          "2024-04-08T17:00:00.000000000",
          "2024-04-08T17:15:00.000000000",
          "2024-04-08T17:30:00.000000000",
          "2024-04-08T17:45:00.000000000",
          "2024-04-08T18:00:00.000000000",
          "2024-04-08T18:15:00.000000000",
          "2024-04-08T18:30:00.000000000",
          "2024-04-08T18:45:00.000000000",
          "2024-04-08T19:00:00.000000000",
          "2024-04-08T19:15:00.000000000",
          "2024-04-08T19:30:00.000000000",
          "2024-04-08T19:45:00.000000000",
          "2024-04-08T20:00:00.000000000",
          "2024-04-08T20:15:00.000000000",
          "2024-04-08T20:30:00.000000000",
          "2024-04-08T20:45:00.000000000",
          "2024-04-08T21:00:00.000000000",
          "2024-04-08T21:15:00.000000000",
          "2024-04-08T21:30:00.000000000",
          "2024-04-08T21:45:00.000000000",
          "2024-04-08T22:00:00.000000000",
          "2024-04-08T22:15:00.000000000",
          "2024-04-08T22:30:00.000000000",
          "2024-04-08T22:45:00.000000000",
          "2024-04-08T23:00:00.000000000",
          "2024-04-08T23:15:00.000000000",
          "2024-04-08T23:30:00.000000000",
          "2024-04-08T23:45:00.000000000"
         ],
         "y": [
          0,
          0,
          0,
          0,
          0,
          0,
          0,
          0,
          0,
          0,
          0,
          0,
          0,
          0,
          0,
          0,
          0,
          0,
          0,
          0,
          0,
          0,
          0,
          -1.3877787807814457e-17,
          1.8,
          0.8,
          0,
          0.8000000000000003,
          0.19999999999999998,
          1.9999999999999998,
          0.19999999999999998,
          1.2000000000000002,
          5,
          11.8,
          6.6000000000000005,
          1,
          0.8000000000000002,
          0.4,
          0.4,
          1.6,
          11.8,
          4.4,
          0.4,
          0,
          0.8,
          2.8000000000000007,
          16.2,
          31,
          6.200000000000001,
          2.2000000000000006,
          2.4000000000000004,
          0.4,
          1.4,
          0.5999999999999999,
          3.9999999999999996,
          5.600000000000001,
          2.2,
          9.599999999999998,
          1.6,
          0.4,
          7.199999999999999,
          2.1999999999999997,
          1.4,
          0.40000000000000013,
          10.600000000000001,
          2.599999999999999,
          0,
          0.4,
          0.20000000000000018,
          0,
          0.2,
          -1.3877787807814457e-17,
          0,
          0,
          0,
          0,
          0,
          0,
          0,
          0.6000000000000001,
          -1.3877787807814457e-17,
          0.4,
          0,
          0,
          0,
          0,
          0,
          0,
          0,
          0,
          0,
          0,
          0,
          0,
          0,
          0
         ]
        }
       ],
       "layout": {
        "template": {
         "data": {
          "bar": [
           {
            "error_x": {
             "color": "#2a3f5f"
            },
            "error_y": {
             "color": "#2a3f5f"
            },
            "marker": {
             "line": {
              "color": "#E5ECF6",
              "width": 0.5
             },
             "pattern": {
              "fillmode": "overlay",
              "size": 10,
              "solidity": 0.2
             }
            },
            "type": "bar"
           }
          ],
          "barpolar": [
           {
            "marker": {
             "line": {
              "color": "#E5ECF6",
              "width": 0.5
             },
             "pattern": {
              "fillmode": "overlay",
              "size": 10,
              "solidity": 0.2
             }
            },
            "type": "barpolar"
           }
          ],
          "carpet": [
           {
            "aaxis": {
             "endlinecolor": "#2a3f5f",
             "gridcolor": "white",
             "linecolor": "white",
             "minorgridcolor": "white",
             "startlinecolor": "#2a3f5f"
            },
            "baxis": {
             "endlinecolor": "#2a3f5f",
             "gridcolor": "white",
             "linecolor": "white",
             "minorgridcolor": "white",
             "startlinecolor": "#2a3f5f"
            },
            "type": "carpet"
           }
          ],
          "choropleth": [
           {
            "colorbar": {
             "outlinewidth": 0,
             "ticks": ""
            },
            "type": "choropleth"
           }
          ],
          "contour": [
           {
            "colorbar": {
             "outlinewidth": 0,
             "ticks": ""
            },
            "colorscale": [
             [
              0,
              "#0d0887"
             ],
             [
              0.1111111111111111,
              "#46039f"
             ],
             [
              0.2222222222222222,
              "#7201a8"
             ],
             [
              0.3333333333333333,
              "#9c179e"
             ],
             [
              0.4444444444444444,
              "#bd3786"
             ],
             [
              0.5555555555555556,
              "#d8576b"
             ],
             [
              0.6666666666666666,
              "#ed7953"
             ],
             [
              0.7777777777777778,
              "#fb9f3a"
             ],
             [
              0.8888888888888888,
              "#fdca26"
             ],
             [
              1,
              "#f0f921"
             ]
            ],
            "type": "contour"
           }
          ],
          "contourcarpet": [
           {
            "colorbar": {
             "outlinewidth": 0,
             "ticks": ""
            },
            "type": "contourcarpet"
           }
          ],
          "heatmap": [
           {
            "colorbar": {
             "outlinewidth": 0,
             "ticks": ""
            },
            "colorscale": [
             [
              0,
              "#0d0887"
             ],
             [
              0.1111111111111111,
              "#46039f"
             ],
             [
              0.2222222222222222,
              "#7201a8"
             ],
             [
              0.3333333333333333,
              "#9c179e"
             ],
             [
              0.4444444444444444,
              "#bd3786"
             ],
             [
              0.5555555555555556,
              "#d8576b"
             ],
             [
              0.6666666666666666,
              "#ed7953"
             ],
             [
              0.7777777777777778,
              "#fb9f3a"
             ],
             [
              0.8888888888888888,
              "#fdca26"
             ],
             [
              1,
              "#f0f921"
             ]
            ],
            "type": "heatmap"
           }
          ],
          "heatmapgl": [
           {
            "colorbar": {
             "outlinewidth": 0,
             "ticks": ""
            },
            "colorscale": [
             [
              0,
              "#0d0887"
             ],
             [
              0.1111111111111111,
              "#46039f"
             ],
             [
              0.2222222222222222,
              "#7201a8"
             ],
             [
              0.3333333333333333,
              "#9c179e"
             ],
             [
              0.4444444444444444,
              "#bd3786"
             ],
             [
              0.5555555555555556,
              "#d8576b"
             ],
             [
              0.6666666666666666,
              "#ed7953"
             ],
             [
              0.7777777777777778,
              "#fb9f3a"
             ],
             [
              0.8888888888888888,
              "#fdca26"
             ],
             [
              1,
              "#f0f921"
             ]
            ],
            "type": "heatmapgl"
           }
          ],
          "histogram": [
           {
            "marker": {
             "pattern": {
              "fillmode": "overlay",
              "size": 10,
              "solidity": 0.2
             }
            },
            "type": "histogram"
           }
          ],
          "histogram2d": [
           {
            "colorbar": {
             "outlinewidth": 0,
             "ticks": ""
            },
            "colorscale": [
             [
              0,
              "#0d0887"
             ],
             [
              0.1111111111111111,
              "#46039f"
             ],
             [
              0.2222222222222222,
              "#7201a8"
             ],
             [
              0.3333333333333333,
              "#9c179e"
             ],
             [
              0.4444444444444444,
              "#bd3786"
             ],
             [
              0.5555555555555556,
              "#d8576b"
             ],
             [
              0.6666666666666666,
              "#ed7953"
             ],
             [
              0.7777777777777778,
              "#fb9f3a"
             ],
             [
              0.8888888888888888,
              "#fdca26"
             ],
             [
              1,
              "#f0f921"
             ]
            ],
            "type": "histogram2d"
           }
          ],
          "histogram2dcontour": [
           {
            "colorbar": {
             "outlinewidth": 0,
             "ticks": ""
            },
            "colorscale": [
             [
              0,
              "#0d0887"
             ],
             [
              0.1111111111111111,
              "#46039f"
             ],
             [
              0.2222222222222222,
              "#7201a8"
             ],
             [
              0.3333333333333333,
              "#9c179e"
             ],
             [
              0.4444444444444444,
              "#bd3786"
             ],
             [
              0.5555555555555556,
              "#d8576b"
             ],
             [
              0.6666666666666666,
              "#ed7953"
             ],
             [
              0.7777777777777778,
              "#fb9f3a"
             ],
             [
              0.8888888888888888,
              "#fdca26"
             ],
             [
              1,
              "#f0f921"
             ]
            ],
            "type": "histogram2dcontour"
           }
          ],
          "mesh3d": [
           {
            "colorbar": {
             "outlinewidth": 0,
             "ticks": ""
            },
            "type": "mesh3d"
           }
          ],
          "parcoords": [
           {
            "line": {
             "colorbar": {
              "outlinewidth": 0,
              "ticks": ""
             }
            },
            "type": "parcoords"
           }
          ],
          "pie": [
           {
            "automargin": true,
            "type": "pie"
           }
          ],
          "scatter": [
           {
            "fillpattern": {
             "fillmode": "overlay",
             "size": 10,
             "solidity": 0.2
            },
            "type": "scatter"
           }
          ],
          "scatter3d": [
           {
            "line": {
             "colorbar": {
              "outlinewidth": 0,
              "ticks": ""
             }
            },
            "marker": {
             "colorbar": {
              "outlinewidth": 0,
              "ticks": ""
             }
            },
            "type": "scatter3d"
           }
          ],
          "scattercarpet": [
           {
            "marker": {
             "colorbar": {
              "outlinewidth": 0,
              "ticks": ""
             }
            },
            "type": "scattercarpet"
           }
          ],
          "scattergeo": [
           {
            "marker": {
             "colorbar": {
              "outlinewidth": 0,
              "ticks": ""
             }
            },
            "type": "scattergeo"
           }
          ],
          "scattergl": [
           {
            "marker": {
             "colorbar": {
              "outlinewidth": 0,
              "ticks": ""
             }
            },
            "type": "scattergl"
           }
          ],
          "scattermapbox": [
           {
            "marker": {
             "colorbar": {
              "outlinewidth": 0,
              "ticks": ""
             }
            },
            "type": "scattermapbox"
           }
          ],
          "scatterpolar": [
           {
            "marker": {
             "colorbar": {
              "outlinewidth": 0,
              "ticks": ""
             }
            },
            "type": "scatterpolar"
           }
          ],
          "scatterpolargl": [
           {
            "marker": {
             "colorbar": {
              "outlinewidth": 0,
              "ticks": ""
             }
            },
            "type": "scatterpolargl"
           }
          ],
          "scatterternary": [
           {
            "marker": {
             "colorbar": {
              "outlinewidth": 0,
              "ticks": ""
             }
            },
            "type": "scatterternary"
           }
          ],
          "surface": [
           {
            "colorbar": {
             "outlinewidth": 0,
             "ticks": ""
            },
            "colorscale": [
             [
              0,
              "#0d0887"
             ],
             [
              0.1111111111111111,
              "#46039f"
             ],
             [
              0.2222222222222222,
              "#7201a8"
             ],
             [
              0.3333333333333333,
              "#9c179e"
             ],
             [
              0.4444444444444444,
              "#bd3786"
             ],
             [
              0.5555555555555556,
              "#d8576b"
             ],
             [
              0.6666666666666666,
              "#ed7953"
             ],
             [
              0.7777777777777778,
              "#fb9f3a"
             ],
             [
              0.8888888888888888,
              "#fdca26"
             ],
             [
              1,
              "#f0f921"
             ]
            ],
            "type": "surface"
           }
          ],
          "table": [
           {
            "cells": {
             "fill": {
              "color": "#EBF0F8"
             },
             "line": {
              "color": "white"
             }
            },
            "header": {
             "fill": {
              "color": "#C8D4E3"
             },
             "line": {
              "color": "white"
             }
            },
            "type": "table"
           }
          ]
         },
         "layout": {
          "annotationdefaults": {
           "arrowcolor": "#2a3f5f",
           "arrowhead": 0,
           "arrowwidth": 1
          },
          "autotypenumbers": "strict",
          "coloraxis": {
           "colorbar": {
            "outlinewidth": 0,
            "ticks": ""
           }
          },
          "colorscale": {
           "diverging": [
            [
             0,
             "#8e0152"
            ],
            [
             0.1,
             "#c51b7d"
            ],
            [
             0.2,
             "#de77ae"
            ],
            [
             0.3,
             "#f1b6da"
            ],
            [
             0.4,
             "#fde0ef"
            ],
            [
             0.5,
             "#f7f7f7"
            ],
            [
             0.6,
             "#e6f5d0"
            ],
            [
             0.7,
             "#b8e186"
            ],
            [
             0.8,
             "#7fbc41"
            ],
            [
             0.9,
             "#4d9221"
            ],
            [
             1,
             "#276419"
            ]
           ],
           "sequential": [
            [
             0,
             "#0d0887"
            ],
            [
             0.1111111111111111,
             "#46039f"
            ],
            [
             0.2222222222222222,
             "#7201a8"
            ],
            [
             0.3333333333333333,
             "#9c179e"
            ],
            [
             0.4444444444444444,
             "#bd3786"
            ],
            [
             0.5555555555555556,
             "#d8576b"
            ],
            [
             0.6666666666666666,
             "#ed7953"
            ],
            [
             0.7777777777777778,
             "#fb9f3a"
            ],
            [
             0.8888888888888888,
             "#fdca26"
            ],
            [
             1,
             "#f0f921"
            ]
           ],
           "sequentialminus": [
            [
             0,
             "#0d0887"
            ],
            [
             0.1111111111111111,
             "#46039f"
            ],
            [
             0.2222222222222222,
             "#7201a8"
            ],
            [
             0.3333333333333333,
             "#9c179e"
            ],
            [
             0.4444444444444444,
             "#bd3786"
            ],
            [
             0.5555555555555556,
             "#d8576b"
            ],
            [
             0.6666666666666666,
             "#ed7953"
            ],
            [
             0.7777777777777778,
             "#fb9f3a"
            ],
            [
             0.8888888888888888,
             "#fdca26"
            ],
            [
             1,
             "#f0f921"
            ]
           ]
          },
          "colorway": [
           "#636efa",
           "#EF553B",
           "#00cc96",
           "#ab63fa",
           "#FFA15A",
           "#19d3f3",
           "#FF6692",
           "#B6E880",
           "#FF97FF",
           "#FECB52"
          ],
          "font": {
           "color": "#2a3f5f"
          },
          "geo": {
           "bgcolor": "white",
           "lakecolor": "white",
           "landcolor": "#E5ECF6",
           "showlakes": true,
           "showland": true,
           "subunitcolor": "white"
          },
          "hoverlabel": {
           "align": "left"
          },
          "hovermode": "closest",
          "mapbox": {
           "style": "light"
          },
          "paper_bgcolor": "white",
          "plot_bgcolor": "#E5ECF6",
          "polar": {
           "angularaxis": {
            "gridcolor": "white",
            "linecolor": "white",
            "ticks": ""
           },
           "bgcolor": "#E5ECF6",
           "radialaxis": {
            "gridcolor": "white",
            "linecolor": "white",
            "ticks": ""
           }
          },
          "scene": {
           "xaxis": {
            "backgroundcolor": "#E5ECF6",
            "gridcolor": "white",
            "gridwidth": 2,
            "linecolor": "white",
            "showbackground": true,
            "ticks": "",
            "zerolinecolor": "white"
           },
           "yaxis": {
            "backgroundcolor": "#E5ECF6",
            "gridcolor": "white",
            "gridwidth": 2,
            "linecolor": "white",
            "showbackground": true,
            "ticks": "",
            "zerolinecolor": "white"
           },
           "zaxis": {
            "backgroundcolor": "#E5ECF6",
            "gridcolor": "white",
            "gridwidth": 2,
            "linecolor": "white",
            "showbackground": true,
            "ticks": "",
            "zerolinecolor": "white"
           }
          },
          "shapedefaults": {
           "line": {
            "color": "#2a3f5f"
           }
          },
          "ternary": {
           "aaxis": {
            "gridcolor": "white",
            "linecolor": "white",
            "ticks": ""
           },
           "baxis": {
            "gridcolor": "white",
            "linecolor": "white",
            "ticks": ""
           },
           "bgcolor": "#E5ECF6",
           "caxis": {
            "gridcolor": "white",
            "linecolor": "white",
            "ticks": ""
           }
          },
          "title": {
           "x": 0.05
          },
          "xaxis": {
           "automargin": true,
           "gridcolor": "white",
           "linecolor": "white",
           "ticks": "",
           "title": {
            "standoff": 15
           },
           "zerolinecolor": "white",
           "zerolinewidth": 2
          },
          "yaxis": {
           "automargin": true,
           "gridcolor": "white",
           "linecolor": "white",
           "ticks": "",
           "title": {
            "standoff": 15
           },
           "zerolinecolor": "white",
           "zerolinewidth": 2
          }
         }
        }
       }
      }
     },
     "metadata": {},
     "output_type": "display_data"
    }
   ],
   "source": [
    "indices = np.arange(len(samples))\n",
    "\n",
    "fig = go.Figure()\n",
    "\n",
    "for i in range(n_clusters):\n",
    "\n",
    "    cluster_indices = indices[clustering_model.labels_ == i]\n",
    "    cluster_center = clustering_model.cluster_centers_[i]\n",
    "    \n",
    "    \n",
    "    cluster_group_list = group_list[cluster_indices]\n",
    "\n",
    "    print(f\"################ {i} ################\")\n",
    "    print(cluster_indices)\n",
    "    print(cluster_group_list)\n",
    "    print()\n",
    "    \n",
    "    # line plot\n",
    "    fig.add_trace(\n",
    "        go.Scatter(\n",
    "            x=times[0], \n",
    "            y=cluster_center, \n",
    "            name=f'cluster {i}',\n",
    "            mode=\"lines+markers\"        \n",
    "        )\n",
    "    )\n",
    "        \n",
    "fig.show()"
   ]
  },
  {
   "cell_type": "markdown",
   "metadata": {},
   "source": [
    "## 2. Train and Test split"
   ]
  },
  {
   "cell_type": "code",
   "execution_count": 6,
   "metadata": {},
   "outputs": [],
   "source": [
    "data_filterd = filter_room_id(data, 0)\n",
    "data_filterd = filter_event_type(data_filterd, 1)\n",
    "\n",
    "\n",
    "#train, test = train_test_split(samples, test_size=0.1, random_state=42)\n",
    "\n",
    "#train = np.array(train)\n",
    "#test = np.array(test)\n",
    "\n",
    "#kf = KFold(n_splits=10)\n",
    "\n",
    "#for train_index, valid_index in kf.split(train):\n",
    "    \n",
    "#    train_fold = train[train_index]\n",
    "#    valid_fold = train[valid_index]\n",
    "    \n",
    "#    break"
   ]
  },
  {
   "cell_type": "markdown",
   "metadata": {},
   "source": [
    "## 3. Occupancy Forecasting"
   ]
  },
  {
   "cell_type": "code",
   "execution_count": null,
   "metadata": {},
   "outputs": [],
   "source": [
    "# check out some of the papers in the review\n",
    "# start with some traditional methods"
   ]
  },
  {
   "cell_type": "code",
   "execution_count": null,
   "metadata": {},
   "outputs": [],
   "source": []
  },
  {
   "cell_type": "markdown",
   "metadata": {},
   "source": [
    "## 4. Count Forecasting\n",
    "### Try more general approach if 1. is too hard, gather literature on count forecasting"
   ]
  },
  {
   "cell_type": "markdown",
   "metadata": {},
   "source": []
  }
 ],
 "metadata": {
  "kernelspec": {
   "display_name": "webapp",
   "language": "python",
   "name": "python3"
  },
  "language_info": {
   "codemirror_mode": {
    "name": "ipython",
    "version": 3
   },
   "file_extension": ".py",
   "mimetype": "text/x-python",
   "name": "python",
   "nbconvert_exporter": "python",
   "pygments_lexer": "ipython3",
   "version": "3.12.2"
  }
 },
 "nbformat": 4,
 "nbformat_minor": 2
}
