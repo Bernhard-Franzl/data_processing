{
 "cells": [
  {
   "cell_type": "markdown",
   "metadata": {},
   "source": [
    "# Occupancy Forecasting Notebook"
   ]
  },
  {
   "cell_type": "code",
   "execution_count": 6,
   "metadata": {},
   "outputs": [],
   "source": [
    "#Imports\n",
    "import numpy as np\n",
    "import matplotlib.pyplot as plt\n",
    "import pandas as pd\n",
    "\n",
    "from datetime import datetime\n",
    "import plotly.express as px\n",
    "import plotly.graph_objects as go\n",
    "from plotly.subplots import make_subplots\n",
    "\n",
    "\n",
    "from sklearn.model_selection import train_test_split, KFold"
   ]
  },
  {
   "cell_type": "code",
   "execution_count": 7,
   "metadata": {},
   "outputs": [],
   "source": [
    "# Importing the dataset\n",
    "file_name = \"frequency_data\"\n",
    "data = pd.read_csv(f\"data/cleaned_data/{file_name}.csv\")\n",
    "\n",
    "dtypes = pd.read_csv(f\"data/cleaned_data/{file_name}_dtypes.csv\", index_col=0)\n",
    "data = data.astype(dtypes.to_dict()[\"0\"])\n",
    "\n",
    "data[\"datetime\"] = data[\"time\"]\n",
    "data.drop(\"time\", axis=1, inplace=True)\n"
   ]
  },
  {
   "cell_type": "markdown",
   "metadata": {},
   "source": [
    "### Data Utility Functions"
   ]
  },
  {
   "cell_type": "code",
   "execution_count": 8,
   "metadata": {},
   "outputs": [],
   "source": [
    "def filter_room_id(data, room_id):\n",
    "    return data[data[\"room_id\"] == room_id].reset_index(drop=True)\n",
    "\n",
    "def filter_event_type(data, event_type):\n",
    "    return data[data[\"event_type\"] == event_type].reset_index(drop=True)\n",
    "\n",
    "def resample(data, time_column, frequency, agg_func):\n",
    "    \n",
    "    # get min day\n",
    "    if frequency == \"MS\":\n",
    "        min_time = min(data[time_column]).replace(day=1, hour=0, minute=0, second=0)\n",
    "    else:\n",
    "        min_time = min(data[time_column]).replace(hour=0, minute=0, second=0)\n",
    "\n",
    "    # get max day\n",
    "    max_time = max(data[time_column])\n",
    "    max_time = max_time.replace(day=max_time.day+1, hour=0, minute=0, second=0)\n",
    "    \n",
    "    \n",
    "    idx = pd.date_range(start=min_time, end=max_time, freq=frequency, inclusive=\"both\") \n",
    "\n",
    "    df_resampled = data.set_index(time_column)\\\n",
    "                   .resample(frequency, label=\"left\", closed=\"left\")\n",
    "\n",
    "    if agg_func == \"sum\":\n",
    "        df_resampled = df_resampled.sum()\n",
    "    elif agg_func == \"count\":\n",
    "        df_resampled = df_resampled.count()\n",
    "    elif agg_func == \"value_counts\":\n",
    "        df_resampled = df_resampled.value_counts()\n",
    "    else:\n",
    "        raise ValueError(\"agg_func must be 'sum', 'count' or 'value_counts'\")\n",
    "    return df_resampled.reindex(idx, fill_value=0).reset_index().rename(columns={\"index\": time_column})[[time_column, \"event_type\"]]\n",
    "\n",
    "def derive_day(data):\n",
    "    data[\"day\"] = data[\"datetime\"].dt.date\n",
    "    return data\n",
    "\n",
    "def derive_week(data):\n",
    "    data[\"week\"] = data[\"datetime\"].dt.isocalendar().week\n",
    "    return data\n",
    "\n",
    "def derive_time(data):\n",
    "    data[\"time\"] = data[\"datetime\"].dt.time\n",
    "    return data\n",
    "\n",
    "def derive_weekday(data):\n",
    "    data[\"weekday\"] = data[\"datetime\"].dt.weekday\n",
    "    return data"
   ]
  },
  {
   "cell_type": "code",
   "execution_count": 9,
   "metadata": {},
   "outputs": [],
   "source": [
    "data_filterd = filter_room_id(data, 0)\n",
    "data_filterd = filter_event_type(data_filterd, 1)"
   ]
  },
  {
   "cell_type": "markdown",
   "metadata": {},
   "source": [
    "## 0. Basic Statistics and Plots"
   ]
  },
  {
   "cell_type": "markdown",
   "metadata": {},
   "source": [
    "Bar Charts"
   ]
  },
  {
   "cell_type": "code",
   "execution_count": 10,
   "metadata": {},
   "outputs": [
    {
     "data": {
      "application/vnd.plotly.v1+json": {
       "config": {
        "plotlyServerURL": "https://plot.ly"
       },
       "data": [
        {
         "name": "value_counts",
         "type": "bar",
         "x": [
          1,
          2,
          3,
          4,
          5,
          6,
          7,
          8,
          9,
          12,
          10,
          11,
          14,
          16,
          15,
          13,
          18,
          23,
          19,
          21,
          20,
          17,
          22,
          26,
          27,
          28,
          24,
          25,
          29,
          30,
          32,
          39
         ],
         "y": [
          713,
          326,
          199,
          130,
          102,
          63,
          56,
          40,
          39,
          25,
          22,
          21,
          19,
          14,
          10,
          9,
          8,
          6,
          6,
          6,
          5,
          4,
          3,
          2,
          2,
          2,
          1,
          1,
          1,
          1,
          1,
          1
         ]
        }
       ],
       "layout": {
        "template": {
         "data": {
          "bar": [
           {
            "error_x": {
             "color": "#2a3f5f"
            },
            "error_y": {
             "color": "#2a3f5f"
            },
            "marker": {
             "line": {
              "color": "#E5ECF6",
              "width": 0.5
             },
             "pattern": {
              "fillmode": "overlay",
              "size": 10,
              "solidity": 0.2
             }
            },
            "type": "bar"
           }
          ],
          "barpolar": [
           {
            "marker": {
             "line": {
              "color": "#E5ECF6",
              "width": 0.5
             },
             "pattern": {
              "fillmode": "overlay",
              "size": 10,
              "solidity": 0.2
             }
            },
            "type": "barpolar"
           }
          ],
          "carpet": [
           {
            "aaxis": {
             "endlinecolor": "#2a3f5f",
             "gridcolor": "white",
             "linecolor": "white",
             "minorgridcolor": "white",
             "startlinecolor": "#2a3f5f"
            },
            "baxis": {
             "endlinecolor": "#2a3f5f",
             "gridcolor": "white",
             "linecolor": "white",
             "minorgridcolor": "white",
             "startlinecolor": "#2a3f5f"
            },
            "type": "carpet"
           }
          ],
          "choropleth": [
           {
            "colorbar": {
             "outlinewidth": 0,
             "ticks": ""
            },
            "type": "choropleth"
           }
          ],
          "contour": [
           {
            "colorbar": {
             "outlinewidth": 0,
             "ticks": ""
            },
            "colorscale": [
             [
              0,
              "#0d0887"
             ],
             [
              0.1111111111111111,
              "#46039f"
             ],
             [
              0.2222222222222222,
              "#7201a8"
             ],
             [
              0.3333333333333333,
              "#9c179e"
             ],
             [
              0.4444444444444444,
              "#bd3786"
             ],
             [
              0.5555555555555556,
              "#d8576b"
             ],
             [
              0.6666666666666666,
              "#ed7953"
             ],
             [
              0.7777777777777778,
              "#fb9f3a"
             ],
             [
              0.8888888888888888,
              "#fdca26"
             ],
             [
              1,
              "#f0f921"
             ]
            ],
            "type": "contour"
           }
          ],
          "contourcarpet": [
           {
            "colorbar": {
             "outlinewidth": 0,
             "ticks": ""
            },
            "type": "contourcarpet"
           }
          ],
          "heatmap": [
           {
            "colorbar": {
             "outlinewidth": 0,
             "ticks": ""
            },
            "colorscale": [
             [
              0,
              "#0d0887"
             ],
             [
              0.1111111111111111,
              "#46039f"
             ],
             [
              0.2222222222222222,
              "#7201a8"
             ],
             [
              0.3333333333333333,
              "#9c179e"
             ],
             [
              0.4444444444444444,
              "#bd3786"
             ],
             [
              0.5555555555555556,
              "#d8576b"
             ],
             [
              0.6666666666666666,
              "#ed7953"
             ],
             [
              0.7777777777777778,
              "#fb9f3a"
             ],
             [
              0.8888888888888888,
              "#fdca26"
             ],
             [
              1,
              "#f0f921"
             ]
            ],
            "type": "heatmap"
           }
          ],
          "heatmapgl": [
           {
            "colorbar": {
             "outlinewidth": 0,
             "ticks": ""
            },
            "colorscale": [
             [
              0,
              "#0d0887"
             ],
             [
              0.1111111111111111,
              "#46039f"
             ],
             [
              0.2222222222222222,
              "#7201a8"
             ],
             [
              0.3333333333333333,
              "#9c179e"
             ],
             [
              0.4444444444444444,
              "#bd3786"
             ],
             [
              0.5555555555555556,
              "#d8576b"
             ],
             [
              0.6666666666666666,
              "#ed7953"
             ],
             [
              0.7777777777777778,
              "#fb9f3a"
             ],
             [
              0.8888888888888888,
              "#fdca26"
             ],
             [
              1,
              "#f0f921"
             ]
            ],
            "type": "heatmapgl"
           }
          ],
          "histogram": [
           {
            "marker": {
             "pattern": {
              "fillmode": "overlay",
              "size": 10,
              "solidity": 0.2
             }
            },
            "type": "histogram"
           }
          ],
          "histogram2d": [
           {
            "colorbar": {
             "outlinewidth": 0,
             "ticks": ""
            },
            "colorscale": [
             [
              0,
              "#0d0887"
             ],
             [
              0.1111111111111111,
              "#46039f"
             ],
             [
              0.2222222222222222,
              "#7201a8"
             ],
             [
              0.3333333333333333,
              "#9c179e"
             ],
             [
              0.4444444444444444,
              "#bd3786"
             ],
             [
              0.5555555555555556,
              "#d8576b"
             ],
             [
              0.6666666666666666,
              "#ed7953"
             ],
             [
              0.7777777777777778,
              "#fb9f3a"
             ],
             [
              0.8888888888888888,
              "#fdca26"
             ],
             [
              1,
              "#f0f921"
             ]
            ],
            "type": "histogram2d"
           }
          ],
          "histogram2dcontour": [
           {
            "colorbar": {
             "outlinewidth": 0,
             "ticks": ""
            },
            "colorscale": [
             [
              0,
              "#0d0887"
             ],
             [
              0.1111111111111111,
              "#46039f"
             ],
             [
              0.2222222222222222,
              "#7201a8"
             ],
             [
              0.3333333333333333,
              "#9c179e"
             ],
             [
              0.4444444444444444,
              "#bd3786"
             ],
             [
              0.5555555555555556,
              "#d8576b"
             ],
             [
              0.6666666666666666,
              "#ed7953"
             ],
             [
              0.7777777777777778,
              "#fb9f3a"
             ],
             [
              0.8888888888888888,
              "#fdca26"
             ],
             [
              1,
              "#f0f921"
             ]
            ],
            "type": "histogram2dcontour"
           }
          ],
          "mesh3d": [
           {
            "colorbar": {
             "outlinewidth": 0,
             "ticks": ""
            },
            "type": "mesh3d"
           }
          ],
          "parcoords": [
           {
            "line": {
             "colorbar": {
              "outlinewidth": 0,
              "ticks": ""
             }
            },
            "type": "parcoords"
           }
          ],
          "pie": [
           {
            "automargin": true,
            "type": "pie"
           }
          ],
          "scatter": [
           {
            "fillpattern": {
             "fillmode": "overlay",
             "size": 10,
             "solidity": 0.2
            },
            "type": "scatter"
           }
          ],
          "scatter3d": [
           {
            "line": {
             "colorbar": {
              "outlinewidth": 0,
              "ticks": ""
             }
            },
            "marker": {
             "colorbar": {
              "outlinewidth": 0,
              "ticks": ""
             }
            },
            "type": "scatter3d"
           }
          ],
          "scattercarpet": [
           {
            "marker": {
             "colorbar": {
              "outlinewidth": 0,
              "ticks": ""
             }
            },
            "type": "scattercarpet"
           }
          ],
          "scattergeo": [
           {
            "marker": {
             "colorbar": {
              "outlinewidth": 0,
              "ticks": ""
             }
            },
            "type": "scattergeo"
           }
          ],
          "scattergl": [
           {
            "marker": {
             "colorbar": {
              "outlinewidth": 0,
              "ticks": ""
             }
            },
            "type": "scattergl"
           }
          ],
          "scattermapbox": [
           {
            "marker": {
             "colorbar": {
              "outlinewidth": 0,
              "ticks": ""
             }
            },
            "type": "scattermapbox"
           }
          ],
          "scatterpolar": [
           {
            "marker": {
             "colorbar": {
              "outlinewidth": 0,
              "ticks": ""
             }
            },
            "type": "scatterpolar"
           }
          ],
          "scatterpolargl": [
           {
            "marker": {
             "colorbar": {
              "outlinewidth": 0,
              "ticks": ""
             }
            },
            "type": "scatterpolargl"
           }
          ],
          "scatterternary": [
           {
            "marker": {
             "colorbar": {
              "outlinewidth": 0,
              "ticks": ""
             }
            },
            "type": "scatterternary"
           }
          ],
          "surface": [
           {
            "colorbar": {
             "outlinewidth": 0,
             "ticks": ""
            },
            "colorscale": [
             [
              0,
              "#0d0887"
             ],
             [
              0.1111111111111111,
              "#46039f"
             ],
             [
              0.2222222222222222,
              "#7201a8"
             ],
             [
              0.3333333333333333,
              "#9c179e"
             ],
             [
              0.4444444444444444,
              "#bd3786"
             ],
             [
              0.5555555555555556,
              "#d8576b"
             ],
             [
              0.6666666666666666,
              "#ed7953"
             ],
             [
              0.7777777777777778,
              "#fb9f3a"
             ],
             [
              0.8888888888888888,
              "#fdca26"
             ],
             [
              1,
              "#f0f921"
             ]
            ],
            "type": "surface"
           }
          ],
          "table": [
           {
            "cells": {
             "fill": {
              "color": "#EBF0F8"
             },
             "line": {
              "color": "white"
             }
            },
            "header": {
             "fill": {
              "color": "#C8D4E3"
             },
             "line": {
              "color": "white"
             }
            },
            "type": "table"
           }
          ]
         },
         "layout": {
          "annotationdefaults": {
           "arrowcolor": "#2a3f5f",
           "arrowhead": 0,
           "arrowwidth": 1
          },
          "autotypenumbers": "strict",
          "coloraxis": {
           "colorbar": {
            "outlinewidth": 0,
            "ticks": ""
           }
          },
          "colorscale": {
           "diverging": [
            [
             0,
             "#8e0152"
            ],
            [
             0.1,
             "#c51b7d"
            ],
            [
             0.2,
             "#de77ae"
            ],
            [
             0.3,
             "#f1b6da"
            ],
            [
             0.4,
             "#fde0ef"
            ],
            [
             0.5,
             "#f7f7f7"
            ],
            [
             0.6,
             "#e6f5d0"
            ],
            [
             0.7,
             "#b8e186"
            ],
            [
             0.8,
             "#7fbc41"
            ],
            [
             0.9,
             "#4d9221"
            ],
            [
             1,
             "#276419"
            ]
           ],
           "sequential": [
            [
             0,
             "#0d0887"
            ],
            [
             0.1111111111111111,
             "#46039f"
            ],
            [
             0.2222222222222222,
             "#7201a8"
            ],
            [
             0.3333333333333333,
             "#9c179e"
            ],
            [
             0.4444444444444444,
             "#bd3786"
            ],
            [
             0.5555555555555556,
             "#d8576b"
            ],
            [
             0.6666666666666666,
             "#ed7953"
            ],
            [
             0.7777777777777778,
             "#fb9f3a"
            ],
            [
             0.8888888888888888,
             "#fdca26"
            ],
            [
             1,
             "#f0f921"
            ]
           ],
           "sequentialminus": [
            [
             0,
             "#0d0887"
            ],
            [
             0.1111111111111111,
             "#46039f"
            ],
            [
             0.2222222222222222,
             "#7201a8"
            ],
            [
             0.3333333333333333,
             "#9c179e"
            ],
            [
             0.4444444444444444,
             "#bd3786"
            ],
            [
             0.5555555555555556,
             "#d8576b"
            ],
            [
             0.6666666666666666,
             "#ed7953"
            ],
            [
             0.7777777777777778,
             "#fb9f3a"
            ],
            [
             0.8888888888888888,
             "#fdca26"
            ],
            [
             1,
             "#f0f921"
            ]
           ]
          },
          "colorway": [
           "#636efa",
           "#EF553B",
           "#00cc96",
           "#ab63fa",
           "#FFA15A",
           "#19d3f3",
           "#FF6692",
           "#B6E880",
           "#FF97FF",
           "#FECB52"
          ],
          "font": {
           "color": "#2a3f5f"
          },
          "geo": {
           "bgcolor": "white",
           "lakecolor": "white",
           "landcolor": "#E5ECF6",
           "showlakes": true,
           "showland": true,
           "subunitcolor": "white"
          },
          "hoverlabel": {
           "align": "left"
          },
          "hovermode": "closest",
          "mapbox": {
           "style": "light"
          },
          "paper_bgcolor": "white",
          "plot_bgcolor": "#E5ECF6",
          "polar": {
           "angularaxis": {
            "gridcolor": "white",
            "linecolor": "white",
            "ticks": ""
           },
           "bgcolor": "#E5ECF6",
           "radialaxis": {
            "gridcolor": "white",
            "linecolor": "white",
            "ticks": ""
           }
          },
          "scene": {
           "xaxis": {
            "backgroundcolor": "#E5ECF6",
            "gridcolor": "white",
            "gridwidth": 2,
            "linecolor": "white",
            "showbackground": true,
            "ticks": "",
            "zerolinecolor": "white"
           },
           "yaxis": {
            "backgroundcolor": "#E5ECF6",
            "gridcolor": "white",
            "gridwidth": 2,
            "linecolor": "white",
            "showbackground": true,
            "ticks": "",
            "zerolinecolor": "white"
           },
           "zaxis": {
            "backgroundcolor": "#E5ECF6",
            "gridcolor": "white",
            "gridwidth": 2,
            "linecolor": "white",
            "showbackground": true,
            "ticks": "",
            "zerolinecolor": "white"
           }
          },
          "shapedefaults": {
           "line": {
            "color": "#2a3f5f"
           }
          },
          "ternary": {
           "aaxis": {
            "gridcolor": "white",
            "linecolor": "white",
            "ticks": ""
           },
           "baxis": {
            "gridcolor": "white",
            "linecolor": "white",
            "ticks": ""
           },
           "bgcolor": "#E5ECF6",
           "caxis": {
            "gridcolor": "white",
            "linecolor": "white",
            "ticks": ""
           }
          },
          "title": {
           "x": 0.05
          },
          "xaxis": {
           "automargin": true,
           "gridcolor": "white",
           "linecolor": "white",
           "ticks": "",
           "title": {
            "standoff": 15
           },
           "zerolinecolor": "white",
           "zerolinewidth": 2
          },
          "yaxis": {
           "automargin": true,
           "gridcolor": "white",
           "linecolor": "white",
           "ticks": "",
           "title": {
            "standoff": 15
           },
           "zerolinecolor": "white",
           "zerolinewidth": 2
          }
         }
        }
       }
      }
     },
     "metadata": {},
     "output_type": "display_data"
    }
   ],
   "source": [
    "# Paper: \n",
    "# Basic bar plots count of events after resampling\n",
    "# Check if it follows some distribution\n",
    "\n",
    "data_resampled = resample(data_filterd, \"datetime\", \"5min\", \"count\")\n",
    "\n",
    "\n",
    "data_trimmed = data_resampled[data_resampled[\"event_type\"] > 0]\n",
    "value_counts = data_trimmed.value_counts(\"event_type\")\n",
    "\n",
    "fig = go.Figure()\n",
    "# line plot\n",
    "fig.add_trace(\n",
    "    go.Bar(\n",
    "        x=value_counts.index, \n",
    "        y=value_counts, \n",
    "        name='value_counts'))\n"
   ]
  },
  {
   "cell_type": "markdown",
   "metadata": {},
   "source": [
    "Boxplot"
   ]
  },
  {
   "cell_type": "code",
   "execution_count": 11,
   "metadata": {},
   "outputs": [
    {
     "name": "stdout",
     "output_type": "stream",
     "text": [
      "      week      time  weekday  event_type\n",
      "0       15  00:00:00        0           0\n",
      "7       15  00:15:00        0           0\n",
      "14      15  00:30:00        0           0\n",
      "21      15  00:45:00        0           0\n",
      "28      15  01:00:00        0           0\n",
      "...    ...       ...      ...         ...\n",
      "7848    26  22:45:00        0           0\n",
      "7853    26  23:00:00        0           0\n",
      "7858    26  23:15:00        0           0\n",
      "7863    26  23:30:00        0           0\n",
      "7868    26  23:45:00        0           0\n",
      "\n",
      "[1152 rows x 4 columns]\n"
     ]
    },
    {
     "data": {
      "application/vnd.plotly.v1+json": {
       "config": {
        "plotlyServerURL": "https://plot.ly"
       },
       "data": [
        {
         "alignmentgroup": "True",
         "hovertemplate": "time=%{x}<br>event_type=%{y}<extra></extra>",
         "legendgroup": "",
         "marker": {
          "color": "#636efa"
         },
         "name": "",
         "notched": false,
         "offsetgroup": "",
         "orientation": "v",
         "showlegend": false,
         "type": "box",
         "x": [
          "00:00:00",
          "00:15:00",
          "00:30:00",
          "00:45:00",
          "01:00:00",
          "01:15:00",
          "01:30:00",
          "01:45:00",
          "02:00:00",
          "02:15:00",
          "02:30:00",
          "02:45:00",
          "03:00:00",
          "03:15:00",
          "03:30:00",
          "03:45:00",
          "04:00:00",
          "04:15:00",
          "04:30:00",
          "04:45:00",
          "05:00:00",
          "05:15:00",
          "05:30:00",
          "05:45:00",
          "06:00:00",
          "06:15:00",
          "06:30:00",
          "06:45:00",
          "07:00:00",
          "07:15:00",
          "07:30:00",
          "07:45:00",
          "08:00:00",
          "08:15:00",
          "08:30:00",
          "08:45:00",
          "09:00:00",
          "09:15:00",
          "09:30:00",
          "09:45:00",
          "10:00:00",
          "10:15:00",
          "10:30:00",
          "10:45:00",
          "11:00:00",
          "11:15:00",
          "11:30:00",
          "11:45:00",
          "12:00:00",
          "12:15:00",
          "12:30:00",
          "12:45:00",
          "13:00:00",
          "13:15:00",
          "13:30:00",
          "13:45:00",
          "14:00:00",
          "14:15:00",
          "14:30:00",
          "14:45:00",
          "15:00:00",
          "15:15:00",
          "15:30:00",
          "15:45:00",
          "16:00:00",
          "16:15:00",
          "16:30:00",
          "16:45:00",
          "17:00:00",
          "17:15:00",
          "17:30:00",
          "17:45:00",
          "18:00:00",
          "18:15:00",
          "18:30:00",
          "18:45:00",
          "19:00:00",
          "19:15:00",
          "19:30:00",
          "19:45:00",
          "20:00:00",
          "20:15:00",
          "20:30:00",
          "20:45:00",
          "21:00:00",
          "21:15:00",
          "21:30:00",
          "21:45:00",
          "22:00:00",
          "22:15:00",
          "22:30:00",
          "22:45:00",
          "23:00:00",
          "23:15:00",
          "23:30:00",
          "23:45:00",
          "00:00:00",
          "00:15:00",
          "00:30:00",
          "00:45:00",
          "01:00:00",
          "01:15:00",
          "01:30:00",
          "01:45:00",
          "02:00:00",
          "02:15:00",
          "02:30:00",
          "02:45:00",
          "03:00:00",
          "03:15:00",
          "03:30:00",
          "03:45:00",
          "04:00:00",
          "04:15:00",
          "04:30:00",
          "04:45:00",
          "05:00:00",
          "05:15:00",
          "05:30:00",
          "05:45:00",
          "06:00:00",
          "06:15:00",
          "06:30:00",
          "06:45:00",
          "07:00:00",
          "07:15:00",
          "07:30:00",
          "07:45:00",
          "08:00:00",
          "08:15:00",
          "08:30:00",
          "08:45:00",
          "09:00:00",
          "09:15:00",
          "09:30:00",
          "09:45:00",
          "10:00:00",
          "10:15:00",
          "10:30:00",
          "10:45:00",
          "11:00:00",
          "11:15:00",
          "11:30:00",
          "11:45:00",
          "12:00:00",
          "12:15:00",
          "12:30:00",
          "12:45:00",
          "13:00:00",
          "13:15:00",
          "13:30:00",
          "13:45:00",
          "14:00:00",
          "14:15:00",
          "14:30:00",
          "14:45:00",
          "15:00:00",
          "15:15:00",
          "15:30:00",
          "15:45:00",
          "16:00:00",
          "16:15:00",
          "16:30:00",
          "16:45:00",
          "17:00:00",
          "17:15:00",
          "17:30:00",
          "17:45:00",
          "18:00:00",
          "18:15:00",
          "18:30:00",
          "18:45:00",
          "19:00:00",
          "19:15:00",
          "19:30:00",
          "19:45:00",
          "20:00:00",
          "20:15:00",
          "20:30:00",
          "20:45:00",
          "21:00:00",
          "21:15:00",
          "21:30:00",
          "21:45:00",
          "22:00:00",
          "22:15:00",
          "22:30:00",
          "22:45:00",
          "23:00:00",
          "23:15:00",
          "23:30:00",
          "23:45:00",
          "00:00:00",
          "00:15:00",
          "00:30:00",
          "00:45:00",
          "01:00:00",
          "01:15:00",
          "01:30:00",
          "01:45:00",
          "02:00:00",
          "02:15:00",
          "02:30:00",
          "02:45:00",
          "03:00:00",
          "03:15:00",
          "03:30:00",
          "03:45:00",
          "04:00:00",
          "04:15:00",
          "04:30:00",
          "04:45:00",
          "05:00:00",
          "05:15:00",
          "05:30:00",
          "05:45:00",
          "06:00:00",
          "06:15:00",
          "06:30:00",
          "06:45:00",
          "07:00:00",
          "07:15:00",
          "07:30:00",
          "07:45:00",
          "08:00:00",
          "08:15:00",
          "08:30:00",
          "08:45:00",
          "09:00:00",
          "09:15:00",
          "09:30:00",
          "09:45:00",
          "10:00:00",
          "10:15:00",
          "10:30:00",
          "10:45:00",
          "11:00:00",
          "11:15:00",
          "11:30:00",
          "11:45:00",
          "12:00:00",
          "12:15:00",
          "12:30:00",
          "12:45:00",
          "13:00:00",
          "13:15:00",
          "13:30:00",
          "13:45:00",
          "14:00:00",
          "14:15:00",
          "14:30:00",
          "14:45:00",
          "15:00:00",
          "15:15:00",
          "15:30:00",
          "15:45:00",
          "16:00:00",
          "16:15:00",
          "16:30:00",
          "16:45:00",
          "17:00:00",
          "17:15:00",
          "17:30:00",
          "17:45:00",
          "18:00:00",
          "18:15:00",
          "18:30:00",
          "18:45:00",
          "19:00:00",
          "19:15:00",
          "19:30:00",
          "19:45:00",
          "20:00:00",
          "20:15:00",
          "20:30:00",
          "20:45:00",
          "21:00:00",
          "21:15:00",
          "21:30:00",
          "21:45:00",
          "22:00:00",
          "22:15:00",
          "22:30:00",
          "22:45:00",
          "23:00:00",
          "23:15:00",
          "23:30:00",
          "23:45:00",
          "00:00:00",
          "00:15:00",
          "00:30:00",
          "00:45:00",
          "01:00:00",
          "01:15:00",
          "01:30:00",
          "01:45:00",
          "02:00:00",
          "02:15:00",
          "02:30:00",
          "02:45:00",
          "03:00:00",
          "03:15:00",
          "03:30:00",
          "03:45:00",
          "04:00:00",
          "04:15:00",
          "04:30:00",
          "04:45:00",
          "05:00:00",
          "05:15:00",
          "05:30:00",
          "05:45:00",
          "06:00:00",
          "06:15:00",
          "06:30:00",
          "06:45:00",
          "07:00:00",
          "07:15:00",
          "07:30:00",
          "07:45:00",
          "08:00:00",
          "08:15:00",
          "08:30:00",
          "08:45:00",
          "09:00:00",
          "09:15:00",
          "09:30:00",
          "09:45:00",
          "10:00:00",
          "10:15:00",
          "10:30:00",
          "10:45:00",
          "11:00:00",
          "11:15:00",
          "11:30:00",
          "11:45:00",
          "12:00:00",
          "12:15:00",
          "12:30:00",
          "12:45:00",
          "13:00:00",
          "13:15:00",
          "13:30:00",
          "13:45:00",
          "14:00:00",
          "14:15:00",
          "14:30:00",
          "14:45:00",
          "15:00:00",
          "15:15:00",
          "15:30:00",
          "15:45:00",
          "16:00:00",
          "16:15:00",
          "16:30:00",
          "16:45:00",
          "17:00:00",
          "17:15:00",
          "17:30:00",
          "17:45:00",
          "18:00:00",
          "18:15:00",
          "18:30:00",
          "18:45:00",
          "19:00:00",
          "19:15:00",
          "19:30:00",
          "19:45:00",
          "20:00:00",
          "20:15:00",
          "20:30:00",
          "20:45:00",
          "21:00:00",
          "21:15:00",
          "21:30:00",
          "21:45:00",
          "22:00:00",
          "22:15:00",
          "22:30:00",
          "22:45:00",
          "23:00:00",
          "23:15:00",
          "23:30:00",
          "23:45:00",
          "00:00:00",
          "00:15:00",
          "00:30:00",
          "00:45:00",
          "01:00:00",
          "01:15:00",
          "01:30:00",
          "01:45:00",
          "02:00:00",
          "02:15:00",
          "02:30:00",
          "02:45:00",
          "03:00:00",
          "03:15:00",
          "03:30:00",
          "03:45:00",
          "04:00:00",
          "04:15:00",
          "04:30:00",
          "04:45:00",
          "05:00:00",
          "05:15:00",
          "05:30:00",
          "05:45:00",
          "06:00:00",
          "06:15:00",
          "06:30:00",
          "06:45:00",
          "07:00:00",
          "07:15:00",
          "07:30:00",
          "07:45:00",
          "08:00:00",
          "08:15:00",
          "08:30:00",
          "08:45:00",
          "09:00:00",
          "09:15:00",
          "09:30:00",
          "09:45:00",
          "10:00:00",
          "10:15:00",
          "10:30:00",
          "10:45:00",
          "11:00:00",
          "11:15:00",
          "11:30:00",
          "11:45:00",
          "12:00:00",
          "12:15:00",
          "12:30:00",
          "12:45:00",
          "13:00:00",
          "13:15:00",
          "13:30:00",
          "13:45:00",
          "14:00:00",
          "14:15:00",
          "14:30:00",
          "14:45:00",
          "15:00:00",
          "15:15:00",
          "15:30:00",
          "15:45:00",
          "16:00:00",
          "16:15:00",
          "16:30:00",
          "16:45:00",
          "17:00:00",
          "17:15:00",
          "17:30:00",
          "17:45:00",
          "18:00:00",
          "18:15:00",
          "18:30:00",
          "18:45:00",
          "19:00:00",
          "19:15:00",
          "19:30:00",
          "19:45:00",
          "20:00:00",
          "20:15:00",
          "20:30:00",
          "20:45:00",
          "21:00:00",
          "21:15:00",
          "21:30:00",
          "21:45:00",
          "22:00:00",
          "22:15:00",
          "22:30:00",
          "22:45:00",
          "23:00:00",
          "23:15:00",
          "23:30:00",
          "23:45:00",
          "00:00:00",
          "00:15:00",
          "00:30:00",
          "00:45:00",
          "01:00:00",
          "01:15:00",
          "01:30:00",
          "01:45:00",
          "02:00:00",
          "02:15:00",
          "02:30:00",
          "02:45:00",
          "03:00:00",
          "03:15:00",
          "03:30:00",
          "03:45:00",
          "04:00:00",
          "04:15:00",
          "04:30:00",
          "04:45:00",
          "05:00:00",
          "05:15:00",
          "05:30:00",
          "05:45:00",
          "06:00:00",
          "06:15:00",
          "06:30:00",
          "06:45:00",
          "07:00:00",
          "07:15:00",
          "07:30:00",
          "07:45:00",
          "08:00:00",
          "08:15:00",
          "08:30:00",
          "08:45:00",
          "09:00:00",
          "09:15:00",
          "09:30:00",
          "09:45:00",
          "10:00:00",
          "10:15:00",
          "10:30:00",
          "10:45:00",
          "11:00:00",
          "11:15:00",
          "11:30:00",
          "11:45:00",
          "12:00:00",
          "12:15:00",
          "12:30:00",
          "12:45:00",
          "13:00:00",
          "13:15:00",
          "13:30:00",
          "13:45:00",
          "14:00:00",
          "14:15:00",
          "14:30:00",
          "14:45:00",
          "15:00:00",
          "15:15:00",
          "15:30:00",
          "15:45:00",
          "16:00:00",
          "16:15:00",
          "16:30:00",
          "16:45:00",
          "17:00:00",
          "17:15:00",
          "17:30:00",
          "17:45:00",
          "18:00:00",
          "18:15:00",
          "18:30:00",
          "18:45:00",
          "19:00:00",
          "19:15:00",
          "19:30:00",
          "19:45:00",
          "20:00:00",
          "20:15:00",
          "20:30:00",
          "20:45:00",
          "21:00:00",
          "21:15:00",
          "21:30:00",
          "21:45:00",
          "22:00:00",
          "22:15:00",
          "22:30:00",
          "22:45:00",
          "23:00:00",
          "23:15:00",
          "23:30:00",
          "23:45:00",
          "00:00:00",
          "00:15:00",
          "00:30:00",
          "00:45:00",
          "01:00:00",
          "01:15:00",
          "01:30:00",
          "01:45:00",
          "02:00:00",
          "02:15:00",
          "02:30:00",
          "02:45:00",
          "03:00:00",
          "03:15:00",
          "03:30:00",
          "03:45:00",
          "04:00:00",
          "04:15:00",
          "04:30:00",
          "04:45:00",
          "05:00:00",
          "05:15:00",
          "05:30:00",
          "05:45:00",
          "06:00:00",
          "06:15:00",
          "06:30:00",
          "06:45:00",
          "07:00:00",
          "07:15:00",
          "07:30:00",
          "07:45:00",
          "08:00:00",
          "08:15:00",
          "08:30:00",
          "08:45:00",
          "09:00:00",
          "09:15:00",
          "09:30:00",
          "09:45:00",
          "10:00:00",
          "10:15:00",
          "10:30:00",
          "10:45:00",
          "11:00:00",
          "11:15:00",
          "11:30:00",
          "11:45:00",
          "12:00:00",
          "12:15:00",
          "12:30:00",
          "12:45:00",
          "13:00:00",
          "13:15:00",
          "13:30:00",
          "13:45:00",
          "14:00:00",
          "14:15:00",
          "14:30:00",
          "14:45:00",
          "15:00:00",
          "15:15:00",
          "15:30:00",
          "15:45:00",
          "16:00:00",
          "16:15:00",
          "16:30:00",
          "16:45:00",
          "17:00:00",
          "17:15:00",
          "17:30:00",
          "17:45:00",
          "18:00:00",
          "18:15:00",
          "18:30:00",
          "18:45:00",
          "19:00:00",
          "19:15:00",
          "19:30:00",
          "19:45:00",
          "20:00:00",
          "20:15:00",
          "20:30:00",
          "20:45:00",
          "21:00:00",
          "21:15:00",
          "21:30:00",
          "21:45:00",
          "22:00:00",
          "22:15:00",
          "22:30:00",
          "22:45:00",
          "23:00:00",
          "23:15:00",
          "23:30:00",
          "23:45:00",
          "00:00:00",
          "00:15:00",
          "00:30:00",
          "00:45:00",
          "01:00:00",
          "01:15:00",
          "01:30:00",
          "01:45:00",
          "02:00:00",
          "02:15:00",
          "02:30:00",
          "02:45:00",
          "03:00:00",
          "03:15:00",
          "03:30:00",
          "03:45:00",
          "04:00:00",
          "04:15:00",
          "04:30:00",
          "04:45:00",
          "05:00:00",
          "05:15:00",
          "05:30:00",
          "05:45:00",
          "06:00:00",
          "06:15:00",
          "06:30:00",
          "06:45:00",
          "07:00:00",
          "07:15:00",
          "07:30:00",
          "07:45:00",
          "08:00:00",
          "08:15:00",
          "08:30:00",
          "08:45:00",
          "09:00:00",
          "09:15:00",
          "09:30:00",
          "09:45:00",
          "10:00:00",
          "10:15:00",
          "10:30:00",
          "10:45:00",
          "11:00:00",
          "11:15:00",
          "11:30:00",
          "11:45:00",
          "12:00:00",
          "12:15:00",
          "12:30:00",
          "12:45:00",
          "13:00:00",
          "13:15:00",
          "13:30:00",
          "13:45:00",
          "14:00:00",
          "14:15:00",
          "14:30:00",
          "14:45:00",
          "15:00:00",
          "15:15:00",
          "15:30:00",
          "15:45:00",
          "16:00:00",
          "16:15:00",
          "16:30:00",
          "16:45:00",
          "17:00:00",
          "17:15:00",
          "17:30:00",
          "17:45:00",
          "18:00:00",
          "18:15:00",
          "18:30:00",
          "18:45:00",
          "19:00:00",
          "19:15:00",
          "19:30:00",
          "19:45:00",
          "20:00:00",
          "20:15:00",
          "20:30:00",
          "20:45:00",
          "21:00:00",
          "21:15:00",
          "21:30:00",
          "21:45:00",
          "22:00:00",
          "22:15:00",
          "22:30:00",
          "22:45:00",
          "23:00:00",
          "23:15:00",
          "23:30:00",
          "23:45:00",
          "00:00:00",
          "00:15:00",
          "00:30:00",
          "00:45:00",
          "01:00:00",
          "01:15:00",
          "01:30:00",
          "01:45:00",
          "02:00:00",
          "02:15:00",
          "02:30:00",
          "02:45:00",
          "03:00:00",
          "03:15:00",
          "03:30:00",
          "03:45:00",
          "04:00:00",
          "04:15:00",
          "04:30:00",
          "04:45:00",
          "05:00:00",
          "05:15:00",
          "05:30:00",
          "05:45:00",
          "06:00:00",
          "06:15:00",
          "06:30:00",
          "06:45:00",
          "07:00:00",
          "07:15:00",
          "07:30:00",
          "07:45:00",
          "08:00:00",
          "08:15:00",
          "08:30:00",
          "08:45:00",
          "09:00:00",
          "09:15:00",
          "09:30:00",
          "09:45:00",
          "10:00:00",
          "10:15:00",
          "10:30:00",
          "10:45:00",
          "11:00:00",
          "11:15:00",
          "11:30:00",
          "11:45:00",
          "12:00:00",
          "12:15:00",
          "12:30:00",
          "12:45:00",
          "13:00:00",
          "13:15:00",
          "13:30:00",
          "13:45:00",
          "14:00:00",
          "14:15:00",
          "14:30:00",
          "14:45:00",
          "15:00:00",
          "15:15:00",
          "15:30:00",
          "15:45:00",
          "16:00:00",
          "16:15:00",
          "16:30:00",
          "16:45:00",
          "17:00:00",
          "17:15:00",
          "17:30:00",
          "17:45:00",
          "18:00:00",
          "18:15:00",
          "18:30:00",
          "18:45:00",
          "19:00:00",
          "19:15:00",
          "19:30:00",
          "19:45:00",
          "20:00:00",
          "20:15:00",
          "20:30:00",
          "20:45:00",
          "21:00:00",
          "21:15:00",
          "21:30:00",
          "21:45:00",
          "22:00:00",
          "22:15:00",
          "22:30:00",
          "22:45:00",
          "23:00:00",
          "23:15:00",
          "23:30:00",
          "23:45:00",
          "00:00:00",
          "00:15:00",
          "00:30:00",
          "00:45:00",
          "01:00:00",
          "01:15:00",
          "01:30:00",
          "01:45:00",
          "02:00:00",
          "02:15:00",
          "02:30:00",
          "02:45:00",
          "03:00:00",
          "03:15:00",
          "03:30:00",
          "03:45:00",
          "04:00:00",
          "04:15:00",
          "04:30:00",
          "04:45:00",
          "05:00:00",
          "05:15:00",
          "05:30:00",
          "05:45:00",
          "06:00:00",
          "06:15:00",
          "06:30:00",
          "06:45:00",
          "07:00:00",
          "07:15:00",
          "07:30:00",
          "07:45:00",
          "08:00:00",
          "08:15:00",
          "08:30:00",
          "08:45:00",
          "09:00:00",
          "09:15:00",
          "09:30:00",
          "09:45:00",
          "10:00:00",
          "10:15:00",
          "10:30:00",
          "10:45:00",
          "11:00:00",
          "11:15:00",
          "11:30:00",
          "11:45:00",
          "12:00:00",
          "12:15:00",
          "12:30:00",
          "12:45:00",
          "13:00:00",
          "13:15:00",
          "13:30:00",
          "13:45:00",
          "14:00:00",
          "14:15:00",
          "14:30:00",
          "14:45:00",
          "15:00:00",
          "15:15:00",
          "15:30:00",
          "15:45:00",
          "16:00:00",
          "16:15:00",
          "16:30:00",
          "16:45:00",
          "17:00:00",
          "17:15:00",
          "17:30:00",
          "17:45:00",
          "18:00:00",
          "18:15:00",
          "18:30:00",
          "18:45:00",
          "19:00:00",
          "19:15:00",
          "19:30:00",
          "19:45:00",
          "20:00:00",
          "20:15:00",
          "20:30:00",
          "20:45:00",
          "21:00:00",
          "21:15:00",
          "21:30:00",
          "21:45:00",
          "22:00:00",
          "22:15:00",
          "22:30:00",
          "22:45:00",
          "23:00:00",
          "23:15:00",
          "23:30:00",
          "23:45:00",
          "00:00:00",
          "00:15:00",
          "00:30:00",
          "00:45:00",
          "01:00:00",
          "01:15:00",
          "01:30:00",
          "01:45:00",
          "02:00:00",
          "02:15:00",
          "02:30:00",
          "02:45:00",
          "03:00:00",
          "03:15:00",
          "03:30:00",
          "03:45:00",
          "04:00:00",
          "04:15:00",
          "04:30:00",
          "04:45:00",
          "05:00:00",
          "05:15:00",
          "05:30:00",
          "05:45:00",
          "06:00:00",
          "06:15:00",
          "06:30:00",
          "06:45:00",
          "07:00:00",
          "07:15:00",
          "07:30:00",
          "07:45:00",
          "08:00:00",
          "08:15:00",
          "08:30:00",
          "08:45:00",
          "09:00:00",
          "09:15:00",
          "09:30:00",
          "09:45:00",
          "10:00:00",
          "10:15:00",
          "10:30:00",
          "10:45:00",
          "11:00:00",
          "11:15:00",
          "11:30:00",
          "11:45:00",
          "12:00:00",
          "12:15:00",
          "12:30:00",
          "12:45:00",
          "13:00:00",
          "13:15:00",
          "13:30:00",
          "13:45:00",
          "14:00:00",
          "14:15:00",
          "14:30:00",
          "14:45:00",
          "15:00:00",
          "15:15:00",
          "15:30:00",
          "15:45:00",
          "16:00:00",
          "16:15:00",
          "16:30:00",
          "16:45:00",
          "17:00:00",
          "17:15:00",
          "17:30:00",
          "17:45:00",
          "18:00:00",
          "18:15:00",
          "18:30:00",
          "18:45:00",
          "19:00:00",
          "19:15:00",
          "19:30:00",
          "19:45:00",
          "20:00:00",
          "20:15:00",
          "20:30:00",
          "20:45:00",
          "21:00:00",
          "21:15:00",
          "21:30:00",
          "21:45:00",
          "22:00:00",
          "22:15:00",
          "22:30:00",
          "22:45:00",
          "23:00:00",
          "23:15:00",
          "23:30:00",
          "23:45:00",
          "00:00:00",
          "00:15:00",
          "00:30:00",
          "00:45:00",
          "01:00:00",
          "01:15:00",
          "01:30:00",
          "01:45:00",
          "02:00:00",
          "02:15:00",
          "02:30:00",
          "02:45:00",
          "03:00:00",
          "03:15:00",
          "03:30:00",
          "03:45:00",
          "04:00:00",
          "04:15:00",
          "04:30:00",
          "04:45:00",
          "05:00:00",
          "05:15:00",
          "05:30:00",
          "05:45:00",
          "06:00:00",
          "06:15:00",
          "06:30:00",
          "06:45:00",
          "07:00:00",
          "07:15:00",
          "07:30:00",
          "07:45:00",
          "08:00:00",
          "08:15:00",
          "08:30:00",
          "08:45:00",
          "09:00:00",
          "09:15:00",
          "09:30:00",
          "09:45:00",
          "10:00:00",
          "10:15:00",
          "10:30:00",
          "10:45:00",
          "11:00:00",
          "11:15:00",
          "11:30:00",
          "11:45:00",
          "12:00:00",
          "12:15:00",
          "12:30:00",
          "12:45:00",
          "13:00:00",
          "13:15:00",
          "13:30:00",
          "13:45:00",
          "14:00:00",
          "14:15:00",
          "14:30:00",
          "14:45:00",
          "15:00:00",
          "15:15:00",
          "15:30:00",
          "15:45:00",
          "16:00:00",
          "16:15:00",
          "16:30:00",
          "16:45:00",
          "17:00:00",
          "17:15:00",
          "17:30:00",
          "17:45:00",
          "18:00:00",
          "18:15:00",
          "18:30:00",
          "18:45:00",
          "19:00:00",
          "19:15:00",
          "19:30:00",
          "19:45:00",
          "20:00:00",
          "20:15:00",
          "20:30:00",
          "20:45:00",
          "21:00:00",
          "21:15:00",
          "21:30:00",
          "21:45:00",
          "22:00:00",
          "22:15:00",
          "22:30:00",
          "22:45:00",
          "23:00:00",
          "23:15:00",
          "23:30:00",
          "23:45:00"
         ],
         "x0": " ",
         "xaxis": "x",
         "y": [
          0,
          0,
          0,
          0,
          0,
          0,
          0,
          0,
          0,
          0,
          0,
          0,
          0,
          0,
          0,
          0,
          0,
          0,
          0,
          0,
          0,
          0,
          0,
          0,
          0,
          0,
          4,
          0,
          0,
          1,
          4,
          0,
          0,
          0,
          0,
          0,
          0,
          0,
          0,
          0,
          0,
          0,
          0,
          0,
          0,
          0,
          3,
          50,
          14,
          2,
          2,
          0,
          1,
          5,
          22,
          9,
          0,
          0,
          2,
          0,
          2,
          30,
          0,
          0,
          0,
          1,
          0,
          3,
          4,
          0,
          0,
          0,
          0,
          0,
          0,
          0,
          0,
          0,
          0,
          0,
          0,
          0,
          0,
          0,
          0,
          0,
          0,
          0,
          0,
          0,
          0,
          0,
          0,
          0,
          0,
          0,
          0,
          0,
          0,
          0,
          0,
          0,
          0,
          0,
          0,
          0,
          0,
          0,
          0,
          0,
          0,
          0,
          0,
          0,
          0,
          0,
          0,
          0,
          0,
          0,
          3,
          0,
          0,
          0,
          0,
          0,
          0,
          0,
          0,
          0,
          0,
          0,
          0,
          0,
          0,
          0,
          0,
          0,
          0,
          0,
          0,
          0,
          5,
          38,
          9,
          1,
          3,
          0,
          1,
          0,
          22,
          3,
          0,
          0,
          0,
          2,
          1,
          24,
          4,
          0,
          0,
          0,
          0,
          2,
          7,
          0,
          0,
          0,
          0,
          0,
          0,
          0,
          0,
          0,
          0,
          0,
          1,
          0,
          0,
          0,
          0,
          0,
          0,
          0,
          0,
          0,
          0,
          0,
          0,
          0,
          0,
          0,
          0,
          0,
          0,
          0,
          0,
          0,
          0,
          0,
          0,
          0,
          0,
          0,
          0,
          0,
          0,
          0,
          0,
          0,
          0,
          0,
          0,
          0,
          0,
          0,
          0,
          0,
          0,
          7,
          0,
          1,
          0,
          0,
          0,
          0,
          0,
          0,
          0,
          0,
          0,
          0,
          0,
          0,
          0,
          0,
          0,
          0,
          3,
          45,
          12,
          2,
          0,
          0,
          1,
          1,
          19,
          4,
          0,
          0,
          0,
          0,
          8,
          24,
          10,
          0,
          1,
          1,
          1,
          1,
          14,
          0,
          0,
          0,
          0,
          0,
          0,
          0,
          0,
          0,
          0,
          0,
          0,
          0,
          0,
          0,
          0,
          0,
          0,
          0,
          0,
          0,
          0,
          0,
          0,
          0,
          0,
          0,
          0,
          0,
          0,
          0,
          0,
          0,
          0,
          0,
          0,
          0,
          0,
          0,
          0,
          0,
          0,
          0,
          0,
          0,
          0,
          0,
          0,
          0,
          0,
          0,
          8,
          0,
          0,
          0,
          0,
          0,
          0,
          0,
          0,
          0,
          0,
          0,
          0,
          0,
          0,
          0,
          0,
          0,
          0,
          0,
          0,
          0,
          3,
          44,
          16,
          4,
          3,
          0,
          1,
          4,
          19,
          5,
          0,
          0,
          0,
          0,
          5,
          16,
          3,
          1,
          3,
          3,
          0,
          0,
          7,
          1,
          0,
          0,
          0,
          0,
          0,
          0,
          0,
          0,
          0,
          0,
          0,
          0,
          0,
          0,
          0,
          0,
          0,
          0,
          0,
          0,
          0,
          0,
          0,
          0,
          0,
          0,
          0,
          0,
          0,
          0,
          0,
          0,
          0,
          0,
          0,
          0,
          0,
          0,
          0,
          0,
          0,
          0,
          0,
          0,
          0,
          0,
          0,
          0,
          0,
          0,
          3,
          0,
          0,
          0,
          0,
          0,
          0,
          0,
          1,
          7,
          0,
          1,
          0,
          1,
          0,
          3,
          3,
          1,
          1,
          3,
          0,
          0,
          0,
          0,
          0,
          0,
          0,
          0,
          0,
          2,
          15,
          0,
          0,
          0,
          1,
          0,
          3,
          17,
          1,
          0,
          3,
          1,
          1,
          0,
          5,
          3,
          0,
          0,
          0,
          0,
          0,
          1,
          0,
          0,
          0,
          0,
          0,
          0,
          0,
          0,
          0,
          0,
          0,
          0,
          0,
          0,
          0,
          0,
          0,
          0,
          0,
          0,
          0,
          0,
          0,
          0,
          0,
          0,
          0,
          0,
          0,
          0,
          0,
          0,
          0,
          0,
          0,
          0,
          0,
          0,
          0,
          0,
          0,
          0,
          0,
          0,
          5,
          0,
          0,
          0,
          0,
          0,
          0,
          0,
          0,
          0,
          1,
          0,
          1,
          1,
          0,
          0,
          0,
          0,
          0,
          0,
          0,
          0,
          2,
          28,
          17,
          2,
          1,
          2,
          2,
          0,
          21,
          3,
          0,
          0,
          1,
          1,
          4,
          14,
          9,
          0,
          0,
          0,
          2,
          0,
          0,
          0,
          0,
          0,
          1,
          0,
          0,
          10,
          1,
          0,
          0,
          0,
          0,
          0,
          0,
          0,
          0,
          0,
          0,
          0,
          0,
          0,
          0,
          0,
          0,
          0,
          0,
          0,
          0,
          0,
          0,
          0,
          0,
          0,
          0,
          0,
          0,
          0,
          0,
          0,
          0,
          0,
          0,
          0,
          0,
          0,
          0,
          0,
          0,
          0,
          0,
          0,
          0,
          0,
          0,
          0,
          0,
          0,
          0,
          0,
          0,
          0,
          0,
          0,
          0,
          0,
          0,
          0,
          0,
          0,
          0,
          0,
          0,
          0,
          0,
          0,
          0,
          0,
          0,
          0,
          0,
          0,
          0,
          0,
          0,
          0,
          0,
          0,
          0,
          0,
          0,
          0,
          0,
          0,
          0,
          0,
          0,
          0,
          0,
          0,
          0,
          0,
          0,
          0,
          0,
          0,
          0,
          0,
          0,
          0,
          0,
          0,
          0,
          0,
          0,
          0,
          0,
          0,
          0,
          0,
          0,
          0,
          0,
          0,
          0,
          0,
          0,
          0,
          0,
          0,
          0,
          0,
          0,
          0,
          0,
          0,
          0,
          0,
          0,
          0,
          0,
          0,
          0,
          0,
          0,
          0,
          0,
          0,
          3,
          0,
          0,
          0,
          0,
          0,
          0,
          0,
          0,
          0,
          0,
          0,
          0,
          0,
          0,
          1,
          0,
          0,
          0,
          0,
          0,
          0,
          8,
          26,
          11,
          2,
          0,
          0,
          0,
          2,
          13,
          5,
          0,
          0,
          0,
          0,
          0,
          20,
          2,
          0,
          1,
          0,
          0,
          0,
          5,
          0,
          0,
          0,
          0,
          0,
          0,
          0,
          0,
          0,
          0,
          1,
          0,
          0,
          0,
          0,
          0,
          0,
          0,
          0,
          0,
          0,
          0,
          0,
          0,
          0,
          0,
          0,
          0,
          0,
          0,
          0,
          0,
          0,
          0,
          0,
          0,
          0,
          0,
          0,
          0,
          0,
          0,
          0,
          0,
          0,
          0,
          0,
          0,
          0,
          0,
          0,
          1,
          0,
          0,
          0,
          0,
          0,
          0,
          0,
          0,
          0,
          0,
          0,
          0,
          0,
          0,
          0,
          0,
          0,
          0,
          0,
          0,
          0,
          2,
          30,
          8,
          0,
          0,
          0,
          2,
          0,
          9,
          6,
          0,
          0,
          1,
          0,
          0,
          15,
          2,
          0,
          0,
          0,
          0,
          0,
          4,
          0,
          0,
          0,
          0,
          0,
          0,
          0,
          0,
          0,
          1,
          0,
          0,
          0,
          0,
          0,
          0,
          0,
          0,
          0,
          0,
          0,
          0,
          0,
          0,
          0,
          0,
          0,
          0,
          0,
          0,
          0,
          0,
          0,
          0,
          0,
          0,
          0,
          0,
          0,
          0,
          0,
          0,
          0,
          0,
          0,
          0,
          0,
          0,
          0,
          0,
          0,
          5,
          0,
          0,
          0,
          0,
          0,
          0,
          0,
          0,
          0,
          0,
          0,
          0,
          0,
          0,
          0,
          0,
          0,
          0,
          0,
          0,
          0,
          2,
          29,
          4,
          6,
          0,
          0,
          0,
          0,
          12,
          5,
          0,
          0,
          0,
          0,
          1,
          9,
          8,
          1,
          0,
          0,
          0,
          2,
          3,
          1,
          0,
          0,
          4,
          1,
          0,
          0,
          0,
          0,
          0,
          0,
          1,
          0,
          0,
          0,
          0,
          0,
          0,
          0,
          0,
          0,
          0,
          0,
          0,
          0,
          0,
          0,
          0,
          0,
          0,
          0,
          0,
          0,
          0,
          0,
          0,
          0,
          0,
          0,
          0,
          0,
          0,
          0,
          0,
          0,
          0,
          0,
          0,
          0,
          0,
          0,
          2,
          0,
          0,
          0,
          0,
          0,
          0,
          0,
          0,
          0,
          0,
          0,
          0,
          0,
          0,
          0,
          0,
          0,
          0,
          0,
          0,
          0,
          3,
          22,
          8,
          2,
          0,
          0,
          2,
          0,
          1,
          0,
          0,
          0,
          0,
          2,
          1,
          16,
          0,
          0,
          0,
          0,
          0,
          0,
          8,
          3,
          0,
          0,
          0,
          0,
          0,
          0,
          0,
          0,
          0,
          0,
          0,
          0,
          0,
          0,
          0,
          0,
          0,
          0,
          0,
          0,
          0,
          0,
          0,
          1,
          0,
          0,
          0,
          0,
          0,
          0,
          0,
          0,
          0,
          0,
          0,
          0,
          0,
          0,
          0,
          0,
          0,
          0,
          0,
          0,
          0,
          0,
          0,
          0,
          0,
          0,
          3,
          2,
          0,
          1,
          0,
          0,
          0,
          0,
          0,
          0,
          0,
          0,
          0,
          0,
          0,
          0,
          0,
          0,
          0,
          0,
          0,
          1,
          0,
          0,
          0,
          0,
          0,
          2,
          5,
          19,
          30,
          4,
          0,
          3,
          0,
          0,
          0,
          0,
          0,
          0,
          0,
          0,
          0,
          0,
          5,
          0,
          0,
          0,
          0,
          0,
          0,
          0,
          0,
          0,
          0,
          0,
          1,
          0,
          0,
          0,
          0,
          0,
          0,
          0,
          0,
          0,
          0,
          0,
          0,
          0,
          0,
          0
         ],
         "y0": " ",
         "yaxis": "y"
        }
       ],
       "layout": {
        "boxmode": "group",
        "legend": {
         "tracegroupgap": 0
        },
        "margin": {
         "t": 60
        },
        "template": {
         "data": {
          "bar": [
           {
            "error_x": {
             "color": "#2a3f5f"
            },
            "error_y": {
             "color": "#2a3f5f"
            },
            "marker": {
             "line": {
              "color": "#E5ECF6",
              "width": 0.5
             },
             "pattern": {
              "fillmode": "overlay",
              "size": 10,
              "solidity": 0.2
             }
            },
            "type": "bar"
           }
          ],
          "barpolar": [
           {
            "marker": {
             "line": {
              "color": "#E5ECF6",
              "width": 0.5
             },
             "pattern": {
              "fillmode": "overlay",
              "size": 10,
              "solidity": 0.2
             }
            },
            "type": "barpolar"
           }
          ],
          "carpet": [
           {
            "aaxis": {
             "endlinecolor": "#2a3f5f",
             "gridcolor": "white",
             "linecolor": "white",
             "minorgridcolor": "white",
             "startlinecolor": "#2a3f5f"
            },
            "baxis": {
             "endlinecolor": "#2a3f5f",
             "gridcolor": "white",
             "linecolor": "white",
             "minorgridcolor": "white",
             "startlinecolor": "#2a3f5f"
            },
            "type": "carpet"
           }
          ],
          "choropleth": [
           {
            "colorbar": {
             "outlinewidth": 0,
             "ticks": ""
            },
            "type": "choropleth"
           }
          ],
          "contour": [
           {
            "colorbar": {
             "outlinewidth": 0,
             "ticks": ""
            },
            "colorscale": [
             [
              0,
              "#0d0887"
             ],
             [
              0.1111111111111111,
              "#46039f"
             ],
             [
              0.2222222222222222,
              "#7201a8"
             ],
             [
              0.3333333333333333,
              "#9c179e"
             ],
             [
              0.4444444444444444,
              "#bd3786"
             ],
             [
              0.5555555555555556,
              "#d8576b"
             ],
             [
              0.6666666666666666,
              "#ed7953"
             ],
             [
              0.7777777777777778,
              "#fb9f3a"
             ],
             [
              0.8888888888888888,
              "#fdca26"
             ],
             [
              1,
              "#f0f921"
             ]
            ],
            "type": "contour"
           }
          ],
          "contourcarpet": [
           {
            "colorbar": {
             "outlinewidth": 0,
             "ticks": ""
            },
            "type": "contourcarpet"
           }
          ],
          "heatmap": [
           {
            "colorbar": {
             "outlinewidth": 0,
             "ticks": ""
            },
            "colorscale": [
             [
              0,
              "#0d0887"
             ],
             [
              0.1111111111111111,
              "#46039f"
             ],
             [
              0.2222222222222222,
              "#7201a8"
             ],
             [
              0.3333333333333333,
              "#9c179e"
             ],
             [
              0.4444444444444444,
              "#bd3786"
             ],
             [
              0.5555555555555556,
              "#d8576b"
             ],
             [
              0.6666666666666666,
              "#ed7953"
             ],
             [
              0.7777777777777778,
              "#fb9f3a"
             ],
             [
              0.8888888888888888,
              "#fdca26"
             ],
             [
              1,
              "#f0f921"
             ]
            ],
            "type": "heatmap"
           }
          ],
          "heatmapgl": [
           {
            "colorbar": {
             "outlinewidth": 0,
             "ticks": ""
            },
            "colorscale": [
             [
              0,
              "#0d0887"
             ],
             [
              0.1111111111111111,
              "#46039f"
             ],
             [
              0.2222222222222222,
              "#7201a8"
             ],
             [
              0.3333333333333333,
              "#9c179e"
             ],
             [
              0.4444444444444444,
              "#bd3786"
             ],
             [
              0.5555555555555556,
              "#d8576b"
             ],
             [
              0.6666666666666666,
              "#ed7953"
             ],
             [
              0.7777777777777778,
              "#fb9f3a"
             ],
             [
              0.8888888888888888,
              "#fdca26"
             ],
             [
              1,
              "#f0f921"
             ]
            ],
            "type": "heatmapgl"
           }
          ],
          "histogram": [
           {
            "marker": {
             "pattern": {
              "fillmode": "overlay",
              "size": 10,
              "solidity": 0.2
             }
            },
            "type": "histogram"
           }
          ],
          "histogram2d": [
           {
            "colorbar": {
             "outlinewidth": 0,
             "ticks": ""
            },
            "colorscale": [
             [
              0,
              "#0d0887"
             ],
             [
              0.1111111111111111,
              "#46039f"
             ],
             [
              0.2222222222222222,
              "#7201a8"
             ],
             [
              0.3333333333333333,
              "#9c179e"
             ],
             [
              0.4444444444444444,
              "#bd3786"
             ],
             [
              0.5555555555555556,
              "#d8576b"
             ],
             [
              0.6666666666666666,
              "#ed7953"
             ],
             [
              0.7777777777777778,
              "#fb9f3a"
             ],
             [
              0.8888888888888888,
              "#fdca26"
             ],
             [
              1,
              "#f0f921"
             ]
            ],
            "type": "histogram2d"
           }
          ],
          "histogram2dcontour": [
           {
            "colorbar": {
             "outlinewidth": 0,
             "ticks": ""
            },
            "colorscale": [
             [
              0,
              "#0d0887"
             ],
             [
              0.1111111111111111,
              "#46039f"
             ],
             [
              0.2222222222222222,
              "#7201a8"
             ],
             [
              0.3333333333333333,
              "#9c179e"
             ],
             [
              0.4444444444444444,
              "#bd3786"
             ],
             [
              0.5555555555555556,
              "#d8576b"
             ],
             [
              0.6666666666666666,
              "#ed7953"
             ],
             [
              0.7777777777777778,
              "#fb9f3a"
             ],
             [
              0.8888888888888888,
              "#fdca26"
             ],
             [
              1,
              "#f0f921"
             ]
            ],
            "type": "histogram2dcontour"
           }
          ],
          "mesh3d": [
           {
            "colorbar": {
             "outlinewidth": 0,
             "ticks": ""
            },
            "type": "mesh3d"
           }
          ],
          "parcoords": [
           {
            "line": {
             "colorbar": {
              "outlinewidth": 0,
              "ticks": ""
             }
            },
            "type": "parcoords"
           }
          ],
          "pie": [
           {
            "automargin": true,
            "type": "pie"
           }
          ],
          "scatter": [
           {
            "fillpattern": {
             "fillmode": "overlay",
             "size": 10,
             "solidity": 0.2
            },
            "type": "scatter"
           }
          ],
          "scatter3d": [
           {
            "line": {
             "colorbar": {
              "outlinewidth": 0,
              "ticks": ""
             }
            },
            "marker": {
             "colorbar": {
              "outlinewidth": 0,
              "ticks": ""
             }
            },
            "type": "scatter3d"
           }
          ],
          "scattercarpet": [
           {
            "marker": {
             "colorbar": {
              "outlinewidth": 0,
              "ticks": ""
             }
            },
            "type": "scattercarpet"
           }
          ],
          "scattergeo": [
           {
            "marker": {
             "colorbar": {
              "outlinewidth": 0,
              "ticks": ""
             }
            },
            "type": "scattergeo"
           }
          ],
          "scattergl": [
           {
            "marker": {
             "colorbar": {
              "outlinewidth": 0,
              "ticks": ""
             }
            },
            "type": "scattergl"
           }
          ],
          "scattermapbox": [
           {
            "marker": {
             "colorbar": {
              "outlinewidth": 0,
              "ticks": ""
             }
            },
            "type": "scattermapbox"
           }
          ],
          "scatterpolar": [
           {
            "marker": {
             "colorbar": {
              "outlinewidth": 0,
              "ticks": ""
             }
            },
            "type": "scatterpolar"
           }
          ],
          "scatterpolargl": [
           {
            "marker": {
             "colorbar": {
              "outlinewidth": 0,
              "ticks": ""
             }
            },
            "type": "scatterpolargl"
           }
          ],
          "scatterternary": [
           {
            "marker": {
             "colorbar": {
              "outlinewidth": 0,
              "ticks": ""
             }
            },
            "type": "scatterternary"
           }
          ],
          "surface": [
           {
            "colorbar": {
             "outlinewidth": 0,
             "ticks": ""
            },
            "colorscale": [
             [
              0,
              "#0d0887"
             ],
             [
              0.1111111111111111,
              "#46039f"
             ],
             [
              0.2222222222222222,
              "#7201a8"
             ],
             [
              0.3333333333333333,
              "#9c179e"
             ],
             [
              0.4444444444444444,
              "#bd3786"
             ],
             [
              0.5555555555555556,
              "#d8576b"
             ],
             [
              0.6666666666666666,
              "#ed7953"
             ],
             [
              0.7777777777777778,
              "#fb9f3a"
             ],
             [
              0.8888888888888888,
              "#fdca26"
             ],
             [
              1,
              "#f0f921"
             ]
            ],
            "type": "surface"
           }
          ],
          "table": [
           {
            "cells": {
             "fill": {
              "color": "#EBF0F8"
             },
             "line": {
              "color": "white"
             }
            },
            "header": {
             "fill": {
              "color": "#C8D4E3"
             },
             "line": {
              "color": "white"
             }
            },
            "type": "table"
           }
          ]
         },
         "layout": {
          "annotationdefaults": {
           "arrowcolor": "#2a3f5f",
           "arrowhead": 0,
           "arrowwidth": 1
          },
          "autotypenumbers": "strict",
          "coloraxis": {
           "colorbar": {
            "outlinewidth": 0,
            "ticks": ""
           }
          },
          "colorscale": {
           "diverging": [
            [
             0,
             "#8e0152"
            ],
            [
             0.1,
             "#c51b7d"
            ],
            [
             0.2,
             "#de77ae"
            ],
            [
             0.3,
             "#f1b6da"
            ],
            [
             0.4,
             "#fde0ef"
            ],
            [
             0.5,
             "#f7f7f7"
            ],
            [
             0.6,
             "#e6f5d0"
            ],
            [
             0.7,
             "#b8e186"
            ],
            [
             0.8,
             "#7fbc41"
            ],
            [
             0.9,
             "#4d9221"
            ],
            [
             1,
             "#276419"
            ]
           ],
           "sequential": [
            [
             0,
             "#0d0887"
            ],
            [
             0.1111111111111111,
             "#46039f"
            ],
            [
             0.2222222222222222,
             "#7201a8"
            ],
            [
             0.3333333333333333,
             "#9c179e"
            ],
            [
             0.4444444444444444,
             "#bd3786"
            ],
            [
             0.5555555555555556,
             "#d8576b"
            ],
            [
             0.6666666666666666,
             "#ed7953"
            ],
            [
             0.7777777777777778,
             "#fb9f3a"
            ],
            [
             0.8888888888888888,
             "#fdca26"
            ],
            [
             1,
             "#f0f921"
            ]
           ],
           "sequentialminus": [
            [
             0,
             "#0d0887"
            ],
            [
             0.1111111111111111,
             "#46039f"
            ],
            [
             0.2222222222222222,
             "#7201a8"
            ],
            [
             0.3333333333333333,
             "#9c179e"
            ],
            [
             0.4444444444444444,
             "#bd3786"
            ],
            [
             0.5555555555555556,
             "#d8576b"
            ],
            [
             0.6666666666666666,
             "#ed7953"
            ],
            [
             0.7777777777777778,
             "#fb9f3a"
            ],
            [
             0.8888888888888888,
             "#fdca26"
            ],
            [
             1,
             "#f0f921"
            ]
           ]
          },
          "colorway": [
           "#636efa",
           "#EF553B",
           "#00cc96",
           "#ab63fa",
           "#FFA15A",
           "#19d3f3",
           "#FF6692",
           "#B6E880",
           "#FF97FF",
           "#FECB52"
          ],
          "font": {
           "color": "#2a3f5f"
          },
          "geo": {
           "bgcolor": "white",
           "lakecolor": "white",
           "landcolor": "#E5ECF6",
           "showlakes": true,
           "showland": true,
           "subunitcolor": "white"
          },
          "hoverlabel": {
           "align": "left"
          },
          "hovermode": "closest",
          "mapbox": {
           "style": "light"
          },
          "paper_bgcolor": "white",
          "plot_bgcolor": "#E5ECF6",
          "polar": {
           "angularaxis": {
            "gridcolor": "white",
            "linecolor": "white",
            "ticks": ""
           },
           "bgcolor": "#E5ECF6",
           "radialaxis": {
            "gridcolor": "white",
            "linecolor": "white",
            "ticks": ""
           }
          },
          "scene": {
           "xaxis": {
            "backgroundcolor": "#E5ECF6",
            "gridcolor": "white",
            "gridwidth": 2,
            "linecolor": "white",
            "showbackground": true,
            "ticks": "",
            "zerolinecolor": "white"
           },
           "yaxis": {
            "backgroundcolor": "#E5ECF6",
            "gridcolor": "white",
            "gridwidth": 2,
            "linecolor": "white",
            "showbackground": true,
            "ticks": "",
            "zerolinecolor": "white"
           },
           "zaxis": {
            "backgroundcolor": "#E5ECF6",
            "gridcolor": "white",
            "gridwidth": 2,
            "linecolor": "white",
            "showbackground": true,
            "ticks": "",
            "zerolinecolor": "white"
           }
          },
          "shapedefaults": {
           "line": {
            "color": "#2a3f5f"
           }
          },
          "ternary": {
           "aaxis": {
            "gridcolor": "white",
            "linecolor": "white",
            "ticks": ""
           },
           "baxis": {
            "gridcolor": "white",
            "linecolor": "white",
            "ticks": ""
           },
           "bgcolor": "#E5ECF6",
           "caxis": {
            "gridcolor": "white",
            "linecolor": "white",
            "ticks": ""
           }
          },
          "title": {
           "x": 0.05
          },
          "xaxis": {
           "automargin": true,
           "gridcolor": "white",
           "linecolor": "white",
           "ticks": "",
           "title": {
            "standoff": 15
           },
           "zerolinecolor": "white",
           "zerolinewidth": 2
          },
          "yaxis": {
           "automargin": true,
           "gridcolor": "white",
           "linecolor": "white",
           "ticks": "",
           "title": {
            "standoff": 15
           },
           "zerolinecolor": "white",
           "zerolinewidth": 2
          }
         }
        },
        "xaxis": {
         "anchor": "y",
         "domain": [
          0,
          1
         ],
         "title": {
          "text": "time"
         }
        },
        "yaxis": {
         "anchor": "x",
         "domain": [
          0,
          1
         ],
         "title": {
          "text": "event_type"
         }
        }
       }
      }
     },
     "metadata": {},
     "output_type": "display_data"
    }
   ],
   "source": [
    "# Boxplot plots -> Boxplot for every day and time\n",
    "# Do for different events and rooms\n",
    "data_resampled = resample(data_filterd, \"datetime\", \"15min\", \"count\")\n",
    "data_resampled = derive_time(data_resampled)\n",
    "data_resampled = derive_weekday(data_resampled)\n",
    "data_resampled = derive_week(data_resampled)\n",
    "data_resampled = data_resampled.drop(\"datetime\", axis=1)\n",
    "\n",
    "\n",
    "data_plot = data_resampled.groupby([\"week\", \"time\", \"weekday\"]).sum().reset_index()\n",
    "data_plot = data_plot[data_plot[\"weekday\"] == 0]\n",
    "\n",
    "print(data_plot)\n",
    "fig = px.box(data_plot, x=\"time\", y=\"event_type\")\n",
    "fig.show()"
   ]
  },
  {
   "cell_type": "markdown",
   "metadata": {},
   "source": [
    "More plots in the other notebook"
   ]
  },
  {
   "cell_type": "markdown",
   "metadata": {},
   "source": [
    "## 1.Patterns\n",
    "\n",
    "clustering -> different algorithms, k-means\n",
    "\n",
    "Papers tried: \n",
    "\n",
    "### 1.1 Occupancy data analytics and prediction: A case study - Xin Liang a, b, Tianzhen Hong b, *, Geoffrey Qiping Shen\n",
    "\n",
    "Distance Measures: Eucleadian, Dynamic Time Warp, Correlation Simmilarity -> compared among all different configurations\n",
    "\n",
    "Clustering Algos: K-Means, \n",
    "\n",
    "Algorithm Evaluation: Davies-Bouldin index, to find best k\n",
    "\n",
    "Insights of the paper:\n",
    "\n",
    "* High variability in the data statistical methods using some kind of mean will fail miserably!"
   ]
  },
  {
   "cell_type": "code",
   "execution_count": 15,
   "metadata": {},
   "outputs": [],
   "source": [
    "# Cross Validation\n",
    "\n",
    "KFold"
   ]
  },
  {
   "cell_type": "code",
   "execution_count": 28,
   "metadata": {},
   "outputs": [],
   "source": [
    "# split into daily samples\n",
    "data_resampled = resample(data_filterd, \"datetime\", \"15min\", \"count\")\n",
    "data_resampled = derive_day(data_resampled)\n",
    "\n",
    "samples = []\n",
    "for group in data_resampled.groupby(\"day\"):\n",
    "    #print(group[1][\"event_type\"].reset_index(drop=True))\n",
    "    samples.append(group[1][\"event_type\"].reset_index(drop=True))"
   ]
  },
  {
   "cell_type": "code",
   "execution_count": 35,
   "metadata": {},
   "outputs": [
    {
     "name": "stdout",
     "output_type": "stream",
     "text": [
      "TRAIN: [ 8  9 10 11 12 13 14 15 16 17 18 19 20 21 22 23 24 25 26 27 28 29 30 31\n",
      " 32 33 34 35 36 37 38 39 40 41 42 43 44 45 46 47 48 49 50 51 52 53 54 55\n",
      " 56 57 58 59 60 61 62 63 64 65 66 67 68 69 70 71 72 73] VALID: [0 1 2 3 4 5 6 7]\n"
     ]
    },
    {
     "ename": "TypeError",
     "evalue": "only integer scalar arrays can be converted to a scalar index",
     "output_type": "error",
     "traceback": [
      "\u001b[0;31m---------------------------------------------------------------------------\u001b[0m",
      "\u001b[0;31mTypeError\u001b[0m                                 Traceback (most recent call last)",
      "Cell \u001b[0;32mIn[35], line 7\u001b[0m\n\u001b[1;32m      5\u001b[0m \u001b[38;5;28;01mfor\u001b[39;00m train_index, valid_index \u001b[38;5;129;01min\u001b[39;00m kf\u001b[38;5;241m.\u001b[39msplit(train):\n\u001b[1;32m      6\u001b[0m     \u001b[38;5;28mprint\u001b[39m(\u001b[38;5;124m\"\u001b[39m\u001b[38;5;124mTRAIN:\u001b[39m\u001b[38;5;124m\"\u001b[39m, train_index, \u001b[38;5;124m\"\u001b[39m\u001b[38;5;124mVALID:\u001b[39m\u001b[38;5;124m\"\u001b[39m, valid_index)\n\u001b[0;32m----> 7\u001b[0m     X_train, X_valid \u001b[38;5;241m=\u001b[39m \u001b[43mtrain\u001b[49m\u001b[43m[\u001b[49m\u001b[43mtrain_index\u001b[49m\u001b[43m]\u001b[49m, train[valid_index]\n\u001b[1;32m      8\u001b[0m     \u001b[38;5;28mprint\u001b[39m(X_train)\n",
      "\u001b[0;31mTypeError\u001b[0m: only integer scalar arrays can be converted to a scalar index"
     ]
    }
   ],
   "source": [
    "train, test = train_test_split(samples, test_size=0.1, random_state=42)\n",
    "\n",
    "kf = KFold(n_splits=10)\n",
    "\n",
    "for train_index, valid_index in kf.split(train):\n",
    "    print(\"TRAIN:\", train_index, \"VALID:\", valid_index)\n",
    "    X_train, X_valid = train[train_index], train[valid_index]\n",
    "    print(X_train)\n",
    "    raise"
   ]
  },
  {
   "cell_type": "markdown",
   "metadata": {},
   "source": [
    "## 2. Train and Test split"
   ]
  },
  {
   "cell_type": "code",
   "execution_count": 6,
   "metadata": {},
   "outputs": [],
   "source": [
    "data_filterd = filter_room_id(data, 0)\n",
    "data_filterd = filter_event_type(data_filterd, 1)"
   ]
  },
  {
   "cell_type": "markdown",
   "metadata": {},
   "source": [
    "## 3. Occupancy Forecasting"
   ]
  },
  {
   "cell_type": "code",
   "execution_count": null,
   "metadata": {},
   "outputs": [],
   "source": [
    "# check out some of the papers in the review\n",
    "# start with some traditional methods"
   ]
  },
  {
   "cell_type": "code",
   "execution_count": null,
   "metadata": {},
   "outputs": [],
   "source": []
  },
  {
   "cell_type": "markdown",
   "metadata": {},
   "source": [
    "## 4. Count Forecasting\n",
    "### Try more general approach if 1. is too hard, gather literature on count forecasting"
   ]
  },
  {
   "cell_type": "markdown",
   "metadata": {},
   "source": []
  }
 ],
 "metadata": {
  "kernelspec": {
   "display_name": "webapp",
   "language": "python",
   "name": "python3"
  },
  "language_info": {
   "codemirror_mode": {
    "name": "ipython",
    "version": 3
   },
   "file_extension": ".py",
   "mimetype": "text/x-python",
   "name": "python",
   "nbconvert_exporter": "python",
   "pygments_lexer": "ipython3",
   "version": "3.12.2"
  }
 },
 "nbformat": 4,
 "nbformat_minor": 2
}
