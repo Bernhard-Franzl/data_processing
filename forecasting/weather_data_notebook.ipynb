{
 "cells": [
  {
   "cell_type": "code",
   "execution_count": 2,
   "metadata": {},
   "outputs": [],
   "source": [
    "from _dfguru import DataFrameGuru as DFG\n",
    "from _occupancy_forecasting import MasterTrainer\n",
    "from _occupancy_forecasting import load_data\n",
    "from _occupancy_forecasting import avoid_name_conflicts\n",
    "from _evaluating import ParameterSearch\n",
    "\n",
    "import torch\n",
    "from torch import nn\n",
    "from torch.utils.tensorboard import SummaryWriter\n",
    "\n",
    "import torch.multiprocessing\n",
    "torch.multiprocessing.set_sharing_strategy('file_system')\n",
    "\n",
    "import pandas as pd\n",
    "import numpy as np\n",
    "import os\n",
    "dfg = DFG()\n",
    "torch.cuda.empty_cache()\n",
    "\n",
    "\n",
    "############ Inputs ############\n",
    "#args = parse_arguments()\n",
    "#args = prompt_for_missing_arguments(args)0\n",
    "#n_run = args.n_run\n",
    "#n_param = args.n_param\n",
    "\n",
    "n_run = 10\n",
    "n_param = 0\n",
    "\n",
    "overwrite = True\n",
    "################################\n",
    "\n",
    "param_dir = \"_occupancy_forecasting/parameters/wrap_up\"\n",
    "tb_log_dir = \"_occupancy_forecasting/training_logs/wrap_up\"\n",
    "cp_log_dir = \"_occupancy_forecasting/checkpoints/wrap_up\"\n",
    "path_to_data = \"data/occupancy_forecasting\"\n",
    "\n",
    "frequency = \"5min\"\n",
    "split_by = \"time\"\n",
    "\n",
    "\n",
    "train_dict, val_dict, test_dict = load_data(\n",
    "    path_to_data_dir=path_to_data, \n",
    "    frequency=frequency, \n",
    "    split_by=split_by,\n",
    "    dfguru=dfg,\n",
    "    with_examweek=False\n",
    ")\n",
    "\n",
    "\n",
    "data = train_dict[0]\n"
   ]
  },
  {
   "cell_type": "code",
   "execution_count": 21,
   "metadata": {},
   "outputs": [],
   "source": [
    "# weather data\n",
    "weather = dfg.load_dataframe(\"data/weather\", \"measurements_10min\", dtypes=False)\n",
    "\n",
    "# most important columns: tl_max, tl_min, p_mittel, vv_mittel, ff_max, rfb_mittel, rr, so_h\n",
    "weather_columns = [\"time\", \"tl\", \"p\", \"ff\", \"ffx\", \"rf\", \"rr\", \"so\"]\n",
    "weather = weather[weather_columns]\n",
    "\n",
    "weather[\"time\"] = pd.to_datetime(weather[\"time\"], format=\"%Y-%m-%dT%H:%M+00:00\")\n",
    "\n",
    "# set time as index\n",
    "\n",
    "weather[\"ff\"] = weather[\"ff\"].fillna(method=\"ffill\")\n",
    "weather[\"ffx\"] = weather[\"ffx\"].fillna(method=\"ffill\")\n"
   ]
  },
  {
   "cell_type": "code",
   "execution_count": null,
   "metadata": {},
   "outputs": [],
   "source": [
    "# reasample to 1 min\n",
    "wather_reindexed = weather.set_index(\"time\")\n",
    "weather_resampled = wather_reindexed.resample(\"1min\").ffill()\n",
    "\n",
    "weather_resampled['rr'] /= 10\n",
    "weather_resampled['so'] /= 10\n",
    "# round to 2 decimal places\n",
    "weather_resampled = weather_resampled.round(4)\n",
    "\n",
    "\n",
    "# rename:\n",
    "weather_resampled = weather_resampled.rename(columns={\n",
    "    \"tl\": \"air_temperature\",\n",
    "    \"p\": \"air_pressure\",\n",
    "    \"ff\": \"wind_speed\",\n",
    "    \"ffx\": \"wind_speed_max\",\n",
    "    \"rf\": \"rel_humidity\",\n",
    "    \"rr\": \"precipitation\",\n",
    "    \"so\": \"sunshine_duration\"\n",
    "}).reset_index()\n"
   ]
  },
  {
   "cell_type": "code",
   "execution_count": 28,
   "metadata": {},
   "outputs": [
    {
     "data": {
      "text/plain": [
       "True"
      ]
     },
     "execution_count": 28,
     "metadata": {},
     "output_type": "execute_result"
    }
   ],
   "source": [
    "# save to csv\n",
    "dfg.save_to_csv(weather_resampled, \n",
    "                   \"\", \n",
    "                   \"weather_for_thesis\")"
   ]
  }
 ],
 "metadata": {
  "kernelspec": {
   "display_name": "webapp",
   "language": "python",
   "name": "python3"
  },
  "language_info": {
   "codemirror_mode": {
    "name": "ipython",
    "version": 3
   },
   "file_extension": ".py",
   "mimetype": "text/x-python",
   "name": "python",
   "nbconvert_exporter": "python",
   "pygments_lexer": "ipython3",
   "version": "3.12.3"
  }
 },
 "nbformat": 4,
 "nbformat_minor": 2
}
