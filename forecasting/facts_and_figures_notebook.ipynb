{
 "cells": [
  {
   "cell_type": "code",
   "execution_count": 2,
   "metadata": {},
   "outputs": [],
   "source": [
    "\n",
    "\n",
    "from _dfguru import DataFrameGuru as DFG\n",
    "from _occupancy_forecasting import MasterTrainer\n",
    "from _occupancy_forecasting import load_data\n",
    "from _occupancy_forecasting import avoid_name_conflicts\n",
    "from _evaluating import ParameterSearch\n",
    "\n",
    "import torch\n",
    "from torch import nn\n",
    "from torch.utils.tensorboard import SummaryWriter\n",
    "\n",
    "import torch.multiprocessing\n",
    "torch.multiprocessing.set_sharing_strategy('file_system')\n",
    "\n",
    "import numpy as np\n",
    "import os\n",
    "dfg = DFG()\n",
    "torch.cuda.empty_cache()\n",
    "\n",
    "\n",
    "############ Inputs ############\n",
    "#args = parse_arguments()\n",
    "#args = prompt_for_missing_arguments(args)0\n",
    "#n_run = args.n_run\n",
    "#n_param = args.n_param\n",
    "\n",
    "n_run = 10\n",
    "n_param = 0\n",
    "\n",
    "overwrite = True\n",
    "################################\n",
    "\n",
    "param_dir = \"_occupancy_forecasting/parameters/wrap_up\"\n",
    "tb_log_dir = \"_occupancy_forecasting/training_logs/wrap_up\"\n",
    "cp_log_dir = \"_occupancy_forecasting/checkpoints/wrap_up\"\n",
    "path_to_data = \"data/occupancy_forecasting\"\n",
    "\n",
    "frequency = \"5min\"\n",
    "split_by = \"time\"\n",
    "\n",
    "\n",
    "train_dict, val_dict, test_dict = load_data(\n",
    "    path_to_data_dir=path_to_data, \n",
    "    frequency=frequency, \n",
    "    split_by=split_by,\n",
    "    dfguru=dfg,\n",
    "    with_examweek=False\n",
    ")\n",
    "\n",
    "\n",
    "data = train_dict[0]\n"
   ]
  },
  {
   "cell_type": "code",
   "execution_count": 3,
   "metadata": {},
   "outputs": [],
   "source": [
    "import matplotlib.pyplot as plt\n",
    "\n",
    "import datetime\n",
    "import json\n",
    "\n",
    "\n",
    "helper_file = os.path.join(\"data/occupancy_forecasting\", \"helpers_occpred.json\")\n",
    "with open(helper_file, \"r\") as f:\n",
    "    helper = json.load(f)       \n",
    "norm_registered = helper[\"columns_to_normalize\"][\"registered\"]\n",
    "norm_temperature = helper[\"columns_to_normalize\"][\"tl\"]"
   ]
  },
  {
   "cell_type": "code",
   "execution_count": 4,
   "metadata": {},
   "outputs": [],
   "source": [
    "import plotly.express as px\n",
    "import plotly.graph_objects as go\n",
    "from plotly.subplots import make_subplots\n",
    "import plotly.io as pio\n",
    "\n",
    "from _plotting import DataPlotter"
   ]
  },
  {
   "cell_type": "markdown",
   "metadata": {},
   "source": [
    "### Plot Some Features on Slide of 17.12 Presentation"
   ]
  },
  {
   "cell_type": "code",
   "execution_count": 5,
   "metadata": {},
   "outputs": [],
   "source": [
    "# 2024-04-09 07:00:00\n",
    "start = datetime.datetime(2024, 4, 16, 7, 0, 0)\n",
    "# 2024-04-09 21:00:00\n",
    "stop = datetime.datetime(2024, 4, 16, 21, 0, 0)\n",
    "\n",
    "plot_data = dfg.filter_by_timestamp(data, \"datetime\", start, stop) \n",
    "\n",
    "plot_data[\"tl\"] = (plot_data[\"tl\"] - norm_temperature[\"min\"]) / (norm_temperature[\"max\"] - norm_temperature[\"min\"])\n",
    "plot_data[\"registered\"] = (plot_data[\"registered\"] - norm_registered[\"min\"]) / (norm_registered[\"max\"] - norm_registered[\"min\"])\n",
    "\n",
    "plotter = DataPlotter(\n",
    "    save_path=\"\",\n",
    "    dataframe_guru=dfg\n",
    ")\n",
    "\n",
    "#plotter.plot_some_features(plot_data)\n"
   ]
  },
  {
   "cell_type": "markdown",
   "metadata": {},
   "source": [
    "### Extract ranges and size of train/val/test set"
   ]
  },
  {
   "cell_type": "code",
   "execution_count": 6,
   "metadata": {},
   "outputs": [
    {
     "name": "stdout",
     "output_type": "stream",
     "text": [
      "Train Room 0: 17728 samples from 2024-04-08 00:00:00 to 2024-06-08 13:15:00\n",
      "Val Room 0: 2216 samples from 2024-06-08 13:20:00 to 2024-06-16 05:55:00\n",
      "Test Room 0: 2216 samples from 2024-06-16 06:00:00 to 2024-06-23 22:35:00\n",
      "\n",
      "Train Room 1: 17728 samples from 2024-04-08 00:00:00 to 2024-06-08 13:15:00\n",
      "Val Room 1: 2216 samples from 2024-06-08 13:20:00 to 2024-06-16 05:55:00\n",
      "Test Room 1: 2216 samples from 2024-06-16 06:00:00 to 2024-06-23 22:35:00\n",
      "\n"
     ]
    }
   ],
   "source": [
    "\n",
    "for room_id in [0,1]:\n",
    "    # print number of samples and range of datetime\n",
    "    print(f\"Train Room {room_id}: {len(train_dict[room_id])} samples from {train_dict[room_id]['datetime'].min()} to {train_dict[room_id]['datetime'].max()}\")\n",
    "    print(f\"Val Room {room_id}: {len(val_dict[room_id])} samples from {val_dict[room_id]['datetime'].min()} to {val_dict[room_id]['datetime'].max()}\")\n",
    "    print(f\"Test Room {room_id}: {len(test_dict[room_id])} samples from {test_dict[room_id]['datetime'].min()} to {test_dict[room_id]['datetime'].max()}\")\n",
    "    print()"
   ]
  },
  {
   "cell_type": "markdown",
   "metadata": {},
   "source": [
    "### Show class imbalances -> zero problem"
   ]
  },
  {
   "cell_type": "code",
   "execution_count": 7,
   "metadata": {},
   "outputs": [
    {
     "name": "stdout",
     "output_type": "stream",
     "text": [
      "Train Room 0: zero:13653 total:17728 relative:0.7701376353790613\n",
      "Val Room 0: zero:1820 total:2216 relative:0.8212996389891697\n",
      "Test Room 0: zero:1727 total:2216 relative:0.7793321299638989\n",
      "\n",
      "Train Room 1: zero:14132 total:17728 relative:0.7971570397111913\n",
      "Val Room 1: zero:1842 total:2216 relative:0.8312274368231047\n",
      "Test Room 1: zero:1868 total:2216 relative:0.8429602888086642\n",
      "\n",
      "Train: zero:27785 total:35456 relative:0.7836473375451264\n",
      "Val: zero:3662 total:4432 relative:0.8262635379061372\n",
      "Test: zero:3595 total:4432 relative:0.8111462093862816\n"
     ]
    }
   ],
   "source": [
    "# print number of timesteps with occrate = 0\n",
    "\n",
    "for room_id in [0,1]:\n",
    "    train_occrate = train_dict[room_id][\"occrate\"]\n",
    "    print(f\"Train Room {room_id}: zero:{len(train_occrate[train_occrate == 0])} total:{len(train_occrate)} relative:{len(train_occrate[train_occrate == 0]) / len(train_occrate)}\")\n",
    "    val_occrate = val_dict[room_id][\"occrate\"]\n",
    "    print(f\"Val Room {room_id}: zero:{len(val_occrate[val_occrate == 0])} total:{len(val_occrate)} relative:{len(val_occrate[val_occrate == 0]) / len(val_occrate)}\")\n",
    "    test_occrate = test_dict[room_id][\"occrate\"]\n",
    "    print(f\"Test Room {room_id}: zero:{len(test_occrate[test_occrate == 0])} total:{len(test_occrate)} relative:{len(test_occrate[test_occrate == 0]) / len(test_occrate)}\")\n",
    "    print()\n",
    "    \n",
    "    \n",
    "# sum over all rooms\n",
    "train_occrate = np.concatenate([train_dict[0][\"occrate\"], train_dict[1][\"occrate\"]])\n",
    "val_occrate = np.concatenate([val_dict[0][\"occrate\"], val_dict[1][\"occrate\"]])\n",
    "test_occrate = np.concatenate([test_dict[0][\"occrate\"], test_dict[1][\"occrate\"]])\n",
    "\n",
    "print(f\"Train: zero:{len(train_occrate[train_occrate == 0])} total:{len(train_occrate)} relative:{len(train_occrate[train_occrate == 0]) / len(train_occrate)}\")\n",
    "print(f\"Val: zero:{len(val_occrate[val_occrate == 0])} total:{len(val_occrate)} relative:{len(val_occrate[val_occrate == 0]) / len(val_occrate)}\")\n",
    "print(f\"Test: zero:{len(test_occrate[test_occrate == 0])} total:{len(test_occrate)} relative:{len(test_occrate[test_occrate == 0]) / len(test_occrate)}\")"
   ]
  },
  {
   "cell_type": "markdown",
   "metadata": {},
   "source": [
    "### Features that make sense"
   ]
  },
  {
   "cell_type": "code",
   "execution_count": 7,
   "metadata": {},
   "outputs": [
    {
     "data": {
      "text/plain": [
       "Index(['datetime', 'occrate', 'occcount', 'occcountdiff', 'occratediff',\n",
       "       'lecture', 'exam', 'maxocccount', 'offsite', 'coursenumber',\n",
       "       'registered', 'test', 'maxocccountestimate', 'maxoccrate',\n",
       "       'lecturerampbefore', 'lecturerampafter', 'tutorium', 'cancelled',\n",
       "       'ects', 'maxoccrateestimate', 'VL', 'UE', 'KS', 'Informatik', 'None_sa',\n",
       "       'Volkswirtschaftslehre', 'Chemie', 'Wirtschaftsinformatik',\n",
       "       'Maschinenbau', 'Betriebswirtschaftslehre', 'Rechtswissenschaften',\n",
       "       'Mathematik', 'Mechatronik', 'Informationselektronik',\n",
       "       'Biologische Chemie', 'Sozialwissenschaften', 'Artificial Intelligence',\n",
       "       'Kunststofftechnik', 'Statistik', 'Pädagogik', 'Medical Engineering',\n",
       "       'B1 - Bachelor 1. Jahr', 'None_level', 'B2 - Bachelor 2. Jahr',\n",
       "       'M1 - Master 1. Jahr', 'B3 - Bachelor 3. Jahr', 'D - Diplom',\n",
       "       'M2 - Master 2. Jahr', 'hod1', 'hod2', 'dow1', 'dow2', 'week1', 'week2',\n",
       "       'holiday', 'zwickltag', 'occrate1week', 'occcount1week', 'occcount1day',\n",
       "       'occrate1day', 'occcountdiff1week', 'occcountdiff1day',\n",
       "       'occratediff1week', 'occratediff1day', 'tl', 'p', 'ff', 'ffx', 'rf',\n",
       "       'rr', 'so'],\n",
       "      dtype='object')"
      ]
     },
     "execution_count": 7,
     "metadata": {},
     "output_type": "execute_result"
    }
   ],
   "source": [
    "train_dict[0].columns"
   ]
  },
  {
   "cell_type": "code",
   "execution_count": 8,
   "metadata": {},
   "outputs": [],
   "source": [
    "course_features = {\"maxocccount\", \"maxoccrate\" ,\"maxoccrateestimate\", \"maxocccountestimate\",\n",
    "                \"coursenumber\", \"exam\",  \"test\", \"tutorium\", \"cancelled\",\"offsite\", \n",
    "                \"lecture\", \"lecturerampbefore\", \"lecturerampafter\",\n",
    "                \"registered\", \"type\", \"studyarea\", \"ects\", \"level\"}\n",
    "datetime_features = {\"dow\", \"hod\", \"week\", \"holiday\", \"zwickltag\"}\n",
    "general_features = {\"occcount\", \"occrate\", \"avgocc\"}\n",
    "weather_features = {\"weather\"}\n",
    "shift_features = {\"occcount1week\", \"occrate1week\", \"occcount1day\", \"occrate1day\"}"
   ]
  },
  {
   "cell_type": "code",
   "execution_count": 9,
   "metadata": {},
   "outputs": [
    {
     "data": {
      "text/plain": [
       "Index(['datetime', 'occrate', 'occcount', 'occcountdiff', 'occratediff',\n",
       "       'lecture', 'exam', 'maxocccount', 'offsite', 'coursenumber',\n",
       "       'registered', 'test', 'maxocccountestimate', 'maxoccrate',\n",
       "       'lecturerampbefore', 'lecturerampafter', 'tutorium', 'cancelled',\n",
       "       'ects', 'maxoccrateestimate', 'VL', 'UE', 'KS', 'Informatik', 'None_sa',\n",
       "       'Volkswirtschaftslehre', 'Chemie', 'Wirtschaftsinformatik',\n",
       "       'Maschinenbau', 'Betriebswirtschaftslehre', 'Rechtswissenschaften',\n",
       "       'Mathematik', 'Mechatronik', 'Informationselektronik',\n",
       "       'Biologische Chemie', 'Sozialwissenschaften', 'Artificial Intelligence',\n",
       "       'Kunststofftechnik', 'Statistik', 'Pädagogik', 'Medical Engineering',\n",
       "       'B1 - Bachelor 1. Jahr', 'None_level', 'B2 - Bachelor 2. Jahr',\n",
       "       'M1 - Master 1. Jahr', 'B3 - Bachelor 3. Jahr', 'D - Diplom',\n",
       "       'M2 - Master 2. Jahr', 'hod1', 'hod2', 'dow1', 'dow2', 'week1', 'week2',\n",
       "       'holiday', 'zwickltag', 'occrate1week', 'occcount1week', 'occcount1day',\n",
       "       'occrate1day', 'occcountdiff1week', 'occcountdiff1day',\n",
       "       'occratediff1week', 'occratediff1day', 'tl', 'p', 'ff', 'ffx', 'rf',\n",
       "       'rr', 'so'],\n",
       "      dtype='object')"
      ]
     },
     "execution_count": 9,
     "metadata": {},
     "output_type": "execute_result"
    }
   ],
   "source": [
    "train_dict[0].columns"
   ]
  },
  {
   "cell_type": "markdown",
   "metadata": {},
   "source": [
    "#### Features Columns\n",
    "\n",
    "Essential Features:\n",
    "* Occupancy information: number of occupancts absolute or relative (divided by room capacity)\n",
    "* Time stamp: Temporal resolution of t minutes\n",
    "\n",
    "Course Features:\n",
    "* Lecture: If a lecture takes place or not\n",
    "* Date Specific Features: Exam, Test, Tutorium, Cancelled\n",
    "* Course Specific Features: Registered students, Type (VL,UE,KS), Study area, Level, Course number\n",
    "\n",
    "Time-related Features:\n",
    "* Time, Weekday, (Calendarweek)\n",
    "* Holiday, Zwickltag\n",
    "\n",
    "Weather Features:\n",
    "* Temperature, Air pressure, Precipation (sum over time interval), Wind speed, Air humidity, Sunshine duration\n",
    "\n",
    "Additional Features:\n",
    "* Average occupancy information of last k weeks"
   ]
  },
  {
   "cell_type": "markdown",
   "metadata": {},
   "source": [
    "'VL', 'UE', 'KS', \n",
    "\n",
    "Study area: Maybe try with learnable parameter\n",
    "'Informatik', 'None_sa',\n",
    "'Volkswirtschaftslehre', 'Chemie', 'Wirtschaftsinformatik',\n",
    "'Maschinenbau', 'Betriebswirtschaftslehre', 'Rechtswissenschaften',\n",
    "'Mathematik', 'Mechatronik', 'Informationselektronik',\n",
    "'Biologische Chemie', 'Sozialwissenschaften', 'Artificial Intelligence',\n",
    "'Kunststofftechnik', 'Statistik', 'Pädagogik', 'Medical Engineering',\n",
    "\n",
    "Level: Maybe try with learnable parameter\n",
    "'B1 - Bachelor 1. Jahr', 'None_level', 'B2 - Bachelor 2. Jahr',\n",
    "'M1 - Master 1. Jahr', 'B3 - Bachelor 3. Jahr', 'D - Diplom',\n",
    "'M2 - Master 2. Jahr', "
   ]
  },
  {
   "cell_type": "code",
   "execution_count": 21,
   "metadata": {},
   "outputs": [],
   "source": [
    "# General Columns\n",
    "# datetime, occupancy information (occcount, occrate=occcount/room_capacity)\n",
    "# lecture ?\n",
    "\n",
    "# Columns Concerning Specific Course Dates\n",
    "# "
   ]
  },
  {
   "cell_type": "markdown",
   "metadata": {},
   "source": [
    "### Old Stuff"
   ]
  },
  {
   "cell_type": "code",
   "execution_count": 15,
   "metadata": {},
   "outputs": [
    {
     "data": {
      "text/plain": [
       "'# 2024-04-09 07:00:00\\nstart = datetime.datetime(2024, 4, 9, 7, 0, 0)\\n# 2024-04-09 21:00:00\\nstop = datetime.datetime(2024, 4, 9, 21, 0, 0)\\n\\nplot_data = dfg.filter_by_timestamp(data, \"datetime\", start, stop) \\n\\n# 3 subplots in 3 rows\\nfig, axs = plt.subplots(3, 1, figsize=(15, 10))\\n# plot occrate\\naxs[0].plot(plot_data[\"datetime\"], plot_data[\"occrate\"], label=\"ocrate\")\\n# plot registered\\nregistered = (plot_data[\"registered\"] - norm_registered[\"min\"]) / (norm_registered[\"max\"] - norm_registered[\"min\"])\\naxs[1].plot(plot_data[\"datetime\"], registered, label=\"registered\")\\n# temperature\\ntemperature = (plot_data[\"tl\"] - norm_temperature[\"min\"]) / (norm_temperature[\"max\"] - norm_temperature[\"min\"])\\naxs[2].plot(plot_data[\"datetime\"], temperature, label=\"temperature\")\\nplt.show()'"
      ]
     },
     "execution_count": 15,
     "metadata": {},
     "output_type": "execute_result"
    }
   ],
   "source": [
    "\"\"\"# 2024-04-09 07:00:00\n",
    "start = datetime.datetime(2024, 4, 9, 7, 0, 0)\n",
    "# 2024-04-09 21:00:00\n",
    "stop = datetime.datetime(2024, 4, 9, 21, 0, 0)\n",
    "\n",
    "plot_data = dfg.filter_by_timestamp(data, \"datetime\", start, stop) \n",
    "\n",
    "# 3 subplots in 3 rows\n",
    "fig, axs = plt.subplots(3, 1, figsize=(15, 10))\n",
    "# plot occrate\n",
    "axs[0].plot(plot_data[\"datetime\"], plot_data[\"occrate\"], label=\"ocrate\")\n",
    "# plot registered\n",
    "registered = (plot_data[\"registered\"] - norm_registered[\"min\"]) / (norm_registered[\"max\"] - norm_registered[\"min\"])\n",
    "axs[1].plot(plot_data[\"datetime\"], registered, label=\"registered\")\n",
    "# temperature\n",
    "temperature = (plot_data[\"tl\"] - norm_temperature[\"min\"]) / (norm_temperature[\"max\"] - norm_temperature[\"min\"])\n",
    "axs[2].plot(plot_data[\"datetime\"], temperature, label=\"temperature\")\n",
    "plt.show()\"\"\""
   ]
  },
  {
   "cell_type": "code",
   "execution_count": 16,
   "metadata": {},
   "outputs": [],
   "source": [
    "\n",
    "#fig = make_subplots(\n",
    "#    rows=3, \n",
    "#    cols=1, \n",
    "#    subplot_titles=(\"Occupancy Rate\", \"Registered Students\", \"Temperature in Linz\")\n",
    "#    )\n",
    "#x_col = \"datetime\"\n",
    "\n",
    "## occupancy rate\n",
    "#fig.add_trace(\n",
    "#    go.Scatter(\n",
    "#        x=plot_data[x_col], \n",
    "#        y=plot_data[\"occrate\"],\n",
    "#        mode='lines', \n",
    "#        name='Occupancy Rate'\n",
    "#        ),\n",
    "#    row=1, col=1\n",
    "#    )\n",
    "## registered students\n",
    "#registered = (plot_data[\"registered\"] - norm_registered[\"min\"]) / (norm_registered[\"max\"] - norm_registered[\"min\"])\n",
    "#fig.add_trace(\n",
    "#    go.Scatter(\n",
    "#        x=plot_data[x_col], \n",
    "#        y=registered,\n",
    "#        mode='lines', \n",
    "#        name='Registered Students'\n",
    "#        ),\n",
    "#    row=2, col=1\n",
    "#    )\n",
    "\n",
    "## temperature\n",
    "#temperature = (plot_data[\"tl\"] - norm_temperature[\"min\"]) / (norm_temperature[\"max\"] - norm_temperature[\"min\"])\n",
    "#fig.add_trace(\n",
    "#    go.Scatter(\n",
    "#        x=plot_data[x_col], \n",
    "#        y=temperature,\n",
    "#        mode='lines', \n",
    "#        name='Temperature in Linz'\n",
    "#        ),\n",
    "#    row=3, col=1\n",
    "#    )\n",
    "\n",
    "## set y axis between 0 and 1\n",
    "#fig.update_yaxes(range=[-0.1, 1], row=1, col=1)\n",
    "#fig.update_yaxes(range=[-0.1, 1], row=2, col=1)\n",
    "#fig.update_yaxes(range=[-0.1, 1], row=3, col=1)\n",
    "#fig.show()"
   ]
  }
 ],
 "metadata": {
  "kernelspec": {
   "display_name": "webapp",
   "language": "python",
   "name": "python3"
  },
  "language_info": {
   "codemirror_mode": {
    "name": "ipython",
    "version": 3
   },
   "file_extension": ".py",
   "mimetype": "text/x-python",
   "name": "python",
   "nbconvert_exporter": "python",
   "pygments_lexer": "ipython3",
   "version": "3.12.7"
  }
 },
 "nbformat": 4,
 "nbformat_minor": 2
}
