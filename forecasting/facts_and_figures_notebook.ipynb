{
 "cells": [
  {
   "cell_type": "code",
   "execution_count": 5,
   "metadata": {},
   "outputs": [],
   "source": [
    "\n",
    "\n",
    "from _dfguru import DataFrameGuru as DFG\n",
    "from _occupancy_forecasting import MasterTrainer\n",
    "from _occupancy_forecasting import load_data\n",
    "from _occupancy_forecasting import avoid_name_conflicts\n",
    "from _evaluating import ParameterSearch\n",
    "\n",
    "import torch\n",
    "from torch import nn\n",
    "from torch.utils.tensorboard import SummaryWriter\n",
    "\n",
    "import torch.multiprocessing\n",
    "torch.multiprocessing.set_sharing_strategy('file_system')\n",
    "\n",
    "import numpy as np\n",
    "import os\n",
    "dfg = DFG()\n",
    "torch.cuda.empty_cache()\n",
    "\n",
    "\n",
    "############ Inputs ############\n",
    "#args = parse_arguments()\n",
    "#args = prompt_for_missing_arguments(args)0\n",
    "#n_run = args.n_run\n",
    "#n_param = args.n_param\n",
    "\n",
    "n_run = 10\n",
    "n_param = 0\n",
    "\n",
    "overwrite = True\n",
    "################################\n",
    "\n",
    "param_dir = \"_occupancy_forecasting/parameters/wrap_up\"\n",
    "tb_log_dir = \"_occupancy_forecasting/training_logs/wrap_up\"\n",
    "cp_log_dir = \"_occupancy_forecasting/checkpoints/wrap_up\"\n",
    "path_to_data = \"data/occupancy_forecasting\"\n",
    "\n",
    "frequency = \"5min\"\n",
    "split_by = \"time\"\n",
    "\n",
    "\n",
    "train_dict, val_dict, test_dict = load_data(\n",
    "    path_to_data_dir=path_to_data, \n",
    "    frequency=frequency, \n",
    "    split_by=split_by,\n",
    "    dfguru=dfg,\n",
    "    with_examweek=False\n",
    ")\n",
    "\n",
    "\n",
    "data = train_dict[0]\n"
   ]
  },
  {
   "cell_type": "code",
   "execution_count": 6,
   "metadata": {},
   "outputs": [],
   "source": [
    "import matplotlib.pyplot as plt\n",
    "\n",
    "import datetime\n",
    "import json\n",
    "\n",
    "\n",
    "helper_file = os.path.join(\"data/occupancy_forecasting\", \"helpers_occpred.json\")\n",
    "with open(helper_file, \"r\") as f:\n",
    "    helper = json.load(f)       \n",
    "norm_registered = helper[\"columns_to_normalize\"][\"registered\"]\n",
    "norm_temperature = helper[\"columns_to_normalize\"][\"tl\"]"
   ]
  },
  {
   "cell_type": "code",
   "execution_count": 7,
   "metadata": {},
   "outputs": [],
   "source": [
    "import plotly.express as px\n",
    "import plotly.graph_objects as go\n",
    "from plotly.subplots import make_subplots\n",
    "import plotly.io as pio\n",
    "\n",
    "from _plotting import DataPlotter"
   ]
  },
  {
   "cell_type": "markdown",
   "metadata": {},
   "source": [
    "### Plot Some Features on Slide of 17.12 Presentation"
   ]
  },
  {
   "cell_type": "code",
   "execution_count": 11,
   "metadata": {},
   "outputs": [],
   "source": [
    "# 2024-04-09 07:00:00\n",
    "start = datetime.datetime(2024, 4, 16, 7, 0, 0)\n",
    "# 2024-04-09 21:00:00\n",
    "stop = datetime.datetime(2024, 4, 16, 21, 0, 0)\n",
    "\n",
    "plot_data = dfg.filter_by_timestamp(data, \"datetime\", start, stop) \n",
    "\n",
    "plot_data[\"tl\"] = (plot_data[\"tl\"] - norm_temperature[\"min\"]) / (norm_temperature[\"max\"] - norm_temperature[\"min\"])\n",
    "plot_data[\"registered\"] = (plot_data[\"registered\"] - norm_registered[\"min\"]) / (norm_registered[\"max\"] - norm_registered[\"min\"])\n",
    "\n",
    "plotter = DataPlotter(\n",
    "    save_path=\"\",\n",
    "    dataframe_guru=dfg\n",
    ")\n",
    "\n",
    "#plotter.plot_some_features(plot_data)\n"
   ]
  },
  {
   "cell_type": "markdown",
   "metadata": {},
   "source": [
    "### Extract ranges and size of train/val/test set"
   ]
  },
  {
   "cell_type": "code",
   "execution_count": null,
   "metadata": {},
   "outputs": [],
   "source": []
  },
  {
   "cell_type": "markdown",
   "metadata": {},
   "source": [
    "### Show class imbalances -> zero problem"
   ]
  },
  {
   "cell_type": "code",
   "execution_count": null,
   "metadata": {},
   "outputs": [],
   "source": []
  },
  {
   "cell_type": "markdown",
   "metadata": {},
   "source": [
    "### Features that make sense"
   ]
  },
  {
   "cell_type": "code",
   "execution_count": null,
   "metadata": {},
   "outputs": [],
   "source": []
  },
  {
   "cell_type": "code",
   "execution_count": null,
   "metadata": {},
   "outputs": [],
   "source": []
  },
  {
   "cell_type": "code",
   "execution_count": 15,
   "metadata": {},
   "outputs": [
    {
     "data": {
      "text/plain": [
       "'# 2024-04-09 07:00:00\\nstart = datetime.datetime(2024, 4, 9, 7, 0, 0)\\n# 2024-04-09 21:00:00\\nstop = datetime.datetime(2024, 4, 9, 21, 0, 0)\\n\\nplot_data = dfg.filter_by_timestamp(data, \"datetime\", start, stop) \\n\\n# 3 subplots in 3 rows\\nfig, axs = plt.subplots(3, 1, figsize=(15, 10))\\n# plot occrate\\naxs[0].plot(plot_data[\"datetime\"], plot_data[\"occrate\"], label=\"ocrate\")\\n# plot registered\\nregistered = (plot_data[\"registered\"] - norm_registered[\"min\"]) / (norm_registered[\"max\"] - norm_registered[\"min\"])\\naxs[1].plot(plot_data[\"datetime\"], registered, label=\"registered\")\\n# temperature\\ntemperature = (plot_data[\"tl\"] - norm_temperature[\"min\"]) / (norm_temperature[\"max\"] - norm_temperature[\"min\"])\\naxs[2].plot(plot_data[\"datetime\"], temperature, label=\"temperature\")\\nplt.show()'"
      ]
     },
     "execution_count": 15,
     "metadata": {},
     "output_type": "execute_result"
    }
   ],
   "source": [
    "\"\"\"# 2024-04-09 07:00:00\n",
    "start = datetime.datetime(2024, 4, 9, 7, 0, 0)\n",
    "# 2024-04-09 21:00:00\n",
    "stop = datetime.datetime(2024, 4, 9, 21, 0, 0)\n",
    "\n",
    "plot_data = dfg.filter_by_timestamp(data, \"datetime\", start, stop) \n",
    "\n",
    "# 3 subplots in 3 rows\n",
    "fig, axs = plt.subplots(3, 1, figsize=(15, 10))\n",
    "# plot occrate\n",
    "axs[0].plot(plot_data[\"datetime\"], plot_data[\"occrate\"], label=\"ocrate\")\n",
    "# plot registered\n",
    "registered = (plot_data[\"registered\"] - norm_registered[\"min\"]) / (norm_registered[\"max\"] - norm_registered[\"min\"])\n",
    "axs[1].plot(plot_data[\"datetime\"], registered, label=\"registered\")\n",
    "# temperature\n",
    "temperature = (plot_data[\"tl\"] - norm_temperature[\"min\"]) / (norm_temperature[\"max\"] - norm_temperature[\"min\"])\n",
    "axs[2].plot(plot_data[\"datetime\"], temperature, label=\"temperature\")\n",
    "plt.show()\"\"\""
   ]
  },
  {
   "cell_type": "code",
   "execution_count": 16,
   "metadata": {},
   "outputs": [],
   "source": [
    "\n",
    "#fig = make_subplots(\n",
    "#    rows=3, \n",
    "#    cols=1, \n",
    "#    subplot_titles=(\"Occupancy Rate\", \"Registered Students\", \"Temperature in Linz\")\n",
    "#    )\n",
    "#x_col = \"datetime\"\n",
    "\n",
    "## occupancy rate\n",
    "#fig.add_trace(\n",
    "#    go.Scatter(\n",
    "#        x=plot_data[x_col], \n",
    "#        y=plot_data[\"occrate\"],\n",
    "#        mode='lines', \n",
    "#        name='Occupancy Rate'\n",
    "#        ),\n",
    "#    row=1, col=1\n",
    "#    )\n",
    "## registered students\n",
    "#registered = (plot_data[\"registered\"] - norm_registered[\"min\"]) / (norm_registered[\"max\"] - norm_registered[\"min\"])\n",
    "#fig.add_trace(\n",
    "#    go.Scatter(\n",
    "#        x=plot_data[x_col], \n",
    "#        y=registered,\n",
    "#        mode='lines', \n",
    "#        name='Registered Students'\n",
    "#        ),\n",
    "#    row=2, col=1\n",
    "#    )\n",
    "\n",
    "## temperature\n",
    "#temperature = (plot_data[\"tl\"] - norm_temperature[\"min\"]) / (norm_temperature[\"max\"] - norm_temperature[\"min\"])\n",
    "#fig.add_trace(\n",
    "#    go.Scatter(\n",
    "#        x=plot_data[x_col], \n",
    "#        y=temperature,\n",
    "#        mode='lines', \n",
    "#        name='Temperature in Linz'\n",
    "#        ),\n",
    "#    row=3, col=1\n",
    "#    )\n",
    "\n",
    "## set y axis between 0 and 1\n",
    "#fig.update_yaxes(range=[-0.1, 1], row=1, col=1)\n",
    "#fig.update_yaxes(range=[-0.1, 1], row=2, col=1)\n",
    "#fig.update_yaxes(range=[-0.1, 1], row=3, col=1)\n",
    "#fig.show()"
   ]
  }
 ],
 "metadata": {
  "kernelspec": {
   "display_name": "webapp",
   "language": "python",
   "name": "python3"
  },
  "language_info": {
   "codemirror_mode": {
    "name": "ipython",
    "version": 3
   },
   "file_extension": ".py",
   "mimetype": "text/x-python",
   "name": "python",
   "nbconvert_exporter": "python",
   "pygments_lexer": "ipython3",
   "version": "3.12.7"
  }
 },
 "nbformat": 4,
 "nbformat_minor": 2
}
