{
 "cells": [
  {
   "cell_type": "markdown",
   "id": "85e442cc",
   "metadata": {},
   "source": [
    "# Assignment 3: Text processing with LSTM in PyTorch\n",
    "\n",
    "*Author:* Thomas Adler\n",
    "\n",
    "*Copyright statement:* This  material,  no  matter  whether  in  printed  or  electronic  form,  may  be  used  for  personal  and non-commercial educational use only.  Any reproduction of this manuscript, no matter whether as a whole or in parts, no matter whether in printed or in electronic form, requires explicit prior acceptance of the authors.\n",
    "\n",
    "In this assignment you will a train an LSTM to generate text. To be able to feed text into (recurrent) neural networks we first have to choose a good representation. There are several options to do so ranging from simple character embeddings to more sophisticated approaches like [word embeddings](https://towardsdatascience.com/introduction-to-word-embedding-and-word2vec-652d0c2060fa) or [token embeddings](https://medium.com/@_init_/why-bert-has-3-embedding-layers-and-their-implementation-details-9c261108e28a). We will use a character embedding in this assignment. \n",
    "\n",
    "Character embeddings work as follows. First we define an alphabet, a set of characters that we want to be able to represent. To feed a character into our network we use a one-hot vector. The dimension of this vector is equal to the size of our alphabet and the \"hot\" position indicates the character we want to represent. While this is logically a decent representation (all characters have the same norm, are orthogonal to one another, etc.) it is inefficient in terms of memory because we have to store a lot of zeros. In the first layer of our network we will multiply our one-hot vector with a weight matrix, i.e. we compute the preactivation by a matrix-vector product of the form $We_i$, where $e_i$ is the $i$-th canonical basis vector. This operation corresponds to selecting the $i$-th column of $W$. So an efficient implementation is to perform a simple lookup operation in $W$. This is how embedding layers work also for word or token embeddings. They are learnable lookup tables. \n",
    "\n",
    "## Exercise 1: Encoding characters\n",
    "\n",
    "Write a class `Encoder` that implements the methods `__init__` and `__call__`. The method `__init__` takes a string as argument that serves as alphabet. The method `__call__` takes one argument. If it is a string then it should return a sequence of integers as `torch.Tensor` of shape  representing the input string. Each integer should represents a character of the alphabet. The alphabet consists of the characters matched by the regex `[a-z0-9 .!?]`. If the input text contains characters that are not in the alphabet, then `__call__` should either remove them or map them to a corresponding character that belongs to the alphabet. If the argument is a `torch.Tensor`, then the method should return a string representation of the input, i.e. it should function as decoder. "
   ]
  },
  {
   "cell_type": "code",
   "execution_count": 1,
   "id": "17f16ae5",
   "metadata": {
    "ExecuteTime": {
     "end_time": "2022-12-27T13:47:24.900847Z",
     "start_time": "2022-12-27T13:47:24.243889Z"
    },
    "scrolled": false
   },
   "outputs": [],
   "source": [
    "import re\n",
    "import torch\n",
    "\n",
    "########## YOUR SOLUTION HERE ##########\n",
    "\n",
    "class Encoder:\n",
    "    \n",
    "    def __init__(self, alphabet):\n",
    "        self.alphabet = alphabet\n",
    "        self.alphabet_dict = dict([(alphabet[i],i) for i in range(len(alphabet))])\n",
    "        regex_alphabet = \"[a-z0-9 .!?]\"\n",
    "        self.regex_pattern = re.compile(regex_alphabet)\n",
    "        \n",
    "    def __call__(self, x):\n",
    "        # encoder\n",
    "        if type(x) is str:\n",
    "            matched = self.regex_pattern.findall(x.lower())\n",
    "            integers = [self.alphabet_dict[char] for char in matched]\n",
    "            return torch.LongTensor(integers)\n",
    "        # decoder\n",
    "        elif type(x) is torch.Tensor:\n",
    "            return \"\".join([self.alphabet[idx] for idx in x])\n",
    "        # just in case\n",
    "        else:\n",
    "            raise TypeError(\"Invalid input data type!\")\n",
    "\n",
    "query = \"hello,#. I am Choral ! )\"\n",
    "alphabet_candidate = \"abcdefghijklmnopqrstuvwxyz0123456789 .!?\"\n",
    "enc = Encoder(alphabet_candidate)\n",
    "tensor = enc(query)\n"
   ]
  },
  {
   "cell_type": "markdown",
   "id": "3a819873",
   "metadata": {},
   "source": [
    "## Exercise 2: Pytorch Dataset\n",
    "\n",
    "Write a class `TextDataset` that derives from `torch.utlis.data.Dataset`. It should wrap a text file and utilize it for training with pytorch. Implement the methods `__init__`, `__len__`, `__getitem__`. The method `__init__` should take a path to a text file as string and an integer `l` specifying the length of one sample sequence. The method `__len__` takes no arguments and should return the size of the dataset, i.e. the number of sample sequences in the dataset. The method `__getitem__` should take an integer indexing a sample sequence and should return that sequence as a `torch.Tensor`. The input file can be viewed as one long sequence. The first sample sequence consists of the characters at positions `0..l-1` in the input file. The second sequence consists of the characters at positions `l..2*l-1` and so on. That is, the samples of our dataset are non-overlapping sequences. The last incomplete sequence may be dropped. "
   ]
  },
  {
   "cell_type": "code",
   "execution_count": 2,
   "id": "9df917ce",
   "metadata": {
    "ExecuteTime": {
     "end_time": "2022-12-27T13:47:25.168805Z",
     "start_time": "2022-12-27T13:47:24.902314Z"
    }
   },
   "outputs": [],
   "source": [
    "import torch\n",
    "from torch.utils.data import Dataset\n",
    "\n",
    "########## YOUR SOLUTION HERE ##########\n",
    "\n",
    "class TextDataset(Dataset):\n",
    "    \n",
    "    def __init__(self, file_path, l, as_int=False):\n",
    "        super().__init__()\n",
    "        \n",
    "        self.as_int = as_int\n",
    "        \n",
    "        # load text file\n",
    "        file = open(file_path, 'r')\n",
    "        self.content = file.read()\n",
    "        file.close()\n",
    "        \n",
    "        # generate samples\n",
    "        def make_samples(string, length):\n",
    "            return [string[i:i + length] \n",
    "                    for i in range(0, len(string), length)]\n",
    "        \n",
    "        if as_int:\n",
    "            encoded_content = enc(self.content)\n",
    "            self.samples = make_samples(encoded_content, l)\n",
    "            # drop last sample if the sequence is too short\n",
    "            if len(self.samples[-1]) != l:\n",
    "                self.samples = self.samples[:-1]\n",
    "\n",
    "        else:\n",
    "            self.samples = make_samples(self.content, l)\n",
    "            # drop last sample if the sequence is too short\n",
    "            if len(self.samples[-1]) != l:\n",
    "                self.samples = self.samples[:-1]\n",
    "                        \n",
    "    def __len__(self):\n",
    "        return len(self.samples)\n",
    "    \n",
    "    def __getitem__(self, idx:int):\n",
    "        return self.samples[idx]\n",
    "    \n",
    "\n",
    "path = \"trump_texts/trump_train.txt\"\n",
    "sample_length = 25\n",
    "dataset = TextDataset(path, sample_length, as_int=True)"
   ]
  },
  {
   "cell_type": "markdown",
   "id": "42e5724f",
   "metadata": {},
   "source": [
    "## Exercise 3: The Model\n",
    "\n",
    "Write a class `NextCharLSTM` that derives from `torch.nn.Module` and takes `alphabet_size`, the `embedding_dim`, and the `hidden_dim` as arguments. It should consist of a `torch.nn.Embedding` layer that maps the alphabet to embeddings, a `torch.nn.LSTM` that takes the embeddings as inputs and maps them to hidden states, and a `torch.nn.Linear` output layer that maps the hidden states of the LSTM back to the alphabet. Implement the methods `__init__` that sets up the module and `forward` that takes an input sequence and returns the logits (i.e. no activation function on the output layer) of the model prediction at every time step. "
   ]
  },
  {
   "cell_type": "code",
   "execution_count": 3,
   "id": "459fe907",
   "metadata": {
    "ExecuteTime": {
     "end_time": "2022-12-27T13:47:25.196991Z",
     "start_time": "2022-12-27T13:47:25.170364Z"
    },
    "scrolled": true
   },
   "outputs": [],
   "source": [
    "import torch.nn as nn\n",
    "import torch.nn.functional as F\n",
    "\n",
    "########## YOUR SOLUTION HERE ##########\n",
    "\n",
    "class NextCharLSTM(torch.nn.Module):\n",
    "    \n",
    "    def __init__(self, alphabet_size, embedding_dim, hidden_dim):\n",
    "        \n",
    "        super().__init__()\n",
    "        self.alphabet_size = alphabet_size\n",
    "        self.embedding_dim = embedding_dim\n",
    "        self.hidden_dim = hidden_dim\n",
    "        \n",
    "        # embedding\n",
    "        self.embedding = torch.nn.Embedding(alphabet_size, embedding_dim)\n",
    "        # lstm layer\n",
    "        self.lstm = torch.nn.LSTM(embedding_dim, hidden_dim, batch_first=True)\n",
    "        # linear layer\n",
    "        self.linear = torch.nn.Linear(hidden_dim, alphabet_size)\n",
    "    \n",
    "    def forward(self, sequence):\n",
    "        \n",
    "        char_embeddings = self.embedding(sequence)\n",
    "        out, _ = self.lstm(char_embeddings)\n",
    "        pred = self.linear(out)\n",
    "        \n",
    "        return pred\n",
    "    \n",
    "model = NextCharLSTM(len(enc.alphabet_dict),20,30)\n",
    "x = dataset[0]\n",
    "out = model(x[None,:])\n",
    "\n",
    "#print(out.shape)"
   ]
  },
  {
   "cell_type": "markdown",
   "id": "bd7cb10d",
   "metadata": {},
   "source": [
    "## Exercise 4: Training/Validation Epoch\n",
    "\n",
    "Write a function `epoch` that takes a `torch.utils.data.DataLoader`, a `NextCharLSTM`, and a `torch.optim.Optimizer` as arguments, where the last one might be `None`. If the optimizer is `None`, then the function should validate the model. Otherwise it should train the model for next-character prediction in the many-to-many setting. That is, given a sequence `x` of length `l`, the input sequence is `x[:l-1]` and the corresponding target sequence is `x[1:]`. The function should perform one epoch of training/validation and return the loss values of each mini batch as a numpy array. Use the cross-entropy loss function for both training and validation. "
   ]
  },
  {
   "cell_type": "code",
   "execution_count": 4,
   "id": "13f33250",
   "metadata": {
    "ExecuteTime": {
     "end_time": "2022-12-27T13:47:25.241902Z",
     "start_time": "2022-12-27T13:47:25.198351Z"
    },
    "code_folding": []
   },
   "outputs": [],
   "source": [
    "from torch.utils.data import DataLoader\n",
    "import numpy as np\n",
    "\n",
    "########## YOUR SOLUTION HERE ##########\n",
    "from torch.optim import Optimizer\n",
    "from torch.optim import Adam\n",
    "from torch.nn import CrossEntropyLoss as CEL\n",
    "\n",
    "loss_f = CEL()\n",
    "device = torch.device(\"cuda\") if torch.cuda.is_available() else torch.device(\"cpu\")\n",
    "\n",
    "def train(dataloader:DataLoader, model:NextCharLSTM, optimizer:Optimizer):\n",
    "    \n",
    "    losses = []\n",
    "    for batch in dataloader:\n",
    "\n",
    "        X = batch[:, :-1].to(device)\n",
    "        y = batch[:, 1:].to(device)\n",
    "        \n",
    "        optimizer.zero_grad()\n",
    "\n",
    "        logits = model(X)\n",
    "        \n",
    "        _,_,alphabet_size = logits.shape\n",
    "        \n",
    "        \n",
    "        l = loss_f(torch.transpose(logits.squeeze(), -1, -2),y)\n",
    "\n",
    "        l.backward()\n",
    "        optimizer.step()\n",
    "        \n",
    "        losses.append(l.cpu().detach())\n",
    "\n",
    "    return np.array(losses)\n",
    "\n",
    "def validate(dataloader:DataLoader, model:NextCharLSTM):\n",
    "    \n",
    "    with torch.no_grad():\n",
    "        losses = []\n",
    "        for batch in dataloader:\n",
    "\n",
    "            X = batch[:,:-1].to(device)\n",
    "            y = batch[:,1:].to(device)\n",
    "\n",
    "            logits = model(X)\n",
    "            #preds = F.softmax(logits, dim=-1)\n",
    "            preds = logits\n",
    "            _,_,alphabet_size = logits.shape\n",
    "\n",
    "            l = loss_f(torch.transpose(logits.squeeze(), -1, -2),y)\n",
    "            losses.append(l.cpu())\n",
    "        \n",
    "    return np.array(losses)\n",
    "\n",
    "def epoch(dataloader:DataLoader, model:NextCharLSTM, optimizer:Optimizer=None):\n",
    "    \n",
    "    if optimizer is None:\n",
    "        return validate(dataloader, model)     \n",
    "    else:\n",
    "        return train(dataloader, model, optimizer)\n",
    "        \n",
    "\n",
    "#path = \"trump_texts/trump_train.txt\"\n",
    "#sample_length = 100\n",
    "#train_dataset = TextDataset(path, sample_length, as_int=True)\n",
    "#train_loader = DataLoader(train_dataset, batch_size=256, shuffle=True)\n",
    "#model = NextCharLSTM(len(enc.alphabet_dict),8,100).to(device)\n",
    "#print(epoch(train_loader, model, Adam(model.parameters())))\n",
    "#epoch(train_loader, model)"
   ]
  },
  {
   "cell_type": "markdown",
   "id": "a3cb856c",
   "metadata": {},
   "source": [
    "## Exercise 5: Model Selection\n",
    "\n",
    "Usually, we would now train and validate our model on a grid of with different hyperparameters to see which setting performs best. However, this is pretty expensive in terms of compute so we will provide you with a setting that should work quite well. Train your model for 30 epochs using `torch.optim.Adam`. Validate your model after every epoch and persist the model that performs best on the validation set using `torch.save`. Visualize and discuss the training and validation progress. "
   ]
  },
  {
   "cell_type": "code",
   "execution_count": 5,
   "id": "8987ae83",
   "metadata": {
    "ExecuteTime": {
     "end_time": "2022-12-27T13:52:04.682293Z",
     "start_time": "2022-12-27T13:47:25.243568Z"
    }
   },
   "outputs": [
    {
     "name": "stdout",
     "output_type": "stream",
     "text": [
      "Epoch: 5\n",
      "Mean epoch training loss: 2.2947807\n",
      "Mean epoch validation loss: 2.3144143\n",
      "\n",
      "Epoch: 10\n",
      "Mean epoch training loss: 1.7970397\n",
      "Mean epoch validation loss: 1.892355\n",
      "\n",
      "Epoch: 15\n",
      "Mean epoch training loss: 1.5544711\n",
      "Mean epoch validation loss: 1.6824888\n",
      "\n",
      "Epoch: 20\n",
      "Mean epoch training loss: 1.4116397\n",
      "Mean epoch validation loss: 1.5552466\n",
      "\n",
      "Epoch: 25\n",
      "Mean epoch training loss: 1.3164766\n",
      "Mean epoch validation loss: 1.4761142\n",
      "\n",
      "Epoch: 30\n",
      "Mean epoch training loss: 1.2465684\n",
      "Mean epoch validation loss: 1.420415\n",
      "\n",
      "Epoch: 35\n",
      "Mean epoch training loss: 1.191083\n",
      "Mean epoch validation loss: 1.3848976\n",
      "\n",
      "Epoch: 40\n",
      "Mean epoch training loss: 1.1455594\n",
      "Mean epoch validation loss: 1.353829\n",
      "\n",
      "Epoch: 45\n",
      "Mean epoch training loss: 1.1058674\n",
      "Mean epoch validation loss: 1.3359687\n",
      "\n",
      "Epoch: 50\n",
      "Mean epoch training loss: 1.0692503\n",
      "Mean epoch validation loss: 1.3224021\n",
      "\n",
      "Epoch: 55\n",
      "Mean epoch training loss: 1.0350473\n",
      "Mean epoch validation loss: 1.3122798\n",
      "\n",
      "Epoch: 60\n",
      "Mean epoch training loss: 1.0042531\n",
      "Mean epoch validation loss: 1.3031589\n",
      "\n",
      "Epoch: 65\n",
      "Mean epoch training loss: 0.97055876\n",
      "Mean epoch validation loss: 1.3005666\n",
      "\n",
      "Epoch: 70\n",
      "Mean epoch training loss: 0.9398267\n",
      "Mean epoch validation loss: 1.297429\n",
      "\n",
      "Epoch: 75\n",
      "Mean epoch training loss: 0.9079752\n",
      "Mean epoch validation loss: 1.310296\n",
      "\n",
      "Epoch: 80\n",
      "Mean epoch training loss: 0.87800837\n",
      "Mean epoch validation loss: 1.3186127\n",
      "\n",
      "Epoch: 85\n",
      "Mean epoch training loss: 0.84515417\n",
      "Mean epoch validation loss: 1.3316324\n",
      "\n",
      "Epoch: 90\n",
      "Mean epoch training loss: 0.81401634\n",
      "Mean epoch validation loss: 1.3489305\n",
      "\n",
      "Epoch: 95\n",
      "Mean epoch training loss: 0.7812229\n",
      "Mean epoch validation loss: 1.3629805\n",
      "\n",
      "Epoch: 100\n",
      "Mean epoch training loss: 0.75059444\n",
      "Mean epoch validation loss: 1.3823082\n",
      "\n"
     ]
    }
   ],
   "source": [
    "import matplotlib.pyplot as plt\n",
    "\n",
    "sequence_length = 100 \n",
    "batch_size = 256 \n",
    "embedding_dim = 8 # ori=8\n",
    "hidden_dim = 512\n",
    "learning_rate = 1e-3\n",
    "\n",
    "########## YOUR SOLUTION HERE ##########\n",
    "\n",
    "torch.manual_seed(1)\n",
    "n_epochs = 100\n",
    "\n",
    "# training dataset\n",
    "path = \"trump_texts/trump_train.txt\"\n",
    "train_dataset = TextDataset(path, sequence_length, as_int=True)\n",
    "train_loader = DataLoader(train_dataset, batch_size=batch_size, shuffle=True)\n",
    "# validation dataset\n",
    "path = \"trump_texts/trump_val.txt\"\n",
    "valid_dataset = TextDataset(path, sequence_length, as_int=True)\n",
    "valid_loader = DataLoader(valid_dataset, batch_size=batch_size, shuffle=False)\n",
    "\n",
    "# initialize model and optimizer\n",
    "model = NextCharLSTM(len(enc.alphabet_dict), embedding_dim, hidden_dim).to(device)\n",
    "optimizer = Adam(model.parameters(), lr=learning_rate)\n",
    "\n",
    "# for validation\n",
    "best_loss = 10000\n",
    "best_model = model\n",
    "\n",
    "train_epoch_losses = []\n",
    "valid_epoch_losses = []\n",
    "for n in range(1, n_epochs+1):\n",
    "    \n",
    "    epoch_loss_train = np.mean(epoch(train_loader, model, optimizer))\n",
    "    epoch_loss_valid = np.mean(epoch(valid_loader, model))\n",
    "    \n",
    "    if epoch_loss_valid < best_loss:\n",
    "        best_loss = epoch_loss_valid\n",
    "        best_model = model\n",
    "        torch.save(model, 'best_model.pt')\n",
    "        \n",
    "    if n % 5 == 0:\n",
    "        print(f\"Epoch: {n}\")\n",
    "        print(\"Mean epoch training loss:\",epoch_loss_train)\n",
    "        print(\"Mean epoch validation loss:\",epoch_loss_valid)\n",
    "        print()\n",
    "    \n",
    "    train_epoch_losses.append(epoch_loss_train)\n",
    "    valid_epoch_losses.append(epoch_loss_valid)"
   ]
  },
  {
   "cell_type": "code",
   "execution_count": 6,
   "id": "e41a6a9a",
   "metadata": {
    "ExecuteTime": {
     "end_time": "2022-12-27T13:52:04.836554Z",
     "start_time": "2022-12-27T13:52:04.683988Z"
    }
   },
   "outputs": [
    {
     "data": {
      "image/png": "[encoded data removed]",
      "text/plain": [
       "<Figure size 1080x576 with 1 Axes>"
      ]
     },
     "metadata": {
      "needs_background": "light"
     },
     "output_type": "display_data"
    }
   ],
   "source": [
    "# Visualize\n",
    "plt.figure(figsize=(15,8))\n",
    "plt.plot(np.arange(1,n_epochs+1), train_epoch_losses)\n",
    "plt.plot(np.arange(1,n_epochs+1), valid_epoch_losses)\n",
    "\n",
    "plt.xlabel(\"Epoch\")\n",
    "plt.ylabel(\"Loss\")\n",
    "\n",
    "plt.legend([\"Training Loss\", \"Validation Loss\"])\n",
    "\n",
    "plt.show()\n"
   ]
  },
  {
   "cell_type": "markdown",
   "id": "62c68d0c",
   "metadata": {},
   "source": [
    "## Exercise 6: Top-$k$ Accuracy\n",
    "\n",
    "Write a function `topk_accuracy` that takes a list of integers $k$, a model, and a data loader and returns the top-$k$ accuracy of the model on the given data set for each $k$. A sample is considered to be classified correctly if the true label appears in the top-$k$ classes predicted by the model. Then load the best model from the previous exercise using `torch.load` and plot its top-$k$ accuracy as a function of $k$ for all possible values of $k$. Discuss the results. "
   ]
  },
  {
   "cell_type": "code",
   "execution_count": 7,
   "id": "fe1f70cf",
   "metadata": {
    "ExecuteTime": {
     "end_time": "2022-12-27T13:52:05.361001Z",
     "start_time": "2022-12-27T13:52:04.837843Z"
    }
   },
   "outputs": [],
   "source": [
    "########## YOUR SOLUTION HERE ##########\n",
    "\n",
    "def topk_accuracy(k_list, model, dataloader, only_last=True):\n",
    "        \n",
    "    with torch.no_grad():\n",
    "        \n",
    "        probs = []\n",
    "        for batch in dataloader:\n",
    "\n",
    "            X = batch[:,:-1].to(device)\n",
    "            y = batch[:,1:].to(device)\n",
    "\n",
    "            logits = model(X)\n",
    "\n",
    "            _,_,alphabet_size = logits.shape\n",
    "            \n",
    "            top_k_logits, top_k_indices = torch.topk(logits, np.max(k_list), dim=-1)\n",
    "            #print(top_k_indices)\n",
    "            for k in k_list:\n",
    "                \n",
    "                N = 0\n",
    "                C = 0\n",
    "                for b in range(len(y)):\n",
    "                    C += torch.sum(top_k_indices[b,:,:k].T == y[b])\n",
    "                    N += len(y[b])\n",
    "                probs.append((C/N).cpu())\n",
    "                \n",
    "    return probs\n",
    "\n",
    "best_model = torch.load(\"best_model.pt\")\n",
    "\n",
    "path = \"trump_texts/trump_val.txt\"\n",
    "test_dataset = TextDataset(path, sequence_length, as_int=True)\n",
    "test_loader = DataLoader(test_dataset, batch_size=batch_size, shuffle=False)\n",
    "\n",
    "k_list = list(range(2,40+1))\n",
    "\n",
    "probs = topk_accuracy(k_list, best_model, test_loader)"
   ]
  },
  {
   "cell_type": "code",
   "execution_count": 8,
   "id": "b0923ed4",
   "metadata": {
    "ExecuteTime": {
     "end_time": "2022-12-27T13:52:05.489002Z",
     "start_time": "2022-12-27T13:52:05.363129Z"
    }
   },
   "outputs": [
    {
     "data": {
      "image/png": "[encoded data removed]",
      "text/plain": [
       "<Figure size 1080x576 with 1 Axes>"
      ]
     },
     "metadata": {
      "needs_background": "light"
     },
     "output_type": "display_data"
    }
   ],
   "source": [
    "plt.figure(figsize=(15,8))\n",
    "plt.plot(k_list, probs)\n",
    "plt.ylabel(\"accuracy\")\n",
    "plt.xlabel(\"k\")\n",
    "plt.show()"
   ]
  },
  {
   "cell_type": "markdown",
   "id": "04961062",
   "metadata": {},
   "source": [
    "## Exercise 7: Gumbel-Max Character Sampling\n",
    "\n",
    "In this exercise we utilize the trained network to generate novel text. To do this, take some string of seed text, which you can choose freely, and feed it to the network. For each subsequent character, the model outputs logits $z = (z_1, \\dots, z_K)^\\top$, where $K$ is the alphabet size. \n",
    "\n",
    "Use the Gumbel-Max trick to sample from the categorical distribution parameterized by \n",
    "$$\n",
    "\\pi_k = \\frac{e^{z_k / \\tau}}{\\sum_{j=1}^K e^{z_j / \\tau}} \\quad \\text{where} \\quad \\tau > 0 \n",
    "$$\n",
    "is the temperature. For $\\tau \\to 0$ we approach the one-hot distribution, whereas for $\\tau \\to \\infty$ we approach the uniform distribution. The Gumbel-Max trick says that the random variable \n",
    "$$\n",
    "Y = \\arg \\max_{k \\in 1, \\dots, K} (z_k / \\tau + \\xi_k) \n",
    "$$\n",
    "follows a categorical distribution parameterized by $\\pi_1, \\dots, \\pi_K$, where $\\xi_k$ is drawn independently from the standard Gumbel distribution.\n",
    "\n",
    "Implement next-character sampling using the Gumbel-Max trick. Try out different values of $\\tau$ and see which work best. "
   ]
  },
  {
   "cell_type": "code",
   "execution_count": 9,
   "id": "1a92f049",
   "metadata": {
    "ExecuteTime": {
     "end_time": "2022-12-27T13:52:11.270870Z",
     "start_time": "2022-12-27T13:52:05.490268Z"
    }
   },
   "outputs": [
    {
     "name": "stdout",
     "output_type": "stream",
     "text": [
      "0.0001\n",
      "Thank you all for supporting me! Together we can make Ameri|ca.we had a big groups go in in.ane i year it righ\n",
      "\n",
      "0.01\n",
      "Thank you all for supporting me! Together we can make Ameri|ca great again what she doesnt win with our eriopl\n",
      "\n",
      "0.1\n",
      "Thank you all for supporting me! Together we can make Ameri|ca great again this is what you do? what were out \n",
      "\n",
      "0.25\n",
      "Thank you all for supporting me! Together we can make Ameri|ca great.and lasten hearity to invbyint to dam and\n",
      "\n",
      "0.5\n",
      "Thank you all for supporting me! Together we can make Ameri|ca great agroment of hostoups outs daslity one for\n",
      "\n",
      "0.75\n",
      "Thank you all for supporting me! Together we can make Ameri|ca safe. but we could not dep were talking abeit d\n",
      "\n",
      "1\n",
      "Thank you all for supporting me! Together we can make Ameri|cas watted with speech zerw will be sive friend pe\n",
      "\n",
      "2\n",
      "Thank you all for supporting me! Together we can make Ameri|ca nvendu afrued tysug todoy on a vectrnmphouifany\n",
      "\n",
      "5\n",
      "Thank you all for supporting me! Together we can make Ameri|n!c1g8yr e9e4bvpyh?6el8abla y0uadd0 tri7usemqjyd0d\n",
      "\n",
      "25\n",
      "Thank you all for supporting me! Together we can make Ameri|ktyo 7iirwifd9unaendk4ntyj1lt0c!5klnzegkrebf1 32 !\n",
      "\n",
      "150\n",
      "Thank you all for supporting me! Together we can make Ameri| dfiir!ywm !1fr3i12?n.nxz9norw6z0t5px!yv55!zo3c4hd\n",
      "\n"
     ]
    }
   ],
   "source": [
    "########## YOUR SOLUTION HERE ##########\n",
    "best_model = torch.load(\"best_model.pt\").cpu()\n",
    "\n",
    "integers = np.arange(40)\n",
    "\n",
    "for tau in [0.0001,0.01, 0.1, 0.25, 0.5 ,0.75, 1, 2, 5, 25, 150]:\n",
    "    print(tau)\n",
    "    seed_text = \"Thank you all for supporting me! Together we can make Ameri\"\n",
    "    init_seed = seed_text\n",
    "    addition = \"\"\n",
    "    for i in range(50):\n",
    "        seed_ints = enc(seed_text)[None,:]\n",
    "\n",
    "        out = best_model(seed_ints)[-1]\n",
    "\n",
    "        gumbel = F.gumbel_softmax(out, tau=tau)[-1]\n",
    "\n",
    "        sampled_next_int = np.random.choice(integers, p=gumbel.detach().numpy())\n",
    "        next_char = alphabet_candidate[int(sampled_next_int)]\n",
    "        seed_text += next_char\n",
    "        addition += next_char\n",
    "    \n",
    "    print(\"\".join([init_seed,\"|\", addition]))\n",
    "    print()"
   ]
  },
  {
   "cell_type": "markdown",
   "id": "f0efc114",
   "metadata": {},
   "source": [
    "## Exercise 8: Huffman Coding using LSTM\n",
    "\n",
    "*Thanks to Philipp Renz who had this idea.*\n",
    "\n",
    "The Huffman code is an algorithm to compress data. It encodes symbols with different lengths depending on their frequencies. It assigns a short code to frequent symbols and a longer code to rare symbols to minimize the average code length. We provide you with an implementation that given a list of frequencies `freqs` returns a list of their respective binary codes as strings in the same order. In fact, `freqs` may contain any real numbers. \n",
    "\n",
    "With a model that predicts the next symbol we can achieve even shorter codes. At every time step we can use the predicted probabilities as frequencies for the Huffman code. That is, we use a new code at every time step. This code is governed by the model's belief what the next symbol will be. If the model predictions are good, we will mostly use very short codes.\n",
    "\n",
    "First, determine the average code length per symbol on the validation set using frequencies determined on the training set. \n",
    "Then, use the prediction probabilities of your trained LSTM and determine the average code length per symbol on the validation set using an adaptable code. Add a temperature to the softmax and tune it. How many bits per symbol can you save by using the LSTM and what is the optimal temperature? "
   ]
  },
  {
   "cell_type": "code",
   "execution_count": 10,
   "id": "57e483c8",
   "metadata": {
    "ExecuteTime": {
     "end_time": "2022-12-27T13:52:11.493788Z",
     "start_time": "2022-12-27T13:52:11.272556Z"
    }
   },
   "outputs": [
    {
     "name": "stdout",
     "output_type": "stream",
     "text": [
      "Mean validation code length with values determined on training set: 4.222500323652526\n"
     ]
    }
   ],
   "source": [
    "from heapq import heapify, heappop, heappush\n",
    "\n",
    "def huffman_code(freqs):\n",
    "    \"\"\"This function turns a list of frequencies into a Huffman code. \"\"\"\n",
    "    heap = list(zip(freqs, [(i,) for i in range(len(freqs))]))\n",
    "    heapify(heap)\n",
    "    code = [''] * len(freqs)\n",
    "    \n",
    "    while len(heap) > 1:\n",
    "        freq0, idx0 = heappop(heap)\n",
    "        freq1, idx1 = heappop(heap)\n",
    "        heappush(heap, (freq0 + freq1, idx0 + idx1))\n",
    "        \n",
    "        for i in idx0:\n",
    "            code[i] = '0' + code[i]\n",
    "        \n",
    "        for i in idx1:\n",
    "            code[i] = '1' + code[i]\n",
    "    \n",
    "    return code\n",
    "\n",
    "########## YOUR SOLUTION HERE ##########\n",
    "\n",
    "# load training text file\n",
    "train_path = \"trump_texts/trump_train.txt\"\n",
    "train_file = open(train_path, 'r')\n",
    "train_text = train_file.read()\n",
    "train_file.close()\n",
    "\n",
    "# load validation text file\n",
    "val_path = \"trump_texts/trump_val.txt\"\n",
    "val_file = open(val_path, 'r')\n",
    "val_text = val_file.read()\n",
    "val_file.close()\n",
    "\n",
    "train_frequencies = torch.bincount(enc(train_text))\n",
    "train_huffman = huffman_code(train_frequencies)\n",
    "train_huffman_dict = dict(zip(integers,train_huffman))\n",
    "\n",
    "val_mean_length = np.mean([len(train_huffman_dict[int(idx)]) for idx in enc(val_text)])\n",
    "print(f\"Mean validation code length with values determined on training set:\", val_mean_length)"
   ]
  },
  {
   "cell_type": "code",
   "execution_count": 11,
   "id": "62211664",
   "metadata": {
    "ExecuteTime": {
     "end_time": "2022-12-27T13:52:13.706864Z",
     "start_time": "2022-12-27T13:52:11.494996Z"
    }
   },
   "outputs": [],
   "source": [
    "model = torch.load(\"best_model.pt\").cpu()\n",
    "val_tensor = enc(val_text)\n",
    "out = model(val_tensor[None,:])[:,:5000]"
   ]
  },
  {
   "cell_type": "code",
   "execution_count": 12,
   "id": "65321378",
   "metadata": {
    "ExecuteTime": {
     "end_time": "2022-12-27T13:54:16.681572Z",
     "start_time": "2022-12-27T13:52:13.708010Z"
    }
   },
   "outputs": [
    {
     "name": "stdout",
     "output_type": "stream",
     "text": [
      "Tau:0.0001 -> avg code length:11.7838\n",
      "Tau:0.01 -> avg code length:9.163\n",
      "Tau:0.1 -> avg code length:3.0138\n",
      "Tau:0.25 -> avg code length:2.8856\n",
      "Tau:0.5 -> avg code length:2.6218\n",
      "Tau:0.75 -> avg code length:2.4532\n",
      "Tau:1 -> avg code length:2.3592\n",
      "Tau:2 -> avg code length:2.396\n",
      "Tau:5 -> avg code length:3.4616\n",
      "Tau:25 -> avg code length:4.9942\n",
      "Tau:150 -> avg code length:5.0038\n"
     ]
    }
   ],
   "source": [
    "for tau in [0.0001,0.01, 0.1, 0.25, 0.5 ,0.75, 1, 2, 5, 25, 150]:\n",
    "    code_lengths = []\n",
    "    for i in range(out.shape[1]):\n",
    "        logits = out[:,i]\n",
    "        preds = F.softmax(logits/tau, dim=-1)[0]\n",
    "        code = huffman_code(preds)\n",
    "\n",
    "        next_char = val_tensor[i+1].int()\n",
    "\n",
    "        code_lengths.append(len(code[next_char]))\n",
    "    print(f\"Tau:{tau} -> avg code length:{np.mean(code_lengths)}\")"
   ]
  },
  {
   "cell_type": "markdown",
   "id": "95eca77d",
   "metadata": {},
   "source": [
    "We can save approx. 1.9 bits per symbol if we use tau=1!!"
   ]
  },
  {
   "cell_type": "code",
   "execution_count": null,
   "id": "636c1927",
   "metadata": {},
   "outputs": [],
   "source": []
  }
 ],
 "metadata": {
  "kernelspec": {
   "display_name": "Python 3 (ipykernel)",
   "language": "python",
   "name": "python3"
  },
  "language_info": {
   "codemirror_mode": {
    "name": "ipython",
    "version": 3
   },
   "file_extension": ".py",
   "mimetype": "text/x-python",
   "name": "python",
   "nbconvert_exporter": "python",
   "pygments_lexer": "ipython3",
   "version": "3.9.7"
  },
  "toc": {
   "base_numbering": 1,
   "nav_menu": {},
   "number_sections": true,
   "sideBar": true,
   "skip_h1_title": false,
   "title_cell": "Table of Contents",
   "title_sidebar": "Contents",
   "toc_cell": false,
   "toc_position": {},
   "toc_section_display": true,
   "toc_window_display": false
  }
 },
 "nbformat": 4,
 "nbformat_minor": 5
}
