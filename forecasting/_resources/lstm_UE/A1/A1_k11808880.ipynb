{
 "cells": [
  {
   "cell_type": "markdown",
   "metadata": {},
   "source": [
    "# Assignment 1: Introduction to the Fully Recurrent Network\n",
    "\n",
    "*Author:* Thomas Adler\n",
    "\n",
    "*Copyright statement:* This  material,  no  matter  whether  in  printed  or  electronic  form,  may  be  used  for  personal  and non-commercial educational use only.  Any reproduction of this manuscript, no matter whether as a whole or in parts, no matter whether in printed or in electronic form, requires explicit prior acceptance of the authors.\n",
    "\n",
    "\n",
    "## Exercise 1: Numerical stability of the binary cross-entropy loss function\n",
    "\n",
    "We will use the binary cross-entropy loss function to train our RNN, which is defined as \n",
    "$$\n",
    "L_{\\text{BCE}}(\\hat y, y) = -y \\log \\hat y - (1-y) \\log (1-\\hat y),\n",
    "$$\n",
    "where $y$ is the label and $\\hat y$ is a prediction, which comes from a model (e.g. an RNN) and is usually sigmoid-activated, i.e., we have\n",
    "$$\n",
    "\\hat y = \\sigma(z) = \\frac{1}{1+e^{-z}}.\n",
    "$$\n",
    "The argument $z$ is called *logit*. For reasons of numerical stability it is better to let the model emit the logit $z$ (instead of the prediction $\\hat y$) and incorporate the sigmoid activation into the loss function. Explain why this is the case and how we can gain numerical stability by combining the two functions $L_{\\text{BCE}}(\\hat y, y)$ and $\\sigma(z)$ into one function $L(z, y) = L_{\\text{BCE}}(\\sigma(z), y)$. \n",
    "\n",
    "*Hint: Prove that $\\log(1+e^{z}) = \\log (1+e^{-|z|}) + \\max(0, z)$ and argue why the right-hand side is numerically more stable. Finally, express $L(z,y)$ in terms of that form.*"
   ]
  },
  {
   "cell_type": "markdown",
   "metadata": {},
   "source": [
    "########## YOUR SOLUTION HERE ##########\n",
    "\n",
    "1.) Prove: $\\log(1+e^{-z}) = \\log (1+e^{-|z|}) + \\max(0, -z)$ <br>\n",
    "I changed the exponent in order to fit to the expression that I encountered in 3.), with the same argumentation the original expression can be proven as well\n",
    "\n",
    "Case distinction:\n",
    "\n",
    "$z>= 0:$\n",
    "- $\\log (1+e^{-|z|}) + \\max(0, -z) = \\log (1+e^{-z}) + 0 = \\log(1+e^{-z})$\n",
    "\n",
    "$z < 0:$\n",
    "- $\\log (1 + e^{-z}) = \\log (1 + e^{|z|})$\n",
    "- $\\log (1+e^{-|z|}) + \\max(0, |z|) = \\log (1+e^{-|z|}) + |z| = \\log (1+e^{-|z|}) + \\log(e^{|z|}) = \\log ((1+e^{-|z|}) e^{|z|}) = \\log (1+e^{|z|})$\n",
    "\n",
    "\n",
    "2.) Argue why $\\log (1+e^{-|z|}) + \\max(0, -z)$ is numerically more stable: <br>\n",
    "\n",
    "Its because of the absolute value of the exponent. The new function $e\n",
    "^{-|z|}$ is bounded between 0 and 1, this means no matter how large the logits are the function will always give us so to say nice values. Whereas before we had $e^{-z}$, which will diverge to inifnity very quickly (exponentially quickly) for inceasing negative logits. Therefore, we have a numerically more stable expression on the right hand side.   \n",
    "\n",
    "3.) Evaluate the numerically stable Loss: \n",
    "\n",
    "$$\n",
    "\\begin{align}\n",
    "L(z, y) &= L_{\\text{BCE}}(\\sigma(z), y) \\\\\n",
    "        &= -y \\log (\\frac{1}{1+e^{-z}}) - (1-y) \\log (1-\\frac{1}{1+e^{-z}})\\\\\n",
    "        &= -y (\\log (1) - \\log ({1+e^{-z}})) - (1-y) (\\log (e^{-z}) -  \\log (1+e^{-z})) \\\\ \n",
    "        &= y \\log(1+e^{-z}) + (1-y)(z + \\log(1+e^{-z}) \\\\\n",
    "\\text{(use the proved equality from 1.) )} &= y (\\log (1+e^{-|z|}) + \\max(0, -z)) + (1-y) (\\log (1+e^{-|z|}) + z\n",
    "+ \\max(0, -z))\\\\\n",
    "        &= y (\\log (1+e^{-|z|}) + \\max(0, -z)) + (1-y) (\\log (1+e^{-|z|}) + \\max(0, z))\n",
    "\\end{align}\n",
    "$$\n",
    "\n",
    "We can see that the Loss above (L(z,y)) we arrived at only consists of nummerically more stable terms."
   ]
  },
  {
   "cell_type": "markdown",
   "metadata": {},
   "source": [
    "## Exercise 2: Derivative of the loss\n",
    "\n",
    "Calculate the derivative of the binary cross-entropy loss function $L(z, y)$ with respect to the logit $z$."
   ]
  },
  {
   "cell_type": "markdown",
   "metadata": {},
   "source": [
    "########## YOUR SOLUTION HERE ##########\n",
    "\n",
    "Note: I already start from a slightly simplified form of L(z,y), please check 1.1 for derivation\n",
    "\n",
    "$$\n",
    "\\begin{align}\n",
    "\\frac{\\delta}{\\delta z} L(z,y) &= \\frac{\\delta}{\\delta z}(y \\log(1+e^{-z}) + (1-y)(z + \\log(1+e^{-z}))\\\\\n",
    "            &= y \\frac{1}{1+e^{-z}} \\frac{\\delta}{\\delta z}(1+e^{-z}) + (1-y)(1 + \\frac{1}{1+e^{-z}} \\frac{\\delta}{\\delta z}(1+e^{-z}))\\\\\n",
    "            &= - y \\frac{-e^{-z}}{1+e^{-z}} +  (1-y)(1 - \\frac{e^{-z}}{1+e^{-z}})\\\\\n",
    "            &= - y \\frac{-e^{-z}}{1+e^{-z}} +  1 - y -\\frac{e^{-z}}{1+e^{-z}} + y\\frac{e^{-z}}{1+e^{-z}}\\\\\n",
    "            &= -y + 1 -\\frac{e^{-z}}{1+e^{-z}}\\\\\n",
    "            &= -y \\frac{1+e^{-z}-e^{-z}}{1+e^{-z}}\\\\\n",
    "            &= \\frac{1}{1+e^{-z}} -y \\\\\n",
    "            &= \\sigma(z) -y = \\hat y - y\n",
    "\\end{align}\n",
    "$$"
   ]
  },
  {
   "cell_type": "markdown",
   "metadata": {},
   "source": [
    "## Exercise 3: Initializing the network\n",
    "Consider the fully recurrent network\n",
    "$$\n",
    "s(t) = W x(t) + R a(t-1) \\\\\n",
    "a(t) = \\tanh(s(t)) \\\\\n",
    "z(t) = V a(t) \\\\\n",
    "\\hat y(t) = \\sigma(z(t))\n",
    "$$\n",
    "for $t \\in \\mathbb{N}, x(t) \\in \\mathbb{R}^{D}, s(t) \\in \\mathbb{R}^{I}, a(t) \\in \\mathbb{R}^{I}, z(t) \\in \\mathbb{R}^K, \\hat y(t) \\in \\mathbb{R}^K$ and $W, R, V$ are real matrices of appropriate sizes and $\\hat a(0) = 0$. \n",
    "\n",
    "*Compared to the lecture notes we choose $f(x) = \\tanh(x) = (e^x - e^{-x})(e^x + e^{-x})^{-1}$ and $\\varphi(x) = \\sigma(x) = (1+e^{-x})^{-1}$. Further, we introduced an auxiliary variable $z(t)$ and transposed the weight matrices.*\n",
    "\n",
    "Write a function `init` that takes a `model` and integers $D, I, K$ as arguments and stores the matrices $W, R, V$ as members `model.W`, `model.R`, `model.V`, respectively. The matrices should be `numpy` arrays of appropriate sizes and filled with random values that are uniformly distributed between -0.01 and 0.01. "
   ]
  },
  {
   "cell_type": "code",
   "execution_count": 1,
   "metadata": {
    "ExecuteTime": {
     "end_time": "2022-11-04T16:39:01.715054Z",
     "start_time": "2022-11-04T16:39:00.998811Z"
    }
   },
   "outputs": [],
   "source": [
    "%matplotlib inline\n",
    "import numpy as np\n",
    "from scipy.special import expit as sigmoid\n",
    "\n",
    "class Obj(object):\n",
    "    pass\n",
    "\n",
    "model = Obj()\n",
    "T, D, I, K = 10, 3, 5, 1\n",
    "\n",
    "def init(model, D, I, K):\n",
    "    ########## YOUR SOLUTION HERE ##########   \n",
    "    rng = np.random.default_rng()\n",
    "    model.W =  rng.uniform(-0.01,0.01, (I,D))\n",
    "    model.R =  rng.uniform(-0.01,0.01, (I,I))\n",
    "    model.V =  rng.uniform(-0.01,0.01, (K,I))\n",
    "\n",
    "Obj.init = init\n",
    "model.init(D, I, K)"
   ]
  },
  {
   "cell_type": "markdown",
   "metadata": {},
   "source": [
    "## Exercise 4: The forward pass\n",
    "Implement the forward pass for the fully recurrent network for sequence classification (many-to-one mapping). To this end, write a function `forward` that takes a `model`, a sequence of input vectors `x`, and a label `y` as arguments. The inputs will be represented as a `numpy` array of shape `(T, D)`. It should execute the behavior of the fully recurrent network and evaluate the (numerically stabilized) binary cross-entropy loss at the end of the sequence and return the resulting loss value. Store the sequence of hidden activations $(a(t))_{t=1}^T$ and the logit $z(T)$ into `model.a` and `model.z`, respectively. "
   ]
  },
  {
   "cell_type": "code",
   "execution_count": 2,
   "metadata": {
    "ExecuteTime": {
     "end_time": "2022-11-04T16:39:01.726832Z",
     "start_time": "2022-11-04T16:39:01.716372Z"
    }
   },
   "outputs": [
    {
     "data": {
      "text/plain": [
       "array([0.69314718])"
      ]
     },
     "execution_count": 2,
     "metadata": {},
     "output_type": "execute_result"
    }
   ],
   "source": [
    "def forward(model, x, y):\n",
    "    ########## YOUR SOLUTION HERE ##########\n",
    "    \n",
    "    T, D = x.shape\n",
    "    K, I = model.V.shape\n",
    "    \n",
    "    # initialize a\n",
    "    model.a = np.zeros((T,I))   \n",
    "    \n",
    "    for t in range(T):\n",
    "\n",
    "        s_t = model.W @ x[t-1] + model.R @ model.a[t-1]\n",
    "        \n",
    "        model.a[t] = (np.exp(s_t) - np.exp(-s_t)) * ((np.exp(s_t) + np.exp(-s_t))**(-1))\n",
    "        # np.tanh(s_t) -> would also be possible\n",
    "        \n",
    "        z_t = model.V @ model.a[t]\n",
    "        \n",
    "    model.z = z_t\n",
    "    \n",
    "    # calculate loss\n",
    "    loss = y * (np.log(1 + np.exp(-np.absolute(z_t)) + np.maximum(0,-z_t))) + \\\n",
    "        (1-y) * (np.log(1 + np.exp(-np.absolute(z_t)) + np.maximum(0, z_t)))\n",
    "    \n",
    "    return loss\n",
    "    \n",
    "    \n",
    "Obj.forward = forward\n",
    "model.forward(np.random.uniform(-1, 1, (T, D)), 1)"
   ]
  },
  {
   "cell_type": "markdown",
   "metadata": {},
   "source": [
    "## Exercise 5: The computational graph\n",
    "\n",
    "Visualize the computational graph of the fully recurrent network unfolded in time. The graph should show the functional dependencies of the nodes $x(t), a(t), z(t), L(z(t), y(t))$ for $t \\in \\{1, 2, 3\\}$. Use the package `networkx` in combination with `matplotlib` to draw a directed graph with labelled nodes and edges. If you need help take a look at [this guide](https://networkx.guide/visualization/basics/). Make sure to arrange the nodes in a meaningful way. "
   ]
  },
  {
   "cell_type": "code",
   "execution_count": 3,
   "metadata": {
    "ExecuteTime": {
     "end_time": "2022-11-04T16:39:02.150980Z",
     "start_time": "2022-11-04T16:39:01.728824Z"
    }
   },
   "outputs": [
    {
     "data": {
      "image/png": "[encoded data removed]",
      "text/plain": [
       "<Figure size 720x720 with 1 Axes>"
      ]
     },
     "metadata": {},
     "output_type": "display_data"
    }
   ],
   "source": [
    "import networkx as nx\n",
    "import matplotlib.pyplot as plt\n",
    "\n",
    "########## YOUR SOLUTION HERE ##########\n",
    "\n",
    "comp_graph = nx.DiGraph()\n",
    "\n",
    "positions = dict()\n",
    "edge_lables = dict()\n",
    "positions[f\"a(0)\"] = (0,0)\n",
    "\n",
    "for t in [1,2,3]:\n",
    "    \n",
    "    comp_graph.add_edge(f\"a({t-1})\", f\"s({t})\")\n",
    "    positions[f\"s({t})\"] = (t,0)\n",
    "    edge_lables[(f\"a({t-1})\", f\"s({t})\")] = \"R\"\n",
    "    \n",
    "    comp_graph.add_edge(f\"x({t})\", f\"s({t})\")\n",
    "    positions[f\"x({t})\"] = (t,-1)\n",
    "    edge_lables[(f\"x({t})\", f\"s({t})\")] = \"W\"\n",
    "    \n",
    "    comp_graph.add_edge(f\"s({t})\", f\"a({t})\")\n",
    "    positions[f\"a({t})\"] = (t,1)\n",
    "    edge_lables[(f\"s({t})\", f\"a({t})\")] = \"tanh(.)\"\n",
    "    \n",
    "    comp_graph.add_edge(f\"a({t})\", f\"z({t})\")\n",
    "    positions[f\"z({t})\"] = (t,2)\n",
    "    edge_lables[(f\"a({t})\", f\"z({t})\")] = \"V\"\n",
    "    \n",
    "    comp_graph.add_edge(f\"z({t})\", f\"L({t})\")\n",
    "    positions[f\"L({t})\"] = (t,3)\n",
    "    edge_lables[(f\"z({t})\", f\"L({t})\")] = \"sigmoid(.)\"\n",
    "    \n",
    "    comp_graph.add_edge(f\"y({t})\", f\"L({t})\")\n",
    "    positions[f\"y({t})\"] = (t-0.5,2)\n",
    "    \n",
    "    \n",
    "plt.figure(1,figsize=(10,10)) \n",
    "nx.draw(comp_graph, positions,node_size=2000,font_size=10, with_labels = True)\n",
    "nx.draw_networkx_edge_labels(comp_graph, positions, edge_lables, rotate=False)\n",
    "plt.show()        "
   ]
  },
  {
   "cell_type": "code",
   "execution_count": null,
   "metadata": {},
   "outputs": [],
   "source": []
  }
 ],
 "metadata": {
  "kernelspec": {
   "display_name": "Python 3 (ipykernel)",
   "language": "python",
   "name": "python3"
  },
  "language_info": {
   "codemirror_mode": {
    "name": "ipython",
    "version": 3
   },
   "file_extension": ".py",
   "mimetype": "text/x-python",
   "name": "python",
   "nbconvert_exporter": "python",
   "pygments_lexer": "ipython3",
   "version": "3.9.7"
  },
  "toc": {
   "base_numbering": 1,
   "nav_menu": {},
   "number_sections": true,
   "sideBar": true,
   "skip_h1_title": false,
   "title_cell": "Table of Contents",
   "title_sidebar": "Contents",
   "toc_cell": false,
   "toc_position": {},
   "toc_section_display": true,
   "toc_window_display": false
  }
 },
 "nbformat": 4,
 "nbformat_minor": 2
}
