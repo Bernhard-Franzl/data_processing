{
 "cells": [
  {
   "cell_type": "markdown",
   "metadata": {},
   "source": [
    "# Occupancy Forecasting Notebook"
   ]
  },
  {
   "cell_type": "code",
   "execution_count": 463,
   "metadata": {},
   "outputs": [],
   "source": [
    "#Imports\n",
    "import numpy as np\n",
    "import matplotlib.pyplot as plt\n",
    "import pandas as pd\n",
    "from pandas.tseries.offsets import DateOffset\n",
    "\n",
    "from datetime import datetime\n",
    "import plotly.express as px\n",
    "import plotly.graph_objects as go\n",
    "from plotly.subplots import make_subplots\n",
    "\n",
    "\n",
    "from sklearn.model_selection import train_test_split, KFold\n",
    "\n",
    "from _dfguru import DataFrameGuru as DFG\n",
    "from _preprocessing import PLCount"
   ]
  },
  {
   "cell_type": "markdown",
   "metadata": {},
   "source": [
    "# 1.) Data Preprocessing"
   ]
  },
  {
   "cell_type": "code",
   "execution_count": 464,
   "metadata": {},
   "outputs": [],
   "source": [
    "#Reading the dataset\n",
    "dfg = DFG()\n",
    "\n",
    "data = dfg.read_data(\n",
    "    path_repo=\"../data/cleaned_data\", \n",
    "    file_name=\"frequency_data\", \n",
    ")\n",
    "\n",
    "data = dfg.clean_signal_data(data)\n",
    "\n",
    "min_timestamp = data[\"datetime\"].min().replace(hour=0, minute=0, second=0, microsecond=0)\n",
    "max_timestamp = data[\"datetime\"].max().replace(hour=0, minute=0, second=0, microsecond=0) + DateOffset(days=1)"
   ]
  },
  {
   "cell_type": "markdown",
   "metadata": {},
   "source": [
    "### Once more a preprocessing run I forgot to clean the signal outside lecture time 22:00-7:30"
   ]
  },
  {
   "cell_type": "code",
   "execution_count": 465,
   "metadata": {},
   "outputs": [],
   "source": [
    "course_dates_data = dfg.read_data(\n",
    "        path_repo=\"../data/cleaned_data\", \n",
    "        file_name=\"course_dates\", \n",
    "    )\n",
    "\n",
    "\n",
    "course_info_data = dfg.read_data(\n",
    "    path_repo=\"../data/cleaned_data\", \n",
    "    file_name=\"course_info\", \n",
    ")\n"
   ]
  },
  {
   "cell_type": "markdown",
   "metadata": {},
   "source": [
    "### 1.1) Filter out Facility Management Events"
   ]
  },
  {
   "cell_type": "markdown",
   "metadata": {},
   "source": [
    "Maybe a course is missing: 8.4. - 28.6.\n",
    "\n",
    "## Check again after preprocessing is final\n",
    "\n",
    "HS18:\n",
    "* 22.4 17:15-18:00 - safe something missing\n",
    "* 26.4. 8:30-10:00 - safe something missing\n",
    "* 3.5. 12:00 bis 18:30 - there is something happening -> plot but it doesn't seem to be a lecture\n",
    "* 15.5. 15:15 bis 17:45 - there is also something happening \n",
    "* 4.6. 17:00 - 19:00 -> There is also something happening\n",
    "* 20.6. 15:30 - 17:00, 17:15-18:45\n",
    "\n",
    "HS19:\n",
    "* 12.4. 13:45 - 15:45 -> no normal lecture is something different\n",
    "* 13.5. 13:45 - 15:15, afterwards - 19:05 (something different)  -> check preprocessing! -> 5 events ruined that afternoon\n",
    "* 15.5. 15:30 - 17:30 -> safe a lecture\n",
    "* 5.6. 8:30 - 10:00 -> student preparing for exam\n",
    "* 26.6. 8:30 - 10:00, 12:00-14:30 -> something happening!"
   ]
  },
  {
   "cell_type": "markdown",
   "metadata": {},
   "source": [
    "#### Try to clean events outside lecture hours -> show that sometimes Kusss seems to be incorrect:\n"
   ]
  },
  {
   "cell_type": "markdown",
   "metadata": {},
   "source": [
    "Visually proof that something might be off! At the times above"
   ]
  },
  {
   "cell_type": "code",
   "execution_count": 486,
   "metadata": {},
   "outputs": [],
   "source": [
    "course_dates_data = dfg.derive_day(course_dates_data, \"start_time\")\n",
    "course_dates_data_reduced = dfg.filter_by_daterange(course_dates_data, \"start_time\", min_timestamp.date(), max_timestamp.date())\n",
    "\n",
    "lecture_hours = []\n",
    "min_times = []\n",
    "max_times = []\n",
    "for grouping, df in course_dates_data_reduced.groupby([\"room_id\", \"day\"]):\n",
    "    \n",
    "    max_time = (df[\"end_time\"].max() + DateOffset(minutes=15)).time()\n",
    "    min_time = (df[\"start_time\"].min() - DateOffset(minutes=15)).time()\n",
    "    min_times.append(min_time)\n",
    "    max_times.append(max_time)\n",
    "\n",
    "    group_mask = (data[\"room_id\"] == grouping[0]) & (data[\"datetime\"].dt.date == grouping[1])\n",
    "    data_group = data[group_mask]\n",
    "    \n",
    "    #if (df[\"start_time\"].min().date() == datetime.date(datetime(2024, 5, 15))) and grouping[0] == 0:\n",
    "    #    print(grouping)\n",
    "    #    print(df.sort_values(by=\"start_time\").to_string())\n",
    "    #    print(min_time, max_time)\n",
    "    #    print(data_group.to_string())\n",
    "    #    print(\"-------------------\")\n",
    "    #    print()\n",
    "        \n",
    "    group_mask = (data[\"room_id\"] == grouping[0]) & (data[\"datetime\"].dt.date == grouping[1])\n",
    "    data_group = data[group_mask]\n",
    "    \n",
    "    \n",
    "    outside_hours_mask = (data_group[\"datetime\"].dt.time < min_time) | (data_group[\"datetime\"].dt.time > max_time)\n",
    "    #print(data_group[outside_hours_mask].to_string())\n",
    "    #lecture_hours = group_mask & (data[\"datetime\"].dt.time >= min_time) & (data[\"datetime\"].dt.time <= max_time)\n",
    "    \n",
    "    "
   ]
  },
  {
   "cell_type": "markdown",
   "metadata": {},
   "source": [
    "## 1. Data Cleaning with PLCount"
   ]
  },
  {
   "cell_type": "code",
   "execution_count": 467,
   "metadata": {},
   "outputs": [
    {
     "name": "stderr",
     "output_type": "stream",
     "text": [
      "100%|██████████| 82/82 [00:00<00:00, 116.22it/s]\n",
      "100%|██████████| 82/82 [00:00<00:00, 122.46it/s]\n"
     ]
    }
   ],
   "source": [
    "\n",
    "frequency = \"1h\"\n",
    "plcount = PLCount()\n",
    "\n",
    "data_dict = {}\n",
    "for room_id, df in data.groupby(\"room_id\"):\n",
    "    data_filterd_room = dfg.filter_by_roomid(data, room_id)\n",
    "    occ_list = plcount.run_on_whole_dataset(data_filterd_room, dfg, frequency)\n",
    "    data_dict[room_id] = pd.concat(occ_list).drop_duplicates(subset=\"datetime\").reset_index(drop=True)"
   ]
  },
  {
   "cell_type": "code",
   "execution_count": 468,
   "metadata": {},
   "outputs": [],
   "source": [
    "#occupancy_data_cleaned = pd.concat(occ_list).drop_duplicates(subset=\"datetime\")\n",
    "#occupancy_data_raw = dfg.calc_occupancy_count(data_filterd_room, \"datetime\", frequency)"
   ]
  },
  {
   "cell_type": "markdown",
   "metadata": {},
   "source": [
    "### 1.1 Plot differences"
   ]
  },
  {
   "cell_type": "code",
   "execution_count": 469,
   "metadata": {},
   "outputs": [],
   "source": [
    "## raw_data\n",
    "#fig = go.Figure()\n",
    "\n",
    "#fig.add_trace(\n",
    "#    go.Scatter(\n",
    "#        x=occupancy_data_raw[\"datetime\"], \n",
    "#        y=occupancy_data_raw[\"CC\"],\n",
    "#        mode=\"lines\",\n",
    "#        name=\"Raw Occupancy\"))\n",
    "\n",
    "#fig.add_trace(\n",
    "#    go.Scatter(\n",
    "#        x=occupancy_data_cleaned[\"datetime\"], \n",
    "#        y=occupancy_data_cleaned[\"CC\"],\n",
    "#        mode=\"lines\",\n",
    "#        name=\"Reset at Midnight\"))\n",
    "\n",
    "#fig.add_trace(\n",
    "#    go.Scatter(\n",
    "#        x=occupancy_data_cleaned[\"datetime\"], \n",
    "#        y=occupancy_data_cleaned[\"CC_estimates\"],\n",
    "#        mode=\"lines\",\n",
    "#        name=\"PLCount Estimates\"))\n",
    "\n",
    "#fig.show()"
   ]
  },
  {
   "cell_type": "markdown",
   "metadata": {},
   "source": [
    "## 2. Contextual features"
   ]
  },
  {
   "cell_type": "markdown",
   "metadata": {},
   "source": [
    "Classic Contextual features: (mostly endogenous)\n",
    "* Sangogboye, Arendt: Dayname, Daytype(weekend/weekday), Season(Winter, Summer), Holiday(yes/no)(exogenous)\n",
    "* Sangogboye, Kjaaergard: Dayname, Daytype, Season, Holiday\n",
    "* Araz Ashouri, Member, IEEE, Guy R. Newsham: Hour of Day (Sin + Cosine), Day of week (0 = Holiday, Weekends; 1 = Weekday) \n",
    "\n",
    "My ideas:\n",
    "* Include Zwickeltag - exogenous\n",
    "* Make use of lecture schedule from Kusss - exogenous\n",
    "\n"
   ]
  },
  {
   "cell_type": "code",
   "execution_count": 470,
   "metadata": {},
   "outputs": [
    {
     "data": {
      "text/plain": [
       "<torch._C.Generator at 0x7faff2087610>"
      ]
     },
     "execution_count": 470,
     "metadata": {},
     "output_type": "execute_result"
    }
   ],
   "source": [
    "import torch\n",
    "from torch.utils.data import DataLoader, Dataset\n",
    "\n",
    "seed = 42\n",
    "rng = np.random.default_rng(seed=seed)\n",
    "torch.manual_seed(seed)"
   ]
  },
  {
   "cell_type": "code",
   "execution_count": 471,
   "metadata": {},
   "outputs": [],
   "source": [
    "class OccFeatureEngineer():\n",
    "    \n",
    "    course_features = {\"exam\", \"lecture\"}\n",
    "    datetime_features = {\"weekday\"}\n",
    "    permissible_features = course_features.union(datetime_features)\n",
    "        \n",
    "    def __init__(self, cleaned_occ_data, course_dates_data, course_info_data, dfguru):\n",
    "\n",
    "        self.occ_time_series = cleaned_occ_data\n",
    "        min_timestamp = data[\"datetime\"].min().replace(hour=0, minute=0, second=0, microsecond=0)\n",
    "        max_timestamp = data[\"datetime\"].max().replace(hour=0, minute=0, second=0, microsecond=0) + DateOffset(days=1)\n",
    "        \n",
    "        self.course_dates_table = dfguru.filter_by_timestamp(\n",
    "            dataframe = course_dates_data,\n",
    "            start_time = min_timestamp,\n",
    "            end_time = max_timestamp,\n",
    "            time_column = \"start_time\"\n",
    "        )\n",
    "\n",
    "        self.course_info_table = course_info_data\n",
    "        \n",
    "    \n",
    "    def derive_features(self, features, room_id=None):\n",
    "        \n",
    "        # get the course number\n",
    "        occ_time_series = self.occ_time_series.copy(deep=True)\n",
    "\n",
    "        # check if features are permissible\n",
    "        feature_set = set(features)\n",
    "        set_diff = feature_set.difference(self.permissible_features)\n",
    "        if set_diff:\n",
    "            raise ValueError(f\"Features {set_diff} are not permissible.\")\n",
    "        \n",
    "        # check if features are already present\n",
    "        feature_set = feature_set.difference(occ_time_series.columns)\n",
    "\n",
    "        # add course features\n",
    "        course_features = self.course_features.intersection(feature_set)\n",
    "        if course_features:\n",
    "            occ_time_series = self.add_course_features(occ_time_series, course_features, room_id)\n",
    "        \n",
    "        # add datetime features\n",
    "        datetime_features = self.datetime_features.intersection(feature_set)\n",
    "        if datetime_features:\n",
    "            occ_time_series = self.add_datetime_features(occ_time_series, datetime_features)\n",
    "\n",
    "        return occ_time_series\n",
    "    \n",
    "    def add_course_features(self, time_series, features, room_id):\n",
    "\n",
    "        # room_id must be not None\n",
    "        if room_id is None:\n",
    "            raise ValueError(\"Room ID must be provided.\")\n",
    "        \n",
    "        course_dates_in_room = dfg.filter_by_roomid(self.course_dates_table, room_id)\n",
    "        \n",
    "        # initialize all features to 0\n",
    "        time_series[\"course_number\"] = 0\n",
    "        for feature in features:\n",
    "            time_series[feature] = 0\n",
    "            \n",
    "        for grouping, sub_df in course_dates_in_room.groupby([\"start_time\", \"end_time\"]):\n",
    "            \n",
    "            # get course time_span\n",
    "            course_time_mask = (time_series[\"datetime\"] >= grouping[0]) & (time_series[\"datetime\"] <= grouping[1])\n",
    "            \n",
    "            # get course_number\n",
    "            time_series.loc[course_time_mask, \"course_number\"] = \",\".join(sub_df[\"course_number\"].values)\n",
    "            \n",
    "            # get course features\n",
    "            if \"exam\" in features:\n",
    "                time_series.loc[course_time_mask, \"exam\"] = int(sub_df[\"exam\"].values[0])\n",
    "                \n",
    "            if \"lecture\" in features:\n",
    "                time_series.loc[course_time_mask, \"lecture\"] = 1\n",
    "        \n",
    "        return time_series\n",
    "            "
   ]
  },
  {
   "cell_type": "code",
   "execution_count": 472,
   "metadata": {},
   "outputs": [
    {
     "name": "stderr",
     "output_type": "stream",
     "text": [
      "/tmp/ipykernel_23525/1824515244.py:68: FutureWarning:\n",
      "\n",
      "Setting an item of incompatible dtype is deprecated and will raise an error in a future version of pandas. Value '258.410' has dtype incompatible with int64, please explicitly cast to a compatible dtype first.\n",
      "\n"
     ]
    },
    {
     "name": "stdout",
     "output_type": "stream",
     "text": [
      "Room ID: 0\n"
     ]
    },
    {
     "name": "stderr",
     "output_type": "stream",
     "text": [
      "/tmp/ipykernel_23525/1824515244.py:68: FutureWarning:\n",
      "\n",
      "Setting an item of incompatible dtype is deprecated and will raise an error in a future version of pandas. Value '238.302' has dtype incompatible with int64, please explicitly cast to a compatible dtype first.\n",
      "\n"
     ]
    },
    {
     "name": "stdout",
     "output_type": "stream",
     "text": [
      "--------------------\n",
      "\n",
      "Room ID: 1\n",
      "--------------------\n",
      "\n"
     ]
    }
   ],
   "source": [
    "for room_id in data_dict:\n",
    "    \n",
    "    print(f\"Room ID: {room_id}\")\n",
    "    \n",
    "    occ_time_series = OccFeatureEngineer(\n",
    "        data_dict[room_id], \n",
    "        course_dates_data, \n",
    "        course_info_data, dfg\n",
    "    ).derive_features(\n",
    "        features=[\"exam\", \"lecture\"], \n",
    "        room_id=room_id\n",
    "    )      \n",
    "    print(\"--------------------\")\n",
    "    print()\n",
    "    \n",
    "    data_dict[room_id] = occ_time_series"
   ]
  },
  {
   "cell_type": "markdown",
   "metadata": {},
   "source": [
    "## 3. Validation Strategy and Train-Test Split"
   ]
  },
  {
   "cell_type": "code",
   "execution_count": 473,
   "metadata": {},
   "outputs": [],
   "source": [
    "class OccupancyDataset(Dataset):\n",
    "    \n",
    "    def __init__(self, time_series_dict: dict, frequency:str, x_size:int=24, y_size:int=24, verbose:bool=True):\n",
    "        \"\"\" Constructor for the occupancy dataset\n",
    "        Task: Convert the cleaned data into a list of samples\n",
    "        \"\"\"\n",
    "        super().__init__()\n",
    "        \n",
    "        # the time series must be structured as a dictionary with the room_id as the key\n",
    "        self.time_series_dict = time_series_dict\n",
    "        self.room_ids = list(time_series_dict.keys())\n",
    "        \n",
    "        # convert frequency to timedelta\n",
    "        td_freq = pd.to_timedelta(frequency)\n",
    "        \n",
    "        # window size is 1 day\n",
    "        self.x_size = x_size\n",
    "        self.y_size = y_size\n",
    "        \n",
    "        self.verbose = verbose\n",
    "        \n",
    "\n",
    "        #print(\"############## Dataset Summary ##############\")\n",
    "            \n",
    "        self.samples = []\n",
    "        for room_id in self.room_ids:\n",
    "            \n",
    "            #print(\"Sample Generation for Room ID: \", room_id)\n",
    "            occ_time_series = self.time_series_dict[room_id]\n",
    "            \n",
    "            # check for holes in the time series -> they break the rolling window\n",
    "            ts_diff = occ_time_series[\"datetime\"].diff()\n",
    "            holes = occ_time_series[ts_diff > td_freq]\n",
    "            \n",
    "            if holes.empty:\n",
    "                #print(\"Check 1: No holes found in the time series.\")\n",
    "                info, X, y = self.create_samples(occ_time_series, room_id)\n",
    "                self.samples.extend(list(zip(info, X, y)))\n",
    "                #print( \"-----------------------------------\")\n",
    "                \n",
    "            else:\n",
    "                #print(\"Check 1: Holes found and taken care of.\")\n",
    "                \n",
    "                cur_idx = 0\n",
    "                for hole_idx in holes.index:\n",
    "                    info, X, y = self.create_samples(occ_time_series.iloc[cur_idx:hole_idx], room_id)\n",
    "                    self.samples.extend(list(zip(info, X, y)))\n",
    "                    cur_idx = hole_idx\n",
    "                \n",
    "                # add the last part of the time series\n",
    "                info, X, y = self.create_samples(occ_time_series.iloc[cur_idx:], room_id)\n",
    "                self.samples.extend(list(zip(info, X, y)))\n",
    "                #print( \"-----------------------------------\")\n",
    "        #print()\n",
    "                    \n",
    "    def create_samples(self, time_series, room_id):\n",
    "        \n",
    "        occ_time_series = time_series.copy(deep=True)\n",
    "        occ_time_series[\"day\"] = occ_time_series[\"datetime\"].dt.date\n",
    "        \n",
    "        X_list = []\n",
    "        y_list = []\n",
    "        sample_info = []\n",
    "    \n",
    "        # we want to predict the next N steps based on the previous T steps\n",
    "        window_size = self.x_size + self.y_size\n",
    "        for window in occ_time_series.rolling(window=window_size):\n",
    "            # skip the first window_size elements only consider full windows\n",
    "            \n",
    "            X_df = window.iloc[:self.x_size]\n",
    "            X = torch.Tensor(X_df[\"CC_estimates\"].values)\n",
    "            \n",
    "            y_df = window.iloc[self.x_size:]\n",
    "            y = torch.Tensor(y_df[\"CC_estimates\"].values)\n",
    "\n",
    "            X_list.append(X)\n",
    "            y_list.append(y)\n",
    "            \n",
    "            sample_info.append((room_id, X_df[\"datetime\"], y_df[\"datetime\"]))\n",
    "\n",
    "        sanity_check_1 = [len(x)==self.x_size for x in X_list[window_size-1:]]\n",
    "        sanity_check_2 = [len(y)==self.y_size for y in y_list[window_size-1:]]\n",
    "        \n",
    "        if (all(sanity_check_1) & all(sanity_check_2)):\n",
    "            #print(\"Check 2: All the samples have the correct size.\")\n",
    "            return sample_info[window_size-1:], X_list[window_size-1:], y_list[window_size-1:]\n",
    "        \n",
    "        else:\n",
    "            raise ValueError(\"Sanity Check Failed\")\n",
    "        \n",
    "        \n",
    "        for day, ts_day in list(occ_time_series.groupby(\"day\"))[:-2]:\n",
    "            \n",
    "            next_day = occ_time_series[occ_time_series[\"day\"] == (day + DateOffset(days=1)).date()]\n",
    "\n",
    "            #######################################################\n",
    "            ############### Sample Generation #####################\n",
    "            #######################################################\n",
    "            \n",
    "            X = torch.IntTensor(ts_day[\"CC_estimates\"].values)\n",
    "            y = torch.IntTensor(next_day[\"CC_estimates\"].values)\n",
    "            \n",
    "            #######################################################\n",
    "            #######################################################\n",
    "            #######################################################\n",
    "            \n",
    "            x_time = ts_day[\"datetime\"].values\n",
    "            y_time = next_day[\"datetime\"].values\n",
    "            \n",
    "            X_list.append(X)\n",
    "            y_list.append(y)\n",
    "            sample_info.append((room_id, day, x_time, y_time))\n",
    "            \n",
    "        return sample_info, X_list, y_list\n",
    "    \n",
    "    def __len__(self):\n",
    "        return len(self.samples)\n",
    "    \n",
    "    def __getitem__(self, idx):\n",
    "        return self.samples[idx]\n",
    "\n",
    "\n",
    "def train_val_test_split(data_dict, verbose=True):\n",
    "    \n",
    "    # randomly exclude chunks of the data\n",
    "    train_dict = {}\n",
    "    val_dict = {}\n",
    "    test_dict = {}\n",
    "    \n",
    "    total_size = 0\n",
    "    val_size = 0\n",
    "    test_size = 0\n",
    "    train_size = 0\n",
    "    \n",
    "    for room_id in data_dict:\n",
    "\n",
    "        occ_time_series = data_dict[room_id]\n",
    "        total_size += len(occ_time_series)\n",
    "        \n",
    "        # generate chunks with size 0.05 of the data\n",
    "        index_shift = int(len(occ_time_series) * 0.05)\n",
    "        indices = np.arange(0, len(occ_time_series), index_shift)\n",
    "        if (len(occ_time_series)-indices[-1]) < index_shift:\n",
    "            indices = indices[:-1]\n",
    "            \n",
    "        rng.shuffle(indices)\n",
    "        \n",
    "        val_indices = indices[:2]\n",
    "        test_indices = indices[2 : 4]\n",
    "        train_indices = indices[4:]\n",
    "        \n",
    "        ts_val = occ_time_series.iloc[np.array([np.arange(x, x+index_shift) for x in val_indices]).flatten()].sort_values(by=\"datetime\").reset_index(drop=True)\n",
    "        ts_test = occ_time_series.iloc[np.array([np.arange(x, x+index_shift) for x in test_indices]).flatten()].sort_values(by=\"datetime\").reset_index(drop=True)\n",
    "        ts_train = occ_time_series.iloc[np.array([np.arange(x, x+index_shift) for x in train_indices]).flatten()].sort_values(by=\"datetime\").reset_index(drop=True)\n",
    "        \n",
    "        val_size += len(ts_val)\n",
    "        test_size += len(ts_test)\n",
    "        train_size += len(ts_train)\n",
    "        \n",
    "        train_dict[room_id] = ts_train\n",
    "        val_dict[room_id] = ts_val\n",
    "        test_dict[room_id] = ts_test\n",
    "    \n",
    "    if verbose:\n",
    "        print(\"############## Split Summary ##############\")\n",
    "        print(\"Size of Validationset:\", val_size/total_size)\n",
    "        print(\"Size of Testset:\", test_size/total_size)\n",
    "        print(\"Size of Trainset:\", train_size/total_size)\n",
    "        print()\n",
    "    \n",
    "    return train_dict, val_dict, test_dict\n",
    "        \n"
   ]
  },
  {
   "cell_type": "markdown",
   "metadata": {},
   "source": [
    "## 4. Training"
   ]
  },
  {
   "cell_type": "code",
   "execution_count": 474,
   "metadata": {},
   "outputs": [],
   "source": [
    "class OccupancyDenseNet(nn.Module):\n",
    "    \n",
    "    def __init__(self, input_size, hidden_size, output_size, **kwargs):\n",
    "        super().__init__()\n",
    "        \n",
    "        self.input_size = input_size\n",
    "        self.hidden_size = hidden_size\n",
    "        self.output_size = output_size\n",
    "        \n",
    "        self.fc1 = nn.Linear(input_size, hidden_size)\n",
    "        self.fc2 = nn.Linear(hidden_size, output_size)\n",
    "        \n",
    "    def forward(self, x):\n",
    "        \n",
    "        x = x.view(-1, self.input_size)\n",
    "        x = torch.relu(self.fc1(x))\n",
    "        x = self.fc2(x)\n",
    "        \n",
    "        return x\n",
    "    \n"
   ]
  },
  {
   "cell_type": "code",
   "execution_count": 475,
   "metadata": {},
   "outputs": [],
   "source": [
    "class MasterTrainer:\n",
    "    \n",
    "    device = torch.device(\"cuda\" if torch.cuda.is_available() else \"cpu\")\n",
    "    n_updates = 0\n",
    "    val_interval = 250\n",
    "    \n",
    "    def __init__(self, model_class:nn.Module, optimizer:Optimizer, hyperparameters:dict, criterion) -> None:\n",
    "        \n",
    "        self.model_class = model_class\n",
    "        self.criterion = criterion\n",
    "        self.optimizer = optimizer\n",
    "        self.hyperparameters = hyperparameters\n",
    "        \n",
    "    def reset_n_updates(self) -> None:\n",
    "        self.n_updates = 0\n",
    "\n",
    "    def update_hyperparameters(self, hyperparameters:dict) -> None:\n",
    "        self.hyperparameters.update(hyperparameters)\n",
    "        \n",
    "    def custom_collate(self, x):\n",
    "        info = [x[0] for x in x]\n",
    "        X = torch.stack([x[1] for x in x])\n",
    "        y = torch.stack([x[2] for x in x])\n",
    "        return info, X, y\n",
    "      \n",
    "    ######## Initialization ########\n",
    "    def initialize_model(self) -> nn.Module:\n",
    "        model = self.model_class(**self.hyperparameters)\n",
    "        return model.to(self.device)    \n",
    "    \n",
    "    def initialize_optimizer(self, model:nn.Module) -> Optimizer:\n",
    "        \n",
    "        if self.optimizer == torch.optim.Adam:\n",
    "            optimizer = self.optimizer(model.parameters(), lr=self.hyperparameters[\"lr\"])\n",
    "        elif self.optimizer == torch.optim.SGD:\n",
    "            optimizer = self.optimizer(model.parameters(), lr=self.hyperparameters[\"lr\"], momentum=self.hyperparameters[\"momentum\"])\n",
    "        else:\n",
    "            raise ValueError(\"Optimizer not supported.\")\n",
    "        \n",
    "        return optimizer\n",
    "    \n",
    "    def initialize_dataset(self, train_dict:dict, val_dict:dict, test_dict:dict, frequency:str):\n",
    "        \n",
    "        train_set = OccupancyDataset(train_dict, frequency, self.hyperparameters[\"x_size\"], self.hyperparameters[\"y_size\"])\n",
    "        val_set = OccupancyDataset(val_dict, frequency, self.hyperparameters[\"x_size\"], self.hyperparameters[\"y_size\"])\n",
    "        test_set = OccupancyDataset(test_dict, frequency, self.hyperparameters[\"x_size\"], self.hyperparameters[\"y_size\"])\n",
    "        \n",
    "        return train_set, val_set, test_set\n",
    "        \n",
    "    def initialize_dataloader(self, train_set:Dataset, val_set:Dataset, test_set:Dataset):\n",
    "        train_loader = DataLoader(train_set, batch_size=self.hyperparameters[\"batch_size\"], shuffle=True, collate_fn=self.custom_collate)\n",
    "        val_loader = DataLoader(val_set, batch_size=self.hyperparameters[\"batch_size\"], shuffle=True, collate_fn=self.custom_collate)\n",
    "        test_loader = DataLoader(test_set, batch_size=self.hyperparameters[\"batch_size\"], shuffle=True, collate_fn=self.custom_collate)\n",
    "        return train_loader, val_loader, test_loader\n",
    "        \n",
    "    ######## Training ########\n",
    "    def train(self, dataloader:DataLoader, model:nn.Module, optimizer:Optimizer, val_dataloader:DataLoader=None):\n",
    "        \"\"\"\n",
    "        trains a model for one epoch\n",
    "        \"\"\"\n",
    "        \n",
    "        train_loss = []\n",
    "        val_loss = []\n",
    "        \n",
    "        for info, X, y in dataloader:\n",
    "            \n",
    "            optimizer.zero_grad()\n",
    "        \n",
    "            X = X.to(self.device)\n",
    "            y = y.to(self.device)\n",
    "            \n",
    "            model_output = model(X)\n",
    "            loss = self.criterion(model_output, y)\n",
    "            \n",
    "            loss.backward()\n",
    "            optimizer.step()\n",
    "            \n",
    "            self.n_updates += 1\n",
    "            \n",
    "            # validate every 100 updates\n",
    "            if (self.n_updates % self.val_interval == 0) and val_dataloader:\n",
    "                val_losses = self.validate(val_dataloader, model)\n",
    "                val_loss.append(np.mean(val_losses))\n",
    "                \n",
    "            train_loss.append(loss.cpu().detach())\n",
    "            \n",
    "        return train_loss, val_loss\n",
    "    \n",
    "    def validate(self, dataloader:DataLoader, model:nn.Module):\n",
    "        \"\"\"\n",
    "        validates a model for one epoch\n",
    "        \"\"\"\n",
    "        \n",
    "        val_loss = []\n",
    "        predictions = []\n",
    "        with torch.no_grad():\n",
    "            for info, X, y in dataloader:\n",
    "                \n",
    "                X = X.to(self.device)\n",
    "                y = y.to(self.device)\n",
    "                \n",
    "                model_output = model(X)\n",
    "                loss = self.criterion(model_output, y)\n",
    "                \n",
    "                val_loss.append(loss.cpu().detach())\n",
    "                predictions.append(model_output.cpu().detach())\n",
    "                \n",
    "        return val_loss"
   ]
  },
  {
   "cell_type": "code",
   "execution_count": 476,
   "metadata": {},
   "outputs": [],
   "source": [
    "from torch import nn\n",
    "from torch.optim import Optimizer\n",
    "from torch.optim import Adam"
   ]
  },
  {
   "cell_type": "code",
   "execution_count": 480,
   "metadata": {},
   "outputs": [
    {
     "name": "stderr",
     "output_type": "stream",
     "text": [
      "/home/berni/anaconda3/envs/webapp/lib/python3.12/site-packages/numpy/core/fromnumeric.py:3504: RuntimeWarning:\n",
      "\n",
      "Mean of empty slice.\n",
      "\n",
      "/home/berni/anaconda3/envs/webapp/lib/python3.12/site-packages/numpy/core/_methods.py:129: RuntimeWarning:\n",
      "\n",
      "invalid value encountered in scalar divide\n",
      "\n"
     ]
    },
    {
     "data": {
      "application/vnd.plotly.v1+json": {
       "config": {
        "plotlyServerURL": "https://plot.ly"
       },
       "data": [
        {
         "mode": "lines",
         "name": "Train Loss",
         "type": "scatter",
         "x": [
          1,
          2,
          3,
          4,
          5,
          6,
          7,
          8,
          9,
          10,
          11,
          12,
          13,
          14,
          15
         ],
         "y": [
          109.64657592773438,
          92.40756225585938,
          89.69889068603516,
          88.54345703125,
          87.82953643798828,
          87.3831787109375,
          86.67383575439453,
          86.32147216796875,
          85.89894104003906,
          85.60753631591797,
          84.93309020996094,
          84.65265655517578,
          84.88013458251953,
          84.43607330322266,
          84.14331817626953
         ]
        }
       ],
       "layout": {
        "template": {
         "data": {
          "bar": [
           {
            "error_x": {
             "color": "#2a3f5f"
            },
            "error_y": {
             "color": "#2a3f5f"
            },
            "marker": {
             "line": {
              "color": "#E5ECF6",
              "width": 0.5
             },
             "pattern": {
              "fillmode": "overlay",
              "size": 10,
              "solidity": 0.2
             }
            },
            "type": "bar"
           }
          ],
          "barpolar": [
           {
            "marker": {
             "line": {
              "color": "#E5ECF6",
              "width": 0.5
             },
             "pattern": {
              "fillmode": "overlay",
              "size": 10,
              "solidity": 0.2
             }
            },
            "type": "barpolar"
           }
          ],
          "carpet": [
           {
            "aaxis": {
             "endlinecolor": "#2a3f5f",
             "gridcolor": "white",
             "linecolor": "white",
             "minorgridcolor": "white",
             "startlinecolor": "#2a3f5f"
            },
            "baxis": {
             "endlinecolor": "#2a3f5f",
             "gridcolor": "white",
             "linecolor": "white",
             "minorgridcolor": "white",
             "startlinecolor": "#2a3f5f"
            },
            "type": "carpet"
           }
          ],
          "choropleth": [
           {
            "colorbar": {
             "outlinewidth": 0,
             "ticks": ""
            },
            "type": "choropleth"
           }
          ],
          "contour": [
           {
            "colorbar": {
             "outlinewidth": 0,
             "ticks": ""
            },
            "colorscale": [
             [
              0,
              "#0d0887"
             ],
             [
              0.1111111111111111,
              "#46039f"
             ],
             [
              0.2222222222222222,
              "#7201a8"
             ],
             [
              0.3333333333333333,
              "#9c179e"
             ],
             [
              0.4444444444444444,
              "#bd3786"
             ],
             [
              0.5555555555555556,
              "#d8576b"
             ],
             [
              0.6666666666666666,
              "#ed7953"
             ],
             [
              0.7777777777777778,
              "#fb9f3a"
             ],
             [
              0.8888888888888888,
              "#fdca26"
             ],
             [
              1,
              "#f0f921"
             ]
            ],
            "type": "contour"
           }
          ],
          "contourcarpet": [
           {
            "colorbar": {
             "outlinewidth": 0,
             "ticks": ""
            },
            "type": "contourcarpet"
           }
          ],
          "heatmap": [
           {
            "colorbar": {
             "outlinewidth": 0,
             "ticks": ""
            },
            "colorscale": [
             [
              0,
              "#0d0887"
             ],
             [
              0.1111111111111111,
              "#46039f"
             ],
             [
              0.2222222222222222,
              "#7201a8"
             ],
             [
              0.3333333333333333,
              "#9c179e"
             ],
             [
              0.4444444444444444,
              "#bd3786"
             ],
             [
              0.5555555555555556,
              "#d8576b"
             ],
             [
              0.6666666666666666,
              "#ed7953"
             ],
             [
              0.7777777777777778,
              "#fb9f3a"
             ],
             [
              0.8888888888888888,
              "#fdca26"
             ],
             [
              1,
              "#f0f921"
             ]
            ],
            "type": "heatmap"
           }
          ],
          "heatmapgl": [
           {
            "colorbar": {
             "outlinewidth": 0,
             "ticks": ""
            },
            "colorscale": [
             [
              0,
              "#0d0887"
             ],
             [
              0.1111111111111111,
              "#46039f"
             ],
             [
              0.2222222222222222,
              "#7201a8"
             ],
             [
              0.3333333333333333,
              "#9c179e"
             ],
             [
              0.4444444444444444,
              "#bd3786"
             ],
             [
              0.5555555555555556,
              "#d8576b"
             ],
             [
              0.6666666666666666,
              "#ed7953"
             ],
             [
              0.7777777777777778,
              "#fb9f3a"
             ],
             [
              0.8888888888888888,
              "#fdca26"
             ],
             [
              1,
              "#f0f921"
             ]
            ],
            "type": "heatmapgl"
           }
          ],
          "histogram": [
           {
            "marker": {
             "pattern": {
              "fillmode": "overlay",
              "size": 10,
              "solidity": 0.2
             }
            },
            "type": "histogram"
           }
          ],
          "histogram2d": [
           {
            "colorbar": {
             "outlinewidth": 0,
             "ticks": ""
            },
            "colorscale": [
             [
              0,
              "#0d0887"
             ],
             [
              0.1111111111111111,
              "#46039f"
             ],
             [
              0.2222222222222222,
              "#7201a8"
             ],
             [
              0.3333333333333333,
              "#9c179e"
             ],
             [
              0.4444444444444444,
              "#bd3786"
             ],
             [
              0.5555555555555556,
              "#d8576b"
             ],
             [
              0.6666666666666666,
              "#ed7953"
             ],
             [
              0.7777777777777778,
              "#fb9f3a"
             ],
             [
              0.8888888888888888,
              "#fdca26"
             ],
             [
              1,
              "#f0f921"
             ]
            ],
            "type": "histogram2d"
           }
          ],
          "histogram2dcontour": [
           {
            "colorbar": {
             "outlinewidth": 0,
             "ticks": ""
            },
            "colorscale": [
             [
              0,
              "#0d0887"
             ],
             [
              0.1111111111111111,
              "#46039f"
             ],
             [
              0.2222222222222222,
              "#7201a8"
             ],
             [
              0.3333333333333333,
              "#9c179e"
             ],
             [
              0.4444444444444444,
              "#bd3786"
             ],
             [
              0.5555555555555556,
              "#d8576b"
             ],
             [
              0.6666666666666666,
              "#ed7953"
             ],
             [
              0.7777777777777778,
              "#fb9f3a"
             ],
             [
              0.8888888888888888,
              "#fdca26"
             ],
             [
              1,
              "#f0f921"
             ]
            ],
            "type": "histogram2dcontour"
           }
          ],
          "mesh3d": [
           {
            "colorbar": {
             "outlinewidth": 0,
             "ticks": ""
            },
            "type": "mesh3d"
           }
          ],
          "parcoords": [
           {
            "line": {
             "colorbar": {
              "outlinewidth": 0,
              "ticks": ""
             }
            },
            "type": "parcoords"
           }
          ],
          "pie": [
           {
            "automargin": true,
            "type": "pie"
           }
          ],
          "scatter": [
           {
            "fillpattern": {
             "fillmode": "overlay",
             "size": 10,
             "solidity": 0.2
            },
            "type": "scatter"
           }
          ],
          "scatter3d": [
           {
            "line": {
             "colorbar": {
              "outlinewidth": 0,
              "ticks": ""
             }
            },
            "marker": {
             "colorbar": {
              "outlinewidth": 0,
              "ticks": ""
             }
            },
            "type": "scatter3d"
           }
          ],
          "scattercarpet": [
           {
            "marker": {
             "colorbar": {
              "outlinewidth": 0,
              "ticks": ""
             }
            },
            "type": "scattercarpet"
           }
          ],
          "scattergeo": [
           {
            "marker": {
             "colorbar": {
              "outlinewidth": 0,
              "ticks": ""
             }
            },
            "type": "scattergeo"
           }
          ],
          "scattergl": [
           {
            "marker": {
             "colorbar": {
              "outlinewidth": 0,
              "ticks": ""
             }
            },
            "type": "scattergl"
           }
          ],
          "scattermapbox": [
           {
            "marker": {
             "colorbar": {
              "outlinewidth": 0,
              "ticks": ""
             }
            },
            "type": "scattermapbox"
           }
          ],
          "scatterpolar": [
           {
            "marker": {
             "colorbar": {
              "outlinewidth": 0,
              "ticks": ""
             }
            },
            "type": "scatterpolar"
           }
          ],
          "scatterpolargl": [
           {
            "marker": {
             "colorbar": {
              "outlinewidth": 0,
              "ticks": ""
             }
            },
            "type": "scatterpolargl"
           }
          ],
          "scatterternary": [
           {
            "marker": {
             "colorbar": {
              "outlinewidth": 0,
              "ticks": ""
             }
            },
            "type": "scatterternary"
           }
          ],
          "surface": [
           {
            "colorbar": {
             "outlinewidth": 0,
             "ticks": ""
            },
            "colorscale": [
             [
              0,
              "#0d0887"
             ],
             [
              0.1111111111111111,
              "#46039f"
             ],
             [
              0.2222222222222222,
              "#7201a8"
             ],
             [
              0.3333333333333333,
              "#9c179e"
             ],
             [
              0.4444444444444444,
              "#bd3786"
             ],
             [
              0.5555555555555556,
              "#d8576b"
             ],
             [
              0.6666666666666666,
              "#ed7953"
             ],
             [
              0.7777777777777778,
              "#fb9f3a"
             ],
             [
              0.8888888888888888,
              "#fdca26"
             ],
             [
              1,
              "#f0f921"
             ]
            ],
            "type": "surface"
           }
          ],
          "table": [
           {
            "cells": {
             "fill": {
              "color": "#EBF0F8"
             },
             "line": {
              "color": "white"
             }
            },
            "header": {
             "fill": {
              "color": "#C8D4E3"
             },
             "line": {
              "color": "white"
             }
            },
            "type": "table"
           }
          ]
         },
         "layout": {
          "annotationdefaults": {
           "arrowcolor": "#2a3f5f",
           "arrowhead": 0,
           "arrowwidth": 1
          },
          "autotypenumbers": "strict",
          "coloraxis": {
           "colorbar": {
            "outlinewidth": 0,
            "ticks": ""
           }
          },
          "colorscale": {
           "diverging": [
            [
             0,
             "#8e0152"
            ],
            [
             0.1,
             "#c51b7d"
            ],
            [
             0.2,
             "#de77ae"
            ],
            [
             0.3,
             "#f1b6da"
            ],
            [
             0.4,
             "#fde0ef"
            ],
            [
             0.5,
             "#f7f7f7"
            ],
            [
             0.6,
             "#e6f5d0"
            ],
            [
             0.7,
             "#b8e186"
            ],
            [
             0.8,
             "#7fbc41"
            ],
            [
             0.9,
             "#4d9221"
            ],
            [
             1,
             "#276419"
            ]
           ],
           "sequential": [
            [
             0,
             "#0d0887"
            ],
            [
             0.1111111111111111,
             "#46039f"
            ],
            [
             0.2222222222222222,
             "#7201a8"
            ],
            [
             0.3333333333333333,
             "#9c179e"
            ],
            [
             0.4444444444444444,
             "#bd3786"
            ],
            [
             0.5555555555555556,
             "#d8576b"
            ],
            [
             0.6666666666666666,
             "#ed7953"
            ],
            [
             0.7777777777777778,
             "#fb9f3a"
            ],
            [
             0.8888888888888888,
             "#fdca26"
            ],
            [
             1,
             "#f0f921"
            ]
           ],
           "sequentialminus": [
            [
             0,
             "#0d0887"
            ],
            [
             0.1111111111111111,
             "#46039f"
            ],
            [
             0.2222222222222222,
             "#7201a8"
            ],
            [
             0.3333333333333333,
             "#9c179e"
            ],
            [
             0.4444444444444444,
             "#bd3786"
            ],
            [
             0.5555555555555556,
             "#d8576b"
            ],
            [
             0.6666666666666666,
             "#ed7953"
            ],
            [
             0.7777777777777778,
             "#fb9f3a"
            ],
            [
             0.8888888888888888,
             "#fdca26"
            ],
            [
             1,
             "#f0f921"
            ]
           ]
          },
          "colorway": [
           "#636efa",
           "#EF553B",
           "#00cc96",
           "#ab63fa",
           "#FFA15A",
           "#19d3f3",
           "#FF6692",
           "#B6E880",
           "#FF97FF",
           "#FECB52"
          ],
          "font": {
           "color": "#2a3f5f"
          },
          "geo": {
           "bgcolor": "white",
           "lakecolor": "white",
           "landcolor": "#E5ECF6",
           "showlakes": true,
           "showland": true,
           "subunitcolor": "white"
          },
          "hoverlabel": {
           "align": "left"
          },
          "hovermode": "closest",
          "mapbox": {
           "style": "light"
          },
          "paper_bgcolor": "white",
          "plot_bgcolor": "#E5ECF6",
          "polar": {
           "angularaxis": {
            "gridcolor": "white",
            "linecolor": "white",
            "ticks": ""
           },
           "bgcolor": "#E5ECF6",
           "radialaxis": {
            "gridcolor": "white",
            "linecolor": "white",
            "ticks": ""
           }
          },
          "scene": {
           "xaxis": {
            "backgroundcolor": "#E5ECF6",
            "gridcolor": "white",
            "gridwidth": 2,
            "linecolor": "white",
            "showbackground": true,
            "ticks": "",
            "zerolinecolor": "white"
           },
           "yaxis": {
            "backgroundcolor": "#E5ECF6",
            "gridcolor": "white",
            "gridwidth": 2,
            "linecolor": "white",
            "showbackground": true,
            "ticks": "",
            "zerolinecolor": "white"
           },
           "zaxis": {
            "backgroundcolor": "#E5ECF6",
            "gridcolor": "white",
            "gridwidth": 2,
            "linecolor": "white",
            "showbackground": true,
            "ticks": "",
            "zerolinecolor": "white"
           }
          },
          "shapedefaults": {
           "line": {
            "color": "#2a3f5f"
           }
          },
          "ternary": {
           "aaxis": {
            "gridcolor": "white",
            "linecolor": "white",
            "ticks": ""
           },
           "baxis": {
            "gridcolor": "white",
            "linecolor": "white",
            "ticks": ""
           },
           "bgcolor": "#E5ECF6",
           "caxis": {
            "gridcolor": "white",
            "linecolor": "white",
            "ticks": ""
           }
          },
          "title": {
           "x": 0.05
          },
          "xaxis": {
           "automargin": true,
           "gridcolor": "white",
           "linecolor": "white",
           "ticks": "",
           "title": {
            "standoff": 15
           },
           "zerolinecolor": "white",
           "zerolinewidth": 2
          },
          "yaxis": {
           "automargin": true,
           "gridcolor": "white",
           "linecolor": "white",
           "ticks": "",
           "title": {
            "standoff": 15
           },
           "zerolinecolor": "white",
           "zerolinewidth": 2
          }
         }
        }
       }
      }
     },
     "metadata": {},
     "output_type": "display_data"
    }
   ],
   "source": [
    "hyperparameters = {\n",
    "        \"lr\": 0.001,\n",
    "        \"batch_size\": 16,\n",
    "        \"hidden_size\": 32,\n",
    "        \"x_size\": 24,\n",
    "        \"y_size\": 24,\n",
    "}\n",
    "\n",
    "mt = MasterTrainer(\n",
    "    model_class = OccupancyDenseNet,\n",
    "    optimizer = Adam,\n",
    "    hyperparameters = hyperparameters,\n",
    "    criterion= nn.MSELoss()\n",
    ")\n",
    "\n",
    "train_dict, val_dict, test_dict = train_val_test_split(data_dict, verbose=False)\n",
    "train_set, val_set, test_set = mt.initialize_dataset(train_dict, val_dict, test_dict, frequency)\n",
    "train_loader, val_loader, test_loader = mt.initialize_dataloader(train_set, val_set, test_set)\n",
    "\n",
    "mt.update_hyperparameters(\n",
    "    {\"input_size\": hyperparameters[\"x_size\"], \n",
    "    \"output_size\": hyperparameters[\"y_size\"]}\n",
    ")\n",
    "model = mt.initialize_model()\n",
    "optimizer = mt.initialize_optimizer(model)\n",
    "\n",
    "n_epochs = 15\n",
    "\n",
    "mean_train_losses = []\n",
    "mean_val_losses = []\n",
    "val_losses = []\n",
    "train_losses = []\n",
    "\n",
    "for n_epoch in range(n_epochs):\n",
    "\n",
    "    train_loss, val_loss = mt.train(train_loader, model, optimizer, val_loader)\n",
    "        \n",
    "    mean_train_losses.append(np.mean(train_loss))\n",
    "    mean_val_losses.append(np.mean(val_loss))\n",
    "    val_losses.extend(val_loss)\n",
    "    train_losses.extend(train_loss)\n",
    "    \n",
    "fig = go.Figure()\n",
    "\n",
    "fig.add_trace(\n",
    "    go.Scatter(\n",
    "        x=np.arange(1, n_epochs+1), \n",
    "        y=mean_train_losses,\n",
    "        mode=\"lines\",\n",
    "        name=f\"Train Loss\"))"
   ]
  },
  {
   "cell_type": "code",
   "execution_count": 405,
   "metadata": {},
   "outputs": [
    {
     "ename": "AttributeError",
     "evalue": "'torch.device' object has no attribute '_apply'",
     "output_type": "error",
     "traceback": [
      "\u001b[0;31m---------------------------------------------------------------------------\u001b[0m",
      "\u001b[0;31mAttributeError\u001b[0m                            Traceback (most recent call last)",
      "Cell \u001b[0;32mIn[405], line 14\u001b[0m\n\u001b[1;32m      2\u001b[0m model \u001b[38;5;241m=\u001b[39m OccupancyDenseNet(input_size\u001b[38;5;241m=\u001b[39mtrain_set\u001b[38;5;241m.\u001b[39mx_size, \n\u001b[1;32m      3\u001b[0m                           hidden_size\u001b[38;5;241m=\u001b[39mhidden_size, \n\u001b[1;32m      4\u001b[0m                           output_size\u001b[38;5;241m=\u001b[39mtrain_set\u001b[38;5;241m.\u001b[39my_size)\n\u001b[1;32m      6\u001b[0m hyperparameters \u001b[38;5;241m=\u001b[39m {\n\u001b[1;32m      7\u001b[0m         \u001b[38;5;124m\"\u001b[39m\u001b[38;5;124mlr\u001b[39m\u001b[38;5;124m\"\u001b[39m: \u001b[38;5;241m0.001\u001b[39m,\n\u001b[1;32m      8\u001b[0m         \u001b[38;5;124m\"\u001b[39m\u001b[38;5;124mbatch_size\u001b[39m\u001b[38;5;124m\"\u001b[39m: \u001b[38;5;241m4\u001b[39m,\n\u001b[0;32m   (...)\u001b[0m\n\u001b[1;32m     11\u001b[0m         \u001b[38;5;124m\"\u001b[39m\u001b[38;5;124moutput_size\u001b[39m\u001b[38;5;124m\"\u001b[39m: train_set\u001b[38;5;241m.\u001b[39my_size\n\u001b[1;32m     12\u001b[0m }\n\u001b[0;32m---> 14\u001b[0m mt \u001b[38;5;241m=\u001b[39m \u001b[43mMasterTrainer\u001b[49m\u001b[43m(\u001b[49m\n\u001b[1;32m     15\u001b[0m \u001b[43m    \u001b[49m\u001b[43mmodel\u001b[49m\u001b[43m \u001b[49m\u001b[38;5;241;43m=\u001b[39;49m\u001b[43m \u001b[49m\u001b[43mOccupancyDenseNet\u001b[49m\u001b[43m,\u001b[49m\n\u001b[1;32m     16\u001b[0m \u001b[43m    \u001b[49m\u001b[43moptimizer\u001b[49m\u001b[43m \u001b[49m\u001b[38;5;241;43m=\u001b[39;49m\u001b[43m \u001b[49m\u001b[43mAdam\u001b[49m\u001b[43m,\u001b[49m\n\u001b[1;32m     17\u001b[0m \u001b[43m    \u001b[49m\u001b[43mhyperparameters\u001b[49m\u001b[43m \u001b[49m\u001b[38;5;241;43m=\u001b[39;49m\u001b[43m \u001b[49m\u001b[43mhyperparameters\u001b[49m\u001b[43m,\u001b[49m\n\u001b[1;32m     18\u001b[0m \u001b[43m    \u001b[49m\u001b[43mcriterion\u001b[49m\u001b[38;5;241;43m=\u001b[39;49m\u001b[43m \u001b[49m\u001b[43mnn\u001b[49m\u001b[38;5;241;43m.\u001b[39;49m\u001b[43mMSELoss\u001b[49m\u001b[43m(\u001b[49m\u001b[43m)\u001b[49m\n\u001b[1;32m     19\u001b[0m \u001b[43m)\u001b[49m\n\u001b[1;32m     22\u001b[0m \u001b[38;5;66;03m#optimizer = torch.optim.Adam(model.parameters(), lr=learning_rate)\u001b[39;00m\n\u001b[1;32m     23\u001b[0m \n\u001b[1;32m     24\u001b[0m \u001b[38;5;66;03m#n_epochs = 10\u001b[39;00m\n\u001b[0;32m   (...)\u001b[0m\n\u001b[1;32m     56\u001b[0m \u001b[38;5;66;03m#    mode=\"lines\",\u001b[39;00m\n\u001b[1;32m     57\u001b[0m \u001b[38;5;66;03m#    name=f\"Validation Loss\"))   \u001b[39;00m\n",
      "Cell \u001b[0;32mIn[396], line 9\u001b[0m, in \u001b[0;36mMasterTrainer.__init__\u001b[0;34m(self, model, optimizer, hyperparameters, criterion)\u001b[0m\n\u001b[1;32m      7\u001b[0m \u001b[38;5;28;01mdef\u001b[39;00m \u001b[38;5;21m__init__\u001b[39m(\u001b[38;5;28mself\u001b[39m, model:nn\u001b[38;5;241m.\u001b[39mModule, optimizer:Optimizer, hyperparameters:\u001b[38;5;28mdict\u001b[39m, criterion) \u001b[38;5;241m-\u001b[39m\u001b[38;5;241m>\u001b[39m \u001b[38;5;28;01mNone\u001b[39;00m:\n\u001b[0;32m----> 9\u001b[0m     \u001b[38;5;28mself\u001b[39m\u001b[38;5;241m.\u001b[39mmodel \u001b[38;5;241m=\u001b[39m \u001b[43mmodel\u001b[49m\u001b[38;5;241;43m.\u001b[39;49m\u001b[43mto\u001b[49m\u001b[43m(\u001b[49m\u001b[38;5;28;43mself\u001b[39;49m\u001b[38;5;241;43m.\u001b[39;49m\u001b[43mdevice\u001b[49m\u001b[43m)\u001b[49m\n\u001b[1;32m     10\u001b[0m     \u001b[38;5;28mself\u001b[39m\u001b[38;5;241m.\u001b[39mcriterion \u001b[38;5;241m=\u001b[39m criterion\n\u001b[1;32m     11\u001b[0m     \u001b[38;5;28mself\u001b[39m\u001b[38;5;241m.\u001b[39moptimizer \u001b[38;5;241m=\u001b[39m optimizer\n",
      "File \u001b[0;32m~/anaconda3/envs/webapp/lib/python3.12/site-packages/torch/nn/modules/module.py:1174\u001b[0m, in \u001b[0;36mModule.to\u001b[0;34m(self, *args, **kwargs)\u001b[0m\n\u001b[1;32m   1171\u001b[0m         \u001b[38;5;28;01melse\u001b[39;00m:\n\u001b[1;32m   1172\u001b[0m             \u001b[38;5;28;01mraise\u001b[39;00m\n\u001b[0;32m-> 1174\u001b[0m \u001b[38;5;28;01mreturn\u001b[39;00m \u001b[38;5;28;43mself\u001b[39;49m\u001b[38;5;241;43m.\u001b[39;49m\u001b[43m_apply\u001b[49m(convert)\n",
      "\u001b[0;31mAttributeError\u001b[0m: 'torch.device' object has no attribute '_apply'"
     ]
    }
   ],
   "source": [
    "# write a nice training and testing suite\n",
    "\n",
    "\n",
    "#optimizer = torch.optim.Adam(model.parameters(), lr=learning_rate)\n",
    "\n",
    "#n_epochs = 10\n",
    "#n_updates = 0\n",
    "\n",
    "#mean_train_losses = []\n",
    "#mean_val_losses = []\n",
    "#val_losses = []\n",
    "#train_losses = []\n",
    "\n",
    "#for n_epoch in range(n_epochs):\n",
    "\n",
    "#    train_loss, val_loss = mt.train(train_loader, model, optimizer, val_loader)\n",
    "        \n",
    "#    mean_train_losses.append(np.mean(train_loss))\n",
    "#    mean_val_losses.append(np.mean(val_loss))\n",
    "#    val_losses.extend(val_loss)\n",
    "#    train_losses.extend(train_loss)\n",
    "    \n",
    "    \n",
    "\n",
    "#fig = go.Figure()\n",
    "\n",
    "#fig.add_trace(\n",
    "#    go.Scatter(\n",
    "#        x=np.arange(1, n_epochs+1), \n",
    "#        y=mean_train_losses,\n",
    "#        mode=\"lines\",\n",
    "#        name=f\"Train Loss\"))\n",
    "\n",
    "#fig.add_trace(\n",
    "#go.Scatter(\n",
    "#    x=np.arange(1, n_epochs+1), \n",
    "#    y=mean_val_losses,\n",
    "#    mode=\"lines\",\n",
    "#    name=f\"Validation Loss\"))   "
   ]
  },
  {
   "cell_type": "code",
   "execution_count": null,
   "metadata": {},
   "outputs": [
    {
     "data": {
      "application/vnd.plotly.v1+json": {
       "config": {
        "plotlyServerURL": "https://plot.ly"
       },
       "data": [
        {
         "mode": "lines",
         "name": "Train Loss",
         "type": "scatter",
         "x": [
          1,
          2,
          3,
          4,
          5,
          6,
          7,
          8,
          9,
          10
         ],
         "y": [
          101.403076171875,
          97.06747436523438,
          96.71691131591797,
          95.95159149169922,
          95.12738037109375,
          94.77503967285156,
          94.3165283203125,
          93.7276382446289,
          93.56240844726562,
          93.45244598388672
         ]
        }
       ],
       "layout": {
        "template": {
         "data": {
          "bar": [
           {
            "error_x": {
             "color": "#2a3f5f"
            },
            "error_y": {
             "color": "#2a3f5f"
            },
            "marker": {
             "line": {
              "color": "#E5ECF6",
              "width": 0.5
             },
             "pattern": {
              "fillmode": "overlay",
              "size": 10,
              "solidity": 0.2
             }
            },
            "type": "bar"
           }
          ],
          "barpolar": [
           {
            "marker": {
             "line": {
              "color": "#E5ECF6",
              "width": 0.5
             },
             "pattern": {
              "fillmode": "overlay",
              "size": 10,
              "solidity": 0.2
             }
            },
            "type": "barpolar"
           }
          ],
          "carpet": [
           {
            "aaxis": {
             "endlinecolor": "#2a3f5f",
             "gridcolor": "white",
             "linecolor": "white",
             "minorgridcolor": "white",
             "startlinecolor": "#2a3f5f"
            },
            "baxis": {
             "endlinecolor": "#2a3f5f",
             "gridcolor": "white",
             "linecolor": "white",
             "minorgridcolor": "white",
             "startlinecolor": "#2a3f5f"
            },
            "type": "carpet"
           }
          ],
          "choropleth": [
           {
            "colorbar": {
             "outlinewidth": 0,
             "ticks": ""
            },
            "type": "choropleth"
           }
          ],
          "contour": [
           {
            "colorbar": {
             "outlinewidth": 0,
             "ticks": ""
            },
            "colorscale": [
             [
              0,
              "#0d0887"
             ],
             [
              0.1111111111111111,
              "#46039f"
             ],
             [
              0.2222222222222222,
              "#7201a8"
             ],
             [
              0.3333333333333333,
              "#9c179e"
             ],
             [
              0.4444444444444444,
              "#bd3786"
             ],
             [
              0.5555555555555556,
              "#d8576b"
             ],
             [
              0.6666666666666666,
              "#ed7953"
             ],
             [
              0.7777777777777778,
              "#fb9f3a"
             ],
             [
              0.8888888888888888,
              "#fdca26"
             ],
             [
              1,
              "#f0f921"
             ]
            ],
            "type": "contour"
           }
          ],
          "contourcarpet": [
           {
            "colorbar": {
             "outlinewidth": 0,
             "ticks": ""
            },
            "type": "contourcarpet"
           }
          ],
          "heatmap": [
           {
            "colorbar": {
             "outlinewidth": 0,
             "ticks": ""
            },
            "colorscale": [
             [
              0,
              "#0d0887"
             ],
             [
              0.1111111111111111,
              "#46039f"
             ],
             [
              0.2222222222222222,
              "#7201a8"
             ],
             [
              0.3333333333333333,
              "#9c179e"
             ],
             [
              0.4444444444444444,
              "#bd3786"
             ],
             [
              0.5555555555555556,
              "#d8576b"
             ],
             [
              0.6666666666666666,
              "#ed7953"
             ],
             [
              0.7777777777777778,
              "#fb9f3a"
             ],
             [
              0.8888888888888888,
              "#fdca26"
             ],
             [
              1,
              "#f0f921"
             ]
            ],
            "type": "heatmap"
           }
          ],
          "heatmapgl": [
           {
            "colorbar": {
             "outlinewidth": 0,
             "ticks": ""
            },
            "colorscale": [
             [
              0,
              "#0d0887"
             ],
             [
              0.1111111111111111,
              "#46039f"
             ],
             [
              0.2222222222222222,
              "#7201a8"
             ],
             [
              0.3333333333333333,
              "#9c179e"
             ],
             [
              0.4444444444444444,
              "#bd3786"
             ],
             [
              0.5555555555555556,
              "#d8576b"
             ],
             [
              0.6666666666666666,
              "#ed7953"
             ],
             [
              0.7777777777777778,
              "#fb9f3a"
             ],
             [
              0.8888888888888888,
              "#fdca26"
             ],
             [
              1,
              "#f0f921"
             ]
            ],
            "type": "heatmapgl"
           }
          ],
          "histogram": [
           {
            "marker": {
             "pattern": {
              "fillmode": "overlay",
              "size": 10,
              "solidity": 0.2
             }
            },
            "type": "histogram"
           }
          ],
          "histogram2d": [
           {
            "colorbar": {
             "outlinewidth": 0,
             "ticks": ""
            },
            "colorscale": [
             [
              0,
              "#0d0887"
             ],
             [
              0.1111111111111111,
              "#46039f"
             ],
             [
              0.2222222222222222,
              "#7201a8"
             ],
             [
              0.3333333333333333,
              "#9c179e"
             ],
             [
              0.4444444444444444,
              "#bd3786"
             ],
             [
              0.5555555555555556,
              "#d8576b"
             ],
             [
              0.6666666666666666,
              "#ed7953"
             ],
             [
              0.7777777777777778,
              "#fb9f3a"
             ],
             [
              0.8888888888888888,
              "#fdca26"
             ],
             [
              1,
              "#f0f921"
             ]
            ],
            "type": "histogram2d"
           }
          ],
          "histogram2dcontour": [
           {
            "colorbar": {
             "outlinewidth": 0,
             "ticks": ""
            },
            "colorscale": [
             [
              0,
              "#0d0887"
             ],
             [
              0.1111111111111111,
              "#46039f"
             ],
             [
              0.2222222222222222,
              "#7201a8"
             ],
             [
              0.3333333333333333,
              "#9c179e"
             ],
             [
              0.4444444444444444,
              "#bd3786"
             ],
             [
              0.5555555555555556,
              "#d8576b"
             ],
             [
              0.6666666666666666,
              "#ed7953"
             ],
             [
              0.7777777777777778,
              "#fb9f3a"
             ],
             [
              0.8888888888888888,
              "#fdca26"
             ],
             [
              1,
              "#f0f921"
             ]
            ],
            "type": "histogram2dcontour"
           }
          ],
          "mesh3d": [
           {
            "colorbar": {
             "outlinewidth": 0,
             "ticks": ""
            },
            "type": "mesh3d"
           }
          ],
          "parcoords": [
           {
            "line": {
             "colorbar": {
              "outlinewidth": 0,
              "ticks": ""
             }
            },
            "type": "parcoords"
           }
          ],
          "pie": [
           {
            "automargin": true,
            "type": "pie"
           }
          ],
          "scatter": [
           {
            "fillpattern": {
             "fillmode": "overlay",
             "size": 10,
             "solidity": 0.2
            },
            "type": "scatter"
           }
          ],
          "scatter3d": [
           {
            "line": {
             "colorbar": {
              "outlinewidth": 0,
              "ticks": ""
             }
            },
            "marker": {
             "colorbar": {
              "outlinewidth": 0,
              "ticks": ""
             }
            },
            "type": "scatter3d"
           }
          ],
          "scattercarpet": [
           {
            "marker": {
             "colorbar": {
              "outlinewidth": 0,
              "ticks": ""
             }
            },
            "type": "scattercarpet"
           }
          ],
          "scattergeo": [
           {
            "marker": {
             "colorbar": {
              "outlinewidth": 0,
              "ticks": ""
             }
            },
            "type": "scattergeo"
           }
          ],
          "scattergl": [
           {
            "marker": {
             "colorbar": {
              "outlinewidth": 0,
              "ticks": ""
             }
            },
            "type": "scattergl"
           }
          ],
          "scattermapbox": [
           {
            "marker": {
             "colorbar": {
              "outlinewidth": 0,
              "ticks": ""
             }
            },
            "type": "scattermapbox"
           }
          ],
          "scatterpolar": [
           {
            "marker": {
             "colorbar": {
              "outlinewidth": 0,
              "ticks": ""
             }
            },
            "type": "scatterpolar"
           }
          ],
          "scatterpolargl": [
           {
            "marker": {
             "colorbar": {
              "outlinewidth": 0,
              "ticks": ""
             }
            },
            "type": "scatterpolargl"
           }
          ],
          "scatterternary": [
           {
            "marker": {
             "colorbar": {
              "outlinewidth": 0,
              "ticks": ""
             }
            },
            "type": "scatterternary"
           }
          ],
          "surface": [
           {
            "colorbar": {
             "outlinewidth": 0,
             "ticks": ""
            },
            "colorscale": [
             [
              0,
              "#0d0887"
             ],
             [
              0.1111111111111111,
              "#46039f"
             ],
             [
              0.2222222222222222,
              "#7201a8"
             ],
             [
              0.3333333333333333,
              "#9c179e"
             ],
             [
              0.4444444444444444,
              "#bd3786"
             ],
             [
              0.5555555555555556,
              "#d8576b"
             ],
             [
              0.6666666666666666,
              "#ed7953"
             ],
             [
              0.7777777777777778,
              "#fb9f3a"
             ],
             [
              0.8888888888888888,
              "#fdca26"
             ],
             [
              1,
              "#f0f921"
             ]
            ],
            "type": "surface"
           }
          ],
          "table": [
           {
            "cells": {
             "fill": {
              "color": "#EBF0F8"
             },
             "line": {
              "color": "white"
             }
            },
            "header": {
             "fill": {
              "color": "#C8D4E3"
             },
             "line": {
              "color": "white"
             }
            },
            "type": "table"
           }
          ]
         },
         "layout": {
          "annotationdefaults": {
           "arrowcolor": "#2a3f5f",
           "arrowhead": 0,
           "arrowwidth": 1
          },
          "autotypenumbers": "strict",
          "coloraxis": {
           "colorbar": {
            "outlinewidth": 0,
            "ticks": ""
           }
          },
          "colorscale": {
           "diverging": [
            [
             0,
             "#8e0152"
            ],
            [
             0.1,
             "#c51b7d"
            ],
            [
             0.2,
             "#de77ae"
            ],
            [
             0.3,
             "#f1b6da"
            ],
            [
             0.4,
             "#fde0ef"
            ],
            [
             0.5,
             "#f7f7f7"
            ],
            [
             0.6,
             "#e6f5d0"
            ],
            [
             0.7,
             "#b8e186"
            ],
            [
             0.8,
             "#7fbc41"
            ],
            [
             0.9,
             "#4d9221"
            ],
            [
             1,
             "#276419"
            ]
           ],
           "sequential": [
            [
             0,
             "#0d0887"
            ],
            [
             0.1111111111111111,
             "#46039f"
            ],
            [
             0.2222222222222222,
             "#7201a8"
            ],
            [
             0.3333333333333333,
             "#9c179e"
            ],
            [
             0.4444444444444444,
             "#bd3786"
            ],
            [
             0.5555555555555556,
             "#d8576b"
            ],
            [
             0.6666666666666666,
             "#ed7953"
            ],
            [
             0.7777777777777778,
             "#fb9f3a"
            ],
            [
             0.8888888888888888,
             "#fdca26"
            ],
            [
             1,
             "#f0f921"
            ]
           ],
           "sequentialminus": [
            [
             0,
             "#0d0887"
            ],
            [
             0.1111111111111111,
             "#46039f"
            ],
            [
             0.2222222222222222,
             "#7201a8"
            ],
            [
             0.3333333333333333,
             "#9c179e"
            ],
            [
             0.4444444444444444,
             "#bd3786"
            ],
            [
             0.5555555555555556,
             "#d8576b"
            ],
            [
             0.6666666666666666,
             "#ed7953"
            ],
            [
             0.7777777777777778,
             "#fb9f3a"
            ],
            [
             0.8888888888888888,
             "#fdca26"
            ],
            [
             1,
             "#f0f921"
            ]
           ]
          },
          "colorway": [
           "#636efa",
           "#EF553B",
           "#00cc96",
           "#ab63fa",
           "#FFA15A",
           "#19d3f3",
           "#FF6692",
           "#B6E880",
           "#FF97FF",
           "#FECB52"
          ],
          "font": {
           "color": "#2a3f5f"
          },
          "geo": {
           "bgcolor": "white",
           "lakecolor": "white",
           "landcolor": "#E5ECF6",
           "showlakes": true,
           "showland": true,
           "subunitcolor": "white"
          },
          "hoverlabel": {
           "align": "left"
          },
          "hovermode": "closest",
          "mapbox": {
           "style": "light"
          },
          "paper_bgcolor": "white",
          "plot_bgcolor": "#E5ECF6",
          "polar": {
           "angularaxis": {
            "gridcolor": "white",
            "linecolor": "white",
            "ticks": ""
           },
           "bgcolor": "#E5ECF6",
           "radialaxis": {
            "gridcolor": "white",
            "linecolor": "white",
            "ticks": ""
           }
          },
          "scene": {
           "xaxis": {
            "backgroundcolor": "#E5ECF6",
            "gridcolor": "white",
            "gridwidth": 2,
            "linecolor": "white",
            "showbackground": true,
            "ticks": "",
            "zerolinecolor": "white"
           },
           "yaxis": {
            "backgroundcolor": "#E5ECF6",
            "gridcolor": "white",
            "gridwidth": 2,
            "linecolor": "white",
            "showbackground": true,
            "ticks": "",
            "zerolinecolor": "white"
           },
           "zaxis": {
            "backgroundcolor": "#E5ECF6",
            "gridcolor": "white",
            "gridwidth": 2,
            "linecolor": "white",
            "showbackground": true,
            "ticks": "",
            "zerolinecolor": "white"
           }
          },
          "shapedefaults": {
           "line": {
            "color": "#2a3f5f"
           }
          },
          "ternary": {
           "aaxis": {
            "gridcolor": "white",
            "linecolor": "white",
            "ticks": ""
           },
           "baxis": {
            "gridcolor": "white",
            "linecolor": "white",
            "ticks": ""
           },
           "bgcolor": "#E5ECF6",
           "caxis": {
            "gridcolor": "white",
            "linecolor": "white",
            "ticks": ""
           }
          },
          "title": {
           "x": 0.05
          },
          "xaxis": {
           "automargin": true,
           "gridcolor": "white",
           "linecolor": "white",
           "ticks": "",
           "title": {
            "standoff": 15
           },
           "zerolinecolor": "white",
           "zerolinewidth": 2
          },
          "yaxis": {
           "automargin": true,
           "gridcolor": "white",
           "linecolor": "white",
           "ticks": "",
           "title": {
            "standoff": 15
           },
           "zerolinecolor": "white",
           "zerolinewidth": 2
          }
         }
        }
       }
      }
     },
     "metadata": {},
     "output_type": "display_data"
    }
   ],
   "source": [
    "device = torch.device(\"cuda\") if torch.cuda.is_available() else torch.device(\"cpu\")\n",
    "\n",
    "batch_size = 4\n",
    "hidden_size = 24\n",
    "learning_rate = 0.01\n",
    "\n",
    "\n",
    "train_loader = DataLoader(train_set, batch_size=batch_size, shuffle=True, collate_fn=custom_collate)\n",
    "val_loader = DataLoader(val_set, batch_size=batch_size, shuffle=True, collate_fn=custom_collate)\n",
    "test_loader = DataLoader(test_set, batch_size=batch_size, shuffle=True, collate_fn=custom_collate)\n",
    "\n",
    "model = OccupancyDenseNet(input_size=train_set.x_size, \n",
    "                          hidden_size=hidden_size, \n",
    "                          output_size=train_set.y_size).to(device)\n",
    "\n",
    "mse = nn.MSELoss()\n",
    "optimizer = torch.optim.Adam(model.parameters(), lr=learning_rate)\n",
    "\n",
    "n_epochs = 10\n",
    "n_updates = 0\n",
    "epoch_losses = np.zeros((n_epochs, 2))\n",
    "\n",
    "for n_epoch in range(n_epochs):\n",
    "\n",
    "    val_loss = []\n",
    "    train_loss = []\n",
    "    for info, X, y in train_loader:\n",
    "        \n",
    "        optimizer.zero_grad()\n",
    "        \n",
    "        X = X.to(device)\n",
    "        y = y.to(device)\n",
    "        \n",
    "        model_output = model(X)\n",
    "        loss = mse(model_output, y)\n",
    "        \n",
    "        loss.backward()\n",
    "        optimizer.step()\n",
    "        n_updates += 1\n",
    "        \n",
    "        # validate every 100 updates\n",
    "        train_loss.append(loss.cpu().detach())\n",
    "        \n",
    "    epoch_losses[n_epoch, 0] = np.mean(train_loss)\n",
    "    \n",
    "\n",
    "fig = go.Figure()\n",
    "fig.add_trace(\n",
    "    go.Scatter(\n",
    "        x=np.arange(1, n_epochs+1), \n",
    "        y=epoch_losses[:, 0],\n",
    "        mode=\"lines\",\n",
    "        name=f\"Train Loss\"))"
   ]
  },
  {
   "cell_type": "code",
   "execution_count": null,
   "metadata": {},
   "outputs": [],
   "source": [
    "def evaluate_model(model, loader, loss):\n",
    "    pass "
   ]
  },
  {
   "cell_type": "code",
   "execution_count": null,
   "metadata": {},
   "outputs": [
    {
     "data": {
      "application/vnd.plotly.v1+json": {
       "config": {
        "plotlyServerURL": "https://plot.ly"
       },
       "data": [
        {
         "mode": "lines",
         "name": "Trainset of Room 0",
         "type": "scatter",
         "x": [
          "2024-04-08T00:00:00",
          "2024-04-08T01:00:00",
          "2024-04-08T02:00:00",
          "2024-04-08T03:00:00",
          "2024-04-08T04:00:00",
          "2024-04-08T05:00:00",
          "2024-04-08T06:00:00",
          "2024-04-08T07:00:00",
          "2024-04-08T08:00:00",
          "2024-04-08T09:00:00",
          "2024-04-08T10:00:00",
          "2024-04-08T11:00:00",
          "2024-04-08T12:00:00",
          "2024-04-08T13:00:00",
          "2024-04-08T14:00:00",
          "2024-04-08T15:00:00",
          "2024-04-08T16:00:00",
          "2024-04-08T17:00:00",
          "2024-04-08T18:00:00",
          "2024-04-08T19:00:00",
          "2024-04-08T20:00:00",
          "2024-04-08T21:00:00",
          "2024-04-08T22:00:00",
          "2024-04-08T23:00:00",
          "2024-04-09T00:00:00",
          "2024-04-09T01:00:00",
          "2024-04-09T02:00:00",
          "2024-04-09T03:00:00",
          "2024-04-09T04:00:00",
          "2024-04-09T05:00:00",
          "2024-04-09T06:00:00",
          "2024-04-09T07:00:00",
          "2024-04-09T08:00:00",
          "2024-04-09T09:00:00",
          "2024-04-09T10:00:00",
          "2024-04-09T11:00:00",
          "2024-04-09T12:00:00",
          "2024-04-09T13:00:00",
          "2024-04-09T14:00:00",
          "2024-04-09T15:00:00",
          "2024-04-09T16:00:00",
          "2024-04-09T17:00:00",
          "2024-04-09T18:00:00",
          "2024-04-09T19:00:00",
          "2024-04-09T20:00:00",
          "2024-04-09T21:00:00",
          "2024-04-09T22:00:00",
          "2024-04-09T23:00:00",
          "2024-04-10T00:00:00",
          "2024-04-10T01:00:00",
          "2024-04-10T02:00:00",
          "2024-04-10T03:00:00",
          "2024-04-10T04:00:00",
          "2024-04-10T05:00:00",
          "2024-04-10T06:00:00",
          "2024-04-10T07:00:00",
          "2024-04-10T08:00:00",
          "2024-04-10T09:00:00",
          "2024-04-10T10:00:00",
          "2024-04-10T11:00:00",
          "2024-04-10T12:00:00",
          "2024-04-10T13:00:00",
          "2024-04-10T14:00:00",
          "2024-04-10T15:00:00",
          "2024-04-10T16:00:00",
          "2024-04-10T17:00:00",
          "2024-04-10T18:00:00",
          "2024-04-10T19:00:00",
          "2024-04-10T20:00:00",
          "2024-04-10T21:00:00",
          "2024-04-10T22:00:00",
          "2024-04-10T23:00:00",
          "2024-04-11T00:00:00",
          "2024-04-11T01:00:00",
          "2024-04-11T02:00:00",
          "2024-04-11T03:00:00",
          "2024-04-11T04:00:00",
          "2024-04-11T05:00:00",
          "2024-04-11T06:00:00",
          "2024-04-11T07:00:00",
          "2024-04-11T08:00:00",
          "2024-04-11T09:00:00",
          "2024-04-11T10:00:00",
          "2024-04-11T11:00:00",
          "2024-04-11T12:00:00",
          "2024-04-11T13:00:00",
          "2024-04-11T14:00:00",
          "2024-04-11T15:00:00",
          "2024-04-11T16:00:00",
          "2024-04-11T17:00:00",
          "2024-04-11T18:00:00",
          "2024-04-11T19:00:00",
          "2024-04-11T20:00:00",
          "2024-04-11T21:00:00",
          "2024-04-11T22:00:00",
          "2024-04-11T23:00:00",
          "2024-04-12T00:00:00",
          "2024-04-12T01:00:00",
          "2024-04-12T02:00:00",
          "2024-04-12T03:00:00",
          "2024-04-12T04:00:00",
          "2024-04-12T05:00:00",
          "2024-04-12T06:00:00",
          "2024-04-12T07:00:00",
          "2024-04-12T08:00:00",
          "2024-04-12T09:00:00",
          "2024-04-12T10:00:00",
          "2024-04-12T11:00:00",
          "2024-04-12T12:00:00",
          "2024-04-12T13:00:00",
          "2024-04-12T14:00:00",
          "2024-04-12T15:00:00",
          "2024-04-12T16:00:00",
          "2024-04-12T17:00:00",
          "2024-04-12T18:00:00",
          "2024-04-12T19:00:00",
          "2024-04-12T20:00:00",
          "2024-04-12T21:00:00",
          "2024-04-12T22:00:00",
          "2024-04-12T23:00:00",
          "2024-04-13T00:00:00",
          "2024-04-13T01:00:00",
          "2024-04-13T02:00:00",
          "2024-04-13T03:00:00",
          "2024-04-13T04:00:00",
          "2024-04-13T05:00:00",
          "2024-04-13T06:00:00",
          "2024-04-13T07:00:00",
          "2024-04-13T08:00:00",
          "2024-04-13T09:00:00",
          "2024-04-13T10:00:00",
          "2024-04-13T11:00:00",
          "2024-04-13T12:00:00",
          "2024-04-13T13:00:00",
          "2024-04-13T14:00:00",
          "2024-04-13T15:00:00",
          "2024-04-13T16:00:00",
          "2024-04-13T17:00:00",
          "2024-04-13T18:00:00",
          "2024-04-13T19:00:00",
          "2024-04-13T20:00:00",
          "2024-04-13T21:00:00",
          "2024-04-13T22:00:00",
          "2024-04-13T23:00:00",
          "2024-04-14T00:00:00",
          "2024-04-14T01:00:00",
          "2024-04-14T02:00:00",
          "2024-04-14T03:00:00",
          "2024-04-14T04:00:00",
          "2024-04-14T05:00:00",
          "2024-04-14T06:00:00",
          "2024-04-14T07:00:00",
          "2024-04-14T08:00:00",
          "2024-04-14T09:00:00",
          "2024-04-14T10:00:00",
          "2024-04-14T11:00:00",
          "2024-04-14T12:00:00",
          "2024-04-14T13:00:00",
          "2024-04-14T14:00:00",
          "2024-04-14T15:00:00",
          "2024-04-14T16:00:00",
          "2024-04-14T17:00:00",
          "2024-04-14T18:00:00",
          "2024-04-14T19:00:00",
          "2024-04-14T20:00:00",
          "2024-04-14T21:00:00",
          "2024-04-14T22:00:00",
          "2024-04-14T23:00:00",
          "2024-04-15T00:00:00",
          "2024-04-15T01:00:00",
          "2024-04-15T02:00:00",
          "2024-04-15T03:00:00",
          "2024-04-15T04:00:00",
          "2024-04-15T05:00:00",
          "2024-04-15T06:00:00",
          "2024-04-15T07:00:00",
          "2024-04-15T08:00:00",
          "2024-04-15T09:00:00",
          "2024-04-15T10:00:00",
          "2024-04-15T11:00:00",
          "2024-04-15T12:00:00",
          "2024-04-15T13:00:00",
          "2024-04-15T14:00:00",
          "2024-04-15T15:00:00",
          "2024-04-15T16:00:00",
          "2024-04-15T17:00:00",
          "2024-04-15T18:00:00",
          "2024-04-15T19:00:00",
          "2024-04-15T20:00:00",
          "2024-04-15T21:00:00",
          "2024-04-15T22:00:00",
          "2024-04-15T23:00:00",
          "2024-04-16T00:00:00",
          "2024-04-16T01:00:00",
          "2024-04-16T02:00:00",
          "2024-04-16T03:00:00",
          "2024-04-16T04:00:00",
          "2024-04-16T05:00:00",
          "2024-04-16T06:00:00",
          "2024-04-16T07:00:00",
          "2024-04-16T08:00:00",
          "2024-04-16T09:00:00",
          "2024-04-16T10:00:00",
          "2024-04-16T11:00:00",
          "2024-04-16T12:00:00",
          "2024-04-16T13:00:00",
          "2024-04-16T14:00:00",
          "2024-04-16T15:00:00",
          "2024-04-16T16:00:00",
          "2024-04-16T17:00:00",
          "2024-04-16T18:00:00",
          "2024-04-16T19:00:00",
          "2024-04-16T20:00:00",
          "2024-04-16T21:00:00",
          "2024-04-16T22:00:00",
          "2024-04-16T23:00:00",
          "2024-04-17T00:00:00",
          "2024-04-17T01:00:00",
          "2024-04-17T02:00:00",
          "2024-04-17T03:00:00",
          "2024-04-17T04:00:00",
          "2024-04-17T05:00:00",
          "2024-04-17T06:00:00",
          "2024-04-17T07:00:00",
          "2024-04-17T08:00:00",
          "2024-04-17T09:00:00",
          "2024-04-17T10:00:00",
          "2024-04-17T11:00:00",
          "2024-04-17T12:00:00",
          "2024-04-17T13:00:00",
          "2024-04-17T14:00:00",
          "2024-04-17T15:00:00",
          "2024-04-17T16:00:00",
          "2024-04-17T17:00:00",
          "2024-04-17T18:00:00",
          "2024-04-17T19:00:00",
          "2024-04-17T20:00:00",
          "2024-04-17T21:00:00",
          "2024-04-17T22:00:00",
          "2024-04-17T23:00:00",
          "2024-04-18T00:00:00",
          "2024-04-18T01:00:00",
          "2024-04-18T02:00:00",
          "2024-04-18T03:00:00",
          "2024-04-18T04:00:00",
          "2024-04-18T05:00:00",
          "2024-04-18T06:00:00",
          "2024-04-18T07:00:00",
          "2024-04-18T08:00:00",
          "2024-04-18T09:00:00",
          "2024-04-18T10:00:00",
          "2024-04-18T11:00:00",
          "2024-04-18T12:00:00",
          "2024-04-18T13:00:00",
          "2024-04-18T14:00:00",
          "2024-04-18T15:00:00",
          "2024-04-18T16:00:00",
          "2024-04-18T17:00:00",
          "2024-04-18T18:00:00",
          "2024-04-18T19:00:00",
          "2024-04-18T20:00:00",
          "2024-04-18T21:00:00",
          "2024-04-18T22:00:00",
          "2024-04-18T23:00:00",
          "2024-04-19T00:00:00",
          "2024-04-19T01:00:00",
          "2024-04-19T02:00:00",
          "2024-04-19T03:00:00",
          "2024-04-19T04:00:00",
          "2024-04-19T05:00:00",
          "2024-04-19T06:00:00",
          "2024-04-19T07:00:00",
          "2024-04-19T08:00:00",
          "2024-04-19T09:00:00",
          "2024-04-19T10:00:00",
          "2024-04-19T11:00:00",
          "2024-04-19T12:00:00",
          "2024-04-19T13:00:00",
          "2024-04-19T14:00:00",
          "2024-04-19T15:00:00",
          "2024-04-19T16:00:00",
          "2024-04-19T17:00:00",
          "2024-04-19T18:00:00",
          "2024-04-19T19:00:00",
          "2024-04-19T20:00:00",
          "2024-04-19T21:00:00",
          "2024-04-19T22:00:00",
          "2024-04-19T23:00:00",
          "2024-04-20T00:00:00",
          "2024-04-20T01:00:00",
          "2024-04-20T02:00:00",
          "2024-04-20T03:00:00",
          "2024-04-20T04:00:00",
          "2024-04-20T05:00:00",
          "2024-04-20T06:00:00",
          "2024-04-20T07:00:00",
          "2024-04-20T08:00:00",
          "2024-04-20T09:00:00",
          "2024-04-20T10:00:00",
          "2024-04-20T11:00:00",
          "2024-04-20T12:00:00",
          "2024-04-20T13:00:00",
          "2024-04-20T14:00:00",
          "2024-04-20T15:00:00",
          "2024-04-20T16:00:00",
          "2024-04-20T17:00:00",
          "2024-04-20T18:00:00",
          "2024-04-20T19:00:00",
          "2024-04-20T20:00:00",
          "2024-04-20T21:00:00",
          "2024-04-20T22:00:00",
          "2024-04-20T23:00:00",
          "2024-04-21T00:00:00",
          "2024-04-21T01:00:00",
          "2024-04-21T02:00:00",
          "2024-04-21T03:00:00",
          "2024-04-21T04:00:00",
          "2024-04-21T05:00:00",
          "2024-04-21T06:00:00",
          "2024-04-21T07:00:00",
          "2024-04-21T08:00:00",
          "2024-04-21T09:00:00",
          "2024-04-21T10:00:00",
          "2024-04-21T11:00:00",
          "2024-04-21T12:00:00",
          "2024-04-21T13:00:00",
          "2024-04-21T14:00:00",
          "2024-04-21T15:00:00",
          "2024-04-21T16:00:00",
          "2024-04-21T17:00:00",
          "2024-04-21T18:00:00",
          "2024-04-21T19:00:00",
          "2024-04-21T20:00:00",
          "2024-04-21T21:00:00",
          "2024-04-21T22:00:00",
          "2024-04-21T23:00:00",
          "2024-04-22T00:00:00",
          "2024-04-22T01:00:00",
          "2024-04-22T02:00:00",
          "2024-04-22T03:00:00",
          "2024-04-22T04:00:00",
          "2024-04-22T05:00:00",
          "2024-04-22T06:00:00",
          "2024-04-22T07:00:00",
          "2024-04-22T08:00:00",
          "2024-04-22T09:00:00",
          "2024-04-22T10:00:00",
          "2024-04-22T11:00:00",
          "2024-04-22T12:00:00",
          "2024-04-22T13:00:00",
          "2024-04-22T14:00:00",
          "2024-04-22T15:00:00",
          "2024-04-22T16:00:00",
          "2024-04-22T17:00:00",
          "2024-04-22T18:00:00",
          "2024-04-22T19:00:00",
          "2024-04-22T20:00:00",
          "2024-04-22T21:00:00",
          "2024-04-22T22:00:00",
          "2024-04-22T23:00:00",
          "2024-04-23T00:00:00",
          "2024-04-23T01:00:00",
          "2024-04-23T02:00:00",
          "2024-04-23T03:00:00",
          "2024-04-23T04:00:00",
          "2024-04-23T05:00:00",
          "2024-04-23T06:00:00",
          "2024-04-23T07:00:00",
          "2024-04-23T08:00:00",
          "2024-04-23T09:00:00",
          "2024-04-23T10:00:00",
          "2024-04-23T11:00:00",
          "2024-04-23T12:00:00",
          "2024-04-23T13:00:00",
          "2024-04-23T14:00:00",
          "2024-04-23T15:00:00",
          "2024-04-23T16:00:00",
          "2024-04-23T17:00:00",
          "2024-04-23T18:00:00",
          "2024-04-23T19:00:00",
          "2024-04-23T20:00:00",
          "2024-04-23T21:00:00",
          "2024-04-23T22:00:00",
          "2024-04-23T23:00:00",
          "2024-04-24T00:00:00",
          "2024-04-24T01:00:00",
          "2024-04-24T02:00:00",
          "2024-04-24T03:00:00",
          "2024-04-24T04:00:00",
          "2024-04-24T05:00:00",
          "2024-04-24T06:00:00",
          "2024-04-24T07:00:00",
          "2024-04-24T08:00:00",
          "2024-04-24T09:00:00",
          "2024-04-24T10:00:00",
          "2024-04-24T11:00:00",
          "2024-04-24T12:00:00",
          "2024-04-24T13:00:00",
          "2024-04-24T14:00:00",
          "2024-04-24T15:00:00",
          "2024-04-24T16:00:00",
          "2024-04-24T17:00:00",
          "2024-04-24T18:00:00",
          "2024-04-24T19:00:00",
          "2024-04-24T20:00:00",
          "2024-04-24T21:00:00",
          "2024-04-24T22:00:00",
          "2024-04-24T23:00:00",
          "2024-04-25T00:00:00",
          "2024-04-25T01:00:00",
          "2024-04-25T02:00:00",
          "2024-04-25T03:00:00",
          "2024-04-25T04:00:00",
          "2024-04-25T05:00:00",
          "2024-04-25T06:00:00",
          "2024-04-25T07:00:00",
          "2024-04-25T08:00:00",
          "2024-04-25T09:00:00",
          "2024-04-25T10:00:00",
          "2024-04-25T11:00:00",
          "2024-04-25T12:00:00",
          "2024-04-25T13:00:00",
          "2024-04-25T14:00:00",
          "2024-04-25T15:00:00",
          "2024-04-25T16:00:00",
          "2024-04-25T17:00:00",
          "2024-04-25T18:00:00",
          "2024-04-25T19:00:00",
          "2024-04-25T20:00:00",
          "2024-04-25T21:00:00",
          "2024-04-25T22:00:00",
          "2024-04-25T23:00:00",
          "2024-04-26T00:00:00",
          "2024-04-26T01:00:00",
          "2024-04-26T02:00:00",
          "2024-04-26T03:00:00",
          "2024-04-26T04:00:00",
          "2024-04-26T05:00:00",
          "2024-04-26T06:00:00",
          "2024-04-26T07:00:00",
          "2024-04-26T08:00:00",
          "2024-04-26T09:00:00",
          "2024-04-26T10:00:00",
          "2024-04-26T11:00:00",
          "2024-04-26T12:00:00",
          "2024-04-26T13:00:00",
          "2024-04-26T14:00:00",
          "2024-04-26T15:00:00",
          "2024-04-26T16:00:00",
          "2024-04-26T17:00:00",
          "2024-04-26T18:00:00",
          "2024-04-26T19:00:00",
          "2024-04-26T20:00:00",
          "2024-04-26T21:00:00",
          "2024-04-26T22:00:00",
          "2024-04-26T23:00:00",
          "2024-04-27T00:00:00",
          "2024-04-27T01:00:00",
          "2024-04-27T02:00:00",
          "2024-04-27T03:00:00",
          "2024-04-27T04:00:00",
          "2024-04-27T05:00:00",
          "2024-04-27T06:00:00",
          "2024-04-27T07:00:00",
          "2024-04-27T08:00:00",
          "2024-04-27T09:00:00",
          "2024-04-27T10:00:00",
          "2024-04-27T11:00:00",
          "2024-04-27T12:00:00",
          "2024-04-27T13:00:00",
          "2024-04-27T14:00:00",
          "2024-04-27T15:00:00",
          "2024-04-27T16:00:00",
          "2024-04-27T17:00:00",
          "2024-04-27T18:00:00",
          "2024-04-27T19:00:00",
          "2024-04-27T20:00:00",
          "2024-04-27T21:00:00",
          "2024-04-27T22:00:00",
          "2024-04-27T23:00:00",
          "2024-04-28T00:00:00",
          "2024-04-28T01:00:00",
          "2024-04-28T02:00:00",
          "2024-04-28T03:00:00",
          "2024-04-28T04:00:00",
          "2024-04-28T05:00:00",
          "2024-04-28T06:00:00",
          "2024-04-28T07:00:00",
          "2024-04-28T08:00:00",
          "2024-04-28T09:00:00",
          "2024-04-28T10:00:00",
          "2024-04-28T11:00:00",
          "2024-04-28T12:00:00",
          "2024-04-28T13:00:00",
          "2024-04-28T14:00:00",
          "2024-04-28T15:00:00",
          "2024-04-28T16:00:00",
          "2024-04-28T17:00:00",
          "2024-04-28T18:00:00",
          "2024-04-28T19:00:00",
          "2024-04-28T20:00:00",
          "2024-04-28T21:00:00",
          "2024-04-28T22:00:00",
          "2024-04-28T23:00:00",
          "2024-04-29T00:00:00",
          "2024-04-29T01:00:00",
          "2024-04-29T02:00:00",
          "2024-04-29T03:00:00",
          "2024-04-29T04:00:00",
          "2024-04-29T05:00:00",
          "2024-04-29T06:00:00",
          "2024-04-29T07:00:00",
          "2024-04-29T08:00:00",
          "2024-04-29T09:00:00",
          "2024-04-29T10:00:00",
          "2024-04-29T11:00:00",
          "2024-04-29T12:00:00",
          "2024-04-29T13:00:00",
          "2024-04-29T14:00:00",
          "2024-04-29T15:00:00",
          "2024-04-29T16:00:00",
          "2024-04-29T17:00:00",
          "2024-04-29T18:00:00",
          "2024-04-29T19:00:00",
          "2024-04-29T20:00:00",
          "2024-04-29T21:00:00",
          "2024-04-29T22:00:00",
          "2024-04-29T23:00:00",
          "2024-04-30T00:00:00",
          "2024-04-30T01:00:00",
          "2024-04-30T02:00:00",
          "2024-04-30T03:00:00",
          "2024-04-30T04:00:00",
          "2024-04-30T05:00:00",
          "2024-04-30T06:00:00",
          "2024-04-30T07:00:00",
          "2024-04-30T08:00:00",
          "2024-04-30T09:00:00",
          "2024-04-30T10:00:00",
          "2024-04-30T11:00:00",
          "2024-04-30T12:00:00",
          "2024-04-30T13:00:00",
          "2024-04-30T14:00:00",
          "2024-04-30T15:00:00",
          "2024-04-30T16:00:00",
          "2024-04-30T17:00:00",
          "2024-04-30T18:00:00",
          "2024-04-30T19:00:00",
          "2024-04-30T20:00:00",
          "2024-04-30T21:00:00",
          "2024-04-30T22:00:00",
          "2024-04-30T23:00:00",
          "2024-05-01T00:00:00",
          "2024-05-01T01:00:00",
          "2024-05-01T02:00:00",
          "2024-05-01T03:00:00",
          "2024-05-01T04:00:00",
          "2024-05-01T05:00:00",
          "2024-05-01T06:00:00",
          "2024-05-01T07:00:00",
          "2024-05-01T08:00:00",
          "2024-05-01T09:00:00",
          "2024-05-01T10:00:00",
          "2024-05-01T11:00:00",
          "2024-05-01T12:00:00",
          "2024-05-01T13:00:00",
          "2024-05-01T14:00:00",
          "2024-05-01T15:00:00",
          "2024-05-01T16:00:00",
          "2024-05-01T17:00:00",
          "2024-05-01T18:00:00",
          "2024-05-01T19:00:00",
          "2024-05-01T20:00:00",
          "2024-05-01T21:00:00",
          "2024-05-01T22:00:00",
          "2024-05-01T23:00:00",
          "2024-05-02T00:00:00",
          "2024-05-02T01:00:00",
          "2024-05-02T02:00:00",
          "2024-05-02T03:00:00",
          "2024-05-02T04:00:00",
          "2024-05-02T05:00:00",
          "2024-05-02T06:00:00",
          "2024-05-02T07:00:00",
          "2024-05-02T08:00:00",
          "2024-05-02T09:00:00",
          "2024-05-02T10:00:00",
          "2024-05-02T11:00:00",
          "2024-05-02T12:00:00",
          "2024-05-02T13:00:00",
          "2024-05-02T14:00:00",
          "2024-05-02T15:00:00",
          "2024-05-02T16:00:00",
          "2024-05-02T17:00:00",
          "2024-05-02T18:00:00",
          "2024-05-02T19:00:00",
          "2024-05-02T20:00:00",
          "2024-05-02T21:00:00",
          "2024-05-02T22:00:00",
          "2024-05-02T23:00:00",
          "2024-05-03T00:00:00",
          "2024-05-03T01:00:00",
          "2024-05-03T02:00:00",
          "2024-05-03T03:00:00",
          "2024-05-03T04:00:00",
          "2024-05-03T05:00:00",
          "2024-05-03T06:00:00",
          "2024-05-03T07:00:00",
          "2024-05-03T08:00:00",
          "2024-05-03T09:00:00",
          "2024-05-03T10:00:00",
          "2024-05-03T11:00:00",
          "2024-05-03T12:00:00",
          "2024-05-03T13:00:00",
          "2024-05-03T14:00:00",
          "2024-05-03T15:00:00",
          "2024-05-03T16:00:00",
          "2024-05-03T17:00:00",
          "2024-05-03T18:00:00",
          "2024-05-03T19:00:00",
          "2024-05-03T20:00:00",
          "2024-05-03T21:00:00",
          "2024-05-03T22:00:00",
          "2024-05-03T23:00:00",
          "2024-05-04T00:00:00",
          "2024-05-04T01:00:00",
          "2024-05-04T02:00:00",
          "2024-05-04T03:00:00",
          "2024-05-04T04:00:00",
          "2024-05-04T05:00:00",
          "2024-05-04T06:00:00",
          "2024-05-04T07:00:00",
          "2024-05-04T08:00:00",
          "2024-05-04T09:00:00",
          "2024-05-04T10:00:00",
          "2024-05-04T11:00:00",
          "2024-05-04T12:00:00",
          "2024-05-04T13:00:00",
          "2024-05-04T14:00:00",
          "2024-05-04T15:00:00",
          "2024-05-04T16:00:00",
          "2024-05-04T17:00:00",
          "2024-05-04T18:00:00",
          "2024-05-04T19:00:00",
          "2024-05-04T20:00:00",
          "2024-05-04T21:00:00",
          "2024-05-04T22:00:00",
          "2024-05-04T23:00:00",
          "2024-05-05T00:00:00",
          "2024-05-05T01:00:00",
          "2024-05-05T02:00:00",
          "2024-05-05T03:00:00",
          "2024-05-05T04:00:00",
          "2024-05-05T05:00:00",
          "2024-05-05T06:00:00",
          "2024-05-05T07:00:00",
          "2024-05-05T08:00:00",
          "2024-05-05T09:00:00",
          "2024-05-05T10:00:00",
          "2024-05-05T11:00:00",
          "2024-05-05T12:00:00",
          "2024-05-05T13:00:00",
          "2024-05-05T14:00:00",
          "2024-05-05T15:00:00",
          "2024-05-05T16:00:00",
          "2024-05-05T17:00:00",
          "2024-05-05T18:00:00",
          "2024-05-05T19:00:00",
          "2024-05-05T20:00:00",
          "2024-05-05T21:00:00",
          "2024-05-05T22:00:00",
          "2024-05-05T23:00:00",
          "2024-05-06T00:00:00",
          "2024-05-06T01:00:00",
          "2024-05-06T02:00:00",
          "2024-05-06T03:00:00",
          "2024-05-06T04:00:00",
          "2024-05-06T05:00:00",
          "2024-05-06T06:00:00",
          "2024-05-06T07:00:00",
          "2024-05-06T08:00:00",
          "2024-05-06T09:00:00",
          "2024-05-06T10:00:00",
          "2024-05-06T11:00:00",
          "2024-05-06T12:00:00",
          "2024-05-06T13:00:00",
          "2024-05-06T14:00:00",
          "2024-05-06T15:00:00",
          "2024-05-06T16:00:00",
          "2024-05-06T17:00:00",
          "2024-05-06T18:00:00",
          "2024-05-06T19:00:00",
          "2024-05-06T20:00:00",
          "2024-05-06T21:00:00",
          "2024-05-06T22:00:00",
          "2024-05-06T23:00:00",
          "2024-05-07T00:00:00",
          "2024-05-07T01:00:00",
          "2024-05-07T02:00:00",
          "2024-05-07T03:00:00",
          "2024-05-07T04:00:00",
          "2024-05-07T05:00:00",
          "2024-05-07T06:00:00",
          "2024-05-07T07:00:00",
          "2024-05-07T08:00:00",
          "2024-05-07T09:00:00",
          "2024-05-07T10:00:00",
          "2024-05-07T11:00:00",
          "2024-05-07T12:00:00",
          "2024-05-07T13:00:00",
          "2024-05-07T14:00:00",
          "2024-05-07T15:00:00",
          "2024-05-07T16:00:00",
          "2024-05-07T17:00:00",
          "2024-05-07T18:00:00",
          "2024-05-07T19:00:00",
          "2024-05-07T20:00:00",
          "2024-05-07T21:00:00",
          "2024-05-07T22:00:00",
          "2024-05-07T23:00:00",
          "2024-05-08T00:00:00",
          "2024-05-08T01:00:00",
          "2024-05-08T02:00:00",
          "2024-05-08T03:00:00",
          "2024-05-08T04:00:00",
          "2024-05-08T05:00:00",
          "2024-05-08T06:00:00",
          "2024-05-08T07:00:00",
          "2024-05-08T08:00:00",
          "2024-05-08T09:00:00",
          "2024-05-08T10:00:00",
          "2024-05-08T11:00:00",
          "2024-05-08T12:00:00",
          "2024-05-08T13:00:00",
          "2024-05-08T14:00:00",
          "2024-05-08T15:00:00",
          "2024-05-08T16:00:00",
          "2024-05-08T17:00:00",
          "2024-05-08T18:00:00",
          "2024-05-08T19:00:00",
          "2024-05-08T20:00:00",
          "2024-05-08T21:00:00",
          "2024-05-08T22:00:00",
          "2024-05-08T23:00:00",
          "2024-05-09T00:00:00",
          "2024-05-09T01:00:00",
          "2024-05-09T02:00:00",
          "2024-05-09T03:00:00",
          "2024-05-09T04:00:00",
          "2024-05-09T05:00:00",
          "2024-05-09T06:00:00",
          "2024-05-09T07:00:00",
          "2024-05-09T08:00:00",
          "2024-05-09T09:00:00",
          "2024-05-09T10:00:00",
          "2024-05-09T11:00:00",
          "2024-05-09T12:00:00",
          "2024-05-09T13:00:00",
          "2024-05-09T14:00:00",
          "2024-05-09T15:00:00",
          "2024-05-09T16:00:00",
          "2024-05-09T17:00:00",
          "2024-05-09T18:00:00",
          "2024-05-09T19:00:00",
          "2024-05-09T20:00:00",
          "2024-05-09T21:00:00",
          "2024-05-09T22:00:00",
          "2024-05-09T23:00:00",
          "2024-05-10T00:00:00",
          "2024-05-10T01:00:00",
          "2024-05-10T02:00:00",
          "2024-05-10T03:00:00",
          "2024-05-10T04:00:00",
          "2024-05-10T05:00:00",
          "2024-05-10T06:00:00",
          "2024-05-10T07:00:00",
          "2024-05-10T08:00:00",
          "2024-05-10T09:00:00",
          "2024-05-10T10:00:00",
          "2024-05-10T11:00:00",
          "2024-05-10T12:00:00",
          "2024-05-10T13:00:00",
          "2024-05-10T14:00:00",
          "2024-05-10T15:00:00",
          "2024-05-10T16:00:00",
          "2024-05-10T17:00:00",
          "2024-05-10T18:00:00",
          "2024-05-10T19:00:00",
          "2024-05-10T20:00:00",
          "2024-05-10T21:00:00",
          "2024-05-10T22:00:00",
          "2024-05-10T23:00:00",
          "2024-05-11T00:00:00",
          "2024-05-11T01:00:00",
          "2024-05-11T02:00:00",
          "2024-05-11T03:00:00",
          "2024-05-11T04:00:00",
          "2024-05-11T05:00:00",
          "2024-05-11T06:00:00",
          "2024-05-11T07:00:00",
          "2024-05-11T08:00:00",
          "2024-05-11T09:00:00",
          "2024-05-11T10:00:00",
          "2024-05-11T11:00:00",
          "2024-05-11T12:00:00",
          "2024-05-11T13:00:00",
          "2024-05-11T14:00:00",
          "2024-05-11T15:00:00",
          "2024-05-11T16:00:00",
          "2024-05-11T17:00:00",
          "2024-05-11T18:00:00",
          "2024-05-11T19:00:00",
          "2024-05-11T20:00:00",
          "2024-05-11T21:00:00",
          "2024-05-11T22:00:00",
          "2024-05-11T23:00:00",
          "2024-05-12T00:00:00",
          "2024-05-12T01:00:00",
          "2024-05-12T02:00:00",
          "2024-05-12T03:00:00",
          "2024-05-12T04:00:00",
          "2024-05-12T05:00:00",
          "2024-05-12T06:00:00",
          "2024-05-12T07:00:00",
          "2024-05-12T08:00:00",
          "2024-05-12T09:00:00",
          "2024-05-12T10:00:00",
          "2024-05-12T11:00:00",
          "2024-05-12T12:00:00",
          "2024-05-12T13:00:00",
          "2024-05-12T14:00:00",
          "2024-05-12T15:00:00",
          "2024-05-12T16:00:00",
          "2024-05-12T17:00:00",
          "2024-05-12T18:00:00",
          "2024-05-12T19:00:00",
          "2024-05-12T20:00:00",
          "2024-05-12T21:00:00",
          "2024-05-12T22:00:00",
          "2024-05-12T23:00:00",
          "2024-05-13T00:00:00",
          "2024-05-13T01:00:00",
          "2024-05-13T02:00:00",
          "2024-05-13T03:00:00",
          "2024-05-13T04:00:00",
          "2024-05-13T05:00:00",
          "2024-05-13T06:00:00",
          "2024-05-13T07:00:00",
          "2024-05-13T08:00:00",
          "2024-05-13T09:00:00",
          "2024-05-13T10:00:00",
          "2024-05-13T11:00:00",
          "2024-05-13T12:00:00",
          "2024-05-13T13:00:00",
          "2024-05-13T14:00:00",
          "2024-05-13T15:00:00",
          "2024-05-13T16:00:00",
          "2024-05-13T17:00:00",
          "2024-05-13T18:00:00",
          "2024-05-13T19:00:00",
          "2024-05-13T20:00:00",
          "2024-05-13T21:00:00",
          "2024-05-13T22:00:00",
          "2024-05-13T23:00:00",
          "2024-05-14T00:00:00",
          "2024-05-14T01:00:00",
          "2024-05-14T02:00:00",
          "2024-05-14T03:00:00",
          "2024-05-14T04:00:00",
          "2024-05-14T05:00:00",
          "2024-05-14T06:00:00",
          "2024-05-14T07:00:00",
          "2024-05-14T08:00:00",
          "2024-05-14T09:00:00",
          "2024-05-14T10:00:00",
          "2024-05-14T11:00:00",
          "2024-05-14T12:00:00",
          "2024-05-14T13:00:00",
          "2024-05-14T14:00:00",
          "2024-05-14T15:00:00",
          "2024-05-14T16:00:00",
          "2024-05-14T17:00:00",
          "2024-05-14T18:00:00",
          "2024-05-14T19:00:00",
          "2024-05-14T20:00:00",
          "2024-05-14T21:00:00",
          "2024-05-14T22:00:00",
          "2024-05-14T23:00:00",
          "2024-05-15T00:00:00",
          "2024-05-15T01:00:00",
          "2024-05-15T02:00:00",
          "2024-05-15T03:00:00",
          "2024-05-15T04:00:00",
          "2024-05-15T05:00:00",
          "2024-05-15T06:00:00",
          "2024-05-15T07:00:00",
          "2024-05-15T08:00:00",
          "2024-05-15T09:00:00",
          "2024-05-15T10:00:00",
          "2024-05-15T11:00:00",
          "2024-05-15T12:00:00",
          "2024-05-15T13:00:00",
          "2024-05-15T14:00:00",
          "2024-05-15T15:00:00",
          "2024-05-15T16:00:00",
          "2024-05-15T17:00:00",
          "2024-05-15T18:00:00",
          "2024-05-15T19:00:00",
          "2024-05-15T20:00:00",
          "2024-05-15T21:00:00",
          "2024-05-15T22:00:00",
          "2024-05-15T23:00:00",
          "2024-05-16T00:00:00",
          "2024-05-16T01:00:00",
          "2024-05-16T02:00:00",
          "2024-05-16T03:00:00",
          "2024-05-16T04:00:00",
          "2024-05-16T05:00:00",
          "2024-05-16T06:00:00",
          "2024-05-16T07:00:00",
          "2024-05-16T08:00:00",
          "2024-05-16T09:00:00",
          "2024-05-16T10:00:00",
          "2024-05-16T11:00:00",
          "2024-05-16T12:00:00",
          "2024-05-16T13:00:00",
          "2024-05-16T14:00:00",
          "2024-05-16T15:00:00",
          "2024-05-16T16:00:00",
          "2024-05-16T17:00:00",
          "2024-05-16T18:00:00",
          "2024-05-16T19:00:00",
          "2024-05-16T20:00:00",
          "2024-05-16T21:00:00",
          "2024-05-16T22:00:00",
          "2024-05-16T23:00:00",
          "2024-05-17T00:00:00",
          "2024-05-17T01:00:00",
          "2024-05-17T02:00:00",
          "2024-05-17T03:00:00",
          "2024-05-17T04:00:00",
          "2024-05-17T05:00:00",
          "2024-05-17T06:00:00",
          "2024-05-17T07:00:00",
          "2024-05-17T08:00:00",
          "2024-05-17T09:00:00",
          "2024-05-17T10:00:00",
          "2024-05-17T11:00:00",
          "2024-05-17T12:00:00",
          "2024-05-17T13:00:00",
          "2024-05-17T14:00:00",
          "2024-05-17T15:00:00",
          "2024-05-17T16:00:00",
          "2024-05-17T17:00:00",
          "2024-05-17T18:00:00",
          "2024-05-17T19:00:00",
          "2024-05-17T20:00:00",
          "2024-05-17T21:00:00",
          "2024-05-17T22:00:00",
          "2024-05-17T23:00:00",
          "2024-05-18T00:00:00",
          "2024-05-18T01:00:00",
          "2024-05-18T02:00:00",
          "2024-05-18T03:00:00",
          "2024-05-18T04:00:00",
          "2024-05-18T05:00:00",
          "2024-05-18T06:00:00",
          "2024-05-18T07:00:00",
          "2024-05-18T08:00:00",
          "2024-05-18T09:00:00",
          "2024-05-18T10:00:00",
          "2024-05-18T11:00:00",
          "2024-05-18T12:00:00",
          "2024-05-18T13:00:00",
          "2024-05-18T14:00:00",
          "2024-05-18T15:00:00",
          "2024-05-18T16:00:00",
          "2024-05-18T17:00:00",
          "2024-05-18T18:00:00",
          "2024-05-18T19:00:00",
          "2024-05-22T22:00:00",
          "2024-05-22T23:00:00",
          "2024-05-23T00:00:00",
          "2024-05-23T01:00:00",
          "2024-05-23T02:00:00",
          "2024-05-23T03:00:00",
          "2024-05-23T04:00:00",
          "2024-05-23T05:00:00",
          "2024-05-23T06:00:00",
          "2024-05-23T07:00:00",
          "2024-05-23T08:00:00",
          "2024-05-23T09:00:00",
          "2024-05-23T10:00:00",
          "2024-05-23T11:00:00",
          "2024-05-23T12:00:00",
          "2024-05-23T13:00:00",
          "2024-05-23T14:00:00",
          "2024-05-23T15:00:00",
          "2024-05-23T16:00:00",
          "2024-05-23T17:00:00",
          "2024-05-23T18:00:00",
          "2024-05-23T19:00:00",
          "2024-05-23T20:00:00",
          "2024-05-23T21:00:00",
          "2024-05-23T22:00:00",
          "2024-05-23T23:00:00",
          "2024-05-24T00:00:00",
          "2024-05-24T01:00:00",
          "2024-05-24T02:00:00",
          "2024-05-24T03:00:00",
          "2024-05-24T04:00:00",
          "2024-05-24T05:00:00",
          "2024-05-24T06:00:00",
          "2024-05-24T07:00:00",
          "2024-05-24T08:00:00",
          "2024-05-24T09:00:00",
          "2024-05-24T10:00:00",
          "2024-05-24T11:00:00",
          "2024-05-24T12:00:00",
          "2024-05-24T13:00:00",
          "2024-05-24T14:00:00",
          "2024-05-24T15:00:00",
          "2024-05-24T16:00:00",
          "2024-05-24T17:00:00",
          "2024-05-24T18:00:00",
          "2024-05-24T19:00:00",
          "2024-05-24T20:00:00",
          "2024-05-24T21:00:00",
          "2024-05-24T22:00:00",
          "2024-05-24T23:00:00",
          "2024-05-25T00:00:00",
          "2024-05-25T01:00:00",
          "2024-05-25T02:00:00",
          "2024-05-25T03:00:00",
          "2024-05-25T04:00:00",
          "2024-05-25T05:00:00",
          "2024-05-25T06:00:00",
          "2024-05-25T07:00:00",
          "2024-05-25T08:00:00",
          "2024-05-25T09:00:00",
          "2024-05-25T10:00:00",
          "2024-05-25T11:00:00",
          "2024-05-25T12:00:00",
          "2024-05-25T13:00:00",
          "2024-05-25T14:00:00",
          "2024-05-25T15:00:00",
          "2024-05-25T16:00:00",
          "2024-05-25T17:00:00",
          "2024-05-25T18:00:00",
          "2024-05-25T19:00:00",
          "2024-05-25T20:00:00",
          "2024-05-25T21:00:00",
          "2024-05-25T22:00:00",
          "2024-05-25T23:00:00",
          "2024-05-26T00:00:00",
          "2024-05-26T01:00:00",
          "2024-05-26T02:00:00",
          "2024-05-26T03:00:00",
          "2024-05-26T04:00:00",
          "2024-05-26T05:00:00",
          "2024-05-26T06:00:00",
          "2024-05-26T07:00:00",
          "2024-05-26T08:00:00",
          "2024-05-26T09:00:00",
          "2024-05-26T10:00:00",
          "2024-05-26T11:00:00",
          "2024-05-26T12:00:00",
          "2024-05-26T13:00:00",
          "2024-05-26T14:00:00",
          "2024-05-26T15:00:00",
          "2024-05-26T16:00:00",
          "2024-05-26T17:00:00",
          "2024-05-26T18:00:00",
          "2024-05-26T19:00:00",
          "2024-05-26T20:00:00",
          "2024-05-26T21:00:00",
          "2024-05-26T22:00:00",
          "2024-05-26T23:00:00",
          "2024-05-31T02:00:00",
          "2024-05-31T03:00:00",
          "2024-05-31T04:00:00",
          "2024-05-31T05:00:00",
          "2024-05-31T06:00:00",
          "2024-05-31T07:00:00",
          "2024-05-31T08:00:00",
          "2024-05-31T09:00:00",
          "2024-05-31T10:00:00",
          "2024-05-31T11:00:00",
          "2024-05-31T12:00:00",
          "2024-05-31T13:00:00",
          "2024-05-31T14:00:00",
          "2024-05-31T15:00:00",
          "2024-05-31T16:00:00",
          "2024-05-31T17:00:00",
          "2024-05-31T18:00:00",
          "2024-05-31T19:00:00",
          "2024-05-31T20:00:00",
          "2024-05-31T21:00:00",
          "2024-05-31T22:00:00",
          "2024-05-31T23:00:00",
          "2024-06-01T00:00:00",
          "2024-06-01T01:00:00",
          "2024-06-01T02:00:00",
          "2024-06-01T03:00:00",
          "2024-06-01T04:00:00",
          "2024-06-01T05:00:00",
          "2024-06-01T06:00:00",
          "2024-06-01T07:00:00",
          "2024-06-01T08:00:00",
          "2024-06-01T09:00:00",
          "2024-06-01T10:00:00",
          "2024-06-01T11:00:00",
          "2024-06-01T12:00:00",
          "2024-06-01T13:00:00",
          "2024-06-01T14:00:00",
          "2024-06-01T15:00:00",
          "2024-06-01T16:00:00",
          "2024-06-01T17:00:00",
          "2024-06-01T18:00:00",
          "2024-06-01T19:00:00",
          "2024-06-01T20:00:00",
          "2024-06-01T21:00:00",
          "2024-06-01T22:00:00",
          "2024-06-01T23:00:00",
          "2024-06-02T00:00:00",
          "2024-06-02T01:00:00",
          "2024-06-02T02:00:00",
          "2024-06-02T03:00:00",
          "2024-06-02T04:00:00",
          "2024-06-02T05:00:00",
          "2024-06-02T06:00:00",
          "2024-06-02T07:00:00",
          "2024-06-02T08:00:00",
          "2024-06-02T09:00:00",
          "2024-06-02T10:00:00",
          "2024-06-02T11:00:00",
          "2024-06-02T12:00:00",
          "2024-06-02T13:00:00",
          "2024-06-02T14:00:00",
          "2024-06-02T15:00:00",
          "2024-06-02T16:00:00",
          "2024-06-02T17:00:00",
          "2024-06-02T18:00:00",
          "2024-06-02T19:00:00",
          "2024-06-02T20:00:00",
          "2024-06-02T21:00:00",
          "2024-06-02T22:00:00",
          "2024-06-02T23:00:00",
          "2024-06-03T00:00:00",
          "2024-06-03T01:00:00",
          "2024-06-03T02:00:00",
          "2024-06-03T03:00:00",
          "2024-06-03T04:00:00",
          "2024-06-03T05:00:00",
          "2024-06-03T06:00:00",
          "2024-06-03T07:00:00",
          "2024-06-03T08:00:00",
          "2024-06-03T09:00:00",
          "2024-06-03T10:00:00",
          "2024-06-03T11:00:00",
          "2024-06-03T12:00:00",
          "2024-06-03T13:00:00",
          "2024-06-03T14:00:00",
          "2024-06-03T15:00:00",
          "2024-06-03T16:00:00",
          "2024-06-03T17:00:00",
          "2024-06-03T18:00:00",
          "2024-06-03T19:00:00",
          "2024-06-03T20:00:00",
          "2024-06-03T21:00:00",
          "2024-06-03T22:00:00",
          "2024-06-03T23:00:00",
          "2024-06-04T00:00:00",
          "2024-06-04T01:00:00",
          "2024-06-04T02:00:00",
          "2024-06-04T03:00:00",
          "2024-06-04T04:00:00",
          "2024-06-04T05:00:00",
          "2024-06-04T06:00:00",
          "2024-06-04T07:00:00",
          "2024-06-04T08:00:00",
          "2024-06-04T09:00:00",
          "2024-06-04T10:00:00",
          "2024-06-04T11:00:00",
          "2024-06-04T12:00:00",
          "2024-06-04T13:00:00",
          "2024-06-04T14:00:00",
          "2024-06-04T15:00:00",
          "2024-06-04T16:00:00",
          "2024-06-04T17:00:00",
          "2024-06-04T18:00:00",
          "2024-06-04T19:00:00",
          "2024-06-04T20:00:00",
          "2024-06-04T21:00:00",
          "2024-06-04T22:00:00",
          "2024-06-04T23:00:00",
          "2024-06-05T00:00:00",
          "2024-06-05T01:00:00",
          "2024-06-05T02:00:00",
          "2024-06-05T03:00:00",
          "2024-06-05T04:00:00",
          "2024-06-05T05:00:00",
          "2024-06-05T06:00:00",
          "2024-06-05T07:00:00",
          "2024-06-05T08:00:00",
          "2024-06-05T09:00:00",
          "2024-06-05T10:00:00",
          "2024-06-05T11:00:00",
          "2024-06-05T12:00:00",
          "2024-06-05T13:00:00",
          "2024-06-05T14:00:00",
          "2024-06-05T15:00:00",
          "2024-06-05T16:00:00",
          "2024-06-05T17:00:00",
          "2024-06-05T18:00:00",
          "2024-06-05T19:00:00",
          "2024-06-05T20:00:00",
          "2024-06-05T21:00:00",
          "2024-06-05T22:00:00",
          "2024-06-05T23:00:00",
          "2024-06-06T00:00:00",
          "2024-06-06T01:00:00",
          "2024-06-06T02:00:00",
          "2024-06-06T03:00:00",
          "2024-06-06T04:00:00",
          "2024-06-06T05:00:00",
          "2024-06-06T06:00:00",
          "2024-06-06T07:00:00",
          "2024-06-06T08:00:00",
          "2024-06-06T09:00:00",
          "2024-06-06T10:00:00",
          "2024-06-06T11:00:00",
          "2024-06-06T12:00:00",
          "2024-06-06T13:00:00",
          "2024-06-06T14:00:00",
          "2024-06-06T15:00:00",
          "2024-06-06T16:00:00",
          "2024-06-06T17:00:00",
          "2024-06-06T18:00:00",
          "2024-06-06T19:00:00",
          "2024-06-06T20:00:00",
          "2024-06-06T21:00:00",
          "2024-06-06T22:00:00",
          "2024-06-06T23:00:00",
          "2024-06-07T00:00:00",
          "2024-06-07T01:00:00",
          "2024-06-07T02:00:00",
          "2024-06-07T03:00:00",
          "2024-06-07T04:00:00",
          "2024-06-07T05:00:00",
          "2024-06-07T06:00:00",
          "2024-06-07T07:00:00",
          "2024-06-07T08:00:00",
          "2024-06-07T09:00:00",
          "2024-06-07T10:00:00",
          "2024-06-07T11:00:00",
          "2024-06-07T12:00:00",
          "2024-06-07T13:00:00",
          "2024-06-07T14:00:00",
          "2024-06-07T15:00:00",
          "2024-06-07T16:00:00",
          "2024-06-07T17:00:00",
          "2024-06-07T18:00:00",
          "2024-06-07T19:00:00",
          "2024-06-07T20:00:00",
          "2024-06-07T21:00:00",
          "2024-06-07T22:00:00",
          "2024-06-07T23:00:00",
          "2024-06-08T00:00:00",
          "2024-06-08T01:00:00",
          "2024-06-08T02:00:00",
          "2024-06-08T03:00:00",
          "2024-06-08T04:00:00",
          "2024-06-08T05:00:00",
          "2024-06-08T06:00:00",
          "2024-06-08T07:00:00",
          "2024-06-08T08:00:00",
          "2024-06-08T09:00:00",
          "2024-06-08T10:00:00",
          "2024-06-08T11:00:00",
          "2024-06-08T12:00:00",
          "2024-06-08T13:00:00",
          "2024-06-08T14:00:00",
          "2024-06-08T15:00:00",
          "2024-06-08T16:00:00",
          "2024-06-08T17:00:00",
          "2024-06-08T18:00:00",
          "2024-06-08T19:00:00",
          "2024-06-08T20:00:00",
          "2024-06-08T21:00:00",
          "2024-06-08T22:00:00",
          "2024-06-08T23:00:00",
          "2024-06-09T00:00:00",
          "2024-06-09T01:00:00",
          "2024-06-09T02:00:00",
          "2024-06-09T03:00:00",
          "2024-06-09T04:00:00",
          "2024-06-09T05:00:00",
          "2024-06-09T06:00:00",
          "2024-06-09T07:00:00",
          "2024-06-09T08:00:00",
          "2024-06-09T09:00:00",
          "2024-06-09T10:00:00",
          "2024-06-09T11:00:00",
          "2024-06-09T12:00:00",
          "2024-06-09T13:00:00",
          "2024-06-09T14:00:00",
          "2024-06-09T15:00:00",
          "2024-06-09T16:00:00",
          "2024-06-09T17:00:00",
          "2024-06-09T18:00:00",
          "2024-06-09T19:00:00",
          "2024-06-09T20:00:00",
          "2024-06-09T21:00:00",
          "2024-06-09T22:00:00",
          "2024-06-09T23:00:00",
          "2024-06-10T00:00:00",
          "2024-06-10T01:00:00",
          "2024-06-10T02:00:00",
          "2024-06-10T03:00:00",
          "2024-06-10T04:00:00",
          "2024-06-10T05:00:00",
          "2024-06-10T06:00:00",
          "2024-06-10T07:00:00",
          "2024-06-10T08:00:00",
          "2024-06-10T09:00:00",
          "2024-06-10T10:00:00",
          "2024-06-10T11:00:00",
          "2024-06-10T12:00:00",
          "2024-06-10T13:00:00",
          "2024-06-10T14:00:00",
          "2024-06-10T15:00:00",
          "2024-06-10T16:00:00",
          "2024-06-10T17:00:00",
          "2024-06-10T18:00:00",
          "2024-06-10T19:00:00",
          "2024-06-10T20:00:00",
          "2024-06-10T21:00:00",
          "2024-06-10T22:00:00",
          "2024-06-10T23:00:00",
          "2024-06-11T00:00:00",
          "2024-06-11T01:00:00",
          "2024-06-11T02:00:00",
          "2024-06-11T03:00:00",
          "2024-06-11T04:00:00",
          "2024-06-11T05:00:00",
          "2024-06-11T06:00:00",
          "2024-06-11T07:00:00",
          "2024-06-11T08:00:00",
          "2024-06-11T09:00:00",
          "2024-06-11T10:00:00",
          "2024-06-11T11:00:00",
          "2024-06-11T12:00:00",
          "2024-06-11T13:00:00",
          "2024-06-11T14:00:00",
          "2024-06-11T15:00:00",
          "2024-06-11T16:00:00",
          "2024-06-11T17:00:00",
          "2024-06-11T18:00:00",
          "2024-06-11T19:00:00",
          "2024-06-11T20:00:00",
          "2024-06-11T21:00:00",
          "2024-06-11T22:00:00",
          "2024-06-11T23:00:00",
          "2024-06-12T00:00:00",
          "2024-06-12T01:00:00",
          "2024-06-12T02:00:00",
          "2024-06-12T03:00:00",
          "2024-06-12T04:00:00",
          "2024-06-12T05:00:00",
          "2024-06-12T06:00:00",
          "2024-06-12T07:00:00",
          "2024-06-12T08:00:00",
          "2024-06-12T09:00:00",
          "2024-06-12T10:00:00",
          "2024-06-12T11:00:00",
          "2024-06-12T12:00:00",
          "2024-06-12T13:00:00",
          "2024-06-12T14:00:00",
          "2024-06-12T15:00:00",
          "2024-06-12T16:00:00",
          "2024-06-12T17:00:00",
          "2024-06-12T18:00:00",
          "2024-06-12T19:00:00",
          "2024-06-12T20:00:00",
          "2024-06-12T21:00:00",
          "2024-06-12T22:00:00",
          "2024-06-12T23:00:00",
          "2024-06-13T00:00:00",
          "2024-06-13T01:00:00",
          "2024-06-13T02:00:00",
          "2024-06-13T03:00:00",
          "2024-06-13T04:00:00",
          "2024-06-13T05:00:00",
          "2024-06-13T06:00:00",
          "2024-06-13T07:00:00",
          "2024-06-13T08:00:00",
          "2024-06-13T09:00:00",
          "2024-06-13T10:00:00",
          "2024-06-13T11:00:00",
          "2024-06-13T12:00:00",
          "2024-06-13T13:00:00",
          "2024-06-13T14:00:00",
          "2024-06-13T15:00:00",
          "2024-06-13T16:00:00",
          "2024-06-13T17:00:00",
          "2024-06-13T18:00:00",
          "2024-06-13T19:00:00",
          "2024-06-13T20:00:00",
          "2024-06-13T21:00:00",
          "2024-06-13T22:00:00",
          "2024-06-13T23:00:00",
          "2024-06-14T00:00:00",
          "2024-06-14T01:00:00",
          "2024-06-14T02:00:00",
          "2024-06-14T03:00:00",
          "2024-06-14T04:00:00",
          "2024-06-14T05:00:00",
          "2024-06-14T06:00:00",
          "2024-06-14T07:00:00",
          "2024-06-14T08:00:00",
          "2024-06-14T09:00:00",
          "2024-06-14T10:00:00",
          "2024-06-14T11:00:00",
          "2024-06-14T12:00:00",
          "2024-06-14T13:00:00",
          "2024-06-14T14:00:00",
          "2024-06-14T15:00:00",
          "2024-06-14T16:00:00",
          "2024-06-14T17:00:00",
          "2024-06-14T18:00:00",
          "2024-06-14T19:00:00",
          "2024-06-14T20:00:00",
          "2024-06-14T21:00:00",
          "2024-06-14T22:00:00",
          "2024-06-14T23:00:00",
          "2024-06-15T00:00:00",
          "2024-06-15T01:00:00",
          "2024-06-15T02:00:00",
          "2024-06-15T03:00:00",
          "2024-06-15T04:00:00",
          "2024-06-15T05:00:00",
          "2024-06-15T06:00:00",
          "2024-06-15T07:00:00",
          "2024-06-15T08:00:00",
          "2024-06-15T09:00:00",
          "2024-06-15T10:00:00",
          "2024-06-15T11:00:00",
          "2024-06-15T12:00:00",
          "2024-06-15T13:00:00",
          "2024-06-15T14:00:00",
          "2024-06-15T15:00:00",
          "2024-06-15T16:00:00",
          "2024-06-15T17:00:00",
          "2024-06-15T18:00:00",
          "2024-06-15T19:00:00",
          "2024-06-15T20:00:00",
          "2024-06-15T21:00:00",
          "2024-06-15T22:00:00",
          "2024-06-15T23:00:00",
          "2024-06-16T00:00:00",
          "2024-06-16T01:00:00",
          "2024-06-16T02:00:00",
          "2024-06-16T03:00:00",
          "2024-06-16T04:00:00",
          "2024-06-16T05:00:00",
          "2024-06-16T06:00:00",
          "2024-06-16T07:00:00",
          "2024-06-16T08:00:00",
          "2024-06-16T09:00:00",
          "2024-06-16T10:00:00",
          "2024-06-16T11:00:00",
          "2024-06-16T12:00:00",
          "2024-06-16T13:00:00",
          "2024-06-16T14:00:00",
          "2024-06-16T15:00:00",
          "2024-06-16T16:00:00",
          "2024-06-16T17:00:00",
          "2024-06-16T18:00:00",
          "2024-06-16T19:00:00",
          "2024-06-16T20:00:00",
          "2024-06-16T21:00:00",
          "2024-06-16T22:00:00",
          "2024-06-16T23:00:00",
          "2024-06-17T00:00:00",
          "2024-06-17T01:00:00",
          "2024-06-17T02:00:00",
          "2024-06-17T03:00:00",
          "2024-06-17T04:00:00",
          "2024-06-17T05:00:00",
          "2024-06-17T06:00:00",
          "2024-06-17T07:00:00",
          "2024-06-17T08:00:00",
          "2024-06-17T09:00:00",
          "2024-06-17T10:00:00",
          "2024-06-17T11:00:00",
          "2024-06-17T12:00:00",
          "2024-06-17T13:00:00",
          "2024-06-17T14:00:00",
          "2024-06-17T15:00:00",
          "2024-06-17T16:00:00",
          "2024-06-17T17:00:00",
          "2024-06-17T18:00:00",
          "2024-06-17T19:00:00",
          "2024-06-17T20:00:00",
          "2024-06-17T21:00:00",
          "2024-06-17T22:00:00",
          "2024-06-17T23:00:00",
          "2024-06-18T00:00:00",
          "2024-06-18T01:00:00",
          "2024-06-18T02:00:00",
          "2024-06-18T03:00:00",
          "2024-06-18T04:00:00",
          "2024-06-18T05:00:00",
          "2024-06-18T06:00:00",
          "2024-06-18T07:00:00",
          "2024-06-18T08:00:00",
          "2024-06-18T09:00:00",
          "2024-06-18T10:00:00",
          "2024-06-18T11:00:00",
          "2024-06-18T12:00:00",
          "2024-06-18T13:00:00",
          "2024-06-18T14:00:00",
          "2024-06-18T15:00:00",
          "2024-06-18T16:00:00",
          "2024-06-18T17:00:00",
          "2024-06-18T18:00:00",
          "2024-06-18T19:00:00",
          "2024-06-18T20:00:00",
          "2024-06-18T21:00:00",
          "2024-06-18T22:00:00",
          "2024-06-18T23:00:00",
          "2024-06-19T00:00:00",
          "2024-06-19T01:00:00",
          "2024-06-19T02:00:00",
          "2024-06-19T03:00:00",
          "2024-06-19T04:00:00",
          "2024-06-19T05:00:00",
          "2024-06-19T06:00:00",
          "2024-06-19T07:00:00",
          "2024-06-19T08:00:00",
          "2024-06-19T09:00:00",
          "2024-06-19T10:00:00",
          "2024-06-19T11:00:00",
          "2024-06-19T12:00:00",
          "2024-06-19T13:00:00",
          "2024-06-19T14:00:00",
          "2024-06-19T15:00:00",
          "2024-06-19T16:00:00",
          "2024-06-19T17:00:00",
          "2024-06-19T18:00:00",
          "2024-06-19T19:00:00",
          "2024-06-19T20:00:00",
          "2024-06-19T21:00:00",
          "2024-06-19T22:00:00",
          "2024-06-19T23:00:00",
          "2024-06-20T00:00:00",
          "2024-06-20T01:00:00",
          "2024-06-20T02:00:00",
          "2024-06-20T03:00:00",
          "2024-06-20T04:00:00",
          "2024-06-20T05:00:00",
          "2024-06-20T06:00:00",
          "2024-06-20T07:00:00",
          "2024-06-20T08:00:00",
          "2024-06-20T09:00:00",
          "2024-06-20T10:00:00",
          "2024-06-20T11:00:00"
         ],
         "y": [
          0,
          0,
          0,
          0,
          0,
          0,
          0,
          2,
          3,
          3,
          3,
          3,
          52,
          65,
          34,
          35,
          32,
          3,
          6,
          1,
          1,
          0,
          0,
          0,
          0,
          0,
          0,
          0,
          0,
          0,
          0,
          0,
          1,
          38,
          37,
          46,
          35,
          40,
          29,
          27,
          16,
          16,
          0,
          0,
          1,
          1,
          0,
          0,
          0,
          0,
          0,
          0,
          0,
          1,
          2,
          0,
          1,
          40,
          41,
          40,
          9,
          9,
          15,
          9,
          17,
          8,
          33,
          0,
          0,
          0,
          0,
          0,
          0,
          0,
          0,
          0,
          0,
          0,
          0,
          5,
          5,
          49,
          48,
          33,
          3,
          0,
          8,
          8,
          51,
          44,
          50,
          0,
          0,
          0,
          0,
          0,
          0,
          0,
          0,
          0,
          0,
          0,
          0,
          1,
          2,
          21,
          15,
          19,
          40,
          54,
          43,
          32,
          17,
          0,
          0,
          0,
          0,
          0,
          0,
          0,
          0,
          0,
          0,
          0,
          0,
          0,
          0,
          0,
          1,
          42,
          23,
          42,
          0,
          0,
          0,
          0,
          0,
          0,
          0,
          0,
          0,
          0,
          0,
          0,
          0,
          0,
          0,
          0,
          0,
          0,
          0,
          0,
          0,
          0,
          0,
          0,
          0,
          0,
          0,
          0,
          0,
          0,
          0,
          0,
          0,
          0,
          0,
          0,
          0,
          0,
          0,
          0,
          0,
          0,
          0,
          1,
          1,
          1,
          1,
          1,
          44,
          46,
          18,
          18,
          24,
          3,
          5,
          0,
          0,
          0,
          0,
          0,
          0,
          0,
          0,
          0,
          0,
          0,
          0,
          0,
          1,
          40,
          40,
          45,
          3,
          1,
          26,
          24,
          20,
          17,
          0,
          0,
          1,
          1,
          0,
          0,
          0,
          0,
          0,
          0,
          0,
          0,
          0,
          1,
          2,
          42,
          40,
          35,
          7,
          9,
          13,
          8,
          8,
          5,
          31,
          2,
          2,
          0,
          0,
          0,
          0,
          0,
          0,
          0,
          0,
          0,
          2,
          1,
          2,
          28,
          29,
          36,
          11,
          7,
          16,
          14,
          4,
          3,
          3,
          25,
          0,
          0,
          0,
          0,
          0,
          0,
          0,
          0,
          0,
          0,
          0,
          2,
          4,
          20,
          21,
          17,
          25,
          47,
          47,
          41,
          34,
          32,
          0,
          0,
          0,
          0,
          0,
          0,
          0,
          0,
          0,
          0,
          0,
          0,
          0,
          0,
          0,
          0,
          0,
          0,
          0,
          0,
          0,
          0,
          0,
          0,
          0,
          0,
          0,
          0,
          0,
          0,
          0,
          0,
          0,
          0,
          0,
          0,
          0,
          0,
          0,
          0,
          0,
          0,
          0,
          0,
          0,
          0,
          0,
          0,
          0,
          0,
          0,
          0,
          0,
          0,
          0,
          0,
          0,
          0,
          0,
          0,
          0,
          7,
          8,
          8,
          8,
          8,
          50,
          62,
          32,
          30,
          42,
          21,
          16,
          0,
          0,
          0,
          0,
          0,
          0,
          0,
          0,
          1,
          2,
          3,
          4,
          0,
          2,
          44,
          41,
          38,
          43,
          43,
          24,
          26,
          17,
          13,
          0,
          0,
          0,
          0,
          0,
          0,
          0,
          0,
          0,
          0,
          0,
          0,
          0,
          3,
          4,
          28,
          29,
          37,
          11,
          11,
          18,
          17,
          17,
          15,
          31,
          0,
          0,
          0,
          0,
          0,
          0,
          0,
          0,
          0,
          0,
          1,
          3,
          0,
          0,
          21,
          21,
          45,
          11,
          10,
          17,
          13,
          0,
          0,
          0,
          0,
          0,
          0,
          0,
          0,
          0,
          0,
          0,
          0,
          0,
          0,
          0,
          10,
          11,
          31,
          20,
          27,
          27,
          0,
          0,
          0,
          0,
          0,
          0,
          0,
          0,
          0,
          0,
          0,
          0,
          0,
          0,
          0,
          0,
          0,
          0,
          0,
          0,
          0,
          0,
          0,
          0,
          0,
          0,
          0,
          0,
          0,
          0,
          0,
          0,
          0,
          0,
          0,
          0,
          0,
          0,
          0,
          0,
          0,
          0,
          0,
          0,
          0,
          0,
          0,
          0,
          0,
          0,
          0,
          0,
          0,
          0,
          0,
          0,
          0,
          0,
          0,
          0,
          0,
          0,
          0,
          0,
          0,
          0,
          7,
          7,
          7,
          7,
          7,
          46,
          62,
          27,
          24,
          24,
          0,
          8,
          0,
          0,
          0,
          0,
          0,
          0,
          0,
          0,
          0,
          0,
          1,
          2,
          0,
          3,
          42,
          42,
          10,
          10,
          15,
          127,
          1,
          0,
          1,
          1,
          1,
          2,
          2,
          1,
          1,
          0,
          0,
          0,
          0,
          0,
          0,
          0,
          0,
          0,
          0,
          0,
          0,
          0,
          0,
          0,
          0,
          0,
          0,
          0,
          0,
          0,
          0,
          0,
          0,
          0,
          0,
          0,
          0,
          0,
          0,
          0,
          8,
          8,
          31,
          25,
          34,
          9,
          8,
          8,
          7,
          0,
          0,
          0,
          0,
          0,
          0,
          0,
          0,
          0,
          0,
          0,
          1,
          2,
          3,
          4,
          0,
          1,
          4,
          4,
          3,
          0,
          4,
          3,
          2,
          0,
          3,
          4,
          0,
          0,
          0,
          0,
          0,
          0,
          0,
          0,
          0,
          0,
          0,
          0,
          0,
          0,
          0,
          0,
          0,
          0,
          0,
          0,
          0,
          0,
          0,
          0,
          0,
          0,
          0,
          0,
          0,
          0,
          0,
          0,
          0,
          0,
          0,
          0,
          0,
          0,
          0,
          0,
          0,
          0,
          0,
          0,
          0,
          0,
          0,
          0,
          0,
          0,
          0,
          0,
          0,
          0,
          0,
          0,
          0,
          0,
          0,
          0,
          0,
          0,
          10,
          11,
          17,
          6,
          6,
          18,
          17,
          16,
          0,
          6,
          0,
          0,
          0,
          0,
          0,
          0,
          0,
          0,
          0,
          0,
          0,
          0,
          6,
          9,
          45,
          12,
          44,
          60,
          49,
          10,
          10,
          16,
          15,
          0,
          0,
          0,
          0,
          0,
          0,
          0,
          0,
          1,
          1,
          1,
          2,
          3,
          1,
          0,
          23,
          24,
          21,
          1,
          0,
          21,
          19,
          15,
          3,
          24,
          0,
          0,
          0,
          0,
          0,
          0,
          0,
          0,
          0,
          0,
          0,
          0,
          0,
          0,
          0,
          0,
          0,
          0,
          0,
          0,
          0,
          0,
          0,
          0,
          0,
          0,
          0,
          0,
          0,
          0,
          0,
          0,
          0,
          0,
          0,
          0,
          0,
          0,
          0,
          0,
          0,
          0,
          0,
          0,
          0,
          0,
          0,
          0,
          0,
          0,
          0,
          0,
          0,
          0,
          0,
          0,
          0,
          0,
          0,
          0,
          0,
          0,
          0,
          0,
          0,
          0,
          0,
          0,
          0,
          0,
          0,
          0,
          0,
          0,
          0,
          0,
          0,
          0,
          0,
          0,
          0,
          0,
          0,
          0,
          0,
          0,
          0,
          0,
          0,
          0,
          0,
          0,
          0,
          0,
          0,
          0,
          0,
          0,
          0,
          0,
          0,
          0,
          0,
          0,
          0,
          0,
          0,
          1,
          0,
          0,
          0,
          0,
          0,
          26,
          41,
          19,
          18,
          22,
          0,
          0,
          3,
          2,
          1,
          0,
          0,
          0,
          0,
          0,
          0,
          0,
          0,
          0,
          13,
          14,
          48,
          51,
          54,
          32,
          40,
          20,
          13,
          23,
          21,
          0,
          0,
          0,
          0,
          0,
          0,
          0,
          0,
          0,
          0,
          0,
          1,
          2,
          0,
          1,
          18,
          19,
          38,
          10,
          10,
          27,
          8,
          15,
          5,
          0,
          0,
          1,
          0,
          0,
          0,
          0,
          0,
          0,
          0,
          0,
          0,
          1,
          0,
          1,
          21,
          24,
          34,
          14,
          13,
          16,
          15,
          1,
          1,
          1,
          1,
          0,
          0,
          0,
          0,
          0,
          1,
          1,
          2,
          2,
          3,
          3,
          3,
          0,
          12,
          2,
          8,
          57,
          1,
          1,
          1,
          1,
          0,
          0,
          0,
          0,
          0,
          0,
          0,
          0,
          0,
          0,
          0,
          0,
          0,
          0,
          0,
          0,
          0,
          0,
          0,
          0,
          0,
          0,
          0,
          0,
          0,
          0,
          0,
          0,
          0,
          0,
          0,
          0,
          0,
          0,
          1,
          2,
          1,
          0,
          25,
          22,
          21,
          3,
          0,
          9,
          8,
          6,
          0,
          0,
          0,
          0,
          1,
          0,
          0,
          0,
          0,
          0,
          0,
          0,
          0,
          0,
          3,
          2,
          1,
          0,
          0,
          0,
          0,
          0,
          0,
          0,
          0,
          0,
          0,
          0,
          0,
          0,
          0,
          0,
          0,
          0,
          0,
          0,
          0,
          0,
          0,
          0,
          0,
          0,
          0,
          0,
          0,
          0,
          0,
          0,
          0,
          0,
          0,
          0,
          0,
          0,
          0,
          0,
          0,
          0,
          0,
          0,
          0,
          0,
          0,
          0,
          0,
          0,
          0,
          0,
          0,
          0,
          0,
          0,
          0,
          0,
          0,
          0,
          0,
          0,
          0,
          0,
          0,
          0,
          0,
          0,
          0,
          0,
          0,
          0,
          0,
          0,
          0,
          0,
          0,
          0,
          0,
          0,
          0,
          1,
          0,
          0,
          0,
          0,
          0,
          0,
          0,
          0,
          0,
          0,
          0,
          0,
          0,
          0,
          0,
          0,
          0,
          0,
          0,
          0,
          0,
          0,
          0,
          0,
          0,
          0,
          0,
          0,
          0,
          0,
          0,
          0,
          0,
          0,
          0,
          0,
          0,
          0,
          0,
          0,
          0,
          0,
          0,
          0,
          0,
          0,
          0,
          0,
          0,
          0,
          0,
          0,
          0,
          0,
          0,
          0,
          0,
          1,
          0,
          0,
          0,
          0,
          0,
          32,
          39,
          19,
          19,
          17,
          0,
          3,
          0,
          0,
          0,
          0,
          0,
          0,
          0,
          0,
          0,
          0,
          0,
          1,
          0,
          1,
          45,
          45,
          28,
          17,
          20,
          8,
          0,
          0,
          2,
          52,
          0,
          0,
          0,
          0,
          0,
          0,
          0,
          0,
          0,
          0,
          0,
          0,
          3,
          3,
          26,
          25,
          33,
          9,
          8,
          6,
          6,
          6,
          6,
          0,
          0,
          0,
          0,
          0,
          0,
          0,
          0,
          0,
          0,
          0,
          0,
          0,
          2,
          3,
          34,
          34,
          32,
          7,
          4,
          14,
          14,
          5,
          0,
          0,
          0,
          0,
          0,
          0,
          0,
          0,
          0,
          0,
          0,
          0,
          0,
          0,
          0,
          0,
          0,
          0,
          0,
          0,
          0,
          0,
          0,
          0,
          0,
          0,
          0,
          0,
          0,
          0,
          0,
          0,
          0,
          0,
          0,
          0,
          0,
          0,
          0,
          0,
          0,
          0,
          0,
          0,
          0,
          0,
          0,
          0,
          0,
          0,
          0,
          0,
          0,
          0,
          0,
          0,
          0,
          0,
          0,
          0,
          0,
          0,
          0,
          0,
          0,
          0,
          0,
          0,
          0,
          0,
          0,
          0,
          0,
          0,
          0,
          0,
          0,
          0,
          0,
          0,
          0,
          0,
          0,
          0,
          0,
          0,
          2,
          2,
          2,
          2,
          2,
          30,
          40,
          15,
          1,
          21,
          6,
          5,
          2,
          2,
          0,
          0,
          0,
          0,
          0,
          0,
          0,
          0,
          0,
          1,
          0,
          3,
          51,
          55,
          22,
          0,
          0,
          7,
          2,
          17,
          4,
          0,
          0,
          0,
          0,
          0,
          0,
          0,
          0,
          0,
          0,
          0,
          0,
          0,
          0,
          2,
          23,
          27,
          45,
          18,
          16,
          28,
          23,
          8,
          11,
          39,
          0,
          0,
          0,
          0,
          0,
          0,
          0,
          0,
          0,
          0,
          0,
          0,
          2,
          2,
          28,
          30,
          29,
          15,
          9,
          0,
          0,
          0,
          0,
          0,
          0,
          0,
          0,
          0,
          0,
          0,
          0,
          0,
          0,
          0,
          0,
          0,
          2,
          2,
          2,
          9,
          23,
          0,
          0,
          0,
          0,
          0,
          0,
          0,
          0,
          0,
          0,
          0,
          0,
          0,
          0,
          0,
          0,
          0,
          0,
          0,
          0,
          0,
          0,
          0,
          0,
          0,
          0,
          0,
          0,
          0,
          0,
          0,
          0,
          0,
          0,
          0,
          0,
          0,
          0,
          0,
          0,
          0,
          0,
          0,
          0,
          0,
          0,
          0,
          0,
          0,
          0,
          0,
          0,
          0,
          0,
          0,
          0,
          0,
          0,
          0,
          0,
          0,
          0,
          0,
          0,
          0,
          0,
          1,
          0,
          1,
          0,
          1,
          0,
          22,
          27,
          0,
          1,
          17,
          0,
          8,
          0,
          0,
          0,
          0,
          0,
          0,
          0,
          0,
          0,
          0,
          0,
          0,
          0,
          0,
          41,
          0,
          6,
          28,
          30,
          8,
          1,
          18,
          18,
          0,
          0,
          0,
          0,
          0,
          0,
          0,
          0,
          0,
          0,
          0,
          1,
          2,
          0,
          0,
          30,
          28,
          24,
          4,
          3,
          2,
          2,
          2,
          2,
          2,
          2,
          2,
          0,
          0,
          0,
          0,
          0,
          0,
          0,
          0,
          1,
          2,
          0,
          1,
          22,
          22,
          14
         ]
        },
        {
         "mode": "lines",
         "name": "Validationset of Room 0",
         "type": "scatter",
         "x": [
          "2024-05-27T00:00:00",
          "2024-05-27T01:00:00",
          "2024-05-27T02:00:00",
          "2024-05-27T03:00:00",
          "2024-05-27T04:00:00",
          "2024-05-27T05:00:00",
          "2024-05-27T06:00:00",
          "2024-05-27T07:00:00",
          "2024-05-27T08:00:00",
          "2024-05-27T09:00:00",
          "2024-05-27T10:00:00",
          "2024-05-27T11:00:00",
          "2024-05-27T12:00:00",
          "2024-05-27T13:00:00",
          "2024-05-27T14:00:00",
          "2024-05-27T15:00:00",
          "2024-05-27T16:00:00",
          "2024-05-27T17:00:00",
          "2024-05-27T18:00:00",
          "2024-05-27T19:00:00",
          "2024-05-27T20:00:00",
          "2024-05-27T21:00:00",
          "2024-05-27T22:00:00",
          "2024-05-27T23:00:00",
          "2024-05-28T00:00:00",
          "2024-05-28T01:00:00",
          "2024-05-28T02:00:00",
          "2024-05-28T03:00:00",
          "2024-05-28T04:00:00",
          "2024-05-28T05:00:00",
          "2024-05-28T06:00:00",
          "2024-05-28T07:00:00",
          "2024-05-28T08:00:00",
          "2024-05-28T09:00:00",
          "2024-05-28T10:00:00",
          "2024-05-28T11:00:00",
          "2024-05-28T12:00:00",
          "2024-05-28T13:00:00",
          "2024-05-28T14:00:00",
          "2024-05-28T15:00:00",
          "2024-05-28T16:00:00",
          "2024-05-28T17:00:00",
          "2024-05-28T18:00:00",
          "2024-05-28T19:00:00",
          "2024-05-28T20:00:00",
          "2024-05-28T21:00:00",
          "2024-05-28T22:00:00",
          "2024-05-28T23:00:00",
          "2024-05-29T00:00:00",
          "2024-05-29T01:00:00",
          "2024-05-29T02:00:00",
          "2024-05-29T03:00:00",
          "2024-05-29T04:00:00",
          "2024-05-29T05:00:00",
          "2024-05-29T06:00:00",
          "2024-05-29T07:00:00",
          "2024-05-29T08:00:00",
          "2024-05-29T09:00:00",
          "2024-05-29T10:00:00",
          "2024-05-29T11:00:00",
          "2024-05-29T12:00:00",
          "2024-05-29T13:00:00",
          "2024-05-29T14:00:00",
          "2024-05-29T15:00:00",
          "2024-05-29T16:00:00",
          "2024-05-29T17:00:00",
          "2024-05-29T18:00:00",
          "2024-05-29T19:00:00",
          "2024-05-29T20:00:00",
          "2024-05-29T21:00:00",
          "2024-05-29T22:00:00",
          "2024-05-29T23:00:00",
          "2024-05-30T00:00:00",
          "2024-05-30T01:00:00",
          "2024-05-30T02:00:00",
          "2024-05-30T03:00:00",
          "2024-05-30T04:00:00",
          "2024-05-30T05:00:00",
          "2024-05-30T06:00:00",
          "2024-05-30T07:00:00",
          "2024-05-30T08:00:00",
          "2024-05-30T09:00:00",
          "2024-05-30T10:00:00",
          "2024-05-30T11:00:00",
          "2024-05-30T12:00:00",
          "2024-05-30T13:00:00",
          "2024-05-30T14:00:00",
          "2024-05-30T15:00:00",
          "2024-05-30T16:00:00",
          "2024-05-30T17:00:00",
          "2024-05-30T18:00:00",
          "2024-05-30T19:00:00",
          "2024-05-30T20:00:00",
          "2024-05-30T21:00:00",
          "2024-05-30T22:00:00",
          "2024-05-30T23:00:00",
          "2024-05-31T00:00:00",
          "2024-05-31T01:00:00",
          "2024-06-24T14:00:00",
          "2024-06-24T15:00:00",
          "2024-06-24T16:00:00",
          "2024-06-24T17:00:00",
          "2024-06-24T18:00:00",
          "2024-06-24T19:00:00",
          "2024-06-24T20:00:00",
          "2024-06-24T21:00:00",
          "2024-06-24T22:00:00",
          "2024-06-24T23:00:00",
          "2024-06-25T00:00:00",
          "2024-06-25T01:00:00",
          "2024-06-25T02:00:00",
          "2024-06-25T03:00:00",
          "2024-06-25T04:00:00",
          "2024-06-25T05:00:00",
          "2024-06-25T06:00:00",
          "2024-06-25T07:00:00",
          "2024-06-25T08:00:00",
          "2024-06-25T09:00:00",
          "2024-06-25T10:00:00",
          "2024-06-25T11:00:00",
          "2024-06-25T12:00:00",
          "2024-06-25T13:00:00",
          "2024-06-25T14:00:00",
          "2024-06-25T15:00:00",
          "2024-06-25T16:00:00",
          "2024-06-25T17:00:00",
          "2024-06-25T18:00:00",
          "2024-06-25T19:00:00",
          "2024-06-25T20:00:00",
          "2024-06-25T21:00:00",
          "2024-06-25T22:00:00",
          "2024-06-25T23:00:00",
          "2024-06-26T00:00:00",
          "2024-06-26T01:00:00",
          "2024-06-26T02:00:00",
          "2024-06-26T03:00:00",
          "2024-06-26T04:00:00",
          "2024-06-26T05:00:00",
          "2024-06-26T06:00:00",
          "2024-06-26T07:00:00",
          "2024-06-26T08:00:00",
          "2024-06-26T09:00:00",
          "2024-06-26T10:00:00",
          "2024-06-26T11:00:00",
          "2024-06-26T12:00:00",
          "2024-06-26T13:00:00",
          "2024-06-26T14:00:00",
          "2024-06-26T15:00:00",
          "2024-06-26T16:00:00",
          "2024-06-26T17:00:00",
          "2024-06-26T18:00:00",
          "2024-06-26T19:00:00",
          "2024-06-26T20:00:00",
          "2024-06-26T21:00:00",
          "2024-06-26T22:00:00",
          "2024-06-26T23:00:00",
          "2024-06-27T00:00:00",
          "2024-06-27T01:00:00",
          "2024-06-27T02:00:00",
          "2024-06-27T03:00:00",
          "2024-06-27T04:00:00",
          "2024-06-27T05:00:00",
          "2024-06-27T06:00:00",
          "2024-06-27T07:00:00",
          "2024-06-27T08:00:00",
          "2024-06-27T09:00:00",
          "2024-06-27T10:00:00",
          "2024-06-27T11:00:00",
          "2024-06-27T12:00:00",
          "2024-06-27T13:00:00",
          "2024-06-27T14:00:00",
          "2024-06-27T15:00:00",
          "2024-06-27T16:00:00",
          "2024-06-27T17:00:00",
          "2024-06-27T18:00:00",
          "2024-06-27T19:00:00",
          "2024-06-27T20:00:00",
          "2024-06-27T21:00:00",
          "2024-06-27T22:00:00",
          "2024-06-27T23:00:00",
          "2024-06-28T00:00:00",
          "2024-06-28T01:00:00",
          "2024-06-28T02:00:00",
          "2024-06-28T03:00:00",
          "2024-06-28T04:00:00",
          "2024-06-28T05:00:00",
          "2024-06-28T06:00:00",
          "2024-06-28T07:00:00",
          "2024-06-28T08:00:00",
          "2024-06-28T09:00:00",
          "2024-06-28T10:00:00",
          "2024-06-28T11:00:00",
          "2024-06-28T12:00:00",
          "2024-06-28T13:00:00",
          "2024-06-28T14:00:00",
          "2024-06-28T15:00:00"
         ],
         "y": [
          0,
          0,
          0,
          0,
          0,
          0,
          1,
          0,
          0,
          0,
          1,
          1,
          32,
          41,
          18,
          16,
          26,
          1,
          5,
          0,
          0,
          0,
          0,
          0,
          0,
          0,
          0,
          0,
          0,
          0,
          1,
          0,
          1,
          22,
          23,
          8,
          8,
          9,
          16,
          16,
          23,
          17,
          0,
          1,
          0,
          0,
          0,
          0,
          0,
          0,
          0,
          0,
          0,
          0,
          1,
          0,
          1,
          24,
          24,
          41,
          5,
          5,
          4,
          4,
          12,
          2,
          27,
          0,
          1,
          1,
          1,
          0,
          0,
          0,
          0,
          0,
          0,
          0,
          0,
          0,
          0,
          0,
          0,
          0,
          0,
          0,
          0,
          0,
          0,
          0,
          0,
          0,
          0,
          0,
          0,
          0,
          0,
          0,
          46,
          0,
          0,
          0,
          4,
          0,
          0,
          0,
          0,
          0,
          0,
          0,
          0,
          0,
          0,
          0,
          0,
          0,
          0,
          32,
          18,
          17,
          54,
          35,
          130,
          24,
          86,
          27,
          29,
          0,
          0,
          0,
          0,
          0,
          0,
          0,
          0,
          0,
          0,
          0,
          1,
          0,
          1,
          17,
          14,
          12,
          0,
          0,
          50,
          39,
          26,
          0,
          0,
          0,
          0,
          0,
          0,
          0,
          0,
          0,
          0,
          0,
          0,
          0,
          0,
          2,
          2,
          19,
          17,
          5,
          5,
          6,
          9,
          8,
          29,
          0,
          42,
          2,
          0,
          0,
          0,
          0,
          0,
          0,
          1,
          1,
          1,
          2,
          3,
          0,
          1,
          6,
          6,
          6,
          35,
          37,
          18,
          0
         ]
        },
        {
         "mode": "lines",
         "name": "Testset of Room 0",
         "type": "scatter",
         "x": [
          "2024-05-18T20:00:00",
          "2024-05-18T21:00:00",
          "2024-05-18T22:00:00",
          "2024-05-18T23:00:00",
          "2024-05-19T00:00:00",
          "2024-05-19T01:00:00",
          "2024-05-19T02:00:00",
          "2024-05-19T03:00:00",
          "2024-05-19T04:00:00",
          "2024-05-19T05:00:00",
          "2024-05-19T06:00:00",
          "2024-05-19T07:00:00",
          "2024-05-19T08:00:00",
          "2024-05-19T09:00:00",
          "2024-05-19T10:00:00",
          "2024-05-19T11:00:00",
          "2024-05-19T12:00:00",
          "2024-05-19T13:00:00",
          "2024-05-19T14:00:00",
          "2024-05-19T15:00:00",
          "2024-05-19T16:00:00",
          "2024-05-19T17:00:00",
          "2024-05-19T18:00:00",
          "2024-05-19T19:00:00",
          "2024-05-19T20:00:00",
          "2024-05-19T21:00:00",
          "2024-05-19T22:00:00",
          "2024-05-19T23:00:00",
          "2024-05-20T00:00:00",
          "2024-05-20T01:00:00",
          "2024-05-20T02:00:00",
          "2024-05-20T03:00:00",
          "2024-05-20T04:00:00",
          "2024-05-20T05:00:00",
          "2024-05-20T06:00:00",
          "2024-05-20T07:00:00",
          "2024-05-20T08:00:00",
          "2024-05-20T09:00:00",
          "2024-05-20T10:00:00",
          "2024-05-20T11:00:00",
          "2024-05-20T12:00:00",
          "2024-05-20T13:00:00",
          "2024-05-20T14:00:00",
          "2024-05-20T15:00:00",
          "2024-05-20T16:00:00",
          "2024-05-20T17:00:00",
          "2024-05-20T18:00:00",
          "2024-05-20T19:00:00",
          "2024-05-20T20:00:00",
          "2024-05-20T21:00:00",
          "2024-05-20T22:00:00",
          "2024-05-20T23:00:00",
          "2024-05-21T00:00:00",
          "2024-05-21T01:00:00",
          "2024-05-21T02:00:00",
          "2024-05-21T03:00:00",
          "2024-05-21T04:00:00",
          "2024-05-21T05:00:00",
          "2024-05-21T06:00:00",
          "2024-05-21T07:00:00",
          "2024-05-21T08:00:00",
          "2024-05-21T09:00:00",
          "2024-05-21T10:00:00",
          "2024-05-21T11:00:00",
          "2024-05-21T12:00:00",
          "2024-05-21T13:00:00",
          "2024-05-21T14:00:00",
          "2024-05-21T15:00:00",
          "2024-05-21T16:00:00",
          "2024-05-21T17:00:00",
          "2024-05-21T18:00:00",
          "2024-05-21T19:00:00",
          "2024-05-21T20:00:00",
          "2024-05-21T21:00:00",
          "2024-05-21T22:00:00",
          "2024-05-21T23:00:00",
          "2024-05-22T00:00:00",
          "2024-05-22T01:00:00",
          "2024-05-22T02:00:00",
          "2024-05-22T03:00:00",
          "2024-05-22T04:00:00",
          "2024-05-22T05:00:00",
          "2024-05-22T06:00:00",
          "2024-05-22T07:00:00",
          "2024-05-22T08:00:00",
          "2024-05-22T09:00:00",
          "2024-05-22T10:00:00",
          "2024-05-22T11:00:00",
          "2024-05-22T12:00:00",
          "2024-05-22T13:00:00",
          "2024-05-22T14:00:00",
          "2024-05-22T15:00:00",
          "2024-05-22T16:00:00",
          "2024-05-22T17:00:00",
          "2024-05-22T18:00:00",
          "2024-05-22T19:00:00",
          "2024-05-22T20:00:00",
          "2024-05-22T21:00:00",
          "2024-06-20T12:00:00",
          "2024-06-20T13:00:00",
          "2024-06-20T14:00:00",
          "2024-06-20T15:00:00",
          "2024-06-20T16:00:00",
          "2024-06-20T17:00:00",
          "2024-06-20T18:00:00",
          "2024-06-20T19:00:00",
          "2024-06-20T20:00:00",
          "2024-06-20T21:00:00",
          "2024-06-20T22:00:00",
          "2024-06-20T23:00:00",
          "2024-06-21T00:00:00",
          "2024-06-21T01:00:00",
          "2024-06-21T02:00:00",
          "2024-06-21T03:00:00",
          "2024-06-21T04:00:00",
          "2024-06-21T05:00:00",
          "2024-06-21T06:00:00",
          "2024-06-21T07:00:00",
          "2024-06-21T08:00:00",
          "2024-06-21T09:00:00",
          "2024-06-21T10:00:00",
          "2024-06-21T11:00:00",
          "2024-06-21T12:00:00",
          "2024-06-21T13:00:00",
          "2024-06-21T14:00:00",
          "2024-06-21T15:00:00",
          "2024-06-21T16:00:00",
          "2024-06-21T17:00:00",
          "2024-06-21T18:00:00",
          "2024-06-21T19:00:00",
          "2024-06-21T20:00:00",
          "2024-06-21T21:00:00",
          "2024-06-21T22:00:00",
          "2024-06-21T23:00:00",
          "2024-06-22T00:00:00",
          "2024-06-22T01:00:00",
          "2024-06-22T02:00:00",
          "2024-06-22T03:00:00",
          "2024-06-22T04:00:00",
          "2024-06-22T05:00:00",
          "2024-06-22T06:00:00",
          "2024-06-22T07:00:00",
          "2024-06-22T08:00:00",
          "2024-06-22T09:00:00",
          "2024-06-22T10:00:00",
          "2024-06-22T11:00:00",
          "2024-06-22T12:00:00",
          "2024-06-22T13:00:00",
          "2024-06-22T14:00:00",
          "2024-06-22T15:00:00",
          "2024-06-22T16:00:00",
          "2024-06-22T17:00:00",
          "2024-06-22T18:00:00",
          "2024-06-22T19:00:00",
          "2024-06-22T20:00:00",
          "2024-06-22T21:00:00",
          "2024-06-22T22:00:00",
          "2024-06-22T23:00:00",
          "2024-06-23T00:00:00",
          "2024-06-23T01:00:00",
          "2024-06-23T02:00:00",
          "2024-06-23T03:00:00",
          "2024-06-23T04:00:00",
          "2024-06-23T05:00:00",
          "2024-06-23T06:00:00",
          "2024-06-23T07:00:00",
          "2024-06-23T08:00:00",
          "2024-06-23T09:00:00",
          "2024-06-23T10:00:00",
          "2024-06-23T11:00:00",
          "2024-06-23T12:00:00",
          "2024-06-23T13:00:00",
          "2024-06-23T14:00:00",
          "2024-06-23T15:00:00",
          "2024-06-23T16:00:00",
          "2024-06-23T17:00:00",
          "2024-06-23T18:00:00",
          "2024-06-23T19:00:00",
          "2024-06-23T20:00:00",
          "2024-06-23T21:00:00",
          "2024-06-23T22:00:00",
          "2024-06-23T23:00:00",
          "2024-06-24T00:00:00",
          "2024-06-24T01:00:00",
          "2024-06-24T02:00:00",
          "2024-06-24T03:00:00",
          "2024-06-24T04:00:00",
          "2024-06-24T05:00:00",
          "2024-06-24T06:00:00",
          "2024-06-24T07:00:00",
          "2024-06-24T08:00:00",
          "2024-06-24T09:00:00",
          "2024-06-24T10:00:00",
          "2024-06-24T11:00:00",
          "2024-06-24T12:00:00",
          "2024-06-24T13:00:00"
         ],
         "y": [
          0,
          0,
          0,
          0,
          0,
          0,
          0,
          0,
          0,
          0,
          0,
          0,
          0,
          0,
          0,
          0,
          0,
          0,
          0,
          0,
          0,
          0,
          0,
          0,
          0,
          0,
          0,
          0,
          0,
          0,
          0,
          0,
          0,
          0,
          0,
          0,
          0,
          0,
          0,
          0,
          0,
          0,
          0,
          0,
          0,
          0,
          0,
          0,
          0,
          0,
          0,
          0,
          0,
          0,
          0,
          0,
          0,
          0,
          0,
          0,
          0,
          0,
          0,
          0,
          0,
          0,
          0,
          0,
          0,
          0,
          0,
          0,
          0,
          0,
          0,
          0,
          0,
          0,
          0,
          0,
          0,
          0,
          4,
          4,
          4,
          23,
          18,
          31,
          3,
          2,
          0,
          0,
          0,
          0,
          1,
          1,
          0,
          0,
          9,
          8,
          2,
          2,
          22,
          16,
          12,
          0,
          1,
          1,
          1,
          1,
          0,
          0,
          0,
          0,
          0,
          0,
          0,
          2,
          2,
          2,
          2,
          2,
          2,
          0,
          0,
          0,
          0,
          0,
          0,
          0,
          0,
          0,
          0,
          0,
          0,
          0,
          0,
          0,
          0,
          0,
          0,
          0,
          0,
          0,
          0,
          0,
          0,
          0,
          0,
          0,
          0,
          0,
          0,
          0,
          0,
          0,
          0,
          0,
          0,
          0,
          0,
          0,
          0,
          0,
          0,
          0,
          0,
          0,
          0,
          0,
          0,
          0,
          0,
          0,
          0,
          0,
          0,
          0,
          0,
          0,
          0,
          0,
          0,
          0,
          0,
          0,
          0,
          0,
          0,
          0,
          0,
          0,
          1,
          1,
          0,
          0
         ]
        }
       ],
       "layout": {
        "template": {
         "data": {
          "bar": [
           {
            "error_x": {
             "color": "#2a3f5f"
            },
            "error_y": {
             "color": "#2a3f5f"
            },
            "marker": {
             "line": {
              "color": "#E5ECF6",
              "width": 0.5
             },
             "pattern": {
              "fillmode": "overlay",
              "size": 10,
              "solidity": 0.2
             }
            },
            "type": "bar"
           }
          ],
          "barpolar": [
           {
            "marker": {
             "line": {
              "color": "#E5ECF6",
              "width": 0.5
             },
             "pattern": {
              "fillmode": "overlay",
              "size": 10,
              "solidity": 0.2
             }
            },
            "type": "barpolar"
           }
          ],
          "carpet": [
           {
            "aaxis": {
             "endlinecolor": "#2a3f5f",
             "gridcolor": "white",
             "linecolor": "white",
             "minorgridcolor": "white",
             "startlinecolor": "#2a3f5f"
            },
            "baxis": {
             "endlinecolor": "#2a3f5f",
             "gridcolor": "white",
             "linecolor": "white",
             "minorgridcolor": "white",
             "startlinecolor": "#2a3f5f"
            },
            "type": "carpet"
           }
          ],
          "choropleth": [
           {
            "colorbar": {
             "outlinewidth": 0,
             "ticks": ""
            },
            "type": "choropleth"
           }
          ],
          "contour": [
           {
            "colorbar": {
             "outlinewidth": 0,
             "ticks": ""
            },
            "colorscale": [
             [
              0,
              "#0d0887"
             ],
             [
              0.1111111111111111,
              "#46039f"
             ],
             [
              0.2222222222222222,
              "#7201a8"
             ],
             [
              0.3333333333333333,
              "#9c179e"
             ],
             [
              0.4444444444444444,
              "#bd3786"
             ],
             [
              0.5555555555555556,
              "#d8576b"
             ],
             [
              0.6666666666666666,
              "#ed7953"
             ],
             [
              0.7777777777777778,
              "#fb9f3a"
             ],
             [
              0.8888888888888888,
              "#fdca26"
             ],
             [
              1,
              "#f0f921"
             ]
            ],
            "type": "contour"
           }
          ],
          "contourcarpet": [
           {
            "colorbar": {
             "outlinewidth": 0,
             "ticks": ""
            },
            "type": "contourcarpet"
           }
          ],
          "heatmap": [
           {
            "colorbar": {
             "outlinewidth": 0,
             "ticks": ""
            },
            "colorscale": [
             [
              0,
              "#0d0887"
             ],
             [
              0.1111111111111111,
              "#46039f"
             ],
             [
              0.2222222222222222,
              "#7201a8"
             ],
             [
              0.3333333333333333,
              "#9c179e"
             ],
             [
              0.4444444444444444,
              "#bd3786"
             ],
             [
              0.5555555555555556,
              "#d8576b"
             ],
             [
              0.6666666666666666,
              "#ed7953"
             ],
             [
              0.7777777777777778,
              "#fb9f3a"
             ],
             [
              0.8888888888888888,
              "#fdca26"
             ],
             [
              1,
              "#f0f921"
             ]
            ],
            "type": "heatmap"
           }
          ],
          "heatmapgl": [
           {
            "colorbar": {
             "outlinewidth": 0,
             "ticks": ""
            },
            "colorscale": [
             [
              0,
              "#0d0887"
             ],
             [
              0.1111111111111111,
              "#46039f"
             ],
             [
              0.2222222222222222,
              "#7201a8"
             ],
             [
              0.3333333333333333,
              "#9c179e"
             ],
             [
              0.4444444444444444,
              "#bd3786"
             ],
             [
              0.5555555555555556,
              "#d8576b"
             ],
             [
              0.6666666666666666,
              "#ed7953"
             ],
             [
              0.7777777777777778,
              "#fb9f3a"
             ],
             [
              0.8888888888888888,
              "#fdca26"
             ],
             [
              1,
              "#f0f921"
             ]
            ],
            "type": "heatmapgl"
           }
          ],
          "histogram": [
           {
            "marker": {
             "pattern": {
              "fillmode": "overlay",
              "size": 10,
              "solidity": 0.2
             }
            },
            "type": "histogram"
           }
          ],
          "histogram2d": [
           {
            "colorbar": {
             "outlinewidth": 0,
             "ticks": ""
            },
            "colorscale": [
             [
              0,
              "#0d0887"
             ],
             [
              0.1111111111111111,
              "#46039f"
             ],
             [
              0.2222222222222222,
              "#7201a8"
             ],
             [
              0.3333333333333333,
              "#9c179e"
             ],
             [
              0.4444444444444444,
              "#bd3786"
             ],
             [
              0.5555555555555556,
              "#d8576b"
             ],
             [
              0.6666666666666666,
              "#ed7953"
             ],
             [
              0.7777777777777778,
              "#fb9f3a"
             ],
             [
              0.8888888888888888,
              "#fdca26"
             ],
             [
              1,
              "#f0f921"
             ]
            ],
            "type": "histogram2d"
           }
          ],
          "histogram2dcontour": [
           {
            "colorbar": {
             "outlinewidth": 0,
             "ticks": ""
            },
            "colorscale": [
             [
              0,
              "#0d0887"
             ],
             [
              0.1111111111111111,
              "#46039f"
             ],
             [
              0.2222222222222222,
              "#7201a8"
             ],
             [
              0.3333333333333333,
              "#9c179e"
             ],
             [
              0.4444444444444444,
              "#bd3786"
             ],
             [
              0.5555555555555556,
              "#d8576b"
             ],
             [
              0.6666666666666666,
              "#ed7953"
             ],
             [
              0.7777777777777778,
              "#fb9f3a"
             ],
             [
              0.8888888888888888,
              "#fdca26"
             ],
             [
              1,
              "#f0f921"
             ]
            ],
            "type": "histogram2dcontour"
           }
          ],
          "mesh3d": [
           {
            "colorbar": {
             "outlinewidth": 0,
             "ticks": ""
            },
            "type": "mesh3d"
           }
          ],
          "parcoords": [
           {
            "line": {
             "colorbar": {
              "outlinewidth": 0,
              "ticks": ""
             }
            },
            "type": "parcoords"
           }
          ],
          "pie": [
           {
            "automargin": true,
            "type": "pie"
           }
          ],
          "scatter": [
           {
            "fillpattern": {
             "fillmode": "overlay",
             "size": 10,
             "solidity": 0.2
            },
            "type": "scatter"
           }
          ],
          "scatter3d": [
           {
            "line": {
             "colorbar": {
              "outlinewidth": 0,
              "ticks": ""
             }
            },
            "marker": {
             "colorbar": {
              "outlinewidth": 0,
              "ticks": ""
             }
            },
            "type": "scatter3d"
           }
          ],
          "scattercarpet": [
           {
            "marker": {
             "colorbar": {
              "outlinewidth": 0,
              "ticks": ""
             }
            },
            "type": "scattercarpet"
           }
          ],
          "scattergeo": [
           {
            "marker": {
             "colorbar": {
              "outlinewidth": 0,
              "ticks": ""
             }
            },
            "type": "scattergeo"
           }
          ],
          "scattergl": [
           {
            "marker": {
             "colorbar": {
              "outlinewidth": 0,
              "ticks": ""
             }
            },
            "type": "scattergl"
           }
          ],
          "scattermapbox": [
           {
            "marker": {
             "colorbar": {
              "outlinewidth": 0,
              "ticks": ""
             }
            },
            "type": "scattermapbox"
           }
          ],
          "scatterpolar": [
           {
            "marker": {
             "colorbar": {
              "outlinewidth": 0,
              "ticks": ""
             }
            },
            "type": "scatterpolar"
           }
          ],
          "scatterpolargl": [
           {
            "marker": {
             "colorbar": {
              "outlinewidth": 0,
              "ticks": ""
             }
            },
            "type": "scatterpolargl"
           }
          ],
          "scatterternary": [
           {
            "marker": {
             "colorbar": {
              "outlinewidth": 0,
              "ticks": ""
             }
            },
            "type": "scatterternary"
           }
          ],
          "surface": [
           {
            "colorbar": {
             "outlinewidth": 0,
             "ticks": ""
            },
            "colorscale": [
             [
              0,
              "#0d0887"
             ],
             [
              0.1111111111111111,
              "#46039f"
             ],
             [
              0.2222222222222222,
              "#7201a8"
             ],
             [
              0.3333333333333333,
              "#9c179e"
             ],
             [
              0.4444444444444444,
              "#bd3786"
             ],
             [
              0.5555555555555556,
              "#d8576b"
             ],
             [
              0.6666666666666666,
              "#ed7953"
             ],
             [
              0.7777777777777778,
              "#fb9f3a"
             ],
             [
              0.8888888888888888,
              "#fdca26"
             ],
             [
              1,
              "#f0f921"
             ]
            ],
            "type": "surface"
           }
          ],
          "table": [
           {
            "cells": {
             "fill": {
              "color": "#EBF0F8"
             },
             "line": {
              "color": "white"
             }
            },
            "header": {
             "fill": {
              "color": "#C8D4E3"
             },
             "line": {
              "color": "white"
             }
            },
            "type": "table"
           }
          ]
         },
         "layout": {
          "annotationdefaults": {
           "arrowcolor": "#2a3f5f",
           "arrowhead": 0,
           "arrowwidth": 1
          },
          "autotypenumbers": "strict",
          "coloraxis": {
           "colorbar": {
            "outlinewidth": 0,
            "ticks": ""
           }
          },
          "colorscale": {
           "diverging": [
            [
             0,
             "#8e0152"
            ],
            [
             0.1,
             "#c51b7d"
            ],
            [
             0.2,
             "#de77ae"
            ],
            [
             0.3,
             "#f1b6da"
            ],
            [
             0.4,
             "#fde0ef"
            ],
            [
             0.5,
             "#f7f7f7"
            ],
            [
             0.6,
             "#e6f5d0"
            ],
            [
             0.7,
             "#b8e186"
            ],
            [
             0.8,
             "#7fbc41"
            ],
            [
             0.9,
             "#4d9221"
            ],
            [
             1,
             "#276419"
            ]
           ],
           "sequential": [
            [
             0,
             "#0d0887"
            ],
            [
             0.1111111111111111,
             "#46039f"
            ],
            [
             0.2222222222222222,
             "#7201a8"
            ],
            [
             0.3333333333333333,
             "#9c179e"
            ],
            [
             0.4444444444444444,
             "#bd3786"
            ],
            [
             0.5555555555555556,
             "#d8576b"
            ],
            [
             0.6666666666666666,
             "#ed7953"
            ],
            [
             0.7777777777777778,
             "#fb9f3a"
            ],
            [
             0.8888888888888888,
             "#fdca26"
            ],
            [
             1,
             "#f0f921"
            ]
           ],
           "sequentialminus": [
            [
             0,
             "#0d0887"
            ],
            [
             0.1111111111111111,
             "#46039f"
            ],
            [
             0.2222222222222222,
             "#7201a8"
            ],
            [
             0.3333333333333333,
             "#9c179e"
            ],
            [
             0.4444444444444444,
             "#bd3786"
            ],
            [
             0.5555555555555556,
             "#d8576b"
            ],
            [
             0.6666666666666666,
             "#ed7953"
            ],
            [
             0.7777777777777778,
             "#fb9f3a"
            ],
            [
             0.8888888888888888,
             "#fdca26"
            ],
            [
             1,
             "#f0f921"
            ]
           ]
          },
          "colorway": [
           "#636efa",
           "#EF553B",
           "#00cc96",
           "#ab63fa",
           "#FFA15A",
           "#19d3f3",
           "#FF6692",
           "#B6E880",
           "#FF97FF",
           "#FECB52"
          ],
          "font": {
           "color": "#2a3f5f"
          },
          "geo": {
           "bgcolor": "white",
           "lakecolor": "white",
           "landcolor": "#E5ECF6",
           "showlakes": true,
           "showland": true,
           "subunitcolor": "white"
          },
          "hoverlabel": {
           "align": "left"
          },
          "hovermode": "closest",
          "mapbox": {
           "style": "light"
          },
          "paper_bgcolor": "white",
          "plot_bgcolor": "#E5ECF6",
          "polar": {
           "angularaxis": {
            "gridcolor": "white",
            "linecolor": "white",
            "ticks": ""
           },
           "bgcolor": "#E5ECF6",
           "radialaxis": {
            "gridcolor": "white",
            "linecolor": "white",
            "ticks": ""
           }
          },
          "scene": {
           "xaxis": {
            "backgroundcolor": "#E5ECF6",
            "gridcolor": "white",
            "gridwidth": 2,
            "linecolor": "white",
            "showbackground": true,
            "ticks": "",
            "zerolinecolor": "white"
           },
           "yaxis": {
            "backgroundcolor": "#E5ECF6",
            "gridcolor": "white",
            "gridwidth": 2,
            "linecolor": "white",
            "showbackground": true,
            "ticks": "",
            "zerolinecolor": "white"
           },
           "zaxis": {
            "backgroundcolor": "#E5ECF6",
            "gridcolor": "white",
            "gridwidth": 2,
            "linecolor": "white",
            "showbackground": true,
            "ticks": "",
            "zerolinecolor": "white"
           }
          },
          "shapedefaults": {
           "line": {
            "color": "#2a3f5f"
           }
          },
          "ternary": {
           "aaxis": {
            "gridcolor": "white",
            "linecolor": "white",
            "ticks": ""
           },
           "baxis": {
            "gridcolor": "white",
            "linecolor": "white",
            "ticks": ""
           },
           "bgcolor": "#E5ECF6",
           "caxis": {
            "gridcolor": "white",
            "linecolor": "white",
            "ticks": ""
           }
          },
          "title": {
           "x": 0.05
          },
          "xaxis": {
           "automargin": true,
           "gridcolor": "white",
           "linecolor": "white",
           "ticks": "",
           "title": {
            "standoff": 15
           },
           "zerolinecolor": "white",
           "zerolinewidth": 2
          },
          "yaxis": {
           "automargin": true,
           "gridcolor": "white",
           "linecolor": "white",
           "ticks": "",
           "title": {
            "standoff": 15
           },
           "zerolinecolor": "white",
           "zerolinewidth": 2
          }
         }
        }
       }
      }
     },
     "metadata": {},
     "output_type": "display_data"
    }
   ],
   "source": [
    "# raw_data\n",
    "fig = go.Figure()\n",
    "\n",
    "room_id = 0\n",
    "\n",
    "fig.add_trace(\n",
    "    go.Scatter(\n",
    "        x=train_dict[0][\"datetime\"], \n",
    "        y=train_dict[0][\"CC_estimates\"],\n",
    "        mode=\"lines\",\n",
    "        name=f\"Trainset of Room {room_id}\"))\n",
    "fig.add_trace(\n",
    "    go.Scatter(\n",
    "        x=val_dict[0][\"datetime\"], \n",
    "        y=val_dict[0][\"CC_estimates\"],\n",
    "        mode=\"lines\",\n",
    "        name=f\"Validationset of Room {room_id}\"))\n",
    "fig.add_trace(\n",
    "    go.Scatter(\n",
    "        x=test_dict[0][\"datetime\"], \n",
    "        y=test_dict[0][\"CC_estimates\"],\n",
    "        mode=\"lines\",\n",
    "        name=f\"Testset of Room {room_id}\"))\n",
    "\n",
    "fig.show()"
   ]
  },
  {
   "cell_type": "code",
   "execution_count": null,
   "metadata": {},
   "outputs": [
    {
     "data": {
      "text/html": [
       "<div>\n",
       "<style scoped>\n",
       "    .dataframe tbody tr th:only-of-type {\n",
       "        vertical-align: middle;\n",
       "    }\n",
       "\n",
       "    .dataframe tbody tr th {\n",
       "        vertical-align: top;\n",
       "    }\n",
       "\n",
       "    .dataframe thead th {\n",
       "        text-align: right;\n",
       "    }\n",
       "</style>\n",
       "<table border=\"1\" class=\"dataframe\">\n",
       "  <thead>\n",
       "    <tr style=\"text-align: right;\">\n",
       "      <th></th>\n",
       "      <th>course_number</th>\n",
       "      <th>course_name</th>\n",
       "      <th>type</th>\n",
       "      <th>kind</th>\n",
       "      <th>lecturer</th>\n",
       "      <th>semester</th>\n",
       "      <th>ects</th>\n",
       "      <th>max_students</th>\n",
       "      <th>registered_students</th>\n",
       "      <th>no_dates_total</th>\n",
       "      <th>...</th>\n",
       "      <th>level</th>\n",
       "      <th>study_area</th>\n",
       "      <th>university</th>\n",
       "      <th>curriculum</th>\n",
       "      <th>assessment_criteria</th>\n",
       "      <th>teaching_methods</th>\n",
       "      <th>language</th>\n",
       "      <th>other_information</th>\n",
       "      <th>study_subject</th>\n",
       "      <th>room_id</th>\n",
       "    </tr>\n",
       "  </thead>\n",
       "  <tbody>\n",
       "    <tr>\n",
       "      <th>0</th>\n",
       "      <td>340.100</td>\n",
       "      <td>Algorithmen und Datenstrukturen 1</td>\n",
       "      <td>VO</td>\n",
       "      <td>Präsenz</td>\n",
       "      <td>Alois Ferscha</td>\n",
       "      <td>2024S</td>\n",
       "      <td>3,00</td>\n",
       "      <td>200</td>\n",
       "      <td>194</td>\n",
       "      <td>14.0</td>\n",
       "      <td>...</td>\n",
       "      <td>B1 - Bachelor 1. Jahr</td>\n",
       "      <td>Informatik</td>\n",
       "      <td>Johannes Kepler Universität Linz</td>\n",
       "      <td>Bachelorstudium Informatik</td>\n",
       "      <td>Klausur am Semesterende</td>\n",
       "      <td>Foliengestützter Vortrag</td>\n",
       "      <td>Deutsch</td>\n",
       "      <td>https://www.pervasive.jku.at/Teaching/</td>\n",
       "      <td>Software</td>\n",
       "      <td>0</td>\n",
       "    </tr>\n",
       "    <tr>\n",
       "      <th>1</th>\n",
       "      <td>531.163</td>\n",
       "      <td>Analysis II</td>\n",
       "      <td>UE</td>\n",
       "      <td>Präsenz</td>\n",
       "      <td>Jan-Michael Holzinger</td>\n",
       "      <td>2024S</td>\n",
       "      <td>2,00</td>\n",
       "      <td>25</td>\n",
       "      <td>10</td>\n",
       "      <td>8.0</td>\n",
       "      <td>...</td>\n",
       "      <td>NaN</td>\n",
       "      <td>NaN</td>\n",
       "      <td>NaN</td>\n",
       "      <td>NaN</td>\n",
       "      <td>NaN</td>\n",
       "      <td>NaN</td>\n",
       "      <td>NaN</td>\n",
       "      <td>NaN</td>\n",
       "      <td>Not available</td>\n",
       "      <td>0</td>\n",
       "    </tr>\n",
       "    <tr>\n",
       "      <th>2</th>\n",
       "      <td>531.160</td>\n",
       "      <td>Analysis II</td>\n",
       "      <td>VO</td>\n",
       "      <td>Präsenz</td>\n",
       "      <td>Friedrich Pillichshammer</td>\n",
       "      <td>2024S</td>\n",
       "      <td>3,00</td>\n",
       "      <td>100</td>\n",
       "      <td>98</td>\n",
       "      <td>29.0</td>\n",
       "      <td>...</td>\n",
       "      <td>NaN</td>\n",
       "      <td>NaN</td>\n",
       "      <td>NaN</td>\n",
       "      <td>NaN</td>\n",
       "      <td>NaN</td>\n",
       "      <td>NaN</td>\n",
       "      <td>NaN</td>\n",
       "      <td>NaN</td>\n",
       "      <td>Not available</td>\n",
       "      <td>0</td>\n",
       "    </tr>\n",
       "    <tr>\n",
       "      <th>3</th>\n",
       "      <td>256.906</td>\n",
       "      <td>Anwendung ERP-Systeme II</td>\n",
       "      <td>KS</td>\n",
       "      <td>Präsenz</td>\n",
       "      <td>N. N.</td>\n",
       "      <td>2024S</td>\n",
       "      <td>3,00</td>\n",
       "      <td>60</td>\n",
       "      <td>59</td>\n",
       "      <td>2.0</td>\n",
       "      <td>...</td>\n",
       "      <td>NaN</td>\n",
       "      <td>NaN</td>\n",
       "      <td>NaN</td>\n",
       "      <td>NaN</td>\n",
       "      <td>NaN</td>\n",
       "      <td>NaN</td>\n",
       "      <td>NaN</td>\n",
       "      <td>NaN</td>\n",
       "      <td>Not available</td>\n",
       "      <td>0</td>\n",
       "    </tr>\n",
       "    <tr>\n",
       "      <th>4</th>\n",
       "      <td>239.141</td>\n",
       "      <td>Behavioral Economics</td>\n",
       "      <td>KS</td>\n",
       "      <td>Präsenz</td>\n",
       "      <td>Matthias Fahn</td>\n",
       "      <td>2024S</td>\n",
       "      <td>3,00</td>\n",
       "      <td>200</td>\n",
       "      <td>145</td>\n",
       "      <td>10.0</td>\n",
       "      <td>...</td>\n",
       "      <td>B2 - Bachelor 2. Jahr</td>\n",
       "      <td>Volkswirtschaftslehre</td>\n",
       "      <td>Johannes Kepler Universität Linz</td>\n",
       "      <td>Bachelorstudium Wirtschaftswissenschaften</td>\n",
       "      <td>Klausur</td>\n",
       "      <td>Vortrag und Diskussion, Experimente</td>\n",
       "      <td>Englisch</td>\n",
       "      <td>NaN</td>\n",
       "      <td>Wahlfächer</td>\n",
       "      <td>0</td>\n",
       "    </tr>\n",
       "  </tbody>\n",
       "</table>\n",
       "<p>5 rows × 22 columns</p>\n",
       "</div>"
      ],
      "text/plain": [
       "  course_number                        course_name type     kind  \\\n",
       "0       340.100  Algorithmen und Datenstrukturen 1   VO  Präsenz   \n",
       "1       531.163                        Analysis II   UE  Präsenz   \n",
       "2       531.160                        Analysis II   VO  Präsenz   \n",
       "3       256.906           Anwendung ERP-Systeme II   KS  Präsenz   \n",
       "4       239.141               Behavioral Economics   KS  Präsenz   \n",
       "\n",
       "                   lecturer semester  ects  max_students  registered_students  \\\n",
       "0             Alois Ferscha    2024S  3,00           200                  194   \n",
       "1     Jan-Michael Holzinger    2024S  2,00            25                   10   \n",
       "2  Friedrich Pillichshammer    2024S  3,00           100                   98   \n",
       "3                     N. N.    2024S  3,00            60                   59   \n",
       "4             Matthias Fahn    2024S  3,00           200                  145   \n",
       "\n",
       "   no_dates_total  ...                  level             study_area  \\\n",
       "0            14.0  ...  B1 - Bachelor 1. Jahr             Informatik   \n",
       "1             8.0  ...                    NaN                    NaN   \n",
       "2            29.0  ...                    NaN                    NaN   \n",
       "3             2.0  ...                    NaN                    NaN   \n",
       "4            10.0  ...  B2 - Bachelor 2. Jahr  Volkswirtschaftslehre   \n",
       "\n",
       "                         university  \\\n",
       "0  Johannes Kepler Universität Linz   \n",
       "1                               NaN   \n",
       "2                               NaN   \n",
       "3                               NaN   \n",
       "4  Johannes Kepler Universität Linz   \n",
       "\n",
       "                                  curriculum       assessment_criteria  \\\n",
       "0                 Bachelorstudium Informatik  Klausur am Semesterende    \n",
       "1                                        NaN                       NaN   \n",
       "2                                        NaN                       NaN   \n",
       "3                                        NaN                       NaN   \n",
       "4  Bachelorstudium Wirtschaftswissenschaften                   Klausur   \n",
       "\n",
       "                      teaching_methods  language  \\\n",
       "0             Foliengestützter Vortrag   Deutsch   \n",
       "1                                  NaN       NaN   \n",
       "2                                  NaN       NaN   \n",
       "3                                  NaN       NaN   \n",
       "4  Vortrag und Diskussion, Experimente  Englisch   \n",
       "\n",
       "                        other_information  study_subject room_id  \n",
       "0  https://www.pervasive.jku.at/Teaching/       Software       0  \n",
       "1                                     NaN  Not available       0  \n",
       "2                                     NaN  Not available       0  \n",
       "3                                     NaN  Not available       0  \n",
       "4                                     NaN     Wahlfächer       0  \n",
       "\n",
       "[5 rows x 22 columns]"
      ]
     },
     "execution_count": 37,
     "metadata": {},
     "output_type": "execute_result"
    }
   ],
   "source": [
    "course_info_data.head(5)"
   ]
  },
  {
   "cell_type": "markdown",
   "metadata": {},
   "source": [
    "## 3. Validation Strategy and Train-Test Split\n"
   ]
  },
  {
   "cell_type": "code",
   "execution_count": null,
   "metadata": {},
   "outputs": [],
   "source": [
    "from statsmodels.tsa.stattools import acf, pacf\n",
    "from sklearn.model_selection import KFold\n",
    "from sklearn.neural_network import MLPRegressor\n"
   ]
  },
  {
   "cell_type": "code",
   "execution_count": null,
   "metadata": {},
   "outputs": [],
   "source": [
    "import torch\n",
    "from torch.utils.data import DataLoader, Dataset"
   ]
  },
  {
   "cell_type": "code",
   "execution_count": null,
   "metadata": {},
   "outputs": [],
   "source": [
    "        \n",
    "        \n",
    "        \n",
    "        \n",
    "        \n",
    "        "
   ]
  },
  {
   "cell_type": "markdown",
   "metadata": {},
   "source": [
    "### 3.1 Start easy -> from day t-1 predict day t"
   ]
  },
  {
   "cell_type": "code",
   "execution_count": null,
   "metadata": {},
   "outputs": [],
   "source": [
    "# bring the data into correct structure: X=day_t-1, y=day_t\n",
    "\n",
    "samples = []\n",
    "sample_info = []\n",
    "for room_id in data_dict:\n",
    "    occ_df = data_dict[room_id]\n",
    "    occ_df[\"day\"] = occ_df[\"datetime\"].dt.date\n",
    "    \n",
    "    # exclude last day from grouping\n",
    "    for day, df in list(occ_df.groupby(\"day\"))[:-2]:\n",
    "\n",
    "        next_day = occ_df[occ_df[\"day\"] == (day + DateOffset(days=1)).date()]\n",
    "        \n",
    "        X = df[\"CC_estimates\"].values\n",
    "        y = next_day[\"CC_estimates\"].values\n",
    "        \n",
    "        x_times = df[\"datetime\"].values\n",
    "        y_times = next_day[\"datetime\"].values\n",
    "\n",
    "        samples.append((X, y, y_times))\n",
    "        sample_info.append((room_id, day))\n",
    "        \n",
    "samples = np.array(samples)\n",
    "sample_info = np.array(sample_info)"
   ]
  },
  {
   "cell_type": "code",
   "execution_count": null,
   "metadata": {},
   "outputs": [
    {
     "data": {
      "text/plain": [
       "(162, 2)"
      ]
     },
     "execution_count": 13,
     "metadata": {},
     "output_type": "execute_result"
    }
   ],
   "source": [
    "sample_info.shape"
   ]
  },
  {
   "cell_type": "code",
   "execution_count": null,
   "metadata": {},
   "outputs": [
    {
     "name": "stdout",
     "output_type": "stream",
     "text": [
      "--------------------\n",
      "-0.7340202309459386\n",
      "--------------------\n",
      "--------------------\n",
      "-0.30616667394601976\n",
      "--------------------\n",
      "--------------------\n",
      "-0.5286922465710288\n",
      "--------------------\n",
      "--------------------\n",
      "-0.36444199859021387\n",
      "--------------------\n",
      "--------------------\n",
      "-0.3560925020711305\n",
      "--------------------\n"
     ]
    }
   ],
   "source": [
    "kfold = KFold(n_splits=5, shuffle=False)\n",
    "\n",
    "predictions = []\n",
    "for train, test in kfold.split(samples):\n",
    "    X_train = samples[train][:,0]\n",
    "    y_train = samples[train][:,1]\n",
    "    \n",
    "    test_samples =  samples[test]\n",
    "    X_test = test_samples[:,0]\n",
    "    y_test = test_samples[:,1]\n",
    "    \n",
    "    print(\"--------------------\")\n",
    "    regr = MLPRegressor(\n",
    "        hidden_layer_sizes=(6,6),\n",
    "        batch_size=1,\n",
    "        random_state=1, \n",
    "        max_iter=5000).fit(X_train, y_train)\n",
    "    score = regr.score(X_test, y_test)\n",
    "    print(score)\n",
    "    preds = regr.predict(X_test[:10])\n",
    "    predictions.append((preds, y_test[:10], test_samples[:,2]))\n",
    "    print(\"--------------------\")"
   ]
  },
  {
   "cell_type": "code",
   "execution_count": null,
   "metadata": {},
   "outputs": [
    {
     "data": {
      "application/vnd.plotly.v1+json": {
       "config": {
        "plotlyServerURL": "https://plot.ly"
       },
       "data": [
        {
         "mode": "lines",
         "name": "Predictions",
         "type": "scatter",
         "x": [
          "2024-04-09T00:00:00.000000000",
          "2024-04-09T01:00:00.000000000",
          "2024-04-09T02:00:00.000000000",
          "2024-04-09T03:00:00.000000000",
          "2024-04-09T04:00:00.000000000",
          "2024-04-09T05:00:00.000000000",
          "2024-04-09T06:00:00.000000000",
          "2024-04-09T07:00:00.000000000",
          "2024-04-09T08:00:00.000000000",
          "2024-04-09T09:00:00.000000000",
          "2024-04-09T10:00:00.000000000",
          "2024-04-09T11:00:00.000000000",
          "2024-04-09T12:00:00.000000000",
          "2024-04-09T13:00:00.000000000",
          "2024-04-09T14:00:00.000000000",
          "2024-04-09T15:00:00.000000000",
          "2024-04-09T16:00:00.000000000",
          "2024-04-09T17:00:00.000000000",
          "2024-04-09T18:00:00.000000000",
          "2024-04-09T19:00:00.000000000",
          "2024-04-09T20:00:00.000000000",
          "2024-04-09T21:00:00.000000000",
          "2024-04-09T22:00:00.000000000",
          "2024-04-09T23:00:00.000000000",
          "2024-04-10T00:00:00.000000000",
          "2024-04-10T01:00:00.000000000",
          "2024-04-10T02:00:00.000000000",
          "2024-04-10T03:00:00.000000000",
          "2024-04-10T04:00:00.000000000",
          "2024-04-10T05:00:00.000000000",
          "2024-04-10T06:00:00.000000000",
          "2024-04-10T07:00:00.000000000",
          "2024-04-10T08:00:00.000000000",
          "2024-04-10T09:00:00.000000000",
          "2024-04-10T10:00:00.000000000",
          "2024-04-10T11:00:00.000000000",
          "2024-04-10T12:00:00.000000000",
          "2024-04-10T13:00:00.000000000",
          "2024-04-10T14:00:00.000000000",
          "2024-04-10T15:00:00.000000000",
          "2024-04-10T16:00:00.000000000",
          "2024-04-10T17:00:00.000000000",
          "2024-04-10T18:00:00.000000000",
          "2024-04-10T19:00:00.000000000",
          "2024-04-10T20:00:00.000000000",
          "2024-04-10T21:00:00.000000000",
          "2024-04-10T22:00:00.000000000",
          "2024-04-10T23:00:00.000000000",
          "2024-04-11T00:00:00.000000000",
          "2024-04-11T01:00:00.000000000",
          "2024-04-11T02:00:00.000000000",
          "2024-04-11T03:00:00.000000000",
          "2024-04-11T04:00:00.000000000",
          "2024-04-11T05:00:00.000000000",
          "2024-04-11T06:00:00.000000000",
          "2024-04-11T07:00:00.000000000",
          "2024-04-11T08:00:00.000000000",
          "2024-04-11T09:00:00.000000000",
          "2024-04-11T10:00:00.000000000",
          "2024-04-11T11:00:00.000000000",
          "2024-04-11T12:00:00.000000000",
          "2024-04-11T13:00:00.000000000",
          "2024-04-11T14:00:00.000000000",
          "2024-04-11T15:00:00.000000000",
          "2024-04-11T16:00:00.000000000",
          "2024-04-11T17:00:00.000000000",
          "2024-04-11T18:00:00.000000000",
          "2024-04-11T19:00:00.000000000",
          "2024-04-11T20:00:00.000000000",
          "2024-04-11T21:00:00.000000000",
          "2024-04-11T22:00:00.000000000",
          "2024-04-11T23:00:00.000000000",
          "2024-04-12T00:00:00.000000000",
          "2024-04-12T01:00:00.000000000",
          "2024-04-12T02:00:00.000000000",
          "2024-04-12T03:00:00.000000000",
          "2024-04-12T04:00:00.000000000",
          "2024-04-12T05:00:00.000000000",
          "2024-04-12T06:00:00.000000000",
          "2024-04-12T07:00:00.000000000",
          "2024-04-12T08:00:00.000000000",
          "2024-04-12T09:00:00.000000000",
          "2024-04-12T10:00:00.000000000",
          "2024-04-12T11:00:00.000000000",
          "2024-04-12T12:00:00.000000000",
          "2024-04-12T13:00:00.000000000",
          "2024-04-12T14:00:00.000000000",
          "2024-04-12T15:00:00.000000000",
          "2024-04-12T16:00:00.000000000",
          "2024-04-12T17:00:00.000000000",
          "2024-04-12T18:00:00.000000000",
          "2024-04-12T19:00:00.000000000",
          "2024-04-12T20:00:00.000000000",
          "2024-04-12T21:00:00.000000000",
          "2024-04-12T22:00:00.000000000",
          "2024-04-12T23:00:00.000000000",
          "2024-04-13T00:00:00.000000000",
          "2024-04-13T01:00:00.000000000",
          "2024-04-13T02:00:00.000000000",
          "2024-04-13T03:00:00.000000000",
          "2024-04-13T04:00:00.000000000",
          "2024-04-13T05:00:00.000000000",
          "2024-04-13T06:00:00.000000000",
          "2024-04-13T07:00:00.000000000",
          "2024-04-13T08:00:00.000000000",
          "2024-04-13T09:00:00.000000000",
          "2024-04-13T10:00:00.000000000",
          "2024-04-13T11:00:00.000000000",
          "2024-04-13T12:00:00.000000000",
          "2024-04-13T13:00:00.000000000",
          "2024-04-13T14:00:00.000000000",
          "2024-04-13T15:00:00.000000000",
          "2024-04-13T16:00:00.000000000",
          "2024-04-13T17:00:00.000000000",
          "2024-04-13T18:00:00.000000000",
          "2024-04-13T19:00:00.000000000",
          "2024-04-13T20:00:00.000000000",
          "2024-04-13T21:00:00.000000000",
          "2024-04-13T22:00:00.000000000",
          "2024-04-13T23:00:00.000000000",
          "2024-04-14T00:00:00.000000000",
          "2024-04-14T01:00:00.000000000",
          "2024-04-14T02:00:00.000000000",
          "2024-04-14T03:00:00.000000000",
          "2024-04-14T04:00:00.000000000",
          "2024-04-14T05:00:00.000000000",
          "2024-04-14T06:00:00.000000000",
          "2024-04-14T07:00:00.000000000",
          "2024-04-14T08:00:00.000000000",
          "2024-04-14T09:00:00.000000000",
          "2024-04-14T10:00:00.000000000",
          "2024-04-14T11:00:00.000000000",
          "2024-04-14T12:00:00.000000000",
          "2024-04-14T13:00:00.000000000",
          "2024-04-14T14:00:00.000000000",
          "2024-04-14T15:00:00.000000000",
          "2024-04-14T16:00:00.000000000",
          "2024-04-14T17:00:00.000000000",
          "2024-04-14T18:00:00.000000000",
          "2024-04-14T19:00:00.000000000",
          "2024-04-14T20:00:00.000000000",
          "2024-04-14T21:00:00.000000000",
          "2024-04-14T22:00:00.000000000",
          "2024-04-14T23:00:00.000000000",
          "2024-04-15T00:00:00.000000000",
          "2024-04-15T01:00:00.000000000",
          "2024-04-15T02:00:00.000000000",
          "2024-04-15T03:00:00.000000000",
          "2024-04-15T04:00:00.000000000",
          "2024-04-15T05:00:00.000000000",
          "2024-04-15T06:00:00.000000000",
          "2024-04-15T07:00:00.000000000",
          "2024-04-15T08:00:00.000000000",
          "2024-04-15T09:00:00.000000000",
          "2024-04-15T10:00:00.000000000",
          "2024-04-15T11:00:00.000000000",
          "2024-04-15T12:00:00.000000000",
          "2024-04-15T13:00:00.000000000",
          "2024-04-15T14:00:00.000000000",
          "2024-04-15T15:00:00.000000000",
          "2024-04-15T16:00:00.000000000",
          "2024-04-15T17:00:00.000000000",
          "2024-04-15T18:00:00.000000000",
          "2024-04-15T19:00:00.000000000",
          "2024-04-15T20:00:00.000000000",
          "2024-04-15T21:00:00.000000000",
          "2024-04-15T22:00:00.000000000",
          "2024-04-15T23:00:00.000000000",
          "2024-04-16T00:00:00.000000000",
          "2024-04-16T01:00:00.000000000",
          "2024-04-16T02:00:00.000000000",
          "2024-04-16T03:00:00.000000000",
          "2024-04-16T04:00:00.000000000",
          "2024-04-16T05:00:00.000000000",
          "2024-04-16T06:00:00.000000000",
          "2024-04-16T07:00:00.000000000",
          "2024-04-16T08:00:00.000000000",
          "2024-04-16T09:00:00.000000000",
          "2024-04-16T10:00:00.000000000",
          "2024-04-16T11:00:00.000000000",
          "2024-04-16T12:00:00.000000000",
          "2024-04-16T13:00:00.000000000",
          "2024-04-16T14:00:00.000000000",
          "2024-04-16T15:00:00.000000000",
          "2024-04-16T16:00:00.000000000",
          "2024-04-16T17:00:00.000000000",
          "2024-04-16T18:00:00.000000000",
          "2024-04-16T19:00:00.000000000",
          "2024-04-16T20:00:00.000000000",
          "2024-04-16T21:00:00.000000000",
          "2024-04-16T22:00:00.000000000",
          "2024-04-16T23:00:00.000000000",
          "2024-04-17T00:00:00.000000000",
          "2024-04-17T01:00:00.000000000",
          "2024-04-17T02:00:00.000000000",
          "2024-04-17T03:00:00.000000000",
          "2024-04-17T04:00:00.000000000",
          "2024-04-17T05:00:00.000000000",
          "2024-04-17T06:00:00.000000000",
          "2024-04-17T07:00:00.000000000",
          "2024-04-17T08:00:00.000000000",
          "2024-04-17T09:00:00.000000000",
          "2024-04-17T10:00:00.000000000",
          "2024-04-17T11:00:00.000000000",
          "2024-04-17T12:00:00.000000000",
          "2024-04-17T13:00:00.000000000",
          "2024-04-17T14:00:00.000000000",
          "2024-04-17T15:00:00.000000000",
          "2024-04-17T16:00:00.000000000",
          "2024-04-17T17:00:00.000000000",
          "2024-04-17T18:00:00.000000000",
          "2024-04-17T19:00:00.000000000",
          "2024-04-17T20:00:00.000000000",
          "2024-04-17T21:00:00.000000000",
          "2024-04-17T22:00:00.000000000",
          "2024-04-17T23:00:00.000000000",
          "2024-04-18T00:00:00.000000000",
          "2024-04-18T01:00:00.000000000",
          "2024-04-18T02:00:00.000000000",
          "2024-04-18T03:00:00.000000000",
          "2024-04-18T04:00:00.000000000",
          "2024-04-18T05:00:00.000000000",
          "2024-04-18T06:00:00.000000000",
          "2024-04-18T07:00:00.000000000",
          "2024-04-18T08:00:00.000000000",
          "2024-04-18T09:00:00.000000000",
          "2024-04-18T10:00:00.000000000",
          "2024-04-18T11:00:00.000000000",
          "2024-04-18T12:00:00.000000000",
          "2024-04-18T13:00:00.000000000",
          "2024-04-18T14:00:00.000000000",
          "2024-04-18T15:00:00.000000000",
          "2024-04-18T16:00:00.000000000",
          "2024-04-18T17:00:00.000000000",
          "2024-04-18T18:00:00.000000000",
          "2024-04-18T19:00:00.000000000",
          "2024-04-18T20:00:00.000000000",
          "2024-04-18T21:00:00.000000000",
          "2024-04-18T22:00:00.000000000",
          "2024-04-18T23:00:00.000000000",
          "2024-04-19T00:00:00.000000000",
          "2024-04-19T01:00:00.000000000",
          "2024-04-19T02:00:00.000000000",
          "2024-04-19T03:00:00.000000000",
          "2024-04-19T04:00:00.000000000",
          "2024-04-19T05:00:00.000000000",
          "2024-04-19T06:00:00.000000000",
          "2024-04-19T07:00:00.000000000",
          "2024-04-19T08:00:00.000000000",
          "2024-04-19T09:00:00.000000000",
          "2024-04-19T10:00:00.000000000",
          "2024-04-19T11:00:00.000000000",
          "2024-04-19T12:00:00.000000000",
          "2024-04-19T13:00:00.000000000",
          "2024-04-19T14:00:00.000000000",
          "2024-04-19T15:00:00.000000000",
          "2024-04-19T16:00:00.000000000",
          "2024-04-19T17:00:00.000000000",
          "2024-04-19T18:00:00.000000000",
          "2024-04-19T19:00:00.000000000",
          "2024-04-19T20:00:00.000000000",
          "2024-04-19T21:00:00.000000000",
          "2024-04-19T22:00:00.000000000",
          "2024-04-19T23:00:00.000000000",
          "2024-04-20T00:00:00.000000000",
          "2024-04-20T01:00:00.000000000",
          "2024-04-20T02:00:00.000000000",
          "2024-04-20T03:00:00.000000000",
          "2024-04-20T04:00:00.000000000",
          "2024-04-20T05:00:00.000000000",
          "2024-04-20T06:00:00.000000000",
          "2024-04-20T07:00:00.000000000",
          "2024-04-20T08:00:00.000000000",
          "2024-04-20T09:00:00.000000000",
          "2024-04-20T10:00:00.000000000",
          "2024-04-20T11:00:00.000000000",
          "2024-04-20T12:00:00.000000000",
          "2024-04-20T13:00:00.000000000",
          "2024-04-20T14:00:00.000000000",
          "2024-04-20T15:00:00.000000000",
          "2024-04-20T16:00:00.000000000",
          "2024-04-20T17:00:00.000000000",
          "2024-04-20T18:00:00.000000000",
          "2024-04-20T19:00:00.000000000",
          "2024-04-20T20:00:00.000000000",
          "2024-04-20T21:00:00.000000000",
          "2024-04-20T22:00:00.000000000",
          "2024-04-20T23:00:00.000000000",
          "2024-04-21T00:00:00.000000000",
          "2024-04-21T01:00:00.000000000",
          "2024-04-21T02:00:00.000000000",
          "2024-04-21T03:00:00.000000000",
          "2024-04-21T04:00:00.000000000",
          "2024-04-21T05:00:00.000000000",
          "2024-04-21T06:00:00.000000000",
          "2024-04-21T07:00:00.000000000",
          "2024-04-21T08:00:00.000000000",
          "2024-04-21T09:00:00.000000000",
          "2024-04-21T10:00:00.000000000",
          "2024-04-21T11:00:00.000000000",
          "2024-04-21T12:00:00.000000000",
          "2024-04-21T13:00:00.000000000",
          "2024-04-21T14:00:00.000000000",
          "2024-04-21T15:00:00.000000000",
          "2024-04-21T16:00:00.000000000",
          "2024-04-21T17:00:00.000000000",
          "2024-04-21T18:00:00.000000000",
          "2024-04-21T19:00:00.000000000",
          "2024-04-21T20:00:00.000000000",
          "2024-04-21T21:00:00.000000000",
          "2024-04-21T22:00:00.000000000",
          "2024-04-21T23:00:00.000000000",
          "2024-04-22T00:00:00.000000000",
          "2024-04-22T01:00:00.000000000",
          "2024-04-22T02:00:00.000000000",
          "2024-04-22T03:00:00.000000000",
          "2024-04-22T04:00:00.000000000",
          "2024-04-22T05:00:00.000000000",
          "2024-04-22T06:00:00.000000000",
          "2024-04-22T07:00:00.000000000",
          "2024-04-22T08:00:00.000000000",
          "2024-04-22T09:00:00.000000000",
          "2024-04-22T10:00:00.000000000",
          "2024-04-22T11:00:00.000000000",
          "2024-04-22T12:00:00.000000000",
          "2024-04-22T13:00:00.000000000",
          "2024-04-22T14:00:00.000000000",
          "2024-04-22T15:00:00.000000000",
          "2024-04-22T16:00:00.000000000",
          "2024-04-22T17:00:00.000000000",
          "2024-04-22T18:00:00.000000000",
          "2024-04-22T19:00:00.000000000",
          "2024-04-22T20:00:00.000000000",
          "2024-04-22T21:00:00.000000000",
          "2024-04-22T22:00:00.000000000",
          "2024-04-22T23:00:00.000000000",
          "2024-04-23T00:00:00.000000000",
          "2024-04-23T01:00:00.000000000",
          "2024-04-23T02:00:00.000000000",
          "2024-04-23T03:00:00.000000000",
          "2024-04-23T04:00:00.000000000",
          "2024-04-23T05:00:00.000000000",
          "2024-04-23T06:00:00.000000000",
          "2024-04-23T07:00:00.000000000",
          "2024-04-23T08:00:00.000000000",
          "2024-04-23T09:00:00.000000000",
          "2024-04-23T10:00:00.000000000",
          "2024-04-23T11:00:00.000000000",
          "2024-04-23T12:00:00.000000000",
          "2024-04-23T13:00:00.000000000",
          "2024-04-23T14:00:00.000000000",
          "2024-04-23T15:00:00.000000000",
          "2024-04-23T16:00:00.000000000",
          "2024-04-23T17:00:00.000000000",
          "2024-04-23T18:00:00.000000000",
          "2024-04-23T19:00:00.000000000",
          "2024-04-23T20:00:00.000000000",
          "2024-04-23T21:00:00.000000000",
          "2024-04-23T22:00:00.000000000",
          "2024-04-23T23:00:00.000000000",
          "2024-04-24T00:00:00.000000000",
          "2024-04-24T01:00:00.000000000",
          "2024-04-24T02:00:00.000000000",
          "2024-04-24T03:00:00.000000000",
          "2024-04-24T04:00:00.000000000",
          "2024-04-24T05:00:00.000000000",
          "2024-04-24T06:00:00.000000000",
          "2024-04-24T07:00:00.000000000",
          "2024-04-24T08:00:00.000000000",
          "2024-04-24T09:00:00.000000000",
          "2024-04-24T10:00:00.000000000",
          "2024-04-24T11:00:00.000000000",
          "2024-04-24T12:00:00.000000000",
          "2024-04-24T13:00:00.000000000",
          "2024-04-24T14:00:00.000000000",
          "2024-04-24T15:00:00.000000000",
          "2024-04-24T16:00:00.000000000",
          "2024-04-24T17:00:00.000000000",
          "2024-04-24T18:00:00.000000000",
          "2024-04-24T19:00:00.000000000",
          "2024-04-24T20:00:00.000000000",
          "2024-04-24T21:00:00.000000000",
          "2024-04-24T22:00:00.000000000",
          "2024-04-24T23:00:00.000000000",
          "2024-04-25T00:00:00.000000000",
          "2024-04-25T01:00:00.000000000",
          "2024-04-25T02:00:00.000000000",
          "2024-04-25T03:00:00.000000000",
          "2024-04-25T04:00:00.000000000",
          "2024-04-25T05:00:00.000000000",
          "2024-04-25T06:00:00.000000000",
          "2024-04-25T07:00:00.000000000",
          "2024-04-25T08:00:00.000000000",
          "2024-04-25T09:00:00.000000000",
          "2024-04-25T10:00:00.000000000",
          "2024-04-25T11:00:00.000000000",
          "2024-04-25T12:00:00.000000000",
          "2024-04-25T13:00:00.000000000",
          "2024-04-25T14:00:00.000000000",
          "2024-04-25T15:00:00.000000000",
          "2024-04-25T16:00:00.000000000",
          "2024-04-25T17:00:00.000000000",
          "2024-04-25T18:00:00.000000000",
          "2024-04-25T19:00:00.000000000",
          "2024-04-25T20:00:00.000000000",
          "2024-04-25T21:00:00.000000000",
          "2024-04-25T22:00:00.000000000",
          "2024-04-25T23:00:00.000000000",
          "2024-04-26T00:00:00.000000000",
          "2024-04-26T01:00:00.000000000",
          "2024-04-26T02:00:00.000000000",
          "2024-04-26T03:00:00.000000000",
          "2024-04-26T04:00:00.000000000",
          "2024-04-26T05:00:00.000000000",
          "2024-04-26T06:00:00.000000000",
          "2024-04-26T07:00:00.000000000",
          "2024-04-26T08:00:00.000000000",
          "2024-04-26T09:00:00.000000000",
          "2024-04-26T10:00:00.000000000",
          "2024-04-26T11:00:00.000000000",
          "2024-04-26T12:00:00.000000000",
          "2024-04-26T13:00:00.000000000",
          "2024-04-26T14:00:00.000000000",
          "2024-04-26T15:00:00.000000000",
          "2024-04-26T16:00:00.000000000",
          "2024-04-26T17:00:00.000000000",
          "2024-04-26T18:00:00.000000000",
          "2024-04-26T19:00:00.000000000",
          "2024-04-26T20:00:00.000000000",
          "2024-04-26T21:00:00.000000000",
          "2024-04-26T22:00:00.000000000",
          "2024-04-26T23:00:00.000000000",
          "2024-04-27T00:00:00.000000000",
          "2024-04-27T01:00:00.000000000",
          "2024-04-27T02:00:00.000000000",
          "2024-04-27T03:00:00.000000000",
          "2024-04-27T04:00:00.000000000",
          "2024-04-27T05:00:00.000000000",
          "2024-04-27T06:00:00.000000000",
          "2024-04-27T07:00:00.000000000",
          "2024-04-27T08:00:00.000000000",
          "2024-04-27T09:00:00.000000000",
          "2024-04-27T10:00:00.000000000",
          "2024-04-27T11:00:00.000000000",
          "2024-04-27T12:00:00.000000000",
          "2024-04-27T13:00:00.000000000",
          "2024-04-27T14:00:00.000000000",
          "2024-04-27T15:00:00.000000000",
          "2024-04-27T16:00:00.000000000",
          "2024-04-27T17:00:00.000000000",
          "2024-04-27T18:00:00.000000000",
          "2024-04-27T19:00:00.000000000",
          "2024-04-27T20:00:00.000000000",
          "2024-04-27T21:00:00.000000000",
          "2024-04-27T22:00:00.000000000",
          "2024-04-27T23:00:00.000000000",
          "2024-04-28T00:00:00.000000000",
          "2024-04-28T01:00:00.000000000",
          "2024-04-28T02:00:00.000000000",
          "2024-04-28T03:00:00.000000000",
          "2024-04-28T04:00:00.000000000",
          "2024-04-28T05:00:00.000000000",
          "2024-04-28T06:00:00.000000000",
          "2024-04-28T07:00:00.000000000",
          "2024-04-28T08:00:00.000000000",
          "2024-04-28T09:00:00.000000000",
          "2024-04-28T10:00:00.000000000",
          "2024-04-28T11:00:00.000000000",
          "2024-04-28T12:00:00.000000000",
          "2024-04-28T13:00:00.000000000",
          "2024-04-28T14:00:00.000000000",
          "2024-04-28T15:00:00.000000000",
          "2024-04-28T16:00:00.000000000",
          "2024-04-28T17:00:00.000000000",
          "2024-04-28T18:00:00.000000000",
          "2024-04-28T19:00:00.000000000",
          "2024-04-28T20:00:00.000000000",
          "2024-04-28T21:00:00.000000000",
          "2024-04-28T22:00:00.000000000",
          "2024-04-28T23:00:00.000000000",
          "2024-04-29T00:00:00.000000000",
          "2024-04-29T01:00:00.000000000",
          "2024-04-29T02:00:00.000000000",
          "2024-04-29T03:00:00.000000000",
          "2024-04-29T04:00:00.000000000",
          "2024-04-29T05:00:00.000000000",
          "2024-04-29T06:00:00.000000000",
          "2024-04-29T07:00:00.000000000",
          "2024-04-29T08:00:00.000000000",
          "2024-04-29T09:00:00.000000000",
          "2024-04-29T10:00:00.000000000",
          "2024-04-29T11:00:00.000000000",
          "2024-04-29T12:00:00.000000000",
          "2024-04-29T13:00:00.000000000",
          "2024-04-29T14:00:00.000000000",
          "2024-04-29T15:00:00.000000000",
          "2024-04-29T16:00:00.000000000",
          "2024-04-29T17:00:00.000000000",
          "2024-04-29T18:00:00.000000000",
          "2024-04-29T19:00:00.000000000",
          "2024-04-29T20:00:00.000000000",
          "2024-04-29T21:00:00.000000000",
          "2024-04-29T22:00:00.000000000",
          "2024-04-29T23:00:00.000000000",
          "2024-04-30T00:00:00.000000000",
          "2024-04-30T01:00:00.000000000",
          "2024-04-30T02:00:00.000000000",
          "2024-04-30T03:00:00.000000000",
          "2024-04-30T04:00:00.000000000",
          "2024-04-30T05:00:00.000000000",
          "2024-04-30T06:00:00.000000000",
          "2024-04-30T07:00:00.000000000",
          "2024-04-30T08:00:00.000000000",
          "2024-04-30T09:00:00.000000000",
          "2024-04-30T10:00:00.000000000",
          "2024-04-30T11:00:00.000000000",
          "2024-04-30T12:00:00.000000000",
          "2024-04-30T13:00:00.000000000",
          "2024-04-30T14:00:00.000000000",
          "2024-04-30T15:00:00.000000000",
          "2024-04-30T16:00:00.000000000",
          "2024-04-30T17:00:00.000000000",
          "2024-04-30T18:00:00.000000000",
          "2024-04-30T19:00:00.000000000",
          "2024-04-30T20:00:00.000000000",
          "2024-04-30T21:00:00.000000000",
          "2024-04-30T22:00:00.000000000",
          "2024-04-30T23:00:00.000000000",
          "2024-05-01T00:00:00.000000000",
          "2024-05-01T01:00:00.000000000",
          "2024-05-01T02:00:00.000000000",
          "2024-05-01T03:00:00.000000000",
          "2024-05-01T04:00:00.000000000",
          "2024-05-01T05:00:00.000000000",
          "2024-05-01T06:00:00.000000000",
          "2024-05-01T07:00:00.000000000",
          "2024-05-01T08:00:00.000000000",
          "2024-05-01T09:00:00.000000000",
          "2024-05-01T10:00:00.000000000",
          "2024-05-01T11:00:00.000000000",
          "2024-05-01T12:00:00.000000000",
          "2024-05-01T13:00:00.000000000",
          "2024-05-01T14:00:00.000000000",
          "2024-05-01T15:00:00.000000000",
          "2024-05-01T16:00:00.000000000",
          "2024-05-01T17:00:00.000000000",
          "2024-05-01T18:00:00.000000000",
          "2024-05-01T19:00:00.000000000",
          "2024-05-01T20:00:00.000000000",
          "2024-05-01T21:00:00.000000000",
          "2024-05-01T22:00:00.000000000",
          "2024-05-01T23:00:00.000000000",
          "2024-05-02T00:00:00.000000000",
          "2024-05-02T01:00:00.000000000",
          "2024-05-02T02:00:00.000000000",
          "2024-05-02T03:00:00.000000000",
          "2024-05-02T04:00:00.000000000",
          "2024-05-02T05:00:00.000000000",
          "2024-05-02T06:00:00.000000000",
          "2024-05-02T07:00:00.000000000",
          "2024-05-02T08:00:00.000000000",
          "2024-05-02T09:00:00.000000000",
          "2024-05-02T10:00:00.000000000",
          "2024-05-02T11:00:00.000000000",
          "2024-05-02T12:00:00.000000000",
          "2024-05-02T13:00:00.000000000",
          "2024-05-02T14:00:00.000000000",
          "2024-05-02T15:00:00.000000000",
          "2024-05-02T16:00:00.000000000",
          "2024-05-02T17:00:00.000000000",
          "2024-05-02T18:00:00.000000000",
          "2024-05-02T19:00:00.000000000",
          "2024-05-02T20:00:00.000000000",
          "2024-05-02T21:00:00.000000000",
          "2024-05-02T22:00:00.000000000",
          "2024-05-02T23:00:00.000000000",
          "2024-05-03T00:00:00.000000000",
          "2024-05-03T01:00:00.000000000",
          "2024-05-03T02:00:00.000000000",
          "2024-05-03T03:00:00.000000000",
          "2024-05-03T04:00:00.000000000",
          "2024-05-03T05:00:00.000000000",
          "2024-05-03T06:00:00.000000000",
          "2024-05-03T07:00:00.000000000",
          "2024-05-03T08:00:00.000000000",
          "2024-05-03T09:00:00.000000000",
          "2024-05-03T10:00:00.000000000",
          "2024-05-03T11:00:00.000000000",
          "2024-05-03T12:00:00.000000000",
          "2024-05-03T13:00:00.000000000",
          "2024-05-03T14:00:00.000000000",
          "2024-05-03T15:00:00.000000000",
          "2024-05-03T16:00:00.000000000",
          "2024-05-03T17:00:00.000000000",
          "2024-05-03T18:00:00.000000000",
          "2024-05-03T19:00:00.000000000",
          "2024-05-03T20:00:00.000000000",
          "2024-05-03T21:00:00.000000000",
          "2024-05-03T22:00:00.000000000",
          "2024-05-03T23:00:00.000000000",
          "2024-05-04T00:00:00.000000000",
          "2024-05-04T01:00:00.000000000",
          "2024-05-04T02:00:00.000000000",
          "2024-05-04T03:00:00.000000000",
          "2024-05-04T04:00:00.000000000",
          "2024-05-04T05:00:00.000000000",
          "2024-05-04T06:00:00.000000000",
          "2024-05-04T07:00:00.000000000",
          "2024-05-04T08:00:00.000000000",
          "2024-05-04T09:00:00.000000000",
          "2024-05-04T10:00:00.000000000",
          "2024-05-04T11:00:00.000000000",
          "2024-05-04T12:00:00.000000000",
          "2024-05-04T13:00:00.000000000",
          "2024-05-04T14:00:00.000000000",
          "2024-05-04T15:00:00.000000000",
          "2024-05-04T16:00:00.000000000",
          "2024-05-04T17:00:00.000000000",
          "2024-05-04T18:00:00.000000000",
          "2024-05-04T19:00:00.000000000",
          "2024-05-04T20:00:00.000000000",
          "2024-05-04T21:00:00.000000000",
          "2024-05-04T22:00:00.000000000",
          "2024-05-04T23:00:00.000000000",
          "2024-05-05T00:00:00.000000000",
          "2024-05-05T01:00:00.000000000",
          "2024-05-05T02:00:00.000000000",
          "2024-05-05T03:00:00.000000000",
          "2024-05-05T04:00:00.000000000",
          "2024-05-05T05:00:00.000000000",
          "2024-05-05T06:00:00.000000000",
          "2024-05-05T07:00:00.000000000",
          "2024-05-05T08:00:00.000000000",
          "2024-05-05T09:00:00.000000000",
          "2024-05-05T10:00:00.000000000",
          "2024-05-05T11:00:00.000000000",
          "2024-05-05T12:00:00.000000000",
          "2024-05-05T13:00:00.000000000",
          "2024-05-05T14:00:00.000000000",
          "2024-05-05T15:00:00.000000000",
          "2024-05-05T16:00:00.000000000",
          "2024-05-05T17:00:00.000000000",
          "2024-05-05T18:00:00.000000000",
          "2024-05-05T19:00:00.000000000",
          "2024-05-05T20:00:00.000000000",
          "2024-05-05T21:00:00.000000000",
          "2024-05-05T22:00:00.000000000",
          "2024-05-05T23:00:00.000000000",
          "2024-05-06T00:00:00.000000000",
          "2024-05-06T01:00:00.000000000",
          "2024-05-06T02:00:00.000000000",
          "2024-05-06T03:00:00.000000000",
          "2024-05-06T04:00:00.000000000",
          "2024-05-06T05:00:00.000000000",
          "2024-05-06T06:00:00.000000000",
          "2024-05-06T07:00:00.000000000",
          "2024-05-06T08:00:00.000000000",
          "2024-05-06T09:00:00.000000000",
          "2024-05-06T10:00:00.000000000",
          "2024-05-06T11:00:00.000000000",
          "2024-05-06T12:00:00.000000000",
          "2024-05-06T13:00:00.000000000",
          "2024-05-06T14:00:00.000000000",
          "2024-05-06T15:00:00.000000000",
          "2024-05-06T16:00:00.000000000",
          "2024-05-06T17:00:00.000000000",
          "2024-05-06T18:00:00.000000000",
          "2024-05-06T19:00:00.000000000",
          "2024-05-06T20:00:00.000000000",
          "2024-05-06T21:00:00.000000000",
          "2024-05-06T22:00:00.000000000",
          "2024-05-06T23:00:00.000000000",
          "2024-05-07T00:00:00.000000000",
          "2024-05-07T01:00:00.000000000",
          "2024-05-07T02:00:00.000000000",
          "2024-05-07T03:00:00.000000000",
          "2024-05-07T04:00:00.000000000",
          "2024-05-07T05:00:00.000000000",
          "2024-05-07T06:00:00.000000000",
          "2024-05-07T07:00:00.000000000",
          "2024-05-07T08:00:00.000000000",
          "2024-05-07T09:00:00.000000000",
          "2024-05-07T10:00:00.000000000",
          "2024-05-07T11:00:00.000000000",
          "2024-05-07T12:00:00.000000000",
          "2024-05-07T13:00:00.000000000",
          "2024-05-07T14:00:00.000000000",
          "2024-05-07T15:00:00.000000000",
          "2024-05-07T16:00:00.000000000",
          "2024-05-07T17:00:00.000000000",
          "2024-05-07T18:00:00.000000000",
          "2024-05-07T19:00:00.000000000",
          "2024-05-07T20:00:00.000000000",
          "2024-05-07T21:00:00.000000000",
          "2024-05-07T22:00:00.000000000",
          "2024-05-07T23:00:00.000000000",
          "2024-05-08T00:00:00.000000000",
          "2024-05-08T01:00:00.000000000",
          "2024-05-08T02:00:00.000000000",
          "2024-05-08T03:00:00.000000000",
          "2024-05-08T04:00:00.000000000",
          "2024-05-08T05:00:00.000000000",
          "2024-05-08T06:00:00.000000000",
          "2024-05-08T07:00:00.000000000",
          "2024-05-08T08:00:00.000000000",
          "2024-05-08T09:00:00.000000000",
          "2024-05-08T10:00:00.000000000",
          "2024-05-08T11:00:00.000000000",
          "2024-05-08T12:00:00.000000000",
          "2024-05-08T13:00:00.000000000",
          "2024-05-08T14:00:00.000000000",
          "2024-05-08T15:00:00.000000000",
          "2024-05-08T16:00:00.000000000",
          "2024-05-08T17:00:00.000000000",
          "2024-05-08T18:00:00.000000000",
          "2024-05-08T19:00:00.000000000",
          "2024-05-08T20:00:00.000000000",
          "2024-05-08T21:00:00.000000000",
          "2024-05-08T22:00:00.000000000",
          "2024-05-08T23:00:00.000000000",
          "2024-05-09T00:00:00.000000000",
          "2024-05-09T01:00:00.000000000",
          "2024-05-09T02:00:00.000000000",
          "2024-05-09T03:00:00.000000000",
          "2024-05-09T04:00:00.000000000",
          "2024-05-09T05:00:00.000000000",
          "2024-05-09T06:00:00.000000000",
          "2024-05-09T07:00:00.000000000",
          "2024-05-09T08:00:00.000000000",
          "2024-05-09T09:00:00.000000000",
          "2024-05-09T10:00:00.000000000",
          "2024-05-09T11:00:00.000000000",
          "2024-05-09T12:00:00.000000000",
          "2024-05-09T13:00:00.000000000",
          "2024-05-09T14:00:00.000000000",
          "2024-05-09T15:00:00.000000000",
          "2024-05-09T16:00:00.000000000",
          "2024-05-09T17:00:00.000000000",
          "2024-05-09T18:00:00.000000000",
          "2024-05-09T19:00:00.000000000",
          "2024-05-09T20:00:00.000000000",
          "2024-05-09T21:00:00.000000000",
          "2024-05-09T22:00:00.000000000",
          "2024-05-09T23:00:00.000000000",
          "2024-05-10T00:00:00.000000000",
          "2024-05-10T01:00:00.000000000",
          "2024-05-10T02:00:00.000000000",
          "2024-05-10T03:00:00.000000000",
          "2024-05-10T04:00:00.000000000",
          "2024-05-10T05:00:00.000000000",
          "2024-05-10T06:00:00.000000000",
          "2024-05-10T07:00:00.000000000",
          "2024-05-10T08:00:00.000000000",
          "2024-05-10T09:00:00.000000000",
          "2024-05-10T10:00:00.000000000",
          "2024-05-10T11:00:00.000000000",
          "2024-05-10T12:00:00.000000000",
          "2024-05-10T13:00:00.000000000",
          "2024-05-10T14:00:00.000000000",
          "2024-05-10T15:00:00.000000000",
          "2024-05-10T16:00:00.000000000",
          "2024-05-10T17:00:00.000000000",
          "2024-05-10T18:00:00.000000000",
          "2024-05-10T19:00:00.000000000",
          "2024-05-10T20:00:00.000000000",
          "2024-05-10T21:00:00.000000000",
          "2024-05-10T22:00:00.000000000",
          "2024-05-10T23:00:00.000000000",
          "2024-05-11T00:00:00.000000000",
          "2024-05-11T01:00:00.000000000",
          "2024-05-11T02:00:00.000000000",
          "2024-05-11T03:00:00.000000000",
          "2024-05-11T04:00:00.000000000",
          "2024-05-11T05:00:00.000000000",
          "2024-05-11T06:00:00.000000000",
          "2024-05-11T07:00:00.000000000",
          "2024-05-11T08:00:00.000000000",
          "2024-05-11T09:00:00.000000000",
          "2024-05-11T10:00:00.000000000",
          "2024-05-11T11:00:00.000000000",
          "2024-05-11T12:00:00.000000000",
          "2024-05-11T13:00:00.000000000",
          "2024-05-11T14:00:00.000000000",
          "2024-05-11T15:00:00.000000000",
          "2024-05-11T16:00:00.000000000",
          "2024-05-11T17:00:00.000000000",
          "2024-05-11T18:00:00.000000000",
          "2024-05-11T19:00:00.000000000",
          "2024-05-11T20:00:00.000000000",
          "2024-05-11T21:00:00.000000000",
          "2024-05-11T22:00:00.000000000",
          "2024-05-11T23:00:00.000000000"
         ],
         "y": [
          -1.2050028440877834e-8,
          0.02670629864803242,
          0.04905340184813489,
          0.14902318823782423,
          0.27744882882555916,
          0.6081927063517018,
          1.1653442780241572,
          2.528164759608088,
          3.9010402958961925,
          44.94481804223567,
          36.55837047669024,
          39.3272079344665,
          17.90396389943346,
          20.143837091615648,
          19.271008868262527,
          17.462043311010483,
          18.971398188132547,
          15.436833684114358,
          8.212527620174122,
          1.4418036862727437,
          0.48584346657801447,
          0.33942975365568423,
          0.21548081771796573,
          0.08275233228005135,
          1.8760031757949977e-8,
          0.03980980436572848,
          0.0640908429957795,
          0.19030782825727643,
          0.345574443917317,
          0.6697841152610797,
          1.0365755918428887,
          1.766040548758001,
          2.7058929069476,
          29.420707295157893,
          20.042524612357333,
          35.85884209361593,
          18.81191278958806,
          20.171138801646592,
          15.413111622129536,
          16.306312405367816,
          16.79050427744501,
          17.303069211017206,
          11.929654438182567,
          4.406333329347026,
          0.5869782457137209,
          0.28066317797259427,
          0.21955618418496206,
          0.10356372901738649,
          4.343127063428034e-9,
          0.02509849781206846,
          0.04526496361437829,
          0.12132491035262753,
          0.21447659679314662,
          0.4371504324104034,
          0.7937678094515246,
          1.5117463748325546,
          2.2809020592474534,
          25.546576946716343,
          19.531775572106245,
          27.003192868442714,
          13.18999322115136,
          14.58010055686752,
          11.71198246846815,
          12.18818722106836,
          11.978609121148425,
          10.97297694093719,
          6.892260607286204,
          1.931395719786865,
          0.3956406464989915,
          0.21957502953128336,
          0.14851376784847967,
          0.0656278958932085,
          6.568856450466136e-8,
          -0.0216239546838715,
          0.19615115565682897,
          0.06787050890329407,
          -0.08871895059255516,
          -0.11284291816171757,
          -0.03716988630489981,
          0.4669569254977647,
          -1.1377557357129071,
          -13.643184905670033,
          -2.90548521317853,
          -4.761791382464917,
          8.17581447419794,
          16.80887656374352,
          -29.469112013620492,
          2.5655983622234984,
          -29.135206339330768,
          -21.81216845063621,
          -16.230139112990397,
          -6.392170054493379,
          0.4619857995429172,
          1.1073361211423391,
          0.1910089330015327,
          0.2820705274449895,
          5.9732515619227794e-9,
          0.022465714106557337,
          0.03654033624047627,
          0.11003113568391104,
          0.1985783906850883,
          0.4080881189795564,
          0.7597983360123279,
          1.2897481565068911,
          1.9529765562307018,
          23.302758210960803,
          17.097471439457596,
          26.124152021044097,
          13.234906631872885,
          14.43396280152334,
          16.10961755525673,
          15.244306838878465,
          14.426443527111594,
          11.629150944890622,
          7.270089853255325,
          2.2066120384655044,
          0.40955618867067634,
          0.19373405314340458,
          0.12674753932904714,
          0.06704418478044877,
          -2.296958026479855e-9,
          0.009309765825590408,
          0.023195455511672437,
          0.038563496827310195,
          0.05375009593877856,
          0.12546421424016235,
          0.382074589770901,
          0.7641600742779253,
          1.075165611778398,
          12.654634577746885,
          10.9761351321942,
          12.606422783264275,
          5.5532492073640425,
          6.557812028815522,
          5.602884396455925,
          6.405851279211481,
          4.623702551294297,
          2.8726451927759666,
          1.4065925653686466,
          -0.24054965745231804,
          0.1694202477863929,
          0.10075760953220456,
          0.044154050136079696,
          0.020837917320421163,
          6.570679816318034e-9,
          0.0031384915171369767,
          0.03070282135607398,
          0.027266369918489686,
          0.017628978212960604,
          0.027547184644566555,
          0.2023048998463846,
          0.37837843632761725,
          0.5285064589268496,
          6.177884632053959,
          5.254516102348155,
          6.723360702366179,
          5.675156796589718,
          5.873775628816845,
          7.336961583583523,
          3.6053716254053256,
          4.543319118087604,
          1.477692053933231,
          2.0853426922051783,
          0.2716443613311692,
          0.13229219945896104,
          0.03905214447097127,
          0.010898224256117538,
          -0.0005661149491565068,
          -1.3829144829282787e-8,
          0.00594218864814853,
          0.020693004190236904,
          0.030824987591241044,
          0.042141553019524415,
          0.12935889174192777,
          0.4660615479910814,
          1.1475685289033641,
          1.6748935123943562,
          19.86756911146352,
          18.29938465325828,
          15.09219227646171,
          5.732373036753815,
          7.134172618173212,
          6.653391526836922,
          6.664520367185436,
          5.496622674210411,
          2.604158981876268,
          0.30709316765901806,
          -1.2659323259764808,
          0.14417427372519506,
          0.13624570965724225,
          0.05402687190372857,
          0.015795940394707567,
          1.2287967243831268e-8,
          0.03150266905764745,
          0.053299542997813185,
          0.14948251210360425,
          0.2670287131415929,
          0.5248971746204156,
          0.867422469749648,
          1.5306290008556374,
          2.319755737821749,
          25.470810225588192,
          18.177976165379008,
          29.803569845113653,
          15.256603766938621,
          16.554033320223002,
          12.65870111478034,
          13.532898886259531,
          13.472732937526034,
          13.378288524301215,
          9.013666694274775,
          3.0793845340965995,
          0.4724989540794446,
          0.2356568038164162,
          0.1739417812953778,
          0.08093688409050671,
          -2.008379242703658e-9,
          0.016112638742920442,
          0.03352942170264751,
          0.07643551067687343,
          0.12775548859401722,
          0.2751634068718942,
          0.5983253094404192,
          1.2213741710273935,
          1.8063465283223479,
          20.588252249681776,
          16.901602335689464,
          20.042796542529985,
          9.196054072497171,
          10.488485426088346,
          8.473978384623305,
          9.013855161334671,
          8.156064993886655,
          6.591214379775373,
          3.7102096201506507,
          0.5234977466672612,
          0.2693039386320676,
          0.16680146435621415,
          0.09703304734340241,
          0.040683343836227
         ]
        },
        {
         "mode": "lines",
         "name": "Target",
         "type": "scatter",
         "x": [
          "2024-04-09T00:00:00.000000000",
          "2024-04-09T01:00:00.000000000",
          "2024-04-09T02:00:00.000000000",
          "2024-04-09T03:00:00.000000000",
          "2024-04-09T04:00:00.000000000",
          "2024-04-09T05:00:00.000000000",
          "2024-04-09T06:00:00.000000000",
          "2024-04-09T07:00:00.000000000",
          "2024-04-09T08:00:00.000000000",
          "2024-04-09T09:00:00.000000000",
          "2024-04-09T10:00:00.000000000",
          "2024-04-09T11:00:00.000000000",
          "2024-04-09T12:00:00.000000000",
          "2024-04-09T13:00:00.000000000",
          "2024-04-09T14:00:00.000000000",
          "2024-04-09T15:00:00.000000000",
          "2024-04-09T16:00:00.000000000",
          "2024-04-09T17:00:00.000000000",
          "2024-04-09T18:00:00.000000000",
          "2024-04-09T19:00:00.000000000",
          "2024-04-09T20:00:00.000000000",
          "2024-04-09T21:00:00.000000000",
          "2024-04-09T22:00:00.000000000",
          "2024-04-09T23:00:00.000000000",
          "2024-04-10T00:00:00.000000000",
          "2024-04-10T01:00:00.000000000",
          "2024-04-10T02:00:00.000000000",
          "2024-04-10T03:00:00.000000000",
          "2024-04-10T04:00:00.000000000",
          "2024-04-10T05:00:00.000000000",
          "2024-04-10T06:00:00.000000000",
          "2024-04-10T07:00:00.000000000",
          "2024-04-10T08:00:00.000000000",
          "2024-04-10T09:00:00.000000000",
          "2024-04-10T10:00:00.000000000",
          "2024-04-10T11:00:00.000000000",
          "2024-04-10T12:00:00.000000000",
          "2024-04-10T13:00:00.000000000",
          "2024-04-10T14:00:00.000000000",
          "2024-04-10T15:00:00.000000000",
          "2024-04-10T16:00:00.000000000",
          "2024-04-10T17:00:00.000000000",
          "2024-04-10T18:00:00.000000000",
          "2024-04-10T19:00:00.000000000",
          "2024-04-10T20:00:00.000000000",
          "2024-04-10T21:00:00.000000000",
          "2024-04-10T22:00:00.000000000",
          "2024-04-10T23:00:00.000000000",
          "2024-04-11T00:00:00.000000000",
          "2024-04-11T01:00:00.000000000",
          "2024-04-11T02:00:00.000000000",
          "2024-04-11T03:00:00.000000000",
          "2024-04-11T04:00:00.000000000",
          "2024-04-11T05:00:00.000000000",
          "2024-04-11T06:00:00.000000000",
          "2024-04-11T07:00:00.000000000",
          "2024-04-11T08:00:00.000000000",
          "2024-04-11T09:00:00.000000000",
          "2024-04-11T10:00:00.000000000",
          "2024-04-11T11:00:00.000000000",
          "2024-04-11T12:00:00.000000000",
          "2024-04-11T13:00:00.000000000",
          "2024-04-11T14:00:00.000000000",
          "2024-04-11T15:00:00.000000000",
          "2024-04-11T16:00:00.000000000",
          "2024-04-11T17:00:00.000000000",
          "2024-04-11T18:00:00.000000000",
          "2024-04-11T19:00:00.000000000",
          "2024-04-11T20:00:00.000000000",
          "2024-04-11T21:00:00.000000000",
          "2024-04-11T22:00:00.000000000",
          "2024-04-11T23:00:00.000000000",
          "2024-04-12T00:00:00.000000000",
          "2024-04-12T01:00:00.000000000",
          "2024-04-12T02:00:00.000000000",
          "2024-04-12T03:00:00.000000000",
          "2024-04-12T04:00:00.000000000",
          "2024-04-12T05:00:00.000000000",
          "2024-04-12T06:00:00.000000000",
          "2024-04-12T07:00:00.000000000",
          "2024-04-12T08:00:00.000000000",
          "2024-04-12T09:00:00.000000000",
          "2024-04-12T10:00:00.000000000",
          "2024-04-12T11:00:00.000000000",
          "2024-04-12T12:00:00.000000000",
          "2024-04-12T13:00:00.000000000",
          "2024-04-12T14:00:00.000000000",
          "2024-04-12T15:00:00.000000000",
          "2024-04-12T16:00:00.000000000",
          "2024-04-12T17:00:00.000000000",
          "2024-04-12T18:00:00.000000000",
          "2024-04-12T19:00:00.000000000",
          "2024-04-12T20:00:00.000000000",
          "2024-04-12T21:00:00.000000000",
          "2024-04-12T22:00:00.000000000",
          "2024-04-12T23:00:00.000000000",
          "2024-04-13T00:00:00.000000000",
          "2024-04-13T01:00:00.000000000",
          "2024-04-13T02:00:00.000000000",
          "2024-04-13T03:00:00.000000000",
          "2024-04-13T04:00:00.000000000",
          "2024-04-13T05:00:00.000000000",
          "2024-04-13T06:00:00.000000000",
          "2024-04-13T07:00:00.000000000",
          "2024-04-13T08:00:00.000000000",
          "2024-04-13T09:00:00.000000000",
          "2024-04-13T10:00:00.000000000",
          "2024-04-13T11:00:00.000000000",
          "2024-04-13T12:00:00.000000000",
          "2024-04-13T13:00:00.000000000",
          "2024-04-13T14:00:00.000000000",
          "2024-04-13T15:00:00.000000000",
          "2024-04-13T16:00:00.000000000",
          "2024-04-13T17:00:00.000000000",
          "2024-04-13T18:00:00.000000000",
          "2024-04-13T19:00:00.000000000",
          "2024-04-13T20:00:00.000000000",
          "2024-04-13T21:00:00.000000000",
          "2024-04-13T22:00:00.000000000",
          "2024-04-13T23:00:00.000000000",
          "2024-04-14T00:00:00.000000000",
          "2024-04-14T01:00:00.000000000",
          "2024-04-14T02:00:00.000000000",
          "2024-04-14T03:00:00.000000000",
          "2024-04-14T04:00:00.000000000",
          "2024-04-14T05:00:00.000000000",
          "2024-04-14T06:00:00.000000000",
          "2024-04-14T07:00:00.000000000",
          "2024-04-14T08:00:00.000000000",
          "2024-04-14T09:00:00.000000000",
          "2024-04-14T10:00:00.000000000",
          "2024-04-14T11:00:00.000000000",
          "2024-04-14T12:00:00.000000000",
          "2024-04-14T13:00:00.000000000",
          "2024-04-14T14:00:00.000000000",
          "2024-04-14T15:00:00.000000000",
          "2024-04-14T16:00:00.000000000",
          "2024-04-14T17:00:00.000000000",
          "2024-04-14T18:00:00.000000000",
          "2024-04-14T19:00:00.000000000",
          "2024-04-14T20:00:00.000000000",
          "2024-04-14T21:00:00.000000000",
          "2024-04-14T22:00:00.000000000",
          "2024-04-14T23:00:00.000000000",
          "2024-04-15T00:00:00.000000000",
          "2024-04-15T01:00:00.000000000",
          "2024-04-15T02:00:00.000000000",
          "2024-04-15T03:00:00.000000000",
          "2024-04-15T04:00:00.000000000",
          "2024-04-15T05:00:00.000000000",
          "2024-04-15T06:00:00.000000000",
          "2024-04-15T07:00:00.000000000",
          "2024-04-15T08:00:00.000000000",
          "2024-04-15T09:00:00.000000000",
          "2024-04-15T10:00:00.000000000",
          "2024-04-15T11:00:00.000000000",
          "2024-04-15T12:00:00.000000000",
          "2024-04-15T13:00:00.000000000",
          "2024-04-15T14:00:00.000000000",
          "2024-04-15T15:00:00.000000000",
          "2024-04-15T16:00:00.000000000",
          "2024-04-15T17:00:00.000000000",
          "2024-04-15T18:00:00.000000000",
          "2024-04-15T19:00:00.000000000",
          "2024-04-15T20:00:00.000000000",
          "2024-04-15T21:00:00.000000000",
          "2024-04-15T22:00:00.000000000",
          "2024-04-15T23:00:00.000000000",
          "2024-04-16T00:00:00.000000000",
          "2024-04-16T01:00:00.000000000",
          "2024-04-16T02:00:00.000000000",
          "2024-04-16T03:00:00.000000000",
          "2024-04-16T04:00:00.000000000",
          "2024-04-16T05:00:00.000000000",
          "2024-04-16T06:00:00.000000000",
          "2024-04-16T07:00:00.000000000",
          "2024-04-16T08:00:00.000000000",
          "2024-04-16T09:00:00.000000000",
          "2024-04-16T10:00:00.000000000",
          "2024-04-16T11:00:00.000000000",
          "2024-04-16T12:00:00.000000000",
          "2024-04-16T13:00:00.000000000",
          "2024-04-16T14:00:00.000000000",
          "2024-04-16T15:00:00.000000000",
          "2024-04-16T16:00:00.000000000",
          "2024-04-16T17:00:00.000000000",
          "2024-04-16T18:00:00.000000000",
          "2024-04-16T19:00:00.000000000",
          "2024-04-16T20:00:00.000000000",
          "2024-04-16T21:00:00.000000000",
          "2024-04-16T22:00:00.000000000",
          "2024-04-16T23:00:00.000000000",
          "2024-04-17T00:00:00.000000000",
          "2024-04-17T01:00:00.000000000",
          "2024-04-17T02:00:00.000000000",
          "2024-04-17T03:00:00.000000000",
          "2024-04-17T04:00:00.000000000",
          "2024-04-17T05:00:00.000000000",
          "2024-04-17T06:00:00.000000000",
          "2024-04-17T07:00:00.000000000",
          "2024-04-17T08:00:00.000000000",
          "2024-04-17T09:00:00.000000000",
          "2024-04-17T10:00:00.000000000",
          "2024-04-17T11:00:00.000000000",
          "2024-04-17T12:00:00.000000000",
          "2024-04-17T13:00:00.000000000",
          "2024-04-17T14:00:00.000000000",
          "2024-04-17T15:00:00.000000000",
          "2024-04-17T16:00:00.000000000",
          "2024-04-17T17:00:00.000000000",
          "2024-04-17T18:00:00.000000000",
          "2024-04-17T19:00:00.000000000",
          "2024-04-17T20:00:00.000000000",
          "2024-04-17T21:00:00.000000000",
          "2024-04-17T22:00:00.000000000",
          "2024-04-17T23:00:00.000000000",
          "2024-04-18T00:00:00.000000000",
          "2024-04-18T01:00:00.000000000",
          "2024-04-18T02:00:00.000000000",
          "2024-04-18T03:00:00.000000000",
          "2024-04-18T04:00:00.000000000",
          "2024-04-18T05:00:00.000000000",
          "2024-04-18T06:00:00.000000000",
          "2024-04-18T07:00:00.000000000",
          "2024-04-18T08:00:00.000000000",
          "2024-04-18T09:00:00.000000000",
          "2024-04-18T10:00:00.000000000",
          "2024-04-18T11:00:00.000000000",
          "2024-04-18T12:00:00.000000000",
          "2024-04-18T13:00:00.000000000",
          "2024-04-18T14:00:00.000000000",
          "2024-04-18T15:00:00.000000000",
          "2024-04-18T16:00:00.000000000",
          "2024-04-18T17:00:00.000000000",
          "2024-04-18T18:00:00.000000000",
          "2024-04-18T19:00:00.000000000",
          "2024-04-18T20:00:00.000000000",
          "2024-04-18T21:00:00.000000000",
          "2024-04-18T22:00:00.000000000",
          "2024-04-18T23:00:00.000000000",
          "2024-04-19T00:00:00.000000000",
          "2024-04-19T01:00:00.000000000",
          "2024-04-19T02:00:00.000000000",
          "2024-04-19T03:00:00.000000000",
          "2024-04-19T04:00:00.000000000",
          "2024-04-19T05:00:00.000000000",
          "2024-04-19T06:00:00.000000000",
          "2024-04-19T07:00:00.000000000",
          "2024-04-19T08:00:00.000000000",
          "2024-04-19T09:00:00.000000000",
          "2024-04-19T10:00:00.000000000",
          "2024-04-19T11:00:00.000000000",
          "2024-04-19T12:00:00.000000000",
          "2024-04-19T13:00:00.000000000",
          "2024-04-19T14:00:00.000000000",
          "2024-04-19T15:00:00.000000000",
          "2024-04-19T16:00:00.000000000",
          "2024-04-19T17:00:00.000000000",
          "2024-04-19T18:00:00.000000000",
          "2024-04-19T19:00:00.000000000",
          "2024-04-19T20:00:00.000000000",
          "2024-04-19T21:00:00.000000000",
          "2024-04-19T22:00:00.000000000",
          "2024-04-19T23:00:00.000000000",
          "2024-04-20T00:00:00.000000000",
          "2024-04-20T01:00:00.000000000",
          "2024-04-20T02:00:00.000000000",
          "2024-04-20T03:00:00.000000000",
          "2024-04-20T04:00:00.000000000",
          "2024-04-20T05:00:00.000000000",
          "2024-04-20T06:00:00.000000000",
          "2024-04-20T07:00:00.000000000",
          "2024-04-20T08:00:00.000000000",
          "2024-04-20T09:00:00.000000000",
          "2024-04-20T10:00:00.000000000",
          "2024-04-20T11:00:00.000000000",
          "2024-04-20T12:00:00.000000000",
          "2024-04-20T13:00:00.000000000",
          "2024-04-20T14:00:00.000000000",
          "2024-04-20T15:00:00.000000000",
          "2024-04-20T16:00:00.000000000",
          "2024-04-20T17:00:00.000000000",
          "2024-04-20T18:00:00.000000000",
          "2024-04-20T19:00:00.000000000",
          "2024-04-20T20:00:00.000000000",
          "2024-04-20T21:00:00.000000000",
          "2024-04-20T22:00:00.000000000",
          "2024-04-20T23:00:00.000000000",
          "2024-04-21T00:00:00.000000000",
          "2024-04-21T01:00:00.000000000",
          "2024-04-21T02:00:00.000000000",
          "2024-04-21T03:00:00.000000000",
          "2024-04-21T04:00:00.000000000",
          "2024-04-21T05:00:00.000000000",
          "2024-04-21T06:00:00.000000000",
          "2024-04-21T07:00:00.000000000",
          "2024-04-21T08:00:00.000000000",
          "2024-04-21T09:00:00.000000000",
          "2024-04-21T10:00:00.000000000",
          "2024-04-21T11:00:00.000000000",
          "2024-04-21T12:00:00.000000000",
          "2024-04-21T13:00:00.000000000",
          "2024-04-21T14:00:00.000000000",
          "2024-04-21T15:00:00.000000000",
          "2024-04-21T16:00:00.000000000",
          "2024-04-21T17:00:00.000000000",
          "2024-04-21T18:00:00.000000000",
          "2024-04-21T19:00:00.000000000",
          "2024-04-21T20:00:00.000000000",
          "2024-04-21T21:00:00.000000000",
          "2024-04-21T22:00:00.000000000",
          "2024-04-21T23:00:00.000000000",
          "2024-04-22T00:00:00.000000000",
          "2024-04-22T01:00:00.000000000",
          "2024-04-22T02:00:00.000000000",
          "2024-04-22T03:00:00.000000000",
          "2024-04-22T04:00:00.000000000",
          "2024-04-22T05:00:00.000000000",
          "2024-04-22T06:00:00.000000000",
          "2024-04-22T07:00:00.000000000",
          "2024-04-22T08:00:00.000000000",
          "2024-04-22T09:00:00.000000000",
          "2024-04-22T10:00:00.000000000",
          "2024-04-22T11:00:00.000000000",
          "2024-04-22T12:00:00.000000000",
          "2024-04-22T13:00:00.000000000",
          "2024-04-22T14:00:00.000000000",
          "2024-04-22T15:00:00.000000000",
          "2024-04-22T16:00:00.000000000",
          "2024-04-22T17:00:00.000000000",
          "2024-04-22T18:00:00.000000000",
          "2024-04-22T19:00:00.000000000",
          "2024-04-22T20:00:00.000000000",
          "2024-04-22T21:00:00.000000000",
          "2024-04-22T22:00:00.000000000",
          "2024-04-22T23:00:00.000000000",
          "2024-04-23T00:00:00.000000000",
          "2024-04-23T01:00:00.000000000",
          "2024-04-23T02:00:00.000000000",
          "2024-04-23T03:00:00.000000000",
          "2024-04-23T04:00:00.000000000",
          "2024-04-23T05:00:00.000000000",
          "2024-04-23T06:00:00.000000000",
          "2024-04-23T07:00:00.000000000",
          "2024-04-23T08:00:00.000000000",
          "2024-04-23T09:00:00.000000000",
          "2024-04-23T10:00:00.000000000",
          "2024-04-23T11:00:00.000000000",
          "2024-04-23T12:00:00.000000000",
          "2024-04-23T13:00:00.000000000",
          "2024-04-23T14:00:00.000000000",
          "2024-04-23T15:00:00.000000000",
          "2024-04-23T16:00:00.000000000",
          "2024-04-23T17:00:00.000000000",
          "2024-04-23T18:00:00.000000000",
          "2024-04-23T19:00:00.000000000",
          "2024-04-23T20:00:00.000000000",
          "2024-04-23T21:00:00.000000000",
          "2024-04-23T22:00:00.000000000",
          "2024-04-23T23:00:00.000000000",
          "2024-04-24T00:00:00.000000000",
          "2024-04-24T01:00:00.000000000",
          "2024-04-24T02:00:00.000000000",
          "2024-04-24T03:00:00.000000000",
          "2024-04-24T04:00:00.000000000",
          "2024-04-24T05:00:00.000000000",
          "2024-04-24T06:00:00.000000000",
          "2024-04-24T07:00:00.000000000",
          "2024-04-24T08:00:00.000000000",
          "2024-04-24T09:00:00.000000000",
          "2024-04-24T10:00:00.000000000",
          "2024-04-24T11:00:00.000000000",
          "2024-04-24T12:00:00.000000000",
          "2024-04-24T13:00:00.000000000",
          "2024-04-24T14:00:00.000000000",
          "2024-04-24T15:00:00.000000000",
          "2024-04-24T16:00:00.000000000",
          "2024-04-24T17:00:00.000000000",
          "2024-04-24T18:00:00.000000000",
          "2024-04-24T19:00:00.000000000",
          "2024-04-24T20:00:00.000000000",
          "2024-04-24T21:00:00.000000000",
          "2024-04-24T22:00:00.000000000",
          "2024-04-24T23:00:00.000000000",
          "2024-04-25T00:00:00.000000000",
          "2024-04-25T01:00:00.000000000",
          "2024-04-25T02:00:00.000000000",
          "2024-04-25T03:00:00.000000000",
          "2024-04-25T04:00:00.000000000",
          "2024-04-25T05:00:00.000000000",
          "2024-04-25T06:00:00.000000000",
          "2024-04-25T07:00:00.000000000",
          "2024-04-25T08:00:00.000000000",
          "2024-04-25T09:00:00.000000000",
          "2024-04-25T10:00:00.000000000",
          "2024-04-25T11:00:00.000000000",
          "2024-04-25T12:00:00.000000000",
          "2024-04-25T13:00:00.000000000",
          "2024-04-25T14:00:00.000000000",
          "2024-04-25T15:00:00.000000000",
          "2024-04-25T16:00:00.000000000",
          "2024-04-25T17:00:00.000000000",
          "2024-04-25T18:00:00.000000000",
          "2024-04-25T19:00:00.000000000",
          "2024-04-25T20:00:00.000000000",
          "2024-04-25T21:00:00.000000000",
          "2024-04-25T22:00:00.000000000",
          "2024-04-25T23:00:00.000000000",
          "2024-04-26T00:00:00.000000000",
          "2024-04-26T01:00:00.000000000",
          "2024-04-26T02:00:00.000000000",
          "2024-04-26T03:00:00.000000000",
          "2024-04-26T04:00:00.000000000",
          "2024-04-26T05:00:00.000000000",
          "2024-04-26T06:00:00.000000000",
          "2024-04-26T07:00:00.000000000",
          "2024-04-26T08:00:00.000000000",
          "2024-04-26T09:00:00.000000000",
          "2024-04-26T10:00:00.000000000",
          "2024-04-26T11:00:00.000000000",
          "2024-04-26T12:00:00.000000000",
          "2024-04-26T13:00:00.000000000",
          "2024-04-26T14:00:00.000000000",
          "2024-04-26T15:00:00.000000000",
          "2024-04-26T16:00:00.000000000",
          "2024-04-26T17:00:00.000000000",
          "2024-04-26T18:00:00.000000000",
          "2024-04-26T19:00:00.000000000",
          "2024-04-26T20:00:00.000000000",
          "2024-04-26T21:00:00.000000000",
          "2024-04-26T22:00:00.000000000",
          "2024-04-26T23:00:00.000000000",
          "2024-04-27T00:00:00.000000000",
          "2024-04-27T01:00:00.000000000",
          "2024-04-27T02:00:00.000000000",
          "2024-04-27T03:00:00.000000000",
          "2024-04-27T04:00:00.000000000",
          "2024-04-27T05:00:00.000000000",
          "2024-04-27T06:00:00.000000000",
          "2024-04-27T07:00:00.000000000",
          "2024-04-27T08:00:00.000000000",
          "2024-04-27T09:00:00.000000000",
          "2024-04-27T10:00:00.000000000",
          "2024-04-27T11:00:00.000000000",
          "2024-04-27T12:00:00.000000000",
          "2024-04-27T13:00:00.000000000",
          "2024-04-27T14:00:00.000000000",
          "2024-04-27T15:00:00.000000000",
          "2024-04-27T16:00:00.000000000",
          "2024-04-27T17:00:00.000000000",
          "2024-04-27T18:00:00.000000000",
          "2024-04-27T19:00:00.000000000",
          "2024-04-27T20:00:00.000000000",
          "2024-04-27T21:00:00.000000000",
          "2024-04-27T22:00:00.000000000",
          "2024-04-27T23:00:00.000000000",
          "2024-04-28T00:00:00.000000000",
          "2024-04-28T01:00:00.000000000",
          "2024-04-28T02:00:00.000000000",
          "2024-04-28T03:00:00.000000000",
          "2024-04-28T04:00:00.000000000",
          "2024-04-28T05:00:00.000000000",
          "2024-04-28T06:00:00.000000000",
          "2024-04-28T07:00:00.000000000",
          "2024-04-28T08:00:00.000000000",
          "2024-04-28T09:00:00.000000000",
          "2024-04-28T10:00:00.000000000",
          "2024-04-28T11:00:00.000000000",
          "2024-04-28T12:00:00.000000000",
          "2024-04-28T13:00:00.000000000",
          "2024-04-28T14:00:00.000000000",
          "2024-04-28T15:00:00.000000000",
          "2024-04-28T16:00:00.000000000",
          "2024-04-28T17:00:00.000000000",
          "2024-04-28T18:00:00.000000000",
          "2024-04-28T19:00:00.000000000",
          "2024-04-28T20:00:00.000000000",
          "2024-04-28T21:00:00.000000000",
          "2024-04-28T22:00:00.000000000",
          "2024-04-28T23:00:00.000000000",
          "2024-04-29T00:00:00.000000000",
          "2024-04-29T01:00:00.000000000",
          "2024-04-29T02:00:00.000000000",
          "2024-04-29T03:00:00.000000000",
          "2024-04-29T04:00:00.000000000",
          "2024-04-29T05:00:00.000000000",
          "2024-04-29T06:00:00.000000000",
          "2024-04-29T07:00:00.000000000",
          "2024-04-29T08:00:00.000000000",
          "2024-04-29T09:00:00.000000000",
          "2024-04-29T10:00:00.000000000",
          "2024-04-29T11:00:00.000000000",
          "2024-04-29T12:00:00.000000000",
          "2024-04-29T13:00:00.000000000",
          "2024-04-29T14:00:00.000000000",
          "2024-04-29T15:00:00.000000000",
          "2024-04-29T16:00:00.000000000",
          "2024-04-29T17:00:00.000000000",
          "2024-04-29T18:00:00.000000000",
          "2024-04-29T19:00:00.000000000",
          "2024-04-29T20:00:00.000000000",
          "2024-04-29T21:00:00.000000000",
          "2024-04-29T22:00:00.000000000",
          "2024-04-29T23:00:00.000000000",
          "2024-04-30T00:00:00.000000000",
          "2024-04-30T01:00:00.000000000",
          "2024-04-30T02:00:00.000000000",
          "2024-04-30T03:00:00.000000000",
          "2024-04-30T04:00:00.000000000",
          "2024-04-30T05:00:00.000000000",
          "2024-04-30T06:00:00.000000000",
          "2024-04-30T07:00:00.000000000",
          "2024-04-30T08:00:00.000000000",
          "2024-04-30T09:00:00.000000000",
          "2024-04-30T10:00:00.000000000",
          "2024-04-30T11:00:00.000000000",
          "2024-04-30T12:00:00.000000000",
          "2024-04-30T13:00:00.000000000",
          "2024-04-30T14:00:00.000000000",
          "2024-04-30T15:00:00.000000000",
          "2024-04-30T16:00:00.000000000",
          "2024-04-30T17:00:00.000000000",
          "2024-04-30T18:00:00.000000000",
          "2024-04-30T19:00:00.000000000",
          "2024-04-30T20:00:00.000000000",
          "2024-04-30T21:00:00.000000000",
          "2024-04-30T22:00:00.000000000",
          "2024-04-30T23:00:00.000000000",
          "2024-05-01T00:00:00.000000000",
          "2024-05-01T01:00:00.000000000",
          "2024-05-01T02:00:00.000000000",
          "2024-05-01T03:00:00.000000000",
          "2024-05-01T04:00:00.000000000",
          "2024-05-01T05:00:00.000000000",
          "2024-05-01T06:00:00.000000000",
          "2024-05-01T07:00:00.000000000",
          "2024-05-01T08:00:00.000000000",
          "2024-05-01T09:00:00.000000000",
          "2024-05-01T10:00:00.000000000",
          "2024-05-01T11:00:00.000000000",
          "2024-05-01T12:00:00.000000000",
          "2024-05-01T13:00:00.000000000",
          "2024-05-01T14:00:00.000000000",
          "2024-05-01T15:00:00.000000000",
          "2024-05-01T16:00:00.000000000",
          "2024-05-01T17:00:00.000000000",
          "2024-05-01T18:00:00.000000000",
          "2024-05-01T19:00:00.000000000",
          "2024-05-01T20:00:00.000000000",
          "2024-05-01T21:00:00.000000000",
          "2024-05-01T22:00:00.000000000",
          "2024-05-01T23:00:00.000000000",
          "2024-05-02T00:00:00.000000000",
          "2024-05-02T01:00:00.000000000",
          "2024-05-02T02:00:00.000000000",
          "2024-05-02T03:00:00.000000000",
          "2024-05-02T04:00:00.000000000",
          "2024-05-02T05:00:00.000000000",
          "2024-05-02T06:00:00.000000000",
          "2024-05-02T07:00:00.000000000",
          "2024-05-02T08:00:00.000000000",
          "2024-05-02T09:00:00.000000000",
          "2024-05-02T10:00:00.000000000",
          "2024-05-02T11:00:00.000000000",
          "2024-05-02T12:00:00.000000000",
          "2024-05-02T13:00:00.000000000",
          "2024-05-02T14:00:00.000000000",
          "2024-05-02T15:00:00.000000000",
          "2024-05-02T16:00:00.000000000",
          "2024-05-02T17:00:00.000000000",
          "2024-05-02T18:00:00.000000000",
          "2024-05-02T19:00:00.000000000",
          "2024-05-02T20:00:00.000000000",
          "2024-05-02T21:00:00.000000000",
          "2024-05-02T22:00:00.000000000",
          "2024-05-02T23:00:00.000000000",
          "2024-05-03T00:00:00.000000000",
          "2024-05-03T01:00:00.000000000",
          "2024-05-03T02:00:00.000000000",
          "2024-05-03T03:00:00.000000000",
          "2024-05-03T04:00:00.000000000",
          "2024-05-03T05:00:00.000000000",
          "2024-05-03T06:00:00.000000000",
          "2024-05-03T07:00:00.000000000",
          "2024-05-03T08:00:00.000000000",
          "2024-05-03T09:00:00.000000000",
          "2024-05-03T10:00:00.000000000",
          "2024-05-03T11:00:00.000000000",
          "2024-05-03T12:00:00.000000000",
          "2024-05-03T13:00:00.000000000",
          "2024-05-03T14:00:00.000000000",
          "2024-05-03T15:00:00.000000000",
          "2024-05-03T16:00:00.000000000",
          "2024-05-03T17:00:00.000000000",
          "2024-05-03T18:00:00.000000000",
          "2024-05-03T19:00:00.000000000",
          "2024-05-03T20:00:00.000000000",
          "2024-05-03T21:00:00.000000000",
          "2024-05-03T22:00:00.000000000",
          "2024-05-03T23:00:00.000000000",
          "2024-05-04T00:00:00.000000000",
          "2024-05-04T01:00:00.000000000",
          "2024-05-04T02:00:00.000000000",
          "2024-05-04T03:00:00.000000000",
          "2024-05-04T04:00:00.000000000",
          "2024-05-04T05:00:00.000000000",
          "2024-05-04T06:00:00.000000000",
          "2024-05-04T07:00:00.000000000",
          "2024-05-04T08:00:00.000000000",
          "2024-05-04T09:00:00.000000000",
          "2024-05-04T10:00:00.000000000",
          "2024-05-04T11:00:00.000000000",
          "2024-05-04T12:00:00.000000000",
          "2024-05-04T13:00:00.000000000",
          "2024-05-04T14:00:00.000000000",
          "2024-05-04T15:00:00.000000000",
          "2024-05-04T16:00:00.000000000",
          "2024-05-04T17:00:00.000000000",
          "2024-05-04T18:00:00.000000000",
          "2024-05-04T19:00:00.000000000",
          "2024-05-04T20:00:00.000000000",
          "2024-05-04T21:00:00.000000000",
          "2024-05-04T22:00:00.000000000",
          "2024-05-04T23:00:00.000000000",
          "2024-05-05T00:00:00.000000000",
          "2024-05-05T01:00:00.000000000",
          "2024-05-05T02:00:00.000000000",
          "2024-05-05T03:00:00.000000000",
          "2024-05-05T04:00:00.000000000",
          "2024-05-05T05:00:00.000000000",
          "2024-05-05T06:00:00.000000000",
          "2024-05-05T07:00:00.000000000",
          "2024-05-05T08:00:00.000000000",
          "2024-05-05T09:00:00.000000000",
          "2024-05-05T10:00:00.000000000",
          "2024-05-05T11:00:00.000000000",
          "2024-05-05T12:00:00.000000000",
          "2024-05-05T13:00:00.000000000",
          "2024-05-05T14:00:00.000000000",
          "2024-05-05T15:00:00.000000000",
          "2024-05-05T16:00:00.000000000",
          "2024-05-05T17:00:00.000000000",
          "2024-05-05T18:00:00.000000000",
          "2024-05-05T19:00:00.000000000",
          "2024-05-05T20:00:00.000000000",
          "2024-05-05T21:00:00.000000000",
          "2024-05-05T22:00:00.000000000",
          "2024-05-05T23:00:00.000000000",
          "2024-05-06T00:00:00.000000000",
          "2024-05-06T01:00:00.000000000",
          "2024-05-06T02:00:00.000000000",
          "2024-05-06T03:00:00.000000000",
          "2024-05-06T04:00:00.000000000",
          "2024-05-06T05:00:00.000000000",
          "2024-05-06T06:00:00.000000000",
          "2024-05-06T07:00:00.000000000",
          "2024-05-06T08:00:00.000000000",
          "2024-05-06T09:00:00.000000000",
          "2024-05-06T10:00:00.000000000",
          "2024-05-06T11:00:00.000000000",
          "2024-05-06T12:00:00.000000000",
          "2024-05-06T13:00:00.000000000",
          "2024-05-06T14:00:00.000000000",
          "2024-05-06T15:00:00.000000000",
          "2024-05-06T16:00:00.000000000",
          "2024-05-06T17:00:00.000000000",
          "2024-05-06T18:00:00.000000000",
          "2024-05-06T19:00:00.000000000",
          "2024-05-06T20:00:00.000000000",
          "2024-05-06T21:00:00.000000000",
          "2024-05-06T22:00:00.000000000",
          "2024-05-06T23:00:00.000000000",
          "2024-05-07T00:00:00.000000000",
          "2024-05-07T01:00:00.000000000",
          "2024-05-07T02:00:00.000000000",
          "2024-05-07T03:00:00.000000000",
          "2024-05-07T04:00:00.000000000",
          "2024-05-07T05:00:00.000000000",
          "2024-05-07T06:00:00.000000000",
          "2024-05-07T07:00:00.000000000",
          "2024-05-07T08:00:00.000000000",
          "2024-05-07T09:00:00.000000000",
          "2024-05-07T10:00:00.000000000",
          "2024-05-07T11:00:00.000000000",
          "2024-05-07T12:00:00.000000000",
          "2024-05-07T13:00:00.000000000",
          "2024-05-07T14:00:00.000000000",
          "2024-05-07T15:00:00.000000000",
          "2024-05-07T16:00:00.000000000",
          "2024-05-07T17:00:00.000000000",
          "2024-05-07T18:00:00.000000000",
          "2024-05-07T19:00:00.000000000",
          "2024-05-07T20:00:00.000000000",
          "2024-05-07T21:00:00.000000000",
          "2024-05-07T22:00:00.000000000",
          "2024-05-07T23:00:00.000000000",
          "2024-05-08T00:00:00.000000000",
          "2024-05-08T01:00:00.000000000",
          "2024-05-08T02:00:00.000000000",
          "2024-05-08T03:00:00.000000000",
          "2024-05-08T04:00:00.000000000",
          "2024-05-08T05:00:00.000000000",
          "2024-05-08T06:00:00.000000000",
          "2024-05-08T07:00:00.000000000",
          "2024-05-08T08:00:00.000000000",
          "2024-05-08T09:00:00.000000000",
          "2024-05-08T10:00:00.000000000",
          "2024-05-08T11:00:00.000000000",
          "2024-05-08T12:00:00.000000000",
          "2024-05-08T13:00:00.000000000",
          "2024-05-08T14:00:00.000000000",
          "2024-05-08T15:00:00.000000000",
          "2024-05-08T16:00:00.000000000",
          "2024-05-08T17:00:00.000000000",
          "2024-05-08T18:00:00.000000000",
          "2024-05-08T19:00:00.000000000",
          "2024-05-08T20:00:00.000000000",
          "2024-05-08T21:00:00.000000000",
          "2024-05-08T22:00:00.000000000",
          "2024-05-08T23:00:00.000000000",
          "2024-05-09T00:00:00.000000000",
          "2024-05-09T01:00:00.000000000",
          "2024-05-09T02:00:00.000000000",
          "2024-05-09T03:00:00.000000000",
          "2024-05-09T04:00:00.000000000",
          "2024-05-09T05:00:00.000000000",
          "2024-05-09T06:00:00.000000000",
          "2024-05-09T07:00:00.000000000",
          "2024-05-09T08:00:00.000000000",
          "2024-05-09T09:00:00.000000000",
          "2024-05-09T10:00:00.000000000",
          "2024-05-09T11:00:00.000000000",
          "2024-05-09T12:00:00.000000000",
          "2024-05-09T13:00:00.000000000",
          "2024-05-09T14:00:00.000000000",
          "2024-05-09T15:00:00.000000000",
          "2024-05-09T16:00:00.000000000",
          "2024-05-09T17:00:00.000000000",
          "2024-05-09T18:00:00.000000000",
          "2024-05-09T19:00:00.000000000",
          "2024-05-09T20:00:00.000000000",
          "2024-05-09T21:00:00.000000000",
          "2024-05-09T22:00:00.000000000",
          "2024-05-09T23:00:00.000000000",
          "2024-05-10T00:00:00.000000000",
          "2024-05-10T01:00:00.000000000",
          "2024-05-10T02:00:00.000000000",
          "2024-05-10T03:00:00.000000000",
          "2024-05-10T04:00:00.000000000",
          "2024-05-10T05:00:00.000000000",
          "2024-05-10T06:00:00.000000000",
          "2024-05-10T07:00:00.000000000",
          "2024-05-10T08:00:00.000000000",
          "2024-05-10T09:00:00.000000000",
          "2024-05-10T10:00:00.000000000",
          "2024-05-10T11:00:00.000000000",
          "2024-05-10T12:00:00.000000000",
          "2024-05-10T13:00:00.000000000",
          "2024-05-10T14:00:00.000000000",
          "2024-05-10T15:00:00.000000000",
          "2024-05-10T16:00:00.000000000",
          "2024-05-10T17:00:00.000000000",
          "2024-05-10T18:00:00.000000000",
          "2024-05-10T19:00:00.000000000",
          "2024-05-10T20:00:00.000000000",
          "2024-05-10T21:00:00.000000000",
          "2024-05-10T22:00:00.000000000",
          "2024-05-10T23:00:00.000000000",
          "2024-05-11T00:00:00.000000000",
          "2024-05-11T01:00:00.000000000",
          "2024-05-11T02:00:00.000000000",
          "2024-05-11T03:00:00.000000000",
          "2024-05-11T04:00:00.000000000",
          "2024-05-11T05:00:00.000000000",
          "2024-05-11T06:00:00.000000000",
          "2024-05-11T07:00:00.000000000",
          "2024-05-11T08:00:00.000000000",
          "2024-05-11T09:00:00.000000000",
          "2024-05-11T10:00:00.000000000",
          "2024-05-11T11:00:00.000000000",
          "2024-05-11T12:00:00.000000000",
          "2024-05-11T13:00:00.000000000",
          "2024-05-11T14:00:00.000000000",
          "2024-05-11T15:00:00.000000000",
          "2024-05-11T16:00:00.000000000",
          "2024-05-11T17:00:00.000000000",
          "2024-05-11T18:00:00.000000000",
          "2024-05-11T19:00:00.000000000",
          "2024-05-11T20:00:00.000000000",
          "2024-05-11T21:00:00.000000000",
          "2024-05-11T22:00:00.000000000",
          "2024-05-11T23:00:00.000000000"
         ],
         "y": [
          0,
          0,
          0,
          0,
          0,
          0,
          0,
          0,
          1,
          38,
          37,
          46,
          35,
          40,
          29,
          27,
          16,
          16,
          0,
          0,
          1,
          1,
          0,
          0,
          0,
          0,
          0,
          0,
          0,
          1,
          2,
          0,
          1,
          40,
          41,
          40,
          9,
          9,
          15,
          9,
          17,
          8,
          33,
          0,
          0,
          0,
          0,
          0,
          0,
          0,
          0,
          0,
          0,
          0,
          0,
          5,
          5,
          49,
          48,
          33,
          3,
          0,
          8,
          8,
          51,
          44,
          50,
          0,
          0,
          0,
          0,
          0,
          0,
          0,
          0,
          0,
          0,
          0,
          0,
          1,
          2,
          21,
          15,
          19,
          40,
          54,
          43,
          32,
          17,
          0,
          0,
          0,
          0,
          0,
          0,
          0,
          0,
          0,
          0,
          0,
          0,
          0,
          0,
          0,
          1,
          42,
          23,
          42,
          0,
          0,
          0,
          0,
          0,
          0,
          0,
          0,
          0,
          0,
          0,
          0,
          0,
          0,
          0,
          0,
          0,
          0,
          0,
          0,
          0,
          0,
          0,
          0,
          0,
          0,
          0,
          0,
          0,
          0,
          0,
          0,
          0,
          0,
          0,
          0,
          0,
          0,
          0,
          0,
          0,
          0,
          0,
          1,
          1,
          1,
          1,
          1,
          44,
          46,
          18,
          18,
          24,
          3,
          5,
          0,
          0,
          0,
          0,
          0,
          0,
          0,
          0,
          0,
          0,
          0,
          0,
          0,
          1,
          40,
          40,
          45,
          3,
          1,
          26,
          24,
          20,
          17,
          0,
          0,
          1,
          1,
          0,
          0,
          0,
          0,
          0,
          0,
          0,
          0,
          0,
          1,
          2,
          42,
          40,
          35,
          7,
          9,
          13,
          8,
          8,
          5,
          31,
          2,
          2,
          0,
          0,
          0,
          0,
          0,
          0,
          0,
          0,
          0,
          2,
          1,
          2,
          28,
          29,
          36,
          11,
          7,
          16,
          14,
          4,
          3,
          3,
          25,
          0,
          0,
          0,
          0
         ]
        }
       ],
       "layout": {
        "template": {
         "data": {
          "bar": [
           {
            "error_x": {
             "color": "#2a3f5f"
            },
            "error_y": {
             "color": "#2a3f5f"
            },
            "marker": {
             "line": {
              "color": "#E5ECF6",
              "width": 0.5
             },
             "pattern": {
              "fillmode": "overlay",
              "size": 10,
              "solidity": 0.2
             }
            },
            "type": "bar"
           }
          ],
          "barpolar": [
           {
            "marker": {
             "line": {
              "color": "#E5ECF6",
              "width": 0.5
             },
             "pattern": {
              "fillmode": "overlay",
              "size": 10,
              "solidity": 0.2
             }
            },
            "type": "barpolar"
           }
          ],
          "carpet": [
           {
            "aaxis": {
             "endlinecolor": "#2a3f5f",
             "gridcolor": "white",
             "linecolor": "white",
             "minorgridcolor": "white",
             "startlinecolor": "#2a3f5f"
            },
            "baxis": {
             "endlinecolor": "#2a3f5f",
             "gridcolor": "white",
             "linecolor": "white",
             "minorgridcolor": "white",
             "startlinecolor": "#2a3f5f"
            },
            "type": "carpet"
           }
          ],
          "choropleth": [
           {
            "colorbar": {
             "outlinewidth": 0,
             "ticks": ""
            },
            "type": "choropleth"
           }
          ],
          "contour": [
           {
            "colorbar": {
             "outlinewidth": 0,
             "ticks": ""
            },
            "colorscale": [
             [
              0,
              "#0d0887"
             ],
             [
              0.1111111111111111,
              "#46039f"
             ],
             [
              0.2222222222222222,
              "#7201a8"
             ],
             [
              0.3333333333333333,
              "#9c179e"
             ],
             [
              0.4444444444444444,
              "#bd3786"
             ],
             [
              0.5555555555555556,
              "#d8576b"
             ],
             [
              0.6666666666666666,
              "#ed7953"
             ],
             [
              0.7777777777777778,
              "#fb9f3a"
             ],
             [
              0.8888888888888888,
              "#fdca26"
             ],
             [
              1,
              "#f0f921"
             ]
            ],
            "type": "contour"
           }
          ],
          "contourcarpet": [
           {
            "colorbar": {
             "outlinewidth": 0,
             "ticks": ""
            },
            "type": "contourcarpet"
           }
          ],
          "heatmap": [
           {
            "colorbar": {
             "outlinewidth": 0,
             "ticks": ""
            },
            "colorscale": [
             [
              0,
              "#0d0887"
             ],
             [
              0.1111111111111111,
              "#46039f"
             ],
             [
              0.2222222222222222,
              "#7201a8"
             ],
             [
              0.3333333333333333,
              "#9c179e"
             ],
             [
              0.4444444444444444,
              "#bd3786"
             ],
             [
              0.5555555555555556,
              "#d8576b"
             ],
             [
              0.6666666666666666,
              "#ed7953"
             ],
             [
              0.7777777777777778,
              "#fb9f3a"
             ],
             [
              0.8888888888888888,
              "#fdca26"
             ],
             [
              1,
              "#f0f921"
             ]
            ],
            "type": "heatmap"
           }
          ],
          "heatmapgl": [
           {
            "colorbar": {
             "outlinewidth": 0,
             "ticks": ""
            },
            "colorscale": [
             [
              0,
              "#0d0887"
             ],
             [
              0.1111111111111111,
              "#46039f"
             ],
             [
              0.2222222222222222,
              "#7201a8"
             ],
             [
              0.3333333333333333,
              "#9c179e"
             ],
             [
              0.4444444444444444,
              "#bd3786"
             ],
             [
              0.5555555555555556,
              "#d8576b"
             ],
             [
              0.6666666666666666,
              "#ed7953"
             ],
             [
              0.7777777777777778,
              "#fb9f3a"
             ],
             [
              0.8888888888888888,
              "#fdca26"
             ],
             [
              1,
              "#f0f921"
             ]
            ],
            "type": "heatmapgl"
           }
          ],
          "histogram": [
           {
            "marker": {
             "pattern": {
              "fillmode": "overlay",
              "size": 10,
              "solidity": 0.2
             }
            },
            "type": "histogram"
           }
          ],
          "histogram2d": [
           {
            "colorbar": {
             "outlinewidth": 0,
             "ticks": ""
            },
            "colorscale": [
             [
              0,
              "#0d0887"
             ],
             [
              0.1111111111111111,
              "#46039f"
             ],
             [
              0.2222222222222222,
              "#7201a8"
             ],
             [
              0.3333333333333333,
              "#9c179e"
             ],
             [
              0.4444444444444444,
              "#bd3786"
             ],
             [
              0.5555555555555556,
              "#d8576b"
             ],
             [
              0.6666666666666666,
              "#ed7953"
             ],
             [
              0.7777777777777778,
              "#fb9f3a"
             ],
             [
              0.8888888888888888,
              "#fdca26"
             ],
             [
              1,
              "#f0f921"
             ]
            ],
            "type": "histogram2d"
           }
          ],
          "histogram2dcontour": [
           {
            "colorbar": {
             "outlinewidth": 0,
             "ticks": ""
            },
            "colorscale": [
             [
              0,
              "#0d0887"
             ],
             [
              0.1111111111111111,
              "#46039f"
             ],
             [
              0.2222222222222222,
              "#7201a8"
             ],
             [
              0.3333333333333333,
              "#9c179e"
             ],
             [
              0.4444444444444444,
              "#bd3786"
             ],
             [
              0.5555555555555556,
              "#d8576b"
             ],
             [
              0.6666666666666666,
              "#ed7953"
             ],
             [
              0.7777777777777778,
              "#fb9f3a"
             ],
             [
              0.8888888888888888,
              "#fdca26"
             ],
             [
              1,
              "#f0f921"
             ]
            ],
            "type": "histogram2dcontour"
           }
          ],
          "mesh3d": [
           {
            "colorbar": {
             "outlinewidth": 0,
             "ticks": ""
            },
            "type": "mesh3d"
           }
          ],
          "parcoords": [
           {
            "line": {
             "colorbar": {
              "outlinewidth": 0,
              "ticks": ""
             }
            },
            "type": "parcoords"
           }
          ],
          "pie": [
           {
            "automargin": true,
            "type": "pie"
           }
          ],
          "scatter": [
           {
            "fillpattern": {
             "fillmode": "overlay",
             "size": 10,
             "solidity": 0.2
            },
            "type": "scatter"
           }
          ],
          "scatter3d": [
           {
            "line": {
             "colorbar": {
              "outlinewidth": 0,
              "ticks": ""
             }
            },
            "marker": {
             "colorbar": {
              "outlinewidth": 0,
              "ticks": ""
             }
            },
            "type": "scatter3d"
           }
          ],
          "scattercarpet": [
           {
            "marker": {
             "colorbar": {
              "outlinewidth": 0,
              "ticks": ""
             }
            },
            "type": "scattercarpet"
           }
          ],
          "scattergeo": [
           {
            "marker": {
             "colorbar": {
              "outlinewidth": 0,
              "ticks": ""
             }
            },
            "type": "scattergeo"
           }
          ],
          "scattergl": [
           {
            "marker": {
             "colorbar": {
              "outlinewidth": 0,
              "ticks": ""
             }
            },
            "type": "scattergl"
           }
          ],
          "scattermapbox": [
           {
            "marker": {
             "colorbar": {
              "outlinewidth": 0,
              "ticks": ""
             }
            },
            "type": "scattermapbox"
           }
          ],
          "scatterpolar": [
           {
            "marker": {
             "colorbar": {
              "outlinewidth": 0,
              "ticks": ""
             }
            },
            "type": "scatterpolar"
           }
          ],
          "scatterpolargl": [
           {
            "marker": {
             "colorbar": {
              "outlinewidth": 0,
              "ticks": ""
             }
            },
            "type": "scatterpolargl"
           }
          ],
          "scatterternary": [
           {
            "marker": {
             "colorbar": {
              "outlinewidth": 0,
              "ticks": ""
             }
            },
            "type": "scatterternary"
           }
          ],
          "surface": [
           {
            "colorbar": {
             "outlinewidth": 0,
             "ticks": ""
            },
            "colorscale": [
             [
              0,
              "#0d0887"
             ],
             [
              0.1111111111111111,
              "#46039f"
             ],
             [
              0.2222222222222222,
              "#7201a8"
             ],
             [
              0.3333333333333333,
              "#9c179e"
             ],
             [
              0.4444444444444444,
              "#bd3786"
             ],
             [
              0.5555555555555556,
              "#d8576b"
             ],
             [
              0.6666666666666666,
              "#ed7953"
             ],
             [
              0.7777777777777778,
              "#fb9f3a"
             ],
             [
              0.8888888888888888,
              "#fdca26"
             ],
             [
              1,
              "#f0f921"
             ]
            ],
            "type": "surface"
           }
          ],
          "table": [
           {
            "cells": {
             "fill": {
              "color": "#EBF0F8"
             },
             "line": {
              "color": "white"
             }
            },
            "header": {
             "fill": {
              "color": "#C8D4E3"
             },
             "line": {
              "color": "white"
             }
            },
            "type": "table"
           }
          ]
         },
         "layout": {
          "annotationdefaults": {
           "arrowcolor": "#2a3f5f",
           "arrowhead": 0,
           "arrowwidth": 1
          },
          "autotypenumbers": "strict",
          "coloraxis": {
           "colorbar": {
            "outlinewidth": 0,
            "ticks": ""
           }
          },
          "colorscale": {
           "diverging": [
            [
             0,
             "#8e0152"
            ],
            [
             0.1,
             "#c51b7d"
            ],
            [
             0.2,
             "#de77ae"
            ],
            [
             0.3,
             "#f1b6da"
            ],
            [
             0.4,
             "#fde0ef"
            ],
            [
             0.5,
             "#f7f7f7"
            ],
            [
             0.6,
             "#e6f5d0"
            ],
            [
             0.7,
             "#b8e186"
            ],
            [
             0.8,
             "#7fbc41"
            ],
            [
             0.9,
             "#4d9221"
            ],
            [
             1,
             "#276419"
            ]
           ],
           "sequential": [
            [
             0,
             "#0d0887"
            ],
            [
             0.1111111111111111,
             "#46039f"
            ],
            [
             0.2222222222222222,
             "#7201a8"
            ],
            [
             0.3333333333333333,
             "#9c179e"
            ],
            [
             0.4444444444444444,
             "#bd3786"
            ],
            [
             0.5555555555555556,
             "#d8576b"
            ],
            [
             0.6666666666666666,
             "#ed7953"
            ],
            [
             0.7777777777777778,
             "#fb9f3a"
            ],
            [
             0.8888888888888888,
             "#fdca26"
            ],
            [
             1,
             "#f0f921"
            ]
           ],
           "sequentialminus": [
            [
             0,
             "#0d0887"
            ],
            [
             0.1111111111111111,
             "#46039f"
            ],
            [
             0.2222222222222222,
             "#7201a8"
            ],
            [
             0.3333333333333333,
             "#9c179e"
            ],
            [
             0.4444444444444444,
             "#bd3786"
            ],
            [
             0.5555555555555556,
             "#d8576b"
            ],
            [
             0.6666666666666666,
             "#ed7953"
            ],
            [
             0.7777777777777778,
             "#fb9f3a"
            ],
            [
             0.8888888888888888,
             "#fdca26"
            ],
            [
             1,
             "#f0f921"
            ]
           ]
          },
          "colorway": [
           "#636efa",
           "#EF553B",
           "#00cc96",
           "#ab63fa",
           "#FFA15A",
           "#19d3f3",
           "#FF6692",
           "#B6E880",
           "#FF97FF",
           "#FECB52"
          ],
          "font": {
           "color": "#2a3f5f"
          },
          "geo": {
           "bgcolor": "white",
           "lakecolor": "white",
           "landcolor": "#E5ECF6",
           "showlakes": true,
           "showland": true,
           "subunitcolor": "white"
          },
          "hoverlabel": {
           "align": "left"
          },
          "hovermode": "closest",
          "mapbox": {
           "style": "light"
          },
          "paper_bgcolor": "white",
          "plot_bgcolor": "#E5ECF6",
          "polar": {
           "angularaxis": {
            "gridcolor": "white",
            "linecolor": "white",
            "ticks": ""
           },
           "bgcolor": "#E5ECF6",
           "radialaxis": {
            "gridcolor": "white",
            "linecolor": "white",
            "ticks": ""
           }
          },
          "scene": {
           "xaxis": {
            "backgroundcolor": "#E5ECF6",
            "gridcolor": "white",
            "gridwidth": 2,
            "linecolor": "white",
            "showbackground": true,
            "ticks": "",
            "zerolinecolor": "white"
           },
           "yaxis": {
            "backgroundcolor": "#E5ECF6",
            "gridcolor": "white",
            "gridwidth": 2,
            "linecolor": "white",
            "showbackground": true,
            "ticks": "",
            "zerolinecolor": "white"
           },
           "zaxis": {
            "backgroundcolor": "#E5ECF6",
            "gridcolor": "white",
            "gridwidth": 2,
            "linecolor": "white",
            "showbackground": true,
            "ticks": "",
            "zerolinecolor": "white"
           }
          },
          "shapedefaults": {
           "line": {
            "color": "#2a3f5f"
           }
          },
          "ternary": {
           "aaxis": {
            "gridcolor": "white",
            "linecolor": "white",
            "ticks": ""
           },
           "baxis": {
            "gridcolor": "white",
            "linecolor": "white",
            "ticks": ""
           },
           "bgcolor": "#E5ECF6",
           "caxis": {
            "gridcolor": "white",
            "linecolor": "white",
            "ticks": ""
           }
          },
          "title": {
           "x": 0.05
          },
          "xaxis": {
           "automargin": true,
           "gridcolor": "white",
           "linecolor": "white",
           "ticks": "",
           "title": {
            "standoff": 15
           },
           "zerolinecolor": "white",
           "zerolinewidth": 2
          },
          "yaxis": {
           "automargin": true,
           "gridcolor": "white",
           "linecolor": "white",
           "ticks": "",
           "title": {
            "standoff": 15
           },
           "zerolinecolor": "white",
           "zerolinewidth": 2
          }
         }
        }
       }
      }
     },
     "metadata": {},
     "output_type": "display_data"
    }
   ],
   "source": [
    "fig = go.Figure()\n",
    "\n",
    "x_axis = np.concatenate([pd.to_datetime(x)for x in predictions[0][2]])\n",
    "\n",
    "fig.add_trace(\n",
    "    go.Scatter(\n",
    "        x=x_axis, \n",
    "        y=np.concatenate(predictions[0][0]),\n",
    "        mode=\"lines\",\n",
    "        name=\"Predictions\"))\n",
    "\n",
    "\n",
    "fig.add_trace(\n",
    "    go.Scatter(\n",
    "        x=x_axis, \n",
    "        y=np.concatenate(predictions[0][1]),\n",
    "        mode=\"lines\",\n",
    "        name=\"Target\"))\n",
    "\n",
    "\n",
    "\n",
    "fig.show()"
   ]
  },
  {
   "cell_type": "code",
   "execution_count": null,
   "metadata": {},
   "outputs": [],
   "source": []
  },
  {
   "cell_type": "code",
   "execution_count": null,
   "metadata": {},
   "outputs": [
    {
     "data": {
      "text/plain": [
       "[DatetimeIndex(['2024-04-08 00:00:00', '2024-04-08 01:00:00',\n",
       "                '2024-04-08 02:00:00', '2024-04-08 03:00:00',\n",
       "                '2024-04-08 04:00:00', '2024-04-08 05:00:00',\n",
       "                '2024-04-08 06:00:00', '2024-04-08 07:00:00',\n",
       "                '2024-04-08 08:00:00', '2024-04-08 09:00:00',\n",
       "                '2024-04-08 10:00:00', '2024-04-08 11:00:00',\n",
       "                '2024-04-08 12:00:00', '2024-04-08 13:00:00',\n",
       "                '2024-04-08 14:00:00', '2024-04-08 15:00:00',\n",
       "                '2024-04-08 16:00:00', '2024-04-08 17:00:00',\n",
       "                '2024-04-08 18:00:00', '2024-04-08 19:00:00',\n",
       "                '2024-04-08 20:00:00', '2024-04-08 21:00:00',\n",
       "                '2024-04-08 22:00:00', '2024-04-08 23:00:00'],\n",
       "               dtype='datetime64[ns]', freq=None),\n",
       " DatetimeIndex(['2024-04-09 00:00:00', '2024-04-09 01:00:00',\n",
       "                '2024-04-09 02:00:00', '2024-04-09 03:00:00',\n",
       "                '2024-04-09 04:00:00', '2024-04-09 05:00:00',\n",
       "                '2024-04-09 06:00:00', '2024-04-09 07:00:00',\n",
       "                '2024-04-09 08:00:00', '2024-04-09 09:00:00',\n",
       "                '2024-04-09 10:00:00', '2024-04-09 11:00:00',\n",
       "                '2024-04-09 12:00:00', '2024-04-09 13:00:00',\n",
       "                '2024-04-09 14:00:00', '2024-04-09 15:00:00',\n",
       "                '2024-04-09 16:00:00', '2024-04-09 17:00:00',\n",
       "                '2024-04-09 18:00:00', '2024-04-09 19:00:00',\n",
       "                '2024-04-09 20:00:00', '2024-04-09 21:00:00',\n",
       "                '2024-04-09 22:00:00', '2024-04-09 23:00:00'],\n",
       "               dtype='datetime64[ns]', freq=None),\n",
       " DatetimeIndex(['2024-04-10 00:00:00', '2024-04-10 01:00:00',\n",
       "                '2024-04-10 02:00:00', '2024-04-10 03:00:00',\n",
       "                '2024-04-10 04:00:00', '2024-04-10 05:00:00',\n",
       "                '2024-04-10 06:00:00', '2024-04-10 07:00:00',\n",
       "                '2024-04-10 08:00:00', '2024-04-10 09:00:00',\n",
       "                '2024-04-10 10:00:00', '2024-04-10 11:00:00',\n",
       "                '2024-04-10 12:00:00', '2024-04-10 13:00:00',\n",
       "                '2024-04-10 14:00:00', '2024-04-10 15:00:00',\n",
       "                '2024-04-10 16:00:00', '2024-04-10 17:00:00',\n",
       "                '2024-04-10 18:00:00', '2024-04-10 19:00:00',\n",
       "                '2024-04-10 20:00:00', '2024-04-10 21:00:00',\n",
       "                '2024-04-10 22:00:00', '2024-04-10 23:00:00'],\n",
       "               dtype='datetime64[ns]', freq=None),\n",
       " DatetimeIndex(['2024-04-11 00:00:00', '2024-04-11 01:00:00',\n",
       "                '2024-04-11 02:00:00', '2024-04-11 03:00:00',\n",
       "                '2024-04-11 04:00:00', '2024-04-11 05:00:00',\n",
       "                '2024-04-11 06:00:00', '2024-04-11 07:00:00',\n",
       "                '2024-04-11 08:00:00', '2024-04-11 09:00:00',\n",
       "                '2024-04-11 10:00:00', '2024-04-11 11:00:00',\n",
       "                '2024-04-11 12:00:00', '2024-04-11 13:00:00',\n",
       "                '2024-04-11 14:00:00', '2024-04-11 15:00:00',\n",
       "                '2024-04-11 16:00:00', '2024-04-11 17:00:00',\n",
       "                '2024-04-11 18:00:00', '2024-04-11 19:00:00',\n",
       "                '2024-04-11 20:00:00', '2024-04-11 21:00:00',\n",
       "                '2024-04-11 22:00:00', '2024-04-11 23:00:00'],\n",
       "               dtype='datetime64[ns]', freq=None),\n",
       " DatetimeIndex(['2024-04-12 00:00:00', '2024-04-12 01:00:00',\n",
       "                '2024-04-12 02:00:00', '2024-04-12 03:00:00',\n",
       "                '2024-04-12 04:00:00', '2024-04-12 05:00:00',\n",
       "                '2024-04-12 06:00:00', '2024-04-12 07:00:00',\n",
       "                '2024-04-12 08:00:00', '2024-04-12 09:00:00',\n",
       "                '2024-04-12 10:00:00', '2024-04-12 11:00:00',\n",
       "                '2024-04-12 12:00:00', '2024-04-12 13:00:00',\n",
       "                '2024-04-12 14:00:00', '2024-04-12 15:00:00',\n",
       "                '2024-04-12 16:00:00', '2024-04-12 17:00:00',\n",
       "                '2024-04-12 18:00:00', '2024-04-12 19:00:00',\n",
       "                '2024-04-12 20:00:00', '2024-04-12 21:00:00',\n",
       "                '2024-04-12 22:00:00', '2024-04-12 23:00:00'],\n",
       "               dtype='datetime64[ns]', freq=None),\n",
       " DatetimeIndex(['2024-04-13 00:00:00', '2024-04-13 01:00:00',\n",
       "                '2024-04-13 02:00:00', '2024-04-13 03:00:00',\n",
       "                '2024-04-13 04:00:00', '2024-04-13 05:00:00',\n",
       "                '2024-04-13 06:00:00', '2024-04-13 07:00:00',\n",
       "                '2024-04-13 08:00:00', '2024-04-13 09:00:00',\n",
       "                '2024-04-13 10:00:00', '2024-04-13 11:00:00',\n",
       "                '2024-04-13 12:00:00', '2024-04-13 13:00:00',\n",
       "                '2024-04-13 14:00:00', '2024-04-13 15:00:00',\n",
       "                '2024-04-13 16:00:00', '2024-04-13 17:00:00',\n",
       "                '2024-04-13 18:00:00', '2024-04-13 19:00:00',\n",
       "                '2024-04-13 20:00:00', '2024-04-13 21:00:00',\n",
       "                '2024-04-13 22:00:00', '2024-04-13 23:00:00'],\n",
       "               dtype='datetime64[ns]', freq=None),\n",
       " DatetimeIndex(['2024-04-14 00:00:00', '2024-04-14 01:00:00',\n",
       "                '2024-04-14 02:00:00', '2024-04-14 03:00:00',\n",
       "                '2024-04-14 04:00:00', '2024-04-14 05:00:00',\n",
       "                '2024-04-14 06:00:00', '2024-04-14 07:00:00',\n",
       "                '2024-04-14 08:00:00', '2024-04-14 09:00:00',\n",
       "                '2024-04-14 10:00:00', '2024-04-14 11:00:00',\n",
       "                '2024-04-14 12:00:00', '2024-04-14 13:00:00',\n",
       "                '2024-04-14 14:00:00', '2024-04-14 15:00:00',\n",
       "                '2024-04-14 16:00:00', '2024-04-14 17:00:00',\n",
       "                '2024-04-14 18:00:00', '2024-04-14 19:00:00',\n",
       "                '2024-04-14 20:00:00', '2024-04-14 21:00:00',\n",
       "                '2024-04-14 22:00:00', '2024-04-14 23:00:00'],\n",
       "               dtype='datetime64[ns]', freq=None),\n",
       " DatetimeIndex(['2024-04-15 00:00:00', '2024-04-15 01:00:00',\n",
       "                '2024-04-15 02:00:00', '2024-04-15 03:00:00',\n",
       "                '2024-04-15 04:00:00', '2024-04-15 05:00:00',\n",
       "                '2024-04-15 06:00:00', '2024-04-15 07:00:00',\n",
       "                '2024-04-15 08:00:00', '2024-04-15 09:00:00',\n",
       "                '2024-04-15 10:00:00', '2024-04-15 11:00:00',\n",
       "                '2024-04-15 12:00:00', '2024-04-15 13:00:00',\n",
       "                '2024-04-15 14:00:00', '2024-04-15 15:00:00',\n",
       "                '2024-04-15 16:00:00', '2024-04-15 17:00:00',\n",
       "                '2024-04-15 18:00:00', '2024-04-15 19:00:00',\n",
       "                '2024-04-15 20:00:00', '2024-04-15 21:00:00',\n",
       "                '2024-04-15 22:00:00', '2024-04-15 23:00:00'],\n",
       "               dtype='datetime64[ns]', freq=None),\n",
       " DatetimeIndex(['2024-04-16 00:00:00', '2024-04-16 01:00:00',\n",
       "                '2024-04-16 02:00:00', '2024-04-16 03:00:00',\n",
       "                '2024-04-16 04:00:00', '2024-04-16 05:00:00',\n",
       "                '2024-04-16 06:00:00', '2024-04-16 07:00:00',\n",
       "                '2024-04-16 08:00:00', '2024-04-16 09:00:00',\n",
       "                '2024-04-16 10:00:00', '2024-04-16 11:00:00',\n",
       "                '2024-04-16 12:00:00', '2024-04-16 13:00:00',\n",
       "                '2024-04-16 14:00:00', '2024-04-16 15:00:00',\n",
       "                '2024-04-16 16:00:00', '2024-04-16 17:00:00',\n",
       "                '2024-04-16 18:00:00', '2024-04-16 19:00:00',\n",
       "                '2024-04-16 20:00:00', '2024-04-16 21:00:00',\n",
       "                '2024-04-16 22:00:00', '2024-04-16 23:00:00'],\n",
       "               dtype='datetime64[ns]', freq=None),\n",
       " DatetimeIndex(['2024-04-17 00:00:00', '2024-04-17 01:00:00',\n",
       "                '2024-04-17 02:00:00', '2024-04-17 03:00:00',\n",
       "                '2024-04-17 04:00:00', '2024-04-17 05:00:00',\n",
       "                '2024-04-17 06:00:00', '2024-04-17 07:00:00',\n",
       "                '2024-04-17 08:00:00', '2024-04-17 09:00:00',\n",
       "                '2024-04-17 10:00:00', '2024-04-17 11:00:00',\n",
       "                '2024-04-17 12:00:00', '2024-04-17 13:00:00',\n",
       "                '2024-04-17 14:00:00', '2024-04-17 15:00:00',\n",
       "                '2024-04-17 16:00:00', '2024-04-17 17:00:00',\n",
       "                '2024-04-17 18:00:00', '2024-04-17 19:00:00',\n",
       "                '2024-04-17 20:00:00', '2024-04-17 21:00:00',\n",
       "                '2024-04-17 22:00:00', '2024-04-17 23:00:00'],\n",
       "               dtype='datetime64[ns]', freq=None),\n",
       " DatetimeIndex(['2024-04-18 00:00:00', '2024-04-18 01:00:00',\n",
       "                '2024-04-18 02:00:00', '2024-04-18 03:00:00',\n",
       "                '2024-04-18 04:00:00', '2024-04-18 05:00:00',\n",
       "                '2024-04-18 06:00:00', '2024-04-18 07:00:00',\n",
       "                '2024-04-18 08:00:00', '2024-04-18 09:00:00',\n",
       "                '2024-04-18 10:00:00', '2024-04-18 11:00:00',\n",
       "                '2024-04-18 12:00:00', '2024-04-18 13:00:00',\n",
       "                '2024-04-18 14:00:00', '2024-04-18 15:00:00',\n",
       "                '2024-04-18 16:00:00', '2024-04-18 17:00:00',\n",
       "                '2024-04-18 18:00:00', '2024-04-18 19:00:00',\n",
       "                '2024-04-18 20:00:00', '2024-04-18 21:00:00',\n",
       "                '2024-04-18 22:00:00', '2024-04-18 23:00:00'],\n",
       "               dtype='datetime64[ns]', freq=None),\n",
       " DatetimeIndex(['2024-04-19 00:00:00', '2024-04-19 01:00:00',\n",
       "                '2024-04-19 02:00:00', '2024-04-19 03:00:00',\n",
       "                '2024-04-19 04:00:00', '2024-04-19 05:00:00',\n",
       "                '2024-04-19 06:00:00', '2024-04-19 07:00:00',\n",
       "                '2024-04-19 08:00:00', '2024-04-19 09:00:00',\n",
       "                '2024-04-19 10:00:00', '2024-04-19 11:00:00',\n",
       "                '2024-04-19 12:00:00', '2024-04-19 13:00:00',\n",
       "                '2024-04-19 14:00:00', '2024-04-19 15:00:00',\n",
       "                '2024-04-19 16:00:00', '2024-04-19 17:00:00',\n",
       "                '2024-04-19 18:00:00', '2024-04-19 19:00:00',\n",
       "                '2024-04-19 20:00:00', '2024-04-19 21:00:00',\n",
       "                '2024-04-19 22:00:00', '2024-04-19 23:00:00'],\n",
       "               dtype='datetime64[ns]', freq=None),\n",
       " DatetimeIndex(['2024-04-20 00:00:00', '2024-04-20 01:00:00',\n",
       "                '2024-04-20 02:00:00', '2024-04-20 03:00:00',\n",
       "                '2024-04-20 04:00:00', '2024-04-20 05:00:00',\n",
       "                '2024-04-20 06:00:00', '2024-04-20 07:00:00',\n",
       "                '2024-04-20 08:00:00', '2024-04-20 09:00:00',\n",
       "                '2024-04-20 10:00:00', '2024-04-20 11:00:00',\n",
       "                '2024-04-20 12:00:00', '2024-04-20 13:00:00',\n",
       "                '2024-04-20 14:00:00', '2024-04-20 15:00:00',\n",
       "                '2024-04-20 16:00:00', '2024-04-20 17:00:00',\n",
       "                '2024-04-20 18:00:00', '2024-04-20 19:00:00',\n",
       "                '2024-04-20 20:00:00', '2024-04-20 21:00:00',\n",
       "                '2024-04-20 22:00:00', '2024-04-20 23:00:00'],\n",
       "               dtype='datetime64[ns]', freq=None),\n",
       " DatetimeIndex(['2024-04-21 00:00:00', '2024-04-21 01:00:00',\n",
       "                '2024-04-21 02:00:00', '2024-04-21 03:00:00',\n",
       "                '2024-04-21 04:00:00', '2024-04-21 05:00:00',\n",
       "                '2024-04-21 06:00:00', '2024-04-21 07:00:00',\n",
       "                '2024-04-21 08:00:00', '2024-04-21 09:00:00',\n",
       "                '2024-04-21 10:00:00', '2024-04-21 11:00:00',\n",
       "                '2024-04-21 12:00:00', '2024-04-21 13:00:00',\n",
       "                '2024-04-21 14:00:00', '2024-04-21 15:00:00',\n",
       "                '2024-04-21 16:00:00', '2024-04-21 17:00:00',\n",
       "                '2024-04-21 18:00:00', '2024-04-21 19:00:00',\n",
       "                '2024-04-21 20:00:00', '2024-04-21 21:00:00',\n",
       "                '2024-04-21 22:00:00', '2024-04-21 23:00:00'],\n",
       "               dtype='datetime64[ns]', freq=None),\n",
       " DatetimeIndex(['2024-04-22 00:00:00', '2024-04-22 01:00:00',\n",
       "                '2024-04-22 02:00:00', '2024-04-22 03:00:00',\n",
       "                '2024-04-22 04:00:00', '2024-04-22 05:00:00',\n",
       "                '2024-04-22 06:00:00', '2024-04-22 07:00:00',\n",
       "                '2024-04-22 08:00:00', '2024-04-22 09:00:00',\n",
       "                '2024-04-22 10:00:00', '2024-04-22 11:00:00',\n",
       "                '2024-04-22 12:00:00', '2024-04-22 13:00:00',\n",
       "                '2024-04-22 14:00:00', '2024-04-22 15:00:00',\n",
       "                '2024-04-22 16:00:00', '2024-04-22 17:00:00',\n",
       "                '2024-04-22 18:00:00', '2024-04-22 19:00:00',\n",
       "                '2024-04-22 20:00:00', '2024-04-22 21:00:00',\n",
       "                '2024-04-22 22:00:00', '2024-04-22 23:00:00'],\n",
       "               dtype='datetime64[ns]', freq=None),\n",
       " DatetimeIndex(['2024-04-23 00:00:00', '2024-04-23 01:00:00',\n",
       "                '2024-04-23 02:00:00', '2024-04-23 03:00:00',\n",
       "                '2024-04-23 04:00:00', '2024-04-23 05:00:00',\n",
       "                '2024-04-23 06:00:00', '2024-04-23 07:00:00',\n",
       "                '2024-04-23 08:00:00', '2024-04-23 09:00:00',\n",
       "                '2024-04-23 10:00:00', '2024-04-23 11:00:00',\n",
       "                '2024-04-23 12:00:00', '2024-04-23 13:00:00',\n",
       "                '2024-04-23 14:00:00', '2024-04-23 15:00:00',\n",
       "                '2024-04-23 16:00:00', '2024-04-23 17:00:00',\n",
       "                '2024-04-23 18:00:00', '2024-04-23 19:00:00',\n",
       "                '2024-04-23 20:00:00', '2024-04-23 21:00:00',\n",
       "                '2024-04-23 22:00:00', '2024-04-23 23:00:00'],\n",
       "               dtype='datetime64[ns]', freq=None),\n",
       " DatetimeIndex(['2024-04-24 00:00:00', '2024-04-24 01:00:00',\n",
       "                '2024-04-24 02:00:00', '2024-04-24 03:00:00',\n",
       "                '2024-04-24 04:00:00', '2024-04-24 05:00:00',\n",
       "                '2024-04-24 06:00:00', '2024-04-24 07:00:00',\n",
       "                '2024-04-24 08:00:00', '2024-04-24 09:00:00',\n",
       "                '2024-04-24 10:00:00', '2024-04-24 11:00:00',\n",
       "                '2024-04-24 12:00:00', '2024-04-24 13:00:00',\n",
       "                '2024-04-24 14:00:00', '2024-04-24 15:00:00',\n",
       "                '2024-04-24 16:00:00', '2024-04-24 17:00:00',\n",
       "                '2024-04-24 18:00:00', '2024-04-24 19:00:00',\n",
       "                '2024-04-24 20:00:00', '2024-04-24 21:00:00',\n",
       "                '2024-04-24 22:00:00', '2024-04-24 23:00:00'],\n",
       "               dtype='datetime64[ns]', freq=None),\n",
       " DatetimeIndex(['2024-04-25 00:00:00', '2024-04-25 01:00:00',\n",
       "                '2024-04-25 02:00:00', '2024-04-25 03:00:00',\n",
       "                '2024-04-25 04:00:00', '2024-04-25 05:00:00',\n",
       "                '2024-04-25 06:00:00', '2024-04-25 07:00:00',\n",
       "                '2024-04-25 08:00:00', '2024-04-25 09:00:00',\n",
       "                '2024-04-25 10:00:00', '2024-04-25 11:00:00',\n",
       "                '2024-04-25 12:00:00', '2024-04-25 13:00:00',\n",
       "                '2024-04-25 14:00:00', '2024-04-25 15:00:00',\n",
       "                '2024-04-25 16:00:00', '2024-04-25 17:00:00',\n",
       "                '2024-04-25 18:00:00', '2024-04-25 19:00:00',\n",
       "                '2024-04-25 20:00:00', '2024-04-25 21:00:00',\n",
       "                '2024-04-25 22:00:00', '2024-04-25 23:00:00'],\n",
       "               dtype='datetime64[ns]', freq=None),\n",
       " DatetimeIndex(['2024-04-26 00:00:00', '2024-04-26 01:00:00',\n",
       "                '2024-04-26 02:00:00', '2024-04-26 03:00:00',\n",
       "                '2024-04-26 04:00:00', '2024-04-26 05:00:00',\n",
       "                '2024-04-26 06:00:00', '2024-04-26 07:00:00',\n",
       "                '2024-04-26 08:00:00', '2024-04-26 09:00:00',\n",
       "                '2024-04-26 10:00:00', '2024-04-26 11:00:00',\n",
       "                '2024-04-26 12:00:00', '2024-04-26 13:00:00',\n",
       "                '2024-04-26 14:00:00', '2024-04-26 15:00:00',\n",
       "                '2024-04-26 16:00:00', '2024-04-26 17:00:00',\n",
       "                '2024-04-26 18:00:00', '2024-04-26 19:00:00',\n",
       "                '2024-04-26 20:00:00', '2024-04-26 21:00:00',\n",
       "                '2024-04-26 22:00:00', '2024-04-26 23:00:00'],\n",
       "               dtype='datetime64[ns]', freq=None),\n",
       " DatetimeIndex(['2024-04-27 00:00:00', '2024-04-27 01:00:00',\n",
       "                '2024-04-27 02:00:00', '2024-04-27 03:00:00',\n",
       "                '2024-04-27 04:00:00', '2024-04-27 05:00:00',\n",
       "                '2024-04-27 06:00:00', '2024-04-27 07:00:00',\n",
       "                '2024-04-27 08:00:00', '2024-04-27 09:00:00',\n",
       "                '2024-04-27 10:00:00', '2024-04-27 11:00:00',\n",
       "                '2024-04-27 12:00:00', '2024-04-27 13:00:00',\n",
       "                '2024-04-27 14:00:00', '2024-04-27 15:00:00',\n",
       "                '2024-04-27 16:00:00', '2024-04-27 17:00:00',\n",
       "                '2024-04-27 18:00:00', '2024-04-27 19:00:00',\n",
       "                '2024-04-27 20:00:00', '2024-04-27 21:00:00',\n",
       "                '2024-04-27 22:00:00', '2024-04-27 23:00:00'],\n",
       "               dtype='datetime64[ns]', freq=None),\n",
       " DatetimeIndex(['2024-04-28 00:00:00', '2024-04-28 01:00:00',\n",
       "                '2024-04-28 02:00:00', '2024-04-28 03:00:00',\n",
       "                '2024-04-28 04:00:00', '2024-04-28 05:00:00',\n",
       "                '2024-04-28 06:00:00', '2024-04-28 07:00:00',\n",
       "                '2024-04-28 08:00:00', '2024-04-28 09:00:00',\n",
       "                '2024-04-28 10:00:00', '2024-04-28 11:00:00',\n",
       "                '2024-04-28 12:00:00', '2024-04-28 13:00:00',\n",
       "                '2024-04-28 14:00:00', '2024-04-28 15:00:00',\n",
       "                '2024-04-28 16:00:00', '2024-04-28 17:00:00',\n",
       "                '2024-04-28 18:00:00', '2024-04-28 19:00:00',\n",
       "                '2024-04-28 20:00:00', '2024-04-28 21:00:00',\n",
       "                '2024-04-28 22:00:00', '2024-04-28 23:00:00'],\n",
       "               dtype='datetime64[ns]', freq=None),\n",
       " DatetimeIndex(['2024-04-29 00:00:00', '2024-04-29 01:00:00',\n",
       "                '2024-04-29 02:00:00', '2024-04-29 03:00:00',\n",
       "                '2024-04-29 04:00:00', '2024-04-29 05:00:00',\n",
       "                '2024-04-29 06:00:00', '2024-04-29 07:00:00',\n",
       "                '2024-04-29 08:00:00', '2024-04-29 09:00:00',\n",
       "                '2024-04-29 10:00:00', '2024-04-29 11:00:00',\n",
       "                '2024-04-29 12:00:00', '2024-04-29 13:00:00',\n",
       "                '2024-04-29 14:00:00', '2024-04-29 15:00:00',\n",
       "                '2024-04-29 16:00:00', '2024-04-29 17:00:00',\n",
       "                '2024-04-29 18:00:00', '2024-04-29 19:00:00',\n",
       "                '2024-04-29 20:00:00', '2024-04-29 21:00:00',\n",
       "                '2024-04-29 22:00:00', '2024-04-29 23:00:00'],\n",
       "               dtype='datetime64[ns]', freq=None),\n",
       " DatetimeIndex(['2024-04-30 00:00:00', '2024-04-30 01:00:00',\n",
       "                '2024-04-30 02:00:00', '2024-04-30 03:00:00',\n",
       "                '2024-04-30 04:00:00', '2024-04-30 05:00:00',\n",
       "                '2024-04-30 06:00:00', '2024-04-30 07:00:00',\n",
       "                '2024-04-30 08:00:00', '2024-04-30 09:00:00',\n",
       "                '2024-04-30 10:00:00', '2024-04-30 11:00:00',\n",
       "                '2024-04-30 12:00:00', '2024-04-30 13:00:00',\n",
       "                '2024-04-30 14:00:00', '2024-04-30 15:00:00',\n",
       "                '2024-04-30 16:00:00', '2024-04-30 17:00:00',\n",
       "                '2024-04-30 18:00:00', '2024-04-30 19:00:00',\n",
       "                '2024-04-30 20:00:00', '2024-04-30 21:00:00',\n",
       "                '2024-04-30 22:00:00', '2024-04-30 23:00:00'],\n",
       "               dtype='datetime64[ns]', freq=None),\n",
       " DatetimeIndex(['2024-05-01 00:00:00', '2024-05-01 01:00:00',\n",
       "                '2024-05-01 02:00:00', '2024-05-01 03:00:00',\n",
       "                '2024-05-01 04:00:00', '2024-05-01 05:00:00',\n",
       "                '2024-05-01 06:00:00', '2024-05-01 07:00:00',\n",
       "                '2024-05-01 08:00:00', '2024-05-01 09:00:00',\n",
       "                '2024-05-01 10:00:00', '2024-05-01 11:00:00',\n",
       "                '2024-05-01 12:00:00', '2024-05-01 13:00:00',\n",
       "                '2024-05-01 14:00:00', '2024-05-01 15:00:00',\n",
       "                '2024-05-01 16:00:00', '2024-05-01 17:00:00',\n",
       "                '2024-05-01 18:00:00', '2024-05-01 19:00:00',\n",
       "                '2024-05-01 20:00:00', '2024-05-01 21:00:00',\n",
       "                '2024-05-01 22:00:00', '2024-05-01 23:00:00'],\n",
       "               dtype='datetime64[ns]', freq=None),\n",
       " DatetimeIndex(['2024-05-02 00:00:00', '2024-05-02 01:00:00',\n",
       "                '2024-05-02 02:00:00', '2024-05-02 03:00:00',\n",
       "                '2024-05-02 04:00:00', '2024-05-02 05:00:00',\n",
       "                '2024-05-02 06:00:00', '2024-05-02 07:00:00',\n",
       "                '2024-05-02 08:00:00', '2024-05-02 09:00:00',\n",
       "                '2024-05-02 10:00:00', '2024-05-02 11:00:00',\n",
       "                '2024-05-02 12:00:00', '2024-05-02 13:00:00',\n",
       "                '2024-05-02 14:00:00', '2024-05-02 15:00:00',\n",
       "                '2024-05-02 16:00:00', '2024-05-02 17:00:00',\n",
       "                '2024-05-02 18:00:00', '2024-05-02 19:00:00',\n",
       "                '2024-05-02 20:00:00', '2024-05-02 21:00:00',\n",
       "                '2024-05-02 22:00:00', '2024-05-02 23:00:00'],\n",
       "               dtype='datetime64[ns]', freq=None),\n",
       " DatetimeIndex(['2024-05-03 00:00:00', '2024-05-03 01:00:00',\n",
       "                '2024-05-03 02:00:00', '2024-05-03 03:00:00',\n",
       "                '2024-05-03 04:00:00', '2024-05-03 05:00:00',\n",
       "                '2024-05-03 06:00:00', '2024-05-03 07:00:00',\n",
       "                '2024-05-03 08:00:00', '2024-05-03 09:00:00',\n",
       "                '2024-05-03 10:00:00', '2024-05-03 11:00:00',\n",
       "                '2024-05-03 12:00:00', '2024-05-03 13:00:00',\n",
       "                '2024-05-03 14:00:00', '2024-05-03 15:00:00',\n",
       "                '2024-05-03 16:00:00', '2024-05-03 17:00:00',\n",
       "                '2024-05-03 18:00:00', '2024-05-03 19:00:00',\n",
       "                '2024-05-03 20:00:00', '2024-05-03 21:00:00',\n",
       "                '2024-05-03 22:00:00', '2024-05-03 23:00:00'],\n",
       "               dtype='datetime64[ns]', freq=None),\n",
       " DatetimeIndex(['2024-05-04 00:00:00', '2024-05-04 01:00:00',\n",
       "                '2024-05-04 02:00:00', '2024-05-04 03:00:00',\n",
       "                '2024-05-04 04:00:00', '2024-05-04 05:00:00',\n",
       "                '2024-05-04 06:00:00', '2024-05-04 07:00:00',\n",
       "                '2024-05-04 08:00:00', '2024-05-04 09:00:00',\n",
       "                '2024-05-04 10:00:00', '2024-05-04 11:00:00',\n",
       "                '2024-05-04 12:00:00', '2024-05-04 13:00:00',\n",
       "                '2024-05-04 14:00:00', '2024-05-04 15:00:00',\n",
       "                '2024-05-04 16:00:00', '2024-05-04 17:00:00',\n",
       "                '2024-05-04 18:00:00', '2024-05-04 19:00:00',\n",
       "                '2024-05-04 20:00:00', '2024-05-04 21:00:00',\n",
       "                '2024-05-04 22:00:00', '2024-05-04 23:00:00'],\n",
       "               dtype='datetime64[ns]', freq=None),\n",
       " DatetimeIndex(['2024-05-05 00:00:00', '2024-05-05 01:00:00',\n",
       "                '2024-05-05 02:00:00', '2024-05-05 03:00:00',\n",
       "                '2024-05-05 04:00:00', '2024-05-05 05:00:00',\n",
       "                '2024-05-05 06:00:00', '2024-05-05 07:00:00',\n",
       "                '2024-05-05 08:00:00', '2024-05-05 09:00:00',\n",
       "                '2024-05-05 10:00:00', '2024-05-05 11:00:00',\n",
       "                '2024-05-05 12:00:00', '2024-05-05 13:00:00',\n",
       "                '2024-05-05 14:00:00', '2024-05-05 15:00:00',\n",
       "                '2024-05-05 16:00:00', '2024-05-05 17:00:00',\n",
       "                '2024-05-05 18:00:00', '2024-05-05 19:00:00',\n",
       "                '2024-05-05 20:00:00', '2024-05-05 21:00:00',\n",
       "                '2024-05-05 22:00:00', '2024-05-05 23:00:00'],\n",
       "               dtype='datetime64[ns]', freq=None),\n",
       " DatetimeIndex(['2024-05-06 00:00:00', '2024-05-06 01:00:00',\n",
       "                '2024-05-06 02:00:00', '2024-05-06 03:00:00',\n",
       "                '2024-05-06 04:00:00', '2024-05-06 05:00:00',\n",
       "                '2024-05-06 06:00:00', '2024-05-06 07:00:00',\n",
       "                '2024-05-06 08:00:00', '2024-05-06 09:00:00',\n",
       "                '2024-05-06 10:00:00', '2024-05-06 11:00:00',\n",
       "                '2024-05-06 12:00:00', '2024-05-06 13:00:00',\n",
       "                '2024-05-06 14:00:00', '2024-05-06 15:00:00',\n",
       "                '2024-05-06 16:00:00', '2024-05-06 17:00:00',\n",
       "                '2024-05-06 18:00:00', '2024-05-06 19:00:00',\n",
       "                '2024-05-06 20:00:00', '2024-05-06 21:00:00',\n",
       "                '2024-05-06 22:00:00', '2024-05-06 23:00:00'],\n",
       "               dtype='datetime64[ns]', freq=None),\n",
       " DatetimeIndex(['2024-05-07 00:00:00', '2024-05-07 01:00:00',\n",
       "                '2024-05-07 02:00:00', '2024-05-07 03:00:00',\n",
       "                '2024-05-07 04:00:00', '2024-05-07 05:00:00',\n",
       "                '2024-05-07 06:00:00', '2024-05-07 07:00:00',\n",
       "                '2024-05-07 08:00:00', '2024-05-07 09:00:00',\n",
       "                '2024-05-07 10:00:00', '2024-05-07 11:00:00',\n",
       "                '2024-05-07 12:00:00', '2024-05-07 13:00:00',\n",
       "                '2024-05-07 14:00:00', '2024-05-07 15:00:00',\n",
       "                '2024-05-07 16:00:00', '2024-05-07 17:00:00',\n",
       "                '2024-05-07 18:00:00', '2024-05-07 19:00:00',\n",
       "                '2024-05-07 20:00:00', '2024-05-07 21:00:00',\n",
       "                '2024-05-07 22:00:00', '2024-05-07 23:00:00'],\n",
       "               dtype='datetime64[ns]', freq=None),\n",
       " DatetimeIndex(['2024-05-08 00:00:00', '2024-05-08 01:00:00',\n",
       "                '2024-05-08 02:00:00', '2024-05-08 03:00:00',\n",
       "                '2024-05-08 04:00:00', '2024-05-08 05:00:00',\n",
       "                '2024-05-08 06:00:00', '2024-05-08 07:00:00',\n",
       "                '2024-05-08 08:00:00', '2024-05-08 09:00:00',\n",
       "                '2024-05-08 10:00:00', '2024-05-08 11:00:00',\n",
       "                '2024-05-08 12:00:00', '2024-05-08 13:00:00',\n",
       "                '2024-05-08 14:00:00', '2024-05-08 15:00:00',\n",
       "                '2024-05-08 16:00:00', '2024-05-08 17:00:00',\n",
       "                '2024-05-08 18:00:00', '2024-05-08 19:00:00',\n",
       "                '2024-05-08 20:00:00', '2024-05-08 21:00:00',\n",
       "                '2024-05-08 22:00:00', '2024-05-08 23:00:00'],\n",
       "               dtype='datetime64[ns]', freq=None),\n",
       " DatetimeIndex(['2024-05-09 00:00:00', '2024-05-09 01:00:00',\n",
       "                '2024-05-09 02:00:00', '2024-05-09 03:00:00',\n",
       "                '2024-05-09 04:00:00', '2024-05-09 05:00:00',\n",
       "                '2024-05-09 06:00:00', '2024-05-09 07:00:00',\n",
       "                '2024-05-09 08:00:00', '2024-05-09 09:00:00',\n",
       "                '2024-05-09 10:00:00', '2024-05-09 11:00:00',\n",
       "                '2024-05-09 12:00:00', '2024-05-09 13:00:00',\n",
       "                '2024-05-09 14:00:00', '2024-05-09 15:00:00',\n",
       "                '2024-05-09 16:00:00', '2024-05-09 17:00:00',\n",
       "                '2024-05-09 18:00:00', '2024-05-09 19:00:00',\n",
       "                '2024-05-09 20:00:00', '2024-05-09 21:00:00',\n",
       "                '2024-05-09 22:00:00', '2024-05-09 23:00:00'],\n",
       "               dtype='datetime64[ns]', freq=None),\n",
       " DatetimeIndex(['2024-05-10 00:00:00', '2024-05-10 01:00:00',\n",
       "                '2024-05-10 02:00:00', '2024-05-10 03:00:00',\n",
       "                '2024-05-10 04:00:00', '2024-05-10 05:00:00',\n",
       "                '2024-05-10 06:00:00', '2024-05-10 07:00:00',\n",
       "                '2024-05-10 08:00:00', '2024-05-10 09:00:00',\n",
       "                '2024-05-10 10:00:00', '2024-05-10 11:00:00',\n",
       "                '2024-05-10 12:00:00', '2024-05-10 13:00:00',\n",
       "                '2024-05-10 14:00:00', '2024-05-10 15:00:00',\n",
       "                '2024-05-10 16:00:00', '2024-05-10 17:00:00',\n",
       "                '2024-05-10 18:00:00', '2024-05-10 19:00:00',\n",
       "                '2024-05-10 20:00:00', '2024-05-10 21:00:00',\n",
       "                '2024-05-10 22:00:00', '2024-05-10 23:00:00'],\n",
       "               dtype='datetime64[ns]', freq=None)]"
      ]
     },
     "execution_count": 142,
     "metadata": {},
     "output_type": "execute_result"
    }
   ],
   "source": [
    "[pd.to_datetime(x)for x in predictions[0][2]]"
   ]
  },
  {
   "cell_type": "code",
   "execution_count": null,
   "metadata": {},
   "outputs": [
    {
     "data": {
      "text/plain": [
       "0.7544044376991862"
      ]
     },
     "execution_count": 19,
     "metadata": {},
     "output_type": "execute_result"
    }
   ],
   "source": [
    "\n",
    "#n_lags = 10\n",
    "#lag_list = list(range(0, n_lags))\n",
    "\n",
    "#fig = go.Figure()\n",
    "#acf_array = acf(occ_df[\"CC_estimates\"], nlags=n_lags) \n",
    "#fig.add_trace(\n",
    "#    go.Bar(\n",
    "#        x=lag_list,\n",
    "#        y=acf_array,\n",
    "#        name='Auto Correlation'\n",
    "#    )\n",
    "#)\n",
    "#pacf_array = pacf(occ_df[\"CC_estimates\"], nlags=n_lags) \n",
    "#fig.add_trace(\n",
    "#    go.Bar(\n",
    "#        x=lag_list,\n",
    "#        y=pacf_array,\n",
    "#        name='Partial Auto Correlation'\n",
    "#    )\n",
    "#)\n",
    "\n",
    "#fig.show()\n",
    "#critical_value = 1.96 / np.sqrt(len(occ_df))\n",
    "#fig.add_hline(y=critical_value, line_width=1, line_dash=\"dot\", line_color=\"black\")\n",
    "#fig.add_hline(y=-critical_value, line_width=1, line_dash=\"dot\", line_color=\"black\")\n",
    "\n",
    "occ_df[\"CC_estimates\"].corr(occ_df[\"lecture\"])"
   ]
  },
  {
   "cell_type": "code",
   "execution_count": null,
   "metadata": {},
   "outputs": [],
   "source": []
  },
  {
   "cell_type": "code",
   "execution_count": null,
   "metadata": {},
   "outputs": [],
   "source": []
  },
  {
   "cell_type": "markdown",
   "metadata": {},
   "source": [
    "## 5. Basic Statistics and Plots"
   ]
  },
  {
   "cell_type": "code",
   "execution_count": null,
   "metadata": {},
   "outputs": [],
   "source": [
    "#data_filterd = filter_room_id(data, 0)"
   ]
  },
  {
   "cell_type": "markdown",
   "metadata": {},
   "source": [
    "Bar Charts"
   ]
  },
  {
   "cell_type": "code",
   "execution_count": null,
   "metadata": {},
   "outputs": [],
   "source": [
    "# Paper: \n",
    "# Basic bar plots count of events after resampling\n",
    "# Check if it follows some distribution\n",
    "\n",
    "#data_filterd = filter_by_event_type(data_filterd, 1)\n",
    "#data_resampled = resample(data_filterd, \"datetime\", \"5min\", \"count\")\n",
    "\n",
    "\n",
    "#data_trimmed = data_resampled[data_resampled[\"event_type\"] > 0]\n",
    "#value_counts = data_trimmed.value_counts(\"event_type\")\n",
    "\n",
    "#fig = go.Figure()\n",
    "## line plot\n",
    "#fig.add_trace(\n",
    "#    go.Bar(\n",
    "#        x=value_counts.index, \n",
    "#        y=value_counts, \n",
    "#        name='value_counts'))\n"
   ]
  },
  {
   "cell_type": "markdown",
   "metadata": {},
   "source": [
    "Boxplot"
   ]
  },
  {
   "cell_type": "code",
   "execution_count": null,
   "metadata": {},
   "outputs": [],
   "source": [
    "# Boxplot plots -> Boxplot for every day and time\n",
    "# Do for different events and rooms\n",
    "\n",
    "#data_plot = occupancy_data_cleaned\n",
    "#data_plot = handler.derive_time(data_plot)\n",
    "#data_plot = handler.derive_weekday(data_plot)\n",
    "#data_plot = handler.derive_week(data_plot)\n",
    "#data_plot = data_plot.drop(\"datetime\", axis=1)\n",
    "\n",
    "#data_plot = data_plot.groupby([\"week\", \"time\", \"weekday\"]).sum().reset_index()\n",
    "\n",
    "#print(data_plot)\n",
    "#fig = px.box(data_plot, x=\"time\", y=\"CC_estimates\")\n",
    "## make figure larger\n",
    "#fig.update_layout(\n",
    "#    autosize=False,\n",
    "#    width=1000,\n",
    "#    height=500,\n",
    "#)\n",
    "#fig.show()"
   ]
  },
  {
   "cell_type": "markdown",
   "metadata": {},
   "source": [
    "More plots in the other notebook"
   ]
  },
  {
   "cell_type": "markdown",
   "metadata": {},
   "source": [
    "## 1.Patterns\n",
    "\n",
    "clustering -> different algorithms, k-means\n",
    "\n",
    "Papers tried: \n",
    "\n",
    "### 1.1 Occupancy data analytics and prediction: A case study - Xin Liang a, b, Tianzhen Hong b, *, Geoffrey Qiping Shen\n",
    "\n",
    "Distance Measures: Eucleadian, Dynamic Time Warp, Correlation Simmilarity -> compared among all different configurations\n",
    "\n",
    "Clustering Algos: K-Means, \n",
    "\n",
    "Algorithm Evaluation: Davies-Bouldin index, to find best k\n",
    "\n",
    "Insights of the paper:\n",
    "\n",
    "* High variability in the data statistical methods using some kind of mean will fail miserably!"
   ]
  },
  {
   "cell_type": "code",
   "execution_count": null,
   "metadata": {},
   "outputs": [],
   "source": [
    "import json\n",
    "from collections import defaultdict\n",
    "import itertools\n",
    "from tqdm import tqdm\n"
   ]
  },
  {
   "cell_type": "code",
   "execution_count": null,
   "metadata": {},
   "outputs": [],
   "source": [
    "def filter_by_time(data, time_column, start_time, end_time):\n",
    "    \n",
    "    return data[(data[time_column].dt.time >= start_time) & (data[time_column].dt.time <= end_time)]\n",
    "\n",
    "def plot_cluster_details(cluster_number, clustering_model, samples, time_axis, plot_centers):\n",
    "    \n",
    "    indices = np.arange(len(samples))\n",
    "    \n",
    "    fig = go.Figure()\n",
    "    \n",
    "    cluster_indices = indices[clustering_model.labels_ == cluster_number]\n",
    "    \n",
    "    if plot_centers:\n",
    "        cluster_center = clustering_model.cluster_centers_[cluster_number]\n",
    "        fig.add_trace(\n",
    "            go.Scatter(\n",
    "                x=time_axis, \n",
    "                y=cluster_center, \n",
    "                name=f'Center',\n",
    "                mode=\"lines+markers\"        \n",
    "            )\n",
    "        )\n",
    "\n",
    "    \n",
    "    print(f\"################ {cluster_number} ################\")\n",
    "    print(cluster_indices)\n",
    "\n",
    "    for x in range(len(cluster_indices)):\n",
    "        fig.add_trace(\n",
    "            go.Scatter(\n",
    "                x=time_axis, \n",
    "                y=samples[cluster_indices[x]], \n",
    "                mode=\"lines+markers\"        \n",
    "            )\n",
    "        )\n",
    "    \n",
    "    return fig\n"
   ]
  },
  {
   "cell_type": "code",
   "execution_count": null,
   "metadata": {},
   "outputs": [],
   "source": [
    "# split into daily samples\n",
    "data_clustering = occupancy_data_cleaned\n",
    "data_clustering = dfg.derive_time(data_clustering)\n",
    "data_clustering = dfg.derive_weekday(data_clustering)\n",
    "data_clustering = dfg.derive_week(data_clustering)\n",
    "data_clustering = dfg.derive_day(data_clustering)\n",
    "\n",
    "occupancy_counts = []\n",
    "sample_info = []\n",
    "group_list = []\n",
    "times = data_clustering[\"time\"].unique()\n",
    "\n",
    "for group in data_clustering.groupby(\"day\"):\n",
    "    \n",
    "    occupancy_counts.append(group[1][\"CC_estimates\"].values)\n",
    "    sample_info.append(group[1][[\"weekday\", \"weekday_name\", \"week\", \"day\"]].values[0])\n",
    "    group_list.append(group[0])\n",
    "\n",
    "occupancy_counts = np.array(occupancy_counts[:-1])\n",
    "sample_info = np.array(sample_info[:-1])\n",
    "group_list = np.array(group_list[:-1])\n"
   ]
  },
  {
   "cell_type": "code",
   "execution_count": null,
   "metadata": {},
   "outputs": [
    {
     "data": {
      "text/plain": [
       "array([[0., 0., 0., ..., 0., 0., 0.],\n",
       "       [0., 0., 0., ..., 0., 0., 0.],\n",
       "       [0., 0., 0., ..., 0., 0., 0.],\n",
       "       ...,\n",
       "       [0., 0., 0., ..., 0., 0., 0.],\n",
       "       [0., 0., 0., ..., 0., 0., 0.],\n",
       "       [0., 0., 0., ..., 0., 0., 0.]])"
      ]
     },
     "execution_count": 11,
     "metadata": {},
     "output_type": "execute_result"
    }
   ],
   "source": [
    "occupancy_counts"
   ]
  },
  {
   "cell_type": "code",
   "execution_count": null,
   "metadata": {},
   "outputs": [],
   "source": [
    "from sklearn.cluster import KMeans, AffinityPropagation, MeanShift, SpectralClustering, AgglomerativeClustering\n",
    "from sklearn.metrics import davies_bouldin_score, pairwise_distances\n",
    "\n",
    "from scipy.spatial.distance import pdist, squareform\n",
    "\n"
   ]
  },
  {
   "cell_type": "code",
   "execution_count": null,
   "metadata": {},
   "outputs": [],
   "source": [
    "from pyclustering.cluster.kmeans import kmeans\n",
    "from pyclustering.cluster.kmedians import kmedians\n",
    "from pyclustering.cluster.center_initializer import kmeans_plusplus_initializer\n",
    "\n",
    "from pyclustering.utils.metric import distance_metric, type_metric\n",
    "from scipy.spatial.distance import correlation, cosine\n",
    "from dtaidistance import dtw\n",
    "from tslearn.metrics import dtw as dtw_tslearn\n",
    "import heapq"
   ]
  },
  {
   "cell_type": "code",
   "execution_count": null,
   "metadata": {},
   "outputs": [],
   "source": [
    "room_capacity = handler.filter_by_room_id(course_dates_data, 0)[\"room_capacity\"].unique()"
   ]
  },
  {
   "cell_type": "code",
   "execution_count": null,
   "metadata": {},
   "outputs": [
    {
     "name": "stderr",
     "output_type": "stream",
     "text": [
      " 34%|███▍      | 22/64 [00:27<00:52,  1.24s/it]\n",
      "  2%|▏         | 1/64 [00:01<01:49,  1.74s/it]"
     ]
    },
    {
     "name": "stdout",
     "output_type": "stream",
     "text": [
      "[13.89 68.11]\n"
     ]
    },
    {
     "name": "stderr",
     "output_type": "stream",
     "text": [
      "  3%|▎         | 2/64 [00:03<02:03,  2.00s/it]"
     ]
    },
    {
     "name": "stdout",
     "output_type": "stream",
     "text": [
      "[14.19 67.81]\n"
     ]
    },
    {
     "name": "stderr",
     "output_type": "stream",
     "text": [
      "  5%|▍         | 3/64 [00:05<01:55,  1.90s/it]"
     ]
    },
    {
     "name": "stdout",
     "output_type": "stream",
     "text": [
      "[13.27 68.73]\n"
     ]
    },
    {
     "name": "stderr",
     "output_type": "stream",
     "text": [
      "  6%|▋         | 4/64 [00:07<01:57,  1.96s/it]"
     ]
    },
    {
     "name": "stdout",
     "output_type": "stream",
     "text": [
      "[14.61 67.39]\n"
     ]
    },
    {
     "name": "stderr",
     "output_type": "stream",
     "text": [
      "  8%|▊         | 5/64 [00:10<02:04,  2.11s/it]"
     ]
    },
    {
     "name": "stdout",
     "output_type": "stream",
     "text": [
      "[16.41 65.59]\n"
     ]
    },
    {
     "name": "stderr",
     "output_type": "stream",
     "text": [
      "  9%|▉         | 6/64 [00:12<02:02,  2.12s/it]"
     ]
    },
    {
     "name": "stdout",
     "output_type": "stream",
     "text": [
      "[16.06 65.94]\n"
     ]
    },
    {
     "name": "stderr",
     "output_type": "stream",
     "text": [
      " 11%|█         | 7/64 [00:14<02:07,  2.24s/it]"
     ]
    },
    {
     "name": "stdout",
     "output_type": "stream",
     "text": [
      "[15.75 66.25]\n"
     ]
    },
    {
     "name": "stderr",
     "output_type": "stream",
     "text": [
      " 12%|█▎        | 8/64 [00:16<01:59,  2.14s/it]"
     ]
    },
    {
     "name": "stdout",
     "output_type": "stream",
     "text": [
      "[14.62 67.38]\n"
     ]
    },
    {
     "name": "stderr",
     "output_type": "stream",
     "text": [
      " 14%|█▍        | 9/64 [00:23<03:16,  3.58s/it]"
     ]
    },
    {
     "name": "stdout",
     "output_type": "stream",
     "text": [
      "[ 7.02 25.13 49.85]\n"
     ]
    },
    {
     "name": "stderr",
     "output_type": "stream",
     "text": [
      " 16%|█▌        | 10/64 [00:30<04:06,  4.56s/it]"
     ]
    },
    {
     "name": "stdout",
     "output_type": "stream",
     "text": [
      "[ 8.51 24.15 49.34]\n"
     ]
    },
    {
     "name": "stderr",
     "output_type": "stream",
     "text": [
      " 17%|█▋        | 11/64 [00:36<04:22,  4.96s/it]"
     ]
    },
    {
     "name": "stdout",
     "output_type": "stream",
     "text": [
      "[ 6.83 23.1  52.07]\n"
     ]
    },
    {
     "name": "stderr",
     "output_type": "stream",
     "text": [
      " 19%|█▉        | 12/64 [00:42<04:45,  5.49s/it]"
     ]
    },
    {
     "name": "stdout",
     "output_type": "stream",
     "text": [
      "[ 6.16 23.86 51.98]\n"
     ]
    },
    {
     "name": "stderr",
     "output_type": "stream",
     "text": [
      " 20%|██        | 13/64 [00:49<04:54,  5.77s/it]"
     ]
    },
    {
     "name": "stdout",
     "output_type": "stream",
     "text": [
      "[ 6.24 24.14 51.62]\n"
     ]
    },
    {
     "name": "stderr",
     "output_type": "stream",
     "text": [
      " 22%|██▏       | 14/64 [00:56<05:04,  6.10s/it]"
     ]
    },
    {
     "name": "stdout",
     "output_type": "stream",
     "text": [
      "[ 6.8  23.63 51.57]\n"
     ]
    },
    {
     "name": "stderr",
     "output_type": "stream",
     "text": [
      " 23%|██▎       | 15/64 [01:02<05:00,  6.13s/it]"
     ]
    },
    {
     "name": "stdout",
     "output_type": "stream",
     "text": [
      "[ 6.6  23.23 52.17]\n"
     ]
    },
    {
     "name": "stderr",
     "output_type": "stream",
     "text": [
      " 25%|██▌       | 16/64 [01:08<05:00,  6.26s/it]"
     ]
    },
    {
     "name": "stdout",
     "output_type": "stream",
     "text": [
      "[ 7.04 24.18 50.78]\n"
     ]
    },
    {
     "name": "stderr",
     "output_type": "stream",
     "text": [
      " 27%|██▋       | 17/64 [01:13<04:38,  5.93s/it]"
     ]
    },
    {
     "name": "stdout",
     "output_type": "stream",
     "text": [
      "[ 3.47 11.46 25.22 41.85]\n"
     ]
    },
    {
     "name": "stderr",
     "output_type": "stream",
     "text": [
      " 28%|██▊       | 18/64 [01:19<04:28,  5.83s/it]"
     ]
    },
    {
     "name": "stdout",
     "output_type": "stream",
     "text": [
      "[ 2.78 11.8  24.86 42.56]\n"
     ]
    },
    {
     "name": "stderr",
     "output_type": "stream",
     "text": [
      " 30%|██▉       | 19/64 [01:24<04:08,  5.51s/it]"
     ]
    },
    {
     "name": "stdout",
     "output_type": "stream",
     "text": [
      "[ 2.92 10.63 24.23 44.22]\n"
     ]
    },
    {
     "name": "stderr",
     "output_type": "stream",
     "text": [
      " 31%|███▏      | 20/64 [01:29<03:59,  5.45s/it]"
     ]
    },
    {
     "name": "stdout",
     "output_type": "stream",
     "text": [
      "[ 2.79 11.25 23.83 44.13]\n"
     ]
    },
    {
     "name": "stderr",
     "output_type": "stream",
     "text": [
      " 33%|███▎      | 21/64 [01:35<03:54,  5.45s/it]"
     ]
    },
    {
     "name": "stdout",
     "output_type": "stream",
     "text": [
      "[ 2.75 11.4  24.16 43.69]\n"
     ]
    },
    {
     "name": "stderr",
     "output_type": "stream",
     "text": [
      " 34%|███▍      | 22/64 [01:39<03:40,  5.24s/it]"
     ]
    },
    {
     "name": "stdout",
     "output_type": "stream",
     "text": [
      "[ 2.66 10.82 24.57 43.95]\n"
     ]
    },
    {
     "name": "stderr",
     "output_type": "stream",
     "text": [
      " 36%|███▌      | 23/64 [01:45<03:42,  5.43s/it]"
     ]
    },
    {
     "name": "stdout",
     "output_type": "stream",
     "text": [
      "[ 2.7  10.69 24.95 43.66]\n"
     ]
    },
    {
     "name": "stderr",
     "output_type": "stream",
     "text": [
      " 38%|███▊      | 24/64 [01:50<03:28,  5.20s/it]"
     ]
    },
    {
     "name": "stdout",
     "output_type": "stream",
     "text": [
      "[ 2.9  10.76 24.59 43.75]\n"
     ]
    },
    {
     "name": "stderr",
     "output_type": "stream",
     "text": [
      " 39%|███▉      | 25/64 [01:55<03:26,  5.28s/it]"
     ]
    },
    {
     "name": "stdout",
     "output_type": "stream",
     "text": [
      "[ 1.18  4.74 13.23 24.21 38.64]\n"
     ]
    },
    {
     "name": "stderr",
     "output_type": "stream",
     "text": [
      " 41%|████      | 26/64 [02:02<03:37,  5.72s/it]"
     ]
    },
    {
     "name": "stdout",
     "output_type": "stream",
     "text": [
      "[ 1.28  4.67 12.52 23.79 39.74]\n"
     ]
    },
    {
     "name": "stderr",
     "output_type": "stream",
     "text": [
      " 42%|████▏     | 27/64 [02:09<03:41,  5.98s/it]"
     ]
    },
    {
     "name": "stdout",
     "output_type": "stream",
     "text": [
      "[ 1.25  5.16 12.87 23.33 39.39]\n"
     ]
    },
    {
     "name": "stderr",
     "output_type": "stream",
     "text": [
      " 44%|████▍     | 28/64 [02:14<03:33,  5.93s/it]"
     ]
    },
    {
     "name": "stdout",
     "output_type": "stream",
     "text": [
      "[ 1.3   4.97 12.82 24.32 38.59]\n"
     ]
    },
    {
     "name": "stderr",
     "output_type": "stream",
     "text": [
      " 45%|████▌     | 29/64 [02:21<03:28,  5.96s/it]"
     ]
    },
    {
     "name": "stdout",
     "output_type": "stream",
     "text": [
      "[ 1.36  5.46 12.83 23.33 39.02]\n"
     ]
    },
    {
     "name": "stderr",
     "output_type": "stream",
     "text": [
      " 47%|████▋     | 30/64 [02:27<03:26,  6.06s/it]"
     ]
    },
    {
     "name": "stdout",
     "output_type": "stream",
     "text": [
      "[ 1.36  5.67 12.89 24.35 37.73]\n"
     ]
    },
    {
     "name": "stderr",
     "output_type": "stream",
     "text": [
      " 48%|████▊     | 31/64 [02:32<03:11,  5.79s/it]"
     ]
    },
    {
     "name": "stdout",
     "output_type": "stream",
     "text": [
      "[ 1.29  5.13 12.64 24.48 38.46]\n"
     ]
    },
    {
     "name": "stderr",
     "output_type": "stream",
     "text": [
      " 50%|█████     | 32/64 [02:37<03:01,  5.68s/it]"
     ]
    },
    {
     "name": "stdout",
     "output_type": "stream",
     "text": [
      "[ 1.28  4.79 12.69 24.07 39.17]\n"
     ]
    },
    {
     "name": "stderr",
     "output_type": "stream",
     "text": [
      " 52%|█████▏    | 33/64 [02:43<02:57,  5.73s/it]"
     ]
    },
    {
     "name": "stdout",
     "output_type": "stream",
     "text": [
      "[ 1.16  2.01  7.25 12.35 22.23 37.  ]\n"
     ]
    },
    {
     "name": "stderr",
     "output_type": "stream",
     "text": [
      " 53%|█████▎    | 34/64 [02:49<02:49,  5.64s/it]"
     ]
    },
    {
     "name": "stdout",
     "output_type": "stream",
     "text": [
      "[ 1.11  1.86  6.66 12.49 23.1  36.78]\n"
     ]
    },
    {
     "name": "stderr",
     "output_type": "stream",
     "text": [
      " 55%|█████▍    | 35/64 [02:54<02:43,  5.63s/it]"
     ]
    },
    {
     "name": "stdout",
     "output_type": "stream",
     "text": [
      "[ 1.08  1.67  6.4  12.64 23.05 37.16]\n"
     ]
    },
    {
     "name": "stderr",
     "output_type": "stream",
     "text": [
      " 56%|█████▋    | 36/64 [03:01<02:47,  5.97s/it]"
     ]
    },
    {
     "name": "stdout",
     "output_type": "stream",
     "text": [
      "[ 1.06  1.68  6.95 12.64 22.54 37.13]\n"
     ]
    },
    {
     "name": "stderr",
     "output_type": "stream",
     "text": [
      " 58%|█████▊    | 37/64 [03:07<02:39,  5.89s/it]"
     ]
    },
    {
     "name": "stdout",
     "output_type": "stream",
     "text": [
      "[ 1.14  1.87  7.07 12.6  22.45 36.87]\n"
     ]
    },
    {
     "name": "stderr",
     "output_type": "stream",
     "text": [
      " 59%|█████▉    | 38/64 [03:13<02:34,  5.93s/it]"
     ]
    },
    {
     "name": "stdout",
     "output_type": "stream",
     "text": [
      "[ 1.12  1.78  6.89 12.43 22.84 36.94]\n"
     ]
    },
    {
     "name": "stderr",
     "output_type": "stream",
     "text": [
      " 61%|██████    | 39/64 [03:19<02:34,  6.16s/it]"
     ]
    },
    {
     "name": "stdout",
     "output_type": "stream",
     "text": [
      "[ 1.11  1.8   6.71 12.71 22.41 37.26]\n"
     ]
    },
    {
     "name": "stderr",
     "output_type": "stream",
     "text": [
      " 62%|██████▎   | 40/64 [03:26<02:28,  6.17s/it]"
     ]
    },
    {
     "name": "stdout",
     "output_type": "stream",
     "text": [
      "[ 1.1   1.89  6.35 12.76 22.61 37.29]\n"
     ]
    },
    {
     "name": "stderr",
     "output_type": "stream",
     "text": [
      " 64%|██████▍   | 41/64 [03:29<02:04,  5.42s/it]"
     ]
    },
    {
     "name": "stdout",
     "output_type": "stream",
     "text": [
      "[ 1.05  1.42  2.9   7.61 11.65 21.39 35.98]\n"
     ]
    },
    {
     "name": "stderr",
     "output_type": "stream",
     "text": [
      " 66%|██████▌   | 42/64 [03:33<01:47,  4.90s/it]"
     ]
    },
    {
     "name": "stdout",
     "output_type": "stream",
     "text": [
      "[ 1.05  1.39  2.63  7.68 11.65 21.57 36.03]\n"
     ]
    },
    {
     "name": "stderr",
     "output_type": "stream",
     "text": [
      " 67%|██████▋   | 43/64 [03:37<01:34,  4.50s/it]"
     ]
    },
    {
     "name": "stdout",
     "output_type": "stream",
     "text": [
      "[ 1.02  1.31  2.77  7.08 11.87 21.84 36.11]\n"
     ]
    },
    {
     "name": "stderr",
     "output_type": "stream",
     "text": [
      " 69%|██████▉   | 44/64 [03:41<01:30,  4.52s/it]"
     ]
    },
    {
     "name": "stdout",
     "output_type": "stream",
     "text": [
      "[ 1.08  1.34  2.55  7.01 11.68 22.03 36.31]\n"
     ]
    },
    {
     "name": "stderr",
     "output_type": "stream",
     "text": [
      " 70%|███████   | 45/64 [03:45<01:19,  4.21s/it]"
     ]
    },
    {
     "name": "stdout",
     "output_type": "stream",
     "text": [
      "[ 1.01  1.29  2.33  6.97 11.81 22.18 36.41]\n"
     ]
    },
    {
     "name": "stderr",
     "output_type": "stream",
     "text": [
      " 72%|███████▏  | 46/64 [03:48<01:13,  4.08s/it]"
     ]
    },
    {
     "name": "stdout",
     "output_type": "stream",
     "text": [
      "[ 1.03  1.39  2.91  7.5  11.89 21.31 35.97]\n"
     ]
    },
    {
     "name": "stderr",
     "output_type": "stream",
     "text": [
      " 73%|███████▎  | 47/64 [03:53<01:10,  4.15s/it]"
     ]
    },
    {
     "name": "stdout",
     "output_type": "stream",
     "text": [
      "[ 1.03  1.35  2.78  7.67 11.76 21.22 36.19]\n"
     ]
    },
    {
     "name": "stderr",
     "output_type": "stream",
     "text": [
      " 75%|███████▌  | 48/64 [03:57<01:07,  4.25s/it]"
     ]
    },
    {
     "name": "stdout",
     "output_type": "stream",
     "text": [
      "[ 1.04  1.39  2.99  7.87 11.77 20.97 35.97]\n"
     ]
    },
    {
     "name": "stderr",
     "output_type": "stream",
     "text": [
      " 77%|███████▋  | 49/64 [04:03<01:12,  4.82s/it]"
     ]
    },
    {
     "name": "stdout",
     "output_type": "stream",
     "text": [
      "[ 1.03  1.14  2.09  4.33  7.73 10.54 19.19 35.95]\n"
     ]
    },
    {
     "name": "stderr",
     "output_type": "stream",
     "text": [
      " 78%|███████▊  | 50/64 [04:10<01:14,  5.32s/it]"
     ]
    },
    {
     "name": "stdout",
     "output_type": "stream",
     "text": [
      "[ 1.01  1.07  1.79  4.29  7.72 10.7  18.99 36.43]\n"
     ]
    },
    {
     "name": "stderr",
     "output_type": "stream",
     "text": [
      " 80%|███████▉  | 51/64 [04:16<01:11,  5.46s/it]"
     ]
    },
    {
     "name": "stdout",
     "output_type": "stream",
     "text": [
      "[ 1.01  1.1   1.95  4.29  7.8  10.44 19.08 36.33]\n"
     ]
    },
    {
     "name": "stderr",
     "output_type": "stream",
     "text": [
      " 81%|████████▏ | 52/64 [04:22<01:08,  5.72s/it]"
     ]
    },
    {
     "name": "stdout",
     "output_type": "stream",
     "text": [
      "[ 1.02  1.09  1.85  4.43  7.72 10.8  18.7  36.39]\n"
     ]
    },
    {
     "name": "stderr",
     "output_type": "stream",
     "text": [
      " 83%|████████▎ | 53/64 [04:28<01:04,  5.84s/it]"
     ]
    },
    {
     "name": "stdout",
     "output_type": "stream",
     "text": [
      "[ 1.01  1.06  1.9   4.06  7.58 10.79 19.41 36.19]\n"
     ]
    },
    {
     "name": "stderr",
     "output_type": "stream",
     "text": [
      " 84%|████████▍ | 54/64 [04:34<00:57,  5.77s/it]"
     ]
    },
    {
     "name": "stdout",
     "output_type": "stream",
     "text": [
      "[ 1.01  1.16  1.93  4.1   7.49 10.79 19.61 35.91]\n"
     ]
    },
    {
     "name": "stderr",
     "output_type": "stream",
     "text": [
      " 86%|████████▌ | 55/64 [04:40<00:52,  5.80s/it]"
     ]
    },
    {
     "name": "stdout",
     "output_type": "stream",
     "text": [
      "[ 1.01  1.09  1.87  4.21  7.5  10.6  19.52 36.2 ]\n"
     ]
    },
    {
     "name": "stderr",
     "output_type": "stream",
     "text": [
      " 88%|████████▊ | 56/64 [04:45<00:45,  5.70s/it]"
     ]
    },
    {
     "name": "stdout",
     "output_type": "stream",
     "text": [
      "[ 1.    1.07  1.76  3.94  7.37 10.64 20.01 36.21]\n"
     ]
    },
    {
     "name": "stderr",
     "output_type": "stream",
     "text": [
      " 89%|████████▉ | 57/64 [04:51<00:40,  5.80s/it]"
     ]
    },
    {
     "name": "stdout",
     "output_type": "stream",
     "text": [
      "[ 1.    1.05  1.36  1.99  4.36  8.07 10.55 18.26 35.36]\n"
     ]
    },
    {
     "name": "stderr",
     "output_type": "stream",
     "text": [
      " 91%|█████████ | 58/64 [04:57<00:34,  5.78s/it]"
     ]
    },
    {
     "name": "stdout",
     "output_type": "stream",
     "text": [
      "[ 1.    1.05  1.36  2.1   4.25  7.85 10.33 18.93 35.13]\n"
     ]
    },
    {
     "name": "stderr",
     "output_type": "stream",
     "text": [
      " 92%|█████████▏| 59/64 [05:02<00:28,  5.66s/it]"
     ]
    },
    {
     "name": "stdout",
     "output_type": "stream",
     "text": [
      "[ 1.    1.02  1.45  2.12  4.24  7.68 10.06 18.81 35.62]\n"
     ]
    },
    {
     "name": "stderr",
     "output_type": "stream",
     "text": [
      " 94%|█████████▍| 60/64 [05:08<00:23,  5.77s/it]"
     ]
    },
    {
     "name": "stdout",
     "output_type": "stream",
     "text": [
      "[ 1.    1.04  1.39  2.28  4.49  7.77 10.11 18.64 35.28]\n"
     ]
    },
    {
     "name": "stderr",
     "output_type": "stream",
     "text": [
      " 95%|█████████▌| 61/64 [05:14<00:17,  5.69s/it]"
     ]
    },
    {
     "name": "stdout",
     "output_type": "stream",
     "text": [
      "[ 1.    1.04  1.35  2.09  4.3   7.83 10.35 18.82 35.22]\n"
     ]
    },
    {
     "name": "stderr",
     "output_type": "stream",
     "text": [
      " 97%|█████████▋| 62/64 [05:19<00:11,  5.60s/it]"
     ]
    },
    {
     "name": "stdout",
     "output_type": "stream",
     "text": [
      "[ 1.    1.03  1.31  2.05  4.23  7.46 10.05 19.52 35.35]\n"
     ]
    },
    {
     "name": "stderr",
     "output_type": "stream",
     "text": [
      " 98%|█████████▊| 63/64 [05:25<00:05,  5.65s/it]"
     ]
    },
    {
     "name": "stdout",
     "output_type": "stream",
     "text": [
      "[ 1.    1.02  1.38  2.18  4.28  7.98 10.35 18.61 35.2 ]\n"
     ]
    },
    {
     "name": "stderr",
     "output_type": "stream",
     "text": [
      "100%|██████████| 64/64 [05:31<00:00,  5.18s/it]"
     ]
    },
    {
     "name": "stdout",
     "output_type": "stream",
     "text": [
      "[ 1.    1.06  1.44  2.21  4.46  7.55 10.35 18.51 35.42]\n"
     ]
    },
    {
     "name": "stderr",
     "output_type": "stream",
     "text": [
      "\n"
     ]
    }
   ],
   "source": [
    "import warnings\n",
    "import random\n",
    "np.warnings = warnings\n",
    "\n",
    "# list of 50 random seeds between 0 and 100\n",
    "seeds = list(range(0,1000))\n",
    "seeds = random.sample(seeds, 100)\n",
    "\n",
    "cluster_data = occupancy_counts\n",
    "\n",
    "parameters = {\"n_clusters\":list(range(2,10)),\n",
    "              \"distance_metric\":[\n",
    "                  distance_metric(type_metric.EUCLIDEAN),\n",
    "                  distance_metric(type_metric.CHEBYSHEV),\n",
    "                  distance_metric(type_metric.MANHATTAN),\n",
    "                  distance_metric(type_metric.EUCLIDEAN_SQUARE),\n",
    "                  distance_metric(type_metric.USER_DEFINED, func=dtw),\n",
    "                  distance_metric(type_metric.USER_DEFINED, func=dtw_tslearn),\n",
    "                  distance_metric(type_metric.USER_DEFINED, func=correlation),\n",
    "                  distance_metric(type_metric.USER_DEFINED, func=cosine),                   \n",
    "              ]}\n",
    "\n",
    "# change -> first iterate over parameters than compute avg or median score for each parameter combination over all seeds and variance\n",
    "\n",
    "comb_iterator = ParameterSearch(parameter_dict=parameters).grid_search_iterator(tqdm_bar=True)\n",
    "\n",
    "combinations = []\n",
    "avg_scores = []\n",
    "median_scores = []\n",
    "std_scores = []\n",
    "\n",
    "avg_sizes = []\n",
    "for i, params in enumerate(comb_iterator):\n",
    "    \n",
    "    bdi_scores = []\n",
    "    sizes = []\n",
    "    for seed in seeds:\n",
    "    \n",
    "        # sklearn\n",
    "        #clustering_model = KMeans(n_clusters=params[\"n_clusters\"], random_state=seed)\n",
    "        #clustering_model.fit(occupancy_counts)\n",
    "        #cluster_labels = clustering_model.labels_\n",
    "        \n",
    "        # pyclustering\n",
    "        initial_centers = kmeans_plusplus_initializer(cluster_data, params[\"n_clusters\"]).initialize()\n",
    "        #clustering_model = kmeans(cluster_data, initial_centers, distance_metric=params[\"distance_metric\"])\n",
    "        clustering_model = kmedians(cluster_data, initial_centers, distance_metric=params[\"distance_metric\"])\n",
    "        clustering_model.process()\n",
    "        \n",
    "        cluster_labels = np.empty(len(occupancy_counts))\n",
    "        for i, cluster in enumerate(clustering_model.get_clusters()):\n",
    "            cluster_labels[cluster] = i\n",
    "\n",
    "        cluster_sizes = np.sort([len(cluster) for cluster in clustering_model.get_clusters()])\n",
    "        sizes.append(cluster_sizes)\n",
    "        \n",
    "        score = davies_bouldin_score(occupancy_counts, cluster_labels)\n",
    "        bdi_scores.append(np.round(score, 8))\n",
    "        \n",
    "    combinations.append((i, params))\n",
    "    avg_sizes.append(np.mean(sizes, axis=0))\n",
    "    print(np.mean(sizes, axis=0))\n",
    "\n",
    "    avg_scores.append(np.mean(bdi_scores))\n",
    "    median_scores.append(np.median(bdi_scores))\n",
    "    std_scores.append(np.var(bdi_scores))\n",
    "    "
   ]
  },
  {
   "cell_type": "code",
   "execution_count": null,
   "metadata": {},
   "outputs": [
    {
     "data": {
      "text/plain": [
       "15.48"
      ]
     },
     "execution_count": 359,
     "metadata": {},
     "output_type": "execute_result"
    }
   ],
   "source": [
    "np.array(sizes)[:,0].mean()"
   ]
  },
  {
   "cell_type": "code",
   "execution_count": null,
   "metadata": {},
   "outputs": [
    {
     "data": {
      "text/plain": [
       "array([15.48, 66.52])"
      ]
     },
     "execution_count": 364,
     "metadata": {},
     "output_type": "execute_result"
    }
   ],
   "source": [
    "np.mean(sizes, axis=0)"
   ]
  },
  {
   "cell_type": "code",
   "execution_count": null,
   "metadata": {},
   "outputs": [
    {
     "data": {
      "text/plain": [
       "61"
      ]
     },
     "execution_count": 328,
     "metadata": {},
     "output_type": "execute_result"
    }
   ],
   "source": [
    "k = 10\n",
    "bot_k = np.argsort(avg_scores)[:k]\n",
    "bot_k_std= np.array(std_scores)[bot_k]\n",
    "final_choice = bot_k[np.argmin(bot_k_std)]\n",
    "\n",
    "final_choice"
   ]
  },
  {
   "cell_type": "code",
   "execution_count": null,
   "metadata": {},
   "outputs": [],
   "source": [
    "def plot_cluster_centers(n_clusters, cluster_centers, times):\n",
    "    \n",
    "    fig = go.Figure()\n",
    "    \n",
    "    for i in range(n_clusters):\n",
    "        # line plot\n",
    "        fig.add_trace(\n",
    "            go.Scatter(\n",
    "                x=times, \n",
    "                y=cluster_centers[i], \n",
    "                name=f'cluster {i}',\n",
    "                mode=\"lines+markers\"        \n",
    "            )\n",
    "        )\n",
    "        \n",
    "    return fig"
   ]
  },
  {
   "cell_type": "code",
   "execution_count": null,
   "metadata": {},
   "outputs": [
    {
     "name": "stdout",
     "output_type": "stream",
     "text": [
      "{'n_clusters': 9, 'distance_metric': <pyclustering.utils.metric.distance_metric object at 0x7acf4fd0f140>} 1000 <function dtw at 0x7acf60035a80>\n",
      "Number of clusters: 9\n"
     ]
    },
    {
     "data": {
      "application/vnd.plotly.v1+json": {
       "config": {
        "plotlyServerURL": "https://plot.ly"
       },
       "data": [
        {
         "mode": "lines+markers",
         "name": "cluster 0",
         "type": "scatter",
         "x": [
          "00:00:00",
          "00:15:00",
          "00:30:00",
          "00:45:00",
          "01:00:00",
          "01:15:00",
          "01:30:00",
          "01:45:00",
          "02:00:00",
          "02:15:00",
          "02:30:00",
          "02:45:00",
          "03:00:00",
          "03:15:00",
          "03:30:00",
          "03:45:00",
          "04:00:00",
          "04:15:00",
          "04:30:00",
          "04:45:00",
          "05:00:00",
          "05:15:00",
          "05:30:00",
          "05:45:00",
          "06:00:00",
          "06:15:00",
          "06:30:00",
          "06:45:00",
          "07:00:00",
          "07:15:00",
          "07:30:00",
          "07:45:00",
          "08:00:00",
          "08:15:00",
          "08:30:00",
          "08:45:00",
          "09:00:00",
          "09:15:00",
          "09:30:00",
          "09:45:00",
          "10:00:00",
          "10:15:00",
          "10:30:00",
          "10:45:00",
          "11:00:00",
          "11:15:00",
          "11:30:00",
          "11:45:00",
          "12:00:00",
          "12:15:00",
          "12:30:00",
          "12:45:00",
          "13:00:00",
          "13:15:00",
          "13:30:00",
          "13:45:00",
          "14:00:00",
          "14:15:00",
          "14:30:00",
          "14:45:00",
          "15:00:00",
          "15:15:00",
          "15:30:00",
          "15:45:00",
          "16:00:00",
          "16:15:00",
          "16:30:00",
          "16:45:00",
          "17:00:00",
          "17:15:00",
          "17:30:00",
          "17:45:00",
          "18:00:00",
          "18:15:00",
          "18:30:00",
          "18:45:00",
          "19:00:00",
          "19:15:00",
          "19:30:00",
          "19:45:00",
          "20:00:00",
          "20:15:00",
          "20:30:00",
          "20:45:00",
          "21:00:00",
          "21:15:00",
          "21:30:00",
          "21:45:00",
          "22:00:00",
          "22:15:00",
          "22:30:00",
          "22:45:00",
          "23:00:00",
          "23:15:00",
          "23:30:00",
          "23:45:00"
         ],
         "y": [
          0,
          0,
          0,
          0,
          0,
          0,
          0,
          0,
          0,
          0,
          0,
          0,
          0,
          0,
          0,
          0,
          0,
          0,
          0,
          0,
          0,
          0,
          0.5,
          0.5,
          2.5,
          2,
          2,
          2,
          2,
          2,
          2,
          2,
          2.5,
          5,
          15.5,
          22,
          23,
          24.5,
          22,
          21.5,
          21.5,
          16,
          20,
          20,
          20.5,
          19.5,
          19.5,
          9.5,
          6.5,
          5.5,
          6.5,
          6.5,
          6.5,
          5.5,
          6,
          9.5,
          9.5,
          9.5,
          9.5,
          9.5,
          9.5,
          5.5,
          8.5,
          11,
          11,
          10.5,
          10,
          10,
          8,
          0.5,
          0.5,
          0.5,
          0.5,
          0.5,
          0.5,
          0.5,
          1.5,
          1,
          0.5,
          0.5,
          0.5,
          0.5,
          0,
          0,
          0,
          0,
          0,
          0,
          0,
          0,
          0,
          0,
          0,
          0,
          0,
          0
         ]
        },
        {
         "mode": "lines+markers",
         "name": "cluster 1",
         "type": "scatter",
         "x": [
          "00:00:00",
          "00:15:00",
          "00:30:00",
          "00:45:00",
          "01:00:00",
          "01:15:00",
          "01:30:00",
          "01:45:00",
          "02:00:00",
          "02:15:00",
          "02:30:00",
          "02:45:00",
          "03:00:00",
          "03:15:00",
          "03:30:00",
          "03:45:00",
          "04:00:00",
          "04:15:00",
          "04:30:00",
          "04:45:00",
          "05:00:00",
          "05:15:00",
          "05:30:00",
          "05:45:00",
          "06:00:00",
          "06:15:00",
          "06:30:00",
          "06:45:00",
          "07:00:00",
          "07:15:00",
          "07:30:00",
          "07:45:00",
          "08:00:00",
          "08:15:00",
          "08:30:00",
          "08:45:00",
          "09:00:00",
          "09:15:00",
          "09:30:00",
          "09:45:00",
          "10:00:00",
          "10:15:00",
          "10:30:00",
          "10:45:00",
          "11:00:00",
          "11:15:00",
          "11:30:00",
          "11:45:00",
          "12:00:00",
          "12:15:00",
          "12:30:00",
          "12:45:00",
          "13:00:00",
          "13:15:00",
          "13:30:00",
          "13:45:00",
          "14:00:00",
          "14:15:00",
          "14:30:00",
          "14:45:00",
          "15:00:00",
          "15:15:00",
          "15:30:00",
          "15:45:00",
          "16:00:00",
          "16:15:00",
          "16:30:00",
          "16:45:00",
          "17:00:00",
          "17:15:00",
          "17:30:00",
          "17:45:00",
          "18:00:00",
          "18:15:00",
          "18:30:00",
          "18:45:00",
          "19:00:00",
          "19:15:00",
          "19:30:00",
          "19:45:00",
          "20:00:00",
          "20:15:00",
          "20:30:00",
          "20:45:00",
          "21:00:00",
          "21:15:00",
          "21:30:00",
          "21:45:00",
          "22:00:00",
          "22:15:00",
          "22:30:00",
          "22:45:00",
          "23:00:00",
          "23:15:00",
          "23:30:00",
          "23:45:00"
         ],
         "y": [
          0,
          0,
          0,
          0,
          0,
          0,
          0,
          0,
          0,
          0,
          0,
          0,
          0,
          0,
          0,
          0,
          0,
          0,
          0,
          0,
          0,
          0,
          0,
          0,
          0,
          5.5,
          4.5,
          4.5,
          4.5,
          4.5,
          4.5,
          4.5,
          4.5,
          4.5,
          4.5,
          4.5,
          4.5,
          4.5,
          4.5,
          4.5,
          4.5,
          4.5,
          4.5,
          4.5,
          4.5,
          4.5,
          4.5,
          6,
          38.5,
          47,
          52.5,
          52,
          51.5,
          48,
          23,
          18,
          21,
          21,
          21,
          20.5,
          12.5,
          5,
          17.5,
          22.5,
          22.5,
          21.5,
          21.5,
          21.5,
          3,
          7.5,
          6.5,
          6.5,
          6.5,
          7.5,
          5,
          5,
          1,
          1,
          1,
          1,
          1,
          0,
          0,
          0,
          0,
          0,
          0,
          0,
          0,
          0,
          0,
          0,
          0,
          0,
          0,
          0
         ]
        },
        {
         "mode": "lines+markers",
         "name": "cluster 2",
         "type": "scatter",
         "x": [
          "00:00:00",
          "00:15:00",
          "00:30:00",
          "00:45:00",
          "01:00:00",
          "01:15:00",
          "01:30:00",
          "01:45:00",
          "02:00:00",
          "02:15:00",
          "02:30:00",
          "02:45:00",
          "03:00:00",
          "03:15:00",
          "03:30:00",
          "03:45:00",
          "04:00:00",
          "04:15:00",
          "04:30:00",
          "04:45:00",
          "05:00:00",
          "05:15:00",
          "05:30:00",
          "05:45:00",
          "06:00:00",
          "06:15:00",
          "06:30:00",
          "06:45:00",
          "07:00:00",
          "07:15:00",
          "07:30:00",
          "07:45:00",
          "08:00:00",
          "08:15:00",
          "08:30:00",
          "08:45:00",
          "09:00:00",
          "09:15:00",
          "09:30:00",
          "09:45:00",
          "10:00:00",
          "10:15:00",
          "10:30:00",
          "10:45:00",
          "11:00:00",
          "11:15:00",
          "11:30:00",
          "11:45:00",
          "12:00:00",
          "12:15:00",
          "12:30:00",
          "12:45:00",
          "13:00:00",
          "13:15:00",
          "13:30:00",
          "13:45:00",
          "14:00:00",
          "14:15:00",
          "14:30:00",
          "14:45:00",
          "15:00:00",
          "15:15:00",
          "15:30:00",
          "15:45:00",
          "16:00:00",
          "16:15:00",
          "16:30:00",
          "16:45:00",
          "17:00:00",
          "17:15:00",
          "17:30:00",
          "17:45:00",
          "18:00:00",
          "18:15:00",
          "18:30:00",
          "18:45:00",
          "19:00:00",
          "19:15:00",
          "19:30:00",
          "19:45:00",
          "20:00:00",
          "20:15:00",
          "20:30:00",
          "20:45:00",
          "21:00:00",
          "21:15:00",
          "21:30:00",
          "21:45:00",
          "22:00:00",
          "22:15:00",
          "22:30:00",
          "22:45:00",
          "23:00:00",
          "23:15:00",
          "23:30:00",
          "23:45:00"
         ],
         "y": [
          0,
          0,
          0,
          0,
          0,
          0,
          0,
          0,
          0,
          0,
          0,
          0,
          0,
          0,
          0,
          0,
          0,
          0,
          0,
          0,
          0,
          0,
          1,
          1,
          1,
          1,
          1,
          1,
          1,
          1,
          2,
          0,
          0,
          0,
          8,
          14,
          14,
          14,
          14,
          14,
          5,
          12,
          12,
          12,
          12,
          0,
          5,
          41,
          58,
          59,
          59,
          0,
          0,
          0,
          0,
          0,
          0,
          0,
          0,
          0,
          0,
          0,
          0,
          0,
          0,
          0,
          0,
          0,
          0,
          0,
          0,
          0,
          0,
          0,
          0,
          0,
          0,
          0,
          0,
          0,
          0,
          0,
          0,
          0,
          0,
          0,
          0,
          0,
          0,
          0,
          0,
          0,
          0,
          0,
          0,
          0
         ]
        },
        {
         "mode": "lines+markers",
         "name": "cluster 3",
         "type": "scatter",
         "x": [
          "00:00:00",
          "00:15:00",
          "00:30:00",
          "00:45:00",
          "01:00:00",
          "01:15:00",
          "01:30:00",
          "01:45:00",
          "02:00:00",
          "02:15:00",
          "02:30:00",
          "02:45:00",
          "03:00:00",
          "03:15:00",
          "03:30:00",
          "03:45:00",
          "04:00:00",
          "04:15:00",
          "04:30:00",
          "04:45:00",
          "05:00:00",
          "05:15:00",
          "05:30:00",
          "05:45:00",
          "06:00:00",
          "06:15:00",
          "06:30:00",
          "06:45:00",
          "07:00:00",
          "07:15:00",
          "07:30:00",
          "07:45:00",
          "08:00:00",
          "08:15:00",
          "08:30:00",
          "08:45:00",
          "09:00:00",
          "09:15:00",
          "09:30:00",
          "09:45:00",
          "10:00:00",
          "10:15:00",
          "10:30:00",
          "10:45:00",
          "11:00:00",
          "11:15:00",
          "11:30:00",
          "11:45:00",
          "12:00:00",
          "12:15:00",
          "12:30:00",
          "12:45:00",
          "13:00:00",
          "13:15:00",
          "13:30:00",
          "13:45:00",
          "14:00:00",
          "14:15:00",
          "14:30:00",
          "14:45:00",
          "15:00:00",
          "15:15:00",
          "15:30:00",
          "15:45:00",
          "16:00:00",
          "16:15:00",
          "16:30:00",
          "16:45:00",
          "17:00:00",
          "17:15:00",
          "17:30:00",
          "17:45:00",
          "18:00:00",
          "18:15:00",
          "18:30:00",
          "18:45:00",
          "19:00:00",
          "19:15:00",
          "19:30:00",
          "19:45:00",
          "20:00:00",
          "20:15:00",
          "20:30:00",
          "20:45:00",
          "21:00:00",
          "21:15:00",
          "21:30:00",
          "21:45:00",
          "22:00:00",
          "22:15:00",
          "22:30:00",
          "22:45:00",
          "23:00:00",
          "23:15:00",
          "23:30:00",
          "23:45:00"
         ],
         "y": [
          0,
          0,
          0,
          0,
          0,
          0,
          0,
          0,
          0,
          0,
          0,
          0,
          0,
          0,
          0,
          0,
          0,
          0,
          0,
          0,
          0,
          0,
          0,
          0,
          0,
          0,
          0,
          3,
          4,
          4,
          4,
          4,
          4,
          19,
          39,
          49,
          49,
          49,
          49,
          49,
          48,
          30,
          37,
          37,
          35,
          34,
          34,
          33,
          5,
          5,
          5,
          2,
          2,
          0,
          0,
          11,
          10,
          10,
          10,
          10,
          10,
          4,
          38,
          50,
          50,
          50,
          51,
          52,
          43,
          40,
          50,
          49,
          49,
          46,
          3,
          0,
          0,
          0,
          0,
          0,
          0,
          0,
          0,
          0,
          0,
          0,
          0,
          0,
          0,
          0,
          0,
          0,
          0,
          0,
          0,
          0
         ]
        },
        {
         "mode": "lines+markers",
         "name": "cluster 4",
         "type": "scatter",
         "x": [
          "00:00:00",
          "00:15:00",
          "00:30:00",
          "00:45:00",
          "01:00:00",
          "01:15:00",
          "01:30:00",
          "01:45:00",
          "02:00:00",
          "02:15:00",
          "02:30:00",
          "02:45:00",
          "03:00:00",
          "03:15:00",
          "03:30:00",
          "03:45:00",
          "04:00:00",
          "04:15:00",
          "04:30:00",
          "04:45:00",
          "05:00:00",
          "05:15:00",
          "05:30:00",
          "05:45:00",
          "06:00:00",
          "06:15:00",
          "06:30:00",
          "06:45:00",
          "07:00:00",
          "07:15:00",
          "07:30:00",
          "07:45:00",
          "08:00:00",
          "08:15:00",
          "08:30:00",
          "08:45:00",
          "09:00:00",
          "09:15:00",
          "09:30:00",
          "09:45:00",
          "10:00:00",
          "10:15:00",
          "10:30:00",
          "10:45:00",
          "11:00:00",
          "11:15:00",
          "11:30:00",
          "11:45:00",
          "12:00:00",
          "12:15:00",
          "12:30:00",
          "12:45:00",
          "13:00:00",
          "13:15:00",
          "13:30:00",
          "13:45:00",
          "14:00:00",
          "14:15:00",
          "14:30:00",
          "14:45:00",
          "15:00:00",
          "15:15:00",
          "15:30:00",
          "15:45:00",
          "16:00:00",
          "16:15:00",
          "16:30:00",
          "16:45:00",
          "17:00:00",
          "17:15:00",
          "17:30:00",
          "17:45:00",
          "18:00:00",
          "18:15:00",
          "18:30:00",
          "18:45:00",
          "19:00:00",
          "19:15:00",
          "19:30:00",
          "19:45:00",
          "20:00:00",
          "20:15:00",
          "20:30:00",
          "20:45:00",
          "21:00:00",
          "21:15:00",
          "21:30:00",
          "21:45:00",
          "22:00:00",
          "22:15:00",
          "22:30:00",
          "22:45:00",
          "23:00:00",
          "23:15:00",
          "23:30:00",
          "23:45:00"
         ],
         "y": [
          0,
          0,
          0,
          0,
          0,
          0,
          0,
          0,
          0,
          0,
          0,
          0,
          0,
          0,
          0,
          0,
          0,
          0,
          0,
          0,
          0,
          0,
          0,
          0,
          0,
          3,
          6,
          6,
          6,
          7,
          7,
          8,
          9,
          8,
          26,
          40,
          44,
          42,
          43,
          45,
          10,
          28,
          45,
          44,
          42,
          41,
          41,
          25,
          60,
          60,
          60,
          57,
          49,
          4,
          0,
          8,
          9,
          9,
          8,
          9,
          9,
          3,
          12,
          16,
          16,
          16,
          16,
          15,
          15,
          2,
          2,
          0,
          0,
          0,
          0,
          0,
          0,
          0,
          0,
          0,
          0,
          0,
          0,
          0,
          0,
          0,
          0,
          0,
          0,
          0,
          0,
          0,
          0,
          0,
          0,
          0
         ]
        },
        {
         "mode": "lines+markers",
         "name": "cluster 5",
         "type": "scatter",
         "x": [
          "00:00:00",
          "00:15:00",
          "00:30:00",
          "00:45:00",
          "01:00:00",
          "01:15:00",
          "01:30:00",
          "01:45:00",
          "02:00:00",
          "02:15:00",
          "02:30:00",
          "02:45:00",
          "03:00:00",
          "03:15:00",
          "03:30:00",
          "03:45:00",
          "04:00:00",
          "04:15:00",
          "04:30:00",
          "04:45:00",
          "05:00:00",
          "05:15:00",
          "05:30:00",
          "05:45:00",
          "06:00:00",
          "06:15:00",
          "06:30:00",
          "06:45:00",
          "07:00:00",
          "07:15:00",
          "07:30:00",
          "07:45:00",
          "08:00:00",
          "08:15:00",
          "08:30:00",
          "08:45:00",
          "09:00:00",
          "09:15:00",
          "09:30:00",
          "09:45:00",
          "10:00:00",
          "10:15:00",
          "10:30:00",
          "10:45:00",
          "11:00:00",
          "11:15:00",
          "11:30:00",
          "11:45:00",
          "12:00:00",
          "12:15:00",
          "12:30:00",
          "12:45:00",
          "13:00:00",
          "13:15:00",
          "13:30:00",
          "13:45:00",
          "14:00:00",
          "14:15:00",
          "14:30:00",
          "14:45:00",
          "15:00:00",
          "15:15:00",
          "15:30:00",
          "15:45:00",
          "16:00:00",
          "16:15:00",
          "16:30:00",
          "16:45:00",
          "17:00:00",
          "17:15:00",
          "17:30:00",
          "17:45:00",
          "18:00:00",
          "18:15:00",
          "18:30:00",
          "18:45:00",
          "19:00:00",
          "19:15:00",
          "19:30:00",
          "19:45:00",
          "20:00:00",
          "20:15:00",
          "20:30:00",
          "20:45:00",
          "21:00:00",
          "21:15:00",
          "21:30:00",
          "21:45:00",
          "22:00:00",
          "22:15:00",
          "22:30:00",
          "22:45:00",
          "23:00:00",
          "23:15:00",
          "23:30:00",
          "23:45:00"
         ],
         "y": [
          0,
          0,
          0,
          0,
          0,
          0,
          0,
          0,
          0,
          0,
          1,
          1,
          1,
          1,
          1,
          1,
          2,
          3,
          3,
          3,
          3,
          3,
          3,
          3,
          3,
          2,
          2,
          2,
          2,
          2,
          2,
          2,
          2,
          0,
          22,
          35,
          35,
          36,
          36,
          36,
          21,
          20,
          20,
          20,
          20,
          20,
          20,
          22,
          57,
          57,
          57,
          54,
          37,
          60,
          88,
          126,
          132,
          91,
          14,
          21,
          26,
          57,
          86,
          88,
          88,
          82,
          71,
          47,
          28,
          47,
          47,
          47,
          30,
          11,
          11,
          7,
          0,
          0,
          0,
          0,
          0,
          0,
          0,
          0,
          0,
          0,
          0,
          0,
          0,
          0,
          0,
          0,
          0,
          0,
          0,
          0
         ]
        },
        {
         "mode": "lines+markers",
         "name": "cluster 6",
         "type": "scatter",
         "x": [
          "00:00:00",
          "00:15:00",
          "00:30:00",
          "00:45:00",
          "01:00:00",
          "01:15:00",
          "01:30:00",
          "01:45:00",
          "02:00:00",
          "02:15:00",
          "02:30:00",
          "02:45:00",
          "03:00:00",
          "03:15:00",
          "03:30:00",
          "03:45:00",
          "04:00:00",
          "04:15:00",
          "04:30:00",
          "04:45:00",
          "05:00:00",
          "05:15:00",
          "05:30:00",
          "05:45:00",
          "06:00:00",
          "06:15:00",
          "06:30:00",
          "06:45:00",
          "07:00:00",
          "07:15:00",
          "07:30:00",
          "07:45:00",
          "08:00:00",
          "08:15:00",
          "08:30:00",
          "08:45:00",
          "09:00:00",
          "09:15:00",
          "09:30:00",
          "09:45:00",
          "10:00:00",
          "10:15:00",
          "10:30:00",
          "10:45:00",
          "11:00:00",
          "11:15:00",
          "11:30:00",
          "11:45:00",
          "12:00:00",
          "12:15:00",
          "12:30:00",
          "12:45:00",
          "13:00:00",
          "13:15:00",
          "13:30:00",
          "13:45:00",
          "14:00:00",
          "14:15:00",
          "14:30:00",
          "14:45:00",
          "15:00:00",
          "15:15:00",
          "15:30:00",
          "15:45:00",
          "16:00:00",
          "16:15:00",
          "16:30:00",
          "16:45:00",
          "17:00:00",
          "17:15:00",
          "17:30:00",
          "17:45:00",
          "18:00:00",
          "18:15:00",
          "18:30:00",
          "18:45:00",
          "19:00:00",
          "19:15:00",
          "19:30:00",
          "19:45:00",
          "20:00:00",
          "20:15:00",
          "20:30:00",
          "20:45:00",
          "21:00:00",
          "21:15:00",
          "21:30:00",
          "21:45:00",
          "22:00:00",
          "22:15:00",
          "22:30:00",
          "22:45:00",
          "23:00:00",
          "23:15:00",
          "23:30:00",
          "23:45:00"
         ],
         "y": [
          0,
          0,
          0,
          0,
          0,
          0,
          0,
          0,
          0,
          0,
          0,
          0,
          0,
          0,
          0,
          0,
          0,
          0,
          0,
          0,
          0,
          0,
          1,
          1,
          1,
          0,
          1.5,
          5,
          4,
          4,
          4.5,
          4.5,
          5,
          11.5,
          27,
          36,
          36,
          36,
          36.5,
          37,
          35.5,
          31,
          36.5,
          37,
          37.5,
          38,
          38,
          12.5,
          10,
          11,
          11,
          11,
          11,
          11,
          9.5,
          15.5,
          16.5,
          18,
          18,
          18.5,
          14,
          12.5,
          14,
          14,
          14,
          9,
          3.5,
          3.5,
          11,
          25.5,
          31,
          31,
          31.5,
          31,
          30.5,
          1.5,
          1,
          1,
          1,
          1,
          1,
          1,
          0,
          0,
          0,
          0,
          0,
          0,
          0,
          0,
          0,
          0,
          0,
          0,
          0,
          0
         ]
        },
        {
         "mode": "lines+markers",
         "name": "cluster 7",
         "type": "scatter",
         "x": [
          "00:00:00",
          "00:15:00",
          "00:30:00",
          "00:45:00",
          "01:00:00",
          "01:15:00",
          "01:30:00",
          "01:45:00",
          "02:00:00",
          "02:15:00",
          "02:30:00",
          "02:45:00",
          "03:00:00",
          "03:15:00",
          "03:30:00",
          "03:45:00",
          "04:00:00",
          "04:15:00",
          "04:30:00",
          "04:45:00",
          "05:00:00",
          "05:15:00",
          "05:30:00",
          "05:45:00",
          "06:00:00",
          "06:15:00",
          "06:30:00",
          "06:45:00",
          "07:00:00",
          "07:15:00",
          "07:30:00",
          "07:45:00",
          "08:00:00",
          "08:15:00",
          "08:30:00",
          "08:45:00",
          "09:00:00",
          "09:15:00",
          "09:30:00",
          "09:45:00",
          "10:00:00",
          "10:15:00",
          "10:30:00",
          "10:45:00",
          "11:00:00",
          "11:15:00",
          "11:30:00",
          "11:45:00",
          "12:00:00",
          "12:15:00",
          "12:30:00",
          "12:45:00",
          "13:00:00",
          "13:15:00",
          "13:30:00",
          "13:45:00",
          "14:00:00",
          "14:15:00",
          "14:30:00",
          "14:45:00",
          "15:00:00",
          "15:15:00",
          "15:30:00",
          "15:45:00",
          "16:00:00",
          "16:15:00",
          "16:30:00",
          "16:45:00",
          "17:00:00",
          "17:15:00",
          "17:30:00",
          "17:45:00",
          "18:00:00",
          "18:15:00",
          "18:30:00",
          "18:45:00",
          "19:00:00",
          "19:15:00",
          "19:30:00",
          "19:45:00",
          "20:00:00",
          "20:15:00",
          "20:30:00",
          "20:45:00",
          "21:00:00",
          "21:15:00",
          "21:30:00",
          "21:45:00",
          "22:00:00",
          "22:15:00",
          "22:30:00",
          "22:45:00",
          "23:00:00",
          "23:15:00",
          "23:30:00",
          "23:45:00"
         ],
         "y": [
          0,
          0,
          0,
          0,
          0,
          0,
          0,
          0,
          0,
          0,
          0,
          0,
          0,
          0,
          0,
          0,
          0,
          0,
          0,
          0,
          0,
          0,
          0,
          0,
          0,
          0,
          0,
          0,
          0,
          0,
          0,
          0,
          0,
          0,
          0,
          0,
          0,
          0,
          0,
          0,
          0,
          0,
          0,
          0,
          0,
          0,
          0,
          0,
          0,
          0,
          0,
          0,
          0,
          0,
          0,
          0,
          0,
          0,
          0,
          0,
          0,
          0,
          0,
          0,
          0,
          0,
          0,
          0,
          0,
          0,
          0,
          0,
          0,
          0,
          0,
          0,
          0,
          0,
          0,
          0,
          0,
          0,
          0,
          0,
          0,
          0,
          0,
          0,
          0,
          0,
          0,
          0,
          0,
          0,
          0,
          0
         ]
        },
        {
         "mode": "lines+markers",
         "name": "cluster 8",
         "type": "scatter",
         "x": [
          "00:00:00",
          "00:15:00",
          "00:30:00",
          "00:45:00",
          "01:00:00",
          "01:15:00",
          "01:30:00",
          "01:45:00",
          "02:00:00",
          "02:15:00",
          "02:30:00",
          "02:45:00",
          "03:00:00",
          "03:15:00",
          "03:30:00",
          "03:45:00",
          "04:00:00",
          "04:15:00",
          "04:30:00",
          "04:45:00",
          "05:00:00",
          "05:15:00",
          "05:30:00",
          "05:45:00",
          "06:00:00",
          "06:15:00",
          "06:30:00",
          "06:45:00",
          "07:00:00",
          "07:15:00",
          "07:30:00",
          "07:45:00",
          "08:00:00",
          "08:15:00",
          "08:30:00",
          "08:45:00",
          "09:00:00",
          "09:15:00",
          "09:30:00",
          "09:45:00",
          "10:00:00",
          "10:15:00",
          "10:30:00",
          "10:45:00",
          "11:00:00",
          "11:15:00",
          "11:30:00",
          "11:45:00",
          "12:00:00",
          "12:15:00",
          "12:30:00",
          "12:45:00",
          "13:00:00",
          "13:15:00",
          "13:30:00",
          "13:45:00",
          "14:00:00",
          "14:15:00",
          "14:30:00",
          "14:45:00",
          "15:00:00",
          "15:15:00",
          "15:30:00",
          "15:45:00",
          "16:00:00",
          "16:15:00",
          "16:30:00",
          "16:45:00",
          "17:00:00",
          "17:15:00",
          "17:30:00",
          "17:45:00",
          "18:00:00",
          "18:15:00",
          "18:30:00",
          "18:45:00",
          "19:00:00",
          "19:15:00",
          "19:30:00",
          "19:45:00",
          "20:00:00",
          "20:15:00",
          "20:30:00",
          "20:45:00",
          "21:00:00",
          "21:15:00",
          "21:30:00",
          "21:45:00",
          "22:00:00",
          "22:15:00",
          "22:30:00",
          "22:45:00",
          "23:00:00",
          "23:15:00",
          "23:30:00",
          "23:45:00"
         ],
         "y": [
          0,
          0,
          0,
          0,
          0,
          0,
          0,
          0,
          0,
          0,
          0,
          0,
          0,
          0,
          0,
          0,
          0,
          0,
          0,
          0,
          0,
          0,
          1,
          1,
          1.5,
          0,
          0,
          0,
          0,
          0,
          0,
          0.5,
          2,
          6,
          23.5,
          27.5,
          28.5,
          28.5,
          27.5,
          27,
          26.5,
          22,
          22.5,
          21.5,
          12.5,
          9,
          5.5,
          5.5,
          5,
          6,
          7,
          6,
          7.5,
          13,
          47.5,
          85,
          88.5,
          68.5,
          24,
          21.5,
          20.5,
          8.5,
          14.5,
          15,
          14.5,
          15,
          14.5,
          3,
          1,
          1,
          1,
          1,
          1,
          1,
          1,
          1,
          1,
          1,
          1,
          1.5,
          1.5,
          1.5,
          1.5,
          1,
          1,
          1,
          1,
          1,
          1,
          1,
          0.5,
          0,
          0,
          0,
          0,
          0
         ]
        }
       ],
       "layout": {
        "template": {
         "data": {
          "bar": [
           {
            "error_x": {
             "color": "#2a3f5f"
            },
            "error_y": {
             "color": "#2a3f5f"
            },
            "marker": {
             "line": {
              "color": "#E5ECF6",
              "width": 0.5
             },
             "pattern": {
              "fillmode": "overlay",
              "size": 10,
              "solidity": 0.2
             }
            },
            "type": "bar"
           }
          ],
          "barpolar": [
           {
            "marker": {
             "line": {
              "color": "#E5ECF6",
              "width": 0.5
             },
             "pattern": {
              "fillmode": "overlay",
              "size": 10,
              "solidity": 0.2
             }
            },
            "type": "barpolar"
           }
          ],
          "carpet": [
           {
            "aaxis": {
             "endlinecolor": "#2a3f5f",
             "gridcolor": "white",
             "linecolor": "white",
             "minorgridcolor": "white",
             "startlinecolor": "#2a3f5f"
            },
            "baxis": {
             "endlinecolor": "#2a3f5f",
             "gridcolor": "white",
             "linecolor": "white",
             "minorgridcolor": "white",
             "startlinecolor": "#2a3f5f"
            },
            "type": "carpet"
           }
          ],
          "choropleth": [
           {
            "colorbar": {
             "outlinewidth": 0,
             "ticks": ""
            },
            "type": "choropleth"
           }
          ],
          "contour": [
           {
            "colorbar": {
             "outlinewidth": 0,
             "ticks": ""
            },
            "colorscale": [
             [
              0,
              "#0d0887"
             ],
             [
              0.1111111111111111,
              "#46039f"
             ],
             [
              0.2222222222222222,
              "#7201a8"
             ],
             [
              0.3333333333333333,
              "#9c179e"
             ],
             [
              0.4444444444444444,
              "#bd3786"
             ],
             [
              0.5555555555555556,
              "#d8576b"
             ],
             [
              0.6666666666666666,
              "#ed7953"
             ],
             [
              0.7777777777777778,
              "#fb9f3a"
             ],
             [
              0.8888888888888888,
              "#fdca26"
             ],
             [
              1,
              "#f0f921"
             ]
            ],
            "type": "contour"
           }
          ],
          "contourcarpet": [
           {
            "colorbar": {
             "outlinewidth": 0,
             "ticks": ""
            },
            "type": "contourcarpet"
           }
          ],
          "heatmap": [
           {
            "colorbar": {
             "outlinewidth": 0,
             "ticks": ""
            },
            "colorscale": [
             [
              0,
              "#0d0887"
             ],
             [
              0.1111111111111111,
              "#46039f"
             ],
             [
              0.2222222222222222,
              "#7201a8"
             ],
             [
              0.3333333333333333,
              "#9c179e"
             ],
             [
              0.4444444444444444,
              "#bd3786"
             ],
             [
              0.5555555555555556,
              "#d8576b"
             ],
             [
              0.6666666666666666,
              "#ed7953"
             ],
             [
              0.7777777777777778,
              "#fb9f3a"
             ],
             [
              0.8888888888888888,
              "#fdca26"
             ],
             [
              1,
              "#f0f921"
             ]
            ],
            "type": "heatmap"
           }
          ],
          "heatmapgl": [
           {
            "colorbar": {
             "outlinewidth": 0,
             "ticks": ""
            },
            "colorscale": [
             [
              0,
              "#0d0887"
             ],
             [
              0.1111111111111111,
              "#46039f"
             ],
             [
              0.2222222222222222,
              "#7201a8"
             ],
             [
              0.3333333333333333,
              "#9c179e"
             ],
             [
              0.4444444444444444,
              "#bd3786"
             ],
             [
              0.5555555555555556,
              "#d8576b"
             ],
             [
              0.6666666666666666,
              "#ed7953"
             ],
             [
              0.7777777777777778,
              "#fb9f3a"
             ],
             [
              0.8888888888888888,
              "#fdca26"
             ],
             [
              1,
              "#f0f921"
             ]
            ],
            "type": "heatmapgl"
           }
          ],
          "histogram": [
           {
            "marker": {
             "pattern": {
              "fillmode": "overlay",
              "size": 10,
              "solidity": 0.2
             }
            },
            "type": "histogram"
           }
          ],
          "histogram2d": [
           {
            "colorbar": {
             "outlinewidth": 0,
             "ticks": ""
            },
            "colorscale": [
             [
              0,
              "#0d0887"
             ],
             [
              0.1111111111111111,
              "#46039f"
             ],
             [
              0.2222222222222222,
              "#7201a8"
             ],
             [
              0.3333333333333333,
              "#9c179e"
             ],
             [
              0.4444444444444444,
              "#bd3786"
             ],
             [
              0.5555555555555556,
              "#d8576b"
             ],
             [
              0.6666666666666666,
              "#ed7953"
             ],
             [
              0.7777777777777778,
              "#fb9f3a"
             ],
             [
              0.8888888888888888,
              "#fdca26"
             ],
             [
              1,
              "#f0f921"
             ]
            ],
            "type": "histogram2d"
           }
          ],
          "histogram2dcontour": [
           {
            "colorbar": {
             "outlinewidth": 0,
             "ticks": ""
            },
            "colorscale": [
             [
              0,
              "#0d0887"
             ],
             [
              0.1111111111111111,
              "#46039f"
             ],
             [
              0.2222222222222222,
              "#7201a8"
             ],
             [
              0.3333333333333333,
              "#9c179e"
             ],
             [
              0.4444444444444444,
              "#bd3786"
             ],
             [
              0.5555555555555556,
              "#d8576b"
             ],
             [
              0.6666666666666666,
              "#ed7953"
             ],
             [
              0.7777777777777778,
              "#fb9f3a"
             ],
             [
              0.8888888888888888,
              "#fdca26"
             ],
             [
              1,
              "#f0f921"
             ]
            ],
            "type": "histogram2dcontour"
           }
          ],
          "mesh3d": [
           {
            "colorbar": {
             "outlinewidth": 0,
             "ticks": ""
            },
            "type": "mesh3d"
           }
          ],
          "parcoords": [
           {
            "line": {
             "colorbar": {
              "outlinewidth": 0,
              "ticks": ""
             }
            },
            "type": "parcoords"
           }
          ],
          "pie": [
           {
            "automargin": true,
            "type": "pie"
           }
          ],
          "scatter": [
           {
            "fillpattern": {
             "fillmode": "overlay",
             "size": 10,
             "solidity": 0.2
            },
            "type": "scatter"
           }
          ],
          "scatter3d": [
           {
            "line": {
             "colorbar": {
              "outlinewidth": 0,
              "ticks": ""
             }
            },
            "marker": {
             "colorbar": {
              "outlinewidth": 0,
              "ticks": ""
             }
            },
            "type": "scatter3d"
           }
          ],
          "scattercarpet": [
           {
            "marker": {
             "colorbar": {
              "outlinewidth": 0,
              "ticks": ""
             }
            },
            "type": "scattercarpet"
           }
          ],
          "scattergeo": [
           {
            "marker": {
             "colorbar": {
              "outlinewidth": 0,
              "ticks": ""
             }
            },
            "type": "scattergeo"
           }
          ],
          "scattergl": [
           {
            "marker": {
             "colorbar": {
              "outlinewidth": 0,
              "ticks": ""
             }
            },
            "type": "scattergl"
           }
          ],
          "scattermapbox": [
           {
            "marker": {
             "colorbar": {
              "outlinewidth": 0,
              "ticks": ""
             }
            },
            "type": "scattermapbox"
           }
          ],
          "scatterpolar": [
           {
            "marker": {
             "colorbar": {
              "outlinewidth": 0,
              "ticks": ""
             }
            },
            "type": "scatterpolar"
           }
          ],
          "scatterpolargl": [
           {
            "marker": {
             "colorbar": {
              "outlinewidth": 0,
              "ticks": ""
             }
            },
            "type": "scatterpolargl"
           }
          ],
          "scatterternary": [
           {
            "marker": {
             "colorbar": {
              "outlinewidth": 0,
              "ticks": ""
             }
            },
            "type": "scatterternary"
           }
          ],
          "surface": [
           {
            "colorbar": {
             "outlinewidth": 0,
             "ticks": ""
            },
            "colorscale": [
             [
              0,
              "#0d0887"
             ],
             [
              0.1111111111111111,
              "#46039f"
             ],
             [
              0.2222222222222222,
              "#7201a8"
             ],
             [
              0.3333333333333333,
              "#9c179e"
             ],
             [
              0.4444444444444444,
              "#bd3786"
             ],
             [
              0.5555555555555556,
              "#d8576b"
             ],
             [
              0.6666666666666666,
              "#ed7953"
             ],
             [
              0.7777777777777778,
              "#fb9f3a"
             ],
             [
              0.8888888888888888,
              "#fdca26"
             ],
             [
              1,
              "#f0f921"
             ]
            ],
            "type": "surface"
           }
          ],
          "table": [
           {
            "cells": {
             "fill": {
              "color": "#EBF0F8"
             },
             "line": {
              "color": "white"
             }
            },
            "header": {
             "fill": {
              "color": "#C8D4E3"
             },
             "line": {
              "color": "white"
             }
            },
            "type": "table"
           }
          ]
         },
         "layout": {
          "annotationdefaults": {
           "arrowcolor": "#2a3f5f",
           "arrowhead": 0,
           "arrowwidth": 1
          },
          "autotypenumbers": "strict",
          "coloraxis": {
           "colorbar": {
            "outlinewidth": 0,
            "ticks": ""
           }
          },
          "colorscale": {
           "diverging": [
            [
             0,
             "#8e0152"
            ],
            [
             0.1,
             "#c51b7d"
            ],
            [
             0.2,
             "#de77ae"
            ],
            [
             0.3,
             "#f1b6da"
            ],
            [
             0.4,
             "#fde0ef"
            ],
            [
             0.5,
             "#f7f7f7"
            ],
            [
             0.6,
             "#e6f5d0"
            ],
            [
             0.7,
             "#b8e186"
            ],
            [
             0.8,
             "#7fbc41"
            ],
            [
             0.9,
             "#4d9221"
            ],
            [
             1,
             "#276419"
            ]
           ],
           "sequential": [
            [
             0,
             "#0d0887"
            ],
            [
             0.1111111111111111,
             "#46039f"
            ],
            [
             0.2222222222222222,
             "#7201a8"
            ],
            [
             0.3333333333333333,
             "#9c179e"
            ],
            [
             0.4444444444444444,
             "#bd3786"
            ],
            [
             0.5555555555555556,
             "#d8576b"
            ],
            [
             0.6666666666666666,
             "#ed7953"
            ],
            [
             0.7777777777777778,
             "#fb9f3a"
            ],
            [
             0.8888888888888888,
             "#fdca26"
            ],
            [
             1,
             "#f0f921"
            ]
           ],
           "sequentialminus": [
            [
             0,
             "#0d0887"
            ],
            [
             0.1111111111111111,
             "#46039f"
            ],
            [
             0.2222222222222222,
             "#7201a8"
            ],
            [
             0.3333333333333333,
             "#9c179e"
            ],
            [
             0.4444444444444444,
             "#bd3786"
            ],
            [
             0.5555555555555556,
             "#d8576b"
            ],
            [
             0.6666666666666666,
             "#ed7953"
            ],
            [
             0.7777777777777778,
             "#fb9f3a"
            ],
            [
             0.8888888888888888,
             "#fdca26"
            ],
            [
             1,
             "#f0f921"
            ]
           ]
          },
          "colorway": [
           "#636efa",
           "#EF553B",
           "#00cc96",
           "#ab63fa",
           "#FFA15A",
           "#19d3f3",
           "#FF6692",
           "#B6E880",
           "#FF97FF",
           "#FECB52"
          ],
          "font": {
           "color": "#2a3f5f"
          },
          "geo": {
           "bgcolor": "white",
           "lakecolor": "white",
           "landcolor": "#E5ECF6",
           "showlakes": true,
           "showland": true,
           "subunitcolor": "white"
          },
          "hoverlabel": {
           "align": "left"
          },
          "hovermode": "closest",
          "mapbox": {
           "style": "light"
          },
          "paper_bgcolor": "white",
          "plot_bgcolor": "#E5ECF6",
          "polar": {
           "angularaxis": {
            "gridcolor": "white",
            "linecolor": "white",
            "ticks": ""
           },
           "bgcolor": "#E5ECF6",
           "radialaxis": {
            "gridcolor": "white",
            "linecolor": "white",
            "ticks": ""
           }
          },
          "scene": {
           "xaxis": {
            "backgroundcolor": "#E5ECF6",
            "gridcolor": "white",
            "gridwidth": 2,
            "linecolor": "white",
            "showbackground": true,
            "ticks": "",
            "zerolinecolor": "white"
           },
           "yaxis": {
            "backgroundcolor": "#E5ECF6",
            "gridcolor": "white",
            "gridwidth": 2,
            "linecolor": "white",
            "showbackground": true,
            "ticks": "",
            "zerolinecolor": "white"
           },
           "zaxis": {
            "backgroundcolor": "#E5ECF6",
            "gridcolor": "white",
            "gridwidth": 2,
            "linecolor": "white",
            "showbackground": true,
            "ticks": "",
            "zerolinecolor": "white"
           }
          },
          "shapedefaults": {
           "line": {
            "color": "#2a3f5f"
           }
          },
          "ternary": {
           "aaxis": {
            "gridcolor": "white",
            "linecolor": "white",
            "ticks": ""
           },
           "baxis": {
            "gridcolor": "white",
            "linecolor": "white",
            "ticks": ""
           },
           "bgcolor": "#E5ECF6",
           "caxis": {
            "gridcolor": "white",
            "linecolor": "white",
            "ticks": ""
           }
          },
          "title": {
           "x": 0.05
          },
          "xaxis": {
           "automargin": true,
           "gridcolor": "white",
           "linecolor": "white",
           "ticks": "",
           "title": {
            "standoff": 15
           },
           "zerolinecolor": "white",
           "zerolinewidth": 2
          },
          "yaxis": {
           "automargin": true,
           "gridcolor": "white",
           "linecolor": "white",
           "ticks": "",
           "title": {
            "standoff": 15
           },
           "zerolinecolor": "white",
           "zerolinewidth": 2
          }
         }
        }
       }
      }
     },
     "metadata": {},
     "output_type": "display_data"
    },
    {
     "name": "stdout",
     "output_type": "stream",
     "text": [
      "BDI: 0.8087909444389905\n"
     ]
    }
   ],
   "source": [
    "# test optimal configuration\n",
    "optimal_params = combinations[61][1]\n",
    "print(optimal_params, optimal_params[\"distance_metric\"].get_type(), optimal_params[\"distance_metric\"].get_function())\n",
    "\n",
    "# sklearn\n",
    "#clustering_model = KMeans(**optimal_params)\n",
    "#clustering_model.fit(cluster_data)\n",
    "#n_clusters = len(clustering_model.cluster_centers_)\n",
    "\n",
    "initial_centers = kmeans_plusplus_initializer(cluster_data, optimal_params[\"n_clusters\"]).initialize()\n",
    "#clustering_model = kmeans(cluster_data, initial_centers, distance_metric=optimal_params[\"distance_metric\"])\n",
    "clustering_model = kmedians(cluster_data, initial_centers, distance_metric=params[\"distance_metric\"])\n",
    "clustering_model.process()\n",
    "\n",
    "cluster_indices = clustering_model.get_clusters()\n",
    "n_clusters = len(cluster_indices)\n",
    "cluster_labels = np.empty(len(cluster_data))\n",
    "for i, cluster in enumerate(cluster_indices):\n",
    "    cluster_labels[cluster] = i\n",
    "\n",
    "score = davies_bouldin_score(cluster_data, cluster_labels)\n",
    "            \n",
    "print(f\"Number of clusters: {n_clusters}\")\n",
    "    \n",
    "#cluster_center = clustering_model.cluster_centers_[i]\n",
    "#cluster_centers = clustering_model.get_means()\n",
    "cluster_centers = clustering_model.get_medians()\n",
    "\n",
    "plot_cluster_centers(n_clusters, cluster_centers, times).show()\n",
    "\n",
    "print(f\"BDI: {score}\")"
   ]
  },
  {
   "cell_type": "markdown",
   "metadata": {},
   "source": [
    "kmeans:\n",
    "\n",
    "{'n_clusters': 14, 'distance_metric': <pyclustering.utils.metric.distance_metric object at 0x7acf4f19fc20>}\n",
    "Number of clusters: 14\n",
    "BDI: 0.803127753888182\n"
   ]
  },
  {
   "cell_type": "markdown",
   "metadata": {},
   "source": [
    "# Analyize cluster info\n",
    "\n",
    "For inspiration of quantities to derive look at PRECount paper"
   ]
  },
  {
   "cell_type": "code",
   "execution_count": null,
   "metadata": {},
   "outputs": [],
   "source": [
    "def filter_by_date(dataframe, time_column, date):\n",
    "    return dataframe[dataframe[time_column].dt.date == date]\n",
    "\n",
    "def number_courses(dataframe, date):\n",
    "    courses_of_day = filter_by_date(dataframe, \"start_time\", date)\n",
    "    return len(courses_of_day)\n",
    "\n",
    "def number_exams(dataframe, date):\n",
    "    courses_of_day = filter_by_date(dataframe, \"start_time\", date)\n",
    "    return sum(courses_of_day[\"exam\"] == 1)\n",
    "\n",
    "def derive_weekend(dataframe, date_column):\n",
    "    dataframe[\"weekend\"] = dataframe[date_column].apply(lambda x: x.weekday()) >= 5\n",
    "    return dataframe\n",
    "\n",
    "national_holidays_2024 = [\n",
    "    datetime.strptime('01/01/2024', '%m/%d/%Y').date(),  # Neujahr\n",
    "    datetime.strptime('01/06/2024', '%m/%d/%Y').date(),  # Heilige Drei Könige\n",
    "    datetime.strptime('04/01/2024', '%m/%d/%Y').date(),  # Ostermontag\n",
    "    datetime.strptime('05/01/2024', '%m/%d/%Y').date(),  # Staatsfeiertag\n",
    "    datetime.strptime('05/09/2024', '%m/%d/%Y').date(),  # Christi Himmelfahrt\n",
    "    datetime.strptime('05/20/2024', '%m/%d/%Y').date(),  # Pfingstmontag\n",
    "    datetime.strptime('05/30/2024', '%m/%d/%Y').date(),  # Fronleichnam\n",
    "    datetime.strptime('08/15/2024', '%m/%d/%Y').date(),  # Mariä Himmelfahrt\n",
    "    datetime.strptime('10/26/2024', '%m/%d/%Y').date(),  # Nationalfeiertag\n",
    "    datetime.strptime('11/01/2024', '%m/%d/%Y').date(),  # Allerheiligen\n",
    "    datetime.strptime('12/08/2024', '%m/%d/%Y').date(),  # Mariä Empfängnis\n",
    "    datetime.strptime('12/25/2024', '%m/%d/%Y').date(),  # Christtag\n",
    "    datetime.strptime('12/26/2024', '%m/%d/%Y').date(),  # Stefanitag\n",
    "]\n",
    "\n",
    "university_holidays_2024 = [\n",
    "    # 18.05.2024\n",
    "    datetime.strptime('05/18/2024', '%m/%d/%Y').date(),\n",
    "    # 21.05.2024\n",
    "    datetime.strptime('05/21/2024', '%m/%d/%Y').date(),\n",
    "    # 04.05.2024\n",
    "    datetime.strptime('05/04/2024', '%m/%d/%Y').date(),\n",
    "    # 31.05.2024\n",
    "    datetime.strptime('05/31/2024', '%m/%d/%Y').date(),\n",
    "]\n",
    "\n",
    "zwickeltage_2024 = [\n",
    "    # 10.05.2024\n",
    "    datetime.strptime('05/10/2024', '%m/%d/%Y').date(),\n",
    "    # 31.05.2024\n",
    "    datetime.strptime('05/31/2024', '%m/%d/%Y').date(),\n",
    "    # 16.08.2024\n",
    "    datetime.strptime('08/16/2024', '%m/%d/%Y').date(),\n",
    "]\n",
    "\n",
    "easter_break_2024 = [\n",
    "    # easter break: 25.03.2024 - 06.04.2024\n",
    "    datetime.strptime('03/25/2024', '%m/%d/%Y').date(),\n",
    "    datetime.strptime('04/06/2024', '%m/%d/%Y').date(),]\n",
    "summer_break_2024 = [\n",
    "    # summer break: 1.07.2024 - 30.09.2024\n",
    "    datetime.strptime('07/29/2024', '%m/%d/%Y').date(),\n",
    "    datetime.strptime('09/09/2024', '%m/%d/%Y').date(),\n",
    "]\n",
    "def calculate_break_dates(break_dates):\n",
    "    break_days = []\n",
    "    num_dates = (break_dates[1] - break_dates[0]).days + 1\n",
    "    for i in range(num_dates):\n",
    "        break_days.append((break_dates[0] + DateOffset(days=i)).date())\n",
    "        \n",
    "    return break_days\n",
    "\n",
    "easter_break_2024 = calculate_break_dates(easter_break_2024)\n",
    "\n",
    "summer_break_2024 = calculate_break_dates(summer_break_2024)\n",
    "\n",
    "\n",
    "\n",
    "def derive_number_exams(dataframe, date_column):\n",
    "    dataframe[\"number_exams\"] = dataframe[date_column].apply(lambda x: number_exams(course_dates_data, x))\n",
    "    return dataframe\n",
    "\n",
    "def derive_number_courses(dataframe, date_column):\n",
    "    dataframe[\"number_courses\"] = dataframe[date_column].apply(lambda x: number_courses(course_dates_data, x))\n",
    "    return dataframe\n",
    "\n",
    "def derive_holiday(dataframe, holiday_dates, date_column, out_column):\n",
    "    dataframe[out_column] = dataframe[date_column].isin(holiday_dates)\n",
    "    return dataframe"
   ]
  },
  {
   "cell_type": "code",
   "execution_count": null,
   "metadata": {},
   "outputs": [],
   "source": [
    "def enrich_cluster_infos(cluster_infos):\n",
    "    cluster_infos = derive_number_courses(cluster_infos, \"day\")\n",
    "    cluster_infos = derive_number_exams(cluster_infos, \"day\")\n",
    "\n",
    "    cluster_infos = derive_weekend(cluster_infos, \"day\")\n",
    "\n",
    "    cluster_infos = derive_holiday(cluster_infos, zwickeltage_2024, \"day\", \"zwickltag\")\n",
    "    cluster_infos = derive_holiday(cluster_infos, national_holidays_2024 + university_holidays_2024, \"day\", \"holiday\")\n",
    "\n",
    "    cluster_infos = derive_holiday(cluster_infos, easter_break_2024 + summer_break_2024, \"day\", \"break\")\n",
    "    \n",
    "    return cluster_infos"
   ]
  },
  {
   "cell_type": "code",
   "execution_count": null,
   "metadata": {},
   "outputs": [
    {
     "name": "stdout",
     "output_type": "stream",
     "text": [
      "###################\n",
      "   weekday weekday_name week         day  number_courses  number_exams  weekend  zwickltag  holiday  break\n",
      "5        5     Saturday   15  2024-04-13               1             0     True      False    False  False\n",
      "10       3     Thursday   16  2024-04-18               5             0    False      False    False  False\n",
      "17       3     Thursday   17  2024-04-25               4             0    False      False    False  False\n",
      "18       4       Friday   17  2024-04-26               1             1    False      False    False  False\n",
      "24       3     Thursday   18  2024-05-02               4             0    False      False    False  False\n",
      "28       0       Monday   19  2024-05-06               5             0    False      False    False  False\n",
      "37       2    Wednesday   20  2024-05-15               5             0    False      False    False  False\n",
      "38       3     Thursday   20  2024-05-16               4             0    False      False    False  False\n",
      "44       2    Wednesday   21  2024-05-22               5             0    False      False    False  False\n",
      "45       3     Thursday   21  2024-05-23               7             0    False      False    False  False\n",
      "50       1      Tuesday   22  2024-05-28               3             0    False      False    False  False\n",
      "58       2    Wednesday   23  2024-06-05               4             0    False      False    False  False\n",
      "59       3     Thursday   23  2024-06-06               5             1    False      False    False  False\n",
      "64       1      Tuesday   24  2024-06-11               4             0    False      False    False  False\n",
      "66       3     Thursday   24  2024-06-13               3             0    False      False    False  False\n",
      "67       4       Friday   24  2024-06-14               1             0    False      False    False  False\n",
      "72       2    Wednesday   25  2024-06-19               5             0    False      False    False  False\n",
      "73       3     Thursday   25  2024-06-20               3             0    False      False    False  False\n",
      "###################\n",
      "\n",
      "###################\n",
      "   weekday weekday_name week         day  number_courses  number_exams  weekend  zwickltag  holiday  break\n",
      "0        0       Monday   15  2024-04-08               4             0    False      False    False  False\n",
      "4        4       Friday   15  2024-04-12               2             0    False      False    False  False\n",
      "7        0       Monday   16  2024-04-15               5             0    False      False    False  False\n",
      "11       4       Friday   16  2024-04-19               2             0    False      False    False  False\n",
      "14       0       Monday   17  2024-04-22               3             0    False      False    False  False\n",
      "21       0       Monday   18  2024-04-29               4             1    False      False    False  False\n",
      "35       0       Monday   20  2024-05-13               4             0    False      False    False  False\n",
      "49       0       Monday   22  2024-05-27               6             2    False      False    False  False\n",
      "56       0       Monday   23  2024-06-03               4             0    False      False    False  False\n",
      "63       0       Monday   24  2024-06-10               4             0    False      False    False  False\n",
      "81       4       Friday   26  2024-06-28               7             0    False      False    False  False\n",
      "###################\n",
      "\n",
      "###################\n",
      "   weekday weekday_name week         day  number_courses  number_exams  weekend  zwickltag  holiday  break\n",
      "6        6       Sunday   15  2024-04-14               0             0     True      False    False  False\n",
      "12       5     Saturday   16  2024-04-20               0             0     True      False    False  False\n",
      "13       6       Sunday   16  2024-04-21               0             0     True      False    False  False\n",
      "19       5     Saturday   17  2024-04-27               0             0     True      False    False  False\n",
      "20       6       Sunday   17  2024-04-28               0             0     True      False    False  False\n",
      "23       2    Wednesday   18  2024-05-01               0             0    False      False     True  False\n",
      "25       4       Friday   18  2024-05-03               1             0    False      False    False  False\n",
      "26       5     Saturday   18  2024-05-04               0             0     True      False     True  False\n",
      "27       6       Sunday   18  2024-05-05               0             0     True      False    False  False\n",
      "31       3     Thursday   19  2024-05-09               0             0    False      False     True  False\n",
      "32       4       Friday   19  2024-05-10               0             0    False       True    False  False\n",
      "33       5     Saturday   19  2024-05-11               0             0     True      False    False  False\n",
      "34       6       Sunday   19  2024-05-12               0             0     True      False    False  False\n",
      "40       5     Saturday   20  2024-05-18               0             0     True      False     True  False\n",
      "41       6       Sunday   20  2024-05-19               0             0     True      False    False  False\n",
      "42       0       Monday   21  2024-05-20               0             0    False      False     True  False\n",
      "43       1      Tuesday   21  2024-05-21               1             1    False      False     True  False\n",
      "46       4       Friday   21  2024-05-24               0             0    False      False    False  False\n",
      "47       5     Saturday   21  2024-05-25               0             0     True      False    False  False\n",
      "48       6       Sunday   21  2024-05-26               0             0     True      False    False  False\n",
      "52       3     Thursday   22  2024-05-30               0             0    False      False     True  False\n",
      "53       4       Friday   22  2024-05-31               0             0    False       True     True  False\n",
      "54       5     Saturday   22  2024-06-01               0             0     True      False    False  False\n",
      "55       6       Sunday   22  2024-06-02               0             0     True      False    False  False\n",
      "60       4       Friday   23  2024-06-07               0             0    False      False    False  False\n",
      "61       5     Saturday   23  2024-06-08               0             0     True      False    False  False\n",
      "62       6       Sunday   23  2024-06-09               0             0     True      False    False  False\n",
      "68       5     Saturday   24  2024-06-15               0             0     True      False    False  False\n",
      "69       6       Sunday   24  2024-06-16               0             0     True      False    False  False\n",
      "74       4       Friday   25  2024-06-21               0             0    False      False    False  False\n",
      "75       5     Saturday   25  2024-06-22               0             0     True      False    False  False\n",
      "76       6       Sunday   25  2024-06-23               0             0     True      False    False  False\n",
      "77       0       Monday   26  2024-06-24               2             1    False      False    False  False\n",
      "###################\n",
      "\n",
      "###################\n",
      "   weekday weekday_name week         day  number_courses  number_exams  weekend  zwickltag  holiday  break\n",
      "78       1      Tuesday   26  2024-06-25               5             4    False      False    False  False\n",
      "###################\n",
      "\n",
      "###################\n",
      "   weekday weekday_name week         day  number_courses  number_exams  weekend  zwickltag  holiday  break\n",
      "1        1      Tuesday   15  2024-04-09               5             0    False      False    False  False\n",
      "15       1      Tuesday   17  2024-04-23               5             0    False      False    False  False\n",
      "29       1      Tuesday   19  2024-05-07               5             1    False      False    False  False\n",
      "36       1      Tuesday   20  2024-05-14               5             0    False      False    False  False\n",
      "71       1      Tuesday   25  2024-06-18               5             0    False      False    False  False\n",
      "###################\n",
      "\n",
      "###################\n",
      "   weekday weekday_name week         day  number_courses  number_exams  weekend  zwickltag  holiday  break\n",
      "22       1      Tuesday   18  2024-04-30               2             1    False      False    False  False\n",
      "79       2    Wednesday   26  2024-06-26               5             3    False      False    False  False\n",
      "###################\n",
      "\n",
      "###################\n",
      "   weekday weekday_name week         day  number_courses  number_exams  weekend  zwickltag  holiday  break\n",
      "2        2    Wednesday   15  2024-04-10               9             0    False      False    False  False\n",
      "3        3     Thursday   15  2024-04-11               5             0    False      False    False  False\n",
      "8        1      Tuesday   16  2024-04-16               4             0    False      False    False  False\n",
      "9        2    Wednesday   16  2024-04-17               9             0    False      False    False  False\n",
      "16       2    Wednesday   17  2024-04-24               9             0    False      False    False  False\n",
      "30       2    Wednesday   19  2024-05-08               9             0    False      False    False  False\n",
      "51       2    Wednesday   22  2024-05-29               8             0    False      False    False  False\n",
      "57       1      Tuesday   23  2024-06-04               4             0    False      False    False  False\n",
      "65       2    Wednesday   24  2024-06-12               5             0    False      False    False  False\n",
      "###################\n",
      "\n",
      "###################\n",
      "   weekday weekday_name week         day  number_courses  number_exams  weekend  zwickltag  holiday  break\n",
      "39       4       Friday   20  2024-05-17               1             0    False      False    False  False\n",
      "70       0       Monday   25  2024-06-17               4             1    False      False    False  False\n",
      "###################\n",
      "\n",
      "###################\n",
      "   weekday weekday_name week         day  number_courses  number_exams  weekend  zwickltag  holiday  break\n",
      "80       3     Thursday   26  2024-06-27               5             2    False      False    False  False\n",
      "###################\n",
      "\n"
     ]
    }
   ],
   "source": [
    "indices = np.arange(len(occupancy_counts))\n",
    "\n",
    "for i in range(n_clusters):  \n",
    "    \n",
    "    cluster_indices = indices[cluster_labels == i]\n",
    "\n",
    "    cluster_infos = sample_info[cluster_indices]\n",
    "\n",
    "\n",
    "    cluster_infos = pd.DataFrame(cluster_infos, index=cluster_indices, columns=[\"weekday\", \"weekday_name\", \"week\", \"day\"])\n",
    "\n",
    "    cluster_infos = enrich_cluster_infos(cluster_infos)\n",
    "    \n",
    "    print(\"###################\")\n",
    "    print(cluster_infos.to_string())\n",
    "    print(\"###################\")\n",
    "    print()"
   ]
  },
  {
   "cell_type": "code",
   "execution_count": null,
   "metadata": {},
   "outputs": [],
   "source": [
    "# derive the actual courses -> based on start_time \n",
    "# E.g.: if a day had a course at 8:30 or not and so on\n",
    "\n"
   ]
  },
  {
   "cell_type": "code",
   "execution_count": null,
   "metadata": {},
   "outputs": [],
   "source": [
    "# try to cluster the results based on the stuff that happened on that day with decision tree\n",
    "from sklearn.tree import DecisionTreeClassifier\n",
    "\n",
    "# clusters are the labels\n",
    "# cluster_infos are the features\n",
    "\n"
   ]
  },
  {
   "cell_type": "markdown",
   "metadata": {},
   "source": [
    "Distance metrics:\n",
    "\n",
    "* Euclidean\n",
    "* Correlation Similarity\n",
    "* Dynamic Time Warp\n",
    "\n"
   ]
  },
  {
   "cell_type": "code",
   "execution_count": null,
   "metadata": {},
   "outputs": [
    {
     "name": "stderr",
     "output_type": "stream",
     "text": [
      "100%|██████████| 13/13 [00:00<00:00, 173.83it/s]\n",
      "100%|██████████| 13/13 [00:00<00:00, 205.20it/s]\n",
      "100%|██████████| 13/13 [00:00<00:00, 216.19it/s]\n",
      "100%|██████████| 13/13 [00:00<00:00, 213.46it/s]\n",
      "100%|██████████| 13/13 [00:00<00:00, 220.68it/s]\n",
      "100%|██████████| 13/13 [00:00<00:00, 215.89it/s]\n",
      "100%|██████████| 13/13 [00:00<00:00, 207.94it/s]\n",
      "100%|██████████| 13/13 [00:00<00:00, 228.66it/s]\n",
      "100%|██████████| 13/13 [00:00<00:00, 207.91it/s]\n",
      "100%|██████████| 13/13 [00:00<00:00, 226.86it/s]\n",
      "100%|██████████| 13/13 [00:00<00:00, 214.89it/s]\n",
      "100%|██████████| 13/13 [00:00<00:00, 192.30it/s]\n",
      "100%|██████████| 13/13 [00:00<00:00, 175.55it/s]\n",
      "100%|██████████| 13/13 [00:00<00:00, 183.42it/s]\n",
      "100%|██████████| 13/13 [00:00<00:00, 195.83it/s]\n",
      "100%|██████████| 13/13 [00:00<00:00, 198.38it/s]\n",
      "100%|██████████| 13/13 [00:00<00:00, 218.31it/s]\n",
      "100%|██████████| 13/13 [00:00<00:00, 199.39it/s]\n",
      "100%|██████████| 13/13 [00:00<00:00, 191.40it/s]\n",
      "100%|██████████| 13/13 [00:00<00:00, 207.27it/s]\n",
      "100%|██████████| 13/13 [00:00<00:00, 202.71it/s]\n",
      "100%|██████████| 13/13 [00:00<00:00, 184.20it/s]\n",
      "100%|██████████| 13/13 [00:00<00:00, 201.92it/s]\n",
      "100%|██████████| 13/13 [00:00<00:00, 224.01it/s]\n",
      "100%|██████████| 13/13 [00:00<00:00, 225.68it/s]\n",
      "100%|██████████| 13/13 [00:00<00:00, 231.26it/s]\n",
      "100%|██████████| 13/13 [00:00<00:00, 210.57it/s]\n",
      "100%|██████████| 13/13 [00:00<00:00, 214.23it/s]\n",
      "100%|██████████| 13/13 [00:00<00:00, 201.65it/s]\n",
      "100%|██████████| 13/13 [00:00<00:00, 116.02it/s]\n",
      "100%|██████████| 13/13 [00:00<00:00, 187.26it/s]\n",
      "100%|██████████| 13/13 [00:00<00:00, 207.44it/s]\n",
      "100%|██████████| 13/13 [00:00<00:00, 204.98it/s]\n",
      "100%|██████████| 13/13 [00:00<00:00, 198.08it/s]\n",
      "100%|██████████| 13/13 [00:00<00:00, 209.73it/s]\n",
      "100%|██████████| 13/13 [00:00<00:00, 179.28it/s]\n",
      "100%|██████████| 13/13 [00:00<00:00, 196.77it/s]\n",
      "100%|██████████| 13/13 [00:00<00:00, 207.39it/s]\n",
      "100%|██████████| 13/13 [00:00<00:00, 218.39it/s]\n",
      "100%|██████████| 13/13 [00:00<00:00, 192.35it/s]\n",
      "100%|██████████| 13/13 [00:00<00:00, 199.03it/s]\n",
      "100%|██████████| 13/13 [00:00<00:00, 210.98it/s]\n",
      "100%|██████████| 13/13 [00:00<00:00, 216.20it/s]\n",
      "100%|██████████| 13/13 [00:00<00:00, 176.62it/s]\n",
      "100%|██████████| 13/13 [00:00<00:00, 195.07it/s]\n",
      "100%|██████████| 13/13 [00:00<00:00, 218.38it/s]\n",
      "100%|██████████| 13/13 [00:00<00:00, 192.06it/s]\n",
      "100%|██████████| 13/13 [00:00<00:00, 155.41it/s]\n",
      "100%|██████████| 13/13 [00:00<00:00, 224.45it/s]\n",
      "100%|██████████| 13/13 [00:00<00:00, 218.58it/s]\n",
      "100%|██████████| 13/13 [00:00<00:00, 208.36it/s]\n",
      "100%|██████████| 13/13 [00:00<00:00, 193.07it/s]\n",
      "100%|██████████| 13/13 [00:00<00:00, 195.58it/s]\n",
      "100%|██████████| 13/13 [00:00<00:00, 206.31it/s]\n",
      "100%|██████████| 13/13 [00:00<00:00, 224.14it/s]\n",
      "100%|██████████| 13/13 [00:00<00:00, 214.62it/s]\n",
      "100%|██████████| 13/13 [00:00<00:00, 220.18it/s]\n",
      "100%|██████████| 13/13 [00:00<00:00, 182.44it/s]\n",
      "100%|██████████| 13/13 [00:00<00:00, 205.45it/s]\n",
      "100%|██████████| 13/13 [00:00<00:00, 198.02it/s]\n",
      "100%|██████████| 13/13 [00:00<00:00, 218.32it/s]\n",
      "100%|██████████| 13/13 [00:00<00:00, 202.91it/s]\n",
      "100%|██████████| 13/13 [00:00<00:00, 204.83it/s]\n",
      "100%|██████████| 13/13 [00:00<00:00, 230.18it/s]\n",
      "100%|██████████| 13/13 [00:00<00:00, 218.33it/s]\n",
      "100%|██████████| 13/13 [00:00<00:00, 214.00it/s]\n",
      "100%|██████████| 13/13 [00:00<00:00, 213.22it/s]\n",
      "100%|██████████| 13/13 [00:00<00:00, 211.91it/s]\n",
      "100%|██████████| 13/13 [00:00<00:00, 193.93it/s]\n",
      "100%|██████████| 13/13 [00:00<00:00, 213.89it/s]\n",
      "100%|██████████| 13/13 [00:00<00:00, 228.99it/s]\n",
      "100%|██████████| 13/13 [00:00<00:00, 207.08it/s]\n",
      "100%|██████████| 13/13 [00:00<00:00, 184.77it/s]\n",
      "100%|██████████| 13/13 [00:00<00:00, 198.40it/s]\n",
      "100%|██████████| 13/13 [00:00<00:00, 220.63it/s]\n",
      "100%|██████████| 13/13 [00:00<00:00, 207.98it/s]\n",
      "100%|██████████| 13/13 [00:00<00:00, 201.72it/s]\n",
      "100%|██████████| 13/13 [00:00<00:00, 116.53it/s]\n",
      "100%|██████████| 13/13 [00:00<00:00, 193.46it/s]\n",
      "100%|██████████| 13/13 [00:00<00:00, 221.40it/s]\n",
      "100%|██████████| 13/13 [00:00<00:00, 221.27it/s]\n",
      "100%|██████████| 13/13 [00:00<00:00, 199.48it/s]\n",
      "100%|██████████| 13/13 [00:00<00:00, 190.90it/s]\n",
      "100%|██████████| 13/13 [00:00<00:00, 217.76it/s]\n",
      "100%|██████████| 13/13 [00:00<00:00, 216.56it/s]\n",
      "100%|██████████| 13/13 [00:00<00:00, 174.37it/s]\n",
      "100%|██████████| 13/13 [00:00<00:00, 128.16it/s]\n",
      "100%|██████████| 13/13 [00:00<00:00, 166.18it/s]\n",
      "100%|██████████| 13/13 [00:00<00:00, 237.13it/s]\n",
      "100%|██████████| 13/13 [00:00<00:00, 219.90it/s]\n",
      "100%|██████████| 13/13 [00:00<00:00, 200.11it/s]\n",
      "100%|██████████| 13/13 [00:00<00:00, 226.64it/s]\n",
      "100%|██████████| 13/13 [00:00<00:00, 224.25it/s]\n",
      "100%|██████████| 13/13 [00:00<00:00, 221.94it/s]\n",
      "100%|██████████| 13/13 [00:00<00:00, 226.59it/s]\n",
      "100%|██████████| 13/13 [00:00<00:00, 220.68it/s]\n",
      "100%|██████████| 13/13 [00:00<00:00, 227.73it/s]\n",
      "100%|██████████| 13/13 [00:00<00:00, 190.92it/s]\n",
      "100%|██████████| 13/13 [00:00<00:00, 236.24it/s]\n",
      "100%|██████████| 13/13 [00:00<00:00, 226.09it/s]\n"
     ]
    },
    {
     "data": {
      "text/plain": [
       "(array([ 0,  2,  3,  4,  5,  6,  7,  8,  9, 10, 11, 12]),\n",
       " array([ 5,  1,  1,  2,  2,  2,  3,  6,  7, 15, 21, 35]))"
      ]
     },
     "execution_count": 38,
     "metadata": {},
     "output_type": "execute_result"
    }
   ],
   "source": [
    "# get optimal configuration\n",
    "\n",
    "from sklearn.cluster import DBSCAN, BisectingKMeans\n",
    "from sklearn.manifold import TSNE\n",
    "\n",
    "seeds = range(0,100)\n",
    "\n",
    "parameters = {\n",
    "    \"general_settings\":{},\n",
    "    \"downprojection\": False,\n",
    "    \"algorithm\":\"kmeans\",\n",
    "    \"kmeans\":{\n",
    "        \"n_clusters\": list(range(2, 15)),\n",
    "    },\n",
    "    \"bisectingkmeans\":{\n",
    "        \"n_clusters\": list(range(2, 15)),\n",
    "        \"n_init\": [1, 5, 10, 20],\n",
    "    },\n",
    "    \"affinity\":{\n",
    "        \"damping\": np.linspace(0.5, 1, 10, endpoint=False),\n",
    "        \"affinity\": [\"euclidean\"],\n",
    "    },\n",
    "    \"dbscan\":{\n",
    "        \"eps\": np.linspace(0.1, 1, 10),\n",
    "        \"min_samples\": list(range(5, 15)),\n",
    "        \"metric\": [\"euclidean\", \"manhattan\", \"correlation\"],\n",
    "        \"leaf_size\": [2,5,10,30],\n",
    "    },\n",
    "    \"meanshift\":{\n",
    "        },\n",
    "    \"spectral\":{\n",
    "       \"n_clusters\": list(range(2, 15)), \n",
    "    },\n",
    "    \"agglomerative\":{\n",
    "        \"n_clusters\": list(range(2, 15)),\n",
    "        \"metric\": [\"manhattan\", \"cosine\", \"l1\", \"l2\"],\n",
    "        \"linkage\": [\"complete\", \"average\", \"single\"],\n",
    "    },\n",
    "    \n",
    "    \"tsne\":{\n",
    "        \"n_components\": [3],\n",
    "        \"perplexity\": [30],\n",
    "    }\n",
    "}\n",
    "\n",
    "\n",
    "if parameters[\"algorithm\"] == \"kmeans\":\n",
    "    algorithm_instance = KMeans\n",
    "elif parameters[\"algorithm\"] == \"bisectingkmeans\":\n",
    "    algorithm_instance = BisectingKMeans\n",
    "elif parameters[\"algorithm\"] == \"affinity\":\n",
    "    algorithm_instance = AffinityPropagation\n",
    "elif parameters[\"algorithm\"] == \"dbscan\":\n",
    "    algorithm_instance = DBSCAN\n",
    "elif parameters[\"algorithm\"] == \"meanshift\":\n",
    "    algorithm_instance = MeanShift\n",
    "elif parameters[\"algorithm\"] == \"spectral\":\n",
    "    algorithm_instance = SpectralClustering\n",
    "elif parameters[\"algorithm\"] == \"agglomerative\":\n",
    "    algorithm_instance = AgglomerativeClustering\n",
    "else:\n",
    "    raise ValueError(\"Algorithm not implemented!\")\n",
    "\n",
    "argmin_list = []\n",
    "for seed in seeds:\n",
    "    \n",
    "    bdi_scores = []\n",
    "    combination = []\n",
    "    comb_iterator = ParameterSearch(parameter_dict=parameters[parameters[\"algorithm\"]]).grid_search_iterator(tqdm_bar=True)\n",
    "\n",
    "    for i, params in enumerate(comb_iterator):\n",
    "        \n",
    "        #print(f\"################ {n_clusters} ################\")\n",
    "        \n",
    "        clustering_model = algorithm_instance(**params)\n",
    "        \n",
    "        #comb_iterator_tsne = ParameterSearch(parameter_dict=parameters[\"tsne\"]).grid_search_iterator(tqdm_bar=False)\n",
    "        \n",
    "        \n",
    "        #for params_tsne in comb_iterator_tsne:\n",
    "        #    if parameters[\"downprojection\"]:\n",
    "        #        samples_embedded = TSNE(**params_tsne).fit_transform(samples)\n",
    "            \n",
    "        samples_embedded = samples\n",
    "        try:\n",
    "            if params[\"affinity\"] == \"precomputed\":\n",
    "                similarities = - pairwise_distances(samples_embedded + 1e-8, metric=\"manhattan\")\n",
    "                clustering_model.fit(similarities)\n",
    "            else:\n",
    "                clustering_model.fit(samples_embedded)\n",
    "        except:\n",
    "            clustering_model.fit(samples_embedded + 1e-8)\n",
    "\n",
    "\n",
    "        #plot_cluster_centers(n_clusters, clustering_model, times[0]).show()\n",
    "        if len(np.unique(clustering_model.labels_)) == 1:\n",
    "            score = 1000\n",
    "        else:\n",
    "            score = davies_bouldin_score(samples, clustering_model.labels_)\n",
    "\n",
    "        #print(score)\n",
    "        bdi_scores.append(np.round(score, 6))\n",
    "        #combination.append((params, params_tsne))\n",
    "        combination.append((i, params))\n",
    "\n",
    "        \n",
    "    argmin_list.append(np.argmin(bdi_scores))\n",
    "np.unique(argmin_list, return_counts=True)"
   ]
  },
  {
   "cell_type": "markdown",
   "metadata": {},
   "source": [
    "### Optimal Parameters\n",
    "\n",
    "algorithm = KMeans , INVESTIGATE FURTHER -- Read the two papers and implement their approach<br>\n",
    "include_seeds = True <br>\n",
    "algo_parameters = {\n",
    "    \"n_clusters\":12\n",
    "}\n",
    "\n",
    "BisectingKMeans, INVESTIGATE FURTHER -- we need seeds<br>\n",
    "{'n_clusters': 14, 'n_init': 20}\n",
    "\n",
    "algorithm = AffinityPropagation -> works well, GRAPHCLUSTERING<br>\n",
    "{'damping': 0.5, 'affinity': 'euclidean'}\n",
    "\n",
    "AgglomerativeClustering -> works well <br>\n",
    "{'n_clusters': 2, 'metric': 'manhattan', 'linkage': 'average'}\n",
    "\n",
    "Fuzzy C-Means <br>\n",
    "Implementation is flawed\n",
    "\n",
    "DBScan <br>\n",
    "Figure out better parameters\n",
    "\n",
    "\n",
    "Dimensionality reduction:\n",
    "* TSNE enhanced Clustering:\n",
    "\n",
    "No TSNE<br>\n",
    "{'n_clusters': 14}\n",
    "Number of clusters: 14\n",
    "BDI: 0.7672581861245025\n",
    "\n",
    "* UMAP enahnced Clustering\n"
   ]
  },
  {
   "cell_type": "code",
   "execution_count": null,
   "metadata": {},
   "outputs": [
    {
     "data": {
      "text/plain": [
       "[(0, {'n_clusters': 2}),\n",
       " (1, {'n_clusters': 3}),\n",
       " (2, {'n_clusters': 4}),\n",
       " (3, {'n_clusters': 5}),\n",
       " (4, {'n_clusters': 6}),\n",
       " (5, {'n_clusters': 7}),\n",
       " (6, {'n_clusters': 8}),\n",
       " (7, {'n_clusters': 9}),\n",
       " (8, {'n_clusters': 10}),\n",
       " (9, {'n_clusters': 11}),\n",
       " (10, {'n_clusters': 12}),\n",
       " (11, {'n_clusters': 13}),\n",
       " (12, {'n_clusters': 14})]"
      ]
     },
     "execution_count": 39,
     "metadata": {},
     "output_type": "execute_result"
    }
   ],
   "source": [
    "combination"
   ]
  },
  {
   "cell_type": "code",
   "execution_count": null,
   "metadata": {},
   "outputs": [
    {
     "name": "stdout",
     "output_type": "stream",
     "text": [
      "################ kmeans ################\n",
      "{'n_clusters': 12}\n",
      "Number of clusters: 12\n",
      "BDI: 0.809285789249472\n"
     ]
    }
   ],
   "source": [
    "# test optimal configuration\n",
    "print(f\"################ {parameters['algorithm']} ################\")\n",
    "optimal_params = combination[10][1]\n",
    "print(optimal_params)\n",
    "\n",
    "clustering_model = algorithm_instance(**optimal_params)\n",
    "\n",
    "try:\n",
    "    if params[\"affinity\"] == \"precomputed\":\n",
    "        similarities = - pairwise_distances(samples + 1e-8, metric=\"manhattan\")\n",
    "        clustering_model.fit(similarities)\n",
    "    else:\n",
    "        clustering_model.fit(samples)\n",
    "except:\n",
    "    clustering_model.fit(samples)\n",
    "\n",
    "try:\n",
    "    n_clusters = len(clustering_model.cluster_centers_)\n",
    "except:\n",
    "    try:\n",
    "        clustering_model.cluster_centers_ = samples[clustering_model.cluster_centers_indices_]\n",
    "        n_clusters = len(clustering_model.cluster_centers_indices_)\n",
    "    except:\n",
    "        n_clusters = len(np.unique(clustering_model.labels_))\n",
    "    \n",
    "    \n",
    "\n",
    "print(f\"Number of clusters: {n_clusters}\")\n",
    "\n",
    "#plot_cluster_centers(n_clusters, clustering_model, times[0]).show()\n",
    "\n",
    "score = davies_bouldin_score(samples, clustering_model.labels_)\n",
    "print(f\"BDI: {score}\")"
   ]
  },
  {
   "cell_type": "code",
   "execution_count": null,
   "metadata": {},
   "outputs": [
    {
     "name": "stdout",
     "output_type": "stream",
     "text": [
      "################ 0 ################\n",
      "[ 0  7 14 21]\n"
     ]
    },
    {
     "data": {
      "application/vnd.plotly.v1+json": {
       "config": {
        "plotlyServerURL": "https://plot.ly"
       },
       "data": [
        {
         "mode": "lines+markers",
         "type": "scatter",
         "x": [
          "2024-04-08T08:00:00.000000000",
          "2024-04-08T08:15:00.000000000",
          "2024-04-08T08:30:00.000000000",
          "2024-04-08T08:45:00.000000000",
          "2024-04-08T09:00:00.000000000",
          "2024-04-08T09:15:00.000000000",
          "2024-04-08T09:30:00.000000000",
          "2024-04-08T09:45:00.000000000",
          "2024-04-08T10:00:00.000000000",
          "2024-04-08T10:15:00.000000000",
          "2024-04-08T10:30:00.000000000",
          "2024-04-08T10:45:00.000000000",
          "2024-04-08T11:00:00.000000000",
          "2024-04-08T11:15:00.000000000",
          "2024-04-08T11:30:00.000000000",
          "2024-04-08T11:45:00.000000000",
          "2024-04-08T12:00:00.000000000",
          "2024-04-08T12:15:00.000000000",
          "2024-04-08T12:30:00.000000000",
          "2024-04-08T12:45:00.000000000",
          "2024-04-08T13:00:00.000000000",
          "2024-04-08T13:15:00.000000000",
          "2024-04-08T13:30:00.000000000",
          "2024-04-08T13:45:00.000000000",
          "2024-04-08T14:00:00.000000000",
          "2024-04-08T14:15:00.000000000",
          "2024-04-08T14:30:00.000000000",
          "2024-04-08T14:45:00.000000000",
          "2024-04-08T15:00:00.000000000",
          "2024-04-08T15:15:00.000000000",
          "2024-04-08T15:30:00.000000000",
          "2024-04-08T15:45:00.000000000",
          "2024-04-08T16:00:00.000000000",
          "2024-04-08T16:15:00.000000000",
          "2024-04-08T16:30:00.000000000",
          "2024-04-08T16:45:00.000000000",
          "2024-04-08T17:00:00.000000000",
          "2024-04-08T17:15:00.000000000",
          "2024-04-08T17:30:00.000000000",
          "2024-04-08T17:45:00.000000000",
          "2024-04-08T18:00:00.000000000",
          "2024-04-08T18:15:00.000000000",
          "2024-04-08T18:30:00.000000000",
          "2024-04-08T18:45:00.000000000",
          "2024-04-08T19:00:00.000000000",
          "2024-04-08T19:15:00.000000000",
          "2024-04-08T19:30:00.000000000",
          "2024-04-08T19:45:00.000000000",
          "2024-04-08T20:00:00.000000000"
         ],
         "y": [
          0,
          0,
          0,
          0,
          0,
          0,
          0,
          0,
          0,
          0,
          0,
          0,
          0,
          0,
          3,
          50,
          14,
          2,
          2,
          0,
          1,
          5,
          22,
          9,
          0,
          0,
          2,
          0,
          2,
          30,
          0,
          0,
          0,
          1,
          0,
          3,
          4,
          0,
          0,
          0,
          0,
          0,
          0,
          0,
          0,
          0,
          0,
          0,
          0
         ]
        },
        {
         "mode": "lines+markers",
         "type": "scatter",
         "x": [
          "2024-04-08T08:00:00.000000000",
          "2024-04-08T08:15:00.000000000",
          "2024-04-08T08:30:00.000000000",
          "2024-04-08T08:45:00.000000000",
          "2024-04-08T09:00:00.000000000",
          "2024-04-08T09:15:00.000000000",
          "2024-04-08T09:30:00.000000000",
          "2024-04-08T09:45:00.000000000",
          "2024-04-08T10:00:00.000000000",
          "2024-04-08T10:15:00.000000000",
          "2024-04-08T10:30:00.000000000",
          "2024-04-08T10:45:00.000000000",
          "2024-04-08T11:00:00.000000000",
          "2024-04-08T11:15:00.000000000",
          "2024-04-08T11:30:00.000000000",
          "2024-04-08T11:45:00.000000000",
          "2024-04-08T12:00:00.000000000",
          "2024-04-08T12:15:00.000000000",
          "2024-04-08T12:30:00.000000000",
          "2024-04-08T12:45:00.000000000",
          "2024-04-08T13:00:00.000000000",
          "2024-04-08T13:15:00.000000000",
          "2024-04-08T13:30:00.000000000",
          "2024-04-08T13:45:00.000000000",
          "2024-04-08T14:00:00.000000000",
          "2024-04-08T14:15:00.000000000",
          "2024-04-08T14:30:00.000000000",
          "2024-04-08T14:45:00.000000000",
          "2024-04-08T15:00:00.000000000",
          "2024-04-08T15:15:00.000000000",
          "2024-04-08T15:30:00.000000000",
          "2024-04-08T15:45:00.000000000",
          "2024-04-08T16:00:00.000000000",
          "2024-04-08T16:15:00.000000000",
          "2024-04-08T16:30:00.000000000",
          "2024-04-08T16:45:00.000000000",
          "2024-04-08T17:00:00.000000000",
          "2024-04-08T17:15:00.000000000",
          "2024-04-08T17:30:00.000000000",
          "2024-04-08T17:45:00.000000000",
          "2024-04-08T18:00:00.000000000",
          "2024-04-08T18:15:00.000000000",
          "2024-04-08T18:30:00.000000000",
          "2024-04-08T18:45:00.000000000",
          "2024-04-08T19:00:00.000000000",
          "2024-04-08T19:15:00.000000000",
          "2024-04-08T19:30:00.000000000",
          "2024-04-08T19:45:00.000000000",
          "2024-04-08T20:00:00.000000000"
         ],
         "y": [
          0,
          0,
          0,
          0,
          0,
          0,
          0,
          0,
          0,
          0,
          0,
          0,
          0,
          0,
          5,
          38,
          9,
          1,
          3,
          0,
          1,
          0,
          22,
          3,
          0,
          0,
          0,
          2,
          1,
          24,
          4,
          0,
          0,
          0,
          0,
          2,
          7,
          0,
          0,
          0,
          0,
          0,
          0,
          0,
          0,
          0,
          0,
          0,
          1
         ]
        },
        {
         "mode": "lines+markers",
         "type": "scatter",
         "x": [
          "2024-04-08T08:00:00.000000000",
          "2024-04-08T08:15:00.000000000",
          "2024-04-08T08:30:00.000000000",
          "2024-04-08T08:45:00.000000000",
          "2024-04-08T09:00:00.000000000",
          "2024-04-08T09:15:00.000000000",
          "2024-04-08T09:30:00.000000000",
          "2024-04-08T09:45:00.000000000",
          "2024-04-08T10:00:00.000000000",
          "2024-04-08T10:15:00.000000000",
          "2024-04-08T10:30:00.000000000",
          "2024-04-08T10:45:00.000000000",
          "2024-04-08T11:00:00.000000000",
          "2024-04-08T11:15:00.000000000",
          "2024-04-08T11:30:00.000000000",
          "2024-04-08T11:45:00.000000000",
          "2024-04-08T12:00:00.000000000",
          "2024-04-08T12:15:00.000000000",
          "2024-04-08T12:30:00.000000000",
          "2024-04-08T12:45:00.000000000",
          "2024-04-08T13:00:00.000000000",
          "2024-04-08T13:15:00.000000000",
          "2024-04-08T13:30:00.000000000",
          "2024-04-08T13:45:00.000000000",
          "2024-04-08T14:00:00.000000000",
          "2024-04-08T14:15:00.000000000",
          "2024-04-08T14:30:00.000000000",
          "2024-04-08T14:45:00.000000000",
          "2024-04-08T15:00:00.000000000",
          "2024-04-08T15:15:00.000000000",
          "2024-04-08T15:30:00.000000000",
          "2024-04-08T15:45:00.000000000",
          "2024-04-08T16:00:00.000000000",
          "2024-04-08T16:15:00.000000000",
          "2024-04-08T16:30:00.000000000",
          "2024-04-08T16:45:00.000000000",
          "2024-04-08T17:00:00.000000000",
          "2024-04-08T17:15:00.000000000",
          "2024-04-08T17:30:00.000000000",
          "2024-04-08T17:45:00.000000000",
          "2024-04-08T18:00:00.000000000",
          "2024-04-08T18:15:00.000000000",
          "2024-04-08T18:30:00.000000000",
          "2024-04-08T18:45:00.000000000",
          "2024-04-08T19:00:00.000000000",
          "2024-04-08T19:15:00.000000000",
          "2024-04-08T19:30:00.000000000",
          "2024-04-08T19:45:00.000000000",
          "2024-04-08T20:00:00.000000000"
         ],
         "y": [
          0,
          0,
          0,
          0,
          0,
          0,
          0,
          0,
          0,
          0,
          0,
          0,
          0,
          0,
          3,
          45,
          12,
          2,
          0,
          0,
          1,
          1,
          19,
          4,
          0,
          0,
          0,
          0,
          8,
          24,
          10,
          0,
          1,
          1,
          1,
          1,
          14,
          0,
          0,
          0,
          0,
          0,
          0,
          0,
          0,
          0,
          0,
          0,
          0
         ]
        },
        {
         "mode": "lines+markers",
         "type": "scatter",
         "x": [
          "2024-04-08T08:00:00.000000000",
          "2024-04-08T08:15:00.000000000",
          "2024-04-08T08:30:00.000000000",
          "2024-04-08T08:45:00.000000000",
          "2024-04-08T09:00:00.000000000",
          "2024-04-08T09:15:00.000000000",
          "2024-04-08T09:30:00.000000000",
          "2024-04-08T09:45:00.000000000",
          "2024-04-08T10:00:00.000000000",
          "2024-04-08T10:15:00.000000000",
          "2024-04-08T10:30:00.000000000",
          "2024-04-08T10:45:00.000000000",
          "2024-04-08T11:00:00.000000000",
          "2024-04-08T11:15:00.000000000",
          "2024-04-08T11:30:00.000000000",
          "2024-04-08T11:45:00.000000000",
          "2024-04-08T12:00:00.000000000",
          "2024-04-08T12:15:00.000000000",
          "2024-04-08T12:30:00.000000000",
          "2024-04-08T12:45:00.000000000",
          "2024-04-08T13:00:00.000000000",
          "2024-04-08T13:15:00.000000000",
          "2024-04-08T13:30:00.000000000",
          "2024-04-08T13:45:00.000000000",
          "2024-04-08T14:00:00.000000000",
          "2024-04-08T14:15:00.000000000",
          "2024-04-08T14:30:00.000000000",
          "2024-04-08T14:45:00.000000000",
          "2024-04-08T15:00:00.000000000",
          "2024-04-08T15:15:00.000000000",
          "2024-04-08T15:30:00.000000000",
          "2024-04-08T15:45:00.000000000",
          "2024-04-08T16:00:00.000000000",
          "2024-04-08T16:15:00.000000000",
          "2024-04-08T16:30:00.000000000",
          "2024-04-08T16:45:00.000000000",
          "2024-04-08T17:00:00.000000000",
          "2024-04-08T17:15:00.000000000",
          "2024-04-08T17:30:00.000000000",
          "2024-04-08T17:45:00.000000000",
          "2024-04-08T18:00:00.000000000",
          "2024-04-08T18:15:00.000000000",
          "2024-04-08T18:30:00.000000000",
          "2024-04-08T18:45:00.000000000",
          "2024-04-08T19:00:00.000000000",
          "2024-04-08T19:15:00.000000000",
          "2024-04-08T19:30:00.000000000",
          "2024-04-08T19:45:00.000000000",
          "2024-04-08T20:00:00.000000000"
         ],
         "y": [
          0,
          0,
          0,
          0,
          0,
          0,
          0,
          0,
          0,
          0,
          0,
          0,
          0,
          0,
          3,
          44,
          16,
          4,
          3,
          0,
          1,
          4,
          19,
          5,
          0,
          0,
          0,
          0,
          5,
          16,
          3,
          1,
          3,
          3,
          0,
          0,
          7,
          1,
          0,
          0,
          0,
          0,
          0,
          0,
          0,
          0,
          0,
          0,
          0
         ]
        }
       ],
       "layout": {
        "template": {
         "data": {
          "bar": [
           {
            "error_x": {
             "color": "#2a3f5f"
            },
            "error_y": {
             "color": "#2a3f5f"
            },
            "marker": {
             "line": {
              "color": "#E5ECF6",
              "width": 0.5
             },
             "pattern": {
              "fillmode": "overlay",
              "size": 10,
              "solidity": 0.2
             }
            },
            "type": "bar"
           }
          ],
          "barpolar": [
           {
            "marker": {
             "line": {
              "color": "#E5ECF6",
              "width": 0.5
             },
             "pattern": {
              "fillmode": "overlay",
              "size": 10,
              "solidity": 0.2
             }
            },
            "type": "barpolar"
           }
          ],
          "carpet": [
           {
            "aaxis": {
             "endlinecolor": "#2a3f5f",
             "gridcolor": "white",
             "linecolor": "white",
             "minorgridcolor": "white",
             "startlinecolor": "#2a3f5f"
            },
            "baxis": {
             "endlinecolor": "#2a3f5f",
             "gridcolor": "white",
             "linecolor": "white",
             "minorgridcolor": "white",
             "startlinecolor": "#2a3f5f"
            },
            "type": "carpet"
           }
          ],
          "choropleth": [
           {
            "colorbar": {
             "outlinewidth": 0,
             "ticks": ""
            },
            "type": "choropleth"
           }
          ],
          "contour": [
           {
            "colorbar": {
             "outlinewidth": 0,
             "ticks": ""
            },
            "colorscale": [
             [
              0,
              "#0d0887"
             ],
             [
              0.1111111111111111,
              "#46039f"
             ],
             [
              0.2222222222222222,
              "#7201a8"
             ],
             [
              0.3333333333333333,
              "#9c179e"
             ],
             [
              0.4444444444444444,
              "#bd3786"
             ],
             [
              0.5555555555555556,
              "#d8576b"
             ],
             [
              0.6666666666666666,
              "#ed7953"
             ],
             [
              0.7777777777777778,
              "#fb9f3a"
             ],
             [
              0.8888888888888888,
              "#fdca26"
             ],
             [
              1,
              "#f0f921"
             ]
            ],
            "type": "contour"
           }
          ],
          "contourcarpet": [
           {
            "colorbar": {
             "outlinewidth": 0,
             "ticks": ""
            },
            "type": "contourcarpet"
           }
          ],
          "heatmap": [
           {
            "colorbar": {
             "outlinewidth": 0,
             "ticks": ""
            },
            "colorscale": [
             [
              0,
              "#0d0887"
             ],
             [
              0.1111111111111111,
              "#46039f"
             ],
             [
              0.2222222222222222,
              "#7201a8"
             ],
             [
              0.3333333333333333,
              "#9c179e"
             ],
             [
              0.4444444444444444,
              "#bd3786"
             ],
             [
              0.5555555555555556,
              "#d8576b"
             ],
             [
              0.6666666666666666,
              "#ed7953"
             ],
             [
              0.7777777777777778,
              "#fb9f3a"
             ],
             [
              0.8888888888888888,
              "#fdca26"
             ],
             [
              1,
              "#f0f921"
             ]
            ],
            "type": "heatmap"
           }
          ],
          "heatmapgl": [
           {
            "colorbar": {
             "outlinewidth": 0,
             "ticks": ""
            },
            "colorscale": [
             [
              0,
              "#0d0887"
             ],
             [
              0.1111111111111111,
              "#46039f"
             ],
             [
              0.2222222222222222,
              "#7201a8"
             ],
             [
              0.3333333333333333,
              "#9c179e"
             ],
             [
              0.4444444444444444,
              "#bd3786"
             ],
             [
              0.5555555555555556,
              "#d8576b"
             ],
             [
              0.6666666666666666,
              "#ed7953"
             ],
             [
              0.7777777777777778,
              "#fb9f3a"
             ],
             [
              0.8888888888888888,
              "#fdca26"
             ],
             [
              1,
              "#f0f921"
             ]
            ],
            "type": "heatmapgl"
           }
          ],
          "histogram": [
           {
            "marker": {
             "pattern": {
              "fillmode": "overlay",
              "size": 10,
              "solidity": 0.2
             }
            },
            "type": "histogram"
           }
          ],
          "histogram2d": [
           {
            "colorbar": {
             "outlinewidth": 0,
             "ticks": ""
            },
            "colorscale": [
             [
              0,
              "#0d0887"
             ],
             [
              0.1111111111111111,
              "#46039f"
             ],
             [
              0.2222222222222222,
              "#7201a8"
             ],
             [
              0.3333333333333333,
              "#9c179e"
             ],
             [
              0.4444444444444444,
              "#bd3786"
             ],
             [
              0.5555555555555556,
              "#d8576b"
             ],
             [
              0.6666666666666666,
              "#ed7953"
             ],
             [
              0.7777777777777778,
              "#fb9f3a"
             ],
             [
              0.8888888888888888,
              "#fdca26"
             ],
             [
              1,
              "#f0f921"
             ]
            ],
            "type": "histogram2d"
           }
          ],
          "histogram2dcontour": [
           {
            "colorbar": {
             "outlinewidth": 0,
             "ticks": ""
            },
            "colorscale": [
             [
              0,
              "#0d0887"
             ],
             [
              0.1111111111111111,
              "#46039f"
             ],
             [
              0.2222222222222222,
              "#7201a8"
             ],
             [
              0.3333333333333333,
              "#9c179e"
             ],
             [
              0.4444444444444444,
              "#bd3786"
             ],
             [
              0.5555555555555556,
              "#d8576b"
             ],
             [
              0.6666666666666666,
              "#ed7953"
             ],
             [
              0.7777777777777778,
              "#fb9f3a"
             ],
             [
              0.8888888888888888,
              "#fdca26"
             ],
             [
              1,
              "#f0f921"
             ]
            ],
            "type": "histogram2dcontour"
           }
          ],
          "mesh3d": [
           {
            "colorbar": {
             "outlinewidth": 0,
             "ticks": ""
            },
            "type": "mesh3d"
           }
          ],
          "parcoords": [
           {
            "line": {
             "colorbar": {
              "outlinewidth": 0,
              "ticks": ""
             }
            },
            "type": "parcoords"
           }
          ],
          "pie": [
           {
            "automargin": true,
            "type": "pie"
           }
          ],
          "scatter": [
           {
            "fillpattern": {
             "fillmode": "overlay",
             "size": 10,
             "solidity": 0.2
            },
            "type": "scatter"
           }
          ],
          "scatter3d": [
           {
            "line": {
             "colorbar": {
              "outlinewidth": 0,
              "ticks": ""
             }
            },
            "marker": {
             "colorbar": {
              "outlinewidth": 0,
              "ticks": ""
             }
            },
            "type": "scatter3d"
           }
          ],
          "scattercarpet": [
           {
            "marker": {
             "colorbar": {
              "outlinewidth": 0,
              "ticks": ""
             }
            },
            "type": "scattercarpet"
           }
          ],
          "scattergeo": [
           {
            "marker": {
             "colorbar": {
              "outlinewidth": 0,
              "ticks": ""
             }
            },
            "type": "scattergeo"
           }
          ],
          "scattergl": [
           {
            "marker": {
             "colorbar": {
              "outlinewidth": 0,
              "ticks": ""
             }
            },
            "type": "scattergl"
           }
          ],
          "scattermapbox": [
           {
            "marker": {
             "colorbar": {
              "outlinewidth": 0,
              "ticks": ""
             }
            },
            "type": "scattermapbox"
           }
          ],
          "scatterpolar": [
           {
            "marker": {
             "colorbar": {
              "outlinewidth": 0,
              "ticks": ""
             }
            },
            "type": "scatterpolar"
           }
          ],
          "scatterpolargl": [
           {
            "marker": {
             "colorbar": {
              "outlinewidth": 0,
              "ticks": ""
             }
            },
            "type": "scatterpolargl"
           }
          ],
          "scatterternary": [
           {
            "marker": {
             "colorbar": {
              "outlinewidth": 0,
              "ticks": ""
             }
            },
            "type": "scatterternary"
           }
          ],
          "surface": [
           {
            "colorbar": {
             "outlinewidth": 0,
             "ticks": ""
            },
            "colorscale": [
             [
              0,
              "#0d0887"
             ],
             [
              0.1111111111111111,
              "#46039f"
             ],
             [
              0.2222222222222222,
              "#7201a8"
             ],
             [
              0.3333333333333333,
              "#9c179e"
             ],
             [
              0.4444444444444444,
              "#bd3786"
             ],
             [
              0.5555555555555556,
              "#d8576b"
             ],
             [
              0.6666666666666666,
              "#ed7953"
             ],
             [
              0.7777777777777778,
              "#fb9f3a"
             ],
             [
              0.8888888888888888,
              "#fdca26"
             ],
             [
              1,
              "#f0f921"
             ]
            ],
            "type": "surface"
           }
          ],
          "table": [
           {
            "cells": {
             "fill": {
              "color": "#EBF0F8"
             },
             "line": {
              "color": "white"
             }
            },
            "header": {
             "fill": {
              "color": "#C8D4E3"
             },
             "line": {
              "color": "white"
             }
            },
            "type": "table"
           }
          ]
         },
         "layout": {
          "annotationdefaults": {
           "arrowcolor": "#2a3f5f",
           "arrowhead": 0,
           "arrowwidth": 1
          },
          "autotypenumbers": "strict",
          "coloraxis": {
           "colorbar": {
            "outlinewidth": 0,
            "ticks": ""
           }
          },
          "colorscale": {
           "diverging": [
            [
             0,
             "#8e0152"
            ],
            [
             0.1,
             "#c51b7d"
            ],
            [
             0.2,
             "#de77ae"
            ],
            [
             0.3,
             "#f1b6da"
            ],
            [
             0.4,
             "#fde0ef"
            ],
            [
             0.5,
             "#f7f7f7"
            ],
            [
             0.6,
             "#e6f5d0"
            ],
            [
             0.7,
             "#b8e186"
            ],
            [
             0.8,
             "#7fbc41"
            ],
            [
             0.9,
             "#4d9221"
            ],
            [
             1,
             "#276419"
            ]
           ],
           "sequential": [
            [
             0,
             "#0d0887"
            ],
            [
             0.1111111111111111,
             "#46039f"
            ],
            [
             0.2222222222222222,
             "#7201a8"
            ],
            [
             0.3333333333333333,
             "#9c179e"
            ],
            [
             0.4444444444444444,
             "#bd3786"
            ],
            [
             0.5555555555555556,
             "#d8576b"
            ],
            [
             0.6666666666666666,
             "#ed7953"
            ],
            [
             0.7777777777777778,
             "#fb9f3a"
            ],
            [
             0.8888888888888888,
             "#fdca26"
            ],
            [
             1,
             "#f0f921"
            ]
           ],
           "sequentialminus": [
            [
             0,
             "#0d0887"
            ],
            [
             0.1111111111111111,
             "#46039f"
            ],
            [
             0.2222222222222222,
             "#7201a8"
            ],
            [
             0.3333333333333333,
             "#9c179e"
            ],
            [
             0.4444444444444444,
             "#bd3786"
            ],
            [
             0.5555555555555556,
             "#d8576b"
            ],
            [
             0.6666666666666666,
             "#ed7953"
            ],
            [
             0.7777777777777778,
             "#fb9f3a"
            ],
            [
             0.8888888888888888,
             "#fdca26"
            ],
            [
             1,
             "#f0f921"
            ]
           ]
          },
          "colorway": [
           "#636efa",
           "#EF553B",
           "#00cc96",
           "#ab63fa",
           "#FFA15A",
           "#19d3f3",
           "#FF6692",
           "#B6E880",
           "#FF97FF",
           "#FECB52"
          ],
          "font": {
           "color": "#2a3f5f"
          },
          "geo": {
           "bgcolor": "white",
           "lakecolor": "white",
           "landcolor": "#E5ECF6",
           "showlakes": true,
           "showland": true,
           "subunitcolor": "white"
          },
          "hoverlabel": {
           "align": "left"
          },
          "hovermode": "closest",
          "mapbox": {
           "style": "light"
          },
          "paper_bgcolor": "white",
          "plot_bgcolor": "#E5ECF6",
          "polar": {
           "angularaxis": {
            "gridcolor": "white",
            "linecolor": "white",
            "ticks": ""
           },
           "bgcolor": "#E5ECF6",
           "radialaxis": {
            "gridcolor": "white",
            "linecolor": "white",
            "ticks": ""
           }
          },
          "scene": {
           "xaxis": {
            "backgroundcolor": "#E5ECF6",
            "gridcolor": "white",
            "gridwidth": 2,
            "linecolor": "white",
            "showbackground": true,
            "ticks": "",
            "zerolinecolor": "white"
           },
           "yaxis": {
            "backgroundcolor": "#E5ECF6",
            "gridcolor": "white",
            "gridwidth": 2,
            "linecolor": "white",
            "showbackground": true,
            "ticks": "",
            "zerolinecolor": "white"
           },
           "zaxis": {
            "backgroundcolor": "#E5ECF6",
            "gridcolor": "white",
            "gridwidth": 2,
            "linecolor": "white",
            "showbackground": true,
            "ticks": "",
            "zerolinecolor": "white"
           }
          },
          "shapedefaults": {
           "line": {
            "color": "#2a3f5f"
           }
          },
          "ternary": {
           "aaxis": {
            "gridcolor": "white",
            "linecolor": "white",
            "ticks": ""
           },
           "baxis": {
            "gridcolor": "white",
            "linecolor": "white",
            "ticks": ""
           },
           "bgcolor": "#E5ECF6",
           "caxis": {
            "gridcolor": "white",
            "linecolor": "white",
            "ticks": ""
           }
          },
          "title": {
           "x": 0.05
          },
          "xaxis": {
           "automargin": true,
           "gridcolor": "white",
           "linecolor": "white",
           "ticks": "",
           "title": {
            "standoff": 15
           },
           "zerolinecolor": "white",
           "zerolinewidth": 2
          },
          "yaxis": {
           "automargin": true,
           "gridcolor": "white",
           "linecolor": "white",
           "ticks": "",
           "title": {
            "standoff": 15
           },
           "zerolinecolor": "white",
           "zerolinewidth": 2
          }
         }
        }
       }
      }
     },
     "metadata": {},
     "output_type": "display_data"
    },
    {
     "name": "stdout",
     "output_type": "stream",
     "text": [
      "################ 1 ################\n",
      "[ 6 12 13 19 20 23 25 26 27 28 31 32 33 34 40 41 42 43 46 47 48 50 52 53\n",
      " 54 55 60 61 62 64 67 68 69 74 75 76 77]\n"
     ]
    },
    {
     "data": {
      "application/vnd.plotly.v1+json": {
       "config": {
        "plotlyServerURL": "https://plot.ly"
       },
       "data": [
        {
         "mode": "lines+markers",
         "type": "scatter",
         "x": [
          "2024-04-08T08:00:00.000000000",
          "2024-04-08T08:15:00.000000000",
          "2024-04-08T08:30:00.000000000",
          "2024-04-08T08:45:00.000000000",
          "2024-04-08T09:00:00.000000000",
          "2024-04-08T09:15:00.000000000",
          "2024-04-08T09:30:00.000000000",
          "2024-04-08T09:45:00.000000000",
          "2024-04-08T10:00:00.000000000",
          "2024-04-08T10:15:00.000000000",
          "2024-04-08T10:30:00.000000000",
          "2024-04-08T10:45:00.000000000",
          "2024-04-08T11:00:00.000000000",
          "2024-04-08T11:15:00.000000000",
          "2024-04-08T11:30:00.000000000",
          "2024-04-08T11:45:00.000000000",
          "2024-04-08T12:00:00.000000000",
          "2024-04-08T12:15:00.000000000",
          "2024-04-08T12:30:00.000000000",
          "2024-04-08T12:45:00.000000000",
          "2024-04-08T13:00:00.000000000",
          "2024-04-08T13:15:00.000000000",
          "2024-04-08T13:30:00.000000000",
          "2024-04-08T13:45:00.000000000",
          "2024-04-08T14:00:00.000000000",
          "2024-04-08T14:15:00.000000000",
          "2024-04-08T14:30:00.000000000",
          "2024-04-08T14:45:00.000000000",
          "2024-04-08T15:00:00.000000000",
          "2024-04-08T15:15:00.000000000",
          "2024-04-08T15:30:00.000000000",
          "2024-04-08T15:45:00.000000000",
          "2024-04-08T16:00:00.000000000",
          "2024-04-08T16:15:00.000000000",
          "2024-04-08T16:30:00.000000000",
          "2024-04-08T16:45:00.000000000",
          "2024-04-08T17:00:00.000000000",
          "2024-04-08T17:15:00.000000000",
          "2024-04-08T17:30:00.000000000",
          "2024-04-08T17:45:00.000000000",
          "2024-04-08T18:00:00.000000000",
          "2024-04-08T18:15:00.000000000",
          "2024-04-08T18:30:00.000000000",
          "2024-04-08T18:45:00.000000000",
          "2024-04-08T19:00:00.000000000",
          "2024-04-08T19:15:00.000000000",
          "2024-04-08T19:30:00.000000000",
          "2024-04-08T19:45:00.000000000",
          "2024-04-08T20:00:00.000000000"
         ],
         "y": [
          0,
          0,
          0,
          0,
          0,
          0,
          0,
          0,
          0,
          0,
          0,
          0,
          0,
          0,
          0,
          0,
          0,
          0,
          0,
          0,
          0,
          0,
          0,
          0,
          0,
          0,
          0,
          0,
          0,
          0,
          0,
          0,
          0,
          0,
          0,
          0,
          0,
          0,
          0,
          0,
          0,
          0,
          0,
          0,
          0,
          0,
          0,
          0,
          0
         ]
        },
        {
         "mode": "lines+markers",
         "type": "scatter",
         "x": [
          "2024-04-08T08:00:00.000000000",
          "2024-04-08T08:15:00.000000000",
          "2024-04-08T08:30:00.000000000",
          "2024-04-08T08:45:00.000000000",
          "2024-04-08T09:00:00.000000000",
          "2024-04-08T09:15:00.000000000",
          "2024-04-08T09:30:00.000000000",
          "2024-04-08T09:45:00.000000000",
          "2024-04-08T10:00:00.000000000",
          "2024-04-08T10:15:00.000000000",
          "2024-04-08T10:30:00.000000000",
          "2024-04-08T10:45:00.000000000",
          "2024-04-08T11:00:00.000000000",
          "2024-04-08T11:15:00.000000000",
          "2024-04-08T11:30:00.000000000",
          "2024-04-08T11:45:00.000000000",
          "2024-04-08T12:00:00.000000000",
          "2024-04-08T12:15:00.000000000",
          "2024-04-08T12:30:00.000000000",
          "2024-04-08T12:45:00.000000000",
          "2024-04-08T13:00:00.000000000",
          "2024-04-08T13:15:00.000000000",
          "2024-04-08T13:30:00.000000000",
          "2024-04-08T13:45:00.000000000",
          "2024-04-08T14:00:00.000000000",
          "2024-04-08T14:15:00.000000000",
          "2024-04-08T14:30:00.000000000",
          "2024-04-08T14:45:00.000000000",
          "2024-04-08T15:00:00.000000000",
          "2024-04-08T15:15:00.000000000",
          "2024-04-08T15:30:00.000000000",
          "2024-04-08T15:45:00.000000000",
          "2024-04-08T16:00:00.000000000",
          "2024-04-08T16:15:00.000000000",
          "2024-04-08T16:30:00.000000000",
          "2024-04-08T16:45:00.000000000",
          "2024-04-08T17:00:00.000000000",
          "2024-04-08T17:15:00.000000000",
          "2024-04-08T17:30:00.000000000",
          "2024-04-08T17:45:00.000000000",
          "2024-04-08T18:00:00.000000000",
          "2024-04-08T18:15:00.000000000",
          "2024-04-08T18:30:00.000000000",
          "2024-04-08T18:45:00.000000000",
          "2024-04-08T19:00:00.000000000",
          "2024-04-08T19:15:00.000000000",
          "2024-04-08T19:30:00.000000000",
          "2024-04-08T19:45:00.000000000",
          "2024-04-08T20:00:00.000000000"
         ],
         "y": [
          0,
          0,
          0,
          0,
          0,
          0,
          0,
          0,
          0,
          0,
          0,
          0,
          0,
          0,
          0,
          0,
          0,
          0,
          0,
          0,
          0,
          0,
          0,
          0,
          0,
          0,
          0,
          0,
          0,
          0,
          0,
          0,
          0,
          0,
          0,
          0,
          0,
          0,
          0,
          0,
          0,
          0,
          0,
          0,
          0,
          0,
          0,
          0,
          0
         ]
        },
        {
         "mode": "lines+markers",
         "type": "scatter",
         "x": [
          "2024-04-08T08:00:00.000000000",
          "2024-04-08T08:15:00.000000000",
          "2024-04-08T08:30:00.000000000",
          "2024-04-08T08:45:00.000000000",
          "2024-04-08T09:00:00.000000000",
          "2024-04-08T09:15:00.000000000",
          "2024-04-08T09:30:00.000000000",
          "2024-04-08T09:45:00.000000000",
          "2024-04-08T10:00:00.000000000",
          "2024-04-08T10:15:00.000000000",
          "2024-04-08T10:30:00.000000000",
          "2024-04-08T10:45:00.000000000",
          "2024-04-08T11:00:00.000000000",
          "2024-04-08T11:15:00.000000000",
          "2024-04-08T11:30:00.000000000",
          "2024-04-08T11:45:00.000000000",
          "2024-04-08T12:00:00.000000000",
          "2024-04-08T12:15:00.000000000",
          "2024-04-08T12:30:00.000000000",
          "2024-04-08T12:45:00.000000000",
          "2024-04-08T13:00:00.000000000",
          "2024-04-08T13:15:00.000000000",
          "2024-04-08T13:30:00.000000000",
          "2024-04-08T13:45:00.000000000",
          "2024-04-08T14:00:00.000000000",
          "2024-04-08T14:15:00.000000000",
          "2024-04-08T14:30:00.000000000",
          "2024-04-08T14:45:00.000000000",
          "2024-04-08T15:00:00.000000000",
          "2024-04-08T15:15:00.000000000",
          "2024-04-08T15:30:00.000000000",
          "2024-04-08T15:45:00.000000000",
          "2024-04-08T16:00:00.000000000",
          "2024-04-08T16:15:00.000000000",
          "2024-04-08T16:30:00.000000000",
          "2024-04-08T16:45:00.000000000",
          "2024-04-08T17:00:00.000000000",
          "2024-04-08T17:15:00.000000000",
          "2024-04-08T17:30:00.000000000",
          "2024-04-08T17:45:00.000000000",
          "2024-04-08T18:00:00.000000000",
          "2024-04-08T18:15:00.000000000",
          "2024-04-08T18:30:00.000000000",
          "2024-04-08T18:45:00.000000000",
          "2024-04-08T19:00:00.000000000",
          "2024-04-08T19:15:00.000000000",
          "2024-04-08T19:30:00.000000000",
          "2024-04-08T19:45:00.000000000",
          "2024-04-08T20:00:00.000000000"
         ],
         "y": [
          0,
          0,
          0,
          0,
          0,
          0,
          0,
          0,
          0,
          0,
          0,
          0,
          0,
          0,
          0,
          0,
          0,
          0,
          0,
          0,
          0,
          0,
          0,
          0,
          0,
          0,
          0,
          0,
          0,
          0,
          0,
          0,
          0,
          0,
          0,
          0,
          0,
          0,
          0,
          0,
          0,
          0,
          0,
          0,
          0,
          0,
          0,
          0,
          0
         ]
        },
        {
         "mode": "lines+markers",
         "type": "scatter",
         "x": [
          "2024-04-08T08:00:00.000000000",
          "2024-04-08T08:15:00.000000000",
          "2024-04-08T08:30:00.000000000",
          "2024-04-08T08:45:00.000000000",
          "2024-04-08T09:00:00.000000000",
          "2024-04-08T09:15:00.000000000",
          "2024-04-08T09:30:00.000000000",
          "2024-04-08T09:45:00.000000000",
          "2024-04-08T10:00:00.000000000",
          "2024-04-08T10:15:00.000000000",
          "2024-04-08T10:30:00.000000000",
          "2024-04-08T10:45:00.000000000",
          "2024-04-08T11:00:00.000000000",
          "2024-04-08T11:15:00.000000000",
          "2024-04-08T11:30:00.000000000",
          "2024-04-08T11:45:00.000000000",
          "2024-04-08T12:00:00.000000000",
          "2024-04-08T12:15:00.000000000",
          "2024-04-08T12:30:00.000000000",
          "2024-04-08T12:45:00.000000000",
          "2024-04-08T13:00:00.000000000",
          "2024-04-08T13:15:00.000000000",
          "2024-04-08T13:30:00.000000000",
          "2024-04-08T13:45:00.000000000",
          "2024-04-08T14:00:00.000000000",
          "2024-04-08T14:15:00.000000000",
          "2024-04-08T14:30:00.000000000",
          "2024-04-08T14:45:00.000000000",
          "2024-04-08T15:00:00.000000000",
          "2024-04-08T15:15:00.000000000",
          "2024-04-08T15:30:00.000000000",
          "2024-04-08T15:45:00.000000000",
          "2024-04-08T16:00:00.000000000",
          "2024-04-08T16:15:00.000000000",
          "2024-04-08T16:30:00.000000000",
          "2024-04-08T16:45:00.000000000",
          "2024-04-08T17:00:00.000000000",
          "2024-04-08T17:15:00.000000000",
          "2024-04-08T17:30:00.000000000",
          "2024-04-08T17:45:00.000000000",
          "2024-04-08T18:00:00.000000000",
          "2024-04-08T18:15:00.000000000",
          "2024-04-08T18:30:00.000000000",
          "2024-04-08T18:45:00.000000000",
          "2024-04-08T19:00:00.000000000",
          "2024-04-08T19:15:00.000000000",
          "2024-04-08T19:30:00.000000000",
          "2024-04-08T19:45:00.000000000",
          "2024-04-08T20:00:00.000000000"
         ],
         "y": [
          0,
          0,
          0,
          0,
          0,
          0,
          0,
          0,
          0,
          0,
          0,
          0,
          0,
          0,
          0,
          0,
          0,
          0,
          0,
          0,
          0,
          0,
          0,
          0,
          0,
          0,
          0,
          0,
          0,
          0,
          0,
          0,
          0,
          0,
          0,
          0,
          0,
          0,
          0,
          0,
          0,
          0,
          0,
          0,
          0,
          0,
          0,
          0,
          0
         ]
        },
        {
         "mode": "lines+markers",
         "type": "scatter",
         "x": [
          "2024-04-08T08:00:00.000000000",
          "2024-04-08T08:15:00.000000000",
          "2024-04-08T08:30:00.000000000",
          "2024-04-08T08:45:00.000000000",
          "2024-04-08T09:00:00.000000000",
          "2024-04-08T09:15:00.000000000",
          "2024-04-08T09:30:00.000000000",
          "2024-04-08T09:45:00.000000000",
          "2024-04-08T10:00:00.000000000",
          "2024-04-08T10:15:00.000000000",
          "2024-04-08T10:30:00.000000000",
          "2024-04-08T10:45:00.000000000",
          "2024-04-08T11:00:00.000000000",
          "2024-04-08T11:15:00.000000000",
          "2024-04-08T11:30:00.000000000",
          "2024-04-08T11:45:00.000000000",
          "2024-04-08T12:00:00.000000000",
          "2024-04-08T12:15:00.000000000",
          "2024-04-08T12:30:00.000000000",
          "2024-04-08T12:45:00.000000000",
          "2024-04-08T13:00:00.000000000",
          "2024-04-08T13:15:00.000000000",
          "2024-04-08T13:30:00.000000000",
          "2024-04-08T13:45:00.000000000",
          "2024-04-08T14:00:00.000000000",
          "2024-04-08T14:15:00.000000000",
          "2024-04-08T14:30:00.000000000",
          "2024-04-08T14:45:00.000000000",
          "2024-04-08T15:00:00.000000000",
          "2024-04-08T15:15:00.000000000",
          "2024-04-08T15:30:00.000000000",
          "2024-04-08T15:45:00.000000000",
          "2024-04-08T16:00:00.000000000",
          "2024-04-08T16:15:00.000000000",
          "2024-04-08T16:30:00.000000000",
          "2024-04-08T16:45:00.000000000",
          "2024-04-08T17:00:00.000000000",
          "2024-04-08T17:15:00.000000000",
          "2024-04-08T17:30:00.000000000",
          "2024-04-08T17:45:00.000000000",
          "2024-04-08T18:00:00.000000000",
          "2024-04-08T18:15:00.000000000",
          "2024-04-08T18:30:00.000000000",
          "2024-04-08T18:45:00.000000000",
          "2024-04-08T19:00:00.000000000",
          "2024-04-08T19:15:00.000000000",
          "2024-04-08T19:30:00.000000000",
          "2024-04-08T19:45:00.000000000",
          "2024-04-08T20:00:00.000000000"
         ],
         "y": [
          0,
          0,
          0,
          0,
          0,
          0,
          0,
          0,
          0,
          0,
          0,
          0,
          0,
          0,
          0,
          0,
          0,
          0,
          0,
          0,
          0,
          0,
          0,
          0,
          0,
          0,
          0,
          0,
          0,
          0,
          0,
          0,
          0,
          0,
          0,
          0,
          0,
          0,
          0,
          0,
          0,
          0,
          0,
          0,
          0,
          0,
          0,
          0,
          0
         ]
        },
        {
         "mode": "lines+markers",
         "type": "scatter",
         "x": [
          "2024-04-08T08:00:00.000000000",
          "2024-04-08T08:15:00.000000000",
          "2024-04-08T08:30:00.000000000",
          "2024-04-08T08:45:00.000000000",
          "2024-04-08T09:00:00.000000000",
          "2024-04-08T09:15:00.000000000",
          "2024-04-08T09:30:00.000000000",
          "2024-04-08T09:45:00.000000000",
          "2024-04-08T10:00:00.000000000",
          "2024-04-08T10:15:00.000000000",
          "2024-04-08T10:30:00.000000000",
          "2024-04-08T10:45:00.000000000",
          "2024-04-08T11:00:00.000000000",
          "2024-04-08T11:15:00.000000000",
          "2024-04-08T11:30:00.000000000",
          "2024-04-08T11:45:00.000000000",
          "2024-04-08T12:00:00.000000000",
          "2024-04-08T12:15:00.000000000",
          "2024-04-08T12:30:00.000000000",
          "2024-04-08T12:45:00.000000000",
          "2024-04-08T13:00:00.000000000",
          "2024-04-08T13:15:00.000000000",
          "2024-04-08T13:30:00.000000000",
          "2024-04-08T13:45:00.000000000",
          "2024-04-08T14:00:00.000000000",
          "2024-04-08T14:15:00.000000000",
          "2024-04-08T14:30:00.000000000",
          "2024-04-08T14:45:00.000000000",
          "2024-04-08T15:00:00.000000000",
          "2024-04-08T15:15:00.000000000",
          "2024-04-08T15:30:00.000000000",
          "2024-04-08T15:45:00.000000000",
          "2024-04-08T16:00:00.000000000",
          "2024-04-08T16:15:00.000000000",
          "2024-04-08T16:30:00.000000000",
          "2024-04-08T16:45:00.000000000",
          "2024-04-08T17:00:00.000000000",
          "2024-04-08T17:15:00.000000000",
          "2024-04-08T17:30:00.000000000",
          "2024-04-08T17:45:00.000000000",
          "2024-04-08T18:00:00.000000000",
          "2024-04-08T18:15:00.000000000",
          "2024-04-08T18:30:00.000000000",
          "2024-04-08T18:45:00.000000000",
          "2024-04-08T19:00:00.000000000",
          "2024-04-08T19:15:00.000000000",
          "2024-04-08T19:30:00.000000000",
          "2024-04-08T19:45:00.000000000",
          "2024-04-08T20:00:00.000000000"
         ],
         "y": [
          0,
          0,
          0,
          0,
          0,
          0,
          0,
          0,
          0,
          0,
          0,
          0,
          0,
          0,
          0,
          0,
          0,
          0,
          0,
          0,
          0,
          0,
          0,
          0,
          0,
          0,
          0,
          0,
          0,
          0,
          0,
          0,
          0,
          0,
          0,
          0,
          0,
          0,
          0,
          0,
          0,
          0,
          0,
          0,
          0,
          0,
          0,
          0,
          0
         ]
        },
        {
         "mode": "lines+markers",
         "type": "scatter",
         "x": [
          "2024-04-08T08:00:00.000000000",
          "2024-04-08T08:15:00.000000000",
          "2024-04-08T08:30:00.000000000",
          "2024-04-08T08:45:00.000000000",
          "2024-04-08T09:00:00.000000000",
          "2024-04-08T09:15:00.000000000",
          "2024-04-08T09:30:00.000000000",
          "2024-04-08T09:45:00.000000000",
          "2024-04-08T10:00:00.000000000",
          "2024-04-08T10:15:00.000000000",
          "2024-04-08T10:30:00.000000000",
          "2024-04-08T10:45:00.000000000",
          "2024-04-08T11:00:00.000000000",
          "2024-04-08T11:15:00.000000000",
          "2024-04-08T11:30:00.000000000",
          "2024-04-08T11:45:00.000000000",
          "2024-04-08T12:00:00.000000000",
          "2024-04-08T12:15:00.000000000",
          "2024-04-08T12:30:00.000000000",
          "2024-04-08T12:45:00.000000000",
          "2024-04-08T13:00:00.000000000",
          "2024-04-08T13:15:00.000000000",
          "2024-04-08T13:30:00.000000000",
          "2024-04-08T13:45:00.000000000",
          "2024-04-08T14:00:00.000000000",
          "2024-04-08T14:15:00.000000000",
          "2024-04-08T14:30:00.000000000",
          "2024-04-08T14:45:00.000000000",
          "2024-04-08T15:00:00.000000000",
          "2024-04-08T15:15:00.000000000",
          "2024-04-08T15:30:00.000000000",
          "2024-04-08T15:45:00.000000000",
          "2024-04-08T16:00:00.000000000",
          "2024-04-08T16:15:00.000000000",
          "2024-04-08T16:30:00.000000000",
          "2024-04-08T16:45:00.000000000",
          "2024-04-08T17:00:00.000000000",
          "2024-04-08T17:15:00.000000000",
          "2024-04-08T17:30:00.000000000",
          "2024-04-08T17:45:00.000000000",
          "2024-04-08T18:00:00.000000000",
          "2024-04-08T18:15:00.000000000",
          "2024-04-08T18:30:00.000000000",
          "2024-04-08T18:45:00.000000000",
          "2024-04-08T19:00:00.000000000",
          "2024-04-08T19:15:00.000000000",
          "2024-04-08T19:30:00.000000000",
          "2024-04-08T19:45:00.000000000",
          "2024-04-08T20:00:00.000000000"
         ],
         "y": [
          2,
          10,
          4,
          1,
          0,
          2,
          0,
          0,
          10,
          3,
          0,
          0,
          0,
          3,
          6,
          1,
          1,
          0,
          2,
          1,
          1,
          2,
          2,
          0,
          0,
          1,
          4,
          1,
          0,
          1,
          0,
          0,
          1,
          2,
          3,
          12,
          16,
          3,
          1,
          1,
          0,
          0,
          0,
          0,
          0,
          0,
          0,
          0,
          0
         ]
        },
        {
         "mode": "lines+markers",
         "type": "scatter",
         "x": [
          "2024-04-08T08:00:00.000000000",
          "2024-04-08T08:15:00.000000000",
          "2024-04-08T08:30:00.000000000",
          "2024-04-08T08:45:00.000000000",
          "2024-04-08T09:00:00.000000000",
          "2024-04-08T09:15:00.000000000",
          "2024-04-08T09:30:00.000000000",
          "2024-04-08T09:45:00.000000000",
          "2024-04-08T10:00:00.000000000",
          "2024-04-08T10:15:00.000000000",
          "2024-04-08T10:30:00.000000000",
          "2024-04-08T10:45:00.000000000",
          "2024-04-08T11:00:00.000000000",
          "2024-04-08T11:15:00.000000000",
          "2024-04-08T11:30:00.000000000",
          "2024-04-08T11:45:00.000000000",
          "2024-04-08T12:00:00.000000000",
          "2024-04-08T12:15:00.000000000",
          "2024-04-08T12:30:00.000000000",
          "2024-04-08T12:45:00.000000000",
          "2024-04-08T13:00:00.000000000",
          "2024-04-08T13:15:00.000000000",
          "2024-04-08T13:30:00.000000000",
          "2024-04-08T13:45:00.000000000",
          "2024-04-08T14:00:00.000000000",
          "2024-04-08T14:15:00.000000000",
          "2024-04-08T14:30:00.000000000",
          "2024-04-08T14:45:00.000000000",
          "2024-04-08T15:00:00.000000000",
          "2024-04-08T15:15:00.000000000",
          "2024-04-08T15:30:00.000000000",
          "2024-04-08T15:45:00.000000000",
          "2024-04-08T16:00:00.000000000",
          "2024-04-08T16:15:00.000000000",
          "2024-04-08T16:30:00.000000000",
          "2024-04-08T16:45:00.000000000",
          "2024-04-08T17:00:00.000000000",
          "2024-04-08T17:15:00.000000000",
          "2024-04-08T17:30:00.000000000",
          "2024-04-08T17:45:00.000000000",
          "2024-04-08T18:00:00.000000000",
          "2024-04-08T18:15:00.000000000",
          "2024-04-08T18:30:00.000000000",
          "2024-04-08T18:45:00.000000000",
          "2024-04-08T19:00:00.000000000",
          "2024-04-08T19:15:00.000000000",
          "2024-04-08T19:30:00.000000000",
          "2024-04-08T19:45:00.000000000",
          "2024-04-08T20:00:00.000000000"
         ],
         "y": [
          0,
          0,
          0,
          0,
          0,
          0,
          0,
          0,
          0,
          0,
          0,
          0,
          0,
          0,
          0,
          0,
          0,
          0,
          0,
          0,
          0,
          0,
          0,
          0,
          0,
          0,
          0,
          0,
          0,
          0,
          0,
          0,
          0,
          0,
          0,
          0,
          0,
          0,
          0,
          0,
          0,
          0,
          0,
          0,
          0,
          0,
          0,
          0,
          0
         ]
        },
        {
         "mode": "lines+markers",
         "type": "scatter",
         "x": [
          "2024-04-08T08:00:00.000000000",
          "2024-04-08T08:15:00.000000000",
          "2024-04-08T08:30:00.000000000",
          "2024-04-08T08:45:00.000000000",
          "2024-04-08T09:00:00.000000000",
          "2024-04-08T09:15:00.000000000",
          "2024-04-08T09:30:00.000000000",
          "2024-04-08T09:45:00.000000000",
          "2024-04-08T10:00:00.000000000",
          "2024-04-08T10:15:00.000000000",
          "2024-04-08T10:30:00.000000000",
          "2024-04-08T10:45:00.000000000",
          "2024-04-08T11:00:00.000000000",
          "2024-04-08T11:15:00.000000000",
          "2024-04-08T11:30:00.000000000",
          "2024-04-08T11:45:00.000000000",
          "2024-04-08T12:00:00.000000000",
          "2024-04-08T12:15:00.000000000",
          "2024-04-08T12:30:00.000000000",
          "2024-04-08T12:45:00.000000000",
          "2024-04-08T13:00:00.000000000",
          "2024-04-08T13:15:00.000000000",
          "2024-04-08T13:30:00.000000000",
          "2024-04-08T13:45:00.000000000",
          "2024-04-08T14:00:00.000000000",
          "2024-04-08T14:15:00.000000000",
          "2024-04-08T14:30:00.000000000",
          "2024-04-08T14:45:00.000000000",
          "2024-04-08T15:00:00.000000000",
          "2024-04-08T15:15:00.000000000",
          "2024-04-08T15:30:00.000000000",
          "2024-04-08T15:45:00.000000000",
          "2024-04-08T16:00:00.000000000",
          "2024-04-08T16:15:00.000000000",
          "2024-04-08T16:30:00.000000000",
          "2024-04-08T16:45:00.000000000",
          "2024-04-08T17:00:00.000000000",
          "2024-04-08T17:15:00.000000000",
          "2024-04-08T17:30:00.000000000",
          "2024-04-08T17:45:00.000000000",
          "2024-04-08T18:00:00.000000000",
          "2024-04-08T18:15:00.000000000",
          "2024-04-08T18:30:00.000000000",
          "2024-04-08T18:45:00.000000000",
          "2024-04-08T19:00:00.000000000",
          "2024-04-08T19:15:00.000000000",
          "2024-04-08T19:30:00.000000000",
          "2024-04-08T19:45:00.000000000",
          "2024-04-08T20:00:00.000000000"
         ],
         "y": [
          0,
          0,
          0,
          0,
          0,
          0,
          0,
          0,
          0,
          0,
          0,
          0,
          0,
          0,
          0,
          0,
          0,
          0,
          0,
          0,
          0,
          0,
          0,
          0,
          0,
          0,
          0,
          0,
          0,
          0,
          0,
          0,
          0,
          0,
          0,
          0,
          0,
          0,
          0,
          0,
          0,
          0,
          0,
          0,
          0,
          0,
          0,
          0,
          0
         ]
        },
        {
         "mode": "lines+markers",
         "type": "scatter",
         "x": [
          "2024-04-08T08:00:00.000000000",
          "2024-04-08T08:15:00.000000000",
          "2024-04-08T08:30:00.000000000",
          "2024-04-08T08:45:00.000000000",
          "2024-04-08T09:00:00.000000000",
          "2024-04-08T09:15:00.000000000",
          "2024-04-08T09:30:00.000000000",
          "2024-04-08T09:45:00.000000000",
          "2024-04-08T10:00:00.000000000",
          "2024-04-08T10:15:00.000000000",
          "2024-04-08T10:30:00.000000000",
          "2024-04-08T10:45:00.000000000",
          "2024-04-08T11:00:00.000000000",
          "2024-04-08T11:15:00.000000000",
          "2024-04-08T11:30:00.000000000",
          "2024-04-08T11:45:00.000000000",
          "2024-04-08T12:00:00.000000000",
          "2024-04-08T12:15:00.000000000",
          "2024-04-08T12:30:00.000000000",
          "2024-04-08T12:45:00.000000000",
          "2024-04-08T13:00:00.000000000",
          "2024-04-08T13:15:00.000000000",
          "2024-04-08T13:30:00.000000000",
          "2024-04-08T13:45:00.000000000",
          "2024-04-08T14:00:00.000000000",
          "2024-04-08T14:15:00.000000000",
          "2024-04-08T14:30:00.000000000",
          "2024-04-08T14:45:00.000000000",
          "2024-04-08T15:00:00.000000000",
          "2024-04-08T15:15:00.000000000",
          "2024-04-08T15:30:00.000000000",
          "2024-04-08T15:45:00.000000000",
          "2024-04-08T16:00:00.000000000",
          "2024-04-08T16:15:00.000000000",
          "2024-04-08T16:30:00.000000000",
          "2024-04-08T16:45:00.000000000",
          "2024-04-08T17:00:00.000000000",
          "2024-04-08T17:15:00.000000000",
          "2024-04-08T17:30:00.000000000",
          "2024-04-08T17:45:00.000000000",
          "2024-04-08T18:00:00.000000000",
          "2024-04-08T18:15:00.000000000",
          "2024-04-08T18:30:00.000000000",
          "2024-04-08T18:45:00.000000000",
          "2024-04-08T19:00:00.000000000",
          "2024-04-08T19:15:00.000000000",
          "2024-04-08T19:30:00.000000000",
          "2024-04-08T19:45:00.000000000",
          "2024-04-08T20:00:00.000000000"
         ],
         "y": [
          1,
          7,
          0,
          1,
          0,
          1,
          0,
          3,
          3,
          1,
          1,
          3,
          0,
          0,
          0,
          0,
          0,
          0,
          0,
          0,
          0,
          2,
          15,
          0,
          0,
          0,
          1,
          0,
          3,
          17,
          1,
          0,
          3,
          1,
          1,
          0,
          5,
          3,
          0,
          0,
          0,
          0,
          0,
          1,
          0,
          0,
          0,
          0,
          0
         ]
        },
        {
         "mode": "lines+markers",
         "type": "scatter",
         "x": [
          "2024-04-08T08:00:00.000000000",
          "2024-04-08T08:15:00.000000000",
          "2024-04-08T08:30:00.000000000",
          "2024-04-08T08:45:00.000000000",
          "2024-04-08T09:00:00.000000000",
          "2024-04-08T09:15:00.000000000",
          "2024-04-08T09:30:00.000000000",
          "2024-04-08T09:45:00.000000000",
          "2024-04-08T10:00:00.000000000",
          "2024-04-08T10:15:00.000000000",
          "2024-04-08T10:30:00.000000000",
          "2024-04-08T10:45:00.000000000",
          "2024-04-08T11:00:00.000000000",
          "2024-04-08T11:15:00.000000000",
          "2024-04-08T11:30:00.000000000",
          "2024-04-08T11:45:00.000000000",
          "2024-04-08T12:00:00.000000000",
          "2024-04-08T12:15:00.000000000",
          "2024-04-08T12:30:00.000000000",
          "2024-04-08T12:45:00.000000000",
          "2024-04-08T13:00:00.000000000",
          "2024-04-08T13:15:00.000000000",
          "2024-04-08T13:30:00.000000000",
          "2024-04-08T13:45:00.000000000",
          "2024-04-08T14:00:00.000000000",
          "2024-04-08T14:15:00.000000000",
          "2024-04-08T14:30:00.000000000",
          "2024-04-08T14:45:00.000000000",
          "2024-04-08T15:00:00.000000000",
          "2024-04-08T15:15:00.000000000",
          "2024-04-08T15:30:00.000000000",
          "2024-04-08T15:45:00.000000000",
          "2024-04-08T16:00:00.000000000",
          "2024-04-08T16:15:00.000000000",
          "2024-04-08T16:30:00.000000000",
          "2024-04-08T16:45:00.000000000",
          "2024-04-08T17:00:00.000000000",
          "2024-04-08T17:15:00.000000000",
          "2024-04-08T17:30:00.000000000",
          "2024-04-08T17:45:00.000000000",
          "2024-04-08T18:00:00.000000000",
          "2024-04-08T18:15:00.000000000",
          "2024-04-08T18:30:00.000000000",
          "2024-04-08T18:45:00.000000000",
          "2024-04-08T19:00:00.000000000",
          "2024-04-08T19:15:00.000000000",
          "2024-04-08T19:30:00.000000000",
          "2024-04-08T19:45:00.000000000",
          "2024-04-08T20:00:00.000000000"
         ],
         "y": [
          0,
          0,
          0,
          0,
          0,
          0,
          0,
          0,
          0,
          0,
          0,
          0,
          0,
          0,
          0,
          0,
          0,
          0,
          0,
          0,
          0,
          0,
          0,
          0,
          0,
          0,
          0,
          0,
          0,
          0,
          0,
          0,
          0,
          0,
          0,
          0,
          0,
          0,
          0,
          0,
          0,
          0,
          0,
          0,
          0,
          0,
          0,
          0,
          0
         ]
        },
        {
         "mode": "lines+markers",
         "type": "scatter",
         "x": [
          "2024-04-08T08:00:00.000000000",
          "2024-04-08T08:15:00.000000000",
          "2024-04-08T08:30:00.000000000",
          "2024-04-08T08:45:00.000000000",
          "2024-04-08T09:00:00.000000000",
          "2024-04-08T09:15:00.000000000",
          "2024-04-08T09:30:00.000000000",
          "2024-04-08T09:45:00.000000000",
          "2024-04-08T10:00:00.000000000",
          "2024-04-08T10:15:00.000000000",
          "2024-04-08T10:30:00.000000000",
          "2024-04-08T10:45:00.000000000",
          "2024-04-08T11:00:00.000000000",
          "2024-04-08T11:15:00.000000000",
          "2024-04-08T11:30:00.000000000",
          "2024-04-08T11:45:00.000000000",
          "2024-04-08T12:00:00.000000000",
          "2024-04-08T12:15:00.000000000",
          "2024-04-08T12:30:00.000000000",
          "2024-04-08T12:45:00.000000000",
          "2024-04-08T13:00:00.000000000",
          "2024-04-08T13:15:00.000000000",
          "2024-04-08T13:30:00.000000000",
          "2024-04-08T13:45:00.000000000",
          "2024-04-08T14:00:00.000000000",
          "2024-04-08T14:15:00.000000000",
          "2024-04-08T14:30:00.000000000",
          "2024-04-08T14:45:00.000000000",
          "2024-04-08T15:00:00.000000000",
          "2024-04-08T15:15:00.000000000",
          "2024-04-08T15:30:00.000000000",
          "2024-04-08T15:45:00.000000000",
          "2024-04-08T16:00:00.000000000",
          "2024-04-08T16:15:00.000000000",
          "2024-04-08T16:30:00.000000000",
          "2024-04-08T16:45:00.000000000",
          "2024-04-08T17:00:00.000000000",
          "2024-04-08T17:15:00.000000000",
          "2024-04-08T17:30:00.000000000",
          "2024-04-08T17:45:00.000000000",
          "2024-04-08T18:00:00.000000000",
          "2024-04-08T18:15:00.000000000",
          "2024-04-08T18:30:00.000000000",
          "2024-04-08T18:45:00.000000000",
          "2024-04-08T19:00:00.000000000",
          "2024-04-08T19:15:00.000000000",
          "2024-04-08T19:30:00.000000000",
          "2024-04-08T19:45:00.000000000",
          "2024-04-08T20:00:00.000000000"
         ],
         "y": [
          0,
          0,
          2,
          0,
          0,
          0,
          0,
          0,
          0,
          0,
          0,
          0,
          0,
          0,
          0,
          0,
          0,
          0,
          0,
          0,
          0,
          0,
          0,
          0,
          0,
          0,
          0,
          0,
          0,
          0,
          0,
          0,
          0,
          0,
          0,
          0,
          0,
          0,
          0,
          0,
          0,
          0,
          0,
          1,
          0,
          0,
          0,
          0,
          0
         ]
        },
        {
         "mode": "lines+markers",
         "type": "scatter",
         "x": [
          "2024-04-08T08:00:00.000000000",
          "2024-04-08T08:15:00.000000000",
          "2024-04-08T08:30:00.000000000",
          "2024-04-08T08:45:00.000000000",
          "2024-04-08T09:00:00.000000000",
          "2024-04-08T09:15:00.000000000",
          "2024-04-08T09:30:00.000000000",
          "2024-04-08T09:45:00.000000000",
          "2024-04-08T10:00:00.000000000",
          "2024-04-08T10:15:00.000000000",
          "2024-04-08T10:30:00.000000000",
          "2024-04-08T10:45:00.000000000",
          "2024-04-08T11:00:00.000000000",
          "2024-04-08T11:15:00.000000000",
          "2024-04-08T11:30:00.000000000",
          "2024-04-08T11:45:00.000000000",
          "2024-04-08T12:00:00.000000000",
          "2024-04-08T12:15:00.000000000",
          "2024-04-08T12:30:00.000000000",
          "2024-04-08T12:45:00.000000000",
          "2024-04-08T13:00:00.000000000",
          "2024-04-08T13:15:00.000000000",
          "2024-04-08T13:30:00.000000000",
          "2024-04-08T13:45:00.000000000",
          "2024-04-08T14:00:00.000000000",
          "2024-04-08T14:15:00.000000000",
          "2024-04-08T14:30:00.000000000",
          "2024-04-08T14:45:00.000000000",
          "2024-04-08T15:00:00.000000000",
          "2024-04-08T15:15:00.000000000",
          "2024-04-08T15:30:00.000000000",
          "2024-04-08T15:45:00.000000000",
          "2024-04-08T16:00:00.000000000",
          "2024-04-08T16:15:00.000000000",
          "2024-04-08T16:30:00.000000000",
          "2024-04-08T16:45:00.000000000",
          "2024-04-08T17:00:00.000000000",
          "2024-04-08T17:15:00.000000000",
          "2024-04-08T17:30:00.000000000",
          "2024-04-08T17:45:00.000000000",
          "2024-04-08T18:00:00.000000000",
          "2024-04-08T18:15:00.000000000",
          "2024-04-08T18:30:00.000000000",
          "2024-04-08T18:45:00.000000000",
          "2024-04-08T19:00:00.000000000",
          "2024-04-08T19:15:00.000000000",
          "2024-04-08T19:30:00.000000000",
          "2024-04-08T19:45:00.000000000",
          "2024-04-08T20:00:00.000000000"
         ],
         "y": [
          0,
          0,
          0,
          0,
          0,
          0,
          0,
          0,
          0,
          0,
          0,
          0,
          0,
          0,
          0,
          0,
          0,
          0,
          0,
          0,
          0,
          0,
          0,
          0,
          0,
          0,
          0,
          0,
          0,
          0,
          0,
          0,
          0,
          0,
          0,
          0,
          0,
          0,
          0,
          0,
          0,
          0,
          0,
          0,
          0,
          0,
          0,
          0,
          0
         ]
        },
        {
         "mode": "lines+markers",
         "type": "scatter",
         "x": [
          "2024-04-08T08:00:00.000000000",
          "2024-04-08T08:15:00.000000000",
          "2024-04-08T08:30:00.000000000",
          "2024-04-08T08:45:00.000000000",
          "2024-04-08T09:00:00.000000000",
          "2024-04-08T09:15:00.000000000",
          "2024-04-08T09:30:00.000000000",
          "2024-04-08T09:45:00.000000000",
          "2024-04-08T10:00:00.000000000",
          "2024-04-08T10:15:00.000000000",
          "2024-04-08T10:30:00.000000000",
          "2024-04-08T10:45:00.000000000",
          "2024-04-08T11:00:00.000000000",
          "2024-04-08T11:15:00.000000000",
          "2024-04-08T11:30:00.000000000",
          "2024-04-08T11:45:00.000000000",
          "2024-04-08T12:00:00.000000000",
          "2024-04-08T12:15:00.000000000",
          "2024-04-08T12:30:00.000000000",
          "2024-04-08T12:45:00.000000000",
          "2024-04-08T13:00:00.000000000",
          "2024-04-08T13:15:00.000000000",
          "2024-04-08T13:30:00.000000000",
          "2024-04-08T13:45:00.000000000",
          "2024-04-08T14:00:00.000000000",
          "2024-04-08T14:15:00.000000000",
          "2024-04-08T14:30:00.000000000",
          "2024-04-08T14:45:00.000000000",
          "2024-04-08T15:00:00.000000000",
          "2024-04-08T15:15:00.000000000",
          "2024-04-08T15:30:00.000000000",
          "2024-04-08T15:45:00.000000000",
          "2024-04-08T16:00:00.000000000",
          "2024-04-08T16:15:00.000000000",
          "2024-04-08T16:30:00.000000000",
          "2024-04-08T16:45:00.000000000",
          "2024-04-08T17:00:00.000000000",
          "2024-04-08T17:15:00.000000000",
          "2024-04-08T17:30:00.000000000",
          "2024-04-08T17:45:00.000000000",
          "2024-04-08T18:00:00.000000000",
          "2024-04-08T18:15:00.000000000",
          "2024-04-08T18:30:00.000000000",
          "2024-04-08T18:45:00.000000000",
          "2024-04-08T19:00:00.000000000",
          "2024-04-08T19:15:00.000000000",
          "2024-04-08T19:30:00.000000000",
          "2024-04-08T19:45:00.000000000",
          "2024-04-08T20:00:00.000000000"
         ],
         "y": [
          0,
          0,
          0,
          0,
          0,
          0,
          0,
          0,
          0,
          0,
          0,
          0,
          0,
          0,
          0,
          0,
          0,
          0,
          0,
          0,
          0,
          0,
          0,
          0,
          0,
          0,
          0,
          0,
          0,
          0,
          0,
          0,
          0,
          0,
          0,
          0,
          0,
          0,
          0,
          0,
          0,
          0,
          0,
          0,
          0,
          0,
          0,
          0,
          0
         ]
        },
        {
         "mode": "lines+markers",
         "type": "scatter",
         "x": [
          "2024-04-08T08:00:00.000000000",
          "2024-04-08T08:15:00.000000000",
          "2024-04-08T08:30:00.000000000",
          "2024-04-08T08:45:00.000000000",
          "2024-04-08T09:00:00.000000000",
          "2024-04-08T09:15:00.000000000",
          "2024-04-08T09:30:00.000000000",
          "2024-04-08T09:45:00.000000000",
          "2024-04-08T10:00:00.000000000",
          "2024-04-08T10:15:00.000000000",
          "2024-04-08T10:30:00.000000000",
          "2024-04-08T10:45:00.000000000",
          "2024-04-08T11:00:00.000000000",
          "2024-04-08T11:15:00.000000000",
          "2024-04-08T11:30:00.000000000",
          "2024-04-08T11:45:00.000000000",
          "2024-04-08T12:00:00.000000000",
          "2024-04-08T12:15:00.000000000",
          "2024-04-08T12:30:00.000000000",
          "2024-04-08T12:45:00.000000000",
          "2024-04-08T13:00:00.000000000",
          "2024-04-08T13:15:00.000000000",
          "2024-04-08T13:30:00.000000000",
          "2024-04-08T13:45:00.000000000",
          "2024-04-08T14:00:00.000000000",
          "2024-04-08T14:15:00.000000000",
          "2024-04-08T14:30:00.000000000",
          "2024-04-08T14:45:00.000000000",
          "2024-04-08T15:00:00.000000000",
          "2024-04-08T15:15:00.000000000",
          "2024-04-08T15:30:00.000000000",
          "2024-04-08T15:45:00.000000000",
          "2024-04-08T16:00:00.000000000",
          "2024-04-08T16:15:00.000000000",
          "2024-04-08T16:30:00.000000000",
          "2024-04-08T16:45:00.000000000",
          "2024-04-08T17:00:00.000000000",
          "2024-04-08T17:15:00.000000000",
          "2024-04-08T17:30:00.000000000",
          "2024-04-08T17:45:00.000000000",
          "2024-04-08T18:00:00.000000000",
          "2024-04-08T18:15:00.000000000",
          "2024-04-08T18:30:00.000000000",
          "2024-04-08T18:45:00.000000000",
          "2024-04-08T19:00:00.000000000",
          "2024-04-08T19:15:00.000000000",
          "2024-04-08T19:30:00.000000000",
          "2024-04-08T19:45:00.000000000",
          "2024-04-08T20:00:00.000000000"
         ],
         "y": [
          0,
          0,
          0,
          0,
          0,
          0,
          0,
          0,
          0,
          0,
          0,
          0,
          0,
          0,
          0,
          0,
          0,
          0,
          0,
          0,
          0,
          0,
          0,
          0,
          0,
          0,
          0,
          0,
          0,
          0,
          0,
          0,
          0,
          0,
          0,
          0,
          0,
          0,
          0,
          0,
          0,
          0,
          0,
          0,
          0,
          0,
          0,
          0,
          0
         ]
        },
        {
         "mode": "lines+markers",
         "type": "scatter",
         "x": [
          "2024-04-08T08:00:00.000000000",
          "2024-04-08T08:15:00.000000000",
          "2024-04-08T08:30:00.000000000",
          "2024-04-08T08:45:00.000000000",
          "2024-04-08T09:00:00.000000000",
          "2024-04-08T09:15:00.000000000",
          "2024-04-08T09:30:00.000000000",
          "2024-04-08T09:45:00.000000000",
          "2024-04-08T10:00:00.000000000",
          "2024-04-08T10:15:00.000000000",
          "2024-04-08T10:30:00.000000000",
          "2024-04-08T10:45:00.000000000",
          "2024-04-08T11:00:00.000000000",
          "2024-04-08T11:15:00.000000000",
          "2024-04-08T11:30:00.000000000",
          "2024-04-08T11:45:00.000000000",
          "2024-04-08T12:00:00.000000000",
          "2024-04-08T12:15:00.000000000",
          "2024-04-08T12:30:00.000000000",
          "2024-04-08T12:45:00.000000000",
          "2024-04-08T13:00:00.000000000",
          "2024-04-08T13:15:00.000000000",
          "2024-04-08T13:30:00.000000000",
          "2024-04-08T13:45:00.000000000",
          "2024-04-08T14:00:00.000000000",
          "2024-04-08T14:15:00.000000000",
          "2024-04-08T14:30:00.000000000",
          "2024-04-08T14:45:00.000000000",
          "2024-04-08T15:00:00.000000000",
          "2024-04-08T15:15:00.000000000",
          "2024-04-08T15:30:00.000000000",
          "2024-04-08T15:45:00.000000000",
          "2024-04-08T16:00:00.000000000",
          "2024-04-08T16:15:00.000000000",
          "2024-04-08T16:30:00.000000000",
          "2024-04-08T16:45:00.000000000",
          "2024-04-08T17:00:00.000000000",
          "2024-04-08T17:15:00.000000000",
          "2024-04-08T17:30:00.000000000",
          "2024-04-08T17:45:00.000000000",
          "2024-04-08T18:00:00.000000000",
          "2024-04-08T18:15:00.000000000",
          "2024-04-08T18:30:00.000000000",
          "2024-04-08T18:45:00.000000000",
          "2024-04-08T19:00:00.000000000",
          "2024-04-08T19:15:00.000000000",
          "2024-04-08T19:30:00.000000000",
          "2024-04-08T19:45:00.000000000",
          "2024-04-08T20:00:00.000000000"
         ],
         "y": [
          0,
          0,
          0,
          0,
          0,
          0,
          0,
          0,
          0,
          0,
          0,
          0,
          0,
          0,
          0,
          0,
          0,
          0,
          0,
          0,
          0,
          0,
          0,
          0,
          0,
          0,
          0,
          0,
          0,
          0,
          0,
          0,
          0,
          0,
          0,
          0,
          0,
          0,
          0,
          0,
          0,
          0,
          0,
          0,
          0,
          0,
          0,
          0,
          0
         ]
        },
        {
         "mode": "lines+markers",
         "type": "scatter",
         "x": [
          "2024-04-08T08:00:00.000000000",
          "2024-04-08T08:15:00.000000000",
          "2024-04-08T08:30:00.000000000",
          "2024-04-08T08:45:00.000000000",
          "2024-04-08T09:00:00.000000000",
          "2024-04-08T09:15:00.000000000",
          "2024-04-08T09:30:00.000000000",
          "2024-04-08T09:45:00.000000000",
          "2024-04-08T10:00:00.000000000",
          "2024-04-08T10:15:00.000000000",
          "2024-04-08T10:30:00.000000000",
          "2024-04-08T10:45:00.000000000",
          "2024-04-08T11:00:00.000000000",
          "2024-04-08T11:15:00.000000000",
          "2024-04-08T11:30:00.000000000",
          "2024-04-08T11:45:00.000000000",
          "2024-04-08T12:00:00.000000000",
          "2024-04-08T12:15:00.000000000",
          "2024-04-08T12:30:00.000000000",
          "2024-04-08T12:45:00.000000000",
          "2024-04-08T13:00:00.000000000",
          "2024-04-08T13:15:00.000000000",
          "2024-04-08T13:30:00.000000000",
          "2024-04-08T13:45:00.000000000",
          "2024-04-08T14:00:00.000000000",
          "2024-04-08T14:15:00.000000000",
          "2024-04-08T14:30:00.000000000",
          "2024-04-08T14:45:00.000000000",
          "2024-04-08T15:00:00.000000000",
          "2024-04-08T15:15:00.000000000",
          "2024-04-08T15:30:00.000000000",
          "2024-04-08T15:45:00.000000000",
          "2024-04-08T16:00:00.000000000",
          "2024-04-08T16:15:00.000000000",
          "2024-04-08T16:30:00.000000000",
          "2024-04-08T16:45:00.000000000",
          "2024-04-08T17:00:00.000000000",
          "2024-04-08T17:15:00.000000000",
          "2024-04-08T17:30:00.000000000",
          "2024-04-08T17:45:00.000000000",
          "2024-04-08T18:00:00.000000000",
          "2024-04-08T18:15:00.000000000",
          "2024-04-08T18:30:00.000000000",
          "2024-04-08T18:45:00.000000000",
          "2024-04-08T19:00:00.000000000",
          "2024-04-08T19:15:00.000000000",
          "2024-04-08T19:30:00.000000000",
          "2024-04-08T19:45:00.000000000",
          "2024-04-08T20:00:00.000000000"
         ],
         "y": [
          0,
          0,
          0,
          0,
          0,
          0,
          0,
          0,
          0,
          0,
          0,
          0,
          0,
          0,
          0,
          0,
          0,
          0,
          0,
          0,
          0,
          0,
          0,
          0,
          0,
          0,
          0,
          0,
          0,
          0,
          0,
          0,
          0,
          0,
          0,
          0,
          0,
          0,
          0,
          0,
          0,
          0,
          0,
          0,
          0,
          0,
          0,
          0,
          0
         ]
        },
        {
         "mode": "lines+markers",
         "type": "scatter",
         "x": [
          "2024-04-08T08:00:00.000000000",
          "2024-04-08T08:15:00.000000000",
          "2024-04-08T08:30:00.000000000",
          "2024-04-08T08:45:00.000000000",
          "2024-04-08T09:00:00.000000000",
          "2024-04-08T09:15:00.000000000",
          "2024-04-08T09:30:00.000000000",
          "2024-04-08T09:45:00.000000000",
          "2024-04-08T10:00:00.000000000",
          "2024-04-08T10:15:00.000000000",
          "2024-04-08T10:30:00.000000000",
          "2024-04-08T10:45:00.000000000",
          "2024-04-08T11:00:00.000000000",
          "2024-04-08T11:15:00.000000000",
          "2024-04-08T11:30:00.000000000",
          "2024-04-08T11:45:00.000000000",
          "2024-04-08T12:00:00.000000000",
          "2024-04-08T12:15:00.000000000",
          "2024-04-08T12:30:00.000000000",
          "2024-04-08T12:45:00.000000000",
          "2024-04-08T13:00:00.000000000",
          "2024-04-08T13:15:00.000000000",
          "2024-04-08T13:30:00.000000000",
          "2024-04-08T13:45:00.000000000",
          "2024-04-08T14:00:00.000000000",
          "2024-04-08T14:15:00.000000000",
          "2024-04-08T14:30:00.000000000",
          "2024-04-08T14:45:00.000000000",
          "2024-04-08T15:00:00.000000000",
          "2024-04-08T15:15:00.000000000",
          "2024-04-08T15:30:00.000000000",
          "2024-04-08T15:45:00.000000000",
          "2024-04-08T16:00:00.000000000",
          "2024-04-08T16:15:00.000000000",
          "2024-04-08T16:30:00.000000000",
          "2024-04-08T16:45:00.000000000",
          "2024-04-08T17:00:00.000000000",
          "2024-04-08T17:15:00.000000000",
          "2024-04-08T17:30:00.000000000",
          "2024-04-08T17:45:00.000000000",
          "2024-04-08T18:00:00.000000000",
          "2024-04-08T18:15:00.000000000",
          "2024-04-08T18:30:00.000000000",
          "2024-04-08T18:45:00.000000000",
          "2024-04-08T19:00:00.000000000",
          "2024-04-08T19:15:00.000000000",
          "2024-04-08T19:30:00.000000000",
          "2024-04-08T19:45:00.000000000",
          "2024-04-08T20:00:00.000000000"
         ],
         "y": [
          0,
          0,
          0,
          0,
          0,
          0,
          4,
          0,
          0,
          0,
          0,
          0,
          0,
          0,
          1,
          3,
          0,
          0,
          0,
          1,
          0,
          0,
          0,
          0,
          0,
          0,
          0,
          3,
          0,
          0,
          0,
          0,
          18,
          0,
          0,
          0,
          0,
          0,
          0,
          0,
          0,
          0,
          0,
          0,
          0,
          0,
          0,
          0,
          0
         ]
        },
        {
         "mode": "lines+markers",
         "type": "scatter",
         "x": [
          "2024-04-08T08:00:00.000000000",
          "2024-04-08T08:15:00.000000000",
          "2024-04-08T08:30:00.000000000",
          "2024-04-08T08:45:00.000000000",
          "2024-04-08T09:00:00.000000000",
          "2024-04-08T09:15:00.000000000",
          "2024-04-08T09:30:00.000000000",
          "2024-04-08T09:45:00.000000000",
          "2024-04-08T10:00:00.000000000",
          "2024-04-08T10:15:00.000000000",
          "2024-04-08T10:30:00.000000000",
          "2024-04-08T10:45:00.000000000",
          "2024-04-08T11:00:00.000000000",
          "2024-04-08T11:15:00.000000000",
          "2024-04-08T11:30:00.000000000",
          "2024-04-08T11:45:00.000000000",
          "2024-04-08T12:00:00.000000000",
          "2024-04-08T12:15:00.000000000",
          "2024-04-08T12:30:00.000000000",
          "2024-04-08T12:45:00.000000000",
          "2024-04-08T13:00:00.000000000",
          "2024-04-08T13:15:00.000000000",
          "2024-04-08T13:30:00.000000000",
          "2024-04-08T13:45:00.000000000",
          "2024-04-08T14:00:00.000000000",
          "2024-04-08T14:15:00.000000000",
          "2024-04-08T14:30:00.000000000",
          "2024-04-08T14:45:00.000000000",
          "2024-04-08T15:00:00.000000000",
          "2024-04-08T15:15:00.000000000",
          "2024-04-08T15:30:00.000000000",
          "2024-04-08T15:45:00.000000000",
          "2024-04-08T16:00:00.000000000",
          "2024-04-08T16:15:00.000000000",
          "2024-04-08T16:30:00.000000000",
          "2024-04-08T16:45:00.000000000",
          "2024-04-08T17:00:00.000000000",
          "2024-04-08T17:15:00.000000000",
          "2024-04-08T17:30:00.000000000",
          "2024-04-08T17:45:00.000000000",
          "2024-04-08T18:00:00.000000000",
          "2024-04-08T18:15:00.000000000",
          "2024-04-08T18:30:00.000000000",
          "2024-04-08T18:45:00.000000000",
          "2024-04-08T19:00:00.000000000",
          "2024-04-08T19:15:00.000000000",
          "2024-04-08T19:30:00.000000000",
          "2024-04-08T19:45:00.000000000",
          "2024-04-08T20:00:00.000000000"
         ],
         "y": [
          0,
          0,
          0,
          0,
          0,
          0,
          0,
          0,
          0,
          0,
          0,
          0,
          0,
          0,
          0,
          0,
          0,
          0,
          0,
          0,
          0,
          0,
          0,
          0,
          0,
          0,
          0,
          0,
          0,
          0,
          0,
          0,
          0,
          0,
          0,
          0,
          0,
          0,
          0,
          0,
          0,
          0,
          0,
          0,
          0,
          2,
          0,
          0,
          0
         ]
        },
        {
         "mode": "lines+markers",
         "type": "scatter",
         "x": [
          "2024-04-08T08:00:00.000000000",
          "2024-04-08T08:15:00.000000000",
          "2024-04-08T08:30:00.000000000",
          "2024-04-08T08:45:00.000000000",
          "2024-04-08T09:00:00.000000000",
          "2024-04-08T09:15:00.000000000",
          "2024-04-08T09:30:00.000000000",
          "2024-04-08T09:45:00.000000000",
          "2024-04-08T10:00:00.000000000",
          "2024-04-08T10:15:00.000000000",
          "2024-04-08T10:30:00.000000000",
          "2024-04-08T10:45:00.000000000",
          "2024-04-08T11:00:00.000000000",
          "2024-04-08T11:15:00.000000000",
          "2024-04-08T11:30:00.000000000",
          "2024-04-08T11:45:00.000000000",
          "2024-04-08T12:00:00.000000000",
          "2024-04-08T12:15:00.000000000",
          "2024-04-08T12:30:00.000000000",
          "2024-04-08T12:45:00.000000000",
          "2024-04-08T13:00:00.000000000",
          "2024-04-08T13:15:00.000000000",
          "2024-04-08T13:30:00.000000000",
          "2024-04-08T13:45:00.000000000",
          "2024-04-08T14:00:00.000000000",
          "2024-04-08T14:15:00.000000000",
          "2024-04-08T14:30:00.000000000",
          "2024-04-08T14:45:00.000000000",
          "2024-04-08T15:00:00.000000000",
          "2024-04-08T15:15:00.000000000",
          "2024-04-08T15:30:00.000000000",
          "2024-04-08T15:45:00.000000000",
          "2024-04-08T16:00:00.000000000",
          "2024-04-08T16:15:00.000000000",
          "2024-04-08T16:30:00.000000000",
          "2024-04-08T16:45:00.000000000",
          "2024-04-08T17:00:00.000000000",
          "2024-04-08T17:15:00.000000000",
          "2024-04-08T17:30:00.000000000",
          "2024-04-08T17:45:00.000000000",
          "2024-04-08T18:00:00.000000000",
          "2024-04-08T18:15:00.000000000",
          "2024-04-08T18:30:00.000000000",
          "2024-04-08T18:45:00.000000000",
          "2024-04-08T19:00:00.000000000",
          "2024-04-08T19:15:00.000000000",
          "2024-04-08T19:30:00.000000000",
          "2024-04-08T19:45:00.000000000",
          "2024-04-08T20:00:00.000000000"
         ],
         "y": [
          0,
          0,
          0,
          0,
          0,
          0,
          0,
          0,
          0,
          0,
          0,
          0,
          0,
          0,
          0,
          0,
          0,
          0,
          0,
          0,
          0,
          0,
          0,
          0,
          0,
          0,
          0,
          0,
          0,
          0,
          0,
          0,
          0,
          0,
          0,
          0,
          0,
          0,
          0,
          0,
          0,
          0,
          0,
          0,
          0,
          0,
          0,
          0,
          0
         ]
        },
        {
         "mode": "lines+markers",
         "type": "scatter",
         "x": [
          "2024-04-08T08:00:00.000000000",
          "2024-04-08T08:15:00.000000000",
          "2024-04-08T08:30:00.000000000",
          "2024-04-08T08:45:00.000000000",
          "2024-04-08T09:00:00.000000000",
          "2024-04-08T09:15:00.000000000",
          "2024-04-08T09:30:00.000000000",
          "2024-04-08T09:45:00.000000000",
          "2024-04-08T10:00:00.000000000",
          "2024-04-08T10:15:00.000000000",
          "2024-04-08T10:30:00.000000000",
          "2024-04-08T10:45:00.000000000",
          "2024-04-08T11:00:00.000000000",
          "2024-04-08T11:15:00.000000000",
          "2024-04-08T11:30:00.000000000",
          "2024-04-08T11:45:00.000000000",
          "2024-04-08T12:00:00.000000000",
          "2024-04-08T12:15:00.000000000",
          "2024-04-08T12:30:00.000000000",
          "2024-04-08T12:45:00.000000000",
          "2024-04-08T13:00:00.000000000",
          "2024-04-08T13:15:00.000000000",
          "2024-04-08T13:30:00.000000000",
          "2024-04-08T13:45:00.000000000",
          "2024-04-08T14:00:00.000000000",
          "2024-04-08T14:15:00.000000000",
          "2024-04-08T14:30:00.000000000",
          "2024-04-08T14:45:00.000000000",
          "2024-04-08T15:00:00.000000000",
          "2024-04-08T15:15:00.000000000",
          "2024-04-08T15:30:00.000000000",
          "2024-04-08T15:45:00.000000000",
          "2024-04-08T16:00:00.000000000",
          "2024-04-08T16:15:00.000000000",
          "2024-04-08T16:30:00.000000000",
          "2024-04-08T16:45:00.000000000",
          "2024-04-08T17:00:00.000000000",
          "2024-04-08T17:15:00.000000000",
          "2024-04-08T17:30:00.000000000",
          "2024-04-08T17:45:00.000000000",
          "2024-04-08T18:00:00.000000000",
          "2024-04-08T18:15:00.000000000",
          "2024-04-08T18:30:00.000000000",
          "2024-04-08T18:45:00.000000000",
          "2024-04-08T19:00:00.000000000",
          "2024-04-08T19:15:00.000000000",
          "2024-04-08T19:30:00.000000000",
          "2024-04-08T19:45:00.000000000",
          "2024-04-08T20:00:00.000000000"
         ],
         "y": [
          0,
          0,
          0,
          0,
          0,
          0,
          0,
          0,
          0,
          0,
          0,
          0,
          0,
          0,
          0,
          0,
          0,
          0,
          0,
          0,
          0,
          0,
          0,
          0,
          0,
          0,
          0,
          0,
          0,
          0,
          0,
          0,
          0,
          0,
          0,
          0,
          0,
          0,
          0,
          0,
          0,
          0,
          0,
          0,
          0,
          0,
          0,
          0,
          0
         ]
        },
        {
         "mode": "lines+markers",
         "type": "scatter",
         "x": [
          "2024-04-08T08:00:00.000000000",
          "2024-04-08T08:15:00.000000000",
          "2024-04-08T08:30:00.000000000",
          "2024-04-08T08:45:00.000000000",
          "2024-04-08T09:00:00.000000000",
          "2024-04-08T09:15:00.000000000",
          "2024-04-08T09:30:00.000000000",
          "2024-04-08T09:45:00.000000000",
          "2024-04-08T10:00:00.000000000",
          "2024-04-08T10:15:00.000000000",
          "2024-04-08T10:30:00.000000000",
          "2024-04-08T10:45:00.000000000",
          "2024-04-08T11:00:00.000000000",
          "2024-04-08T11:15:00.000000000",
          "2024-04-08T11:30:00.000000000",
          "2024-04-08T11:45:00.000000000",
          "2024-04-08T12:00:00.000000000",
          "2024-04-08T12:15:00.000000000",
          "2024-04-08T12:30:00.000000000",
          "2024-04-08T12:45:00.000000000",
          "2024-04-08T13:00:00.000000000",
          "2024-04-08T13:15:00.000000000",
          "2024-04-08T13:30:00.000000000",
          "2024-04-08T13:45:00.000000000",
          "2024-04-08T14:00:00.000000000",
          "2024-04-08T14:15:00.000000000",
          "2024-04-08T14:30:00.000000000",
          "2024-04-08T14:45:00.000000000",
          "2024-04-08T15:00:00.000000000",
          "2024-04-08T15:15:00.000000000",
          "2024-04-08T15:30:00.000000000",
          "2024-04-08T15:45:00.000000000",
          "2024-04-08T16:00:00.000000000",
          "2024-04-08T16:15:00.000000000",
          "2024-04-08T16:30:00.000000000",
          "2024-04-08T16:45:00.000000000",
          "2024-04-08T17:00:00.000000000",
          "2024-04-08T17:15:00.000000000",
          "2024-04-08T17:30:00.000000000",
          "2024-04-08T17:45:00.000000000",
          "2024-04-08T18:00:00.000000000",
          "2024-04-08T18:15:00.000000000",
          "2024-04-08T18:30:00.000000000",
          "2024-04-08T18:45:00.000000000",
          "2024-04-08T19:00:00.000000000",
          "2024-04-08T19:15:00.000000000",
          "2024-04-08T19:30:00.000000000",
          "2024-04-08T19:45:00.000000000",
          "2024-04-08T20:00:00.000000000"
         ],
         "y": [
          5,
          15,
          10,
          0,
          2,
          1,
          0,
          0,
          4,
          0,
          0,
          0,
          0,
          0,
          0,
          0,
          0,
          3,
          0,
          0,
          0,
          1,
          9,
          0,
          0,
          0,
          0,
          0,
          2,
          11,
          7,
          0,
          1,
          1,
          2,
          0,
          0,
          0,
          0,
          0,
          0,
          0,
          0,
          2,
          0,
          0,
          0,
          0,
          0
         ]
        },
        {
         "mode": "lines+markers",
         "type": "scatter",
         "x": [
          "2024-04-08T08:00:00.000000000",
          "2024-04-08T08:15:00.000000000",
          "2024-04-08T08:30:00.000000000",
          "2024-04-08T08:45:00.000000000",
          "2024-04-08T09:00:00.000000000",
          "2024-04-08T09:15:00.000000000",
          "2024-04-08T09:30:00.000000000",
          "2024-04-08T09:45:00.000000000",
          "2024-04-08T10:00:00.000000000",
          "2024-04-08T10:15:00.000000000",
          "2024-04-08T10:30:00.000000000",
          "2024-04-08T10:45:00.000000000",
          "2024-04-08T11:00:00.000000000",
          "2024-04-08T11:15:00.000000000",
          "2024-04-08T11:30:00.000000000",
          "2024-04-08T11:45:00.000000000",
          "2024-04-08T12:00:00.000000000",
          "2024-04-08T12:15:00.000000000",
          "2024-04-08T12:30:00.000000000",
          "2024-04-08T12:45:00.000000000",
          "2024-04-08T13:00:00.000000000",
          "2024-04-08T13:15:00.000000000",
          "2024-04-08T13:30:00.000000000",
          "2024-04-08T13:45:00.000000000",
          "2024-04-08T14:00:00.000000000",
          "2024-04-08T14:15:00.000000000",
          "2024-04-08T14:30:00.000000000",
          "2024-04-08T14:45:00.000000000",
          "2024-04-08T15:00:00.000000000",
          "2024-04-08T15:15:00.000000000",
          "2024-04-08T15:30:00.000000000",
          "2024-04-08T15:45:00.000000000",
          "2024-04-08T16:00:00.000000000",
          "2024-04-08T16:15:00.000000000",
          "2024-04-08T16:30:00.000000000",
          "2024-04-08T16:45:00.000000000",
          "2024-04-08T17:00:00.000000000",
          "2024-04-08T17:15:00.000000000",
          "2024-04-08T17:30:00.000000000",
          "2024-04-08T17:45:00.000000000",
          "2024-04-08T18:00:00.000000000",
          "2024-04-08T18:15:00.000000000",
          "2024-04-08T18:30:00.000000000",
          "2024-04-08T18:45:00.000000000",
          "2024-04-08T19:00:00.000000000",
          "2024-04-08T19:15:00.000000000",
          "2024-04-08T19:30:00.000000000",
          "2024-04-08T19:45:00.000000000",
          "2024-04-08T20:00:00.000000000"
         ],
         "y": [
          0,
          0,
          0,
          0,
          0,
          0,
          0,
          0,
          0,
          0,
          0,
          0,
          0,
          0,
          0,
          0,
          0,
          0,
          0,
          0,
          0,
          0,
          0,
          0,
          0,
          0,
          0,
          0,
          0,
          0,
          0,
          0,
          0,
          0,
          0,
          0,
          0,
          0,
          0,
          0,
          0,
          0,
          0,
          0,
          0,
          0,
          0,
          0,
          0
         ]
        },
        {
         "mode": "lines+markers",
         "type": "scatter",
         "x": [
          "2024-04-08T08:00:00.000000000",
          "2024-04-08T08:15:00.000000000",
          "2024-04-08T08:30:00.000000000",
          "2024-04-08T08:45:00.000000000",
          "2024-04-08T09:00:00.000000000",
          "2024-04-08T09:15:00.000000000",
          "2024-04-08T09:30:00.000000000",
          "2024-04-08T09:45:00.000000000",
          "2024-04-08T10:00:00.000000000",
          "2024-04-08T10:15:00.000000000",
          "2024-04-08T10:30:00.000000000",
          "2024-04-08T10:45:00.000000000",
          "2024-04-08T11:00:00.000000000",
          "2024-04-08T11:15:00.000000000",
          "2024-04-08T11:30:00.000000000",
          "2024-04-08T11:45:00.000000000",
          "2024-04-08T12:00:00.000000000",
          "2024-04-08T12:15:00.000000000",
          "2024-04-08T12:30:00.000000000",
          "2024-04-08T12:45:00.000000000",
          "2024-04-08T13:00:00.000000000",
          "2024-04-08T13:15:00.000000000",
          "2024-04-08T13:30:00.000000000",
          "2024-04-08T13:45:00.000000000",
          "2024-04-08T14:00:00.000000000",
          "2024-04-08T14:15:00.000000000",
          "2024-04-08T14:30:00.000000000",
          "2024-04-08T14:45:00.000000000",
          "2024-04-08T15:00:00.000000000",
          "2024-04-08T15:15:00.000000000",
          "2024-04-08T15:30:00.000000000",
          "2024-04-08T15:45:00.000000000",
          "2024-04-08T16:00:00.000000000",
          "2024-04-08T16:15:00.000000000",
          "2024-04-08T16:30:00.000000000",
          "2024-04-08T16:45:00.000000000",
          "2024-04-08T17:00:00.000000000",
          "2024-04-08T17:15:00.000000000",
          "2024-04-08T17:30:00.000000000",
          "2024-04-08T17:45:00.000000000",
          "2024-04-08T18:00:00.000000000",
          "2024-04-08T18:15:00.000000000",
          "2024-04-08T18:30:00.000000000",
          "2024-04-08T18:45:00.000000000",
          "2024-04-08T19:00:00.000000000",
          "2024-04-08T19:15:00.000000000",
          "2024-04-08T19:30:00.000000000",
          "2024-04-08T19:45:00.000000000",
          "2024-04-08T20:00:00.000000000"
         ],
         "y": [
          0,
          0,
          0,
          0,
          0,
          0,
          0,
          0,
          0,
          0,
          0,
          0,
          0,
          0,
          0,
          0,
          0,
          0,
          0,
          0,
          0,
          0,
          0,
          0,
          0,
          0,
          0,
          0,
          0,
          0,
          0,
          0,
          0,
          0,
          0,
          0,
          0,
          0,
          0,
          0,
          0,
          0,
          0,
          0,
          0,
          3,
          0,
          0,
          0
         ]
        },
        {
         "mode": "lines+markers",
         "type": "scatter",
         "x": [
          "2024-04-08T08:00:00.000000000",
          "2024-04-08T08:15:00.000000000",
          "2024-04-08T08:30:00.000000000",
          "2024-04-08T08:45:00.000000000",
          "2024-04-08T09:00:00.000000000",
          "2024-04-08T09:15:00.000000000",
          "2024-04-08T09:30:00.000000000",
          "2024-04-08T09:45:00.000000000",
          "2024-04-08T10:00:00.000000000",
          "2024-04-08T10:15:00.000000000",
          "2024-04-08T10:30:00.000000000",
          "2024-04-08T10:45:00.000000000",
          "2024-04-08T11:00:00.000000000",
          "2024-04-08T11:15:00.000000000",
          "2024-04-08T11:30:00.000000000",
          "2024-04-08T11:45:00.000000000",
          "2024-04-08T12:00:00.000000000",
          "2024-04-08T12:15:00.000000000",
          "2024-04-08T12:30:00.000000000",
          "2024-04-08T12:45:00.000000000",
          "2024-04-08T13:00:00.000000000",
          "2024-04-08T13:15:00.000000000",
          "2024-04-08T13:30:00.000000000",
          "2024-04-08T13:45:00.000000000",
          "2024-04-08T14:00:00.000000000",
          "2024-04-08T14:15:00.000000000",
          "2024-04-08T14:30:00.000000000",
          "2024-04-08T14:45:00.000000000",
          "2024-04-08T15:00:00.000000000",
          "2024-04-08T15:15:00.000000000",
          "2024-04-08T15:30:00.000000000",
          "2024-04-08T15:45:00.000000000",
          "2024-04-08T16:00:00.000000000",
          "2024-04-08T16:15:00.000000000",
          "2024-04-08T16:30:00.000000000",
          "2024-04-08T16:45:00.000000000",
          "2024-04-08T17:00:00.000000000",
          "2024-04-08T17:15:00.000000000",
          "2024-04-08T17:30:00.000000000",
          "2024-04-08T17:45:00.000000000",
          "2024-04-08T18:00:00.000000000",
          "2024-04-08T18:15:00.000000000",
          "2024-04-08T18:30:00.000000000",
          "2024-04-08T18:45:00.000000000",
          "2024-04-08T19:00:00.000000000",
          "2024-04-08T19:15:00.000000000",
          "2024-04-08T19:30:00.000000000",
          "2024-04-08T19:45:00.000000000",
          "2024-04-08T20:00:00.000000000"
         ],
         "y": [
          0,
          0,
          0,
          0,
          0,
          0,
          0,
          0,
          0,
          0,
          0,
          0,
          0,
          0,
          0,
          0,
          0,
          0,
          0,
          0,
          0,
          0,
          0,
          0,
          0,
          0,
          0,
          0,
          0,
          0,
          0,
          0,
          0,
          0,
          0,
          0,
          0,
          0,
          0,
          0,
          0,
          0,
          0,
          0,
          0,
          0,
          0,
          0,
          0
         ]
        },
        {
         "mode": "lines+markers",
         "type": "scatter",
         "x": [
          "2024-04-08T08:00:00.000000000",
          "2024-04-08T08:15:00.000000000",
          "2024-04-08T08:30:00.000000000",
          "2024-04-08T08:45:00.000000000",
          "2024-04-08T09:00:00.000000000",
          "2024-04-08T09:15:00.000000000",
          "2024-04-08T09:30:00.000000000",
          "2024-04-08T09:45:00.000000000",
          "2024-04-08T10:00:00.000000000",
          "2024-04-08T10:15:00.000000000",
          "2024-04-08T10:30:00.000000000",
          "2024-04-08T10:45:00.000000000",
          "2024-04-08T11:00:00.000000000",
          "2024-04-08T11:15:00.000000000",
          "2024-04-08T11:30:00.000000000",
          "2024-04-08T11:45:00.000000000",
          "2024-04-08T12:00:00.000000000",
          "2024-04-08T12:15:00.000000000",
          "2024-04-08T12:30:00.000000000",
          "2024-04-08T12:45:00.000000000",
          "2024-04-08T13:00:00.000000000",
          "2024-04-08T13:15:00.000000000",
          "2024-04-08T13:30:00.000000000",
          "2024-04-08T13:45:00.000000000",
          "2024-04-08T14:00:00.000000000",
          "2024-04-08T14:15:00.000000000",
          "2024-04-08T14:30:00.000000000",
          "2024-04-08T14:45:00.000000000",
          "2024-04-08T15:00:00.000000000",
          "2024-04-08T15:15:00.000000000",
          "2024-04-08T15:30:00.000000000",
          "2024-04-08T15:45:00.000000000",
          "2024-04-08T16:00:00.000000000",
          "2024-04-08T16:15:00.000000000",
          "2024-04-08T16:30:00.000000000",
          "2024-04-08T16:45:00.000000000",
          "2024-04-08T17:00:00.000000000",
          "2024-04-08T17:15:00.000000000",
          "2024-04-08T17:30:00.000000000",
          "2024-04-08T17:45:00.000000000",
          "2024-04-08T18:00:00.000000000",
          "2024-04-08T18:15:00.000000000",
          "2024-04-08T18:30:00.000000000",
          "2024-04-08T18:45:00.000000000",
          "2024-04-08T19:00:00.000000000",
          "2024-04-08T19:15:00.000000000",
          "2024-04-08T19:30:00.000000000",
          "2024-04-08T19:45:00.000000000",
          "2024-04-08T20:00:00.000000000"
         ],
         "y": [
          0,
          0,
          0,
          0,
          0,
          0,
          0,
          0,
          0,
          0,
          0,
          0,
          0,
          0,
          0,
          0,
          0,
          0,
          0,
          0,
          0,
          0,
          0,
          0,
          0,
          0,
          0,
          0,
          0,
          0,
          0,
          0,
          0,
          0,
          0,
          0,
          0,
          0,
          0,
          0,
          0,
          0,
          0,
          0,
          0,
          0,
          0,
          0,
          0
         ]
        },
        {
         "mode": "lines+markers",
         "type": "scatter",
         "x": [
          "2024-04-08T08:00:00.000000000",
          "2024-04-08T08:15:00.000000000",
          "2024-04-08T08:30:00.000000000",
          "2024-04-08T08:45:00.000000000",
          "2024-04-08T09:00:00.000000000",
          "2024-04-08T09:15:00.000000000",
          "2024-04-08T09:30:00.000000000",
          "2024-04-08T09:45:00.000000000",
          "2024-04-08T10:00:00.000000000",
          "2024-04-08T10:15:00.000000000",
          "2024-04-08T10:30:00.000000000",
          "2024-04-08T10:45:00.000000000",
          "2024-04-08T11:00:00.000000000",
          "2024-04-08T11:15:00.000000000",
          "2024-04-08T11:30:00.000000000",
          "2024-04-08T11:45:00.000000000",
          "2024-04-08T12:00:00.000000000",
          "2024-04-08T12:15:00.000000000",
          "2024-04-08T12:30:00.000000000",
          "2024-04-08T12:45:00.000000000",
          "2024-04-08T13:00:00.000000000",
          "2024-04-08T13:15:00.000000000",
          "2024-04-08T13:30:00.000000000",
          "2024-04-08T13:45:00.000000000",
          "2024-04-08T14:00:00.000000000",
          "2024-04-08T14:15:00.000000000",
          "2024-04-08T14:30:00.000000000",
          "2024-04-08T14:45:00.000000000",
          "2024-04-08T15:00:00.000000000",
          "2024-04-08T15:15:00.000000000",
          "2024-04-08T15:30:00.000000000",
          "2024-04-08T15:45:00.000000000",
          "2024-04-08T16:00:00.000000000",
          "2024-04-08T16:15:00.000000000",
          "2024-04-08T16:30:00.000000000",
          "2024-04-08T16:45:00.000000000",
          "2024-04-08T17:00:00.000000000",
          "2024-04-08T17:15:00.000000000",
          "2024-04-08T17:30:00.000000000",
          "2024-04-08T17:45:00.000000000",
          "2024-04-08T18:00:00.000000000",
          "2024-04-08T18:15:00.000000000",
          "2024-04-08T18:30:00.000000000",
          "2024-04-08T18:45:00.000000000",
          "2024-04-08T19:00:00.000000000",
          "2024-04-08T19:15:00.000000000",
          "2024-04-08T19:30:00.000000000",
          "2024-04-08T19:45:00.000000000",
          "2024-04-08T20:00:00.000000000"
         ],
         "y": [
          0,
          0,
          0,
          0,
          0,
          2,
          0,
          0,
          0,
          0,
          0,
          0,
          0,
          0,
          2,
          2,
          0,
          0,
          0,
          0,
          0,
          0,
          0,
          0,
          0,
          0,
          0,
          0,
          0,
          0,
          0,
          0,
          0,
          0,
          0,
          0,
          0,
          0,
          0,
          0,
          0,
          0,
          0,
          0,
          0,
          1,
          0,
          0,
          0
         ]
        },
        {
         "mode": "lines+markers",
         "type": "scatter",
         "x": [
          "2024-04-08T08:00:00.000000000",
          "2024-04-08T08:15:00.000000000",
          "2024-04-08T08:30:00.000000000",
          "2024-04-08T08:45:00.000000000",
          "2024-04-08T09:00:00.000000000",
          "2024-04-08T09:15:00.000000000",
          "2024-04-08T09:30:00.000000000",
          "2024-04-08T09:45:00.000000000",
          "2024-04-08T10:00:00.000000000",
          "2024-04-08T10:15:00.000000000",
          "2024-04-08T10:30:00.000000000",
          "2024-04-08T10:45:00.000000000",
          "2024-04-08T11:00:00.000000000",
          "2024-04-08T11:15:00.000000000",
          "2024-04-08T11:30:00.000000000",
          "2024-04-08T11:45:00.000000000",
          "2024-04-08T12:00:00.000000000",
          "2024-04-08T12:15:00.000000000",
          "2024-04-08T12:30:00.000000000",
          "2024-04-08T12:45:00.000000000",
          "2024-04-08T13:00:00.000000000",
          "2024-04-08T13:15:00.000000000",
          "2024-04-08T13:30:00.000000000",
          "2024-04-08T13:45:00.000000000",
          "2024-04-08T14:00:00.000000000",
          "2024-04-08T14:15:00.000000000",
          "2024-04-08T14:30:00.000000000",
          "2024-04-08T14:45:00.000000000",
          "2024-04-08T15:00:00.000000000",
          "2024-04-08T15:15:00.000000000",
          "2024-04-08T15:30:00.000000000",
          "2024-04-08T15:45:00.000000000",
          "2024-04-08T16:00:00.000000000",
          "2024-04-08T16:15:00.000000000",
          "2024-04-08T16:30:00.000000000",
          "2024-04-08T16:45:00.000000000",
          "2024-04-08T17:00:00.000000000",
          "2024-04-08T17:15:00.000000000",
          "2024-04-08T17:30:00.000000000",
          "2024-04-08T17:45:00.000000000",
          "2024-04-08T18:00:00.000000000",
          "2024-04-08T18:15:00.000000000",
          "2024-04-08T18:30:00.000000000",
          "2024-04-08T18:45:00.000000000",
          "2024-04-08T19:00:00.000000000",
          "2024-04-08T19:15:00.000000000",
          "2024-04-08T19:30:00.000000000",
          "2024-04-08T19:45:00.000000000",
          "2024-04-08T20:00:00.000000000"
         ],
         "y": [
          0,
          0,
          0,
          0,
          0,
          0,
          0,
          0,
          0,
          0,
          0,
          0,
          0,
          0,
          0,
          0,
          0,
          0,
          0,
          0,
          0,
          0,
          0,
          0,
          0,
          0,
          0,
          0,
          0,
          0,
          0,
          0,
          0,
          0,
          0,
          0,
          0,
          0,
          0,
          0,
          0,
          0,
          0,
          0,
          0,
          0,
          0,
          0,
          0
         ]
        },
        {
         "mode": "lines+markers",
         "type": "scatter",
         "x": [
          "2024-04-08T08:00:00.000000000",
          "2024-04-08T08:15:00.000000000",
          "2024-04-08T08:30:00.000000000",
          "2024-04-08T08:45:00.000000000",
          "2024-04-08T09:00:00.000000000",
          "2024-04-08T09:15:00.000000000",
          "2024-04-08T09:30:00.000000000",
          "2024-04-08T09:45:00.000000000",
          "2024-04-08T10:00:00.000000000",
          "2024-04-08T10:15:00.000000000",
          "2024-04-08T10:30:00.000000000",
          "2024-04-08T10:45:00.000000000",
          "2024-04-08T11:00:00.000000000",
          "2024-04-08T11:15:00.000000000",
          "2024-04-08T11:30:00.000000000",
          "2024-04-08T11:45:00.000000000",
          "2024-04-08T12:00:00.000000000",
          "2024-04-08T12:15:00.000000000",
          "2024-04-08T12:30:00.000000000",
          "2024-04-08T12:45:00.000000000",
          "2024-04-08T13:00:00.000000000",
          "2024-04-08T13:15:00.000000000",
          "2024-04-08T13:30:00.000000000",
          "2024-04-08T13:45:00.000000000",
          "2024-04-08T14:00:00.000000000",
          "2024-04-08T14:15:00.000000000",
          "2024-04-08T14:30:00.000000000",
          "2024-04-08T14:45:00.000000000",
          "2024-04-08T15:00:00.000000000",
          "2024-04-08T15:15:00.000000000",
          "2024-04-08T15:30:00.000000000",
          "2024-04-08T15:45:00.000000000",
          "2024-04-08T16:00:00.000000000",
          "2024-04-08T16:15:00.000000000",
          "2024-04-08T16:30:00.000000000",
          "2024-04-08T16:45:00.000000000",
          "2024-04-08T17:00:00.000000000",
          "2024-04-08T17:15:00.000000000",
          "2024-04-08T17:30:00.000000000",
          "2024-04-08T17:45:00.000000000",
          "2024-04-08T18:00:00.000000000",
          "2024-04-08T18:15:00.000000000",
          "2024-04-08T18:30:00.000000000",
          "2024-04-08T18:45:00.000000000",
          "2024-04-08T19:00:00.000000000",
          "2024-04-08T19:15:00.000000000",
          "2024-04-08T19:30:00.000000000",
          "2024-04-08T19:45:00.000000000",
          "2024-04-08T20:00:00.000000000"
         ],
         "y": [
          0,
          0,
          0,
          0,
          0,
          0,
          0,
          0,
          0,
          0,
          0,
          0,
          0,
          0,
          0,
          0,
          0,
          0,
          0,
          0,
          0,
          0,
          0,
          0,
          0,
          0,
          0,
          0,
          0,
          0,
          0,
          0,
          0,
          0,
          0,
          0,
          0,
          0,
          0,
          0,
          0,
          0,
          0,
          0,
          0,
          0,
          0,
          0,
          0
         ]
        },
        {
         "mode": "lines+markers",
         "type": "scatter",
         "x": [
          "2024-04-08T08:00:00.000000000",
          "2024-04-08T08:15:00.000000000",
          "2024-04-08T08:30:00.000000000",
          "2024-04-08T08:45:00.000000000",
          "2024-04-08T09:00:00.000000000",
          "2024-04-08T09:15:00.000000000",
          "2024-04-08T09:30:00.000000000",
          "2024-04-08T09:45:00.000000000",
          "2024-04-08T10:00:00.000000000",
          "2024-04-08T10:15:00.000000000",
          "2024-04-08T10:30:00.000000000",
          "2024-04-08T10:45:00.000000000",
          "2024-04-08T11:00:00.000000000",
          "2024-04-08T11:15:00.000000000",
          "2024-04-08T11:30:00.000000000",
          "2024-04-08T11:45:00.000000000",
          "2024-04-08T12:00:00.000000000",
          "2024-04-08T12:15:00.000000000",
          "2024-04-08T12:30:00.000000000",
          "2024-04-08T12:45:00.000000000",
          "2024-04-08T13:00:00.000000000",
          "2024-04-08T13:15:00.000000000",
          "2024-04-08T13:30:00.000000000",
          "2024-04-08T13:45:00.000000000",
          "2024-04-08T14:00:00.000000000",
          "2024-04-08T14:15:00.000000000",
          "2024-04-08T14:30:00.000000000",
          "2024-04-08T14:45:00.000000000",
          "2024-04-08T15:00:00.000000000",
          "2024-04-08T15:15:00.000000000",
          "2024-04-08T15:30:00.000000000",
          "2024-04-08T15:45:00.000000000",
          "2024-04-08T16:00:00.000000000",
          "2024-04-08T16:15:00.000000000",
          "2024-04-08T16:30:00.000000000",
          "2024-04-08T16:45:00.000000000",
          "2024-04-08T17:00:00.000000000",
          "2024-04-08T17:15:00.000000000",
          "2024-04-08T17:30:00.000000000",
          "2024-04-08T17:45:00.000000000",
          "2024-04-08T18:00:00.000000000",
          "2024-04-08T18:15:00.000000000",
          "2024-04-08T18:30:00.000000000",
          "2024-04-08T18:45:00.000000000",
          "2024-04-08T19:00:00.000000000",
          "2024-04-08T19:15:00.000000000",
          "2024-04-08T19:30:00.000000000",
          "2024-04-08T19:45:00.000000000",
          "2024-04-08T20:00:00.000000000"
         ],
         "y": [
          5,
          22,
          13,
          4,
          1,
          0,
          5,
          0,
          6,
          4,
          2,
          2,
          0,
          1,
          0,
          0,
          0,
          0,
          0,
          0,
          0,
          0,
          8,
          1,
          0,
          0,
          0,
          0,
          2,
          5,
          8,
          0,
          0,
          0,
          0,
          0,
          0,
          2,
          0,
          0,
          0,
          0,
          0,
          0,
          0,
          0,
          0,
          0,
          0
         ]
        },
        {
         "mode": "lines+markers",
         "type": "scatter",
         "x": [
          "2024-04-08T08:00:00.000000000",
          "2024-04-08T08:15:00.000000000",
          "2024-04-08T08:30:00.000000000",
          "2024-04-08T08:45:00.000000000",
          "2024-04-08T09:00:00.000000000",
          "2024-04-08T09:15:00.000000000",
          "2024-04-08T09:30:00.000000000",
          "2024-04-08T09:45:00.000000000",
          "2024-04-08T10:00:00.000000000",
          "2024-04-08T10:15:00.000000000",
          "2024-04-08T10:30:00.000000000",
          "2024-04-08T10:45:00.000000000",
          "2024-04-08T11:00:00.000000000",
          "2024-04-08T11:15:00.000000000",
          "2024-04-08T11:30:00.000000000",
          "2024-04-08T11:45:00.000000000",
          "2024-04-08T12:00:00.000000000",
          "2024-04-08T12:15:00.000000000",
          "2024-04-08T12:30:00.000000000",
          "2024-04-08T12:45:00.000000000",
          "2024-04-08T13:00:00.000000000",
          "2024-04-08T13:15:00.000000000",
          "2024-04-08T13:30:00.000000000",
          "2024-04-08T13:45:00.000000000",
          "2024-04-08T14:00:00.000000000",
          "2024-04-08T14:15:00.000000000",
          "2024-04-08T14:30:00.000000000",
          "2024-04-08T14:45:00.000000000",
          "2024-04-08T15:00:00.000000000",
          "2024-04-08T15:15:00.000000000",
          "2024-04-08T15:30:00.000000000",
          "2024-04-08T15:45:00.000000000",
          "2024-04-08T16:00:00.000000000",
          "2024-04-08T16:15:00.000000000",
          "2024-04-08T16:30:00.000000000",
          "2024-04-08T16:45:00.000000000",
          "2024-04-08T17:00:00.000000000",
          "2024-04-08T17:15:00.000000000",
          "2024-04-08T17:30:00.000000000",
          "2024-04-08T17:45:00.000000000",
          "2024-04-08T18:00:00.000000000",
          "2024-04-08T18:15:00.000000000",
          "2024-04-08T18:30:00.000000000",
          "2024-04-08T18:45:00.000000000",
          "2024-04-08T19:00:00.000000000",
          "2024-04-08T19:15:00.000000000",
          "2024-04-08T19:30:00.000000000",
          "2024-04-08T19:45:00.000000000",
          "2024-04-08T20:00:00.000000000"
         ],
         "y": [
          0,
          0,
          0,
          0,
          0,
          0,
          2,
          7,
          15,
          2,
          0,
          0,
          0,
          0,
          0,
          0,
          0,
          0,
          0,
          0,
          0,
          0,
          0,
          0,
          0,
          0,
          0,
          0,
          0,
          0,
          0,
          0,
          0,
          0,
          0,
          0,
          0,
          0,
          0,
          0,
          0,
          0,
          0,
          0,
          0,
          0,
          0,
          2,
          0
         ]
        },
        {
         "mode": "lines+markers",
         "type": "scatter",
         "x": [
          "2024-04-08T08:00:00.000000000",
          "2024-04-08T08:15:00.000000000",
          "2024-04-08T08:30:00.000000000",
          "2024-04-08T08:45:00.000000000",
          "2024-04-08T09:00:00.000000000",
          "2024-04-08T09:15:00.000000000",
          "2024-04-08T09:30:00.000000000",
          "2024-04-08T09:45:00.000000000",
          "2024-04-08T10:00:00.000000000",
          "2024-04-08T10:15:00.000000000",
          "2024-04-08T10:30:00.000000000",
          "2024-04-08T10:45:00.000000000",
          "2024-04-08T11:00:00.000000000",
          "2024-04-08T11:15:00.000000000",
          "2024-04-08T11:30:00.000000000",
          "2024-04-08T11:45:00.000000000",
          "2024-04-08T12:00:00.000000000",
          "2024-04-08T12:15:00.000000000",
          "2024-04-08T12:30:00.000000000",
          "2024-04-08T12:45:00.000000000",
          "2024-04-08T13:00:00.000000000",
          "2024-04-08T13:15:00.000000000",
          "2024-04-08T13:30:00.000000000",
          "2024-04-08T13:45:00.000000000",
          "2024-04-08T14:00:00.000000000",
          "2024-04-08T14:15:00.000000000",
          "2024-04-08T14:30:00.000000000",
          "2024-04-08T14:45:00.000000000",
          "2024-04-08T15:00:00.000000000",
          "2024-04-08T15:15:00.000000000",
          "2024-04-08T15:30:00.000000000",
          "2024-04-08T15:45:00.000000000",
          "2024-04-08T16:00:00.000000000",
          "2024-04-08T16:15:00.000000000",
          "2024-04-08T16:30:00.000000000",
          "2024-04-08T16:45:00.000000000",
          "2024-04-08T17:00:00.000000000",
          "2024-04-08T17:15:00.000000000",
          "2024-04-08T17:30:00.000000000",
          "2024-04-08T17:45:00.000000000",
          "2024-04-08T18:00:00.000000000",
          "2024-04-08T18:15:00.000000000",
          "2024-04-08T18:30:00.000000000",
          "2024-04-08T18:45:00.000000000",
          "2024-04-08T19:00:00.000000000",
          "2024-04-08T19:15:00.000000000",
          "2024-04-08T19:30:00.000000000",
          "2024-04-08T19:45:00.000000000",
          "2024-04-08T20:00:00.000000000"
         ],
         "y": [
          0,
          0,
          0,
          0,
          0,
          0,
          0,
          0,
          0,
          0,
          0,
          0,
          0,
          0,
          0,
          0,
          0,
          0,
          0,
          0,
          0,
          0,
          0,
          0,
          0,
          0,
          0,
          0,
          0,
          0,
          0,
          0,
          0,
          0,
          0,
          0,
          0,
          0,
          0,
          0,
          0,
          0,
          0,
          0,
          0,
          0,
          0,
          0,
          0
         ]
        },
        {
         "mode": "lines+markers",
         "type": "scatter",
         "x": [
          "2024-04-08T08:00:00.000000000",
          "2024-04-08T08:15:00.000000000",
          "2024-04-08T08:30:00.000000000",
          "2024-04-08T08:45:00.000000000",
          "2024-04-08T09:00:00.000000000",
          "2024-04-08T09:15:00.000000000",
          "2024-04-08T09:30:00.000000000",
          "2024-04-08T09:45:00.000000000",
          "2024-04-08T10:00:00.000000000",
          "2024-04-08T10:15:00.000000000",
          "2024-04-08T10:30:00.000000000",
          "2024-04-08T10:45:00.000000000",
          "2024-04-08T11:00:00.000000000",
          "2024-04-08T11:15:00.000000000",
          "2024-04-08T11:30:00.000000000",
          "2024-04-08T11:45:00.000000000",
          "2024-04-08T12:00:00.000000000",
          "2024-04-08T12:15:00.000000000",
          "2024-04-08T12:30:00.000000000",
          "2024-04-08T12:45:00.000000000",
          "2024-04-08T13:00:00.000000000",
          "2024-04-08T13:15:00.000000000",
          "2024-04-08T13:30:00.000000000",
          "2024-04-08T13:45:00.000000000",
          "2024-04-08T14:00:00.000000000",
          "2024-04-08T14:15:00.000000000",
          "2024-04-08T14:30:00.000000000",
          "2024-04-08T14:45:00.000000000",
          "2024-04-08T15:00:00.000000000",
          "2024-04-08T15:15:00.000000000",
          "2024-04-08T15:30:00.000000000",
          "2024-04-08T15:45:00.000000000",
          "2024-04-08T16:00:00.000000000",
          "2024-04-08T16:15:00.000000000",
          "2024-04-08T16:30:00.000000000",
          "2024-04-08T16:45:00.000000000",
          "2024-04-08T17:00:00.000000000",
          "2024-04-08T17:15:00.000000000",
          "2024-04-08T17:30:00.000000000",
          "2024-04-08T17:45:00.000000000",
          "2024-04-08T18:00:00.000000000",
          "2024-04-08T18:15:00.000000000",
          "2024-04-08T18:30:00.000000000",
          "2024-04-08T18:45:00.000000000",
          "2024-04-08T19:00:00.000000000",
          "2024-04-08T19:15:00.000000000",
          "2024-04-08T19:30:00.000000000",
          "2024-04-08T19:45:00.000000000",
          "2024-04-08T20:00:00.000000000"
         ],
         "y": [
          0,
          0,
          0,
          0,
          0,
          0,
          0,
          0,
          0,
          0,
          0,
          0,
          0,
          0,
          0,
          0,
          0,
          0,
          0,
          0,
          0,
          0,
          0,
          0,
          0,
          0,
          0,
          0,
          0,
          0,
          0,
          0,
          0,
          0,
          0,
          0,
          0,
          0,
          0,
          0,
          0,
          0,
          0,
          0,
          0,
          0,
          0,
          0,
          0
         ]
        },
        {
         "mode": "lines+markers",
         "type": "scatter",
         "x": [
          "2024-04-08T08:00:00.000000000",
          "2024-04-08T08:15:00.000000000",
          "2024-04-08T08:30:00.000000000",
          "2024-04-08T08:45:00.000000000",
          "2024-04-08T09:00:00.000000000",
          "2024-04-08T09:15:00.000000000",
          "2024-04-08T09:30:00.000000000",
          "2024-04-08T09:45:00.000000000",
          "2024-04-08T10:00:00.000000000",
          "2024-04-08T10:15:00.000000000",
          "2024-04-08T10:30:00.000000000",
          "2024-04-08T10:45:00.000000000",
          "2024-04-08T11:00:00.000000000",
          "2024-04-08T11:15:00.000000000",
          "2024-04-08T11:30:00.000000000",
          "2024-04-08T11:45:00.000000000",
          "2024-04-08T12:00:00.000000000",
          "2024-04-08T12:15:00.000000000",
          "2024-04-08T12:30:00.000000000",
          "2024-04-08T12:45:00.000000000",
          "2024-04-08T13:00:00.000000000",
          "2024-04-08T13:15:00.000000000",
          "2024-04-08T13:30:00.000000000",
          "2024-04-08T13:45:00.000000000",
          "2024-04-08T14:00:00.000000000",
          "2024-04-08T14:15:00.000000000",
          "2024-04-08T14:30:00.000000000",
          "2024-04-08T14:45:00.000000000",
          "2024-04-08T15:00:00.000000000",
          "2024-04-08T15:15:00.000000000",
          "2024-04-08T15:30:00.000000000",
          "2024-04-08T15:45:00.000000000",
          "2024-04-08T16:00:00.000000000",
          "2024-04-08T16:15:00.000000000",
          "2024-04-08T16:30:00.000000000",
          "2024-04-08T16:45:00.000000000",
          "2024-04-08T17:00:00.000000000",
          "2024-04-08T17:15:00.000000000",
          "2024-04-08T17:30:00.000000000",
          "2024-04-08T17:45:00.000000000",
          "2024-04-08T18:00:00.000000000",
          "2024-04-08T18:15:00.000000000",
          "2024-04-08T18:30:00.000000000",
          "2024-04-08T18:45:00.000000000",
          "2024-04-08T19:00:00.000000000",
          "2024-04-08T19:15:00.000000000",
          "2024-04-08T19:30:00.000000000",
          "2024-04-08T19:45:00.000000000",
          "2024-04-08T20:00:00.000000000"
         ],
         "y": [
          0,
          0,
          0,
          0,
          0,
          0,
          0,
          0,
          0,
          0,
          0,
          0,
          0,
          1,
          0,
          0,
          0,
          0,
          0,
          0,
          0,
          0,
          0,
          1,
          0,
          0,
          0,
          0,
          0,
          0,
          0,
          0,
          0,
          0,
          0,
          0,
          0,
          0,
          0,
          0,
          0,
          0,
          0,
          0,
          1,
          0,
          0,
          0,
          0
         ]
        },
        {
         "mode": "lines+markers",
         "type": "scatter",
         "x": [
          "2024-04-08T08:00:00.000000000",
          "2024-04-08T08:15:00.000000000",
          "2024-04-08T08:30:00.000000000",
          "2024-04-08T08:45:00.000000000",
          "2024-04-08T09:00:00.000000000",
          "2024-04-08T09:15:00.000000000",
          "2024-04-08T09:30:00.000000000",
          "2024-04-08T09:45:00.000000000",
          "2024-04-08T10:00:00.000000000",
          "2024-04-08T10:15:00.000000000",
          "2024-04-08T10:30:00.000000000",
          "2024-04-08T10:45:00.000000000",
          "2024-04-08T11:00:00.000000000",
          "2024-04-08T11:15:00.000000000",
          "2024-04-08T11:30:00.000000000",
          "2024-04-08T11:45:00.000000000",
          "2024-04-08T12:00:00.000000000",
          "2024-04-08T12:15:00.000000000",
          "2024-04-08T12:30:00.000000000",
          "2024-04-08T12:45:00.000000000",
          "2024-04-08T13:00:00.000000000",
          "2024-04-08T13:15:00.000000000",
          "2024-04-08T13:30:00.000000000",
          "2024-04-08T13:45:00.000000000",
          "2024-04-08T14:00:00.000000000",
          "2024-04-08T14:15:00.000000000",
          "2024-04-08T14:30:00.000000000",
          "2024-04-08T14:45:00.000000000",
          "2024-04-08T15:00:00.000000000",
          "2024-04-08T15:15:00.000000000",
          "2024-04-08T15:30:00.000000000",
          "2024-04-08T15:45:00.000000000",
          "2024-04-08T16:00:00.000000000",
          "2024-04-08T16:15:00.000000000",
          "2024-04-08T16:30:00.000000000",
          "2024-04-08T16:45:00.000000000",
          "2024-04-08T17:00:00.000000000",
          "2024-04-08T17:15:00.000000000",
          "2024-04-08T17:30:00.000000000",
          "2024-04-08T17:45:00.000000000",
          "2024-04-08T18:00:00.000000000",
          "2024-04-08T18:15:00.000000000",
          "2024-04-08T18:30:00.000000000",
          "2024-04-08T18:45:00.000000000",
          "2024-04-08T19:00:00.000000000",
          "2024-04-08T19:15:00.000000000",
          "2024-04-08T19:30:00.000000000",
          "2024-04-08T19:45:00.000000000",
          "2024-04-08T20:00:00.000000000"
         ],
         "y": [
          0,
          0,
          0,
          0,
          0,
          0,
          0,
          0,
          0,
          0,
          0,
          0,
          0,
          0,
          0,
          0,
          0,
          0,
          0,
          0,
          0,
          0,
          0,
          0,
          0,
          0,
          0,
          0,
          0,
          0,
          0,
          0,
          0,
          0,
          0,
          0,
          0,
          0,
          0,
          0,
          0,
          0,
          0,
          0,
          0,
          0,
          0,
          0,
          0
         ]
        },
        {
         "mode": "lines+markers",
         "type": "scatter",
         "x": [
          "2024-04-08T08:00:00.000000000",
          "2024-04-08T08:15:00.000000000",
          "2024-04-08T08:30:00.000000000",
          "2024-04-08T08:45:00.000000000",
          "2024-04-08T09:00:00.000000000",
          "2024-04-08T09:15:00.000000000",
          "2024-04-08T09:30:00.000000000",
          "2024-04-08T09:45:00.000000000",
          "2024-04-08T10:00:00.000000000",
          "2024-04-08T10:15:00.000000000",
          "2024-04-08T10:30:00.000000000",
          "2024-04-08T10:45:00.000000000",
          "2024-04-08T11:00:00.000000000",
          "2024-04-08T11:15:00.000000000",
          "2024-04-08T11:30:00.000000000",
          "2024-04-08T11:45:00.000000000",
          "2024-04-08T12:00:00.000000000",
          "2024-04-08T12:15:00.000000000",
          "2024-04-08T12:30:00.000000000",
          "2024-04-08T12:45:00.000000000",
          "2024-04-08T13:00:00.000000000",
          "2024-04-08T13:15:00.000000000",
          "2024-04-08T13:30:00.000000000",
          "2024-04-08T13:45:00.000000000",
          "2024-04-08T14:00:00.000000000",
          "2024-04-08T14:15:00.000000000",
          "2024-04-08T14:30:00.000000000",
          "2024-04-08T14:45:00.000000000",
          "2024-04-08T15:00:00.000000000",
          "2024-04-08T15:15:00.000000000",
          "2024-04-08T15:30:00.000000000",
          "2024-04-08T15:45:00.000000000",
          "2024-04-08T16:00:00.000000000",
          "2024-04-08T16:15:00.000000000",
          "2024-04-08T16:30:00.000000000",
          "2024-04-08T16:45:00.000000000",
          "2024-04-08T17:00:00.000000000",
          "2024-04-08T17:15:00.000000000",
          "2024-04-08T17:30:00.000000000",
          "2024-04-08T17:45:00.000000000",
          "2024-04-08T18:00:00.000000000",
          "2024-04-08T18:15:00.000000000",
          "2024-04-08T18:30:00.000000000",
          "2024-04-08T18:45:00.000000000",
          "2024-04-08T19:00:00.000000000",
          "2024-04-08T19:15:00.000000000",
          "2024-04-08T19:30:00.000000000",
          "2024-04-08T19:45:00.000000000",
          "2024-04-08T20:00:00.000000000"
         ],
         "y": [
          0,
          0,
          0,
          0,
          0,
          0,
          0,
          0,
          0,
          0,
          0,
          0,
          0,
          0,
          0,
          0,
          0,
          0,
          0,
          0,
          0,
          0,
          0,
          0,
          0,
          0,
          0,
          0,
          0,
          0,
          0,
          0,
          0,
          0,
          0,
          0,
          0,
          0,
          0,
          0,
          0,
          0,
          0,
          0,
          0,
          0,
          0,
          0,
          0
         ]
        },
        {
         "mode": "lines+markers",
         "type": "scatter",
         "x": [
          "2024-04-08T08:00:00.000000000",
          "2024-04-08T08:15:00.000000000",
          "2024-04-08T08:30:00.000000000",
          "2024-04-08T08:45:00.000000000",
          "2024-04-08T09:00:00.000000000",
          "2024-04-08T09:15:00.000000000",
          "2024-04-08T09:30:00.000000000",
          "2024-04-08T09:45:00.000000000",
          "2024-04-08T10:00:00.000000000",
          "2024-04-08T10:15:00.000000000",
          "2024-04-08T10:30:00.000000000",
          "2024-04-08T10:45:00.000000000",
          "2024-04-08T11:00:00.000000000",
          "2024-04-08T11:15:00.000000000",
          "2024-04-08T11:30:00.000000000",
          "2024-04-08T11:45:00.000000000",
          "2024-04-08T12:00:00.000000000",
          "2024-04-08T12:15:00.000000000",
          "2024-04-08T12:30:00.000000000",
          "2024-04-08T12:45:00.000000000",
          "2024-04-08T13:00:00.000000000",
          "2024-04-08T13:15:00.000000000",
          "2024-04-08T13:30:00.000000000",
          "2024-04-08T13:45:00.000000000",
          "2024-04-08T14:00:00.000000000",
          "2024-04-08T14:15:00.000000000",
          "2024-04-08T14:30:00.000000000",
          "2024-04-08T14:45:00.000000000",
          "2024-04-08T15:00:00.000000000",
          "2024-04-08T15:15:00.000000000",
          "2024-04-08T15:30:00.000000000",
          "2024-04-08T15:45:00.000000000",
          "2024-04-08T16:00:00.000000000",
          "2024-04-08T16:15:00.000000000",
          "2024-04-08T16:30:00.000000000",
          "2024-04-08T16:45:00.000000000",
          "2024-04-08T17:00:00.000000000",
          "2024-04-08T17:15:00.000000000",
          "2024-04-08T17:30:00.000000000",
          "2024-04-08T17:45:00.000000000",
          "2024-04-08T18:00:00.000000000",
          "2024-04-08T18:15:00.000000000",
          "2024-04-08T18:30:00.000000000",
          "2024-04-08T18:45:00.000000000",
          "2024-04-08T19:00:00.000000000",
          "2024-04-08T19:15:00.000000000",
          "2024-04-08T19:30:00.000000000",
          "2024-04-08T19:45:00.000000000",
          "2024-04-08T20:00:00.000000000"
         ],
         "y": [
          0,
          0,
          0,
          0,
          0,
          0,
          0,
          0,
          0,
          0,
          0,
          0,
          0,
          1,
          0,
          0,
          0,
          0,
          0,
          2,
          5,
          19,
          30,
          4,
          0,
          3,
          0,
          0,
          0,
          0,
          0,
          0,
          0,
          0,
          0,
          0,
          5,
          0,
          0,
          0,
          0,
          0,
          0,
          0,
          0,
          0,
          0,
          0,
          1
         ]
        }
       ],
       "layout": {
        "template": {
         "data": {
          "bar": [
           {
            "error_x": {
             "color": "#2a3f5f"
            },
            "error_y": {
             "color": "#2a3f5f"
            },
            "marker": {
             "line": {
              "color": "#E5ECF6",
              "width": 0.5
             },
             "pattern": {
              "fillmode": "overlay",
              "size": 10,
              "solidity": 0.2
             }
            },
            "type": "bar"
           }
          ],
          "barpolar": [
           {
            "marker": {
             "line": {
              "color": "#E5ECF6",
              "width": 0.5
             },
             "pattern": {
              "fillmode": "overlay",
              "size": 10,
              "solidity": 0.2
             }
            },
            "type": "barpolar"
           }
          ],
          "carpet": [
           {
            "aaxis": {
             "endlinecolor": "#2a3f5f",
             "gridcolor": "white",
             "linecolor": "white",
             "minorgridcolor": "white",
             "startlinecolor": "#2a3f5f"
            },
            "baxis": {
             "endlinecolor": "#2a3f5f",
             "gridcolor": "white",
             "linecolor": "white",
             "minorgridcolor": "white",
             "startlinecolor": "#2a3f5f"
            },
            "type": "carpet"
           }
          ],
          "choropleth": [
           {
            "colorbar": {
             "outlinewidth": 0,
             "ticks": ""
            },
            "type": "choropleth"
           }
          ],
          "contour": [
           {
            "colorbar": {
             "outlinewidth": 0,
             "ticks": ""
            },
            "colorscale": [
             [
              0,
              "#0d0887"
             ],
             [
              0.1111111111111111,
              "#46039f"
             ],
             [
              0.2222222222222222,
              "#7201a8"
             ],
             [
              0.3333333333333333,
              "#9c179e"
             ],
             [
              0.4444444444444444,
              "#bd3786"
             ],
             [
              0.5555555555555556,
              "#d8576b"
             ],
             [
              0.6666666666666666,
              "#ed7953"
             ],
             [
              0.7777777777777778,
              "#fb9f3a"
             ],
             [
              0.8888888888888888,
              "#fdca26"
             ],
             [
              1,
              "#f0f921"
             ]
            ],
            "type": "contour"
           }
          ],
          "contourcarpet": [
           {
            "colorbar": {
             "outlinewidth": 0,
             "ticks": ""
            },
            "type": "contourcarpet"
           }
          ],
          "heatmap": [
           {
            "colorbar": {
             "outlinewidth": 0,
             "ticks": ""
            },
            "colorscale": [
             [
              0,
              "#0d0887"
             ],
             [
              0.1111111111111111,
              "#46039f"
             ],
             [
              0.2222222222222222,
              "#7201a8"
             ],
             [
              0.3333333333333333,
              "#9c179e"
             ],
             [
              0.4444444444444444,
              "#bd3786"
             ],
             [
              0.5555555555555556,
              "#d8576b"
             ],
             [
              0.6666666666666666,
              "#ed7953"
             ],
             [
              0.7777777777777778,
              "#fb9f3a"
             ],
             [
              0.8888888888888888,
              "#fdca26"
             ],
             [
              1,
              "#f0f921"
             ]
            ],
            "type": "heatmap"
           }
          ],
          "heatmapgl": [
           {
            "colorbar": {
             "outlinewidth": 0,
             "ticks": ""
            },
            "colorscale": [
             [
              0,
              "#0d0887"
             ],
             [
              0.1111111111111111,
              "#46039f"
             ],
             [
              0.2222222222222222,
              "#7201a8"
             ],
             [
              0.3333333333333333,
              "#9c179e"
             ],
             [
              0.4444444444444444,
              "#bd3786"
             ],
             [
              0.5555555555555556,
              "#d8576b"
             ],
             [
              0.6666666666666666,
              "#ed7953"
             ],
             [
              0.7777777777777778,
              "#fb9f3a"
             ],
             [
              0.8888888888888888,
              "#fdca26"
             ],
             [
              1,
              "#f0f921"
             ]
            ],
            "type": "heatmapgl"
           }
          ],
          "histogram": [
           {
            "marker": {
             "pattern": {
              "fillmode": "overlay",
              "size": 10,
              "solidity": 0.2
             }
            },
            "type": "histogram"
           }
          ],
          "histogram2d": [
           {
            "colorbar": {
             "outlinewidth": 0,
             "ticks": ""
            },
            "colorscale": [
             [
              0,
              "#0d0887"
             ],
             [
              0.1111111111111111,
              "#46039f"
             ],
             [
              0.2222222222222222,
              "#7201a8"
             ],
             [
              0.3333333333333333,
              "#9c179e"
             ],
             [
              0.4444444444444444,
              "#bd3786"
             ],
             [
              0.5555555555555556,
              "#d8576b"
             ],
             [
              0.6666666666666666,
              "#ed7953"
             ],
             [
              0.7777777777777778,
              "#fb9f3a"
             ],
             [
              0.8888888888888888,
              "#fdca26"
             ],
             [
              1,
              "#f0f921"
             ]
            ],
            "type": "histogram2d"
           }
          ],
          "histogram2dcontour": [
           {
            "colorbar": {
             "outlinewidth": 0,
             "ticks": ""
            },
            "colorscale": [
             [
              0,
              "#0d0887"
             ],
             [
              0.1111111111111111,
              "#46039f"
             ],
             [
              0.2222222222222222,
              "#7201a8"
             ],
             [
              0.3333333333333333,
              "#9c179e"
             ],
             [
              0.4444444444444444,
              "#bd3786"
             ],
             [
              0.5555555555555556,
              "#d8576b"
             ],
             [
              0.6666666666666666,
              "#ed7953"
             ],
             [
              0.7777777777777778,
              "#fb9f3a"
             ],
             [
              0.8888888888888888,
              "#fdca26"
             ],
             [
              1,
              "#f0f921"
             ]
            ],
            "type": "histogram2dcontour"
           }
          ],
          "mesh3d": [
           {
            "colorbar": {
             "outlinewidth": 0,
             "ticks": ""
            },
            "type": "mesh3d"
           }
          ],
          "parcoords": [
           {
            "line": {
             "colorbar": {
              "outlinewidth": 0,
              "ticks": ""
             }
            },
            "type": "parcoords"
           }
          ],
          "pie": [
           {
            "automargin": true,
            "type": "pie"
           }
          ],
          "scatter": [
           {
            "fillpattern": {
             "fillmode": "overlay",
             "size": 10,
             "solidity": 0.2
            },
            "type": "scatter"
           }
          ],
          "scatter3d": [
           {
            "line": {
             "colorbar": {
              "outlinewidth": 0,
              "ticks": ""
             }
            },
            "marker": {
             "colorbar": {
              "outlinewidth": 0,
              "ticks": ""
             }
            },
            "type": "scatter3d"
           }
          ],
          "scattercarpet": [
           {
            "marker": {
             "colorbar": {
              "outlinewidth": 0,
              "ticks": ""
             }
            },
            "type": "scattercarpet"
           }
          ],
          "scattergeo": [
           {
            "marker": {
             "colorbar": {
              "outlinewidth": 0,
              "ticks": ""
             }
            },
            "type": "scattergeo"
           }
          ],
          "scattergl": [
           {
            "marker": {
             "colorbar": {
              "outlinewidth": 0,
              "ticks": ""
             }
            },
            "type": "scattergl"
           }
          ],
          "scattermapbox": [
           {
            "marker": {
             "colorbar": {
              "outlinewidth": 0,
              "ticks": ""
             }
            },
            "type": "scattermapbox"
           }
          ],
          "scatterpolar": [
           {
            "marker": {
             "colorbar": {
              "outlinewidth": 0,
              "ticks": ""
             }
            },
            "type": "scatterpolar"
           }
          ],
          "scatterpolargl": [
           {
            "marker": {
             "colorbar": {
              "outlinewidth": 0,
              "ticks": ""
             }
            },
            "type": "scatterpolargl"
           }
          ],
          "scatterternary": [
           {
            "marker": {
             "colorbar": {
              "outlinewidth": 0,
              "ticks": ""
             }
            },
            "type": "scatterternary"
           }
          ],
          "surface": [
           {
            "colorbar": {
             "outlinewidth": 0,
             "ticks": ""
            },
            "colorscale": [
             [
              0,
              "#0d0887"
             ],
             [
              0.1111111111111111,
              "#46039f"
             ],
             [
              0.2222222222222222,
              "#7201a8"
             ],
             [
              0.3333333333333333,
              "#9c179e"
             ],
             [
              0.4444444444444444,
              "#bd3786"
             ],
             [
              0.5555555555555556,
              "#d8576b"
             ],
             [
              0.6666666666666666,
              "#ed7953"
             ],
             [
              0.7777777777777778,
              "#fb9f3a"
             ],
             [
              0.8888888888888888,
              "#fdca26"
             ],
             [
              1,
              "#f0f921"
             ]
            ],
            "type": "surface"
           }
          ],
          "table": [
           {
            "cells": {
             "fill": {
              "color": "#EBF0F8"
             },
             "line": {
              "color": "white"
             }
            },
            "header": {
             "fill": {
              "color": "#C8D4E3"
             },
             "line": {
              "color": "white"
             }
            },
            "type": "table"
           }
          ]
         },
         "layout": {
          "annotationdefaults": {
           "arrowcolor": "#2a3f5f",
           "arrowhead": 0,
           "arrowwidth": 1
          },
          "autotypenumbers": "strict",
          "coloraxis": {
           "colorbar": {
            "outlinewidth": 0,
            "ticks": ""
           }
          },
          "colorscale": {
           "diverging": [
            [
             0,
             "#8e0152"
            ],
            [
             0.1,
             "#c51b7d"
            ],
            [
             0.2,
             "#de77ae"
            ],
            [
             0.3,
             "#f1b6da"
            ],
            [
             0.4,
             "#fde0ef"
            ],
            [
             0.5,
             "#f7f7f7"
            ],
            [
             0.6,
             "#e6f5d0"
            ],
            [
             0.7,
             "#b8e186"
            ],
            [
             0.8,
             "#7fbc41"
            ],
            [
             0.9,
             "#4d9221"
            ],
            [
             1,
             "#276419"
            ]
           ],
           "sequential": [
            [
             0,
             "#0d0887"
            ],
            [
             0.1111111111111111,
             "#46039f"
            ],
            [
             0.2222222222222222,
             "#7201a8"
            ],
            [
             0.3333333333333333,
             "#9c179e"
            ],
            [
             0.4444444444444444,
             "#bd3786"
            ],
            [
             0.5555555555555556,
             "#d8576b"
            ],
            [
             0.6666666666666666,
             "#ed7953"
            ],
            [
             0.7777777777777778,
             "#fb9f3a"
            ],
            [
             0.8888888888888888,
             "#fdca26"
            ],
            [
             1,
             "#f0f921"
            ]
           ],
           "sequentialminus": [
            [
             0,
             "#0d0887"
            ],
            [
             0.1111111111111111,
             "#46039f"
            ],
            [
             0.2222222222222222,
             "#7201a8"
            ],
            [
             0.3333333333333333,
             "#9c179e"
            ],
            [
             0.4444444444444444,
             "#bd3786"
            ],
            [
             0.5555555555555556,
             "#d8576b"
            ],
            [
             0.6666666666666666,
             "#ed7953"
            ],
            [
             0.7777777777777778,
             "#fb9f3a"
            ],
            [
             0.8888888888888888,
             "#fdca26"
            ],
            [
             1,
             "#f0f921"
            ]
           ]
          },
          "colorway": [
           "#636efa",
           "#EF553B",
           "#00cc96",
           "#ab63fa",
           "#FFA15A",
           "#19d3f3",
           "#FF6692",
           "#B6E880",
           "#FF97FF",
           "#FECB52"
          ],
          "font": {
           "color": "#2a3f5f"
          },
          "geo": {
           "bgcolor": "white",
           "lakecolor": "white",
           "landcolor": "#E5ECF6",
           "showlakes": true,
           "showland": true,
           "subunitcolor": "white"
          },
          "hoverlabel": {
           "align": "left"
          },
          "hovermode": "closest",
          "mapbox": {
           "style": "light"
          },
          "paper_bgcolor": "white",
          "plot_bgcolor": "#E5ECF6",
          "polar": {
           "angularaxis": {
            "gridcolor": "white",
            "linecolor": "white",
            "ticks": ""
           },
           "bgcolor": "#E5ECF6",
           "radialaxis": {
            "gridcolor": "white",
            "linecolor": "white",
            "ticks": ""
           }
          },
          "scene": {
           "xaxis": {
            "backgroundcolor": "#E5ECF6",
            "gridcolor": "white",
            "gridwidth": 2,
            "linecolor": "white",
            "showbackground": true,
            "ticks": "",
            "zerolinecolor": "white"
           },
           "yaxis": {
            "backgroundcolor": "#E5ECF6",
            "gridcolor": "white",
            "gridwidth": 2,
            "linecolor": "white",
            "showbackground": true,
            "ticks": "",
            "zerolinecolor": "white"
           },
           "zaxis": {
            "backgroundcolor": "#E5ECF6",
            "gridcolor": "white",
            "gridwidth": 2,
            "linecolor": "white",
            "showbackground": true,
            "ticks": "",
            "zerolinecolor": "white"
           }
          },
          "shapedefaults": {
           "line": {
            "color": "#2a3f5f"
           }
          },
          "ternary": {
           "aaxis": {
            "gridcolor": "white",
            "linecolor": "white",
            "ticks": ""
           },
           "baxis": {
            "gridcolor": "white",
            "linecolor": "white",
            "ticks": ""
           },
           "bgcolor": "#E5ECF6",
           "caxis": {
            "gridcolor": "white",
            "linecolor": "white",
            "ticks": ""
           }
          },
          "title": {
           "x": 0.05
          },
          "xaxis": {
           "automargin": true,
           "gridcolor": "white",
           "linecolor": "white",
           "ticks": "",
           "title": {
            "standoff": 15
           },
           "zerolinecolor": "white",
           "zerolinewidth": 2
          },
          "yaxis": {
           "automargin": true,
           "gridcolor": "white",
           "linecolor": "white",
           "ticks": "",
           "title": {
            "standoff": 15
           },
           "zerolinecolor": "white",
           "zerolinewidth": 2
          }
         }
        }
       }
      }
     },
     "metadata": {},
     "output_type": "display_data"
    },
    {
     "name": "stdout",
     "output_type": "stream",
     "text": [
      "################ 2 ################\n",
      "[ 5  8 10 17 18 24 37 38 44 45 58 59 66 72 73 79]\n"
     ]
    },
    {
     "data": {
      "application/vnd.plotly.v1+json": {
       "config": {
        "plotlyServerURL": "https://plot.ly"
       },
       "data": [
        {
         "mode": "lines+markers",
         "type": "scatter",
         "x": [
          "2024-04-08T08:00:00.000000000",
          "2024-04-08T08:15:00.000000000",
          "2024-04-08T08:30:00.000000000",
          "2024-04-08T08:45:00.000000000",
          "2024-04-08T09:00:00.000000000",
          "2024-04-08T09:15:00.000000000",
          "2024-04-08T09:30:00.000000000",
          "2024-04-08T09:45:00.000000000",
          "2024-04-08T10:00:00.000000000",
          "2024-04-08T10:15:00.000000000",
          "2024-04-08T10:30:00.000000000",
          "2024-04-08T10:45:00.000000000",
          "2024-04-08T11:00:00.000000000",
          "2024-04-08T11:15:00.000000000",
          "2024-04-08T11:30:00.000000000",
          "2024-04-08T11:45:00.000000000",
          "2024-04-08T12:00:00.000000000",
          "2024-04-08T12:15:00.000000000",
          "2024-04-08T12:30:00.000000000",
          "2024-04-08T12:45:00.000000000",
          "2024-04-08T13:00:00.000000000",
          "2024-04-08T13:15:00.000000000",
          "2024-04-08T13:30:00.000000000",
          "2024-04-08T13:45:00.000000000",
          "2024-04-08T14:00:00.000000000",
          "2024-04-08T14:15:00.000000000",
          "2024-04-08T14:30:00.000000000",
          "2024-04-08T14:45:00.000000000",
          "2024-04-08T15:00:00.000000000",
          "2024-04-08T15:15:00.000000000",
          "2024-04-08T15:30:00.000000000",
          "2024-04-08T15:45:00.000000000",
          "2024-04-08T16:00:00.000000000",
          "2024-04-08T16:15:00.000000000",
          "2024-04-08T16:30:00.000000000",
          "2024-04-08T16:45:00.000000000",
          "2024-04-08T17:00:00.000000000",
          "2024-04-08T17:15:00.000000000",
          "2024-04-08T17:30:00.000000000",
          "2024-04-08T17:45:00.000000000",
          "2024-04-08T18:00:00.000000000",
          "2024-04-08T18:15:00.000000000",
          "2024-04-08T18:30:00.000000000",
          "2024-04-08T18:45:00.000000000",
          "2024-04-08T19:00:00.000000000",
          "2024-04-08T19:15:00.000000000",
          "2024-04-08T19:30:00.000000000",
          "2024-04-08T19:45:00.000000000",
          "2024-04-08T20:00:00.000000000"
         ],
         "y": [
          4,
          27,
          10,
          3,
          2,
          2,
          2,
          6,
          22,
          1,
          0,
          2,
          2,
          16,
          2,
          1,
          0,
          0,
          0,
          0,
          0,
          0,
          0,
          0,
          0,
          0,
          0,
          0,
          0,
          0,
          0,
          0,
          0,
          0,
          0,
          0,
          0,
          0,
          0,
          0,
          0,
          0,
          0,
          0,
          0,
          0,
          0,
          0,
          0
         ]
        },
        {
         "mode": "lines+markers",
         "type": "scatter",
         "x": [
          "2024-04-08T08:00:00.000000000",
          "2024-04-08T08:15:00.000000000",
          "2024-04-08T08:30:00.000000000",
          "2024-04-08T08:45:00.000000000",
          "2024-04-08T09:00:00.000000000",
          "2024-04-08T09:15:00.000000000",
          "2024-04-08T09:30:00.000000000",
          "2024-04-08T09:45:00.000000000",
          "2024-04-08T10:00:00.000000000",
          "2024-04-08T10:15:00.000000000",
          "2024-04-08T10:30:00.000000000",
          "2024-04-08T10:45:00.000000000",
          "2024-04-08T11:00:00.000000000",
          "2024-04-08T11:15:00.000000000",
          "2024-04-08T11:30:00.000000000",
          "2024-04-08T11:45:00.000000000",
          "2024-04-08T12:00:00.000000000",
          "2024-04-08T12:15:00.000000000",
          "2024-04-08T12:30:00.000000000",
          "2024-04-08T12:45:00.000000000",
          "2024-04-08T13:00:00.000000000",
          "2024-04-08T13:15:00.000000000",
          "2024-04-08T13:30:00.000000000",
          "2024-04-08T13:45:00.000000000",
          "2024-04-08T14:00:00.000000000",
          "2024-04-08T14:15:00.000000000",
          "2024-04-08T14:30:00.000000000",
          "2024-04-08T14:45:00.000000000",
          "2024-04-08T15:00:00.000000000",
          "2024-04-08T15:15:00.000000000",
          "2024-04-08T15:30:00.000000000",
          "2024-04-08T15:45:00.000000000",
          "2024-04-08T16:00:00.000000000",
          "2024-04-08T16:15:00.000000000",
          "2024-04-08T16:30:00.000000000",
          "2024-04-08T16:45:00.000000000",
          "2024-04-08T17:00:00.000000000",
          "2024-04-08T17:15:00.000000000",
          "2024-04-08T17:30:00.000000000",
          "2024-04-08T17:45:00.000000000",
          "2024-04-08T18:00:00.000000000",
          "2024-04-08T18:15:00.000000000",
          "2024-04-08T18:30:00.000000000",
          "2024-04-08T18:45:00.000000000",
          "2024-04-08T19:00:00.000000000",
          "2024-04-08T19:15:00.000000000",
          "2024-04-08T19:30:00.000000000",
          "2024-04-08T19:45:00.000000000",
          "2024-04-08T20:00:00.000000000"
         ],
         "y": [
          4,
          23,
          9,
          2,
          3,
          1,
          1,
          0,
          51,
          9,
          0,
          0,
          4,
          1,
          0,
          5,
          0,
          0,
          0,
          0,
          0,
          0,
          14,
          11,
          1,
          0,
          0,
          2,
          1,
          17,
          2,
          1,
          0,
          0,
          0,
          1,
          0,
          0,
          0,
          0,
          0,
          0,
          0,
          0,
          1,
          0,
          0,
          0,
          0
         ]
        },
        {
         "mode": "lines+markers",
         "type": "scatter",
         "x": [
          "2024-04-08T08:00:00.000000000",
          "2024-04-08T08:15:00.000000000",
          "2024-04-08T08:30:00.000000000",
          "2024-04-08T08:45:00.000000000",
          "2024-04-08T09:00:00.000000000",
          "2024-04-08T09:15:00.000000000",
          "2024-04-08T09:30:00.000000000",
          "2024-04-08T09:45:00.000000000",
          "2024-04-08T10:00:00.000000000",
          "2024-04-08T10:15:00.000000000",
          "2024-04-08T10:30:00.000000000",
          "2024-04-08T10:45:00.000000000",
          "2024-04-08T11:00:00.000000000",
          "2024-04-08T11:15:00.000000000",
          "2024-04-08T11:30:00.000000000",
          "2024-04-08T11:45:00.000000000",
          "2024-04-08T12:00:00.000000000",
          "2024-04-08T12:15:00.000000000",
          "2024-04-08T12:30:00.000000000",
          "2024-04-08T12:45:00.000000000",
          "2024-04-08T13:00:00.000000000",
          "2024-04-08T13:15:00.000000000",
          "2024-04-08T13:30:00.000000000",
          "2024-04-08T13:45:00.000000000",
          "2024-04-08T14:00:00.000000000",
          "2024-04-08T14:15:00.000000000",
          "2024-04-08T14:30:00.000000000",
          "2024-04-08T14:45:00.000000000",
          "2024-04-08T15:00:00.000000000",
          "2024-04-08T15:15:00.000000000",
          "2024-04-08T15:30:00.000000000",
          "2024-04-08T15:45:00.000000000",
          "2024-04-08T16:00:00.000000000",
          "2024-04-08T16:15:00.000000000",
          "2024-04-08T16:30:00.000000000",
          "2024-04-08T16:45:00.000000000",
          "2024-04-08T17:00:00.000000000",
          "2024-04-08T17:15:00.000000000",
          "2024-04-08T17:30:00.000000000",
          "2024-04-08T17:45:00.000000000",
          "2024-04-08T18:00:00.000000000",
          "2024-04-08T18:15:00.000000000",
          "2024-04-08T18:30:00.000000000",
          "2024-04-08T18:45:00.000000000",
          "2024-04-08T19:00:00.000000000",
          "2024-04-08T19:15:00.000000000",
          "2024-04-08T19:30:00.000000000",
          "2024-04-08T19:45:00.000000000",
          "2024-04-08T20:00:00.000000000"
         ],
         "y": [
          7,
          17,
          2,
          1,
          0,
          2,
          0,
          0,
          38,
          4,
          0,
          0,
          0,
          0,
          0,
          7,
          0,
          0,
          0,
          0,
          0,
          1,
          19,
          1,
          0,
          0,
          0,
          0,
          0,
          0,
          0,
          2,
          0,
          0,
          0,
          0,
          10,
          0,
          0,
          1,
          2,
          0,
          15,
          18,
          0,
          0,
          3,
          0,
          0
         ]
        },
        {
         "mode": "lines+markers",
         "type": "scatter",
         "x": [
          "2024-04-08T08:00:00.000000000",
          "2024-04-08T08:15:00.000000000",
          "2024-04-08T08:30:00.000000000",
          "2024-04-08T08:45:00.000000000",
          "2024-04-08T09:00:00.000000000",
          "2024-04-08T09:15:00.000000000",
          "2024-04-08T09:30:00.000000000",
          "2024-04-08T09:45:00.000000000",
          "2024-04-08T10:00:00.000000000",
          "2024-04-08T10:15:00.000000000",
          "2024-04-08T10:30:00.000000000",
          "2024-04-08T10:45:00.000000000",
          "2024-04-08T11:00:00.000000000",
          "2024-04-08T11:15:00.000000000",
          "2024-04-08T11:30:00.000000000",
          "2024-04-08T11:45:00.000000000",
          "2024-04-08T12:00:00.000000000",
          "2024-04-08T12:15:00.000000000",
          "2024-04-08T12:30:00.000000000",
          "2024-04-08T12:45:00.000000000",
          "2024-04-08T13:00:00.000000000",
          "2024-04-08T13:15:00.000000000",
          "2024-04-08T13:30:00.000000000",
          "2024-04-08T13:45:00.000000000",
          "2024-04-08T14:00:00.000000000",
          "2024-04-08T14:15:00.000000000",
          "2024-04-08T14:30:00.000000000",
          "2024-04-08T14:45:00.000000000",
          "2024-04-08T15:00:00.000000000",
          "2024-04-08T15:15:00.000000000",
          "2024-04-08T15:30:00.000000000",
          "2024-04-08T15:45:00.000000000",
          "2024-04-08T16:00:00.000000000",
          "2024-04-08T16:15:00.000000000",
          "2024-04-08T16:30:00.000000000",
          "2024-04-08T16:45:00.000000000",
          "2024-04-08T17:00:00.000000000",
          "2024-04-08T17:15:00.000000000",
          "2024-04-08T17:30:00.000000000",
          "2024-04-08T17:45:00.000000000",
          "2024-04-08T18:00:00.000000000",
          "2024-04-08T18:15:00.000000000",
          "2024-04-08T18:30:00.000000000",
          "2024-04-08T18:45:00.000000000",
          "2024-04-08T19:00:00.000000000",
          "2024-04-08T19:15:00.000000000",
          "2024-04-08T19:30:00.000000000",
          "2024-04-08T19:45:00.000000000",
          "2024-04-08T20:00:00.000000000"
         ],
         "y": [
          6,
          14,
          5,
          1,
          1,
          1,
          0,
          0,
          42,
          6,
          1,
          4,
          1,
          2,
          0,
          4,
          0,
          0,
          1,
          0,
          0,
          5,
          9,
          2,
          0,
          0,
          0,
          1,
          0,
          0,
          0,
          0,
          0,
          0,
          0,
          0,
          0,
          0,
          0,
          0,
          0,
          0,
          0,
          0,
          2,
          0,
          0,
          0,
          0
         ]
        },
        {
         "mode": "lines+markers",
         "type": "scatter",
         "x": [
          "2024-04-08T08:00:00.000000000",
          "2024-04-08T08:15:00.000000000",
          "2024-04-08T08:30:00.000000000",
          "2024-04-08T08:45:00.000000000",
          "2024-04-08T09:00:00.000000000",
          "2024-04-08T09:15:00.000000000",
          "2024-04-08T09:30:00.000000000",
          "2024-04-08T09:45:00.000000000",
          "2024-04-08T10:00:00.000000000",
          "2024-04-08T10:15:00.000000000",
          "2024-04-08T10:30:00.000000000",
          "2024-04-08T10:45:00.000000000",
          "2024-04-08T11:00:00.000000000",
          "2024-04-08T11:15:00.000000000",
          "2024-04-08T11:30:00.000000000",
          "2024-04-08T11:45:00.000000000",
          "2024-04-08T12:00:00.000000000",
          "2024-04-08T12:15:00.000000000",
          "2024-04-08T12:30:00.000000000",
          "2024-04-08T12:45:00.000000000",
          "2024-04-08T13:00:00.000000000",
          "2024-04-08T13:15:00.000000000",
          "2024-04-08T13:30:00.000000000",
          "2024-04-08T13:45:00.000000000",
          "2024-04-08T14:00:00.000000000",
          "2024-04-08T14:15:00.000000000",
          "2024-04-08T14:30:00.000000000",
          "2024-04-08T14:45:00.000000000",
          "2024-04-08T15:00:00.000000000",
          "2024-04-08T15:15:00.000000000",
          "2024-04-08T15:30:00.000000000",
          "2024-04-08T15:45:00.000000000",
          "2024-04-08T16:00:00.000000000",
          "2024-04-08T16:15:00.000000000",
          "2024-04-08T16:30:00.000000000",
          "2024-04-08T16:45:00.000000000",
          "2024-04-08T17:00:00.000000000",
          "2024-04-08T17:15:00.000000000",
          "2024-04-08T17:30:00.000000000",
          "2024-04-08T17:45:00.000000000",
          "2024-04-08T18:00:00.000000000",
          "2024-04-08T18:15:00.000000000",
          "2024-04-08T18:30:00.000000000",
          "2024-04-08T18:45:00.000000000",
          "2024-04-08T19:00:00.000000000",
          "2024-04-08T19:15:00.000000000",
          "2024-04-08T19:30:00.000000000",
          "2024-04-08T19:45:00.000000000",
          "2024-04-08T20:00:00.000000000"
         ],
         "y": [
          10,
          16,
          2,
          0,
          0,
          0,
          0,
          0,
          24,
          0,
          0,
          0,
          0,
          0,
          1,
          0,
          0,
          2,
          0,
          0,
          0,
          0,
          0,
          0,
          0,
          0,
          0,
          0,
          0,
          0,
          0,
          0,
          0,
          0,
          0,
          0,
          0,
          0,
          0,
          0,
          0,
          0,
          0,
          0,
          0,
          0,
          0,
          0,
          0
         ]
        },
        {
         "mode": "lines+markers",
         "type": "scatter",
         "x": [
          "2024-04-08T08:00:00.000000000",
          "2024-04-08T08:15:00.000000000",
          "2024-04-08T08:30:00.000000000",
          "2024-04-08T08:45:00.000000000",
          "2024-04-08T09:00:00.000000000",
          "2024-04-08T09:15:00.000000000",
          "2024-04-08T09:30:00.000000000",
          "2024-04-08T09:45:00.000000000",
          "2024-04-08T10:00:00.000000000",
          "2024-04-08T10:15:00.000000000",
          "2024-04-08T10:30:00.000000000",
          "2024-04-08T10:45:00.000000000",
          "2024-04-08T11:00:00.000000000",
          "2024-04-08T11:15:00.000000000",
          "2024-04-08T11:30:00.000000000",
          "2024-04-08T11:45:00.000000000",
          "2024-04-08T12:00:00.000000000",
          "2024-04-08T12:15:00.000000000",
          "2024-04-08T12:30:00.000000000",
          "2024-04-08T12:45:00.000000000",
          "2024-04-08T13:00:00.000000000",
          "2024-04-08T13:15:00.000000000",
          "2024-04-08T13:30:00.000000000",
          "2024-04-08T13:45:00.000000000",
          "2024-04-08T14:00:00.000000000",
          "2024-04-08T14:15:00.000000000",
          "2024-04-08T14:30:00.000000000",
          "2024-04-08T14:45:00.000000000",
          "2024-04-08T15:00:00.000000000",
          "2024-04-08T15:15:00.000000000",
          "2024-04-08T15:30:00.000000000",
          "2024-04-08T15:45:00.000000000",
          "2024-04-08T16:00:00.000000000",
          "2024-04-08T16:15:00.000000000",
          "2024-04-08T16:30:00.000000000",
          "2024-04-08T16:45:00.000000000",
          "2024-04-08T17:00:00.000000000",
          "2024-04-08T17:15:00.000000000",
          "2024-04-08T17:30:00.000000000",
          "2024-04-08T17:45:00.000000000",
          "2024-04-08T18:00:00.000000000",
          "2024-04-08T18:15:00.000000000",
          "2024-04-08T18:30:00.000000000",
          "2024-04-08T18:45:00.000000000",
          "2024-04-08T19:00:00.000000000",
          "2024-04-08T19:15:00.000000000",
          "2024-04-08T19:30:00.000000000",
          "2024-04-08T19:45:00.000000000",
          "2024-04-08T20:00:00.000000000"
         ],
         "y": [
          5,
          20,
          3,
          2,
          0,
          0,
          0,
          0,
          30,
          6,
          1,
          0,
          0,
          0,
          1,
          5,
          1,
          0,
          0,
          0,
          0,
          1,
          6,
          1,
          0,
          1,
          0,
          0,
          0,
          0,
          0,
          0,
          0,
          0,
          0,
          0,
          0,
          0,
          0,
          0,
          0,
          0,
          0,
          0,
          0,
          0,
          0,
          1,
          0
         ]
        },
        {
         "mode": "lines+markers",
         "type": "scatter",
         "x": [
          "2024-04-08T08:00:00.000000000",
          "2024-04-08T08:15:00.000000000",
          "2024-04-08T08:30:00.000000000",
          "2024-04-08T08:45:00.000000000",
          "2024-04-08T09:00:00.000000000",
          "2024-04-08T09:15:00.000000000",
          "2024-04-08T09:30:00.000000000",
          "2024-04-08T09:45:00.000000000",
          "2024-04-08T10:00:00.000000000",
          "2024-04-08T10:15:00.000000000",
          "2024-04-08T10:30:00.000000000",
          "2024-04-08T10:45:00.000000000",
          "2024-04-08T11:00:00.000000000",
          "2024-04-08T11:15:00.000000000",
          "2024-04-08T11:30:00.000000000",
          "2024-04-08T11:45:00.000000000",
          "2024-04-08T12:00:00.000000000",
          "2024-04-08T12:15:00.000000000",
          "2024-04-08T12:30:00.000000000",
          "2024-04-08T12:45:00.000000000",
          "2024-04-08T13:00:00.000000000",
          "2024-04-08T13:15:00.000000000",
          "2024-04-08T13:30:00.000000000",
          "2024-04-08T13:45:00.000000000",
          "2024-04-08T14:00:00.000000000",
          "2024-04-08T14:15:00.000000000",
          "2024-04-08T14:30:00.000000000",
          "2024-04-08T14:45:00.000000000",
          "2024-04-08T15:00:00.000000000",
          "2024-04-08T15:15:00.000000000",
          "2024-04-08T15:30:00.000000000",
          "2024-04-08T15:45:00.000000000",
          "2024-04-08T16:00:00.000000000",
          "2024-04-08T16:15:00.000000000",
          "2024-04-08T16:30:00.000000000",
          "2024-04-08T16:45:00.000000000",
          "2024-04-08T17:00:00.000000000",
          "2024-04-08T17:15:00.000000000",
          "2024-04-08T17:30:00.000000000",
          "2024-04-08T17:45:00.000000000",
          "2024-04-08T18:00:00.000000000",
          "2024-04-08T18:15:00.000000000",
          "2024-04-08T18:30:00.000000000",
          "2024-04-08T18:45:00.000000000",
          "2024-04-08T19:00:00.000000000",
          "2024-04-08T19:15:00.000000000",
          "2024-04-08T19:30:00.000000000",
          "2024-04-08T19:45:00.000000000",
          "2024-04-08T20:00:00.000000000"
         ],
         "y": [
          7,
          8,
          3,
          2,
          2,
          0,
          0,
          0,
          41,
          6,
          0,
          1,
          0,
          0,
          0,
          7,
          0,
          0,
          0,
          0,
          0,
          1,
          18,
          2,
          0,
          1,
          0,
          0,
          3,
          9,
          1,
          1,
          0,
          0,
          0,
          1,
          5,
          0,
          0,
          0,
          0,
          0,
          0,
          0,
          0,
          0,
          0,
          3,
          0
         ]
        },
        {
         "mode": "lines+markers",
         "type": "scatter",
         "x": [
          "2024-04-08T08:00:00.000000000",
          "2024-04-08T08:15:00.000000000",
          "2024-04-08T08:30:00.000000000",
          "2024-04-08T08:45:00.000000000",
          "2024-04-08T09:00:00.000000000",
          "2024-04-08T09:15:00.000000000",
          "2024-04-08T09:30:00.000000000",
          "2024-04-08T09:45:00.000000000",
          "2024-04-08T10:00:00.000000000",
          "2024-04-08T10:15:00.000000000",
          "2024-04-08T10:30:00.000000000",
          "2024-04-08T10:45:00.000000000",
          "2024-04-08T11:00:00.000000000",
          "2024-04-08T11:15:00.000000000",
          "2024-04-08T11:30:00.000000000",
          "2024-04-08T11:45:00.000000000",
          "2024-04-08T12:00:00.000000000",
          "2024-04-08T12:15:00.000000000",
          "2024-04-08T12:30:00.000000000",
          "2024-04-08T12:45:00.000000000",
          "2024-04-08T13:00:00.000000000",
          "2024-04-08T13:15:00.000000000",
          "2024-04-08T13:30:00.000000000",
          "2024-04-08T13:45:00.000000000",
          "2024-04-08T14:00:00.000000000",
          "2024-04-08T14:15:00.000000000",
          "2024-04-08T14:30:00.000000000",
          "2024-04-08T14:45:00.000000000",
          "2024-04-08T15:00:00.000000000",
          "2024-04-08T15:15:00.000000000",
          "2024-04-08T15:30:00.000000000",
          "2024-04-08T15:45:00.000000000",
          "2024-04-08T16:00:00.000000000",
          "2024-04-08T16:15:00.000000000",
          "2024-04-08T16:30:00.000000000",
          "2024-04-08T16:45:00.000000000",
          "2024-04-08T17:00:00.000000000",
          "2024-04-08T17:15:00.000000000",
          "2024-04-08T17:30:00.000000000",
          "2024-04-08T17:45:00.000000000",
          "2024-04-08T18:00:00.000000000",
          "2024-04-08T18:15:00.000000000",
          "2024-04-08T18:30:00.000000000",
          "2024-04-08T18:45:00.000000000",
          "2024-04-08T19:00:00.000000000",
          "2024-04-08T19:15:00.000000000",
          "2024-04-08T19:30:00.000000000",
          "2024-04-08T19:45:00.000000000",
          "2024-04-08T20:00:00.000000000"
         ],
         "y": [
          3,
          15,
          6,
          1,
          1,
          3,
          0,
          0,
          25,
          3,
          0,
          0,
          1,
          0,
          1,
          5,
          1,
          0,
          0,
          0,
          0,
          1,
          12,
          3,
          0,
          0,
          1,
          1,
          0,
          0,
          0,
          0,
          0,
          0,
          0,
          0,
          0,
          0,
          0,
          0,
          0,
          0,
          0,
          0,
          1,
          0,
          0,
          0,
          0
         ]
        },
        {
         "mode": "lines+markers",
         "type": "scatter",
         "x": [
          "2024-04-08T08:00:00.000000000",
          "2024-04-08T08:15:00.000000000",
          "2024-04-08T08:30:00.000000000",
          "2024-04-08T08:45:00.000000000",
          "2024-04-08T09:00:00.000000000",
          "2024-04-08T09:15:00.000000000",
          "2024-04-08T09:30:00.000000000",
          "2024-04-08T09:45:00.000000000",
          "2024-04-08T10:00:00.000000000",
          "2024-04-08T10:15:00.000000000",
          "2024-04-08T10:30:00.000000000",
          "2024-04-08T10:45:00.000000000",
          "2024-04-08T11:00:00.000000000",
          "2024-04-08T11:15:00.000000000",
          "2024-04-08T11:30:00.000000000",
          "2024-04-08T11:45:00.000000000",
          "2024-04-08T12:00:00.000000000",
          "2024-04-08T12:15:00.000000000",
          "2024-04-08T12:30:00.000000000",
          "2024-04-08T12:45:00.000000000",
          "2024-04-08T13:00:00.000000000",
          "2024-04-08T13:15:00.000000000",
          "2024-04-08T13:30:00.000000000",
          "2024-04-08T13:45:00.000000000",
          "2024-04-08T14:00:00.000000000",
          "2024-04-08T14:15:00.000000000",
          "2024-04-08T14:30:00.000000000",
          "2024-04-08T14:45:00.000000000",
          "2024-04-08T15:00:00.000000000",
          "2024-04-08T15:15:00.000000000",
          "2024-04-08T15:30:00.000000000",
          "2024-04-08T15:45:00.000000000",
          "2024-04-08T16:00:00.000000000",
          "2024-04-08T16:15:00.000000000",
          "2024-04-08T16:30:00.000000000",
          "2024-04-08T16:45:00.000000000",
          "2024-04-08T17:00:00.000000000",
          "2024-04-08T17:15:00.000000000",
          "2024-04-08T17:30:00.000000000",
          "2024-04-08T17:45:00.000000000",
          "2024-04-08T18:00:00.000000000",
          "2024-04-08T18:15:00.000000000",
          "2024-04-08T18:30:00.000000000",
          "2024-04-08T18:45:00.000000000",
          "2024-04-08T19:00:00.000000000",
          "2024-04-08T19:15:00.000000000",
          "2024-04-08T19:30:00.000000000",
          "2024-04-08T19:45:00.000000000",
          "2024-04-08T20:00:00.000000000"
         ],
         "y": [
          2,
          11,
          5,
          3,
          1,
          3,
          0,
          0,
          31,
          8,
          0,
          1,
          1,
          0,
          1,
          1,
          0,
          0,
          0,
          0,
          0,
          0,
          0,
          0,
          0,
          0,
          0,
          0,
          0,
          0,
          0,
          0,
          0,
          0,
          0,
          0,
          2,
          0,
          0,
          0,
          0,
          0,
          0,
          2,
          0,
          0,
          0,
          0,
          0
         ]
        },
        {
         "mode": "lines+markers",
         "type": "scatter",
         "x": [
          "2024-04-08T08:00:00.000000000",
          "2024-04-08T08:15:00.000000000",
          "2024-04-08T08:30:00.000000000",
          "2024-04-08T08:45:00.000000000",
          "2024-04-08T09:00:00.000000000",
          "2024-04-08T09:15:00.000000000",
          "2024-04-08T09:30:00.000000000",
          "2024-04-08T09:45:00.000000000",
          "2024-04-08T10:00:00.000000000",
          "2024-04-08T10:15:00.000000000",
          "2024-04-08T10:30:00.000000000",
          "2024-04-08T10:45:00.000000000",
          "2024-04-08T11:00:00.000000000",
          "2024-04-08T11:15:00.000000000",
          "2024-04-08T11:30:00.000000000",
          "2024-04-08T11:45:00.000000000",
          "2024-04-08T12:00:00.000000000",
          "2024-04-08T12:15:00.000000000",
          "2024-04-08T12:30:00.000000000",
          "2024-04-08T12:45:00.000000000",
          "2024-04-08T13:00:00.000000000",
          "2024-04-08T13:15:00.000000000",
          "2024-04-08T13:30:00.000000000",
          "2024-04-08T13:45:00.000000000",
          "2024-04-08T14:00:00.000000000",
          "2024-04-08T14:15:00.000000000",
          "2024-04-08T14:30:00.000000000",
          "2024-04-08T14:45:00.000000000",
          "2024-04-08T15:00:00.000000000",
          "2024-04-08T15:15:00.000000000",
          "2024-04-08T15:30:00.000000000",
          "2024-04-08T15:45:00.000000000",
          "2024-04-08T16:00:00.000000000",
          "2024-04-08T16:15:00.000000000",
          "2024-04-08T16:30:00.000000000",
          "2024-04-08T16:45:00.000000000",
          "2024-04-08T17:00:00.000000000",
          "2024-04-08T17:15:00.000000000",
          "2024-04-08T17:30:00.000000000",
          "2024-04-08T17:45:00.000000000",
          "2024-04-08T18:00:00.000000000",
          "2024-04-08T18:15:00.000000000",
          "2024-04-08T18:30:00.000000000",
          "2024-04-08T18:45:00.000000000",
          "2024-04-08T19:00:00.000000000",
          "2024-04-08T19:15:00.000000000",
          "2024-04-08T19:30:00.000000000",
          "2024-04-08T19:45:00.000000000",
          "2024-04-08T20:00:00.000000000"
         ],
         "y": [
          4,
          15,
          6,
          2,
          0,
          0,
          0,
          0,
          23,
          2,
          0,
          0,
          0,
          2,
          1,
          3,
          0,
          0,
          0,
          0,
          0,
          0,
          14,
          2,
          0,
          1,
          1,
          0,
          1,
          13,
          0,
          0,
          0,
          0,
          0,
          0,
          0,
          0,
          0,
          0,
          0,
          0,
          3,
          0,
          0,
          0,
          0,
          0,
          2
         ]
        },
        {
         "mode": "lines+markers",
         "type": "scatter",
         "x": [
          "2024-04-08T08:00:00.000000000",
          "2024-04-08T08:15:00.000000000",
          "2024-04-08T08:30:00.000000000",
          "2024-04-08T08:45:00.000000000",
          "2024-04-08T09:00:00.000000000",
          "2024-04-08T09:15:00.000000000",
          "2024-04-08T09:30:00.000000000",
          "2024-04-08T09:45:00.000000000",
          "2024-04-08T10:00:00.000000000",
          "2024-04-08T10:15:00.000000000",
          "2024-04-08T10:30:00.000000000",
          "2024-04-08T10:45:00.000000000",
          "2024-04-08T11:00:00.000000000",
          "2024-04-08T11:15:00.000000000",
          "2024-04-08T11:30:00.000000000",
          "2024-04-08T11:45:00.000000000",
          "2024-04-08T12:00:00.000000000",
          "2024-04-08T12:15:00.000000000",
          "2024-04-08T12:30:00.000000000",
          "2024-04-08T12:45:00.000000000",
          "2024-04-08T13:00:00.000000000",
          "2024-04-08T13:15:00.000000000",
          "2024-04-08T13:30:00.000000000",
          "2024-04-08T13:45:00.000000000",
          "2024-04-08T14:00:00.000000000",
          "2024-04-08T14:15:00.000000000",
          "2024-04-08T14:30:00.000000000",
          "2024-04-08T14:45:00.000000000",
          "2024-04-08T15:00:00.000000000",
          "2024-04-08T15:15:00.000000000",
          "2024-04-08T15:30:00.000000000",
          "2024-04-08T15:45:00.000000000",
          "2024-04-08T16:00:00.000000000",
          "2024-04-08T16:15:00.000000000",
          "2024-04-08T16:30:00.000000000",
          "2024-04-08T16:45:00.000000000",
          "2024-04-08T17:00:00.000000000",
          "2024-04-08T17:15:00.000000000",
          "2024-04-08T17:30:00.000000000",
          "2024-04-08T17:45:00.000000000",
          "2024-04-08T18:00:00.000000000",
          "2024-04-08T18:15:00.000000000",
          "2024-04-08T18:30:00.000000000",
          "2024-04-08T18:45:00.000000000",
          "2024-04-08T19:00:00.000000000",
          "2024-04-08T19:15:00.000000000",
          "2024-04-08T19:30:00.000000000",
          "2024-04-08T19:45:00.000000000",
          "2024-04-08T20:00:00.000000000"
         ],
         "y": [
          4,
          14,
          8,
          1,
          0,
          0,
          0,
          0,
          32,
          5,
          1,
          0,
          0,
          0,
          0,
          6,
          0,
          0,
          0,
          0,
          0,
          0,
          1,
          0,
          0,
          1,
          0,
          0,
          0,
          0,
          0,
          0,
          0,
          0,
          0,
          0,
          1,
          0,
          0,
          0,
          0,
          0,
          0,
          0,
          0,
          0,
          0,
          0,
          2
         ]
        },
        {
         "mode": "lines+markers",
         "type": "scatter",
         "x": [
          "2024-04-08T08:00:00.000000000",
          "2024-04-08T08:15:00.000000000",
          "2024-04-08T08:30:00.000000000",
          "2024-04-08T08:45:00.000000000",
          "2024-04-08T09:00:00.000000000",
          "2024-04-08T09:15:00.000000000",
          "2024-04-08T09:30:00.000000000",
          "2024-04-08T09:45:00.000000000",
          "2024-04-08T10:00:00.000000000",
          "2024-04-08T10:15:00.000000000",
          "2024-04-08T10:30:00.000000000",
          "2024-04-08T10:45:00.000000000",
          "2024-04-08T11:00:00.000000000",
          "2024-04-08T11:15:00.000000000",
          "2024-04-08T11:30:00.000000000",
          "2024-04-08T11:45:00.000000000",
          "2024-04-08T12:00:00.000000000",
          "2024-04-08T12:15:00.000000000",
          "2024-04-08T12:30:00.000000000",
          "2024-04-08T12:45:00.000000000",
          "2024-04-08T13:00:00.000000000",
          "2024-04-08T13:15:00.000000000",
          "2024-04-08T13:30:00.000000000",
          "2024-04-08T13:45:00.000000000",
          "2024-04-08T14:00:00.000000000",
          "2024-04-08T14:15:00.000000000",
          "2024-04-08T14:30:00.000000000",
          "2024-04-08T14:45:00.000000000",
          "2024-04-08T15:00:00.000000000",
          "2024-04-08T15:15:00.000000000",
          "2024-04-08T15:30:00.000000000",
          "2024-04-08T15:45:00.000000000",
          "2024-04-08T16:00:00.000000000",
          "2024-04-08T16:15:00.000000000",
          "2024-04-08T16:30:00.000000000",
          "2024-04-08T16:45:00.000000000",
          "2024-04-08T17:00:00.000000000",
          "2024-04-08T17:15:00.000000000",
          "2024-04-08T17:30:00.000000000",
          "2024-04-08T17:45:00.000000000",
          "2024-04-08T18:00:00.000000000",
          "2024-04-08T18:15:00.000000000",
          "2024-04-08T18:30:00.000000000",
          "2024-04-08T18:45:00.000000000",
          "2024-04-08T19:00:00.000000000",
          "2024-04-08T19:15:00.000000000",
          "2024-04-08T19:30:00.000000000",
          "2024-04-08T19:45:00.000000000",
          "2024-04-08T20:00:00.000000000"
         ],
         "y": [
          6,
          20,
          8,
          1,
          0,
          0,
          3,
          0,
          29,
          0,
          1,
          0,
          2,
          1,
          0,
          4,
          0,
          0,
          0,
          0,
          2,
          0,
          15,
          3,
          1,
          0,
          0,
          0,
          0,
          4,
          0,
          0,
          0,
          0,
          0,
          0,
          0,
          0,
          0,
          0,
          0,
          0,
          0,
          0,
          0,
          0,
          0,
          0,
          0
         ]
        },
        {
         "mode": "lines+markers",
         "type": "scatter",
         "x": [
          "2024-04-08T08:00:00.000000000",
          "2024-04-08T08:15:00.000000000",
          "2024-04-08T08:30:00.000000000",
          "2024-04-08T08:45:00.000000000",
          "2024-04-08T09:00:00.000000000",
          "2024-04-08T09:15:00.000000000",
          "2024-04-08T09:30:00.000000000",
          "2024-04-08T09:45:00.000000000",
          "2024-04-08T10:00:00.000000000",
          "2024-04-08T10:15:00.000000000",
          "2024-04-08T10:30:00.000000000",
          "2024-04-08T10:45:00.000000000",
          "2024-04-08T11:00:00.000000000",
          "2024-04-08T11:15:00.000000000",
          "2024-04-08T11:30:00.000000000",
          "2024-04-08T11:45:00.000000000",
          "2024-04-08T12:00:00.000000000",
          "2024-04-08T12:15:00.000000000",
          "2024-04-08T12:30:00.000000000",
          "2024-04-08T12:45:00.000000000",
          "2024-04-08T13:00:00.000000000",
          "2024-04-08T13:15:00.000000000",
          "2024-04-08T13:30:00.000000000",
          "2024-04-08T13:45:00.000000000",
          "2024-04-08T14:00:00.000000000",
          "2024-04-08T14:15:00.000000000",
          "2024-04-08T14:30:00.000000000",
          "2024-04-08T14:45:00.000000000",
          "2024-04-08T15:00:00.000000000",
          "2024-04-08T15:15:00.000000000",
          "2024-04-08T15:30:00.000000000",
          "2024-04-08T15:45:00.000000000",
          "2024-04-08T16:00:00.000000000",
          "2024-04-08T16:15:00.000000000",
          "2024-04-08T16:30:00.000000000",
          "2024-04-08T16:45:00.000000000",
          "2024-04-08T17:00:00.000000000",
          "2024-04-08T17:15:00.000000000",
          "2024-04-08T17:30:00.000000000",
          "2024-04-08T17:45:00.000000000",
          "2024-04-08T18:00:00.000000000",
          "2024-04-08T18:15:00.000000000",
          "2024-04-08T18:30:00.000000000",
          "2024-04-08T18:45:00.000000000",
          "2024-04-08T19:00:00.000000000",
          "2024-04-08T19:15:00.000000000",
          "2024-04-08T19:30:00.000000000",
          "2024-04-08T19:45:00.000000000",
          "2024-04-08T20:00:00.000000000"
         ],
         "y": [
          5,
          14,
          10,
          0,
          0,
          2,
          1,
          0,
          28,
          3,
          0,
          0,
          0,
          0,
          4,
          7,
          0,
          0,
          0,
          0,
          0,
          0,
          1,
          0,
          0,
          0,
          0,
          0,
          0,
          0,
          0,
          0,
          0,
          0,
          0,
          0,
          0,
          0,
          0,
          0,
          0,
          0,
          0,
          0,
          0,
          0,
          0,
          0,
          0
         ]
        },
        {
         "mode": "lines+markers",
         "type": "scatter",
         "x": [
          "2024-04-08T08:00:00.000000000",
          "2024-04-08T08:15:00.000000000",
          "2024-04-08T08:30:00.000000000",
          "2024-04-08T08:45:00.000000000",
          "2024-04-08T09:00:00.000000000",
          "2024-04-08T09:15:00.000000000",
          "2024-04-08T09:30:00.000000000",
          "2024-04-08T09:45:00.000000000",
          "2024-04-08T10:00:00.000000000",
          "2024-04-08T10:15:00.000000000",
          "2024-04-08T10:30:00.000000000",
          "2024-04-08T10:45:00.000000000",
          "2024-04-08T11:00:00.000000000",
          "2024-04-08T11:15:00.000000000",
          "2024-04-08T11:30:00.000000000",
          "2024-04-08T11:45:00.000000000",
          "2024-04-08T12:00:00.000000000",
          "2024-04-08T12:15:00.000000000",
          "2024-04-08T12:30:00.000000000",
          "2024-04-08T12:45:00.000000000",
          "2024-04-08T13:00:00.000000000",
          "2024-04-08T13:15:00.000000000",
          "2024-04-08T13:30:00.000000000",
          "2024-04-08T13:45:00.000000000",
          "2024-04-08T14:00:00.000000000",
          "2024-04-08T14:15:00.000000000",
          "2024-04-08T14:30:00.000000000",
          "2024-04-08T14:45:00.000000000",
          "2024-04-08T15:00:00.000000000",
          "2024-04-08T15:15:00.000000000",
          "2024-04-08T15:30:00.000000000",
          "2024-04-08T15:45:00.000000000",
          "2024-04-08T16:00:00.000000000",
          "2024-04-08T16:15:00.000000000",
          "2024-04-08T16:30:00.000000000",
          "2024-04-08T16:45:00.000000000",
          "2024-04-08T17:00:00.000000000",
          "2024-04-08T17:15:00.000000000",
          "2024-04-08T17:30:00.000000000",
          "2024-04-08T17:45:00.000000000",
          "2024-04-08T18:00:00.000000000",
          "2024-04-08T18:15:00.000000000",
          "2024-04-08T18:30:00.000000000",
          "2024-04-08T18:45:00.000000000",
          "2024-04-08T19:00:00.000000000",
          "2024-04-08T19:15:00.000000000",
          "2024-04-08T19:30:00.000000000",
          "2024-04-08T19:45:00.000000000",
          "2024-04-08T20:00:00.000000000"
         ],
         "y": [
          8,
          18,
          6,
          2,
          0,
          0,
          1,
          0,
          24,
          3,
          0,
          1,
          3,
          0,
          0,
          4,
          0,
          0,
          0,
          0,
          0,
          0,
          0,
          0,
          0,
          0,
          0,
          0,
          0,
          0,
          0,
          0,
          0,
          0,
          0,
          0,
          0,
          0,
          0,
          0,
          0,
          0,
          0,
          0,
          0,
          0,
          0,
          0,
          0
         ]
        },
        {
         "mode": "lines+markers",
         "type": "scatter",
         "x": [
          "2024-04-08T08:00:00.000000000",
          "2024-04-08T08:15:00.000000000",
          "2024-04-08T08:30:00.000000000",
          "2024-04-08T08:45:00.000000000",
          "2024-04-08T09:00:00.000000000",
          "2024-04-08T09:15:00.000000000",
          "2024-04-08T09:30:00.000000000",
          "2024-04-08T09:45:00.000000000",
          "2024-04-08T10:00:00.000000000",
          "2024-04-08T10:15:00.000000000",
          "2024-04-08T10:30:00.000000000",
          "2024-04-08T10:45:00.000000000",
          "2024-04-08T11:00:00.000000000",
          "2024-04-08T11:15:00.000000000",
          "2024-04-08T11:30:00.000000000",
          "2024-04-08T11:45:00.000000000",
          "2024-04-08T12:00:00.000000000",
          "2024-04-08T12:15:00.000000000",
          "2024-04-08T12:30:00.000000000",
          "2024-04-08T12:45:00.000000000",
          "2024-04-08T13:00:00.000000000",
          "2024-04-08T13:15:00.000000000",
          "2024-04-08T13:30:00.000000000",
          "2024-04-08T13:45:00.000000000",
          "2024-04-08T14:00:00.000000000",
          "2024-04-08T14:15:00.000000000",
          "2024-04-08T14:30:00.000000000",
          "2024-04-08T14:45:00.000000000",
          "2024-04-08T15:00:00.000000000",
          "2024-04-08T15:15:00.000000000",
          "2024-04-08T15:30:00.000000000",
          "2024-04-08T15:45:00.000000000",
          "2024-04-08T16:00:00.000000000",
          "2024-04-08T16:15:00.000000000",
          "2024-04-08T16:30:00.000000000",
          "2024-04-08T16:45:00.000000000",
          "2024-04-08T17:00:00.000000000",
          "2024-04-08T17:15:00.000000000",
          "2024-04-08T17:30:00.000000000",
          "2024-04-08T17:45:00.000000000",
          "2024-04-08T18:00:00.000000000",
          "2024-04-08T18:15:00.000000000",
          "2024-04-08T18:30:00.000000000",
          "2024-04-08T18:45:00.000000000",
          "2024-04-08T19:00:00.000000000",
          "2024-04-08T19:15:00.000000000",
          "2024-04-08T19:30:00.000000000",
          "2024-04-08T19:45:00.000000000",
          "2024-04-08T20:00:00.000000000"
         ],
         "y": [
          1,
          14,
          6,
          3,
          0,
          0,
          0,
          0,
          17,
          1,
          0,
          0,
          1,
          0,
          2,
          3,
          0,
          0,
          1,
          0,
          0,
          0,
          0,
          0,
          0,
          1,
          0,
          0,
          1,
          20,
          0,
          0,
          0,
          0,
          0,
          0,
          12,
          0,
          0,
          0,
          0,
          0,
          0,
          0,
          2,
          0,
          0,
          0,
          0
         ]
        },
        {
         "mode": "lines+markers",
         "type": "scatter",
         "x": [
          "2024-04-08T08:00:00.000000000",
          "2024-04-08T08:15:00.000000000",
          "2024-04-08T08:30:00.000000000",
          "2024-04-08T08:45:00.000000000",
          "2024-04-08T09:00:00.000000000",
          "2024-04-08T09:15:00.000000000",
          "2024-04-08T09:30:00.000000000",
          "2024-04-08T09:45:00.000000000",
          "2024-04-08T10:00:00.000000000",
          "2024-04-08T10:15:00.000000000",
          "2024-04-08T10:30:00.000000000",
          "2024-04-08T10:45:00.000000000",
          "2024-04-08T11:00:00.000000000",
          "2024-04-08T11:15:00.000000000",
          "2024-04-08T11:30:00.000000000",
          "2024-04-08T11:45:00.000000000",
          "2024-04-08T12:00:00.000000000",
          "2024-04-08T12:15:00.000000000",
          "2024-04-08T12:30:00.000000000",
          "2024-04-08T12:45:00.000000000",
          "2024-04-08T13:00:00.000000000",
          "2024-04-08T13:15:00.000000000",
          "2024-04-08T13:30:00.000000000",
          "2024-04-08T13:45:00.000000000",
          "2024-04-08T14:00:00.000000000",
          "2024-04-08T14:15:00.000000000",
          "2024-04-08T14:30:00.000000000",
          "2024-04-08T14:45:00.000000000",
          "2024-04-08T15:00:00.000000000",
          "2024-04-08T15:15:00.000000000",
          "2024-04-08T15:30:00.000000000",
          "2024-04-08T15:45:00.000000000",
          "2024-04-08T16:00:00.000000000",
          "2024-04-08T16:15:00.000000000",
          "2024-04-08T16:30:00.000000000",
          "2024-04-08T16:45:00.000000000",
          "2024-04-08T17:00:00.000000000",
          "2024-04-08T17:15:00.000000000",
          "2024-04-08T17:30:00.000000000",
          "2024-04-08T17:45:00.000000000",
          "2024-04-08T18:00:00.000000000",
          "2024-04-08T18:15:00.000000000",
          "2024-04-08T18:30:00.000000000",
          "2024-04-08T18:45:00.000000000",
          "2024-04-08T19:00:00.000000000",
          "2024-04-08T19:15:00.000000000",
          "2024-04-08T19:30:00.000000000",
          "2024-04-08T19:45:00.000000000",
          "2024-04-08T20:00:00.000000000"
         ],
         "y": [
          4,
          6,
          2,
          2,
          0,
          0,
          0,
          1,
          32,
          3,
          1,
          0,
          1,
          3,
          0,
          0,
          0,
          0,
          0,
          0,
          6,
          24,
          35,
          2,
          0,
          1,
          0,
          0,
          11,
          21,
          0,
          0,
          1,
          0,
          0,
          0,
          2,
          0,
          0,
          0,
          1,
          0,
          0,
          0,
          0,
          0,
          0,
          0,
          0
         ]
        }
       ],
       "layout": {
        "template": {
         "data": {
          "bar": [
           {
            "error_x": {
             "color": "#2a3f5f"
            },
            "error_y": {
             "color": "#2a3f5f"
            },
            "marker": {
             "line": {
              "color": "#E5ECF6",
              "width": 0.5
             },
             "pattern": {
              "fillmode": "overlay",
              "size": 10,
              "solidity": 0.2
             }
            },
            "type": "bar"
           }
          ],
          "barpolar": [
           {
            "marker": {
             "line": {
              "color": "#E5ECF6",
              "width": 0.5
             },
             "pattern": {
              "fillmode": "overlay",
              "size": 10,
              "solidity": 0.2
             }
            },
            "type": "barpolar"
           }
          ],
          "carpet": [
           {
            "aaxis": {
             "endlinecolor": "#2a3f5f",
             "gridcolor": "white",
             "linecolor": "white",
             "minorgridcolor": "white",
             "startlinecolor": "#2a3f5f"
            },
            "baxis": {
             "endlinecolor": "#2a3f5f",
             "gridcolor": "white",
             "linecolor": "white",
             "minorgridcolor": "white",
             "startlinecolor": "#2a3f5f"
            },
            "type": "carpet"
           }
          ],
          "choropleth": [
           {
            "colorbar": {
             "outlinewidth": 0,
             "ticks": ""
            },
            "type": "choropleth"
           }
          ],
          "contour": [
           {
            "colorbar": {
             "outlinewidth": 0,
             "ticks": ""
            },
            "colorscale": [
             [
              0,
              "#0d0887"
             ],
             [
              0.1111111111111111,
              "#46039f"
             ],
             [
              0.2222222222222222,
              "#7201a8"
             ],
             [
              0.3333333333333333,
              "#9c179e"
             ],
             [
              0.4444444444444444,
              "#bd3786"
             ],
             [
              0.5555555555555556,
              "#d8576b"
             ],
             [
              0.6666666666666666,
              "#ed7953"
             ],
             [
              0.7777777777777778,
              "#fb9f3a"
             ],
             [
              0.8888888888888888,
              "#fdca26"
             ],
             [
              1,
              "#f0f921"
             ]
            ],
            "type": "contour"
           }
          ],
          "contourcarpet": [
           {
            "colorbar": {
             "outlinewidth": 0,
             "ticks": ""
            },
            "type": "contourcarpet"
           }
          ],
          "heatmap": [
           {
            "colorbar": {
             "outlinewidth": 0,
             "ticks": ""
            },
            "colorscale": [
             [
              0,
              "#0d0887"
             ],
             [
              0.1111111111111111,
              "#46039f"
             ],
             [
              0.2222222222222222,
              "#7201a8"
             ],
             [
              0.3333333333333333,
              "#9c179e"
             ],
             [
              0.4444444444444444,
              "#bd3786"
             ],
             [
              0.5555555555555556,
              "#d8576b"
             ],
             [
              0.6666666666666666,
              "#ed7953"
             ],
             [
              0.7777777777777778,
              "#fb9f3a"
             ],
             [
              0.8888888888888888,
              "#fdca26"
             ],
             [
              1,
              "#f0f921"
             ]
            ],
            "type": "heatmap"
           }
          ],
          "heatmapgl": [
           {
            "colorbar": {
             "outlinewidth": 0,
             "ticks": ""
            },
            "colorscale": [
             [
              0,
              "#0d0887"
             ],
             [
              0.1111111111111111,
              "#46039f"
             ],
             [
              0.2222222222222222,
              "#7201a8"
             ],
             [
              0.3333333333333333,
              "#9c179e"
             ],
             [
              0.4444444444444444,
              "#bd3786"
             ],
             [
              0.5555555555555556,
              "#d8576b"
             ],
             [
              0.6666666666666666,
              "#ed7953"
             ],
             [
              0.7777777777777778,
              "#fb9f3a"
             ],
             [
              0.8888888888888888,
              "#fdca26"
             ],
             [
              1,
              "#f0f921"
             ]
            ],
            "type": "heatmapgl"
           }
          ],
          "histogram": [
           {
            "marker": {
             "pattern": {
              "fillmode": "overlay",
              "size": 10,
              "solidity": 0.2
             }
            },
            "type": "histogram"
           }
          ],
          "histogram2d": [
           {
            "colorbar": {
             "outlinewidth": 0,
             "ticks": ""
            },
            "colorscale": [
             [
              0,
              "#0d0887"
             ],
             [
              0.1111111111111111,
              "#46039f"
             ],
             [
              0.2222222222222222,
              "#7201a8"
             ],
             [
              0.3333333333333333,
              "#9c179e"
             ],
             [
              0.4444444444444444,
              "#bd3786"
             ],
             [
              0.5555555555555556,
              "#d8576b"
             ],
             [
              0.6666666666666666,
              "#ed7953"
             ],
             [
              0.7777777777777778,
              "#fb9f3a"
             ],
             [
              0.8888888888888888,
              "#fdca26"
             ],
             [
              1,
              "#f0f921"
             ]
            ],
            "type": "histogram2d"
           }
          ],
          "histogram2dcontour": [
           {
            "colorbar": {
             "outlinewidth": 0,
             "ticks": ""
            },
            "colorscale": [
             [
              0,
              "#0d0887"
             ],
             [
              0.1111111111111111,
              "#46039f"
             ],
             [
              0.2222222222222222,
              "#7201a8"
             ],
             [
              0.3333333333333333,
              "#9c179e"
             ],
             [
              0.4444444444444444,
              "#bd3786"
             ],
             [
              0.5555555555555556,
              "#d8576b"
             ],
             [
              0.6666666666666666,
              "#ed7953"
             ],
             [
              0.7777777777777778,
              "#fb9f3a"
             ],
             [
              0.8888888888888888,
              "#fdca26"
             ],
             [
              1,
              "#f0f921"
             ]
            ],
            "type": "histogram2dcontour"
           }
          ],
          "mesh3d": [
           {
            "colorbar": {
             "outlinewidth": 0,
             "ticks": ""
            },
            "type": "mesh3d"
           }
          ],
          "parcoords": [
           {
            "line": {
             "colorbar": {
              "outlinewidth": 0,
              "ticks": ""
             }
            },
            "type": "parcoords"
           }
          ],
          "pie": [
           {
            "automargin": true,
            "type": "pie"
           }
          ],
          "scatter": [
           {
            "fillpattern": {
             "fillmode": "overlay",
             "size": 10,
             "solidity": 0.2
            },
            "type": "scatter"
           }
          ],
          "scatter3d": [
           {
            "line": {
             "colorbar": {
              "outlinewidth": 0,
              "ticks": ""
             }
            },
            "marker": {
             "colorbar": {
              "outlinewidth": 0,
              "ticks": ""
             }
            },
            "type": "scatter3d"
           }
          ],
          "scattercarpet": [
           {
            "marker": {
             "colorbar": {
              "outlinewidth": 0,
              "ticks": ""
             }
            },
            "type": "scattercarpet"
           }
          ],
          "scattergeo": [
           {
            "marker": {
             "colorbar": {
              "outlinewidth": 0,
              "ticks": ""
             }
            },
            "type": "scattergeo"
           }
          ],
          "scattergl": [
           {
            "marker": {
             "colorbar": {
              "outlinewidth": 0,
              "ticks": ""
             }
            },
            "type": "scattergl"
           }
          ],
          "scattermapbox": [
           {
            "marker": {
             "colorbar": {
              "outlinewidth": 0,
              "ticks": ""
             }
            },
            "type": "scattermapbox"
           }
          ],
          "scatterpolar": [
           {
            "marker": {
             "colorbar": {
              "outlinewidth": 0,
              "ticks": ""
             }
            },
            "type": "scatterpolar"
           }
          ],
          "scatterpolargl": [
           {
            "marker": {
             "colorbar": {
              "outlinewidth": 0,
              "ticks": ""
             }
            },
            "type": "scatterpolargl"
           }
          ],
          "scatterternary": [
           {
            "marker": {
             "colorbar": {
              "outlinewidth": 0,
              "ticks": ""
             }
            },
            "type": "scatterternary"
           }
          ],
          "surface": [
           {
            "colorbar": {
             "outlinewidth": 0,
             "ticks": ""
            },
            "colorscale": [
             [
              0,
              "#0d0887"
             ],
             [
              0.1111111111111111,
              "#46039f"
             ],
             [
              0.2222222222222222,
              "#7201a8"
             ],
             [
              0.3333333333333333,
              "#9c179e"
             ],
             [
              0.4444444444444444,
              "#bd3786"
             ],
             [
              0.5555555555555556,
              "#d8576b"
             ],
             [
              0.6666666666666666,
              "#ed7953"
             ],
             [
              0.7777777777777778,
              "#fb9f3a"
             ],
             [
              0.8888888888888888,
              "#fdca26"
             ],
             [
              1,
              "#f0f921"
             ]
            ],
            "type": "surface"
           }
          ],
          "table": [
           {
            "cells": {
             "fill": {
              "color": "#EBF0F8"
             },
             "line": {
              "color": "white"
             }
            },
            "header": {
             "fill": {
              "color": "#C8D4E3"
             },
             "line": {
              "color": "white"
             }
            },
            "type": "table"
           }
          ]
         },
         "layout": {
          "annotationdefaults": {
           "arrowcolor": "#2a3f5f",
           "arrowhead": 0,
           "arrowwidth": 1
          },
          "autotypenumbers": "strict",
          "coloraxis": {
           "colorbar": {
            "outlinewidth": 0,
            "ticks": ""
           }
          },
          "colorscale": {
           "diverging": [
            [
             0,
             "#8e0152"
            ],
            [
             0.1,
             "#c51b7d"
            ],
            [
             0.2,
             "#de77ae"
            ],
            [
             0.3,
             "#f1b6da"
            ],
            [
             0.4,
             "#fde0ef"
            ],
            [
             0.5,
             "#f7f7f7"
            ],
            [
             0.6,
             "#e6f5d0"
            ],
            [
             0.7,
             "#b8e186"
            ],
            [
             0.8,
             "#7fbc41"
            ],
            [
             0.9,
             "#4d9221"
            ],
            [
             1,
             "#276419"
            ]
           ],
           "sequential": [
            [
             0,
             "#0d0887"
            ],
            [
             0.1111111111111111,
             "#46039f"
            ],
            [
             0.2222222222222222,
             "#7201a8"
            ],
            [
             0.3333333333333333,
             "#9c179e"
            ],
            [
             0.4444444444444444,
             "#bd3786"
            ],
            [
             0.5555555555555556,
             "#d8576b"
            ],
            [
             0.6666666666666666,
             "#ed7953"
            ],
            [
             0.7777777777777778,
             "#fb9f3a"
            ],
            [
             0.8888888888888888,
             "#fdca26"
            ],
            [
             1,
             "#f0f921"
            ]
           ],
           "sequentialminus": [
            [
             0,
             "#0d0887"
            ],
            [
             0.1111111111111111,
             "#46039f"
            ],
            [
             0.2222222222222222,
             "#7201a8"
            ],
            [
             0.3333333333333333,
             "#9c179e"
            ],
            [
             0.4444444444444444,
             "#bd3786"
            ],
            [
             0.5555555555555556,
             "#d8576b"
            ],
            [
             0.6666666666666666,
             "#ed7953"
            ],
            [
             0.7777777777777778,
             "#fb9f3a"
            ],
            [
             0.8888888888888888,
             "#fdca26"
            ],
            [
             1,
             "#f0f921"
            ]
           ]
          },
          "colorway": [
           "#636efa",
           "#EF553B",
           "#00cc96",
           "#ab63fa",
           "#FFA15A",
           "#19d3f3",
           "#FF6692",
           "#B6E880",
           "#FF97FF",
           "#FECB52"
          ],
          "font": {
           "color": "#2a3f5f"
          },
          "geo": {
           "bgcolor": "white",
           "lakecolor": "white",
           "landcolor": "#E5ECF6",
           "showlakes": true,
           "showland": true,
           "subunitcolor": "white"
          },
          "hoverlabel": {
           "align": "left"
          },
          "hovermode": "closest",
          "mapbox": {
           "style": "light"
          },
          "paper_bgcolor": "white",
          "plot_bgcolor": "#E5ECF6",
          "polar": {
           "angularaxis": {
            "gridcolor": "white",
            "linecolor": "white",
            "ticks": ""
           },
           "bgcolor": "#E5ECF6",
           "radialaxis": {
            "gridcolor": "white",
            "linecolor": "white",
            "ticks": ""
           }
          },
          "scene": {
           "xaxis": {
            "backgroundcolor": "#E5ECF6",
            "gridcolor": "white",
            "gridwidth": 2,
            "linecolor": "white",
            "showbackground": true,
            "ticks": "",
            "zerolinecolor": "white"
           },
           "yaxis": {
            "backgroundcolor": "#E5ECF6",
            "gridcolor": "white",
            "gridwidth": 2,
            "linecolor": "white",
            "showbackground": true,
            "ticks": "",
            "zerolinecolor": "white"
           },
           "zaxis": {
            "backgroundcolor": "#E5ECF6",
            "gridcolor": "white",
            "gridwidth": 2,
            "linecolor": "white",
            "showbackground": true,
            "ticks": "",
            "zerolinecolor": "white"
           }
          },
          "shapedefaults": {
           "line": {
            "color": "#2a3f5f"
           }
          },
          "ternary": {
           "aaxis": {
            "gridcolor": "white",
            "linecolor": "white",
            "ticks": ""
           },
           "baxis": {
            "gridcolor": "white",
            "linecolor": "white",
            "ticks": ""
           },
           "bgcolor": "#E5ECF6",
           "caxis": {
            "gridcolor": "white",
            "linecolor": "white",
            "ticks": ""
           }
          },
          "title": {
           "x": 0.05
          },
          "xaxis": {
           "automargin": true,
           "gridcolor": "white",
           "linecolor": "white",
           "ticks": "",
           "title": {
            "standoff": 15
           },
           "zerolinecolor": "white",
           "zerolinewidth": 2
          },
          "yaxis": {
           "automargin": true,
           "gridcolor": "white",
           "linecolor": "white",
           "ticks": "",
           "title": {
            "standoff": 15
           },
           "zerolinecolor": "white",
           "zerolinewidth": 2
          }
         }
        }
       }
      }
     },
     "metadata": {},
     "output_type": "display_data"
    },
    {
     "name": "stdout",
     "output_type": "stream",
     "text": [
      "################ 3 ################\n",
      "[78]\n"
     ]
    },
    {
     "data": {
      "application/vnd.plotly.v1+json": {
       "config": {
        "plotlyServerURL": "https://plot.ly"
       },
       "data": [
        {
         "mode": "lines+markers",
         "type": "scatter",
         "x": [
          "2024-04-08T08:00:00.000000000",
          "2024-04-08T08:15:00.000000000",
          "2024-04-08T08:30:00.000000000",
          "2024-04-08T08:45:00.000000000",
          "2024-04-08T09:00:00.000000000",
          "2024-04-08T09:15:00.000000000",
          "2024-04-08T09:30:00.000000000",
          "2024-04-08T09:45:00.000000000",
          "2024-04-08T10:00:00.000000000",
          "2024-04-08T10:15:00.000000000",
          "2024-04-08T10:30:00.000000000",
          "2024-04-08T10:45:00.000000000",
          "2024-04-08T11:00:00.000000000",
          "2024-04-08T11:15:00.000000000",
          "2024-04-08T11:30:00.000000000",
          "2024-04-08T11:45:00.000000000",
          "2024-04-08T12:00:00.000000000",
          "2024-04-08T12:15:00.000000000",
          "2024-04-08T12:30:00.000000000",
          "2024-04-08T12:45:00.000000000",
          "2024-04-08T13:00:00.000000000",
          "2024-04-08T13:15:00.000000000",
          "2024-04-08T13:30:00.000000000",
          "2024-04-08T13:45:00.000000000",
          "2024-04-08T14:00:00.000000000",
          "2024-04-08T14:15:00.000000000",
          "2024-04-08T14:30:00.000000000",
          "2024-04-08T14:45:00.000000000",
          "2024-04-08T15:00:00.000000000",
          "2024-04-08T15:15:00.000000000",
          "2024-04-08T15:30:00.000000000",
          "2024-04-08T15:45:00.000000000",
          "2024-04-08T16:00:00.000000000",
          "2024-04-08T16:15:00.000000000",
          "2024-04-08T16:30:00.000000000",
          "2024-04-08T16:45:00.000000000",
          "2024-04-08T17:00:00.000000000",
          "2024-04-08T17:15:00.000000000",
          "2024-04-08T17:30:00.000000000",
          "2024-04-08T17:45:00.000000000",
          "2024-04-08T18:00:00.000000000",
          "2024-04-08T18:15:00.000000000",
          "2024-04-08T18:30:00.000000000",
          "2024-04-08T18:45:00.000000000",
          "2024-04-08T19:00:00.000000000",
          "2024-04-08T19:15:00.000000000",
          "2024-04-08T19:30:00.000000000",
          "2024-04-08T19:45:00.000000000",
          "2024-04-08T20:00:00.000000000"
         ],
         "y": [
          0,
          23,
          13,
          0,
          1,
          0,
          1,
          10,
          0,
          0,
          0,
          0,
          0,
          0,
          4,
          39,
          2,
          0,
          1,
          3,
          51,
          37,
          39,
          10,
          2,
          5,
          11,
          8,
          47,
          32,
          2,
          2,
          0,
          0,
          4,
          0,
          36,
          1,
          0,
          0,
          5,
          0,
          0,
          0,
          0,
          0,
          0,
          0,
          0
         ]
        }
       ],
       "layout": {
        "template": {
         "data": {
          "bar": [
           {
            "error_x": {
             "color": "#2a3f5f"
            },
            "error_y": {
             "color": "#2a3f5f"
            },
            "marker": {
             "line": {
              "color": "#E5ECF6",
              "width": 0.5
             },
             "pattern": {
              "fillmode": "overlay",
              "size": 10,
              "solidity": 0.2
             }
            },
            "type": "bar"
           }
          ],
          "barpolar": [
           {
            "marker": {
             "line": {
              "color": "#E5ECF6",
              "width": 0.5
             },
             "pattern": {
              "fillmode": "overlay",
              "size": 10,
              "solidity": 0.2
             }
            },
            "type": "barpolar"
           }
          ],
          "carpet": [
           {
            "aaxis": {
             "endlinecolor": "#2a3f5f",
             "gridcolor": "white",
             "linecolor": "white",
             "minorgridcolor": "white",
             "startlinecolor": "#2a3f5f"
            },
            "baxis": {
             "endlinecolor": "#2a3f5f",
             "gridcolor": "white",
             "linecolor": "white",
             "minorgridcolor": "white",
             "startlinecolor": "#2a3f5f"
            },
            "type": "carpet"
           }
          ],
          "choropleth": [
           {
            "colorbar": {
             "outlinewidth": 0,
             "ticks": ""
            },
            "type": "choropleth"
           }
          ],
          "contour": [
           {
            "colorbar": {
             "outlinewidth": 0,
             "ticks": ""
            },
            "colorscale": [
             [
              0,
              "#0d0887"
             ],
             [
              0.1111111111111111,
              "#46039f"
             ],
             [
              0.2222222222222222,
              "#7201a8"
             ],
             [
              0.3333333333333333,
              "#9c179e"
             ],
             [
              0.4444444444444444,
              "#bd3786"
             ],
             [
              0.5555555555555556,
              "#d8576b"
             ],
             [
              0.6666666666666666,
              "#ed7953"
             ],
             [
              0.7777777777777778,
              "#fb9f3a"
             ],
             [
              0.8888888888888888,
              "#fdca26"
             ],
             [
              1,
              "#f0f921"
             ]
            ],
            "type": "contour"
           }
          ],
          "contourcarpet": [
           {
            "colorbar": {
             "outlinewidth": 0,
             "ticks": ""
            },
            "type": "contourcarpet"
           }
          ],
          "heatmap": [
           {
            "colorbar": {
             "outlinewidth": 0,
             "ticks": ""
            },
            "colorscale": [
             [
              0,
              "#0d0887"
             ],
             [
              0.1111111111111111,
              "#46039f"
             ],
             [
              0.2222222222222222,
              "#7201a8"
             ],
             [
              0.3333333333333333,
              "#9c179e"
             ],
             [
              0.4444444444444444,
              "#bd3786"
             ],
             [
              0.5555555555555556,
              "#d8576b"
             ],
             [
              0.6666666666666666,
              "#ed7953"
             ],
             [
              0.7777777777777778,
              "#fb9f3a"
             ],
             [
              0.8888888888888888,
              "#fdca26"
             ],
             [
              1,
              "#f0f921"
             ]
            ],
            "type": "heatmap"
           }
          ],
          "heatmapgl": [
           {
            "colorbar": {
             "outlinewidth": 0,
             "ticks": ""
            },
            "colorscale": [
             [
              0,
              "#0d0887"
             ],
             [
              0.1111111111111111,
              "#46039f"
             ],
             [
              0.2222222222222222,
              "#7201a8"
             ],
             [
              0.3333333333333333,
              "#9c179e"
             ],
             [
              0.4444444444444444,
              "#bd3786"
             ],
             [
              0.5555555555555556,
              "#d8576b"
             ],
             [
              0.6666666666666666,
              "#ed7953"
             ],
             [
              0.7777777777777778,
              "#fb9f3a"
             ],
             [
              0.8888888888888888,
              "#fdca26"
             ],
             [
              1,
              "#f0f921"
             ]
            ],
            "type": "heatmapgl"
           }
          ],
          "histogram": [
           {
            "marker": {
             "pattern": {
              "fillmode": "overlay",
              "size": 10,
              "solidity": 0.2
             }
            },
            "type": "histogram"
           }
          ],
          "histogram2d": [
           {
            "colorbar": {
             "outlinewidth": 0,
             "ticks": ""
            },
            "colorscale": [
             [
              0,
              "#0d0887"
             ],
             [
              0.1111111111111111,
              "#46039f"
             ],
             [
              0.2222222222222222,
              "#7201a8"
             ],
             [
              0.3333333333333333,
              "#9c179e"
             ],
             [
              0.4444444444444444,
              "#bd3786"
             ],
             [
              0.5555555555555556,
              "#d8576b"
             ],
             [
              0.6666666666666666,
              "#ed7953"
             ],
             [
              0.7777777777777778,
              "#fb9f3a"
             ],
             [
              0.8888888888888888,
              "#fdca26"
             ],
             [
              1,
              "#f0f921"
             ]
            ],
            "type": "histogram2d"
           }
          ],
          "histogram2dcontour": [
           {
            "colorbar": {
             "outlinewidth": 0,
             "ticks": ""
            },
            "colorscale": [
             [
              0,
              "#0d0887"
             ],
             [
              0.1111111111111111,
              "#46039f"
             ],
             [
              0.2222222222222222,
              "#7201a8"
             ],
             [
              0.3333333333333333,
              "#9c179e"
             ],
             [
              0.4444444444444444,
              "#bd3786"
             ],
             [
              0.5555555555555556,
              "#d8576b"
             ],
             [
              0.6666666666666666,
              "#ed7953"
             ],
             [
              0.7777777777777778,
              "#fb9f3a"
             ],
             [
              0.8888888888888888,
              "#fdca26"
             ],
             [
              1,
              "#f0f921"
             ]
            ],
            "type": "histogram2dcontour"
           }
          ],
          "mesh3d": [
           {
            "colorbar": {
             "outlinewidth": 0,
             "ticks": ""
            },
            "type": "mesh3d"
           }
          ],
          "parcoords": [
           {
            "line": {
             "colorbar": {
              "outlinewidth": 0,
              "ticks": ""
             }
            },
            "type": "parcoords"
           }
          ],
          "pie": [
           {
            "automargin": true,
            "type": "pie"
           }
          ],
          "scatter": [
           {
            "fillpattern": {
             "fillmode": "overlay",
             "size": 10,
             "solidity": 0.2
            },
            "type": "scatter"
           }
          ],
          "scatter3d": [
           {
            "line": {
             "colorbar": {
              "outlinewidth": 0,
              "ticks": ""
             }
            },
            "marker": {
             "colorbar": {
              "outlinewidth": 0,
              "ticks": ""
             }
            },
            "type": "scatter3d"
           }
          ],
          "scattercarpet": [
           {
            "marker": {
             "colorbar": {
              "outlinewidth": 0,
              "ticks": ""
             }
            },
            "type": "scattercarpet"
           }
          ],
          "scattergeo": [
           {
            "marker": {
             "colorbar": {
              "outlinewidth": 0,
              "ticks": ""
             }
            },
            "type": "scattergeo"
           }
          ],
          "scattergl": [
           {
            "marker": {
             "colorbar": {
              "outlinewidth": 0,
              "ticks": ""
             }
            },
            "type": "scattergl"
           }
          ],
          "scattermapbox": [
           {
            "marker": {
             "colorbar": {
              "outlinewidth": 0,
              "ticks": ""
             }
            },
            "type": "scattermapbox"
           }
          ],
          "scatterpolar": [
           {
            "marker": {
             "colorbar": {
              "outlinewidth": 0,
              "ticks": ""
             }
            },
            "type": "scatterpolar"
           }
          ],
          "scatterpolargl": [
           {
            "marker": {
             "colorbar": {
              "outlinewidth": 0,
              "ticks": ""
             }
            },
            "type": "scatterpolargl"
           }
          ],
          "scatterternary": [
           {
            "marker": {
             "colorbar": {
              "outlinewidth": 0,
              "ticks": ""
             }
            },
            "type": "scatterternary"
           }
          ],
          "surface": [
           {
            "colorbar": {
             "outlinewidth": 0,
             "ticks": ""
            },
            "colorscale": [
             [
              0,
              "#0d0887"
             ],
             [
              0.1111111111111111,
              "#46039f"
             ],
             [
              0.2222222222222222,
              "#7201a8"
             ],
             [
              0.3333333333333333,
              "#9c179e"
             ],
             [
              0.4444444444444444,
              "#bd3786"
             ],
             [
              0.5555555555555556,
              "#d8576b"
             ],
             [
              0.6666666666666666,
              "#ed7953"
             ],
             [
              0.7777777777777778,
              "#fb9f3a"
             ],
             [
              0.8888888888888888,
              "#fdca26"
             ],
             [
              1,
              "#f0f921"
             ]
            ],
            "type": "surface"
           }
          ],
          "table": [
           {
            "cells": {
             "fill": {
              "color": "#EBF0F8"
             },
             "line": {
              "color": "white"
             }
            },
            "header": {
             "fill": {
              "color": "#C8D4E3"
             },
             "line": {
              "color": "white"
             }
            },
            "type": "table"
           }
          ]
         },
         "layout": {
          "annotationdefaults": {
           "arrowcolor": "#2a3f5f",
           "arrowhead": 0,
           "arrowwidth": 1
          },
          "autotypenumbers": "strict",
          "coloraxis": {
           "colorbar": {
            "outlinewidth": 0,
            "ticks": ""
           }
          },
          "colorscale": {
           "diverging": [
            [
             0,
             "#8e0152"
            ],
            [
             0.1,
             "#c51b7d"
            ],
            [
             0.2,
             "#de77ae"
            ],
            [
             0.3,
             "#f1b6da"
            ],
            [
             0.4,
             "#fde0ef"
            ],
            [
             0.5,
             "#f7f7f7"
            ],
            [
             0.6,
             "#e6f5d0"
            ],
            [
             0.7,
             "#b8e186"
            ],
            [
             0.8,
             "#7fbc41"
            ],
            [
             0.9,
             "#4d9221"
            ],
            [
             1,
             "#276419"
            ]
           ],
           "sequential": [
            [
             0,
             "#0d0887"
            ],
            [
             0.1111111111111111,
             "#46039f"
            ],
            [
             0.2222222222222222,
             "#7201a8"
            ],
            [
             0.3333333333333333,
             "#9c179e"
            ],
            [
             0.4444444444444444,
             "#bd3786"
            ],
            [
             0.5555555555555556,
             "#d8576b"
            ],
            [
             0.6666666666666666,
             "#ed7953"
            ],
            [
             0.7777777777777778,
             "#fb9f3a"
            ],
            [
             0.8888888888888888,
             "#fdca26"
            ],
            [
             1,
             "#f0f921"
            ]
           ],
           "sequentialminus": [
            [
             0,
             "#0d0887"
            ],
            [
             0.1111111111111111,
             "#46039f"
            ],
            [
             0.2222222222222222,
             "#7201a8"
            ],
            [
             0.3333333333333333,
             "#9c179e"
            ],
            [
             0.4444444444444444,
             "#bd3786"
            ],
            [
             0.5555555555555556,
             "#d8576b"
            ],
            [
             0.6666666666666666,
             "#ed7953"
            ],
            [
             0.7777777777777778,
             "#fb9f3a"
            ],
            [
             0.8888888888888888,
             "#fdca26"
            ],
            [
             1,
             "#f0f921"
            ]
           ]
          },
          "colorway": [
           "#636efa",
           "#EF553B",
           "#00cc96",
           "#ab63fa",
           "#FFA15A",
           "#19d3f3",
           "#FF6692",
           "#B6E880",
           "#FF97FF",
           "#FECB52"
          ],
          "font": {
           "color": "#2a3f5f"
          },
          "geo": {
           "bgcolor": "white",
           "lakecolor": "white",
           "landcolor": "#E5ECF6",
           "showlakes": true,
           "showland": true,
           "subunitcolor": "white"
          },
          "hoverlabel": {
           "align": "left"
          },
          "hovermode": "closest",
          "mapbox": {
           "style": "light"
          },
          "paper_bgcolor": "white",
          "plot_bgcolor": "#E5ECF6",
          "polar": {
           "angularaxis": {
            "gridcolor": "white",
            "linecolor": "white",
            "ticks": ""
           },
           "bgcolor": "#E5ECF6",
           "radialaxis": {
            "gridcolor": "white",
            "linecolor": "white",
            "ticks": ""
           }
          },
          "scene": {
           "xaxis": {
            "backgroundcolor": "#E5ECF6",
            "gridcolor": "white",
            "gridwidth": 2,
            "linecolor": "white",
            "showbackground": true,
            "ticks": "",
            "zerolinecolor": "white"
           },
           "yaxis": {
            "backgroundcolor": "#E5ECF6",
            "gridcolor": "white",
            "gridwidth": 2,
            "linecolor": "white",
            "showbackground": true,
            "ticks": "",
            "zerolinecolor": "white"
           },
           "zaxis": {
            "backgroundcolor": "#E5ECF6",
            "gridcolor": "white",
            "gridwidth": 2,
            "linecolor": "white",
            "showbackground": true,
            "ticks": "",
            "zerolinecolor": "white"
           }
          },
          "shapedefaults": {
           "line": {
            "color": "#2a3f5f"
           }
          },
          "ternary": {
           "aaxis": {
            "gridcolor": "white",
            "linecolor": "white",
            "ticks": ""
           },
           "baxis": {
            "gridcolor": "white",
            "linecolor": "white",
            "ticks": ""
           },
           "bgcolor": "#E5ECF6",
           "caxis": {
            "gridcolor": "white",
            "linecolor": "white",
            "ticks": ""
           }
          },
          "title": {
           "x": 0.05
          },
          "xaxis": {
           "automargin": true,
           "gridcolor": "white",
           "linecolor": "white",
           "ticks": "",
           "title": {
            "standoff": 15
           },
           "zerolinecolor": "white",
           "zerolinewidth": 2
          },
          "yaxis": {
           "automargin": true,
           "gridcolor": "white",
           "linecolor": "white",
           "ticks": "",
           "title": {
            "standoff": 15
           },
           "zerolinecolor": "white",
           "zerolinewidth": 2
          }
         }
        }
       }
      }
     },
     "metadata": {},
     "output_type": "display_data"
    },
    {
     "name": "stdout",
     "output_type": "stream",
     "text": [
      "################ 4 ################\n",
      "[80]\n"
     ]
    },
    {
     "data": {
      "application/vnd.plotly.v1+json": {
       "config": {
        "plotlyServerURL": "https://plot.ly"
       },
       "data": [
        {
         "mode": "lines+markers",
         "type": "scatter",
         "x": [
          "2024-04-08T08:00:00.000000000",
          "2024-04-08T08:15:00.000000000",
          "2024-04-08T08:30:00.000000000",
          "2024-04-08T08:45:00.000000000",
          "2024-04-08T09:00:00.000000000",
          "2024-04-08T09:15:00.000000000",
          "2024-04-08T09:30:00.000000000",
          "2024-04-08T09:45:00.000000000",
          "2024-04-08T10:00:00.000000000",
          "2024-04-08T10:15:00.000000000",
          "2024-04-08T10:30:00.000000000",
          "2024-04-08T10:45:00.000000000",
          "2024-04-08T11:00:00.000000000",
          "2024-04-08T11:15:00.000000000",
          "2024-04-08T11:30:00.000000000",
          "2024-04-08T11:45:00.000000000",
          "2024-04-08T12:00:00.000000000",
          "2024-04-08T12:15:00.000000000",
          "2024-04-08T12:30:00.000000000",
          "2024-04-08T12:45:00.000000000",
          "2024-04-08T13:00:00.000000000",
          "2024-04-08T13:15:00.000000000",
          "2024-04-08T13:30:00.000000000",
          "2024-04-08T13:45:00.000000000",
          "2024-04-08T14:00:00.000000000",
          "2024-04-08T14:15:00.000000000",
          "2024-04-08T14:30:00.000000000",
          "2024-04-08T14:45:00.000000000",
          "2024-04-08T15:00:00.000000000",
          "2024-04-08T15:15:00.000000000",
          "2024-04-08T15:30:00.000000000",
          "2024-04-08T15:45:00.000000000",
          "2024-04-08T16:00:00.000000000",
          "2024-04-08T16:15:00.000000000",
          "2024-04-08T16:30:00.000000000",
          "2024-04-08T16:45:00.000000000",
          "2024-04-08T17:00:00.000000000",
          "2024-04-08T17:15:00.000000000",
          "2024-04-08T17:30:00.000000000",
          "2024-04-08T17:45:00.000000000",
          "2024-04-08T18:00:00.000000000",
          "2024-04-08T18:15:00.000000000",
          "2024-04-08T18:30:00.000000000",
          "2024-04-08T18:45:00.000000000",
          "2024-04-08T19:00:00.000000000",
          "2024-04-08T19:15:00.000000000",
          "2024-04-08T19:30:00.000000000",
          "2024-04-08T19:45:00.000000000",
          "2024-04-08T20:00:00.000000000"
         ],
         "y": [
          4,
          9,
          1,
          3,
          1,
          0,
          0,
          0,
          1,
          4,
          0,
          0,
          0,
          0,
          1,
          2,
          2,
          0,
          0,
          0,
          0,
          0,
          5,
          1,
          0,
          0,
          0,
          1,
          0,
          26,
          1,
          0,
          0,
          0,
          2,
          3,
          48,
          10,
          2,
          0,
          1,
          1,
          0,
          0,
          0,
          0,
          0,
          0,
          0
         ]
        }
       ],
       "layout": {
        "template": {
         "data": {
          "bar": [
           {
            "error_x": {
             "color": "#2a3f5f"
            },
            "error_y": {
             "color": "#2a3f5f"
            },
            "marker": {
             "line": {
              "color": "#E5ECF6",
              "width": 0.5
             },
             "pattern": {
              "fillmode": "overlay",
              "size": 10,
              "solidity": 0.2
             }
            },
            "type": "bar"
           }
          ],
          "barpolar": [
           {
            "marker": {
             "line": {
              "color": "#E5ECF6",
              "width": 0.5
             },
             "pattern": {
              "fillmode": "overlay",
              "size": 10,
              "solidity": 0.2
             }
            },
            "type": "barpolar"
           }
          ],
          "carpet": [
           {
            "aaxis": {
             "endlinecolor": "#2a3f5f",
             "gridcolor": "white",
             "linecolor": "white",
             "minorgridcolor": "white",
             "startlinecolor": "#2a3f5f"
            },
            "baxis": {
             "endlinecolor": "#2a3f5f",
             "gridcolor": "white",
             "linecolor": "white",
             "minorgridcolor": "white",
             "startlinecolor": "#2a3f5f"
            },
            "type": "carpet"
           }
          ],
          "choropleth": [
           {
            "colorbar": {
             "outlinewidth": 0,
             "ticks": ""
            },
            "type": "choropleth"
           }
          ],
          "contour": [
           {
            "colorbar": {
             "outlinewidth": 0,
             "ticks": ""
            },
            "colorscale": [
             [
              0,
              "#0d0887"
             ],
             [
              0.1111111111111111,
              "#46039f"
             ],
             [
              0.2222222222222222,
              "#7201a8"
             ],
             [
              0.3333333333333333,
              "#9c179e"
             ],
             [
              0.4444444444444444,
              "#bd3786"
             ],
             [
              0.5555555555555556,
              "#d8576b"
             ],
             [
              0.6666666666666666,
              "#ed7953"
             ],
             [
              0.7777777777777778,
              "#fb9f3a"
             ],
             [
              0.8888888888888888,
              "#fdca26"
             ],
             [
              1,
              "#f0f921"
             ]
            ],
            "type": "contour"
           }
          ],
          "contourcarpet": [
           {
            "colorbar": {
             "outlinewidth": 0,
             "ticks": ""
            },
            "type": "contourcarpet"
           }
          ],
          "heatmap": [
           {
            "colorbar": {
             "outlinewidth": 0,
             "ticks": ""
            },
            "colorscale": [
             [
              0,
              "#0d0887"
             ],
             [
              0.1111111111111111,
              "#46039f"
             ],
             [
              0.2222222222222222,
              "#7201a8"
             ],
             [
              0.3333333333333333,
              "#9c179e"
             ],
             [
              0.4444444444444444,
              "#bd3786"
             ],
             [
              0.5555555555555556,
              "#d8576b"
             ],
             [
              0.6666666666666666,
              "#ed7953"
             ],
             [
              0.7777777777777778,
              "#fb9f3a"
             ],
             [
              0.8888888888888888,
              "#fdca26"
             ],
             [
              1,
              "#f0f921"
             ]
            ],
            "type": "heatmap"
           }
          ],
          "heatmapgl": [
           {
            "colorbar": {
             "outlinewidth": 0,
             "ticks": ""
            },
            "colorscale": [
             [
              0,
              "#0d0887"
             ],
             [
              0.1111111111111111,
              "#46039f"
             ],
             [
              0.2222222222222222,
              "#7201a8"
             ],
             [
              0.3333333333333333,
              "#9c179e"
             ],
             [
              0.4444444444444444,
              "#bd3786"
             ],
             [
              0.5555555555555556,
              "#d8576b"
             ],
             [
              0.6666666666666666,
              "#ed7953"
             ],
             [
              0.7777777777777778,
              "#fb9f3a"
             ],
             [
              0.8888888888888888,
              "#fdca26"
             ],
             [
              1,
              "#f0f921"
             ]
            ],
            "type": "heatmapgl"
           }
          ],
          "histogram": [
           {
            "marker": {
             "pattern": {
              "fillmode": "overlay",
              "size": 10,
              "solidity": 0.2
             }
            },
            "type": "histogram"
           }
          ],
          "histogram2d": [
           {
            "colorbar": {
             "outlinewidth": 0,
             "ticks": ""
            },
            "colorscale": [
             [
              0,
              "#0d0887"
             ],
             [
              0.1111111111111111,
              "#46039f"
             ],
             [
              0.2222222222222222,
              "#7201a8"
             ],
             [
              0.3333333333333333,
              "#9c179e"
             ],
             [
              0.4444444444444444,
              "#bd3786"
             ],
             [
              0.5555555555555556,
              "#d8576b"
             ],
             [
              0.6666666666666666,
              "#ed7953"
             ],
             [
              0.7777777777777778,
              "#fb9f3a"
             ],
             [
              0.8888888888888888,
              "#fdca26"
             ],
             [
              1,
              "#f0f921"
             ]
            ],
            "type": "histogram2d"
           }
          ],
          "histogram2dcontour": [
           {
            "colorbar": {
             "outlinewidth": 0,
             "ticks": ""
            },
            "colorscale": [
             [
              0,
              "#0d0887"
             ],
             [
              0.1111111111111111,
              "#46039f"
             ],
             [
              0.2222222222222222,
              "#7201a8"
             ],
             [
              0.3333333333333333,
              "#9c179e"
             ],
             [
              0.4444444444444444,
              "#bd3786"
             ],
             [
              0.5555555555555556,
              "#d8576b"
             ],
             [
              0.6666666666666666,
              "#ed7953"
             ],
             [
              0.7777777777777778,
              "#fb9f3a"
             ],
             [
              0.8888888888888888,
              "#fdca26"
             ],
             [
              1,
              "#f0f921"
             ]
            ],
            "type": "histogram2dcontour"
           }
          ],
          "mesh3d": [
           {
            "colorbar": {
             "outlinewidth": 0,
             "ticks": ""
            },
            "type": "mesh3d"
           }
          ],
          "parcoords": [
           {
            "line": {
             "colorbar": {
              "outlinewidth": 0,
              "ticks": ""
             }
            },
            "type": "parcoords"
           }
          ],
          "pie": [
           {
            "automargin": true,
            "type": "pie"
           }
          ],
          "scatter": [
           {
            "fillpattern": {
             "fillmode": "overlay",
             "size": 10,
             "solidity": 0.2
            },
            "type": "scatter"
           }
          ],
          "scatter3d": [
           {
            "line": {
             "colorbar": {
              "outlinewidth": 0,
              "ticks": ""
             }
            },
            "marker": {
             "colorbar": {
              "outlinewidth": 0,
              "ticks": ""
             }
            },
            "type": "scatter3d"
           }
          ],
          "scattercarpet": [
           {
            "marker": {
             "colorbar": {
              "outlinewidth": 0,
              "ticks": ""
             }
            },
            "type": "scattercarpet"
           }
          ],
          "scattergeo": [
           {
            "marker": {
             "colorbar": {
              "outlinewidth": 0,
              "ticks": ""
             }
            },
            "type": "scattergeo"
           }
          ],
          "scattergl": [
           {
            "marker": {
             "colorbar": {
              "outlinewidth": 0,
              "ticks": ""
             }
            },
            "type": "scattergl"
           }
          ],
          "scattermapbox": [
           {
            "marker": {
             "colorbar": {
              "outlinewidth": 0,
              "ticks": ""
             }
            },
            "type": "scattermapbox"
           }
          ],
          "scatterpolar": [
           {
            "marker": {
             "colorbar": {
              "outlinewidth": 0,
              "ticks": ""
             }
            },
            "type": "scatterpolar"
           }
          ],
          "scatterpolargl": [
           {
            "marker": {
             "colorbar": {
              "outlinewidth": 0,
              "ticks": ""
             }
            },
            "type": "scatterpolargl"
           }
          ],
          "scatterternary": [
           {
            "marker": {
             "colorbar": {
              "outlinewidth": 0,
              "ticks": ""
             }
            },
            "type": "scatterternary"
           }
          ],
          "surface": [
           {
            "colorbar": {
             "outlinewidth": 0,
             "ticks": ""
            },
            "colorscale": [
             [
              0,
              "#0d0887"
             ],
             [
              0.1111111111111111,
              "#46039f"
             ],
             [
              0.2222222222222222,
              "#7201a8"
             ],
             [
              0.3333333333333333,
              "#9c179e"
             ],
             [
              0.4444444444444444,
              "#bd3786"
             ],
             [
              0.5555555555555556,
              "#d8576b"
             ],
             [
              0.6666666666666666,
              "#ed7953"
             ],
             [
              0.7777777777777778,
              "#fb9f3a"
             ],
             [
              0.8888888888888888,
              "#fdca26"
             ],
             [
              1,
              "#f0f921"
             ]
            ],
            "type": "surface"
           }
          ],
          "table": [
           {
            "cells": {
             "fill": {
              "color": "#EBF0F8"
             },
             "line": {
              "color": "white"
             }
            },
            "header": {
             "fill": {
              "color": "#C8D4E3"
             },
             "line": {
              "color": "white"
             }
            },
            "type": "table"
           }
          ]
         },
         "layout": {
          "annotationdefaults": {
           "arrowcolor": "#2a3f5f",
           "arrowhead": 0,
           "arrowwidth": 1
          },
          "autotypenumbers": "strict",
          "coloraxis": {
           "colorbar": {
            "outlinewidth": 0,
            "ticks": ""
           }
          },
          "colorscale": {
           "diverging": [
            [
             0,
             "#8e0152"
            ],
            [
             0.1,
             "#c51b7d"
            ],
            [
             0.2,
             "#de77ae"
            ],
            [
             0.3,
             "#f1b6da"
            ],
            [
             0.4,
             "#fde0ef"
            ],
            [
             0.5,
             "#f7f7f7"
            ],
            [
             0.6,
             "#e6f5d0"
            ],
            [
             0.7,
             "#b8e186"
            ],
            [
             0.8,
             "#7fbc41"
            ],
            [
             0.9,
             "#4d9221"
            ],
            [
             1,
             "#276419"
            ]
           ],
           "sequential": [
            [
             0,
             "#0d0887"
            ],
            [
             0.1111111111111111,
             "#46039f"
            ],
            [
             0.2222222222222222,
             "#7201a8"
            ],
            [
             0.3333333333333333,
             "#9c179e"
            ],
            [
             0.4444444444444444,
             "#bd3786"
            ],
            [
             0.5555555555555556,
             "#d8576b"
            ],
            [
             0.6666666666666666,
             "#ed7953"
            ],
            [
             0.7777777777777778,
             "#fb9f3a"
            ],
            [
             0.8888888888888888,
             "#fdca26"
            ],
            [
             1,
             "#f0f921"
            ]
           ],
           "sequentialminus": [
            [
             0,
             "#0d0887"
            ],
            [
             0.1111111111111111,
             "#46039f"
            ],
            [
             0.2222222222222222,
             "#7201a8"
            ],
            [
             0.3333333333333333,
             "#9c179e"
            ],
            [
             0.4444444444444444,
             "#bd3786"
            ],
            [
             0.5555555555555556,
             "#d8576b"
            ],
            [
             0.6666666666666666,
             "#ed7953"
            ],
            [
             0.7777777777777778,
             "#fb9f3a"
            ],
            [
             0.8888888888888888,
             "#fdca26"
            ],
            [
             1,
             "#f0f921"
            ]
           ]
          },
          "colorway": [
           "#636efa",
           "#EF553B",
           "#00cc96",
           "#ab63fa",
           "#FFA15A",
           "#19d3f3",
           "#FF6692",
           "#B6E880",
           "#FF97FF",
           "#FECB52"
          ],
          "font": {
           "color": "#2a3f5f"
          },
          "geo": {
           "bgcolor": "white",
           "lakecolor": "white",
           "landcolor": "#E5ECF6",
           "showlakes": true,
           "showland": true,
           "subunitcolor": "white"
          },
          "hoverlabel": {
           "align": "left"
          },
          "hovermode": "closest",
          "mapbox": {
           "style": "light"
          },
          "paper_bgcolor": "white",
          "plot_bgcolor": "#E5ECF6",
          "polar": {
           "angularaxis": {
            "gridcolor": "white",
            "linecolor": "white",
            "ticks": ""
           },
           "bgcolor": "#E5ECF6",
           "radialaxis": {
            "gridcolor": "white",
            "linecolor": "white",
            "ticks": ""
           }
          },
          "scene": {
           "xaxis": {
            "backgroundcolor": "#E5ECF6",
            "gridcolor": "white",
            "gridwidth": 2,
            "linecolor": "white",
            "showbackground": true,
            "ticks": "",
            "zerolinecolor": "white"
           },
           "yaxis": {
            "backgroundcolor": "#E5ECF6",
            "gridcolor": "white",
            "gridwidth": 2,
            "linecolor": "white",
            "showbackground": true,
            "ticks": "",
            "zerolinecolor": "white"
           },
           "zaxis": {
            "backgroundcolor": "#E5ECF6",
            "gridcolor": "white",
            "gridwidth": 2,
            "linecolor": "white",
            "showbackground": true,
            "ticks": "",
            "zerolinecolor": "white"
           }
          },
          "shapedefaults": {
           "line": {
            "color": "#2a3f5f"
           }
          },
          "ternary": {
           "aaxis": {
            "gridcolor": "white",
            "linecolor": "white",
            "ticks": ""
           },
           "baxis": {
            "gridcolor": "white",
            "linecolor": "white",
            "ticks": ""
           },
           "bgcolor": "#E5ECF6",
           "caxis": {
            "gridcolor": "white",
            "linecolor": "white",
            "ticks": ""
           }
          },
          "title": {
           "x": 0.05
          },
          "xaxis": {
           "automargin": true,
           "gridcolor": "white",
           "linecolor": "white",
           "ticks": "",
           "title": {
            "standoff": 15
           },
           "zerolinecolor": "white",
           "zerolinewidth": 2
          },
          "yaxis": {
           "automargin": true,
           "gridcolor": "white",
           "linecolor": "white",
           "ticks": "",
           "title": {
            "standoff": 15
           },
           "zerolinecolor": "white",
           "zerolinewidth": 2
          }
         }
        }
       }
      }
     },
     "metadata": {},
     "output_type": "display_data"
    },
    {
     "name": "stdout",
     "output_type": "stream",
     "text": [
      "################ 5 ################\n",
      "[29 39]\n"
     ]
    },
    {
     "data": {
      "application/vnd.plotly.v1+json": {
       "config": {
        "plotlyServerURL": "https://plot.ly"
       },
       "data": [
        {
         "mode": "lines+markers",
         "type": "scatter",
         "x": [
          "2024-04-08T08:00:00.000000000",
          "2024-04-08T08:15:00.000000000",
          "2024-04-08T08:30:00.000000000",
          "2024-04-08T08:45:00.000000000",
          "2024-04-08T09:00:00.000000000",
          "2024-04-08T09:15:00.000000000",
          "2024-04-08T09:30:00.000000000",
          "2024-04-08T09:45:00.000000000",
          "2024-04-08T10:00:00.000000000",
          "2024-04-08T10:15:00.000000000",
          "2024-04-08T10:30:00.000000000",
          "2024-04-08T10:45:00.000000000",
          "2024-04-08T11:00:00.000000000",
          "2024-04-08T11:15:00.000000000",
          "2024-04-08T11:30:00.000000000",
          "2024-04-08T11:45:00.000000000",
          "2024-04-08T12:00:00.000000000",
          "2024-04-08T12:15:00.000000000",
          "2024-04-08T12:30:00.000000000",
          "2024-04-08T12:45:00.000000000",
          "2024-04-08T13:00:00.000000000",
          "2024-04-08T13:15:00.000000000",
          "2024-04-08T13:30:00.000000000",
          "2024-04-08T13:45:00.000000000",
          "2024-04-08T14:00:00.000000000",
          "2024-04-08T14:15:00.000000000",
          "2024-04-08T14:30:00.000000000",
          "2024-04-08T14:45:00.000000000",
          "2024-04-08T15:00:00.000000000",
          "2024-04-08T15:15:00.000000000",
          "2024-04-08T15:30:00.000000000",
          "2024-04-08T15:45:00.000000000",
          "2024-04-08T16:00:00.000000000",
          "2024-04-08T16:15:00.000000000",
          "2024-04-08T16:30:00.000000000",
          "2024-04-08T16:45:00.000000000",
          "2024-04-08T17:00:00.000000000",
          "2024-04-08T17:15:00.000000000",
          "2024-04-08T17:30:00.000000000",
          "2024-04-08T17:45:00.000000000",
          "2024-04-08T18:00:00.000000000",
          "2024-04-08T18:15:00.000000000",
          "2024-04-08T18:30:00.000000000",
          "2024-04-08T18:45:00.000000000",
          "2024-04-08T19:00:00.000000000",
          "2024-04-08T19:15:00.000000000",
          "2024-04-08T19:30:00.000000000",
          "2024-04-08T19:45:00.000000000",
          "2024-04-08T20:00:00.000000000"
         ],
         "y": [
          2,
          21,
          13,
          4,
          1,
          1,
          2,
          4,
          20,
          18,
          0,
          0,
          0,
          0,
          17,
          37,
          1,
          0,
          0,
          0,
          3,
          0,
          8,
          1,
          0,
          0,
          1,
          0,
          4,
          8,
          4,
          0,
          0,
          0,
          0,
          0,
          0,
          0,
          1,
          0,
          0,
          0,
          0,
          0,
          0,
          0,
          0,
          0,
          0
         ]
        },
        {
         "mode": "lines+markers",
         "type": "scatter",
         "x": [
          "2024-04-08T08:00:00.000000000",
          "2024-04-08T08:15:00.000000000",
          "2024-04-08T08:30:00.000000000",
          "2024-04-08T08:45:00.000000000",
          "2024-04-08T09:00:00.000000000",
          "2024-04-08T09:15:00.000000000",
          "2024-04-08T09:30:00.000000000",
          "2024-04-08T09:45:00.000000000",
          "2024-04-08T10:00:00.000000000",
          "2024-04-08T10:15:00.000000000",
          "2024-04-08T10:30:00.000000000",
          "2024-04-08T10:45:00.000000000",
          "2024-04-08T11:00:00.000000000",
          "2024-04-08T11:15:00.000000000",
          "2024-04-08T11:30:00.000000000",
          "2024-04-08T11:45:00.000000000",
          "2024-04-08T12:00:00.000000000",
          "2024-04-08T12:15:00.000000000",
          "2024-04-08T12:30:00.000000000",
          "2024-04-08T12:45:00.000000000",
          "2024-04-08T13:00:00.000000000",
          "2024-04-08T13:15:00.000000000",
          "2024-04-08T13:30:00.000000000",
          "2024-04-08T13:45:00.000000000",
          "2024-04-08T14:00:00.000000000",
          "2024-04-08T14:15:00.000000000",
          "2024-04-08T14:30:00.000000000",
          "2024-04-08T14:45:00.000000000",
          "2024-04-08T15:00:00.000000000",
          "2024-04-08T15:15:00.000000000",
          "2024-04-08T15:30:00.000000000",
          "2024-04-08T15:45:00.000000000",
          "2024-04-08T16:00:00.000000000",
          "2024-04-08T16:15:00.000000000",
          "2024-04-08T16:30:00.000000000",
          "2024-04-08T16:45:00.000000000",
          "2024-04-08T17:00:00.000000000",
          "2024-04-08T17:15:00.000000000",
          "2024-04-08T17:30:00.000000000",
          "2024-04-08T17:45:00.000000000",
          "2024-04-08T18:00:00.000000000",
          "2024-04-08T18:15:00.000000000",
          "2024-04-08T18:30:00.000000000",
          "2024-04-08T18:45:00.000000000",
          "2024-04-08T19:00:00.000000000",
          "2024-04-08T19:15:00.000000000",
          "2024-04-08T19:30:00.000000000",
          "2024-04-08T19:45:00.000000000",
          "2024-04-08T20:00:00.000000000"
         ],
         "y": [
          5,
          13,
          6,
          0,
          0,
          0,
          0,
          3,
          12,
          0,
          1,
          0,
          4,
          8,
          47,
          20,
          1,
          0,
          7,
          0,
          0,
          0,
          0,
          0,
          0,
          0,
          0,
          0,
          0,
          0,
          0,
          0,
          0,
          0,
          0,
          0,
          0,
          0,
          0,
          0,
          0,
          0,
          0,
          0,
          0,
          0,
          0,
          1,
          0
         ]
        }
       ],
       "layout": {
        "template": {
         "data": {
          "bar": [
           {
            "error_x": {
             "color": "#2a3f5f"
            },
            "error_y": {
             "color": "#2a3f5f"
            },
            "marker": {
             "line": {
              "color": "#E5ECF6",
              "width": 0.5
             },
             "pattern": {
              "fillmode": "overlay",
              "size": 10,
              "solidity": 0.2
             }
            },
            "type": "bar"
           }
          ],
          "barpolar": [
           {
            "marker": {
             "line": {
              "color": "#E5ECF6",
              "width": 0.5
             },
             "pattern": {
              "fillmode": "overlay",
              "size": 10,
              "solidity": 0.2
             }
            },
            "type": "barpolar"
           }
          ],
          "carpet": [
           {
            "aaxis": {
             "endlinecolor": "#2a3f5f",
             "gridcolor": "white",
             "linecolor": "white",
             "minorgridcolor": "white",
             "startlinecolor": "#2a3f5f"
            },
            "baxis": {
             "endlinecolor": "#2a3f5f",
             "gridcolor": "white",
             "linecolor": "white",
             "minorgridcolor": "white",
             "startlinecolor": "#2a3f5f"
            },
            "type": "carpet"
           }
          ],
          "choropleth": [
           {
            "colorbar": {
             "outlinewidth": 0,
             "ticks": ""
            },
            "type": "choropleth"
           }
          ],
          "contour": [
           {
            "colorbar": {
             "outlinewidth": 0,
             "ticks": ""
            },
            "colorscale": [
             [
              0,
              "#0d0887"
             ],
             [
              0.1111111111111111,
              "#46039f"
             ],
             [
              0.2222222222222222,
              "#7201a8"
             ],
             [
              0.3333333333333333,
              "#9c179e"
             ],
             [
              0.4444444444444444,
              "#bd3786"
             ],
             [
              0.5555555555555556,
              "#d8576b"
             ],
             [
              0.6666666666666666,
              "#ed7953"
             ],
             [
              0.7777777777777778,
              "#fb9f3a"
             ],
             [
              0.8888888888888888,
              "#fdca26"
             ],
             [
              1,
              "#f0f921"
             ]
            ],
            "type": "contour"
           }
          ],
          "contourcarpet": [
           {
            "colorbar": {
             "outlinewidth": 0,
             "ticks": ""
            },
            "type": "contourcarpet"
           }
          ],
          "heatmap": [
           {
            "colorbar": {
             "outlinewidth": 0,
             "ticks": ""
            },
            "colorscale": [
             [
              0,
              "#0d0887"
             ],
             [
              0.1111111111111111,
              "#46039f"
             ],
             [
              0.2222222222222222,
              "#7201a8"
             ],
             [
              0.3333333333333333,
              "#9c179e"
             ],
             [
              0.4444444444444444,
              "#bd3786"
             ],
             [
              0.5555555555555556,
              "#d8576b"
             ],
             [
              0.6666666666666666,
              "#ed7953"
             ],
             [
              0.7777777777777778,
              "#fb9f3a"
             ],
             [
              0.8888888888888888,
              "#fdca26"
             ],
             [
              1,
              "#f0f921"
             ]
            ],
            "type": "heatmap"
           }
          ],
          "heatmapgl": [
           {
            "colorbar": {
             "outlinewidth": 0,
             "ticks": ""
            },
            "colorscale": [
             [
              0,
              "#0d0887"
             ],
             [
              0.1111111111111111,
              "#46039f"
             ],
             [
              0.2222222222222222,
              "#7201a8"
             ],
             [
              0.3333333333333333,
              "#9c179e"
             ],
             [
              0.4444444444444444,
              "#bd3786"
             ],
             [
              0.5555555555555556,
              "#d8576b"
             ],
             [
              0.6666666666666666,
              "#ed7953"
             ],
             [
              0.7777777777777778,
              "#fb9f3a"
             ],
             [
              0.8888888888888888,
              "#fdca26"
             ],
             [
              1,
              "#f0f921"
             ]
            ],
            "type": "heatmapgl"
           }
          ],
          "histogram": [
           {
            "marker": {
             "pattern": {
              "fillmode": "overlay",
              "size": 10,
              "solidity": 0.2
             }
            },
            "type": "histogram"
           }
          ],
          "histogram2d": [
           {
            "colorbar": {
             "outlinewidth": 0,
             "ticks": ""
            },
            "colorscale": [
             [
              0,
              "#0d0887"
             ],
             [
              0.1111111111111111,
              "#46039f"
             ],
             [
              0.2222222222222222,
              "#7201a8"
             ],
             [
              0.3333333333333333,
              "#9c179e"
             ],
             [
              0.4444444444444444,
              "#bd3786"
             ],
             [
              0.5555555555555556,
              "#d8576b"
             ],
             [
              0.6666666666666666,
              "#ed7953"
             ],
             [
              0.7777777777777778,
              "#fb9f3a"
             ],
             [
              0.8888888888888888,
              "#fdca26"
             ],
             [
              1,
              "#f0f921"
             ]
            ],
            "type": "histogram2d"
           }
          ],
          "histogram2dcontour": [
           {
            "colorbar": {
             "outlinewidth": 0,
             "ticks": ""
            },
            "colorscale": [
             [
              0,
              "#0d0887"
             ],
             [
              0.1111111111111111,
              "#46039f"
             ],
             [
              0.2222222222222222,
              "#7201a8"
             ],
             [
              0.3333333333333333,
              "#9c179e"
             ],
             [
              0.4444444444444444,
              "#bd3786"
             ],
             [
              0.5555555555555556,
              "#d8576b"
             ],
             [
              0.6666666666666666,
              "#ed7953"
             ],
             [
              0.7777777777777778,
              "#fb9f3a"
             ],
             [
              0.8888888888888888,
              "#fdca26"
             ],
             [
              1,
              "#f0f921"
             ]
            ],
            "type": "histogram2dcontour"
           }
          ],
          "mesh3d": [
           {
            "colorbar": {
             "outlinewidth": 0,
             "ticks": ""
            },
            "type": "mesh3d"
           }
          ],
          "parcoords": [
           {
            "line": {
             "colorbar": {
              "outlinewidth": 0,
              "ticks": ""
             }
            },
            "type": "parcoords"
           }
          ],
          "pie": [
           {
            "automargin": true,
            "type": "pie"
           }
          ],
          "scatter": [
           {
            "fillpattern": {
             "fillmode": "overlay",
             "size": 10,
             "solidity": 0.2
            },
            "type": "scatter"
           }
          ],
          "scatter3d": [
           {
            "line": {
             "colorbar": {
              "outlinewidth": 0,
              "ticks": ""
             }
            },
            "marker": {
             "colorbar": {
              "outlinewidth": 0,
              "ticks": ""
             }
            },
            "type": "scatter3d"
           }
          ],
          "scattercarpet": [
           {
            "marker": {
             "colorbar": {
              "outlinewidth": 0,
              "ticks": ""
             }
            },
            "type": "scattercarpet"
           }
          ],
          "scattergeo": [
           {
            "marker": {
             "colorbar": {
              "outlinewidth": 0,
              "ticks": ""
             }
            },
            "type": "scattergeo"
           }
          ],
          "scattergl": [
           {
            "marker": {
             "colorbar": {
              "outlinewidth": 0,
              "ticks": ""
             }
            },
            "type": "scattergl"
           }
          ],
          "scattermapbox": [
           {
            "marker": {
             "colorbar": {
              "outlinewidth": 0,
              "ticks": ""
             }
            },
            "type": "scattermapbox"
           }
          ],
          "scatterpolar": [
           {
            "marker": {
             "colorbar": {
              "outlinewidth": 0,
              "ticks": ""
             }
            },
            "type": "scatterpolar"
           }
          ],
          "scatterpolargl": [
           {
            "marker": {
             "colorbar": {
              "outlinewidth": 0,
              "ticks": ""
             }
            },
            "type": "scatterpolargl"
           }
          ],
          "scatterternary": [
           {
            "marker": {
             "colorbar": {
              "outlinewidth": 0,
              "ticks": ""
             }
            },
            "type": "scatterternary"
           }
          ],
          "surface": [
           {
            "colorbar": {
             "outlinewidth": 0,
             "ticks": ""
            },
            "colorscale": [
             [
              0,
              "#0d0887"
             ],
             [
              0.1111111111111111,
              "#46039f"
             ],
             [
              0.2222222222222222,
              "#7201a8"
             ],
             [
              0.3333333333333333,
              "#9c179e"
             ],
             [
              0.4444444444444444,
              "#bd3786"
             ],
             [
              0.5555555555555556,
              "#d8576b"
             ],
             [
              0.6666666666666666,
              "#ed7953"
             ],
             [
              0.7777777777777778,
              "#fb9f3a"
             ],
             [
              0.8888888888888888,
              "#fdca26"
             ],
             [
              1,
              "#f0f921"
             ]
            ],
            "type": "surface"
           }
          ],
          "table": [
           {
            "cells": {
             "fill": {
              "color": "#EBF0F8"
             },
             "line": {
              "color": "white"
             }
            },
            "header": {
             "fill": {
              "color": "#C8D4E3"
             },
             "line": {
              "color": "white"
             }
            },
            "type": "table"
           }
          ]
         },
         "layout": {
          "annotationdefaults": {
           "arrowcolor": "#2a3f5f",
           "arrowhead": 0,
           "arrowwidth": 1
          },
          "autotypenumbers": "strict",
          "coloraxis": {
           "colorbar": {
            "outlinewidth": 0,
            "ticks": ""
           }
          },
          "colorscale": {
           "diverging": [
            [
             0,
             "#8e0152"
            ],
            [
             0.1,
             "#c51b7d"
            ],
            [
             0.2,
             "#de77ae"
            ],
            [
             0.3,
             "#f1b6da"
            ],
            [
             0.4,
             "#fde0ef"
            ],
            [
             0.5,
             "#f7f7f7"
            ],
            [
             0.6,
             "#e6f5d0"
            ],
            [
             0.7,
             "#b8e186"
            ],
            [
             0.8,
             "#7fbc41"
            ],
            [
             0.9,
             "#4d9221"
            ],
            [
             1,
             "#276419"
            ]
           ],
           "sequential": [
            [
             0,
             "#0d0887"
            ],
            [
             0.1111111111111111,
             "#46039f"
            ],
            [
             0.2222222222222222,
             "#7201a8"
            ],
            [
             0.3333333333333333,
             "#9c179e"
            ],
            [
             0.4444444444444444,
             "#bd3786"
            ],
            [
             0.5555555555555556,
             "#d8576b"
            ],
            [
             0.6666666666666666,
             "#ed7953"
            ],
            [
             0.7777777777777778,
             "#fb9f3a"
            ],
            [
             0.8888888888888888,
             "#fdca26"
            ],
            [
             1,
             "#f0f921"
            ]
           ],
           "sequentialminus": [
            [
             0,
             "#0d0887"
            ],
            [
             0.1111111111111111,
             "#46039f"
            ],
            [
             0.2222222222222222,
             "#7201a8"
            ],
            [
             0.3333333333333333,
             "#9c179e"
            ],
            [
             0.4444444444444444,
             "#bd3786"
            ],
            [
             0.5555555555555556,
             "#d8576b"
            ],
            [
             0.6666666666666666,
             "#ed7953"
            ],
            [
             0.7777777777777778,
             "#fb9f3a"
            ],
            [
             0.8888888888888888,
             "#fdca26"
            ],
            [
             1,
             "#f0f921"
            ]
           ]
          },
          "colorway": [
           "#636efa",
           "#EF553B",
           "#00cc96",
           "#ab63fa",
           "#FFA15A",
           "#19d3f3",
           "#FF6692",
           "#B6E880",
           "#FF97FF",
           "#FECB52"
          ],
          "font": {
           "color": "#2a3f5f"
          },
          "geo": {
           "bgcolor": "white",
           "lakecolor": "white",
           "landcolor": "#E5ECF6",
           "showlakes": true,
           "showland": true,
           "subunitcolor": "white"
          },
          "hoverlabel": {
           "align": "left"
          },
          "hovermode": "closest",
          "mapbox": {
           "style": "light"
          },
          "paper_bgcolor": "white",
          "plot_bgcolor": "#E5ECF6",
          "polar": {
           "angularaxis": {
            "gridcolor": "white",
            "linecolor": "white",
            "ticks": ""
           },
           "bgcolor": "#E5ECF6",
           "radialaxis": {
            "gridcolor": "white",
            "linecolor": "white",
            "ticks": ""
           }
          },
          "scene": {
           "xaxis": {
            "backgroundcolor": "#E5ECF6",
            "gridcolor": "white",
            "gridwidth": 2,
            "linecolor": "white",
            "showbackground": true,
            "ticks": "",
            "zerolinecolor": "white"
           },
           "yaxis": {
            "backgroundcolor": "#E5ECF6",
            "gridcolor": "white",
            "gridwidth": 2,
            "linecolor": "white",
            "showbackground": true,
            "ticks": "",
            "zerolinecolor": "white"
           },
           "zaxis": {
            "backgroundcolor": "#E5ECF6",
            "gridcolor": "white",
            "gridwidth": 2,
            "linecolor": "white",
            "showbackground": true,
            "ticks": "",
            "zerolinecolor": "white"
           }
          },
          "shapedefaults": {
           "line": {
            "color": "#2a3f5f"
           }
          },
          "ternary": {
           "aaxis": {
            "gridcolor": "white",
            "linecolor": "white",
            "ticks": ""
           },
           "baxis": {
            "gridcolor": "white",
            "linecolor": "white",
            "ticks": ""
           },
           "bgcolor": "#E5ECF6",
           "caxis": {
            "gridcolor": "white",
            "linecolor": "white",
            "ticks": ""
           }
          },
          "title": {
           "x": 0.05
          },
          "xaxis": {
           "automargin": true,
           "gridcolor": "white",
           "linecolor": "white",
           "ticks": "",
           "title": {
            "standoff": 15
           },
           "zerolinecolor": "white",
           "zerolinewidth": 2
          },
          "yaxis": {
           "automargin": true,
           "gridcolor": "white",
           "linecolor": "white",
           "ticks": "",
           "title": {
            "standoff": 15
           },
           "zerolinecolor": "white",
           "zerolinewidth": 2
          }
         }
        }
       }
      }
     },
     "metadata": {},
     "output_type": "display_data"
    },
    {
     "name": "stdout",
     "output_type": "stream",
     "text": [
      "################ 6 ################\n",
      "[4]\n"
     ]
    },
    {
     "data": {
      "application/vnd.plotly.v1+json": {
       "config": {
        "plotlyServerURL": "https://plot.ly"
       },
       "data": [
        {
         "mode": "lines+markers",
         "type": "scatter",
         "x": [
          "2024-04-08T08:00:00.000000000",
          "2024-04-08T08:15:00.000000000",
          "2024-04-08T08:30:00.000000000",
          "2024-04-08T08:45:00.000000000",
          "2024-04-08T09:00:00.000000000",
          "2024-04-08T09:15:00.000000000",
          "2024-04-08T09:30:00.000000000",
          "2024-04-08T09:45:00.000000000",
          "2024-04-08T10:00:00.000000000",
          "2024-04-08T10:15:00.000000000",
          "2024-04-08T10:30:00.000000000",
          "2024-04-08T10:45:00.000000000",
          "2024-04-08T11:00:00.000000000",
          "2024-04-08T11:15:00.000000000",
          "2024-04-08T11:30:00.000000000",
          "2024-04-08T11:45:00.000000000",
          "2024-04-08T12:00:00.000000000",
          "2024-04-08T12:15:00.000000000",
          "2024-04-08T12:30:00.000000000",
          "2024-04-08T12:45:00.000000000",
          "2024-04-08T13:00:00.000000000",
          "2024-04-08T13:15:00.000000000",
          "2024-04-08T13:30:00.000000000",
          "2024-04-08T13:45:00.000000000",
          "2024-04-08T14:00:00.000000000",
          "2024-04-08T14:15:00.000000000",
          "2024-04-08T14:30:00.000000000",
          "2024-04-08T14:45:00.000000000",
          "2024-04-08T15:00:00.000000000",
          "2024-04-08T15:15:00.000000000",
          "2024-04-08T15:30:00.000000000",
          "2024-04-08T15:45:00.000000000",
          "2024-04-08T16:00:00.000000000",
          "2024-04-08T16:15:00.000000000",
          "2024-04-08T16:30:00.000000000",
          "2024-04-08T16:45:00.000000000",
          "2024-04-08T17:00:00.000000000",
          "2024-04-08T17:15:00.000000000",
          "2024-04-08T17:30:00.000000000",
          "2024-04-08T17:45:00.000000000",
          "2024-04-08T18:00:00.000000000",
          "2024-04-08T18:15:00.000000000",
          "2024-04-08T18:30:00.000000000",
          "2024-04-08T18:45:00.000000000",
          "2024-04-08T19:00:00.000000000",
          "2024-04-08T19:15:00.000000000",
          "2024-04-08T19:30:00.000000000",
          "2024-04-08T19:45:00.000000000",
          "2024-04-08T20:00:00.000000000"
         ],
         "y": [
          1,
          11,
          7,
          1,
          1,
          0,
          0,
          1,
          16,
          1,
          1,
          0,
          0,
          3,
          2,
          46,
          13,
          5,
          1,
          1,
          3,
          1,
          1,
          2,
          11,
          47,
          7,
          1,
          4,
          1,
          3,
          2,
          38,
          2,
          0,
          2,
          0,
          0,
          0,
          0,
          0,
          0,
          0,
          0,
          0,
          0,
          0,
          2,
          0
         ]
        }
       ],
       "layout": {
        "template": {
         "data": {
          "bar": [
           {
            "error_x": {
             "color": "#2a3f5f"
            },
            "error_y": {
             "color": "#2a3f5f"
            },
            "marker": {
             "line": {
              "color": "#E5ECF6",
              "width": 0.5
             },
             "pattern": {
              "fillmode": "overlay",
              "size": 10,
              "solidity": 0.2
             }
            },
            "type": "bar"
           }
          ],
          "barpolar": [
           {
            "marker": {
             "line": {
              "color": "#E5ECF6",
              "width": 0.5
             },
             "pattern": {
              "fillmode": "overlay",
              "size": 10,
              "solidity": 0.2
             }
            },
            "type": "barpolar"
           }
          ],
          "carpet": [
           {
            "aaxis": {
             "endlinecolor": "#2a3f5f",
             "gridcolor": "white",
             "linecolor": "white",
             "minorgridcolor": "white",
             "startlinecolor": "#2a3f5f"
            },
            "baxis": {
             "endlinecolor": "#2a3f5f",
             "gridcolor": "white",
             "linecolor": "white",
             "minorgridcolor": "white",
             "startlinecolor": "#2a3f5f"
            },
            "type": "carpet"
           }
          ],
          "choropleth": [
           {
            "colorbar": {
             "outlinewidth": 0,
             "ticks": ""
            },
            "type": "choropleth"
           }
          ],
          "contour": [
           {
            "colorbar": {
             "outlinewidth": 0,
             "ticks": ""
            },
            "colorscale": [
             [
              0,
              "#0d0887"
             ],
             [
              0.1111111111111111,
              "#46039f"
             ],
             [
              0.2222222222222222,
              "#7201a8"
             ],
             [
              0.3333333333333333,
              "#9c179e"
             ],
             [
              0.4444444444444444,
              "#bd3786"
             ],
             [
              0.5555555555555556,
              "#d8576b"
             ],
             [
              0.6666666666666666,
              "#ed7953"
             ],
             [
              0.7777777777777778,
              "#fb9f3a"
             ],
             [
              0.8888888888888888,
              "#fdca26"
             ],
             [
              1,
              "#f0f921"
             ]
            ],
            "type": "contour"
           }
          ],
          "contourcarpet": [
           {
            "colorbar": {
             "outlinewidth": 0,
             "ticks": ""
            },
            "type": "contourcarpet"
           }
          ],
          "heatmap": [
           {
            "colorbar": {
             "outlinewidth": 0,
             "ticks": ""
            },
            "colorscale": [
             [
              0,
              "#0d0887"
             ],
             [
              0.1111111111111111,
              "#46039f"
             ],
             [
              0.2222222222222222,
              "#7201a8"
             ],
             [
              0.3333333333333333,
              "#9c179e"
             ],
             [
              0.4444444444444444,
              "#bd3786"
             ],
             [
              0.5555555555555556,
              "#d8576b"
             ],
             [
              0.6666666666666666,
              "#ed7953"
             ],
             [
              0.7777777777777778,
              "#fb9f3a"
             ],
             [
              0.8888888888888888,
              "#fdca26"
             ],
             [
              1,
              "#f0f921"
             ]
            ],
            "type": "heatmap"
           }
          ],
          "heatmapgl": [
           {
            "colorbar": {
             "outlinewidth": 0,
             "ticks": ""
            },
            "colorscale": [
             [
              0,
              "#0d0887"
             ],
             [
              0.1111111111111111,
              "#46039f"
             ],
             [
              0.2222222222222222,
              "#7201a8"
             ],
             [
              0.3333333333333333,
              "#9c179e"
             ],
             [
              0.4444444444444444,
              "#bd3786"
             ],
             [
              0.5555555555555556,
              "#d8576b"
             ],
             [
              0.6666666666666666,
              "#ed7953"
             ],
             [
              0.7777777777777778,
              "#fb9f3a"
             ],
             [
              0.8888888888888888,
              "#fdca26"
             ],
             [
              1,
              "#f0f921"
             ]
            ],
            "type": "heatmapgl"
           }
          ],
          "histogram": [
           {
            "marker": {
             "pattern": {
              "fillmode": "overlay",
              "size": 10,
              "solidity": 0.2
             }
            },
            "type": "histogram"
           }
          ],
          "histogram2d": [
           {
            "colorbar": {
             "outlinewidth": 0,
             "ticks": ""
            },
            "colorscale": [
             [
              0,
              "#0d0887"
             ],
             [
              0.1111111111111111,
              "#46039f"
             ],
             [
              0.2222222222222222,
              "#7201a8"
             ],
             [
              0.3333333333333333,
              "#9c179e"
             ],
             [
              0.4444444444444444,
              "#bd3786"
             ],
             [
              0.5555555555555556,
              "#d8576b"
             ],
             [
              0.6666666666666666,
              "#ed7953"
             ],
             [
              0.7777777777777778,
              "#fb9f3a"
             ],
             [
              0.8888888888888888,
              "#fdca26"
             ],
             [
              1,
              "#f0f921"
             ]
            ],
            "type": "histogram2d"
           }
          ],
          "histogram2dcontour": [
           {
            "colorbar": {
             "outlinewidth": 0,
             "ticks": ""
            },
            "colorscale": [
             [
              0,
              "#0d0887"
             ],
             [
              0.1111111111111111,
              "#46039f"
             ],
             [
              0.2222222222222222,
              "#7201a8"
             ],
             [
              0.3333333333333333,
              "#9c179e"
             ],
             [
              0.4444444444444444,
              "#bd3786"
             ],
             [
              0.5555555555555556,
              "#d8576b"
             ],
             [
              0.6666666666666666,
              "#ed7953"
             ],
             [
              0.7777777777777778,
              "#fb9f3a"
             ],
             [
              0.8888888888888888,
              "#fdca26"
             ],
             [
              1,
              "#f0f921"
             ]
            ],
            "type": "histogram2dcontour"
           }
          ],
          "mesh3d": [
           {
            "colorbar": {
             "outlinewidth": 0,
             "ticks": ""
            },
            "type": "mesh3d"
           }
          ],
          "parcoords": [
           {
            "line": {
             "colorbar": {
              "outlinewidth": 0,
              "ticks": ""
             }
            },
            "type": "parcoords"
           }
          ],
          "pie": [
           {
            "automargin": true,
            "type": "pie"
           }
          ],
          "scatter": [
           {
            "fillpattern": {
             "fillmode": "overlay",
             "size": 10,
             "solidity": 0.2
            },
            "type": "scatter"
           }
          ],
          "scatter3d": [
           {
            "line": {
             "colorbar": {
              "outlinewidth": 0,
              "ticks": ""
             }
            },
            "marker": {
             "colorbar": {
              "outlinewidth": 0,
              "ticks": ""
             }
            },
            "type": "scatter3d"
           }
          ],
          "scattercarpet": [
           {
            "marker": {
             "colorbar": {
              "outlinewidth": 0,
              "ticks": ""
             }
            },
            "type": "scattercarpet"
           }
          ],
          "scattergeo": [
           {
            "marker": {
             "colorbar": {
              "outlinewidth": 0,
              "ticks": ""
             }
            },
            "type": "scattergeo"
           }
          ],
          "scattergl": [
           {
            "marker": {
             "colorbar": {
              "outlinewidth": 0,
              "ticks": ""
             }
            },
            "type": "scattergl"
           }
          ],
          "scattermapbox": [
           {
            "marker": {
             "colorbar": {
              "outlinewidth": 0,
              "ticks": ""
             }
            },
            "type": "scattermapbox"
           }
          ],
          "scatterpolar": [
           {
            "marker": {
             "colorbar": {
              "outlinewidth": 0,
              "ticks": ""
             }
            },
            "type": "scatterpolar"
           }
          ],
          "scatterpolargl": [
           {
            "marker": {
             "colorbar": {
              "outlinewidth": 0,
              "ticks": ""
             }
            },
            "type": "scatterpolargl"
           }
          ],
          "scatterternary": [
           {
            "marker": {
             "colorbar": {
              "outlinewidth": 0,
              "ticks": ""
             }
            },
            "type": "scatterternary"
           }
          ],
          "surface": [
           {
            "colorbar": {
             "outlinewidth": 0,
             "ticks": ""
            },
            "colorscale": [
             [
              0,
              "#0d0887"
             ],
             [
              0.1111111111111111,
              "#46039f"
             ],
             [
              0.2222222222222222,
              "#7201a8"
             ],
             [
              0.3333333333333333,
              "#9c179e"
             ],
             [
              0.4444444444444444,
              "#bd3786"
             ],
             [
              0.5555555555555556,
              "#d8576b"
             ],
             [
              0.6666666666666666,
              "#ed7953"
             ],
             [
              0.7777777777777778,
              "#fb9f3a"
             ],
             [
              0.8888888888888888,
              "#fdca26"
             ],
             [
              1,
              "#f0f921"
             ]
            ],
            "type": "surface"
           }
          ],
          "table": [
           {
            "cells": {
             "fill": {
              "color": "#EBF0F8"
             },
             "line": {
              "color": "white"
             }
            },
            "header": {
             "fill": {
              "color": "#C8D4E3"
             },
             "line": {
              "color": "white"
             }
            },
            "type": "table"
           }
          ]
         },
         "layout": {
          "annotationdefaults": {
           "arrowcolor": "#2a3f5f",
           "arrowhead": 0,
           "arrowwidth": 1
          },
          "autotypenumbers": "strict",
          "coloraxis": {
           "colorbar": {
            "outlinewidth": 0,
            "ticks": ""
           }
          },
          "colorscale": {
           "diverging": [
            [
             0,
             "#8e0152"
            ],
            [
             0.1,
             "#c51b7d"
            ],
            [
             0.2,
             "#de77ae"
            ],
            [
             0.3,
             "#f1b6da"
            ],
            [
             0.4,
             "#fde0ef"
            ],
            [
             0.5,
             "#f7f7f7"
            ],
            [
             0.6,
             "#e6f5d0"
            ],
            [
             0.7,
             "#b8e186"
            ],
            [
             0.8,
             "#7fbc41"
            ],
            [
             0.9,
             "#4d9221"
            ],
            [
             1,
             "#276419"
            ]
           ],
           "sequential": [
            [
             0,
             "#0d0887"
            ],
            [
             0.1111111111111111,
             "#46039f"
            ],
            [
             0.2222222222222222,
             "#7201a8"
            ],
            [
             0.3333333333333333,
             "#9c179e"
            ],
            [
             0.4444444444444444,
             "#bd3786"
            ],
            [
             0.5555555555555556,
             "#d8576b"
            ],
            [
             0.6666666666666666,
             "#ed7953"
            ],
            [
             0.7777777777777778,
             "#fb9f3a"
            ],
            [
             0.8888888888888888,
             "#fdca26"
            ],
            [
             1,
             "#f0f921"
            ]
           ],
           "sequentialminus": [
            [
             0,
             "#0d0887"
            ],
            [
             0.1111111111111111,
             "#46039f"
            ],
            [
             0.2222222222222222,
             "#7201a8"
            ],
            [
             0.3333333333333333,
             "#9c179e"
            ],
            [
             0.4444444444444444,
             "#bd3786"
            ],
            [
             0.5555555555555556,
             "#d8576b"
            ],
            [
             0.6666666666666666,
             "#ed7953"
            ],
            [
             0.7777777777777778,
             "#fb9f3a"
            ],
            [
             0.8888888888888888,
             "#fdca26"
            ],
            [
             1,
             "#f0f921"
            ]
           ]
          },
          "colorway": [
           "#636efa",
           "#EF553B",
           "#00cc96",
           "#ab63fa",
           "#FFA15A",
           "#19d3f3",
           "#FF6692",
           "#B6E880",
           "#FF97FF",
           "#FECB52"
          ],
          "font": {
           "color": "#2a3f5f"
          },
          "geo": {
           "bgcolor": "white",
           "lakecolor": "white",
           "landcolor": "#E5ECF6",
           "showlakes": true,
           "showland": true,
           "subunitcolor": "white"
          },
          "hoverlabel": {
           "align": "left"
          },
          "hovermode": "closest",
          "mapbox": {
           "style": "light"
          },
          "paper_bgcolor": "white",
          "plot_bgcolor": "#E5ECF6",
          "polar": {
           "angularaxis": {
            "gridcolor": "white",
            "linecolor": "white",
            "ticks": ""
           },
           "bgcolor": "#E5ECF6",
           "radialaxis": {
            "gridcolor": "white",
            "linecolor": "white",
            "ticks": ""
           }
          },
          "scene": {
           "xaxis": {
            "backgroundcolor": "#E5ECF6",
            "gridcolor": "white",
            "gridwidth": 2,
            "linecolor": "white",
            "showbackground": true,
            "ticks": "",
            "zerolinecolor": "white"
           },
           "yaxis": {
            "backgroundcolor": "#E5ECF6",
            "gridcolor": "white",
            "gridwidth": 2,
            "linecolor": "white",
            "showbackground": true,
            "ticks": "",
            "zerolinecolor": "white"
           },
           "zaxis": {
            "backgroundcolor": "#E5ECF6",
            "gridcolor": "white",
            "gridwidth": 2,
            "linecolor": "white",
            "showbackground": true,
            "ticks": "",
            "zerolinecolor": "white"
           }
          },
          "shapedefaults": {
           "line": {
            "color": "#2a3f5f"
           }
          },
          "ternary": {
           "aaxis": {
            "gridcolor": "white",
            "linecolor": "white",
            "ticks": ""
           },
           "baxis": {
            "gridcolor": "white",
            "linecolor": "white",
            "ticks": ""
           },
           "bgcolor": "#E5ECF6",
           "caxis": {
            "gridcolor": "white",
            "linecolor": "white",
            "ticks": ""
           }
          },
          "title": {
           "x": 0.05
          },
          "xaxis": {
           "automargin": true,
           "gridcolor": "white",
           "linecolor": "white",
           "ticks": "",
           "title": {
            "standoff": 15
           },
           "zerolinecolor": "white",
           "zerolinewidth": 2
          },
          "yaxis": {
           "automargin": true,
           "gridcolor": "white",
           "linecolor": "white",
           "ticks": "",
           "title": {
            "standoff": 15
           },
           "zerolinecolor": "white",
           "zerolinewidth": 2
          }
         }
        }
       }
      }
     },
     "metadata": {},
     "output_type": "display_data"
    },
    {
     "name": "stdout",
     "output_type": "stream",
     "text": [
      "################ 7 ################\n",
      "[22]\n"
     ]
    },
    {
     "data": {
      "application/vnd.plotly.v1+json": {
       "config": {
        "plotlyServerURL": "https://plot.ly"
       },
       "data": [
        {
         "mode": "lines+markers",
         "type": "scatter",
         "x": [
          "2024-04-08T08:00:00.000000000",
          "2024-04-08T08:15:00.000000000",
          "2024-04-08T08:30:00.000000000",
          "2024-04-08T08:45:00.000000000",
          "2024-04-08T09:00:00.000000000",
          "2024-04-08T09:15:00.000000000",
          "2024-04-08T09:30:00.000000000",
          "2024-04-08T09:45:00.000000000",
          "2024-04-08T10:00:00.000000000",
          "2024-04-08T10:15:00.000000000",
          "2024-04-08T10:30:00.000000000",
          "2024-04-08T10:45:00.000000000",
          "2024-04-08T11:00:00.000000000",
          "2024-04-08T11:15:00.000000000",
          "2024-04-08T11:30:00.000000000",
          "2024-04-08T11:45:00.000000000",
          "2024-04-08T12:00:00.000000000",
          "2024-04-08T12:15:00.000000000",
          "2024-04-08T12:30:00.000000000",
          "2024-04-08T12:45:00.000000000",
          "2024-04-08T13:00:00.000000000",
          "2024-04-08T13:15:00.000000000",
          "2024-04-08T13:30:00.000000000",
          "2024-04-08T13:45:00.000000000",
          "2024-04-08T14:00:00.000000000",
          "2024-04-08T14:15:00.000000000",
          "2024-04-08T14:30:00.000000000",
          "2024-04-08T14:45:00.000000000",
          "2024-04-08T15:00:00.000000000",
          "2024-04-08T15:15:00.000000000",
          "2024-04-08T15:30:00.000000000",
          "2024-04-08T15:45:00.000000000",
          "2024-04-08T16:00:00.000000000",
          "2024-04-08T16:15:00.000000000",
          "2024-04-08T16:30:00.000000000",
          "2024-04-08T16:45:00.000000000",
          "2024-04-08T17:00:00.000000000",
          "2024-04-08T17:15:00.000000000",
          "2024-04-08T17:30:00.000000000",
          "2024-04-08T17:45:00.000000000",
          "2024-04-08T18:00:00.000000000",
          "2024-04-08T18:15:00.000000000",
          "2024-04-08T18:30:00.000000000",
          "2024-04-08T18:45:00.000000000",
          "2024-04-08T19:00:00.000000000",
          "2024-04-08T19:15:00.000000000",
          "2024-04-08T19:30:00.000000000",
          "2024-04-08T19:45:00.000000000",
          "2024-04-08T20:00:00.000000000"
         ],
         "y": [
          3,
          29,
          8,
          0,
          0,
          0,
          1,
          1,
          4,
          0,
          1,
          1,
          1,
          0,
          0,
          0,
          3,
          2,
          1,
          9,
          9,
          56,
          47,
          9,
          0,
          5,
          1,
          0,
          0,
          0,
          1,
          0,
          1,
          0,
          0,
          0,
          0,
          0,
          0,
          0,
          0,
          0,
          0,
          0,
          0,
          0,
          2,
          0,
          0
         ]
        }
       ],
       "layout": {
        "template": {
         "data": {
          "bar": [
           {
            "error_x": {
             "color": "#2a3f5f"
            },
            "error_y": {
             "color": "#2a3f5f"
            },
            "marker": {
             "line": {
              "color": "#E5ECF6",
              "width": 0.5
             },
             "pattern": {
              "fillmode": "overlay",
              "size": 10,
              "solidity": 0.2
             }
            },
            "type": "bar"
           }
          ],
          "barpolar": [
           {
            "marker": {
             "line": {
              "color": "#E5ECF6",
              "width": 0.5
             },
             "pattern": {
              "fillmode": "overlay",
              "size": 10,
              "solidity": 0.2
             }
            },
            "type": "barpolar"
           }
          ],
          "carpet": [
           {
            "aaxis": {
             "endlinecolor": "#2a3f5f",
             "gridcolor": "white",
             "linecolor": "white",
             "minorgridcolor": "white",
             "startlinecolor": "#2a3f5f"
            },
            "baxis": {
             "endlinecolor": "#2a3f5f",
             "gridcolor": "white",
             "linecolor": "white",
             "minorgridcolor": "white",
             "startlinecolor": "#2a3f5f"
            },
            "type": "carpet"
           }
          ],
          "choropleth": [
           {
            "colorbar": {
             "outlinewidth": 0,
             "ticks": ""
            },
            "type": "choropleth"
           }
          ],
          "contour": [
           {
            "colorbar": {
             "outlinewidth": 0,
             "ticks": ""
            },
            "colorscale": [
             [
              0,
              "#0d0887"
             ],
             [
              0.1111111111111111,
              "#46039f"
             ],
             [
              0.2222222222222222,
              "#7201a8"
             ],
             [
              0.3333333333333333,
              "#9c179e"
             ],
             [
              0.4444444444444444,
              "#bd3786"
             ],
             [
              0.5555555555555556,
              "#d8576b"
             ],
             [
              0.6666666666666666,
              "#ed7953"
             ],
             [
              0.7777777777777778,
              "#fb9f3a"
             ],
             [
              0.8888888888888888,
              "#fdca26"
             ],
             [
              1,
              "#f0f921"
             ]
            ],
            "type": "contour"
           }
          ],
          "contourcarpet": [
           {
            "colorbar": {
             "outlinewidth": 0,
             "ticks": ""
            },
            "type": "contourcarpet"
           }
          ],
          "heatmap": [
           {
            "colorbar": {
             "outlinewidth": 0,
             "ticks": ""
            },
            "colorscale": [
             [
              0,
              "#0d0887"
             ],
             [
              0.1111111111111111,
              "#46039f"
             ],
             [
              0.2222222222222222,
              "#7201a8"
             ],
             [
              0.3333333333333333,
              "#9c179e"
             ],
             [
              0.4444444444444444,
              "#bd3786"
             ],
             [
              0.5555555555555556,
              "#d8576b"
             ],
             [
              0.6666666666666666,
              "#ed7953"
             ],
             [
              0.7777777777777778,
              "#fb9f3a"
             ],
             [
              0.8888888888888888,
              "#fdca26"
             ],
             [
              1,
              "#f0f921"
             ]
            ],
            "type": "heatmap"
           }
          ],
          "heatmapgl": [
           {
            "colorbar": {
             "outlinewidth": 0,
             "ticks": ""
            },
            "colorscale": [
             [
              0,
              "#0d0887"
             ],
             [
              0.1111111111111111,
              "#46039f"
             ],
             [
              0.2222222222222222,
              "#7201a8"
             ],
             [
              0.3333333333333333,
              "#9c179e"
             ],
             [
              0.4444444444444444,
              "#bd3786"
             ],
             [
              0.5555555555555556,
              "#d8576b"
             ],
             [
              0.6666666666666666,
              "#ed7953"
             ],
             [
              0.7777777777777778,
              "#fb9f3a"
             ],
             [
              0.8888888888888888,
              "#fdca26"
             ],
             [
              1,
              "#f0f921"
             ]
            ],
            "type": "heatmapgl"
           }
          ],
          "histogram": [
           {
            "marker": {
             "pattern": {
              "fillmode": "overlay",
              "size": 10,
              "solidity": 0.2
             }
            },
            "type": "histogram"
           }
          ],
          "histogram2d": [
           {
            "colorbar": {
             "outlinewidth": 0,
             "ticks": ""
            },
            "colorscale": [
             [
              0,
              "#0d0887"
             ],
             [
              0.1111111111111111,
              "#46039f"
             ],
             [
              0.2222222222222222,
              "#7201a8"
             ],
             [
              0.3333333333333333,
              "#9c179e"
             ],
             [
              0.4444444444444444,
              "#bd3786"
             ],
             [
              0.5555555555555556,
              "#d8576b"
             ],
             [
              0.6666666666666666,
              "#ed7953"
             ],
             [
              0.7777777777777778,
              "#fb9f3a"
             ],
             [
              0.8888888888888888,
              "#fdca26"
             ],
             [
              1,
              "#f0f921"
             ]
            ],
            "type": "histogram2d"
           }
          ],
          "histogram2dcontour": [
           {
            "colorbar": {
             "outlinewidth": 0,
             "ticks": ""
            },
            "colorscale": [
             [
              0,
              "#0d0887"
             ],
             [
              0.1111111111111111,
              "#46039f"
             ],
             [
              0.2222222222222222,
              "#7201a8"
             ],
             [
              0.3333333333333333,
              "#9c179e"
             ],
             [
              0.4444444444444444,
              "#bd3786"
             ],
             [
              0.5555555555555556,
              "#d8576b"
             ],
             [
              0.6666666666666666,
              "#ed7953"
             ],
             [
              0.7777777777777778,
              "#fb9f3a"
             ],
             [
              0.8888888888888888,
              "#fdca26"
             ],
             [
              1,
              "#f0f921"
             ]
            ],
            "type": "histogram2dcontour"
           }
          ],
          "mesh3d": [
           {
            "colorbar": {
             "outlinewidth": 0,
             "ticks": ""
            },
            "type": "mesh3d"
           }
          ],
          "parcoords": [
           {
            "line": {
             "colorbar": {
              "outlinewidth": 0,
              "ticks": ""
             }
            },
            "type": "parcoords"
           }
          ],
          "pie": [
           {
            "automargin": true,
            "type": "pie"
           }
          ],
          "scatter": [
           {
            "fillpattern": {
             "fillmode": "overlay",
             "size": 10,
             "solidity": 0.2
            },
            "type": "scatter"
           }
          ],
          "scatter3d": [
           {
            "line": {
             "colorbar": {
              "outlinewidth": 0,
              "ticks": ""
             }
            },
            "marker": {
             "colorbar": {
              "outlinewidth": 0,
              "ticks": ""
             }
            },
            "type": "scatter3d"
           }
          ],
          "scattercarpet": [
           {
            "marker": {
             "colorbar": {
              "outlinewidth": 0,
              "ticks": ""
             }
            },
            "type": "scattercarpet"
           }
          ],
          "scattergeo": [
           {
            "marker": {
             "colorbar": {
              "outlinewidth": 0,
              "ticks": ""
             }
            },
            "type": "scattergeo"
           }
          ],
          "scattergl": [
           {
            "marker": {
             "colorbar": {
              "outlinewidth": 0,
              "ticks": ""
             }
            },
            "type": "scattergl"
           }
          ],
          "scattermapbox": [
           {
            "marker": {
             "colorbar": {
              "outlinewidth": 0,
              "ticks": ""
             }
            },
            "type": "scattermapbox"
           }
          ],
          "scatterpolar": [
           {
            "marker": {
             "colorbar": {
              "outlinewidth": 0,
              "ticks": ""
             }
            },
            "type": "scatterpolar"
           }
          ],
          "scatterpolargl": [
           {
            "marker": {
             "colorbar": {
              "outlinewidth": 0,
              "ticks": ""
             }
            },
            "type": "scatterpolargl"
           }
          ],
          "scatterternary": [
           {
            "marker": {
             "colorbar": {
              "outlinewidth": 0,
              "ticks": ""
             }
            },
            "type": "scatterternary"
           }
          ],
          "surface": [
           {
            "colorbar": {
             "outlinewidth": 0,
             "ticks": ""
            },
            "colorscale": [
             [
              0,
              "#0d0887"
             ],
             [
              0.1111111111111111,
              "#46039f"
             ],
             [
              0.2222222222222222,
              "#7201a8"
             ],
             [
              0.3333333333333333,
              "#9c179e"
             ],
             [
              0.4444444444444444,
              "#bd3786"
             ],
             [
              0.5555555555555556,
              "#d8576b"
             ],
             [
              0.6666666666666666,
              "#ed7953"
             ],
             [
              0.7777777777777778,
              "#fb9f3a"
             ],
             [
              0.8888888888888888,
              "#fdca26"
             ],
             [
              1,
              "#f0f921"
             ]
            ],
            "type": "surface"
           }
          ],
          "table": [
           {
            "cells": {
             "fill": {
              "color": "#EBF0F8"
             },
             "line": {
              "color": "white"
             }
            },
            "header": {
             "fill": {
              "color": "#C8D4E3"
             },
             "line": {
              "color": "white"
             }
            },
            "type": "table"
           }
          ]
         },
         "layout": {
          "annotationdefaults": {
           "arrowcolor": "#2a3f5f",
           "arrowhead": 0,
           "arrowwidth": 1
          },
          "autotypenumbers": "strict",
          "coloraxis": {
           "colorbar": {
            "outlinewidth": 0,
            "ticks": ""
           }
          },
          "colorscale": {
           "diverging": [
            [
             0,
             "#8e0152"
            ],
            [
             0.1,
             "#c51b7d"
            ],
            [
             0.2,
             "#de77ae"
            ],
            [
             0.3,
             "#f1b6da"
            ],
            [
             0.4,
             "#fde0ef"
            ],
            [
             0.5,
             "#f7f7f7"
            ],
            [
             0.6,
             "#e6f5d0"
            ],
            [
             0.7,
             "#b8e186"
            ],
            [
             0.8,
             "#7fbc41"
            ],
            [
             0.9,
             "#4d9221"
            ],
            [
             1,
             "#276419"
            ]
           ],
           "sequential": [
            [
             0,
             "#0d0887"
            ],
            [
             0.1111111111111111,
             "#46039f"
            ],
            [
             0.2222222222222222,
             "#7201a8"
            ],
            [
             0.3333333333333333,
             "#9c179e"
            ],
            [
             0.4444444444444444,
             "#bd3786"
            ],
            [
             0.5555555555555556,
             "#d8576b"
            ],
            [
             0.6666666666666666,
             "#ed7953"
            ],
            [
             0.7777777777777778,
             "#fb9f3a"
            ],
            [
             0.8888888888888888,
             "#fdca26"
            ],
            [
             1,
             "#f0f921"
            ]
           ],
           "sequentialminus": [
            [
             0,
             "#0d0887"
            ],
            [
             0.1111111111111111,
             "#46039f"
            ],
            [
             0.2222222222222222,
             "#7201a8"
            ],
            [
             0.3333333333333333,
             "#9c179e"
            ],
            [
             0.4444444444444444,
             "#bd3786"
            ],
            [
             0.5555555555555556,
             "#d8576b"
            ],
            [
             0.6666666666666666,
             "#ed7953"
            ],
            [
             0.7777777777777778,
             "#fb9f3a"
            ],
            [
             0.8888888888888888,
             "#fdca26"
            ],
            [
             1,
             "#f0f921"
            ]
           ]
          },
          "colorway": [
           "#636efa",
           "#EF553B",
           "#00cc96",
           "#ab63fa",
           "#FFA15A",
           "#19d3f3",
           "#FF6692",
           "#B6E880",
           "#FF97FF",
           "#FECB52"
          ],
          "font": {
           "color": "#2a3f5f"
          },
          "geo": {
           "bgcolor": "white",
           "lakecolor": "white",
           "landcolor": "#E5ECF6",
           "showlakes": true,
           "showland": true,
           "subunitcolor": "white"
          },
          "hoverlabel": {
           "align": "left"
          },
          "hovermode": "closest",
          "mapbox": {
           "style": "light"
          },
          "paper_bgcolor": "white",
          "plot_bgcolor": "#E5ECF6",
          "polar": {
           "angularaxis": {
            "gridcolor": "white",
            "linecolor": "white",
            "ticks": ""
           },
           "bgcolor": "#E5ECF6",
           "radialaxis": {
            "gridcolor": "white",
            "linecolor": "white",
            "ticks": ""
           }
          },
          "scene": {
           "xaxis": {
            "backgroundcolor": "#E5ECF6",
            "gridcolor": "white",
            "gridwidth": 2,
            "linecolor": "white",
            "showbackground": true,
            "ticks": "",
            "zerolinecolor": "white"
           },
           "yaxis": {
            "backgroundcolor": "#E5ECF6",
            "gridcolor": "white",
            "gridwidth": 2,
            "linecolor": "white",
            "showbackground": true,
            "ticks": "",
            "zerolinecolor": "white"
           },
           "zaxis": {
            "backgroundcolor": "#E5ECF6",
            "gridcolor": "white",
            "gridwidth": 2,
            "linecolor": "white",
            "showbackground": true,
            "ticks": "",
            "zerolinecolor": "white"
           }
          },
          "shapedefaults": {
           "line": {
            "color": "#2a3f5f"
           }
          },
          "ternary": {
           "aaxis": {
            "gridcolor": "white",
            "linecolor": "white",
            "ticks": ""
           },
           "baxis": {
            "gridcolor": "white",
            "linecolor": "white",
            "ticks": ""
           },
           "bgcolor": "#E5ECF6",
           "caxis": {
            "gridcolor": "white",
            "linecolor": "white",
            "ticks": ""
           }
          },
          "title": {
           "x": 0.05
          },
          "xaxis": {
           "automargin": true,
           "gridcolor": "white",
           "linecolor": "white",
           "ticks": "",
           "title": {
            "standoff": 15
           },
           "zerolinecolor": "white",
           "zerolinewidth": 2
          },
          "yaxis": {
           "automargin": true,
           "gridcolor": "white",
           "linecolor": "white",
           "ticks": "",
           "title": {
            "standoff": 15
           },
           "zerolinecolor": "white",
           "zerolinewidth": 2
          }
         }
        }
       }
      }
     },
     "metadata": {},
     "output_type": "display_data"
    },
    {
     "name": "stdout",
     "output_type": "stream",
     "text": [
      "################ 8 ################\n",
      "[ 2  9 16 30 51 57 65]\n"
     ]
    },
    {
     "data": {
      "application/vnd.plotly.v1+json": {
       "config": {
        "plotlyServerURL": "https://plot.ly"
       },
       "data": [
        {
         "mode": "lines+markers",
         "type": "scatter",
         "x": [
          "2024-04-08T08:00:00.000000000",
          "2024-04-08T08:15:00.000000000",
          "2024-04-08T08:30:00.000000000",
          "2024-04-08T08:45:00.000000000",
          "2024-04-08T09:00:00.000000000",
          "2024-04-08T09:15:00.000000000",
          "2024-04-08T09:30:00.000000000",
          "2024-04-08T09:45:00.000000000",
          "2024-04-08T10:00:00.000000000",
          "2024-04-08T10:15:00.000000000",
          "2024-04-08T10:30:00.000000000",
          "2024-04-08T10:45:00.000000000",
          "2024-04-08T11:00:00.000000000",
          "2024-04-08T11:15:00.000000000",
          "2024-04-08T11:30:00.000000000",
          "2024-04-08T11:45:00.000000000",
          "2024-04-08T12:00:00.000000000",
          "2024-04-08T12:15:00.000000000",
          "2024-04-08T12:30:00.000000000",
          "2024-04-08T12:45:00.000000000",
          "2024-04-08T13:00:00.000000000",
          "2024-04-08T13:15:00.000000000",
          "2024-04-08T13:30:00.000000000",
          "2024-04-08T13:45:00.000000000",
          "2024-04-08T14:00:00.000000000",
          "2024-04-08T14:15:00.000000000",
          "2024-04-08T14:30:00.000000000",
          "2024-04-08T14:45:00.000000000",
          "2024-04-08T15:00:00.000000000",
          "2024-04-08T15:15:00.000000000",
          "2024-04-08T15:30:00.000000000",
          "2024-04-08T15:45:00.000000000",
          "2024-04-08T16:00:00.000000000",
          "2024-04-08T16:15:00.000000000",
          "2024-04-08T16:30:00.000000000",
          "2024-04-08T16:45:00.000000000",
          "2024-04-08T17:00:00.000000000",
          "2024-04-08T17:15:00.000000000",
          "2024-04-08T17:30:00.000000000",
          "2024-04-08T17:45:00.000000000",
          "2024-04-08T18:00:00.000000000",
          "2024-04-08T18:15:00.000000000",
          "2024-04-08T18:30:00.000000000",
          "2024-04-08T18:45:00.000000000",
          "2024-04-08T19:00:00.000000000",
          "2024-04-08T19:15:00.000000000",
          "2024-04-08T19:30:00.000000000",
          "2024-04-08T19:45:00.000000000",
          "2024-04-08T20:00:00.000000000"
         ],
         "y": [
          12,
          22,
          7,
          3,
          0,
          1,
          0,
          0,
          34,
          13,
          1,
          0,
          1,
          2,
          4,
          10,
          1,
          0,
          0,
          1,
          0,
          0,
          15,
          3,
          0,
          0,
          0,
          1,
          7,
          6,
          1,
          2,
          0,
          0,
          0,
          5,
          28,
          2,
          0,
          0,
          0,
          1,
          0,
          0,
          0,
          0,
          0,
          0,
          0
         ]
        },
        {
         "mode": "lines+markers",
         "type": "scatter",
         "x": [
          "2024-04-08T08:00:00.000000000",
          "2024-04-08T08:15:00.000000000",
          "2024-04-08T08:30:00.000000000",
          "2024-04-08T08:45:00.000000000",
          "2024-04-08T09:00:00.000000000",
          "2024-04-08T09:15:00.000000000",
          "2024-04-08T09:30:00.000000000",
          "2024-04-08T09:45:00.000000000",
          "2024-04-08T10:00:00.000000000",
          "2024-04-08T10:15:00.000000000",
          "2024-04-08T10:30:00.000000000",
          "2024-04-08T10:45:00.000000000",
          "2024-04-08T11:00:00.000000000",
          "2024-04-08T11:15:00.000000000",
          "2024-04-08T11:30:00.000000000",
          "2024-04-08T11:45:00.000000000",
          "2024-04-08T12:00:00.000000000",
          "2024-04-08T12:15:00.000000000",
          "2024-04-08T12:30:00.000000000",
          "2024-04-08T12:45:00.000000000",
          "2024-04-08T13:00:00.000000000",
          "2024-04-08T13:15:00.000000000",
          "2024-04-08T13:30:00.000000000",
          "2024-04-08T13:45:00.000000000",
          "2024-04-08T14:00:00.000000000",
          "2024-04-08T14:15:00.000000000",
          "2024-04-08T14:30:00.000000000",
          "2024-04-08T14:45:00.000000000",
          "2024-04-08T15:00:00.000000000",
          "2024-04-08T15:15:00.000000000",
          "2024-04-08T15:30:00.000000000",
          "2024-04-08T15:45:00.000000000",
          "2024-04-08T16:00:00.000000000",
          "2024-04-08T16:15:00.000000000",
          "2024-04-08T16:30:00.000000000",
          "2024-04-08T16:45:00.000000000",
          "2024-04-08T17:00:00.000000000",
          "2024-04-08T17:15:00.000000000",
          "2024-04-08T17:30:00.000000000",
          "2024-04-08T17:45:00.000000000",
          "2024-04-08T18:00:00.000000000",
          "2024-04-08T18:15:00.000000000",
          "2024-04-08T18:30:00.000000000",
          "2024-04-08T18:45:00.000000000",
          "2024-04-08T19:00:00.000000000",
          "2024-04-08T19:15:00.000000000",
          "2024-04-08T19:30:00.000000000",
          "2024-04-08T19:45:00.000000000",
          "2024-04-08T20:00:00.000000000"
         ],
         "y": [
          9,
          18,
          11,
          0,
          0,
          0,
          1,
          0,
          32,
          5,
          1,
          0,
          0,
          0,
          1,
          6,
          2,
          0,
          1,
          0,
          0,
          0,
          12,
          1,
          3,
          0,
          1,
          0,
          3,
          3,
          0,
          0,
          0,
          0,
          0,
          9,
          19,
          8,
          1,
          0,
          0,
          0,
          1,
          0,
          0,
          0,
          0,
          0,
          0
         ]
        },
        {
         "mode": "lines+markers",
         "type": "scatter",
         "x": [
          "2024-04-08T08:00:00.000000000",
          "2024-04-08T08:15:00.000000000",
          "2024-04-08T08:30:00.000000000",
          "2024-04-08T08:45:00.000000000",
          "2024-04-08T09:00:00.000000000",
          "2024-04-08T09:15:00.000000000",
          "2024-04-08T09:30:00.000000000",
          "2024-04-08T09:45:00.000000000",
          "2024-04-08T10:00:00.000000000",
          "2024-04-08T10:15:00.000000000",
          "2024-04-08T10:30:00.000000000",
          "2024-04-08T10:45:00.000000000",
          "2024-04-08T11:00:00.000000000",
          "2024-04-08T11:15:00.000000000",
          "2024-04-08T11:30:00.000000000",
          "2024-04-08T11:45:00.000000000",
          "2024-04-08T12:00:00.000000000",
          "2024-04-08T12:15:00.000000000",
          "2024-04-08T12:30:00.000000000",
          "2024-04-08T12:45:00.000000000",
          "2024-04-08T13:00:00.000000000",
          "2024-04-08T13:15:00.000000000",
          "2024-04-08T13:30:00.000000000",
          "2024-04-08T13:45:00.000000000",
          "2024-04-08T14:00:00.000000000",
          "2024-04-08T14:15:00.000000000",
          "2024-04-08T14:30:00.000000000",
          "2024-04-08T14:45:00.000000000",
          "2024-04-08T15:00:00.000000000",
          "2024-04-08T15:15:00.000000000",
          "2024-04-08T15:30:00.000000000",
          "2024-04-08T15:45:00.000000000",
          "2024-04-08T16:00:00.000000000",
          "2024-04-08T16:15:00.000000000",
          "2024-04-08T16:30:00.000000000",
          "2024-04-08T16:45:00.000000000",
          "2024-04-08T17:00:00.000000000",
          "2024-04-08T17:15:00.000000000",
          "2024-04-08T17:30:00.000000000",
          "2024-04-08T17:45:00.000000000",
          "2024-04-08T18:00:00.000000000",
          "2024-04-08T18:15:00.000000000",
          "2024-04-08T18:30:00.000000000",
          "2024-04-08T18:45:00.000000000",
          "2024-04-08T19:00:00.000000000",
          "2024-04-08T19:15:00.000000000",
          "2024-04-08T19:30:00.000000000",
          "2024-04-08T19:45:00.000000000",
          "2024-04-08T20:00:00.000000000"
         ],
         "y": [
          5,
          16,
          7,
          0,
          1,
          1,
          2,
          0,
          32,
          7,
          0,
          1,
          1,
          0,
          4,
          3,
          0,
          0,
          0,
          0,
          0,
          0,
          16,
          1,
          0,
          0,
          0,
          6,
          1,
          4,
          0,
          0,
          0,
          1,
          0,
          9,
          16,
          3,
          1,
          1,
          1,
          2,
          0,
          0,
          0,
          0,
          0,
          0,
          0
         ]
        },
        {
         "mode": "lines+markers",
         "type": "scatter",
         "x": [
          "2024-04-08T08:00:00.000000000",
          "2024-04-08T08:15:00.000000000",
          "2024-04-08T08:30:00.000000000",
          "2024-04-08T08:45:00.000000000",
          "2024-04-08T09:00:00.000000000",
          "2024-04-08T09:15:00.000000000",
          "2024-04-08T09:30:00.000000000",
          "2024-04-08T09:45:00.000000000",
          "2024-04-08T10:00:00.000000000",
          "2024-04-08T10:15:00.000000000",
          "2024-04-08T10:30:00.000000000",
          "2024-04-08T10:45:00.000000000",
          "2024-04-08T11:00:00.000000000",
          "2024-04-08T11:15:00.000000000",
          "2024-04-08T11:30:00.000000000",
          "2024-04-08T11:45:00.000000000",
          "2024-04-08T12:00:00.000000000",
          "2024-04-08T12:15:00.000000000",
          "2024-04-08T12:30:00.000000000",
          "2024-04-08T12:45:00.000000000",
          "2024-04-08T13:00:00.000000000",
          "2024-04-08T13:15:00.000000000",
          "2024-04-08T13:30:00.000000000",
          "2024-04-08T13:45:00.000000000",
          "2024-04-08T14:00:00.000000000",
          "2024-04-08T14:15:00.000000000",
          "2024-04-08T14:30:00.000000000",
          "2024-04-08T14:45:00.000000000",
          "2024-04-08T15:00:00.000000000",
          "2024-04-08T15:15:00.000000000",
          "2024-04-08T15:30:00.000000000",
          "2024-04-08T15:45:00.000000000",
          "2024-04-08T16:00:00.000000000",
          "2024-04-08T16:15:00.000000000",
          "2024-04-08T16:30:00.000000000",
          "2024-04-08T16:45:00.000000000",
          "2024-04-08T17:00:00.000000000",
          "2024-04-08T17:15:00.000000000",
          "2024-04-08T17:30:00.000000000",
          "2024-04-08T17:45:00.000000000",
          "2024-04-08T18:00:00.000000000",
          "2024-04-08T18:15:00.000000000",
          "2024-04-08T18:30:00.000000000",
          "2024-04-08T18:45:00.000000000",
          "2024-04-08T19:00:00.000000000",
          "2024-04-08T19:15:00.000000000",
          "2024-04-08T19:30:00.000000000",
          "2024-04-08T19:45:00.000000000",
          "2024-04-08T20:00:00.000000000"
         ],
         "y": [
          5,
          11,
          9,
          1,
          1,
          1,
          1,
          0,
          26,
          1,
          0,
          0,
          0,
          0,
          0,
          6,
          0,
          0,
          0,
          0,
          1,
          2,
          11,
          6,
          1,
          0,
          0,
          0,
          1,
          17,
          1,
          1,
          1,
          0,
          0,
          4,
          17,
          7,
          0,
          0,
          0,
          2,
          0,
          0,
          0,
          0,
          0,
          0,
          0
         ]
        },
        {
         "mode": "lines+markers",
         "type": "scatter",
         "x": [
          "2024-04-08T08:00:00.000000000",
          "2024-04-08T08:15:00.000000000",
          "2024-04-08T08:30:00.000000000",
          "2024-04-08T08:45:00.000000000",
          "2024-04-08T09:00:00.000000000",
          "2024-04-08T09:15:00.000000000",
          "2024-04-08T09:30:00.000000000",
          "2024-04-08T09:45:00.000000000",
          "2024-04-08T10:00:00.000000000",
          "2024-04-08T10:15:00.000000000",
          "2024-04-08T10:30:00.000000000",
          "2024-04-08T10:45:00.000000000",
          "2024-04-08T11:00:00.000000000",
          "2024-04-08T11:15:00.000000000",
          "2024-04-08T11:30:00.000000000",
          "2024-04-08T11:45:00.000000000",
          "2024-04-08T12:00:00.000000000",
          "2024-04-08T12:15:00.000000000",
          "2024-04-08T12:30:00.000000000",
          "2024-04-08T12:45:00.000000000",
          "2024-04-08T13:00:00.000000000",
          "2024-04-08T13:15:00.000000000",
          "2024-04-08T13:30:00.000000000",
          "2024-04-08T13:45:00.000000000",
          "2024-04-08T14:00:00.000000000",
          "2024-04-08T14:15:00.000000000",
          "2024-04-08T14:30:00.000000000",
          "2024-04-08T14:45:00.000000000",
          "2024-04-08T15:00:00.000000000",
          "2024-04-08T15:15:00.000000000",
          "2024-04-08T15:30:00.000000000",
          "2024-04-08T15:45:00.000000000",
          "2024-04-08T16:00:00.000000000",
          "2024-04-08T16:15:00.000000000",
          "2024-04-08T16:30:00.000000000",
          "2024-04-08T16:45:00.000000000",
          "2024-04-08T17:00:00.000000000",
          "2024-04-08T17:15:00.000000000",
          "2024-04-08T17:30:00.000000000",
          "2024-04-08T17:45:00.000000000",
          "2024-04-08T18:00:00.000000000",
          "2024-04-08T18:15:00.000000000",
          "2024-04-08T18:30:00.000000000",
          "2024-04-08T18:45:00.000000000",
          "2024-04-08T19:00:00.000000000",
          "2024-04-08T19:15:00.000000000",
          "2024-04-08T19:30:00.000000000",
          "2024-04-08T19:45:00.000000000",
          "2024-04-08T20:00:00.000000000"
         ],
         "y": [
          4,
          15,
          5,
          0,
          0,
          0,
          0,
          0,
          33,
          9,
          4,
          1,
          0,
          3,
          1,
          2,
          0,
          0,
          0,
          0,
          0,
          0,
          0,
          2,
          0,
          0,
          0,
          0,
          1,
          4,
          5,
          0,
          0,
          0,
          0,
          4,
          16,
          11,
          0,
          0,
          0,
          4,
          0,
          5,
          0,
          0,
          0,
          2,
          0
         ]
        },
        {
         "mode": "lines+markers",
         "type": "scatter",
         "x": [
          "2024-04-08T08:00:00.000000000",
          "2024-04-08T08:15:00.000000000",
          "2024-04-08T08:30:00.000000000",
          "2024-04-08T08:45:00.000000000",
          "2024-04-08T09:00:00.000000000",
          "2024-04-08T09:15:00.000000000",
          "2024-04-08T09:30:00.000000000",
          "2024-04-08T09:45:00.000000000",
          "2024-04-08T10:00:00.000000000",
          "2024-04-08T10:15:00.000000000",
          "2024-04-08T10:30:00.000000000",
          "2024-04-08T10:45:00.000000000",
          "2024-04-08T11:00:00.000000000",
          "2024-04-08T11:15:00.000000000",
          "2024-04-08T11:30:00.000000000",
          "2024-04-08T11:45:00.000000000",
          "2024-04-08T12:00:00.000000000",
          "2024-04-08T12:15:00.000000000",
          "2024-04-08T12:30:00.000000000",
          "2024-04-08T12:45:00.000000000",
          "2024-04-08T13:00:00.000000000",
          "2024-04-08T13:15:00.000000000",
          "2024-04-08T13:30:00.000000000",
          "2024-04-08T13:45:00.000000000",
          "2024-04-08T14:00:00.000000000",
          "2024-04-08T14:15:00.000000000",
          "2024-04-08T14:30:00.000000000",
          "2024-04-08T14:45:00.000000000",
          "2024-04-08T15:00:00.000000000",
          "2024-04-08T15:15:00.000000000",
          "2024-04-08T15:30:00.000000000",
          "2024-04-08T15:45:00.000000000",
          "2024-04-08T16:00:00.000000000",
          "2024-04-08T16:15:00.000000000",
          "2024-04-08T16:30:00.000000000",
          "2024-04-08T16:45:00.000000000",
          "2024-04-08T17:00:00.000000000",
          "2024-04-08T17:15:00.000000000",
          "2024-04-08T17:30:00.000000000",
          "2024-04-08T17:45:00.000000000",
          "2024-04-08T18:00:00.000000000",
          "2024-04-08T18:15:00.000000000",
          "2024-04-08T18:30:00.000000000",
          "2024-04-08T18:45:00.000000000",
          "2024-04-08T19:00:00.000000000",
          "2024-04-08T19:15:00.000000000",
          "2024-04-08T19:30:00.000000000",
          "2024-04-08T19:45:00.000000000",
          "2024-04-08T20:00:00.000000000"
         ],
         "y": [
          0,
          26,
          15,
          5,
          2,
          1,
          2,
          1,
          17,
          10,
          2,
          1,
          1,
          1,
          0,
          20,
          4,
          1,
          0,
          0,
          0,
          2,
          8,
          1,
          0,
          0,
          0,
          0,
          1,
          0,
          0,
          0,
          0,
          0,
          1,
          4,
          45,
          27,
          6,
          1,
          0,
          0,
          2,
          8,
          0,
          0,
          0,
          0,
          0
         ]
        },
        {
         "mode": "lines+markers",
         "type": "scatter",
         "x": [
          "2024-04-08T08:00:00.000000000",
          "2024-04-08T08:15:00.000000000",
          "2024-04-08T08:30:00.000000000",
          "2024-04-08T08:45:00.000000000",
          "2024-04-08T09:00:00.000000000",
          "2024-04-08T09:15:00.000000000",
          "2024-04-08T09:30:00.000000000",
          "2024-04-08T09:45:00.000000000",
          "2024-04-08T10:00:00.000000000",
          "2024-04-08T10:15:00.000000000",
          "2024-04-08T10:30:00.000000000",
          "2024-04-08T10:45:00.000000000",
          "2024-04-08T11:00:00.000000000",
          "2024-04-08T11:15:00.000000000",
          "2024-04-08T11:30:00.000000000",
          "2024-04-08T11:45:00.000000000",
          "2024-04-08T12:00:00.000000000",
          "2024-04-08T12:15:00.000000000",
          "2024-04-08T12:30:00.000000000",
          "2024-04-08T12:45:00.000000000",
          "2024-04-08T13:00:00.000000000",
          "2024-04-08T13:15:00.000000000",
          "2024-04-08T13:30:00.000000000",
          "2024-04-08T13:45:00.000000000",
          "2024-04-08T14:00:00.000000000",
          "2024-04-08T14:15:00.000000000",
          "2024-04-08T14:30:00.000000000",
          "2024-04-08T14:45:00.000000000",
          "2024-04-08T15:00:00.000000000",
          "2024-04-08T15:15:00.000000000",
          "2024-04-08T15:30:00.000000000",
          "2024-04-08T15:45:00.000000000",
          "2024-04-08T16:00:00.000000000",
          "2024-04-08T16:15:00.000000000",
          "2024-04-08T16:30:00.000000000",
          "2024-04-08T16:45:00.000000000",
          "2024-04-08T17:00:00.000000000",
          "2024-04-08T17:15:00.000000000",
          "2024-04-08T17:30:00.000000000",
          "2024-04-08T17:45:00.000000000",
          "2024-04-08T18:00:00.000000000",
          "2024-04-08T18:15:00.000000000",
          "2024-04-08T18:30:00.000000000",
          "2024-04-08T18:45:00.000000000",
          "2024-04-08T19:00:00.000000000",
          "2024-04-08T19:15:00.000000000",
          "2024-04-08T19:30:00.000000000",
          "2024-04-08T19:45:00.000000000",
          "2024-04-08T20:00:00.000000000"
         ],
         "y": [
          4,
          12,
          5,
          1,
          2,
          1,
          2,
          1,
          37,
          9,
          0,
          0,
          0,
          2,
          6,
          5,
          1,
          1,
          0,
          0,
          0,
          2,
          19,
          0,
          0,
          0,
          0,
          0,
          0,
          0,
          0,
          0,
          0,
          0,
          1,
          3,
          24,
          5,
          4,
          2,
          0,
          1,
          1,
          0,
          0,
          0,
          0,
          0,
          0
         ]
        }
       ],
       "layout": {
        "template": {
         "data": {
          "bar": [
           {
            "error_x": {
             "color": "#2a3f5f"
            },
            "error_y": {
             "color": "#2a3f5f"
            },
            "marker": {
             "line": {
              "color": "#E5ECF6",
              "width": 0.5
             },
             "pattern": {
              "fillmode": "overlay",
              "size": 10,
              "solidity": 0.2
             }
            },
            "type": "bar"
           }
          ],
          "barpolar": [
           {
            "marker": {
             "line": {
              "color": "#E5ECF6",
              "width": 0.5
             },
             "pattern": {
              "fillmode": "overlay",
              "size": 10,
              "solidity": 0.2
             }
            },
            "type": "barpolar"
           }
          ],
          "carpet": [
           {
            "aaxis": {
             "endlinecolor": "#2a3f5f",
             "gridcolor": "white",
             "linecolor": "white",
             "minorgridcolor": "white",
             "startlinecolor": "#2a3f5f"
            },
            "baxis": {
             "endlinecolor": "#2a3f5f",
             "gridcolor": "white",
             "linecolor": "white",
             "minorgridcolor": "white",
             "startlinecolor": "#2a3f5f"
            },
            "type": "carpet"
           }
          ],
          "choropleth": [
           {
            "colorbar": {
             "outlinewidth": 0,
             "ticks": ""
            },
            "type": "choropleth"
           }
          ],
          "contour": [
           {
            "colorbar": {
             "outlinewidth": 0,
             "ticks": ""
            },
            "colorscale": [
             [
              0,
              "#0d0887"
             ],
             [
              0.1111111111111111,
              "#46039f"
             ],
             [
              0.2222222222222222,
              "#7201a8"
             ],
             [
              0.3333333333333333,
              "#9c179e"
             ],
             [
              0.4444444444444444,
              "#bd3786"
             ],
             [
              0.5555555555555556,
              "#d8576b"
             ],
             [
              0.6666666666666666,
              "#ed7953"
             ],
             [
              0.7777777777777778,
              "#fb9f3a"
             ],
             [
              0.8888888888888888,
              "#fdca26"
             ],
             [
              1,
              "#f0f921"
             ]
            ],
            "type": "contour"
           }
          ],
          "contourcarpet": [
           {
            "colorbar": {
             "outlinewidth": 0,
             "ticks": ""
            },
            "type": "contourcarpet"
           }
          ],
          "heatmap": [
           {
            "colorbar": {
             "outlinewidth": 0,
             "ticks": ""
            },
            "colorscale": [
             [
              0,
              "#0d0887"
             ],
             [
              0.1111111111111111,
              "#46039f"
             ],
             [
              0.2222222222222222,
              "#7201a8"
             ],
             [
              0.3333333333333333,
              "#9c179e"
             ],
             [
              0.4444444444444444,
              "#bd3786"
             ],
             [
              0.5555555555555556,
              "#d8576b"
             ],
             [
              0.6666666666666666,
              "#ed7953"
             ],
             [
              0.7777777777777778,
              "#fb9f3a"
             ],
             [
              0.8888888888888888,
              "#fdca26"
             ],
             [
              1,
              "#f0f921"
             ]
            ],
            "type": "heatmap"
           }
          ],
          "heatmapgl": [
           {
            "colorbar": {
             "outlinewidth": 0,
             "ticks": ""
            },
            "colorscale": [
             [
              0,
              "#0d0887"
             ],
             [
              0.1111111111111111,
              "#46039f"
             ],
             [
              0.2222222222222222,
              "#7201a8"
             ],
             [
              0.3333333333333333,
              "#9c179e"
             ],
             [
              0.4444444444444444,
              "#bd3786"
             ],
             [
              0.5555555555555556,
              "#d8576b"
             ],
             [
              0.6666666666666666,
              "#ed7953"
             ],
             [
              0.7777777777777778,
              "#fb9f3a"
             ],
             [
              0.8888888888888888,
              "#fdca26"
             ],
             [
              1,
              "#f0f921"
             ]
            ],
            "type": "heatmapgl"
           }
          ],
          "histogram": [
           {
            "marker": {
             "pattern": {
              "fillmode": "overlay",
              "size": 10,
              "solidity": 0.2
             }
            },
            "type": "histogram"
           }
          ],
          "histogram2d": [
           {
            "colorbar": {
             "outlinewidth": 0,
             "ticks": ""
            },
            "colorscale": [
             [
              0,
              "#0d0887"
             ],
             [
              0.1111111111111111,
              "#46039f"
             ],
             [
              0.2222222222222222,
              "#7201a8"
             ],
             [
              0.3333333333333333,
              "#9c179e"
             ],
             [
              0.4444444444444444,
              "#bd3786"
             ],
             [
              0.5555555555555556,
              "#d8576b"
             ],
             [
              0.6666666666666666,
              "#ed7953"
             ],
             [
              0.7777777777777778,
              "#fb9f3a"
             ],
             [
              0.8888888888888888,
              "#fdca26"
             ],
             [
              1,
              "#f0f921"
             ]
            ],
            "type": "histogram2d"
           }
          ],
          "histogram2dcontour": [
           {
            "colorbar": {
             "outlinewidth": 0,
             "ticks": ""
            },
            "colorscale": [
             [
              0,
              "#0d0887"
             ],
             [
              0.1111111111111111,
              "#46039f"
             ],
             [
              0.2222222222222222,
              "#7201a8"
             ],
             [
              0.3333333333333333,
              "#9c179e"
             ],
             [
              0.4444444444444444,
              "#bd3786"
             ],
             [
              0.5555555555555556,
              "#d8576b"
             ],
             [
              0.6666666666666666,
              "#ed7953"
             ],
             [
              0.7777777777777778,
              "#fb9f3a"
             ],
             [
              0.8888888888888888,
              "#fdca26"
             ],
             [
              1,
              "#f0f921"
             ]
            ],
            "type": "histogram2dcontour"
           }
          ],
          "mesh3d": [
           {
            "colorbar": {
             "outlinewidth": 0,
             "ticks": ""
            },
            "type": "mesh3d"
           }
          ],
          "parcoords": [
           {
            "line": {
             "colorbar": {
              "outlinewidth": 0,
              "ticks": ""
             }
            },
            "type": "parcoords"
           }
          ],
          "pie": [
           {
            "automargin": true,
            "type": "pie"
           }
          ],
          "scatter": [
           {
            "fillpattern": {
             "fillmode": "overlay",
             "size": 10,
             "solidity": 0.2
            },
            "type": "scatter"
           }
          ],
          "scatter3d": [
           {
            "line": {
             "colorbar": {
              "outlinewidth": 0,
              "ticks": ""
             }
            },
            "marker": {
             "colorbar": {
              "outlinewidth": 0,
              "ticks": ""
             }
            },
            "type": "scatter3d"
           }
          ],
          "scattercarpet": [
           {
            "marker": {
             "colorbar": {
              "outlinewidth": 0,
              "ticks": ""
             }
            },
            "type": "scattercarpet"
           }
          ],
          "scattergeo": [
           {
            "marker": {
             "colorbar": {
              "outlinewidth": 0,
              "ticks": ""
             }
            },
            "type": "scattergeo"
           }
          ],
          "scattergl": [
           {
            "marker": {
             "colorbar": {
              "outlinewidth": 0,
              "ticks": ""
             }
            },
            "type": "scattergl"
           }
          ],
          "scattermapbox": [
           {
            "marker": {
             "colorbar": {
              "outlinewidth": 0,
              "ticks": ""
             }
            },
            "type": "scattermapbox"
           }
          ],
          "scatterpolar": [
           {
            "marker": {
             "colorbar": {
              "outlinewidth": 0,
              "ticks": ""
             }
            },
            "type": "scatterpolar"
           }
          ],
          "scatterpolargl": [
           {
            "marker": {
             "colorbar": {
              "outlinewidth": 0,
              "ticks": ""
             }
            },
            "type": "scatterpolargl"
           }
          ],
          "scatterternary": [
           {
            "marker": {
             "colorbar": {
              "outlinewidth": 0,
              "ticks": ""
             }
            },
            "type": "scatterternary"
           }
          ],
          "surface": [
           {
            "colorbar": {
             "outlinewidth": 0,
             "ticks": ""
            },
            "colorscale": [
             [
              0,
              "#0d0887"
             ],
             [
              0.1111111111111111,
              "#46039f"
             ],
             [
              0.2222222222222222,
              "#7201a8"
             ],
             [
              0.3333333333333333,
              "#9c179e"
             ],
             [
              0.4444444444444444,
              "#bd3786"
             ],
             [
              0.5555555555555556,
              "#d8576b"
             ],
             [
              0.6666666666666666,
              "#ed7953"
             ],
             [
              0.7777777777777778,
              "#fb9f3a"
             ],
             [
              0.8888888888888888,
              "#fdca26"
             ],
             [
              1,
              "#f0f921"
             ]
            ],
            "type": "surface"
           }
          ],
          "table": [
           {
            "cells": {
             "fill": {
              "color": "#EBF0F8"
             },
             "line": {
              "color": "white"
             }
            },
            "header": {
             "fill": {
              "color": "#C8D4E3"
             },
             "line": {
              "color": "white"
             }
            },
            "type": "table"
           }
          ]
         },
         "layout": {
          "annotationdefaults": {
           "arrowcolor": "#2a3f5f",
           "arrowhead": 0,
           "arrowwidth": 1
          },
          "autotypenumbers": "strict",
          "coloraxis": {
           "colorbar": {
            "outlinewidth": 0,
            "ticks": ""
           }
          },
          "colorscale": {
           "diverging": [
            [
             0,
             "#8e0152"
            ],
            [
             0.1,
             "#c51b7d"
            ],
            [
             0.2,
             "#de77ae"
            ],
            [
             0.3,
             "#f1b6da"
            ],
            [
             0.4,
             "#fde0ef"
            ],
            [
             0.5,
             "#f7f7f7"
            ],
            [
             0.6,
             "#e6f5d0"
            ],
            [
             0.7,
             "#b8e186"
            ],
            [
             0.8,
             "#7fbc41"
            ],
            [
             0.9,
             "#4d9221"
            ],
            [
             1,
             "#276419"
            ]
           ],
           "sequential": [
            [
             0,
             "#0d0887"
            ],
            [
             0.1111111111111111,
             "#46039f"
            ],
            [
             0.2222222222222222,
             "#7201a8"
            ],
            [
             0.3333333333333333,
             "#9c179e"
            ],
            [
             0.4444444444444444,
             "#bd3786"
            ],
            [
             0.5555555555555556,
             "#d8576b"
            ],
            [
             0.6666666666666666,
             "#ed7953"
            ],
            [
             0.7777777777777778,
             "#fb9f3a"
            ],
            [
             0.8888888888888888,
             "#fdca26"
            ],
            [
             1,
             "#f0f921"
            ]
           ],
           "sequentialminus": [
            [
             0,
             "#0d0887"
            ],
            [
             0.1111111111111111,
             "#46039f"
            ],
            [
             0.2222222222222222,
             "#7201a8"
            ],
            [
             0.3333333333333333,
             "#9c179e"
            ],
            [
             0.4444444444444444,
             "#bd3786"
            ],
            [
             0.5555555555555556,
             "#d8576b"
            ],
            [
             0.6666666666666666,
             "#ed7953"
            ],
            [
             0.7777777777777778,
             "#fb9f3a"
            ],
            [
             0.8888888888888888,
             "#fdca26"
            ],
            [
             1,
             "#f0f921"
            ]
           ]
          },
          "colorway": [
           "#636efa",
           "#EF553B",
           "#00cc96",
           "#ab63fa",
           "#FFA15A",
           "#19d3f3",
           "#FF6692",
           "#B6E880",
           "#FF97FF",
           "#FECB52"
          ],
          "font": {
           "color": "#2a3f5f"
          },
          "geo": {
           "bgcolor": "white",
           "lakecolor": "white",
           "landcolor": "#E5ECF6",
           "showlakes": true,
           "showland": true,
           "subunitcolor": "white"
          },
          "hoverlabel": {
           "align": "left"
          },
          "hovermode": "closest",
          "mapbox": {
           "style": "light"
          },
          "paper_bgcolor": "white",
          "plot_bgcolor": "#E5ECF6",
          "polar": {
           "angularaxis": {
            "gridcolor": "white",
            "linecolor": "white",
            "ticks": ""
           },
           "bgcolor": "#E5ECF6",
           "radialaxis": {
            "gridcolor": "white",
            "linecolor": "white",
            "ticks": ""
           }
          },
          "scene": {
           "xaxis": {
            "backgroundcolor": "#E5ECF6",
            "gridcolor": "white",
            "gridwidth": 2,
            "linecolor": "white",
            "showbackground": true,
            "ticks": "",
            "zerolinecolor": "white"
           },
           "yaxis": {
            "backgroundcolor": "#E5ECF6",
            "gridcolor": "white",
            "gridwidth": 2,
            "linecolor": "white",
            "showbackground": true,
            "ticks": "",
            "zerolinecolor": "white"
           },
           "zaxis": {
            "backgroundcolor": "#E5ECF6",
            "gridcolor": "white",
            "gridwidth": 2,
            "linecolor": "white",
            "showbackground": true,
            "ticks": "",
            "zerolinecolor": "white"
           }
          },
          "shapedefaults": {
           "line": {
            "color": "#2a3f5f"
           }
          },
          "ternary": {
           "aaxis": {
            "gridcolor": "white",
            "linecolor": "white",
            "ticks": ""
           },
           "baxis": {
            "gridcolor": "white",
            "linecolor": "white",
            "ticks": ""
           },
           "bgcolor": "#E5ECF6",
           "caxis": {
            "gridcolor": "white",
            "linecolor": "white",
            "ticks": ""
           }
          },
          "title": {
           "x": 0.05
          },
          "xaxis": {
           "automargin": true,
           "gridcolor": "white",
           "linecolor": "white",
           "ticks": "",
           "title": {
            "standoff": 15
           },
           "zerolinecolor": "white",
           "zerolinewidth": 2
          },
          "yaxis": {
           "automargin": true,
           "gridcolor": "white",
           "linecolor": "white",
           "ticks": "",
           "title": {
            "standoff": 15
           },
           "zerolinecolor": "white",
           "zerolinewidth": 2
          }
         }
        }
       }
      }
     },
     "metadata": {},
     "output_type": "display_data"
    },
    {
     "name": "stdout",
     "output_type": "stream",
     "text": [
      "################ 9 ################\n",
      "[11 35 49 56 63 70]\n"
     ]
    },
    {
     "data": {
      "application/vnd.plotly.v1+json": {
       "config": {
        "plotlyServerURL": "https://plot.ly"
       },
       "data": [
        {
         "mode": "lines+markers",
         "type": "scatter",
         "x": [
          "2024-04-08T08:00:00.000000000",
          "2024-04-08T08:15:00.000000000",
          "2024-04-08T08:30:00.000000000",
          "2024-04-08T08:45:00.000000000",
          "2024-04-08T09:00:00.000000000",
          "2024-04-08T09:15:00.000000000",
          "2024-04-08T09:30:00.000000000",
          "2024-04-08T09:45:00.000000000",
          "2024-04-08T10:00:00.000000000",
          "2024-04-08T10:15:00.000000000",
          "2024-04-08T10:30:00.000000000",
          "2024-04-08T10:45:00.000000000",
          "2024-04-08T11:00:00.000000000",
          "2024-04-08T11:15:00.000000000",
          "2024-04-08T11:30:00.000000000",
          "2024-04-08T11:45:00.000000000",
          "2024-04-08T12:00:00.000000000",
          "2024-04-08T12:15:00.000000000",
          "2024-04-08T12:30:00.000000000",
          "2024-04-08T12:45:00.000000000",
          "2024-04-08T13:00:00.000000000",
          "2024-04-08T13:15:00.000000000",
          "2024-04-08T13:30:00.000000000",
          "2024-04-08T13:45:00.000000000",
          "2024-04-08T14:00:00.000000000",
          "2024-04-08T14:15:00.000000000",
          "2024-04-08T14:30:00.000000000",
          "2024-04-08T14:45:00.000000000",
          "2024-04-08T15:00:00.000000000",
          "2024-04-08T15:15:00.000000000",
          "2024-04-08T15:30:00.000000000",
          "2024-04-08T15:45:00.000000000",
          "2024-04-08T16:00:00.000000000",
          "2024-04-08T16:15:00.000000000",
          "2024-04-08T16:30:00.000000000",
          "2024-04-08T16:45:00.000000000",
          "2024-04-08T17:00:00.000000000",
          "2024-04-08T17:15:00.000000000",
          "2024-04-08T17:30:00.000000000",
          "2024-04-08T17:45:00.000000000",
          "2024-04-08T18:00:00.000000000",
          "2024-04-08T18:15:00.000000000",
          "2024-04-08T18:30:00.000000000",
          "2024-04-08T18:45:00.000000000",
          "2024-04-08T19:00:00.000000000",
          "2024-04-08T19:15:00.000000000",
          "2024-04-08T19:30:00.000000000",
          "2024-04-08T19:45:00.000000000",
          "2024-04-08T20:00:00.000000000"
         ],
         "y": [
          3,
          9,
          7,
          0,
          2,
          1,
          0,
          0,
          11,
          3,
          0,
          0,
          0,
          0,
          0,
          27,
          13,
          6,
          4,
          1,
          1,
          2,
          11,
          25,
          0,
          1,
          0,
          1,
          28,
          2,
          0,
          0,
          15,
          11,
          0,
          0,
          1,
          0,
          0,
          0,
          0,
          0,
          0,
          0,
          0,
          0,
          0,
          0,
          0
         ]
        },
        {
         "mode": "lines+markers",
         "type": "scatter",
         "x": [
          "2024-04-08T08:00:00.000000000",
          "2024-04-08T08:15:00.000000000",
          "2024-04-08T08:30:00.000000000",
          "2024-04-08T08:45:00.000000000",
          "2024-04-08T09:00:00.000000000",
          "2024-04-08T09:15:00.000000000",
          "2024-04-08T09:30:00.000000000",
          "2024-04-08T09:45:00.000000000",
          "2024-04-08T10:00:00.000000000",
          "2024-04-08T10:15:00.000000000",
          "2024-04-08T10:30:00.000000000",
          "2024-04-08T10:45:00.000000000",
          "2024-04-08T11:00:00.000000000",
          "2024-04-08T11:15:00.000000000",
          "2024-04-08T11:30:00.000000000",
          "2024-04-08T11:45:00.000000000",
          "2024-04-08T12:00:00.000000000",
          "2024-04-08T12:15:00.000000000",
          "2024-04-08T12:30:00.000000000",
          "2024-04-08T12:45:00.000000000",
          "2024-04-08T13:00:00.000000000",
          "2024-04-08T13:15:00.000000000",
          "2024-04-08T13:30:00.000000000",
          "2024-04-08T13:45:00.000000000",
          "2024-04-08T14:00:00.000000000",
          "2024-04-08T14:15:00.000000000",
          "2024-04-08T14:30:00.000000000",
          "2024-04-08T14:45:00.000000000",
          "2024-04-08T15:00:00.000000000",
          "2024-04-08T15:15:00.000000000",
          "2024-04-08T15:30:00.000000000",
          "2024-04-08T15:45:00.000000000",
          "2024-04-08T16:00:00.000000000",
          "2024-04-08T16:15:00.000000000",
          "2024-04-08T16:30:00.000000000",
          "2024-04-08T16:45:00.000000000",
          "2024-04-08T17:00:00.000000000",
          "2024-04-08T17:15:00.000000000",
          "2024-04-08T17:30:00.000000000",
          "2024-04-08T17:45:00.000000000",
          "2024-04-08T18:00:00.000000000",
          "2024-04-08T18:15:00.000000000",
          "2024-04-08T18:30:00.000000000",
          "2024-04-08T18:45:00.000000000",
          "2024-04-08T19:00:00.000000000",
          "2024-04-08T19:15:00.000000000",
          "2024-04-08T19:30:00.000000000",
          "2024-04-08T19:45:00.000000000",
          "2024-04-08T20:00:00.000000000"
         ],
         "y": [
          0,
          0,
          1,
          0,
          1,
          1,
          0,
          0,
          0,
          0,
          0,
          0,
          0,
          0,
          2,
          28,
          17,
          2,
          1,
          2,
          2,
          0,
          21,
          3,
          0,
          0,
          1,
          1,
          4,
          14,
          9,
          0,
          0,
          0,
          2,
          0,
          0,
          0,
          0,
          0,
          1,
          0,
          0,
          10,
          1,
          0,
          0,
          0,
          0
         ]
        },
        {
         "mode": "lines+markers",
         "type": "scatter",
         "x": [
          "2024-04-08T08:00:00.000000000",
          "2024-04-08T08:15:00.000000000",
          "2024-04-08T08:30:00.000000000",
          "2024-04-08T08:45:00.000000000",
          "2024-04-08T09:00:00.000000000",
          "2024-04-08T09:15:00.000000000",
          "2024-04-08T09:30:00.000000000",
          "2024-04-08T09:45:00.000000000",
          "2024-04-08T10:00:00.000000000",
          "2024-04-08T10:15:00.000000000",
          "2024-04-08T10:30:00.000000000",
          "2024-04-08T10:45:00.000000000",
          "2024-04-08T11:00:00.000000000",
          "2024-04-08T11:15:00.000000000",
          "2024-04-08T11:30:00.000000000",
          "2024-04-08T11:45:00.000000000",
          "2024-04-08T12:00:00.000000000",
          "2024-04-08T12:15:00.000000000",
          "2024-04-08T12:30:00.000000000",
          "2024-04-08T12:45:00.000000000",
          "2024-04-08T13:00:00.000000000",
          "2024-04-08T13:15:00.000000000",
          "2024-04-08T13:30:00.000000000",
          "2024-04-08T13:45:00.000000000",
          "2024-04-08T14:00:00.000000000",
          "2024-04-08T14:15:00.000000000",
          "2024-04-08T14:30:00.000000000",
          "2024-04-08T14:45:00.000000000",
          "2024-04-08T15:00:00.000000000",
          "2024-04-08T15:15:00.000000000",
          "2024-04-08T15:30:00.000000000",
          "2024-04-08T15:45:00.000000000",
          "2024-04-08T16:00:00.000000000",
          "2024-04-08T16:15:00.000000000",
          "2024-04-08T16:30:00.000000000",
          "2024-04-08T16:45:00.000000000",
          "2024-04-08T17:00:00.000000000",
          "2024-04-08T17:15:00.000000000",
          "2024-04-08T17:30:00.000000000",
          "2024-04-08T17:45:00.000000000",
          "2024-04-08T18:00:00.000000000",
          "2024-04-08T18:15:00.000000000",
          "2024-04-08T18:30:00.000000000",
          "2024-04-08T18:45:00.000000000",
          "2024-04-08T19:00:00.000000000",
          "2024-04-08T19:15:00.000000000",
          "2024-04-08T19:30:00.000000000",
          "2024-04-08T19:45:00.000000000",
          "2024-04-08T20:00:00.000000000"
         ],
         "y": [
          0,
          0,
          0,
          0,
          0,
          0,
          0,
          1,
          0,
          0,
          0,
          0,
          0,
          0,
          8,
          26,
          11,
          2,
          0,
          0,
          0,
          2,
          13,
          5,
          0,
          0,
          0,
          0,
          0,
          20,
          2,
          0,
          1,
          0,
          0,
          0,
          5,
          0,
          0,
          0,
          0,
          0,
          0,
          0,
          0,
          0,
          0,
          1,
          0
         ]
        },
        {
         "mode": "lines+markers",
         "type": "scatter",
         "x": [
          "2024-04-08T08:00:00.000000000",
          "2024-04-08T08:15:00.000000000",
          "2024-04-08T08:30:00.000000000",
          "2024-04-08T08:45:00.000000000",
          "2024-04-08T09:00:00.000000000",
          "2024-04-08T09:15:00.000000000",
          "2024-04-08T09:30:00.000000000",
          "2024-04-08T09:45:00.000000000",
          "2024-04-08T10:00:00.000000000",
          "2024-04-08T10:15:00.000000000",
          "2024-04-08T10:30:00.000000000",
          "2024-04-08T10:45:00.000000000",
          "2024-04-08T11:00:00.000000000",
          "2024-04-08T11:15:00.000000000",
          "2024-04-08T11:30:00.000000000",
          "2024-04-08T11:45:00.000000000",
          "2024-04-08T12:00:00.000000000",
          "2024-04-08T12:15:00.000000000",
          "2024-04-08T12:30:00.000000000",
          "2024-04-08T12:45:00.000000000",
          "2024-04-08T13:00:00.000000000",
          "2024-04-08T13:15:00.000000000",
          "2024-04-08T13:30:00.000000000",
          "2024-04-08T13:45:00.000000000",
          "2024-04-08T14:00:00.000000000",
          "2024-04-08T14:15:00.000000000",
          "2024-04-08T14:30:00.000000000",
          "2024-04-08T14:45:00.000000000",
          "2024-04-08T15:00:00.000000000",
          "2024-04-08T15:15:00.000000000",
          "2024-04-08T15:30:00.000000000",
          "2024-04-08T15:45:00.000000000",
          "2024-04-08T16:00:00.000000000",
          "2024-04-08T16:15:00.000000000",
          "2024-04-08T16:30:00.000000000",
          "2024-04-08T16:45:00.000000000",
          "2024-04-08T17:00:00.000000000",
          "2024-04-08T17:15:00.000000000",
          "2024-04-08T17:30:00.000000000",
          "2024-04-08T17:45:00.000000000",
          "2024-04-08T18:00:00.000000000",
          "2024-04-08T18:15:00.000000000",
          "2024-04-08T18:30:00.000000000",
          "2024-04-08T18:45:00.000000000",
          "2024-04-08T19:00:00.000000000",
          "2024-04-08T19:15:00.000000000",
          "2024-04-08T19:30:00.000000000",
          "2024-04-08T19:45:00.000000000",
          "2024-04-08T20:00:00.000000000"
         ],
         "y": [
          0,
          0,
          0,
          0,
          0,
          0,
          0,
          0,
          0,
          0,
          0,
          0,
          0,
          0,
          2,
          30,
          8,
          0,
          0,
          0,
          2,
          0,
          9,
          6,
          0,
          0,
          1,
          0,
          0,
          15,
          2,
          0,
          0,
          0,
          0,
          0,
          4,
          0,
          0,
          0,
          0,
          0,
          0,
          0,
          0,
          0,
          1,
          0,
          0
         ]
        },
        {
         "mode": "lines+markers",
         "type": "scatter",
         "x": [
          "2024-04-08T08:00:00.000000000",
          "2024-04-08T08:15:00.000000000",
          "2024-04-08T08:30:00.000000000",
          "2024-04-08T08:45:00.000000000",
          "2024-04-08T09:00:00.000000000",
          "2024-04-08T09:15:00.000000000",
          "2024-04-08T09:30:00.000000000",
          "2024-04-08T09:45:00.000000000",
          "2024-04-08T10:00:00.000000000",
          "2024-04-08T10:15:00.000000000",
          "2024-04-08T10:30:00.000000000",
          "2024-04-08T10:45:00.000000000",
          "2024-04-08T11:00:00.000000000",
          "2024-04-08T11:15:00.000000000",
          "2024-04-08T11:30:00.000000000",
          "2024-04-08T11:45:00.000000000",
          "2024-04-08T12:00:00.000000000",
          "2024-04-08T12:15:00.000000000",
          "2024-04-08T12:30:00.000000000",
          "2024-04-08T12:45:00.000000000",
          "2024-04-08T13:00:00.000000000",
          "2024-04-08T13:15:00.000000000",
          "2024-04-08T13:30:00.000000000",
          "2024-04-08T13:45:00.000000000",
          "2024-04-08T14:00:00.000000000",
          "2024-04-08T14:15:00.000000000",
          "2024-04-08T14:30:00.000000000",
          "2024-04-08T14:45:00.000000000",
          "2024-04-08T15:00:00.000000000",
          "2024-04-08T15:15:00.000000000",
          "2024-04-08T15:30:00.000000000",
          "2024-04-08T15:45:00.000000000",
          "2024-04-08T16:00:00.000000000",
          "2024-04-08T16:15:00.000000000",
          "2024-04-08T16:30:00.000000000",
          "2024-04-08T16:45:00.000000000",
          "2024-04-08T17:00:00.000000000",
          "2024-04-08T17:15:00.000000000",
          "2024-04-08T17:30:00.000000000",
          "2024-04-08T17:45:00.000000000",
          "2024-04-08T18:00:00.000000000",
          "2024-04-08T18:15:00.000000000",
          "2024-04-08T18:30:00.000000000",
          "2024-04-08T18:45:00.000000000",
          "2024-04-08T19:00:00.000000000",
          "2024-04-08T19:15:00.000000000",
          "2024-04-08T19:30:00.000000000",
          "2024-04-08T19:45:00.000000000",
          "2024-04-08T20:00:00.000000000"
         ],
         "y": [
          0,
          0,
          0,
          0,
          0,
          0,
          0,
          0,
          0,
          0,
          0,
          0,
          0,
          0,
          2,
          29,
          4,
          6,
          0,
          0,
          0,
          0,
          12,
          5,
          0,
          0,
          0,
          0,
          1,
          9,
          8,
          1,
          0,
          0,
          0,
          2,
          3,
          1,
          0,
          0,
          4,
          1,
          0,
          0,
          0,
          0,
          0,
          0,
          1
         ]
        },
        {
         "mode": "lines+markers",
         "type": "scatter",
         "x": [
          "2024-04-08T08:00:00.000000000",
          "2024-04-08T08:15:00.000000000",
          "2024-04-08T08:30:00.000000000",
          "2024-04-08T08:45:00.000000000",
          "2024-04-08T09:00:00.000000000",
          "2024-04-08T09:15:00.000000000",
          "2024-04-08T09:30:00.000000000",
          "2024-04-08T09:45:00.000000000",
          "2024-04-08T10:00:00.000000000",
          "2024-04-08T10:15:00.000000000",
          "2024-04-08T10:30:00.000000000",
          "2024-04-08T10:45:00.000000000",
          "2024-04-08T11:00:00.000000000",
          "2024-04-08T11:15:00.000000000",
          "2024-04-08T11:30:00.000000000",
          "2024-04-08T11:45:00.000000000",
          "2024-04-08T12:00:00.000000000",
          "2024-04-08T12:15:00.000000000",
          "2024-04-08T12:30:00.000000000",
          "2024-04-08T12:45:00.000000000",
          "2024-04-08T13:00:00.000000000",
          "2024-04-08T13:15:00.000000000",
          "2024-04-08T13:30:00.000000000",
          "2024-04-08T13:45:00.000000000",
          "2024-04-08T14:00:00.000000000",
          "2024-04-08T14:15:00.000000000",
          "2024-04-08T14:30:00.000000000",
          "2024-04-08T14:45:00.000000000",
          "2024-04-08T15:00:00.000000000",
          "2024-04-08T15:15:00.000000000",
          "2024-04-08T15:30:00.000000000",
          "2024-04-08T15:45:00.000000000",
          "2024-04-08T16:00:00.000000000",
          "2024-04-08T16:15:00.000000000",
          "2024-04-08T16:30:00.000000000",
          "2024-04-08T16:45:00.000000000",
          "2024-04-08T17:00:00.000000000",
          "2024-04-08T17:15:00.000000000",
          "2024-04-08T17:30:00.000000000",
          "2024-04-08T17:45:00.000000000",
          "2024-04-08T18:00:00.000000000",
          "2024-04-08T18:15:00.000000000",
          "2024-04-08T18:30:00.000000000",
          "2024-04-08T18:45:00.000000000",
          "2024-04-08T19:00:00.000000000",
          "2024-04-08T19:15:00.000000000",
          "2024-04-08T19:30:00.000000000",
          "2024-04-08T19:45:00.000000000",
          "2024-04-08T20:00:00.000000000"
         ],
         "y": [
          0,
          0,
          0,
          0,
          0,
          0,
          0,
          0,
          0,
          0,
          0,
          0,
          0,
          0,
          3,
          22,
          8,
          2,
          0,
          0,
          2,
          0,
          1,
          0,
          0,
          0,
          0,
          2,
          1,
          16,
          0,
          0,
          0,
          0,
          0,
          0,
          8,
          3,
          0,
          0,
          0,
          0,
          0,
          0,
          0,
          0,
          0,
          0,
          0
         ]
        }
       ],
       "layout": {
        "template": {
         "data": {
          "bar": [
           {
            "error_x": {
             "color": "#2a3f5f"
            },
            "error_y": {
             "color": "#2a3f5f"
            },
            "marker": {
             "line": {
              "color": "#E5ECF6",
              "width": 0.5
             },
             "pattern": {
              "fillmode": "overlay",
              "size": 10,
              "solidity": 0.2
             }
            },
            "type": "bar"
           }
          ],
          "barpolar": [
           {
            "marker": {
             "line": {
              "color": "#E5ECF6",
              "width": 0.5
             },
             "pattern": {
              "fillmode": "overlay",
              "size": 10,
              "solidity": 0.2
             }
            },
            "type": "barpolar"
           }
          ],
          "carpet": [
           {
            "aaxis": {
             "endlinecolor": "#2a3f5f",
             "gridcolor": "white",
             "linecolor": "white",
             "minorgridcolor": "white",
             "startlinecolor": "#2a3f5f"
            },
            "baxis": {
             "endlinecolor": "#2a3f5f",
             "gridcolor": "white",
             "linecolor": "white",
             "minorgridcolor": "white",
             "startlinecolor": "#2a3f5f"
            },
            "type": "carpet"
           }
          ],
          "choropleth": [
           {
            "colorbar": {
             "outlinewidth": 0,
             "ticks": ""
            },
            "type": "choropleth"
           }
          ],
          "contour": [
           {
            "colorbar": {
             "outlinewidth": 0,
             "ticks": ""
            },
            "colorscale": [
             [
              0,
              "#0d0887"
             ],
             [
              0.1111111111111111,
              "#46039f"
             ],
             [
              0.2222222222222222,
              "#7201a8"
             ],
             [
              0.3333333333333333,
              "#9c179e"
             ],
             [
              0.4444444444444444,
              "#bd3786"
             ],
             [
              0.5555555555555556,
              "#d8576b"
             ],
             [
              0.6666666666666666,
              "#ed7953"
             ],
             [
              0.7777777777777778,
              "#fb9f3a"
             ],
             [
              0.8888888888888888,
              "#fdca26"
             ],
             [
              1,
              "#f0f921"
             ]
            ],
            "type": "contour"
           }
          ],
          "contourcarpet": [
           {
            "colorbar": {
             "outlinewidth": 0,
             "ticks": ""
            },
            "type": "contourcarpet"
           }
          ],
          "heatmap": [
           {
            "colorbar": {
             "outlinewidth": 0,
             "ticks": ""
            },
            "colorscale": [
             [
              0,
              "#0d0887"
             ],
             [
              0.1111111111111111,
              "#46039f"
             ],
             [
              0.2222222222222222,
              "#7201a8"
             ],
             [
              0.3333333333333333,
              "#9c179e"
             ],
             [
              0.4444444444444444,
              "#bd3786"
             ],
             [
              0.5555555555555556,
              "#d8576b"
             ],
             [
              0.6666666666666666,
              "#ed7953"
             ],
             [
              0.7777777777777778,
              "#fb9f3a"
             ],
             [
              0.8888888888888888,
              "#fdca26"
             ],
             [
              1,
              "#f0f921"
             ]
            ],
            "type": "heatmap"
           }
          ],
          "heatmapgl": [
           {
            "colorbar": {
             "outlinewidth": 0,
             "ticks": ""
            },
            "colorscale": [
             [
              0,
              "#0d0887"
             ],
             [
              0.1111111111111111,
              "#46039f"
             ],
             [
              0.2222222222222222,
              "#7201a8"
             ],
             [
              0.3333333333333333,
              "#9c179e"
             ],
             [
              0.4444444444444444,
              "#bd3786"
             ],
             [
              0.5555555555555556,
              "#d8576b"
             ],
             [
              0.6666666666666666,
              "#ed7953"
             ],
             [
              0.7777777777777778,
              "#fb9f3a"
             ],
             [
              0.8888888888888888,
              "#fdca26"
             ],
             [
              1,
              "#f0f921"
             ]
            ],
            "type": "heatmapgl"
           }
          ],
          "histogram": [
           {
            "marker": {
             "pattern": {
              "fillmode": "overlay",
              "size": 10,
              "solidity": 0.2
             }
            },
            "type": "histogram"
           }
          ],
          "histogram2d": [
           {
            "colorbar": {
             "outlinewidth": 0,
             "ticks": ""
            },
            "colorscale": [
             [
              0,
              "#0d0887"
             ],
             [
              0.1111111111111111,
              "#46039f"
             ],
             [
              0.2222222222222222,
              "#7201a8"
             ],
             [
              0.3333333333333333,
              "#9c179e"
             ],
             [
              0.4444444444444444,
              "#bd3786"
             ],
             [
              0.5555555555555556,
              "#d8576b"
             ],
             [
              0.6666666666666666,
              "#ed7953"
             ],
             [
              0.7777777777777778,
              "#fb9f3a"
             ],
             [
              0.8888888888888888,
              "#fdca26"
             ],
             [
              1,
              "#f0f921"
             ]
            ],
            "type": "histogram2d"
           }
          ],
          "histogram2dcontour": [
           {
            "colorbar": {
             "outlinewidth": 0,
             "ticks": ""
            },
            "colorscale": [
             [
              0,
              "#0d0887"
             ],
             [
              0.1111111111111111,
              "#46039f"
             ],
             [
              0.2222222222222222,
              "#7201a8"
             ],
             [
              0.3333333333333333,
              "#9c179e"
             ],
             [
              0.4444444444444444,
              "#bd3786"
             ],
             [
              0.5555555555555556,
              "#d8576b"
             ],
             [
              0.6666666666666666,
              "#ed7953"
             ],
             [
              0.7777777777777778,
              "#fb9f3a"
             ],
             [
              0.8888888888888888,
              "#fdca26"
             ],
             [
              1,
              "#f0f921"
             ]
            ],
            "type": "histogram2dcontour"
           }
          ],
          "mesh3d": [
           {
            "colorbar": {
             "outlinewidth": 0,
             "ticks": ""
            },
            "type": "mesh3d"
           }
          ],
          "parcoords": [
           {
            "line": {
             "colorbar": {
              "outlinewidth": 0,
              "ticks": ""
             }
            },
            "type": "parcoords"
           }
          ],
          "pie": [
           {
            "automargin": true,
            "type": "pie"
           }
          ],
          "scatter": [
           {
            "fillpattern": {
             "fillmode": "overlay",
             "size": 10,
             "solidity": 0.2
            },
            "type": "scatter"
           }
          ],
          "scatter3d": [
           {
            "line": {
             "colorbar": {
              "outlinewidth": 0,
              "ticks": ""
             }
            },
            "marker": {
             "colorbar": {
              "outlinewidth": 0,
              "ticks": ""
             }
            },
            "type": "scatter3d"
           }
          ],
          "scattercarpet": [
           {
            "marker": {
             "colorbar": {
              "outlinewidth": 0,
              "ticks": ""
             }
            },
            "type": "scattercarpet"
           }
          ],
          "scattergeo": [
           {
            "marker": {
             "colorbar": {
              "outlinewidth": 0,
              "ticks": ""
             }
            },
            "type": "scattergeo"
           }
          ],
          "scattergl": [
           {
            "marker": {
             "colorbar": {
              "outlinewidth": 0,
              "ticks": ""
             }
            },
            "type": "scattergl"
           }
          ],
          "scattermapbox": [
           {
            "marker": {
             "colorbar": {
              "outlinewidth": 0,
              "ticks": ""
             }
            },
            "type": "scattermapbox"
           }
          ],
          "scatterpolar": [
           {
            "marker": {
             "colorbar": {
              "outlinewidth": 0,
              "ticks": ""
             }
            },
            "type": "scatterpolar"
           }
          ],
          "scatterpolargl": [
           {
            "marker": {
             "colorbar": {
              "outlinewidth": 0,
              "ticks": ""
             }
            },
            "type": "scatterpolargl"
           }
          ],
          "scatterternary": [
           {
            "marker": {
             "colorbar": {
              "outlinewidth": 0,
              "ticks": ""
             }
            },
            "type": "scatterternary"
           }
          ],
          "surface": [
           {
            "colorbar": {
             "outlinewidth": 0,
             "ticks": ""
            },
            "colorscale": [
             [
              0,
              "#0d0887"
             ],
             [
              0.1111111111111111,
              "#46039f"
             ],
             [
              0.2222222222222222,
              "#7201a8"
             ],
             [
              0.3333333333333333,
              "#9c179e"
             ],
             [
              0.4444444444444444,
              "#bd3786"
             ],
             [
              0.5555555555555556,
              "#d8576b"
             ],
             [
              0.6666666666666666,
              "#ed7953"
             ],
             [
              0.7777777777777778,
              "#fb9f3a"
             ],
             [
              0.8888888888888888,
              "#fdca26"
             ],
             [
              1,
              "#f0f921"
             ]
            ],
            "type": "surface"
           }
          ],
          "table": [
           {
            "cells": {
             "fill": {
              "color": "#EBF0F8"
             },
             "line": {
              "color": "white"
             }
            },
            "header": {
             "fill": {
              "color": "#C8D4E3"
             },
             "line": {
              "color": "white"
             }
            },
            "type": "table"
           }
          ]
         },
         "layout": {
          "annotationdefaults": {
           "arrowcolor": "#2a3f5f",
           "arrowhead": 0,
           "arrowwidth": 1
          },
          "autotypenumbers": "strict",
          "coloraxis": {
           "colorbar": {
            "outlinewidth": 0,
            "ticks": ""
           }
          },
          "colorscale": {
           "diverging": [
            [
             0,
             "#8e0152"
            ],
            [
             0.1,
             "#c51b7d"
            ],
            [
             0.2,
             "#de77ae"
            ],
            [
             0.3,
             "#f1b6da"
            ],
            [
             0.4,
             "#fde0ef"
            ],
            [
             0.5,
             "#f7f7f7"
            ],
            [
             0.6,
             "#e6f5d0"
            ],
            [
             0.7,
             "#b8e186"
            ],
            [
             0.8,
             "#7fbc41"
            ],
            [
             0.9,
             "#4d9221"
            ],
            [
             1,
             "#276419"
            ]
           ],
           "sequential": [
            [
             0,
             "#0d0887"
            ],
            [
             0.1111111111111111,
             "#46039f"
            ],
            [
             0.2222222222222222,
             "#7201a8"
            ],
            [
             0.3333333333333333,
             "#9c179e"
            ],
            [
             0.4444444444444444,
             "#bd3786"
            ],
            [
             0.5555555555555556,
             "#d8576b"
            ],
            [
             0.6666666666666666,
             "#ed7953"
            ],
            [
             0.7777777777777778,
             "#fb9f3a"
            ],
            [
             0.8888888888888888,
             "#fdca26"
            ],
            [
             1,
             "#f0f921"
            ]
           ],
           "sequentialminus": [
            [
             0,
             "#0d0887"
            ],
            [
             0.1111111111111111,
             "#46039f"
            ],
            [
             0.2222222222222222,
             "#7201a8"
            ],
            [
             0.3333333333333333,
             "#9c179e"
            ],
            [
             0.4444444444444444,
             "#bd3786"
            ],
            [
             0.5555555555555556,
             "#d8576b"
            ],
            [
             0.6666666666666666,
             "#ed7953"
            ],
            [
             0.7777777777777778,
             "#fb9f3a"
            ],
            [
             0.8888888888888888,
             "#fdca26"
            ],
            [
             1,
             "#f0f921"
            ]
           ]
          },
          "colorway": [
           "#636efa",
           "#EF553B",
           "#00cc96",
           "#ab63fa",
           "#FFA15A",
           "#19d3f3",
           "#FF6692",
           "#B6E880",
           "#FF97FF",
           "#FECB52"
          ],
          "font": {
           "color": "#2a3f5f"
          },
          "geo": {
           "bgcolor": "white",
           "lakecolor": "white",
           "landcolor": "#E5ECF6",
           "showlakes": true,
           "showland": true,
           "subunitcolor": "white"
          },
          "hoverlabel": {
           "align": "left"
          },
          "hovermode": "closest",
          "mapbox": {
           "style": "light"
          },
          "paper_bgcolor": "white",
          "plot_bgcolor": "#E5ECF6",
          "polar": {
           "angularaxis": {
            "gridcolor": "white",
            "linecolor": "white",
            "ticks": ""
           },
           "bgcolor": "#E5ECF6",
           "radialaxis": {
            "gridcolor": "white",
            "linecolor": "white",
            "ticks": ""
           }
          },
          "scene": {
           "xaxis": {
            "backgroundcolor": "#E5ECF6",
            "gridcolor": "white",
            "gridwidth": 2,
            "linecolor": "white",
            "showbackground": true,
            "ticks": "",
            "zerolinecolor": "white"
           },
           "yaxis": {
            "backgroundcolor": "#E5ECF6",
            "gridcolor": "white",
            "gridwidth": 2,
            "linecolor": "white",
            "showbackground": true,
            "ticks": "",
            "zerolinecolor": "white"
           },
           "zaxis": {
            "backgroundcolor": "#E5ECF6",
            "gridcolor": "white",
            "gridwidth": 2,
            "linecolor": "white",
            "showbackground": true,
            "ticks": "",
            "zerolinecolor": "white"
           }
          },
          "shapedefaults": {
           "line": {
            "color": "#2a3f5f"
           }
          },
          "ternary": {
           "aaxis": {
            "gridcolor": "white",
            "linecolor": "white",
            "ticks": ""
           },
           "baxis": {
            "gridcolor": "white",
            "linecolor": "white",
            "ticks": ""
           },
           "bgcolor": "#E5ECF6",
           "caxis": {
            "gridcolor": "white",
            "linecolor": "white",
            "ticks": ""
           }
          },
          "title": {
           "x": 0.05
          },
          "xaxis": {
           "automargin": true,
           "gridcolor": "white",
           "linecolor": "white",
           "ticks": "",
           "title": {
            "standoff": 15
           },
           "zerolinecolor": "white",
           "zerolinewidth": 2
          },
          "yaxis": {
           "automargin": true,
           "gridcolor": "white",
           "linecolor": "white",
           "ticks": "",
           "title": {
            "standoff": 15
           },
           "zerolinecolor": "white",
           "zerolinewidth": 2
          }
         }
        }
       }
      }
     },
     "metadata": {},
     "output_type": "display_data"
    },
    {
     "name": "stdout",
     "output_type": "stream",
     "text": [
      "################ 10 ################\n",
      "[3]\n"
     ]
    },
    {
     "data": {
      "application/vnd.plotly.v1+json": {
       "config": {
        "plotlyServerURL": "https://plot.ly"
       },
       "data": [
        {
         "mode": "lines+markers",
         "type": "scatter",
         "x": [
          "2024-04-08T08:00:00.000000000",
          "2024-04-08T08:15:00.000000000",
          "2024-04-08T08:30:00.000000000",
          "2024-04-08T08:45:00.000000000",
          "2024-04-08T09:00:00.000000000",
          "2024-04-08T09:15:00.000000000",
          "2024-04-08T09:30:00.000000000",
          "2024-04-08T09:45:00.000000000",
          "2024-04-08T10:00:00.000000000",
          "2024-04-08T10:15:00.000000000",
          "2024-04-08T10:30:00.000000000",
          "2024-04-08T10:45:00.000000000",
          "2024-04-08T11:00:00.000000000",
          "2024-04-08T11:15:00.000000000",
          "2024-04-08T11:30:00.000000000",
          "2024-04-08T11:45:00.000000000",
          "2024-04-08T12:00:00.000000000",
          "2024-04-08T12:15:00.000000000",
          "2024-04-08T12:30:00.000000000",
          "2024-04-08T12:45:00.000000000",
          "2024-04-08T13:00:00.000000000",
          "2024-04-08T13:15:00.000000000",
          "2024-04-08T13:30:00.000000000",
          "2024-04-08T13:45:00.000000000",
          "2024-04-08T14:00:00.000000000",
          "2024-04-08T14:15:00.000000000",
          "2024-04-08T14:30:00.000000000",
          "2024-04-08T14:45:00.000000000",
          "2024-04-08T15:00:00.000000000",
          "2024-04-08T15:15:00.000000000",
          "2024-04-08T15:30:00.000000000",
          "2024-04-08T15:45:00.000000000",
          "2024-04-08T16:00:00.000000000",
          "2024-04-08T16:15:00.000000000",
          "2024-04-08T16:30:00.000000000",
          "2024-04-08T16:45:00.000000000",
          "2024-04-08T17:00:00.000000000",
          "2024-04-08T17:15:00.000000000",
          "2024-04-08T17:30:00.000000000",
          "2024-04-08T17:45:00.000000000",
          "2024-04-08T18:00:00.000000000",
          "2024-04-08T18:15:00.000000000",
          "2024-04-08T18:30:00.000000000",
          "2024-04-08T18:45:00.000000000",
          "2024-04-08T19:00:00.000000000",
          "2024-04-08T19:15:00.000000000",
          "2024-04-08T19:30:00.000000000",
          "2024-04-08T19:45:00.000000000",
          "2024-04-08T20:00:00.000000000"
         ],
         "y": [
          13,
          18,
          9,
          0,
          0,
          1,
          1,
          0,
          29,
          8,
          1,
          0,
          1,
          2,
          2,
          0,
          1,
          0,
          0,
          0,
          0,
          0,
          16,
          1,
          0,
          0,
          0,
          0,
          5,
          51,
          16,
          0,
          0,
          2,
          1,
          0,
          38,
          11,
          0,
          1,
          0,
          3,
          0,
          0,
          0,
          0,
          0,
          1,
          0
         ]
        }
       ],
       "layout": {
        "template": {
         "data": {
          "bar": [
           {
            "error_x": {
             "color": "#2a3f5f"
            },
            "error_y": {
             "color": "#2a3f5f"
            },
            "marker": {
             "line": {
              "color": "#E5ECF6",
              "width": 0.5
             },
             "pattern": {
              "fillmode": "overlay",
              "size": 10,
              "solidity": 0.2
             }
            },
            "type": "bar"
           }
          ],
          "barpolar": [
           {
            "marker": {
             "line": {
              "color": "#E5ECF6",
              "width": 0.5
             },
             "pattern": {
              "fillmode": "overlay",
              "size": 10,
              "solidity": 0.2
             }
            },
            "type": "barpolar"
           }
          ],
          "carpet": [
           {
            "aaxis": {
             "endlinecolor": "#2a3f5f",
             "gridcolor": "white",
             "linecolor": "white",
             "minorgridcolor": "white",
             "startlinecolor": "#2a3f5f"
            },
            "baxis": {
             "endlinecolor": "#2a3f5f",
             "gridcolor": "white",
             "linecolor": "white",
             "minorgridcolor": "white",
             "startlinecolor": "#2a3f5f"
            },
            "type": "carpet"
           }
          ],
          "choropleth": [
           {
            "colorbar": {
             "outlinewidth": 0,
             "ticks": ""
            },
            "type": "choropleth"
           }
          ],
          "contour": [
           {
            "colorbar": {
             "outlinewidth": 0,
             "ticks": ""
            },
            "colorscale": [
             [
              0,
              "#0d0887"
             ],
             [
              0.1111111111111111,
              "#46039f"
             ],
             [
              0.2222222222222222,
              "#7201a8"
             ],
             [
              0.3333333333333333,
              "#9c179e"
             ],
             [
              0.4444444444444444,
              "#bd3786"
             ],
             [
              0.5555555555555556,
              "#d8576b"
             ],
             [
              0.6666666666666666,
              "#ed7953"
             ],
             [
              0.7777777777777778,
              "#fb9f3a"
             ],
             [
              0.8888888888888888,
              "#fdca26"
             ],
             [
              1,
              "#f0f921"
             ]
            ],
            "type": "contour"
           }
          ],
          "contourcarpet": [
           {
            "colorbar": {
             "outlinewidth": 0,
             "ticks": ""
            },
            "type": "contourcarpet"
           }
          ],
          "heatmap": [
           {
            "colorbar": {
             "outlinewidth": 0,
             "ticks": ""
            },
            "colorscale": [
             [
              0,
              "#0d0887"
             ],
             [
              0.1111111111111111,
              "#46039f"
             ],
             [
              0.2222222222222222,
              "#7201a8"
             ],
             [
              0.3333333333333333,
              "#9c179e"
             ],
             [
              0.4444444444444444,
              "#bd3786"
             ],
             [
              0.5555555555555556,
              "#d8576b"
             ],
             [
              0.6666666666666666,
              "#ed7953"
             ],
             [
              0.7777777777777778,
              "#fb9f3a"
             ],
             [
              0.8888888888888888,
              "#fdca26"
             ],
             [
              1,
              "#f0f921"
             ]
            ],
            "type": "heatmap"
           }
          ],
          "heatmapgl": [
           {
            "colorbar": {
             "outlinewidth": 0,
             "ticks": ""
            },
            "colorscale": [
             [
              0,
              "#0d0887"
             ],
             [
              0.1111111111111111,
              "#46039f"
             ],
             [
              0.2222222222222222,
              "#7201a8"
             ],
             [
              0.3333333333333333,
              "#9c179e"
             ],
             [
              0.4444444444444444,
              "#bd3786"
             ],
             [
              0.5555555555555556,
              "#d8576b"
             ],
             [
              0.6666666666666666,
              "#ed7953"
             ],
             [
              0.7777777777777778,
              "#fb9f3a"
             ],
             [
              0.8888888888888888,
              "#fdca26"
             ],
             [
              1,
              "#f0f921"
             ]
            ],
            "type": "heatmapgl"
           }
          ],
          "histogram": [
           {
            "marker": {
             "pattern": {
              "fillmode": "overlay",
              "size": 10,
              "solidity": 0.2
             }
            },
            "type": "histogram"
           }
          ],
          "histogram2d": [
           {
            "colorbar": {
             "outlinewidth": 0,
             "ticks": ""
            },
            "colorscale": [
             [
              0,
              "#0d0887"
             ],
             [
              0.1111111111111111,
              "#46039f"
             ],
             [
              0.2222222222222222,
              "#7201a8"
             ],
             [
              0.3333333333333333,
              "#9c179e"
             ],
             [
              0.4444444444444444,
              "#bd3786"
             ],
             [
              0.5555555555555556,
              "#d8576b"
             ],
             [
              0.6666666666666666,
              "#ed7953"
             ],
             [
              0.7777777777777778,
              "#fb9f3a"
             ],
             [
              0.8888888888888888,
              "#fdca26"
             ],
             [
              1,
              "#f0f921"
             ]
            ],
            "type": "histogram2d"
           }
          ],
          "histogram2dcontour": [
           {
            "colorbar": {
             "outlinewidth": 0,
             "ticks": ""
            },
            "colorscale": [
             [
              0,
              "#0d0887"
             ],
             [
              0.1111111111111111,
              "#46039f"
             ],
             [
              0.2222222222222222,
              "#7201a8"
             ],
             [
              0.3333333333333333,
              "#9c179e"
             ],
             [
              0.4444444444444444,
              "#bd3786"
             ],
             [
              0.5555555555555556,
              "#d8576b"
             ],
             [
              0.6666666666666666,
              "#ed7953"
             ],
             [
              0.7777777777777778,
              "#fb9f3a"
             ],
             [
              0.8888888888888888,
              "#fdca26"
             ],
             [
              1,
              "#f0f921"
             ]
            ],
            "type": "histogram2dcontour"
           }
          ],
          "mesh3d": [
           {
            "colorbar": {
             "outlinewidth": 0,
             "ticks": ""
            },
            "type": "mesh3d"
           }
          ],
          "parcoords": [
           {
            "line": {
             "colorbar": {
              "outlinewidth": 0,
              "ticks": ""
             }
            },
            "type": "parcoords"
           }
          ],
          "pie": [
           {
            "automargin": true,
            "type": "pie"
           }
          ],
          "scatter": [
           {
            "fillpattern": {
             "fillmode": "overlay",
             "size": 10,
             "solidity": 0.2
            },
            "type": "scatter"
           }
          ],
          "scatter3d": [
           {
            "line": {
             "colorbar": {
              "outlinewidth": 0,
              "ticks": ""
             }
            },
            "marker": {
             "colorbar": {
              "outlinewidth": 0,
              "ticks": ""
             }
            },
            "type": "scatter3d"
           }
          ],
          "scattercarpet": [
           {
            "marker": {
             "colorbar": {
              "outlinewidth": 0,
              "ticks": ""
             }
            },
            "type": "scattercarpet"
           }
          ],
          "scattergeo": [
           {
            "marker": {
             "colorbar": {
              "outlinewidth": 0,
              "ticks": ""
             }
            },
            "type": "scattergeo"
           }
          ],
          "scattergl": [
           {
            "marker": {
             "colorbar": {
              "outlinewidth": 0,
              "ticks": ""
             }
            },
            "type": "scattergl"
           }
          ],
          "scattermapbox": [
           {
            "marker": {
             "colorbar": {
              "outlinewidth": 0,
              "ticks": ""
             }
            },
            "type": "scattermapbox"
           }
          ],
          "scatterpolar": [
           {
            "marker": {
             "colorbar": {
              "outlinewidth": 0,
              "ticks": ""
             }
            },
            "type": "scatterpolar"
           }
          ],
          "scatterpolargl": [
           {
            "marker": {
             "colorbar": {
              "outlinewidth": 0,
              "ticks": ""
             }
            },
            "type": "scatterpolargl"
           }
          ],
          "scatterternary": [
           {
            "marker": {
             "colorbar": {
              "outlinewidth": 0,
              "ticks": ""
             }
            },
            "type": "scatterternary"
           }
          ],
          "surface": [
           {
            "colorbar": {
             "outlinewidth": 0,
             "ticks": ""
            },
            "colorscale": [
             [
              0,
              "#0d0887"
             ],
             [
              0.1111111111111111,
              "#46039f"
             ],
             [
              0.2222222222222222,
              "#7201a8"
             ],
             [
              0.3333333333333333,
              "#9c179e"
             ],
             [
              0.4444444444444444,
              "#bd3786"
             ],
             [
              0.5555555555555556,
              "#d8576b"
             ],
             [
              0.6666666666666666,
              "#ed7953"
             ],
             [
              0.7777777777777778,
              "#fb9f3a"
             ],
             [
              0.8888888888888888,
              "#fdca26"
             ],
             [
              1,
              "#f0f921"
             ]
            ],
            "type": "surface"
           }
          ],
          "table": [
           {
            "cells": {
             "fill": {
              "color": "#EBF0F8"
             },
             "line": {
              "color": "white"
             }
            },
            "header": {
             "fill": {
              "color": "#C8D4E3"
             },
             "line": {
              "color": "white"
             }
            },
            "type": "table"
           }
          ]
         },
         "layout": {
          "annotationdefaults": {
           "arrowcolor": "#2a3f5f",
           "arrowhead": 0,
           "arrowwidth": 1
          },
          "autotypenumbers": "strict",
          "coloraxis": {
           "colorbar": {
            "outlinewidth": 0,
            "ticks": ""
           }
          },
          "colorscale": {
           "diverging": [
            [
             0,
             "#8e0152"
            ],
            [
             0.1,
             "#c51b7d"
            ],
            [
             0.2,
             "#de77ae"
            ],
            [
             0.3,
             "#f1b6da"
            ],
            [
             0.4,
             "#fde0ef"
            ],
            [
             0.5,
             "#f7f7f7"
            ],
            [
             0.6,
             "#e6f5d0"
            ],
            [
             0.7,
             "#b8e186"
            ],
            [
             0.8,
             "#7fbc41"
            ],
            [
             0.9,
             "#4d9221"
            ],
            [
             1,
             "#276419"
            ]
           ],
           "sequential": [
            [
             0,
             "#0d0887"
            ],
            [
             0.1111111111111111,
             "#46039f"
            ],
            [
             0.2222222222222222,
             "#7201a8"
            ],
            [
             0.3333333333333333,
             "#9c179e"
            ],
            [
             0.4444444444444444,
             "#bd3786"
            ],
            [
             0.5555555555555556,
             "#d8576b"
            ],
            [
             0.6666666666666666,
             "#ed7953"
            ],
            [
             0.7777777777777778,
             "#fb9f3a"
            ],
            [
             0.8888888888888888,
             "#fdca26"
            ],
            [
             1,
             "#f0f921"
            ]
           ],
           "sequentialminus": [
            [
             0,
             "#0d0887"
            ],
            [
             0.1111111111111111,
             "#46039f"
            ],
            [
             0.2222222222222222,
             "#7201a8"
            ],
            [
             0.3333333333333333,
             "#9c179e"
            ],
            [
             0.4444444444444444,
             "#bd3786"
            ],
            [
             0.5555555555555556,
             "#d8576b"
            ],
            [
             0.6666666666666666,
             "#ed7953"
            ],
            [
             0.7777777777777778,
             "#fb9f3a"
            ],
            [
             0.8888888888888888,
             "#fdca26"
            ],
            [
             1,
             "#f0f921"
            ]
           ]
          },
          "colorway": [
           "#636efa",
           "#EF553B",
           "#00cc96",
           "#ab63fa",
           "#FFA15A",
           "#19d3f3",
           "#FF6692",
           "#B6E880",
           "#FF97FF",
           "#FECB52"
          ],
          "font": {
           "color": "#2a3f5f"
          },
          "geo": {
           "bgcolor": "white",
           "lakecolor": "white",
           "landcolor": "#E5ECF6",
           "showlakes": true,
           "showland": true,
           "subunitcolor": "white"
          },
          "hoverlabel": {
           "align": "left"
          },
          "hovermode": "closest",
          "mapbox": {
           "style": "light"
          },
          "paper_bgcolor": "white",
          "plot_bgcolor": "#E5ECF6",
          "polar": {
           "angularaxis": {
            "gridcolor": "white",
            "linecolor": "white",
            "ticks": ""
           },
           "bgcolor": "#E5ECF6",
           "radialaxis": {
            "gridcolor": "white",
            "linecolor": "white",
            "ticks": ""
           }
          },
          "scene": {
           "xaxis": {
            "backgroundcolor": "#E5ECF6",
            "gridcolor": "white",
            "gridwidth": 2,
            "linecolor": "white",
            "showbackground": true,
            "ticks": "",
            "zerolinecolor": "white"
           },
           "yaxis": {
            "backgroundcolor": "#E5ECF6",
            "gridcolor": "white",
            "gridwidth": 2,
            "linecolor": "white",
            "showbackground": true,
            "ticks": "",
            "zerolinecolor": "white"
           },
           "zaxis": {
            "backgroundcolor": "#E5ECF6",
            "gridcolor": "white",
            "gridwidth": 2,
            "linecolor": "white",
            "showbackground": true,
            "ticks": "",
            "zerolinecolor": "white"
           }
          },
          "shapedefaults": {
           "line": {
            "color": "#2a3f5f"
           }
          },
          "ternary": {
           "aaxis": {
            "gridcolor": "white",
            "linecolor": "white",
            "ticks": ""
           },
           "baxis": {
            "gridcolor": "white",
            "linecolor": "white",
            "ticks": ""
           },
           "bgcolor": "#E5ECF6",
           "caxis": {
            "gridcolor": "white",
            "linecolor": "white",
            "ticks": ""
           }
          },
          "title": {
           "x": 0.05
          },
          "xaxis": {
           "automargin": true,
           "gridcolor": "white",
           "linecolor": "white",
           "ticks": "",
           "title": {
            "standoff": 15
           },
           "zerolinecolor": "white",
           "zerolinewidth": 2
          },
          "yaxis": {
           "automargin": true,
           "gridcolor": "white",
           "linecolor": "white",
           "ticks": "",
           "title": {
            "standoff": 15
           },
           "zerolinecolor": "white",
           "zerolinewidth": 2
          }
         }
        }
       }
      }
     },
     "metadata": {},
     "output_type": "display_data"
    },
    {
     "name": "stdout",
     "output_type": "stream",
     "text": [
      "################ 11 ################\n",
      "[ 1 15 36 71]\n"
     ]
    },
    {
     "data": {
      "application/vnd.plotly.v1+json": {
       "config": {
        "plotlyServerURL": "https://plot.ly"
       },
       "data": [
        {
         "mode": "lines+markers",
         "type": "scatter",
         "x": [
          "2024-04-08T08:00:00.000000000",
          "2024-04-08T08:15:00.000000000",
          "2024-04-08T08:30:00.000000000",
          "2024-04-08T08:45:00.000000000",
          "2024-04-08T09:00:00.000000000",
          "2024-04-08T09:15:00.000000000",
          "2024-04-08T09:30:00.000000000",
          "2024-04-08T09:45:00.000000000",
          "2024-04-08T10:00:00.000000000",
          "2024-04-08T10:15:00.000000000",
          "2024-04-08T10:30:00.000000000",
          "2024-04-08T10:45:00.000000000",
          "2024-04-08T11:00:00.000000000",
          "2024-04-08T11:15:00.000000000",
          "2024-04-08T11:30:00.000000000",
          "2024-04-08T11:45:00.000000000",
          "2024-04-08T12:00:00.000000000",
          "2024-04-08T12:15:00.000000000",
          "2024-04-08T12:30:00.000000000",
          "2024-04-08T12:45:00.000000000",
          "2024-04-08T13:00:00.000000000",
          "2024-04-08T13:15:00.000000000",
          "2024-04-08T13:30:00.000000000",
          "2024-04-08T13:45:00.000000000",
          "2024-04-08T14:00:00.000000000",
          "2024-04-08T14:15:00.000000000",
          "2024-04-08T14:30:00.000000000",
          "2024-04-08T14:45:00.000000000",
          "2024-04-08T15:00:00.000000000",
          "2024-04-08T15:15:00.000000000",
          "2024-04-08T15:30:00.000000000",
          "2024-04-08T15:45:00.000000000",
          "2024-04-08T16:00:00.000000000",
          "2024-04-08T16:15:00.000000000",
          "2024-04-08T16:30:00.000000000",
          "2024-04-08T16:45:00.000000000",
          "2024-04-08T17:00:00.000000000",
          "2024-04-08T17:15:00.000000000",
          "2024-04-08T17:30:00.000000000",
          "2024-04-08T17:45:00.000000000",
          "2024-04-08T18:00:00.000000000",
          "2024-04-08T18:15:00.000000000",
          "2024-04-08T18:30:00.000000000",
          "2024-04-08T18:45:00.000000000",
          "2024-04-08T19:00:00.000000000",
          "2024-04-08T19:15:00.000000000",
          "2024-04-08T19:30:00.000000000",
          "2024-04-08T19:45:00.000000000",
          "2024-04-08T20:00:00.000000000"
         ],
         "y": [
          2,
          18,
          15,
          1,
          1,
          0,
          0,
          1,
          52,
          10,
          1,
          1,
          2,
          1,
          9,
          39,
          11,
          3,
          3,
          0,
          1,
          6,
          20,
          10,
          1,
          2,
          0,
          0,
          1,
          15,
          2,
          0,
          0,
          2,
          2,
          0,
          0,
          0,
          0,
          0,
          0,
          0,
          0,
          0,
          0,
          0,
          0,
          1,
          0
         ]
        },
        {
         "mode": "lines+markers",
         "type": "scatter",
         "x": [
          "2024-04-08T08:00:00.000000000",
          "2024-04-08T08:15:00.000000000",
          "2024-04-08T08:30:00.000000000",
          "2024-04-08T08:45:00.000000000",
          "2024-04-08T09:00:00.000000000",
          "2024-04-08T09:15:00.000000000",
          "2024-04-08T09:30:00.000000000",
          "2024-04-08T09:45:00.000000000",
          "2024-04-08T10:00:00.000000000",
          "2024-04-08T10:15:00.000000000",
          "2024-04-08T10:30:00.000000000",
          "2024-04-08T10:45:00.000000000",
          "2024-04-08T11:00:00.000000000",
          "2024-04-08T11:15:00.000000000",
          "2024-04-08T11:30:00.000000000",
          "2024-04-08T11:45:00.000000000",
          "2024-04-08T12:00:00.000000000",
          "2024-04-08T12:15:00.000000000",
          "2024-04-08T12:30:00.000000000",
          "2024-04-08T12:45:00.000000000",
          "2024-04-08T13:00:00.000000000",
          "2024-04-08T13:15:00.000000000",
          "2024-04-08T13:30:00.000000000",
          "2024-04-08T13:45:00.000000000",
          "2024-04-08T14:00:00.000000000",
          "2024-04-08T14:15:00.000000000",
          "2024-04-08T14:30:00.000000000",
          "2024-04-08T14:45:00.000000000",
          "2024-04-08T15:00:00.000000000",
          "2024-04-08T15:15:00.000000000",
          "2024-04-08T15:30:00.000000000",
          "2024-04-08T15:45:00.000000000",
          "2024-04-08T16:00:00.000000000",
          "2024-04-08T16:15:00.000000000",
          "2024-04-08T16:30:00.000000000",
          "2024-04-08T16:45:00.000000000",
          "2024-04-08T17:00:00.000000000",
          "2024-04-08T17:15:00.000000000",
          "2024-04-08T17:30:00.000000000",
          "2024-04-08T17:45:00.000000000",
          "2024-04-08T18:00:00.000000000",
          "2024-04-08T18:15:00.000000000",
          "2024-04-08T18:30:00.000000000",
          "2024-04-08T18:45:00.000000000",
          "2024-04-08T19:00:00.000000000",
          "2024-04-08T19:15:00.000000000",
          "2024-04-08T19:30:00.000000000",
          "2024-04-08T19:45:00.000000000",
          "2024-04-08T20:00:00.000000000"
         ],
         "y": [
          7,
          21,
          14,
          1,
          0,
          1,
          0,
          0,
          38,
          7,
          0,
          0,
          0,
          2,
          0,
          38,
          4,
          2,
          3,
          0,
          0,
          0,
          17,
          7,
          0,
          1,
          3,
          0,
          0,
          15,
          1,
          0,
          0,
          0,
          0,
          0,
          0,
          0,
          0,
          0,
          0,
          0,
          0,
          0,
          0,
          0,
          0,
          1,
          0
         ]
        },
        {
         "mode": "lines+markers",
         "type": "scatter",
         "x": [
          "2024-04-08T08:00:00.000000000",
          "2024-04-08T08:15:00.000000000",
          "2024-04-08T08:30:00.000000000",
          "2024-04-08T08:45:00.000000000",
          "2024-04-08T09:00:00.000000000",
          "2024-04-08T09:15:00.000000000",
          "2024-04-08T09:30:00.000000000",
          "2024-04-08T09:45:00.000000000",
          "2024-04-08T10:00:00.000000000",
          "2024-04-08T10:15:00.000000000",
          "2024-04-08T10:30:00.000000000",
          "2024-04-08T10:45:00.000000000",
          "2024-04-08T11:00:00.000000000",
          "2024-04-08T11:15:00.000000000",
          "2024-04-08T11:30:00.000000000",
          "2024-04-08T11:45:00.000000000",
          "2024-04-08T12:00:00.000000000",
          "2024-04-08T12:15:00.000000000",
          "2024-04-08T12:30:00.000000000",
          "2024-04-08T12:45:00.000000000",
          "2024-04-08T13:00:00.000000000",
          "2024-04-08T13:15:00.000000000",
          "2024-04-08T13:30:00.000000000",
          "2024-04-08T13:45:00.000000000",
          "2024-04-08T14:00:00.000000000",
          "2024-04-08T14:15:00.000000000",
          "2024-04-08T14:30:00.000000000",
          "2024-04-08T14:45:00.000000000",
          "2024-04-08T15:00:00.000000000",
          "2024-04-08T15:15:00.000000000",
          "2024-04-08T15:30:00.000000000",
          "2024-04-08T15:45:00.000000000",
          "2024-04-08T16:00:00.000000000",
          "2024-04-08T16:15:00.000000000",
          "2024-04-08T16:30:00.000000000",
          "2024-04-08T16:45:00.000000000",
          "2024-04-08T17:00:00.000000000",
          "2024-04-08T17:15:00.000000000",
          "2024-04-08T17:30:00.000000000",
          "2024-04-08T17:45:00.000000000",
          "2024-04-08T18:00:00.000000000",
          "2024-04-08T18:15:00.000000000",
          "2024-04-08T18:30:00.000000000",
          "2024-04-08T18:45:00.000000000",
          "2024-04-08T19:00:00.000000000",
          "2024-04-08T19:15:00.000000000",
          "2024-04-08T19:30:00.000000000",
          "2024-04-08T19:45:00.000000000",
          "2024-04-08T20:00:00.000000000"
         ],
         "y": [
          3,
          29,
          9,
          5,
          4,
          0,
          0,
          0,
          34,
          9,
          2,
          0,
          1,
          2,
          0,
          20,
          11,
          0,
          0,
          1,
          0,
          1,
          7,
          3,
          0,
          0,
          0,
          0,
          4,
          9,
          8,
          1,
          0,
          0,
          0,
          2,
          0,
          0,
          0,
          0,
          0,
          0,
          0,
          0,
          0,
          0,
          0,
          0,
          0
         ]
        },
        {
         "mode": "lines+markers",
         "type": "scatter",
         "x": [
          "2024-04-08T08:00:00.000000000",
          "2024-04-08T08:15:00.000000000",
          "2024-04-08T08:30:00.000000000",
          "2024-04-08T08:45:00.000000000",
          "2024-04-08T09:00:00.000000000",
          "2024-04-08T09:15:00.000000000",
          "2024-04-08T09:30:00.000000000",
          "2024-04-08T09:45:00.000000000",
          "2024-04-08T10:00:00.000000000",
          "2024-04-08T10:15:00.000000000",
          "2024-04-08T10:30:00.000000000",
          "2024-04-08T10:45:00.000000000",
          "2024-04-08T11:00:00.000000000",
          "2024-04-08T11:15:00.000000000",
          "2024-04-08T11:30:00.000000000",
          "2024-04-08T11:45:00.000000000",
          "2024-04-08T12:00:00.000000000",
          "2024-04-08T12:15:00.000000000",
          "2024-04-08T12:30:00.000000000",
          "2024-04-08T12:45:00.000000000",
          "2024-04-08T13:00:00.000000000",
          "2024-04-08T13:15:00.000000000",
          "2024-04-08T13:30:00.000000000",
          "2024-04-08T13:45:00.000000000",
          "2024-04-08T14:00:00.000000000",
          "2024-04-08T14:15:00.000000000",
          "2024-04-08T14:30:00.000000000",
          "2024-04-08T14:45:00.000000000",
          "2024-04-08T15:00:00.000000000",
          "2024-04-08T15:15:00.000000000",
          "2024-04-08T15:30:00.000000000",
          "2024-04-08T15:45:00.000000000",
          "2024-04-08T16:00:00.000000000",
          "2024-04-08T16:15:00.000000000",
          "2024-04-08T16:30:00.000000000",
          "2024-04-08T16:45:00.000000000",
          "2024-04-08T17:00:00.000000000",
          "2024-04-08T17:15:00.000000000",
          "2024-04-08T17:30:00.000000000",
          "2024-04-08T17:45:00.000000000",
          "2024-04-08T18:00:00.000000000",
          "2024-04-08T18:15:00.000000000",
          "2024-04-08T18:30:00.000000000",
          "2024-04-08T18:45:00.000000000",
          "2024-04-08T19:00:00.000000000",
          "2024-04-08T19:15:00.000000000",
          "2024-04-08T19:30:00.000000000",
          "2024-04-08T19:45:00.000000000",
          "2024-04-08T20:00:00.000000000"
         ],
         "y": [
          5,
          19,
          14,
          9,
          1,
          1,
          0,
          2,
          31,
          7,
          0,
          1,
          0,
          0,
          9,
          15,
          6,
          1,
          0,
          0,
          0,
          0,
          7,
          3,
          0,
          0,
          0,
          0,
          0,
          10,
          8,
          0,
          0,
          0,
          0,
          0,
          0,
          0,
          0,
          0,
          0,
          0,
          0,
          0,
          0,
          0,
          0,
          0,
          0
         ]
        }
       ],
       "layout": {
        "template": {
         "data": {
          "bar": [
           {
            "error_x": {
             "color": "#2a3f5f"
            },
            "error_y": {
             "color": "#2a3f5f"
            },
            "marker": {
             "line": {
              "color": "#E5ECF6",
              "width": 0.5
             },
             "pattern": {
              "fillmode": "overlay",
              "size": 10,
              "solidity": 0.2
             }
            },
            "type": "bar"
           }
          ],
          "barpolar": [
           {
            "marker": {
             "line": {
              "color": "#E5ECF6",
              "width": 0.5
             },
             "pattern": {
              "fillmode": "overlay",
              "size": 10,
              "solidity": 0.2
             }
            },
            "type": "barpolar"
           }
          ],
          "carpet": [
           {
            "aaxis": {
             "endlinecolor": "#2a3f5f",
             "gridcolor": "white",
             "linecolor": "white",
             "minorgridcolor": "white",
             "startlinecolor": "#2a3f5f"
            },
            "baxis": {
             "endlinecolor": "#2a3f5f",
             "gridcolor": "white",
             "linecolor": "white",
             "minorgridcolor": "white",
             "startlinecolor": "#2a3f5f"
            },
            "type": "carpet"
           }
          ],
          "choropleth": [
           {
            "colorbar": {
             "outlinewidth": 0,
             "ticks": ""
            },
            "type": "choropleth"
           }
          ],
          "contour": [
           {
            "colorbar": {
             "outlinewidth": 0,
             "ticks": ""
            },
            "colorscale": [
             [
              0,
              "#0d0887"
             ],
             [
              0.1111111111111111,
              "#46039f"
             ],
             [
              0.2222222222222222,
              "#7201a8"
             ],
             [
              0.3333333333333333,
              "#9c179e"
             ],
             [
              0.4444444444444444,
              "#bd3786"
             ],
             [
              0.5555555555555556,
              "#d8576b"
             ],
             [
              0.6666666666666666,
              "#ed7953"
             ],
             [
              0.7777777777777778,
              "#fb9f3a"
             ],
             [
              0.8888888888888888,
              "#fdca26"
             ],
             [
              1,
              "#f0f921"
             ]
            ],
            "type": "contour"
           }
          ],
          "contourcarpet": [
           {
            "colorbar": {
             "outlinewidth": 0,
             "ticks": ""
            },
            "type": "contourcarpet"
           }
          ],
          "heatmap": [
           {
            "colorbar": {
             "outlinewidth": 0,
             "ticks": ""
            },
            "colorscale": [
             [
              0,
              "#0d0887"
             ],
             [
              0.1111111111111111,
              "#46039f"
             ],
             [
              0.2222222222222222,
              "#7201a8"
             ],
             [
              0.3333333333333333,
              "#9c179e"
             ],
             [
              0.4444444444444444,
              "#bd3786"
             ],
             [
              0.5555555555555556,
              "#d8576b"
             ],
             [
              0.6666666666666666,
              "#ed7953"
             ],
             [
              0.7777777777777778,
              "#fb9f3a"
             ],
             [
              0.8888888888888888,
              "#fdca26"
             ],
             [
              1,
              "#f0f921"
             ]
            ],
            "type": "heatmap"
           }
          ],
          "heatmapgl": [
           {
            "colorbar": {
             "outlinewidth": 0,
             "ticks": ""
            },
            "colorscale": [
             [
              0,
              "#0d0887"
             ],
             [
              0.1111111111111111,
              "#46039f"
             ],
             [
              0.2222222222222222,
              "#7201a8"
             ],
             [
              0.3333333333333333,
              "#9c179e"
             ],
             [
              0.4444444444444444,
              "#bd3786"
             ],
             [
              0.5555555555555556,
              "#d8576b"
             ],
             [
              0.6666666666666666,
              "#ed7953"
             ],
             [
              0.7777777777777778,
              "#fb9f3a"
             ],
             [
              0.8888888888888888,
              "#fdca26"
             ],
             [
              1,
              "#f0f921"
             ]
            ],
            "type": "heatmapgl"
           }
          ],
          "histogram": [
           {
            "marker": {
             "pattern": {
              "fillmode": "overlay",
              "size": 10,
              "solidity": 0.2
             }
            },
            "type": "histogram"
           }
          ],
          "histogram2d": [
           {
            "colorbar": {
             "outlinewidth": 0,
             "ticks": ""
            },
            "colorscale": [
             [
              0,
              "#0d0887"
             ],
             [
              0.1111111111111111,
              "#46039f"
             ],
             [
              0.2222222222222222,
              "#7201a8"
             ],
             [
              0.3333333333333333,
              "#9c179e"
             ],
             [
              0.4444444444444444,
              "#bd3786"
             ],
             [
              0.5555555555555556,
              "#d8576b"
             ],
             [
              0.6666666666666666,
              "#ed7953"
             ],
             [
              0.7777777777777778,
              "#fb9f3a"
             ],
             [
              0.8888888888888888,
              "#fdca26"
             ],
             [
              1,
              "#f0f921"
             ]
            ],
            "type": "histogram2d"
           }
          ],
          "histogram2dcontour": [
           {
            "colorbar": {
             "outlinewidth": 0,
             "ticks": ""
            },
            "colorscale": [
             [
              0,
              "#0d0887"
             ],
             [
              0.1111111111111111,
              "#46039f"
             ],
             [
              0.2222222222222222,
              "#7201a8"
             ],
             [
              0.3333333333333333,
              "#9c179e"
             ],
             [
              0.4444444444444444,
              "#bd3786"
             ],
             [
              0.5555555555555556,
              "#d8576b"
             ],
             [
              0.6666666666666666,
              "#ed7953"
             ],
             [
              0.7777777777777778,
              "#fb9f3a"
             ],
             [
              0.8888888888888888,
              "#fdca26"
             ],
             [
              1,
              "#f0f921"
             ]
            ],
            "type": "histogram2dcontour"
           }
          ],
          "mesh3d": [
           {
            "colorbar": {
             "outlinewidth": 0,
             "ticks": ""
            },
            "type": "mesh3d"
           }
          ],
          "parcoords": [
           {
            "line": {
             "colorbar": {
              "outlinewidth": 0,
              "ticks": ""
             }
            },
            "type": "parcoords"
           }
          ],
          "pie": [
           {
            "automargin": true,
            "type": "pie"
           }
          ],
          "scatter": [
           {
            "fillpattern": {
             "fillmode": "overlay",
             "size": 10,
             "solidity": 0.2
            },
            "type": "scatter"
           }
          ],
          "scatter3d": [
           {
            "line": {
             "colorbar": {
              "outlinewidth": 0,
              "ticks": ""
             }
            },
            "marker": {
             "colorbar": {
              "outlinewidth": 0,
              "ticks": ""
             }
            },
            "type": "scatter3d"
           }
          ],
          "scattercarpet": [
           {
            "marker": {
             "colorbar": {
              "outlinewidth": 0,
              "ticks": ""
             }
            },
            "type": "scattercarpet"
           }
          ],
          "scattergeo": [
           {
            "marker": {
             "colorbar": {
              "outlinewidth": 0,
              "ticks": ""
             }
            },
            "type": "scattergeo"
           }
          ],
          "scattergl": [
           {
            "marker": {
             "colorbar": {
              "outlinewidth": 0,
              "ticks": ""
             }
            },
            "type": "scattergl"
           }
          ],
          "scattermapbox": [
           {
            "marker": {
             "colorbar": {
              "outlinewidth": 0,
              "ticks": ""
             }
            },
            "type": "scattermapbox"
           }
          ],
          "scatterpolar": [
           {
            "marker": {
             "colorbar": {
              "outlinewidth": 0,
              "ticks": ""
             }
            },
            "type": "scatterpolar"
           }
          ],
          "scatterpolargl": [
           {
            "marker": {
             "colorbar": {
              "outlinewidth": 0,
              "ticks": ""
             }
            },
            "type": "scatterpolargl"
           }
          ],
          "scatterternary": [
           {
            "marker": {
             "colorbar": {
              "outlinewidth": 0,
              "ticks": ""
             }
            },
            "type": "scatterternary"
           }
          ],
          "surface": [
           {
            "colorbar": {
             "outlinewidth": 0,
             "ticks": ""
            },
            "colorscale": [
             [
              0,
              "#0d0887"
             ],
             [
              0.1111111111111111,
              "#46039f"
             ],
             [
              0.2222222222222222,
              "#7201a8"
             ],
             [
              0.3333333333333333,
              "#9c179e"
             ],
             [
              0.4444444444444444,
              "#bd3786"
             ],
             [
              0.5555555555555556,
              "#d8576b"
             ],
             [
              0.6666666666666666,
              "#ed7953"
             ],
             [
              0.7777777777777778,
              "#fb9f3a"
             ],
             [
              0.8888888888888888,
              "#fdca26"
             ],
             [
              1,
              "#f0f921"
             ]
            ],
            "type": "surface"
           }
          ],
          "table": [
           {
            "cells": {
             "fill": {
              "color": "#EBF0F8"
             },
             "line": {
              "color": "white"
             }
            },
            "header": {
             "fill": {
              "color": "#C8D4E3"
             },
             "line": {
              "color": "white"
             }
            },
            "type": "table"
           }
          ]
         },
         "layout": {
          "annotationdefaults": {
           "arrowcolor": "#2a3f5f",
           "arrowhead": 0,
           "arrowwidth": 1
          },
          "autotypenumbers": "strict",
          "coloraxis": {
           "colorbar": {
            "outlinewidth": 0,
            "ticks": ""
           }
          },
          "colorscale": {
           "diverging": [
            [
             0,
             "#8e0152"
            ],
            [
             0.1,
             "#c51b7d"
            ],
            [
             0.2,
             "#de77ae"
            ],
            [
             0.3,
             "#f1b6da"
            ],
            [
             0.4,
             "#fde0ef"
            ],
            [
             0.5,
             "#f7f7f7"
            ],
            [
             0.6,
             "#e6f5d0"
            ],
            [
             0.7,
             "#b8e186"
            ],
            [
             0.8,
             "#7fbc41"
            ],
            [
             0.9,
             "#4d9221"
            ],
            [
             1,
             "#276419"
            ]
           ],
           "sequential": [
            [
             0,
             "#0d0887"
            ],
            [
             0.1111111111111111,
             "#46039f"
            ],
            [
             0.2222222222222222,
             "#7201a8"
            ],
            [
             0.3333333333333333,
             "#9c179e"
            ],
            [
             0.4444444444444444,
             "#bd3786"
            ],
            [
             0.5555555555555556,
             "#d8576b"
            ],
            [
             0.6666666666666666,
             "#ed7953"
            ],
            [
             0.7777777777777778,
             "#fb9f3a"
            ],
            [
             0.8888888888888888,
             "#fdca26"
            ],
            [
             1,
             "#f0f921"
            ]
           ],
           "sequentialminus": [
            [
             0,
             "#0d0887"
            ],
            [
             0.1111111111111111,
             "#46039f"
            ],
            [
             0.2222222222222222,
             "#7201a8"
            ],
            [
             0.3333333333333333,
             "#9c179e"
            ],
            [
             0.4444444444444444,
             "#bd3786"
            ],
            [
             0.5555555555555556,
             "#d8576b"
            ],
            [
             0.6666666666666666,
             "#ed7953"
            ],
            [
             0.7777777777777778,
             "#fb9f3a"
            ],
            [
             0.8888888888888888,
             "#fdca26"
            ],
            [
             1,
             "#f0f921"
            ]
           ]
          },
          "colorway": [
           "#636efa",
           "#EF553B",
           "#00cc96",
           "#ab63fa",
           "#FFA15A",
           "#19d3f3",
           "#FF6692",
           "#B6E880",
           "#FF97FF",
           "#FECB52"
          ],
          "font": {
           "color": "#2a3f5f"
          },
          "geo": {
           "bgcolor": "white",
           "lakecolor": "white",
           "landcolor": "#E5ECF6",
           "showlakes": true,
           "showland": true,
           "subunitcolor": "white"
          },
          "hoverlabel": {
           "align": "left"
          },
          "hovermode": "closest",
          "mapbox": {
           "style": "light"
          },
          "paper_bgcolor": "white",
          "plot_bgcolor": "#E5ECF6",
          "polar": {
           "angularaxis": {
            "gridcolor": "white",
            "linecolor": "white",
            "ticks": ""
           },
           "bgcolor": "#E5ECF6",
           "radialaxis": {
            "gridcolor": "white",
            "linecolor": "white",
            "ticks": ""
           }
          },
          "scene": {
           "xaxis": {
            "backgroundcolor": "#E5ECF6",
            "gridcolor": "white",
            "gridwidth": 2,
            "linecolor": "white",
            "showbackground": true,
            "ticks": "",
            "zerolinecolor": "white"
           },
           "yaxis": {
            "backgroundcolor": "#E5ECF6",
            "gridcolor": "white",
            "gridwidth": 2,
            "linecolor": "white",
            "showbackground": true,
            "ticks": "",
            "zerolinecolor": "white"
           },
           "zaxis": {
            "backgroundcolor": "#E5ECF6",
            "gridcolor": "white",
            "gridwidth": 2,
            "linecolor": "white",
            "showbackground": true,
            "ticks": "",
            "zerolinecolor": "white"
           }
          },
          "shapedefaults": {
           "line": {
            "color": "#2a3f5f"
           }
          },
          "ternary": {
           "aaxis": {
            "gridcolor": "white",
            "linecolor": "white",
            "ticks": ""
           },
           "baxis": {
            "gridcolor": "white",
            "linecolor": "white",
            "ticks": ""
           },
           "bgcolor": "#E5ECF6",
           "caxis": {
            "gridcolor": "white",
            "linecolor": "white",
            "ticks": ""
           }
          },
          "title": {
           "x": 0.05
          },
          "xaxis": {
           "automargin": true,
           "gridcolor": "white",
           "linecolor": "white",
           "ticks": "",
           "title": {
            "standoff": 15
           },
           "zerolinecolor": "white",
           "zerolinewidth": 2
          },
          "yaxis": {
           "automargin": true,
           "gridcolor": "white",
           "linecolor": "white",
           "ticks": "",
           "title": {
            "standoff": 15
           },
           "zerolinecolor": "white",
           "zerolinewidth": 2
          }
         }
        }
       }
      }
     },
     "metadata": {},
     "output_type": "display_data"
    }
   ],
   "source": [
    "for i in range(n_clusters):  \n",
    "    plot_cluster_details(i, clustering_model, samples, times[0], plot_centers=False).show()"
   ]
  },
  {
   "cell_type": "code",
   "execution_count": null,
   "metadata": {},
   "outputs": [
    {
     "name": "stdout",
     "output_type": "stream",
     "text": [
      "################ 0 ################\n",
      "[ 6 12 13 19 20 23 25 26 27 31 32 33 34 40 41 42 43 46 47 48 52 53 54 55\n",
      " 60 61 62 67 68 69 74 75 76]\n",
      "[datetime.date(2024, 4, 14) datetime.date(2024, 4, 20)\n",
      " datetime.date(2024, 4, 21) datetime.date(2024, 4, 27)\n",
      " datetime.date(2024, 4, 28) datetime.date(2024, 5, 1)\n",
      " datetime.date(2024, 5, 3) datetime.date(2024, 5, 4)\n",
      " datetime.date(2024, 5, 5) datetime.date(2024, 5, 9)\n",
      " datetime.date(2024, 5, 10) datetime.date(2024, 5, 11)\n",
      " datetime.date(2024, 5, 12) datetime.date(2024, 5, 18)\n",
      " datetime.date(2024, 5, 19) datetime.date(2024, 5, 20)\n",
      " datetime.date(2024, 5, 21) datetime.date(2024, 5, 24)\n",
      " datetime.date(2024, 5, 25) datetime.date(2024, 5, 26)\n",
      " datetime.date(2024, 5, 30) datetime.date(2024, 5, 31)\n",
      " datetime.date(2024, 6, 1) datetime.date(2024, 6, 2)\n",
      " datetime.date(2024, 6, 7) datetime.date(2024, 6, 8)\n",
      " datetime.date(2024, 6, 9) datetime.date(2024, 6, 14)\n",
      " datetime.date(2024, 6, 15) datetime.date(2024, 6, 16)\n",
      " datetime.date(2024, 6, 21) datetime.date(2024, 6, 22)\n",
      " datetime.date(2024, 6, 23)]\n",
      "\n",
      "################ 1 ################\n",
      "[22 28 50 64 77 79]\n",
      "[datetime.date(2024, 4, 30) datetime.date(2024, 5, 6)\n",
      " datetime.date(2024, 5, 28) datetime.date(2024, 6, 11)\n",
      " datetime.date(2024, 6, 24) datetime.date(2024, 6, 26)]\n",
      "\n",
      "################ 2 ################\n",
      "[ 0  7 14 21 35 49 56 63 70]\n",
      "[datetime.date(2024, 4, 8) datetime.date(2024, 4, 15)\n",
      " datetime.date(2024, 4, 22) datetime.date(2024, 4, 29)\n",
      " datetime.date(2024, 5, 13) datetime.date(2024, 5, 27)\n",
      " datetime.date(2024, 6, 3) datetime.date(2024, 6, 10)\n",
      " datetime.date(2024, 6, 17)]\n",
      "\n",
      "################ 3 ################\n",
      "[ 1  2  5  8  9 10 15 16 17 18 24 30 36 37 38 44 45 51 57 58 59 65 66 71\n",
      " 72 73]\n",
      "[datetime.date(2024, 4, 9) datetime.date(2024, 4, 10)\n",
      " datetime.date(2024, 4, 13) datetime.date(2024, 4, 16)\n",
      " datetime.date(2024, 4, 17) datetime.date(2024, 4, 18)\n",
      " datetime.date(2024, 4, 23) datetime.date(2024, 4, 24)\n",
      " datetime.date(2024, 4, 25) datetime.date(2024, 4, 26)\n",
      " datetime.date(2024, 5, 2) datetime.date(2024, 5, 8)\n",
      " datetime.date(2024, 5, 14) datetime.date(2024, 5, 15)\n",
      " datetime.date(2024, 5, 16) datetime.date(2024, 5, 22)\n",
      " datetime.date(2024, 5, 23) datetime.date(2024, 5, 29)\n",
      " datetime.date(2024, 6, 4) datetime.date(2024, 6, 5)\n",
      " datetime.date(2024, 6, 6) datetime.date(2024, 6, 12)\n",
      " datetime.date(2024, 6, 13) datetime.date(2024, 6, 18)\n",
      " datetime.date(2024, 6, 19) datetime.date(2024, 6, 20)]\n",
      "\n",
      "################ 4 ################\n",
      "[78]\n",
      "[datetime.date(2024, 6, 25)]\n",
      "\n",
      "################ 5 ################\n",
      "[ 3 80]\n",
      "[datetime.date(2024, 4, 11) datetime.date(2024, 6, 27)]\n",
      "\n",
      "################ 6 ################\n",
      "[ 4 11 29 39 81]\n",
      "[datetime.date(2024, 4, 12) datetime.date(2024, 4, 19)\n",
      " datetime.date(2024, 5, 7) datetime.date(2024, 5, 17)\n",
      " datetime.date(2024, 6, 28)]\n",
      "\n"
     ]
    },
    {
     "data": {
      "application/vnd.plotly.v1+json": {
       "config": {
        "plotlyServerURL": "https://plot.ly"
       },
       "data": [
        {
         "mode": "lines+markers",
         "name": "cluster 0",
         "type": "scatter",
         "x": [
          "2024-04-08T00:00:00.000000000",
          "2024-04-08T00:15:00.000000000",
          "2024-04-08T00:30:00.000000000",
          "2024-04-08T00:45:00.000000000",
          "2024-04-08T01:00:00.000000000",
          "2024-04-08T01:15:00.000000000",
          "2024-04-08T01:30:00.000000000",
          "2024-04-08T01:45:00.000000000",
          "2024-04-08T02:00:00.000000000",
          "2024-04-08T02:15:00.000000000",
          "2024-04-08T02:30:00.000000000",
          "2024-04-08T02:45:00.000000000",
          "2024-04-08T03:00:00.000000000",
          "2024-04-08T03:15:00.000000000",
          "2024-04-08T03:30:00.000000000",
          "2024-04-08T03:45:00.000000000",
          "2024-04-08T04:00:00.000000000",
          "2024-04-08T04:15:00.000000000",
          "2024-04-08T04:30:00.000000000",
          "2024-04-08T04:45:00.000000000",
          "2024-04-08T05:00:00.000000000",
          "2024-04-08T05:15:00.000000000",
          "2024-04-08T05:30:00.000000000",
          "2024-04-08T05:45:00.000000000",
          "2024-04-08T06:00:00.000000000",
          "2024-04-08T06:15:00.000000000",
          "2024-04-08T06:30:00.000000000",
          "2024-04-08T06:45:00.000000000",
          "2024-04-08T07:00:00.000000000",
          "2024-04-08T07:15:00.000000000",
          "2024-04-08T07:30:00.000000000",
          "2024-04-08T07:45:00.000000000",
          "2024-04-08T08:00:00.000000000",
          "2024-04-08T08:15:00.000000000",
          "2024-04-08T08:30:00.000000000",
          "2024-04-08T08:45:00.000000000",
          "2024-04-08T09:00:00.000000000",
          "2024-04-08T09:15:00.000000000",
          "2024-04-08T09:30:00.000000000",
          "2024-04-08T09:45:00.000000000",
          "2024-04-08T10:00:00.000000000",
          "2024-04-08T10:15:00.000000000",
          "2024-04-08T10:30:00.000000000",
          "2024-04-08T10:45:00.000000000",
          "2024-04-08T11:00:00.000000000",
          "2024-04-08T11:15:00.000000000",
          "2024-04-08T11:30:00.000000000",
          "2024-04-08T11:45:00.000000000",
          "2024-04-08T12:00:00.000000000",
          "2024-04-08T12:15:00.000000000",
          "2024-04-08T12:30:00.000000000",
          "2024-04-08T12:45:00.000000000",
          "2024-04-08T13:00:00.000000000",
          "2024-04-08T13:15:00.000000000",
          "2024-04-08T13:30:00.000000000",
          "2024-04-08T13:45:00.000000000",
          "2024-04-08T14:00:00.000000000",
          "2024-04-08T14:15:00.000000000",
          "2024-04-08T14:30:00.000000000",
          "2024-04-08T14:45:00.000000000",
          "2024-04-08T15:00:00.000000000",
          "2024-04-08T15:15:00.000000000",
          "2024-04-08T15:30:00.000000000",
          "2024-04-08T15:45:00.000000000",
          "2024-04-08T16:00:00.000000000",
          "2024-04-08T16:15:00.000000000",
          "2024-04-08T16:30:00.000000000",
          "2024-04-08T16:45:00.000000000",
          "2024-04-08T17:00:00.000000000",
          "2024-04-08T17:15:00.000000000",
          "2024-04-08T17:30:00.000000000",
          "2024-04-08T17:45:00.000000000",
          "2024-04-08T18:00:00.000000000",
          "2024-04-08T18:15:00.000000000",
          "2024-04-08T18:30:00.000000000",
          "2024-04-08T18:45:00.000000000",
          "2024-04-08T19:00:00.000000000",
          "2024-04-08T19:15:00.000000000",
          "2024-04-08T19:30:00.000000000",
          "2024-04-08T19:45:00.000000000",
          "2024-04-08T20:00:00.000000000",
          "2024-04-08T20:15:00.000000000",
          "2024-04-08T20:30:00.000000000",
          "2024-04-08T20:45:00.000000000",
          "2024-04-08T21:00:00.000000000",
          "2024-04-08T21:15:00.000000000",
          "2024-04-08T21:30:00.000000000",
          "2024-04-08T21:45:00.000000000",
          "2024-04-08T22:00:00.000000000",
          "2024-04-08T22:15:00.000000000",
          "2024-04-08T22:30:00.000000000",
          "2024-04-08T22:45:00.000000000",
          "2024-04-08T23:00:00.000000000",
          "2024-04-08T23:15:00.000000000",
          "2024-04-08T23:30:00.000000000",
          "2024-04-08T23:45:00.000000000"
         ],
         "y": [
          0,
          0,
          0,
          0,
          0,
          0,
          0,
          0,
          0,
          0,
          0,
          0,
          0,
          0,
          0,
          0,
          0,
          0,
          0,
          0,
          0,
          0,
          0,
          -2.7755575615628914e-17,
          0.7272727272727262,
          0.48484848484848503,
          0.2121212121212122,
          0.03030303030303047,
          0.03030303030303029,
          5.551115123125783e-17,
          -1.1102230246251565e-16,
          0.09090909090909094,
          0.06060606060606055,
          0.30303030303030365,
          0.18181818181818166,
          0.030303030303030387,
          -1.6653345369377348e-16,
          0.12121212121212122,
          0.18181818181818168,
          0.21212121212121243,
          0.7575757575757613,
          0.15151515151515182,
          0,
          -1.6653345369377348e-16,
          -1.1102230246251565e-16,
          0.12121212121212133,
          0.2727272727272734,
          0.1818181818181781,
          0.030303030303029388,
          2.220446049250313e-16,
          0.06060606060606061,
          0.06060606060606047,
          0.03030303030303072,
          0.06060606060606011,
          0.06060606060606233,
          0.030303030303031164,
          -1.6653345369377348e-16,
          0.030303030303029943,
          0.1212121212121211,
          0.12121212121212122,
          -6.661338147750939e-16,
          0.03030303030302761,
          0,
          -5.551115123125783e-17,
          0.5757575757575761,
          0.06060606060606061,
          0.09090909090909083,
          0.36363636363636376,
          0.4848484848484844,
          0.09090909090909083,
          0.03030303030303025,
          0.030303030303030283,
          5.551115123125783e-17,
          5.551115123125783e-17,
          -1.1102230246251565e-16,
          0.030303030303030498,
          0.030303030303030262,
          0.18181818181818182,
          -2.7755575615628914e-17,
          0.06060606060606061,
          -2.7755575615628914e-17,
          -1.0408340855860843e-17,
          0,
          -1.0408340855860843e-17,
          0,
          0,
          0.030303030303030297,
          0,
          -1.3877787807814457e-17,
          0,
          0,
          0,
          0,
          -5.204170427930421e-18,
          0,
          0
         ]
        },
        {
         "mode": "lines+markers",
         "name": "cluster 1",
         "type": "scatter",
         "x": [
          "2024-04-08T00:00:00.000000000",
          "2024-04-08T00:15:00.000000000",
          "2024-04-08T00:30:00.000000000",
          "2024-04-08T00:45:00.000000000",
          "2024-04-08T01:00:00.000000000",
          "2024-04-08T01:15:00.000000000",
          "2024-04-08T01:30:00.000000000",
          "2024-04-08T01:45:00.000000000",
          "2024-04-08T02:00:00.000000000",
          "2024-04-08T02:15:00.000000000",
          "2024-04-08T02:30:00.000000000",
          "2024-04-08T02:45:00.000000000",
          "2024-04-08T03:00:00.000000000",
          "2024-04-08T03:15:00.000000000",
          "2024-04-08T03:30:00.000000000",
          "2024-04-08T03:45:00.000000000",
          "2024-04-08T04:00:00.000000000",
          "2024-04-08T04:15:00.000000000",
          "2024-04-08T04:30:00.000000000",
          "2024-04-08T04:45:00.000000000",
          "2024-04-08T05:00:00.000000000",
          "2024-04-08T05:15:00.000000000",
          "2024-04-08T05:30:00.000000000",
          "2024-04-08T05:45:00.000000000",
          "2024-04-08T06:00:00.000000000",
          "2024-04-08T06:15:00.000000000",
          "2024-04-08T06:30:00.000000000",
          "2024-04-08T06:45:00.000000000",
          "2024-04-08T07:00:00.000000000",
          "2024-04-08T07:15:00.000000000",
          "2024-04-08T07:30:00.000000000",
          "2024-04-08T07:45:00.000000000",
          "2024-04-08T08:00:00.000000000",
          "2024-04-08T08:15:00.000000000",
          "2024-04-08T08:30:00.000000000",
          "2024-04-08T08:45:00.000000000",
          "2024-04-08T09:00:00.000000000",
          "2024-04-08T09:15:00.000000000",
          "2024-04-08T09:30:00.000000000",
          "2024-04-08T09:45:00.000000000",
          "2024-04-08T10:00:00.000000000",
          "2024-04-08T10:15:00.000000000",
          "2024-04-08T10:30:00.000000000",
          "2024-04-08T10:45:00.000000000",
          "2024-04-08T11:00:00.000000000",
          "2024-04-08T11:15:00.000000000",
          "2024-04-08T11:30:00.000000000",
          "2024-04-08T11:45:00.000000000",
          "2024-04-08T12:00:00.000000000",
          "2024-04-08T12:15:00.000000000",
          "2024-04-08T12:30:00.000000000",
          "2024-04-08T12:45:00.000000000",
          "2024-04-08T13:00:00.000000000",
          "2024-04-08T13:15:00.000000000",
          "2024-04-08T13:30:00.000000000",
          "2024-04-08T13:45:00.000000000",
          "2024-04-08T14:00:00.000000000",
          "2024-04-08T14:15:00.000000000",
          "2024-04-08T14:30:00.000000000",
          "2024-04-08T14:45:00.000000000",
          "2024-04-08T15:00:00.000000000",
          "2024-04-08T15:15:00.000000000",
          "2024-04-08T15:30:00.000000000",
          "2024-04-08T15:45:00.000000000",
          "2024-04-08T16:00:00.000000000",
          "2024-04-08T16:15:00.000000000",
          "2024-04-08T16:30:00.000000000",
          "2024-04-08T16:45:00.000000000",
          "2024-04-08T17:00:00.000000000",
          "2024-04-08T17:15:00.000000000",
          "2024-04-08T17:30:00.000000000",
          "2024-04-08T17:45:00.000000000",
          "2024-04-08T18:00:00.000000000",
          "2024-04-08T18:15:00.000000000",
          "2024-04-08T18:30:00.000000000",
          "2024-04-08T18:45:00.000000000",
          "2024-04-08T19:00:00.000000000",
          "2024-04-08T19:15:00.000000000",
          "2024-04-08T19:30:00.000000000",
          "2024-04-08T19:45:00.000000000",
          "2024-04-08T20:00:00.000000000",
          "2024-04-08T20:15:00.000000000",
          "2024-04-08T20:30:00.000000000",
          "2024-04-08T20:45:00.000000000",
          "2024-04-08T21:00:00.000000000",
          "2024-04-08T21:15:00.000000000",
          "2024-04-08T21:30:00.000000000",
          "2024-04-08T21:45:00.000000000",
          "2024-04-08T22:00:00.000000000",
          "2024-04-08T22:15:00.000000000",
          "2024-04-08T22:30:00.000000000",
          "2024-04-08T22:45:00.000000000",
          "2024-04-08T23:00:00.000000000",
          "2024-04-08T23:15:00.000000000",
          "2024-04-08T23:30:00.000000000",
          "2024-04-08T23:45:00.000000000"
         ],
         "y": [
          0,
          0,
          0,
          0,
          0,
          0,
          0,
          0,
          0,
          0,
          0,
          0,
          0,
          0,
          0,
          0,
          0,
          0,
          0,
          0,
          0,
          0,
          0,
          1.3877787807814457e-17,
          3.1666666666666665,
          0.33333333333333337,
          0.16666666666666663,
          0.16666666666666669,
          3.469446951953614e-18,
          2.7755575615628914e-17,
          0.49999999999999994,
          1,
          3,
          13.166666666666668,
          5.5,
          1.1666666666666667,
          0.5,
          0.3333333333333333,
          0.9999999999999999,
          0.8333333333333333,
          8.166666666666668,
          1.3333333333333335,
          0.8333333333333334,
          0.9999999999999998,
          0.3333333333333333,
          0.8333333333333334,
          0,
          0,
          0.5000000000000002,
          0.8333333333333333,
          0.16666666666666669,
          1.8333333333333337,
          3.333333333333334,
          17,
          24.000000000000004,
          2.6666666666666665,
          0,
          1.5,
          0.33333333333333337,
          5.551115123125783e-17,
          3,
          9,
          2.833333333333333,
          2.7755575615628914e-17,
          1,
          0.3333333333333333,
          0.5,
          0,
          2,
          0.8333333333333334,
          2.7755575615628914e-17,
          1.3877787807814457e-17,
          0.16666666666666669,
          2.7755575615628914e-17,
          0,
          0.5,
          1.3877787807814457e-17,
          0,
          0.33333333333333326,
          2.7755575615628914e-17,
          0.16666666666666669,
          3.469446951953614e-18,
          0,
          0.3333333333333333,
          0,
          0,
          1.734723475976807e-18,
          0,
          0,
          0,
          0,
          0,
          0,
          1.734723475976807e-18,
          0,
          0
         ]
        },
        {
         "mode": "lines+markers",
         "name": "cluster 2",
         "type": "scatter",
         "x": [
          "2024-04-08T00:00:00.000000000",
          "2024-04-08T00:15:00.000000000",
          "2024-04-08T00:30:00.000000000",
          "2024-04-08T00:45:00.000000000",
          "2024-04-08T01:00:00.000000000",
          "2024-04-08T01:15:00.000000000",
          "2024-04-08T01:30:00.000000000",
          "2024-04-08T01:45:00.000000000",
          "2024-04-08T02:00:00.000000000",
          "2024-04-08T02:15:00.000000000",
          "2024-04-08T02:30:00.000000000",
          "2024-04-08T02:45:00.000000000",
          "2024-04-08T03:00:00.000000000",
          "2024-04-08T03:15:00.000000000",
          "2024-04-08T03:30:00.000000000",
          "2024-04-08T03:45:00.000000000",
          "2024-04-08T04:00:00.000000000",
          "2024-04-08T04:15:00.000000000",
          "2024-04-08T04:30:00.000000000",
          "2024-04-08T04:45:00.000000000",
          "2024-04-08T05:00:00.000000000",
          "2024-04-08T05:15:00.000000000",
          "2024-04-08T05:30:00.000000000",
          "2024-04-08T05:45:00.000000000",
          "2024-04-08T06:00:00.000000000",
          "2024-04-08T06:15:00.000000000",
          "2024-04-08T06:30:00.000000000",
          "2024-04-08T06:45:00.000000000",
          "2024-04-08T07:00:00.000000000",
          "2024-04-08T07:15:00.000000000",
          "2024-04-08T07:30:00.000000000",
          "2024-04-08T07:45:00.000000000",
          "2024-04-08T08:00:00.000000000",
          "2024-04-08T08:15:00.000000000",
          "2024-04-08T08:30:00.000000000",
          "2024-04-08T08:45:00.000000000",
          "2024-04-08T09:00:00.000000000",
          "2024-04-08T09:15:00.000000000",
          "2024-04-08T09:30:00.000000000",
          "2024-04-08T09:45:00.000000000",
          "2024-04-08T10:00:00.000000000",
          "2024-04-08T10:15:00.000000000",
          "2024-04-08T10:30:00.000000000",
          "2024-04-08T10:45:00.000000000",
          "2024-04-08T11:00:00.000000000",
          "2024-04-08T11:15:00.000000000",
          "2024-04-08T11:30:00.000000000",
          "2024-04-08T11:45:00.000000000",
          "2024-04-08T12:00:00.000000000",
          "2024-04-08T12:15:00.000000000",
          "2024-04-08T12:30:00.000000000",
          "2024-04-08T12:45:00.000000000",
          "2024-04-08T13:00:00.000000000",
          "2024-04-08T13:15:00.000000000",
          "2024-04-08T13:30:00.000000000",
          "2024-04-08T13:45:00.000000000",
          "2024-04-08T14:00:00.000000000",
          "2024-04-08T14:15:00.000000000",
          "2024-04-08T14:30:00.000000000",
          "2024-04-08T14:45:00.000000000",
          "2024-04-08T15:00:00.000000000",
          "2024-04-08T15:15:00.000000000",
          "2024-04-08T15:30:00.000000000",
          "2024-04-08T15:45:00.000000000",
          "2024-04-08T16:00:00.000000000",
          "2024-04-08T16:15:00.000000000",
          "2024-04-08T16:30:00.000000000",
          "2024-04-08T16:45:00.000000000",
          "2024-04-08T17:00:00.000000000",
          "2024-04-08T17:15:00.000000000",
          "2024-04-08T17:30:00.000000000",
          "2024-04-08T17:45:00.000000000",
          "2024-04-08T18:00:00.000000000",
          "2024-04-08T18:15:00.000000000",
          "2024-04-08T18:30:00.000000000",
          "2024-04-08T18:45:00.000000000",
          "2024-04-08T19:00:00.000000000",
          "2024-04-08T19:15:00.000000000",
          "2024-04-08T19:30:00.000000000",
          "2024-04-08T19:45:00.000000000",
          "2024-04-08T20:00:00.000000000",
          "2024-04-08T20:15:00.000000000",
          "2024-04-08T20:30:00.000000000",
          "2024-04-08T20:45:00.000000000",
          "2024-04-08T21:00:00.000000000",
          "2024-04-08T21:15:00.000000000",
          "2024-04-08T21:30:00.000000000",
          "2024-04-08T21:45:00.000000000",
          "2024-04-08T22:00:00.000000000",
          "2024-04-08T22:15:00.000000000",
          "2024-04-08T22:30:00.000000000",
          "2024-04-08T22:45:00.000000000",
          "2024-04-08T23:00:00.000000000",
          "2024-04-08T23:15:00.000000000",
          "2024-04-08T23:30:00.000000000",
          "2024-04-08T23:45:00.000000000"
         ],
         "y": [
          0,
          0,
          0,
          0,
          0,
          0,
          0,
          0,
          0,
          0,
          0,
          0,
          0,
          0,
          0,
          0,
          0,
          0,
          0,
          0,
          0,
          0,
          0,
          2.7755575615628914e-17,
          3,
          -1.1102230246251565e-16,
          0.44444444444444453,
          0.777777777777778,
          6.938893903907228e-18,
          0.22222222222222227,
          0.44444444444444453,
          5.551115123125783e-17,
          0,
          8.881784197001252e-16,
          0.11111111111111116,
          2.220446049250313e-16,
          0.11111111111111116,
          0.11111111111111116,
          1.1102230246251565e-16,
          0.11111111111111116,
          0,
          4.440892098500626e-16,
          5.551115123125783e-17,
          0,
          1.1102230246251565e-16,
          1.1102230246251565e-16,
          3.444444444444444,
          34.66666666666666,
          11.000000000000002,
          2.333333333333333,
          0.9999999999999998,
          0.2222222222222222,
          1.1111111111111112,
          1.3333333333333335,
          15.333333333333334,
          4.444444444444445,
          0,
          -1.1102230246251565e-16,
          0.4444444444444445,
          0.5555555555555556,
          2.444444444444444,
          18.666666666666664,
          4.222222222222222,
          0.2222222222222222,
          0.5555555555555556,
          0.5555555555555556,
          0.3333333333333333,
          0.888888888888889,
          5.777777777777778,
          0.5555555555555555,
          5.551115123125783e-17,
          2.7755575615628914e-17,
          0.5555555555555556,
          0.11111111111111115,
          0,
          1.1111111111111112,
          0.11111111111111112,
          1.3877787807814457e-17,
          0.1111111111111111,
          0.11111111111111112,
          0.22222222222222227,
          6.938893903907228e-18,
          0,
          6.938893903907228e-18,
          0,
          0,
          3.469446951953614e-18,
          0,
          6.938893903907228e-18,
          0,
          0,
          0,
          0,
          0.1111111111111111,
          0,
          0
         ]
        },
        {
         "mode": "lines+markers",
         "name": "cluster 3",
         "type": "scatter",
         "x": [
          "2024-04-08T00:00:00.000000000",
          "2024-04-08T00:15:00.000000000",
          "2024-04-08T00:30:00.000000000",
          "2024-04-08T00:45:00.000000000",
          "2024-04-08T01:00:00.000000000",
          "2024-04-08T01:15:00.000000000",
          "2024-04-08T01:30:00.000000000",
          "2024-04-08T01:45:00.000000000",
          "2024-04-08T02:00:00.000000000",
          "2024-04-08T02:15:00.000000000",
          "2024-04-08T02:30:00.000000000",
          "2024-04-08T02:45:00.000000000",
          "2024-04-08T03:00:00.000000000",
          "2024-04-08T03:15:00.000000000",
          "2024-04-08T03:30:00.000000000",
          "2024-04-08T03:45:00.000000000",
          "2024-04-08T04:00:00.000000000",
          "2024-04-08T04:15:00.000000000",
          "2024-04-08T04:30:00.000000000",
          "2024-04-08T04:45:00.000000000",
          "2024-04-08T05:00:00.000000000",
          "2024-04-08T05:15:00.000000000",
          "2024-04-08T05:30:00.000000000",
          "2024-04-08T05:45:00.000000000",
          "2024-04-08T06:00:00.000000000",
          "2024-04-08T06:15:00.000000000",
          "2024-04-08T06:30:00.000000000",
          "2024-04-08T06:45:00.000000000",
          "2024-04-08T07:00:00.000000000",
          "2024-04-08T07:15:00.000000000",
          "2024-04-08T07:30:00.000000000",
          "2024-04-08T07:45:00.000000000",
          "2024-04-08T08:00:00.000000000",
          "2024-04-08T08:15:00.000000000",
          "2024-04-08T08:30:00.000000000",
          "2024-04-08T08:45:00.000000000",
          "2024-04-08T09:00:00.000000000",
          "2024-04-08T09:15:00.000000000",
          "2024-04-08T09:30:00.000000000",
          "2024-04-08T09:45:00.000000000",
          "2024-04-08T10:00:00.000000000",
          "2024-04-08T10:15:00.000000000",
          "2024-04-08T10:30:00.000000000",
          "2024-04-08T10:45:00.000000000",
          "2024-04-08T11:00:00.000000000",
          "2024-04-08T11:15:00.000000000",
          "2024-04-08T11:30:00.000000000",
          "2024-04-08T11:45:00.000000000",
          "2024-04-08T12:00:00.000000000",
          "2024-04-08T12:15:00.000000000",
          "2024-04-08T12:30:00.000000000",
          "2024-04-08T12:45:00.000000000",
          "2024-04-08T13:00:00.000000000",
          "2024-04-08T13:15:00.000000000",
          "2024-04-08T13:30:00.000000000",
          "2024-04-08T13:45:00.000000000",
          "2024-04-08T14:00:00.000000000",
          "2024-04-08T14:15:00.000000000",
          "2024-04-08T14:30:00.000000000",
          "2024-04-08T14:45:00.000000000",
          "2024-04-08T15:00:00.000000000",
          "2024-04-08T15:15:00.000000000",
          "2024-04-08T15:30:00.000000000",
          "2024-04-08T15:45:00.000000000",
          "2024-04-08T16:00:00.000000000",
          "2024-04-08T16:15:00.000000000",
          "2024-04-08T16:30:00.000000000",
          "2024-04-08T16:45:00.000000000",
          "2024-04-08T17:00:00.000000000",
          "2024-04-08T17:15:00.000000000",
          "2024-04-08T17:30:00.000000000",
          "2024-04-08T17:45:00.000000000",
          "2024-04-08T18:00:00.000000000",
          "2024-04-08T18:15:00.000000000",
          "2024-04-08T18:30:00.000000000",
          "2024-04-08T18:45:00.000000000",
          "2024-04-08T19:00:00.000000000",
          "2024-04-08T19:15:00.000000000",
          "2024-04-08T19:30:00.000000000",
          "2024-04-08T19:45:00.000000000",
          "2024-04-08T20:00:00.000000000",
          "2024-04-08T20:15:00.000000000",
          "2024-04-08T20:30:00.000000000",
          "2024-04-08T20:45:00.000000000",
          "2024-04-08T21:00:00.000000000",
          "2024-04-08T21:15:00.000000000",
          "2024-04-08T21:30:00.000000000",
          "2024-04-08T21:45:00.000000000",
          "2024-04-08T22:00:00.000000000",
          "2024-04-08T22:15:00.000000000",
          "2024-04-08T22:30:00.000000000",
          "2024-04-08T22:45:00.000000000",
          "2024-04-08T23:00:00.000000000",
          "2024-04-08T23:15:00.000000000",
          "2024-04-08T23:30:00.000000000",
          "2024-04-08T23:45:00.000000000"
         ],
         "y": [
          0,
          0,
          0,
          0,
          0,
          0,
          0,
          0,
          0,
          0,
          0,
          0,
          0,
          0,
          0,
          0,
          0,
          0,
          0,
          0,
          0,
          0,
          0,
          0.26923076923076933,
          2.884615384615384,
          1.5384615384615383,
          0.653846153846154,
          0.2692307692307692,
          -1.0408340855860843e-17,
          0.1153846153846154,
          0.6153846153846152,
          0.5384615384615385,
          5.076923076923077,
          17.423076923076927,
          7.692307692307693,
          1.9230769230769234,
          0.846153846153846,
          0.8076923076923075,
          0.6153846153846154,
          0.4230769230769231,
          31.653846153846164,
          5.53846153846154,
          0.5769230769230769,
          0.5384615384615383,
          0.8076923076923075,
          1.3461538461538467,
          1.8076923076923075,
          8.692307692307692,
          1.6153846153846156,
          0.3846153846153845,
          0.34615384615384615,
          0.07692307692307682,
          0.15384615384615408,
          0.8461538461538458,
          9.26923076923077,
          2.384615384615385,
          0.2692307692307691,
          0.3076923076923078,
          0.23076923076923078,
          0.42307692307692313,
          0.9615384615384613,
          5.615384615384615,
          1.1153846153846152,
          0.3076923076923076,
          0.03846153846153899,
          0.11538461538461539,
          0.15384615384615383,
          1.6153846153846159,
          7.500000000000001,
          2.423076923076923,
          0.4615384615384615,
          0.19230769230769232,
          0.1153846153846154,
          0.3846153846153847,
          0.8461538461538466,
          1.2692307692307692,
          0.23076923076923073,
          -2.7755575615628914e-17,
          0.11538461538461534,
          0.3076923076923077,
          0.15384615384615383,
          -1.0408340855860843e-17,
          0,
          -1.0408340855860843e-17,
          0,
          0,
          -5.204170427930421e-18,
          0,
          0.11538461538461536,
          0,
          0,
          0,
          0,
          -5.204170427930421e-18,
          0,
          0
         ]
        },
        {
         "mode": "lines+markers",
         "name": "cluster 4",
         "type": "scatter",
         "x": [
          "2024-04-08T00:00:00.000000000",
          "2024-04-08T00:15:00.000000000",
          "2024-04-08T00:30:00.000000000",
          "2024-04-08T00:45:00.000000000",
          "2024-04-08T01:00:00.000000000",
          "2024-04-08T01:15:00.000000000",
          "2024-04-08T01:30:00.000000000",
          "2024-04-08T01:45:00.000000000",
          "2024-04-08T02:00:00.000000000",
          "2024-04-08T02:15:00.000000000",
          "2024-04-08T02:30:00.000000000",
          "2024-04-08T02:45:00.000000000",
          "2024-04-08T03:00:00.000000000",
          "2024-04-08T03:15:00.000000000",
          "2024-04-08T03:30:00.000000000",
          "2024-04-08T03:45:00.000000000",
          "2024-04-08T04:00:00.000000000",
          "2024-04-08T04:15:00.000000000",
          "2024-04-08T04:30:00.000000000",
          "2024-04-08T04:45:00.000000000",
          "2024-04-08T05:00:00.000000000",
          "2024-04-08T05:15:00.000000000",
          "2024-04-08T05:30:00.000000000",
          "2024-04-08T05:45:00.000000000",
          "2024-04-08T06:00:00.000000000",
          "2024-04-08T06:15:00.000000000",
          "2024-04-08T06:30:00.000000000",
          "2024-04-08T06:45:00.000000000",
          "2024-04-08T07:00:00.000000000",
          "2024-04-08T07:15:00.000000000",
          "2024-04-08T07:30:00.000000000",
          "2024-04-08T07:45:00.000000000",
          "2024-04-08T08:00:00.000000000",
          "2024-04-08T08:15:00.000000000",
          "2024-04-08T08:30:00.000000000",
          "2024-04-08T08:45:00.000000000",
          "2024-04-08T09:00:00.000000000",
          "2024-04-08T09:15:00.000000000",
          "2024-04-08T09:30:00.000000000",
          "2024-04-08T09:45:00.000000000",
          "2024-04-08T10:00:00.000000000",
          "2024-04-08T10:15:00.000000000",
          "2024-04-08T10:30:00.000000000",
          "2024-04-08T10:45:00.000000000",
          "2024-04-08T11:00:00.000000000",
          "2024-04-08T11:15:00.000000000",
          "2024-04-08T11:30:00.000000000",
          "2024-04-08T11:45:00.000000000",
          "2024-04-08T12:00:00.000000000",
          "2024-04-08T12:15:00.000000000",
          "2024-04-08T12:30:00.000000000",
          "2024-04-08T12:45:00.000000000",
          "2024-04-08T13:00:00.000000000",
          "2024-04-08T13:15:00.000000000",
          "2024-04-08T13:30:00.000000000",
          "2024-04-08T13:45:00.000000000",
          "2024-04-08T14:00:00.000000000",
          "2024-04-08T14:15:00.000000000",
          "2024-04-08T14:30:00.000000000",
          "2024-04-08T14:45:00.000000000",
          "2024-04-08T15:00:00.000000000",
          "2024-04-08T15:15:00.000000000",
          "2024-04-08T15:30:00.000000000",
          "2024-04-08T15:45:00.000000000",
          "2024-04-08T16:00:00.000000000",
          "2024-04-08T16:15:00.000000000",
          "2024-04-08T16:30:00.000000000",
          "2024-04-08T16:45:00.000000000",
          "2024-04-08T17:00:00.000000000",
          "2024-04-08T17:15:00.000000000",
          "2024-04-08T17:30:00.000000000",
          "2024-04-08T17:45:00.000000000",
          "2024-04-08T18:00:00.000000000",
          "2024-04-08T18:15:00.000000000",
          "2024-04-08T18:30:00.000000000",
          "2024-04-08T18:45:00.000000000",
          "2024-04-08T19:00:00.000000000",
          "2024-04-08T19:15:00.000000000",
          "2024-04-08T19:30:00.000000000",
          "2024-04-08T19:45:00.000000000",
          "2024-04-08T20:00:00.000000000",
          "2024-04-08T20:15:00.000000000",
          "2024-04-08T20:30:00.000000000",
          "2024-04-08T20:45:00.000000000",
          "2024-04-08T21:00:00.000000000",
          "2024-04-08T21:15:00.000000000",
          "2024-04-08T21:30:00.000000000",
          "2024-04-08T21:45:00.000000000",
          "2024-04-08T22:00:00.000000000",
          "2024-04-08T22:15:00.000000000",
          "2024-04-08T22:30:00.000000000",
          "2024-04-08T22:45:00.000000000",
          "2024-04-08T23:00:00.000000000",
          "2024-04-08T23:15:00.000000000",
          "2024-04-08T23:30:00.000000000",
          "2024-04-08T23:45:00.000000000"
         ],
         "y": [
          0,
          0,
          0,
          0,
          0,
          0,
          0,
          0,
          0,
          0,
          0,
          0,
          0,
          0,
          0,
          0,
          0,
          0,
          0,
          0,
          0,
          0,
          0,
          0,
          6,
          0,
          0,
          0,
          0,
          0,
          0,
          0,
          0,
          23,
          13,
          0,
          1,
          0,
          1,
          10,
          0,
          0,
          0,
          0,
          0,
          0,
          4,
          39,
          2,
          0,
          1,
          3,
          51,
          37,
          39,
          10,
          2,
          5,
          11,
          8,
          47,
          32,
          2,
          2,
          0,
          0,
          4,
          0,
          36,
          1,
          0,
          0,
          5,
          0,
          0,
          0,
          0,
          0,
          0,
          0,
          0,
          0,
          0,
          0,
          0,
          0,
          0,
          0,
          0,
          0,
          0,
          0,
          0,
          0,
          0,
          0
         ]
        },
        {
         "mode": "lines+markers",
         "name": "cluster 5",
         "type": "scatter",
         "x": [
          "2024-04-08T00:00:00.000000000",
          "2024-04-08T00:15:00.000000000",
          "2024-04-08T00:30:00.000000000",
          "2024-04-08T00:45:00.000000000",
          "2024-04-08T01:00:00.000000000",
          "2024-04-08T01:15:00.000000000",
          "2024-04-08T01:30:00.000000000",
          "2024-04-08T01:45:00.000000000",
          "2024-04-08T02:00:00.000000000",
          "2024-04-08T02:15:00.000000000",
          "2024-04-08T02:30:00.000000000",
          "2024-04-08T02:45:00.000000000",
          "2024-04-08T03:00:00.000000000",
          "2024-04-08T03:15:00.000000000",
          "2024-04-08T03:30:00.000000000",
          "2024-04-08T03:45:00.000000000",
          "2024-04-08T04:00:00.000000000",
          "2024-04-08T04:15:00.000000000",
          "2024-04-08T04:30:00.000000000",
          "2024-04-08T04:45:00.000000000",
          "2024-04-08T05:00:00.000000000",
          "2024-04-08T05:15:00.000000000",
          "2024-04-08T05:30:00.000000000",
          "2024-04-08T05:45:00.000000000",
          "2024-04-08T06:00:00.000000000",
          "2024-04-08T06:15:00.000000000",
          "2024-04-08T06:30:00.000000000",
          "2024-04-08T06:45:00.000000000",
          "2024-04-08T07:00:00.000000000",
          "2024-04-08T07:15:00.000000000",
          "2024-04-08T07:30:00.000000000",
          "2024-04-08T07:45:00.000000000",
          "2024-04-08T08:00:00.000000000",
          "2024-04-08T08:15:00.000000000",
          "2024-04-08T08:30:00.000000000",
          "2024-04-08T08:45:00.000000000",
          "2024-04-08T09:00:00.000000000",
          "2024-04-08T09:15:00.000000000",
          "2024-04-08T09:30:00.000000000",
          "2024-04-08T09:45:00.000000000",
          "2024-04-08T10:00:00.000000000",
          "2024-04-08T10:15:00.000000000",
          "2024-04-08T10:30:00.000000000",
          "2024-04-08T10:45:00.000000000",
          "2024-04-08T11:00:00.000000000",
          "2024-04-08T11:15:00.000000000",
          "2024-04-08T11:30:00.000000000",
          "2024-04-08T11:45:00.000000000",
          "2024-04-08T12:00:00.000000000",
          "2024-04-08T12:15:00.000000000",
          "2024-04-08T12:30:00.000000000",
          "2024-04-08T12:45:00.000000000",
          "2024-04-08T13:00:00.000000000",
          "2024-04-08T13:15:00.000000000",
          "2024-04-08T13:30:00.000000000",
          "2024-04-08T13:45:00.000000000",
          "2024-04-08T14:00:00.000000000",
          "2024-04-08T14:15:00.000000000",
          "2024-04-08T14:30:00.000000000",
          "2024-04-08T14:45:00.000000000",
          "2024-04-08T15:00:00.000000000",
          "2024-04-08T15:15:00.000000000",
          "2024-04-08T15:30:00.000000000",
          "2024-04-08T15:45:00.000000000",
          "2024-04-08T16:00:00.000000000",
          "2024-04-08T16:15:00.000000000",
          "2024-04-08T16:30:00.000000000",
          "2024-04-08T16:45:00.000000000",
          "2024-04-08T17:00:00.000000000",
          "2024-04-08T17:15:00.000000000",
          "2024-04-08T17:30:00.000000000",
          "2024-04-08T17:45:00.000000000",
          "2024-04-08T18:00:00.000000000",
          "2024-04-08T18:15:00.000000000",
          "2024-04-08T18:30:00.000000000",
          "2024-04-08T18:45:00.000000000",
          "2024-04-08T19:00:00.000000000",
          "2024-04-08T19:15:00.000000000",
          "2024-04-08T19:30:00.000000000",
          "2024-04-08T19:45:00.000000000",
          "2024-04-08T20:00:00.000000000",
          "2024-04-08T20:15:00.000000000",
          "2024-04-08T20:30:00.000000000",
          "2024-04-08T20:45:00.000000000",
          "2024-04-08T21:00:00.000000000",
          "2024-04-08T21:15:00.000000000",
          "2024-04-08T21:30:00.000000000",
          "2024-04-08T21:45:00.000000000",
          "2024-04-08T22:00:00.000000000",
          "2024-04-08T22:15:00.000000000",
          "2024-04-08T22:30:00.000000000",
          "2024-04-08T22:45:00.000000000",
          "2024-04-08T23:00:00.000000000",
          "2024-04-08T23:15:00.000000000",
          "2024-04-08T23:30:00.000000000",
          "2024-04-08T23:45:00.000000000"
         ],
         "y": [
          0,
          0,
          0,
          0,
          0,
          0,
          0,
          0,
          0,
          0,
          0,
          0,
          0,
          0,
          0,
          0,
          0,
          0,
          0,
          0,
          0,
          0,
          0,
          0,
          0,
          4.5,
          2,
          0.5,
          0,
          0,
          0,
          0,
          8.5,
          13.5,
          5,
          1.5,
          0.5,
          0.5,
          0.5,
          0,
          15,
          6,
          0.5,
          0,
          0.5,
          1,
          1.5,
          1,
          1.5,
          0,
          0,
          0,
          0,
          0,
          10.5,
          1,
          0,
          0,
          0,
          0.5,
          2.5,
          38.5,
          8.5,
          0,
          0,
          1,
          1.5,
          1.5,
          43,
          10.5,
          1,
          0.5,
          0.5,
          1.9999999999999998,
          0,
          0,
          0,
          0,
          0,
          0.5,
          0,
          0,
          0,
          0,
          0,
          0,
          0,
          0,
          0,
          0,
          0,
          0,
          0,
          0,
          0,
          0
         ]
        },
        {
         "mode": "lines+markers",
         "name": "cluster 6",
         "type": "scatter",
         "x": [
          "2024-04-08T00:00:00.000000000",
          "2024-04-08T00:15:00.000000000",
          "2024-04-08T00:30:00.000000000",
          "2024-04-08T00:45:00.000000000",
          "2024-04-08T01:00:00.000000000",
          "2024-04-08T01:15:00.000000000",
          "2024-04-08T01:30:00.000000000",
          "2024-04-08T01:45:00.000000000",
          "2024-04-08T02:00:00.000000000",
          "2024-04-08T02:15:00.000000000",
          "2024-04-08T02:30:00.000000000",
          "2024-04-08T02:45:00.000000000",
          "2024-04-08T03:00:00.000000000",
          "2024-04-08T03:15:00.000000000",
          "2024-04-08T03:30:00.000000000",
          "2024-04-08T03:45:00.000000000",
          "2024-04-08T04:00:00.000000000",
          "2024-04-08T04:15:00.000000000",
          "2024-04-08T04:30:00.000000000",
          "2024-04-08T04:45:00.000000000",
          "2024-04-08T05:00:00.000000000",
          "2024-04-08T05:15:00.000000000",
          "2024-04-08T05:30:00.000000000",
          "2024-04-08T05:45:00.000000000",
          "2024-04-08T06:00:00.000000000",
          "2024-04-08T06:15:00.000000000",
          "2024-04-08T06:30:00.000000000",
          "2024-04-08T06:45:00.000000000",
          "2024-04-08T07:00:00.000000000",
          "2024-04-08T07:15:00.000000000",
          "2024-04-08T07:30:00.000000000",
          "2024-04-08T07:45:00.000000000",
          "2024-04-08T08:00:00.000000000",
          "2024-04-08T08:15:00.000000000",
          "2024-04-08T08:30:00.000000000",
          "2024-04-08T08:45:00.000000000",
          "2024-04-08T09:00:00.000000000",
          "2024-04-08T09:15:00.000000000",
          "2024-04-08T09:30:00.000000000",
          "2024-04-08T09:45:00.000000000",
          "2024-04-08T10:00:00.000000000",
          "2024-04-08T10:15:00.000000000",
          "2024-04-08T10:30:00.000000000",
          "2024-04-08T10:45:00.000000000",
          "2024-04-08T11:00:00.000000000",
          "2024-04-08T11:15:00.000000000",
          "2024-04-08T11:30:00.000000000",
          "2024-04-08T11:45:00.000000000",
          "2024-04-08T12:00:00.000000000",
          "2024-04-08T12:15:00.000000000",
          "2024-04-08T12:30:00.000000000",
          "2024-04-08T12:45:00.000000000",
          "2024-04-08T13:00:00.000000000",
          "2024-04-08T13:15:00.000000000",
          "2024-04-08T13:30:00.000000000",
          "2024-04-08T13:45:00.000000000",
          "2024-04-08T14:00:00.000000000",
          "2024-04-08T14:15:00.000000000",
          "2024-04-08T14:30:00.000000000",
          "2024-04-08T14:45:00.000000000",
          "2024-04-08T15:00:00.000000000",
          "2024-04-08T15:15:00.000000000",
          "2024-04-08T15:30:00.000000000",
          "2024-04-08T15:45:00.000000000",
          "2024-04-08T16:00:00.000000000",
          "2024-04-08T16:15:00.000000000",
          "2024-04-08T16:30:00.000000000",
          "2024-04-08T16:45:00.000000000",
          "2024-04-08T17:00:00.000000000",
          "2024-04-08T17:15:00.000000000",
          "2024-04-08T17:30:00.000000000",
          "2024-04-08T17:45:00.000000000",
          "2024-04-08T18:00:00.000000000",
          "2024-04-08T18:15:00.000000000",
          "2024-04-08T18:30:00.000000000",
          "2024-04-08T18:45:00.000000000",
          "2024-04-08T19:00:00.000000000",
          "2024-04-08T19:15:00.000000000",
          "2024-04-08T19:30:00.000000000",
          "2024-04-08T19:45:00.000000000",
          "2024-04-08T20:00:00.000000000",
          "2024-04-08T20:15:00.000000000",
          "2024-04-08T20:30:00.000000000",
          "2024-04-08T20:45:00.000000000",
          "2024-04-08T21:00:00.000000000",
          "2024-04-08T21:15:00.000000000",
          "2024-04-08T21:30:00.000000000",
          "2024-04-08T21:45:00.000000000",
          "2024-04-08T22:00:00.000000000",
          "2024-04-08T22:15:00.000000000",
          "2024-04-08T22:30:00.000000000",
          "2024-04-08T22:45:00.000000000",
          "2024-04-08T23:00:00.000000000",
          "2024-04-08T23:15:00.000000000",
          "2024-04-08T23:30:00.000000000",
          "2024-04-08T23:45:00.000000000"
         ],
         "y": [
          0,
          0,
          0,
          0,
          0,
          0,
          0,
          0,
          0,
          0,
          0,
          0,
          0,
          0,
          0,
          0,
          0,
          0,
          0,
          0,
          0,
          0,
          0,
          -1.3877787807814457e-17,
          1.8,
          0.8,
          0,
          0.8000000000000003,
          0.19999999999999998,
          1.9999999999999998,
          0.19999999999999998,
          1.2000000000000002,
          5,
          11.8,
          6.6000000000000005,
          1,
          0.8000000000000002,
          0.4,
          0.4,
          1.6,
          11.8,
          4.4,
          0.4,
          0,
          0.8,
          2.8000000000000007,
          16.2,
          31,
          6.200000000000001,
          2.2000000000000006,
          2.4000000000000004,
          0.4,
          1.4,
          0.5999999999999999,
          3.9999999999999996,
          5.600000000000001,
          2.2,
          9.599999999999998,
          1.6,
          0.4,
          7.199999999999999,
          2.1999999999999997,
          1.4,
          0.40000000000000013,
          10.600000000000001,
          2.599999999999999,
          0,
          0.4,
          0.20000000000000018,
          0,
          0.2,
          -1.3877787807814457e-17,
          0,
          0,
          0,
          0,
          0,
          0,
          0,
          0.6000000000000001,
          -1.3877787807814457e-17,
          0.4,
          0,
          0,
          0,
          0,
          0,
          0,
          0,
          0,
          0,
          0,
          0,
          0,
          0,
          0
         ]
        }
       ],
       "layout": {
        "template": {
         "data": {
          "bar": [
           {
            "error_x": {
             "color": "#2a3f5f"
            },
            "error_y": {
             "color": "#2a3f5f"
            },
            "marker": {
             "line": {
              "color": "#E5ECF6",
              "width": 0.5
             },
             "pattern": {
              "fillmode": "overlay",
              "size": 10,
              "solidity": 0.2
             }
            },
            "type": "bar"
           }
          ],
          "barpolar": [
           {
            "marker": {
             "line": {
              "color": "#E5ECF6",
              "width": 0.5
             },
             "pattern": {
              "fillmode": "overlay",
              "size": 10,
              "solidity": 0.2
             }
            },
            "type": "barpolar"
           }
          ],
          "carpet": [
           {
            "aaxis": {
             "endlinecolor": "#2a3f5f",
             "gridcolor": "white",
             "linecolor": "white",
             "minorgridcolor": "white",
             "startlinecolor": "#2a3f5f"
            },
            "baxis": {
             "endlinecolor": "#2a3f5f",
             "gridcolor": "white",
             "linecolor": "white",
             "minorgridcolor": "white",
             "startlinecolor": "#2a3f5f"
            },
            "type": "carpet"
           }
          ],
          "choropleth": [
           {
            "colorbar": {
             "outlinewidth": 0,
             "ticks": ""
            },
            "type": "choropleth"
           }
          ],
          "contour": [
           {
            "colorbar": {
             "outlinewidth": 0,
             "ticks": ""
            },
            "colorscale": [
             [
              0,
              "#0d0887"
             ],
             [
              0.1111111111111111,
              "#46039f"
             ],
             [
              0.2222222222222222,
              "#7201a8"
             ],
             [
              0.3333333333333333,
              "#9c179e"
             ],
             [
              0.4444444444444444,
              "#bd3786"
             ],
             [
              0.5555555555555556,
              "#d8576b"
             ],
             [
              0.6666666666666666,
              "#ed7953"
             ],
             [
              0.7777777777777778,
              "#fb9f3a"
             ],
             [
              0.8888888888888888,
              "#fdca26"
             ],
             [
              1,
              "#f0f921"
             ]
            ],
            "type": "contour"
           }
          ],
          "contourcarpet": [
           {
            "colorbar": {
             "outlinewidth": 0,
             "ticks": ""
            },
            "type": "contourcarpet"
           }
          ],
          "heatmap": [
           {
            "colorbar": {
             "outlinewidth": 0,
             "ticks": ""
            },
            "colorscale": [
             [
              0,
              "#0d0887"
             ],
             [
              0.1111111111111111,
              "#46039f"
             ],
             [
              0.2222222222222222,
              "#7201a8"
             ],
             [
              0.3333333333333333,
              "#9c179e"
             ],
             [
              0.4444444444444444,
              "#bd3786"
             ],
             [
              0.5555555555555556,
              "#d8576b"
             ],
             [
              0.6666666666666666,
              "#ed7953"
             ],
             [
              0.7777777777777778,
              "#fb9f3a"
             ],
             [
              0.8888888888888888,
              "#fdca26"
             ],
             [
              1,
              "#f0f921"
             ]
            ],
            "type": "heatmap"
           }
          ],
          "heatmapgl": [
           {
            "colorbar": {
             "outlinewidth": 0,
             "ticks": ""
            },
            "colorscale": [
             [
              0,
              "#0d0887"
             ],
             [
              0.1111111111111111,
              "#46039f"
             ],
             [
              0.2222222222222222,
              "#7201a8"
             ],
             [
              0.3333333333333333,
              "#9c179e"
             ],
             [
              0.4444444444444444,
              "#bd3786"
             ],
             [
              0.5555555555555556,
              "#d8576b"
             ],
             [
              0.6666666666666666,
              "#ed7953"
             ],
             [
              0.7777777777777778,
              "#fb9f3a"
             ],
             [
              0.8888888888888888,
              "#fdca26"
             ],
             [
              1,
              "#f0f921"
             ]
            ],
            "type": "heatmapgl"
           }
          ],
          "histogram": [
           {
            "marker": {
             "pattern": {
              "fillmode": "overlay",
              "size": 10,
              "solidity": 0.2
             }
            },
            "type": "histogram"
           }
          ],
          "histogram2d": [
           {
            "colorbar": {
             "outlinewidth": 0,
             "ticks": ""
            },
            "colorscale": [
             [
              0,
              "#0d0887"
             ],
             [
              0.1111111111111111,
              "#46039f"
             ],
             [
              0.2222222222222222,
              "#7201a8"
             ],
             [
              0.3333333333333333,
              "#9c179e"
             ],
             [
              0.4444444444444444,
              "#bd3786"
             ],
             [
              0.5555555555555556,
              "#d8576b"
             ],
             [
              0.6666666666666666,
              "#ed7953"
             ],
             [
              0.7777777777777778,
              "#fb9f3a"
             ],
             [
              0.8888888888888888,
              "#fdca26"
             ],
             [
              1,
              "#f0f921"
             ]
            ],
            "type": "histogram2d"
           }
          ],
          "histogram2dcontour": [
           {
            "colorbar": {
             "outlinewidth": 0,
             "ticks": ""
            },
            "colorscale": [
             [
              0,
              "#0d0887"
             ],
             [
              0.1111111111111111,
              "#46039f"
             ],
             [
              0.2222222222222222,
              "#7201a8"
             ],
             [
              0.3333333333333333,
              "#9c179e"
             ],
             [
              0.4444444444444444,
              "#bd3786"
             ],
             [
              0.5555555555555556,
              "#d8576b"
             ],
             [
              0.6666666666666666,
              "#ed7953"
             ],
             [
              0.7777777777777778,
              "#fb9f3a"
             ],
             [
              0.8888888888888888,
              "#fdca26"
             ],
             [
              1,
              "#f0f921"
             ]
            ],
            "type": "histogram2dcontour"
           }
          ],
          "mesh3d": [
           {
            "colorbar": {
             "outlinewidth": 0,
             "ticks": ""
            },
            "type": "mesh3d"
           }
          ],
          "parcoords": [
           {
            "line": {
             "colorbar": {
              "outlinewidth": 0,
              "ticks": ""
             }
            },
            "type": "parcoords"
           }
          ],
          "pie": [
           {
            "automargin": true,
            "type": "pie"
           }
          ],
          "scatter": [
           {
            "fillpattern": {
             "fillmode": "overlay",
             "size": 10,
             "solidity": 0.2
            },
            "type": "scatter"
           }
          ],
          "scatter3d": [
           {
            "line": {
             "colorbar": {
              "outlinewidth": 0,
              "ticks": ""
             }
            },
            "marker": {
             "colorbar": {
              "outlinewidth": 0,
              "ticks": ""
             }
            },
            "type": "scatter3d"
           }
          ],
          "scattercarpet": [
           {
            "marker": {
             "colorbar": {
              "outlinewidth": 0,
              "ticks": ""
             }
            },
            "type": "scattercarpet"
           }
          ],
          "scattergeo": [
           {
            "marker": {
             "colorbar": {
              "outlinewidth": 0,
              "ticks": ""
             }
            },
            "type": "scattergeo"
           }
          ],
          "scattergl": [
           {
            "marker": {
             "colorbar": {
              "outlinewidth": 0,
              "ticks": ""
             }
            },
            "type": "scattergl"
           }
          ],
          "scattermapbox": [
           {
            "marker": {
             "colorbar": {
              "outlinewidth": 0,
              "ticks": ""
             }
            },
            "type": "scattermapbox"
           }
          ],
          "scatterpolar": [
           {
            "marker": {
             "colorbar": {
              "outlinewidth": 0,
              "ticks": ""
             }
            },
            "type": "scatterpolar"
           }
          ],
          "scatterpolargl": [
           {
            "marker": {
             "colorbar": {
              "outlinewidth": 0,
              "ticks": ""
             }
            },
            "type": "scatterpolargl"
           }
          ],
          "scatterternary": [
           {
            "marker": {
             "colorbar": {
              "outlinewidth": 0,
              "ticks": ""
             }
            },
            "type": "scatterternary"
           }
          ],
          "surface": [
           {
            "colorbar": {
             "outlinewidth": 0,
             "ticks": ""
            },
            "colorscale": [
             [
              0,
              "#0d0887"
             ],
             [
              0.1111111111111111,
              "#46039f"
             ],
             [
              0.2222222222222222,
              "#7201a8"
             ],
             [
              0.3333333333333333,
              "#9c179e"
             ],
             [
              0.4444444444444444,
              "#bd3786"
             ],
             [
              0.5555555555555556,
              "#d8576b"
             ],
             [
              0.6666666666666666,
              "#ed7953"
             ],
             [
              0.7777777777777778,
              "#fb9f3a"
             ],
             [
              0.8888888888888888,
              "#fdca26"
             ],
             [
              1,
              "#f0f921"
             ]
            ],
            "type": "surface"
           }
          ],
          "table": [
           {
            "cells": {
             "fill": {
              "color": "#EBF0F8"
             },
             "line": {
              "color": "white"
             }
            },
            "header": {
             "fill": {
              "color": "#C8D4E3"
             },
             "line": {
              "color": "white"
             }
            },
            "type": "table"
           }
          ]
         },
         "layout": {
          "annotationdefaults": {
           "arrowcolor": "#2a3f5f",
           "arrowhead": 0,
           "arrowwidth": 1
          },
          "autotypenumbers": "strict",
          "coloraxis": {
           "colorbar": {
            "outlinewidth": 0,
            "ticks": ""
           }
          },
          "colorscale": {
           "diverging": [
            [
             0,
             "#8e0152"
            ],
            [
             0.1,
             "#c51b7d"
            ],
            [
             0.2,
             "#de77ae"
            ],
            [
             0.3,
             "#f1b6da"
            ],
            [
             0.4,
             "#fde0ef"
            ],
            [
             0.5,
             "#f7f7f7"
            ],
            [
             0.6,
             "#e6f5d0"
            ],
            [
             0.7,
             "#b8e186"
            ],
            [
             0.8,
             "#7fbc41"
            ],
            [
             0.9,
             "#4d9221"
            ],
            [
             1,
             "#276419"
            ]
           ],
           "sequential": [
            [
             0,
             "#0d0887"
            ],
            [
             0.1111111111111111,
             "#46039f"
            ],
            [
             0.2222222222222222,
             "#7201a8"
            ],
            [
             0.3333333333333333,
             "#9c179e"
            ],
            [
             0.4444444444444444,
             "#bd3786"
            ],
            [
             0.5555555555555556,
             "#d8576b"
            ],
            [
             0.6666666666666666,
             "#ed7953"
            ],
            [
             0.7777777777777778,
             "#fb9f3a"
            ],
            [
             0.8888888888888888,
             "#fdca26"
            ],
            [
             1,
             "#f0f921"
            ]
           ],
           "sequentialminus": [
            [
             0,
             "#0d0887"
            ],
            [
             0.1111111111111111,
             "#46039f"
            ],
            [
             0.2222222222222222,
             "#7201a8"
            ],
            [
             0.3333333333333333,
             "#9c179e"
            ],
            [
             0.4444444444444444,
             "#bd3786"
            ],
            [
             0.5555555555555556,
             "#d8576b"
            ],
            [
             0.6666666666666666,
             "#ed7953"
            ],
            [
             0.7777777777777778,
             "#fb9f3a"
            ],
            [
             0.8888888888888888,
             "#fdca26"
            ],
            [
             1,
             "#f0f921"
            ]
           ]
          },
          "colorway": [
           "#636efa",
           "#EF553B",
           "#00cc96",
           "#ab63fa",
           "#FFA15A",
           "#19d3f3",
           "#FF6692",
           "#B6E880",
           "#FF97FF",
           "#FECB52"
          ],
          "font": {
           "color": "#2a3f5f"
          },
          "geo": {
           "bgcolor": "white",
           "lakecolor": "white",
           "landcolor": "#E5ECF6",
           "showlakes": true,
           "showland": true,
           "subunitcolor": "white"
          },
          "hoverlabel": {
           "align": "left"
          },
          "hovermode": "closest",
          "mapbox": {
           "style": "light"
          },
          "paper_bgcolor": "white",
          "plot_bgcolor": "#E5ECF6",
          "polar": {
           "angularaxis": {
            "gridcolor": "white",
            "linecolor": "white",
            "ticks": ""
           },
           "bgcolor": "#E5ECF6",
           "radialaxis": {
            "gridcolor": "white",
            "linecolor": "white",
            "ticks": ""
           }
          },
          "scene": {
           "xaxis": {
            "backgroundcolor": "#E5ECF6",
            "gridcolor": "white",
            "gridwidth": 2,
            "linecolor": "white",
            "showbackground": true,
            "ticks": "",
            "zerolinecolor": "white"
           },
           "yaxis": {
            "backgroundcolor": "#E5ECF6",
            "gridcolor": "white",
            "gridwidth": 2,
            "linecolor": "white",
            "showbackground": true,
            "ticks": "",
            "zerolinecolor": "white"
           },
           "zaxis": {
            "backgroundcolor": "#E5ECF6",
            "gridcolor": "white",
            "gridwidth": 2,
            "linecolor": "white",
            "showbackground": true,
            "ticks": "",
            "zerolinecolor": "white"
           }
          },
          "shapedefaults": {
           "line": {
            "color": "#2a3f5f"
           }
          },
          "ternary": {
           "aaxis": {
            "gridcolor": "white",
            "linecolor": "white",
            "ticks": ""
           },
           "baxis": {
            "gridcolor": "white",
            "linecolor": "white",
            "ticks": ""
           },
           "bgcolor": "#E5ECF6",
           "caxis": {
            "gridcolor": "white",
            "linecolor": "white",
            "ticks": ""
           }
          },
          "title": {
           "x": 0.05
          },
          "xaxis": {
           "automargin": true,
           "gridcolor": "white",
           "linecolor": "white",
           "ticks": "",
           "title": {
            "standoff": 15
           },
           "zerolinecolor": "white",
           "zerolinewidth": 2
          },
          "yaxis": {
           "automargin": true,
           "gridcolor": "white",
           "linecolor": "white",
           "ticks": "",
           "title": {
            "standoff": 15
           },
           "zerolinecolor": "white",
           "zerolinewidth": 2
          }
         }
        }
       }
      }
     },
     "metadata": {},
     "output_type": "display_data"
    }
   ],
   "source": [
    "indices = np.arange(len(samples))\n",
    "\n",
    "fig = go.Figure()\n",
    "\n",
    "for i in range(n_clusters):\n",
    "\n",
    "    cluster_indices = indices[clustering_model.labels_ == i]\n",
    "    cluster_center = clustering_model.cluster_centers_[i]\n",
    "    \n",
    "    \n",
    "    cluster_group_list = group_list[cluster_indices]\n",
    "\n",
    "    print(f\"################ {i} ################\")\n",
    "    print(cluster_indices)\n",
    "    print(cluster_group_list)\n",
    "    print()\n",
    "    \n",
    "    # line plot\n",
    "    fig.add_trace(\n",
    "        go.Scatter(\n",
    "            x=times[0], \n",
    "            y=cluster_center, \n",
    "            name=f'cluster {i}',\n",
    "            mode=\"lines+markers\"        \n",
    "        )\n",
    "    )\n",
    "        \n",
    "fig.show()"
   ]
  },
  {
   "cell_type": "markdown",
   "metadata": {},
   "source": [
    "## 2. Train and Test split"
   ]
  },
  {
   "cell_type": "code",
   "execution_count": null,
   "metadata": {},
   "outputs": [],
   "source": [
    "data_filterd = filter_room_id(data, 0)\n",
    "data_filterd = filter_event_type(data_filterd, 1)\n",
    "\n",
    "\n",
    "#train, test = train_test_split(samples, test_size=0.1, random_state=42)\n",
    "\n",
    "#train = np.array(train)\n",
    "#test = np.array(test)\n",
    "\n",
    "#kf = KFold(n_splits=10)\n",
    "\n",
    "#for train_index, valid_index in kf.split(train):\n",
    "    \n",
    "#    train_fold = train[train_index]\n",
    "#    valid_fold = train[valid_index]\n",
    "    \n",
    "#    break"
   ]
  },
  {
   "cell_type": "markdown",
   "metadata": {},
   "source": [
    "## 3. Occupancy Forecasting"
   ]
  },
  {
   "cell_type": "code",
   "execution_count": null,
   "metadata": {},
   "outputs": [],
   "source": [
    "# check out some of the papers in the review\n",
    "# start with some traditional methods"
   ]
  },
  {
   "cell_type": "code",
   "execution_count": null,
   "metadata": {},
   "outputs": [],
   "source": []
  },
  {
   "cell_type": "markdown",
   "metadata": {},
   "source": [
    "## 4. Count Forecasting\n",
    "### Try more general approach if 1. is too hard, gather literature on count forecasting"
   ]
  },
  {
   "cell_type": "markdown",
   "metadata": {},
   "source": []
  }
 ],
 "metadata": {
  "kernelspec": {
   "display_name": "webapp",
   "language": "python",
   "name": "python3"
  },
  "language_info": {
   "codemirror_mode": {
    "name": "ipython",
    "version": 3
   },
   "file_extension": ".py",
   "mimetype": "text/x-python",
   "name": "python",
   "nbconvert_exporter": "python",
   "pygments_lexer": "ipython3",
   "version": "3.12.2"
  }
 },
 "nbformat": 4,
 "nbformat_minor": 2
}
