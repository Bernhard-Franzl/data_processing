{
 "cells": [
  {
   "cell_type": "markdown",
   "id": "43ea3c26",
   "metadata": {},
   "source": [
    "# Assignment 2: Training the Fully Recurrent Network\n",
    "\n",
    "*Author:* Thomas Adler\n",
    "\n",
    "*Copyright statement:* This  material,  no  matter  whether  in  printed  or  electronic  form,  may  be  used  for  personal  and non-commercial educational use only.  Any reproduction of this manuscript, no matter whether as a whole or in parts, no matter whether in printed or in electronic form, requires explicit prior acceptance of the authors.\n",
    "\n",
    "\n",
    "## Exercise 1: Data generation\n",
    "\n",
    "There are two classes, both occurring with probability 0.5. There is one input unit. Only the first sequence element conveys relevant information about the class. Sequence elements at positions $t > 1$ stem from a Gaussian with mean zero and variance 0.2. The first sequence element is 1.0 (-1.0) for class 1 (2). Target at sequence end is 1.0 (0.0) for class 1 (2)\n",
    "\n",
    "Write a function `generate_data` that takes an integer `T` as argument which represents the sequence length. Seed the `numpy` random generator with the number `0xDEADBEEF`. Implement the [Python3 generator](https://docs.python.org/3/glossary.html#term-generator) pattern and produce data in the way described above. The input sequences should have the shape `(T, 1)` and the target values should have the shape `(1,)`."
   ]
  },
  {
   "cell_type": "code",
   "execution_count": 1,
   "id": "04244bb3",
   "metadata": {
    "ExecuteTime": {
     "end_time": "2022-12-07T16:44:39.573530Z",
     "start_time": "2022-12-07T16:44:38.915316Z"
    },
    "code_folding": []
   },
   "outputs": [],
   "source": [
    "%matplotlib inline\n",
    "import numpy as np\n",
    "from scipy.special import expit as sigmoid\n",
    "import matplotlib.pyplot as plt\n",
    "\n",
    "class FullyRecurrentNetwork(object):\n",
    "    def __init__(self, D, I, K):\n",
    "        self.W = np.random.uniform(-0.01, 0.01, (I, D))\n",
    "        self.R = np.random.uniform(-0.01, 0.01, (I, I))\n",
    "        self.V = np.random.uniform(-0.01, 0.01, (K, I))\n",
    "    \n",
    "    def forward(self, x, y):\n",
    "        # helper function for numerically stable loss\n",
    "        def f(z):\n",
    "            return np.log1p(np.exp(-np.absolute(z))) + np.maximum(0, z)\n",
    "        \n",
    "        # infer dims\n",
    "        T, D = x.shape\n",
    "        K, I = self.V.shape\n",
    "\n",
    "        # init result arrays\n",
    "        self.x = x\n",
    "        self.y = y\n",
    "        self.a = np.zeros((T, I))\n",
    "\n",
    "        # iterate forward in time \n",
    "        # trick: access model.a[-1] in first iteration\n",
    "        for t in range(T):\n",
    "            self.a[t] = np.tanh(self.W @ x[t] + self.R @ self.a[t-1])\n",
    "            \n",
    "        self.z = model.V @ self.a[t]\n",
    "        return y * f(-self.z) + (1-y) * f(self.z)\n",
    "\n",
    "T, D, I, K = 10, 3, 5, 1\n",
    "model = FullyRecurrentNetwork(D, I, K)\n",
    "model.forward(np.random.uniform(-1, 1, (T, D)), 1)\n",
    "\n",
    "\n",
    "rng = np.random.default_rng(0xDEADBEEF)\n",
    "\n",
    "def generate_data(T):\n",
    "    ########## YOUR SOLUTION HERE ##########\n",
    "    \n",
    "    # initialize random number generator\n",
    "    \n",
    "    while True:\n",
    "        \n",
    "        # create array for sequence\n",
    "        x = np.zeros((T,1))\n",
    "        x[0] = rng.choice([1.0, -1.0], size=1, p=[0.5,0.5]) #1,-1\n",
    "        x[1:T] = rng.normal(loc=0.0, scale=np.sqrt(0.2), size=(T-1,1))\n",
    "\n",
    "        # create target values depending on class\n",
    "        if x[0] == 1.0:\n",
    "            y = np.array([1]) #1\n",
    "        else:\n",
    "            y = np.array([0]) #0\n",
    "\n",
    "        yield x,y\n",
    "        \n",
    "data = generate_data(2)"
   ]
  },
  {
   "cell_type": "markdown",
   "id": "a9826f26",
   "metadata": {},
   "source": [
    "## Exercise 2: Gradients for the network parameters\n",
    "Compute gradients of the total loss \n",
    "$$\n",
    "L = \\sum_{t=1}^T L(t), \\quad \\text{where} \\quad L(t) = L(z(t), y(t))\n",
    "$$\n",
    "w.r.t. the weights of the fully recurrent network. To this end, find the derivative of the loss w.r.t. the logits and hidden pre-activations first, i.e., \n",
    "$$\n",
    "\\psi^\\top(t) = \\frac{\\partial L}{\\partial z(t)} \\quad \\text{and} \\quad \\delta^\\top(t) = \\frac{\\partial L}{\\partial s(t)}.\n",
    "$$\n",
    "With the help of these intermediate results you should be able to compute the gradients w.r.t. the weights, i.e., $\\nabla_W L, \\nabla_R L, \\nabla_V L$. \n",
    "\n",
    "*Hint: Take a look at the computational graph from the previous assignment to see the functional dependencies.*\n",
    "\n",
    "*Remark: Although we only have one label at the end of the sequence, we consider the more general case of evaluating a loss at every time step in this exercise (many-to-many mapping).*\n",
    "\n",
    "########## YOUR SOLUTION HERE ##########"
   ]
  },
  {
   "cell_type": "markdown",
   "id": "b400655c",
   "metadata": {},
   "source": [
    "$$\n",
    "\\begin{align*}\n",
    "\\psi^\\top(t) &= \\frac{\\partial L}{\\partial z^{T}(t)}\n",
    "= \\sum^{T}_{t=1} \\frac{\\partial L(t)}{\\partial z^{T}(t)}\n",
    "=\\sum^{T}_{t=1} \\frac{\\partial L(\\sigma(z(t)),y(t))}{\\partial z^{T}(t)} \n",
    "= \\sum^{T}_{t=1} (\\hat y(t) - y(t))^{T} \\\\ \n",
    "& \\Rightarrow \\text{ To derive the derivative above I refer to assignment 1, where we already showed that} \n",
    "\\\\\\\\\n",
    "\\delta^\\top(t) &= \\frac{\\partial L}{\\partial s^{T}(t)}\n",
    "= \\sum^{T}_{t=1} \\frac{\\partial L(t)}{\\partial s^{T}(t)} \n",
    "= \\sum^{T}_{t=1} (\\frac{\\partial L(t+1)}{\\partial z(t+1)} \\frac{\\partial z(t+1)}{\\partial a(t+1)} \\frac{\\partial a(t+1)}{\\partial s(t+1)} \\frac{\\partial s(t+1)}{\\partial a(t)} + \\frac{\\partial L(t)}{\\partial z(t)} \\frac{\\partial z(t)}{\\partial a(t)}) \\frac{\\partial a(t)}{\\partial s(t)}\\\\\n",
    "&= \\sum^{T}_{t=1} (\\delta^\\top(t+1) \\frac{\\partial s(t+1)}{\\partial a(t)} + \\frac{\\partial L(t)}{\\partial z(t)} \\frac{\\partial z(t)}{\\partial a(t)}) \\frac{\\partial a(t)}{\\partial s(t)}\\\\\n",
    "&= \\sum^{T}_{t=1} (\\delta^\\top(t+1) \\cdot R^{T} +  \\psi^\\top(t) \\cdot V) \\cdot \\text{diag}(1-\\tanh^{2}s(t))\n",
    "\\\\\\\\\n",
    "\\frac{\\partial L}{\\partial v_{ki}} &= \\sum^{T}_{t=1} \\frac{\\partial L(t)}{\\partial v_{ki}} \n",
    "= \\sum^{T}_{t=1} \\frac{\\partial L(t)}{\\partial z(t)} \\frac{\\partial z(t)}{\\partial v_{ki}}\n",
    "= \\sum^{T}_{t=1} \\frac{\\partial L(t)}{\\partial z_{k}(t)} \\frac{\\partial z_{k}(t)}{\\partial v_{ki}}\n",
    "= \\sum^{T}_{t=1} \\psi_{k}(t)\\tanh(s_{i}(t))\\\\\n",
    "& \\Rightarrow \\text{ Can be brought into outer product representation:} \\\\\n",
    "& \\frac{\\partial L}{\\partial V} = \\sum^{T}_{t=1} \\psi(t)\\tanh(s(t))^{T}\n",
    "\\\\\\\\\n",
    "\\frac{\\partial L}{\\partial w_{id}} &= \\sum^{T}_{t=1} \\frac{\\partial L(t)}{\\partial w_{id}} \n",
    "= \\sum^{T}_{t=1} \\frac{\\partial L(t)}{\\partial s(t)}\\frac{\\partial s(t)}{\\partial w_{id}}\n",
    "= \\sum^{T}_{t=1} \\frac{\\partial L(t)}{\\partial s_{i}(t)}\\frac{\\partial s_{i}(t)}{\\partial w_{id}}\n",
    "= \\sum^{T}_{t=1} \\delta_{i}(t)x_{d}(t)\\\\\n",
    "& \\Rightarrow \\text{ Can be brought into outer product representation:} \\\\\n",
    "& \\frac{\\partial L}{\\partial W} = \\sum^{T}_{t=1} \\delta(t)x(t)^{T}\n",
    "\\\\\\\\\n",
    "\\frac{\\partial L}{\\partial r_{ij}} &= \\sum^{T}_{t=1} \\frac{\\partial L(t)}{\\partial r_{ij}} \n",
    "= \\sum^{T}_{t=1} \\frac{\\partial L(t)}{\\partial s(t)}\\frac{\\partial s(t)}{\\partial r_{ij}}\n",
    "= \\sum^{T}_{t=1} \\frac{\\partial L(t)}{\\partial s_{i}(t)}\\frac{\\partial s_{i}(t)}{\\partial r_{ij}}\n",
    "= \\sum^{T}_{t=1} \\delta_{i}(t)a_{j}(t-1)\\\\\n",
    "& \\Rightarrow \\text{ Can be brought into outer product representation:} \\\\\n",
    "& \\frac{\\partial L}{\\partial R} = \\sum^{T}_{t=1} \\delta(t)a(t-1)^{T}\n",
    "\\\\\\\\\n",
    "\\end{align*}\n",
    "$$"
   ]
  },
  {
   "cell_type": "markdown",
   "id": "21968f2c",
   "metadata": {},
   "source": [
    "### Exercise 3: The backward pass\n",
    "Write a function `backward` that takes a model `self` as argument. The function should compute the gradients of the loss with respect to all model parameters and store them to `self.dW`, `self.dR`, `self.dV`, respectively. "
   ]
  },
  {
   "cell_type": "code",
   "execution_count": 2,
   "id": "42e3d13c",
   "metadata": {
    "ExecuteTime": {
     "end_time": "2022-12-07T16:44:39.580474Z",
     "start_time": "2022-12-07T16:44:39.574553Z"
    }
   },
   "outputs": [],
   "source": [
    "def backward(self):\n",
    "    \n",
    "    ########## YOUR SOLUTION HERE ##########   \n",
    "    \n",
    "    T, D = self.x.shape\n",
    "    K, I = self.V.shape\n",
    "    \n",
    "    self.dW = np.zeros(self.W.shape)\n",
    "    self.dR = np.zeros(self.R.shape)\n",
    "    self.dV = np.zeros(self.V.shape)\n",
    "    \n",
    "    delta = np.zeros((T+1, I, 1))\n",
    "    psi = np.zeros((T, K, 1))\n",
    "    psi[-1] = np.reshape((sigmoid(self.z) - self.y),(-1,1))\n",
    "    \n",
    "    for t in range(T-1,-1,-1):\n",
    "        delta[t] = ((delta[t+1].T @ self.R + psi[t].T @ self.V) @ np.diag(1- self.a[t]**2)).T\n",
    "        self.dV += psi[t] @ np.reshape(self.a[t],(1,-1))\n",
    "        self.dW += delta[t] @ np.reshape(self.x[t], (1,-1))\n",
    "        self.dR += delta[t] @ np.reshape(self.a[t-1], (1,-1))\n",
    "        \n",
    "FullyRecurrentNetwork.backward = backward\n",
    "model.backward()"
   ]
  },
  {
   "cell_type": "markdown",
   "id": "d58181c6",
   "metadata": {},
   "source": [
    "## Exercise 4: Gradient checking\n",
    "Write a function `grad_check` that takes a model `self`, a float `eps` and another float `thresh` as arguments and computes the numerical gradients of the model parameters according to the approximation\n",
    "$$\n",
    "f'(x) \\approx \\frac{f(x + \\varepsilon) - f(x - \\varepsilon)}{2 \\varepsilon}.\n",
    "$$\n",
    "If any of the analytical gradients are farther than `thresh` away from the numerical gradients the function should throw an error. "
   ]
  },
  {
   "cell_type": "code",
   "execution_count": 3,
   "id": "227e8631",
   "metadata": {
    "ExecuteTime": {
     "end_time": "2022-12-07T16:44:39.603337Z",
     "start_time": "2022-12-07T16:44:39.581965Z"
    },
    "code_folding": []
   },
   "outputs": [
    {
     "data": {
      "text/plain": [
       "True"
      ]
     },
     "execution_count": 3,
     "metadata": {},
     "output_type": "execute_result"
    }
   ],
   "source": [
    "def grad_check(self, eps, thresh):\n",
    "    ########## YOUR SOLUTION HERE ##########\n",
    "    \n",
    "    T, D = self.x.shape\n",
    "    K, I = self.V.shape\n",
    "    \n",
    "    def num_grad(parameter,eps):\n",
    "\n",
    "        rows, cols = parameter.shape\n",
    "        num_grad_matrix = np.zeros((rows,cols))\n",
    "        \n",
    "        for row in range(rows):\n",
    "            for col in range(cols):\n",
    "                # plus\n",
    "                parameter[row][col] += eps\n",
    "                L_plus = self.forward(self.x, self.y)\n",
    "\n",
    "                # minus\n",
    "                parameter[row][col] -= 2*eps\n",
    "                L_minus = self.forward(self.x, self.y)\n",
    "                parameter[row][col] += eps\n",
    "\n",
    "                # num grad\n",
    "                num_grad_matrix[row][col] = (L_plus - L_minus)/(2*eps)\n",
    "                \n",
    "        return num_grad_matrix\n",
    "    \n",
    "    num_dW = num_grad(self.W, eps)\n",
    "    num_dV = num_grad(self.V, eps)\n",
    "    num_dR = num_grad(self.R, eps)\n",
    "    \n",
    "    dW_check = np.all(np.abs(num_dW - self.dW) <= thresh)\n",
    "    dV_check = np.all(np.abs(num_dV - self.dV) <= thresh) \n",
    "    dR_check = np.all(np.abs(num_dR - self.dR) <= thresh)\n",
    "    \n",
    "    return dW_check and dV_check and dR_check\n",
    "\n",
    "FullyRecurrentNetwork.grad_check = grad_check\n",
    "model.grad_check(1e-7, 1e-7)"
   ]
  },
  {
   "cell_type": "markdown",
   "id": "0a5cdc05",
   "metadata": {},
   "source": [
    "## Exercise 5: Parameter update\n",
    "\n",
    "Write a function `update` that takes a model `self` and a float argument `eta`, which represents the learning rate. The method should implement the gradient descent update rule $\\theta \\gets \\theta - \\eta \\nabla_{\\theta}L$ for all model parameters $\\theta$."
   ]
  },
  {
   "cell_type": "code",
   "execution_count": 4,
   "id": "e93c02c3",
   "metadata": {
    "ExecuteTime": {
     "end_time": "2022-12-07T16:44:39.608138Z",
     "start_time": "2022-12-07T16:44:39.604840Z"
    }
   },
   "outputs": [],
   "source": [
    "def update(self, eta):\n",
    "    ########## YOUR SOLUTION HERE ##########\n",
    "\n",
    "    self.W = self.W - eta * self.dW\n",
    "    self.V = self.V - eta * self.dV\n",
    "    self.R = self.R - eta * self.dR\n",
    "\n",
    "FullyRecurrentNetwork.update = update\n",
    "model.update(0.001)"
   ]
  },
  {
   "cell_type": "markdown",
   "id": "19801bb8",
   "metadata": {},
   "source": [
    "## Exercise 6: Network training\n",
    "\n",
    "Train the fully recurrent network with 32 hidden units. Start with input sequences of length one and tune the learning rate and the number of update steps. Then increase the sequence length by one and tune the hyperparameters again. What is the maximal sequence length for which the fully recurrent network can achieve a performance that is better than random? Visualize your results. "
   ]
  },
  {
   "cell_type": "code",
   "execution_count": 5,
   "id": "6d9781ae",
   "metadata": {
    "ExecuteTime": {
     "end_time": "2022-12-07T16:44:43.425208Z",
     "start_time": "2022-12-07T16:44:39.609264Z"
    },
    "code_folding": []
   },
   "outputs": [
    {
     "data": {
      "image/png": "[encoded data removed]",
      "text/plain": [
       "<Figure size 1440x720 with 1 Axes>"
      ]
     },
     "metadata": {
      "needs_background": "light"
     },
     "output_type": "display_data"
    }
   ],
   "source": [
    "########## YOUR SOLUTION HERE ##########    \n",
    "D, I, K = 1, 32, 1\n",
    "\n",
    "results = dict()\n",
    "\n",
    "T_max = 30\n",
    "\n",
    "for T in range(1,T_max+1):\n",
    "    \n",
    "    model = FullyRecurrentNetwork(D, I, K) \n",
    "    \n",
    "    updates = 200\n",
    "    lr = 1\n",
    "    \n",
    "    loss = []\n",
    "    \n",
    "    i = 1\n",
    "    for x,y in generate_data(T):\n",
    "\n",
    "        cur_loss = model.forward(x, y)\n",
    "        loss.append(cur_loss)\n",
    "        \n",
    "        model.backward()\n",
    "\n",
    "        model.update(lr)\n",
    "\n",
    "        if i == updates:\n",
    "            break\n",
    "        i += 1\n",
    "        \n",
    "    results[T] = loss\n",
    "    \n",
    "\n",
    "# get the sequence lengths \n",
    "sequence_lengths = list(results.keys())\n",
    "# calculate mean loss\n",
    "mean_losses = 1 - np.mean(np.array(list(results.values())), axis=1) \n",
    "\n",
    "# make nice plot\n",
    "plt.figure(figsize=(20,10))\n",
    "plt.plot(sequence_lengths, mean_losses)\n",
    "plt.xticks(sequence_lengths)\n",
    "plt.hlines(0.5, 0,31, color=\"red\") # indicates where loss is worse than random\n",
    "plt.grid(True)\n",
    "plt.show()"
   ]
  },
  {
   "cell_type": "markdown",
   "id": "e1b52057",
   "metadata": {},
   "source": [
    "## Exercise 7: The Vanishing Gradient Problem\n",
    "\n",
    "Analyze why the network is incapable of learning long-term dependencies. Show that $\\|\\frac{\\partial a(T)}{\\partial a(1)}\\|_2 \\leq \\|R\\|_2^{T-1}$ , where $\\|\\cdot\\|_2$ is the spectral norm, and discuss how that affects the propagation of error signals through the time dimension of the network. \n",
    "\n",
    "*Hint: Use the fact that the spectral norm is submultiplicative for square matrices, i.e. $\\|AB\\|_2 \\leq \\|A\\|_2\\|B\\|_2$ if $A$ and $B$ are both square.*"
   ]
  },
  {
   "cell_type": "markdown",
   "id": "158130a5",
   "metadata": {},
   "source": [
    "########## YOUR SOLUTION HERE ##########"
   ]
  },
  {
   "cell_type": "markdown",
   "id": "fe5ff95b",
   "metadata": {},
   "source": [
    "We need to show that the network looses information when backpropagating it through time. This is done by taking a closer look at $\\delta$ in the gradients. We see that inside the $\\delta$ we always have $\\frac{\\partial a(t+1)}{\\partial a(t)}$ and in fact we alwas have in every $\\delta (t)$ the $\\delta (t+1) inside$. This means in a very nested way the $\\delta (1)$ is connected to the $\\delta (T)$. Therefore, the derivative $\\frac{\\partial a(T)}{\\partial a(1)}$ is hidden in there and of great importance.\n",
    "\n",
    "The Proof:\n",
    "\n",
    "$\n",
    "\\begin{align*}\n",
    " \\frac{\\partial a(T)}{\\partial a(1)} &= \\frac{\\partial a(T)}{\\partial a(T-(T-1))} \\\\\n",
    " &= R^{T-1} \\cdot (\\Pi^{T-2}_{i=0} diag(f'(s(T-i)))) &\\text{, with f'(.) being derivative of activation function} \\\\\n",
    " & \\Rightarrow \\text{both terms are square matrices}\n",
    "\\end{align*}\n",
    "$\n",
    "\n",
    "Now since we have calulated the result we are interested what the spectral norm of this gradient is. Since it would be nice to know if we can find some bounds for the underlying matrix multiplication.\n",
    "\n",
    "$\n",
    "\\begin{align*}\n",
    "\\| \\frac{\\partial a(T)}{\\partial a(1)} \\|_2 &= \\| R^{T-1} \\cdot (\\Pi^{T-2}_{i=0} diag(f'(s(T-i)))) \\|_2\\\\\n",
    "& \\leq \\| R^{T-1}\\|_2 \\cdot \\|(\\Pi^{T-2}_{i=0} diag(f'(s(T-i)))) \\|_2 \\\\\n",
    "& \\leq \\| R^{T-1}\\|_2 \\cdot (\\Pi^{T-2}_{i=0} \\|diag(f'(s(T-i))) \\|_2 )\\\\\n",
    "(\\text{since the derivative of tanh is always}\\leq 1) &\\leq \\| R^{T-1}\\|_2 \\cdot k & \\text{, with k being some scalar smaller equal than one} \\\\\n",
    "&\\leq \\| R^{T-1}\\|_2 \\\\\n",
    "&\\leq \\| R\\|_2^{T-1}\n",
    "\\end{align*}\n",
    "$\n",
    "\n",
    "So we can see that the upper bound for the derivative means is $\\| R\\|_2^{T-1}$. The problem is that the spectral norm is taken to the power of $T-1$ , which can lead to three scenarios: <br>\n",
    "* $\\| R\\|_2 \\leq 1 \\Rightarrow$ derivative will decrease even more $\\Rightarrow$ Vanishing Gradient\n",
    "* $\\| R\\|_2 = 1 \\Rightarrow$ derivative will stay stable \n",
    "* $\\| R\\|_2 \\geq 1 \\Rightarrow$ derivative will increase even more $\\Rightarrow$ Exploding Gradient\n",
    "\n",
    "Since in practice $\\| R\\|_2 = 1$ will never really happen if not enforced, this will lead to unstable gradients.\n",
    "These unstable gradients are the reason why the network is incapable of learning long-term dependencies"
   ]
  },
  {
   "cell_type": "code",
   "execution_count": null,
   "id": "f70d3054",
   "metadata": {},
   "outputs": [],
   "source": []
  }
 ],
 "metadata": {
  "kernelspec": {
   "display_name": "Python 3 (ipykernel)",
   "language": "python",
   "name": "python3"
  },
  "language_info": {
   "codemirror_mode": {
    "name": "ipython",
    "version": 3
   },
   "file_extension": ".py",
   "mimetype": "text/x-python",
   "name": "python",
   "nbconvert_exporter": "python",
   "pygments_lexer": "ipython3",
   "version": "3.9.7"
  },
  "toc": {
   "base_numbering": 1,
   "nav_menu": {},
   "number_sections": true,
   "sideBar": true,
   "skip_h1_title": false,
   "title_cell": "Table of Contents",
   "title_sidebar": "Contents",
   "toc_cell": false,
   "toc_position": {},
   "toc_section_display": true,
   "toc_window_display": false
  }
 },
 "nbformat": 4,
 "nbformat_minor": 5
}
